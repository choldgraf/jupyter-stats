{
 "cells": [
  {
   "cell_type": "markdown",
   "metadata": {
    "papermill": {
     "duration": 0.052328,
     "end_time": "2019-02-14T22:41:33.911047",
     "exception": false,
     "start_time": "2019-02-14T22:41:33.858719",
     "status": "completed"
    },
    "tags": []
   },
   "source": [
    "## Parameters"
   ]
  },
  {
   "cell_type": "code",
   "execution_count": 1,
   "metadata": {
    "papermill": {
     "duration": 0.04204,
     "end_time": "2019-02-14T22:41:33.981746",
     "exception": false,
     "start_time": "2019-02-14T22:41:33.939706",
     "status": "completed"
    },
    "tags": [
     "parameters"
    ]
   },
   "outputs": [],
   "source": [
    "org = 'jupyterhub'\n",
    "repo = 'jupyterhub'\n",
    "plot_N = 25  # Number of lines to add"
   ]
  },
  {
   "cell_type": "code",
   "execution_count": 2,
   "metadata": {
    "papermill": {
     "duration": 0.033143,
     "end_time": "2019-02-14T22:41:34.042889",
     "exception": false,
     "start_time": "2019-02-14T22:41:34.009746",
     "status": "completed"
    },
    "tags": [
     "injected-parameters"
    ]
   },
   "outputs": [],
   "source": [
    "# Parameters\n",
    "org = \"jupyterhub\"\n",
    "repo = \"team-compass\"\n",
    "plot_N = 20\n"
   ]
  },
  {
   "cell_type": "markdown",
   "metadata": {
    "papermill": {
     "duration": 0.03131,
     "end_time": "2019-02-14T22:41:34.102380",
     "exception": false,
     "start_time": "2019-02-14T22:41:34.071070",
     "status": "completed"
    },
    "tags": []
   },
   "source": [
    "## Functions"
   ]
  },
  {
   "cell_type": "code",
   "execution_count": 3,
   "metadata": {
    "papermill": {
     "duration": 0.037273,
     "end_time": "2019-02-14T22:41:34.167224",
     "exception": false,
     "start_time": "2019-02-14T22:41:34.129951",
     "status": "completed"
    },
    "tags": []
   },
   "outputs": [],
   "source": [
    "def selectable_line_plot(data, x, y, color, width=1000):\n",
    "\n",
    "    select = alt.selection(type='single', on='mouseover',\n",
    "                           fields=[color], nearest=True)\n",
    "\n",
    "    base = alt.Chart(data=data, width=width).encode(\n",
    "        x=alt.X(x, scale=alt.Scale(domain=[\"2016-01-01\", \"2019-02-01\"])),\n",
    "        y=y,\n",
    "        color=color,\n",
    "        tooltip=color,\n",
    "    )\n",
    "\n",
    "    points = base.mark_circle(clip=True).encode(\n",
    "        opacity=alt.value(0)\n",
    "    ).add_selection(select)\n",
    "\n",
    "\n",
    "    lines = base.mark_line(clip=True).encode(\n",
    "        size=alt.condition(~select, alt.value(1), alt.value(4)),\n",
    "        color=alt.condition(select, color, alt.value('lightgray'))\n",
    "    )\n",
    "\n",
    "    return points + lines"
   ]
  },
  {
   "cell_type": "markdown",
   "metadata": {
    "papermill": {
     "duration": 0.026174,
     "end_time": "2019-02-14T22:41:34.217838",
     "exception": false,
     "start_time": "2019-02-14T22:41:34.191664",
     "status": "completed"
    },
    "tags": []
   },
   "source": [
    "# Load data"
   ]
  },
  {
   "cell_type": "code",
   "execution_count": 4,
   "metadata": {
    "papermill": {
     "duration": 1.314473,
     "end_time": "2019-02-14T22:41:35.565971",
     "exception": false,
     "start_time": "2019-02-14T22:41:34.251498",
     "status": "completed"
    },
    "tags": []
   },
   "outputs": [],
   "source": [
    "import pandas as pd\n",
    "import seaborn as sns\n",
    "import altair as alt\n",
    "import numpy as np"
   ]
  },
  {
   "cell_type": "code",
   "execution_count": 5,
   "metadata": {
    "papermill": {
     "duration": 0.131319,
     "end_time": "2019-02-14T22:41:35.724557",
     "exception": false,
     "start_time": "2019-02-14T22:41:35.593238",
     "status": "completed"
    },
    "tags": []
   },
   "outputs": [],
   "source": [
    "# Read in data\n",
    "daily = pd.read_csv('../data/daily.csv', index_col=0)\n",
    "\n",
    "# Convert indices to date\n",
    "daily['date'] = pd.to_datetime(daily['date'])\n",
    "daily = daily.query('org == @org and repo == @repo').drop(['org', 'repo'], axis=1)\n",
    "daily = daily.replace(np.nan, 0)"
   ]
  },
  {
   "cell_type": "markdown",
   "metadata": {
    "papermill": {
     "duration": 0.050412,
     "end_time": "2019-02-14T22:41:35.803608",
     "exception": false,
     "start_time": "2019-02-14T22:41:35.753196",
     "status": "completed"
    },
    "tags": []
   },
   "source": [
    "# Features"
   ]
  },
  {
   "cell_type": "code",
   "execution_count": 6,
   "metadata": {
    "papermill": {
     "duration": 0.271276,
     "end_time": "2019-02-14T22:41:36.110265",
     "exception": false,
     "start_time": "2019-02-14T22:41:35.838989",
     "status": "completed"
    },
    "tags": []
   },
   "outputs": [],
   "source": [
    "weekly = daily.groupby('user').resample('W', on='date').sum().reset_index()\n",
    "weekly = weekly.query('commits != 0 or comments != 0')"
   ]
  },
  {
   "cell_type": "code",
   "execution_count": 7,
   "metadata": {
    "papermill": {
     "duration": 0.108748,
     "end_time": "2019-02-14T22:41:36.277916",
     "exception": false,
     "start_time": "2019-02-14T22:41:36.169168",
     "status": "completed"
    },
    "tags": []
   },
   "outputs": [],
   "source": [
    "# Rolling mean\n",
    "weekly = weekly.groupby(['user', 'date']).sum().reset_index().groupby('user').\\\n",
    "    rolling(2, on='date')['comments'].\\\n",
    "    mean().dropna().reset_index()"
   ]
  },
  {
   "cell_type": "code",
   "execution_count": 8,
   "metadata": {
    "papermill": {
     "duration": 0.098042,
     "end_time": "2019-02-14T22:41:36.419408",
     "exception": false,
     "start_time": "2019-02-14T22:41:36.321366",
     "status": "completed"
    },
    "tags": []
   },
   "outputs": [],
   "source": [
    "# Top N commentors over time\n",
    "top_N = weekly.groupby('user').sum()['comments'].sort_values(ascending=False)\n",
    "top_N = top_N.index[:plot_N]"
   ]
  },
  {
   "cell_type": "markdown",
   "metadata": {
    "papermill": {
     "duration": 0.090161,
     "end_time": "2019-02-14T22:41:36.580120",
     "exception": false,
     "start_time": "2019-02-14T22:41:36.489959",
     "status": "completed"
    },
    "tags": []
   },
   "source": [
    "# Plotting"
   ]
  },
  {
   "cell_type": "markdown",
   "metadata": {
    "papermill": {
     "duration": 0.102467,
     "end_time": "2019-02-14T22:41:36.753755",
     "exception": false,
     "start_time": "2019-02-14T22:41:36.651288",
     "status": "completed"
    },
    "tags": []
   },
   "source": [
    "## Weekly unique contributors"
   ]
  },
  {
   "cell_type": "code",
   "execution_count": 9,
   "metadata": {
    "papermill": {
     "duration": 0.106709,
     "end_time": "2019-02-14T22:41:36.906756",
     "exception": false,
     "start_time": "2019-02-14T22:41:36.800047",
     "status": "completed"
    },
    "tags": []
   },
   "outputs": [],
   "source": [
    "unique = weekly[['date', 'user']].copy()\n",
    "unique['user'] = unique['user'].map(lambda a: [a])\n",
    "unique = unique.groupby('date').sum()"
   ]
  },
  {
   "cell_type": "code",
   "execution_count": 10,
   "metadata": {
    "papermill": {
     "duration": 0.102935,
     "end_time": "2019-02-14T22:41:37.083830",
     "exception": false,
     "start_time": "2019-02-14T22:41:36.980895",
     "status": "completed"
    },
    "tags": []
   },
   "outputs": [],
   "source": [
    "all_users = set()\n",
    "nunique = {}\n",
    "for idate, ivals in unique.iterrows():\n",
    "    n_unique_current = len(all_users)\n",
    "    \n",
    "    all_users = all_users.union(ivals[0])\n",
    "    n_unique_new = len(all_users) - n_unique_current\n",
    "    nunique[idate] = n_unique_new\n",
    "unique['new_contributors'] = pd.Series(nunique).values"
   ]
  },
  {
   "cell_type": "code",
   "execution_count": 11,
   "metadata": {
    "papermill": {
     "duration": 0.10339,
     "end_time": "2019-02-14T22:41:37.258775",
     "exception": false,
     "start_time": "2019-02-14T22:41:37.155385",
     "status": "completed"
    },
    "tags": []
   },
   "outputs": [],
   "source": [
    "unique['cumulative'] = unique['new_contributors'].cumsum()"
   ]
  },
  {
   "cell_type": "code",
   "execution_count": 12,
   "metadata": {
    "papermill": {
     "duration": 0.105353,
     "end_time": "2019-02-14T22:41:37.431094",
     "exception": false,
     "start_time": "2019-02-14T22:41:37.325741",
     "status": "completed"
    },
    "tags": []
   },
   "outputs": [
    {
     "data": {
      "application/vnd.vegalite.v2+json": {
       "$schema": "https://vega.github.io/schema/vega-lite/v2.6.0.json",
       "config": {
        "view": {
         "height": 300,
         "width": 400
        }
       },
       "data": {
        "name": "data-fdcb6aac96a42de253ea8ff9e74120c3"
       },
       "datasets": {
        "data-fdcb6aac96a42de253ea8ff9e74120c3": [
         {
          "cumulative": 2,
          "date": "2017-12-17T00:00:00",
          "new_contributors": 2,
          "user": [
           "choldgraf",
           "willingc"
          ]
         },
         {
          "cumulative": 4,
          "date": "2017-12-24T00:00:00",
          "new_contributors": 2,
          "user": [
           "betatim",
           "minrk"
          ]
         },
         {
          "cumulative": 5,
          "date": "2018-01-07T00:00:00",
          "new_contributors": 1,
          "user": [
           "betatim",
           "choldgraf",
           "willingc",
           "yuvipanda"
          ]
         },
         {
          "cumulative": 5,
          "date": "2018-01-14T00:00:00",
          "new_contributors": 0,
          "user": [
           "betatim",
           "choldgraf",
           "willingc"
          ]
         },
         {
          "cumulative": 5,
          "date": "2018-01-21T00:00:00",
          "new_contributors": 0,
          "user": [
           "betatim"
          ]
         },
         {
          "cumulative": 5,
          "date": "2018-02-04T00:00:00",
          "new_contributors": 0,
          "user": [
           "choldgraf",
           "yuvipanda"
          ]
         },
         {
          "cumulative": 5,
          "date": "2018-02-11T00:00:00",
          "new_contributors": 0,
          "user": [
           "betatim",
           "choldgraf",
           "willingc"
          ]
         },
         {
          "cumulative": 5,
          "date": "2018-02-18T00:00:00",
          "new_contributors": 0,
          "user": [
           "willingc"
          ]
         },
         {
          "cumulative": 6,
          "date": "2018-02-25T00:00:00",
          "new_contributors": 1,
          "user": [
           "betatim",
           "choldgraf",
           "jzf2101"
          ]
         },
         {
          "cumulative": 6,
          "date": "2018-03-04T00:00:00",
          "new_contributors": 0,
          "user": [
           "betatim",
           "choldgraf",
           "jzf2101",
           "minrk",
           "willingc",
           "yuvipanda"
          ]
         },
         {
          "cumulative": 7,
          "date": "2018-03-11T00:00:00",
          "new_contributors": 1,
          "user": [
           "betatim",
           "choldgraf",
           "consideRatio",
           "jzf2101",
           "willingc",
           "yuvipanda"
          ]
         },
         {
          "cumulative": 8,
          "date": "2018-03-18T00:00:00",
          "new_contributors": 1,
          "user": [
           "betatim",
           "choldgraf",
           "jzf2101",
           "minrk",
           "mpacer",
           "willingc",
           "yuvipanda"
          ]
         },
         {
          "cumulative": 8,
          "date": "2018-03-25T00:00:00",
          "new_contributors": 0,
          "user": [
           "betatim",
           "consideRatio",
           "jzf2101",
           "mpacer"
          ]
         },
         {
          "cumulative": 8,
          "date": "2018-04-01T00:00:00",
          "new_contributors": 0,
          "user": [
           "betatim"
          ]
         },
         {
          "cumulative": 8,
          "date": "2018-04-08T00:00:00",
          "new_contributors": 0,
          "user": [
           "betatim",
           "minrk",
           "willingc"
          ]
         },
         {
          "cumulative": 8,
          "date": "2018-04-15T00:00:00",
          "new_contributors": 0,
          "user": [
           "betatim",
           "consideRatio"
          ]
         },
         {
          "cumulative": 8,
          "date": "2018-04-22T00:00:00",
          "new_contributors": 0,
          "user": [
           "choldgraf",
           "consideRatio",
           "jzf2101",
           "minrk",
           "willingc"
          ]
         },
         {
          "cumulative": 8,
          "date": "2018-04-29T00:00:00",
          "new_contributors": 0,
          "user": [
           "minrk"
          ]
         },
         {
          "cumulative": 8,
          "date": "2018-05-06T00:00:00",
          "new_contributors": 0,
          "user": [
           "choldgraf",
           "jzf2101",
           "minrk"
          ]
         },
         {
          "cumulative": 8,
          "date": "2018-05-27T00:00:00",
          "new_contributors": 0,
          "user": [
           "betatim",
           "choldgraf"
          ]
         },
         {
          "cumulative": 8,
          "date": "2018-06-03T00:00:00",
          "new_contributors": 0,
          "user": [
           "betatim"
          ]
         },
         {
          "cumulative": 9,
          "date": "2018-06-10T00:00:00",
          "new_contributors": 1,
          "user": [
           "betatim",
           "choldgraf",
           "ellisonbg",
           "minrk",
           "willingc"
          ]
         },
         {
          "cumulative": 9,
          "date": "2018-06-17T00:00:00",
          "new_contributors": 0,
          "user": [
           "betatim",
           "yuvipanda"
          ]
         },
         {
          "cumulative": 9,
          "date": "2018-07-01T00:00:00",
          "new_contributors": 0,
          "user": [
           "betatim",
           "choldgraf",
           "consideRatio",
           "jzf2101",
           "minrk"
          ]
         },
         {
          "cumulative": 9,
          "date": "2018-07-08T00:00:00",
          "new_contributors": 0,
          "user": [
           "betatim",
           "consideRatio",
           "jzf2101",
           "minrk"
          ]
         },
         {
          "cumulative": 9,
          "date": "2018-07-22T00:00:00",
          "new_contributors": 0,
          "user": [
           "choldgraf",
           "jzf2101"
          ]
         },
         {
          "cumulative": 9,
          "date": "2018-07-29T00:00:00",
          "new_contributors": 0,
          "user": [
           "betatim",
           "choldgraf"
          ]
         },
         {
          "cumulative": 9,
          "date": "2018-08-05T00:00:00",
          "new_contributors": 0,
          "user": [
           "betatim",
           "choldgraf",
           "ellisonbg",
           "willingc"
          ]
         },
         {
          "cumulative": 9,
          "date": "2018-08-12T00:00:00",
          "new_contributors": 0,
          "user": [
           "betatim",
           "choldgraf",
           "consideRatio",
           "jzf2101",
           "willingc"
          ]
         },
         {
          "cumulative": 9,
          "date": "2018-08-19T00:00:00",
          "new_contributors": 0,
          "user": [
           "choldgraf",
           "consideRatio",
           "ellisonbg",
           "minrk"
          ]
         },
         {
          "cumulative": 9,
          "date": "2018-08-26T00:00:00",
          "new_contributors": 0,
          "user": [
           "betatim",
           "choldgraf",
           "consideRatio",
           "jzf2101",
           "willingc"
          ]
         },
         {
          "cumulative": 9,
          "date": "2018-09-02T00:00:00",
          "new_contributors": 0,
          "user": [
           "choldgraf",
           "jzf2101"
          ]
         },
         {
          "cumulative": 9,
          "date": "2018-09-09T00:00:00",
          "new_contributors": 0,
          "user": [
           "betatim",
           "ellisonbg",
           "jzf2101"
          ]
         },
         {
          "cumulative": 9,
          "date": "2018-09-16T00:00:00",
          "new_contributors": 0,
          "user": [
           "betatim",
           "choldgraf",
           "consideRatio",
           "minrk",
           "willingc",
           "yuvipanda"
          ]
         },
         {
          "cumulative": 9,
          "date": "2018-09-23T00:00:00",
          "new_contributors": 0,
          "user": [
           "betatim",
           "choldgraf",
           "consideRatio",
           "ellisonbg",
           "jzf2101",
           "minrk",
           "willingc",
           "yuvipanda"
          ]
         },
         {
          "cumulative": 9,
          "date": "2018-09-30T00:00:00",
          "new_contributors": 0,
          "user": [
           "betatim",
           "choldgraf",
           "minrk"
          ]
         },
         {
          "cumulative": 9,
          "date": "2018-10-07T00:00:00",
          "new_contributors": 0,
          "user": [
           "betatim",
           "choldgraf",
           "consideRatio",
           "jzf2101",
           "minrk"
          ]
         },
         {
          "cumulative": 9,
          "date": "2018-10-14T00:00:00",
          "new_contributors": 0,
          "user": [
           "betatim",
           "choldgraf",
           "jzf2101",
           "minrk"
          ]
         },
         {
          "cumulative": 10,
          "date": "2018-10-21T00:00:00",
          "new_contributors": 1,
          "user": [
           "Carreau",
           "betatim",
           "choldgraf",
           "jzf2101",
           "willingc"
          ]
         },
         {
          "cumulative": 12,
          "date": "2018-10-28T00:00:00",
          "new_contributors": 2,
          "user": [
           "Zsailer",
           "betatim",
           "choldgraf",
           "cmd-ntrf",
           "consideRatio",
           "ellisonbg",
           "jzf2101",
           "minrk",
           "willingc"
          ]
         },
         {
          "cumulative": 12,
          "date": "2018-11-04T00:00:00",
          "new_contributors": 0,
          "user": [
           "Zsailer",
           "betatim",
           "choldgraf",
           "ellisonbg",
           "willingc"
          ]
         },
         {
          "cumulative": 14,
          "date": "2018-11-11T00:00:00",
          "new_contributors": 2,
          "user": [
           "agahkarakuzu",
           "betatim",
           "choldgraf",
           "ellisonbg",
           "fperez",
           "jzf2101",
           "minrk",
           "willingc"
          ]
         },
         {
          "cumulative": 15,
          "date": "2018-11-18T00:00:00",
          "new_contributors": 1,
          "user": [
           "Zsailer",
           "betatim",
           "choldgraf",
           "jhamman",
           "jzf2101",
           "minrk",
           "willingc",
           "yuvipanda"
          ]
         },
         {
          "cumulative": 15,
          "date": "2018-11-25T00:00:00",
          "new_contributors": 0,
          "user": [
           "betatim",
           "choldgraf",
           "cmd-ntrf",
           "consideRatio",
           "jzf2101"
          ]
         },
         {
          "cumulative": 15,
          "date": "2018-12-02T00:00:00",
          "new_contributors": 0,
          "user": [
           "betatim",
           "choldgraf",
           "cmd-ntrf",
           "consideRatio",
           "jzf2101"
          ]
         },
         {
          "cumulative": 15,
          "date": "2018-12-09T00:00:00",
          "new_contributors": 0,
          "user": [
           "betatim",
           "choldgraf",
           "cmd-ntrf",
           "consideRatio",
           "jzf2101",
           "minrk"
          ]
         },
         {
          "cumulative": 15,
          "date": "2018-12-16T00:00:00",
          "new_contributors": 0,
          "user": [
           "Zsailer",
           "choldgraf",
           "consideRatio",
           "minrk",
           "yuvipanda"
          ]
         },
         {
          "cumulative": 15,
          "date": "2018-12-23T00:00:00",
          "new_contributors": 0,
          "user": [
           "Zsailer",
           "betatim",
           "choldgraf"
          ]
         },
         {
          "cumulative": 15,
          "date": "2018-12-30T00:00:00",
          "new_contributors": 0,
          "user": [
           "betatim",
           "choldgraf",
           "ellisonbg"
          ]
         },
         {
          "cumulative": 15,
          "date": "2019-01-06T00:00:00",
          "new_contributors": 0,
          "user": [
           "betatim",
           "choldgraf",
           "consideRatio",
           "ellisonbg",
           "willingc",
           "yuvipanda"
          ]
         },
         {
          "cumulative": 15,
          "date": "2019-01-13T00:00:00",
          "new_contributors": 0,
          "user": [
           "Zsailer",
           "betatim",
           "choldgraf",
           "ellisonbg",
           "jzf2101",
           "minrk",
           "willingc"
          ]
         },
         {
          "cumulative": 15,
          "date": "2019-01-20T00:00:00",
          "new_contributors": 0,
          "user": [
           "Zsailer",
           "betatim",
           "choldgraf",
           "consideRatio",
           "minrk"
          ]
         },
         {
          "cumulative": 15,
          "date": "2019-01-27T00:00:00",
          "new_contributors": 0,
          "user": [
           "betatim",
           "choldgraf",
           "consideRatio",
           "jzf2101",
           "minrk",
           "willingc",
           "yuvipanda"
          ]
         },
         {
          "cumulative": 15,
          "date": "2019-02-03T00:00:00",
          "new_contributors": 0,
          "user": [
           "betatim",
           "choldgraf",
           "willingc",
           "yuvipanda"
          ]
         },
         {
          "cumulative": 16,
          "date": "2019-02-10T00:00:00",
          "new_contributors": 1,
          "user": [
           "Carreau",
           "betatim",
           "choldgraf",
           "lheagy"
          ]
         },
         {
          "cumulative": 16,
          "date": "2019-02-17T00:00:00",
          "new_contributors": 0,
          "user": [
           "Zsailer",
           "betatim",
           "choldgraf",
           "lheagy",
           "minrk"
          ]
         }
        ]
       },
       "encoding": {
        "x": {
         "field": "date",
         "type": "temporal"
        },
        "y": {
         "field": "cumulative",
         "type": "quantitative"
        }
       },
       "mark": "line",
       "width": 500
      },
      "text/plain": [
       "<VegaLite 2 object>\n",
       "\n",
       "If you see this message, it means the renderer has not been properly enabled\n",
       "for the frontend that you are using. For more information, see\n",
       "https://altair-viz.github.io/user_guide/troubleshooting.html\n"
      ]
     },
     "execution_count": 12,
     "metadata": {},
     "output_type": "execute_result"
    }
   ],
   "source": [
    "line = alt.Chart(data=unique.reset_index(), width=500).mark_line().encode(x='date', y='cumulative')\n",
    "line"
   ]
  },
  {
   "cell_type": "markdown",
   "metadata": {
    "papermill": {
     "duration": 0.054204,
     "end_time": "2019-02-14T22:41:37.541350",
     "exception": false,
     "start_time": "2019-02-14T22:41:37.487146",
     "status": "completed"
    },
    "tags": []
   },
   "source": [
    "## Comment activity over time"
   ]
  },
  {
   "cell_type": "code",
   "execution_count": 13,
   "metadata": {
    "papermill": {
     "duration": 0.083232,
     "end_time": "2019-02-14T22:41:37.670390",
     "exception": false,
     "start_time": "2019-02-14T22:41:37.587158",
     "status": "completed"
    },
    "tags": []
   },
   "outputs": [],
   "source": [
    "# Select the users we'll plot\n",
    "user_data = weekly.groupby(['user', 'date']).sum().reset_index('user')\n",
    "total_users = user_data.groupby('user')['comments'].sum()\n",
    "plt_users = total_users.sort_values(ascending=False)[:plot_N].index\n",
    "user_data = user_data.query(\"user in @plt_users\")\n",
    "\n",
    "# Drop empty dates\n",
    "user_data = user_data[user_data.sum(1) != 0]"
   ]
  },
  {
   "cell_type": "code",
   "execution_count": 14,
   "metadata": {
    "papermill": {
     "duration": 0.259347,
     "end_time": "2019-02-14T22:41:37.974763",
     "exception": false,
     "start_time": "2019-02-14T22:41:37.715416",
     "status": "completed"
    },
    "tags": []
   },
   "outputs": [
    {
     "data": {
      "application/vnd.vegalite.v2+json": {
       "$schema": "https://vega.github.io/schema/vega-lite/v2.6.0.json",
       "config": {
        "view": {
         "height": 300,
         "width": 400
        }
       },
       "datasets": {
        "data-50cfc889ae6cca9d98523a5cae371a8b": [
         {
          "comments": 1.0,
          "date": "2018-10-21T00:00:00",
          "user": "Carreau"
         },
         {
          "comments": 1.5,
          "date": "2019-02-10T00:00:00",
          "user": "Carreau"
         },
         {
          "comments": 1.0,
          "date": "2018-10-28T00:00:00",
          "user": "Zsailer"
         },
         {
          "comments": 1.0,
          "date": "2018-11-04T00:00:00",
          "user": "Zsailer"
         },
         {
          "comments": 2.5,
          "date": "2018-11-18T00:00:00",
          "user": "Zsailer"
         },
         {
          "comments": 2.5,
          "date": "2018-12-16T00:00:00",
          "user": "Zsailer"
         },
         {
          "comments": 1.0,
          "date": "2018-12-23T00:00:00",
          "user": "Zsailer"
         },
         {
          "comments": 1.5,
          "date": "2019-01-13T00:00:00",
          "user": "Zsailer"
         },
         {
          "comments": 1.5,
          "date": "2019-01-20T00:00:00",
          "user": "Zsailer"
         },
         {
          "comments": 2.0,
          "date": "2019-02-17T00:00:00",
          "user": "Zsailer"
         },
         {
          "comments": 2.0,
          "date": "2018-11-11T00:00:00",
          "user": "agahkarakuzu"
         },
         {
          "comments": 1.5,
          "date": "2017-12-24T00:00:00",
          "user": "betatim"
         },
         {
          "comments": 2.5,
          "date": "2018-01-07T00:00:00",
          "user": "betatim"
         },
         {
          "comments": 2.5,
          "date": "2018-01-14T00:00:00",
          "user": "betatim"
         },
         {
          "comments": 1.0,
          "date": "2018-01-21T00:00:00",
          "user": "betatim"
         },
         {
          "comments": 2.0,
          "date": "2018-02-11T00:00:00",
          "user": "betatim"
         },
         {
          "comments": 2.5,
          "date": "2018-02-25T00:00:00",
          "user": "betatim"
         },
         {
          "comments": 2.5,
          "date": "2018-03-04T00:00:00",
          "user": "betatim"
         },
         {
          "comments": 2.5,
          "date": "2018-03-11T00:00:00",
          "user": "betatim"
         },
         {
          "comments": 2.0,
          "date": "2018-03-18T00:00:00",
          "user": "betatim"
         },
         {
          "comments": 2.0,
          "date": "2018-03-25T00:00:00",
          "user": "betatim"
         },
         {
          "comments": 1.5,
          "date": "2018-04-01T00:00:00",
          "user": "betatim"
         },
         {
          "comments": 1.0,
          "date": "2018-04-08T00:00:00",
          "user": "betatim"
         },
         {
          "comments": 1.0,
          "date": "2018-04-15T00:00:00",
          "user": "betatim"
         },
         {
          "comments": 1.5,
          "date": "2018-05-27T00:00:00",
          "user": "betatim"
         },
         {
          "comments": 1.5,
          "date": "2018-06-03T00:00:00",
          "user": "betatim"
         },
         {
          "comments": 2.5,
          "date": "2018-06-10T00:00:00",
          "user": "betatim"
         },
         {
          "comments": 2.5,
          "date": "2018-06-17T00:00:00",
          "user": "betatim"
         },
         {
          "comments": 3.0,
          "date": "2018-07-01T00:00:00",
          "user": "betatim"
         },
         {
          "comments": 4.0,
          "date": "2018-07-08T00:00:00",
          "user": "betatim"
         },
         {
          "comments": 3.5,
          "date": "2018-07-29T00:00:00",
          "user": "betatim"
         },
         {
          "comments": 2.5,
          "date": "2018-08-05T00:00:00",
          "user": "betatim"
         },
         {
          "comments": 1.0,
          "date": "2018-08-12T00:00:00",
          "user": "betatim"
         },
         {
          "comments": 1.0,
          "date": "2018-08-26T00:00:00",
          "user": "betatim"
         },
         {
          "comments": 2.0,
          "date": "2018-09-09T00:00:00",
          "user": "betatim"
         },
         {
          "comments": 2.0,
          "date": "2018-09-16T00:00:00",
          "user": "betatim"
         },
         {
          "comments": 4.5,
          "date": "2018-09-23T00:00:00",
          "user": "betatim"
         },
         {
          "comments": 4.5,
          "date": "2018-09-30T00:00:00",
          "user": "betatim"
         },
         {
          "comments": 1.5,
          "date": "2018-10-07T00:00:00",
          "user": "betatim"
         },
         {
          "comments": 2.0,
          "date": "2018-10-14T00:00:00",
          "user": "betatim"
         },
         {
          "comments": 5.0,
          "date": "2018-10-21T00:00:00",
          "user": "betatim"
         },
         {
          "comments": 6.0,
          "date": "2018-10-28T00:00:00",
          "user": "betatim"
         },
         {
          "comments": 4.0,
          "date": "2018-11-04T00:00:00",
          "user": "betatim"
         },
         {
          "comments": 7.0,
          "date": "2018-11-11T00:00:00",
          "user": "betatim"
         },
         {
          "comments": 12.0,
          "date": "2018-11-18T00:00:00",
          "user": "betatim"
         },
         {
          "comments": 8.0,
          "date": "2018-11-25T00:00:00",
          "user": "betatim"
         },
         {
          "comments": 1.5,
          "date": "2018-12-02T00:00:00",
          "user": "betatim"
         },
         {
          "comments": 4.0,
          "date": "2018-12-09T00:00:00",
          "user": "betatim"
         },
         {
          "comments": 5.0,
          "date": "2018-12-23T00:00:00",
          "user": "betatim"
         },
         {
          "comments": 3.0,
          "date": "2018-12-30T00:00:00",
          "user": "betatim"
         },
         {
          "comments": 4.5,
          "date": "2019-01-06T00:00:00",
          "user": "betatim"
         },
         {
          "comments": 5.5,
          "date": "2019-01-13T00:00:00",
          "user": "betatim"
         },
         {
          "comments": 3.5,
          "date": "2019-01-20T00:00:00",
          "user": "betatim"
         },
         {
          "comments": 3.5,
          "date": "2019-01-27T00:00:00",
          "user": "betatim"
         },
         {
          "comments": 5.5,
          "date": "2019-02-03T00:00:00",
          "user": "betatim"
         },
         {
          "comments": 5.0,
          "date": "2019-02-10T00:00:00",
          "user": "betatim"
         },
         {
          "comments": 4.0,
          "date": "2019-02-17T00:00:00",
          "user": "betatim"
         },
         {
          "comments": 1.0,
          "date": "2017-12-17T00:00:00",
          "user": "choldgraf"
         },
         {
          "comments": 1.5,
          "date": "2018-01-07T00:00:00",
          "user": "choldgraf"
         },
         {
          "comments": 3.5,
          "date": "2018-01-14T00:00:00",
          "user": "choldgraf"
         },
         {
          "comments": 4.0,
          "date": "2018-02-04T00:00:00",
          "user": "choldgraf"
         },
         {
          "comments": 2.5,
          "date": "2018-02-11T00:00:00",
          "user": "choldgraf"
         },
         {
          "comments": 3.0,
          "date": "2018-02-25T00:00:00",
          "user": "choldgraf"
         },
         {
          "comments": 4.5,
          "date": "2018-03-04T00:00:00",
          "user": "choldgraf"
         },
         {
          "comments": 5.0,
          "date": "2018-03-11T00:00:00",
          "user": "choldgraf"
         },
         {
          "comments": 3.0,
          "date": "2018-03-18T00:00:00",
          "user": "choldgraf"
         },
         {
          "comments": 1.5,
          "date": "2018-04-22T00:00:00",
          "user": "choldgraf"
         },
         {
          "comments": 2.0,
          "date": "2018-05-06T00:00:00",
          "user": "choldgraf"
         },
         {
          "comments": 2.0,
          "date": "2018-05-27T00:00:00",
          "user": "choldgraf"
         },
         {
          "comments": 3.0,
          "date": "2018-06-10T00:00:00",
          "user": "choldgraf"
         },
         {
          "comments": 3.5,
          "date": "2018-07-01T00:00:00",
          "user": "choldgraf"
         },
         {
          "comments": 2.0,
          "date": "2018-07-22T00:00:00",
          "user": "choldgraf"
         },
         {
          "comments": 1.5,
          "date": "2018-07-29T00:00:00",
          "user": "choldgraf"
         },
         {
          "comments": 2.0,
          "date": "2018-08-05T00:00:00",
          "user": "choldgraf"
         },
         {
          "comments": 2.0,
          "date": "2018-08-12T00:00:00",
          "user": "choldgraf"
         },
         {
          "comments": 1.5,
          "date": "2018-08-19T00:00:00",
          "user": "choldgraf"
         },
         {
          "comments": 1.5,
          "date": "2018-08-26T00:00:00",
          "user": "choldgraf"
         },
         {
          "comments": 2.0,
          "date": "2018-09-02T00:00:00",
          "user": "choldgraf"
         },
         {
          "comments": 3.5,
          "date": "2018-09-16T00:00:00",
          "user": "choldgraf"
         },
         {
          "comments": 5.0,
          "date": "2018-09-23T00:00:00",
          "user": "choldgraf"
         },
         {
          "comments": 3.0,
          "date": "2018-09-30T00:00:00",
          "user": "choldgraf"
         },
         {
          "comments": 2.0,
          "date": "2018-10-07T00:00:00",
          "user": "choldgraf"
         },
         {
          "comments": 4.0,
          "date": "2018-10-14T00:00:00",
          "user": "choldgraf"
         },
         {
          "comments": 8.0,
          "date": "2018-10-21T00:00:00",
          "user": "choldgraf"
         },
         {
          "comments": 18.5,
          "date": "2018-10-28T00:00:00",
          "user": "choldgraf"
         },
         {
          "comments": 18.5,
          "date": "2018-11-04T00:00:00",
          "user": "choldgraf"
         },
         {
          "comments": 12.0,
          "date": "2018-11-11T00:00:00",
          "user": "choldgraf"
         },
         {
          "comments": 17.0,
          "date": "2018-11-18T00:00:00",
          "user": "choldgraf"
         },
         {
          "comments": 12.5,
          "date": "2018-11-25T00:00:00",
          "user": "choldgraf"
         },
         {
          "comments": 4.0,
          "date": "2018-12-02T00:00:00",
          "user": "choldgraf"
         },
         {
          "comments": 5.5,
          "date": "2018-12-09T00:00:00",
          "user": "choldgraf"
         },
         {
          "comments": 5.5,
          "date": "2018-12-16T00:00:00",
          "user": "choldgraf"
         },
         {
          "comments": 3.5,
          "date": "2018-12-23T00:00:00",
          "user": "choldgraf"
         },
         {
          "comments": 3.0,
          "date": "2018-12-30T00:00:00",
          "user": "choldgraf"
         },
         {
          "comments": 2.5,
          "date": "2019-01-06T00:00:00",
          "user": "choldgraf"
         },
         {
          "comments": 3.0,
          "date": "2019-01-13T00:00:00",
          "user": "choldgraf"
         },
         {
          "comments": 4.0,
          "date": "2019-01-20T00:00:00",
          "user": "choldgraf"
         },
         {
          "comments": 8.0,
          "date": "2019-01-27T00:00:00",
          "user": "choldgraf"
         },
         {
          "comments": 9.5,
          "date": "2019-02-03T00:00:00",
          "user": "choldgraf"
         },
         {
          "comments": 6.5,
          "date": "2019-02-10T00:00:00",
          "user": "choldgraf"
         },
         {
          "comments": 5.0,
          "date": "2019-02-17T00:00:00",
          "user": "choldgraf"
         },
         {
          "comments": 1.0,
          "date": "2018-10-28T00:00:00",
          "user": "cmd-ntrf"
         },
         {
          "comments": 1.0,
          "date": "2018-11-25T00:00:00",
          "user": "cmd-ntrf"
         },
         {
          "comments": 1.5,
          "date": "2018-12-02T00:00:00",
          "user": "cmd-ntrf"
         },
         {
          "comments": 2.0,
          "date": "2018-12-09T00:00:00",
          "user": "cmd-ntrf"
         },
         {
          "comments": 3.0,
          "date": "2018-03-11T00:00:00",
          "user": "consideRatio"
         },
         {
          "comments": 1.0,
          "date": "2018-03-25T00:00:00",
          "user": "consideRatio"
         },
         {
          "comments": 1.0,
          "date": "2018-04-15T00:00:00",
          "user": "consideRatio"
         },
         {
          "comments": 1.0,
          "date": "2018-04-22T00:00:00",
          "user": "consideRatio"
         },
         {
          "comments": 3.0,
          "date": "2018-07-01T00:00:00",
          "user": "consideRatio"
         },
         {
          "comments": 3.0,
          "date": "2018-07-08T00:00:00",
          "user": "consideRatio"
         },
         {
          "comments": 1.0,
          "date": "2018-08-12T00:00:00",
          "user": "consideRatio"
         },
         {
          "comments": 1.0,
          "date": "2018-08-19T00:00:00",
          "user": "consideRatio"
         },
         {
          "comments": 1.0,
          "date": "2018-08-26T00:00:00",
          "user": "consideRatio"
         },
         {
          "comments": 1.5,
          "date": "2018-09-16T00:00:00",
          "user": "consideRatio"
         },
         {
          "comments": 1.5,
          "date": "2018-09-23T00:00:00",
          "user": "consideRatio"
         },
         {
          "comments": 1.0,
          "date": "2018-10-07T00:00:00",
          "user": "consideRatio"
         },
         {
          "comments": 1.5,
          "date": "2018-10-28T00:00:00",
          "user": "consideRatio"
         },
         {
          "comments": 4.0,
          "date": "2018-11-25T00:00:00",
          "user": "consideRatio"
         },
         {
          "comments": 3.5,
          "date": "2018-12-02T00:00:00",
          "user": "consideRatio"
         },
         {
          "comments": 5.0,
          "date": "2018-12-09T00:00:00",
          "user": "consideRatio"
         },
         {
          "comments": 6.0,
          "date": "2018-12-16T00:00:00",
          "user": "consideRatio"
         },
         {
          "comments": 2.0,
          "date": "2019-01-06T00:00:00",
          "user": "consideRatio"
         },
         {
          "comments": 1.0,
          "date": "2019-01-20T00:00:00",
          "user": "consideRatio"
         },
         {
          "comments": 1.0,
          "date": "2019-01-27T00:00:00",
          "user": "consideRatio"
         },
         {
          "comments": 1.5,
          "date": "2018-06-10T00:00:00",
          "user": "ellisonbg"
         },
         {
          "comments": 2.5,
          "date": "2018-08-05T00:00:00",
          "user": "ellisonbg"
         },
         {
          "comments": 2.0,
          "date": "2018-08-19T00:00:00",
          "user": "ellisonbg"
         },
         {
          "comments": 1.0,
          "date": "2018-09-09T00:00:00",
          "user": "ellisonbg"
         },
         {
          "comments": 1.5,
          "date": "2018-09-23T00:00:00",
          "user": "ellisonbg"
         },
         {
          "comments": 5.0,
          "date": "2018-10-28T00:00:00",
          "user": "ellisonbg"
         },
         {
          "comments": 7.5,
          "date": "2018-11-04T00:00:00",
          "user": "ellisonbg"
         },
         {
          "comments": 4.5,
          "date": "2018-11-11T00:00:00",
          "user": "ellisonbg"
         },
         {
          "comments": 1.5,
          "date": "2018-12-30T00:00:00",
          "user": "ellisonbg"
         },
         {
          "comments": 3.0,
          "date": "2019-01-06T00:00:00",
          "user": "ellisonbg"
         },
         {
          "comments": 3.0,
          "date": "2019-01-13T00:00:00",
          "user": "ellisonbg"
         },
         {
          "comments": 1.0,
          "date": "2018-11-11T00:00:00",
          "user": "fperez"
         },
         {
          "comments": 1.5,
          "date": "2018-11-18T00:00:00",
          "user": "jhamman"
         },
         {
          "comments": 3.0,
          "date": "2018-02-25T00:00:00",
          "user": "jzf2101"
         },
         {
          "comments": 4.0,
          "date": "2018-03-04T00:00:00",
          "user": "jzf2101"
         },
         {
          "comments": 2.5,
          "date": "2018-03-11T00:00:00",
          "user": "jzf2101"
         },
         {
          "comments": 1.5,
          "date": "2018-03-18T00:00:00",
          "user": "jzf2101"
         },
         {
          "comments": 1.0,
          "date": "2018-03-25T00:00:00",
          "user": "jzf2101"
         },
         {
          "comments": 1.5,
          "date": "2018-04-22T00:00:00",
          "user": "jzf2101"
         },
         {
          "comments": 2.5,
          "date": "2018-05-06T00:00:00",
          "user": "jzf2101"
         },
         {
          "comments": 5.5,
          "date": "2018-07-01T00:00:00",
          "user": "jzf2101"
         },
         {
          "comments": 4.5,
          "date": "2018-07-08T00:00:00",
          "user": "jzf2101"
         },
         {
          "comments": 1.5,
          "date": "2018-07-22T00:00:00",
          "user": "jzf2101"
         },
         {
          "comments": 1.5,
          "date": "2018-08-12T00:00:00",
          "user": "jzf2101"
         },
         {
          "comments": 1.0,
          "date": "2018-08-26T00:00:00",
          "user": "jzf2101"
         },
         {
          "comments": 2.0,
          "date": "2018-09-02T00:00:00",
          "user": "jzf2101"
         },
         {
          "comments": 2.0,
          "date": "2018-09-09T00:00:00",
          "user": "jzf2101"
         },
         {
          "comments": 1.0,
          "date": "2018-09-23T00:00:00",
          "user": "jzf2101"
         },
         {
          "comments": 7.0,
          "date": "2018-10-07T00:00:00",
          "user": "jzf2101"
         },
         {
          "comments": 8.0,
          "date": "2018-10-14T00:00:00",
          "user": "jzf2101"
         },
         {
          "comments": 2.0,
          "date": "2018-10-21T00:00:00",
          "user": "jzf2101"
         },
         {
          "comments": 3.0,
          "date": "2018-10-28T00:00:00",
          "user": "jzf2101"
         },
         {
          "comments": 3.0,
          "date": "2018-11-11T00:00:00",
          "user": "jzf2101"
         },
         {
          "comments": 10.5,
          "date": "2018-11-18T00:00:00",
          "user": "jzf2101"
         },
         {
          "comments": 12.0,
          "date": "2018-11-25T00:00:00",
          "user": "jzf2101"
         },
         {
          "comments": 4.0,
          "date": "2018-12-02T00:00:00",
          "user": "jzf2101"
         },
         {
          "comments": 6.0,
          "date": "2018-12-09T00:00:00",
          "user": "jzf2101"
         },
         {
          "comments": 6.0,
          "date": "2019-01-13T00:00:00",
          "user": "jzf2101"
         },
         {
          "comments": 2.5,
          "date": "2019-01-27T00:00:00",
          "user": "jzf2101"
         },
         {
          "comments": 1.5,
          "date": "2019-02-10T00:00:00",
          "user": "lheagy"
         },
         {
          "comments": 2.0,
          "date": "2019-02-17T00:00:00",
          "user": "lheagy"
         },
         {
          "comments": 1.0,
          "date": "2017-12-24T00:00:00",
          "user": "minrk"
         },
         {
          "comments": 1.0,
          "date": "2018-03-04T00:00:00",
          "user": "minrk"
         },
         {
          "comments": 1.0,
          "date": "2018-03-18T00:00:00",
          "user": "minrk"
         },
         {
          "comments": 1.0,
          "date": "2018-04-08T00:00:00",
          "user": "minrk"
         },
         {
          "comments": 1.0,
          "date": "2018-04-22T00:00:00",
          "user": "minrk"
         },
         {
          "comments": 1.0,
          "date": "2018-04-29T00:00:00",
          "user": "minrk"
         },
         {
          "comments": 2.0,
          "date": "2018-05-06T00:00:00",
          "user": "minrk"
         },
         {
          "comments": 2.0,
          "date": "2018-06-10T00:00:00",
          "user": "minrk"
         },
         {
          "comments": 1.5,
          "date": "2018-07-01T00:00:00",
          "user": "minrk"
         },
         {
          "comments": 2.5,
          "date": "2018-07-08T00:00:00",
          "user": "minrk"
         },
         {
          "comments": 2.0,
          "date": "2018-08-19T00:00:00",
          "user": "minrk"
         },
         {
          "comments": 1.0,
          "date": "2018-09-16T00:00:00",
          "user": "minrk"
         },
         {
          "comments": 1.5,
          "date": "2018-09-23T00:00:00",
          "user": "minrk"
         },
         {
          "comments": 1.5,
          "date": "2018-09-30T00:00:00",
          "user": "minrk"
         },
         {
          "comments": 1.0,
          "date": "2018-10-07T00:00:00",
          "user": "minrk"
         },
         {
          "comments": 1.0,
          "date": "2018-10-14T00:00:00",
          "user": "minrk"
         },
         {
          "comments": 3.0,
          "date": "2018-10-28T00:00:00",
          "user": "minrk"
         },
         {
          "comments": 3.0,
          "date": "2018-11-11T00:00:00",
          "user": "minrk"
         },
         {
          "comments": 4.5,
          "date": "2018-11-18T00:00:00",
          "user": "minrk"
         },
         {
          "comments": 7.0,
          "date": "2018-12-09T00:00:00",
          "user": "minrk"
         },
         {
          "comments": 3.5,
          "date": "2018-12-16T00:00:00",
          "user": "minrk"
         },
         {
          "comments": 1.0,
          "date": "2019-01-13T00:00:00",
          "user": "minrk"
         },
         {
          "comments": 1.0,
          "date": "2019-01-20T00:00:00",
          "user": "minrk"
         },
         {
          "comments": 1.0,
          "date": "2019-01-27T00:00:00",
          "user": "minrk"
         },
         {
          "comments": 1.0,
          "date": "2019-02-17T00:00:00",
          "user": "minrk"
         },
         {
          "comments": 1.0,
          "date": "2018-03-18T00:00:00",
          "user": "mpacer"
         },
         {
          "comments": 1.0,
          "date": "2018-03-25T00:00:00",
          "user": "mpacer"
         },
         {
          "comments": 3.0,
          "date": "2017-12-17T00:00:00",
          "user": "willingc"
         },
         {
          "comments": 4.5,
          "date": "2018-01-07T00:00:00",
          "user": "willingc"
         },
         {
          "comments": 6.0,
          "date": "2018-01-14T00:00:00",
          "user": "willingc"
         },
         {
          "comments": 4.0,
          "date": "2018-02-11T00:00:00",
          "user": "willingc"
         },
         {
          "comments": 1.0,
          "date": "2018-02-18T00:00:00",
          "user": "willingc"
         },
         {
          "comments": 2.5,
          "date": "2018-03-04T00:00:00",
          "user": "willingc"
         },
         {
          "comments": 3.0,
          "date": "2018-03-11T00:00:00",
          "user": "willingc"
         },
         {
          "comments": 1.5,
          "date": "2018-03-18T00:00:00",
          "user": "willingc"
         },
         {
          "comments": 1.0,
          "date": "2018-04-08T00:00:00",
          "user": "willingc"
         },
         {
          "comments": 1.5,
          "date": "2018-04-22T00:00:00",
          "user": "willingc"
         },
         {
          "comments": 1.5,
          "date": "2018-06-10T00:00:00",
          "user": "willingc"
         },
         {
          "comments": 1.0,
          "date": "2018-08-05T00:00:00",
          "user": "willingc"
         },
         {
          "comments": 1.5,
          "date": "2018-08-12T00:00:00",
          "user": "willingc"
         },
         {
          "comments": 2.0,
          "date": "2018-08-26T00:00:00",
          "user": "willingc"
         },
         {
          "comments": 1.5,
          "date": "2018-09-16T00:00:00",
          "user": "willingc"
         },
         {
          "comments": 1.0,
          "date": "2018-09-23T00:00:00",
          "user": "willingc"
         },
         {
          "comments": 2.0,
          "date": "2018-10-21T00:00:00",
          "user": "willingc"
         },
         {
          "comments": 4.5,
          "date": "2018-10-28T00:00:00",
          "user": "willingc"
         },
         {
          "comments": 7.0,
          "date": "2018-11-04T00:00:00",
          "user": "willingc"
         },
         {
          "comments": 4.5,
          "date": "2018-11-11T00:00:00",
          "user": "willingc"
         },
         {
          "comments": 1.5,
          "date": "2018-11-18T00:00:00",
          "user": "willingc"
         },
         {
          "comments": 1.5,
          "date": "2019-01-06T00:00:00",
          "user": "willingc"
         },
         {
          "comments": 1.0,
          "date": "2019-01-13T00:00:00",
          "user": "willingc"
         },
         {
          "comments": 1.5,
          "date": "2019-01-27T00:00:00",
          "user": "willingc"
         },
         {
          "comments": 1.5,
          "date": "2019-02-03T00:00:00",
          "user": "willingc"
         },
         {
          "comments": 2.0,
          "date": "2018-01-07T00:00:00",
          "user": "yuvipanda"
         },
         {
          "comments": 2.0,
          "date": "2018-02-04T00:00:00",
          "user": "yuvipanda"
         },
         {
          "comments": 2.0,
          "date": "2018-03-04T00:00:00",
          "user": "yuvipanda"
         },
         {
          "comments": 2.5,
          "date": "2018-03-11T00:00:00",
          "user": "yuvipanda"
         },
         {
          "comments": 1.5,
          "date": "2018-03-18T00:00:00",
          "user": "yuvipanda"
         },
         {
          "comments": 1.0,
          "date": "2018-06-17T00:00:00",
          "user": "yuvipanda"
         },
         {
          "comments": 1.0,
          "date": "2018-09-16T00:00:00",
          "user": "yuvipanda"
         },
         {
          "comments": 1.0,
          "date": "2018-09-23T00:00:00",
          "user": "yuvipanda"
         },
         {
          "comments": 1.0,
          "date": "2018-11-18T00:00:00",
          "user": "yuvipanda"
         },
         {
          "comments": 1.0,
          "date": "2018-12-16T00:00:00",
          "user": "yuvipanda"
         },
         {
          "comments": 3.0,
          "date": "2019-01-06T00:00:00",
          "user": "yuvipanda"
         },
         {
          "comments": 4.0,
          "date": "2019-01-27T00:00:00",
          "user": "yuvipanda"
         },
         {
          "comments": 2.0,
          "date": "2019-02-03T00:00:00",
          "user": "yuvipanda"
         }
        ]
       },
       "layer": [
        {
         "data": {
          "name": "data-50cfc889ae6cca9d98523a5cae371a8b"
         },
         "encoding": {
          "color": {
           "field": "user",
           "type": "nominal"
          },
          "opacity": {
           "value": 0
          },
          "tooltip": {
           "field": "user",
           "type": "nominal"
          },
          "x": {
           "field": "date",
           "scale": {
            "domain": [
             "2016-01-01",
             "2019-02-01"
            ]
           },
           "type": "temporal"
          },
          "y": {
           "field": "comments",
           "type": "quantitative"
          }
         },
         "mark": {
          "clip": true,
          "type": "circle"
         },
         "selection": {
          "selector001": {
           "fields": [
            "user"
           ],
           "nearest": true,
           "on": "mouseover",
           "type": "single"
          }
         },
         "width": 1000
        },
        {
         "data": {
          "name": "data-50cfc889ae6cca9d98523a5cae371a8b"
         },
         "encoding": {
          "color": {
           "condition": {
            "field": "user",
            "selection": "selector001",
            "type": "nominal"
           },
           "value": "lightgray"
          },
          "size": {
           "condition": {
            "selection": {
             "not": "selector001"
            },
            "value": 1
           },
           "value": 4
          },
          "tooltip": {
           "field": "user",
           "type": "nominal"
          },
          "x": {
           "field": "date",
           "scale": {
            "domain": [
             "2016-01-01",
             "2019-02-01"
            ]
           },
           "type": "temporal"
          },
          "y": {
           "field": "comments",
           "type": "quantitative"
          }
         },
         "mark": {
          "clip": true,
          "type": "line"
         },
         "width": 1000
        }
       ]
      },
      "text/plain": [
       "<VegaLite 2 object>\n",
       "\n",
       "If you see this message, it means the renderer has not been properly enabled\n",
       "for the frontend that you are using. For more information, see\n",
       "https://altair-viz.github.io/user_guide/troubleshooting.html\n"
      ]
     },
     "execution_count": 14,
     "metadata": {},
     "output_type": "execute_result"
    }
   ],
   "source": [
    "selectable_line_plot(user_data.reset_index(), 'date', 'comments', 'user')"
   ]
  },
  {
   "cell_type": "code",
   "execution_count": 15,
   "metadata": {
    "papermill": {
     "duration": 0.206856,
     "end_time": "2019-02-14T22:41:38.279122",
     "exception": false,
     "start_time": "2019-02-14T22:41:38.072266",
     "status": "completed"
    },
    "tags": []
   },
   "outputs": [
    {
     "data": {
      "application/vnd.vegalite.v2+json": {
       "$schema": "https://vega.github.io/schema/vega-lite/v2.6.0.json",
       "config": {
        "view": {
         "height": 300,
         "width": 400
        }
       },
       "data": {
        "name": "data-2cd018729f8e6bb96275db9b23f2b5cf"
       },
       "datasets": {
        "data-2cd018729f8e6bb96275db9b23f2b5cf": [
         {
          "comments": 4.0,
          "date": "2017-12-17T00:00:00"
         },
         {
          "comments": 2.5,
          "date": "2017-12-24T00:00:00"
         },
         {
          "comments": 10.5,
          "date": "2018-01-07T00:00:00"
         },
         {
          "comments": 12.0,
          "date": "2018-01-14T00:00:00"
         },
         {
          "comments": 1.0,
          "date": "2018-01-21T00:00:00"
         },
         {
          "comments": 6.0,
          "date": "2018-02-04T00:00:00"
         },
         {
          "comments": 8.5,
          "date": "2018-02-11T00:00:00"
         },
         {
          "comments": 1.0,
          "date": "2018-02-18T00:00:00"
         },
         {
          "comments": 8.5,
          "date": "2018-02-25T00:00:00"
         },
         {
          "comments": 16.5,
          "date": "2018-03-04T00:00:00"
         },
         {
          "comments": 18.5,
          "date": "2018-03-11T00:00:00"
         },
         {
          "comments": 11.5,
          "date": "2018-03-18T00:00:00"
         },
         {
          "comments": 5.0,
          "date": "2018-03-25T00:00:00"
         },
         {
          "comments": 1.5,
          "date": "2018-04-01T00:00:00"
         },
         {
          "comments": 3.0,
          "date": "2018-04-08T00:00:00"
         },
         {
          "comments": 2.0,
          "date": "2018-04-15T00:00:00"
         },
         {
          "comments": 6.5,
          "date": "2018-04-22T00:00:00"
         },
         {
          "comments": 1.0,
          "date": "2018-04-29T00:00:00"
         },
         {
          "comments": 6.5,
          "date": "2018-05-06T00:00:00"
         },
         {
          "comments": 3.5,
          "date": "2018-05-27T00:00:00"
         },
         {
          "comments": 1.5,
          "date": "2018-06-03T00:00:00"
         },
         {
          "comments": 10.5,
          "date": "2018-06-10T00:00:00"
         },
         {
          "comments": 3.5,
          "date": "2018-06-17T00:00:00"
         },
         {
          "comments": 16.5,
          "date": "2018-07-01T00:00:00"
         },
         {
          "comments": 14.0,
          "date": "2018-07-08T00:00:00"
         },
         {
          "comments": 3.5,
          "date": "2018-07-22T00:00:00"
         },
         {
          "comments": 5.0,
          "date": "2018-07-29T00:00:00"
         },
         {
          "comments": 8.0,
          "date": "2018-08-05T00:00:00"
         },
         {
          "comments": 7.0,
          "date": "2018-08-12T00:00:00"
         },
         {
          "comments": 6.5,
          "date": "2018-08-19T00:00:00"
         },
         {
          "comments": 6.5,
          "date": "2018-08-26T00:00:00"
         },
         {
          "comments": 4.0,
          "date": "2018-09-02T00:00:00"
         },
         {
          "comments": 5.0,
          "date": "2018-09-09T00:00:00"
         },
         {
          "comments": 10.5,
          "date": "2018-09-16T00:00:00"
         },
         {
          "comments": 17.0,
          "date": "2018-09-23T00:00:00"
         },
         {
          "comments": 9.0,
          "date": "2018-09-30T00:00:00"
         },
         {
          "comments": 12.5,
          "date": "2018-10-07T00:00:00"
         },
         {
          "comments": 15.0,
          "date": "2018-10-14T00:00:00"
         },
         {
          "comments": 18.0,
          "date": "2018-10-21T00:00:00"
         },
         {
          "comments": 43.5,
          "date": "2018-10-28T00:00:00"
         },
         {
          "comments": 38.0,
          "date": "2018-11-04T00:00:00"
         },
         {
          "comments": 37.0,
          "date": "2018-11-11T00:00:00"
         },
         {
          "comments": 50.5,
          "date": "2018-11-18T00:00:00"
         },
         {
          "comments": 37.5,
          "date": "2018-11-25T00:00:00"
         },
         {
          "comments": 14.5,
          "date": "2018-12-02T00:00:00"
         },
         {
          "comments": 29.5,
          "date": "2018-12-09T00:00:00"
         },
         {
          "comments": 18.5,
          "date": "2018-12-16T00:00:00"
         },
         {
          "comments": 9.5,
          "date": "2018-12-23T00:00:00"
         },
         {
          "comments": 7.5,
          "date": "2018-12-30T00:00:00"
         },
         {
          "comments": 16.5,
          "date": "2019-01-06T00:00:00"
         },
         {
          "comments": 21.0,
          "date": "2019-01-13T00:00:00"
         },
         {
          "comments": 11.0,
          "date": "2019-01-20T00:00:00"
         },
         {
          "comments": 21.5,
          "date": "2019-01-27T00:00:00"
         },
         {
          "comments": 18.5,
          "date": "2019-02-03T00:00:00"
         },
         {
          "comments": 14.5,
          "date": "2019-02-10T00:00:00"
         },
         {
          "comments": 14.0,
          "date": "2019-02-17T00:00:00"
         }
        ]
       },
       "encoding": {
        "x": {
         "field": "date",
         "scale": {
          "domain": [
           "2016-01-01",
           "2019-02-01"
          ]
         },
         "type": "temporal"
        },
        "y": {
         "field": "comments",
         "type": "quantitative"
        }
       },
       "mark": {
        "clip": true,
        "type": "line"
       },
       "width": 1000
      },
      "text/plain": [
       "<VegaLite 2 object>\n",
       "\n",
       "If you see this message, it means the renderer has not been properly enabled\n",
       "for the frontend that you are using. For more information, see\n",
       "https://altair-viz.github.io/user_guide/troubleshooting.html\n"
      ]
     },
     "execution_count": 15,
     "metadata": {},
     "output_type": "execute_result"
    }
   ],
   "source": [
    "# Comment totals over time\n",
    "all_user_data = user_data.reset_index().groupby('date').sum()['comments'].reset_index()\n",
    "alt.Chart(data=all_user_data, width=1000).mark_line(clip=True).encode(\n",
    "    x=alt.X('date', scale=alt.Scale(domain=[\"2016-01-01\", \"2019-02-01\"])),\n",
    "    y='comments',\n",
    ")"
   ]
  },
  {
   "cell_type": "markdown",
   "metadata": {
    "papermill": {
     "duration": 0.127584,
     "end_time": "2019-02-14T22:41:38.580555",
     "exception": false,
     "start_time": "2019-02-14T22:41:38.452971",
     "status": "completed"
    },
    "tags": []
   },
   "source": [
    "## Distribution of comments over top N contributors"
   ]
  },
  {
   "cell_type": "code",
   "execution_count": 16,
   "metadata": {
    "papermill": {
     "duration": 0.100211,
     "end_time": "2019-02-14T22:41:38.826463",
     "exception": false,
     "start_time": "2019-02-14T22:41:38.726252",
     "status": "completed"
    },
    "tags": []
   },
   "outputs": [],
   "source": [
    "# For each week, calculate the top 20 contributions, turn them into percentages, order them, store the result"
   ]
  },
  {
   "cell_type": "code",
   "execution_count": 17,
   "metadata": {
    "papermill": {
     "duration": 0.511877,
     "end_time": "2019-02-14T22:41:39.454794",
     "exception": false,
     "start_time": "2019-02-14T22:41:38.942917",
     "status": "completed"
    },
    "tags": []
   },
   "outputs": [],
   "source": [
    "monthly = weekly.groupby('user').resample('M', on='date').sum().reset_index()"
   ]
  },
  {
   "cell_type": "code",
   "execution_count": 18,
   "metadata": {
    "papermill": {
     "duration": 0.225499,
     "end_time": "2019-02-14T22:41:39.784096",
     "exception": false,
     "start_time": "2019-02-14T22:41:39.558597",
     "status": "completed"
    },
    "tags": []
   },
   "outputs": [],
   "source": [
    "n_comments_plot = 20"
   ]
  },
  {
   "cell_type": "code",
   "execution_count": 19,
   "metadata": {
    "papermill": {
     "duration": 0.367605,
     "end_time": "2019-02-14T22:41:40.390727",
     "exception": false,
     "start_time": "2019-02-14T22:41:40.023122",
     "status": "completed"
    },
    "tags": []
   },
   "outputs": [],
   "source": [
    "monthly_dist = {}\n",
    "for iweek, ivals in monthly.groupby('date'):\n",
    "    comments_dist = ivals.groupby('user').sum()['comments']\n",
    "    comments_dist = comments_dist / comments_dist.sum()\n",
    "    comments_dist = comments_dist.sort_values(ascending=False)\n",
    "    comments_placeholder = [0] * n_comments_plot\n",
    "\n",
    "    for ii, (iname, ipart) in enumerate(comments_dist.items()):\n",
    "        if ii + 1 > n_comments_plot:\n",
    "            continue\n",
    "        comments_placeholder[ii] = ipart\n",
    "    monthly_dist[iweek] = comments_placeholder"
   ]
  },
  {
   "cell_type": "code",
   "execution_count": 20,
   "metadata": {
    "papermill": {
     "duration": 0.181992,
     "end_time": "2019-02-14T22:41:40.676245",
     "exception": false,
     "start_time": "2019-02-14T22:41:40.494253",
     "status": "completed"
    },
    "tags": []
   },
   "outputs": [],
   "source": [
    "monthly_dist = pd.DataFrame(monthly_dist)\n",
    "# monthly_dist.index.name = 'position'\n",
    "# monthly_dist.columns.name = 'date'\n",
    "# monthly_dist = monthly_dist.stack().reset_index().rename(columns={0: 'dist'})"
   ]
  },
  {
   "cell_type": "code",
   "execution_count": 21,
   "metadata": {
    "papermill": {
     "duration": 0.099997,
     "end_time": "2019-02-14T22:41:40.869865",
     "exception": false,
     "start_time": "2019-02-14T22:41:40.769868",
     "status": "completed"
    },
    "tags": []
   },
   "outputs": [],
   "source": [
    "monthly_dist.columns = monthly_dist.columns.date"
   ]
  },
  {
   "cell_type": "code",
   "execution_count": 22,
   "metadata": {
    "papermill": {
     "duration": 0.101647,
     "end_time": "2019-02-14T22:41:41.048448",
     "exception": false,
     "start_time": "2019-02-14T22:41:40.946801",
     "status": "completed"
    },
    "tags": []
   },
   "outputs": [],
   "source": [
    "from matplotlib import pyplot as plt"
   ]
  },
  {
   "cell_type": "code",
   "execution_count": 23,
   "metadata": {
    "papermill": {
     "duration": 0.683939,
     "end_time": "2019-02-14T22:41:41.813689",
     "exception": false,
     "start_time": "2019-02-14T22:41:41.129750",
     "status": "completed"
    },
    "tags": []
   },
   "outputs": [
    {
     "name": "stderr",
     "output_type": "stream",
     "text": [
      "/home/choldgraf/anaconda/envs/dev/lib/python3.6/site-packages/ipykernel_launcher.py:2: RuntimeWarning: divide by zero encountered in log10\n",
      "  \n"
     ]
    },
    {
     "data": {
      "text/plain": [
       "[Text(114.0, 0.5, 'Rank'),\n",
       " Text(0.5, 1.0, 'Log % Comments over time\\ntop 20 commentors')]"
      ]
     },
     "execution_count": 23,
     "metadata": {},
     "output_type": "execute_result"
    },
    {
     "data": {
      "image/png": "[encoded data removed]",
      "text/plain": [
       "<Figure size 1080x360 with 2 Axes>"
      ]
     },
     "metadata": {},
     "output_type": "display_data"
    }
   ],
   "source": [
    "fig, ax = plt.subplots(figsize=(15, 5))\n",
    "ax = sns.heatmap(np.log10(100 * monthly_dist), vmin=0, vmax=2)\n",
    "ax.set(ylabel=\"Rank\", title=\"Log % Comments over time\\ntop {} commentors\".format(n_comments_plot))"
   ]
  },
  {
   "cell_type": "markdown",
   "metadata": {
    "papermill": {
     "duration": 0.05679,
     "end_time": "2019-02-14T22:41:41.935822",
     "exception": false,
     "start_time": "2019-02-14T22:41:41.879032",
     "status": "completed"
    },
    "tags": []
   },
   "source": [
    "## Correlations between members"
   ]
  },
  {
   "cell_type": "code",
   "execution_count": 24,
   "metadata": {
    "papermill": {
     "duration": 0.108582,
     "end_time": "2019-02-14T22:41:42.136984",
     "exception": false,
     "start_time": "2019-02-14T22:41:42.028402",
     "status": "completed"
    },
    "tags": []
   },
   "outputs": [],
   "source": [
    "correlations = weekly.query(\"user in @plt_users\").set_index(['date', 'user'])['comments'].unstack('user').corr()\n",
    "correlations = correlations.replace(np.nan, 0)"
   ]
  },
  {
   "cell_type": "code",
   "execution_count": 25,
   "metadata": {
    "papermill": {
     "duration": 1.369465,
     "end_time": "2019-02-14T22:41:43.581300",
     "exception": false,
     "start_time": "2019-02-14T22:41:42.211835",
     "status": "completed"
    },
    "tags": []
   },
   "outputs": [
    {
     "data": {
      "text/plain": [
       "<seaborn.matrix.ClusterGrid at 0x7f62080954a8>"
      ]
     },
     "execution_count": 25,
     "metadata": {},
     "output_type": "execute_result"
    },
    {
     "data": {
      "image/png": "[encoded data removed]",
      "text/plain": [
       "<Figure size 720x720 with 4 Axes>"
      ]
     },
     "metadata": {},
     "output_type": "display_data"
    }
   ],
   "source": [
    "sns.clustermap(correlations, vmin=-1, vmax=1, cmap='RdYlBu_r')"
   ]
  },
  {
   "cell_type": "code",
   "execution_count": null,
   "metadata": {
    "papermill": {
     "duration": 0.056136,
     "end_time": "2019-02-14T22:41:43.694853",
     "exception": false,
     "start_time": "2019-02-14T22:41:43.638717",
     "status": "completed"
    },
    "tags": []
   },
   "outputs": [],
   "source": []
  }
 ],
 "metadata": {
  "kernelspec": {
   "display_name": "Python 3",
   "language": "python",
   "name": "python3"
  },
  "language_info": {
   "codemirror_mode": {
    "name": "ipython",
    "version": 3
   },
   "file_extension": ".py",
   "mimetype": "text/x-python",
   "name": "python",
   "nbconvert_exporter": "python",
   "pygments_lexer": "ipython3",
   "version": "3.6.5"
  },
  "papermill": {
   "duration": 11.562214,
   "end_time": "2019-02-14T22:41:44.276662",
   "environment_variables": {},
   "exception": null,
   "input_path": "./viz_data.ipynb",
   "output_path": "../reports/viz_data_jupyterhub-team-compass.ipynb",
   "parameters": {
    "org": "jupyterhub",
    "plot_N": 20,
    "repo": "team-compass"
   },
   "start_time": "2019-02-14T22:41:32.714448",
   "version": "0.18.0"
  }
 },
 "nbformat": 4,
 "nbformat_minor": 2
}