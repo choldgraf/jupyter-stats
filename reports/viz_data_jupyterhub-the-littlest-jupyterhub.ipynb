{
 "cells": [
  {
   "cell_type": "markdown",
   "metadata": {
    "papermill": {
     "duration": 0.026261,
     "end_time": "2019-02-14T22:40:30.013386",
     "exception": false,
     "start_time": "2019-02-14T22:40:29.987125",
     "status": "completed"
    },
    "tags": []
   },
   "source": [
    "## Parameters"
   ]
  },
  {
   "cell_type": "code",
   "execution_count": 1,
   "metadata": {
    "papermill": {
     "duration": 0.048307,
     "end_time": "2019-02-14T22:40:30.089828",
     "exception": false,
     "start_time": "2019-02-14T22:40:30.041521",
     "status": "completed"
    },
    "tags": [
     "parameters"
    ]
   },
   "outputs": [],
   "source": [
    "org = 'jupyterhub'\n",
    "repo = 'jupyterhub'\n",
    "plot_N = 25  # Number of lines to add"
   ]
  },
  {
   "cell_type": "code",
   "execution_count": 2,
   "metadata": {
    "papermill": {
     "duration": 0.03517,
     "end_time": "2019-02-14T22:40:30.172300",
     "exception": false,
     "start_time": "2019-02-14T22:40:30.137130",
     "status": "completed"
    },
    "tags": [
     "injected-parameters"
    ]
   },
   "outputs": [],
   "source": [
    "# Parameters\n",
    "org = \"jupyterhub\"\n",
    "repo = \"the-littlest-jupyterhub\"\n",
    "plot_N = 20\n"
   ]
  },
  {
   "cell_type": "markdown",
   "metadata": {
    "papermill": {
     "duration": 0.029872,
     "end_time": "2019-02-14T22:40:30.232525",
     "exception": false,
     "start_time": "2019-02-14T22:40:30.202653",
     "status": "completed"
    },
    "tags": []
   },
   "source": [
    "## Functions"
   ]
  },
  {
   "cell_type": "code",
   "execution_count": 3,
   "metadata": {
    "papermill": {
     "duration": 0.041273,
     "end_time": "2019-02-14T22:40:30.310675",
     "exception": false,
     "start_time": "2019-02-14T22:40:30.269402",
     "status": "completed"
    },
    "tags": []
   },
   "outputs": [],
   "source": [
    "def selectable_line_plot(data, x, y, color, width=1000):\n",
    "\n",
    "    select = alt.selection(type='single', on='mouseover',\n",
    "                           fields=[color], nearest=True)\n",
    "\n",
    "    base = alt.Chart(data=data, width=width).encode(\n",
    "        x=alt.X(x, scale=alt.Scale(domain=[\"2016-01-01\", \"2019-02-01\"])),\n",
    "        y=y,\n",
    "        color=color,\n",
    "        tooltip=color,\n",
    "    )\n",
    "\n",
    "    points = base.mark_circle(clip=True).encode(\n",
    "        opacity=alt.value(0)\n",
    "    ).add_selection(select)\n",
    "\n",
    "\n",
    "    lines = base.mark_line(clip=True).encode(\n",
    "        size=alt.condition(~select, alt.value(1), alt.value(4)),\n",
    "        color=alt.condition(select, color, alt.value('lightgray'))\n",
    "    )\n",
    "\n",
    "    return points + lines"
   ]
  },
  {
   "cell_type": "markdown",
   "metadata": {
    "papermill": {
     "duration": 0.057359,
     "end_time": "2019-02-14T22:40:30.401363",
     "exception": false,
     "start_time": "2019-02-14T22:40:30.344004",
     "status": "completed"
    },
    "tags": []
   },
   "source": [
    "# Load data"
   ]
  },
  {
   "cell_type": "code",
   "execution_count": 4,
   "metadata": {
    "papermill": {
     "duration": 1.669209,
     "end_time": "2019-02-14T22:40:32.114931",
     "exception": false,
     "start_time": "2019-02-14T22:40:30.445722",
     "status": "completed"
    },
    "tags": []
   },
   "outputs": [],
   "source": [
    "import pandas as pd\n",
    "import seaborn as sns\n",
    "import altair as alt\n",
    "import numpy as np"
   ]
  },
  {
   "cell_type": "code",
   "execution_count": 5,
   "metadata": {
    "papermill": {
     "duration": 0.134801,
     "end_time": "2019-02-14T22:40:32.279908",
     "exception": false,
     "start_time": "2019-02-14T22:40:32.145107",
     "status": "completed"
    },
    "tags": []
   },
   "outputs": [],
   "source": [
    "# Read in data\n",
    "daily = pd.read_csv('../data/daily.csv', index_col=0)\n",
    "\n",
    "# Convert indices to date\n",
    "daily['date'] = pd.to_datetime(daily['date'])\n",
    "daily = daily.query('org == @org and repo == @repo').drop(['org', 'repo'], axis=1)\n",
    "daily = daily.replace(np.nan, 0)"
   ]
  },
  {
   "cell_type": "markdown",
   "metadata": {
    "papermill": {
     "duration": 0.030019,
     "end_time": "2019-02-14T22:40:32.339602",
     "exception": false,
     "start_time": "2019-02-14T22:40:32.309583",
     "status": "completed"
    },
    "tags": []
   },
   "source": [
    "# Features"
   ]
  },
  {
   "cell_type": "code",
   "execution_count": 6,
   "metadata": {
    "papermill": {
     "duration": 0.717366,
     "end_time": "2019-02-14T22:40:33.094873",
     "exception": false,
     "start_time": "2019-02-14T22:40:32.377507",
     "status": "completed"
    },
    "tags": []
   },
   "outputs": [],
   "source": [
    "weekly = daily.groupby('user').resample('W', on='date').sum().reset_index()\n",
    "weekly = weekly.query('commits != 0 or comments != 0')"
   ]
  },
  {
   "cell_type": "code",
   "execution_count": 7,
   "metadata": {
    "papermill": {
     "duration": 0.276793,
     "end_time": "2019-02-14T22:40:33.555133",
     "exception": false,
     "start_time": "2019-02-14T22:40:33.278340",
     "status": "completed"
    },
    "tags": []
   },
   "outputs": [],
   "source": [
    "# Rolling mean\n",
    "weekly = weekly.groupby(['user', 'date']).sum().reset_index().groupby('user').\\\n",
    "    rolling(2, on='date')['comments'].\\\n",
    "    mean().dropna().reset_index()"
   ]
  },
  {
   "cell_type": "code",
   "execution_count": 8,
   "metadata": {
    "papermill": {
     "duration": 0.075061,
     "end_time": "2019-02-14T22:40:33.672022",
     "exception": false,
     "start_time": "2019-02-14T22:40:33.596961",
     "status": "completed"
    },
    "tags": []
   },
   "outputs": [],
   "source": [
    "# Top N commentors over time\n",
    "top_N = weekly.groupby('user').sum()['comments'].sort_values(ascending=False)\n",
    "top_N = top_N.index[:plot_N]"
   ]
  },
  {
   "cell_type": "markdown",
   "metadata": {
    "papermill": {
     "duration": 0.069407,
     "end_time": "2019-02-14T22:40:33.782456",
     "exception": false,
     "start_time": "2019-02-14T22:40:33.713049",
     "status": "completed"
    },
    "tags": []
   },
   "source": [
    "# Plotting"
   ]
  },
  {
   "cell_type": "markdown",
   "metadata": {
    "papermill": {
     "duration": 0.123876,
     "end_time": "2019-02-14T22:40:33.946074",
     "exception": false,
     "start_time": "2019-02-14T22:40:33.822198",
     "status": "completed"
    },
    "tags": []
   },
   "source": [
    "## Weekly unique contributors"
   ]
  },
  {
   "cell_type": "code",
   "execution_count": 9,
   "metadata": {
    "papermill": {
     "duration": 0.141638,
     "end_time": "2019-02-14T22:40:34.278571",
     "exception": false,
     "start_time": "2019-02-14T22:40:34.136933",
     "status": "completed"
    },
    "tags": []
   },
   "outputs": [],
   "source": [
    "unique = weekly[['date', 'user']].copy()\n",
    "unique['user'] = unique['user'].map(lambda a: [a])\n",
    "unique = unique.groupby('date').sum()"
   ]
  },
  {
   "cell_type": "code",
   "execution_count": 10,
   "metadata": {
    "papermill": {
     "duration": 0.099841,
     "end_time": "2019-02-14T22:40:34.441695",
     "exception": false,
     "start_time": "2019-02-14T22:40:34.341854",
     "status": "completed"
    },
    "tags": []
   },
   "outputs": [],
   "source": [
    "all_users = set()\n",
    "nunique = {}\n",
    "for idate, ivals in unique.iterrows():\n",
    "    n_unique_current = len(all_users)\n",
    "    \n",
    "    all_users = all_users.union(ivals[0])\n",
    "    n_unique_new = len(all_users) - n_unique_current\n",
    "    nunique[idate] = n_unique_new\n",
    "unique['new_contributors'] = pd.Series(nunique).values"
   ]
  },
  {
   "cell_type": "code",
   "execution_count": 11,
   "metadata": {
    "papermill": {
     "duration": 0.06036,
     "end_time": "2019-02-14T22:40:34.549783",
     "exception": false,
     "start_time": "2019-02-14T22:40:34.489423",
     "status": "completed"
    },
    "tags": []
   },
   "outputs": [],
   "source": [
    "unique['cumulative'] = unique['new_contributors'].cumsum()"
   ]
  },
  {
   "cell_type": "code",
   "execution_count": 12,
   "metadata": {
    "papermill": {
     "duration": 0.088075,
     "end_time": "2019-02-14T22:40:34.674797",
     "exception": false,
     "start_time": "2019-02-14T22:40:34.586722",
     "status": "completed"
    },
    "tags": []
   },
   "outputs": [
    {
     "data": {
      "application/vnd.vegalite.v2+json": {
       "$schema": "https://vega.github.io/schema/vega-lite/v2.6.0.json",
       "config": {
        "view": {
         "height": 300,
         "width": 400
        }
       },
       "data": {
        "name": "data-fcd4961d1381ae755a9483df0e50b2d8"
       },
       "datasets": {
        "data-fcd4961d1381ae755a9483df0e50b2d8": [
         {
          "cumulative": 1,
          "date": "2018-07-08T00:00:00",
          "new_contributors": 1,
          "user": [
           "yuvipanda"
          ]
         },
         {
          "cumulative": 1,
          "date": "2018-07-15T00:00:00",
          "new_contributors": 0,
          "user": [
           "yuvipanda"
          ]
         },
         {
          "cumulative": 5,
          "date": "2018-07-22T00:00:00",
          "new_contributors": 4,
          "user": [
           "JuanCab",
           "codecov[bot]",
           "gedankenstuecke",
           "minrk",
           "yuvipanda"
          ]
         },
         {
          "cumulative": 6,
          "date": "2018-07-29T00:00:00",
          "new_contributors": 1,
          "user": [
           "choldgraf",
           "yuvipanda"
          ]
         },
         {
          "cumulative": 8,
          "date": "2018-08-05T00:00:00",
          "new_contributors": 2,
          "user": [
           "JuanCab",
           "betatim",
           "choldgraf",
           "minrk",
           "norcalbiostat",
           "yuvipanda"
          ]
         },
         {
          "cumulative": 9,
          "date": "2018-08-12T00:00:00",
          "new_contributors": 1,
          "user": [
           "JuanCab",
           "betatim",
           "choldgraf",
           "norcalbiostat",
           "willirath",
           "yuvipanda"
          ]
         },
         {
          "cumulative": 13,
          "date": "2018-08-19T00:00:00",
          "new_contributors": 4,
          "user": [
           "Carreau",
           "betatim",
           "choldgraf",
           "mangecoeur",
           "rgerkin",
           "swallace21",
           "yuvipanda"
          ]
         },
         {
          "cumulative": 14,
          "date": "2018-08-26T00:00:00",
          "new_contributors": 1,
          "user": [
           "Carreau",
           "minrk",
           "ynnelson",
           "yuvipanda"
          ]
         },
         {
          "cumulative": 15,
          "date": "2018-09-02T00:00:00",
          "new_contributors": 1,
          "user": [
           "Carreau",
           "consideRatio",
           "minrk",
           "yuvipanda"
          ]
         },
         {
          "cumulative": 16,
          "date": "2018-09-09T00:00:00",
          "new_contributors": 1,
          "user": [
           "Carreau",
           "biojerm",
           "minrk",
           "yuvipanda"
          ]
         },
         {
          "cumulative": 18,
          "date": "2018-09-16T00:00:00",
          "new_contributors": 2,
          "user": [
           "JuanCab",
           "consideRatio",
           "henfee",
           "ian-r-rose",
           "mangecoeur",
           "yuvipanda"
          ]
         },
         {
          "cumulative": 19,
          "date": "2018-09-23T00:00:00",
          "new_contributors": 1,
          "user": [
           "choldgraf",
           "wrightaprilm",
           "yuvipanda"
          ]
         },
         {
          "cumulative": 19,
          "date": "2018-09-30T00:00:00",
          "new_contributors": 0,
          "user": [
           "betatim",
           "choldgraf",
           "minrk",
           "wrightaprilm"
          ]
         },
         {
          "cumulative": 20,
          "date": "2018-10-07T00:00:00",
          "new_contributors": 1,
          "user": [
           "choldgraf",
           "fomightez",
           "minrk",
           "wrightaprilm"
          ]
         },
         {
          "cumulative": 22,
          "date": "2018-10-14T00:00:00",
          "new_contributors": 2,
          "user": [
           "choldgraf",
           "jzf2101",
           "mangecoeur",
           "willingc",
           "wrightaprilm",
           "yuvipanda"
          ]
         },
         {
          "cumulative": 22,
          "date": "2018-10-21T00:00:00",
          "new_contributors": 0,
          "user": [
           "betatim",
           "choldgraf",
           "minrk",
           "willingc"
          ]
         },
         {
          "cumulative": 22,
          "date": "2018-10-28T00:00:00",
          "new_contributors": 0,
          "user": [
           "betatim",
           "choldgraf",
           "minrk"
          ]
         },
         {
          "cumulative": 22,
          "date": "2018-11-04T00:00:00",
          "new_contributors": 0,
          "user": [
           "Carreau",
           "choldgraf",
           "mangecoeur",
           "minrk",
           "yuvipanda"
          ]
         },
         {
          "cumulative": 24,
          "date": "2018-11-11T00:00:00",
          "new_contributors": 2,
          "user": [
           "betatim",
           "biojerm",
           "choldgraf",
           "fm75",
           "fperez",
           "willingc",
           "yuvipanda"
          ]
         },
         {
          "cumulative": 25,
          "date": "2018-11-18T00:00:00",
          "new_contributors": 1,
          "user": [
           "choldgraf",
           "fm75",
           "jzf2101",
           "minrk",
           "olivierverdier",
           "yuvipanda"
          ]
         },
         {
          "cumulative": 25,
          "date": "2018-11-25T00:00:00",
          "new_contributors": 0,
          "user": [
           "Carreau",
           "yuvipanda"
          ]
         },
         {
          "cumulative": 27,
          "date": "2018-12-02T00:00:00",
          "new_contributors": 2,
          "user": [
           "choldgraf",
           "fm75",
           "joergklein",
           "owah",
           "yuvipanda"
          ]
         },
         {
          "cumulative": 29,
          "date": "2018-12-09T00:00:00",
          "new_contributors": 2,
          "user": [
           "fm75",
           "minrk",
           "raghav130593",
           "tkang007",
           "yuvipanda"
          ]
         },
         {
          "cumulative": 30,
          "date": "2018-12-16T00:00:00",
          "new_contributors": 1,
          "user": [
           "choldgraf",
           "fm75",
           "jzf2101",
           "mpkirby",
           "yuvipanda"
          ]
         },
         {
          "cumulative": 30,
          "date": "2018-12-23T00:00:00",
          "new_contributors": 0,
          "user": [
           "betatim",
           "fm75",
           "tkang007",
           "yuvipanda"
          ]
         },
         {
          "cumulative": 30,
          "date": "2018-12-30T00:00:00",
          "new_contributors": 0,
          "user": [
           "yuvipanda"
          ]
         },
         {
          "cumulative": 30,
          "date": "2019-01-06T00:00:00",
          "new_contributors": 0,
          "user": [
           "swallace21"
          ]
         },
         {
          "cumulative": 30,
          "date": "2019-01-13T00:00:00",
          "new_contributors": 0,
          "user": [
           "fm75",
           "willirath",
           "yuvipanda"
          ]
         },
         {
          "cumulative": 30,
          "date": "2019-01-20T00:00:00",
          "new_contributors": 0,
          "user": [
           "tkang007"
          ]
         },
         {
          "cumulative": 30,
          "date": "2019-01-27T00:00:00",
          "new_contributors": 0,
          "user": [
           "tkang007",
           "willirath",
           "yuvipanda"
          ]
         },
         {
          "cumulative": 31,
          "date": "2019-02-03T00:00:00",
          "new_contributors": 1,
          "user": [
           "kannes",
           "minrk",
           "yuvipanda"
          ]
         },
         {
          "cumulative": 31,
          "date": "2019-02-17T00:00:00",
          "new_contributors": 0,
          "user": [
           "minrk",
           "yuvipanda"
          ]
         }
        ]
       },
       "encoding": {
        "x": {
         "field": "date",
         "type": "temporal"
        },
        "y": {
         "field": "cumulative",
         "type": "quantitative"
        }
       },
       "mark": "line",
       "width": 500
      },
      "text/plain": [
       "<VegaLite 2 object>\n",
       "\n",
       "If you see this message, it means the renderer has not been properly enabled\n",
       "for the frontend that you are using. For more information, see\n",
       "https://altair-viz.github.io/user_guide/troubleshooting.html\n"
      ]
     },
     "execution_count": 12,
     "metadata": {},
     "output_type": "execute_result"
    }
   ],
   "source": [
    "line = alt.Chart(data=unique.reset_index(), width=500).mark_line().encode(x='date', y='cumulative')\n",
    "line"
   ]
  },
  {
   "cell_type": "markdown",
   "metadata": {
    "papermill": {
     "duration": 0.046378,
     "end_time": "2019-02-14T22:40:34.759600",
     "exception": false,
     "start_time": "2019-02-14T22:40:34.713222",
     "status": "completed"
    },
    "tags": []
   },
   "source": [
    "## Comment activity over time"
   ]
  },
  {
   "cell_type": "code",
   "execution_count": 13,
   "metadata": {
    "papermill": {
     "duration": 0.059313,
     "end_time": "2019-02-14T22:40:34.864604",
     "exception": false,
     "start_time": "2019-02-14T22:40:34.805291",
     "status": "completed"
    },
    "tags": []
   },
   "outputs": [],
   "source": [
    "# Select the users we'll plot\n",
    "user_data = weekly.groupby(['user', 'date']).sum().reset_index('user')\n",
    "total_users = user_data.groupby('user')['comments'].sum()\n",
    "plt_users = total_users.sort_values(ascending=False)[:plot_N].index\n",
    "user_data = user_data.query(\"user in @plt_users\")\n",
    "\n",
    "# Drop empty dates\n",
    "user_data = user_data[user_data.sum(1) != 0]"
   ]
  },
  {
   "cell_type": "code",
   "execution_count": 14,
   "metadata": {
    "papermill": {
     "duration": 0.270703,
     "end_time": "2019-02-14T22:40:35.182643",
     "exception": false,
     "start_time": "2019-02-14T22:40:34.911940",
     "status": "completed"
    },
    "tags": []
   },
   "outputs": [
    {
     "data": {
      "application/vnd.vegalite.v2+json": {
       "$schema": "https://vega.github.io/schema/vega-lite/v2.6.0.json",
       "config": {
        "view": {
         "height": 300,
         "width": 400
        }
       },
       "datasets": {
        "data-effb9f3b92537c377acd5ced6809b78a": [
         {
          "comments": 1.0,
          "date": "2018-08-19T00:00:00",
          "user": "Carreau"
         },
         {
          "comments": 2.5,
          "date": "2018-08-26T00:00:00",
          "user": "Carreau"
         },
         {
          "comments": 4.0,
          "date": "2018-09-02T00:00:00",
          "user": "Carreau"
         },
         {
          "comments": 2.5,
          "date": "2018-09-09T00:00:00",
          "user": "Carreau"
         },
         {
          "comments": 1.0,
          "date": "2018-11-04T00:00:00",
          "user": "Carreau"
         },
         {
          "comments": 1.0,
          "date": "2018-11-25T00:00:00",
          "user": "Carreau"
         },
         {
          "comments": 3.5,
          "date": "2018-07-22T00:00:00",
          "user": "JuanCab"
         },
         {
          "comments": 5.0,
          "date": "2018-08-05T00:00:00",
          "user": "JuanCab"
         },
         {
          "comments": 7.5,
          "date": "2018-08-12T00:00:00",
          "user": "JuanCab"
         },
         {
          "comments": 4.0,
          "date": "2018-09-16T00:00:00",
          "user": "JuanCab"
         },
         {
          "comments": 2.5,
          "date": "2018-08-05T00:00:00",
          "user": "betatim"
         },
         {
          "comments": 3.0,
          "date": "2018-08-12T00:00:00",
          "user": "betatim"
         },
         {
          "comments": 2.0,
          "date": "2018-08-19T00:00:00",
          "user": "betatim"
         },
         {
          "comments": 1.5,
          "date": "2018-09-30T00:00:00",
          "user": "betatim"
         },
         {
          "comments": 2.5,
          "date": "2018-10-21T00:00:00",
          "user": "betatim"
         },
         {
          "comments": 2.5,
          "date": "2018-10-28T00:00:00",
          "user": "betatim"
         },
         {
          "comments": 1.0,
          "date": "2018-11-11T00:00:00",
          "user": "betatim"
         },
         {
          "comments": 1.0,
          "date": "2018-12-23T00:00:00",
          "user": "betatim"
         },
         {
          "comments": 1.5,
          "date": "2018-09-09T00:00:00",
          "user": "biojerm"
         },
         {
          "comments": 1.0,
          "date": "2018-11-11T00:00:00",
          "user": "biojerm"
         },
         {
          "comments": 2.5,
          "date": "2018-07-29T00:00:00",
          "user": "choldgraf"
         },
         {
          "comments": 3.0,
          "date": "2018-08-05T00:00:00",
          "user": "choldgraf"
         },
         {
          "comments": 12.5,
          "date": "2018-08-12T00:00:00",
          "user": "choldgraf"
         },
         {
          "comments": 10.5,
          "date": "2018-08-19T00:00:00",
          "user": "choldgraf"
         },
         {
          "comments": 2.5,
          "date": "2018-09-23T00:00:00",
          "user": "choldgraf"
         },
         {
          "comments": 3.5,
          "date": "2018-09-30T00:00:00",
          "user": "choldgraf"
         },
         {
          "comments": 3.5,
          "date": "2018-10-07T00:00:00",
          "user": "choldgraf"
         },
         {
          "comments": 4.0,
          "date": "2018-10-14T00:00:00",
          "user": "choldgraf"
         },
         {
          "comments": 5.0,
          "date": "2018-10-21T00:00:00",
          "user": "choldgraf"
         },
         {
          "comments": 6.0,
          "date": "2018-10-28T00:00:00",
          "user": "choldgraf"
         },
         {
          "comments": 4.5,
          "date": "2018-11-04T00:00:00",
          "user": "choldgraf"
         },
         {
          "comments": 5.0,
          "date": "2018-11-11T00:00:00",
          "user": "choldgraf"
         },
         {
          "comments": 7.0,
          "date": "2018-11-18T00:00:00",
          "user": "choldgraf"
         },
         {
          "comments": 5.0,
          "date": "2018-12-02T00:00:00",
          "user": "choldgraf"
         },
         {
          "comments": 2.0,
          "date": "2018-12-16T00:00:00",
          "user": "choldgraf"
         },
         {
          "comments": 1.5,
          "date": "2018-09-02T00:00:00",
          "user": "consideRatio"
         },
         {
          "comments": 1.0,
          "date": "2018-09-16T00:00:00",
          "user": "consideRatio"
         },
         {
          "comments": 8.5,
          "date": "2018-11-11T00:00:00",
          "user": "fm75"
         },
         {
          "comments": 10.5,
          "date": "2018-11-18T00:00:00",
          "user": "fm75"
         },
         {
          "comments": 6.5,
          "date": "2018-12-02T00:00:00",
          "user": "fm75"
         },
         {
          "comments": 4.5,
          "date": "2018-12-09T00:00:00",
          "user": "fm75"
         },
         {
          "comments": 6.0,
          "date": "2018-12-16T00:00:00",
          "user": "fm75"
         },
         {
          "comments": 6.5,
          "date": "2018-12-23T00:00:00",
          "user": "fm75"
         },
         {
          "comments": 3.5,
          "date": "2019-01-13T00:00:00",
          "user": "fm75"
         },
         {
          "comments": 2.0,
          "date": "2018-07-22T00:00:00",
          "user": "gedankenstuecke"
         },
         {
          "comments": 1.5,
          "date": "2018-09-16T00:00:00",
          "user": "henfee"
         },
         {
          "comments": 5.5,
          "date": "2018-10-14T00:00:00",
          "user": "jzf2101"
         },
         {
          "comments": 5.5,
          "date": "2018-11-18T00:00:00",
          "user": "jzf2101"
         },
         {
          "comments": 2.0,
          "date": "2018-12-16T00:00:00",
          "user": "jzf2101"
         },
         {
          "comments": 3.0,
          "date": "2018-08-19T00:00:00",
          "user": "mangecoeur"
         },
         {
          "comments": 1.0,
          "date": "2018-09-16T00:00:00",
          "user": "mangecoeur"
         },
         {
          "comments": 1.0,
          "date": "2018-10-14T00:00:00",
          "user": "mangecoeur"
         },
         {
          "comments": 1.0,
          "date": "2018-11-04T00:00:00",
          "user": "mangecoeur"
         },
         {
          "comments": 3.5,
          "date": "2018-07-22T00:00:00",
          "user": "minrk"
         },
         {
          "comments": 2.5,
          "date": "2018-08-05T00:00:00",
          "user": "minrk"
         },
         {
          "comments": 2.5,
          "date": "2018-08-26T00:00:00",
          "user": "minrk"
         },
         {
          "comments": 5.0,
          "date": "2018-09-02T00:00:00",
          "user": "minrk"
         },
         {
          "comments": 5.5,
          "date": "2018-09-09T00:00:00",
          "user": "minrk"
         },
         {
          "comments": 1.5,
          "date": "2018-09-30T00:00:00",
          "user": "minrk"
         },
         {
          "comments": 1.0,
          "date": "2018-10-07T00:00:00",
          "user": "minrk"
         },
         {
          "comments": 2.5,
          "date": "2018-10-21T00:00:00",
          "user": "minrk"
         },
         {
          "comments": 3.5,
          "date": "2018-10-28T00:00:00",
          "user": "minrk"
         },
         {
          "comments": 4.5,
          "date": "2018-11-04T00:00:00",
          "user": "minrk"
         },
         {
          "comments": 4.0,
          "date": "2018-11-18T00:00:00",
          "user": "minrk"
         },
         {
          "comments": 2.0,
          "date": "2018-12-09T00:00:00",
          "user": "minrk"
         },
         {
          "comments": 1.5,
          "date": "2019-02-03T00:00:00",
          "user": "minrk"
         },
         {
          "comments": 1.0,
          "date": "2019-02-17T00:00:00",
          "user": "minrk"
         },
         {
          "comments": 1.0,
          "date": "2018-08-05T00:00:00",
          "user": "norcalbiostat"
         },
         {
          "comments": 1.0,
          "date": "2018-08-12T00:00:00",
          "user": "norcalbiostat"
         },
         {
          "comments": 1.5,
          "date": "2018-08-19T00:00:00",
          "user": "swallace21"
         },
         {
          "comments": 1.0,
          "date": "2019-01-06T00:00:00",
          "user": "swallace21"
         },
         {
          "comments": 3.0,
          "date": "2018-12-09T00:00:00",
          "user": "tkang007"
         },
         {
          "comments": 2.0,
          "date": "2018-12-23T00:00:00",
          "user": "tkang007"
         },
         {
          "comments": 1.0,
          "date": "2019-01-20T00:00:00",
          "user": "tkang007"
         },
         {
          "comments": 1.0,
          "date": "2019-01-27T00:00:00",
          "user": "tkang007"
         },
         {
          "comments": 4.5,
          "date": "2018-10-14T00:00:00",
          "user": "willingc"
         },
         {
          "comments": 3.5,
          "date": "2018-10-21T00:00:00",
          "user": "willingc"
         },
         {
          "comments": 1.0,
          "date": "2018-11-11T00:00:00",
          "user": "willingc"
         },
         {
          "comments": 4.0,
          "date": "2018-08-12T00:00:00",
          "user": "willirath"
         },
         {
          "comments": 1.0,
          "date": "2019-01-13T00:00:00",
          "user": "willirath"
         },
         {
          "comments": 1.5,
          "date": "2019-01-27T00:00:00",
          "user": "willirath"
         },
         {
          "comments": 2.5,
          "date": "2018-09-23T00:00:00",
          "user": "wrightaprilm"
         },
         {
          "comments": 2.5,
          "date": "2018-09-30T00:00:00",
          "user": "wrightaprilm"
         },
         {
          "comments": 2.5,
          "date": "2018-10-07T00:00:00",
          "user": "wrightaprilm"
         },
         {
          "comments": 2.0,
          "date": "2018-10-14T00:00:00",
          "user": "wrightaprilm"
         },
         {
          "comments": 2.5,
          "date": "2018-08-26T00:00:00",
          "user": "ynnelson"
         },
         {
          "comments": 11.0,
          "date": "2018-07-08T00:00:00",
          "user": "yuvipanda"
         },
         {
          "comments": 19.0,
          "date": "2018-07-15T00:00:00",
          "user": "yuvipanda"
         },
         {
          "comments": 18.5,
          "date": "2018-07-22T00:00:00",
          "user": "yuvipanda"
         },
         {
          "comments": 16.0,
          "date": "2018-07-29T00:00:00",
          "user": "yuvipanda"
         },
         {
          "comments": 29.0,
          "date": "2018-08-05T00:00:00",
          "user": "yuvipanda"
         },
         {
          "comments": 30.5,
          "date": "2018-08-12T00:00:00",
          "user": "yuvipanda"
         },
         {
          "comments": 14.0,
          "date": "2018-08-19T00:00:00",
          "user": "yuvipanda"
         },
         {
          "comments": 7.0,
          "date": "2018-08-26T00:00:00",
          "user": "yuvipanda"
         },
         {
          "comments": 9.5,
          "date": "2018-09-02T00:00:00",
          "user": "yuvipanda"
         },
         {
          "comments": 11.0,
          "date": "2018-09-09T00:00:00",
          "user": "yuvipanda"
         },
         {
          "comments": 7.0,
          "date": "2018-09-16T00:00:00",
          "user": "yuvipanda"
         },
         {
          "comments": 3.5,
          "date": "2018-09-23T00:00:00",
          "user": "yuvipanda"
         },
         {
          "comments": 1.0,
          "date": "2018-10-14T00:00:00",
          "user": "yuvipanda"
         },
         {
          "comments": 4.5,
          "date": "2018-11-04T00:00:00",
          "user": "yuvipanda"
         },
         {
          "comments": 4.5,
          "date": "2018-11-11T00:00:00",
          "user": "yuvipanda"
         },
         {
          "comments": 7.5,
          "date": "2018-11-18T00:00:00",
          "user": "yuvipanda"
         },
         {
          "comments": 9.5,
          "date": "2018-11-25T00:00:00",
          "user": "yuvipanda"
         },
         {
          "comments": 4.0,
          "date": "2018-12-02T00:00:00",
          "user": "yuvipanda"
         },
         {
          "comments": 2.5,
          "date": "2018-12-09T00:00:00",
          "user": "yuvipanda"
         },
         {
          "comments": 2.5,
          "date": "2018-12-16T00:00:00",
          "user": "yuvipanda"
         },
         {
          "comments": 2.0,
          "date": "2018-12-23T00:00:00",
          "user": "yuvipanda"
         },
         {
          "comments": 1.0,
          "date": "2018-12-30T00:00:00",
          "user": "yuvipanda"
         },
         {
          "comments": 1.0,
          "date": "2019-01-13T00:00:00",
          "user": "yuvipanda"
         },
         {
          "comments": 2.0,
          "date": "2019-01-27T00:00:00",
          "user": "yuvipanda"
         },
         {
          "comments": 5.5,
          "date": "2019-02-03T00:00:00",
          "user": "yuvipanda"
         },
         {
          "comments": 5.0,
          "date": "2019-02-17T00:00:00",
          "user": "yuvipanda"
         }
        ]
       },
       "layer": [
        {
         "data": {
          "name": "data-effb9f3b92537c377acd5ced6809b78a"
         },
         "encoding": {
          "color": {
           "field": "user",
           "type": "nominal"
          },
          "opacity": {
           "value": 0
          },
          "tooltip": {
           "field": "user",
           "type": "nominal"
          },
          "x": {
           "field": "date",
           "scale": {
            "domain": [
             "2016-01-01",
             "2019-02-01"
            ]
           },
           "type": "temporal"
          },
          "y": {
           "field": "comments",
           "type": "quantitative"
          }
         },
         "mark": {
          "clip": true,
          "type": "circle"
         },
         "selection": {
          "selector001": {
           "fields": [
            "user"
           ],
           "nearest": true,
           "on": "mouseover",
           "type": "single"
          }
         },
         "width": 1000
        },
        {
         "data": {
          "name": "data-effb9f3b92537c377acd5ced6809b78a"
         },
         "encoding": {
          "color": {
           "condition": {
            "field": "user",
            "selection": "selector001",
            "type": "nominal"
           },
           "value": "lightgray"
          },
          "size": {
           "condition": {
            "selection": {
             "not": "selector001"
            },
            "value": 1
           },
           "value": 4
          },
          "tooltip": {
           "field": "user",
           "type": "nominal"
          },
          "x": {
           "field": "date",
           "scale": {
            "domain": [
             "2016-01-01",
             "2019-02-01"
            ]
           },
           "type": "temporal"
          },
          "y": {
           "field": "comments",
           "type": "quantitative"
          }
         },
         "mark": {
          "clip": true,
          "type": "line"
         },
         "width": 1000
        }
       ]
      },
      "text/plain": [
       "<VegaLite 2 object>\n",
       "\n",
       "If you see this message, it means the renderer has not been properly enabled\n",
       "for the frontend that you are using. For more information, see\n",
       "https://altair-viz.github.io/user_guide/troubleshooting.html\n"
      ]
     },
     "execution_count": 14,
     "metadata": {},
     "output_type": "execute_result"
    }
   ],
   "source": [
    "selectable_line_plot(user_data.reset_index(), 'date', 'comments', 'user')"
   ]
  },
  {
   "cell_type": "code",
   "execution_count": 15,
   "metadata": {
    "papermill": {
     "duration": 0.114403,
     "end_time": "2019-02-14T22:40:35.425049",
     "exception": false,
     "start_time": "2019-02-14T22:40:35.310646",
     "status": "completed"
    },
    "tags": []
   },
   "outputs": [
    {
     "data": {
      "application/vnd.vegalite.v2+json": {
       "$schema": "https://vega.github.io/schema/vega-lite/v2.6.0.json",
       "config": {
        "view": {
         "height": 300,
         "width": 400
        }
       },
       "data": {
        "name": "data-4d612ad80a0f5c54f8c7c0c3f5be16f1"
       },
       "datasets": {
        "data-4d612ad80a0f5c54f8c7c0c3f5be16f1": [
         {
          "comments": 11.0,
          "date": "2018-07-08T00:00:00"
         },
         {
          "comments": 19.0,
          "date": "2018-07-15T00:00:00"
         },
         {
          "comments": 27.5,
          "date": "2018-07-22T00:00:00"
         },
         {
          "comments": 18.5,
          "date": "2018-07-29T00:00:00"
         },
         {
          "comments": 43.0,
          "date": "2018-08-05T00:00:00"
         },
         {
          "comments": 58.5,
          "date": "2018-08-12T00:00:00"
         },
         {
          "comments": 32.0,
          "date": "2018-08-19T00:00:00"
         },
         {
          "comments": 14.5,
          "date": "2018-08-26T00:00:00"
         },
         {
          "comments": 20.0,
          "date": "2018-09-02T00:00:00"
         },
         {
          "comments": 20.5,
          "date": "2018-09-09T00:00:00"
         },
         {
          "comments": 14.5,
          "date": "2018-09-16T00:00:00"
         },
         {
          "comments": 8.5,
          "date": "2018-09-23T00:00:00"
         },
         {
          "comments": 9.0,
          "date": "2018-09-30T00:00:00"
         },
         {
          "comments": 7.0,
          "date": "2018-10-07T00:00:00"
         },
         {
          "comments": 18.0,
          "date": "2018-10-14T00:00:00"
         },
         {
          "comments": 13.5,
          "date": "2018-10-21T00:00:00"
         },
         {
          "comments": 12.0,
          "date": "2018-10-28T00:00:00"
         },
         {
          "comments": 15.5,
          "date": "2018-11-04T00:00:00"
         },
         {
          "comments": 21.0,
          "date": "2018-11-11T00:00:00"
         },
         {
          "comments": 34.5,
          "date": "2018-11-18T00:00:00"
         },
         {
          "comments": 10.5,
          "date": "2018-11-25T00:00:00"
         },
         {
          "comments": 15.5,
          "date": "2018-12-02T00:00:00"
         },
         {
          "comments": 12.0,
          "date": "2018-12-09T00:00:00"
         },
         {
          "comments": 12.5,
          "date": "2018-12-16T00:00:00"
         },
         {
          "comments": 11.5,
          "date": "2018-12-23T00:00:00"
         },
         {
          "comments": 1.0,
          "date": "2018-12-30T00:00:00"
         },
         {
          "comments": 1.0,
          "date": "2019-01-06T00:00:00"
         },
         {
          "comments": 5.5,
          "date": "2019-01-13T00:00:00"
         },
         {
          "comments": 1.0,
          "date": "2019-01-20T00:00:00"
         },
         {
          "comments": 4.5,
          "date": "2019-01-27T00:00:00"
         },
         {
          "comments": 7.0,
          "date": "2019-02-03T00:00:00"
         },
         {
          "comments": 6.0,
          "date": "2019-02-17T00:00:00"
         }
        ]
       },
       "encoding": {
        "x": {
         "field": "date",
         "scale": {
          "domain": [
           "2016-01-01",
           "2019-02-01"
          ]
         },
         "type": "temporal"
        },
        "y": {
         "field": "comments",
         "type": "quantitative"
        }
       },
       "mark": {
        "clip": true,
        "type": "line"
       },
       "width": 1000
      },
      "text/plain": [
       "<VegaLite 2 object>\n",
       "\n",
       "If you see this message, it means the renderer has not been properly enabled\n",
       "for the frontend that you are using. For more information, see\n",
       "https://altair-viz.github.io/user_guide/troubleshooting.html\n"
      ]
     },
     "execution_count": 15,
     "metadata": {},
     "output_type": "execute_result"
    }
   ],
   "source": [
    "# Comment totals over time\n",
    "all_user_data = user_data.reset_index().groupby('date').sum()['comments'].reset_index()\n",
    "alt.Chart(data=all_user_data, width=1000).mark_line(clip=True).encode(\n",
    "    x=alt.X('date', scale=alt.Scale(domain=[\"2016-01-01\", \"2019-02-01\"])),\n",
    "    y='comments',\n",
    ")"
   ]
  },
  {
   "cell_type": "markdown",
   "metadata": {
    "papermill": {
     "duration": 0.07128,
     "end_time": "2019-02-14T22:40:35.555257",
     "exception": false,
     "start_time": "2019-02-14T22:40:35.483977",
     "status": "completed"
    },
    "tags": []
   },
   "source": [
    "## Distribution of comments over top N contributors"
   ]
  },
  {
   "cell_type": "code",
   "execution_count": 16,
   "metadata": {
    "papermill": {
     "duration": 0.067037,
     "end_time": "2019-02-14T22:40:35.669772",
     "exception": false,
     "start_time": "2019-02-14T22:40:35.602735",
     "status": "completed"
    },
    "tags": []
   },
   "outputs": [],
   "source": [
    "# For each week, calculate the top 20 contributions, turn them into percentages, order them, store the result"
   ]
  },
  {
   "cell_type": "code",
   "execution_count": 17,
   "metadata": {
    "papermill": {
     "duration": 0.222555,
     "end_time": "2019-02-14T22:40:35.941866",
     "exception": false,
     "start_time": "2019-02-14T22:40:35.719311",
     "status": "completed"
    },
    "tags": []
   },
   "outputs": [],
   "source": [
    "monthly = weekly.groupby('user').resample('M', on='date').sum().reset_index()"
   ]
  },
  {
   "cell_type": "code",
   "execution_count": 18,
   "metadata": {
    "papermill": {
     "duration": 0.065537,
     "end_time": "2019-02-14T22:40:36.072474",
     "exception": false,
     "start_time": "2019-02-14T22:40:36.006937",
     "status": "completed"
    },
    "tags": []
   },
   "outputs": [],
   "source": [
    "n_comments_plot = 20"
   ]
  },
  {
   "cell_type": "code",
   "execution_count": 19,
   "metadata": {
    "papermill": {
     "duration": 0.096049,
     "end_time": "2019-02-14T22:40:36.214867",
     "exception": false,
     "start_time": "2019-02-14T22:40:36.118818",
     "status": "completed"
    },
    "tags": []
   },
   "outputs": [],
   "source": [
    "monthly_dist = {}\n",
    "for iweek, ivals in monthly.groupby('date'):\n",
    "    comments_dist = ivals.groupby('user').sum()['comments']\n",
    "    comments_dist = comments_dist / comments_dist.sum()\n",
    "    comments_dist = comments_dist.sort_values(ascending=False)\n",
    "    comments_placeholder = [0] * n_comments_plot\n",
    "\n",
    "    for ii, (iname, ipart) in enumerate(comments_dist.items()):\n",
    "        if ii + 1 > n_comments_plot:\n",
    "            continue\n",
    "        comments_placeholder[ii] = ipart\n",
    "    monthly_dist[iweek] = comments_placeholder"
   ]
  },
  {
   "cell_type": "code",
   "execution_count": 20,
   "metadata": {
    "papermill": {
     "duration": 0.058026,
     "end_time": "2019-02-14T22:40:36.316382",
     "exception": false,
     "start_time": "2019-02-14T22:40:36.258356",
     "status": "completed"
    },
    "tags": []
   },
   "outputs": [],
   "source": [
    "monthly_dist = pd.DataFrame(monthly_dist)\n",
    "# monthly_dist.index.name = 'position'\n",
    "# monthly_dist.columns.name = 'date'\n",
    "# monthly_dist = monthly_dist.stack().reset_index().rename(columns={0: 'dist'})"
   ]
  },
  {
   "cell_type": "code",
   "execution_count": 21,
   "metadata": {
    "papermill": {
     "duration": 0.06012,
     "end_time": "2019-02-14T22:40:36.426726",
     "exception": false,
     "start_time": "2019-02-14T22:40:36.366606",
     "status": "completed"
    },
    "tags": []
   },
   "outputs": [],
   "source": [
    "monthly_dist.columns = monthly_dist.columns.date"
   ]
  },
  {
   "cell_type": "code",
   "execution_count": 22,
   "metadata": {
    "papermill": {
     "duration": 0.071725,
     "end_time": "2019-02-14T22:40:36.543083",
     "exception": false,
     "start_time": "2019-02-14T22:40:36.471358",
     "status": "completed"
    },
    "tags": []
   },
   "outputs": [],
   "source": [
    "from matplotlib import pyplot as plt"
   ]
  },
  {
   "cell_type": "code",
   "execution_count": 23,
   "metadata": {
    "papermill": {
     "duration": 0.505753,
     "end_time": "2019-02-14T22:40:37.095315",
     "exception": false,
     "start_time": "2019-02-14T22:40:36.589562",
     "status": "completed"
    },
    "tags": []
   },
   "outputs": [
    {
     "name": "stderr",
     "output_type": "stream",
     "text": [
      "/home/choldgraf/anaconda/envs/dev/lib/python3.6/site-packages/ipykernel_launcher.py:2: RuntimeWarning: divide by zero encountered in log10\n",
      "  \n"
     ]
    },
    {
     "data": {
      "text/plain": [
       "[Text(114.0, 0.5, 'Rank'),\n",
       " Text(0.5, 1.0, 'Log % Comments over time\\ntop 20 commentors')]"
      ]
     },
     "execution_count": 23,
     "metadata": {},
     "output_type": "execute_result"
    },
    {
     "data": {
      "image/png": "[encoded data removed]",
      "text/plain": [
       "<Figure size 1080x360 with 2 Axes>"
      ]
     },
     "metadata": {},
     "output_type": "display_data"
    }
   ],
   "source": [
    "fig, ax = plt.subplots(figsize=(15, 5))\n",
    "ax = sns.heatmap(np.log10(100 * monthly_dist), vmin=0, vmax=2)\n",
    "ax.set(ylabel=\"Rank\", title=\"Log % Comments over time\\ntop {} commentors\".format(n_comments_plot))"
   ]
  },
  {
   "cell_type": "markdown",
   "metadata": {
    "papermill": {
     "duration": 0.044216,
     "end_time": "2019-02-14T22:40:37.178291",
     "exception": false,
     "start_time": "2019-02-14T22:40:37.134075",
     "status": "completed"
    },
    "tags": []
   },
   "source": [
    "## Correlations between members"
   ]
  },
  {
   "cell_type": "code",
   "execution_count": 24,
   "metadata": {
    "papermill": {
     "duration": 0.051438,
     "end_time": "2019-02-14T22:40:37.274854",
     "exception": false,
     "start_time": "2019-02-14T22:40:37.223416",
     "status": "completed"
    },
    "tags": []
   },
   "outputs": [],
   "source": [
    "correlations = weekly.query(\"user in @plt_users\").set_index(['date', 'user'])['comments'].unstack('user').corr()\n",
    "correlations = correlations.replace(np.nan, 0)"
   ]
  },
  {
   "cell_type": "code",
   "execution_count": 25,
   "metadata": {
    "papermill": {
     "duration": 0.809394,
     "end_time": "2019-02-14T22:40:38.128779",
     "exception": false,
     "start_time": "2019-02-14T22:40:37.319385",
     "status": "completed"
    },
    "tags": []
   },
   "outputs": [
    {
     "data": {
      "text/plain": [
       "<seaborn.matrix.ClusterGrid at 0x7fff18df5fd0>"
      ]
     },
     "execution_count": 25,
     "metadata": {},
     "output_type": "execute_result"
    },
    {
     "data": {
      "image/png": "[encoded data removed]",
      "text/plain": [
       "<Figure size 720x720 with 4 Axes>"
      ]
     },
     "metadata": {},
     "output_type": "display_data"
    }
   ],
   "source": [
    "sns.clustermap(correlations, vmin=-1, vmax=1, cmap='RdYlBu_r')"
   ]
  },
  {
   "cell_type": "code",
   "execution_count": null,
   "metadata": {
    "papermill": {
     "duration": 0.050219,
     "end_time": "2019-02-14T22:40:38.227760",
     "exception": false,
     "start_time": "2019-02-14T22:40:38.177541",
     "status": "completed"
    },
    "tags": []
   },
   "outputs": [],
   "source": []
  }
 ],
 "metadata": {
  "kernelspec": {
   "display_name": "Python 3",
   "language": "python",
   "name": "python3"
  },
  "language_info": {
   "codemirror_mode": {
    "name": "ipython",
    "version": 3
   },
   "file_extension": ".py",
   "mimetype": "text/x-python",
   "name": "python",
   "nbconvert_exporter": "python",
   "pygments_lexer": "ipython3",
   "version": "3.6.5"
  },
  "papermill": {
   "duration": 10.552215,
   "end_time": "2019-02-14T22:40:39.456130",
   "environment_variables": {},
   "exception": null,
   "input_path": "./viz_data.ipynb",
   "output_path": "../reports/viz_data_jupyterhub-the-littlest-jupyterhub.ipynb",
   "parameters": {
    "org": "jupyterhub",
    "plot_N": 20,
    "repo": "the-littlest-jupyterhub"
   },
   "start_time": "2019-02-14T22:40:28.903915",
   "version": "0.18.0"
  }
 },
 "nbformat": 4,
 "nbformat_minor": 2
}