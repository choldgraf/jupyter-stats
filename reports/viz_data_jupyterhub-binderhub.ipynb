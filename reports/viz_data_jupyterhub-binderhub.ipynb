{
 "cells": [
  {
   "cell_type": "markdown",
   "metadata": {
    "papermill": {
     "duration": 0.048908,
     "end_time": "2019-02-14T22:41:04.773597",
     "exception": false,
     "start_time": "2019-02-14T22:41:04.724689",
     "status": "completed"
    },
    "tags": []
   },
   "source": [
    "## Parameters"
   ]
  },
  {
   "cell_type": "code",
   "execution_count": 1,
   "metadata": {
    "papermill": {
     "duration": 0.19364,
     "end_time": "2019-02-14T22:41:05.075409",
     "exception": false,
     "start_time": "2019-02-14T22:41:04.881769",
     "status": "completed"
    },
    "tags": [
     "parameters"
    ]
   },
   "outputs": [],
   "source": [
    "org = 'jupyterhub'\n",
    "repo = 'jupyterhub'\n",
    "plot_N = 25  # Number of lines to add"
   ]
  },
  {
   "cell_type": "code",
   "execution_count": 2,
   "metadata": {
    "papermill": {
     "duration": 0.212152,
     "end_time": "2019-02-14T22:41:05.370047",
     "exception": false,
     "start_time": "2019-02-14T22:41:05.157895",
     "status": "completed"
    },
    "tags": [
     "injected-parameters"
    ]
   },
   "outputs": [],
   "source": [
    "# Parameters\n",
    "org = \"jupyterhub\"\n",
    "repo = \"binderhub\"\n",
    "plot_N = 20\n"
   ]
  },
  {
   "cell_type": "markdown",
   "metadata": {
    "papermill": {
     "duration": 0.197813,
     "end_time": "2019-02-14T22:41:05.691454",
     "exception": false,
     "start_time": "2019-02-14T22:41:05.493641",
     "status": "completed"
    },
    "tags": []
   },
   "source": [
    "## Functions"
   ]
  },
  {
   "cell_type": "code",
   "execution_count": 3,
   "metadata": {
    "papermill": {
     "duration": 0.396145,
     "end_time": "2019-02-14T22:41:06.573875",
     "exception": false,
     "start_time": "2019-02-14T22:41:06.177730",
     "status": "completed"
    },
    "tags": []
   },
   "outputs": [],
   "source": [
    "def selectable_line_plot(data, x, y, color, width=1000):\n",
    "\n",
    "    select = alt.selection(type='single', on='mouseover',\n",
    "                           fields=[color], nearest=True)\n",
    "\n",
    "    base = alt.Chart(data=data, width=width).encode(\n",
    "        x=alt.X(x, scale=alt.Scale(domain=[\"2016-01-01\", \"2019-02-01\"])),\n",
    "        y=y,\n",
    "        color=color,\n",
    "        tooltip=color,\n",
    "    )\n",
    "\n",
    "    points = base.mark_circle(clip=True).encode(\n",
    "        opacity=alt.value(0)\n",
    "    ).add_selection(select)\n",
    "\n",
    "\n",
    "    lines = base.mark_line(clip=True).encode(\n",
    "        size=alt.condition(~select, alt.value(1), alt.value(4)),\n",
    "        color=alt.condition(select, color, alt.value('lightgray'))\n",
    "    )\n",
    "\n",
    "    return points + lines"
   ]
  },
  {
   "cell_type": "markdown",
   "metadata": {
    "papermill": {
     "duration": 0.260958,
     "end_time": "2019-02-14T22:41:06.955004",
     "exception": false,
     "start_time": "2019-02-14T22:41:06.694046",
     "status": "completed"
    },
    "tags": []
   },
   "source": [
    "# Load data"
   ]
  },
  {
   "cell_type": "code",
   "execution_count": 4,
   "metadata": {
    "papermill": {
     "duration": 3.456538,
     "end_time": "2019-02-14T22:41:10.603200",
     "exception": false,
     "start_time": "2019-02-14T22:41:07.146662",
     "status": "completed"
    },
    "tags": []
   },
   "outputs": [],
   "source": [
    "import pandas as pd\n",
    "import seaborn as sns\n",
    "import altair as alt\n",
    "import numpy as np"
   ]
  },
  {
   "cell_type": "code",
   "execution_count": 5,
   "metadata": {
    "papermill": {
     "duration": 0.169527,
     "end_time": "2019-02-14T22:41:10.805209",
     "exception": false,
     "start_time": "2019-02-14T22:41:10.635682",
     "status": "completed"
    },
    "tags": []
   },
   "outputs": [],
   "source": [
    "# Read in data\n",
    "daily = pd.read_csv('../data/daily.csv', index_col=0)\n",
    "\n",
    "# Convert indices to date\n",
    "daily['date'] = pd.to_datetime(daily['date'])\n",
    "daily = daily.query('org == @org and repo == @repo').drop(['org', 'repo'], axis=1)\n",
    "daily = daily.replace(np.nan, 0)"
   ]
  },
  {
   "cell_type": "markdown",
   "metadata": {
    "papermill": {
     "duration": 0.043168,
     "end_time": "2019-02-14T22:41:10.886366",
     "exception": false,
     "start_time": "2019-02-14T22:41:10.843198",
     "status": "completed"
    },
    "tags": []
   },
   "source": [
    "# Features"
   ]
  },
  {
   "cell_type": "code",
   "execution_count": 6,
   "metadata": {
    "papermill": {
     "duration": 0.832993,
     "end_time": "2019-02-14T22:41:11.751445",
     "exception": false,
     "start_time": "2019-02-14T22:41:10.918452",
     "status": "completed"
    },
    "tags": []
   },
   "outputs": [],
   "source": [
    "weekly = daily.groupby('user').resample('W', on='date').sum().reset_index()\n",
    "weekly = weekly.query('commits != 0 or comments != 0')"
   ]
  },
  {
   "cell_type": "code",
   "execution_count": 7,
   "metadata": {
    "papermill": {
     "duration": 0.173796,
     "end_time": "2019-02-14T22:41:11.954479",
     "exception": false,
     "start_time": "2019-02-14T22:41:11.780683",
     "status": "completed"
    },
    "tags": []
   },
   "outputs": [],
   "source": [
    "# Rolling mean\n",
    "weekly = weekly.groupby(['user', 'date']).sum().reset_index().groupby('user').\\\n",
    "    rolling(2, on='date')['comments'].\\\n",
    "    mean().dropna().reset_index()"
   ]
  },
  {
   "cell_type": "code",
   "execution_count": 8,
   "metadata": {
    "papermill": {
     "duration": 0.145043,
     "end_time": "2019-02-14T22:41:12.177395",
     "exception": false,
     "start_time": "2019-02-14T22:41:12.032352",
     "status": "completed"
    },
    "tags": []
   },
   "outputs": [],
   "source": [
    "# Top N commentors over time\n",
    "top_N = weekly.groupby('user').sum()['comments'].sort_values(ascending=False)\n",
    "top_N = top_N.index[:plot_N]"
   ]
  },
  {
   "cell_type": "markdown",
   "metadata": {
    "papermill": {
     "duration": 0.073503,
     "end_time": "2019-02-14T22:41:12.316923",
     "exception": false,
     "start_time": "2019-02-14T22:41:12.243420",
     "status": "completed"
    },
    "tags": []
   },
   "source": [
    "# Plotting"
   ]
  },
  {
   "cell_type": "markdown",
   "metadata": {
    "papermill": {
     "duration": 0.040687,
     "end_time": "2019-02-14T22:41:12.416509",
     "exception": false,
     "start_time": "2019-02-14T22:41:12.375822",
     "status": "completed"
    },
    "tags": []
   },
   "source": [
    "## Weekly unique contributors"
   ]
  },
  {
   "cell_type": "code",
   "execution_count": 9,
   "metadata": {
    "papermill": {
     "duration": 0.08791,
     "end_time": "2019-02-14T22:41:12.544705",
     "exception": false,
     "start_time": "2019-02-14T22:41:12.456795",
     "status": "completed"
    },
    "tags": []
   },
   "outputs": [],
   "source": [
    "unique = weekly[['date', 'user']].copy()\n",
    "unique['user'] = unique['user'].map(lambda a: [a])\n",
    "unique = unique.groupby('date').sum()"
   ]
  },
  {
   "cell_type": "code",
   "execution_count": 10,
   "metadata": {
    "papermill": {
     "duration": 0.160224,
     "end_time": "2019-02-14T22:41:12.776239",
     "exception": false,
     "start_time": "2019-02-14T22:41:12.616015",
     "status": "completed"
    },
    "tags": []
   },
   "outputs": [],
   "source": [
    "all_users = set()\n",
    "nunique = {}\n",
    "for idate, ivals in unique.iterrows():\n",
    "    n_unique_current = len(all_users)\n",
    "    \n",
    "    all_users = all_users.union(ivals[0])\n",
    "    n_unique_new = len(all_users) - n_unique_current\n",
    "    nunique[idate] = n_unique_new\n",
    "unique['new_contributors'] = pd.Series(nunique).values"
   ]
  },
  {
   "cell_type": "code",
   "execution_count": 11,
   "metadata": {
    "papermill": {
     "duration": 0.101925,
     "end_time": "2019-02-14T22:41:12.937612",
     "exception": false,
     "start_time": "2019-02-14T22:41:12.835687",
     "status": "completed"
    },
    "tags": []
   },
   "outputs": [],
   "source": [
    "unique['cumulative'] = unique['new_contributors'].cumsum()"
   ]
  },
  {
   "cell_type": "code",
   "execution_count": 12,
   "metadata": {
    "papermill": {
     "duration": 0.180371,
     "end_time": "2019-02-14T22:41:13.166556",
     "exception": false,
     "start_time": "2019-02-14T22:41:12.986185",
     "status": "completed"
    },
    "tags": []
   },
   "outputs": [
    {
     "data": {
      "application/vnd.vegalite.v2+json": {
       "$schema": "https://vega.github.io/schema/vega-lite/v2.6.0.json",
       "config": {
        "view": {
         "height": 300,
         "width": 400
        }
       },
       "data": {
        "name": "data-5db15477caa3cf831808c6e2066f2fe6"
       },
       "datasets": {
        "data-5db15477caa3cf831808c6e2066f2fe6": [
         {
          "cumulative": 2,
          "date": "2017-05-21T00:00:00",
          "new_contributors": 2,
          "user": [
           "choldgraf",
           "yuvipanda"
          ]
         },
         {
          "cumulative": 4,
          "date": "2017-05-28T00:00:00",
          "new_contributors": 2,
          "user": [
           "choldgraf",
           "minrk",
           "willingc",
           "yuvipanda"
          ]
         },
         {
          "cumulative": 4,
          "date": "2017-06-04T00:00:00",
          "new_contributors": 0,
          "user": [
           "choldgraf",
           "willingc",
           "yuvipanda"
          ]
         },
         {
          "cumulative": 4,
          "date": "2017-06-11T00:00:00",
          "new_contributors": 0,
          "user": [
           "choldgraf",
           "willingc"
          ]
         },
         {
          "cumulative": 4,
          "date": "2017-06-25T00:00:00",
          "new_contributors": 0,
          "user": [
           "choldgraf",
           "minrk",
           "yuvipanda"
          ]
         },
         {
          "cumulative": 4,
          "date": "2017-07-02T00:00:00",
          "new_contributors": 0,
          "user": [
           "choldgraf",
           "yuvipanda"
          ]
         },
         {
          "cumulative": 5,
          "date": "2017-07-09T00:00:00",
          "new_contributors": 1,
          "user": [
           "choldgraf",
           "ellisonbg",
           "willingc",
           "yuvipanda"
          ]
         },
         {
          "cumulative": 5,
          "date": "2017-07-23T00:00:00",
          "new_contributors": 0,
          "user": [
           "choldgraf",
           "minrk",
           "willingc",
           "yuvipanda"
          ]
         },
         {
          "cumulative": 5,
          "date": "2017-07-30T00:00:00",
          "new_contributors": 0,
          "user": [
           "choldgraf",
           "willingc",
           "yuvipanda"
          ]
         },
         {
          "cumulative": 5,
          "date": "2017-08-06T00:00:00",
          "new_contributors": 0,
          "user": [
           "choldgraf",
           "willingc",
           "yuvipanda"
          ]
         },
         {
          "cumulative": 5,
          "date": "2017-08-13T00:00:00",
          "new_contributors": 0,
          "user": [
           "choldgraf",
           "yuvipanda"
          ]
         },
         {
          "cumulative": 6,
          "date": "2017-08-20T00:00:00",
          "new_contributors": 1,
          "user": [
           "charlesfrye",
           "choldgraf",
           "minrk",
           "willingc",
           "yuvipanda"
          ]
         },
         {
          "cumulative": 7,
          "date": "2017-09-03T00:00:00",
          "new_contributors": 1,
          "user": [
           "choldgraf",
           "damianavila",
           "minrk",
           "yuvipanda"
          ]
         },
         {
          "cumulative": 7,
          "date": "2017-09-10T00:00:00",
          "new_contributors": 0,
          "user": [
           "choldgraf",
           "minrk",
           "willingc",
           "yuvipanda"
          ]
         },
         {
          "cumulative": 8,
          "date": "2017-09-17T00:00:00",
          "new_contributors": 1,
          "user": [
           "choldgraf",
           "jakirkham",
           "minrk",
           "yuvipanda"
          ]
         },
         {
          "cumulative": 8,
          "date": "2017-09-24T00:00:00",
          "new_contributors": 0,
          "user": [
           "choldgraf",
           "minrk",
           "yuvipanda"
          ]
         },
         {
          "cumulative": 8,
          "date": "2017-10-01T00:00:00",
          "new_contributors": 0,
          "user": [
           "charlesfrye",
           "choldgraf",
           "ellisonbg",
           "jakirkham",
           "minrk",
           "willingc",
           "yuvipanda"
          ]
         },
         {
          "cumulative": 9,
          "date": "2017-10-08T00:00:00",
          "new_contributors": 1,
          "user": [
           "choldgraf",
           "ellisonbg",
           "minrk",
           "rgbkrk",
           "willingc",
           "yuvipanda"
          ]
         },
         {
          "cumulative": 9,
          "date": "2017-10-15T00:00:00",
          "new_contributors": 0,
          "user": [
           "choldgraf",
           "ellisonbg",
           "minrk",
           "willingc",
           "yuvipanda"
          ]
         },
         {
          "cumulative": 11,
          "date": "2017-10-22T00:00:00",
          "new_contributors": 2,
          "user": [
           "SamLau95",
           "betatim",
           "choldgraf",
           "ellisonbg",
           "minrk",
           "willingc",
           "yuvipanda"
          ]
         },
         {
          "cumulative": 14,
          "date": "2017-10-29T00:00:00",
          "new_contributors": 3,
          "user": [
           "Carreau",
           "betatim",
           "choldgraf",
           "hzarea",
           "minrk",
           "nthiery",
           "willingc",
           "yuvipanda"
          ]
         },
         {
          "cumulative": 16,
          "date": "2017-11-05T00:00:00",
          "new_contributors": 2,
          "user": [
           "Carreau",
           "betatim",
           "choldgraf",
           "ctb",
           "damianavila",
           "ellisonbg",
           "gnestor",
           "hzarea",
           "minrk",
           "willingc",
           "yuvipanda"
          ]
         },
         {
          "cumulative": 17,
          "date": "2017-11-12T00:00:00",
          "new_contributors": 1,
          "user": [
           "Carreau",
           "betatim",
           "choldgraf",
           "ctb",
           "drorata",
           "hzarea",
           "minrk",
           "willingc",
           "yuvipanda"
          ]
         },
         {
          "cumulative": 21,
          "date": "2017-11-19T00:00:00",
          "new_contributors": 4,
          "user": [
           "Carreau",
           "SylvainCorlay",
           "betatim",
           "brooksambrose",
           "choldgraf",
           "drorata",
           "hydrosquall",
           "hzarea",
           "mariusvniekerk",
           "minrk",
           "willingc",
           "yuvipanda"
          ]
         },
         {
          "cumulative": 22,
          "date": "2017-11-26T00:00:00",
          "new_contributors": 1,
          "user": [
           "Carreau",
           "andrewjohnlowe",
           "betatim",
           "choldgraf",
           "drorata",
           "mariusvniekerk",
           "minrk",
           "willingc",
           "yuvipanda"
          ]
         },
         {
          "cumulative": 23,
          "date": "2017-12-03T00:00:00",
          "new_contributors": 1,
          "user": [
           "Carreau",
           "betatim",
           "brooksambrose",
           "choldgraf",
           "jakirkham",
           "jzf2101",
           "mariusvniekerk",
           "minrk",
           "rgbkrk",
           "willingc",
           "yuvipanda"
          ]
         },
         {
          "cumulative": 23,
          "date": "2017-12-10T00:00:00",
          "new_contributors": 0,
          "user": [
           "Carreau",
           "betatim",
           "choldgraf",
           "hzarea",
           "mariusvniekerk",
           "minrk",
           "willingc",
           "yuvipanda"
          ]
         },
         {
          "cumulative": 24,
          "date": "2017-12-17T00:00:00",
          "new_contributors": 1,
          "user": [
           "Carreau",
           "betatim",
           "bitnik",
           "choldgraf",
           "ellisonbg",
           "minrk",
           "rgbkrk",
           "willingc",
           "yuvipanda"
          ]
         },
         {
          "cumulative": 24,
          "date": "2017-12-24T00:00:00",
          "new_contributors": 0,
          "user": [
           "Carreau",
           "betatim",
           "choldgraf",
           "ctb",
           "minrk",
           "rgbkrk",
           "willingc",
           "yuvipanda"
          ]
         },
         {
          "cumulative": 25,
          "date": "2017-12-31T00:00:00",
          "new_contributors": 1,
          "user": [
           "astrofrog",
           "betatim",
           "choldgraf",
           "willingc",
           "yuvipanda"
          ]
         },
         {
          "cumulative": 26,
          "date": "2018-01-07T00:00:00",
          "new_contributors": 1,
          "user": [
           "Carreau",
           "Titan-C",
           "betatim",
           "choldgraf",
           "drorata",
           "minrk",
           "willingc",
           "yuvipanda"
          ]
         },
         {
          "cumulative": 27,
          "date": "2018-01-14T00:00:00",
          "new_contributors": 1,
          "user": [
           "Carreau",
           "SylvainCorlay",
           "Titan-C",
           "astrofrog",
           "betatim",
           "cekees",
           "choldgraf",
           "drorata",
           "minrk",
           "rgbkrk",
           "willingc",
           "yuvipanda"
          ]
         },
         {
          "cumulative": 27,
          "date": "2018-01-21T00:00:00",
          "new_contributors": 0,
          "user": [
           "Carreau",
           "betatim",
           "choldgraf",
           "drorata",
           "ellisonbg",
           "jzf2101",
           "willingc",
           "yuvipanda"
          ]
         },
         {
          "cumulative": 27,
          "date": "2018-01-28T00:00:00",
          "new_contributors": 0,
          "user": [
           "betatim",
           "choldgraf",
           "drorata",
           "ellisonbg",
           "mariusvniekerk",
           "minrk",
           "willingc",
           "yuvipanda"
          ]
         },
         {
          "cumulative": 28,
          "date": "2018-02-04T00:00:00",
          "new_contributors": 1,
          "user": [
           "Carreau",
           "betatim",
           "brooksambrose",
           "choldgraf",
           "ellisonbg",
           "mariusvniekerk",
           "mpacer",
           "yuvipanda"
          ]
         },
         {
          "cumulative": 28,
          "date": "2018-02-11T00:00:00",
          "new_contributors": 0,
          "user": [
           "Carreau",
           "betatim",
           "bitnik",
           "choldgraf",
           "ellisonbg",
           "minrk",
           "yuvipanda"
          ]
         },
         {
          "cumulative": 28,
          "date": "2018-02-18T00:00:00",
          "new_contributors": 0,
          "user": [
           "Carreau",
           "andrewjohnlowe",
           "betatim",
           "choldgraf",
           "ellisonbg",
           "minrk",
           "mpacer",
           "yuvipanda"
          ]
         },
         {
          "cumulative": 28,
          "date": "2018-02-25T00:00:00",
          "new_contributors": 0,
          "user": [
           "betatim",
           "bitnik",
           "choldgraf",
           "minrk",
           "willingc",
           "yuvipanda"
          ]
         },
         {
          "cumulative": 28,
          "date": "2018-03-04T00:00:00",
          "new_contributors": 0,
          "user": [
           "betatim",
           "choldgraf",
           "minrk"
          ]
         },
         {
          "cumulative": 29,
          "date": "2018-03-11T00:00:00",
          "new_contributors": 1,
          "user": [
           "GladysNalvarte",
           "betatim",
           "choldgraf",
           "minrk",
           "willingc"
          ]
         },
         {
          "cumulative": 29,
          "date": "2018-03-18T00:00:00",
          "new_contributors": 0,
          "user": [
           "betatim",
           "bitnik",
           "choldgraf",
           "ctb",
           "minrk"
          ]
         },
         {
          "cumulative": 30,
          "date": "2018-03-25T00:00:00",
          "new_contributors": 1,
          "user": [
           "betatim",
           "choldgraf",
           "djsegal",
           "minrk",
           "willingc"
          ]
         },
         {
          "cumulative": 30,
          "date": "2018-04-01T00:00:00",
          "new_contributors": 0,
          "user": [
           "betatim",
           "bitnik",
           "choldgraf",
           "jzf2101",
           "minrk",
           "nthiery",
           "willingc"
          ]
         },
         {
          "cumulative": 30,
          "date": "2018-04-08T00:00:00",
          "new_contributors": 0,
          "user": [
           "betatim",
           "bitnik",
           "choldgraf",
           "minrk",
           "yuvipanda"
          ]
         },
         {
          "cumulative": 30,
          "date": "2018-04-15T00:00:00",
          "new_contributors": 0,
          "user": [
           "bitnik",
           "choldgraf",
           "mariusvniekerk",
           "minrk",
           "willingc",
           "yuvipanda"
          ]
         },
         {
          "cumulative": 30,
          "date": "2018-04-22T00:00:00",
          "new_contributors": 0,
          "user": [
           "Carreau",
           "betatim",
           "choldgraf",
           "jzf2101",
           "minrk",
           "rgbkrk",
           "willingc",
           "yuvipanda"
          ]
         },
         {
          "cumulative": 32,
          "date": "2018-04-29T00:00:00",
          "new_contributors": 2,
          "user": [
           "betatim",
           "bitnik",
           "choldgraf",
           "consideRatio",
           "jdemeyer",
           "jzf2101",
           "minrk",
           "willingc",
           "yuvipanda"
          ]
         },
         {
          "cumulative": 33,
          "date": "2018-05-06T00:00:00",
          "new_contributors": 1,
          "user": [
           "betatim",
           "bitnik",
           "choldgraf",
           "jzf2101",
           "minrk",
           "mrocklin"
          ]
         },
         {
          "cumulative": 34,
          "date": "2018-05-13T00:00:00",
          "new_contributors": 1,
          "user": [
           "betatim",
           "bitnik",
           "choldgraf",
           "minrk",
           "neprune",
           "willingc"
          ]
         },
         {
          "cumulative": 35,
          "date": "2018-05-20T00:00:00",
          "new_contributors": 1,
          "user": [
           "aborruso",
           "betatim",
           "choldgraf",
           "jzf2101",
           "minrk",
           "willingc"
          ]
         },
         {
          "cumulative": 35,
          "date": "2018-05-27T00:00:00",
          "new_contributors": 0,
          "user": [
           "betatim",
           "choldgraf",
           "jzf2101",
           "minrk",
           "mpacer",
           "rgbkrk",
           "willingc"
          ]
         },
         {
          "cumulative": 35,
          "date": "2018-06-03T00:00:00",
          "new_contributors": 0,
          "user": [
           "betatim",
           "bitnik",
           "choldgraf",
           "minrk",
           "mpacer"
          ]
         },
         {
          "cumulative": 35,
          "date": "2018-06-10T00:00:00",
          "new_contributors": 0,
          "user": [
           "aborruso",
           "betatim",
           "choldgraf",
           "minrk"
          ]
         },
         {
          "cumulative": 35,
          "date": "2018-06-17T00:00:00",
          "new_contributors": 0,
          "user": [
           "betatim",
           "choldgraf",
           "consideRatio",
           "willingc"
          ]
         },
         {
          "cumulative": 35,
          "date": "2018-06-24T00:00:00",
          "new_contributors": 0,
          "user": [
           "betatim",
           "bitnik",
           "choldgraf",
           "minrk",
           "willingc"
          ]
         },
         {
          "cumulative": 35,
          "date": "2018-07-01T00:00:00",
          "new_contributors": 0,
          "user": [
           "betatim",
           "bitnik",
           "choldgraf",
           "jzf2101",
           "minrk",
           "willingc"
          ]
         },
         {
          "cumulative": 35,
          "date": "2018-07-08T00:00:00",
          "new_contributors": 0,
          "user": [
           "betatim",
           "choldgraf",
           "ellisonbg",
           "jzf2101",
           "minrk",
           "willingc",
           "yuvipanda"
          ]
         },
         {
          "cumulative": 35,
          "date": "2018-07-15T00:00:00",
          "new_contributors": 0,
          "user": [
           "SylvainCorlay",
           "betatim",
           "choldgraf",
           "jzf2101",
           "minrk",
           "willingc"
          ]
         },
         {
          "cumulative": 36,
          "date": "2018-07-22T00:00:00",
          "new_contributors": 1,
          "user": [
           "betatim",
           "choldgraf",
           "ctb",
           "jhamman",
           "jzf2101",
           "minrk"
          ]
         },
         {
          "cumulative": 37,
          "date": "2018-07-29T00:00:00",
          "new_contributors": 1,
          "user": [
           "betatim",
           "choldgraf",
           "jhamman",
           "jzf2101",
           "labarba",
           "willingc"
          ]
         },
         {
          "cumulative": 39,
          "date": "2018-08-05T00:00:00",
          "new_contributors": 2,
          "user": [
           "betatim",
           "bitnik",
           "choldgraf",
           "jzf2101",
           "labarba",
           "minrk",
           "ryanlovett",
           "tgeorgeux",
           "willingc"
          ]
         },
         {
          "cumulative": 39,
          "date": "2018-08-12T00:00:00",
          "new_contributors": 0,
          "user": [
           "betatim",
           "bitnik",
           "choldgraf"
          ]
         },
         {
          "cumulative": 40,
          "date": "2018-08-19T00:00:00",
          "new_contributors": 1,
          "user": [
           "Miniland1333",
           "betatim",
           "bitnik",
           "choldgraf",
           "minrk",
           "willingc"
          ]
         },
         {
          "cumulative": 40,
          "date": "2018-08-26T00:00:00",
          "new_contributors": 0,
          "user": [
           "Miniland1333",
           "betatim",
           "bitnik",
           "minrk",
           "rgbkrk"
          ]
         },
         {
          "cumulative": 41,
          "date": "2018-09-02T00:00:00",
          "new_contributors": 1,
          "user": [
           "Carreau",
           "Miniland1333",
           "bitnik",
           "choldgraf",
           "jhamman",
           "minrk",
           "zachetienne"
          ]
         },
         {
          "cumulative": 42,
          "date": "2018-09-09T00:00:00",
          "new_contributors": 1,
          "user": [
           "aborruso",
           "betatim",
           "jzf2101",
           "psychemedia",
           "yuvipanda"
          ]
         },
         {
          "cumulative": 42,
          "date": "2018-09-16T00:00:00",
          "new_contributors": 0,
          "user": [
           "betatim",
           "bitnik",
           "jhamman",
           "minrk"
          ]
         },
         {
          "cumulative": 42,
          "date": "2018-09-23T00:00:00",
          "new_contributors": 0,
          "user": [
           "betatim",
           "bitnik",
           "choldgraf",
           "jhamman",
           "minrk",
           "yuvipanda"
          ]
         },
         {
          "cumulative": 45,
          "date": "2018-09-30T00:00:00",
          "new_contributors": 3,
          "user": [
           "arnim",
           "betatim",
           "bitnik",
           "choldgraf",
           "gouarin",
           "jzf2101",
           "psychemedia",
           "yuvipanda",
           "zymergen-luke"
          ]
         },
         {
          "cumulative": 45,
          "date": "2018-10-07T00:00:00",
          "new_contributors": 0,
          "user": [
           "betatim",
           "bitnik",
           "choldgraf",
           "jhamman",
           "jzf2101",
           "minrk",
           "yuvipanda"
          ]
         },
         {
          "cumulative": 46,
          "date": "2018-10-14T00:00:00",
          "new_contributors": 1,
          "user": [
           "Miniland1333",
           "betatim",
           "bitnik",
           "choldgraf",
           "jhamman",
           "jzf2101",
           "minrk",
           "westurner"
          ]
         },
         {
          "cumulative": 46,
          "date": "2018-10-21T00:00:00",
          "new_contributors": 0,
          "user": [
           "betatim",
           "bitnik",
           "choldgraf",
           "gouarin",
           "jzf2101",
           "psychemedia",
           "willingc"
          ]
         },
         {
          "cumulative": 46,
          "date": "2018-10-28T00:00:00",
          "new_contributors": 0,
          "user": [
           "betatim",
           "choldgraf",
           "jzf2101",
           "minrk",
           "willingc",
           "yuvipanda"
          ]
         },
         {
          "cumulative": 46,
          "date": "2018-11-04T00:00:00",
          "new_contributors": 0,
          "user": [
           "betatim",
           "bitnik",
           "choldgraf",
           "jhamman",
           "minrk",
           "yuvipanda"
          ]
         },
         {
          "cumulative": 46,
          "date": "2018-11-11T00:00:00",
          "new_contributors": 0,
          "user": [
           "betatim",
           "choldgraf",
           "minrk",
           "tgeorgeux",
           "willingc",
           "yuvipanda"
          ]
         },
         {
          "cumulative": 47,
          "date": "2018-11-18T00:00:00",
          "new_contributors": 1,
          "user": [
           "ablekh",
           "betatim",
           "bitnik",
           "choldgraf",
           "jhamman",
           "jzf2101",
           "minrk",
           "willingc",
           "yuvipanda"
          ]
         },
         {
          "cumulative": 47,
          "date": "2018-11-25T00:00:00",
          "new_contributors": 0,
          "user": [
           "betatim",
           "choldgraf",
           "consideRatio",
           "minrk"
          ]
         },
         {
          "cumulative": 47,
          "date": "2018-12-02T00:00:00",
          "new_contributors": 0,
          "user": [
           "arnim",
           "betatim",
           "bitnik",
           "choldgraf",
           "consideRatio",
           "minrk",
           "willingc",
           "yuvipanda"
          ]
         },
         {
          "cumulative": 47,
          "date": "2018-12-09T00:00:00",
          "new_contributors": 0,
          "user": [
           "betatim",
           "minrk",
           "yuvipanda"
          ]
         },
         {
          "cumulative": 48,
          "date": "2018-12-16T00:00:00",
          "new_contributors": 1,
          "user": [
           "betatim",
           "cboettig",
           "choldgraf",
           "minrk"
          ]
         },
         {
          "cumulative": 49,
          "date": "2018-12-23T00:00:00",
          "new_contributors": 1,
          "user": [
           "betatim",
           "jzf2101",
           "sgibson91",
           "yuvipanda"
          ]
         },
         {
          "cumulative": 49,
          "date": "2018-12-30T00:00:00",
          "new_contributors": 0,
          "user": [
           "betatim",
           "choldgraf"
          ]
         },
         {
          "cumulative": 49,
          "date": "2019-01-06T00:00:00",
          "new_contributors": 0,
          "user": [
           "betatim",
           "jhamman"
          ]
         },
         {
          "cumulative": 49,
          "date": "2019-01-13T00:00:00",
          "new_contributors": 0,
          "user": [
           "minrk"
          ]
         },
         {
          "cumulative": 49,
          "date": "2019-01-20T00:00:00",
          "new_contributors": 0,
          "user": [
           "bitnik",
           "gnestor",
           "jhamman",
           "minrk",
           "yuvipanda"
          ]
         },
         {
          "cumulative": 49,
          "date": "2019-01-27T00:00:00",
          "new_contributors": 0,
          "user": [
           "betatim",
           "choldgraf",
           "minrk",
           "rgbkrk",
           "sgibson91",
           "yuvipanda"
          ]
         },
         {
          "cumulative": 50,
          "date": "2019-02-03T00:00:00",
          "new_contributors": 1,
          "user": [
           "betatim",
           "bitnik",
           "captainsafia",
           "choldgraf",
           "consideRatio"
          ]
         },
         {
          "cumulative": 50,
          "date": "2019-02-10T00:00:00",
          "new_contributors": 0,
          "user": [
           "betatim",
           "bitnik",
           "choldgraf",
           "jhamman"
          ]
         },
         {
          "cumulative": 50,
          "date": "2019-02-17T00:00:00",
          "new_contributors": 0,
          "user": [
           "andrewjohnlowe",
           "betatim",
           "captainsafia",
           "choldgraf",
           "minrk",
           "willingc",
           "yuvipanda"
          ]
         }
        ]
       },
       "encoding": {
        "x": {
         "field": "date",
         "type": "temporal"
        },
        "y": {
         "field": "cumulative",
         "type": "quantitative"
        }
       },
       "mark": "line",
       "width": 500
      },
      "text/plain": [
       "<VegaLite 2 object>\n",
       "\n",
       "If you see this message, it means the renderer has not been properly enabled\n",
       "for the frontend that you are using. For more information, see\n",
       "https://altair-viz.github.io/user_guide/troubleshooting.html\n"
      ]
     },
     "execution_count": 12,
     "metadata": {},
     "output_type": "execute_result"
    }
   ],
   "source": [
    "line = alt.Chart(data=unique.reset_index(), width=500).mark_line().encode(x='date', y='cumulative')\n",
    "line"
   ]
  },
  {
   "cell_type": "markdown",
   "metadata": {
    "papermill": {
     "duration": 0.063089,
     "end_time": "2019-02-14T22:41:13.290315",
     "exception": false,
     "start_time": "2019-02-14T22:41:13.227226",
     "status": "completed"
    },
    "tags": []
   },
   "source": [
    "## Comment activity over time"
   ]
  },
  {
   "cell_type": "code",
   "execution_count": 13,
   "metadata": {
    "papermill": {
     "duration": 0.135935,
     "end_time": "2019-02-14T22:41:13.523729",
     "exception": false,
     "start_time": "2019-02-14T22:41:13.387794",
     "status": "completed"
    },
    "tags": []
   },
   "outputs": [],
   "source": [
    "# Select the users we'll plot\n",
    "user_data = weekly.groupby(['user', 'date']).sum().reset_index('user')\n",
    "total_users = user_data.groupby('user')['comments'].sum()\n",
    "plt_users = total_users.sort_values(ascending=False)[:plot_N].index\n",
    "user_data = user_data.query(\"user in @plt_users\")\n",
    "\n",
    "# Drop empty dates\n",
    "user_data = user_data[user_data.sum(1) != 0]"
   ]
  },
  {
   "cell_type": "code",
   "execution_count": 14,
   "metadata": {
    "papermill": {
     "duration": 0.34221,
     "end_time": "2019-02-14T22:41:13.935337",
     "exception": false,
     "start_time": "2019-02-14T22:41:13.593127",
     "status": "completed"
    },
    "tags": []
   },
   "outputs": [
    {
     "data": {
      "application/vnd.vegalite.v2+json": {
       "$schema": "https://vega.github.io/schema/vega-lite/v2.6.0.json",
       "config": {
        "view": {
         "height": 300,
         "width": 400
        }
       },
       "datasets": {
        "data-a365322ce7c12327b0322173bbf24e6f": [
         {
          "comments": 8.5,
          "date": "2017-10-29T00:00:00",
          "user": "Carreau"
         },
         {
          "comments": 5.5,
          "date": "2017-11-05T00:00:00",
          "user": "Carreau"
         },
         {
          "comments": 8.5,
          "date": "2017-11-12T00:00:00",
          "user": "Carreau"
         },
         {
          "comments": 9.5,
          "date": "2017-11-19T00:00:00",
          "user": "Carreau"
         },
         {
          "comments": 5.5,
          "date": "2017-11-26T00:00:00",
          "user": "Carreau"
         },
         {
          "comments": 5.5,
          "date": "2017-12-03T00:00:00",
          "user": "Carreau"
         },
         {
          "comments": 6.5,
          "date": "2017-12-10T00:00:00",
          "user": "Carreau"
         },
         {
          "comments": 10.5,
          "date": "2017-12-17T00:00:00",
          "user": "Carreau"
         },
         {
          "comments": 7.0,
          "date": "2017-12-24T00:00:00",
          "user": "Carreau"
         },
         {
          "comments": 7.5,
          "date": "2018-01-07T00:00:00",
          "user": "Carreau"
         },
         {
          "comments": 12.0,
          "date": "2018-01-14T00:00:00",
          "user": "Carreau"
         },
         {
          "comments": 8.5,
          "date": "2018-01-21T00:00:00",
          "user": "Carreau"
         },
         {
          "comments": 3.5,
          "date": "2018-02-04T00:00:00",
          "user": "Carreau"
         },
         {
          "comments": 2.5,
          "date": "2018-02-11T00:00:00",
          "user": "Carreau"
         },
         {
          "comments": 2.5,
          "date": "2018-02-18T00:00:00",
          "user": "Carreau"
         },
         {
          "comments": 1.0,
          "date": "2018-04-22T00:00:00",
          "user": "Carreau"
         },
         {
          "comments": 1.0,
          "date": "2018-09-02T00:00:00",
          "user": "Carreau"
         },
         {
          "comments": 3.0,
          "date": "2018-08-19T00:00:00",
          "user": "Miniland1333"
         },
         {
          "comments": 4.0,
          "date": "2018-08-26T00:00:00",
          "user": "Miniland1333"
         },
         {
          "comments": 2.5,
          "date": "2018-09-02T00:00:00",
          "user": "Miniland1333"
         },
         {
          "comments": 1.5,
          "date": "2018-10-14T00:00:00",
          "user": "Miniland1333"
         },
         {
          "comments": 3.5,
          "date": "2017-11-26T00:00:00",
          "user": "andrewjohnlowe"
         },
         {
          "comments": 2.0,
          "date": "2018-02-18T00:00:00",
          "user": "andrewjohnlowe"
         },
         {
          "comments": 2.5,
          "date": "2019-02-17T00:00:00",
          "user": "andrewjohnlowe"
         },
         {
          "comments": 2.5,
          "date": "2017-10-22T00:00:00",
          "user": "betatim"
         },
         {
          "comments": 4.0,
          "date": "2017-10-29T00:00:00",
          "user": "betatim"
         },
         {
          "comments": 4.5,
          "date": "2017-11-05T00:00:00",
          "user": "betatim"
         },
         {
          "comments": 8.5,
          "date": "2017-11-12T00:00:00",
          "user": "betatim"
         },
         {
          "comments": 10.5,
          "date": "2017-11-19T00:00:00",
          "user": "betatim"
         },
         {
          "comments": 8.5,
          "date": "2017-11-26T00:00:00",
          "user": "betatim"
         },
         {
          "comments": 8.5,
          "date": "2017-12-03T00:00:00",
          "user": "betatim"
         },
         {
          "comments": 7.5,
          "date": "2017-12-10T00:00:00",
          "user": "betatim"
         },
         {
          "comments": 3.5,
          "date": "2017-12-17T00:00:00",
          "user": "betatim"
         },
         {
          "comments": 7.5,
          "date": "2017-12-24T00:00:00",
          "user": "betatim"
         },
         {
          "comments": 9.0,
          "date": "2017-12-31T00:00:00",
          "user": "betatim"
         },
         {
          "comments": 3.5,
          "date": "2018-01-07T00:00:00",
          "user": "betatim"
         },
         {
          "comments": 4.5,
          "date": "2018-01-14T00:00:00",
          "user": "betatim"
         },
         {
          "comments": 7.0,
          "date": "2018-01-21T00:00:00",
          "user": "betatim"
         },
         {
          "comments": 8.5,
          "date": "2018-01-28T00:00:00",
          "user": "betatim"
         },
         {
          "comments": 5.0,
          "date": "2018-02-04T00:00:00",
          "user": "betatim"
         },
         {
          "comments": 3.0,
          "date": "2018-02-11T00:00:00",
          "user": "betatim"
         },
         {
          "comments": 4.5,
          "date": "2018-02-18T00:00:00",
          "user": "betatim"
         },
         {
          "comments": 4.5,
          "date": "2018-02-25T00:00:00",
          "user": "betatim"
         },
         {
          "comments": 4.5,
          "date": "2018-03-04T00:00:00",
          "user": "betatim"
         },
         {
          "comments": 4.0,
          "date": "2018-03-11T00:00:00",
          "user": "betatim"
         },
         {
          "comments": 3.0,
          "date": "2018-03-18T00:00:00",
          "user": "betatim"
         },
         {
          "comments": 1.5,
          "date": "2018-03-25T00:00:00",
          "user": "betatim"
         },
         {
          "comments": 1.5,
          "date": "2018-04-01T00:00:00",
          "user": "betatim"
         },
         {
          "comments": 4.5,
          "date": "2018-04-08T00:00:00",
          "user": "betatim"
         },
         {
          "comments": 5.0,
          "date": "2018-04-22T00:00:00",
          "user": "betatim"
         },
         {
          "comments": 2.5,
          "date": "2018-04-29T00:00:00",
          "user": "betatim"
         },
         {
          "comments": 2.0,
          "date": "2018-05-06T00:00:00",
          "user": "betatim"
         },
         {
          "comments": 8.0,
          "date": "2018-05-13T00:00:00",
          "user": "betatim"
         },
         {
          "comments": 13.0,
          "date": "2018-05-20T00:00:00",
          "user": "betatim"
         },
         {
          "comments": 9.5,
          "date": "2018-05-27T00:00:00",
          "user": "betatim"
         },
         {
          "comments": 4.0,
          "date": "2018-06-03T00:00:00",
          "user": "betatim"
         },
         {
          "comments": 2.0,
          "date": "2018-06-10T00:00:00",
          "user": "betatim"
         },
         {
          "comments": 4.0,
          "date": "2018-06-17T00:00:00",
          "user": "betatim"
         },
         {
          "comments": 5.0,
          "date": "2018-06-24T00:00:00",
          "user": "betatim"
         },
         {
          "comments": 5.0,
          "date": "2018-07-01T00:00:00",
          "user": "betatim"
         },
         {
          "comments": 4.5,
          "date": "2018-07-08T00:00:00",
          "user": "betatim"
         },
         {
          "comments": 3.0,
          "date": "2018-07-15T00:00:00",
          "user": "betatim"
         },
         {
          "comments": 6.5,
          "date": "2018-07-22T00:00:00",
          "user": "betatim"
         },
         {
          "comments": 7.0,
          "date": "2018-07-29T00:00:00",
          "user": "betatim"
         },
         {
          "comments": 4.5,
          "date": "2018-08-05T00:00:00",
          "user": "betatim"
         },
         {
          "comments": 4.0,
          "date": "2018-08-12T00:00:00",
          "user": "betatim"
         },
         {
          "comments": 6.0,
          "date": "2018-08-19T00:00:00",
          "user": "betatim"
         },
         {
          "comments": 7.0,
          "date": "2018-08-26T00:00:00",
          "user": "betatim"
         },
         {
          "comments": 2.5,
          "date": "2018-09-09T00:00:00",
          "user": "betatim"
         },
         {
          "comments": 1.0,
          "date": "2018-09-16T00:00:00",
          "user": "betatim"
         },
         {
          "comments": 4.5,
          "date": "2018-09-23T00:00:00",
          "user": "betatim"
         },
         {
          "comments": 5.5,
          "date": "2018-09-30T00:00:00",
          "user": "betatim"
         },
         {
          "comments": 4.0,
          "date": "2018-10-07T00:00:00",
          "user": "betatim"
         },
         {
          "comments": 6.0,
          "date": "2018-10-14T00:00:00",
          "user": "betatim"
         },
         {
          "comments": 6.5,
          "date": "2018-10-21T00:00:00",
          "user": "betatim"
         },
         {
          "comments": 4.5,
          "date": "2018-10-28T00:00:00",
          "user": "betatim"
         },
         {
          "comments": 2.0,
          "date": "2018-11-04T00:00:00",
          "user": "betatim"
         },
         {
          "comments": 5.0,
          "date": "2018-11-11T00:00:00",
          "user": "betatim"
         },
         {
          "comments": 14.0,
          "date": "2018-11-18T00:00:00",
          "user": "betatim"
         },
         {
          "comments": 11.0,
          "date": "2018-11-25T00:00:00",
          "user": "betatim"
         },
         {
          "comments": 9.5,
          "date": "2018-12-02T00:00:00",
          "user": "betatim"
         },
         {
          "comments": 9.5,
          "date": "2018-12-09T00:00:00",
          "user": "betatim"
         },
         {
          "comments": 6.5,
          "date": "2018-12-16T00:00:00",
          "user": "betatim"
         },
         {
          "comments": 5.5,
          "date": "2018-12-23T00:00:00",
          "user": "betatim"
         },
         {
          "comments": 1.5,
          "date": "2018-12-30T00:00:00",
          "user": "betatim"
         },
         {
          "comments": 1.5,
          "date": "2019-01-06T00:00:00",
          "user": "betatim"
         },
         {
          "comments": 3.0,
          "date": "2019-01-27T00:00:00",
          "user": "betatim"
         },
         {
          "comments": 3.0,
          "date": "2019-02-03T00:00:00",
          "user": "betatim"
         },
         {
          "comments": 1.5,
          "date": "2019-02-10T00:00:00",
          "user": "betatim"
         },
         {
          "comments": 4.5,
          "date": "2019-02-17T00:00:00",
          "user": "betatim"
         },
         {
          "comments": 1.0,
          "date": "2017-12-17T00:00:00",
          "user": "bitnik"
         },
         {
          "comments": 1.0,
          "date": "2018-02-11T00:00:00",
          "user": "bitnik"
         },
         {
          "comments": 1.0,
          "date": "2018-02-25T00:00:00",
          "user": "bitnik"
         },
         {
          "comments": 2.0,
          "date": "2018-03-18T00:00:00",
          "user": "bitnik"
         },
         {
          "comments": 2.5,
          "date": "2018-04-01T00:00:00",
          "user": "bitnik"
         },
         {
          "comments": 2.5,
          "date": "2018-04-08T00:00:00",
          "user": "bitnik"
         },
         {
          "comments": 2.0,
          "date": "2018-04-15T00:00:00",
          "user": "bitnik"
         },
         {
          "comments": 1.5,
          "date": "2018-04-29T00:00:00",
          "user": "bitnik"
         },
         {
          "comments": 3.0,
          "date": "2018-05-06T00:00:00",
          "user": "bitnik"
         },
         {
          "comments": 2.5,
          "date": "2018-05-13T00:00:00",
          "user": "bitnik"
         },
         {
          "comments": 1.0,
          "date": "2018-06-03T00:00:00",
          "user": "bitnik"
         },
         {
          "comments": 1.5,
          "date": "2018-06-24T00:00:00",
          "user": "bitnik"
         },
         {
          "comments": 1.5,
          "date": "2018-07-01T00:00:00",
          "user": "bitnik"
         },
         {
          "comments": 1.0,
          "date": "2018-08-05T00:00:00",
          "user": "bitnik"
         },
         {
          "comments": 1.0,
          "date": "2018-08-12T00:00:00",
          "user": "bitnik"
         },
         {
          "comments": 1.0,
          "date": "2018-08-19T00:00:00",
          "user": "bitnik"
         },
         {
          "comments": 1.0,
          "date": "2018-08-26T00:00:00",
          "user": "bitnik"
         },
         {
          "comments": 2.5,
          "date": "2018-09-02T00:00:00",
          "user": "bitnik"
         },
         {
          "comments": 4.0,
          "date": "2018-09-16T00:00:00",
          "user": "bitnik"
         },
         {
          "comments": 3.5,
          "date": "2018-09-23T00:00:00",
          "user": "bitnik"
         },
         {
          "comments": 2.5,
          "date": "2018-09-30T00:00:00",
          "user": "bitnik"
         },
         {
          "comments": 3.5,
          "date": "2018-10-07T00:00:00",
          "user": "bitnik"
         },
         {
          "comments": 3.5,
          "date": "2018-10-14T00:00:00",
          "user": "bitnik"
         },
         {
          "comments": 1.5,
          "date": "2018-10-21T00:00:00",
          "user": "bitnik"
         },
         {
          "comments": 2.0,
          "date": "2018-11-04T00:00:00",
          "user": "bitnik"
         },
         {
          "comments": 2.0,
          "date": "2018-11-18T00:00:00",
          "user": "bitnik"
         },
         {
          "comments": 4.0,
          "date": "2018-12-02T00:00:00",
          "user": "bitnik"
         },
         {
          "comments": 5.5,
          "date": "2019-01-20T00:00:00",
          "user": "bitnik"
         },
         {
          "comments": 3.5,
          "date": "2019-02-03T00:00:00",
          "user": "bitnik"
         },
         {
          "comments": 2.0,
          "date": "2019-02-10T00:00:00",
          "user": "bitnik"
         },
         {
          "comments": 4.0,
          "date": "2017-11-19T00:00:00",
          "user": "brooksambrose"
         },
         {
          "comments": 3.0,
          "date": "2017-12-03T00:00:00",
          "user": "brooksambrose"
         },
         {
          "comments": 3.5,
          "date": "2018-02-04T00:00:00",
          "user": "brooksambrose"
         },
         {
          "comments": 8.0,
          "date": "2017-05-21T00:00:00",
          "user": "choldgraf"
         },
         {
          "comments": 11.0,
          "date": "2017-05-28T00:00:00",
          "user": "choldgraf"
         },
         {
          "comments": 11.0,
          "date": "2017-06-04T00:00:00",
          "user": "choldgraf"
         },
         {
          "comments": 7.0,
          "date": "2017-06-11T00:00:00",
          "user": "choldgraf"
         },
         {
          "comments": 1.5,
          "date": "2017-06-25T00:00:00",
          "user": "choldgraf"
         },
         {
          "comments": 4.5,
          "date": "2017-07-02T00:00:00",
          "user": "choldgraf"
         },
         {
          "comments": 8.0,
          "date": "2017-07-09T00:00:00",
          "user": "choldgraf"
         },
         {
          "comments": 5.5,
          "date": "2017-07-23T00:00:00",
          "user": "choldgraf"
         },
         {
          "comments": 2.0,
          "date": "2017-07-30T00:00:00",
          "user": "choldgraf"
         },
         {
          "comments": 2.5,
          "date": "2017-08-06T00:00:00",
          "user": "choldgraf"
         },
         {
          "comments": 2.5,
          "date": "2017-08-13T00:00:00",
          "user": "choldgraf"
         },
         {
          "comments": 13.5,
          "date": "2017-08-20T00:00:00",
          "user": "choldgraf"
         },
         {
          "comments": 16.0,
          "date": "2017-09-03T00:00:00",
          "user": "choldgraf"
         },
         {
          "comments": 9.5,
          "date": "2017-09-10T00:00:00",
          "user": "choldgraf"
         },
         {
          "comments": 10.5,
          "date": "2017-09-17T00:00:00",
          "user": "choldgraf"
         },
         {
          "comments": 7.0,
          "date": "2017-09-24T00:00:00",
          "user": "choldgraf"
         },
         {
          "comments": 7.0,
          "date": "2017-10-01T00:00:00",
          "user": "choldgraf"
         },
         {
          "comments": 15.0,
          "date": "2017-10-08T00:00:00",
          "user": "choldgraf"
         },
         {
          "comments": 11.5,
          "date": "2017-10-15T00:00:00",
          "user": "choldgraf"
         },
         {
          "comments": 8.0,
          "date": "2017-10-22T00:00:00",
          "user": "choldgraf"
         },
         {
          "comments": 16.5,
          "date": "2017-10-29T00:00:00",
          "user": "choldgraf"
         },
         {
          "comments": 18.0,
          "date": "2017-11-05T00:00:00",
          "user": "choldgraf"
         },
         {
          "comments": 20.5,
          "date": "2017-11-12T00:00:00",
          "user": "choldgraf"
         },
         {
          "comments": 24.5,
          "date": "2017-11-19T00:00:00",
          "user": "choldgraf"
         },
         {
          "comments": 18.0,
          "date": "2017-11-26T00:00:00",
          "user": "choldgraf"
         },
         {
          "comments": 24.5,
          "date": "2017-12-03T00:00:00",
          "user": "choldgraf"
         },
         {
          "comments": 30.5,
          "date": "2017-12-10T00:00:00",
          "user": "choldgraf"
         },
         {
          "comments": 21.5,
          "date": "2017-12-17T00:00:00",
          "user": "choldgraf"
         },
         {
          "comments": 19.5,
          "date": "2017-12-24T00:00:00",
          "user": "choldgraf"
         },
         {
          "comments": 20.0,
          "date": "2017-12-31T00:00:00",
          "user": "choldgraf"
         },
         {
          "comments": 24.0,
          "date": "2018-01-07T00:00:00",
          "user": "choldgraf"
         },
         {
          "comments": 32.0,
          "date": "2018-01-14T00:00:00",
          "user": "choldgraf"
         },
         {
          "comments": 26.5,
          "date": "2018-01-21T00:00:00",
          "user": "choldgraf"
         },
         {
          "comments": 20.0,
          "date": "2018-01-28T00:00:00",
          "user": "choldgraf"
         },
         {
          "comments": 20.0,
          "date": "2018-02-04T00:00:00",
          "user": "choldgraf"
         },
         {
          "comments": 20.5,
          "date": "2018-02-11T00:00:00",
          "user": "choldgraf"
         },
         {
          "comments": 18.5,
          "date": "2018-02-18T00:00:00",
          "user": "choldgraf"
         },
         {
          "comments": 9.5,
          "date": "2018-02-25T00:00:00",
          "user": "choldgraf"
         },
         {
          "comments": 6.0,
          "date": "2018-03-04T00:00:00",
          "user": "choldgraf"
         },
         {
          "comments": 3.5,
          "date": "2018-03-11T00:00:00",
          "user": "choldgraf"
         },
         {
          "comments": 5.5,
          "date": "2018-03-18T00:00:00",
          "user": "choldgraf"
         },
         {
          "comments": 7.5,
          "date": "2018-03-25T00:00:00",
          "user": "choldgraf"
         },
         {
          "comments": 6.0,
          "date": "2018-04-01T00:00:00",
          "user": "choldgraf"
         },
         {
          "comments": 5.0,
          "date": "2018-04-08T00:00:00",
          "user": "choldgraf"
         },
         {
          "comments": 11.5,
          "date": "2018-04-15T00:00:00",
          "user": "choldgraf"
         },
         {
          "comments": 14.0,
          "date": "2018-04-22T00:00:00",
          "user": "choldgraf"
         },
         {
          "comments": 16.5,
          "date": "2018-04-29T00:00:00",
          "user": "choldgraf"
         },
         {
          "comments": 18.0,
          "date": "2018-05-06T00:00:00",
          "user": "choldgraf"
         },
         {
          "comments": 11.0,
          "date": "2018-05-13T00:00:00",
          "user": "choldgraf"
         },
         {
          "comments": 11.5,
          "date": "2018-05-20T00:00:00",
          "user": "choldgraf"
         },
         {
          "comments": 16.0,
          "date": "2018-05-27T00:00:00",
          "user": "choldgraf"
         },
         {
          "comments": 10.0,
          "date": "2018-06-03T00:00:00",
          "user": "choldgraf"
         },
         {
          "comments": 4.5,
          "date": "2018-06-10T00:00:00",
          "user": "choldgraf"
         },
         {
          "comments": 8.0,
          "date": "2018-06-17T00:00:00",
          "user": "choldgraf"
         },
         {
          "comments": 6.5,
          "date": "2018-06-24T00:00:00",
          "user": "choldgraf"
         },
         {
          "comments": 4.5,
          "date": "2018-07-01T00:00:00",
          "user": "choldgraf"
         },
         {
          "comments": 4.0,
          "date": "2018-07-08T00:00:00",
          "user": "choldgraf"
         },
         {
          "comments": 3.5,
          "date": "2018-07-15T00:00:00",
          "user": "choldgraf"
         },
         {
          "comments": 4.5,
          "date": "2018-07-22T00:00:00",
          "user": "choldgraf"
         },
         {
          "comments": 7.0,
          "date": "2018-07-29T00:00:00",
          "user": "choldgraf"
         },
         {
          "comments": 8.0,
          "date": "2018-08-05T00:00:00",
          "user": "choldgraf"
         },
         {
          "comments": 4.5,
          "date": "2018-08-12T00:00:00",
          "user": "choldgraf"
         },
         {
          "comments": 2.5,
          "date": "2018-08-19T00:00:00",
          "user": "choldgraf"
         },
         {
          "comments": 3.0,
          "date": "2018-09-02T00:00:00",
          "user": "choldgraf"
         },
         {
          "comments": 4.0,
          "date": "2018-09-23T00:00:00",
          "user": "choldgraf"
         },
         {
          "comments": 4.0,
          "date": "2018-09-30T00:00:00",
          "user": "choldgraf"
         },
         {
          "comments": 3.0,
          "date": "2018-10-07T00:00:00",
          "user": "choldgraf"
         },
         {
          "comments": 4.0,
          "date": "2018-10-14T00:00:00",
          "user": "choldgraf"
         },
         {
          "comments": 6.5,
          "date": "2018-10-21T00:00:00",
          "user": "choldgraf"
         },
         {
          "comments": 7.0,
          "date": "2018-10-28T00:00:00",
          "user": "choldgraf"
         },
         {
          "comments": 3.0,
          "date": "2018-11-04T00:00:00",
          "user": "choldgraf"
         },
         {
          "comments": 12.0,
          "date": "2018-11-11T00:00:00",
          "user": "choldgraf"
         },
         {
          "comments": 23.0,
          "date": "2018-11-18T00:00:00",
          "user": "choldgraf"
         },
         {
          "comments": 12.0,
          "date": "2018-11-25T00:00:00",
          "user": "choldgraf"
         },
         {
          "comments": 2.5,
          "date": "2018-12-02T00:00:00",
          "user": "choldgraf"
         },
         {
          "comments": 4.5,
          "date": "2018-12-16T00:00:00",
          "user": "choldgraf"
         },
         {
          "comments": 3.0,
          "date": "2018-12-30T00:00:00",
          "user": "choldgraf"
         },
         {
          "comments": 3.0,
          "date": "2019-01-27T00:00:00",
          "user": "choldgraf"
         },
         {
          "comments": 5.5,
          "date": "2019-02-03T00:00:00",
          "user": "choldgraf"
         },
         {
          "comments": 4.5,
          "date": "2019-02-10T00:00:00",
          "user": "choldgraf"
         },
         {
          "comments": 4.0,
          "date": "2019-02-17T00:00:00",
          "user": "choldgraf"
         },
         {
          "comments": 1.0,
          "date": "2018-04-29T00:00:00",
          "user": "consideRatio"
         },
         {
          "comments": 1.0,
          "date": "2018-06-17T00:00:00",
          "user": "consideRatio"
         },
         {
          "comments": 2.0,
          "date": "2018-11-25T00:00:00",
          "user": "consideRatio"
         },
         {
          "comments": 3.0,
          "date": "2018-12-02T00:00:00",
          "user": "consideRatio"
         },
         {
          "comments": 2.0,
          "date": "2019-02-03T00:00:00",
          "user": "consideRatio"
         },
         {
          "comments": 3.5,
          "date": "2017-11-05T00:00:00",
          "user": "ctb"
         },
         {
          "comments": 3.5,
          "date": "2017-11-12T00:00:00",
          "user": "ctb"
         },
         {
          "comments": 1.5,
          "date": "2017-12-24T00:00:00",
          "user": "ctb"
         },
         {
          "comments": 1.5,
          "date": "2018-03-18T00:00:00",
          "user": "ctb"
         },
         {
          "comments": 1.5,
          "date": "2018-07-22T00:00:00",
          "user": "ctb"
         },
         {
          "comments": 3.0,
          "date": "2017-11-12T00:00:00",
          "user": "drorata"
         },
         {
          "comments": 3.0,
          "date": "2017-11-19T00:00:00",
          "user": "drorata"
         },
         {
          "comments": 2.0,
          "date": "2017-11-26T00:00:00",
          "user": "drorata"
         },
         {
          "comments": 2.5,
          "date": "2018-01-07T00:00:00",
          "user": "drorata"
         },
         {
          "comments": 4.5,
          "date": "2018-01-14T00:00:00",
          "user": "drorata"
         },
         {
          "comments": 3.5,
          "date": "2018-01-21T00:00:00",
          "user": "drorata"
         },
         {
          "comments": 1.5,
          "date": "2018-01-28T00:00:00",
          "user": "drorata"
         },
         {
          "comments": 3.0,
          "date": "2017-07-09T00:00:00",
          "user": "ellisonbg"
         },
         {
          "comments": 8.0,
          "date": "2017-10-01T00:00:00",
          "user": "ellisonbg"
         },
         {
          "comments": 10.0,
          "date": "2017-10-08T00:00:00",
          "user": "ellisonbg"
         },
         {
          "comments": 4.5,
          "date": "2017-10-15T00:00:00",
          "user": "ellisonbg"
         },
         {
          "comments": 1.5,
          "date": "2017-10-22T00:00:00",
          "user": "ellisonbg"
         },
         {
          "comments": 2.5,
          "date": "2017-11-05T00:00:00",
          "user": "ellisonbg"
         },
         {
          "comments": 3.5,
          "date": "2017-12-17T00:00:00",
          "user": "ellisonbg"
         },
         {
          "comments": 2.5,
          "date": "2018-01-21T00:00:00",
          "user": "ellisonbg"
         },
         {
          "comments": 2.5,
          "date": "2018-01-28T00:00:00",
          "user": "ellisonbg"
         },
         {
          "comments": 2.0,
          "date": "2018-02-04T00:00:00",
          "user": "ellisonbg"
         },
         {
          "comments": 1.5,
          "date": "2018-02-11T00:00:00",
          "user": "ellisonbg"
         },
         {
          "comments": 1.5,
          "date": "2018-02-18T00:00:00",
          "user": "ellisonbg"
         },
         {
          "comments": 1.0,
          "date": "2018-07-08T00:00:00",
          "user": "ellisonbg"
         },
         {
          "comments": 3.0,
          "date": "2017-09-17T00:00:00",
          "user": "jakirkham"
         },
         {
          "comments": 2.5,
          "date": "2017-10-01T00:00:00",
          "user": "jakirkham"
         },
         {
          "comments": 2.0,
          "date": "2017-12-03T00:00:00",
          "user": "jakirkham"
         },
         {
          "comments": 1.0,
          "date": "2018-07-22T00:00:00",
          "user": "jhamman"
         },
         {
          "comments": 1.0,
          "date": "2018-07-29T00:00:00",
          "user": "jhamman"
         },
         {
          "comments": 1.5,
          "date": "2018-09-02T00:00:00",
          "user": "jhamman"
         },
         {
          "comments": 1.5,
          "date": "2018-09-16T00:00:00",
          "user": "jhamman"
         },
         {
          "comments": 1.5,
          "date": "2018-09-23T00:00:00",
          "user": "jhamman"
         },
         {
          "comments": 2.5,
          "date": "2018-10-07T00:00:00",
          "user": "jhamman"
         },
         {
          "comments": 2.0,
          "date": "2018-10-14T00:00:00",
          "user": "jhamman"
         },
         {
          "comments": 1.0,
          "date": "2018-11-04T00:00:00",
          "user": "jhamman"
         },
         {
          "comments": 2.0,
          "date": "2018-11-18T00:00:00",
          "user": "jhamman"
         },
         {
          "comments": 2.5,
          "date": "2019-01-06T00:00:00",
          "user": "jhamman"
         },
         {
          "comments": 2.5,
          "date": "2019-01-20T00:00:00",
          "user": "jhamman"
         },
         {
          "comments": 2.0,
          "date": "2019-02-10T00:00:00",
          "user": "jhamman"
         },
         {
          "comments": 1.5,
          "date": "2017-12-03T00:00:00",
          "user": "jzf2101"
         },
         {
          "comments": 1.0,
          "date": "2018-01-21T00:00:00",
          "user": "jzf2101"
         },
         {
          "comments": 1.0,
          "date": "2018-04-01T00:00:00",
          "user": "jzf2101"
         },
         {
          "comments": 1.0,
          "date": "2018-04-22T00:00:00",
          "user": "jzf2101"
         },
         {
          "comments": 2.0,
          "date": "2018-04-29T00:00:00",
          "user": "jzf2101"
         },
         {
          "comments": 2.5,
          "date": "2018-05-06T00:00:00",
          "user": "jzf2101"
         },
         {
          "comments": 1.5,
          "date": "2018-05-20T00:00:00",
          "user": "jzf2101"
         },
         {
          "comments": 1.5,
          "date": "2018-05-27T00:00:00",
          "user": "jzf2101"
         },
         {
          "comments": 1.5,
          "date": "2018-07-01T00:00:00",
          "user": "jzf2101"
         },
         {
          "comments": 1.0,
          "date": "2018-07-08T00:00:00",
          "user": "jzf2101"
         },
         {
          "comments": 1.0,
          "date": "2018-07-15T00:00:00",
          "user": "jzf2101"
         },
         {
          "comments": 1.0,
          "date": "2018-07-22T00:00:00",
          "user": "jzf2101"
         },
         {
          "comments": 2.5,
          "date": "2018-07-29T00:00:00",
          "user": "jzf2101"
         },
         {
          "comments": 4.0,
          "date": "2018-08-05T00:00:00",
          "user": "jzf2101"
         },
         {
          "comments": 2.5,
          "date": "2018-09-09T00:00:00",
          "user": "jzf2101"
         },
         {
          "comments": 1.0,
          "date": "2018-09-30T00:00:00",
          "user": "jzf2101"
         },
         {
          "comments": 1.0,
          "date": "2018-10-07T00:00:00",
          "user": "jzf2101"
         },
         {
          "comments": 2.0,
          "date": "2018-10-14T00:00:00",
          "user": "jzf2101"
         },
         {
          "comments": 3.5,
          "date": "2018-10-21T00:00:00",
          "user": "jzf2101"
         },
         {
          "comments": 2.5,
          "date": "2018-10-28T00:00:00",
          "user": "jzf2101"
         },
         {
          "comments": 1.0,
          "date": "2018-11-18T00:00:00",
          "user": "jzf2101"
         },
         {
          "comments": 1.0,
          "date": "2018-12-23T00:00:00",
          "user": "jzf2101"
         },
         {
          "comments": 3.0,
          "date": "2017-11-19T00:00:00",
          "user": "mariusvniekerk"
         },
         {
          "comments": 3.5,
          "date": "2017-11-26T00:00:00",
          "user": "mariusvniekerk"
         },
         {
          "comments": 3.0,
          "date": "2017-12-03T00:00:00",
          "user": "mariusvniekerk"
         },
         {
          "comments": 2.0,
          "date": "2017-12-10T00:00:00",
          "user": "mariusvniekerk"
         },
         {
          "comments": 1.0,
          "date": "2018-01-28T00:00:00",
          "user": "mariusvniekerk"
         },
         {
          "comments": 1.0,
          "date": "2018-02-04T00:00:00",
          "user": "mariusvniekerk"
         },
         {
          "comments": 1.0,
          "date": "2018-04-15T00:00:00",
          "user": "mariusvniekerk"
         },
         {
          "comments": 2.5,
          "date": "2017-05-28T00:00:00",
          "user": "minrk"
         },
         {
          "comments": 1.5,
          "date": "2017-06-25T00:00:00",
          "user": "minrk"
         },
         {
          "comments": 1.0,
          "date": "2017-07-23T00:00:00",
          "user": "minrk"
         },
         {
          "comments": 1.5,
          "date": "2017-08-20T00:00:00",
          "user": "minrk"
         },
         {
          "comments": 1.5,
          "date": "2017-09-03T00:00:00",
          "user": "minrk"
         },
         {
          "comments": 3.5,
          "date": "2017-09-10T00:00:00",
          "user": "minrk"
         },
         {
          "comments": 5.0,
          "date": "2017-09-17T00:00:00",
          "user": "minrk"
         },
         {
          "comments": 4.0,
          "date": "2017-09-24T00:00:00",
          "user": "minrk"
         },
         {
          "comments": 7.5,
          "date": "2017-10-01T00:00:00",
          "user": "minrk"
         },
         {
          "comments": 16.5,
          "date": "2017-10-08T00:00:00",
          "user": "minrk"
         },
         {
          "comments": 16.5,
          "date": "2017-10-15T00:00:00",
          "user": "minrk"
         },
         {
          "comments": 7.0,
          "date": "2017-10-22T00:00:00",
          "user": "minrk"
         },
         {
          "comments": 2.0,
          "date": "2017-10-29T00:00:00",
          "user": "minrk"
         },
         {
          "comments": 4.0,
          "date": "2017-11-05T00:00:00",
          "user": "minrk"
         },
         {
          "comments": 5.0,
          "date": "2017-11-12T00:00:00",
          "user": "minrk"
         },
         {
          "comments": 10.5,
          "date": "2017-11-19T00:00:00",
          "user": "minrk"
         },
         {
          "comments": 15.0,
          "date": "2017-11-26T00:00:00",
          "user": "minrk"
         },
         {
          "comments": 10.0,
          "date": "2017-12-03T00:00:00",
          "user": "minrk"
         },
         {
          "comments": 6.0,
          "date": "2017-12-10T00:00:00",
          "user": "minrk"
         },
         {
          "comments": 8.0,
          "date": "2017-12-17T00:00:00",
          "user": "minrk"
         },
         {
          "comments": 8.5,
          "date": "2017-12-24T00:00:00",
          "user": "minrk"
         },
         {
          "comments": 7.5,
          "date": "2018-01-07T00:00:00",
          "user": "minrk"
         },
         {
          "comments": 6.5,
          "date": "2018-01-14T00:00:00",
          "user": "minrk"
         },
         {
          "comments": 2.0,
          "date": "2018-01-28T00:00:00",
          "user": "minrk"
         },
         {
          "comments": 1.5,
          "date": "2018-02-11T00:00:00",
          "user": "minrk"
         },
         {
          "comments": 2.0,
          "date": "2018-02-18T00:00:00",
          "user": "minrk"
         },
         {
          "comments": 5.0,
          "date": "2018-02-25T00:00:00",
          "user": "minrk"
         },
         {
          "comments": 4.5,
          "date": "2018-03-04T00:00:00",
          "user": "minrk"
         },
         {
          "comments": 6.0,
          "date": "2018-03-11T00:00:00",
          "user": "minrk"
         },
         {
          "comments": 10.5,
          "date": "2018-03-18T00:00:00",
          "user": "minrk"
         },
         {
          "comments": 7.5,
          "date": "2018-03-25T00:00:00",
          "user": "minrk"
         },
         {
          "comments": 3.5,
          "date": "2018-04-01T00:00:00",
          "user": "minrk"
         },
         {
          "comments": 6.5,
          "date": "2018-04-08T00:00:00",
          "user": "minrk"
         },
         {
          "comments": 8.5,
          "date": "2018-04-15T00:00:00",
          "user": "minrk"
         },
         {
          "comments": 4.5,
          "date": "2018-04-22T00:00:00",
          "user": "minrk"
         },
         {
          "comments": 6.0,
          "date": "2018-04-29T00:00:00",
          "user": "minrk"
         },
         {
          "comments": 6.5,
          "date": "2018-05-06T00:00:00",
          "user": "minrk"
         },
         {
          "comments": 3.0,
          "date": "2018-05-13T00:00:00",
          "user": "minrk"
         },
         {
          "comments": 2.5,
          "date": "2018-05-20T00:00:00",
          "user": "minrk"
         },
         {
          "comments": 2.5,
          "date": "2018-05-27T00:00:00",
          "user": "minrk"
         },
         {
          "comments": 2.0,
          "date": "2018-06-03T00:00:00",
          "user": "minrk"
         },
         {
          "comments": 1.5,
          "date": "2018-06-10T00:00:00",
          "user": "minrk"
         },
         {
          "comments": 1.5,
          "date": "2018-06-24T00:00:00",
          "user": "minrk"
         },
         {
          "comments": 3.5,
          "date": "2018-07-01T00:00:00",
          "user": "minrk"
         },
         {
          "comments": 4.5,
          "date": "2018-07-08T00:00:00",
          "user": "minrk"
         },
         {
          "comments": 2.5,
          "date": "2018-07-15T00:00:00",
          "user": "minrk"
         },
         {
          "comments": 1.0,
          "date": "2018-07-22T00:00:00",
          "user": "minrk"
         },
         {
          "comments": 1.5,
          "date": "2018-08-05T00:00:00",
          "user": "minrk"
         },
         {
          "comments": 2.0,
          "date": "2018-08-19T00:00:00",
          "user": "minrk"
         },
         {
          "comments": 2.0,
          "date": "2018-08-26T00:00:00",
          "user": "minrk"
         },
         {
          "comments": 1.5,
          "date": "2018-09-02T00:00:00",
          "user": "minrk"
         },
         {
          "comments": 1.5,
          "date": "2018-09-16T00:00:00",
          "user": "minrk"
         },
         {
          "comments": 3.5,
          "date": "2018-09-23T00:00:00",
          "user": "minrk"
         },
         {
          "comments": 5.5,
          "date": "2018-10-07T00:00:00",
          "user": "minrk"
         },
         {
          "comments": 5.5,
          "date": "2018-10-14T00:00:00",
          "user": "minrk"
         },
         {
          "comments": 4.5,
          "date": "2018-10-28T00:00:00",
          "user": "minrk"
         },
         {
          "comments": 3.5,
          "date": "2018-11-04T00:00:00",
          "user": "minrk"
         },
         {
          "comments": 4.5,
          "date": "2018-11-11T00:00:00",
          "user": "minrk"
         },
         {
          "comments": 4.5,
          "date": "2018-11-18T00:00:00",
          "user": "minrk"
         },
         {
          "comments": 2.5,
          "date": "2018-11-25T00:00:00",
          "user": "minrk"
         },
         {
          "comments": 2.5,
          "date": "2018-12-02T00:00:00",
          "user": "minrk"
         },
         {
          "comments": 3.5,
          "date": "2018-12-09T00:00:00",
          "user": "minrk"
         },
         {
          "comments": 3.0,
          "date": "2018-12-16T00:00:00",
          "user": "minrk"
         },
         {
          "comments": 1.5,
          "date": "2019-01-13T00:00:00",
          "user": "minrk"
         },
         {
          "comments": 2.0,
          "date": "2019-01-20T00:00:00",
          "user": "minrk"
         },
         {
          "comments": 2.5,
          "date": "2019-01-27T00:00:00",
          "user": "minrk"
         },
         {
          "comments": 1.0,
          "date": "2019-02-17T00:00:00",
          "user": "minrk"
         },
         {
          "comments": 2.0,
          "date": "2018-02-04T00:00:00",
          "user": "mpacer"
         },
         {
          "comments": 4.0,
          "date": "2018-02-18T00:00:00",
          "user": "mpacer"
         },
         {
          "comments": 4.5,
          "date": "2018-05-27T00:00:00",
          "user": "mpacer"
         },
         {
          "comments": 2.5,
          "date": "2018-06-03T00:00:00",
          "user": "mpacer"
         },
         {
          "comments": 1.0,
          "date": "2017-10-08T00:00:00",
          "user": "rgbkrk"
         },
         {
          "comments": 1.0,
          "date": "2017-12-03T00:00:00",
          "user": "rgbkrk"
         },
         {
          "comments": 1.5,
          "date": "2017-12-17T00:00:00",
          "user": "rgbkrk"
         },
         {
          "comments": 1.5,
          "date": "2017-12-24T00:00:00",
          "user": "rgbkrk"
         },
         {
          "comments": 1.0,
          "date": "2018-01-14T00:00:00",
          "user": "rgbkrk"
         },
         {
          "comments": 1.0,
          "date": "2018-04-22T00:00:00",
          "user": "rgbkrk"
         },
         {
          "comments": 1.0,
          "date": "2018-05-27T00:00:00",
          "user": "rgbkrk"
         },
         {
          "comments": 1.0,
          "date": "2018-08-26T00:00:00",
          "user": "rgbkrk"
         },
         {
          "comments": 1.5,
          "date": "2019-01-27T00:00:00",
          "user": "rgbkrk"
         },
         {
          "comments": 3.0,
          "date": "2017-05-28T00:00:00",
          "user": "willingc"
         },
         {
          "comments": 8.0,
          "date": "2017-06-04T00:00:00",
          "user": "willingc"
         },
         {
          "comments": 6.5,
          "date": "2017-06-11T00:00:00",
          "user": "willingc"
         },
         {
          "comments": 2.0,
          "date": "2017-07-09T00:00:00",
          "user": "willingc"
         },
         {
          "comments": 2.0,
          "date": "2017-07-23T00:00:00",
          "user": "willingc"
         },
         {
          "comments": 2.5,
          "date": "2017-07-30T00:00:00",
          "user": "willingc"
         },
         {
          "comments": 2.5,
          "date": "2017-08-06T00:00:00",
          "user": "willingc"
         },
         {
          "comments": 6.5,
          "date": "2017-08-20T00:00:00",
          "user": "willingc"
         },
         {
          "comments": 8.5,
          "date": "2017-09-10T00:00:00",
          "user": "willingc"
         },
         {
          "comments": 8.0,
          "date": "2017-10-01T00:00:00",
          "user": "willingc"
         },
         {
          "comments": 10.0,
          "date": "2017-10-08T00:00:00",
          "user": "willingc"
         },
         {
          "comments": 5.0,
          "date": "2017-10-15T00:00:00",
          "user": "willingc"
         },
         {
          "comments": 5.5,
          "date": "2017-10-22T00:00:00",
          "user": "willingc"
         },
         {
          "comments": 6.0,
          "date": "2017-10-29T00:00:00",
          "user": "willingc"
         },
         {
          "comments": 3.0,
          "date": "2017-11-05T00:00:00",
          "user": "willingc"
         },
         {
          "comments": 10.5,
          "date": "2017-11-12T00:00:00",
          "user": "willingc"
         },
         {
          "comments": 13.5,
          "date": "2017-11-19T00:00:00",
          "user": "willingc"
         },
         {
          "comments": 7.0,
          "date": "2017-11-26T00:00:00",
          "user": "willingc"
         },
         {
          "comments": 9.0,
          "date": "2017-12-03T00:00:00",
          "user": "willingc"
         },
         {
          "comments": 8.0,
          "date": "2017-12-10T00:00:00",
          "user": "willingc"
         },
         {
          "comments": 6.5,
          "date": "2017-12-17T00:00:00",
          "user": "willingc"
         },
         {
          "comments": 8.5,
          "date": "2017-12-24T00:00:00",
          "user": "willingc"
         },
         {
          "comments": 3.5,
          "date": "2017-12-31T00:00:00",
          "user": "willingc"
         },
         {
          "comments": 1.5,
          "date": "2018-01-07T00:00:00",
          "user": "willingc"
         },
         {
          "comments": 4.5,
          "date": "2018-01-14T00:00:00",
          "user": "willingc"
         },
         {
          "comments": 4.0,
          "date": "2018-01-21T00:00:00",
          "user": "willingc"
         },
         {
          "comments": 2.5,
          "date": "2018-01-28T00:00:00",
          "user": "willingc"
         },
         {
          "comments": 3.0,
          "date": "2018-02-25T00:00:00",
          "user": "willingc"
         },
         {
          "comments": 4.0,
          "date": "2018-03-11T00:00:00",
          "user": "willingc"
         },
         {
          "comments": 4.5,
          "date": "2018-03-25T00:00:00",
          "user": "willingc"
         },
         {
          "comments": 2.5,
          "date": "2018-04-01T00:00:00",
          "user": "willingc"
         },
         {
          "comments": 1.5,
          "date": "2018-04-15T00:00:00",
          "user": "willingc"
         },
         {
          "comments": 2.0,
          "date": "2018-04-22T00:00:00",
          "user": "willingc"
         },
         {
          "comments": 2.0,
          "date": "2018-04-29T00:00:00",
          "user": "willingc"
         },
         {
          "comments": 1.5,
          "date": "2018-05-13T00:00:00",
          "user": "willingc"
         },
         {
          "comments": 2.0,
          "date": "2018-05-20T00:00:00",
          "user": "willingc"
         },
         {
          "comments": 2.5,
          "date": "2018-05-27T00:00:00",
          "user": "willingc"
         },
         {
          "comments": 2.5,
          "date": "2018-06-17T00:00:00",
          "user": "willingc"
         },
         {
          "comments": 1.5,
          "date": "2018-06-24T00:00:00",
          "user": "willingc"
         },
         {
          "comments": 2.5,
          "date": "2018-07-01T00:00:00",
          "user": "willingc"
         },
         {
          "comments": 3.0,
          "date": "2018-07-08T00:00:00",
          "user": "willingc"
         },
         {
          "comments": 2.0,
          "date": "2018-07-15T00:00:00",
          "user": "willingc"
         },
         {
          "comments": 1.5,
          "date": "2018-07-29T00:00:00",
          "user": "willingc"
         },
         {
          "comments": 1.0,
          "date": "2018-08-05T00:00:00",
          "user": "willingc"
         },
         {
          "comments": 1.0,
          "date": "2018-08-19T00:00:00",
          "user": "willingc"
         },
         {
          "comments": 1.0,
          "date": "2018-10-21T00:00:00",
          "user": "willingc"
         },
         {
          "comments": 1.5,
          "date": "2018-10-28T00:00:00",
          "user": "willingc"
         },
         {
          "comments": 4.0,
          "date": "2018-11-11T00:00:00",
          "user": "willingc"
         },
         {
          "comments": 5.0,
          "date": "2018-11-18T00:00:00",
          "user": "willingc"
         },
         {
          "comments": 2.5,
          "date": "2018-12-02T00:00:00",
          "user": "willingc"
         },
         {
          "comments": 1.0,
          "date": "2019-02-17T00:00:00",
          "user": "willingc"
         },
         {
          "comments": 7.5,
          "date": "2017-05-21T00:00:00",
          "user": "yuvipanda"
         },
         {
          "comments": 6.5,
          "date": "2017-05-28T00:00:00",
          "user": "yuvipanda"
         },
         {
          "comments": 8.0,
          "date": "2017-06-04T00:00:00",
          "user": "yuvipanda"
         },
         {
          "comments": 7.0,
          "date": "2017-06-25T00:00:00",
          "user": "yuvipanda"
         },
         {
          "comments": 4.0,
          "date": "2017-07-02T00:00:00",
          "user": "yuvipanda"
         },
         {
          "comments": 5.5,
          "date": "2017-07-09T00:00:00",
          "user": "yuvipanda"
         },
         {
          "comments": 4.5,
          "date": "2017-07-23T00:00:00",
          "user": "yuvipanda"
         },
         {
          "comments": 3.5,
          "date": "2017-07-30T00:00:00",
          "user": "yuvipanda"
         },
         {
          "comments": 1.5,
          "date": "2017-08-06T00:00:00",
          "user": "yuvipanda"
         },
         {
          "comments": 1.0,
          "date": "2017-08-13T00:00:00",
          "user": "yuvipanda"
         },
         {
          "comments": 2.0,
          "date": "2017-08-20T00:00:00",
          "user": "yuvipanda"
         },
         {
          "comments": 2.0,
          "date": "2017-09-03T00:00:00",
          "user": "yuvipanda"
         },
         {
          "comments": 2.0,
          "date": "2017-09-10T00:00:00",
          "user": "yuvipanda"
         },
         {
          "comments": 4.0,
          "date": "2017-09-17T00:00:00",
          "user": "yuvipanda"
         },
         {
          "comments": 4.5,
          "date": "2017-09-24T00:00:00",
          "user": "yuvipanda"
         },
         {
          "comments": 12.5,
          "date": "2017-10-01T00:00:00",
          "user": "yuvipanda"
         },
         {
          "comments": 25.0,
          "date": "2017-10-08T00:00:00",
          "user": "yuvipanda"
         },
         {
          "comments": 19.0,
          "date": "2017-10-15T00:00:00",
          "user": "yuvipanda"
         },
         {
          "comments": 11.0,
          "date": "2017-10-22T00:00:00",
          "user": "yuvipanda"
         },
         {
          "comments": 16.0,
          "date": "2017-10-29T00:00:00",
          "user": "yuvipanda"
         },
         {
          "comments": 15.5,
          "date": "2017-11-05T00:00:00",
          "user": "yuvipanda"
         },
         {
          "comments": 12.5,
          "date": "2017-11-12T00:00:00",
          "user": "yuvipanda"
         },
         {
          "comments": 12.5,
          "date": "2017-11-19T00:00:00",
          "user": "yuvipanda"
         },
         {
          "comments": 11.0,
          "date": "2017-11-26T00:00:00",
          "user": "yuvipanda"
         },
         {
          "comments": 13.5,
          "date": "2017-12-03T00:00:00",
          "user": "yuvipanda"
         },
         {
          "comments": 15.5,
          "date": "2017-12-10T00:00:00",
          "user": "yuvipanda"
         },
         {
          "comments": 12.5,
          "date": "2017-12-17T00:00:00",
          "user": "yuvipanda"
         },
         {
          "comments": 18.5,
          "date": "2017-12-24T00:00:00",
          "user": "yuvipanda"
         },
         {
          "comments": 18.0,
          "date": "2017-12-31T00:00:00",
          "user": "yuvipanda"
         },
         {
          "comments": 11.0,
          "date": "2018-01-07T00:00:00",
          "user": "yuvipanda"
         },
         {
          "comments": 17.5,
          "date": "2018-01-14T00:00:00",
          "user": "yuvipanda"
         },
         {
          "comments": 13.0,
          "date": "2018-01-21T00:00:00",
          "user": "yuvipanda"
         },
         {
          "comments": 5.0,
          "date": "2018-01-28T00:00:00",
          "user": "yuvipanda"
         },
         {
          "comments": 7.5,
          "date": "2018-02-04T00:00:00",
          "user": "yuvipanda"
         },
         {
          "comments": 12.0,
          "date": "2018-02-11T00:00:00",
          "user": "yuvipanda"
         },
         {
          "comments": 10.0,
          "date": "2018-02-18T00:00:00",
          "user": "yuvipanda"
         },
         {
          "comments": 4.0,
          "date": "2018-02-25T00:00:00",
          "user": "yuvipanda"
         },
         {
          "comments": 2.5,
          "date": "2018-04-08T00:00:00",
          "user": "yuvipanda"
         },
         {
          "comments": 1.5,
          "date": "2018-04-15T00:00:00",
          "user": "yuvipanda"
         },
         {
          "comments": 1.5,
          "date": "2018-04-22T00:00:00",
          "user": "yuvipanda"
         },
         {
          "comments": 1.0,
          "date": "2018-04-29T00:00:00",
          "user": "yuvipanda"
         },
         {
          "comments": 1.0,
          "date": "2018-07-08T00:00:00",
          "user": "yuvipanda"
         },
         {
          "comments": 1.0,
          "date": "2018-09-09T00:00:00",
          "user": "yuvipanda"
         },
         {
          "comments": 2.0,
          "date": "2018-09-23T00:00:00",
          "user": "yuvipanda"
         },
         {
          "comments": 2.0,
          "date": "2018-09-30T00:00:00",
          "user": "yuvipanda"
         },
         {
          "comments": 2.5,
          "date": "2018-10-07T00:00:00",
          "user": "yuvipanda"
         },
         {
          "comments": 2.5,
          "date": "2018-10-28T00:00:00",
          "user": "yuvipanda"
         },
         {
          "comments": 1.0,
          "date": "2018-11-04T00:00:00",
          "user": "yuvipanda"
         },
         {
          "comments": 1.0,
          "date": "2018-11-11T00:00:00",
          "user": "yuvipanda"
         },
         {
          "comments": 1.5,
          "date": "2018-11-18T00:00:00",
          "user": "yuvipanda"
         },
         {
          "comments": 1.5,
          "date": "2018-12-02T00:00:00",
          "user": "yuvipanda"
         },
         {
          "comments": 1.0,
          "date": "2018-12-09T00:00:00",
          "user": "yuvipanda"
         },
         {
          "comments": 1.0,
          "date": "2018-12-23T00:00:00",
          "user": "yuvipanda"
         },
         {
          "comments": 1.5,
          "date": "2019-01-20T00:00:00",
          "user": "yuvipanda"
         },
         {
          "comments": 5.0,
          "date": "2019-01-27T00:00:00",
          "user": "yuvipanda"
         },
         {
          "comments": 4.5,
          "date": "2019-02-17T00:00:00",
          "user": "yuvipanda"
         }
        ]
       },
       "layer": [
        {
         "data": {
          "name": "data-a365322ce7c12327b0322173bbf24e6f"
         },
         "encoding": {
          "color": {
           "field": "user",
           "type": "nominal"
          },
          "opacity": {
           "value": 0
          },
          "tooltip": {
           "field": "user",
           "type": "nominal"
          },
          "x": {
           "field": "date",
           "scale": {
            "domain": [
             "2016-01-01",
             "2019-02-01"
            ]
           },
           "type": "temporal"
          },
          "y": {
           "field": "comments",
           "type": "quantitative"
          }
         },
         "mark": {
          "clip": true,
          "type": "circle"
         },
         "selection": {
          "selector001": {
           "fields": [
            "user"
           ],
           "nearest": true,
           "on": "mouseover",
           "type": "single"
          }
         },
         "width": 1000
        },
        {
         "data": {
          "name": "data-a365322ce7c12327b0322173bbf24e6f"
         },
         "encoding": {
          "color": {
           "condition": {
            "field": "user",
            "selection": "selector001",
            "type": "nominal"
           },
           "value": "lightgray"
          },
          "size": {
           "condition": {
            "selection": {
             "not": "selector001"
            },
            "value": 1
           },
           "value": 4
          },
          "tooltip": {
           "field": "user",
           "type": "nominal"
          },
          "x": {
           "field": "date",
           "scale": {
            "domain": [
             "2016-01-01",
             "2019-02-01"
            ]
           },
           "type": "temporal"
          },
          "y": {
           "field": "comments",
           "type": "quantitative"
          }
         },
         "mark": {
          "clip": true,
          "type": "line"
         },
         "width": 1000
        }
       ]
      },
      "text/plain": [
       "<VegaLite 2 object>\n",
       "\n",
       "If you see this message, it means the renderer has not been properly enabled\n",
       "for the frontend that you are using. For more information, see\n",
       "https://altair-viz.github.io/user_guide/troubleshooting.html\n"
      ]
     },
     "execution_count": 14,
     "metadata": {},
     "output_type": "execute_result"
    }
   ],
   "source": [
    "selectable_line_plot(user_data.reset_index(), 'date', 'comments', 'user')"
   ]
  },
  {
   "cell_type": "code",
   "execution_count": 15,
   "metadata": {
    "papermill": {
     "duration": 0.234586,
     "end_time": "2019-02-14T22:41:14.278776",
     "exception": false,
     "start_time": "2019-02-14T22:41:14.044190",
     "status": "completed"
    },
    "tags": []
   },
   "outputs": [
    {
     "data": {
      "application/vnd.vegalite.v2+json": {
       "$schema": "https://vega.github.io/schema/vega-lite/v2.6.0.json",
       "config": {
        "view": {
         "height": 300,
         "width": 400
        }
       },
       "data": {
        "name": "data-957379a06a6257720f5cc1fe976a6fef"
       },
       "datasets": {
        "data-957379a06a6257720f5cc1fe976a6fef": [
         {
          "comments": 15.5,
          "date": "2017-05-21T00:00:00"
         },
         {
          "comments": 23.0,
          "date": "2017-05-28T00:00:00"
         },
         {
          "comments": 27.0,
          "date": "2017-06-04T00:00:00"
         },
         {
          "comments": 13.5,
          "date": "2017-06-11T00:00:00"
         },
         {
          "comments": 10.0,
          "date": "2017-06-25T00:00:00"
         },
         {
          "comments": 8.5,
          "date": "2017-07-02T00:00:00"
         },
         {
          "comments": 18.5,
          "date": "2017-07-09T00:00:00"
         },
         {
          "comments": 13.0,
          "date": "2017-07-23T00:00:00"
         },
         {
          "comments": 8.0,
          "date": "2017-07-30T00:00:00"
         },
         {
          "comments": 6.5,
          "date": "2017-08-06T00:00:00"
         },
         {
          "comments": 3.5,
          "date": "2017-08-13T00:00:00"
         },
         {
          "comments": 23.5,
          "date": "2017-08-20T00:00:00"
         },
         {
          "comments": 19.5,
          "date": "2017-09-03T00:00:00"
         },
         {
          "comments": 23.5,
          "date": "2017-09-10T00:00:00"
         },
         {
          "comments": 22.5,
          "date": "2017-09-17T00:00:00"
         },
         {
          "comments": 15.5,
          "date": "2017-09-24T00:00:00"
         },
         {
          "comments": 45.5,
          "date": "2017-10-01T00:00:00"
         },
         {
          "comments": 77.5,
          "date": "2017-10-08T00:00:00"
         },
         {
          "comments": 56.5,
          "date": "2017-10-15T00:00:00"
         },
         {
          "comments": 35.5,
          "date": "2017-10-22T00:00:00"
         },
         {
          "comments": 53.0,
          "date": "2017-10-29T00:00:00"
         },
         {
          "comments": 56.5,
          "date": "2017-11-05T00:00:00"
         },
         {
          "comments": 72.0,
          "date": "2017-11-12T00:00:00"
         },
         {
          "comments": 91.0,
          "date": "2017-11-19T00:00:00"
         },
         {
          "comments": 74.0,
          "date": "2017-11-26T00:00:00"
         },
         {
          "comments": 81.5,
          "date": "2017-12-03T00:00:00"
         },
         {
          "comments": 76.0,
          "date": "2017-12-10T00:00:00"
         },
         {
          "comments": 68.5,
          "date": "2017-12-17T00:00:00"
         },
         {
          "comments": 72.5,
          "date": "2017-12-24T00:00:00"
         },
         {
          "comments": 50.5,
          "date": "2017-12-31T00:00:00"
         },
         {
          "comments": 57.5,
          "date": "2018-01-07T00:00:00"
         },
         {
          "comments": 82.5,
          "date": "2018-01-14T00:00:00"
         },
         {
          "comments": 66.0,
          "date": "2018-01-21T00:00:00"
         },
         {
          "comments": 43.0,
          "date": "2018-01-28T00:00:00"
         },
         {
          "comments": 44.5,
          "date": "2018-02-04T00:00:00"
         },
         {
          "comments": 42.0,
          "date": "2018-02-11T00:00:00"
         },
         {
          "comments": 45.0,
          "date": "2018-02-18T00:00:00"
         },
         {
          "comments": 27.0,
          "date": "2018-02-25T00:00:00"
         },
         {
          "comments": 15.0,
          "date": "2018-03-04T00:00:00"
         },
         {
          "comments": 17.5,
          "date": "2018-03-11T00:00:00"
         },
         {
          "comments": 22.5,
          "date": "2018-03-18T00:00:00"
         },
         {
          "comments": 21.0,
          "date": "2018-03-25T00:00:00"
         },
         {
          "comments": 17.0,
          "date": "2018-04-01T00:00:00"
         },
         {
          "comments": 21.0,
          "date": "2018-04-08T00:00:00"
         },
         {
          "comments": 26.0,
          "date": "2018-04-15T00:00:00"
         },
         {
          "comments": 30.0,
          "date": "2018-04-22T00:00:00"
         },
         {
          "comments": 32.5,
          "date": "2018-04-29T00:00:00"
         },
         {
          "comments": 32.0,
          "date": "2018-05-06T00:00:00"
         },
         {
          "comments": 26.0,
          "date": "2018-05-13T00:00:00"
         },
         {
          "comments": 30.5,
          "date": "2018-05-20T00:00:00"
         },
         {
          "comments": 37.5,
          "date": "2018-05-27T00:00:00"
         },
         {
          "comments": 19.5,
          "date": "2018-06-03T00:00:00"
         },
         {
          "comments": 8.0,
          "date": "2018-06-10T00:00:00"
         },
         {
          "comments": 15.5,
          "date": "2018-06-17T00:00:00"
         },
         {
          "comments": 16.0,
          "date": "2018-06-24T00:00:00"
         },
         {
          "comments": 18.5,
          "date": "2018-07-01T00:00:00"
         },
         {
          "comments": 19.0,
          "date": "2018-07-08T00:00:00"
         },
         {
          "comments": 12.0,
          "date": "2018-07-15T00:00:00"
         },
         {
          "comments": 15.5,
          "date": "2018-07-22T00:00:00"
         },
         {
          "comments": 19.0,
          "date": "2018-07-29T00:00:00"
         },
         {
          "comments": 20.0,
          "date": "2018-08-05T00:00:00"
         },
         {
          "comments": 9.5,
          "date": "2018-08-12T00:00:00"
         },
         {
          "comments": 15.5,
          "date": "2018-08-19T00:00:00"
         },
         {
          "comments": 15.0,
          "date": "2018-08-26T00:00:00"
         },
         {
          "comments": 12.0,
          "date": "2018-09-02T00:00:00"
         },
         {
          "comments": 6.0,
          "date": "2018-09-09T00:00:00"
         },
         {
          "comments": 8.0,
          "date": "2018-09-16T00:00:00"
         },
         {
          "comments": 19.0,
          "date": "2018-09-23T00:00:00"
         },
         {
          "comments": 15.0,
          "date": "2018-09-30T00:00:00"
         },
         {
          "comments": 22.0,
          "date": "2018-10-07T00:00:00"
         },
         {
          "comments": 24.5,
          "date": "2018-10-14T00:00:00"
         },
         {
          "comments": 19.0,
          "date": "2018-10-21T00:00:00"
         },
         {
          "comments": 22.5,
          "date": "2018-10-28T00:00:00"
         },
         {
          "comments": 12.5,
          "date": "2018-11-04T00:00:00"
         },
         {
          "comments": 26.5,
          "date": "2018-11-11T00:00:00"
         },
         {
          "comments": 53.0,
          "date": "2018-11-18T00:00:00"
         },
         {
          "comments": 27.5,
          "date": "2018-11-25T00:00:00"
         },
         {
          "comments": 25.5,
          "date": "2018-12-02T00:00:00"
         },
         {
          "comments": 14.0,
          "date": "2018-12-09T00:00:00"
         },
         {
          "comments": 14.0,
          "date": "2018-12-16T00:00:00"
         },
         {
          "comments": 7.5,
          "date": "2018-12-23T00:00:00"
         },
         {
          "comments": 4.5,
          "date": "2018-12-30T00:00:00"
         },
         {
          "comments": 4.0,
          "date": "2019-01-06T00:00:00"
         },
         {
          "comments": 1.5,
          "date": "2019-01-13T00:00:00"
         },
         {
          "comments": 11.5,
          "date": "2019-01-20T00:00:00"
         },
         {
          "comments": 15.0,
          "date": "2019-01-27T00:00:00"
         },
         {
          "comments": 14.0,
          "date": "2019-02-03T00:00:00"
         },
         {
          "comments": 10.0,
          "date": "2019-02-10T00:00:00"
         },
         {
          "comments": 17.5,
          "date": "2019-02-17T00:00:00"
         }
        ]
       },
       "encoding": {
        "x": {
         "field": "date",
         "scale": {
          "domain": [
           "2016-01-01",
           "2019-02-01"
          ]
         },
         "type": "temporal"
        },
        "y": {
         "field": "comments",
         "type": "quantitative"
        }
       },
       "mark": {
        "clip": true,
        "type": "line"
       },
       "width": 1000
      },
      "text/plain": [
       "<VegaLite 2 object>\n",
       "\n",
       "If you see this message, it means the renderer has not been properly enabled\n",
       "for the frontend that you are using. For more information, see\n",
       "https://altair-viz.github.io/user_guide/troubleshooting.html\n"
      ]
     },
     "execution_count": 15,
     "metadata": {},
     "output_type": "execute_result"
    }
   ],
   "source": [
    "# Comment totals over time\n",
    "all_user_data = user_data.reset_index().groupby('date').sum()['comments'].reset_index()\n",
    "alt.Chart(data=all_user_data, width=1000).mark_line(clip=True).encode(\n",
    "    x=alt.X('date', scale=alt.Scale(domain=[\"2016-01-01\", \"2019-02-01\"])),\n",
    "    y='comments',\n",
    ")"
   ]
  },
  {
   "cell_type": "markdown",
   "metadata": {
    "papermill": {
     "duration": 0.132894,
     "end_time": "2019-02-14T22:41:14.498774",
     "exception": false,
     "start_time": "2019-02-14T22:41:14.365880",
     "status": "completed"
    },
    "tags": []
   },
   "source": [
    "## Distribution of comments over top N contributors"
   ]
  },
  {
   "cell_type": "code",
   "execution_count": 16,
   "metadata": {
    "papermill": {
     "duration": 0.095154,
     "end_time": "2019-02-14T22:41:14.681115",
     "exception": false,
     "start_time": "2019-02-14T22:41:14.585961",
     "status": "completed"
    },
    "tags": []
   },
   "outputs": [],
   "source": [
    "# For each week, calculate the top 20 contributions, turn them into percentages, order them, store the result"
   ]
  },
  {
   "cell_type": "code",
   "execution_count": 17,
   "metadata": {
    "papermill": {
     "duration": 0.288417,
     "end_time": "2019-02-14T22:41:15.043698",
     "exception": false,
     "start_time": "2019-02-14T22:41:14.755281",
     "status": "completed"
    },
    "tags": []
   },
   "outputs": [],
   "source": [
    "monthly = weekly.groupby('user').resample('M', on='date').sum().reset_index()"
   ]
  },
  {
   "cell_type": "code",
   "execution_count": 18,
   "metadata": {
    "papermill": {
     "duration": 0.086197,
     "end_time": "2019-02-14T22:41:15.193915",
     "exception": false,
     "start_time": "2019-02-14T22:41:15.107718",
     "status": "completed"
    },
    "tags": []
   },
   "outputs": [],
   "source": [
    "n_comments_plot = 20"
   ]
  },
  {
   "cell_type": "code",
   "execution_count": 19,
   "metadata": {
    "papermill": {
     "duration": 0.222821,
     "end_time": "2019-02-14T22:41:15.496928",
     "exception": false,
     "start_time": "2019-02-14T22:41:15.274107",
     "status": "completed"
    },
    "tags": []
   },
   "outputs": [],
   "source": [
    "monthly_dist = {}\n",
    "for iweek, ivals in monthly.groupby('date'):\n",
    "    comments_dist = ivals.groupby('user').sum()['comments']\n",
    "    comments_dist = comments_dist / comments_dist.sum()\n",
    "    comments_dist = comments_dist.sort_values(ascending=False)\n",
    "    comments_placeholder = [0] * n_comments_plot\n",
    "\n",
    "    for ii, (iname, ipart) in enumerate(comments_dist.items()):\n",
    "        if ii + 1 > n_comments_plot:\n",
    "            continue\n",
    "        comments_placeholder[ii] = ipart\n",
    "    monthly_dist[iweek] = comments_placeholder"
   ]
  },
  {
   "cell_type": "code",
   "execution_count": 20,
   "metadata": {
    "papermill": {
     "duration": 0.129121,
     "end_time": "2019-02-14T22:41:15.726478",
     "exception": false,
     "start_time": "2019-02-14T22:41:15.597357",
     "status": "completed"
    },
    "tags": []
   },
   "outputs": [],
   "source": [
    "monthly_dist = pd.DataFrame(monthly_dist)\n",
    "# monthly_dist.index.name = 'position'\n",
    "# monthly_dist.columns.name = 'date'\n",
    "# monthly_dist = monthly_dist.stack().reset_index().rename(columns={0: 'dist'})"
   ]
  },
  {
   "cell_type": "code",
   "execution_count": 21,
   "metadata": {
    "papermill": {
     "duration": 0.112894,
     "end_time": "2019-02-14T22:41:15.905143",
     "exception": false,
     "start_time": "2019-02-14T22:41:15.792249",
     "status": "completed"
    },
    "tags": []
   },
   "outputs": [],
   "source": [
    "monthly_dist.columns = monthly_dist.columns.date"
   ]
  },
  {
   "cell_type": "code",
   "execution_count": 22,
   "metadata": {
    "papermill": {
     "duration": 0.13242,
     "end_time": "2019-02-14T22:41:16.150644",
     "exception": false,
     "start_time": "2019-02-14T22:41:16.018224",
     "status": "completed"
    },
    "tags": []
   },
   "outputs": [],
   "source": [
    "from matplotlib import pyplot as plt"
   ]
  },
  {
   "cell_type": "code",
   "execution_count": 23,
   "metadata": {
    "papermill": {
     "duration": 0.905244,
     "end_time": "2019-02-14T22:41:17.161298",
     "exception": false,
     "start_time": "2019-02-14T22:41:16.256054",
     "status": "completed"
    },
    "tags": []
   },
   "outputs": [
    {
     "name": "stderr",
     "output_type": "stream",
     "text": [
      "/home/choldgraf/anaconda/envs/dev/lib/python3.6/site-packages/ipykernel_launcher.py:2: RuntimeWarning: divide by zero encountered in log10\n",
      "  \n"
     ]
    },
    {
     "data": {
      "text/plain": [
       "[Text(114.0, 0.5, 'Rank'),\n",
       " Text(0.5, 1.0, 'Log % Comments over time\\ntop 20 commentors')]"
      ]
     },
     "execution_count": 23,
     "metadata": {},
     "output_type": "execute_result"
    },
    {
     "data": {
      "image/png": "[encoded data removed]",
      "text/plain": [
       "<Figure size 1080x360 with 2 Axes>"
      ]
     },
     "metadata": {},
     "output_type": "display_data"
    }
   ],
   "source": [
    "fig, ax = plt.subplots(figsize=(15, 5))\n",
    "ax = sns.heatmap(np.log10(100 * monthly_dist), vmin=0, vmax=2)\n",
    "ax.set(ylabel=\"Rank\", title=\"Log % Comments over time\\ntop {} commentors\".format(n_comments_plot))"
   ]
  },
  {
   "cell_type": "markdown",
   "metadata": {
    "papermill": {
     "duration": 0.093047,
     "end_time": "2019-02-14T22:41:17.324995",
     "exception": false,
     "start_time": "2019-02-14T22:41:17.231948",
     "status": "completed"
    },
    "tags": []
   },
   "source": [
    "## Correlations between members"
   ]
  },
  {
   "cell_type": "code",
   "execution_count": 24,
   "metadata": {
    "papermill": {
     "duration": 0.106473,
     "end_time": "2019-02-14T22:41:17.505017",
     "exception": false,
     "start_time": "2019-02-14T22:41:17.398544",
     "status": "completed"
    },
    "tags": []
   },
   "outputs": [],
   "source": [
    "correlations = weekly.query(\"user in @plt_users\").set_index(['date', 'user'])['comments'].unstack('user').corr()\n",
    "correlations = correlations.replace(np.nan, 0)"
   ]
  },
  {
   "cell_type": "code",
   "execution_count": 25,
   "metadata": {
    "papermill": {
     "duration": 1.30256,
     "end_time": "2019-02-14T22:41:18.875157",
     "exception": false,
     "start_time": "2019-02-14T22:41:17.572597",
     "status": "completed"
    },
    "tags": []
   },
   "outputs": [
    {
     "data": {
      "text/plain": [
       "<seaborn.matrix.ClusterGrid at 0x7f1420e05eb8>"
      ]
     },
     "execution_count": 25,
     "metadata": {},
     "output_type": "execute_result"
    },
    {
     "data": {
      "image/png": "[encoded data removed]",
      "text/plain": [
       "<Figure size 720x720 with 4 Axes>"
      ]
     },
     "metadata": {},
     "output_type": "display_data"
    }
   ],
   "source": [
    "sns.clustermap(correlations, vmin=-1, vmax=1, cmap='RdYlBu_r')"
   ]
  },
  {
   "cell_type": "code",
   "execution_count": null,
   "metadata": {
    "papermill": {
     "duration": 0.173109,
     "end_time": "2019-02-14T22:41:19.230692",
     "exception": false,
     "start_time": "2019-02-14T22:41:19.057583",
     "status": "completed"
    },
    "tags": []
   },
   "outputs": [],
   "source": []
  }
 ],
 "metadata": {
  "kernelspec": {
   "display_name": "Python 3",
   "language": "python",
   "name": "python3"
  },
  "language_info": {
   "codemirror_mode": {
    "name": "ipython",
    "version": 3
   },
   "file_extension": ".py",
   "mimetype": "text/x-python",
   "name": "python",
   "nbconvert_exporter": "python",
   "pygments_lexer": "ipython3",
   "version": "3.6.5"
  },
  "papermill": {
   "duration": 17.810624,
   "end_time": "2019-02-14T22:41:20.715739",
   "environment_variables": {},
   "exception": null,
   "input_path": "./viz_data.ipynb",
   "output_path": "../reports/viz_data_jupyterhub-binderhub.ipynb",
   "parameters": {
    "org": "jupyterhub",
    "plot_N": 20,
    "repo": "binderhub"
   },
   "start_time": "2019-02-14T22:41:02.905115",
   "version": "0.18.0"
  }
 },
 "nbformat": 4,
 "nbformat_minor": 2
}