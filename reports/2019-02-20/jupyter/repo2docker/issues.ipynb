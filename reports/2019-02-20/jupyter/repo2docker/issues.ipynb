{
 "cells": [
  {
   "cell_type": "code",
   "execution_count": 1,
   "metadata": {
    "jupyter": {
     "source_hidden": true
    },
    "papermill": {
     "duration": 0.659448,
     "end_time": "2019-03-22T17:26:19.182478",
     "exception": false,
     "start_time": "2019-03-22T17:26:18.523030",
     "status": "completed"
    },
    "tags": []
   },
   "outputs": [],
   "source": [
    "import pandas as pd\n",
    "from datetime import timedelta\n",
    "from IPython.display import HTML, display"
   ]
  },
  {
   "cell_type": "code",
   "execution_count": 2,
   "metadata": {
    "jupyter": {
     "source_hidden": true
    },
    "papermill": {
     "duration": 0.067265,
     "end_time": "2019-03-22T17:26:19.272938",
     "exception": false,
     "start_time": "2019-03-22T17:26:19.205673",
     "status": "completed"
    },
    "tags": [
     "parameters"
    ]
   },
   "outputs": [],
   "source": [
    "date = pd.datetime.today() - timedelta(days=30)\n",
    "org = 'jupyterhub'\n",
    "repo = 'zero-to-jupyterhub-k8s'"
   ]
  },
  {
   "cell_type": "code",
   "execution_count": 3,
   "metadata": {
    "jupyter": {
     "source_hidden": true
    },
    "papermill": {
     "duration": 0.062945,
     "end_time": "2019-03-22T17:26:19.373260",
     "exception": false,
     "start_time": "2019-03-22T17:26:19.310315",
     "status": "completed"
    },
    "tags": [
     "injected-parameters"
    ]
   },
   "outputs": [],
   "source": [
    "# Parameters\n",
    "org = \"jupyter\"\n",
    "repo = \"repo2docker\"\n",
    "date = \"2019-02-20\"\n"
   ]
  },
  {
   "cell_type": "code",
   "execution_count": 4,
   "metadata": {
    "jupyter": {
     "source_hidden": true
    },
    "papermill": {
     "duration": 0.032269,
     "end_time": "2019-03-22T17:26:19.434935",
     "exception": false,
     "start_time": "2019-03-22T17:26:19.402666",
     "status": "completed"
    },
    "tags": []
   },
   "outputs": [],
   "source": [
    "# Definition of a stale issue/PR (how many days since last updated)\n",
    "stale_days = 30\n",
    "date_stale = pd.to_datetime(date) - timedelta(days=stale_days)"
   ]
  },
  {
   "cell_type": "markdown",
   "metadata": {
    "papermill": {
     "duration": 0.023729,
     "end_time": "2019-03-22T17:26:19.489193",
     "exception": false,
     "start_time": "2019-03-22T17:26:19.465464",
     "status": "completed"
    },
    "tags": []
   },
   "source": [
    "# Opened and Closed Issues and PRs\n",
    "\n",
    "This report shows opened and closed issues / PRs over the last 30 days, with a\n",
    "particular focus on items that haven't had a lot of discussion, or that have\n",
    "been opened by people who aren't team-members. The goal of this page is to make\n",
    "it easier to spot places where some input would be appreciated!"
   ]
  },
  {
   "cell_type": "markdown",
   "metadata": {
    "papermill": {
     "duration": 0.029753,
     "end_time": "2019-03-22T17:26:19.554760",
     "exception": false,
     "start_time": "2019-03-22T17:26:19.525007",
     "status": "completed"
    },
    "tags": []
   },
   "source": [
    "# Imports"
   ]
  },
  {
   "cell_type": "code",
   "execution_count": 5,
   "metadata": {
    "jupyter": {
     "source_hidden": true
    },
    "papermill": {
     "duration": 0.272957,
     "end_time": "2019-03-22T17:26:19.850612",
     "exception": false,
     "start_time": "2019-03-22T17:26:19.577655",
     "status": "completed"
    },
    "tags": []
   },
   "outputs": [],
   "source": [
    "import pandas as pd\n",
    "from subprocess import run, PIPE\n",
    "from watchtower import issues_\n",
    "from glob import glob\n",
    "import os.path as op\n",
    "import shutil as sh\n",
    "import sys\n",
    "sys.path.append('../../scripts/')"
   ]
  },
  {
   "cell_type": "markdown",
   "metadata": {
    "papermill": {
     "duration": 0.028265,
     "end_time": "2019-03-22T17:26:19.901697",
     "exception": false,
     "start_time": "2019-03-22T17:26:19.873432",
     "status": "completed"
    },
    "tags": []
   },
   "source": [
    "## styling functions"
   ]
  },
  {
   "cell_type": "code",
   "execution_count": 6,
   "metadata": {
    "jupyter": {
     "source_hidden": true
    },
    "papermill": {
     "duration": 0.035043,
     "end_time": "2019-03-22T17:26:19.969983",
     "exception": false,
     "start_time": "2019-03-22T17:26:19.934940",
     "status": "completed"
    },
    "tags": []
   },
   "outputs": [],
   "source": [
    "def highlight_rows(val):\n",
    "    \"\"\"Highlights cells pertaining to non-members and w/ no comments\"\"\"\n",
    "    disp = ''\n",
    "    if val == 0 or val == \"NONE\":\n",
    "        disp += 'background-color: #f7b7b7'\n",
    "    elif val == \"FIRST_TIME_CONTRIBUTOR\":\n",
    "        disp += 'background-color: red'\n",
    "    return disp\n",
    "\n",
    "def make_clickable(val):\n",
    "    # target _blank to open new window\n",
    "    return '<a target=\"_blank\" href=\"{}\">{}</a>'.format(val, val)\n",
    "\n",
    "def print_html(msg):\n",
    "    display(HTML('<h2 style=\"padding-left: 1em;\">{}</h2>'.format(msg)))\n",
    "    \n",
    "pd.options.display.max_colwidth = 200"
   ]
  },
  {
   "cell_type": "markdown",
   "metadata": {
    "papermill": {
     "duration": 0.040011,
     "end_time": "2019-03-22T17:26:20.034481",
     "exception": false,
     "start_time": "2019-03-22T17:26:19.994470",
     "status": "completed"
    },
    "tags": []
   },
   "source": [
    "## Load data"
   ]
  },
  {
   "cell_type": "code",
   "execution_count": 7,
   "metadata": {
    "jupyter": {
     "source_hidden": true
    },
    "papermill": {
     "duration": 0.110109,
     "end_time": "2019-03-22T17:26:20.168995",
     "exception": false,
     "start_time": "2019-03-22T17:26:20.058886",
     "status": "completed"
    },
    "tags": []
   },
   "outputs": [],
   "source": [
    "# Issues\n",
    "issues = issues_.load_issues(org, repo)\n",
    "issues['user'] = issues['user'].map(lambda a: a['login'])"
   ]
  },
  {
   "cell_type": "markdown",
   "metadata": {
    "papermill": {
     "duration": 0.026742,
     "end_time": "2019-03-22T17:26:20.218148",
     "exception": false,
     "start_time": "2019-03-22T17:26:20.191406",
     "status": "completed"
    },
    "tags": []
   },
   "source": [
    "# New activity"
   ]
  },
  {
   "cell_type": "markdown",
   "metadata": {
    "papermill": {
     "duration": 0.021337,
     "end_time": "2019-03-22T17:26:20.278049",
     "exception": false,
     "start_time": "2019-03-22T17:26:20.256712",
     "status": "completed"
    },
    "tags": []
   },
   "source": [
    "## Opened issues\n",
    "\n",
    "without responses in red"
   ]
  },
  {
   "cell_type": "code",
   "execution_count": 8,
   "metadata": {
    "jupyter": {
     "source_hidden": true
    },
    "papermill": {
     "duration": 0.11863,
     "end_time": "2019-03-22T17:26:20.423784",
     "exception": false,
     "start_time": "2019-03-22T17:26:20.305154",
     "status": "completed"
    },
    "tags": []
   },
   "outputs": [
    {
     "name": "stderr",
     "output_type": "stream",
     "text": [
      "/home/choldgraf/anaconda/envs/dev/lib/python3.6/site-packages/ipykernel_launcher.py:3: SettingWithCopyWarning: \n",
      "A value is trying to be set on a copy of a slice from a DataFrame.\n",
      "Try using .loc[row_indexer,col_indexer] = value instead\n",
      "\n",
      "See the caveats in the documentation: http://pandas.pydata.org/pandas-docs/stable/indexing.html#indexing-view-versus-copy\n",
      "  This is separate from the ipykernel package so we can avoid doing imports until\n"
     ]
    }
   ],
   "source": [
    "opened = issues.query('created_at > @date')\n",
    "opened_issues = opened[opened['pull_request'].isna()]\n",
    "opened_issues['closed'] = ~pd.isnull(opened_issues['closed_at'])"
   ]
  },
  {
   "cell_type": "code",
   "execution_count": 9,
   "metadata": {
    "jupyter": {
     "source_hidden": true
    },
    "papermill": {
     "duration": 0.050515,
     "end_time": "2019-03-22T17:26:20.499224",
     "exception": false,
     "start_time": "2019-03-22T17:26:20.448709",
     "status": "completed"
    },
    "tags": []
   },
   "outputs": [
    {
     "data": {
      "text/html": [
       "<h2 style=\"padding-left: 1em;\">Opened issues: 20</h2>"
      ],
      "text/plain": [
       "<IPython.core.display.HTML object>"
      ]
     },
     "metadata": {},
     "output_type": "display_data"
    }
   ],
   "source": [
    "print_html('Opened issues: {}'.format(len(opened_issues)))"
   ]
  },
  {
   "cell_type": "code",
   "execution_count": 10,
   "metadata": {
    "jupyter": {
     "source_hidden": true
    },
    "papermill": {
     "duration": 1.00471,
     "end_time": "2019-03-22T17:26:21.529855",
     "exception": false,
     "start_time": "2019-03-22T17:26:20.525145",
     "status": "completed"
    },
    "tags": []
   },
   "outputs": [
    {
     "data": {
      "text/html": [
       "<style  type=\"text/css\" >\n",
       "    #T_9c3f14c0_4cc7_11e9_952f_54ee75e0f62drow0_col2 {\n",
       "            background-color:  #f7b7b7;\n",
       "        }    #T_9c3f14c0_4cc7_11e9_952f_54ee75e0f62drow0_col3 {\n",
       "            background-color:  #f7b7b7;\n",
       "        }    #T_9c3f14c0_4cc7_11e9_952f_54ee75e0f62drow1_col2 {\n",
       "            background-color:  #f7b7b7;\n",
       "        }    #T_9c3f14c0_4cc7_11e9_952f_54ee75e0f62drow1_col3 {\n",
       "            background-color:  #f7b7b7;\n",
       "        }    #T_9c3f14c0_4cc7_11e9_952f_54ee75e0f62drow2_col2 {\n",
       "            background-color:  #f7b7b7;\n",
       "        }    #T_9c3f14c0_4cc7_11e9_952f_54ee75e0f62drow2_col3 {\n",
       "            background-color:  #f7b7b7;\n",
       "        }    #T_9c3f14c0_4cc7_11e9_952f_54ee75e0f62drow3_col2 {\n",
       "            background-color:  #f7b7b7;\n",
       "        }    #T_9c3f14c0_4cc7_11e9_952f_54ee75e0f62drow3_col3 {\n",
       "            background-color:  #f7b7b7;\n",
       "        }    #T_9c3f14c0_4cc7_11e9_952f_54ee75e0f62drow4_col3 {\n",
       "            background-color:  #f7b7b7;\n",
       "        }    #T_9c3f14c0_4cc7_11e9_952f_54ee75e0f62drow5_col1 {\n",
       "            background-color:  #f7b7b7;\n",
       "        }    #T_9c3f14c0_4cc7_11e9_952f_54ee75e0f62drow5_col3 {\n",
       "            background-color:  #f7b7b7;\n",
       "        }    #T_9c3f14c0_4cc7_11e9_952f_54ee75e0f62drow6_col1 {\n",
       "            background-color:  #f7b7b7;\n",
       "        }    #T_9c3f14c0_4cc7_11e9_952f_54ee75e0f62drow6_col3 {\n",
       "            background-color:  #f7b7b7;\n",
       "        }    #T_9c3f14c0_4cc7_11e9_952f_54ee75e0f62drow7_col3 {\n",
       "            background-color:  #f7b7b7;\n",
       "        }    #T_9c3f14c0_4cc7_11e9_952f_54ee75e0f62drow8_col3 {\n",
       "            background-color:  #f7b7b7;\n",
       "        }    #T_9c3f14c0_4cc7_11e9_952f_54ee75e0f62drow9_col3 {\n",
       "            background-color:  #f7b7b7;\n",
       "        }    #T_9c3f14c0_4cc7_11e9_952f_54ee75e0f62drow10_col3 {\n",
       "            background-color:  #f7b7b7;\n",
       "        }    #T_9c3f14c0_4cc7_11e9_952f_54ee75e0f62drow11_col3 {\n",
       "            background-color:  #f7b7b7;\n",
       "        }    #T_9c3f14c0_4cc7_11e9_952f_54ee75e0f62drow12_col3 {\n",
       "            background-color:  #f7b7b7;\n",
       "        }    #T_9c3f14c0_4cc7_11e9_952f_54ee75e0f62drow13_col3 {\n",
       "            background-color:  #f7b7b7;\n",
       "        }    #T_9c3f14c0_4cc7_11e9_952f_54ee75e0f62drow14_col3 {\n",
       "            background-color:  #f7b7b7;\n",
       "        }    #T_9c3f14c0_4cc7_11e9_952f_54ee75e0f62drow15_col3 {\n",
       "            background-color:  #f7b7b7;\n",
       "        }    #T_9c3f14c0_4cc7_11e9_952f_54ee75e0f62drow16_col1 {\n",
       "            background-color:  #f7b7b7;\n",
       "        }</style><table id=\"T_9c3f14c0_4cc7_11e9_952f_54ee75e0f62d\" ><thead>    <tr>        <th class=\"col_heading level0 col0\" >user</th>        <th class=\"col_heading level0 col1\" >author_association</th>        <th class=\"col_heading level0 col2\" >comments</th>        <th class=\"col_heading level0 col3\" >closed</th>        <th class=\"col_heading level0 col4\" >html_url</th>    </tr></thead><tbody>\n",
       "                <tr>\n",
       "                                <td id=\"T_9c3f14c0_4cc7_11e9_952f_54ee75e0f62drow0_col0\" class=\"data row0 col0\" >betatim</td>\n",
       "                        <td id=\"T_9c3f14c0_4cc7_11e9_952f_54ee75e0f62drow0_col1\" class=\"data row0 col1\" >COLLABORATOR</td>\n",
       "                        <td id=\"T_9c3f14c0_4cc7_11e9_952f_54ee75e0f62drow0_col2\" class=\"data row0 col2\" >0</td>\n",
       "                        <td id=\"T_9c3f14c0_4cc7_11e9_952f_54ee75e0f62drow0_col3\" class=\"data row0 col3\" >False</td>\n",
       "                        <td id=\"T_9c3f14c0_4cc7_11e9_952f_54ee75e0f62drow0_col4\" class=\"data row0 col4\" ><a target=\"_blank\" href=\"https://github.com/jupyter/repo2docker/issues/616\">https://github.com/jupyter/repo2docker/issues/616</a></td>\n",
       "            </tr>\n",
       "            <tr>\n",
       "                                <td id=\"T_9c3f14c0_4cc7_11e9_952f_54ee75e0f62drow1_col0\" class=\"data row1 col0\" >betatim</td>\n",
       "                        <td id=\"T_9c3f14c0_4cc7_11e9_952f_54ee75e0f62drow1_col1\" class=\"data row1 col1\" >COLLABORATOR</td>\n",
       "                        <td id=\"T_9c3f14c0_4cc7_11e9_952f_54ee75e0f62drow1_col2\" class=\"data row1 col2\" >0</td>\n",
       "                        <td id=\"T_9c3f14c0_4cc7_11e9_952f_54ee75e0f62drow1_col3\" class=\"data row1 col3\" >False</td>\n",
       "                        <td id=\"T_9c3f14c0_4cc7_11e9_952f_54ee75e0f62drow1_col4\" class=\"data row1 col4\" ><a target=\"_blank\" href=\"https://github.com/jupyter/repo2docker/issues/615\">https://github.com/jupyter/repo2docker/issues/615</a></td>\n",
       "            </tr>\n",
       "            <tr>\n",
       "                                <td id=\"T_9c3f14c0_4cc7_11e9_952f_54ee75e0f62drow2_col0\" class=\"data row2 col0\" >yuvipanda</td>\n",
       "                        <td id=\"T_9c3f14c0_4cc7_11e9_952f_54ee75e0f62drow2_col1\" class=\"data row2 col1\" >MEMBER</td>\n",
       "                        <td id=\"T_9c3f14c0_4cc7_11e9_952f_54ee75e0f62drow2_col2\" class=\"data row2 col2\" >0</td>\n",
       "                        <td id=\"T_9c3f14c0_4cc7_11e9_952f_54ee75e0f62drow2_col3\" class=\"data row2 col3\" >False</td>\n",
       "                        <td id=\"T_9c3f14c0_4cc7_11e9_952f_54ee75e0f62drow2_col4\" class=\"data row2 col4\" ><a target=\"_blank\" href=\"https://github.com/jupyter/repo2docker/issues/604\">https://github.com/jupyter/repo2docker/issues/604</a></td>\n",
       "            </tr>\n",
       "            <tr>\n",
       "                                <td id=\"T_9c3f14c0_4cc7_11e9_952f_54ee75e0f62drow3_col0\" class=\"data row3 col0\" >betatim</td>\n",
       "                        <td id=\"T_9c3f14c0_4cc7_11e9_952f_54ee75e0f62drow3_col1\" class=\"data row3 col1\" >COLLABORATOR</td>\n",
       "                        <td id=\"T_9c3f14c0_4cc7_11e9_952f_54ee75e0f62drow3_col2\" class=\"data row3 col2\" >0</td>\n",
       "                        <td id=\"T_9c3f14c0_4cc7_11e9_952f_54ee75e0f62drow3_col3\" class=\"data row3 col3\" >False</td>\n",
       "                        <td id=\"T_9c3f14c0_4cc7_11e9_952f_54ee75e0f62drow3_col4\" class=\"data row3 col4\" ><a target=\"_blank\" href=\"https://github.com/jupyter/repo2docker/issues/600\">https://github.com/jupyter/repo2docker/issues/600</a></td>\n",
       "            </tr>\n",
       "            <tr>\n",
       "                                <td id=\"T_9c3f14c0_4cc7_11e9_952f_54ee75e0f62drow4_col0\" class=\"data row4 col0\" >betatim</td>\n",
       "                        <td id=\"T_9c3f14c0_4cc7_11e9_952f_54ee75e0f62drow4_col1\" class=\"data row4 col1\" >COLLABORATOR</td>\n",
       "                        <td id=\"T_9c3f14c0_4cc7_11e9_952f_54ee75e0f62drow4_col2\" class=\"data row4 col2\" >1</td>\n",
       "                        <td id=\"T_9c3f14c0_4cc7_11e9_952f_54ee75e0f62drow4_col3\" class=\"data row4 col3\" >False</td>\n",
       "                        <td id=\"T_9c3f14c0_4cc7_11e9_952f_54ee75e0f62drow4_col4\" class=\"data row4 col4\" ><a target=\"_blank\" href=\"https://github.com/jupyter/repo2docker/issues/593\">https://github.com/jupyter/repo2docker/issues/593</a></td>\n",
       "            </tr>\n",
       "            <tr>\n",
       "                                <td id=\"T_9c3f14c0_4cc7_11e9_952f_54ee75e0f62drow5_col0\" class=\"data row5 col0\" >pwrose</td>\n",
       "                        <td id=\"T_9c3f14c0_4cc7_11e9_952f_54ee75e0f62drow5_col1\" class=\"data row5 col1\" >NONE</td>\n",
       "                        <td id=\"T_9c3f14c0_4cc7_11e9_952f_54ee75e0f62drow5_col2\" class=\"data row5 col2\" >1</td>\n",
       "                        <td id=\"T_9c3f14c0_4cc7_11e9_952f_54ee75e0f62drow5_col3\" class=\"data row5 col3\" >False</td>\n",
       "                        <td id=\"T_9c3f14c0_4cc7_11e9_952f_54ee75e0f62drow5_col4\" class=\"data row5 col4\" ><a target=\"_blank\" href=\"https://github.com/jupyter/repo2docker/issues/618\">https://github.com/jupyter/repo2docker/issues/618</a></td>\n",
       "            </tr>\n",
       "            <tr>\n",
       "                                <td id=\"T_9c3f14c0_4cc7_11e9_952f_54ee75e0f62drow6_col0\" class=\"data row6 col0\" >rabernat</td>\n",
       "                        <td id=\"T_9c3f14c0_4cc7_11e9_952f_54ee75e0f62drow6_col1\" class=\"data row6 col1\" >NONE</td>\n",
       "                        <td id=\"T_9c3f14c0_4cc7_11e9_952f_54ee75e0f62drow6_col2\" class=\"data row6 col2\" >1</td>\n",
       "                        <td id=\"T_9c3f14c0_4cc7_11e9_952f_54ee75e0f62drow6_col3\" class=\"data row6 col3\" >False</td>\n",
       "                        <td id=\"T_9c3f14c0_4cc7_11e9_952f_54ee75e0f62drow6_col4\" class=\"data row6 col4\" ><a target=\"_blank\" href=\"https://github.com/jupyter/repo2docker/issues/617\">https://github.com/jupyter/repo2docker/issues/617</a></td>\n",
       "            </tr>\n",
       "            <tr>\n",
       "                                <td id=\"T_9c3f14c0_4cc7_11e9_952f_54ee75e0f62drow7_col0\" class=\"data row7 col0\" >davidanthoff</td>\n",
       "                        <td id=\"T_9c3f14c0_4cc7_11e9_952f_54ee75e0f62drow7_col1\" class=\"data row7 col1\" >CONTRIBUTOR</td>\n",
       "                        <td id=\"T_9c3f14c0_4cc7_11e9_952f_54ee75e0f62drow7_col2\" class=\"data row7 col2\" >2</td>\n",
       "                        <td id=\"T_9c3f14c0_4cc7_11e9_952f_54ee75e0f62drow7_col3\" class=\"data row7 col3\" >False</td>\n",
       "                        <td id=\"T_9c3f14c0_4cc7_11e9_952f_54ee75e0f62drow7_col4\" class=\"data row7 col4\" ><a target=\"_blank\" href=\"https://github.com/jupyter/repo2docker/issues/610\">https://github.com/jupyter/repo2docker/issues/610</a></td>\n",
       "            </tr>\n",
       "            <tr>\n",
       "                                <td id=\"T_9c3f14c0_4cc7_11e9_952f_54ee75e0f62drow8_col0\" class=\"data row8 col0\" >davidanthoff</td>\n",
       "                        <td id=\"T_9c3f14c0_4cc7_11e9_952f_54ee75e0f62drow8_col1\" class=\"data row8 col1\" >CONTRIBUTOR</td>\n",
       "                        <td id=\"T_9c3f14c0_4cc7_11e9_952f_54ee75e0f62drow8_col2\" class=\"data row8 col2\" >2</td>\n",
       "                        <td id=\"T_9c3f14c0_4cc7_11e9_952f_54ee75e0f62drow8_col3\" class=\"data row8 col3\" >False</td>\n",
       "                        <td id=\"T_9c3f14c0_4cc7_11e9_952f_54ee75e0f62drow8_col4\" class=\"data row8 col4\" ><a target=\"_blank\" href=\"https://github.com/jupyter/repo2docker/issues/602\">https://github.com/jupyter/repo2docker/issues/602</a></td>\n",
       "            </tr>\n",
       "            <tr>\n",
       "                                <td id=\"T_9c3f14c0_4cc7_11e9_952f_54ee75e0f62drow9_col0\" class=\"data row9 col0\" >betatim</td>\n",
       "                        <td id=\"T_9c3f14c0_4cc7_11e9_952f_54ee75e0f62drow9_col1\" class=\"data row9 col1\" >COLLABORATOR</td>\n",
       "                        <td id=\"T_9c3f14c0_4cc7_11e9_952f_54ee75e0f62drow9_col2\" class=\"data row9 col2\" >2</td>\n",
       "                        <td id=\"T_9c3f14c0_4cc7_11e9_952f_54ee75e0f62drow9_col3\" class=\"data row9 col3\" >False</td>\n",
       "                        <td id=\"T_9c3f14c0_4cc7_11e9_952f_54ee75e0f62drow9_col4\" class=\"data row9 col4\" ><a target=\"_blank\" href=\"https://github.com/jupyter/repo2docker/issues/599\">https://github.com/jupyter/repo2docker/issues/599</a></td>\n",
       "            </tr>\n",
       "            <tr>\n",
       "                                <td id=\"T_9c3f14c0_4cc7_11e9_952f_54ee75e0f62drow10_col0\" class=\"data row10 col0\" >ctb</td>\n",
       "                        <td id=\"T_9c3f14c0_4cc7_11e9_952f_54ee75e0f62drow10_col1\" class=\"data row10 col1\" >CONTRIBUTOR</td>\n",
       "                        <td id=\"T_9c3f14c0_4cc7_11e9_952f_54ee75e0f62drow10_col2\" class=\"data row10 col2\" >2</td>\n",
       "                        <td id=\"T_9c3f14c0_4cc7_11e9_952f_54ee75e0f62drow10_col3\" class=\"data row10 col3\" >False</td>\n",
       "                        <td id=\"T_9c3f14c0_4cc7_11e9_952f_54ee75e0f62drow10_col4\" class=\"data row10 col4\" ><a target=\"_blank\" href=\"https://github.com/jupyter/repo2docker/issues/596\">https://github.com/jupyter/repo2docker/issues/596</a></td>\n",
       "            </tr>\n",
       "            <tr>\n",
       "                                <td id=\"T_9c3f14c0_4cc7_11e9_952f_54ee75e0f62drow11_col0\" class=\"data row11 col0\" >davidanthoff</td>\n",
       "                        <td id=\"T_9c3f14c0_4cc7_11e9_952f_54ee75e0f62drow11_col1\" class=\"data row11 col1\" >CONTRIBUTOR</td>\n",
       "                        <td id=\"T_9c3f14c0_4cc7_11e9_952f_54ee75e0f62drow11_col2\" class=\"data row11 col2\" >3</td>\n",
       "                        <td id=\"T_9c3f14c0_4cc7_11e9_952f_54ee75e0f62drow11_col3\" class=\"data row11 col3\" >False</td>\n",
       "                        <td id=\"T_9c3f14c0_4cc7_11e9_952f_54ee75e0f62drow11_col4\" class=\"data row11 col4\" ><a target=\"_blank\" href=\"https://github.com/jupyter/repo2docker/issues/601\">https://github.com/jupyter/repo2docker/issues/601</a></td>\n",
       "            </tr>\n",
       "            <tr>\n",
       "                                <td id=\"T_9c3f14c0_4cc7_11e9_952f_54ee75e0f62drow12_col0\" class=\"data row12 col0\" >betatim</td>\n",
       "                        <td id=\"T_9c3f14c0_4cc7_11e9_952f_54ee75e0f62drow12_col1\" class=\"data row12 col1\" >COLLABORATOR</td>\n",
       "                        <td id=\"T_9c3f14c0_4cc7_11e9_952f_54ee75e0f62drow12_col2\" class=\"data row12 col2\" >3</td>\n",
       "                        <td id=\"T_9c3f14c0_4cc7_11e9_952f_54ee75e0f62drow12_col3\" class=\"data row12 col3\" >False</td>\n",
       "                        <td id=\"T_9c3f14c0_4cc7_11e9_952f_54ee75e0f62drow12_col4\" class=\"data row12 col4\" ><a target=\"_blank\" href=\"https://github.com/jupyter/repo2docker/issues/589\">https://github.com/jupyter/repo2docker/issues/589</a></td>\n",
       "            </tr>\n",
       "            <tr>\n",
       "                                <td id=\"T_9c3f14c0_4cc7_11e9_952f_54ee75e0f62drow13_col0\" class=\"data row13 col0\" >davidanthoff</td>\n",
       "                        <td id=\"T_9c3f14c0_4cc7_11e9_952f_54ee75e0f62drow13_col1\" class=\"data row13 col1\" >CONTRIBUTOR</td>\n",
       "                        <td id=\"T_9c3f14c0_4cc7_11e9_952f_54ee75e0f62drow13_col2\" class=\"data row13 col2\" >4</td>\n",
       "                        <td id=\"T_9c3f14c0_4cc7_11e9_952f_54ee75e0f62drow13_col3\" class=\"data row13 col3\" >False</td>\n",
       "                        <td id=\"T_9c3f14c0_4cc7_11e9_952f_54ee75e0f62drow13_col4\" class=\"data row13 col4\" ><a target=\"_blank\" href=\"https://github.com/jupyter/repo2docker/issues/609\">https://github.com/jupyter/repo2docker/issues/609</a></td>\n",
       "            </tr>\n",
       "            <tr>\n",
       "                                <td id=\"T_9c3f14c0_4cc7_11e9_952f_54ee75e0f62drow14_col0\" class=\"data row14 col0\" >SylvainCorlay</td>\n",
       "                        <td id=\"T_9c3f14c0_4cc7_11e9_952f_54ee75e0f62drow14_col1\" class=\"data row14 col1\" >MEMBER</td>\n",
       "                        <td id=\"T_9c3f14c0_4cc7_11e9_952f_54ee75e0f62drow14_col2\" class=\"data row14 col2\" >5</td>\n",
       "                        <td id=\"T_9c3f14c0_4cc7_11e9_952f_54ee75e0f62drow14_col3\" class=\"data row14 col3\" >False</td>\n",
       "                        <td id=\"T_9c3f14c0_4cc7_11e9_952f_54ee75e0f62drow14_col4\" class=\"data row14 col4\" ><a target=\"_blank\" href=\"https://github.com/jupyter/repo2docker/issues/626\">https://github.com/jupyter/repo2docker/issues/626</a></td>\n",
       "            </tr>\n",
       "            <tr>\n",
       "                                <td id=\"T_9c3f14c0_4cc7_11e9_952f_54ee75e0f62drow15_col0\" class=\"data row15 col0\" >betatim</td>\n",
       "                        <td id=\"T_9c3f14c0_4cc7_11e9_952f_54ee75e0f62drow15_col1\" class=\"data row15 col1\" >COLLABORATOR</td>\n",
       "                        <td id=\"T_9c3f14c0_4cc7_11e9_952f_54ee75e0f62drow15_col2\" class=\"data row15 col2\" >11</td>\n",
       "                        <td id=\"T_9c3f14c0_4cc7_11e9_952f_54ee75e0f62drow15_col3\" class=\"data row15 col3\" >False</td>\n",
       "                        <td id=\"T_9c3f14c0_4cc7_11e9_952f_54ee75e0f62drow15_col4\" class=\"data row15 col4\" ><a target=\"_blank\" href=\"https://github.com/jupyter/repo2docker/issues/611\">https://github.com/jupyter/repo2docker/issues/611</a></td>\n",
       "            </tr>\n",
       "            <tr>\n",
       "                                <td id=\"T_9c3f14c0_4cc7_11e9_952f_54ee75e0f62drow16_col0\" class=\"data row16 col0\" >rabernat</td>\n",
       "                        <td id=\"T_9c3f14c0_4cc7_11e9_952f_54ee75e0f62drow16_col1\" class=\"data row16 col1\" >NONE</td>\n",
       "                        <td id=\"T_9c3f14c0_4cc7_11e9_952f_54ee75e0f62drow16_col2\" class=\"data row16 col2\" >1</td>\n",
       "                        <td id=\"T_9c3f14c0_4cc7_11e9_952f_54ee75e0f62drow16_col3\" class=\"data row16 col3\" >True</td>\n",
       "                        <td id=\"T_9c3f14c0_4cc7_11e9_952f_54ee75e0f62drow16_col4\" class=\"data row16 col4\" ><a target=\"_blank\" href=\"https://github.com/jupyter/repo2docker/issues/620\">https://github.com/jupyter/repo2docker/issues/620</a></td>\n",
       "            </tr>\n",
       "            <tr>\n",
       "                                <td id=\"T_9c3f14c0_4cc7_11e9_952f_54ee75e0f62drow17_col0\" class=\"data row17 col0\" >davidanthoff</td>\n",
       "                        <td id=\"T_9c3f14c0_4cc7_11e9_952f_54ee75e0f62drow17_col1\" class=\"data row17 col1\" >CONTRIBUTOR</td>\n",
       "                        <td id=\"T_9c3f14c0_4cc7_11e9_952f_54ee75e0f62drow17_col2\" class=\"data row17 col2\" >3</td>\n",
       "                        <td id=\"T_9c3f14c0_4cc7_11e9_952f_54ee75e0f62drow17_col3\" class=\"data row17 col3\" >True</td>\n",
       "                        <td id=\"T_9c3f14c0_4cc7_11e9_952f_54ee75e0f62drow17_col4\" class=\"data row17 col4\" ><a target=\"_blank\" href=\"https://github.com/jupyter/repo2docker/issues/625\">https://github.com/jupyter/repo2docker/issues/625</a></td>\n",
       "            </tr>\n",
       "            <tr>\n",
       "                                <td id=\"T_9c3f14c0_4cc7_11e9_952f_54ee75e0f62drow18_col0\" class=\"data row18 col0\" >davidanthoff</td>\n",
       "                        <td id=\"T_9c3f14c0_4cc7_11e9_952f_54ee75e0f62drow18_col1\" class=\"data row18 col1\" >CONTRIBUTOR</td>\n",
       "                        <td id=\"T_9c3f14c0_4cc7_11e9_952f_54ee75e0f62drow18_col2\" class=\"data row18 col2\" >5</td>\n",
       "                        <td id=\"T_9c3f14c0_4cc7_11e9_952f_54ee75e0f62drow18_col3\" class=\"data row18 col3\" >True</td>\n",
       "                        <td id=\"T_9c3f14c0_4cc7_11e9_952f_54ee75e0f62drow18_col4\" class=\"data row18 col4\" ><a target=\"_blank\" href=\"https://github.com/jupyter/repo2docker/issues/582\">https://github.com/jupyter/repo2docker/issues/582</a></td>\n",
       "            </tr>\n",
       "            <tr>\n",
       "                                <td id=\"T_9c3f14c0_4cc7_11e9_952f_54ee75e0f62drow19_col0\" class=\"data row19 col0\" >betatim</td>\n",
       "                        <td id=\"T_9c3f14c0_4cc7_11e9_952f_54ee75e0f62drow19_col1\" class=\"data row19 col1\" >COLLABORATOR</td>\n",
       "                        <td id=\"T_9c3f14c0_4cc7_11e9_952f_54ee75e0f62drow19_col2\" class=\"data row19 col2\" >6</td>\n",
       "                        <td id=\"T_9c3f14c0_4cc7_11e9_952f_54ee75e0f62drow19_col3\" class=\"data row19 col3\" >True</td>\n",
       "                        <td id=\"T_9c3f14c0_4cc7_11e9_952f_54ee75e0f62drow19_col4\" class=\"data row19 col4\" ><a target=\"_blank\" href=\"https://github.com/jupyter/repo2docker/issues/584\">https://github.com/jupyter/repo2docker/issues/584</a></td>\n",
       "            </tr>\n",
       "    </tbody></table>"
      ],
      "text/plain": [
       "<pandas.io.formats.style.Styler at 0x7f4945c06438>"
      ]
     },
     "execution_count": 10,
     "metadata": {},
     "output_type": "execute_result"
    }
   ],
   "source": [
    "opened_issues[['user', 'author_association', 'comments', 'closed', 'html_url']]\\\n",
    "    .sort_values(['closed', 'comments']).style.applymap(highlight_rows).format({'html_url': make_clickable}).hide_index()"
   ]
  },
  {
   "cell_type": "markdown",
   "metadata": {
    "papermill": {
     "duration": 0.029928,
     "end_time": "2019-03-22T17:26:21.591098",
     "exception": false,
     "start_time": "2019-03-22T17:26:21.561170",
     "status": "completed"
    },
    "tags": []
   },
   "source": [
    "## Closed issues\n"
   ]
  },
  {
   "cell_type": "code",
   "execution_count": 11,
   "metadata": {
    "jupyter": {
     "source_hidden": true
    },
    "papermill": {
     "duration": 0.064965,
     "end_time": "2019-03-22T17:26:21.689383",
     "exception": false,
     "start_time": "2019-03-22T17:26:21.624418",
     "status": "completed"
    },
    "tags": []
   },
   "outputs": [],
   "source": [
    "closed = issues.query('closed_at > @date')\n",
    "closed_issues = closed[closed['pull_request'].isna()]"
   ]
  },
  {
   "cell_type": "code",
   "execution_count": 12,
   "metadata": {
    "jupyter": {
     "source_hidden": true
    },
    "papermill": {
     "duration": 0.070127,
     "end_time": "2019-03-22T17:26:21.792293",
     "exception": false,
     "start_time": "2019-03-22T17:26:21.722166",
     "status": "completed"
    },
    "tags": []
   },
   "outputs": [
    {
     "data": {
      "text/html": [
       "<style  type=\"text/css\" >\n",
       "    #T_9c68e0e8_4cc7_11e9_952f_54ee75e0f62drow0_col1 {\n",
       "            background-color:  #f7b7b7;\n",
       "        }</style><table id=\"T_9c68e0e8_4cc7_11e9_952f_54ee75e0f62d\" ><thead>    <tr>        <th class=\"col_heading level0 col0\" >user</th>        <th class=\"col_heading level0 col1\" >author_association</th>        <th class=\"col_heading level0 col2\" >comments</th>        <th class=\"col_heading level0 col3\" >html_url</th>    </tr></thead><tbody>\n",
       "                <tr>\n",
       "                                <td id=\"T_9c68e0e8_4cc7_11e9_952f_54ee75e0f62drow0_col0\" class=\"data row0 col0\" >rabernat</td>\n",
       "                        <td id=\"T_9c68e0e8_4cc7_11e9_952f_54ee75e0f62drow0_col1\" class=\"data row0 col1\" >NONE</td>\n",
       "                        <td id=\"T_9c68e0e8_4cc7_11e9_952f_54ee75e0f62drow0_col2\" class=\"data row0 col2\" >1</td>\n",
       "                        <td id=\"T_9c68e0e8_4cc7_11e9_952f_54ee75e0f62drow0_col3\" class=\"data row0 col3\" ><a target=\"_blank\" href=\"https://github.com/jupyter/repo2docker/issues/620\">https://github.com/jupyter/repo2docker/issues/620</a></td>\n",
       "            </tr>\n",
       "            <tr>\n",
       "                                <td id=\"T_9c68e0e8_4cc7_11e9_952f_54ee75e0f62drow1_col0\" class=\"data row1 col0\" >davidanthoff</td>\n",
       "                        <td id=\"T_9c68e0e8_4cc7_11e9_952f_54ee75e0f62drow1_col1\" class=\"data row1 col1\" >CONTRIBUTOR</td>\n",
       "                        <td id=\"T_9c68e0e8_4cc7_11e9_952f_54ee75e0f62drow1_col2\" class=\"data row1 col2\" >3</td>\n",
       "                        <td id=\"T_9c68e0e8_4cc7_11e9_952f_54ee75e0f62drow1_col3\" class=\"data row1 col3\" ><a target=\"_blank\" href=\"https://github.com/jupyter/repo2docker/issues/625\">https://github.com/jupyter/repo2docker/issues/625</a></td>\n",
       "            </tr>\n",
       "            <tr>\n",
       "                                <td id=\"T_9c68e0e8_4cc7_11e9_952f_54ee75e0f62drow2_col0\" class=\"data row2 col0\" >davidanthoff</td>\n",
       "                        <td id=\"T_9c68e0e8_4cc7_11e9_952f_54ee75e0f62drow2_col1\" class=\"data row2 col1\" >CONTRIBUTOR</td>\n",
       "                        <td id=\"T_9c68e0e8_4cc7_11e9_952f_54ee75e0f62drow2_col2\" class=\"data row2 col2\" >5</td>\n",
       "                        <td id=\"T_9c68e0e8_4cc7_11e9_952f_54ee75e0f62drow2_col3\" class=\"data row2 col3\" ><a target=\"_blank\" href=\"https://github.com/jupyter/repo2docker/issues/582\">https://github.com/jupyter/repo2docker/issues/582</a></td>\n",
       "            </tr>\n",
       "            <tr>\n",
       "                                <td id=\"T_9c68e0e8_4cc7_11e9_952f_54ee75e0f62drow3_col0\" class=\"data row3 col0\" >betatim</td>\n",
       "                        <td id=\"T_9c68e0e8_4cc7_11e9_952f_54ee75e0f62drow3_col1\" class=\"data row3 col1\" >COLLABORATOR</td>\n",
       "                        <td id=\"T_9c68e0e8_4cc7_11e9_952f_54ee75e0f62drow3_col2\" class=\"data row3 col2\" >6</td>\n",
       "                        <td id=\"T_9c68e0e8_4cc7_11e9_952f_54ee75e0f62drow3_col3\" class=\"data row3 col3\" ><a target=\"_blank\" href=\"https://github.com/jupyter/repo2docker/issues/584\">https://github.com/jupyter/repo2docker/issues/584</a></td>\n",
       "            </tr>\n",
       "            <tr>\n",
       "                                <td id=\"T_9c68e0e8_4cc7_11e9_952f_54ee75e0f62drow4_col0\" class=\"data row4 col0\" >choldgraf</td>\n",
       "                        <td id=\"T_9c68e0e8_4cc7_11e9_952f_54ee75e0f62drow4_col1\" class=\"data row4 col1\" >MEMBER</td>\n",
       "                        <td id=\"T_9c68e0e8_4cc7_11e9_952f_54ee75e0f62drow4_col2\" class=\"data row4 col2\" >22</td>\n",
       "                        <td id=\"T_9c68e0e8_4cc7_11e9_952f_54ee75e0f62drow4_col3\" class=\"data row4 col3\" ><a target=\"_blank\" href=\"https://github.com/jupyter/repo2docker/issues/570\">https://github.com/jupyter/repo2docker/issues/570</a></td>\n",
       "            </tr>\n",
       "    </tbody></table>"
      ],
      "text/plain": [
       "<pandas.io.formats.style.Styler at 0x7f4940bda128>"
      ]
     },
     "execution_count": 12,
     "metadata": {},
     "output_type": "execute_result"
    }
   ],
   "source": [
    "closed_issues[['user', 'author_association', 'comments', 'html_url']]\\\n",
    "    .sort_values(['comments']).style.applymap(highlight_rows).format({'html_url': make_clickable}).hide_index()"
   ]
  },
  {
   "cell_type": "code",
   "execution_count": 13,
   "metadata": {
    "jupyter": {
     "source_hidden": true
    },
    "papermill": {
     "duration": 0.050969,
     "end_time": "2019-03-22T17:26:21.878509",
     "exception": false,
     "start_time": "2019-03-22T17:26:21.827540",
     "status": "completed"
    },
    "tags": []
   },
   "outputs": [
    {
     "data": {
      "text/html": [
       "<h2 style=\"padding-left: 1em;\">Closed issues: 5</h2>"
      ],
      "text/plain": [
       "<IPython.core.display.HTML object>"
      ]
     },
     "metadata": {},
     "output_type": "display_data"
    }
   ],
   "source": [
    "print_html('Closed issues: {}'.format(len(closed_issues)))"
   ]
  },
  {
   "cell_type": "markdown",
   "metadata": {
    "papermill": {
     "duration": 0.052136,
     "end_time": "2019-03-22T17:26:21.985922",
     "exception": false,
     "start_time": "2019-03-22T17:26:21.933786",
     "status": "completed"
    },
    "tags": []
   },
   "source": [
    "## Opened PRs\n",
    "\n",
    "without responses in red"
   ]
  },
  {
   "cell_type": "code",
   "execution_count": 14,
   "metadata": {
    "jupyter": {
     "source_hidden": true
    },
    "papermill": {
     "duration": 0.097798,
     "end_time": "2019-03-22T17:26:22.122672",
     "exception": false,
     "start_time": "2019-03-22T17:26:22.024874",
     "status": "completed"
    },
    "tags": []
   },
   "outputs": [
    {
     "name": "stderr",
     "output_type": "stream",
     "text": [
      "/home/choldgraf/anaconda/envs/dev/lib/python3.6/site-packages/ipykernel_launcher.py:2: SettingWithCopyWarning: \n",
      "A value is trying to be set on a copy of a slice from a DataFrame.\n",
      "Try using .loc[row_indexer,col_indexer] = value instead\n",
      "\n",
      "See the caveats in the documentation: http://pandas.pydata.org/pandas-docs/stable/indexing.html#indexing-view-versus-copy\n",
      "  \n"
     ]
    }
   ],
   "source": [
    "opened_prs = opened[~opened['pull_request'].isna()]\n",
    "opened_prs['closed'] = ~pd.isnull(opened_prs['closed_at'])\n",
    "\n",
    "closed_prs = closed[~closed['pull_request'].isna()]"
   ]
  },
  {
   "cell_type": "code",
   "execution_count": 15,
   "metadata": {
    "jupyter": {
     "source_hidden": true
    },
    "papermill": {
     "duration": 0.10172,
     "end_time": "2019-03-22T17:26:22.268899",
     "exception": false,
     "start_time": "2019-03-22T17:26:22.167179",
     "status": "completed"
    },
    "tags": []
   },
   "outputs": [
    {
     "data": {
      "text/html": [
       "<h2 style=\"padding-left: 1em;\">Opened PRs: 25</h2>"
      ],
      "text/plain": [
       "<IPython.core.display.HTML object>"
      ]
     },
     "metadata": {},
     "output_type": "display_data"
    }
   ],
   "source": [
    "print_html('Opened PRs: {}'.format(len(opened_prs)))"
   ]
  },
  {
   "cell_type": "code",
   "execution_count": 16,
   "metadata": {
    "jupyter": {
     "source_hidden": true
    },
    "papermill": {
     "duration": 0.227339,
     "end_time": "2019-03-22T17:26:22.535500",
     "exception": false,
     "start_time": "2019-03-22T17:26:22.308161",
     "status": "completed"
    },
    "tags": []
   },
   "outputs": [
    {
     "data": {
      "text/html": [
       "<style  type=\"text/css\" >\n",
       "    #T_9cd8c624_4cc7_11e9_952f_54ee75e0f62drow0_col3 {\n",
       "            background-color:  #f7b7b7;\n",
       "        }    #T_9cd8c624_4cc7_11e9_952f_54ee75e0f62drow1_col3 {\n",
       "            background-color:  #f7b7b7;\n",
       "        }    #T_9cd8c624_4cc7_11e9_952f_54ee75e0f62drow2_col2 {\n",
       "            background-color:  #f7b7b7;\n",
       "        }    #T_9cd8c624_4cc7_11e9_952f_54ee75e0f62drow3_col2 {\n",
       "            background-color:  #f7b7b7;\n",
       "        }    #T_9cd8c624_4cc7_11e9_952f_54ee75e0f62drow4_col2 {\n",
       "            background-color:  #f7b7b7;\n",
       "        }    #T_9cd8c624_4cc7_11e9_952f_54ee75e0f62drow5_col2 {\n",
       "            background-color:  #f7b7b7;\n",
       "        }    #T_9cd8c624_4cc7_11e9_952f_54ee75e0f62drow6_col2 {\n",
       "            background-color:  #f7b7b7;\n",
       "        }    #T_9cd8c624_4cc7_11e9_952f_54ee75e0f62drow7_col2 {\n",
       "            background-color:  #f7b7b7;\n",
       "        }    #T_9cd8c624_4cc7_11e9_952f_54ee75e0f62drow18_col1 {\n",
       "            background-color:  #f7b7b7;\n",
       "        }    #T_9cd8c624_4cc7_11e9_952f_54ee75e0f62drow20_col1 {\n",
       "            background-color:  #f7b7b7;\n",
       "        }</style><table id=\"T_9cd8c624_4cc7_11e9_952f_54ee75e0f62d\" ><thead>    <tr>        <th class=\"col_heading level0 col0\" >user</th>        <th class=\"col_heading level0 col1\" >author_association</th>        <th class=\"col_heading level0 col2\" >comments</th>        <th class=\"col_heading level0 col3\" >closed</th>        <th class=\"col_heading level0 col4\" >html_url</th>    </tr></thead><tbody>\n",
       "                <tr>\n",
       "                                <td id=\"T_9cd8c624_4cc7_11e9_952f_54ee75e0f62drow0_col0\" class=\"data row0 col0\" >yuvipanda</td>\n",
       "                        <td id=\"T_9cd8c624_4cc7_11e9_952f_54ee75e0f62drow0_col1\" class=\"data row0 col1\" >MEMBER</td>\n",
       "                        <td id=\"T_9cd8c624_4cc7_11e9_952f_54ee75e0f62drow0_col2\" class=\"data row0 col2\" >2</td>\n",
       "                        <td id=\"T_9cd8c624_4cc7_11e9_952f_54ee75e0f62drow0_col3\" class=\"data row0 col3\" >False</td>\n",
       "                        <td id=\"T_9cd8c624_4cc7_11e9_952f_54ee75e0f62drow0_col4\" class=\"data row0 col4\" ><a target=\"_blank\" href=\"https://github.com/jupyter/repo2docker/pull/605\">https://github.com/jupyter/repo2docker/pull/605</a></td>\n",
       "            </tr>\n",
       "            <tr>\n",
       "                                <td id=\"T_9cd8c624_4cc7_11e9_952f_54ee75e0f62drow1_col0\" class=\"data row1 col0\" >davidanthoff</td>\n",
       "                        <td id=\"T_9cd8c624_4cc7_11e9_952f_54ee75e0f62drow1_col1\" class=\"data row1 col1\" >CONTRIBUTOR</td>\n",
       "                        <td id=\"T_9cd8c624_4cc7_11e9_952f_54ee75e0f62drow1_col2\" class=\"data row1 col2\" >9</td>\n",
       "                        <td id=\"T_9cd8c624_4cc7_11e9_952f_54ee75e0f62drow1_col3\" class=\"data row1 col3\" >False</td>\n",
       "                        <td id=\"T_9cd8c624_4cc7_11e9_952f_54ee75e0f62drow1_col4\" class=\"data row1 col4\" ><a target=\"_blank\" href=\"https://github.com/jupyter/repo2docker/pull/612\">https://github.com/jupyter/repo2docker/pull/612</a></td>\n",
       "            </tr>\n",
       "            <tr>\n",
       "                                <td id=\"T_9cd8c624_4cc7_11e9_952f_54ee75e0f62drow2_col0\" class=\"data row2 col0\" >betatim</td>\n",
       "                        <td id=\"T_9cd8c624_4cc7_11e9_952f_54ee75e0f62drow2_col1\" class=\"data row2 col1\" >COLLABORATOR</td>\n",
       "                        <td id=\"T_9cd8c624_4cc7_11e9_952f_54ee75e0f62drow2_col2\" class=\"data row2 col2\" >0</td>\n",
       "                        <td id=\"T_9cd8c624_4cc7_11e9_952f_54ee75e0f62drow2_col3\" class=\"data row2 col3\" >True</td>\n",
       "                        <td id=\"T_9cd8c624_4cc7_11e9_952f_54ee75e0f62drow2_col4\" class=\"data row2 col4\" ><a target=\"_blank\" href=\"https://github.com/jupyter/repo2docker/pull/606\">https://github.com/jupyter/repo2docker/pull/606</a></td>\n",
       "            </tr>\n",
       "            <tr>\n",
       "                                <td id=\"T_9cd8c624_4cc7_11e9_952f_54ee75e0f62drow3_col0\" class=\"data row3 col0\" >betatim</td>\n",
       "                        <td id=\"T_9cd8c624_4cc7_11e9_952f_54ee75e0f62drow3_col1\" class=\"data row3 col1\" >COLLABORATOR</td>\n",
       "                        <td id=\"T_9cd8c624_4cc7_11e9_952f_54ee75e0f62drow3_col2\" class=\"data row3 col2\" >0</td>\n",
       "                        <td id=\"T_9cd8c624_4cc7_11e9_952f_54ee75e0f62drow3_col3\" class=\"data row3 col3\" >True</td>\n",
       "                        <td id=\"T_9cd8c624_4cc7_11e9_952f_54ee75e0f62drow3_col4\" class=\"data row3 col4\" ><a target=\"_blank\" href=\"https://github.com/jupyter/repo2docker/pull/592\">https://github.com/jupyter/repo2docker/pull/592</a></td>\n",
       "            </tr>\n",
       "            <tr>\n",
       "                                <td id=\"T_9cd8c624_4cc7_11e9_952f_54ee75e0f62drow4_col0\" class=\"data row4 col0\" >betatim</td>\n",
       "                        <td id=\"T_9cd8c624_4cc7_11e9_952f_54ee75e0f62drow4_col1\" class=\"data row4 col1\" >COLLABORATOR</td>\n",
       "                        <td id=\"T_9cd8c624_4cc7_11e9_952f_54ee75e0f62drow4_col2\" class=\"data row4 col2\" >0</td>\n",
       "                        <td id=\"T_9cd8c624_4cc7_11e9_952f_54ee75e0f62drow4_col3\" class=\"data row4 col3\" >True</td>\n",
       "                        <td id=\"T_9cd8c624_4cc7_11e9_952f_54ee75e0f62drow4_col4\" class=\"data row4 col4\" ><a target=\"_blank\" href=\"https://github.com/jupyter/repo2docker/pull/590\">https://github.com/jupyter/repo2docker/pull/590</a></td>\n",
       "            </tr>\n",
       "            <tr>\n",
       "                                <td id=\"T_9cd8c624_4cc7_11e9_952f_54ee75e0f62drow5_col0\" class=\"data row5 col0\" >betatim</td>\n",
       "                        <td id=\"T_9cd8c624_4cc7_11e9_952f_54ee75e0f62drow5_col1\" class=\"data row5 col1\" >COLLABORATOR</td>\n",
       "                        <td id=\"T_9cd8c624_4cc7_11e9_952f_54ee75e0f62drow5_col2\" class=\"data row5 col2\" >0</td>\n",
       "                        <td id=\"T_9cd8c624_4cc7_11e9_952f_54ee75e0f62drow5_col3\" class=\"data row5 col3\" >True</td>\n",
       "                        <td id=\"T_9cd8c624_4cc7_11e9_952f_54ee75e0f62drow5_col4\" class=\"data row5 col4\" ><a target=\"_blank\" href=\"https://github.com/jupyter/repo2docker/pull/588\">https://github.com/jupyter/repo2docker/pull/588</a></td>\n",
       "            </tr>\n",
       "            <tr>\n",
       "                                <td id=\"T_9cd8c624_4cc7_11e9_952f_54ee75e0f62drow6_col0\" class=\"data row6 col0\" >minrk</td>\n",
       "                        <td id=\"T_9cd8c624_4cc7_11e9_952f_54ee75e0f62drow6_col1\" class=\"data row6 col1\" >MEMBER</td>\n",
       "                        <td id=\"T_9cd8c624_4cc7_11e9_952f_54ee75e0f62drow6_col2\" class=\"data row6 col2\" >0</td>\n",
       "                        <td id=\"T_9cd8c624_4cc7_11e9_952f_54ee75e0f62drow6_col3\" class=\"data row6 col3\" >True</td>\n",
       "                        <td id=\"T_9cd8c624_4cc7_11e9_952f_54ee75e0f62drow6_col4\" class=\"data row6 col4\" ><a target=\"_blank\" href=\"https://github.com/jupyter/repo2docker/pull/587\">https://github.com/jupyter/repo2docker/pull/587</a></td>\n",
       "            </tr>\n",
       "            <tr>\n",
       "                                <td id=\"T_9cd8c624_4cc7_11e9_952f_54ee75e0f62drow7_col0\" class=\"data row7 col0\" >minrk</td>\n",
       "                        <td id=\"T_9cd8c624_4cc7_11e9_952f_54ee75e0f62drow7_col1\" class=\"data row7 col1\" >MEMBER</td>\n",
       "                        <td id=\"T_9cd8c624_4cc7_11e9_952f_54ee75e0f62drow7_col2\" class=\"data row7 col2\" >0</td>\n",
       "                        <td id=\"T_9cd8c624_4cc7_11e9_952f_54ee75e0f62drow7_col3\" class=\"data row7 col3\" >True</td>\n",
       "                        <td id=\"T_9cd8c624_4cc7_11e9_952f_54ee75e0f62drow7_col4\" class=\"data row7 col4\" ><a target=\"_blank\" href=\"https://github.com/jupyter/repo2docker/pull/586\">https://github.com/jupyter/repo2docker/pull/586</a></td>\n",
       "            </tr>\n",
       "            <tr>\n",
       "                                <td id=\"T_9cd8c624_4cc7_11e9_952f_54ee75e0f62drow8_col0\" class=\"data row8 col0\" >betatim</td>\n",
       "                        <td id=\"T_9cd8c624_4cc7_11e9_952f_54ee75e0f62drow8_col1\" class=\"data row8 col1\" >COLLABORATOR</td>\n",
       "                        <td id=\"T_9cd8c624_4cc7_11e9_952f_54ee75e0f62drow8_col2\" class=\"data row8 col2\" >1</td>\n",
       "                        <td id=\"T_9cd8c624_4cc7_11e9_952f_54ee75e0f62drow8_col3\" class=\"data row8 col3\" >True</td>\n",
       "                        <td id=\"T_9cd8c624_4cc7_11e9_952f_54ee75e0f62drow8_col4\" class=\"data row8 col4\" ><a target=\"_blank\" href=\"https://github.com/jupyter/repo2docker/pull/598\">https://github.com/jupyter/repo2docker/pull/598</a></td>\n",
       "            </tr>\n",
       "            <tr>\n",
       "                                <td id=\"T_9cd8c624_4cc7_11e9_952f_54ee75e0f62drow9_col0\" class=\"data row9 col0\" >fredrikekre</td>\n",
       "                        <td id=\"T_9cd8c624_4cc7_11e9_952f_54ee75e0f62drow9_col1\" class=\"data row9 col1\" >CONTRIBUTOR</td>\n",
       "                        <td id=\"T_9cd8c624_4cc7_11e9_952f_54ee75e0f62drow9_col2\" class=\"data row9 col2\" >1</td>\n",
       "                        <td id=\"T_9cd8c624_4cc7_11e9_952f_54ee75e0f62drow9_col3\" class=\"data row9 col3\" >True</td>\n",
       "                        <td id=\"T_9cd8c624_4cc7_11e9_952f_54ee75e0f62drow9_col4\" class=\"data row9 col4\" ><a target=\"_blank\" href=\"https://github.com/jupyter/repo2docker/pull/623\">https://github.com/jupyter/repo2docker/pull/623</a></td>\n",
       "            </tr>\n",
       "            <tr>\n",
       "                                <td id=\"T_9cd8c624_4cc7_11e9_952f_54ee75e0f62drow10_col0\" class=\"data row10 col0\" >Athanasiamo</td>\n",
       "                        <td id=\"T_9cd8c624_4cc7_11e9_952f_54ee75e0f62drow10_col1\" class=\"data row10 col1\" >CONTRIBUTOR</td>\n",
       "                        <td id=\"T_9cd8c624_4cc7_11e9_952f_54ee75e0f62drow10_col2\" class=\"data row10 col2\" >2</td>\n",
       "                        <td id=\"T_9cd8c624_4cc7_11e9_952f_54ee75e0f62drow10_col3\" class=\"data row10 col3\" >True</td>\n",
       "                        <td id=\"T_9cd8c624_4cc7_11e9_952f_54ee75e0f62drow10_col4\" class=\"data row10 col4\" ><a target=\"_blank\" href=\"https://github.com/jupyter/repo2docker/pull/614\">https://github.com/jupyter/repo2docker/pull/614</a></td>\n",
       "            </tr>\n",
       "            <tr>\n",
       "                                <td id=\"T_9cd8c624_4cc7_11e9_952f_54ee75e0f62drow11_col0\" class=\"data row11 col0\" >agitter</td>\n",
       "                        <td id=\"T_9cd8c624_4cc7_11e9_952f_54ee75e0f62drow11_col1\" class=\"data row11 col1\" >CONTRIBUTOR</td>\n",
       "                        <td id=\"T_9cd8c624_4cc7_11e9_952f_54ee75e0f62drow11_col2\" class=\"data row11 col2\" >2</td>\n",
       "                        <td id=\"T_9cd8c624_4cc7_11e9_952f_54ee75e0f62drow11_col3\" class=\"data row11 col3\" >True</td>\n",
       "                        <td id=\"T_9cd8c624_4cc7_11e9_952f_54ee75e0f62drow11_col4\" class=\"data row11 col4\" ><a target=\"_blank\" href=\"https://github.com/jupyter/repo2docker/pull/608\">https://github.com/jupyter/repo2docker/pull/608</a></td>\n",
       "            </tr>\n",
       "            <tr>\n",
       "                                <td id=\"T_9cd8c624_4cc7_11e9_952f_54ee75e0f62drow12_col0\" class=\"data row12 col0\" >betatim</td>\n",
       "                        <td id=\"T_9cd8c624_4cc7_11e9_952f_54ee75e0f62drow12_col1\" class=\"data row12 col1\" >COLLABORATOR</td>\n",
       "                        <td id=\"T_9cd8c624_4cc7_11e9_952f_54ee75e0f62drow12_col2\" class=\"data row12 col2\" >2</td>\n",
       "                        <td id=\"T_9cd8c624_4cc7_11e9_952f_54ee75e0f62drow12_col3\" class=\"data row12 col3\" >True</td>\n",
       "                        <td id=\"T_9cd8c624_4cc7_11e9_952f_54ee75e0f62drow12_col4\" class=\"data row12 col4\" ><a target=\"_blank\" href=\"https://github.com/jupyter/repo2docker/pull/607\">https://github.com/jupyter/repo2docker/pull/607</a></td>\n",
       "            </tr>\n",
       "            <tr>\n",
       "                                <td id=\"T_9cd8c624_4cc7_11e9_952f_54ee75e0f62drow13_col0\" class=\"data row13 col0\" >betatim</td>\n",
       "                        <td id=\"T_9cd8c624_4cc7_11e9_952f_54ee75e0f62drow13_col1\" class=\"data row13 col1\" >COLLABORATOR</td>\n",
       "                        <td id=\"T_9cd8c624_4cc7_11e9_952f_54ee75e0f62drow13_col2\" class=\"data row13 col2\" >2</td>\n",
       "                        <td id=\"T_9cd8c624_4cc7_11e9_952f_54ee75e0f62drow13_col3\" class=\"data row13 col3\" >True</td>\n",
       "                        <td id=\"T_9cd8c624_4cc7_11e9_952f_54ee75e0f62drow13_col4\" class=\"data row13 col4\" ><a target=\"_blank\" href=\"https://github.com/jupyter/repo2docker/pull/624\">https://github.com/jupyter/repo2docker/pull/624</a></td>\n",
       "            </tr>\n",
       "            <tr>\n",
       "                                <td id=\"T_9cd8c624_4cc7_11e9_952f_54ee75e0f62drow14_col0\" class=\"data row14 col0\" >craig-willis</td>\n",
       "                        <td id=\"T_9cd8c624_4cc7_11e9_952f_54ee75e0f62drow14_col1\" class=\"data row14 col1\" >CONTRIBUTOR</td>\n",
       "                        <td id=\"T_9cd8c624_4cc7_11e9_952f_54ee75e0f62drow14_col2\" class=\"data row14 col2\" >2</td>\n",
       "                        <td id=\"T_9cd8c624_4cc7_11e9_952f_54ee75e0f62drow14_col3\" class=\"data row14 col3\" >True</td>\n",
       "                        <td id=\"T_9cd8c624_4cc7_11e9_952f_54ee75e0f62drow14_col4\" class=\"data row14 col4\" ><a target=\"_blank\" href=\"https://github.com/jupyter/repo2docker/pull/597\">https://github.com/jupyter/repo2docker/pull/597</a></td>\n",
       "            </tr>\n",
       "            <tr>\n",
       "                                <td id=\"T_9cd8c624_4cc7_11e9_952f_54ee75e0f62drow15_col0\" class=\"data row15 col0\" >betatim</td>\n",
       "                        <td id=\"T_9cd8c624_4cc7_11e9_952f_54ee75e0f62drow15_col1\" class=\"data row15 col1\" >COLLABORATOR</td>\n",
       "                        <td id=\"T_9cd8c624_4cc7_11e9_952f_54ee75e0f62drow15_col2\" class=\"data row15 col2\" >2</td>\n",
       "                        <td id=\"T_9cd8c624_4cc7_11e9_952f_54ee75e0f62drow15_col3\" class=\"data row15 col3\" >True</td>\n",
       "                        <td id=\"T_9cd8c624_4cc7_11e9_952f_54ee75e0f62drow15_col4\" class=\"data row15 col4\" ><a target=\"_blank\" href=\"https://github.com/jupyter/repo2docker/pull/585\">https://github.com/jupyter/repo2docker/pull/585</a></td>\n",
       "            </tr>\n",
       "            <tr>\n",
       "                                <td id=\"T_9cd8c624_4cc7_11e9_952f_54ee75e0f62drow16_col0\" class=\"data row16 col0\" >betatim</td>\n",
       "                        <td id=\"T_9cd8c624_4cc7_11e9_952f_54ee75e0f62drow16_col1\" class=\"data row16 col1\" >COLLABORATOR</td>\n",
       "                        <td id=\"T_9cd8c624_4cc7_11e9_952f_54ee75e0f62drow16_col2\" class=\"data row16 col2\" >3</td>\n",
       "                        <td id=\"T_9cd8c624_4cc7_11e9_952f_54ee75e0f62drow16_col3\" class=\"data row16 col3\" >True</td>\n",
       "                        <td id=\"T_9cd8c624_4cc7_11e9_952f_54ee75e0f62drow16_col4\" class=\"data row16 col4\" ><a target=\"_blank\" href=\"https://github.com/jupyter/repo2docker/pull/613\">https://github.com/jupyter/repo2docker/pull/613</a></td>\n",
       "            </tr>\n",
       "            <tr>\n",
       "                                <td id=\"T_9cd8c624_4cc7_11e9_952f_54ee75e0f62drow17_col0\" class=\"data row17 col0\" >haraldschilly</td>\n",
       "                        <td id=\"T_9cd8c624_4cc7_11e9_952f_54ee75e0f62drow17_col1\" class=\"data row17 col1\" >CONTRIBUTOR</td>\n",
       "                        <td id=\"T_9cd8c624_4cc7_11e9_952f_54ee75e0f62drow17_col2\" class=\"data row17 col2\" >3</td>\n",
       "                        <td id=\"T_9cd8c624_4cc7_11e9_952f_54ee75e0f62drow17_col3\" class=\"data row17 col3\" >True</td>\n",
       "                        <td id=\"T_9cd8c624_4cc7_11e9_952f_54ee75e0f62drow17_col4\" class=\"data row17 col4\" ><a target=\"_blank\" href=\"https://github.com/jupyter/repo2docker/pull/583\">https://github.com/jupyter/repo2docker/pull/583</a></td>\n",
       "            </tr>\n",
       "            <tr>\n",
       "                                <td id=\"T_9cd8c624_4cc7_11e9_952f_54ee75e0f62drow18_col0\" class=\"data row18 col0\" >rabernat</td>\n",
       "                        <td id=\"T_9cd8c624_4cc7_11e9_952f_54ee75e0f62drow18_col1\" class=\"data row18 col1\" >NONE</td>\n",
       "                        <td id=\"T_9cd8c624_4cc7_11e9_952f_54ee75e0f62drow18_col2\" class=\"data row18 col2\" >4</td>\n",
       "                        <td id=\"T_9cd8c624_4cc7_11e9_952f_54ee75e0f62drow18_col3\" class=\"data row18 col3\" >True</td>\n",
       "                        <td id=\"T_9cd8c624_4cc7_11e9_952f_54ee75e0f62drow18_col4\" class=\"data row18 col4\" ><a target=\"_blank\" href=\"https://github.com/jupyter/repo2docker/pull/621\">https://github.com/jupyter/repo2docker/pull/621</a></td>\n",
       "            </tr>\n",
       "            <tr>\n",
       "                                <td id=\"T_9cd8c624_4cc7_11e9_952f_54ee75e0f62drow19_col0\" class=\"data row19 col0\" >minrk</td>\n",
       "                        <td id=\"T_9cd8c624_4cc7_11e9_952f_54ee75e0f62drow19_col1\" class=\"data row19 col1\" >MEMBER</td>\n",
       "                        <td id=\"T_9cd8c624_4cc7_11e9_952f_54ee75e0f62drow19_col2\" class=\"data row19 col2\" >6</td>\n",
       "                        <td id=\"T_9cd8c624_4cc7_11e9_952f_54ee75e0f62drow19_col3\" class=\"data row19 col3\" >True</td>\n",
       "                        <td id=\"T_9cd8c624_4cc7_11e9_952f_54ee75e0f62drow19_col4\" class=\"data row19 col4\" ><a target=\"_blank\" href=\"https://github.com/jupyter/repo2docker/pull/603\">https://github.com/jupyter/repo2docker/pull/603</a></td>\n",
       "            </tr>\n",
       "            <tr>\n",
       "                                <td id=\"T_9cd8c624_4cc7_11e9_952f_54ee75e0f62drow20_col0\" class=\"data row20 col0\" >sebasguts</td>\n",
       "                        <td id=\"T_9cd8c624_4cc7_11e9_952f_54ee75e0f62drow20_col1\" class=\"data row20 col1\" >NONE</td>\n",
       "                        <td id=\"T_9cd8c624_4cc7_11e9_952f_54ee75e0f62drow20_col2\" class=\"data row20 col2\" >6</td>\n",
       "                        <td id=\"T_9cd8c624_4cc7_11e9_952f_54ee75e0f62drow20_col3\" class=\"data row20 col3\" >True</td>\n",
       "                        <td id=\"T_9cd8c624_4cc7_11e9_952f_54ee75e0f62drow20_col4\" class=\"data row20 col4\" ><a target=\"_blank\" href=\"https://github.com/jupyter/repo2docker/pull/619\">https://github.com/jupyter/repo2docker/pull/619</a></td>\n",
       "            </tr>\n",
       "            <tr>\n",
       "                                <td id=\"T_9cd8c624_4cc7_11e9_952f_54ee75e0f62drow21_col0\" class=\"data row21 col0\" >davidanthoff</td>\n",
       "                        <td id=\"T_9cd8c624_4cc7_11e9_952f_54ee75e0f62drow21_col1\" class=\"data row21 col1\" >CONTRIBUTOR</td>\n",
       "                        <td id=\"T_9cd8c624_4cc7_11e9_952f_54ee75e0f62drow21_col2\" class=\"data row21 col2\" >7</td>\n",
       "                        <td id=\"T_9cd8c624_4cc7_11e9_952f_54ee75e0f62drow21_col3\" class=\"data row21 col3\" >True</td>\n",
       "                        <td id=\"T_9cd8c624_4cc7_11e9_952f_54ee75e0f62drow21_col4\" class=\"data row21 col4\" ><a target=\"_blank\" href=\"https://github.com/jupyter/repo2docker/pull/591\">https://github.com/jupyter/repo2docker/pull/591</a></td>\n",
       "            </tr>\n",
       "            <tr>\n",
       "                                <td id=\"T_9cd8c624_4cc7_11e9_952f_54ee75e0f62drow22_col0\" class=\"data row22 col0\" >davidanthoff</td>\n",
       "                        <td id=\"T_9cd8c624_4cc7_11e9_952f_54ee75e0f62drow22_col1\" class=\"data row22 col1\" >CONTRIBUTOR</td>\n",
       "                        <td id=\"T_9cd8c624_4cc7_11e9_952f_54ee75e0f62drow22_col2\" class=\"data row22 col2\" >8</td>\n",
       "                        <td id=\"T_9cd8c624_4cc7_11e9_952f_54ee75e0f62drow22_col3\" class=\"data row22 col3\" >True</td>\n",
       "                        <td id=\"T_9cd8c624_4cc7_11e9_952f_54ee75e0f62drow22_col4\" class=\"data row22 col4\" ><a target=\"_blank\" href=\"https://github.com/jupyter/repo2docker/pull/594\">https://github.com/jupyter/repo2docker/pull/594</a></td>\n",
       "            </tr>\n",
       "            <tr>\n",
       "                                <td id=\"T_9cd8c624_4cc7_11e9_952f_54ee75e0f62drow23_col0\" class=\"data row23 col0\" >davidanthoff</td>\n",
       "                        <td id=\"T_9cd8c624_4cc7_11e9_952f_54ee75e0f62drow23_col1\" class=\"data row23 col1\" >CONTRIBUTOR</td>\n",
       "                        <td id=\"T_9cd8c624_4cc7_11e9_952f_54ee75e0f62drow23_col2\" class=\"data row23 col2\" >11</td>\n",
       "                        <td id=\"T_9cd8c624_4cc7_11e9_952f_54ee75e0f62drow23_col3\" class=\"data row23 col3\" >True</td>\n",
       "                        <td id=\"T_9cd8c624_4cc7_11e9_952f_54ee75e0f62drow23_col4\" class=\"data row23 col4\" ><a target=\"_blank\" href=\"https://github.com/jupyter/repo2docker/pull/622\">https://github.com/jupyter/repo2docker/pull/622</a></td>\n",
       "            </tr>\n",
       "            <tr>\n",
       "                                <td id=\"T_9cd8c624_4cc7_11e9_952f_54ee75e0f62drow24_col0\" class=\"data row24 col0\" >davidanthoff</td>\n",
       "                        <td id=\"T_9cd8c624_4cc7_11e9_952f_54ee75e0f62drow24_col1\" class=\"data row24 col1\" >CONTRIBUTOR</td>\n",
       "                        <td id=\"T_9cd8c624_4cc7_11e9_952f_54ee75e0f62drow24_col2\" class=\"data row24 col2\" >23</td>\n",
       "                        <td id=\"T_9cd8c624_4cc7_11e9_952f_54ee75e0f62drow24_col3\" class=\"data row24 col3\" >True</td>\n",
       "                        <td id=\"T_9cd8c624_4cc7_11e9_952f_54ee75e0f62drow24_col4\" class=\"data row24 col4\" ><a target=\"_blank\" href=\"https://github.com/jupyter/repo2docker/pull/595\">https://github.com/jupyter/repo2docker/pull/595</a></td>\n",
       "            </tr>\n",
       "    </tbody></table>"
      ],
      "text/plain": [
       "<pandas.io.formats.style.Styler at 0x7f4940bade80>"
      ]
     },
     "execution_count": 16,
     "metadata": {},
     "output_type": "execute_result"
    }
   ],
   "source": [
    "opened_prs[['user', 'author_association', 'comments', 'closed', 'html_url']]\\\n",
    "    .sort_values(['closed', 'comments']).style.applymap(highlight_rows).format({'html_url': make_clickable}).hide_index()"
   ]
  },
  {
   "cell_type": "code",
   "execution_count": 17,
   "metadata": {
    "jupyter": {
     "source_hidden": true
    },
    "papermill": {
     "duration": 0.070778,
     "end_time": "2019-03-22T17:26:22.653937",
     "exception": false,
     "start_time": "2019-03-22T17:26:22.583159",
     "status": "completed"
    },
    "tags": []
   },
   "outputs": [
    {
     "data": {
      "text/html": [
       "<h2 style=\"padding-left: 1em;\">Closed PRs: 25</h2>"
      ],
      "text/plain": [
       "<IPython.core.display.HTML object>"
      ]
     },
     "metadata": {},
     "output_type": "display_data"
    }
   ],
   "source": [
    "print_html('Closed PRs: {}'.format(len(closed_prs)))"
   ]
  },
  {
   "cell_type": "code",
   "execution_count": 18,
   "metadata": {
    "jupyter": {
     "source_hidden": true
    },
    "papermill": {
     "duration": 0.160023,
     "end_time": "2019-03-22T17:26:22.860222",
     "exception": false,
     "start_time": "2019-03-22T17:26:22.700199",
     "status": "completed"
    },
    "tags": []
   },
   "outputs": [
    {
     "data": {
      "text/html": [
       "<style  type=\"text/css\" >\n",
       "    #T_9d0addda_4cc7_11e9_952f_54ee75e0f62drow0_col2 {\n",
       "            background-color:  #f7b7b7;\n",
       "        }    #T_9d0addda_4cc7_11e9_952f_54ee75e0f62drow1_col2 {\n",
       "            background-color:  #f7b7b7;\n",
       "        }    #T_9d0addda_4cc7_11e9_952f_54ee75e0f62drow2_col2 {\n",
       "            background-color:  #f7b7b7;\n",
       "        }    #T_9d0addda_4cc7_11e9_952f_54ee75e0f62drow3_col2 {\n",
       "            background-color:  #f7b7b7;\n",
       "        }    #T_9d0addda_4cc7_11e9_952f_54ee75e0f62drow4_col2 {\n",
       "            background-color:  #f7b7b7;\n",
       "        }    #T_9d0addda_4cc7_11e9_952f_54ee75e0f62drow5_col2 {\n",
       "            background-color:  #f7b7b7;\n",
       "        }    #T_9d0addda_4cc7_11e9_952f_54ee75e0f62drow16_col1 {\n",
       "            background-color:  #f7b7b7;\n",
       "        }    #T_9d0addda_4cc7_11e9_952f_54ee75e0f62drow18_col1 {\n",
       "            background-color:  #f7b7b7;\n",
       "        }</style><table id=\"T_9d0addda_4cc7_11e9_952f_54ee75e0f62d\" ><thead>    <tr>        <th class=\"col_heading level0 col0\" >user</th>        <th class=\"col_heading level0 col1\" >author_association</th>        <th class=\"col_heading level0 col2\" >comments</th>        <th class=\"col_heading level0 col3\" >html_url</th>    </tr></thead><tbody>\n",
       "                <tr>\n",
       "                                <td id=\"T_9d0addda_4cc7_11e9_952f_54ee75e0f62drow0_col0\" class=\"data row0 col0\" >betatim</td>\n",
       "                        <td id=\"T_9d0addda_4cc7_11e9_952f_54ee75e0f62drow0_col1\" class=\"data row0 col1\" >COLLABORATOR</td>\n",
       "                        <td id=\"T_9d0addda_4cc7_11e9_952f_54ee75e0f62drow0_col2\" class=\"data row0 col2\" >0</td>\n",
       "                        <td id=\"T_9d0addda_4cc7_11e9_952f_54ee75e0f62drow0_col3\" class=\"data row0 col3\" ><a target=\"_blank\" href=\"https://github.com/jupyter/repo2docker/pull/592\">https://github.com/jupyter/repo2docker/pull/592</a></td>\n",
       "            </tr>\n",
       "            <tr>\n",
       "                                <td id=\"T_9d0addda_4cc7_11e9_952f_54ee75e0f62drow1_col0\" class=\"data row1 col0\" >minrk</td>\n",
       "                        <td id=\"T_9d0addda_4cc7_11e9_952f_54ee75e0f62drow1_col1\" class=\"data row1 col1\" >MEMBER</td>\n",
       "                        <td id=\"T_9d0addda_4cc7_11e9_952f_54ee75e0f62drow1_col2\" class=\"data row1 col2\" >0</td>\n",
       "                        <td id=\"T_9d0addda_4cc7_11e9_952f_54ee75e0f62drow1_col3\" class=\"data row1 col3\" ><a target=\"_blank\" href=\"https://github.com/jupyter/repo2docker/pull/586\">https://github.com/jupyter/repo2docker/pull/586</a></td>\n",
       "            </tr>\n",
       "            <tr>\n",
       "                                <td id=\"T_9d0addda_4cc7_11e9_952f_54ee75e0f62drow2_col0\" class=\"data row2 col0\" >minrk</td>\n",
       "                        <td id=\"T_9d0addda_4cc7_11e9_952f_54ee75e0f62drow2_col1\" class=\"data row2 col1\" >MEMBER</td>\n",
       "                        <td id=\"T_9d0addda_4cc7_11e9_952f_54ee75e0f62drow2_col2\" class=\"data row2 col2\" >0</td>\n",
       "                        <td id=\"T_9d0addda_4cc7_11e9_952f_54ee75e0f62drow2_col3\" class=\"data row2 col3\" ><a target=\"_blank\" href=\"https://github.com/jupyter/repo2docker/pull/587\">https://github.com/jupyter/repo2docker/pull/587</a></td>\n",
       "            </tr>\n",
       "            <tr>\n",
       "                                <td id=\"T_9d0addda_4cc7_11e9_952f_54ee75e0f62drow3_col0\" class=\"data row3 col0\" >betatim</td>\n",
       "                        <td id=\"T_9d0addda_4cc7_11e9_952f_54ee75e0f62drow3_col1\" class=\"data row3 col1\" >COLLABORATOR</td>\n",
       "                        <td id=\"T_9d0addda_4cc7_11e9_952f_54ee75e0f62drow3_col2\" class=\"data row3 col2\" >0</td>\n",
       "                        <td id=\"T_9d0addda_4cc7_11e9_952f_54ee75e0f62drow3_col3\" class=\"data row3 col3\" ><a target=\"_blank\" href=\"https://github.com/jupyter/repo2docker/pull/588\">https://github.com/jupyter/repo2docker/pull/588</a></td>\n",
       "            </tr>\n",
       "            <tr>\n",
       "                                <td id=\"T_9d0addda_4cc7_11e9_952f_54ee75e0f62drow4_col0\" class=\"data row4 col0\" >betatim</td>\n",
       "                        <td id=\"T_9d0addda_4cc7_11e9_952f_54ee75e0f62drow4_col1\" class=\"data row4 col1\" >COLLABORATOR</td>\n",
       "                        <td id=\"T_9d0addda_4cc7_11e9_952f_54ee75e0f62drow4_col2\" class=\"data row4 col2\" >0</td>\n",
       "                        <td id=\"T_9d0addda_4cc7_11e9_952f_54ee75e0f62drow4_col3\" class=\"data row4 col3\" ><a target=\"_blank\" href=\"https://github.com/jupyter/repo2docker/pull/606\">https://github.com/jupyter/repo2docker/pull/606</a></td>\n",
       "            </tr>\n",
       "            <tr>\n",
       "                                <td id=\"T_9d0addda_4cc7_11e9_952f_54ee75e0f62drow5_col0\" class=\"data row5 col0\" >betatim</td>\n",
       "                        <td id=\"T_9d0addda_4cc7_11e9_952f_54ee75e0f62drow5_col1\" class=\"data row5 col1\" >COLLABORATOR</td>\n",
       "                        <td id=\"T_9d0addda_4cc7_11e9_952f_54ee75e0f62drow5_col2\" class=\"data row5 col2\" >0</td>\n",
       "                        <td id=\"T_9d0addda_4cc7_11e9_952f_54ee75e0f62drow5_col3\" class=\"data row5 col3\" ><a target=\"_blank\" href=\"https://github.com/jupyter/repo2docker/pull/590\">https://github.com/jupyter/repo2docker/pull/590</a></td>\n",
       "            </tr>\n",
       "            <tr>\n",
       "                                <td id=\"T_9d0addda_4cc7_11e9_952f_54ee75e0f62drow6_col0\" class=\"data row6 col0\" >betatim</td>\n",
       "                        <td id=\"T_9d0addda_4cc7_11e9_952f_54ee75e0f62drow6_col1\" class=\"data row6 col1\" >COLLABORATOR</td>\n",
       "                        <td id=\"T_9d0addda_4cc7_11e9_952f_54ee75e0f62drow6_col2\" class=\"data row6 col2\" >1</td>\n",
       "                        <td id=\"T_9d0addda_4cc7_11e9_952f_54ee75e0f62drow6_col3\" class=\"data row6 col3\" ><a target=\"_blank\" href=\"https://github.com/jupyter/repo2docker/pull/598\">https://github.com/jupyter/repo2docker/pull/598</a></td>\n",
       "            </tr>\n",
       "            <tr>\n",
       "                                <td id=\"T_9d0addda_4cc7_11e9_952f_54ee75e0f62drow7_col0\" class=\"data row7 col0\" >fredrikekre</td>\n",
       "                        <td id=\"T_9d0addda_4cc7_11e9_952f_54ee75e0f62drow7_col1\" class=\"data row7 col1\" >CONTRIBUTOR</td>\n",
       "                        <td id=\"T_9d0addda_4cc7_11e9_952f_54ee75e0f62drow7_col2\" class=\"data row7 col2\" >1</td>\n",
       "                        <td id=\"T_9d0addda_4cc7_11e9_952f_54ee75e0f62drow7_col3\" class=\"data row7 col3\" ><a target=\"_blank\" href=\"https://github.com/jupyter/repo2docker/pull/623\">https://github.com/jupyter/repo2docker/pull/623</a></td>\n",
       "            </tr>\n",
       "            <tr>\n",
       "                                <td id=\"T_9d0addda_4cc7_11e9_952f_54ee75e0f62drow8_col0\" class=\"data row8 col0\" >betatim</td>\n",
       "                        <td id=\"T_9d0addda_4cc7_11e9_952f_54ee75e0f62drow8_col1\" class=\"data row8 col1\" >COLLABORATOR</td>\n",
       "                        <td id=\"T_9d0addda_4cc7_11e9_952f_54ee75e0f62drow8_col2\" class=\"data row8 col2\" >2</td>\n",
       "                        <td id=\"T_9d0addda_4cc7_11e9_952f_54ee75e0f62drow8_col3\" class=\"data row8 col3\" ><a target=\"_blank\" href=\"https://github.com/jupyter/repo2docker/pull/585\">https://github.com/jupyter/repo2docker/pull/585</a></td>\n",
       "            </tr>\n",
       "            <tr>\n",
       "                                <td id=\"T_9d0addda_4cc7_11e9_952f_54ee75e0f62drow9_col0\" class=\"data row9 col0\" >Athanasiamo</td>\n",
       "                        <td id=\"T_9d0addda_4cc7_11e9_952f_54ee75e0f62drow9_col1\" class=\"data row9 col1\" >CONTRIBUTOR</td>\n",
       "                        <td id=\"T_9d0addda_4cc7_11e9_952f_54ee75e0f62drow9_col2\" class=\"data row9 col2\" >2</td>\n",
       "                        <td id=\"T_9d0addda_4cc7_11e9_952f_54ee75e0f62drow9_col3\" class=\"data row9 col3\" ><a target=\"_blank\" href=\"https://github.com/jupyter/repo2docker/pull/614\">https://github.com/jupyter/repo2docker/pull/614</a></td>\n",
       "            </tr>\n",
       "            <tr>\n",
       "                                <td id=\"T_9d0addda_4cc7_11e9_952f_54ee75e0f62drow10_col0\" class=\"data row10 col0\" >betatim</td>\n",
       "                        <td id=\"T_9d0addda_4cc7_11e9_952f_54ee75e0f62drow10_col1\" class=\"data row10 col1\" >COLLABORATOR</td>\n",
       "                        <td id=\"T_9d0addda_4cc7_11e9_952f_54ee75e0f62drow10_col2\" class=\"data row10 col2\" >2</td>\n",
       "                        <td id=\"T_9d0addda_4cc7_11e9_952f_54ee75e0f62drow10_col3\" class=\"data row10 col3\" ><a target=\"_blank\" href=\"https://github.com/jupyter/repo2docker/pull/624\">https://github.com/jupyter/repo2docker/pull/624</a></td>\n",
       "            </tr>\n",
       "            <tr>\n",
       "                                <td id=\"T_9d0addda_4cc7_11e9_952f_54ee75e0f62drow11_col0\" class=\"data row11 col0\" >betatim</td>\n",
       "                        <td id=\"T_9d0addda_4cc7_11e9_952f_54ee75e0f62drow11_col1\" class=\"data row11 col1\" >COLLABORATOR</td>\n",
       "                        <td id=\"T_9d0addda_4cc7_11e9_952f_54ee75e0f62drow11_col2\" class=\"data row11 col2\" >2</td>\n",
       "                        <td id=\"T_9d0addda_4cc7_11e9_952f_54ee75e0f62drow11_col3\" class=\"data row11 col3\" ><a target=\"_blank\" href=\"https://github.com/jupyter/repo2docker/pull/607\">https://github.com/jupyter/repo2docker/pull/607</a></td>\n",
       "            </tr>\n",
       "            <tr>\n",
       "                                <td id=\"T_9d0addda_4cc7_11e9_952f_54ee75e0f62drow12_col0\" class=\"data row12 col0\" >agitter</td>\n",
       "                        <td id=\"T_9d0addda_4cc7_11e9_952f_54ee75e0f62drow12_col1\" class=\"data row12 col1\" >CONTRIBUTOR</td>\n",
       "                        <td id=\"T_9d0addda_4cc7_11e9_952f_54ee75e0f62drow12_col2\" class=\"data row12 col2\" >2</td>\n",
       "                        <td id=\"T_9d0addda_4cc7_11e9_952f_54ee75e0f62drow12_col3\" class=\"data row12 col3\" ><a target=\"_blank\" href=\"https://github.com/jupyter/repo2docker/pull/608\">https://github.com/jupyter/repo2docker/pull/608</a></td>\n",
       "            </tr>\n",
       "            <tr>\n",
       "                                <td id=\"T_9d0addda_4cc7_11e9_952f_54ee75e0f62drow13_col0\" class=\"data row13 col0\" >craig-willis</td>\n",
       "                        <td id=\"T_9d0addda_4cc7_11e9_952f_54ee75e0f62drow13_col1\" class=\"data row13 col1\" >CONTRIBUTOR</td>\n",
       "                        <td id=\"T_9d0addda_4cc7_11e9_952f_54ee75e0f62drow13_col2\" class=\"data row13 col2\" >2</td>\n",
       "                        <td id=\"T_9d0addda_4cc7_11e9_952f_54ee75e0f62drow13_col3\" class=\"data row13 col3\" ><a target=\"_blank\" href=\"https://github.com/jupyter/repo2docker/pull/597\">https://github.com/jupyter/repo2docker/pull/597</a></td>\n",
       "            </tr>\n",
       "            <tr>\n",
       "                                <td id=\"T_9d0addda_4cc7_11e9_952f_54ee75e0f62drow14_col0\" class=\"data row14 col0\" >betatim</td>\n",
       "                        <td id=\"T_9d0addda_4cc7_11e9_952f_54ee75e0f62drow14_col1\" class=\"data row14 col1\" >COLLABORATOR</td>\n",
       "                        <td id=\"T_9d0addda_4cc7_11e9_952f_54ee75e0f62drow14_col2\" class=\"data row14 col2\" >3</td>\n",
       "                        <td id=\"T_9d0addda_4cc7_11e9_952f_54ee75e0f62drow14_col3\" class=\"data row14 col3\" ><a target=\"_blank\" href=\"https://github.com/jupyter/repo2docker/pull/613\">https://github.com/jupyter/repo2docker/pull/613</a></td>\n",
       "            </tr>\n",
       "            <tr>\n",
       "                                <td id=\"T_9d0addda_4cc7_11e9_952f_54ee75e0f62drow15_col0\" class=\"data row15 col0\" >haraldschilly</td>\n",
       "                        <td id=\"T_9d0addda_4cc7_11e9_952f_54ee75e0f62drow15_col1\" class=\"data row15 col1\" >CONTRIBUTOR</td>\n",
       "                        <td id=\"T_9d0addda_4cc7_11e9_952f_54ee75e0f62drow15_col2\" class=\"data row15 col2\" >3</td>\n",
       "                        <td id=\"T_9d0addda_4cc7_11e9_952f_54ee75e0f62drow15_col3\" class=\"data row15 col3\" ><a target=\"_blank\" href=\"https://github.com/jupyter/repo2docker/pull/583\">https://github.com/jupyter/repo2docker/pull/583</a></td>\n",
       "            </tr>\n",
       "            <tr>\n",
       "                                <td id=\"T_9d0addda_4cc7_11e9_952f_54ee75e0f62drow16_col0\" class=\"data row16 col0\" >rabernat</td>\n",
       "                        <td id=\"T_9d0addda_4cc7_11e9_952f_54ee75e0f62drow16_col1\" class=\"data row16 col1\" >NONE</td>\n",
       "                        <td id=\"T_9d0addda_4cc7_11e9_952f_54ee75e0f62drow16_col2\" class=\"data row16 col2\" >4</td>\n",
       "                        <td id=\"T_9d0addda_4cc7_11e9_952f_54ee75e0f62drow16_col3\" class=\"data row16 col3\" ><a target=\"_blank\" href=\"https://github.com/jupyter/repo2docker/pull/621\">https://github.com/jupyter/repo2docker/pull/621</a></td>\n",
       "            </tr>\n",
       "            <tr>\n",
       "                                <td id=\"T_9d0addda_4cc7_11e9_952f_54ee75e0f62drow17_col0\" class=\"data row17 col0\" >minrk</td>\n",
       "                        <td id=\"T_9d0addda_4cc7_11e9_952f_54ee75e0f62drow17_col1\" class=\"data row17 col1\" >MEMBER</td>\n",
       "                        <td id=\"T_9d0addda_4cc7_11e9_952f_54ee75e0f62drow17_col2\" class=\"data row17 col2\" >6</td>\n",
       "                        <td id=\"T_9d0addda_4cc7_11e9_952f_54ee75e0f62drow17_col3\" class=\"data row17 col3\" ><a target=\"_blank\" href=\"https://github.com/jupyter/repo2docker/pull/603\">https://github.com/jupyter/repo2docker/pull/603</a></td>\n",
       "            </tr>\n",
       "            <tr>\n",
       "                                <td id=\"T_9d0addda_4cc7_11e9_952f_54ee75e0f62drow18_col0\" class=\"data row18 col0\" >sebasguts</td>\n",
       "                        <td id=\"T_9d0addda_4cc7_11e9_952f_54ee75e0f62drow18_col1\" class=\"data row18 col1\" >NONE</td>\n",
       "                        <td id=\"T_9d0addda_4cc7_11e9_952f_54ee75e0f62drow18_col2\" class=\"data row18 col2\" >6</td>\n",
       "                        <td id=\"T_9d0addda_4cc7_11e9_952f_54ee75e0f62drow18_col3\" class=\"data row18 col3\" ><a target=\"_blank\" href=\"https://github.com/jupyter/repo2docker/pull/619\">https://github.com/jupyter/repo2docker/pull/619</a></td>\n",
       "            </tr>\n",
       "            <tr>\n",
       "                                <td id=\"T_9d0addda_4cc7_11e9_952f_54ee75e0f62drow19_col0\" class=\"data row19 col0\" >davidanthoff</td>\n",
       "                        <td id=\"T_9d0addda_4cc7_11e9_952f_54ee75e0f62drow19_col1\" class=\"data row19 col1\" >CONTRIBUTOR</td>\n",
       "                        <td id=\"T_9d0addda_4cc7_11e9_952f_54ee75e0f62drow19_col2\" class=\"data row19 col2\" >7</td>\n",
       "                        <td id=\"T_9d0addda_4cc7_11e9_952f_54ee75e0f62drow19_col3\" class=\"data row19 col3\" ><a target=\"_blank\" href=\"https://github.com/jupyter/repo2docker/pull/591\">https://github.com/jupyter/repo2docker/pull/591</a></td>\n",
       "            </tr>\n",
       "            <tr>\n",
       "                                <td id=\"T_9d0addda_4cc7_11e9_952f_54ee75e0f62drow20_col0\" class=\"data row20 col0\" >betatim</td>\n",
       "                        <td id=\"T_9d0addda_4cc7_11e9_952f_54ee75e0f62drow20_col1\" class=\"data row20 col1\" >COLLABORATOR</td>\n",
       "                        <td id=\"T_9d0addda_4cc7_11e9_952f_54ee75e0f62drow20_col2\" class=\"data row20 col2\" >7</td>\n",
       "                        <td id=\"T_9d0addda_4cc7_11e9_952f_54ee75e0f62drow20_col3\" class=\"data row20 col3\" ><a target=\"_blank\" href=\"https://github.com/jupyter/repo2docker/pull/577\">https://github.com/jupyter/repo2docker/pull/577</a></td>\n",
       "            </tr>\n",
       "            <tr>\n",
       "                                <td id=\"T_9d0addda_4cc7_11e9_952f_54ee75e0f62drow21_col0\" class=\"data row21 col0\" >davidanthoff</td>\n",
       "                        <td id=\"T_9d0addda_4cc7_11e9_952f_54ee75e0f62drow21_col1\" class=\"data row21 col1\" >CONTRIBUTOR</td>\n",
       "                        <td id=\"T_9d0addda_4cc7_11e9_952f_54ee75e0f62drow21_col2\" class=\"data row21 col2\" >8</td>\n",
       "                        <td id=\"T_9d0addda_4cc7_11e9_952f_54ee75e0f62drow21_col3\" class=\"data row21 col3\" ><a target=\"_blank\" href=\"https://github.com/jupyter/repo2docker/pull/594\">https://github.com/jupyter/repo2docker/pull/594</a></td>\n",
       "            </tr>\n",
       "            <tr>\n",
       "                                <td id=\"T_9d0addda_4cc7_11e9_952f_54ee75e0f62drow22_col0\" class=\"data row22 col0\" >davidanthoff</td>\n",
       "                        <td id=\"T_9d0addda_4cc7_11e9_952f_54ee75e0f62drow22_col1\" class=\"data row22 col1\" >CONTRIBUTOR</td>\n",
       "                        <td id=\"T_9d0addda_4cc7_11e9_952f_54ee75e0f62drow22_col2\" class=\"data row22 col2\" >11</td>\n",
       "                        <td id=\"T_9d0addda_4cc7_11e9_952f_54ee75e0f62drow22_col3\" class=\"data row22 col3\" ><a target=\"_blank\" href=\"https://github.com/jupyter/repo2docker/pull/622\">https://github.com/jupyter/repo2docker/pull/622</a></td>\n",
       "            </tr>\n",
       "            <tr>\n",
       "                                <td id=\"T_9d0addda_4cc7_11e9_952f_54ee75e0f62drow23_col0\" class=\"data row23 col0\" >yuvipanda</td>\n",
       "                        <td id=\"T_9d0addda_4cc7_11e9_952f_54ee75e0f62drow23_col1\" class=\"data row23 col1\" >MEMBER</td>\n",
       "                        <td id=\"T_9d0addda_4cc7_11e9_952f_54ee75e0f62drow23_col2\" class=\"data row23 col2\" >13</td>\n",
       "                        <td id=\"T_9d0addda_4cc7_11e9_952f_54ee75e0f62drow23_col3\" class=\"data row23 col3\" ><a target=\"_blank\" href=\"https://github.com/jupyter/repo2docker/pull/539\">https://github.com/jupyter/repo2docker/pull/539</a></td>\n",
       "            </tr>\n",
       "            <tr>\n",
       "                                <td id=\"T_9d0addda_4cc7_11e9_952f_54ee75e0f62drow24_col0\" class=\"data row24 col0\" >davidanthoff</td>\n",
       "                        <td id=\"T_9d0addda_4cc7_11e9_952f_54ee75e0f62drow24_col1\" class=\"data row24 col1\" >CONTRIBUTOR</td>\n",
       "                        <td id=\"T_9d0addda_4cc7_11e9_952f_54ee75e0f62drow24_col2\" class=\"data row24 col2\" >23</td>\n",
       "                        <td id=\"T_9d0addda_4cc7_11e9_952f_54ee75e0f62drow24_col3\" class=\"data row24 col3\" ><a target=\"_blank\" href=\"https://github.com/jupyter/repo2docker/pull/595\">https://github.com/jupyter/repo2docker/pull/595</a></td>\n",
       "            </tr>\n",
       "    </tbody></table>"
      ],
      "text/plain": [
       "<pandas.io.formats.style.Styler at 0x7f4940bad320>"
      ]
     },
     "execution_count": 18,
     "metadata": {},
     "output_type": "execute_result"
    }
   ],
   "source": [
    "closed_prs[['user', 'author_association', 'comments', 'html_url']]\\\n",
    "    .sort_values(['comments']).style.applymap(highlight_rows).format({'html_url': make_clickable}).hide_index()"
   ]
  },
  {
   "cell_type": "markdown",
   "metadata": {
    "papermill": {
     "duration": 0.052057,
     "end_time": "2019-03-22T17:26:22.951996",
     "exception": false,
     "start_time": "2019-03-22T17:26:22.899939",
     "status": "completed"
    },
    "tags": []
   },
   "source": [
    "# State of repo\n",
    "\n",
    "## Stale issues"
   ]
  },
  {
   "cell_type": "code",
   "execution_count": 19,
   "metadata": {
    "jupyter": {
     "source_hidden": true
    },
    "papermill": {
     "duration": 0.054178,
     "end_time": "2019-03-22T17:26:23.044616",
     "exception": false,
     "start_time": "2019-03-22T17:26:22.990438",
     "status": "completed"
    },
    "tags": []
   },
   "outputs": [],
   "source": [
    "stale_issues = issues.query('updated_at < @date_stale')\n",
    "stale_issues = stale_issues[stale_issues['closed_at'].isnull()]"
   ]
  },
  {
   "cell_type": "code",
   "execution_count": 20,
   "metadata": {
    "jupyter": {
     "source_hidden": true
    },
    "papermill": {
     "duration": 0.079533,
     "end_time": "2019-03-22T17:26:23.170653",
     "exception": false,
     "start_time": "2019-03-22T17:26:23.091120",
     "status": "completed"
    },
    "tags": []
   },
   "outputs": [
    {
     "data": {
      "text/html": [
       "<style  type=\"text/css\" >\n",
       "</style><table id=\"T_9d3abf3c_4cc7_11e9_952f_54ee75e0f62d\" ><thead>    <tr>        <th class=\"col_heading level0 col0\" >user</th>        <th class=\"col_heading level0 col1\" >author_association</th>        <th class=\"col_heading level0 col2\" >comments</th>        <th class=\"col_heading level0 col3\" >html_url</th>    </tr></thead><tbody>\n",
       "        </tbody></table>"
      ],
      "text/plain": [
       "<pandas.io.formats.style.Styler at 0x7f4940c44da0>"
      ]
     },
     "execution_count": 20,
     "metadata": {},
     "output_type": "execute_result"
    }
   ],
   "source": [
    "stale_issues[['user', 'author_association', 'comments', 'html_url']]\\\n",
    "    .sort_values(['comments']).style.applymap(highlight_rows).format({'html_url': make_clickable}).hide_index()"
   ]
  },
  {
   "cell_type": "code",
   "execution_count": null,
   "metadata": {
    "jupyter": {
     "source_hidden": true
    },
    "papermill": {
     "duration": 0.050179,
     "end_time": "2019-03-22T17:26:23.258264",
     "exception": false,
     "start_time": "2019-03-22T17:26:23.208085",
     "status": "completed"
    },
    "tags": []
   },
   "outputs": [],
   "source": []
  }
 ],
 "metadata": {
  "kernelspec": {
   "display_name": "Python 3",
   "language": "python",
   "name": "python3"
  },
  "language_info": {
   "codemirror_mode": {
    "name": "ipython",
    "version": 3
   },
   "file_extension": ".py",
   "mimetype": "text/x-python",
   "name": "python",
   "nbconvert_exporter": "python",
   "pygments_lexer": "ipython3",
   "version": "3.6.5"
  },
  "papermill": {
   "duration": 6.526242,
   "end_time": "2019-03-22T17:26:23.749925",
   "environment_variables": {},
   "exception": null,
   "input_path": "./templates/issues.ipynb",
   "output_path": "../reports/2019-02-20/jupyter/repo2docker/issues.ipynb",
   "parameters": {
    "date": "2019-02-20",
    "org": "jupyter",
    "repo": "repo2docker"
   },
   "start_time": "2019-03-22T17:26:17.223683",
   "version": "0.18.0"
  }
 },
 "nbformat": 4,
 "nbformat_minor": 2
}