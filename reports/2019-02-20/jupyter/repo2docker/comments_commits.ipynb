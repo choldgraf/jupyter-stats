{
 "cells": [
  {
   "cell_type": "code",
   "execution_count": 1,
   "metadata": {
    "jupyter": {
     "source_hidden": true
    },
    "papermill": {
     "duration": 0.664489,
     "end_time": "2019-03-22T17:26:13.643470",
     "exception": false,
     "start_time": "2019-03-22T17:26:12.978981",
     "status": "completed"
    },
    "tags": []
   },
   "outputs": [],
   "source": [
    "import pandas as pd\n",
    "from datetime import timedelta\n",
    "from IPython.display import HTML, display"
   ]
  },
  {
   "cell_type": "code",
   "execution_count": 2,
   "metadata": {
    "jupyter": {
     "source_hidden": true
    },
    "papermill": {
     "duration": 0.042093,
     "end_time": "2019-03-22T17:26:13.704462",
     "exception": false,
     "start_time": "2019-03-22T17:26:13.662369",
     "status": "completed"
    },
    "tags": [
     "parameters"
    ]
   },
   "outputs": [],
   "source": [
    "date = pd.datetime.today() - timedelta(days=30)\n",
    "org = 'jupyterhub'\n",
    "repo = 'zero-to-jupyterhub-k8s'"
   ]
  },
  {
   "cell_type": "code",
   "execution_count": 3,
   "metadata": {
    "jupyter": {
     "source_hidden": true
    },
    "papermill": {
     "duration": 0.027243,
     "end_time": "2019-03-22T17:26:13.752260",
     "exception": false,
     "start_time": "2019-03-22T17:26:13.725017",
     "status": "completed"
    },
    "tags": [
     "injected-parameters"
    ]
   },
   "outputs": [],
   "source": [
    "# Parameters\n",
    "org = \"jupyter\"\n",
    "repo = \"repo2docker\"\n",
    "date = \"2019-02-20\"\n"
   ]
  },
  {
   "cell_type": "code",
   "execution_count": 4,
   "metadata": {
    "jupyter": {
     "source_hidden": true
    },
    "papermill": {
     "duration": 0.038942,
     "end_time": "2019-03-22T17:26:13.812042",
     "exception": false,
     "start_time": "2019-03-22T17:26:13.773100",
     "status": "completed"
    },
    "tags": []
   },
   "outputs": [],
   "source": [
    "# Make sure date is parsed as a date\n",
    "date = pd.to_datetime(date)"
   ]
  },
  {
   "cell_type": "markdown",
   "metadata": {
    "papermill": {
     "duration": 0.018646,
     "end_time": "2019-03-22T17:26:13.853519",
     "exception": false,
     "start_time": "2019-03-22T17:26:13.834873",
     "status": "completed"
    },
    "tags": []
   },
   "source": [
    "## Comment and commit activity\n",
    "\n",
    "This report shows general comment and commit activity for this repository. It's goal is\n",
    "to give a birds-eye view of where activity is happening across the JupyterHub repositories.\n",
    "It shouldn't be treated as a \"leaderboard\" or set of statistics to optimize for.\n"
   ]
  },
  {
   "cell_type": "markdown",
   "metadata": {
    "papermill": {
     "duration": 0.024558,
     "end_time": "2019-03-22T17:26:13.899378",
     "exception": false,
     "start_time": "2019-03-22T17:26:13.874820",
     "status": "completed"
    },
    "tags": []
   },
   "source": [
    "# Imports"
   ]
  },
  {
   "cell_type": "code",
   "execution_count": 5,
   "metadata": {
    "jupyter": {
     "source_hidden": true
    },
    "papermill": {
     "duration": 1.470775,
     "end_time": "2019-03-22T17:26:15.394378",
     "exception": false,
     "start_time": "2019-03-22T17:26:13.923603",
     "status": "completed"
    },
    "tags": []
   },
   "outputs": [],
   "source": [
    "import pandas as pd\n",
    "import scrapbook as sb\n",
    "from subprocess import run, PIPE\n",
    "from watchtower import comments_, commits_\n",
    "import os.path as op\n",
    "import shutil as sh\n",
    "import os\n",
    "import altair as alt\n",
    "import scrapbook as sb"
   ]
  },
  {
   "cell_type": "code",
   "execution_count": 6,
   "metadata": {
    "jupyter": {
     "source_hidden": true
    },
    "papermill": {
     "duration": 0.051551,
     "end_time": "2019-03-22T17:26:15.477317",
     "exception": false,
     "start_time": "2019-03-22T17:26:15.425766",
     "status": "completed"
    },
    "tags": []
   },
   "outputs": [],
   "source": [
    "# Styling functions\n",
    "\n",
    "def highlight_rows(val):\n",
    "    \"\"\"Highlights cells pertaining to non-members and w/ no comments\"\"\"\n",
    "    disp = ''\n",
    "    if val == 0 or val == \"NONE\":\n",
    "        disp += 'background-color: #f7b7b7'\n",
    "    elif val == \"FIRST_TIME_CONTRIBUTOR\":\n",
    "        disp += 'background-color: red'\n",
    "    return disp\n",
    "\n",
    "def make_clickable(val):\n",
    "    # target _blank to open new window\n",
    "    return '<a target=\"_blank\" href=\"{}\">{}</a>'.format(val, val)\n",
    "\n",
    "def print_html(msg):\n",
    "    display(HTML('<h2 style=\"padding-left: 1em;\">{}</h2>'.format(msg)))\n",
    "    \n",
    "pd.options.display.max_colwidth = 200"
   ]
  },
  {
   "cell_type": "markdown",
   "metadata": {
    "papermill": {
     "duration": 0.017694,
     "end_time": "2019-03-22T17:26:15.526363",
     "exception": false,
     "start_time": "2019-03-22T17:26:15.508669",
     "status": "completed"
    },
    "tags": []
   },
   "source": [
    "## Load data"
   ]
  },
  {
   "cell_type": "code",
   "execution_count": 7,
   "metadata": {
    "jupyter": {
     "source_hidden": true
    },
    "papermill": {
     "duration": 0.17669,
     "end_time": "2019-03-22T17:26:15.722415",
     "exception": false,
     "start_time": "2019-03-22T17:26:15.545725",
     "status": "completed"
    },
    "tags": []
   },
   "outputs": [],
   "source": [
    "teams = pd.read_csv('../../data/teams.csv')\n",
    "\n",
    "comments = comments_.load_comments(org, repo).query('created_at > @date')\n",
    "commits = commits_.load_commits(org, repo).dropna(subset=['author']).query('date > @date')\n",
    "\n",
    "comments['user'] = comments['user'].map(lambda a: a['login'])\n",
    "commits['user'] = commits['author'].map(lambda a: a['login'])\n",
    "\n",
    "top_committers = commits.groupby('user').count()['html_url'].sort_values(ascending=False).reset_index().rename(columns={'html_url': 'commits'})\n",
    "top_commenters = comments.groupby('user').count()['html_url'].sort_values(ascending=False).reset_index().rename(columns={'html_url': 'comments'})\n",
    "\n",
    "# Save committers/commenters\n",
    "path_data_date = '../../reports/{:%Y-%m-%d}/data'.format(date)\n",
    "if not op.isdir(path_data_date):\n",
    "    os.makedirs(path_data_date)\n",
    "top_committers.to_csv(op.join(path_data_date, '{}_{}-top_committers.csv'.format(org, repo)), index=False)\n",
    "top_commenters.to_csv(op.join(path_data_date, '{}_{}-top_commenters.csv'.format(org, repo)), index=False)"
   ]
  },
  {
   "cell_type": "code",
   "execution_count": 8,
   "metadata": {
    "jupyter": {
     "source_hidden": true
    },
    "papermill": {
     "duration": 0.03755,
     "end_time": "2019-03-22T17:26:15.777785",
     "exception": false,
     "start_time": "2019-03-22T17:26:15.740235",
     "status": "completed"
    },
    "tags": []
   },
   "outputs": [
    {
     "data": {
      "text/html": [
       "<h2 style=\"padding-left: 1em;\">Total commits: 115</h2>"
      ],
      "text/plain": [
       "<IPython.core.display.HTML object>"
      ]
     },
     "metadata": {},
     "output_type": "display_data"
    },
    {
     "data": {
      "text/html": [
       "<h2 style=\"padding-left: 1em;\">Total comments: 176</h2>"
      ],
      "text/plain": [
       "<IPython.core.display.HTML object>"
      ]
     },
     "metadata": {},
     "output_type": "display_data"
    }
   ],
   "source": [
    "print_html(\"Total commits: {}\".format(len(commits)))\n",
    "print_html(\"Total comments: {}\".format(len(comments)))"
   ]
  },
  {
   "cell_type": "markdown",
   "metadata": {
    "papermill": {
     "duration": 0.024986,
     "end_time": "2019-03-22T17:26:15.824256",
     "exception": false,
     "start_time": "2019-03-22T17:26:15.799270",
     "status": "completed"
    },
    "tags": []
   },
   "source": [
    "## Top committers"
   ]
  },
  {
   "cell_type": "code",
   "execution_count": 9,
   "metadata": {
    "jupyter": {
     "source_hidden": true
    },
    "papermill": {
     "duration": 0.09827,
     "end_time": "2019-03-22T17:26:15.951005",
     "exception": false,
     "start_time": "2019-03-22T17:26:15.852735",
     "status": "completed"
    },
    "tags": []
   },
   "outputs": [],
   "source": [
    "def find_association(user):\n",
    "    person = teams.query('username == @user')\n",
    "    if len(person) == 0:\n",
    "        return 'NONE'\n",
    "    else:\n",
    "        # Return their team (preferring the Binder teams since they're a bit more specific)\n",
    "        return person.iloc[-1]['team']\n",
    "    \n",
    "top_committers['association'] = top_committers['user'].map(find_association)\n",
    "top_commenters['association'] = top_commenters['user'].map(find_association)\n",
    "\n",
    "# Define the color scale we'll use to categorize people\n",
    "color_scale = alt.Scale(\n",
    "    domain=[\"red\", \"lead\", \"blue\", \"jupyterhub\", \"NONE\"],\n",
    "    range=[\"#fdbaba\", \"#fdbaba\", \"#bac5fd\", \"#ffbb74\", \"green\"]\n",
    ")"
   ]
  },
  {
   "cell_type": "code",
   "execution_count": 10,
   "metadata": {
    "jupyter": {
     "source_hidden": true
    },
    "papermill": {
     "duration": 0.09771,
     "end_time": "2019-03-22T17:26:16.069222",
     "exception": false,
     "start_time": "2019-03-22T17:26:15.971512",
     "status": "completed"
    },
    "tags": []
   },
   "outputs": [
    {
     "data": {
      "application/vnd.vegalite.v2+json": {
       "$schema": "https://vega.github.io/schema/vega-lite/v2.6.0.json",
       "config": {
        "view": {
         "height": 300,
         "width": 400
        }
       },
       "data": {
        "name": "data-503cda5a15f3c66d6bc1aac164335f57"
       },
       "datasets": {
        "data-503cda5a15f3c66d6bc1aac164335f57": [
         {
          "association": "NONE",
          "commits": 52,
          "user": "davidanthoff"
         },
         {
          "association": "red",
          "commits": 37,
          "user": "betatim"
         },
         {
          "association": "lead",
          "commits": 8,
          "user": "minrk"
         },
         {
          "association": "red",
          "commits": 5,
          "user": "willingc"
         },
         {
          "association": "NONE",
          "commits": 4,
          "user": "NHDaly"
         },
         {
          "association": "red",
          "commits": 2,
          "user": "yuvipanda"
         },
         {
          "association": "red",
          "commits": 2,
          "user": "choldgraf"
         },
         {
          "association": "NONE",
          "commits": 2,
          "user": "agitter"
         },
         {
          "association": "NONE",
          "commits": 2,
          "user": "Athanasiamo"
         },
         {
          "association": "NONE",
          "commits": 1,
          "user": "fredrikekre"
         }
        ]
       },
       "encoding": {
        "color": {
         "field": "association",
         "scale": {
          "domain": [
           "red",
           "lead",
           "blue",
           "jupyterhub",
           "NONE"
          ],
          "range": [
           "#fdbaba",
           "#fdbaba",
           "#bac5fd",
           "#ffbb74",
           "green"
          ]
         },
         "type": "nominal"
        },
        "x": {
         "field": "commits",
         "type": "quantitative"
        },
        "y": {
         "field": "user",
         "type": "nominal"
        }
       },
       "mark": "bar"
      },
      "text/plain": [
       "<VegaLite 2 object>\n",
       "\n",
       "If you see this message, it means the renderer has not been properly enabled\n",
       "for the frontend that you are using. For more information, see\n",
       "https://altair-viz.github.io/user_guide/troubleshooting.html\n"
      ]
     },
     "execution_count": 10,
     "metadata": {},
     "output_type": "execute_result"
    }
   ],
   "source": [
    "alt.Chart(top_committers).mark_bar().encode(\n",
    "    x='commits',\n",
    "    y='user',\n",
    "    color=alt.Color('association', scale=color_scale)\n",
    ")"
   ]
  },
  {
   "cell_type": "markdown",
   "metadata": {
    "papermill": {
     "duration": 0.026696,
     "end_time": "2019-03-22T17:26:16.116311",
     "exception": false,
     "start_time": "2019-03-22T17:26:16.089615",
     "status": "completed"
    },
    "tags": []
   },
   "source": [
    "## Top commenters"
   ]
  },
  {
   "cell_type": "code",
   "execution_count": 11,
   "metadata": {
    "jupyter": {
     "source_hidden": true
    },
    "papermill": {
     "duration": 0.050334,
     "end_time": "2019-03-22T17:26:16.192883",
     "exception": false,
     "start_time": "2019-03-22T17:26:16.142549",
     "status": "completed"
    },
    "tags": []
   },
   "outputs": [
    {
     "data": {
      "application/vnd.vegalite.v2+json": {
       "$schema": "https://vega.github.io/schema/vega-lite/v2.6.0.json",
       "config": {
        "view": {
         "height": 300,
         "width": 400
        }
       },
       "data": {
        "name": "data-146de71b290043dc7d4b5c6cc8106f1d"
       },
       "datasets": {
        "data-146de71b290043dc7d4b5c6cc8106f1d": [
         {
          "association": "red",
          "comments": 69,
          "user": "betatim"
         },
         {
          "association": "NONE",
          "comments": 43,
          "user": "davidanthoff"
         },
         {
          "association": "NONE",
          "comments": 15,
          "user": "NHDaly"
         },
         {
          "association": "red",
          "comments": 8,
          "user": "yuvipanda"
         },
         {
          "association": "red",
          "comments": 6,
          "user": "choldgraf"
         },
         {
          "association": "NONE",
          "comments": 6,
          "user": "Athanasiamo"
         },
         {
          "association": "red",
          "comments": 4,
          "user": "willingc"
         },
         {
          "association": "NONE",
          "comments": 3,
          "user": "craig-willis"
         },
         {
          "association": "NONE",
          "comments": 2,
          "user": "nuest"
         },
         {
          "association": "NONE",
          "comments": 2,
          "user": "SylvainCorlay"
         },
         {
          "association": "NONE",
          "comments": 2,
          "user": "jhamman"
         },
         {
          "association": "NONE",
          "comments": 2,
          "user": "LucianaMarques"
         },
         {
          "association": "blue",
          "comments": 2,
          "user": "consideRatio"
         },
         {
          "association": "lead",
          "comments": 2,
          "user": "minrk"
         },
         {
          "association": "NONE",
          "comments": 2,
          "user": "sebasguts"
         },
         {
          "association": "NONE",
          "comments": 1,
          "user": "KristofferC"
         },
         {
          "association": "NONE",
          "comments": 1,
          "user": "trallard"
         },
         {
          "association": "NONE",
          "comments": 1,
          "user": "ryanlovett"
         },
         {
          "association": "NONE",
          "comments": 1,
          "user": "agitter"
         },
         {
          "association": "NONE",
          "comments": 1,
          "user": "asinghvi17"
         },
         {
          "association": "NONE",
          "comments": 1,
          "user": "rabernat"
         },
         {
          "association": "NONE",
          "comments": 1,
          "user": "haraldschilly"
         },
         {
          "association": "NONE",
          "comments": 1,
          "user": "ctb"
         }
        ]
       },
       "encoding": {
        "color": {
         "field": "association",
         "scale": {
          "domain": [
           "red",
           "lead",
           "blue",
           "jupyterhub",
           "NONE"
          ],
          "range": [
           "#fdbaba",
           "#fdbaba",
           "#bac5fd",
           "#ffbb74",
           "green"
          ]
         },
         "sort": [
          "CONTRIBUTOR",
          "MEMBER",
          "NONE"
         ],
         "type": "nominal"
        },
        "x": {
         "field": "comments",
         "type": "quantitative"
        },
        "y": {
         "field": "user",
         "type": "nominal"
        }
       },
       "mark": "bar"
      },
      "text/plain": [
       "<VegaLite 2 object>\n",
       "\n",
       "If you see this message, it means the renderer has not been properly enabled\n",
       "for the frontend that you are using. For more information, see\n",
       "https://altair-viz.github.io/user_guide/troubleshooting.html\n"
      ]
     },
     "execution_count": 11,
     "metadata": {},
     "output_type": "execute_result"
    }
   ],
   "source": [
    "alt.Chart(top_commenters).mark_bar().encode(\n",
    "    x='comments',\n",
    "    y='user',\n",
    "    color=alt.Color('association', sort=[\"CONTRIBUTOR\", \"MEMBER\", \"NONE\"], scale=color_scale)\n",
    ")"
   ]
  },
  {
   "cell_type": "markdown",
   "metadata": {
    "papermill": {
     "duration": 0.019634,
     "end_time": "2019-03-22T17:26:16.237888",
     "exception": false,
     "start_time": "2019-03-22T17:26:16.218254",
     "status": "completed"
    },
    "tags": []
   },
   "source": [
    "## Percentages of comments and commits"
   ]
  },
  {
   "cell_type": "code",
   "execution_count": 12,
   "metadata": {
    "jupyter": {
     "source_hidden": true
    },
    "papermill": {
     "duration": 0.05104,
     "end_time": "2019-03-22T17:26:16.310083",
     "exception": false,
     "start_time": "2019-03-22T17:26:16.259043",
     "status": "completed"
    },
    "tags": []
   },
   "outputs": [],
   "source": [
    "# Calculate percentages\n",
    "sum_comments = top_commenters.groupby('association')['comments'].sum().reset_index().rename(columns={'comments': \"percent\"})\n",
    "sum_comments['kind'] = \"comments\"\n",
    "sum_comments['percent'] = 100*(sum_comments['percent'] / sum_comments['percent'].sum())\n",
    "\n",
    "sum_commits = top_committers.groupby('association')['commits'].sum().reset_index().rename(columns={'commits': \"percent\"})\n",
    "sum_commits['kind'] = \"commits\"\n",
    "sum_commits['percent'] = 100*(sum_commits['percent'] / sum_commits['percent'].sum())\n",
    "\n",
    "sum_both = pd.concat([sum_comments, sum_commits])"
   ]
  },
  {
   "cell_type": "code",
   "execution_count": 13,
   "metadata": {
    "jupyter": {
     "source_hidden": true
    },
    "papermill": {
     "duration": 0.048181,
     "end_time": "2019-03-22T17:26:16.386969",
     "exception": false,
     "start_time": "2019-03-22T17:26:16.338788",
     "status": "completed"
    },
    "tags": []
   },
   "outputs": [
    {
     "data": {
      "application/vnd.vegalite.v2+json": {
       "$schema": "https://vega.github.io/schema/vega-lite/v2.6.0.json",
       "config": {
        "view": {
         "height": 300,
         "width": 400
        }
       },
       "data": {
        "name": "data-e7ba27c9679d65de5cce1cbccb8137b4"
       },
       "datasets": {
        "data-e7ba27c9679d65de5cce1cbccb8137b4": [
         {
          "association": "NONE",
          "kind": "comments",
          "percent": 48.29545454545455
         },
         {
          "association": "blue",
          "kind": "comments",
          "percent": 1.1363636363636365
         },
         {
          "association": "lead",
          "kind": "comments",
          "percent": 1.1363636363636365
         },
         {
          "association": "red",
          "kind": "comments",
          "percent": 49.43181818181818
         },
         {
          "association": "NONE",
          "kind": "commits",
          "percent": 53.04347826086957
         },
         {
          "association": "lead",
          "kind": "commits",
          "percent": 6.956521739130435
         },
         {
          "association": "red",
          "kind": "commits",
          "percent": 40.0
         }
        ]
       },
       "encoding": {
        "color": {
         "field": "association",
         "scale": {
          "domain": [
           "red",
           "lead",
           "blue",
           "jupyterhub",
           "NONE"
          ],
          "range": [
           "#fdbaba",
           "#fdbaba",
           "#bac5fd",
           "#ffbb74",
           "green"
          ]
         },
         "sort": [
          "CONTRIBUTOR",
          "MEMBER",
          "NONE"
         ],
         "type": "nominal"
        },
        "x": {
         "field": "percent",
         "type": "quantitative"
        },
        "y": {
         "field": "kind",
         "type": "nominal"
        }
       },
       "mark": "bar"
      },
      "text/plain": [
       "<VegaLite 2 object>\n",
       "\n",
       "If you see this message, it means the renderer has not been properly enabled\n",
       "for the frontend that you are using. For more information, see\n",
       "https://altair-viz.github.io/user_guide/troubleshooting.html\n"
      ]
     },
     "execution_count": 13,
     "metadata": {},
     "output_type": "execute_result"
    }
   ],
   "source": [
    "alt.Chart(sum_both).mark_bar().encode(\n",
    "    x='percent',\n",
    "    y='kind',\n",
    "    color=alt.Color('association', sort=[\"CONTRIBUTOR\", \"MEMBER\", \"NONE\"], scale=color_scale)\n",
    ")"
   ]
  },
  {
   "cell_type": "code",
   "execution_count": null,
   "metadata": {
    "jupyter": {
     "source_hidden": true
    },
    "papermill": {
     "duration": 0.040877,
     "end_time": "2019-03-22T17:26:16.452645",
     "exception": false,
     "start_time": "2019-03-22T17:26:16.411768",
     "status": "completed"
    },
    "tags": []
   },
   "outputs": [],
   "source": []
  }
 ],
 "metadata": {
  "kernelspec": {
   "display_name": "Python 3",
   "language": "python",
   "name": "python3"
  },
  "language_info": {
   "codemirror_mode": {
    "name": "ipython",
    "version": 3
   },
   "file_extension": ".py",
   "mimetype": "text/x-python",
   "name": "python",
   "nbconvert_exporter": "python",
   "pygments_lexer": "ipython3",
   "version": "3.6.5"
  },
  "papermill": {
   "duration": 5.511122,
   "end_time": "2019-03-22T17:26:17.089892",
   "environment_variables": {},
   "exception": null,
   "input_path": "./templates/comments_commits.ipynb",
   "output_path": "../reports/2019-02-20/jupyter/repo2docker/comments_commits.ipynb",
   "parameters": {
    "date": "2019-02-20",
    "org": "jupyter",
    "repo": "repo2docker"
   },
   "start_time": "2019-03-22T17:26:11.578770",
   "version": "0.18.0"
  }
 },
 "nbformat": 4,
 "nbformat_minor": 2
}