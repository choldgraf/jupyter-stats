{
 "cells": [
  {
   "cell_type": "code",
   "execution_count": 1,
   "metadata": {
    "jupyter": {
     "source_hidden": true
    },
    "papermill": {
     "duration": 0.866153,
     "end_time": "2019-03-22T17:27:21.804261",
     "exception": false,
     "start_time": "2019-03-22T17:27:20.938108",
     "status": "completed"
    },
    "tags": []
   },
   "outputs": [],
   "source": [
    "import pandas as pd\n",
    "from datetime import timedelta\n",
    "from IPython.display import HTML, display"
   ]
  },
  {
   "cell_type": "code",
   "execution_count": 2,
   "metadata": {
    "jupyter": {
     "source_hidden": true
    },
    "papermill": {
     "duration": 0.045412,
     "end_time": "2019-03-22T17:27:21.874934",
     "exception": false,
     "start_time": "2019-03-22T17:27:21.829522",
     "status": "completed"
    },
    "tags": [
     "parameters"
    ]
   },
   "outputs": [],
   "source": [
    "date = pd.datetime.today() - timedelta(days=30)\n",
    "org = 'jupyterhub'\n",
    "repo = 'zero-to-jupyterhub-k8s'"
   ]
  },
  {
   "cell_type": "code",
   "execution_count": 3,
   "metadata": {
    "jupyter": {
     "source_hidden": true
    },
    "papermill": {
     "duration": 0.048754,
     "end_time": "2019-03-22T17:27:21.946429",
     "exception": false,
     "start_time": "2019-03-22T17:27:21.897675",
     "status": "completed"
    },
    "tags": [
     "injected-parameters"
    ]
   },
   "outputs": [],
   "source": [
    "# Parameters\n",
    "org = \"jupyterhub\"\n",
    "repo = \"jupyterhub\"\n",
    "date = \"2019-02-20\"\n"
   ]
  },
  {
   "cell_type": "code",
   "execution_count": 4,
   "metadata": {
    "jupyter": {
     "source_hidden": true
    },
    "papermill": {
     "duration": 0.049871,
     "end_time": "2019-03-22T17:27:22.029600",
     "exception": false,
     "start_time": "2019-03-22T17:27:21.979729",
     "status": "completed"
    },
    "tags": []
   },
   "outputs": [],
   "source": [
    "# Make sure date is parsed as a date\n",
    "date = pd.to_datetime(date)"
   ]
  },
  {
   "cell_type": "markdown",
   "metadata": {
    "papermill": {
     "duration": 0.024825,
     "end_time": "2019-03-22T17:27:22.079665",
     "exception": false,
     "start_time": "2019-03-22T17:27:22.054840",
     "status": "completed"
    },
    "tags": []
   },
   "source": [
    "## Comment and commit activity\n",
    "\n",
    "This report shows general comment and commit activity for this repository. It's goal is\n",
    "to give a birds-eye view of where activity is happening across the JupyterHub repositories.\n",
    "It shouldn't be treated as a \"leaderboard\" or set of statistics to optimize for.\n"
   ]
  },
  {
   "cell_type": "markdown",
   "metadata": {
    "papermill": {
     "duration": 0.028523,
     "end_time": "2019-03-22T17:27:22.137353",
     "exception": false,
     "start_time": "2019-03-22T17:27:22.108830",
     "status": "completed"
    },
    "tags": []
   },
   "source": [
    "# Imports"
   ]
  },
  {
   "cell_type": "code",
   "execution_count": 5,
   "metadata": {
    "jupyter": {
     "source_hidden": true
    },
    "papermill": {
     "duration": 2.078221,
     "end_time": "2019-03-22T17:27:24.243974",
     "exception": false,
     "start_time": "2019-03-22T17:27:22.165753",
     "status": "completed"
    },
    "tags": []
   },
   "outputs": [],
   "source": [
    "import pandas as pd\n",
    "import scrapbook as sb\n",
    "from subprocess import run, PIPE\n",
    "from watchtower import comments_, commits_\n",
    "import os.path as op\n",
    "import shutil as sh\n",
    "import os\n",
    "import altair as alt\n",
    "import scrapbook as sb"
   ]
  },
  {
   "cell_type": "code",
   "execution_count": 6,
   "metadata": {
    "jupyter": {
     "source_hidden": true
    },
    "papermill": {
     "duration": 0.035833,
     "end_time": "2019-03-22T17:27:24.301552",
     "exception": false,
     "start_time": "2019-03-22T17:27:24.265719",
     "status": "completed"
    },
    "tags": []
   },
   "outputs": [],
   "source": [
    "# Styling functions\n",
    "\n",
    "def highlight_rows(val):\n",
    "    \"\"\"Highlights cells pertaining to non-members and w/ no comments\"\"\"\n",
    "    disp = ''\n",
    "    if val == 0 or val == \"NONE\":\n",
    "        disp += 'background-color: #f7b7b7'\n",
    "    elif val == \"FIRST_TIME_CONTRIBUTOR\":\n",
    "        disp += 'background-color: red'\n",
    "    return disp\n",
    "\n",
    "def make_clickable(val):\n",
    "    # target _blank to open new window\n",
    "    return '<a target=\"_blank\" href=\"{}\">{}</a>'.format(val, val)\n",
    "\n",
    "def print_html(msg):\n",
    "    display(HTML('<h2 style=\"padding-left: 1em;\">{}</h2>'.format(msg)))\n",
    "    \n",
    "pd.options.display.max_colwidth = 200"
   ]
  },
  {
   "cell_type": "markdown",
   "metadata": {
    "papermill": {
     "duration": 0.019878,
     "end_time": "2019-03-22T17:27:24.345288",
     "exception": false,
     "start_time": "2019-03-22T17:27:24.325410",
     "status": "completed"
    },
    "tags": []
   },
   "source": [
    "## Load data"
   ]
  },
  {
   "cell_type": "code",
   "execution_count": 7,
   "metadata": {
    "jupyter": {
     "source_hidden": true
    },
    "papermill": {
     "duration": 0.175497,
     "end_time": "2019-03-22T17:27:24.543066",
     "exception": false,
     "start_time": "2019-03-22T17:27:24.367569",
     "status": "completed"
    },
    "tags": []
   },
   "outputs": [],
   "source": [
    "teams = pd.read_csv('../../data/teams.csv')\n",
    "\n",
    "comments = comments_.load_comments(org, repo).query('created_at > @date')\n",
    "commits = commits_.load_commits(org, repo).dropna(subset=['author']).query('date > @date')\n",
    "\n",
    "comments['user'] = comments['user'].map(lambda a: a['login'])\n",
    "commits['user'] = commits['author'].map(lambda a: a['login'])\n",
    "\n",
    "top_committers = commits.groupby('user').count()['html_url'].sort_values(ascending=False).reset_index().rename(columns={'html_url': 'commits'})\n",
    "top_commenters = comments.groupby('user').count()['html_url'].sort_values(ascending=False).reset_index().rename(columns={'html_url': 'comments'})\n",
    "\n",
    "# Save committers/commenters\n",
    "path_data_date = '../../reports/{:%Y-%m-%d}/data'.format(date)\n",
    "if not op.isdir(path_data_date):\n",
    "    os.makedirs(path_data_date)\n",
    "top_committers.to_csv(op.join(path_data_date, '{}_{}-top_committers.csv'.format(org, repo)), index=False)\n",
    "top_commenters.to_csv(op.join(path_data_date, '{}_{}-top_commenters.csv'.format(org, repo)), index=False)"
   ]
  },
  {
   "cell_type": "code",
   "execution_count": 8,
   "metadata": {
    "jupyter": {
     "source_hidden": true
    },
    "papermill": {
     "duration": 0.060024,
     "end_time": "2019-03-22T17:27:24.629235",
     "exception": false,
     "start_time": "2019-03-22T17:27:24.569211",
     "status": "completed"
    },
    "tags": []
   },
   "outputs": [
    {
     "data": {
      "text/html": [
       "<h2 style=\"padding-left: 1em;\">Total commits: 59</h2>"
      ],
      "text/plain": [
       "<IPython.core.display.HTML object>"
      ]
     },
     "metadata": {},
     "output_type": "display_data"
    },
    {
     "data": {
      "text/html": [
       "<h2 style=\"padding-left: 1em;\">Total comments: 122</h2>"
      ],
      "text/plain": [
       "<IPython.core.display.HTML object>"
      ]
     },
     "metadata": {},
     "output_type": "display_data"
    }
   ],
   "source": [
    "print_html(\"Total commits: {}\".format(len(commits)))\n",
    "print_html(\"Total comments: {}\".format(len(comments)))"
   ]
  },
  {
   "cell_type": "markdown",
   "metadata": {
    "papermill": {
     "duration": 0.034159,
     "end_time": "2019-03-22T17:27:24.697038",
     "exception": false,
     "start_time": "2019-03-22T17:27:24.662879",
     "status": "completed"
    },
    "tags": []
   },
   "source": [
    "## Top committers"
   ]
  },
  {
   "cell_type": "code",
   "execution_count": 9,
   "metadata": {
    "jupyter": {
     "source_hidden": true
    },
    "papermill": {
     "duration": 0.265805,
     "end_time": "2019-03-22T17:27:24.996267",
     "exception": false,
     "start_time": "2019-03-22T17:27:24.730462",
     "status": "completed"
    },
    "tags": []
   },
   "outputs": [],
   "source": [
    "def find_association(user):\n",
    "    person = teams.query('username == @user')\n",
    "    if len(person) == 0:\n",
    "        return 'NONE'\n",
    "    else:\n",
    "        # Return their team (preferring the Binder teams since they're a bit more specific)\n",
    "        return person.iloc[-1]['team']\n",
    "    \n",
    "top_committers['association'] = top_committers['user'].map(find_association)\n",
    "top_commenters['association'] = top_commenters['user'].map(find_association)\n",
    "\n",
    "# Define the color scale we'll use to categorize people\n",
    "color_scale = alt.Scale(\n",
    "    domain=[\"red\", \"lead\", \"blue\", \"jupyterhub\", \"NONE\"],\n",
    "    range=[\"#fdbaba\", \"#fdbaba\", \"#bac5fd\", \"#ffbb74\", \"green\"]\n",
    ")"
   ]
  },
  {
   "cell_type": "code",
   "execution_count": 10,
   "metadata": {
    "jupyter": {
     "source_hidden": true
    },
    "papermill": {
     "duration": 0.098883,
     "end_time": "2019-03-22T17:27:25.118538",
     "exception": false,
     "start_time": "2019-03-22T17:27:25.019655",
     "status": "completed"
    },
    "tags": []
   },
   "outputs": [
    {
     "data": {
      "application/vnd.vegalite.v2+json": {
       "$schema": "https://vega.github.io/schema/vega-lite/v2.6.0.json",
       "config": {
        "view": {
         "height": 300,
         "width": 400
        }
       },
       "data": {
        "name": "data-b2dc0ae2aec8e35f4bf7578d50f13df8"
       },
       "datasets": {
        "data-b2dc0ae2aec8e35f4bf7578d50f13df8": [
         {
          "association": "lead",
          "commits": 36,
          "user": "minrk"
         },
         {
          "association": "red",
          "commits": 11,
          "user": "willingc"
         },
         {
          "association": "NONE",
          "commits": 5,
          "user": "Carreau"
         },
         {
          "association": "NONE",
          "commits": 2,
          "user": "mpetroff"
         },
         {
          "association": "red",
          "commits": 2,
          "user": "betatim"
         },
         {
          "association": "NONE",
          "commits": 1,
          "user": "rkdarst"
         },
         {
          "association": "NONE",
          "commits": 1,
          "user": "rcthomas"
         },
         {
          "association": "NONE",
          "commits": 1,
          "user": "javabrett"
         }
        ]
       },
       "encoding": {
        "color": {
         "field": "association",
         "scale": {
          "domain": [
           "red",
           "lead",
           "blue",
           "jupyterhub",
           "NONE"
          ],
          "range": [
           "#fdbaba",
           "#fdbaba",
           "#bac5fd",
           "#ffbb74",
           "green"
          ]
         },
         "type": "nominal"
        },
        "x": {
         "field": "commits",
         "type": "quantitative"
        },
        "y": {
         "field": "user",
         "type": "nominal"
        }
       },
       "mark": "bar"
      },
      "text/plain": [
       "<VegaLite 2 object>\n",
       "\n",
       "If you see this message, it means the renderer has not been properly enabled\n",
       "for the frontend that you are using. For more information, see\n",
       "https://altair-viz.github.io/user_guide/troubleshooting.html\n"
      ]
     },
     "execution_count": 10,
     "metadata": {},
     "output_type": "execute_result"
    }
   ],
   "source": [
    "alt.Chart(top_committers).mark_bar().encode(\n",
    "    x='commits',\n",
    "    y='user',\n",
    "    color=alt.Color('association', scale=color_scale)\n",
    ")"
   ]
  },
  {
   "cell_type": "markdown",
   "metadata": {
    "papermill": {
     "duration": 0.029465,
     "end_time": "2019-03-22T17:27:25.175115",
     "exception": false,
     "start_time": "2019-03-22T17:27:25.145650",
     "status": "completed"
    },
    "tags": []
   },
   "source": [
    "## Top commenters"
   ]
  },
  {
   "cell_type": "code",
   "execution_count": 11,
   "metadata": {
    "jupyter": {
     "source_hidden": true
    },
    "papermill": {
     "duration": 0.079345,
     "end_time": "2019-03-22T17:27:25.283765",
     "exception": false,
     "start_time": "2019-03-22T17:27:25.204420",
     "status": "completed"
    },
    "tags": []
   },
   "outputs": [
    {
     "data": {
      "application/vnd.vegalite.v2+json": {
       "$schema": "https://vega.github.io/schema/vega-lite/v2.6.0.json",
       "config": {
        "view": {
         "height": 300,
         "width": 400
        }
       },
       "data": {
        "name": "data-b0347c3aef6f2d8cb904eb2025f87b78"
       },
       "datasets": {
        "data-b0347c3aef6f2d8cb904eb2025f87b78": [
         {
          "association": "lead",
          "comments": 21,
          "user": "minrk"
         },
         {
          "association": "NONE",
          "comments": 12,
          "user": "Carreau"
         },
         {
          "association": "red",
          "comments": 6,
          "user": "willingc"
         },
         {
          "association": "NONE",
          "comments": 5,
          "user": "serlina"
         },
         {
          "association": "blue",
          "comments": 5,
          "user": "consideRatio"
         },
         {
          "association": "red",
          "comments": 4,
          "user": "betatim"
         },
         {
          "association": "NONE",
          "comments": 4,
          "user": "ellisonbg"
         },
         {
          "association": "NONE",
          "comments": 3,
          "user": "vilhelmen"
         },
         {
          "association": "NONE",
          "comments": 3,
          "user": "mgnfcnt"
         },
         {
          "association": "NONE",
          "comments": 3,
          "user": "tathagata"
         },
         {
          "association": "NONE",
          "comments": 3,
          "user": "rkdarst"
         },
         {
          "association": "red",
          "comments": 2,
          "user": "yuvipanda"
         },
         {
          "association": "NONE",
          "comments": 2,
          "user": "huseinzol05"
         },
         {
          "association": "NONE",
          "comments": 2,
          "user": "mdivk"
         },
         {
          "association": "NONE",
          "comments": 2,
          "user": "clkao"
         },
         {
          "association": "NONE",
          "comments": 2,
          "user": "RajeshB61"
         },
         {
          "association": "NONE",
          "comments": 2,
          "user": "Blackrobe"
         },
         {
          "association": "NONE",
          "comments": 1,
          "user": "ch-liuzhide"
         },
         {
          "association": "NONE",
          "comments": 1,
          "user": "bobbychopra"
         },
         {
          "association": "NONE",
          "comments": 1,
          "user": "divatemangesh"
         },
         {
          "association": "NONE",
          "comments": 1,
          "user": "dtaniwaki"
         },
         {
          "association": "NONE",
          "comments": 1,
          "user": "cb1986ster"
         },
         {
          "association": "NONE",
          "comments": 1,
          "user": "ablekh"
         },
         {
          "association": "NONE",
          "comments": 1,
          "user": "bmarthi248"
         },
         {
          "association": "NONE",
          "comments": 1,
          "user": "bitnik"
         },
         {
          "association": "blue",
          "comments": 1,
          "user": "Zsailer"
         },
         {
          "association": "NONE",
          "comments": 1,
          "user": "Smithx10"
         },
         {
          "association": "NONE",
          "comments": 1,
          "user": "OliverEvans96"
         },
         {
          "association": "NONE",
          "comments": 1,
          "user": "KeitelDOG"
         },
         {
          "association": "NONE",
          "comments": 1,
          "user": "JaobsenYc"
         },
         {
          "association": "NONE",
          "comments": 1,
          "user": "DeoLeung"
         },
         {
          "association": "NONE",
          "comments": 1,
          "user": "Abhinish13"
         },
         {
          "association": "NONE",
          "comments": 1,
          "user": "ebauch"
         },
         {
          "association": "NONE",
          "comments": 1,
          "user": "gerroon"
         },
         {
          "association": "NONE",
          "comments": 1,
          "user": "emirot"
         },
         {
          "association": "NONE",
          "comments": 1,
          "user": "engyasin"
         },
         {
          "association": "NONE",
          "comments": 1,
          "user": "weisong82"
         },
         {
          "association": "NONE",
          "comments": 1,
          "user": "user919lx"
         },
         {
          "association": "NONE",
          "comments": 1,
          "user": "tyrsius"
         },
         {
          "association": "NONE",
          "comments": 1,
          "user": "thongnnguyen"
         },
         {
          "association": "NONE",
          "comments": 1,
          "user": "tantra35"
         },
         {
          "association": "NONE",
          "comments": 1,
          "user": "sanjaydatasciencedojo"
         },
         {
          "association": "NONE",
          "comments": 1,
          "user": "ruhidagdelen"
         },
         {
          "association": "NONE",
          "comments": 1,
          "user": "robnagler"
         },
         {
          "association": "NONE",
          "comments": 1,
          "user": "rcthomas"
         },
         {
          "association": "NONE",
          "comments": 1,
          "user": "pkumar8789"
         },
         {
          "association": "NONE",
          "comments": 1,
          "user": "mpetroff"
         },
         {
          "association": "NONE",
          "comments": 1,
          "user": "montao"
         },
         {
          "association": "NONE",
          "comments": 1,
          "user": "manics"
         },
         {
          "association": "NONE",
          "comments": 1,
          "user": "knkski"
         },
         {
          "association": "NONE",
          "comments": 1,
          "user": "kkmann"
         },
         {
          "association": "NONE",
          "comments": 1,
          "user": "jml6m"
         },
         {
          "association": "NONE",
          "comments": 1,
          "user": "jcunhafonte"
         },
         {
          "association": "NONE",
          "comments": 1,
          "user": "hansen-m"
         },
         {
          "association": "NONE",
          "comments": 1,
          "user": "getitzack"
         },
         {
          "association": "NONE",
          "comments": 1,
          "user": "francois-travais"
         },
         {
          "association": "NONE",
          "comments": 1,
          "user": "enricotagliavini"
         },
         {
          "association": "NONE",
          "comments": 1,
          "user": "00Kai0"
         }
        ]
       },
       "encoding": {
        "color": {
         "field": "association",
         "scale": {
          "domain": [
           "red",
           "lead",
           "blue",
           "jupyterhub",
           "NONE"
          ],
          "range": [
           "#fdbaba",
           "#fdbaba",
           "#bac5fd",
           "#ffbb74",
           "green"
          ]
         },
         "sort": [
          "CONTRIBUTOR",
          "MEMBER",
          "NONE"
         ],
         "type": "nominal"
        },
        "x": {
         "field": "comments",
         "type": "quantitative"
        },
        "y": {
         "field": "user",
         "type": "nominal"
        }
       },
       "mark": "bar"
      },
      "text/plain": [
       "<VegaLite 2 object>\n",
       "\n",
       "If you see this message, it means the renderer has not been properly enabled\n",
       "for the frontend that you are using. For more information, see\n",
       "https://altair-viz.github.io/user_guide/troubleshooting.html\n"
      ]
     },
     "execution_count": 11,
     "metadata": {},
     "output_type": "execute_result"
    }
   ],
   "source": [
    "alt.Chart(top_commenters).mark_bar().encode(\n",
    "    x='comments',\n",
    "    y='user',\n",
    "    color=alt.Color('association', sort=[\"CONTRIBUTOR\", \"MEMBER\", \"NONE\"], scale=color_scale)\n",
    ")"
   ]
  },
  {
   "cell_type": "markdown",
   "metadata": {
    "papermill": {
     "duration": 0.036903,
     "end_time": "2019-03-22T17:27:25.356083",
     "exception": false,
     "start_time": "2019-03-22T17:27:25.319180",
     "status": "completed"
    },
    "tags": []
   },
   "source": [
    "## Percentages of comments and commits"
   ]
  },
  {
   "cell_type": "code",
   "execution_count": 12,
   "metadata": {
    "jupyter": {
     "source_hidden": true
    },
    "papermill": {
     "duration": 0.057948,
     "end_time": "2019-03-22T17:27:25.441666",
     "exception": false,
     "start_time": "2019-03-22T17:27:25.383718",
     "status": "completed"
    },
    "tags": []
   },
   "outputs": [],
   "source": [
    "# Calculate percentages\n",
    "sum_comments = top_commenters.groupby('association')['comments'].sum().reset_index().rename(columns={'comments': \"percent\"})\n",
    "sum_comments['kind'] = \"comments\"\n",
    "sum_comments['percent'] = 100*(sum_comments['percent'] / sum_comments['percent'].sum())\n",
    "\n",
    "sum_commits = top_committers.groupby('association')['commits'].sum().reset_index().rename(columns={'commits': \"percent\"})\n",
    "sum_commits['kind'] = \"commits\"\n",
    "sum_commits['percent'] = 100*(sum_commits['percent'] / sum_commits['percent'].sum())\n",
    "\n",
    "sum_both = pd.concat([sum_comments, sum_commits])"
   ]
  },
  {
   "cell_type": "code",
   "execution_count": 13,
   "metadata": {
    "jupyter": {
     "source_hidden": true
    },
    "papermill": {
     "duration": 0.074707,
     "end_time": "2019-03-22T17:27:25.560162",
     "exception": false,
     "start_time": "2019-03-22T17:27:25.485455",
     "status": "completed"
    },
    "tags": []
   },
   "outputs": [
    {
     "data": {
      "application/vnd.vegalite.v2+json": {
       "$schema": "https://vega.github.io/schema/vega-lite/v2.6.0.json",
       "config": {
        "view": {
         "height": 300,
         "width": 400
        }
       },
       "data": {
        "name": "data-400a9c629da0ebc3afcebb64fe3e1548"
       },
       "datasets": {
        "data-400a9c629da0ebc3afcebb64fe3e1548": [
         {
          "association": "NONE",
          "kind": "comments",
          "percent": 68.0327868852459
         },
         {
          "association": "blue",
          "kind": "comments",
          "percent": 4.918032786885246
         },
         {
          "association": "lead",
          "kind": "comments",
          "percent": 17.21311475409836
         },
         {
          "association": "red",
          "kind": "comments",
          "percent": 9.836065573770492
         },
         {
          "association": "NONE",
          "kind": "commits",
          "percent": 16.94915254237288
         },
         {
          "association": "lead",
          "kind": "commits",
          "percent": 61.016949152542374
         },
         {
          "association": "red",
          "kind": "commits",
          "percent": 22.033898305084744
         }
        ]
       },
       "encoding": {
        "color": {
         "field": "association",
         "scale": {
          "domain": [
           "red",
           "lead",
           "blue",
           "jupyterhub",
           "NONE"
          ],
          "range": [
           "#fdbaba",
           "#fdbaba",
           "#bac5fd",
           "#ffbb74",
           "green"
          ]
         },
         "sort": [
          "CONTRIBUTOR",
          "MEMBER",
          "NONE"
         ],
         "type": "nominal"
        },
        "x": {
         "field": "percent",
         "type": "quantitative"
        },
        "y": {
         "field": "kind",
         "type": "nominal"
        }
       },
       "mark": "bar"
      },
      "text/plain": [
       "<VegaLite 2 object>\n",
       "\n",
       "If you see this message, it means the renderer has not been properly enabled\n",
       "for the frontend that you are using. For more information, see\n",
       "https://altair-viz.github.io/user_guide/troubleshooting.html\n"
      ]
     },
     "execution_count": 13,
     "metadata": {},
     "output_type": "execute_result"
    }
   ],
   "source": [
    "alt.Chart(sum_both).mark_bar().encode(\n",
    "    x='percent',\n",
    "    y='kind',\n",
    "    color=alt.Color('association', sort=[\"CONTRIBUTOR\", \"MEMBER\", \"NONE\"], scale=color_scale)\n",
    ")"
   ]
  },
  {
   "cell_type": "code",
   "execution_count": null,
   "metadata": {
    "jupyter": {
     "source_hidden": true
    },
    "papermill": {
     "duration": 0.033271,
     "end_time": "2019-03-22T17:27:25.630118",
     "exception": false,
     "start_time": "2019-03-22T17:27:25.596847",
     "status": "completed"
    },
    "tags": []
   },
   "outputs": [],
   "source": []
  }
 ],
 "metadata": {
  "kernelspec": {
   "display_name": "Python 3",
   "language": "python",
   "name": "python3"
  },
  "language_info": {
   "codemirror_mode": {
    "name": "ipython",
    "version": 3
   },
   "file_extension": ".py",
   "mimetype": "text/x-python",
   "name": "python",
   "nbconvert_exporter": "python",
   "pygments_lexer": "ipython3",
   "version": "3.6.5"
  },
  "papermill": {
   "duration": 7.498067,
   "end_time": "2019-03-22T17:27:26.795282",
   "environment_variables": {},
   "exception": null,
   "input_path": "./templates/comments_commits.ipynb",
   "output_path": "../reports/2019-02-20/jupyterhub/jupyterhub/comments_commits.ipynb",
   "parameters": {
    "date": "2019-02-20",
    "org": "jupyterhub",
    "repo": "jupyterhub"
   },
   "start_time": "2019-03-22T17:27:19.297215",
   "version": "0.18.0"
  }
 },
 "nbformat": 4,
 "nbformat_minor": 2
}