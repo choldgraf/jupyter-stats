{
 "cells": [
  {
   "cell_type": "code",
   "execution_count": 1,
   "metadata": {
    "jupyter": {
     "source_hidden": true
    },
    "papermill": {
     "duration": 0.936124,
     "end_time": "2019-03-22T17:27:29.817734",
     "exception": false,
     "start_time": "2019-03-22T17:27:28.881610",
     "status": "completed"
    },
    "tags": []
   },
   "outputs": [],
   "source": [
    "import pandas as pd\n",
    "from datetime import timedelta\n",
    "from IPython.display import HTML, display"
   ]
  },
  {
   "cell_type": "code",
   "execution_count": 2,
   "metadata": {
    "jupyter": {
     "source_hidden": true
    },
    "papermill": {
     "duration": 0.046707,
     "end_time": "2019-03-22T17:27:29.899866",
     "exception": false,
     "start_time": "2019-03-22T17:27:29.853159",
     "status": "completed"
    },
    "tags": [
     "parameters"
    ]
   },
   "outputs": [],
   "source": [
    "date = pd.datetime.today() - timedelta(days=30)\n",
    "org = 'jupyterhub'\n",
    "repo = 'zero-to-jupyterhub-k8s'"
   ]
  },
  {
   "cell_type": "code",
   "execution_count": 3,
   "metadata": {
    "jupyter": {
     "source_hidden": true
    },
    "papermill": {
     "duration": 0.047414,
     "end_time": "2019-03-22T17:27:29.983160",
     "exception": false,
     "start_time": "2019-03-22T17:27:29.935746",
     "status": "completed"
    },
    "tags": [
     "injected-parameters"
    ]
   },
   "outputs": [],
   "source": [
    "# Parameters\n",
    "org = \"jupyterhub\"\n",
    "repo = \"jupyterhub\"\n",
    "date = \"2019-02-20\"\n"
   ]
  },
  {
   "cell_type": "code",
   "execution_count": 4,
   "metadata": {
    "jupyter": {
     "source_hidden": true
    },
    "papermill": {
     "duration": 0.054014,
     "end_time": "2019-03-22T17:27:30.077898",
     "exception": false,
     "start_time": "2019-03-22T17:27:30.023884",
     "status": "completed"
    },
    "tags": []
   },
   "outputs": [],
   "source": [
    "# Definition of a stale issue/PR (how many days since last updated)\n",
    "stale_days = 30\n",
    "date_stale = pd.to_datetime(date) - timedelta(days=stale_days)"
   ]
  },
  {
   "cell_type": "markdown",
   "metadata": {
    "papermill": {
     "duration": 0.054235,
     "end_time": "2019-03-22T17:27:30.163829",
     "exception": false,
     "start_time": "2019-03-22T17:27:30.109594",
     "status": "completed"
    },
    "tags": []
   },
   "source": [
    "# Opened and Closed Issues and PRs\n",
    "\n",
    "This report shows opened and closed issues / PRs over the last 30 days, with a\n",
    "particular focus on items that haven't had a lot of discussion, or that have\n",
    "been opened by people who aren't team-members. The goal of this page is to make\n",
    "it easier to spot places where some input would be appreciated!"
   ]
  },
  {
   "cell_type": "markdown",
   "metadata": {
    "papermill": {
     "duration": 0.043328,
     "end_time": "2019-03-22T17:27:30.258623",
     "exception": false,
     "start_time": "2019-03-22T17:27:30.215295",
     "status": "completed"
    },
    "tags": []
   },
   "source": [
    "# Imports"
   ]
  },
  {
   "cell_type": "code",
   "execution_count": 5,
   "metadata": {
    "jupyter": {
     "source_hidden": true
    },
    "papermill": {
     "duration": 0.430525,
     "end_time": "2019-03-22T17:27:30.725779",
     "exception": false,
     "start_time": "2019-03-22T17:27:30.295254",
     "status": "completed"
    },
    "tags": []
   },
   "outputs": [],
   "source": [
    "import pandas as pd\n",
    "from subprocess import run, PIPE\n",
    "from watchtower import issues_\n",
    "from glob import glob\n",
    "import os.path as op\n",
    "import shutil as sh\n",
    "import sys\n",
    "sys.path.append('../../scripts/')"
   ]
  },
  {
   "cell_type": "markdown",
   "metadata": {
    "papermill": {
     "duration": 0.031394,
     "end_time": "2019-03-22T17:27:30.790913",
     "exception": false,
     "start_time": "2019-03-22T17:27:30.759519",
     "status": "completed"
    },
    "tags": []
   },
   "source": [
    "## styling functions"
   ]
  },
  {
   "cell_type": "code",
   "execution_count": 6,
   "metadata": {
    "jupyter": {
     "source_hidden": true
    },
    "papermill": {
     "duration": 0.045525,
     "end_time": "2019-03-22T17:27:30.877405",
     "exception": false,
     "start_time": "2019-03-22T17:27:30.831880",
     "status": "completed"
    },
    "tags": []
   },
   "outputs": [],
   "source": [
    "def highlight_rows(val):\n",
    "    \"\"\"Highlights cells pertaining to non-members and w/ no comments\"\"\"\n",
    "    disp = ''\n",
    "    if val == 0 or val == \"NONE\":\n",
    "        disp += 'background-color: #f7b7b7'\n",
    "    elif val == \"FIRST_TIME_CONTRIBUTOR\":\n",
    "        disp += 'background-color: red'\n",
    "    return disp\n",
    "\n",
    "def make_clickable(val):\n",
    "    # target _blank to open new window\n",
    "    return '<a target=\"_blank\" href=\"{}\">{}</a>'.format(val, val)\n",
    "\n",
    "def print_html(msg):\n",
    "    display(HTML('<h2 style=\"padding-left: 1em;\">{}</h2>'.format(msg)))\n",
    "    \n",
    "pd.options.display.max_colwidth = 200"
   ]
  },
  {
   "cell_type": "markdown",
   "metadata": {
    "papermill": {
     "duration": 0.043569,
     "end_time": "2019-03-22T17:27:30.959184",
     "exception": false,
     "start_time": "2019-03-22T17:27:30.915615",
     "status": "completed"
    },
    "tags": []
   },
   "source": [
    "## Load data"
   ]
  },
  {
   "cell_type": "code",
   "execution_count": 7,
   "metadata": {
    "jupyter": {
     "source_hidden": true
    },
    "papermill": {
     "duration": 0.127258,
     "end_time": "2019-03-22T17:27:31.123176",
     "exception": false,
     "start_time": "2019-03-22T17:27:30.995918",
     "status": "completed"
    },
    "tags": []
   },
   "outputs": [],
   "source": [
    "# Issues\n",
    "issues = issues_.load_issues(org, repo)\n",
    "issues['user'] = issues['user'].map(lambda a: a['login'])"
   ]
  },
  {
   "cell_type": "markdown",
   "metadata": {
    "papermill": {
     "duration": 0.034127,
     "end_time": "2019-03-22T17:27:31.196665",
     "exception": false,
     "start_time": "2019-03-22T17:27:31.162538",
     "status": "completed"
    },
    "tags": []
   },
   "source": [
    "# New activity"
   ]
  },
  {
   "cell_type": "markdown",
   "metadata": {
    "papermill": {
     "duration": 0.068063,
     "end_time": "2019-03-22T17:27:31.302098",
     "exception": false,
     "start_time": "2019-03-22T17:27:31.234035",
     "status": "completed"
    },
    "tags": []
   },
   "source": [
    "## Opened issues\n",
    "\n",
    "without responses in red"
   ]
  },
  {
   "cell_type": "code",
   "execution_count": 8,
   "metadata": {
    "jupyter": {
     "source_hidden": true
    },
    "papermill": {
     "duration": 0.157947,
     "end_time": "2019-03-22T17:27:31.491267",
     "exception": false,
     "start_time": "2019-03-22T17:27:31.333320",
     "status": "completed"
    },
    "tags": []
   },
   "outputs": [
    {
     "name": "stderr",
     "output_type": "stream",
     "text": [
      "/home/choldgraf/anaconda/envs/dev/lib/python3.6/site-packages/ipykernel_launcher.py:3: SettingWithCopyWarning: \n",
      "A value is trying to be set on a copy of a slice from a DataFrame.\n",
      "Try using .loc[row_indexer,col_indexer] = value instead\n",
      "\n",
      "See the caveats in the documentation: http://pandas.pydata.org/pandas-docs/stable/indexing.html#indexing-view-versus-copy\n",
      "  This is separate from the ipykernel package so we can avoid doing imports until\n"
     ]
    }
   ],
   "source": [
    "opened = issues.query('created_at > @date')\n",
    "opened_issues = opened[opened['pull_request'].isna()]\n",
    "opened_issues['closed'] = ~pd.isnull(opened_issues['closed_at'])"
   ]
  },
  {
   "cell_type": "code",
   "execution_count": 9,
   "metadata": {
    "jupyter": {
     "source_hidden": true
    },
    "papermill": {
     "duration": 0.054153,
     "end_time": "2019-03-22T17:27:31.580650",
     "exception": false,
     "start_time": "2019-03-22T17:27:31.526497",
     "status": "completed"
    },
    "tags": []
   },
   "outputs": [
    {
     "data": {
      "text/html": [
       "<h2 style=\"padding-left: 1em;\">Opened issues: 39</h2>"
      ],
      "text/plain": [
       "<IPython.core.display.HTML object>"
      ]
     },
     "metadata": {},
     "output_type": "display_data"
    }
   ],
   "source": [
    "print_html('Opened issues: {}'.format(len(opened_issues)))"
   ]
  },
  {
   "cell_type": "code",
   "execution_count": 10,
   "metadata": {
    "jupyter": {
     "source_hidden": true
    },
    "papermill": {
     "duration": 1.262198,
     "end_time": "2019-03-22T17:27:32.874105",
     "exception": false,
     "start_time": "2019-03-22T17:27:31.611907",
     "status": "completed"
    },
    "tags": []
   },
   "outputs": [
    {
     "data": {
      "text/html": [
       "<style  type=\"text/css\" >\n",
       "    #T_c6c3cc40_4cc7_11e9_988e_54ee75e0f62drow0_col1 {\n",
       "            background-color:  #f7b7b7;\n",
       "        }    #T_c6c3cc40_4cc7_11e9_988e_54ee75e0f62drow0_col2 {\n",
       "            background-color:  #f7b7b7;\n",
       "        }    #T_c6c3cc40_4cc7_11e9_988e_54ee75e0f62drow0_col3 {\n",
       "            background-color:  #f7b7b7;\n",
       "        }    #T_c6c3cc40_4cc7_11e9_988e_54ee75e0f62drow1_col2 {\n",
       "            background-color:  #f7b7b7;\n",
       "        }    #T_c6c3cc40_4cc7_11e9_988e_54ee75e0f62drow1_col3 {\n",
       "            background-color:  #f7b7b7;\n",
       "        }    #T_c6c3cc40_4cc7_11e9_988e_54ee75e0f62drow2_col1 {\n",
       "            background-color:  #f7b7b7;\n",
       "        }    #T_c6c3cc40_4cc7_11e9_988e_54ee75e0f62drow2_col2 {\n",
       "            background-color:  #f7b7b7;\n",
       "        }    #T_c6c3cc40_4cc7_11e9_988e_54ee75e0f62drow2_col3 {\n",
       "            background-color:  #f7b7b7;\n",
       "        }    #T_c6c3cc40_4cc7_11e9_988e_54ee75e0f62drow3_col1 {\n",
       "            background-color:  #f7b7b7;\n",
       "        }    #T_c6c3cc40_4cc7_11e9_988e_54ee75e0f62drow3_col2 {\n",
       "            background-color:  #f7b7b7;\n",
       "        }    #T_c6c3cc40_4cc7_11e9_988e_54ee75e0f62drow3_col3 {\n",
       "            background-color:  #f7b7b7;\n",
       "        }    #T_c6c3cc40_4cc7_11e9_988e_54ee75e0f62drow4_col1 {\n",
       "            background-color:  #f7b7b7;\n",
       "        }    #T_c6c3cc40_4cc7_11e9_988e_54ee75e0f62drow4_col2 {\n",
       "            background-color:  #f7b7b7;\n",
       "        }    #T_c6c3cc40_4cc7_11e9_988e_54ee75e0f62drow4_col3 {\n",
       "            background-color:  #f7b7b7;\n",
       "        }    #T_c6c3cc40_4cc7_11e9_988e_54ee75e0f62drow5_col1 {\n",
       "            background-color:  #f7b7b7;\n",
       "        }    #T_c6c3cc40_4cc7_11e9_988e_54ee75e0f62drow5_col2 {\n",
       "            background-color:  #f7b7b7;\n",
       "        }    #T_c6c3cc40_4cc7_11e9_988e_54ee75e0f62drow5_col3 {\n",
       "            background-color:  #f7b7b7;\n",
       "        }    #T_c6c3cc40_4cc7_11e9_988e_54ee75e0f62drow6_col1 {\n",
       "            background-color:  #f7b7b7;\n",
       "        }    #T_c6c3cc40_4cc7_11e9_988e_54ee75e0f62drow6_col2 {\n",
       "            background-color:  #f7b7b7;\n",
       "        }    #T_c6c3cc40_4cc7_11e9_988e_54ee75e0f62drow6_col3 {\n",
       "            background-color:  #f7b7b7;\n",
       "        }    #T_c6c3cc40_4cc7_11e9_988e_54ee75e0f62drow7_col1 {\n",
       "            background-color:  #f7b7b7;\n",
       "        }    #T_c6c3cc40_4cc7_11e9_988e_54ee75e0f62drow7_col2 {\n",
       "            background-color:  #f7b7b7;\n",
       "        }    #T_c6c3cc40_4cc7_11e9_988e_54ee75e0f62drow7_col3 {\n",
       "            background-color:  #f7b7b7;\n",
       "        }    #T_c6c3cc40_4cc7_11e9_988e_54ee75e0f62drow8_col1 {\n",
       "            background-color:  #f7b7b7;\n",
       "        }    #T_c6c3cc40_4cc7_11e9_988e_54ee75e0f62drow8_col2 {\n",
       "            background-color:  #f7b7b7;\n",
       "        }    #T_c6c3cc40_4cc7_11e9_988e_54ee75e0f62drow8_col3 {\n",
       "            background-color:  #f7b7b7;\n",
       "        }    #T_c6c3cc40_4cc7_11e9_988e_54ee75e0f62drow9_col1 {\n",
       "            background-color:  #f7b7b7;\n",
       "        }    #T_c6c3cc40_4cc7_11e9_988e_54ee75e0f62drow9_col2 {\n",
       "            background-color:  #f7b7b7;\n",
       "        }    #T_c6c3cc40_4cc7_11e9_988e_54ee75e0f62drow9_col3 {\n",
       "            background-color:  #f7b7b7;\n",
       "        }    #T_c6c3cc40_4cc7_11e9_988e_54ee75e0f62drow10_col2 {\n",
       "            background-color:  #f7b7b7;\n",
       "        }    #T_c6c3cc40_4cc7_11e9_988e_54ee75e0f62drow10_col3 {\n",
       "            background-color:  #f7b7b7;\n",
       "        }    #T_c6c3cc40_4cc7_11e9_988e_54ee75e0f62drow11_col1 {\n",
       "            background-color:  #f7b7b7;\n",
       "        }    #T_c6c3cc40_4cc7_11e9_988e_54ee75e0f62drow11_col2 {\n",
       "            background-color:  #f7b7b7;\n",
       "        }    #T_c6c3cc40_4cc7_11e9_988e_54ee75e0f62drow11_col3 {\n",
       "            background-color:  #f7b7b7;\n",
       "        }    #T_c6c3cc40_4cc7_11e9_988e_54ee75e0f62drow12_col1 {\n",
       "            background-color:  #f7b7b7;\n",
       "        }    #T_c6c3cc40_4cc7_11e9_988e_54ee75e0f62drow12_col2 {\n",
       "            background-color:  #f7b7b7;\n",
       "        }    #T_c6c3cc40_4cc7_11e9_988e_54ee75e0f62drow12_col3 {\n",
       "            background-color:  #f7b7b7;\n",
       "        }    #T_c6c3cc40_4cc7_11e9_988e_54ee75e0f62drow13_col1 {\n",
       "            background-color:  #f7b7b7;\n",
       "        }    #T_c6c3cc40_4cc7_11e9_988e_54ee75e0f62drow13_col3 {\n",
       "            background-color:  #f7b7b7;\n",
       "        }    #T_c6c3cc40_4cc7_11e9_988e_54ee75e0f62drow14_col1 {\n",
       "            background-color:  #f7b7b7;\n",
       "        }    #T_c6c3cc40_4cc7_11e9_988e_54ee75e0f62drow14_col3 {\n",
       "            background-color:  #f7b7b7;\n",
       "        }    #T_c6c3cc40_4cc7_11e9_988e_54ee75e0f62drow15_col1 {\n",
       "            background-color:  #f7b7b7;\n",
       "        }    #T_c6c3cc40_4cc7_11e9_988e_54ee75e0f62drow15_col3 {\n",
       "            background-color:  #f7b7b7;\n",
       "        }    #T_c6c3cc40_4cc7_11e9_988e_54ee75e0f62drow16_col1 {\n",
       "            background-color:  #f7b7b7;\n",
       "        }    #T_c6c3cc40_4cc7_11e9_988e_54ee75e0f62drow16_col3 {\n",
       "            background-color:  #f7b7b7;\n",
       "        }    #T_c6c3cc40_4cc7_11e9_988e_54ee75e0f62drow17_col1 {\n",
       "            background-color:  #f7b7b7;\n",
       "        }    #T_c6c3cc40_4cc7_11e9_988e_54ee75e0f62drow17_col3 {\n",
       "            background-color:  #f7b7b7;\n",
       "        }    #T_c6c3cc40_4cc7_11e9_988e_54ee75e0f62drow18_col3 {\n",
       "            background-color:  #f7b7b7;\n",
       "        }    #T_c6c3cc40_4cc7_11e9_988e_54ee75e0f62drow19_col3 {\n",
       "            background-color:  #f7b7b7;\n",
       "        }    #T_c6c3cc40_4cc7_11e9_988e_54ee75e0f62drow20_col1 {\n",
       "            background-color:  #f7b7b7;\n",
       "        }    #T_c6c3cc40_4cc7_11e9_988e_54ee75e0f62drow20_col3 {\n",
       "            background-color:  #f7b7b7;\n",
       "        }    #T_c6c3cc40_4cc7_11e9_988e_54ee75e0f62drow21_col3 {\n",
       "            background-color:  #f7b7b7;\n",
       "        }    #T_c6c3cc40_4cc7_11e9_988e_54ee75e0f62drow22_col3 {\n",
       "            background-color:  #f7b7b7;\n",
       "        }    #T_c6c3cc40_4cc7_11e9_988e_54ee75e0f62drow23_col1 {\n",
       "            background-color:  #f7b7b7;\n",
       "        }    #T_c6c3cc40_4cc7_11e9_988e_54ee75e0f62drow23_col2 {\n",
       "            background-color:  #f7b7b7;\n",
       "        }    #T_c6c3cc40_4cc7_11e9_988e_54ee75e0f62drow24_col1 {\n",
       "            background-color:  #f7b7b7;\n",
       "        }    #T_c6c3cc40_4cc7_11e9_988e_54ee75e0f62drow24_col2 {\n",
       "            background-color:  #f7b7b7;\n",
       "        }    #T_c6c3cc40_4cc7_11e9_988e_54ee75e0f62drow25_col1 {\n",
       "            background-color:  #f7b7b7;\n",
       "        }    #T_c6c3cc40_4cc7_11e9_988e_54ee75e0f62drow25_col2 {\n",
       "            background-color:  #f7b7b7;\n",
       "        }    #T_c6c3cc40_4cc7_11e9_988e_54ee75e0f62drow26_col1 {\n",
       "            background-color:  #f7b7b7;\n",
       "        }    #T_c6c3cc40_4cc7_11e9_988e_54ee75e0f62drow26_col2 {\n",
       "            background-color:  #f7b7b7;\n",
       "        }    #T_c6c3cc40_4cc7_11e9_988e_54ee75e0f62drow27_col1 {\n",
       "            background-color:  #f7b7b7;\n",
       "        }    #T_c6c3cc40_4cc7_11e9_988e_54ee75e0f62drow27_col2 {\n",
       "            background-color:  #f7b7b7;\n",
       "        }    #T_c6c3cc40_4cc7_11e9_988e_54ee75e0f62drow28_col1 {\n",
       "            background-color:  #f7b7b7;\n",
       "        }    #T_c6c3cc40_4cc7_11e9_988e_54ee75e0f62drow29_col1 {\n",
       "            background-color:  #f7b7b7;\n",
       "        }    #T_c6c3cc40_4cc7_11e9_988e_54ee75e0f62drow30_col1 {\n",
       "            background-color:  #f7b7b7;\n",
       "        }    #T_c6c3cc40_4cc7_11e9_988e_54ee75e0f62drow31_col1 {\n",
       "            background-color:  #f7b7b7;\n",
       "        }    #T_c6c3cc40_4cc7_11e9_988e_54ee75e0f62drow32_col1 {\n",
       "            background-color:  #f7b7b7;\n",
       "        }    #T_c6c3cc40_4cc7_11e9_988e_54ee75e0f62drow33_col1 {\n",
       "            background-color:  #f7b7b7;\n",
       "        }    #T_c6c3cc40_4cc7_11e9_988e_54ee75e0f62drow34_col1 {\n",
       "            background-color:  #f7b7b7;\n",
       "        }    #T_c6c3cc40_4cc7_11e9_988e_54ee75e0f62drow35_col1 {\n",
       "            background-color:  #f7b7b7;\n",
       "        }    #T_c6c3cc40_4cc7_11e9_988e_54ee75e0f62drow36_col1 {\n",
       "            background-color:  #f7b7b7;\n",
       "        }    #T_c6c3cc40_4cc7_11e9_988e_54ee75e0f62drow37_col1 {\n",
       "            background-color:  #f7b7b7;\n",
       "        }</style><table id=\"T_c6c3cc40_4cc7_11e9_988e_54ee75e0f62d\" ><thead>    <tr>        <th class=\"col_heading level0 col0\" >user</th>        <th class=\"col_heading level0 col1\" >author_association</th>        <th class=\"col_heading level0 col2\" >comments</th>        <th class=\"col_heading level0 col3\" >closed</th>        <th class=\"col_heading level0 col4\" >html_url</th>    </tr></thead><tbody>\n",
       "                <tr>\n",
       "                                <td id=\"T_c6c3cc40_4cc7_11e9_988e_54ee75e0f62drow0_col0\" class=\"data row0 col0\" >GeoffDuniam</td>\n",
       "                        <td id=\"T_c6c3cc40_4cc7_11e9_988e_54ee75e0f62drow0_col1\" class=\"data row0 col1\" >NONE</td>\n",
       "                        <td id=\"T_c6c3cc40_4cc7_11e9_988e_54ee75e0f62drow0_col2\" class=\"data row0 col2\" >0</td>\n",
       "                        <td id=\"T_c6c3cc40_4cc7_11e9_988e_54ee75e0f62drow0_col3\" class=\"data row0 col3\" >False</td>\n",
       "                        <td id=\"T_c6c3cc40_4cc7_11e9_988e_54ee75e0f62drow0_col4\" class=\"data row0 col4\" ><a target=\"_blank\" href=\"https://github.com/jupyterhub/jupyterhub/issues/2482\">https://github.com/jupyterhub/jupyterhub/issues/2482</a></td>\n",
       "            </tr>\n",
       "            <tr>\n",
       "                                <td id=\"T_c6c3cc40_4cc7_11e9_988e_54ee75e0f62drow1_col0\" class=\"data row1 col0\" >Carreau</td>\n",
       "                        <td id=\"T_c6c3cc40_4cc7_11e9_988e_54ee75e0f62drow1_col1\" class=\"data row1 col1\" >MEMBER</td>\n",
       "                        <td id=\"T_c6c3cc40_4cc7_11e9_988e_54ee75e0f62drow1_col2\" class=\"data row1 col2\" >0</td>\n",
       "                        <td id=\"T_c6c3cc40_4cc7_11e9_988e_54ee75e0f62drow1_col3\" class=\"data row1 col3\" >False</td>\n",
       "                        <td id=\"T_c6c3cc40_4cc7_11e9_988e_54ee75e0f62drow1_col4\" class=\"data row1 col4\" ><a target=\"_blank\" href=\"https://github.com/jupyterhub/jupyterhub/issues/2481\">https://github.com/jupyterhub/jupyterhub/issues/2481</a></td>\n",
       "            </tr>\n",
       "            <tr>\n",
       "                                <td id=\"T_c6c3cc40_4cc7_11e9_988e_54ee75e0f62drow2_col0\" class=\"data row2 col0\" >mlpjesse</td>\n",
       "                        <td id=\"T_c6c3cc40_4cc7_11e9_988e_54ee75e0f62drow2_col1\" class=\"data row2 col1\" >NONE</td>\n",
       "                        <td id=\"T_c6c3cc40_4cc7_11e9_988e_54ee75e0f62drow2_col2\" class=\"data row2 col2\" >0</td>\n",
       "                        <td id=\"T_c6c3cc40_4cc7_11e9_988e_54ee75e0f62drow2_col3\" class=\"data row2 col3\" >False</td>\n",
       "                        <td id=\"T_c6c3cc40_4cc7_11e9_988e_54ee75e0f62drow2_col4\" class=\"data row2 col4\" ><a target=\"_blank\" href=\"https://github.com/jupyterhub/jupyterhub/issues/2472\">https://github.com/jupyterhub/jupyterhub/issues/2472</a></td>\n",
       "            </tr>\n",
       "            <tr>\n",
       "                                <td id=\"T_c6c3cc40_4cc7_11e9_988e_54ee75e0f62drow3_col0\" class=\"data row3 col0\" >samagnew</td>\n",
       "                        <td id=\"T_c6c3cc40_4cc7_11e9_988e_54ee75e0f62drow3_col1\" class=\"data row3 col1\" >NONE</td>\n",
       "                        <td id=\"T_c6c3cc40_4cc7_11e9_988e_54ee75e0f62drow3_col2\" class=\"data row3 col2\" >0</td>\n",
       "                        <td id=\"T_c6c3cc40_4cc7_11e9_988e_54ee75e0f62drow3_col3\" class=\"data row3 col3\" >False</td>\n",
       "                        <td id=\"T_c6c3cc40_4cc7_11e9_988e_54ee75e0f62drow3_col4\" class=\"data row3 col4\" ><a target=\"_blank\" href=\"https://github.com/jupyterhub/jupyterhub/issues/2468\">https://github.com/jupyterhub/jupyterhub/issues/2468</a></td>\n",
       "            </tr>\n",
       "            <tr>\n",
       "                                <td id=\"T_c6c3cc40_4cc7_11e9_988e_54ee75e0f62drow4_col0\" class=\"data row4 col0\" >msuperina</td>\n",
       "                        <td id=\"T_c6c3cc40_4cc7_11e9_988e_54ee75e0f62drow4_col1\" class=\"data row4 col1\" >NONE</td>\n",
       "                        <td id=\"T_c6c3cc40_4cc7_11e9_988e_54ee75e0f62drow4_col2\" class=\"data row4 col2\" >0</td>\n",
       "                        <td id=\"T_c6c3cc40_4cc7_11e9_988e_54ee75e0f62drow4_col3\" class=\"data row4 col3\" >False</td>\n",
       "                        <td id=\"T_c6c3cc40_4cc7_11e9_988e_54ee75e0f62drow4_col4\" class=\"data row4 col4\" ><a target=\"_blank\" href=\"https://github.com/jupyterhub/jupyterhub/issues/2464\">https://github.com/jupyterhub/jupyterhub/issues/2464</a></td>\n",
       "            </tr>\n",
       "            <tr>\n",
       "                                <td id=\"T_c6c3cc40_4cc7_11e9_988e_54ee75e0f62drow5_col0\" class=\"data row5 col0\" >yvan</td>\n",
       "                        <td id=\"T_c6c3cc40_4cc7_11e9_988e_54ee75e0f62drow5_col1\" class=\"data row5 col1\" >NONE</td>\n",
       "                        <td id=\"T_c6c3cc40_4cc7_11e9_988e_54ee75e0f62drow5_col2\" class=\"data row5 col2\" >0</td>\n",
       "                        <td id=\"T_c6c3cc40_4cc7_11e9_988e_54ee75e0f62drow5_col3\" class=\"data row5 col3\" >False</td>\n",
       "                        <td id=\"T_c6c3cc40_4cc7_11e9_988e_54ee75e0f62drow5_col4\" class=\"data row5 col4\" ><a target=\"_blank\" href=\"https://github.com/jupyterhub/jupyterhub/issues/2480\">https://github.com/jupyterhub/jupyterhub/issues/2480</a></td>\n",
       "            </tr>\n",
       "            <tr>\n",
       "                                <td id=\"T_c6c3cc40_4cc7_11e9_988e_54ee75e0f62drow6_col0\" class=\"data row6 col0\" >Bartket</td>\n",
       "                        <td id=\"T_c6c3cc40_4cc7_11e9_988e_54ee75e0f62drow6_col1\" class=\"data row6 col1\" >NONE</td>\n",
       "                        <td id=\"T_c6c3cc40_4cc7_11e9_988e_54ee75e0f62drow6_col2\" class=\"data row6 col2\" >0</td>\n",
       "                        <td id=\"T_c6c3cc40_4cc7_11e9_988e_54ee75e0f62drow6_col3\" class=\"data row6 col3\" >False</td>\n",
       "                        <td id=\"T_c6c3cc40_4cc7_11e9_988e_54ee75e0f62drow6_col4\" class=\"data row6 col4\" ><a target=\"_blank\" href=\"https://github.com/jupyterhub/jupyterhub/issues/2459\">https://github.com/jupyterhub/jupyterhub/issues/2459</a></td>\n",
       "            </tr>\n",
       "            <tr>\n",
       "                                <td id=\"T_c6c3cc40_4cc7_11e9_988e_54ee75e0f62drow7_col0\" class=\"data row7 col0\" >mdivk</td>\n",
       "                        <td id=\"T_c6c3cc40_4cc7_11e9_988e_54ee75e0f62drow7_col1\" class=\"data row7 col1\" >NONE</td>\n",
       "                        <td id=\"T_c6c3cc40_4cc7_11e9_988e_54ee75e0f62drow7_col2\" class=\"data row7 col2\" >0</td>\n",
       "                        <td id=\"T_c6c3cc40_4cc7_11e9_988e_54ee75e0f62drow7_col3\" class=\"data row7 col3\" >False</td>\n",
       "                        <td id=\"T_c6c3cc40_4cc7_11e9_988e_54ee75e0f62drow7_col4\" class=\"data row7 col4\" ><a target=\"_blank\" href=\"https://github.com/jupyterhub/jupyterhub/issues/2454\">https://github.com/jupyterhub/jupyterhub/issues/2454</a></td>\n",
       "            </tr>\n",
       "            <tr>\n",
       "                                <td id=\"T_c6c3cc40_4cc7_11e9_988e_54ee75e0f62drow8_col0\" class=\"data row8 col0\" >blokjonathan</td>\n",
       "                        <td id=\"T_c6c3cc40_4cc7_11e9_988e_54ee75e0f62drow8_col1\" class=\"data row8 col1\" >NONE</td>\n",
       "                        <td id=\"T_c6c3cc40_4cc7_11e9_988e_54ee75e0f62drow8_col2\" class=\"data row8 col2\" >0</td>\n",
       "                        <td id=\"T_c6c3cc40_4cc7_11e9_988e_54ee75e0f62drow8_col3\" class=\"data row8 col3\" >False</td>\n",
       "                        <td id=\"T_c6c3cc40_4cc7_11e9_988e_54ee75e0f62drow8_col4\" class=\"data row8 col4\" ><a target=\"_blank\" href=\"https://github.com/jupyterhub/jupyterhub/issues/2479\">https://github.com/jupyterhub/jupyterhub/issues/2479</a></td>\n",
       "            </tr>\n",
       "            <tr>\n",
       "                                <td id=\"T_c6c3cc40_4cc7_11e9_988e_54ee75e0f62drow9_col0\" class=\"data row9 col0\" >joequant</td>\n",
       "                        <td id=\"T_c6c3cc40_4cc7_11e9_988e_54ee75e0f62drow9_col1\" class=\"data row9 col1\" >NONE</td>\n",
       "                        <td id=\"T_c6c3cc40_4cc7_11e9_988e_54ee75e0f62drow9_col2\" class=\"data row9 col2\" >0</td>\n",
       "                        <td id=\"T_c6c3cc40_4cc7_11e9_988e_54ee75e0f62drow9_col3\" class=\"data row9 col3\" >False</td>\n",
       "                        <td id=\"T_c6c3cc40_4cc7_11e9_988e_54ee75e0f62drow9_col4\" class=\"data row9 col4\" ><a target=\"_blank\" href=\"https://github.com/jupyterhub/jupyterhub/issues/2445\">https://github.com/jupyterhub/jupyterhub/issues/2445</a></td>\n",
       "            </tr>\n",
       "            <tr>\n",
       "                                <td id=\"T_c6c3cc40_4cc7_11e9_988e_54ee75e0f62drow10_col0\" class=\"data row10 col0\" >minrk</td>\n",
       "                        <td id=\"T_c6c3cc40_4cc7_11e9_988e_54ee75e0f62drow10_col1\" class=\"data row10 col1\" >MEMBER</td>\n",
       "                        <td id=\"T_c6c3cc40_4cc7_11e9_988e_54ee75e0f62drow10_col2\" class=\"data row10 col2\" >0</td>\n",
       "                        <td id=\"T_c6c3cc40_4cc7_11e9_988e_54ee75e0f62drow10_col3\" class=\"data row10 col3\" >False</td>\n",
       "                        <td id=\"T_c6c3cc40_4cc7_11e9_988e_54ee75e0f62drow10_col4\" class=\"data row10 col4\" ><a target=\"_blank\" href=\"https://github.com/jupyterhub/jupyterhub/issues/2441\">https://github.com/jupyterhub/jupyterhub/issues/2441</a></td>\n",
       "            </tr>\n",
       "            <tr>\n",
       "                                <td id=\"T_c6c3cc40_4cc7_11e9_988e_54ee75e0f62drow11_col0\" class=\"data row11 col0\" >BidwellNREL</td>\n",
       "                        <td id=\"T_c6c3cc40_4cc7_11e9_988e_54ee75e0f62drow11_col1\" class=\"data row11 col1\" >NONE</td>\n",
       "                        <td id=\"T_c6c3cc40_4cc7_11e9_988e_54ee75e0f62drow11_col2\" class=\"data row11 col2\" >0</td>\n",
       "                        <td id=\"T_c6c3cc40_4cc7_11e9_988e_54ee75e0f62drow11_col3\" class=\"data row11 col3\" >False</td>\n",
       "                        <td id=\"T_c6c3cc40_4cc7_11e9_988e_54ee75e0f62drow11_col4\" class=\"data row11 col4\" ><a target=\"_blank\" href=\"https://github.com/jupyterhub/jupyterhub/issues/2477\">https://github.com/jupyterhub/jupyterhub/issues/2477</a></td>\n",
       "            </tr>\n",
       "            <tr>\n",
       "                                <td id=\"T_c6c3cc40_4cc7_11e9_988e_54ee75e0f62drow12_col0\" class=\"data row12 col0\" >Konstantin65</td>\n",
       "                        <td id=\"T_c6c3cc40_4cc7_11e9_988e_54ee75e0f62drow12_col1\" class=\"data row12 col1\" >NONE</td>\n",
       "                        <td id=\"T_c6c3cc40_4cc7_11e9_988e_54ee75e0f62drow12_col2\" class=\"data row12 col2\" >0</td>\n",
       "                        <td id=\"T_c6c3cc40_4cc7_11e9_988e_54ee75e0f62drow12_col3\" class=\"data row12 col3\" >False</td>\n",
       "                        <td id=\"T_c6c3cc40_4cc7_11e9_988e_54ee75e0f62drow12_col4\" class=\"data row12 col4\" ><a target=\"_blank\" href=\"https://github.com/jupyterhub/jupyterhub/issues/2475\">https://github.com/jupyterhub/jupyterhub/issues/2475</a></td>\n",
       "            </tr>\n",
       "            <tr>\n",
       "                                <td id=\"T_c6c3cc40_4cc7_11e9_988e_54ee75e0f62drow13_col0\" class=\"data row13 col0\" >radumas</td>\n",
       "                        <td id=\"T_c6c3cc40_4cc7_11e9_988e_54ee75e0f62drow13_col1\" class=\"data row13 col1\" >NONE</td>\n",
       "                        <td id=\"T_c6c3cc40_4cc7_11e9_988e_54ee75e0f62drow13_col2\" class=\"data row13 col2\" >1</td>\n",
       "                        <td id=\"T_c6c3cc40_4cc7_11e9_988e_54ee75e0f62drow13_col3\" class=\"data row13 col3\" >False</td>\n",
       "                        <td id=\"T_c6c3cc40_4cc7_11e9_988e_54ee75e0f62drow13_col4\" class=\"data row13 col4\" ><a target=\"_blank\" href=\"https://github.com/jupyterhub/jupyterhub/issues/2470\">https://github.com/jupyterhub/jupyterhub/issues/2470</a></td>\n",
       "            </tr>\n",
       "            <tr>\n",
       "                                <td id=\"T_c6c3cc40_4cc7_11e9_988e_54ee75e0f62drow14_col0\" class=\"data row14 col0\" >mgnfcnt</td>\n",
       "                        <td id=\"T_c6c3cc40_4cc7_11e9_988e_54ee75e0f62drow14_col1\" class=\"data row14 col1\" >NONE</td>\n",
       "                        <td id=\"T_c6c3cc40_4cc7_11e9_988e_54ee75e0f62drow14_col2\" class=\"data row14 col2\" >1</td>\n",
       "                        <td id=\"T_c6c3cc40_4cc7_11e9_988e_54ee75e0f62drow14_col3\" class=\"data row14 col3\" >False</td>\n",
       "                        <td id=\"T_c6c3cc40_4cc7_11e9_988e_54ee75e0f62drow14_col4\" class=\"data row14 col4\" ><a target=\"_blank\" href=\"https://github.com/jupyterhub/jupyterhub/issues/2463\">https://github.com/jupyterhub/jupyterhub/issues/2463</a></td>\n",
       "            </tr>\n",
       "            <tr>\n",
       "                                <td id=\"T_c6c3cc40_4cc7_11e9_988e_54ee75e0f62drow15_col0\" class=\"data row15 col0\" >yedu12</td>\n",
       "                        <td id=\"T_c6c3cc40_4cc7_11e9_988e_54ee75e0f62drow15_col1\" class=\"data row15 col1\" >NONE</td>\n",
       "                        <td id=\"T_c6c3cc40_4cc7_11e9_988e_54ee75e0f62drow15_col2\" class=\"data row15 col2\" >1</td>\n",
       "                        <td id=\"T_c6c3cc40_4cc7_11e9_988e_54ee75e0f62drow15_col3\" class=\"data row15 col3\" >False</td>\n",
       "                        <td id=\"T_c6c3cc40_4cc7_11e9_988e_54ee75e0f62drow15_col4\" class=\"data row15 col4\" ><a target=\"_blank\" href=\"https://github.com/jupyterhub/jupyterhub/issues/2429\">https://github.com/jupyterhub/jupyterhub/issues/2429</a></td>\n",
       "            </tr>\n",
       "            <tr>\n",
       "                                <td id=\"T_c6c3cc40_4cc7_11e9_988e_54ee75e0f62drow16_col0\" class=\"data row16 col0\" >wajditcb</td>\n",
       "                        <td id=\"T_c6c3cc40_4cc7_11e9_988e_54ee75e0f62drow16_col1\" class=\"data row16 col1\" >NONE</td>\n",
       "                        <td id=\"T_c6c3cc40_4cc7_11e9_988e_54ee75e0f62drow16_col2\" class=\"data row16 col2\" >1</td>\n",
       "                        <td id=\"T_c6c3cc40_4cc7_11e9_988e_54ee75e0f62drow16_col3\" class=\"data row16 col3\" >False</td>\n",
       "                        <td id=\"T_c6c3cc40_4cc7_11e9_988e_54ee75e0f62drow16_col4\" class=\"data row16 col4\" ><a target=\"_blank\" href=\"https://github.com/jupyterhub/jupyterhub/issues/2474\">https://github.com/jupyterhub/jupyterhub/issues/2474</a></td>\n",
       "            </tr>\n",
       "            <tr>\n",
       "                                <td id=\"T_c6c3cc40_4cc7_11e9_988e_54ee75e0f62drow17_col0\" class=\"data row17 col0\" >RajeshB61</td>\n",
       "                        <td id=\"T_c6c3cc40_4cc7_11e9_988e_54ee75e0f62drow17_col1\" class=\"data row17 col1\" >NONE</td>\n",
       "                        <td id=\"T_c6c3cc40_4cc7_11e9_988e_54ee75e0f62drow17_col2\" class=\"data row17 col2\" >2</td>\n",
       "                        <td id=\"T_c6c3cc40_4cc7_11e9_988e_54ee75e0f62drow17_col3\" class=\"data row17 col3\" >False</td>\n",
       "                        <td id=\"T_c6c3cc40_4cc7_11e9_988e_54ee75e0f62drow17_col4\" class=\"data row17 col4\" ><a target=\"_blank\" href=\"https://github.com/jupyterhub/jupyterhub/issues/2476\">https://github.com/jupyterhub/jupyterhub/issues/2476</a></td>\n",
       "            </tr>\n",
       "            <tr>\n",
       "                                <td id=\"T_c6c3cc40_4cc7_11e9_988e_54ee75e0f62drow18_col0\" class=\"data row18 col0\" >robnagler</td>\n",
       "                        <td id=\"T_c6c3cc40_4cc7_11e9_988e_54ee75e0f62drow18_col1\" class=\"data row18 col1\" >CONTRIBUTOR</td>\n",
       "                        <td id=\"T_c6c3cc40_4cc7_11e9_988e_54ee75e0f62drow18_col2\" class=\"data row18 col2\" >3</td>\n",
       "                        <td id=\"T_c6c3cc40_4cc7_11e9_988e_54ee75e0f62drow18_col3\" class=\"data row18 col3\" >False</td>\n",
       "                        <td id=\"T_c6c3cc40_4cc7_11e9_988e_54ee75e0f62drow18_col4\" class=\"data row18 col4\" ><a target=\"_blank\" href=\"https://github.com/jupyterhub/jupyterhub/issues/2456\">https://github.com/jupyterhub/jupyterhub/issues/2456</a></td>\n",
       "            </tr>\n",
       "            <tr>\n",
       "                                <td id=\"T_c6c3cc40_4cc7_11e9_988e_54ee75e0f62drow19_col0\" class=\"data row19 col0\" >consideRatio</td>\n",
       "                        <td id=\"T_c6c3cc40_4cc7_11e9_988e_54ee75e0f62drow19_col1\" class=\"data row19 col1\" >MEMBER</td>\n",
       "                        <td id=\"T_c6c3cc40_4cc7_11e9_988e_54ee75e0f62drow19_col2\" class=\"data row19 col2\" >3</td>\n",
       "                        <td id=\"T_c6c3cc40_4cc7_11e9_988e_54ee75e0f62drow19_col3\" class=\"data row19 col3\" >False</td>\n",
       "                        <td id=\"T_c6c3cc40_4cc7_11e9_988e_54ee75e0f62drow19_col4\" class=\"data row19 col4\" ><a target=\"_blank\" href=\"https://github.com/jupyterhub/jupyterhub/issues/2453\">https://github.com/jupyterhub/jupyterhub/issues/2453</a></td>\n",
       "            </tr>\n",
       "            <tr>\n",
       "                                <td id=\"T_c6c3cc40_4cc7_11e9_988e_54ee75e0f62drow20_col0\" class=\"data row20 col0\" >pkumar8789</td>\n",
       "                        <td id=\"T_c6c3cc40_4cc7_11e9_988e_54ee75e0f62drow20_col1\" class=\"data row20 col1\" >NONE</td>\n",
       "                        <td id=\"T_c6c3cc40_4cc7_11e9_988e_54ee75e0f62drow20_col2\" class=\"data row20 col2\" >3</td>\n",
       "                        <td id=\"T_c6c3cc40_4cc7_11e9_988e_54ee75e0f62drow20_col3\" class=\"data row20 col3\" >False</td>\n",
       "                        <td id=\"T_c6c3cc40_4cc7_11e9_988e_54ee75e0f62drow20_col4\" class=\"data row20 col4\" ><a target=\"_blank\" href=\"https://github.com/jupyterhub/jupyterhub/issues/2426\">https://github.com/jupyterhub/jupyterhub/issues/2426</a></td>\n",
       "            </tr>\n",
       "            <tr>\n",
       "                                <td id=\"T_c6c3cc40_4cc7_11e9_988e_54ee75e0f62drow21_col0\" class=\"data row21 col0\" >consideRatio</td>\n",
       "                        <td id=\"T_c6c3cc40_4cc7_11e9_988e_54ee75e0f62drow21_col1\" class=\"data row21 col1\" >MEMBER</td>\n",
       "                        <td id=\"T_c6c3cc40_4cc7_11e9_988e_54ee75e0f62drow21_col2\" class=\"data row21 col2\" >6</td>\n",
       "                        <td id=\"T_c6c3cc40_4cc7_11e9_988e_54ee75e0f62drow21_col3\" class=\"data row21 col3\" >False</td>\n",
       "                        <td id=\"T_c6c3cc40_4cc7_11e9_988e_54ee75e0f62drow21_col4\" class=\"data row21 col4\" ><a target=\"_blank\" href=\"https://github.com/jupyterhub/jupyterhub/issues/2462\">https://github.com/jupyterhub/jupyterhub/issues/2462</a></td>\n",
       "            </tr>\n",
       "            <tr>\n",
       "                                <td id=\"T_c6c3cc40_4cc7_11e9_988e_54ee75e0f62drow22_col0\" class=\"data row22 col0\" >Carreau</td>\n",
       "                        <td id=\"T_c6c3cc40_4cc7_11e9_988e_54ee75e0f62drow22_col1\" class=\"data row22 col1\" >MEMBER</td>\n",
       "                        <td id=\"T_c6c3cc40_4cc7_11e9_988e_54ee75e0f62drow22_col2\" class=\"data row22 col2\" >8</td>\n",
       "                        <td id=\"T_c6c3cc40_4cc7_11e9_988e_54ee75e0f62drow22_col3\" class=\"data row22 col3\" >False</td>\n",
       "                        <td id=\"T_c6c3cc40_4cc7_11e9_988e_54ee75e0f62drow22_col4\" class=\"data row22 col4\" ><a target=\"_blank\" href=\"https://github.com/jupyterhub/jupyterhub/issues/2427\">https://github.com/jupyterhub/jupyterhub/issues/2427</a></td>\n",
       "            </tr>\n",
       "            <tr>\n",
       "                                <td id=\"T_c6c3cc40_4cc7_11e9_988e_54ee75e0f62drow23_col0\" class=\"data row23 col0\" >wierzba3</td>\n",
       "                        <td id=\"T_c6c3cc40_4cc7_11e9_988e_54ee75e0f62drow23_col1\" class=\"data row23 col1\" >NONE</td>\n",
       "                        <td id=\"T_c6c3cc40_4cc7_11e9_988e_54ee75e0f62drow23_col2\" class=\"data row23 col2\" >0</td>\n",
       "                        <td id=\"T_c6c3cc40_4cc7_11e9_988e_54ee75e0f62drow23_col3\" class=\"data row23 col3\" >True</td>\n",
       "                        <td id=\"T_c6c3cc40_4cc7_11e9_988e_54ee75e0f62drow23_col4\" class=\"data row23 col4\" ><a target=\"_blank\" href=\"https://github.com/jupyterhub/jupyterhub/issues/2466\">https://github.com/jupyterhub/jupyterhub/issues/2466</a></td>\n",
       "            </tr>\n",
       "            <tr>\n",
       "                                <td id=\"T_c6c3cc40_4cc7_11e9_988e_54ee75e0f62drow24_col0\" class=\"data row24 col0\" >scooper001</td>\n",
       "                        <td id=\"T_c6c3cc40_4cc7_11e9_988e_54ee75e0f62drow24_col1\" class=\"data row24 col1\" >NONE</td>\n",
       "                        <td id=\"T_c6c3cc40_4cc7_11e9_988e_54ee75e0f62drow24_col2\" class=\"data row24 col2\" >0</td>\n",
       "                        <td id=\"T_c6c3cc40_4cc7_11e9_988e_54ee75e0f62drow24_col3\" class=\"data row24 col3\" >True</td>\n",
       "                        <td id=\"T_c6c3cc40_4cc7_11e9_988e_54ee75e0f62drow24_col4\" class=\"data row24 col4\" ><a target=\"_blank\" href=\"https://github.com/jupyterhub/jupyterhub/issues/2465\">https://github.com/jupyterhub/jupyterhub/issues/2465</a></td>\n",
       "            </tr>\n",
       "            <tr>\n",
       "                                <td id=\"T_c6c3cc40_4cc7_11e9_988e_54ee75e0f62drow25_col0\" class=\"data row25 col0\" >mdivk</td>\n",
       "                        <td id=\"T_c6c3cc40_4cc7_11e9_988e_54ee75e0f62drow25_col1\" class=\"data row25 col1\" >NONE</td>\n",
       "                        <td id=\"T_c6c3cc40_4cc7_11e9_988e_54ee75e0f62drow25_col2\" class=\"data row25 col2\" >0</td>\n",
       "                        <td id=\"T_c6c3cc40_4cc7_11e9_988e_54ee75e0f62drow25_col3\" class=\"data row25 col3\" >True</td>\n",
       "                        <td id=\"T_c6c3cc40_4cc7_11e9_988e_54ee75e0f62drow25_col4\" class=\"data row25 col4\" ><a target=\"_blank\" href=\"https://github.com/jupyterhub/jupyterhub/issues/2452\">https://github.com/jupyterhub/jupyterhub/issues/2452</a></td>\n",
       "            </tr>\n",
       "            <tr>\n",
       "                                <td id=\"T_c6c3cc40_4cc7_11e9_988e_54ee75e0f62drow26_col0\" class=\"data row26 col0\" >JaobsenYc</td>\n",
       "                        <td id=\"T_c6c3cc40_4cc7_11e9_988e_54ee75e0f62drow26_col1\" class=\"data row26 col1\" >NONE</td>\n",
       "                        <td id=\"T_c6c3cc40_4cc7_11e9_988e_54ee75e0f62drow26_col2\" class=\"data row26 col2\" >0</td>\n",
       "                        <td id=\"T_c6c3cc40_4cc7_11e9_988e_54ee75e0f62drow26_col3\" class=\"data row26 col3\" >True</td>\n",
       "                        <td id=\"T_c6c3cc40_4cc7_11e9_988e_54ee75e0f62drow26_col4\" class=\"data row26 col4\" ><a target=\"_blank\" href=\"https://github.com/jupyterhub/jupyterhub/issues/2449\">https://github.com/jupyterhub/jupyterhub/issues/2449</a></td>\n",
       "            </tr>\n",
       "            <tr>\n",
       "                                <td id=\"T_c6c3cc40_4cc7_11e9_988e_54ee75e0f62drow27_col0\" class=\"data row27 col0\" >demaria11</td>\n",
       "                        <td id=\"T_c6c3cc40_4cc7_11e9_988e_54ee75e0f62drow27_col1\" class=\"data row27 col1\" >NONE</td>\n",
       "                        <td id=\"T_c6c3cc40_4cc7_11e9_988e_54ee75e0f62drow27_col2\" class=\"data row27 col2\" >0</td>\n",
       "                        <td id=\"T_c6c3cc40_4cc7_11e9_988e_54ee75e0f62drow27_col3\" class=\"data row27 col3\" >True</td>\n",
       "                        <td id=\"T_c6c3cc40_4cc7_11e9_988e_54ee75e0f62drow27_col4\" class=\"data row27 col4\" ><a target=\"_blank\" href=\"https://github.com/jupyterhub/jupyterhub/issues/2428\">https://github.com/jupyterhub/jupyterhub/issues/2428</a></td>\n",
       "            </tr>\n",
       "            <tr>\n",
       "                                <td id=\"T_c6c3cc40_4cc7_11e9_988e_54ee75e0f62drow28_col0\" class=\"data row28 col0\" >Smithx10</td>\n",
       "                        <td id=\"T_c6c3cc40_4cc7_11e9_988e_54ee75e0f62drow28_col1\" class=\"data row28 col1\" >NONE</td>\n",
       "                        <td id=\"T_c6c3cc40_4cc7_11e9_988e_54ee75e0f62drow28_col2\" class=\"data row28 col2\" >1</td>\n",
       "                        <td id=\"T_c6c3cc40_4cc7_11e9_988e_54ee75e0f62drow28_col3\" class=\"data row28 col3\" >True</td>\n",
       "                        <td id=\"T_c6c3cc40_4cc7_11e9_988e_54ee75e0f62drow28_col4\" class=\"data row28 col4\" ><a target=\"_blank\" href=\"https://github.com/jupyterhub/jupyterhub/issues/2471\">https://github.com/jupyterhub/jupyterhub/issues/2471</a></td>\n",
       "            </tr>\n",
       "            <tr>\n",
       "                                <td id=\"T_c6c3cc40_4cc7_11e9_988e_54ee75e0f62drow29_col0\" class=\"data row29 col0\" >mgnfcnt</td>\n",
       "                        <td id=\"T_c6c3cc40_4cc7_11e9_988e_54ee75e0f62drow29_col1\" class=\"data row29 col1\" >NONE</td>\n",
       "                        <td id=\"T_c6c3cc40_4cc7_11e9_988e_54ee75e0f62drow29_col2\" class=\"data row29 col2\" >1</td>\n",
       "                        <td id=\"T_c6c3cc40_4cc7_11e9_988e_54ee75e0f62drow29_col3\" class=\"data row29 col3\" >True</td>\n",
       "                        <td id=\"T_c6c3cc40_4cc7_11e9_988e_54ee75e0f62drow29_col4\" class=\"data row29 col4\" ><a target=\"_blank\" href=\"https://github.com/jupyterhub/jupyterhub/issues/2458\">https://github.com/jupyterhub/jupyterhub/issues/2458</a></td>\n",
       "            </tr>\n",
       "            <tr>\n",
       "                                <td id=\"T_c6c3cc40_4cc7_11e9_988e_54ee75e0f62drow30_col0\" class=\"data row30 col0\" >ch-liuzhide</td>\n",
       "                        <td id=\"T_c6c3cc40_4cc7_11e9_988e_54ee75e0f62drow30_col1\" class=\"data row30 col1\" >NONE</td>\n",
       "                        <td id=\"T_c6c3cc40_4cc7_11e9_988e_54ee75e0f62drow30_col2\" class=\"data row30 col2\" >2</td>\n",
       "                        <td id=\"T_c6c3cc40_4cc7_11e9_988e_54ee75e0f62drow30_col3\" class=\"data row30 col3\" >True</td>\n",
       "                        <td id=\"T_c6c3cc40_4cc7_11e9_988e_54ee75e0f62drow30_col4\" class=\"data row30 col4\" ><a target=\"_blank\" href=\"https://github.com/jupyterhub/jupyterhub/issues/2469\">https://github.com/jupyterhub/jupyterhub/issues/2469</a></td>\n",
       "            </tr>\n",
       "            <tr>\n",
       "                                <td id=\"T_c6c3cc40_4cc7_11e9_988e_54ee75e0f62drow31_col0\" class=\"data row31 col0\" >thongnnguyen</td>\n",
       "                        <td id=\"T_c6c3cc40_4cc7_11e9_988e_54ee75e0f62drow31_col1\" class=\"data row31 col1\" >NONE</td>\n",
       "                        <td id=\"T_c6c3cc40_4cc7_11e9_988e_54ee75e0f62drow31_col2\" class=\"data row31 col2\" >2</td>\n",
       "                        <td id=\"T_c6c3cc40_4cc7_11e9_988e_54ee75e0f62drow31_col3\" class=\"data row31 col3\" >True</td>\n",
       "                        <td id=\"T_c6c3cc40_4cc7_11e9_988e_54ee75e0f62drow31_col4\" class=\"data row31 col4\" ><a target=\"_blank\" href=\"https://github.com/jupyterhub/jupyterhub/issues/2461\">https://github.com/jupyterhub/jupyterhub/issues/2461</a></td>\n",
       "            </tr>\n",
       "            <tr>\n",
       "                                <td id=\"T_c6c3cc40_4cc7_11e9_988e_54ee75e0f62drow32_col0\" class=\"data row32 col0\" >daliati</td>\n",
       "                        <td id=\"T_c6c3cc40_4cc7_11e9_988e_54ee75e0f62drow32_col1\" class=\"data row32 col1\" >NONE</td>\n",
       "                        <td id=\"T_c6c3cc40_4cc7_11e9_988e_54ee75e0f62drow32_col2\" class=\"data row32 col2\" >2</td>\n",
       "                        <td id=\"T_c6c3cc40_4cc7_11e9_988e_54ee75e0f62drow32_col3\" class=\"data row32 col3\" >True</td>\n",
       "                        <td id=\"T_c6c3cc40_4cc7_11e9_988e_54ee75e0f62drow32_col4\" class=\"data row32 col4\" ><a target=\"_blank\" href=\"https://github.com/jupyterhub/jupyterhub/issues/2451\">https://github.com/jupyterhub/jupyterhub/issues/2451</a></td>\n",
       "            </tr>\n",
       "            <tr>\n",
       "                                <td id=\"T_c6c3cc40_4cc7_11e9_988e_54ee75e0f62drow33_col0\" class=\"data row33 col0\" >huseinzol05</td>\n",
       "                        <td id=\"T_c6c3cc40_4cc7_11e9_988e_54ee75e0f62drow33_col1\" class=\"data row33 col1\" >NONE</td>\n",
       "                        <td id=\"T_c6c3cc40_4cc7_11e9_988e_54ee75e0f62drow33_col2\" class=\"data row33 col2\" >2</td>\n",
       "                        <td id=\"T_c6c3cc40_4cc7_11e9_988e_54ee75e0f62drow33_col3\" class=\"data row33 col3\" >True</td>\n",
       "                        <td id=\"T_c6c3cc40_4cc7_11e9_988e_54ee75e0f62drow33_col4\" class=\"data row33 col4\" ><a target=\"_blank\" href=\"https://github.com/jupyterhub/jupyterhub/issues/2448\">https://github.com/jupyterhub/jupyterhub/issues/2448</a></td>\n",
       "            </tr>\n",
       "            <tr>\n",
       "                                <td id=\"T_c6c3cc40_4cc7_11e9_988e_54ee75e0f62drow34_col0\" class=\"data row34 col0\" >JaobsenYc</td>\n",
       "                        <td id=\"T_c6c3cc40_4cc7_11e9_988e_54ee75e0f62drow34_col1\" class=\"data row34 col1\" >NONE</td>\n",
       "                        <td id=\"T_c6c3cc40_4cc7_11e9_988e_54ee75e0f62drow34_col2\" class=\"data row34 col2\" >2</td>\n",
       "                        <td id=\"T_c6c3cc40_4cc7_11e9_988e_54ee75e0f62drow34_col3\" class=\"data row34 col3\" >True</td>\n",
       "                        <td id=\"T_c6c3cc40_4cc7_11e9_988e_54ee75e0f62drow34_col4\" class=\"data row34 col4\" ><a target=\"_blank\" href=\"https://github.com/jupyterhub/jupyterhub/issues/2442\">https://github.com/jupyterhub/jupyterhub/issues/2442</a></td>\n",
       "            </tr>\n",
       "            <tr>\n",
       "                                <td id=\"T_c6c3cc40_4cc7_11e9_988e_54ee75e0f62drow35_col0\" class=\"data row35 col0\" >user919lx</td>\n",
       "                        <td id=\"T_c6c3cc40_4cc7_11e9_988e_54ee75e0f62drow35_col1\" class=\"data row35 col1\" >NONE</td>\n",
       "                        <td id=\"T_c6c3cc40_4cc7_11e9_988e_54ee75e0f62drow35_col2\" class=\"data row35 col2\" >2</td>\n",
       "                        <td id=\"T_c6c3cc40_4cc7_11e9_988e_54ee75e0f62drow35_col3\" class=\"data row35 col3\" >True</td>\n",
       "                        <td id=\"T_c6c3cc40_4cc7_11e9_988e_54ee75e0f62drow35_col4\" class=\"data row35 col4\" ><a target=\"_blank\" href=\"https://github.com/jupyterhub/jupyterhub/issues/2437\">https://github.com/jupyterhub/jupyterhub/issues/2437</a></td>\n",
       "            </tr>\n",
       "            <tr>\n",
       "                                <td id=\"T_c6c3cc40_4cc7_11e9_988e_54ee75e0f62drow36_col0\" class=\"data row36 col0\" >serlina</td>\n",
       "                        <td id=\"T_c6c3cc40_4cc7_11e9_988e_54ee75e0f62drow36_col1\" class=\"data row36 col1\" >NONE</td>\n",
       "                        <td id=\"T_c6c3cc40_4cc7_11e9_988e_54ee75e0f62drow36_col2\" class=\"data row36 col2\" >3</td>\n",
       "                        <td id=\"T_c6c3cc40_4cc7_11e9_988e_54ee75e0f62drow36_col3\" class=\"data row36 col3\" >True</td>\n",
       "                        <td id=\"T_c6c3cc40_4cc7_11e9_988e_54ee75e0f62drow36_col4\" class=\"data row36 col4\" ><a target=\"_blank\" href=\"https://github.com/jupyterhub/jupyterhub/issues/2430\">https://github.com/jupyterhub/jupyterhub/issues/2430</a></td>\n",
       "            </tr>\n",
       "            <tr>\n",
       "                                <td id=\"T_c6c3cc40_4cc7_11e9_988e_54ee75e0f62drow37_col0\" class=\"data row37 col0\" >emirot</td>\n",
       "                        <td id=\"T_c6c3cc40_4cc7_11e9_988e_54ee75e0f62drow37_col1\" class=\"data row37 col1\" >NONE</td>\n",
       "                        <td id=\"T_c6c3cc40_4cc7_11e9_988e_54ee75e0f62drow37_col2\" class=\"data row37 col2\" >3</td>\n",
       "                        <td id=\"T_c6c3cc40_4cc7_11e9_988e_54ee75e0f62drow37_col3\" class=\"data row37 col3\" >True</td>\n",
       "                        <td id=\"T_c6c3cc40_4cc7_11e9_988e_54ee75e0f62drow37_col4\" class=\"data row37 col4\" ><a target=\"_blank\" href=\"https://github.com/jupyterhub/jupyterhub/issues/2473\">https://github.com/jupyterhub/jupyterhub/issues/2473</a></td>\n",
       "            </tr>\n",
       "            <tr>\n",
       "                                <td id=\"T_c6c3cc40_4cc7_11e9_988e_54ee75e0f62drow38_col0\" class=\"data row38 col0\" >vilhelmen</td>\n",
       "                        <td id=\"T_c6c3cc40_4cc7_11e9_988e_54ee75e0f62drow38_col1\" class=\"data row38 col1\" >CONTRIBUTOR</td>\n",
       "                        <td id=\"T_c6c3cc40_4cc7_11e9_988e_54ee75e0f62drow38_col2\" class=\"data row38 col2\" >6</td>\n",
       "                        <td id=\"T_c6c3cc40_4cc7_11e9_988e_54ee75e0f62drow38_col3\" class=\"data row38 col3\" >True</td>\n",
       "                        <td id=\"T_c6c3cc40_4cc7_11e9_988e_54ee75e0f62drow38_col4\" class=\"data row38 col4\" ><a target=\"_blank\" href=\"https://github.com/jupyterhub/jupyterhub/issues/2436\">https://github.com/jupyterhub/jupyterhub/issues/2436</a></td>\n",
       "            </tr>\n",
       "    </tbody></table>"
      ],
      "text/plain": [
       "<pandas.io.formats.style.Styler at 0x7f658e25d240>"
      ]
     },
     "execution_count": 10,
     "metadata": {},
     "output_type": "execute_result"
    }
   ],
   "source": [
    "opened_issues[['user', 'author_association', 'comments', 'closed', 'html_url']]\\\n",
    "    .sort_values(['closed', 'comments']).style.applymap(highlight_rows).format({'html_url': make_clickable}).hide_index()"
   ]
  },
  {
   "cell_type": "markdown",
   "metadata": {
    "papermill": {
     "duration": 0.033945,
     "end_time": "2019-03-22T17:27:32.945561",
     "exception": false,
     "start_time": "2019-03-22T17:27:32.911616",
     "status": "completed"
    },
    "tags": []
   },
   "source": [
    "## Closed issues\n"
   ]
  },
  {
   "cell_type": "code",
   "execution_count": 11,
   "metadata": {
    "jupyter": {
     "source_hidden": true
    },
    "papermill": {
     "duration": 0.043056,
     "end_time": "2019-03-22T17:27:33.016128",
     "exception": false,
     "start_time": "2019-03-22T17:27:32.973072",
     "status": "completed"
    },
    "tags": []
   },
   "outputs": [],
   "source": [
    "closed = issues.query('closed_at > @date')\n",
    "closed_issues = closed[closed['pull_request'].isna()]"
   ]
  },
  {
   "cell_type": "code",
   "execution_count": 12,
   "metadata": {
    "jupyter": {
     "source_hidden": true
    },
    "papermill": {
     "duration": 0.116603,
     "end_time": "2019-03-22T17:27:33.165253",
     "exception": false,
     "start_time": "2019-03-22T17:27:33.048650",
     "status": "completed"
    },
    "tags": []
   },
   "outputs": [
    {
     "data": {
      "text/html": [
       "<style  type=\"text/css\" >\n",
       "    #T_c6f2b29e_4cc7_11e9_988e_54ee75e0f62drow0_col1 {\n",
       "            background-color:  #f7b7b7;\n",
       "        }    #T_c6f2b29e_4cc7_11e9_988e_54ee75e0f62drow0_col2 {\n",
       "            background-color:  #f7b7b7;\n",
       "        }    #T_c6f2b29e_4cc7_11e9_988e_54ee75e0f62drow1_col1 {\n",
       "            background-color:  #f7b7b7;\n",
       "        }    #T_c6f2b29e_4cc7_11e9_988e_54ee75e0f62drow1_col2 {\n",
       "            background-color:  #f7b7b7;\n",
       "        }    #T_c6f2b29e_4cc7_11e9_988e_54ee75e0f62drow2_col1 {\n",
       "            background-color:  #f7b7b7;\n",
       "        }    #T_c6f2b29e_4cc7_11e9_988e_54ee75e0f62drow2_col2 {\n",
       "            background-color:  #f7b7b7;\n",
       "        }    #T_c6f2b29e_4cc7_11e9_988e_54ee75e0f62drow3_col1 {\n",
       "            background-color:  #f7b7b7;\n",
       "        }    #T_c6f2b29e_4cc7_11e9_988e_54ee75e0f62drow3_col2 {\n",
       "            background-color:  #f7b7b7;\n",
       "        }    #T_c6f2b29e_4cc7_11e9_988e_54ee75e0f62drow4_col1 {\n",
       "            background-color:  #f7b7b7;\n",
       "        }    #T_c6f2b29e_4cc7_11e9_988e_54ee75e0f62drow4_col2 {\n",
       "            background-color:  #f7b7b7;\n",
       "        }    #T_c6f2b29e_4cc7_11e9_988e_54ee75e0f62drow5_col1 {\n",
       "            background-color:  #f7b7b7;\n",
       "        }    #T_c6f2b29e_4cc7_11e9_988e_54ee75e0f62drow6_col1 {\n",
       "            background-color:  #f7b7b7;\n",
       "        }    #T_c6f2b29e_4cc7_11e9_988e_54ee75e0f62drow7_col1 {\n",
       "            background-color:  #f7b7b7;\n",
       "        }    #T_c6f2b29e_4cc7_11e9_988e_54ee75e0f62drow8_col1 {\n",
       "            background-color:  #f7b7b7;\n",
       "        }    #T_c6f2b29e_4cc7_11e9_988e_54ee75e0f62drow9_col1 {\n",
       "            background-color:  #f7b7b7;\n",
       "        }    #T_c6f2b29e_4cc7_11e9_988e_54ee75e0f62drow10_col1 {\n",
       "            background-color:  #f7b7b7;\n",
       "        }    #T_c6f2b29e_4cc7_11e9_988e_54ee75e0f62drow11_col1 {\n",
       "            background-color:  #f7b7b7;\n",
       "        }    #T_c6f2b29e_4cc7_11e9_988e_54ee75e0f62drow12_col1 {\n",
       "            background-color:  #f7b7b7;\n",
       "        }    #T_c6f2b29e_4cc7_11e9_988e_54ee75e0f62drow13_col1 {\n",
       "            background-color:  #f7b7b7;\n",
       "        }    #T_c6f2b29e_4cc7_11e9_988e_54ee75e0f62drow14_col1 {\n",
       "            background-color:  #f7b7b7;\n",
       "        }    #T_c6f2b29e_4cc7_11e9_988e_54ee75e0f62drow15_col1 {\n",
       "            background-color:  #f7b7b7;\n",
       "        }    #T_c6f2b29e_4cc7_11e9_988e_54ee75e0f62drow16_col1 {\n",
       "            background-color:  #f7b7b7;\n",
       "        }    #T_c6f2b29e_4cc7_11e9_988e_54ee75e0f62drow17_col1 {\n",
       "            background-color:  #f7b7b7;\n",
       "        }    #T_c6f2b29e_4cc7_11e9_988e_54ee75e0f62drow18_col1 {\n",
       "            background-color:  #f7b7b7;\n",
       "        }    #T_c6f2b29e_4cc7_11e9_988e_54ee75e0f62drow19_col1 {\n",
       "            background-color:  #f7b7b7;\n",
       "        }    #T_c6f2b29e_4cc7_11e9_988e_54ee75e0f62drow20_col1 {\n",
       "            background-color:  #f7b7b7;\n",
       "        }</style><table id=\"T_c6f2b29e_4cc7_11e9_988e_54ee75e0f62d\" ><thead>    <tr>        <th class=\"col_heading level0 col0\" >user</th>        <th class=\"col_heading level0 col1\" >author_association</th>        <th class=\"col_heading level0 col2\" >comments</th>        <th class=\"col_heading level0 col3\" >html_url</th>    </tr></thead><tbody>\n",
       "                <tr>\n",
       "                                <td id=\"T_c6f2b29e_4cc7_11e9_988e_54ee75e0f62drow0_col0\" class=\"data row0 col0\" >wierzba3</td>\n",
       "                        <td id=\"T_c6f2b29e_4cc7_11e9_988e_54ee75e0f62drow0_col1\" class=\"data row0 col1\" >NONE</td>\n",
       "                        <td id=\"T_c6f2b29e_4cc7_11e9_988e_54ee75e0f62drow0_col2\" class=\"data row0 col2\" >0</td>\n",
       "                        <td id=\"T_c6f2b29e_4cc7_11e9_988e_54ee75e0f62drow0_col3\" class=\"data row0 col3\" ><a target=\"_blank\" href=\"https://github.com/jupyterhub/jupyterhub/issues/2466\">https://github.com/jupyterhub/jupyterhub/issues/2466</a></td>\n",
       "            </tr>\n",
       "            <tr>\n",
       "                                <td id=\"T_c6f2b29e_4cc7_11e9_988e_54ee75e0f62drow1_col0\" class=\"data row1 col0\" >scooper001</td>\n",
       "                        <td id=\"T_c6f2b29e_4cc7_11e9_988e_54ee75e0f62drow1_col1\" class=\"data row1 col1\" >NONE</td>\n",
       "                        <td id=\"T_c6f2b29e_4cc7_11e9_988e_54ee75e0f62drow1_col2\" class=\"data row1 col2\" >0</td>\n",
       "                        <td id=\"T_c6f2b29e_4cc7_11e9_988e_54ee75e0f62drow1_col3\" class=\"data row1 col3\" ><a target=\"_blank\" href=\"https://github.com/jupyterhub/jupyterhub/issues/2465\">https://github.com/jupyterhub/jupyterhub/issues/2465</a></td>\n",
       "            </tr>\n",
       "            <tr>\n",
       "                                <td id=\"T_c6f2b29e_4cc7_11e9_988e_54ee75e0f62drow2_col0\" class=\"data row2 col0\" >mdivk</td>\n",
       "                        <td id=\"T_c6f2b29e_4cc7_11e9_988e_54ee75e0f62drow2_col1\" class=\"data row2 col1\" >NONE</td>\n",
       "                        <td id=\"T_c6f2b29e_4cc7_11e9_988e_54ee75e0f62drow2_col2\" class=\"data row2 col2\" >0</td>\n",
       "                        <td id=\"T_c6f2b29e_4cc7_11e9_988e_54ee75e0f62drow2_col3\" class=\"data row2 col3\" ><a target=\"_blank\" href=\"https://github.com/jupyterhub/jupyterhub/issues/2452\">https://github.com/jupyterhub/jupyterhub/issues/2452</a></td>\n",
       "            </tr>\n",
       "            <tr>\n",
       "                                <td id=\"T_c6f2b29e_4cc7_11e9_988e_54ee75e0f62drow3_col0\" class=\"data row3 col0\" >JaobsenYc</td>\n",
       "                        <td id=\"T_c6f2b29e_4cc7_11e9_988e_54ee75e0f62drow3_col1\" class=\"data row3 col1\" >NONE</td>\n",
       "                        <td id=\"T_c6f2b29e_4cc7_11e9_988e_54ee75e0f62drow3_col2\" class=\"data row3 col2\" >0</td>\n",
       "                        <td id=\"T_c6f2b29e_4cc7_11e9_988e_54ee75e0f62drow3_col3\" class=\"data row3 col3\" ><a target=\"_blank\" href=\"https://github.com/jupyterhub/jupyterhub/issues/2449\">https://github.com/jupyterhub/jupyterhub/issues/2449</a></td>\n",
       "            </tr>\n",
       "            <tr>\n",
       "                                <td id=\"T_c6f2b29e_4cc7_11e9_988e_54ee75e0f62drow4_col0\" class=\"data row4 col0\" >demaria11</td>\n",
       "                        <td id=\"T_c6f2b29e_4cc7_11e9_988e_54ee75e0f62drow4_col1\" class=\"data row4 col1\" >NONE</td>\n",
       "                        <td id=\"T_c6f2b29e_4cc7_11e9_988e_54ee75e0f62drow4_col2\" class=\"data row4 col2\" >0</td>\n",
       "                        <td id=\"T_c6f2b29e_4cc7_11e9_988e_54ee75e0f62drow4_col3\" class=\"data row4 col3\" ><a target=\"_blank\" href=\"https://github.com/jupyterhub/jupyterhub/issues/2428\">https://github.com/jupyterhub/jupyterhub/issues/2428</a></td>\n",
       "            </tr>\n",
       "            <tr>\n",
       "                                <td id=\"T_c6f2b29e_4cc7_11e9_988e_54ee75e0f62drow5_col0\" class=\"data row5 col0\" >Smithx10</td>\n",
       "                        <td id=\"T_c6f2b29e_4cc7_11e9_988e_54ee75e0f62drow5_col1\" class=\"data row5 col1\" >NONE</td>\n",
       "                        <td id=\"T_c6f2b29e_4cc7_11e9_988e_54ee75e0f62drow5_col2\" class=\"data row5 col2\" >1</td>\n",
       "                        <td id=\"T_c6f2b29e_4cc7_11e9_988e_54ee75e0f62drow5_col3\" class=\"data row5 col3\" ><a target=\"_blank\" href=\"https://github.com/jupyterhub/jupyterhub/issues/2471\">https://github.com/jupyterhub/jupyterhub/issues/2471</a></td>\n",
       "            </tr>\n",
       "            <tr>\n",
       "                                <td id=\"T_c6f2b29e_4cc7_11e9_988e_54ee75e0f62drow6_col0\" class=\"data row6 col0\" >palashSharma17</td>\n",
       "                        <td id=\"T_c6f2b29e_4cc7_11e9_988e_54ee75e0f62drow6_col1\" class=\"data row6 col1\" >NONE</td>\n",
       "                        <td id=\"T_c6f2b29e_4cc7_11e9_988e_54ee75e0f62drow6_col2\" class=\"data row6 col2\" >1</td>\n",
       "                        <td id=\"T_c6f2b29e_4cc7_11e9_988e_54ee75e0f62drow6_col3\" class=\"data row6 col3\" ><a target=\"_blank\" href=\"https://github.com/jupyterhub/jupyterhub/issues/2419\">https://github.com/jupyterhub/jupyterhub/issues/2419</a></td>\n",
       "            </tr>\n",
       "            <tr>\n",
       "                                <td id=\"T_c6f2b29e_4cc7_11e9_988e_54ee75e0f62drow7_col0\" class=\"data row7 col0\" >mgnfcnt</td>\n",
       "                        <td id=\"T_c6f2b29e_4cc7_11e9_988e_54ee75e0f62drow7_col1\" class=\"data row7 col1\" >NONE</td>\n",
       "                        <td id=\"T_c6f2b29e_4cc7_11e9_988e_54ee75e0f62drow7_col2\" class=\"data row7 col2\" >1</td>\n",
       "                        <td id=\"T_c6f2b29e_4cc7_11e9_988e_54ee75e0f62drow7_col3\" class=\"data row7 col3\" ><a target=\"_blank\" href=\"https://github.com/jupyterhub/jupyterhub/issues/2458\">https://github.com/jupyterhub/jupyterhub/issues/2458</a></td>\n",
       "            </tr>\n",
       "            <tr>\n",
       "                                <td id=\"T_c6f2b29e_4cc7_11e9_988e_54ee75e0f62drow8_col0\" class=\"data row8 col0\" >palashSharma17</td>\n",
       "                        <td id=\"T_c6f2b29e_4cc7_11e9_988e_54ee75e0f62drow8_col1\" class=\"data row8 col1\" >NONE</td>\n",
       "                        <td id=\"T_c6f2b29e_4cc7_11e9_988e_54ee75e0f62drow8_col2\" class=\"data row8 col2\" >1</td>\n",
       "                        <td id=\"T_c6f2b29e_4cc7_11e9_988e_54ee75e0f62drow8_col3\" class=\"data row8 col3\" ><a target=\"_blank\" href=\"https://github.com/jupyterhub/jupyterhub/issues/2420\">https://github.com/jupyterhub/jupyterhub/issues/2420</a></td>\n",
       "            </tr>\n",
       "            <tr>\n",
       "                                <td id=\"T_c6f2b29e_4cc7_11e9_988e_54ee75e0f62drow9_col0\" class=\"data row9 col0\" >himswamy</td>\n",
       "                        <td id=\"T_c6f2b29e_4cc7_11e9_988e_54ee75e0f62drow9_col1\" class=\"data row9 col1\" >NONE</td>\n",
       "                        <td id=\"T_c6f2b29e_4cc7_11e9_988e_54ee75e0f62drow9_col2\" class=\"data row9 col2\" >2</td>\n",
       "                        <td id=\"T_c6f2b29e_4cc7_11e9_988e_54ee75e0f62drow9_col3\" class=\"data row9 col3\" ><a target=\"_blank\" href=\"https://github.com/jupyterhub/jupyterhub/issues/2410\">https://github.com/jupyterhub/jupyterhub/issues/2410</a></td>\n",
       "            </tr>\n",
       "            <tr>\n",
       "                                <td id=\"T_c6f2b29e_4cc7_11e9_988e_54ee75e0f62drow10_col0\" class=\"data row10 col0\" >user919lx</td>\n",
       "                        <td id=\"T_c6f2b29e_4cc7_11e9_988e_54ee75e0f62drow10_col1\" class=\"data row10 col1\" >NONE</td>\n",
       "                        <td id=\"T_c6f2b29e_4cc7_11e9_988e_54ee75e0f62drow10_col2\" class=\"data row10 col2\" >2</td>\n",
       "                        <td id=\"T_c6f2b29e_4cc7_11e9_988e_54ee75e0f62drow10_col3\" class=\"data row10 col3\" ><a target=\"_blank\" href=\"https://github.com/jupyterhub/jupyterhub/issues/2437\">https://github.com/jupyterhub/jupyterhub/issues/2437</a></td>\n",
       "            </tr>\n",
       "            <tr>\n",
       "                                <td id=\"T_c6f2b29e_4cc7_11e9_988e_54ee75e0f62drow11_col0\" class=\"data row11 col0\" >huseinzol05</td>\n",
       "                        <td id=\"T_c6f2b29e_4cc7_11e9_988e_54ee75e0f62drow11_col1\" class=\"data row11 col1\" >NONE</td>\n",
       "                        <td id=\"T_c6f2b29e_4cc7_11e9_988e_54ee75e0f62drow11_col2\" class=\"data row11 col2\" >2</td>\n",
       "                        <td id=\"T_c6f2b29e_4cc7_11e9_988e_54ee75e0f62drow11_col3\" class=\"data row11 col3\" ><a target=\"_blank\" href=\"https://github.com/jupyterhub/jupyterhub/issues/2448\">https://github.com/jupyterhub/jupyterhub/issues/2448</a></td>\n",
       "            </tr>\n",
       "            <tr>\n",
       "                                <td id=\"T_c6f2b29e_4cc7_11e9_988e_54ee75e0f62drow12_col0\" class=\"data row12 col0\" >daliati</td>\n",
       "                        <td id=\"T_c6f2b29e_4cc7_11e9_988e_54ee75e0f62drow12_col1\" class=\"data row12 col1\" >NONE</td>\n",
       "                        <td id=\"T_c6f2b29e_4cc7_11e9_988e_54ee75e0f62drow12_col2\" class=\"data row12 col2\" >2</td>\n",
       "                        <td id=\"T_c6f2b29e_4cc7_11e9_988e_54ee75e0f62drow12_col3\" class=\"data row12 col3\" ><a target=\"_blank\" href=\"https://github.com/jupyterhub/jupyterhub/issues/2451\">https://github.com/jupyterhub/jupyterhub/issues/2451</a></td>\n",
       "            </tr>\n",
       "            <tr>\n",
       "                                <td id=\"T_c6f2b29e_4cc7_11e9_988e_54ee75e0f62drow13_col0\" class=\"data row13 col0\" >thongnnguyen</td>\n",
       "                        <td id=\"T_c6f2b29e_4cc7_11e9_988e_54ee75e0f62drow13_col1\" class=\"data row13 col1\" >NONE</td>\n",
       "                        <td id=\"T_c6f2b29e_4cc7_11e9_988e_54ee75e0f62drow13_col2\" class=\"data row13 col2\" >2</td>\n",
       "                        <td id=\"T_c6f2b29e_4cc7_11e9_988e_54ee75e0f62drow13_col3\" class=\"data row13 col3\" ><a target=\"_blank\" href=\"https://github.com/jupyterhub/jupyterhub/issues/2461\">https://github.com/jupyterhub/jupyterhub/issues/2461</a></td>\n",
       "            </tr>\n",
       "            <tr>\n",
       "                                <td id=\"T_c6f2b29e_4cc7_11e9_988e_54ee75e0f62drow14_col0\" class=\"data row14 col0\" >ch-liuzhide</td>\n",
       "                        <td id=\"T_c6f2b29e_4cc7_11e9_988e_54ee75e0f62drow14_col1\" class=\"data row14 col1\" >NONE</td>\n",
       "                        <td id=\"T_c6f2b29e_4cc7_11e9_988e_54ee75e0f62drow14_col2\" class=\"data row14 col2\" >2</td>\n",
       "                        <td id=\"T_c6f2b29e_4cc7_11e9_988e_54ee75e0f62drow14_col3\" class=\"data row14 col3\" ><a target=\"_blank\" href=\"https://github.com/jupyterhub/jupyterhub/issues/2469\">https://github.com/jupyterhub/jupyterhub/issues/2469</a></td>\n",
       "            </tr>\n",
       "            <tr>\n",
       "                                <td id=\"T_c6f2b29e_4cc7_11e9_988e_54ee75e0f62drow15_col0\" class=\"data row15 col0\" >JaobsenYc</td>\n",
       "                        <td id=\"T_c6f2b29e_4cc7_11e9_988e_54ee75e0f62drow15_col1\" class=\"data row15 col1\" >NONE</td>\n",
       "                        <td id=\"T_c6f2b29e_4cc7_11e9_988e_54ee75e0f62drow15_col2\" class=\"data row15 col2\" >2</td>\n",
       "                        <td id=\"T_c6f2b29e_4cc7_11e9_988e_54ee75e0f62drow15_col3\" class=\"data row15 col3\" ><a target=\"_blank\" href=\"https://github.com/jupyterhub/jupyterhub/issues/2442\">https://github.com/jupyterhub/jupyterhub/issues/2442</a></td>\n",
       "            </tr>\n",
       "            <tr>\n",
       "                                <td id=\"T_c6f2b29e_4cc7_11e9_988e_54ee75e0f62drow16_col0\" class=\"data row16 col0\" >serlina</td>\n",
       "                        <td id=\"T_c6f2b29e_4cc7_11e9_988e_54ee75e0f62drow16_col1\" class=\"data row16 col1\" >NONE</td>\n",
       "                        <td id=\"T_c6f2b29e_4cc7_11e9_988e_54ee75e0f62drow16_col2\" class=\"data row16 col2\" >3</td>\n",
       "                        <td id=\"T_c6f2b29e_4cc7_11e9_988e_54ee75e0f62drow16_col3\" class=\"data row16 col3\" ><a target=\"_blank\" href=\"https://github.com/jupyterhub/jupyterhub/issues/2430\">https://github.com/jupyterhub/jupyterhub/issues/2430</a></td>\n",
       "            </tr>\n",
       "            <tr>\n",
       "                                <td id=\"T_c6f2b29e_4cc7_11e9_988e_54ee75e0f62drow17_col0\" class=\"data row17 col0\" >xysong1201</td>\n",
       "                        <td id=\"T_c6f2b29e_4cc7_11e9_988e_54ee75e0f62drow17_col1\" class=\"data row17 col1\" >NONE</td>\n",
       "                        <td id=\"T_c6f2b29e_4cc7_11e9_988e_54ee75e0f62drow17_col2\" class=\"data row17 col2\" >3</td>\n",
       "                        <td id=\"T_c6f2b29e_4cc7_11e9_988e_54ee75e0f62drow17_col3\" class=\"data row17 col3\" ><a target=\"_blank\" href=\"https://github.com/jupyterhub/jupyterhub/issues/2407\">https://github.com/jupyterhub/jupyterhub/issues/2407</a></td>\n",
       "            </tr>\n",
       "            <tr>\n",
       "                                <td id=\"T_c6f2b29e_4cc7_11e9_988e_54ee75e0f62drow18_col0\" class=\"data row18 col0\" >emirot</td>\n",
       "                        <td id=\"T_c6f2b29e_4cc7_11e9_988e_54ee75e0f62drow18_col1\" class=\"data row18 col1\" >NONE</td>\n",
       "                        <td id=\"T_c6f2b29e_4cc7_11e9_988e_54ee75e0f62drow18_col2\" class=\"data row18 col2\" >3</td>\n",
       "                        <td id=\"T_c6f2b29e_4cc7_11e9_988e_54ee75e0f62drow18_col3\" class=\"data row18 col3\" ><a target=\"_blank\" href=\"https://github.com/jupyterhub/jupyterhub/issues/2473\">https://github.com/jupyterhub/jupyterhub/issues/2473</a></td>\n",
       "            </tr>\n",
       "            <tr>\n",
       "                                <td id=\"T_c6f2b29e_4cc7_11e9_988e_54ee75e0f62drow19_col0\" class=\"data row19 col0\" >datalee</td>\n",
       "                        <td id=\"T_c6f2b29e_4cc7_11e9_988e_54ee75e0f62drow19_col1\" class=\"data row19 col1\" >NONE</td>\n",
       "                        <td id=\"T_c6f2b29e_4cc7_11e9_988e_54ee75e0f62drow19_col2\" class=\"data row19 col2\" >4</td>\n",
       "                        <td id=\"T_c6f2b29e_4cc7_11e9_988e_54ee75e0f62drow19_col3\" class=\"data row19 col3\" ><a target=\"_blank\" href=\"https://github.com/jupyterhub/jupyterhub/issues/2423\">https://github.com/jupyterhub/jupyterhub/issues/2423</a></td>\n",
       "            </tr>\n",
       "            <tr>\n",
       "                                <td id=\"T_c6f2b29e_4cc7_11e9_988e_54ee75e0f62drow20_col0\" class=\"data row20 col0\" >kide007</td>\n",
       "                        <td id=\"T_c6f2b29e_4cc7_11e9_988e_54ee75e0f62drow20_col1\" class=\"data row20 col1\" >NONE</td>\n",
       "                        <td id=\"T_c6f2b29e_4cc7_11e9_988e_54ee75e0f62drow20_col2\" class=\"data row20 col2\" >6</td>\n",
       "                        <td id=\"T_c6f2b29e_4cc7_11e9_988e_54ee75e0f62drow20_col3\" class=\"data row20 col3\" ><a target=\"_blank\" href=\"https://github.com/jupyterhub/jupyterhub/issues/2230\">https://github.com/jupyterhub/jupyterhub/issues/2230</a></td>\n",
       "            </tr>\n",
       "            <tr>\n",
       "                                <td id=\"T_c6f2b29e_4cc7_11e9_988e_54ee75e0f62drow21_col0\" class=\"data row21 col0\" >vilhelmen</td>\n",
       "                        <td id=\"T_c6f2b29e_4cc7_11e9_988e_54ee75e0f62drow21_col1\" class=\"data row21 col1\" >CONTRIBUTOR</td>\n",
       "                        <td id=\"T_c6f2b29e_4cc7_11e9_988e_54ee75e0f62drow21_col2\" class=\"data row21 col2\" >6</td>\n",
       "                        <td id=\"T_c6f2b29e_4cc7_11e9_988e_54ee75e0f62drow21_col3\" class=\"data row21 col3\" ><a target=\"_blank\" href=\"https://github.com/jupyterhub/jupyterhub/issues/2436\">https://github.com/jupyterhub/jupyterhub/issues/2436</a></td>\n",
       "            </tr>\n",
       "            <tr>\n",
       "                                <td id=\"T_c6f2b29e_4cc7_11e9_988e_54ee75e0f62drow22_col0\" class=\"data row22 col0\" >minrk</td>\n",
       "                        <td id=\"T_c6f2b29e_4cc7_11e9_988e_54ee75e0f62drow22_col1\" class=\"data row22 col1\" >MEMBER</td>\n",
       "                        <td id=\"T_c6f2b29e_4cc7_11e9_988e_54ee75e0f62drow22_col2\" class=\"data row22 col2\" >6</td>\n",
       "                        <td id=\"T_c6f2b29e_4cc7_11e9_988e_54ee75e0f62drow22_col3\" class=\"data row22 col3\" ><a target=\"_blank\" href=\"https://github.com/jupyterhub/jupyterhub/issues/2416\">https://github.com/jupyterhub/jupyterhub/issues/2416</a></td>\n",
       "            </tr>\n",
       "    </tbody></table>"
      ],
      "text/plain": [
       "<pandas.io.formats.style.Styler at 0x7f658942ae48>"
      ]
     },
     "execution_count": 12,
     "metadata": {},
     "output_type": "execute_result"
    }
   ],
   "source": [
    "closed_issues[['user', 'author_association', 'comments', 'html_url']]\\\n",
    "    .sort_values(['comments']).style.applymap(highlight_rows).format({'html_url': make_clickable}).hide_index()"
   ]
  },
  {
   "cell_type": "code",
   "execution_count": 13,
   "metadata": {
    "jupyter": {
     "source_hidden": true
    },
    "papermill": {
     "duration": 0.054164,
     "end_time": "2019-03-22T17:27:33.251183",
     "exception": false,
     "start_time": "2019-03-22T17:27:33.197019",
     "status": "completed"
    },
    "tags": []
   },
   "outputs": [
    {
     "data": {
      "text/html": [
       "<h2 style=\"padding-left: 1em;\">Closed issues: 23</h2>"
      ],
      "text/plain": [
       "<IPython.core.display.HTML object>"
      ]
     },
     "metadata": {},
     "output_type": "display_data"
    }
   ],
   "source": [
    "print_html('Closed issues: {}'.format(len(closed_issues)))"
   ]
  },
  {
   "cell_type": "markdown",
   "metadata": {
    "papermill": {
     "duration": 0.046416,
     "end_time": "2019-03-22T17:27:33.341927",
     "exception": false,
     "start_time": "2019-03-22T17:27:33.295511",
     "status": "completed"
    },
    "tags": []
   },
   "source": [
    "## Opened PRs\n",
    "\n",
    "without responses in red"
   ]
  },
  {
   "cell_type": "code",
   "execution_count": 14,
   "metadata": {
    "jupyter": {
     "source_hidden": true
    },
    "papermill": {
     "duration": 0.161452,
     "end_time": "2019-03-22T17:27:33.562871",
     "exception": false,
     "start_time": "2019-03-22T17:27:33.401419",
     "status": "completed"
    },
    "tags": []
   },
   "outputs": [
    {
     "name": "stderr",
     "output_type": "stream",
     "text": [
      "/home/choldgraf/anaconda/envs/dev/lib/python3.6/site-packages/ipykernel_launcher.py:2: SettingWithCopyWarning: \n",
      "A value is trying to be set on a copy of a slice from a DataFrame.\n",
      "Try using .loc[row_indexer,col_indexer] = value instead\n",
      "\n",
      "See the caveats in the documentation: http://pandas.pydata.org/pandas-docs/stable/indexing.html#indexing-view-versus-copy\n",
      "  \n"
     ]
    }
   ],
   "source": [
    "opened_prs = opened[~opened['pull_request'].isna()]\n",
    "opened_prs['closed'] = ~pd.isnull(opened_prs['closed_at'])\n",
    "\n",
    "closed_prs = closed[~closed['pull_request'].isna()]"
   ]
  },
  {
   "cell_type": "code",
   "execution_count": 15,
   "metadata": {
    "jupyter": {
     "source_hidden": true
    },
    "papermill": {
     "duration": 0.057429,
     "end_time": "2019-03-22T17:27:33.672596",
     "exception": false,
     "start_time": "2019-03-22T17:27:33.615167",
     "status": "completed"
    },
    "tags": []
   },
   "outputs": [
    {
     "data": {
      "text/html": [
       "<h2 style=\"padding-left: 1em;\">Opened PRs: 16</h2>"
      ],
      "text/plain": [
       "<IPython.core.display.HTML object>"
      ]
     },
     "metadata": {},
     "output_type": "display_data"
    }
   ],
   "source": [
    "print_html('Opened PRs: {}'.format(len(opened_prs)))"
   ]
  },
  {
   "cell_type": "code",
   "execution_count": 16,
   "metadata": {
    "jupyter": {
     "source_hidden": true
    },
    "papermill": {
     "duration": 0.143736,
     "end_time": "2019-03-22T17:27:33.860593",
     "exception": false,
     "start_time": "2019-03-22T17:27:33.716857",
     "status": "completed"
    },
    "tags": []
   },
   "outputs": [
    {
     "data": {
      "text/html": [
       "<style  type=\"text/css\" >\n",
       "    #T_c75c49c0_4cc7_11e9_988e_54ee75e0f62drow0_col2 {\n",
       "            background-color:  #f7b7b7;\n",
       "        }    #T_c75c49c0_4cc7_11e9_988e_54ee75e0f62drow0_col3 {\n",
       "            background-color:  #f7b7b7;\n",
       "        }    #T_c75c49c0_4cc7_11e9_988e_54ee75e0f62drow1_col1 {\n",
       "            background-color:  red;\n",
       "        }    #T_c75c49c0_4cc7_11e9_988e_54ee75e0f62drow1_col2 {\n",
       "            background-color:  #f7b7b7;\n",
       "        }    #T_c75c49c0_4cc7_11e9_988e_54ee75e0f62drow1_col3 {\n",
       "            background-color:  #f7b7b7;\n",
       "        }    #T_c75c49c0_4cc7_11e9_988e_54ee75e0f62drow2_col2 {\n",
       "            background-color:  #f7b7b7;\n",
       "        }    #T_c75c49c0_4cc7_11e9_988e_54ee75e0f62drow2_col3 {\n",
       "            background-color:  #f7b7b7;\n",
       "        }    #T_c75c49c0_4cc7_11e9_988e_54ee75e0f62drow3_col3 {\n",
       "            background-color:  #f7b7b7;\n",
       "        }    #T_c75c49c0_4cc7_11e9_988e_54ee75e0f62drow4_col2 {\n",
       "            background-color:  #f7b7b7;\n",
       "        }    #T_c75c49c0_4cc7_11e9_988e_54ee75e0f62drow5_col2 {\n",
       "            background-color:  #f7b7b7;\n",
       "        }    #T_c75c49c0_4cc7_11e9_988e_54ee75e0f62drow6_col2 {\n",
       "            background-color:  #f7b7b7;\n",
       "        }    #T_c75c49c0_4cc7_11e9_988e_54ee75e0f62drow7_col2 {\n",
       "            background-color:  #f7b7b7;\n",
       "        }    #T_c75c49c0_4cc7_11e9_988e_54ee75e0f62drow8_col2 {\n",
       "            background-color:  #f7b7b7;\n",
       "        }    #T_c75c49c0_4cc7_11e9_988e_54ee75e0f62drow9_col2 {\n",
       "            background-color:  #f7b7b7;\n",
       "        }</style><table id=\"T_c75c49c0_4cc7_11e9_988e_54ee75e0f62d\" ><thead>    <tr>        <th class=\"col_heading level0 col0\" >user</th>        <th class=\"col_heading level0 col1\" >author_association</th>        <th class=\"col_heading level0 col2\" >comments</th>        <th class=\"col_heading level0 col3\" >closed</th>        <th class=\"col_heading level0 col4\" >html_url</th>    </tr></thead><tbody>\n",
       "                <tr>\n",
       "                                <td id=\"T_c75c49c0_4cc7_11e9_988e_54ee75e0f62drow0_col0\" class=\"data row0 col0\" >rcthomas</td>\n",
       "                        <td id=\"T_c75c49c0_4cc7_11e9_988e_54ee75e0f62drow0_col1\" class=\"data row0 col1\" >CONTRIBUTOR</td>\n",
       "                        <td id=\"T_c75c49c0_4cc7_11e9_988e_54ee75e0f62drow0_col2\" class=\"data row0 col2\" >0</td>\n",
       "                        <td id=\"T_c75c49c0_4cc7_11e9_988e_54ee75e0f62drow0_col3\" class=\"data row0 col3\" >False</td>\n",
       "                        <td id=\"T_c75c49c0_4cc7_11e9_988e_54ee75e0f62drow0_col4\" class=\"data row0 col4\" ><a target=\"_blank\" href=\"https://github.com/jupyterhub/jupyterhub/pull/2460\">https://github.com/jupyterhub/jupyterhub/pull/2460</a></td>\n",
       "            </tr>\n",
       "            <tr>\n",
       "                                <td id=\"T_c75c49c0_4cc7_11e9_988e_54ee75e0f62drow1_col0\" class=\"data row1 col0\" >bobbychopra</td>\n",
       "                        <td id=\"T_c75c49c0_4cc7_11e9_988e_54ee75e0f62drow1_col1\" class=\"data row1 col1\" >FIRST_TIME_CONTRIBUTOR</td>\n",
       "                        <td id=\"T_c75c49c0_4cc7_11e9_988e_54ee75e0f62drow1_col2\" class=\"data row1 col2\" >0</td>\n",
       "                        <td id=\"T_c75c49c0_4cc7_11e9_988e_54ee75e0f62drow1_col3\" class=\"data row1 col3\" >False</td>\n",
       "                        <td id=\"T_c75c49c0_4cc7_11e9_988e_54ee75e0f62drow1_col4\" class=\"data row1 col4\" ><a target=\"_blank\" href=\"https://github.com/jupyterhub/jupyterhub/pull/2478\">https://github.com/jupyterhub/jupyterhub/pull/2478</a></td>\n",
       "            </tr>\n",
       "            <tr>\n",
       "                                <td id=\"T_c75c49c0_4cc7_11e9_988e_54ee75e0f62drow2_col0\" class=\"data row2 col0\" >minrk</td>\n",
       "                        <td id=\"T_c75c49c0_4cc7_11e9_988e_54ee75e0f62drow2_col1\" class=\"data row2 col1\" >MEMBER</td>\n",
       "                        <td id=\"T_c75c49c0_4cc7_11e9_988e_54ee75e0f62drow2_col2\" class=\"data row2 col2\" >0</td>\n",
       "                        <td id=\"T_c75c49c0_4cc7_11e9_988e_54ee75e0f62drow2_col3\" class=\"data row2 col3\" >False</td>\n",
       "                        <td id=\"T_c75c49c0_4cc7_11e9_988e_54ee75e0f62drow2_col4\" class=\"data row2 col4\" ><a target=\"_blank\" href=\"https://github.com/jupyterhub/jupyterhub/pull/2440\">https://github.com/jupyterhub/jupyterhub/pull/2440</a></td>\n",
       "            </tr>\n",
       "            <tr>\n",
       "                                <td id=\"T_c75c49c0_4cc7_11e9_988e_54ee75e0f62drow3_col0\" class=\"data row3 col0\" >rkdarst</td>\n",
       "                        <td id=\"T_c75c49c0_4cc7_11e9_988e_54ee75e0f62drow3_col1\" class=\"data row3 col1\" >CONTRIBUTOR</td>\n",
       "                        <td id=\"T_c75c49c0_4cc7_11e9_988e_54ee75e0f62drow3_col2\" class=\"data row3 col2\" >5</td>\n",
       "                        <td id=\"T_c75c49c0_4cc7_11e9_988e_54ee75e0f62drow3_col3\" class=\"data row3 col3\" >False</td>\n",
       "                        <td id=\"T_c75c49c0_4cc7_11e9_988e_54ee75e0f62drow3_col4\" class=\"data row3 col4\" ><a target=\"_blank\" href=\"https://github.com/jupyterhub/jupyterhub/pull/2434\">https://github.com/jupyterhub/jupyterhub/pull/2434</a></td>\n",
       "            </tr>\n",
       "            <tr>\n",
       "                                <td id=\"T_c75c49c0_4cc7_11e9_988e_54ee75e0f62drow4_col0\" class=\"data row4 col0\" >minrk</td>\n",
       "                        <td id=\"T_c75c49c0_4cc7_11e9_988e_54ee75e0f62drow4_col1\" class=\"data row4 col1\" >MEMBER</td>\n",
       "                        <td id=\"T_c75c49c0_4cc7_11e9_988e_54ee75e0f62drow4_col2\" class=\"data row4 col2\" >0</td>\n",
       "                        <td id=\"T_c75c49c0_4cc7_11e9_988e_54ee75e0f62drow4_col3\" class=\"data row4 col3\" >True</td>\n",
       "                        <td id=\"T_c75c49c0_4cc7_11e9_988e_54ee75e0f62drow4_col4\" class=\"data row4 col4\" ><a target=\"_blank\" href=\"https://github.com/jupyterhub/jupyterhub/pull/2457\">https://github.com/jupyterhub/jupyterhub/pull/2457</a></td>\n",
       "            </tr>\n",
       "            <tr>\n",
       "                                <td id=\"T_c75c49c0_4cc7_11e9_988e_54ee75e0f62drow5_col0\" class=\"data row5 col0\" >minrk</td>\n",
       "                        <td id=\"T_c75c49c0_4cc7_11e9_988e_54ee75e0f62drow5_col1\" class=\"data row5 col1\" >MEMBER</td>\n",
       "                        <td id=\"T_c75c49c0_4cc7_11e9_988e_54ee75e0f62drow5_col2\" class=\"data row5 col2\" >0</td>\n",
       "                        <td id=\"T_c75c49c0_4cc7_11e9_988e_54ee75e0f62drow5_col3\" class=\"data row5 col3\" >True</td>\n",
       "                        <td id=\"T_c75c49c0_4cc7_11e9_988e_54ee75e0f62drow5_col4\" class=\"data row5 col4\" ><a target=\"_blank\" href=\"https://github.com/jupyterhub/jupyterhub/pull/2446\">https://github.com/jupyterhub/jupyterhub/pull/2446</a></td>\n",
       "            </tr>\n",
       "            <tr>\n",
       "                                <td id=\"T_c75c49c0_4cc7_11e9_988e_54ee75e0f62drow6_col0\" class=\"data row6 col0\" >rcthomas</td>\n",
       "                        <td id=\"T_c75c49c0_4cc7_11e9_988e_54ee75e0f62drow6_col1\" class=\"data row6 col1\" >CONTRIBUTOR</td>\n",
       "                        <td id=\"T_c75c49c0_4cc7_11e9_988e_54ee75e0f62drow6_col2\" class=\"data row6 col2\" >0</td>\n",
       "                        <td id=\"T_c75c49c0_4cc7_11e9_988e_54ee75e0f62drow6_col3\" class=\"data row6 col3\" >True</td>\n",
       "                        <td id=\"T_c75c49c0_4cc7_11e9_988e_54ee75e0f62drow6_col4\" class=\"data row6 col4\" ><a target=\"_blank\" href=\"https://github.com/jupyterhub/jupyterhub/pull/2443\">https://github.com/jupyterhub/jupyterhub/pull/2443</a></td>\n",
       "            </tr>\n",
       "            <tr>\n",
       "                                <td id=\"T_c75c49c0_4cc7_11e9_988e_54ee75e0f62drow7_col0\" class=\"data row7 col0\" >minrk</td>\n",
       "                        <td id=\"T_c75c49c0_4cc7_11e9_988e_54ee75e0f62drow7_col1\" class=\"data row7 col1\" >MEMBER</td>\n",
       "                        <td id=\"T_c75c49c0_4cc7_11e9_988e_54ee75e0f62drow7_col2\" class=\"data row7 col2\" >0</td>\n",
       "                        <td id=\"T_c75c49c0_4cc7_11e9_988e_54ee75e0f62drow7_col3\" class=\"data row7 col3\" >True</td>\n",
       "                        <td id=\"T_c75c49c0_4cc7_11e9_988e_54ee75e0f62drow7_col4\" class=\"data row7 col4\" ><a target=\"_blank\" href=\"https://github.com/jupyterhub/jupyterhub/pull/2439\">https://github.com/jupyterhub/jupyterhub/pull/2439</a></td>\n",
       "            </tr>\n",
       "            <tr>\n",
       "                                <td id=\"T_c75c49c0_4cc7_11e9_988e_54ee75e0f62drow8_col0\" class=\"data row8 col0\" >minrk</td>\n",
       "                        <td id=\"T_c75c49c0_4cc7_11e9_988e_54ee75e0f62drow8_col1\" class=\"data row8 col1\" >MEMBER</td>\n",
       "                        <td id=\"T_c75c49c0_4cc7_11e9_988e_54ee75e0f62drow8_col2\" class=\"data row8 col2\" >0</td>\n",
       "                        <td id=\"T_c75c49c0_4cc7_11e9_988e_54ee75e0f62drow8_col3\" class=\"data row8 col3\" >True</td>\n",
       "                        <td id=\"T_c75c49c0_4cc7_11e9_988e_54ee75e0f62drow8_col4\" class=\"data row8 col4\" ><a target=\"_blank\" href=\"https://github.com/jupyterhub/jupyterhub/pull/2438\">https://github.com/jupyterhub/jupyterhub/pull/2438</a></td>\n",
       "            </tr>\n",
       "            <tr>\n",
       "                                <td id=\"T_c75c49c0_4cc7_11e9_988e_54ee75e0f62drow9_col0\" class=\"data row9 col0\" >Carreau</td>\n",
       "                        <td id=\"T_c75c49c0_4cc7_11e9_988e_54ee75e0f62drow9_col1\" class=\"data row9 col1\" >MEMBER</td>\n",
       "                        <td id=\"T_c75c49c0_4cc7_11e9_988e_54ee75e0f62drow9_col2\" class=\"data row9 col2\" >0</td>\n",
       "                        <td id=\"T_c75c49c0_4cc7_11e9_988e_54ee75e0f62drow9_col3\" class=\"data row9 col3\" >True</td>\n",
       "                        <td id=\"T_c75c49c0_4cc7_11e9_988e_54ee75e0f62drow9_col4\" class=\"data row9 col4\" ><a target=\"_blank\" href=\"https://github.com/jupyterhub/jupyterhub/pull/2432\">https://github.com/jupyterhub/jupyterhub/pull/2432</a></td>\n",
       "            </tr>\n",
       "            <tr>\n",
       "                                <td id=\"T_c75c49c0_4cc7_11e9_988e_54ee75e0f62drow10_col0\" class=\"data row10 col0\" >javabrett</td>\n",
       "                        <td id=\"T_c75c49c0_4cc7_11e9_988e_54ee75e0f62drow10_col1\" class=\"data row10 col1\" >CONTRIBUTOR</td>\n",
       "                        <td id=\"T_c75c49c0_4cc7_11e9_988e_54ee75e0f62drow10_col2\" class=\"data row10 col2\" >1</td>\n",
       "                        <td id=\"T_c75c49c0_4cc7_11e9_988e_54ee75e0f62drow10_col3\" class=\"data row10 col3\" >True</td>\n",
       "                        <td id=\"T_c75c49c0_4cc7_11e9_988e_54ee75e0f62drow10_col4\" class=\"data row10 col4\" ><a target=\"_blank\" href=\"https://github.com/jupyterhub/jupyterhub/pull/2455\">https://github.com/jupyterhub/jupyterhub/pull/2455</a></td>\n",
       "            </tr>\n",
       "            <tr>\n",
       "                                <td id=\"T_c75c49c0_4cc7_11e9_988e_54ee75e0f62drow11_col0\" class=\"data row11 col0\" >mpetroff</td>\n",
       "                        <td id=\"T_c75c49c0_4cc7_11e9_988e_54ee75e0f62drow11_col1\" class=\"data row11 col1\" >CONTRIBUTOR</td>\n",
       "                        <td id=\"T_c75c49c0_4cc7_11e9_988e_54ee75e0f62drow11_col2\" class=\"data row11 col2\" >1</td>\n",
       "                        <td id=\"T_c75c49c0_4cc7_11e9_988e_54ee75e0f62drow11_col3\" class=\"data row11 col3\" >True</td>\n",
       "                        <td id=\"T_c75c49c0_4cc7_11e9_988e_54ee75e0f62drow11_col4\" class=\"data row11 col4\" ><a target=\"_blank\" href=\"https://github.com/jupyterhub/jupyterhub/pull/2447\">https://github.com/jupyterhub/jupyterhub/pull/2447</a></td>\n",
       "            </tr>\n",
       "            <tr>\n",
       "                                <td id=\"T_c75c49c0_4cc7_11e9_988e_54ee75e0f62drow12_col0\" class=\"data row12 col0\" >rkdarst</td>\n",
       "                        <td id=\"T_c75c49c0_4cc7_11e9_988e_54ee75e0f62drow12_col1\" class=\"data row12 col1\" >CONTRIBUTOR</td>\n",
       "                        <td id=\"T_c75c49c0_4cc7_11e9_988e_54ee75e0f62drow12_col2\" class=\"data row12 col2\" >1</td>\n",
       "                        <td id=\"T_c75c49c0_4cc7_11e9_988e_54ee75e0f62drow12_col3\" class=\"data row12 col3\" >True</td>\n",
       "                        <td id=\"T_c75c49c0_4cc7_11e9_988e_54ee75e0f62drow12_col4\" class=\"data row12 col4\" ><a target=\"_blank\" href=\"https://github.com/jupyterhub/jupyterhub/pull/2444\">https://github.com/jupyterhub/jupyterhub/pull/2444</a></td>\n",
       "            </tr>\n",
       "            <tr>\n",
       "                                <td id=\"T_c75c49c0_4cc7_11e9_988e_54ee75e0f62drow13_col0\" class=\"data row13 col0\" >Carreau</td>\n",
       "                        <td id=\"T_c75c49c0_4cc7_11e9_988e_54ee75e0f62drow13_col1\" class=\"data row13 col1\" >MEMBER</td>\n",
       "                        <td id=\"T_c75c49c0_4cc7_11e9_988e_54ee75e0f62drow13_col2\" class=\"data row13 col2\" >1</td>\n",
       "                        <td id=\"T_c75c49c0_4cc7_11e9_988e_54ee75e0f62drow13_col3\" class=\"data row13 col3\" >True</td>\n",
       "                        <td id=\"T_c75c49c0_4cc7_11e9_988e_54ee75e0f62drow13_col4\" class=\"data row13 col4\" ><a target=\"_blank\" href=\"https://github.com/jupyterhub/jupyterhub/pull/2433\">https://github.com/jupyterhub/jupyterhub/pull/2433</a></td>\n",
       "            </tr>\n",
       "            <tr>\n",
       "                                <td id=\"T_c75c49c0_4cc7_11e9_988e_54ee75e0f62drow14_col0\" class=\"data row14 col0\" >Carreau</td>\n",
       "                        <td id=\"T_c75c49c0_4cc7_11e9_988e_54ee75e0f62drow14_col1\" class=\"data row14 col1\" >MEMBER</td>\n",
       "                        <td id=\"T_c75c49c0_4cc7_11e9_988e_54ee75e0f62drow14_col2\" class=\"data row14 col2\" >1</td>\n",
       "                        <td id=\"T_c75c49c0_4cc7_11e9_988e_54ee75e0f62drow14_col3\" class=\"data row14 col3\" >True</td>\n",
       "                        <td id=\"T_c75c49c0_4cc7_11e9_988e_54ee75e0f62drow14_col4\" class=\"data row14 col4\" ><a target=\"_blank\" href=\"https://github.com/jupyterhub/jupyterhub/pull/2431\">https://github.com/jupyterhub/jupyterhub/pull/2431</a></td>\n",
       "            </tr>\n",
       "            <tr>\n",
       "                                <td id=\"T_c75c49c0_4cc7_11e9_988e_54ee75e0f62drow15_col0\" class=\"data row15 col0\" >minrk</td>\n",
       "                        <td id=\"T_c75c49c0_4cc7_11e9_988e_54ee75e0f62drow15_col1\" class=\"data row15 col1\" >MEMBER</td>\n",
       "                        <td id=\"T_c75c49c0_4cc7_11e9_988e_54ee75e0f62drow15_col2\" class=\"data row15 col2\" >5</td>\n",
       "                        <td id=\"T_c75c49c0_4cc7_11e9_988e_54ee75e0f62drow15_col3\" class=\"data row15 col3\" >True</td>\n",
       "                        <td id=\"T_c75c49c0_4cc7_11e9_988e_54ee75e0f62drow15_col4\" class=\"data row15 col4\" ><a target=\"_blank\" href=\"https://github.com/jupyterhub/jupyterhub/pull/2435\">https://github.com/jupyterhub/jupyterhub/pull/2435</a></td>\n",
       "            </tr>\n",
       "    </tbody></table>"
      ],
      "text/plain": [
       "<pandas.io.formats.style.Styler at 0x7f658e2b3748>"
      ]
     },
     "execution_count": 16,
     "metadata": {},
     "output_type": "execute_result"
    }
   ],
   "source": [
    "opened_prs[['user', 'author_association', 'comments', 'closed', 'html_url']]\\\n",
    "    .sort_values(['closed', 'comments']).style.applymap(highlight_rows).format({'html_url': make_clickable}).hide_index()"
   ]
  },
  {
   "cell_type": "code",
   "execution_count": 17,
   "metadata": {
    "jupyter": {
     "source_hidden": true
    },
    "papermill": {
     "duration": 0.064596,
     "end_time": "2019-03-22T17:27:33.976856",
     "exception": false,
     "start_time": "2019-03-22T17:27:33.912260",
     "status": "completed"
    },
    "tags": []
   },
   "outputs": [
    {
     "data": {
      "text/html": [
       "<h2 style=\"padding-left: 1em;\">Closed PRs: 14</h2>"
      ],
      "text/plain": [
       "<IPython.core.display.HTML object>"
      ]
     },
     "metadata": {},
     "output_type": "display_data"
    }
   ],
   "source": [
    "print_html('Closed PRs: {}'.format(len(closed_prs)))"
   ]
  },
  {
   "cell_type": "code",
   "execution_count": 18,
   "metadata": {
    "jupyter": {
     "source_hidden": true
    },
    "papermill": {
     "duration": 0.122258,
     "end_time": "2019-03-22T17:27:34.142064",
     "exception": false,
     "start_time": "2019-03-22T17:27:34.019806",
     "status": "completed"
    },
    "tags": []
   },
   "outputs": [
    {
     "data": {
      "text/html": [
       "<style  type=\"text/css\" >\n",
       "    #T_c787c3d4_4cc7_11e9_988e_54ee75e0f62drow0_col2 {\n",
       "            background-color:  #f7b7b7;\n",
       "        }    #T_c787c3d4_4cc7_11e9_988e_54ee75e0f62drow1_col2 {\n",
       "            background-color:  #f7b7b7;\n",
       "        }    #T_c787c3d4_4cc7_11e9_988e_54ee75e0f62drow2_col2 {\n",
       "            background-color:  #f7b7b7;\n",
       "        }    #T_c787c3d4_4cc7_11e9_988e_54ee75e0f62drow3_col2 {\n",
       "            background-color:  #f7b7b7;\n",
       "        }    #T_c787c3d4_4cc7_11e9_988e_54ee75e0f62drow4_col2 {\n",
       "            background-color:  #f7b7b7;\n",
       "        }    #T_c787c3d4_4cc7_11e9_988e_54ee75e0f62drow5_col2 {\n",
       "            background-color:  #f7b7b7;\n",
       "        }    #T_c787c3d4_4cc7_11e9_988e_54ee75e0f62drow6_col2 {\n",
       "            background-color:  #f7b7b7;\n",
       "        }</style><table id=\"T_c787c3d4_4cc7_11e9_988e_54ee75e0f62d\" ><thead>    <tr>        <th class=\"col_heading level0 col0\" >user</th>        <th class=\"col_heading level0 col1\" >author_association</th>        <th class=\"col_heading level0 col2\" >comments</th>        <th class=\"col_heading level0 col3\" >html_url</th>    </tr></thead><tbody>\n",
       "                <tr>\n",
       "                                <td id=\"T_c787c3d4_4cc7_11e9_988e_54ee75e0f62drow0_col0\" class=\"data row0 col0\" >minrk</td>\n",
       "                        <td id=\"T_c787c3d4_4cc7_11e9_988e_54ee75e0f62drow0_col1\" class=\"data row0 col1\" >MEMBER</td>\n",
       "                        <td id=\"T_c787c3d4_4cc7_11e9_988e_54ee75e0f62drow0_col2\" class=\"data row0 col2\" >0</td>\n",
       "                        <td id=\"T_c787c3d4_4cc7_11e9_988e_54ee75e0f62drow0_col3\" class=\"data row0 col3\" ><a target=\"_blank\" href=\"https://github.com/jupyterhub/jupyterhub/pull/2457\">https://github.com/jupyterhub/jupyterhub/pull/2457</a></td>\n",
       "            </tr>\n",
       "            <tr>\n",
       "                                <td id=\"T_c787c3d4_4cc7_11e9_988e_54ee75e0f62drow1_col0\" class=\"data row1 col0\" >minrk</td>\n",
       "                        <td id=\"T_c787c3d4_4cc7_11e9_988e_54ee75e0f62drow1_col1\" class=\"data row1 col1\" >MEMBER</td>\n",
       "                        <td id=\"T_c787c3d4_4cc7_11e9_988e_54ee75e0f62drow1_col2\" class=\"data row1 col2\" >0</td>\n",
       "                        <td id=\"T_c787c3d4_4cc7_11e9_988e_54ee75e0f62drow1_col3\" class=\"data row1 col3\" ><a target=\"_blank\" href=\"https://github.com/jupyterhub/jupyterhub/pull/2446\">https://github.com/jupyterhub/jupyterhub/pull/2446</a></td>\n",
       "            </tr>\n",
       "            <tr>\n",
       "                                <td id=\"T_c787c3d4_4cc7_11e9_988e_54ee75e0f62drow2_col0\" class=\"data row2 col0\" >rcthomas</td>\n",
       "                        <td id=\"T_c787c3d4_4cc7_11e9_988e_54ee75e0f62drow2_col1\" class=\"data row2 col1\" >CONTRIBUTOR</td>\n",
       "                        <td id=\"T_c787c3d4_4cc7_11e9_988e_54ee75e0f62drow2_col2\" class=\"data row2 col2\" >0</td>\n",
       "                        <td id=\"T_c787c3d4_4cc7_11e9_988e_54ee75e0f62drow2_col3\" class=\"data row2 col3\" ><a target=\"_blank\" href=\"https://github.com/jupyterhub/jupyterhub/pull/2443\">https://github.com/jupyterhub/jupyterhub/pull/2443</a></td>\n",
       "            </tr>\n",
       "            <tr>\n",
       "                                <td id=\"T_c787c3d4_4cc7_11e9_988e_54ee75e0f62drow3_col0\" class=\"data row3 col0\" >minrk</td>\n",
       "                        <td id=\"T_c787c3d4_4cc7_11e9_988e_54ee75e0f62drow3_col1\" class=\"data row3 col1\" >MEMBER</td>\n",
       "                        <td id=\"T_c787c3d4_4cc7_11e9_988e_54ee75e0f62drow3_col2\" class=\"data row3 col2\" >0</td>\n",
       "                        <td id=\"T_c787c3d4_4cc7_11e9_988e_54ee75e0f62drow3_col3\" class=\"data row3 col3\" ><a target=\"_blank\" href=\"https://github.com/jupyterhub/jupyterhub/pull/2439\">https://github.com/jupyterhub/jupyterhub/pull/2439</a></td>\n",
       "            </tr>\n",
       "            <tr>\n",
       "                                <td id=\"T_c787c3d4_4cc7_11e9_988e_54ee75e0f62drow4_col0\" class=\"data row4 col0\" >minrk</td>\n",
       "                        <td id=\"T_c787c3d4_4cc7_11e9_988e_54ee75e0f62drow4_col1\" class=\"data row4 col1\" >MEMBER</td>\n",
       "                        <td id=\"T_c787c3d4_4cc7_11e9_988e_54ee75e0f62drow4_col2\" class=\"data row4 col2\" >0</td>\n",
       "                        <td id=\"T_c787c3d4_4cc7_11e9_988e_54ee75e0f62drow4_col3\" class=\"data row4 col3\" ><a target=\"_blank\" href=\"https://github.com/jupyterhub/jupyterhub/pull/2438\">https://github.com/jupyterhub/jupyterhub/pull/2438</a></td>\n",
       "            </tr>\n",
       "            <tr>\n",
       "                                <td id=\"T_c787c3d4_4cc7_11e9_988e_54ee75e0f62drow5_col0\" class=\"data row5 col0\" >Carreau</td>\n",
       "                        <td id=\"T_c787c3d4_4cc7_11e9_988e_54ee75e0f62drow5_col1\" class=\"data row5 col1\" >MEMBER</td>\n",
       "                        <td id=\"T_c787c3d4_4cc7_11e9_988e_54ee75e0f62drow5_col2\" class=\"data row5 col2\" >0</td>\n",
       "                        <td id=\"T_c787c3d4_4cc7_11e9_988e_54ee75e0f62drow5_col3\" class=\"data row5 col3\" ><a target=\"_blank\" href=\"https://github.com/jupyterhub/jupyterhub/pull/2432\">https://github.com/jupyterhub/jupyterhub/pull/2432</a></td>\n",
       "            </tr>\n",
       "            <tr>\n",
       "                                <td id=\"T_c787c3d4_4cc7_11e9_988e_54ee75e0f62drow6_col0\" class=\"data row6 col0\" >minrk</td>\n",
       "                        <td id=\"T_c787c3d4_4cc7_11e9_988e_54ee75e0f62drow6_col1\" class=\"data row6 col1\" >MEMBER</td>\n",
       "                        <td id=\"T_c787c3d4_4cc7_11e9_988e_54ee75e0f62drow6_col2\" class=\"data row6 col2\" >0</td>\n",
       "                        <td id=\"T_c787c3d4_4cc7_11e9_988e_54ee75e0f62drow6_col3\" class=\"data row6 col3\" ><a target=\"_blank\" href=\"https://github.com/jupyterhub/jupyterhub/pull/2418\">https://github.com/jupyterhub/jupyterhub/pull/2418</a></td>\n",
       "            </tr>\n",
       "            <tr>\n",
       "                                <td id=\"T_c787c3d4_4cc7_11e9_988e_54ee75e0f62drow7_col0\" class=\"data row7 col0\" >javabrett</td>\n",
       "                        <td id=\"T_c787c3d4_4cc7_11e9_988e_54ee75e0f62drow7_col1\" class=\"data row7 col1\" >CONTRIBUTOR</td>\n",
       "                        <td id=\"T_c787c3d4_4cc7_11e9_988e_54ee75e0f62drow7_col2\" class=\"data row7 col2\" >1</td>\n",
       "                        <td id=\"T_c787c3d4_4cc7_11e9_988e_54ee75e0f62drow7_col3\" class=\"data row7 col3\" ><a target=\"_blank\" href=\"https://github.com/jupyterhub/jupyterhub/pull/2455\">https://github.com/jupyterhub/jupyterhub/pull/2455</a></td>\n",
       "            </tr>\n",
       "            <tr>\n",
       "                                <td id=\"T_c787c3d4_4cc7_11e9_988e_54ee75e0f62drow8_col0\" class=\"data row8 col0\" >mpetroff</td>\n",
       "                        <td id=\"T_c787c3d4_4cc7_11e9_988e_54ee75e0f62drow8_col1\" class=\"data row8 col1\" >CONTRIBUTOR</td>\n",
       "                        <td id=\"T_c787c3d4_4cc7_11e9_988e_54ee75e0f62drow8_col2\" class=\"data row8 col2\" >1</td>\n",
       "                        <td id=\"T_c787c3d4_4cc7_11e9_988e_54ee75e0f62drow8_col3\" class=\"data row8 col3\" ><a target=\"_blank\" href=\"https://github.com/jupyterhub/jupyterhub/pull/2447\">https://github.com/jupyterhub/jupyterhub/pull/2447</a></td>\n",
       "            </tr>\n",
       "            <tr>\n",
       "                                <td id=\"T_c787c3d4_4cc7_11e9_988e_54ee75e0f62drow9_col0\" class=\"data row9 col0\" >rkdarst</td>\n",
       "                        <td id=\"T_c787c3d4_4cc7_11e9_988e_54ee75e0f62drow9_col1\" class=\"data row9 col1\" >CONTRIBUTOR</td>\n",
       "                        <td id=\"T_c787c3d4_4cc7_11e9_988e_54ee75e0f62drow9_col2\" class=\"data row9 col2\" >1</td>\n",
       "                        <td id=\"T_c787c3d4_4cc7_11e9_988e_54ee75e0f62drow9_col3\" class=\"data row9 col3\" ><a target=\"_blank\" href=\"https://github.com/jupyterhub/jupyterhub/pull/2444\">https://github.com/jupyterhub/jupyterhub/pull/2444</a></td>\n",
       "            </tr>\n",
       "            <tr>\n",
       "                                <td id=\"T_c787c3d4_4cc7_11e9_988e_54ee75e0f62drow10_col0\" class=\"data row10 col0\" >Carreau</td>\n",
       "                        <td id=\"T_c787c3d4_4cc7_11e9_988e_54ee75e0f62drow10_col1\" class=\"data row10 col1\" >MEMBER</td>\n",
       "                        <td id=\"T_c787c3d4_4cc7_11e9_988e_54ee75e0f62drow10_col2\" class=\"data row10 col2\" >1</td>\n",
       "                        <td id=\"T_c787c3d4_4cc7_11e9_988e_54ee75e0f62drow10_col3\" class=\"data row10 col3\" ><a target=\"_blank\" href=\"https://github.com/jupyterhub/jupyterhub/pull/2433\">https://github.com/jupyterhub/jupyterhub/pull/2433</a></td>\n",
       "            </tr>\n",
       "            <tr>\n",
       "                                <td id=\"T_c787c3d4_4cc7_11e9_988e_54ee75e0f62drow11_col0\" class=\"data row11 col0\" >Carreau</td>\n",
       "                        <td id=\"T_c787c3d4_4cc7_11e9_988e_54ee75e0f62drow11_col1\" class=\"data row11 col1\" >MEMBER</td>\n",
       "                        <td id=\"T_c787c3d4_4cc7_11e9_988e_54ee75e0f62drow11_col2\" class=\"data row11 col2\" >1</td>\n",
       "                        <td id=\"T_c787c3d4_4cc7_11e9_988e_54ee75e0f62drow11_col3\" class=\"data row11 col3\" ><a target=\"_blank\" href=\"https://github.com/jupyterhub/jupyterhub/pull/2431\">https://github.com/jupyterhub/jupyterhub/pull/2431</a></td>\n",
       "            </tr>\n",
       "            <tr>\n",
       "                                <td id=\"T_c787c3d4_4cc7_11e9_988e_54ee75e0f62drow12_col0\" class=\"data row12 col0\" >clkao</td>\n",
       "                        <td id=\"T_c787c3d4_4cc7_11e9_988e_54ee75e0f62drow12_col1\" class=\"data row12 col1\" >CONTRIBUTOR</td>\n",
       "                        <td id=\"T_c787c3d4_4cc7_11e9_988e_54ee75e0f62drow12_col2\" class=\"data row12 col2\" >3</td>\n",
       "                        <td id=\"T_c787c3d4_4cc7_11e9_988e_54ee75e0f62drow12_col3\" class=\"data row12 col3\" ><a target=\"_blank\" href=\"https://github.com/jupyterhub/jupyterhub/pull/2341\">https://github.com/jupyterhub/jupyterhub/pull/2341</a></td>\n",
       "            </tr>\n",
       "            <tr>\n",
       "                                <td id=\"T_c787c3d4_4cc7_11e9_988e_54ee75e0f62drow13_col0\" class=\"data row13 col0\" >minrk</td>\n",
       "                        <td id=\"T_c787c3d4_4cc7_11e9_988e_54ee75e0f62drow13_col1\" class=\"data row13 col1\" >MEMBER</td>\n",
       "                        <td id=\"T_c787c3d4_4cc7_11e9_988e_54ee75e0f62drow13_col2\" class=\"data row13 col2\" >5</td>\n",
       "                        <td id=\"T_c787c3d4_4cc7_11e9_988e_54ee75e0f62drow13_col3\" class=\"data row13 col3\" ><a target=\"_blank\" href=\"https://github.com/jupyterhub/jupyterhub/pull/2435\">https://github.com/jupyterhub/jupyterhub/pull/2435</a></td>\n",
       "            </tr>\n",
       "    </tbody></table>"
      ],
      "text/plain": [
       "<pandas.io.formats.style.Styler at 0x7f658942ac18>"
      ]
     },
     "execution_count": 18,
     "metadata": {},
     "output_type": "execute_result"
    }
   ],
   "source": [
    "closed_prs[['user', 'author_association', 'comments', 'html_url']]\\\n",
    "    .sort_values(['comments']).style.applymap(highlight_rows).format({'html_url': make_clickable}).hide_index()"
   ]
  },
  {
   "cell_type": "markdown",
   "metadata": {
    "papermill": {
     "duration": 0.037259,
     "end_time": "2019-03-22T17:27:34.216905",
     "exception": false,
     "start_time": "2019-03-22T17:27:34.179646",
     "status": "completed"
    },
    "tags": []
   },
   "source": [
    "# State of repo\n",
    "\n",
    "## Stale issues"
   ]
  },
  {
   "cell_type": "code",
   "execution_count": 19,
   "metadata": {
    "jupyter": {
     "source_hidden": true
    },
    "papermill": {
     "duration": 0.057561,
     "end_time": "2019-03-22T17:27:34.315172",
     "exception": false,
     "start_time": "2019-03-22T17:27:34.257611",
     "status": "completed"
    },
    "tags": []
   },
   "outputs": [],
   "source": [
    "stale_issues = issues.query('updated_at < @date_stale')\n",
    "stale_issues = stale_issues[stale_issues['closed_at'].isnull()]"
   ]
  },
  {
   "cell_type": "code",
   "execution_count": 20,
   "metadata": {
    "jupyter": {
     "source_hidden": true
    },
    "papermill": {
     "duration": 0.067524,
     "end_time": "2019-03-22T17:27:34.427878",
     "exception": false,
     "start_time": "2019-03-22T17:27:34.360354",
     "status": "completed"
    },
    "tags": []
   },
   "outputs": [
    {
     "data": {
      "text/html": [
       "<style  type=\"text/css\" >\n",
       "</style><table id=\"T_c7b391da_4cc7_11e9_988e_54ee75e0f62d\" ><thead>    <tr>        <th class=\"col_heading level0 col0\" >user</th>        <th class=\"col_heading level0 col1\" >author_association</th>        <th class=\"col_heading level0 col2\" >comments</th>        <th class=\"col_heading level0 col3\" >html_url</th>    </tr></thead><tbody>\n",
       "        </tbody></table>"
      ],
      "text/plain": [
       "<pandas.io.formats.style.Styler at 0x7f65989c8d30>"
      ]
     },
     "execution_count": 20,
     "metadata": {},
     "output_type": "execute_result"
    }
   ],
   "source": [
    "stale_issues[['user', 'author_association', 'comments', 'html_url']]\\\n",
    "    .sort_values(['comments']).style.applymap(highlight_rows).format({'html_url': make_clickable}).hide_index()"
   ]
  },
  {
   "cell_type": "code",
   "execution_count": null,
   "metadata": {
    "jupyter": {
     "source_hidden": true
    },
    "papermill": {
     "duration": 0.043194,
     "end_time": "2019-03-22T17:27:34.525945",
     "exception": false,
     "start_time": "2019-03-22T17:27:34.482751",
     "status": "completed"
    },
    "tags": []
   },
   "outputs": [],
   "source": []
  }
 ],
 "metadata": {
  "kernelspec": {
   "display_name": "Python 3",
   "language": "python",
   "name": "python3"
  },
  "language_info": {
   "codemirror_mode": {
    "name": "ipython",
    "version": 3
   },
   "file_extension": ".py",
   "mimetype": "text/x-python",
   "name": "python",
   "nbconvert_exporter": "python",
   "pygments_lexer": "ipython3",
   "version": "3.6.5"
  },
  "papermill": {
   "duration": 8.569973,
   "end_time": "2019-03-22T17:27:35.485710",
   "environment_variables": {},
   "exception": null,
   "input_path": "./templates/issues.ipynb",
   "output_path": "../reports/2019-02-20/jupyterhub/jupyterhub/issues.ipynb",
   "parameters": {
    "date": "2019-02-20",
    "org": "jupyterhub",
    "repo": "jupyterhub"
   },
   "start_time": "2019-03-22T17:27:26.915737",
   "version": "0.18.0"
  }
 },
 "nbformat": 4,
 "nbformat_minor": 2
}