{
 "cells": [
  {
   "cell_type": "code",
   "execution_count": 1,
   "metadata": {
    "jupyter": {
     "source_hidden": true
    },
    "papermill": {
     "duration": 0.990098,
     "end_time": "2019-03-22T17:27:13.026892",
     "exception": false,
     "start_time": "2019-03-22T17:27:12.036794",
     "status": "completed"
    },
    "tags": []
   },
   "outputs": [],
   "source": [
    "import pandas as pd\n",
    "from datetime import timedelta\n",
    "from IPython.display import HTML, display"
   ]
  },
  {
   "cell_type": "code",
   "execution_count": 2,
   "metadata": {
    "jupyter": {
     "source_hidden": true
    },
    "papermill": {
     "duration": 0.056264,
     "end_time": "2019-03-22T17:27:13.116591",
     "exception": false,
     "start_time": "2019-03-22T17:27:13.060327",
     "status": "completed"
    },
    "tags": [
     "parameters"
    ]
   },
   "outputs": [],
   "source": [
    "date = pd.datetime.today() - timedelta(days=30)\n",
    "org = 'jupyterhub'\n",
    "repo = 'zero-to-jupyterhub-k8s'"
   ]
  },
  {
   "cell_type": "code",
   "execution_count": 3,
   "metadata": {
    "jupyter": {
     "source_hidden": true
    },
    "papermill": {
     "duration": 0.049219,
     "end_time": "2019-03-22T17:27:13.209490",
     "exception": false,
     "start_time": "2019-03-22T17:27:13.160271",
     "status": "completed"
    },
    "tags": [
     "injected-parameters"
    ]
   },
   "outputs": [],
   "source": [
    "# Parameters\n",
    "org = \"jupyterhub\"\n",
    "repo = \"the-littlest-jupyterhub\"\n",
    "date = \"2019-02-20\"\n"
   ]
  },
  {
   "cell_type": "code",
   "execution_count": 4,
   "metadata": {
    "jupyter": {
     "source_hidden": true
    },
    "papermill": {
     "duration": 0.042716,
     "end_time": "2019-03-22T17:27:13.283216",
     "exception": false,
     "start_time": "2019-03-22T17:27:13.240500",
     "status": "completed"
    },
    "tags": []
   },
   "outputs": [],
   "source": [
    "# Definition of a stale issue/PR (how many days since last updated)\n",
    "stale_days = 30\n",
    "date_stale = pd.to_datetime(date) - timedelta(days=stale_days)"
   ]
  },
  {
   "cell_type": "markdown",
   "metadata": {
    "papermill": {
     "duration": 0.032318,
     "end_time": "2019-03-22T17:27:13.353794",
     "exception": false,
     "start_time": "2019-03-22T17:27:13.321476",
     "status": "completed"
    },
    "tags": []
   },
   "source": [
    "# Opened and Closed Issues and PRs\n",
    "\n",
    "This report shows opened and closed issues / PRs over the last 30 days, with a\n",
    "particular focus on items that haven't had a lot of discussion, or that have\n",
    "been opened by people who aren't team-members. The goal of this page is to make\n",
    "it easier to spot places where some input would be appreciated!"
   ]
  },
  {
   "cell_type": "markdown",
   "metadata": {
    "papermill": {
     "duration": 0.034496,
     "end_time": "2019-03-22T17:27:13.426847",
     "exception": false,
     "start_time": "2019-03-22T17:27:13.392351",
     "status": "completed"
    },
    "tags": []
   },
   "source": [
    "# Imports"
   ]
  },
  {
   "cell_type": "code",
   "execution_count": 5,
   "metadata": {
    "jupyter": {
     "source_hidden": true
    },
    "papermill": {
     "duration": 0.380579,
     "end_time": "2019-03-22T17:27:13.847927",
     "exception": false,
     "start_time": "2019-03-22T17:27:13.467348",
     "status": "completed"
    },
    "tags": []
   },
   "outputs": [],
   "source": [
    "import pandas as pd\n",
    "from subprocess import run, PIPE\n",
    "from watchtower import issues_\n",
    "from glob import glob\n",
    "import os.path as op\n",
    "import shutil as sh\n",
    "import sys\n",
    "sys.path.append('../../scripts/')"
   ]
  },
  {
   "cell_type": "markdown",
   "metadata": {
    "papermill": {
     "duration": 0.042666,
     "end_time": "2019-03-22T17:27:13.930335",
     "exception": false,
     "start_time": "2019-03-22T17:27:13.887669",
     "status": "completed"
    },
    "tags": []
   },
   "source": [
    "## styling functions"
   ]
  },
  {
   "cell_type": "code",
   "execution_count": 6,
   "metadata": {
    "jupyter": {
     "source_hidden": true
    },
    "papermill": {
     "duration": 0.050162,
     "end_time": "2019-03-22T17:27:14.020354",
     "exception": false,
     "start_time": "2019-03-22T17:27:13.970192",
     "status": "completed"
    },
    "tags": []
   },
   "outputs": [],
   "source": [
    "def highlight_rows(val):\n",
    "    \"\"\"Highlights cells pertaining to non-members and w/ no comments\"\"\"\n",
    "    disp = ''\n",
    "    if val == 0 or val == \"NONE\":\n",
    "        disp += 'background-color: #f7b7b7'\n",
    "    elif val == \"FIRST_TIME_CONTRIBUTOR\":\n",
    "        disp += 'background-color: red'\n",
    "    return disp\n",
    "\n",
    "def make_clickable(val):\n",
    "    # target _blank to open new window\n",
    "    return '<a target=\"_blank\" href=\"{}\">{}</a>'.format(val, val)\n",
    "\n",
    "def print_html(msg):\n",
    "    display(HTML('<h2 style=\"padding-left: 1em;\">{}</h2>'.format(msg)))\n",
    "    \n",
    "pd.options.display.max_colwidth = 200"
   ]
  },
  {
   "cell_type": "markdown",
   "metadata": {
    "papermill": {
     "duration": 0.03902,
     "end_time": "2019-03-22T17:27:14.094645",
     "exception": false,
     "start_time": "2019-03-22T17:27:14.055625",
     "status": "completed"
    },
    "tags": []
   },
   "source": [
    "## Load data"
   ]
  },
  {
   "cell_type": "code",
   "execution_count": 7,
   "metadata": {
    "jupyter": {
     "source_hidden": true
    },
    "papermill": {
     "duration": 0.144425,
     "end_time": "2019-03-22T17:27:14.269539",
     "exception": false,
     "start_time": "2019-03-22T17:27:14.125114",
     "status": "completed"
    },
    "tags": []
   },
   "outputs": [],
   "source": [
    "# Issues\n",
    "issues = issues_.load_issues(org, repo)\n",
    "issues['user'] = issues['user'].map(lambda a: a['login'])"
   ]
  },
  {
   "cell_type": "markdown",
   "metadata": {
    "papermill": {
     "duration": 0.043887,
     "end_time": "2019-03-22T17:27:14.354475",
     "exception": false,
     "start_time": "2019-03-22T17:27:14.310588",
     "status": "completed"
    },
    "tags": []
   },
   "source": [
    "# New activity"
   ]
  },
  {
   "cell_type": "markdown",
   "metadata": {
    "papermill": {
     "duration": 0.035671,
     "end_time": "2019-03-22T17:27:14.423018",
     "exception": false,
     "start_time": "2019-03-22T17:27:14.387347",
     "status": "completed"
    },
    "tags": []
   },
   "source": [
    "## Opened issues\n",
    "\n",
    "without responses in red"
   ]
  },
  {
   "cell_type": "code",
   "execution_count": 8,
   "metadata": {
    "jupyter": {
     "source_hidden": true
    },
    "papermill": {
     "duration": 0.146877,
     "end_time": "2019-03-22T17:27:14.614186",
     "exception": false,
     "start_time": "2019-03-22T17:27:14.467309",
     "status": "completed"
    },
    "tags": []
   },
   "outputs": [
    {
     "name": "stderr",
     "output_type": "stream",
     "text": [
      "/home/choldgraf/anaconda/envs/dev/lib/python3.6/site-packages/ipykernel_launcher.py:3: SettingWithCopyWarning: \n",
      "A value is trying to be set on a copy of a slice from a DataFrame.\n",
      "Try using .loc[row_indexer,col_indexer] = value instead\n",
      "\n",
      "See the caveats in the documentation: http://pandas.pydata.org/pandas-docs/stable/indexing.html#indexing-view-versus-copy\n",
      "  This is separate from the ipykernel package so we can avoid doing imports until\n"
     ]
    }
   ],
   "source": [
    "opened = issues.query('created_at > @date')\n",
    "opened_issues = opened[opened['pull_request'].isna()]\n",
    "opened_issues['closed'] = ~pd.isnull(opened_issues['closed_at'])"
   ]
  },
  {
   "cell_type": "code",
   "execution_count": 9,
   "metadata": {
    "jupyter": {
     "source_hidden": true
    },
    "papermill": {
     "duration": 0.073653,
     "end_time": "2019-03-22T17:27:14.726536",
     "exception": false,
     "start_time": "2019-03-22T17:27:14.652883",
     "status": "completed"
    },
    "tags": []
   },
   "outputs": [
    {
     "data": {
      "text/html": [
       "<h2 style=\"padding-left: 1em;\">Opened issues: 9</h2>"
      ],
      "text/plain": [
       "<IPython.core.display.HTML object>"
      ]
     },
     "metadata": {},
     "output_type": "display_data"
    }
   ],
   "source": [
    "print_html('Opened issues: {}'.format(len(opened_issues)))"
   ]
  },
  {
   "cell_type": "code",
   "execution_count": 10,
   "metadata": {
    "jupyter": {
     "source_hidden": true
    },
    "papermill": {
     "duration": 1.277977,
     "end_time": "2019-03-22T17:27:16.041743",
     "exception": false,
     "start_time": "2019-03-22T17:27:14.763766",
     "status": "completed"
    },
    "tags": []
   },
   "outputs": [
    {
     "data": {
      "text/html": [
       "<style  type=\"text/css\" >\n",
       "    #T_bcbdd5a6_4cc7_11e9_9082_54ee75e0f62drow0_col1 {\n",
       "            background-color:  #f7b7b7;\n",
       "        }    #T_bcbdd5a6_4cc7_11e9_9082_54ee75e0f62drow0_col2 {\n",
       "            background-color:  #f7b7b7;\n",
       "        }    #T_bcbdd5a6_4cc7_11e9_9082_54ee75e0f62drow0_col3 {\n",
       "            background-color:  #f7b7b7;\n",
       "        }    #T_bcbdd5a6_4cc7_11e9_9082_54ee75e0f62drow1_col1 {\n",
       "            background-color:  #f7b7b7;\n",
       "        }    #T_bcbdd5a6_4cc7_11e9_9082_54ee75e0f62drow1_col2 {\n",
       "            background-color:  #f7b7b7;\n",
       "        }    #T_bcbdd5a6_4cc7_11e9_9082_54ee75e0f62drow1_col3 {\n",
       "            background-color:  #f7b7b7;\n",
       "        }    #T_bcbdd5a6_4cc7_11e9_9082_54ee75e0f62drow2_col1 {\n",
       "            background-color:  #f7b7b7;\n",
       "        }    #T_bcbdd5a6_4cc7_11e9_9082_54ee75e0f62drow2_col3 {\n",
       "            background-color:  #f7b7b7;\n",
       "        }    #T_bcbdd5a6_4cc7_11e9_9082_54ee75e0f62drow3_col1 {\n",
       "            background-color:  #f7b7b7;\n",
       "        }    #T_bcbdd5a6_4cc7_11e9_9082_54ee75e0f62drow3_col3 {\n",
       "            background-color:  #f7b7b7;\n",
       "        }    #T_bcbdd5a6_4cc7_11e9_9082_54ee75e0f62drow4_col1 {\n",
       "            background-color:  #f7b7b7;\n",
       "        }    #T_bcbdd5a6_4cc7_11e9_9082_54ee75e0f62drow4_col3 {\n",
       "            background-color:  #f7b7b7;\n",
       "        }    #T_bcbdd5a6_4cc7_11e9_9082_54ee75e0f62drow5_col1 {\n",
       "            background-color:  #f7b7b7;\n",
       "        }    #T_bcbdd5a6_4cc7_11e9_9082_54ee75e0f62drow5_col3 {\n",
       "            background-color:  #f7b7b7;\n",
       "        }    #T_bcbdd5a6_4cc7_11e9_9082_54ee75e0f62drow6_col1 {\n",
       "            background-color:  #f7b7b7;\n",
       "        }    #T_bcbdd5a6_4cc7_11e9_9082_54ee75e0f62drow6_col3 {\n",
       "            background-color:  #f7b7b7;\n",
       "        }    #T_bcbdd5a6_4cc7_11e9_9082_54ee75e0f62drow7_col1 {\n",
       "            background-color:  #f7b7b7;\n",
       "        }    #T_bcbdd5a6_4cc7_11e9_9082_54ee75e0f62drow7_col3 {\n",
       "            background-color:  #f7b7b7;\n",
       "        }    #T_bcbdd5a6_4cc7_11e9_9082_54ee75e0f62drow8_col1 {\n",
       "            background-color:  #f7b7b7;\n",
       "        }</style><table id=\"T_bcbdd5a6_4cc7_11e9_9082_54ee75e0f62d\" ><thead>    <tr>        <th class=\"col_heading level0 col0\" >user</th>        <th class=\"col_heading level0 col1\" >author_association</th>        <th class=\"col_heading level0 col2\" >comments</th>        <th class=\"col_heading level0 col3\" >closed</th>        <th class=\"col_heading level0 col4\" >html_url</th>    </tr></thead><tbody>\n",
       "                <tr>\n",
       "                                <td id=\"T_bcbdd5a6_4cc7_11e9_9082_54ee75e0f62drow0_col0\" class=\"data row0 col0\" >zia-menna</td>\n",
       "                        <td id=\"T_bcbdd5a6_4cc7_11e9_9082_54ee75e0f62drow0_col1\" class=\"data row0 col1\" >NONE</td>\n",
       "                        <td id=\"T_bcbdd5a6_4cc7_11e9_9082_54ee75e0f62drow0_col2\" class=\"data row0 col2\" >0</td>\n",
       "                        <td id=\"T_bcbdd5a6_4cc7_11e9_9082_54ee75e0f62drow0_col3\" class=\"data row0 col3\" >False</td>\n",
       "                        <td id=\"T_bcbdd5a6_4cc7_11e9_9082_54ee75e0f62drow0_col4\" class=\"data row0 col4\" ><a target=\"_blank\" href=\"https://github.com/jupyterhub/the-littlest-jupyterhub/issues/285\">https://github.com/jupyterhub/the-littlest-jupyterhub/issues/285</a></td>\n",
       "            </tr>\n",
       "            <tr>\n",
       "                                <td id=\"T_bcbdd5a6_4cc7_11e9_9082_54ee75e0f62drow1_col0\" class=\"data row1 col0\" >Thimm</td>\n",
       "                        <td id=\"T_bcbdd5a6_4cc7_11e9_9082_54ee75e0f62drow1_col1\" class=\"data row1 col1\" >NONE</td>\n",
       "                        <td id=\"T_bcbdd5a6_4cc7_11e9_9082_54ee75e0f62drow1_col2\" class=\"data row1 col2\" >0</td>\n",
       "                        <td id=\"T_bcbdd5a6_4cc7_11e9_9082_54ee75e0f62drow1_col3\" class=\"data row1 col3\" >False</td>\n",
       "                        <td id=\"T_bcbdd5a6_4cc7_11e9_9082_54ee75e0f62drow1_col4\" class=\"data row1 col4\" ><a target=\"_blank\" href=\"https://github.com/jupyterhub/the-littlest-jupyterhub/issues/288\">https://github.com/jupyterhub/the-littlest-jupyterhub/issues/288</a></td>\n",
       "            </tr>\n",
       "            <tr>\n",
       "                                <td id=\"T_bcbdd5a6_4cc7_11e9_9082_54ee75e0f62drow2_col0\" class=\"data row2 col0\" >mpikoula</td>\n",
       "                        <td id=\"T_bcbdd5a6_4cc7_11e9_9082_54ee75e0f62drow2_col1\" class=\"data row2 col1\" >NONE</td>\n",
       "                        <td id=\"T_bcbdd5a6_4cc7_11e9_9082_54ee75e0f62drow2_col2\" class=\"data row2 col2\" >1</td>\n",
       "                        <td id=\"T_bcbdd5a6_4cc7_11e9_9082_54ee75e0f62drow2_col3\" class=\"data row2 col3\" >False</td>\n",
       "                        <td id=\"T_bcbdd5a6_4cc7_11e9_9082_54ee75e0f62drow2_col4\" class=\"data row2 col4\" ><a target=\"_blank\" href=\"https://github.com/jupyterhub/the-littlest-jupyterhub/issues/286\">https://github.com/jupyterhub/the-littlest-jupyterhub/issues/286</a></td>\n",
       "            </tr>\n",
       "            <tr>\n",
       "                                <td id=\"T_bcbdd5a6_4cc7_11e9_9082_54ee75e0f62drow3_col0\" class=\"data row3 col0\" >helge42</td>\n",
       "                        <td id=\"T_bcbdd5a6_4cc7_11e9_9082_54ee75e0f62drow3_col1\" class=\"data row3 col1\" >NONE</td>\n",
       "                        <td id=\"T_bcbdd5a6_4cc7_11e9_9082_54ee75e0f62drow3_col2\" class=\"data row3 col2\" >1</td>\n",
       "                        <td id=\"T_bcbdd5a6_4cc7_11e9_9082_54ee75e0f62drow3_col3\" class=\"data row3 col3\" >False</td>\n",
       "                        <td id=\"T_bcbdd5a6_4cc7_11e9_9082_54ee75e0f62drow3_col4\" class=\"data row3 col4\" ><a target=\"_blank\" href=\"https://github.com/jupyterhub/the-littlest-jupyterhub/issues/291\">https://github.com/jupyterhub/the-littlest-jupyterhub/issues/291</a></td>\n",
       "            </tr>\n",
       "            <tr>\n",
       "                                <td id=\"T_bcbdd5a6_4cc7_11e9_9082_54ee75e0f62drow4_col0\" class=\"data row4 col0\" >lachlancampbell</td>\n",
       "                        <td id=\"T_bcbdd5a6_4cc7_11e9_9082_54ee75e0f62drow4_col1\" class=\"data row4 col1\" >NONE</td>\n",
       "                        <td id=\"T_bcbdd5a6_4cc7_11e9_9082_54ee75e0f62drow4_col2\" class=\"data row4 col2\" >3</td>\n",
       "                        <td id=\"T_bcbdd5a6_4cc7_11e9_9082_54ee75e0f62drow4_col3\" class=\"data row4 col3\" >False</td>\n",
       "                        <td id=\"T_bcbdd5a6_4cc7_11e9_9082_54ee75e0f62drow4_col4\" class=\"data row4 col4\" ><a target=\"_blank\" href=\"https://github.com/jupyterhub/the-littlest-jupyterhub/issues/282\">https://github.com/jupyterhub/the-littlest-jupyterhub/issues/282</a></td>\n",
       "            </tr>\n",
       "            <tr>\n",
       "                                <td id=\"T_bcbdd5a6_4cc7_11e9_9082_54ee75e0f62drow5_col0\" class=\"data row5 col0\" >kpeeters</td>\n",
       "                        <td id=\"T_bcbdd5a6_4cc7_11e9_9082_54ee75e0f62drow5_col1\" class=\"data row5 col1\" >NONE</td>\n",
       "                        <td id=\"T_bcbdd5a6_4cc7_11e9_9082_54ee75e0f62drow5_col2\" class=\"data row5 col2\" >4</td>\n",
       "                        <td id=\"T_bcbdd5a6_4cc7_11e9_9082_54ee75e0f62drow5_col3\" class=\"data row5 col3\" >False</td>\n",
       "                        <td id=\"T_bcbdd5a6_4cc7_11e9_9082_54ee75e0f62drow5_col4\" class=\"data row5 col4\" ><a target=\"_blank\" href=\"https://github.com/jupyterhub/the-littlest-jupyterhub/issues/295\">https://github.com/jupyterhub/the-littlest-jupyterhub/issues/295</a></td>\n",
       "            </tr>\n",
       "            <tr>\n",
       "                                <td id=\"T_bcbdd5a6_4cc7_11e9_9082_54ee75e0f62drow6_col0\" class=\"data row6 col0\" >yuyueugene84</td>\n",
       "                        <td id=\"T_bcbdd5a6_4cc7_11e9_9082_54ee75e0f62drow6_col1\" class=\"data row6 col1\" >NONE</td>\n",
       "                        <td id=\"T_bcbdd5a6_4cc7_11e9_9082_54ee75e0f62drow6_col2\" class=\"data row6 col2\" >4</td>\n",
       "                        <td id=\"T_bcbdd5a6_4cc7_11e9_9082_54ee75e0f62drow6_col3\" class=\"data row6 col3\" >False</td>\n",
       "                        <td id=\"T_bcbdd5a6_4cc7_11e9_9082_54ee75e0f62drow6_col4\" class=\"data row6 col4\" ><a target=\"_blank\" href=\"https://github.com/jupyterhub/the-littlest-jupyterhub/issues/289\">https://github.com/jupyterhub/the-littlest-jupyterhub/issues/289</a></td>\n",
       "            </tr>\n",
       "            <tr>\n",
       "                                <td id=\"T_bcbdd5a6_4cc7_11e9_9082_54ee75e0f62drow7_col0\" class=\"data row7 col0\" >PaluchowskiMatthew</td>\n",
       "                        <td id=\"T_bcbdd5a6_4cc7_11e9_9082_54ee75e0f62drow7_col1\" class=\"data row7 col1\" >NONE</td>\n",
       "                        <td id=\"T_bcbdd5a6_4cc7_11e9_9082_54ee75e0f62drow7_col2\" class=\"data row7 col2\" >5</td>\n",
       "                        <td id=\"T_bcbdd5a6_4cc7_11e9_9082_54ee75e0f62drow7_col3\" class=\"data row7 col3\" >False</td>\n",
       "                        <td id=\"T_bcbdd5a6_4cc7_11e9_9082_54ee75e0f62drow7_col4\" class=\"data row7 col4\" ><a target=\"_blank\" href=\"https://github.com/jupyterhub/the-littlest-jupyterhub/issues/290\">https://github.com/jupyterhub/the-littlest-jupyterhub/issues/290</a></td>\n",
       "            </tr>\n",
       "            <tr>\n",
       "                                <td id=\"T_bcbdd5a6_4cc7_11e9_9082_54ee75e0f62drow8_col0\" class=\"data row8 col0\" >joshy</td>\n",
       "                        <td id=\"T_bcbdd5a6_4cc7_11e9_9082_54ee75e0f62drow8_col1\" class=\"data row8 col1\" >NONE</td>\n",
       "                        <td id=\"T_bcbdd5a6_4cc7_11e9_9082_54ee75e0f62drow8_col2\" class=\"data row8 col2\" >3</td>\n",
       "                        <td id=\"T_bcbdd5a6_4cc7_11e9_9082_54ee75e0f62drow8_col3\" class=\"data row8 col3\" >True</td>\n",
       "                        <td id=\"T_bcbdd5a6_4cc7_11e9_9082_54ee75e0f62drow8_col4\" class=\"data row8 col4\" ><a target=\"_blank\" href=\"https://github.com/jupyterhub/the-littlest-jupyterhub/issues/293\">https://github.com/jupyterhub/the-littlest-jupyterhub/issues/293</a></td>\n",
       "            </tr>\n",
       "    </tbody></table>"
      ],
      "text/plain": [
       "<pandas.io.formats.style.Styler at 0x7f01f29f1e10>"
      ]
     },
     "execution_count": 10,
     "metadata": {},
     "output_type": "execute_result"
    }
   ],
   "source": [
    "opened_issues[['user', 'author_association', 'comments', 'closed', 'html_url']]\\\n",
    "    .sort_values(['closed', 'comments']).style.applymap(highlight_rows).format({'html_url': make_clickable}).hide_index()"
   ]
  },
  {
   "cell_type": "markdown",
   "metadata": {
    "papermill": {
     "duration": 0.035051,
     "end_time": "2019-03-22T17:27:16.107361",
     "exception": false,
     "start_time": "2019-03-22T17:27:16.072310",
     "status": "completed"
    },
    "tags": []
   },
   "source": [
    "## Closed issues\n"
   ]
  },
  {
   "cell_type": "code",
   "execution_count": 11,
   "metadata": {
    "jupyter": {
     "source_hidden": true
    },
    "papermill": {
     "duration": 0.05029,
     "end_time": "2019-03-22T17:27:16.183688",
     "exception": false,
     "start_time": "2019-03-22T17:27:16.133398",
     "status": "completed"
    },
    "tags": []
   },
   "outputs": [],
   "source": [
    "closed = issues.query('closed_at > @date')\n",
    "closed_issues = closed[closed['pull_request'].isna()]"
   ]
  },
  {
   "cell_type": "code",
   "execution_count": 12,
   "metadata": {
    "jupyter": {
     "source_hidden": true
    },
    "papermill": {
     "duration": 0.063642,
     "end_time": "2019-03-22T17:27:16.279952",
     "exception": false,
     "start_time": "2019-03-22T17:27:16.216310",
     "status": "completed"
    },
    "tags": []
   },
   "outputs": [
    {
     "data": {
      "text/html": [
       "<style  type=\"text/css\" >\n",
       "    #T_bce2cb36_4cc7_11e9_9082_54ee75e0f62drow0_col1 {\n",
       "            background-color:  #f7b7b7;\n",
       "        }    #T_bce2cb36_4cc7_11e9_9082_54ee75e0f62drow1_col1 {\n",
       "            background-color:  #f7b7b7;\n",
       "        }    #T_bce2cb36_4cc7_11e9_9082_54ee75e0f62drow2_col1 {\n",
       "            background-color:  #f7b7b7;\n",
       "        }</style><table id=\"T_bce2cb36_4cc7_11e9_9082_54ee75e0f62d\" ><thead>    <tr>        <th class=\"col_heading level0 col0\" >user</th>        <th class=\"col_heading level0 col1\" >author_association</th>        <th class=\"col_heading level0 col2\" >comments</th>        <th class=\"col_heading level0 col3\" >html_url</th>    </tr></thead><tbody>\n",
       "                <tr>\n",
       "                                <td id=\"T_bce2cb36_4cc7_11e9_9082_54ee75e0f62drow0_col0\" class=\"data row0 col0\" >ypff</td>\n",
       "                        <td id=\"T_bce2cb36_4cc7_11e9_9082_54ee75e0f62drow0_col1\" class=\"data row0 col1\" >NONE</td>\n",
       "                        <td id=\"T_bce2cb36_4cc7_11e9_9082_54ee75e0f62drow0_col2\" class=\"data row0 col2\" >1</td>\n",
       "                        <td id=\"T_bce2cb36_4cc7_11e9_9082_54ee75e0f62drow0_col3\" class=\"data row0 col3\" ><a target=\"_blank\" href=\"https://github.com/jupyterhub/the-littlest-jupyterhub/issues/270\">https://github.com/jupyterhub/the-littlest-jupyterhub/issues/270</a></td>\n",
       "            </tr>\n",
       "            <tr>\n",
       "                                <td id=\"T_bce2cb36_4cc7_11e9_9082_54ee75e0f62drow1_col0\" class=\"data row1 col0\" >joshy</td>\n",
       "                        <td id=\"T_bce2cb36_4cc7_11e9_9082_54ee75e0f62drow1_col1\" class=\"data row1 col1\" >NONE</td>\n",
       "                        <td id=\"T_bce2cb36_4cc7_11e9_9082_54ee75e0f62drow1_col2\" class=\"data row1 col2\" >3</td>\n",
       "                        <td id=\"T_bce2cb36_4cc7_11e9_9082_54ee75e0f62drow1_col3\" class=\"data row1 col3\" ><a target=\"_blank\" href=\"https://github.com/jupyterhub/the-littlest-jupyterhub/issues/293\">https://github.com/jupyterhub/the-littlest-jupyterhub/issues/293</a></td>\n",
       "            </tr>\n",
       "            <tr>\n",
       "                                <td id=\"T_bce2cb36_4cc7_11e9_9082_54ee75e0f62drow2_col0\" class=\"data row2 col0\" >psychemedia</td>\n",
       "                        <td id=\"T_bce2cb36_4cc7_11e9_9082_54ee75e0f62drow2_col1\" class=\"data row2 col1\" >NONE</td>\n",
       "                        <td id=\"T_bce2cb36_4cc7_11e9_9082_54ee75e0f62drow2_col2\" class=\"data row2 col2\" >4</td>\n",
       "                        <td id=\"T_bce2cb36_4cc7_11e9_9082_54ee75e0f62drow2_col3\" class=\"data row2 col3\" ><a target=\"_blank\" href=\"https://github.com/jupyterhub/the-littlest-jupyterhub/issues/252\">https://github.com/jupyterhub/the-littlest-jupyterhub/issues/252</a></td>\n",
       "            </tr>\n",
       "    </tbody></table>"
      ],
      "text/plain": [
       "<pandas.io.formats.style.Styler at 0x7f01edcb8240>"
      ]
     },
     "execution_count": 12,
     "metadata": {},
     "output_type": "execute_result"
    }
   ],
   "source": [
    "closed_issues[['user', 'author_association', 'comments', 'html_url']]\\\n",
    "    .sort_values(['comments']).style.applymap(highlight_rows).format({'html_url': make_clickable}).hide_index()"
   ]
  },
  {
   "cell_type": "code",
   "execution_count": 13,
   "metadata": {
    "jupyter": {
     "source_hidden": true
    },
    "papermill": {
     "duration": 0.073943,
     "end_time": "2019-03-22T17:27:16.400034",
     "exception": false,
     "start_time": "2019-03-22T17:27:16.326091",
     "status": "completed"
    },
    "tags": []
   },
   "outputs": [
    {
     "data": {
      "text/html": [
       "<h2 style=\"padding-left: 1em;\">Closed issues: 3</h2>"
      ],
      "text/plain": [
       "<IPython.core.display.HTML object>"
      ]
     },
     "metadata": {},
     "output_type": "display_data"
    }
   ],
   "source": [
    "print_html('Closed issues: {}'.format(len(closed_issues)))"
   ]
  },
  {
   "cell_type": "markdown",
   "metadata": {
    "papermill": {
     "duration": 0.046258,
     "end_time": "2019-03-22T17:27:16.499684",
     "exception": false,
     "start_time": "2019-03-22T17:27:16.453426",
     "status": "completed"
    },
    "tags": []
   },
   "source": [
    "## Opened PRs\n",
    "\n",
    "without responses in red"
   ]
  },
  {
   "cell_type": "code",
   "execution_count": 14,
   "metadata": {
    "jupyter": {
     "source_hidden": true
    },
    "papermill": {
     "duration": 0.099957,
     "end_time": "2019-03-22T17:27:16.637488",
     "exception": false,
     "start_time": "2019-03-22T17:27:16.537531",
     "status": "completed"
    },
    "tags": []
   },
   "outputs": [
    {
     "name": "stderr",
     "output_type": "stream",
     "text": [
      "/home/choldgraf/anaconda/envs/dev/lib/python3.6/site-packages/ipykernel_launcher.py:2: SettingWithCopyWarning: \n",
      "A value is trying to be set on a copy of a slice from a DataFrame.\n",
      "Try using .loc[row_indexer,col_indexer] = value instead\n",
      "\n",
      "See the caveats in the documentation: http://pandas.pydata.org/pandas-docs/stable/indexing.html#indexing-view-versus-copy\n",
      "  \n"
     ]
    }
   ],
   "source": [
    "opened_prs = opened[~opened['pull_request'].isna()]\n",
    "opened_prs['closed'] = ~pd.isnull(opened_prs['closed_at'])\n",
    "\n",
    "closed_prs = closed[~closed['pull_request'].isna()]"
   ]
  },
  {
   "cell_type": "code",
   "execution_count": 15,
   "metadata": {
    "jupyter": {
     "source_hidden": true
    },
    "papermill": {
     "duration": 0.059681,
     "end_time": "2019-03-22T17:27:16.735931",
     "exception": false,
     "start_time": "2019-03-22T17:27:16.676250",
     "status": "completed"
    },
    "tags": []
   },
   "outputs": [
    {
     "data": {
      "text/html": [
       "<h2 style=\"padding-left: 1em;\">Opened PRs: 6</h2>"
      ],
      "text/plain": [
       "<IPython.core.display.HTML object>"
      ]
     },
     "metadata": {},
     "output_type": "display_data"
    }
   ],
   "source": [
    "print_html('Opened PRs: {}'.format(len(opened_prs)))"
   ]
  },
  {
   "cell_type": "code",
   "execution_count": 16,
   "metadata": {
    "jupyter": {
     "source_hidden": true
    },
    "papermill": {
     "duration": 0.13162,
     "end_time": "2019-03-22T17:27:16.914369",
     "exception": false,
     "start_time": "2019-03-22T17:27:16.782749",
     "status": "completed"
    },
    "tags": []
   },
   "outputs": [
    {
     "data": {
      "text/html": [
       "<style  type=\"text/css\" >\n",
       "    #T_bd43014a_4cc7_11e9_9082_54ee75e0f62drow0_col1 {\n",
       "            background-color:  red;\n",
       "        }    #T_bd43014a_4cc7_11e9_9082_54ee75e0f62drow0_col2 {\n",
       "            background-color:  #f7b7b7;\n",
       "        }    #T_bd43014a_4cc7_11e9_9082_54ee75e0f62drow0_col3 {\n",
       "            background-color:  #f7b7b7;\n",
       "        }    #T_bd43014a_4cc7_11e9_9082_54ee75e0f62drow1_col1 {\n",
       "            background-color:  red;\n",
       "        }    #T_bd43014a_4cc7_11e9_9082_54ee75e0f62drow1_col2 {\n",
       "            background-color:  #f7b7b7;\n",
       "        }    #T_bd43014a_4cc7_11e9_9082_54ee75e0f62drow1_col3 {\n",
       "            background-color:  #f7b7b7;\n",
       "        }    #T_bd43014a_4cc7_11e9_9082_54ee75e0f62drow2_col2 {\n",
       "            background-color:  #f7b7b7;\n",
       "        }</style><table id=\"T_bd43014a_4cc7_11e9_9082_54ee75e0f62d\" ><thead>    <tr>        <th class=\"col_heading level0 col0\" >user</th>        <th class=\"col_heading level0 col1\" >author_association</th>        <th class=\"col_heading level0 col2\" >comments</th>        <th class=\"col_heading level0 col3\" >closed</th>        <th class=\"col_heading level0 col4\" >html_url</th>    </tr></thead><tbody>\n",
       "                <tr>\n",
       "                                <td id=\"T_bd43014a_4cc7_11e9_9082_54ee75e0f62drow0_col0\" class=\"data row0 col0\" >laxdog</td>\n",
       "                        <td id=\"T_bd43014a_4cc7_11e9_9082_54ee75e0f62drow0_col1\" class=\"data row0 col1\" >FIRST_TIME_CONTRIBUTOR</td>\n",
       "                        <td id=\"T_bd43014a_4cc7_11e9_9082_54ee75e0f62drow0_col2\" class=\"data row0 col2\" >0</td>\n",
       "                        <td id=\"T_bd43014a_4cc7_11e9_9082_54ee75e0f62drow0_col3\" class=\"data row0 col3\" >False</td>\n",
       "                        <td id=\"T_bd43014a_4cc7_11e9_9082_54ee75e0f62drow0_col4\" class=\"data row0 col4\" ><a target=\"_blank\" href=\"https://github.com/jupyterhub/the-littlest-jupyterhub/pull/296\">https://github.com/jupyterhub/the-littlest-jupyterhub/pull/296</a></td>\n",
       "            </tr>\n",
       "            <tr>\n",
       "                                <td id=\"T_bd43014a_4cc7_11e9_9082_54ee75e0f62drow1_col0\" class=\"data row1 col0\" >junctionapps</td>\n",
       "                        <td id=\"T_bd43014a_4cc7_11e9_9082_54ee75e0f62drow1_col1\" class=\"data row1 col1\" >FIRST_TIME_CONTRIBUTOR</td>\n",
       "                        <td id=\"T_bd43014a_4cc7_11e9_9082_54ee75e0f62drow1_col2\" class=\"data row1 col2\" >0</td>\n",
       "                        <td id=\"T_bd43014a_4cc7_11e9_9082_54ee75e0f62drow1_col3\" class=\"data row1 col3\" >False</td>\n",
       "                        <td id=\"T_bd43014a_4cc7_11e9_9082_54ee75e0f62drow1_col4\" class=\"data row1 col4\" ><a target=\"_blank\" href=\"https://github.com/jupyterhub/the-littlest-jupyterhub/pull/287\">https://github.com/jupyterhub/the-littlest-jupyterhub/pull/287</a></td>\n",
       "            </tr>\n",
       "            <tr>\n",
       "                                <td id=\"T_bd43014a_4cc7_11e9_9082_54ee75e0f62drow2_col0\" class=\"data row2 col0\" >leportella</td>\n",
       "                        <td id=\"T_bd43014a_4cc7_11e9_9082_54ee75e0f62drow2_col1\" class=\"data row2 col1\" >COLLABORATOR</td>\n",
       "                        <td id=\"T_bd43014a_4cc7_11e9_9082_54ee75e0f62drow2_col2\" class=\"data row2 col2\" >0</td>\n",
       "                        <td id=\"T_bd43014a_4cc7_11e9_9082_54ee75e0f62drow2_col3\" class=\"data row2 col3\" >True</td>\n",
       "                        <td id=\"T_bd43014a_4cc7_11e9_9082_54ee75e0f62drow2_col4\" class=\"data row2 col4\" ><a target=\"_blank\" href=\"https://github.com/jupyterhub/the-littlest-jupyterhub/pull/284\">https://github.com/jupyterhub/the-littlest-jupyterhub/pull/284</a></td>\n",
       "            </tr>\n",
       "            <tr>\n",
       "                                <td id=\"T_bd43014a_4cc7_11e9_9082_54ee75e0f62drow3_col0\" class=\"data row3 col0\" >leportella</td>\n",
       "                        <td id=\"T_bd43014a_4cc7_11e9_9082_54ee75e0f62drow3_col1\" class=\"data row3 col1\" >COLLABORATOR</td>\n",
       "                        <td id=\"T_bd43014a_4cc7_11e9_9082_54ee75e0f62drow3_col2\" class=\"data row3 col2\" >1</td>\n",
       "                        <td id=\"T_bd43014a_4cc7_11e9_9082_54ee75e0f62drow3_col3\" class=\"data row3 col3\" >True</td>\n",
       "                        <td id=\"T_bd43014a_4cc7_11e9_9082_54ee75e0f62drow3_col4\" class=\"data row3 col4\" ><a target=\"_blank\" href=\"https://github.com/jupyterhub/the-littlest-jupyterhub/pull/283\">https://github.com/jupyterhub/the-littlest-jupyterhub/pull/283</a></td>\n",
       "            </tr>\n",
       "            <tr>\n",
       "                                <td id=\"T_bd43014a_4cc7_11e9_9082_54ee75e0f62drow4_col0\" class=\"data row4 col0\" >story645</td>\n",
       "                        <td id=\"T_bd43014a_4cc7_11e9_9082_54ee75e0f62drow4_col1\" class=\"data row4 col1\" >CONTRIBUTOR</td>\n",
       "                        <td id=\"T_bd43014a_4cc7_11e9_9082_54ee75e0f62drow4_col2\" class=\"data row4 col2\" >2</td>\n",
       "                        <td id=\"T_bd43014a_4cc7_11e9_9082_54ee75e0f62drow4_col3\" class=\"data row4 col3\" >True</td>\n",
       "                        <td id=\"T_bd43014a_4cc7_11e9_9082_54ee75e0f62drow4_col4\" class=\"data row4 col4\" ><a target=\"_blank\" href=\"https://github.com/jupyterhub/the-littlest-jupyterhub/pull/294\">https://github.com/jupyterhub/the-littlest-jupyterhub/pull/294</a></td>\n",
       "            </tr>\n",
       "            <tr>\n",
       "                                <td id=\"T_bd43014a_4cc7_11e9_9082_54ee75e0f62drow5_col0\" class=\"data row5 col0\" >willirath</td>\n",
       "                        <td id=\"T_bd43014a_4cc7_11e9_9082_54ee75e0f62drow5_col1\" class=\"data row5 col1\" >COLLABORATOR</td>\n",
       "                        <td id=\"T_bd43014a_4cc7_11e9_9082_54ee75e0f62drow5_col2\" class=\"data row5 col2\" >3</td>\n",
       "                        <td id=\"T_bd43014a_4cc7_11e9_9082_54ee75e0f62drow5_col3\" class=\"data row5 col3\" >True</td>\n",
       "                        <td id=\"T_bd43014a_4cc7_11e9_9082_54ee75e0f62drow5_col4\" class=\"data row5 col4\" ><a target=\"_blank\" href=\"https://github.com/jupyterhub/the-littlest-jupyterhub/pull/292\">https://github.com/jupyterhub/the-littlest-jupyterhub/pull/292</a></td>\n",
       "            </tr>\n",
       "    </tbody></table>"
      ],
      "text/plain": [
       "<pandas.io.formats.style.Styler at 0x7f01edc8bef0>"
      ]
     },
     "execution_count": 16,
     "metadata": {},
     "output_type": "execute_result"
    }
   ],
   "source": [
    "opened_prs[['user', 'author_association', 'comments', 'closed', 'html_url']]\\\n",
    "    .sort_values(['closed', 'comments']).style.applymap(highlight_rows).format({'html_url': make_clickable}).hide_index()"
   ]
  },
  {
   "cell_type": "code",
   "execution_count": 17,
   "metadata": {
    "jupyter": {
     "source_hidden": true
    },
    "papermill": {
     "duration": 0.081289,
     "end_time": "2019-03-22T17:27:17.032402",
     "exception": false,
     "start_time": "2019-03-22T17:27:16.951113",
     "status": "completed"
    },
    "tags": []
   },
   "outputs": [
    {
     "data": {
      "text/html": [
       "<h2 style=\"padding-left: 1em;\">Closed PRs: 5</h2>"
      ],
      "text/plain": [
       "<IPython.core.display.HTML object>"
      ]
     },
     "metadata": {},
     "output_type": "display_data"
    }
   ],
   "source": [
    "print_html('Closed PRs: {}'.format(len(closed_prs)))"
   ]
  },
  {
   "cell_type": "code",
   "execution_count": 18,
   "metadata": {
    "jupyter": {
     "source_hidden": true
    },
    "papermill": {
     "duration": 0.095625,
     "end_time": "2019-03-22T17:27:17.179895",
     "exception": false,
     "start_time": "2019-03-22T17:27:17.084270",
     "status": "completed"
    },
    "tags": []
   },
   "outputs": [
    {
     "data": {
      "text/html": [
       "<style  type=\"text/css\" >\n",
       "    #T_bd6bed08_4cc7_11e9_9082_54ee75e0f62drow0_col2 {\n",
       "            background-color:  #f7b7b7;\n",
       "        }</style><table id=\"T_bd6bed08_4cc7_11e9_9082_54ee75e0f62d\" ><thead>    <tr>        <th class=\"col_heading level0 col0\" >user</th>        <th class=\"col_heading level0 col1\" >author_association</th>        <th class=\"col_heading level0 col2\" >comments</th>        <th class=\"col_heading level0 col3\" >html_url</th>    </tr></thead><tbody>\n",
       "                <tr>\n",
       "                                <td id=\"T_bd6bed08_4cc7_11e9_9082_54ee75e0f62drow0_col0\" class=\"data row0 col0\" >leportella</td>\n",
       "                        <td id=\"T_bd6bed08_4cc7_11e9_9082_54ee75e0f62drow0_col1\" class=\"data row0 col1\" >COLLABORATOR</td>\n",
       "                        <td id=\"T_bd6bed08_4cc7_11e9_9082_54ee75e0f62drow0_col2\" class=\"data row0 col2\" >0</td>\n",
       "                        <td id=\"T_bd6bed08_4cc7_11e9_9082_54ee75e0f62drow0_col3\" class=\"data row0 col3\" ><a target=\"_blank\" href=\"https://github.com/jupyterhub/the-littlest-jupyterhub/pull/284\">https://github.com/jupyterhub/the-littlest-jupyterhub/pull/284</a></td>\n",
       "            </tr>\n",
       "            <tr>\n",
       "                                <td id=\"T_bd6bed08_4cc7_11e9_9082_54ee75e0f62drow1_col0\" class=\"data row1 col0\" >leportella</td>\n",
       "                        <td id=\"T_bd6bed08_4cc7_11e9_9082_54ee75e0f62drow1_col1\" class=\"data row1 col1\" >COLLABORATOR</td>\n",
       "                        <td id=\"T_bd6bed08_4cc7_11e9_9082_54ee75e0f62drow1_col2\" class=\"data row1 col2\" >1</td>\n",
       "                        <td id=\"T_bd6bed08_4cc7_11e9_9082_54ee75e0f62drow1_col3\" class=\"data row1 col3\" ><a target=\"_blank\" href=\"https://github.com/jupyterhub/the-littlest-jupyterhub/pull/283\">https://github.com/jupyterhub/the-littlest-jupyterhub/pull/283</a></td>\n",
       "            </tr>\n",
       "            <tr>\n",
       "                                <td id=\"T_bd6bed08_4cc7_11e9_9082_54ee75e0f62drow2_col0\" class=\"data row2 col0\" >story645</td>\n",
       "                        <td id=\"T_bd6bed08_4cc7_11e9_9082_54ee75e0f62drow2_col1\" class=\"data row2 col1\" >CONTRIBUTOR</td>\n",
       "                        <td id=\"T_bd6bed08_4cc7_11e9_9082_54ee75e0f62drow2_col2\" class=\"data row2 col2\" >2</td>\n",
       "                        <td id=\"T_bd6bed08_4cc7_11e9_9082_54ee75e0f62drow2_col3\" class=\"data row2 col3\" ><a target=\"_blank\" href=\"https://github.com/jupyterhub/the-littlest-jupyterhub/pull/294\">https://github.com/jupyterhub/the-littlest-jupyterhub/pull/294</a></td>\n",
       "            </tr>\n",
       "            <tr>\n",
       "                                <td id=\"T_bd6bed08_4cc7_11e9_9082_54ee75e0f62drow3_col0\" class=\"data row3 col0\" >willirath</td>\n",
       "                        <td id=\"T_bd6bed08_4cc7_11e9_9082_54ee75e0f62drow3_col1\" class=\"data row3 col1\" >COLLABORATOR</td>\n",
       "                        <td id=\"T_bd6bed08_4cc7_11e9_9082_54ee75e0f62drow3_col2\" class=\"data row3 col2\" >3</td>\n",
       "                        <td id=\"T_bd6bed08_4cc7_11e9_9082_54ee75e0f62drow3_col3\" class=\"data row3 col3\" ><a target=\"_blank\" href=\"https://github.com/jupyterhub/the-littlest-jupyterhub/pull/292\">https://github.com/jupyterhub/the-littlest-jupyterhub/pull/292</a></td>\n",
       "            </tr>\n",
       "            <tr>\n",
       "                                <td id=\"T_bd6bed08_4cc7_11e9_9082_54ee75e0f62drow4_col0\" class=\"data row4 col0\" >GeorgianaElena</td>\n",
       "                        <td id=\"T_bd6bed08_4cc7_11e9_9082_54ee75e0f62drow4_col1\" class=\"data row4 col1\" >CONTRIBUTOR</td>\n",
       "                        <td id=\"T_bd6bed08_4cc7_11e9_9082_54ee75e0f62drow4_col2\" class=\"data row4 col2\" >11</td>\n",
       "                        <td id=\"T_bd6bed08_4cc7_11e9_9082_54ee75e0f62drow4_col3\" class=\"data row4 col3\" ><a target=\"_blank\" href=\"https://github.com/jupyterhub/the-littlest-jupyterhub/pull/266\">https://github.com/jupyterhub/the-littlest-jupyterhub/pull/266</a></td>\n",
       "            </tr>\n",
       "    </tbody></table>"
      ],
      "text/plain": [
       "<pandas.io.formats.style.Styler at 0x7f01edc8b908>"
      ]
     },
     "execution_count": 18,
     "metadata": {},
     "output_type": "execute_result"
    }
   ],
   "source": [
    "closed_prs[['user', 'author_association', 'comments', 'html_url']]\\\n",
    "    .sort_values(['comments']).style.applymap(highlight_rows).format({'html_url': make_clickable}).hide_index()"
   ]
  },
  {
   "cell_type": "markdown",
   "metadata": {
    "papermill": {
     "duration": 0.058175,
     "end_time": "2019-03-22T17:27:17.278244",
     "exception": false,
     "start_time": "2019-03-22T17:27:17.220069",
     "status": "completed"
    },
    "tags": []
   },
   "source": [
    "# State of repo\n",
    "\n",
    "## Stale issues"
   ]
  },
  {
   "cell_type": "code",
   "execution_count": 19,
   "metadata": {
    "jupyter": {
     "source_hidden": true
    },
    "papermill": {
     "duration": 0.082729,
     "end_time": "2019-03-22T17:27:17.398931",
     "exception": false,
     "start_time": "2019-03-22T17:27:17.316202",
     "status": "completed"
    },
    "tags": []
   },
   "outputs": [],
   "source": [
    "stale_issues = issues.query('updated_at < @date_stale')\n",
    "stale_issues = stale_issues[stale_issues['closed_at'].isnull()]"
   ]
  },
  {
   "cell_type": "code",
   "execution_count": 20,
   "metadata": {
    "jupyter": {
     "source_hidden": true
    },
    "papermill": {
     "duration": 0.074167,
     "end_time": "2019-03-22T17:27:17.528810",
     "exception": false,
     "start_time": "2019-03-22T17:27:17.454643",
     "status": "completed"
    },
    "tags": []
   },
   "outputs": [
    {
     "data": {
      "text/html": [
       "<style  type=\"text/css\" >\n",
       "</style><table id=\"T_bda14f66_4cc7_11e9_9082_54ee75e0f62d\" ><thead>    <tr>        <th class=\"col_heading level0 col0\" >user</th>        <th class=\"col_heading level0 col1\" >author_association</th>        <th class=\"col_heading level0 col2\" >comments</th>        <th class=\"col_heading level0 col3\" >html_url</th>    </tr></thead><tbody>\n",
       "        </tbody></table>"
      ],
      "text/plain": [
       "<pandas.io.formats.style.Styler at 0x7f01edc8b3c8>"
      ]
     },
     "execution_count": 20,
     "metadata": {},
     "output_type": "execute_result"
    }
   ],
   "source": [
    "stale_issues[['user', 'author_association', 'comments', 'html_url']]\\\n",
    "    .sort_values(['comments']).style.applymap(highlight_rows).format({'html_url': make_clickable}).hide_index()"
   ]
  },
  {
   "cell_type": "code",
   "execution_count": null,
   "metadata": {
    "jupyter": {
     "source_hidden": true
    },
    "papermill": {
     "duration": 0.043643,
     "end_time": "2019-03-22T17:27:17.615651",
     "exception": false,
     "start_time": "2019-03-22T17:27:17.572008",
     "status": "completed"
    },
    "tags": []
   },
   "outputs": [],
   "source": []
  }
 ],
 "metadata": {
  "kernelspec": {
   "display_name": "Python 3",
   "language": "python",
   "name": "python3"
  },
  "language_info": {
   "codemirror_mode": {
    "name": "ipython",
    "version": 3
   },
   "file_extension": ".py",
   "mimetype": "text/x-python",
   "name": "python",
   "nbconvert_exporter": "python",
   "pygments_lexer": "ipython3",
   "version": "3.6.5"
  },
  "papermill": {
   "duration": 8.634928,
   "end_time": "2019-03-22T17:27:19.162533",
   "environment_variables": {},
   "exception": null,
   "input_path": "./templates/issues.ipynb",
   "output_path": "../reports/2019-02-20/jupyterhub/the-littlest-jupyterhub/issues.ipynb",
   "parameters": {
    "date": "2019-02-20",
    "org": "jupyterhub",
    "repo": "the-littlest-jupyterhub"
   },
   "start_time": "2019-03-22T17:27:10.527605",
   "version": "0.18.0"
  }
 },
 "nbformat": 4,
 "nbformat_minor": 2
}