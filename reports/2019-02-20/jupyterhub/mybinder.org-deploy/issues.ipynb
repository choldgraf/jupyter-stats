{
 "cells": [
  {
   "cell_type": "code",
   "execution_count": 1,
   "metadata": {
    "jupyter": {
     "source_hidden": true
    },
    "papermill": {
     "duration": 1.031448,
     "end_time": "2019-03-22T17:28:39.944646",
     "exception": false,
     "start_time": "2019-03-22T17:28:38.913198",
     "status": "completed"
    },
    "tags": []
   },
   "outputs": [],
   "source": [
    "import pandas as pd\n",
    "from datetime import timedelta\n",
    "from IPython.display import HTML, display"
   ]
  },
  {
   "cell_type": "code",
   "execution_count": 2,
   "metadata": {
    "jupyter": {
     "source_hidden": true
    },
    "papermill": {
     "duration": 0.045833,
     "end_time": "2019-03-22T17:28:40.024163",
     "exception": false,
     "start_time": "2019-03-22T17:28:39.978330",
     "status": "completed"
    },
    "tags": [
     "parameters"
    ]
   },
   "outputs": [],
   "source": [
    "date = pd.datetime.today() - timedelta(days=30)\n",
    "org = 'jupyterhub'\n",
    "repo = 'zero-to-jupyterhub-k8s'"
   ]
  },
  {
   "cell_type": "code",
   "execution_count": 3,
   "metadata": {
    "jupyter": {
     "source_hidden": true
    },
    "papermill": {
     "duration": 0.064749,
     "end_time": "2019-03-22T17:28:40.133055",
     "exception": false,
     "start_time": "2019-03-22T17:28:40.068306",
     "status": "completed"
    },
    "tags": [
     "injected-parameters"
    ]
   },
   "outputs": [],
   "source": [
    "# Parameters\n",
    "org = \"jupyterhub\"\n",
    "repo = \"mybinder.org-deploy\"\n",
    "date = \"2019-02-20\"\n"
   ]
  },
  {
   "cell_type": "code",
   "execution_count": 4,
   "metadata": {
    "jupyter": {
     "source_hidden": true
    },
    "papermill": {
     "duration": 0.045024,
     "end_time": "2019-03-22T17:28:40.235688",
     "exception": false,
     "start_time": "2019-03-22T17:28:40.190664",
     "status": "completed"
    },
    "tags": []
   },
   "outputs": [],
   "source": [
    "# Definition of a stale issue/PR (how many days since last updated)\n",
    "stale_days = 30\n",
    "date_stale = pd.to_datetime(date) - timedelta(days=stale_days)"
   ]
  },
  {
   "cell_type": "markdown",
   "metadata": {
    "papermill": {
     "duration": 0.027563,
     "end_time": "2019-03-22T17:28:40.294062",
     "exception": false,
     "start_time": "2019-03-22T17:28:40.266499",
     "status": "completed"
    },
    "tags": []
   },
   "source": [
    "# Opened and Closed Issues and PRs\n",
    "\n",
    "This report shows opened and closed issues / PRs over the last 30 days, with a\n",
    "particular focus on items that haven't had a lot of discussion, or that have\n",
    "been opened by people who aren't team-members. The goal of this page is to make\n",
    "it easier to spot places where some input would be appreciated!"
   ]
  },
  {
   "cell_type": "markdown",
   "metadata": {
    "papermill": {
     "duration": 0.032156,
     "end_time": "2019-03-22T17:28:40.376177",
     "exception": false,
     "start_time": "2019-03-22T17:28:40.344021",
     "status": "completed"
    },
    "tags": []
   },
   "source": [
    "# Imports"
   ]
  },
  {
   "cell_type": "code",
   "execution_count": 5,
   "metadata": {
    "jupyter": {
     "source_hidden": true
    },
    "papermill": {
     "duration": 0.399826,
     "end_time": "2019-03-22T17:28:40.804571",
     "exception": false,
     "start_time": "2019-03-22T17:28:40.404745",
     "status": "completed"
    },
    "tags": []
   },
   "outputs": [],
   "source": [
    "import pandas as pd\n",
    "from subprocess import run, PIPE\n",
    "from watchtower import issues_\n",
    "from glob import glob\n",
    "import os.path as op\n",
    "import shutil as sh\n",
    "import sys\n",
    "sys.path.append('../../scripts/')"
   ]
  },
  {
   "cell_type": "markdown",
   "metadata": {
    "papermill": {
     "duration": 0.03572,
     "end_time": "2019-03-22T17:28:40.873260",
     "exception": false,
     "start_time": "2019-03-22T17:28:40.837540",
     "status": "completed"
    },
    "tags": []
   },
   "source": [
    "## styling functions"
   ]
  },
  {
   "cell_type": "code",
   "execution_count": 6,
   "metadata": {
    "jupyter": {
     "source_hidden": true
    },
    "papermill": {
     "duration": 0.052741,
     "end_time": "2019-03-22T17:28:40.961082",
     "exception": false,
     "start_time": "2019-03-22T17:28:40.908341",
     "status": "completed"
    },
    "tags": []
   },
   "outputs": [],
   "source": [
    "def highlight_rows(val):\n",
    "    \"\"\"Highlights cells pertaining to non-members and w/ no comments\"\"\"\n",
    "    disp = ''\n",
    "    if val == 0 or val == \"NONE\":\n",
    "        disp += 'background-color: #f7b7b7'\n",
    "    elif val == \"FIRST_TIME_CONTRIBUTOR\":\n",
    "        disp += 'background-color: red'\n",
    "    return disp\n",
    "\n",
    "def make_clickable(val):\n",
    "    # target _blank to open new window\n",
    "    return '<a target=\"_blank\" href=\"{}\">{}</a>'.format(val, val)\n",
    "\n",
    "def print_html(msg):\n",
    "    display(HTML('<h2 style=\"padding-left: 1em;\">{}</h2>'.format(msg)))\n",
    "    \n",
    "pd.options.display.max_colwidth = 200"
   ]
  },
  {
   "cell_type": "markdown",
   "metadata": {
    "papermill": {
     "duration": 0.033243,
     "end_time": "2019-03-22T17:28:41.033246",
     "exception": false,
     "start_time": "2019-03-22T17:28:41.000003",
     "status": "completed"
    },
    "tags": []
   },
   "source": [
    "## Load data"
   ]
  },
  {
   "cell_type": "code",
   "execution_count": 7,
   "metadata": {
    "jupyter": {
     "source_hidden": true
    },
    "papermill": {
     "duration": 0.140688,
     "end_time": "2019-03-22T17:28:41.208789",
     "exception": false,
     "start_time": "2019-03-22T17:28:41.068101",
     "status": "completed"
    },
    "tags": []
   },
   "outputs": [],
   "source": [
    "# Issues\n",
    "issues = issues_.load_issues(org, repo)\n",
    "issues['user'] = issues['user'].map(lambda a: a['login'])"
   ]
  },
  {
   "cell_type": "markdown",
   "metadata": {
    "papermill": {
     "duration": 0.035589,
     "end_time": "2019-03-22T17:28:41.278946",
     "exception": false,
     "start_time": "2019-03-22T17:28:41.243357",
     "status": "completed"
    },
    "tags": []
   },
   "source": [
    "# New activity"
   ]
  },
  {
   "cell_type": "markdown",
   "metadata": {
    "papermill": {
     "duration": 0.030262,
     "end_time": "2019-03-22T17:28:41.340027",
     "exception": false,
     "start_time": "2019-03-22T17:28:41.309765",
     "status": "completed"
    },
    "tags": []
   },
   "source": [
    "## Opened issues\n",
    "\n",
    "without responses in red"
   ]
  },
  {
   "cell_type": "code",
   "execution_count": 8,
   "metadata": {
    "jupyter": {
     "source_hidden": true
    },
    "papermill": {
     "duration": 0.139076,
     "end_time": "2019-03-22T17:28:41.509361",
     "exception": false,
     "start_time": "2019-03-22T17:28:41.370285",
     "status": "completed"
    },
    "tags": []
   },
   "outputs": [
    {
     "name": "stderr",
     "output_type": "stream",
     "text": [
      "/home/choldgraf/anaconda/envs/dev/lib/python3.6/site-packages/ipykernel_launcher.py:3: SettingWithCopyWarning: \n",
      "A value is trying to be set on a copy of a slice from a DataFrame.\n",
      "Try using .loc[row_indexer,col_indexer] = value instead\n",
      "\n",
      "See the caveats in the documentation: http://pandas.pydata.org/pandas-docs/stable/indexing.html#indexing-view-versus-copy\n",
      "  This is separate from the ipykernel package so we can avoid doing imports until\n"
     ]
    }
   ],
   "source": [
    "opened = issues.query('created_at > @date')\n",
    "opened_issues = opened[opened['pull_request'].isna()]\n",
    "opened_issues['closed'] = ~pd.isnull(opened_issues['closed_at'])"
   ]
  },
  {
   "cell_type": "code",
   "execution_count": 9,
   "metadata": {
    "jupyter": {
     "source_hidden": true
    },
    "papermill": {
     "duration": 0.059898,
     "end_time": "2019-03-22T17:28:41.603543",
     "exception": false,
     "start_time": "2019-03-22T17:28:41.543645",
     "status": "completed"
    },
    "tags": []
   },
   "outputs": [
    {
     "data": {
      "text/html": [
       "<h2 style=\"padding-left: 1em;\">Opened issues: 8</h2>"
      ],
      "text/plain": [
       "<IPython.core.display.HTML object>"
      ]
     },
     "metadata": {},
     "output_type": "display_data"
    }
   ],
   "source": [
    "print_html('Opened issues: {}'.format(len(opened_issues)))"
   ]
  },
  {
   "cell_type": "code",
   "execution_count": 10,
   "metadata": {
    "jupyter": {
     "source_hidden": true
    },
    "papermill": {
     "duration": 1.280323,
     "end_time": "2019-03-22T17:28:42.918519",
     "exception": false,
     "start_time": "2019-03-22T17:28:41.638196",
     "status": "completed"
    },
    "tags": []
   },
   "outputs": [
    {
     "data": {
      "text/html": [
       "<style  type=\"text/css\" >\n",
       "    #T_f0868450_4cc7_11e9_aafa_54ee75e0f62drow0_col2 {\n",
       "            background-color:  #f7b7b7;\n",
       "        }    #T_f0868450_4cc7_11e9_aafa_54ee75e0f62drow0_col3 {\n",
       "            background-color:  #f7b7b7;\n",
       "        }    #T_f0868450_4cc7_11e9_aafa_54ee75e0f62drow1_col2 {\n",
       "            background-color:  #f7b7b7;\n",
       "        }    #T_f0868450_4cc7_11e9_aafa_54ee75e0f62drow1_col3 {\n",
       "            background-color:  #f7b7b7;\n",
       "        }    #T_f0868450_4cc7_11e9_aafa_54ee75e0f62drow2_col1 {\n",
       "            background-color:  #f7b7b7;\n",
       "        }    #T_f0868450_4cc7_11e9_aafa_54ee75e0f62drow2_col3 {\n",
       "            background-color:  #f7b7b7;\n",
       "        }    #T_f0868450_4cc7_11e9_aafa_54ee75e0f62drow3_col3 {\n",
       "            background-color:  #f7b7b7;\n",
       "        }    #T_f0868450_4cc7_11e9_aafa_54ee75e0f62drow4_col3 {\n",
       "            background-color:  #f7b7b7;\n",
       "        }    #T_f0868450_4cc7_11e9_aafa_54ee75e0f62drow5_col1 {\n",
       "            background-color:  #f7b7b7;\n",
       "        }    #T_f0868450_4cc7_11e9_aafa_54ee75e0f62drow6_col1 {\n",
       "            background-color:  #f7b7b7;\n",
       "        }    #T_f0868450_4cc7_11e9_aafa_54ee75e0f62drow7_col1 {\n",
       "            background-color:  #f7b7b7;\n",
       "        }</style><table id=\"T_f0868450_4cc7_11e9_aafa_54ee75e0f62d\" ><thead>    <tr>        <th class=\"col_heading level0 col0\" >user</th>        <th class=\"col_heading level0 col1\" >author_association</th>        <th class=\"col_heading level0 col2\" >comments</th>        <th class=\"col_heading level0 col3\" >closed</th>        <th class=\"col_heading level0 col4\" >html_url</th>    </tr></thead><tbody>\n",
       "                <tr>\n",
       "                                <td id=\"T_f0868450_4cc7_11e9_aafa_54ee75e0f62drow0_col0\" class=\"data row0 col0\" >minrk</td>\n",
       "                        <td id=\"T_f0868450_4cc7_11e9_aafa_54ee75e0f62drow0_col1\" class=\"data row0 col1\" >MEMBER</td>\n",
       "                        <td id=\"T_f0868450_4cc7_11e9_aafa_54ee75e0f62drow0_col2\" class=\"data row0 col2\" >0</td>\n",
       "                        <td id=\"T_f0868450_4cc7_11e9_aafa_54ee75e0f62drow0_col3\" class=\"data row0 col3\" >False</td>\n",
       "                        <td id=\"T_f0868450_4cc7_11e9_aafa_54ee75e0f62drow0_col4\" class=\"data row0 col4\" ><a target=\"_blank\" href=\"https://github.com/jupyterhub/mybinder.org-deploy/issues/901\">https://github.com/jupyterhub/mybinder.org-deploy/issues/901</a></td>\n",
       "            </tr>\n",
       "            <tr>\n",
       "                                <td id=\"T_f0868450_4cc7_11e9_aafa_54ee75e0f62drow1_col0\" class=\"data row1 col0\" >minrk</td>\n",
       "                        <td id=\"T_f0868450_4cc7_11e9_aafa_54ee75e0f62drow1_col1\" class=\"data row1 col1\" >MEMBER</td>\n",
       "                        <td id=\"T_f0868450_4cc7_11e9_aafa_54ee75e0f62drow1_col2\" class=\"data row1 col2\" >0</td>\n",
       "                        <td id=\"T_f0868450_4cc7_11e9_aafa_54ee75e0f62drow1_col3\" class=\"data row1 col3\" >False</td>\n",
       "                        <td id=\"T_f0868450_4cc7_11e9_aafa_54ee75e0f62drow1_col4\" class=\"data row1 col4\" ><a target=\"_blank\" href=\"https://github.com/jupyterhub/mybinder.org-deploy/issues/900\">https://github.com/jupyterhub/mybinder.org-deploy/issues/900</a></td>\n",
       "            </tr>\n",
       "            <tr>\n",
       "                                <td id=\"T_f0868450_4cc7_11e9_aafa_54ee75e0f62drow2_col0\" class=\"data row2 col0\" >jhamman</td>\n",
       "                        <td id=\"T_f0868450_4cc7_11e9_aafa_54ee75e0f62drow2_col1\" class=\"data row2 col1\" >NONE</td>\n",
       "                        <td id=\"T_f0868450_4cc7_11e9_aafa_54ee75e0f62drow2_col2\" class=\"data row2 col2\" >2</td>\n",
       "                        <td id=\"T_f0868450_4cc7_11e9_aafa_54ee75e0f62drow2_col3\" class=\"data row2 col3\" >False</td>\n",
       "                        <td id=\"T_f0868450_4cc7_11e9_aafa_54ee75e0f62drow2_col4\" class=\"data row2 col4\" ><a target=\"_blank\" href=\"https://github.com/jupyterhub/mybinder.org-deploy/issues/911\">https://github.com/jupyterhub/mybinder.org-deploy/issues/911</a></td>\n",
       "            </tr>\n",
       "            <tr>\n",
       "                                <td id=\"T_f0868450_4cc7_11e9_aafa_54ee75e0f62drow3_col0\" class=\"data row3 col0\" >betatim</td>\n",
       "                        <td id=\"T_f0868450_4cc7_11e9_aafa_54ee75e0f62drow3_col1\" class=\"data row3 col1\" >MEMBER</td>\n",
       "                        <td id=\"T_f0868450_4cc7_11e9_aafa_54ee75e0f62drow3_col2\" class=\"data row3 col2\" >4</td>\n",
       "                        <td id=\"T_f0868450_4cc7_11e9_aafa_54ee75e0f62drow3_col3\" class=\"data row3 col3\" >False</td>\n",
       "                        <td id=\"T_f0868450_4cc7_11e9_aafa_54ee75e0f62drow3_col4\" class=\"data row3 col4\" ><a target=\"_blank\" href=\"https://github.com/jupyterhub/mybinder.org-deploy/issues/909\">https://github.com/jupyterhub/mybinder.org-deploy/issues/909</a></td>\n",
       "            </tr>\n",
       "            <tr>\n",
       "                                <td id=\"T_f0868450_4cc7_11e9_aafa_54ee75e0f62drow4_col0\" class=\"data row4 col0\" >yuvipanda</td>\n",
       "                        <td id=\"T_f0868450_4cc7_11e9_aafa_54ee75e0f62drow4_col1\" class=\"data row4 col1\" >MEMBER</td>\n",
       "                        <td id=\"T_f0868450_4cc7_11e9_aafa_54ee75e0f62drow4_col2\" class=\"data row4 col2\" >5</td>\n",
       "                        <td id=\"T_f0868450_4cc7_11e9_aafa_54ee75e0f62drow4_col3\" class=\"data row4 col3\" >False</td>\n",
       "                        <td id=\"T_f0868450_4cc7_11e9_aafa_54ee75e0f62drow4_col4\" class=\"data row4 col4\" ><a target=\"_blank\" href=\"https://github.com/jupyterhub/mybinder.org-deploy/issues/903\">https://github.com/jupyterhub/mybinder.org-deploy/issues/903</a></td>\n",
       "            </tr>\n",
       "            <tr>\n",
       "                                <td id=\"T_f0868450_4cc7_11e9_aafa_54ee75e0f62drow5_col0\" class=\"data row5 col0\" >Athanasiamo</td>\n",
       "                        <td id=\"T_f0868450_4cc7_11e9_aafa_54ee75e0f62drow5_col1\" class=\"data row5 col1\" >NONE</td>\n",
       "                        <td id=\"T_f0868450_4cc7_11e9_aafa_54ee75e0f62drow5_col2\" class=\"data row5 col2\" >4</td>\n",
       "                        <td id=\"T_f0868450_4cc7_11e9_aafa_54ee75e0f62drow5_col3\" class=\"data row5 col3\" >True</td>\n",
       "                        <td id=\"T_f0868450_4cc7_11e9_aafa_54ee75e0f62drow5_col4\" class=\"data row5 col4\" ><a target=\"_blank\" href=\"https://github.com/jupyterhub/mybinder.org-deploy/issues/907\">https://github.com/jupyterhub/mybinder.org-deploy/issues/907</a></td>\n",
       "            </tr>\n",
       "            <tr>\n",
       "                                <td id=\"T_f0868450_4cc7_11e9_aafa_54ee75e0f62drow6_col0\" class=\"data row6 col0\" >jason2249</td>\n",
       "                        <td id=\"T_f0868450_4cc7_11e9_aafa_54ee75e0f62drow6_col1\" class=\"data row6 col1\" >NONE</td>\n",
       "                        <td id=\"T_f0868450_4cc7_11e9_aafa_54ee75e0f62drow6_col2\" class=\"data row6 col2\" >7</td>\n",
       "                        <td id=\"T_f0868450_4cc7_11e9_aafa_54ee75e0f62drow6_col3\" class=\"data row6 col3\" >True</td>\n",
       "                        <td id=\"T_f0868450_4cc7_11e9_aafa_54ee75e0f62drow6_col4\" class=\"data row6 col4\" ><a target=\"_blank\" href=\"https://github.com/jupyterhub/mybinder.org-deploy/issues/905\">https://github.com/jupyterhub/mybinder.org-deploy/issues/905</a></td>\n",
       "            </tr>\n",
       "            <tr>\n",
       "                                <td id=\"T_f0868450_4cc7_11e9_aafa_54ee75e0f62drow7_col0\" class=\"data row7 col0\" >noah7545</td>\n",
       "                        <td id=\"T_f0868450_4cc7_11e9_aafa_54ee75e0f62drow7_col1\" class=\"data row7 col1\" >NONE</td>\n",
       "                        <td id=\"T_f0868450_4cc7_11e9_aafa_54ee75e0f62drow7_col2\" class=\"data row7 col2\" >10</td>\n",
       "                        <td id=\"T_f0868450_4cc7_11e9_aafa_54ee75e0f62drow7_col3\" class=\"data row7 col3\" >True</td>\n",
       "                        <td id=\"T_f0868450_4cc7_11e9_aafa_54ee75e0f62drow7_col4\" class=\"data row7 col4\" ><a target=\"_blank\" href=\"https://github.com/jupyterhub/mybinder.org-deploy/issues/906\">https://github.com/jupyterhub/mybinder.org-deploy/issues/906</a></td>\n",
       "            </tr>\n",
       "    </tbody></table>"
      ],
      "text/plain": [
       "<pandas.io.formats.style.Styler at 0x7fcee81588d0>"
      ]
     },
     "execution_count": 10,
     "metadata": {},
     "output_type": "execute_result"
    }
   ],
   "source": [
    "opened_issues[['user', 'author_association', 'comments', 'closed', 'html_url']]\\\n",
    "    .sort_values(['closed', 'comments']).style.applymap(highlight_rows).format({'html_url': make_clickable}).hide_index()"
   ]
  },
  {
   "cell_type": "markdown",
   "metadata": {
    "papermill": {
     "duration": 0.029299,
     "end_time": "2019-03-22T17:28:42.973191",
     "exception": false,
     "start_time": "2019-03-22T17:28:42.943892",
     "status": "completed"
    },
    "tags": []
   },
   "source": [
    "## Closed issues\n"
   ]
  },
  {
   "cell_type": "code",
   "execution_count": 11,
   "metadata": {
    "jupyter": {
     "source_hidden": true
    },
    "papermill": {
     "duration": 0.046978,
     "end_time": "2019-03-22T17:28:43.048199",
     "exception": false,
     "start_time": "2019-03-22T17:28:43.001221",
     "status": "completed"
    },
    "tags": []
   },
   "outputs": [],
   "source": [
    "closed = issues.query('closed_at > @date')\n",
    "closed_issues = closed[closed['pull_request'].isna()]"
   ]
  },
  {
   "cell_type": "code",
   "execution_count": 12,
   "metadata": {
    "jupyter": {
     "source_hidden": true
    },
    "papermill": {
     "duration": 0.099015,
     "end_time": "2019-03-22T17:28:43.201805",
     "exception": false,
     "start_time": "2019-03-22T17:28:43.102790",
     "status": "completed"
    },
    "tags": []
   },
   "outputs": [
    {
     "data": {
      "text/html": [
       "<style  type=\"text/css\" >\n",
       "    #T_f0b1fb76_4cc7_11e9_aafa_54ee75e0f62drow1_col1 {\n",
       "            background-color:  #f7b7b7;\n",
       "        }    #T_f0b1fb76_4cc7_11e9_aafa_54ee75e0f62drow2_col1 {\n",
       "            background-color:  #f7b7b7;\n",
       "        }    #T_f0b1fb76_4cc7_11e9_aafa_54ee75e0f62drow3_col1 {\n",
       "            background-color:  #f7b7b7;\n",
       "        }</style><table id=\"T_f0b1fb76_4cc7_11e9_aafa_54ee75e0f62d\" ><thead>    <tr>        <th class=\"col_heading level0 col0\" >user</th>        <th class=\"col_heading level0 col1\" >author_association</th>        <th class=\"col_heading level0 col2\" >comments</th>        <th class=\"col_heading level0 col3\" >html_url</th>    </tr></thead><tbody>\n",
       "                <tr>\n",
       "                                <td id=\"T_f0b1fb76_4cc7_11e9_aafa_54ee75e0f62drow0_col0\" class=\"data row0 col0\" >minrk</td>\n",
       "                        <td id=\"T_f0b1fb76_4cc7_11e9_aafa_54ee75e0f62drow0_col1\" class=\"data row0 col1\" >MEMBER</td>\n",
       "                        <td id=\"T_f0b1fb76_4cc7_11e9_aafa_54ee75e0f62drow0_col2\" class=\"data row0 col2\" >3</td>\n",
       "                        <td id=\"T_f0b1fb76_4cc7_11e9_aafa_54ee75e0f62drow0_col3\" class=\"data row0 col3\" ><a target=\"_blank\" href=\"https://github.com/jupyterhub/mybinder.org-deploy/issues/885\">https://github.com/jupyterhub/mybinder.org-deploy/issues/885</a></td>\n",
       "            </tr>\n",
       "            <tr>\n",
       "                                <td id=\"T_f0b1fb76_4cc7_11e9_aafa_54ee75e0f62drow1_col0\" class=\"data row1 col0\" >Athanasiamo</td>\n",
       "                        <td id=\"T_f0b1fb76_4cc7_11e9_aafa_54ee75e0f62drow1_col1\" class=\"data row1 col1\" >NONE</td>\n",
       "                        <td id=\"T_f0b1fb76_4cc7_11e9_aafa_54ee75e0f62drow1_col2\" class=\"data row1 col2\" >4</td>\n",
       "                        <td id=\"T_f0b1fb76_4cc7_11e9_aafa_54ee75e0f62drow1_col3\" class=\"data row1 col3\" ><a target=\"_blank\" href=\"https://github.com/jupyterhub/mybinder.org-deploy/issues/907\">https://github.com/jupyterhub/mybinder.org-deploy/issues/907</a></td>\n",
       "            </tr>\n",
       "            <tr>\n",
       "                                <td id=\"T_f0b1fb76_4cc7_11e9_aafa_54ee75e0f62drow2_col0\" class=\"data row2 col0\" >jason2249</td>\n",
       "                        <td id=\"T_f0b1fb76_4cc7_11e9_aafa_54ee75e0f62drow2_col1\" class=\"data row2 col1\" >NONE</td>\n",
       "                        <td id=\"T_f0b1fb76_4cc7_11e9_aafa_54ee75e0f62drow2_col2\" class=\"data row2 col2\" >7</td>\n",
       "                        <td id=\"T_f0b1fb76_4cc7_11e9_aafa_54ee75e0f62drow2_col3\" class=\"data row2 col3\" ><a target=\"_blank\" href=\"https://github.com/jupyterhub/mybinder.org-deploy/issues/905\">https://github.com/jupyterhub/mybinder.org-deploy/issues/905</a></td>\n",
       "            </tr>\n",
       "            <tr>\n",
       "                                <td id=\"T_f0b1fb76_4cc7_11e9_aafa_54ee75e0f62drow3_col0\" class=\"data row3 col0\" >noah7545</td>\n",
       "                        <td id=\"T_f0b1fb76_4cc7_11e9_aafa_54ee75e0f62drow3_col1\" class=\"data row3 col1\" >NONE</td>\n",
       "                        <td id=\"T_f0b1fb76_4cc7_11e9_aafa_54ee75e0f62drow3_col2\" class=\"data row3 col2\" >10</td>\n",
       "                        <td id=\"T_f0b1fb76_4cc7_11e9_aafa_54ee75e0f62drow3_col3\" class=\"data row3 col3\" ><a target=\"_blank\" href=\"https://github.com/jupyterhub/mybinder.org-deploy/issues/906\">https://github.com/jupyterhub/mybinder.org-deploy/issues/906</a></td>\n",
       "            </tr>\n",
       "    </tbody></table>"
      ],
      "text/plain": [
       "<pandas.io.formats.style.Styler at 0x7fcee3100cc0>"
      ]
     },
     "execution_count": 12,
     "metadata": {},
     "output_type": "execute_result"
    }
   ],
   "source": [
    "closed_issues[['user', 'author_association', 'comments', 'html_url']]\\\n",
    "    .sort_values(['comments']).style.applymap(highlight_rows).format({'html_url': make_clickable}).hide_index()"
   ]
  },
  {
   "cell_type": "code",
   "execution_count": 13,
   "metadata": {
    "jupyter": {
     "source_hidden": true
    },
    "papermill": {
     "duration": 0.100449,
     "end_time": "2019-03-22T17:28:43.359710",
     "exception": false,
     "start_time": "2019-03-22T17:28:43.259261",
     "status": "completed"
    },
    "tags": []
   },
   "outputs": [
    {
     "data": {
      "text/html": [
       "<h2 style=\"padding-left: 1em;\">Closed issues: 4</h2>"
      ],
      "text/plain": [
       "<IPython.core.display.HTML object>"
      ]
     },
     "metadata": {},
     "output_type": "display_data"
    }
   ],
   "source": [
    "print_html('Closed issues: {}'.format(len(closed_issues)))"
   ]
  },
  {
   "cell_type": "markdown",
   "metadata": {
    "papermill": {
     "duration": 0.058691,
     "end_time": "2019-03-22T17:28:43.498629",
     "exception": false,
     "start_time": "2019-03-22T17:28:43.439938",
     "status": "completed"
    },
    "tags": []
   },
   "source": [
    "## Opened PRs\n",
    "\n",
    "without responses in red"
   ]
  },
  {
   "cell_type": "code",
   "execution_count": 14,
   "metadata": {
    "jupyter": {
     "source_hidden": true
    },
    "papermill": {
     "duration": 0.108221,
     "end_time": "2019-03-22T17:28:43.648379",
     "exception": false,
     "start_time": "2019-03-22T17:28:43.540158",
     "status": "completed"
    },
    "tags": []
   },
   "outputs": [
    {
     "name": "stderr",
     "output_type": "stream",
     "text": [
      "/home/choldgraf/anaconda/envs/dev/lib/python3.6/site-packages/ipykernel_launcher.py:2: SettingWithCopyWarning: \n",
      "A value is trying to be set on a copy of a slice from a DataFrame.\n",
      "Try using .loc[row_indexer,col_indexer] = value instead\n",
      "\n",
      "See the caveats in the documentation: http://pandas.pydata.org/pandas-docs/stable/indexing.html#indexing-view-versus-copy\n",
      "  \n"
     ]
    }
   ],
   "source": [
    "opened_prs = opened[~opened['pull_request'].isna()]\n",
    "opened_prs['closed'] = ~pd.isnull(opened_prs['closed_at'])\n",
    "\n",
    "closed_prs = closed[~closed['pull_request'].isna()]"
   ]
  },
  {
   "cell_type": "code",
   "execution_count": 15,
   "metadata": {
    "jupyter": {
     "source_hidden": true
    },
    "papermill": {
     "duration": 0.056828,
     "end_time": "2019-03-22T17:28:43.748334",
     "exception": false,
     "start_time": "2019-03-22T17:28:43.691506",
     "status": "completed"
    },
    "tags": []
   },
   "outputs": [
    {
     "data": {
      "text/html": [
       "<h2 style=\"padding-left: 1em;\">Opened PRs: 5</h2>"
      ],
      "text/plain": [
       "<IPython.core.display.HTML object>"
      ]
     },
     "metadata": {},
     "output_type": "display_data"
    }
   ],
   "source": [
    "print_html('Opened PRs: {}'.format(len(opened_prs)))"
   ]
  },
  {
   "cell_type": "code",
   "execution_count": 16,
   "metadata": {
    "jupyter": {
     "source_hidden": true
    },
    "papermill": {
     "duration": 0.090536,
     "end_time": "2019-03-22T17:28:43.899360",
     "exception": false,
     "start_time": "2019-03-22T17:28:43.808824",
     "status": "completed"
    },
    "tags": []
   },
   "outputs": [
    {
     "data": {
      "text/html": [
       "<style  type=\"text/css\" >\n",
       "    #T_f11c1d8a_4cc7_11e9_aafa_54ee75e0f62drow0_col2 {\n",
       "            background-color:  #f7b7b7;\n",
       "        }    #T_f11c1d8a_4cc7_11e9_aafa_54ee75e0f62drow1_col2 {\n",
       "            background-color:  #f7b7b7;\n",
       "        }</style><table id=\"T_f11c1d8a_4cc7_11e9_aafa_54ee75e0f62d\" ><thead>    <tr>        <th class=\"col_heading level0 col0\" >user</th>        <th class=\"col_heading level0 col1\" >author_association</th>        <th class=\"col_heading level0 col2\" >comments</th>        <th class=\"col_heading level0 col3\" >closed</th>        <th class=\"col_heading level0 col4\" >html_url</th>    </tr></thead><tbody>\n",
       "                <tr>\n",
       "                                <td id=\"T_f11c1d8a_4cc7_11e9_aafa_54ee75e0f62drow0_col0\" class=\"data row0 col0\" >betatim</td>\n",
       "                        <td id=\"T_f11c1d8a_4cc7_11e9_aafa_54ee75e0f62drow0_col1\" class=\"data row0 col1\" >MEMBER</td>\n",
       "                        <td id=\"T_f11c1d8a_4cc7_11e9_aafa_54ee75e0f62drow0_col2\" class=\"data row0 col2\" >0</td>\n",
       "                        <td id=\"T_f11c1d8a_4cc7_11e9_aafa_54ee75e0f62drow0_col3\" class=\"data row0 col3\" >True</td>\n",
       "                        <td id=\"T_f11c1d8a_4cc7_11e9_aafa_54ee75e0f62drow0_col4\" class=\"data row0 col4\" ><a target=\"_blank\" href=\"https://github.com/jupyterhub/mybinder.org-deploy/pull/910\">https://github.com/jupyterhub/mybinder.org-deploy/pull/910</a></td>\n",
       "            </tr>\n",
       "            <tr>\n",
       "                                <td id=\"T_f11c1d8a_4cc7_11e9_aafa_54ee75e0f62drow1_col0\" class=\"data row1 col0\" >minrk</td>\n",
       "                        <td id=\"T_f11c1d8a_4cc7_11e9_aafa_54ee75e0f62drow1_col1\" class=\"data row1 col1\" >MEMBER</td>\n",
       "                        <td id=\"T_f11c1d8a_4cc7_11e9_aafa_54ee75e0f62drow1_col2\" class=\"data row1 col2\" >0</td>\n",
       "                        <td id=\"T_f11c1d8a_4cc7_11e9_aafa_54ee75e0f62drow1_col3\" class=\"data row1 col3\" >True</td>\n",
       "                        <td id=\"T_f11c1d8a_4cc7_11e9_aafa_54ee75e0f62drow1_col4\" class=\"data row1 col4\" ><a target=\"_blank\" href=\"https://github.com/jupyterhub/mybinder.org-deploy/pull/899\">https://github.com/jupyterhub/mybinder.org-deploy/pull/899</a></td>\n",
       "            </tr>\n",
       "            <tr>\n",
       "                                <td id=\"T_f11c1d8a_4cc7_11e9_aafa_54ee75e0f62drow2_col0\" class=\"data row2 col0\" >betatim</td>\n",
       "                        <td id=\"T_f11c1d8a_4cc7_11e9_aafa_54ee75e0f62drow2_col1\" class=\"data row2 col1\" >MEMBER</td>\n",
       "                        <td id=\"T_f11c1d8a_4cc7_11e9_aafa_54ee75e0f62drow2_col2\" class=\"data row2 col2\" >2</td>\n",
       "                        <td id=\"T_f11c1d8a_4cc7_11e9_aafa_54ee75e0f62drow2_col3\" class=\"data row2 col3\" >True</td>\n",
       "                        <td id=\"T_f11c1d8a_4cc7_11e9_aafa_54ee75e0f62drow2_col4\" class=\"data row2 col4\" ><a target=\"_blank\" href=\"https://github.com/jupyterhub/mybinder.org-deploy/pull/904\">https://github.com/jupyterhub/mybinder.org-deploy/pull/904</a></td>\n",
       "            </tr>\n",
       "            <tr>\n",
       "                                <td id=\"T_f11c1d8a_4cc7_11e9_aafa_54ee75e0f62drow3_col0\" class=\"data row3 col0\" >minrk</td>\n",
       "                        <td id=\"T_f11c1d8a_4cc7_11e9_aafa_54ee75e0f62drow3_col1\" class=\"data row3 col1\" >MEMBER</td>\n",
       "                        <td id=\"T_f11c1d8a_4cc7_11e9_aafa_54ee75e0f62drow3_col2\" class=\"data row3 col2\" >2</td>\n",
       "                        <td id=\"T_f11c1d8a_4cc7_11e9_aafa_54ee75e0f62drow3_col3\" class=\"data row3 col3\" >True</td>\n",
       "                        <td id=\"T_f11c1d8a_4cc7_11e9_aafa_54ee75e0f62drow3_col4\" class=\"data row3 col4\" ><a target=\"_blank\" href=\"https://github.com/jupyterhub/mybinder.org-deploy/pull/902\">https://github.com/jupyterhub/mybinder.org-deploy/pull/902</a></td>\n",
       "            </tr>\n",
       "            <tr>\n",
       "                                <td id=\"T_f11c1d8a_4cc7_11e9_aafa_54ee75e0f62drow4_col0\" class=\"data row4 col0\" >betatim</td>\n",
       "                        <td id=\"T_f11c1d8a_4cc7_11e9_aafa_54ee75e0f62drow4_col1\" class=\"data row4 col1\" >MEMBER</td>\n",
       "                        <td id=\"T_f11c1d8a_4cc7_11e9_aafa_54ee75e0f62drow4_col2\" class=\"data row4 col2\" >3</td>\n",
       "                        <td id=\"T_f11c1d8a_4cc7_11e9_aafa_54ee75e0f62drow4_col3\" class=\"data row4 col3\" >True</td>\n",
       "                        <td id=\"T_f11c1d8a_4cc7_11e9_aafa_54ee75e0f62drow4_col4\" class=\"data row4 col4\" ><a target=\"_blank\" href=\"https://github.com/jupyterhub/mybinder.org-deploy/pull/908\">https://github.com/jupyterhub/mybinder.org-deploy/pull/908</a></td>\n",
       "            </tr>\n",
       "    </tbody></table>"
      ],
      "text/plain": [
       "<pandas.io.formats.style.Styler at 0x7fcee31003c8>"
      ]
     },
     "execution_count": 16,
     "metadata": {},
     "output_type": "execute_result"
    }
   ],
   "source": [
    "opened_prs[['user', 'author_association', 'comments', 'closed', 'html_url']]\\\n",
    "    .sort_values(['closed', 'comments']).style.applymap(highlight_rows).format({'html_url': make_clickable}).hide_index()"
   ]
  },
  {
   "cell_type": "code",
   "execution_count": 17,
   "metadata": {
    "jupyter": {
     "source_hidden": true
    },
    "papermill": {
     "duration": 0.069158,
     "end_time": "2019-03-22T17:28:44.004332",
     "exception": false,
     "start_time": "2019-03-22T17:28:43.935174",
     "status": "completed"
    },
    "tags": []
   },
   "outputs": [
    {
     "data": {
      "text/html": [
       "<h2 style=\"padding-left: 1em;\">Closed PRs: 5</h2>"
      ],
      "text/plain": [
       "<IPython.core.display.HTML object>"
      ]
     },
     "metadata": {},
     "output_type": "display_data"
    }
   ],
   "source": [
    "print_html('Closed PRs: {}'.format(len(closed_prs)))"
   ]
  },
  {
   "cell_type": "code",
   "execution_count": 18,
   "metadata": {
    "jupyter": {
     "source_hidden": true
    },
    "papermill": {
     "duration": 0.075881,
     "end_time": "2019-03-22T17:28:44.125146",
     "exception": false,
     "start_time": "2019-03-22T17:28:44.049265",
     "status": "completed"
    },
    "tags": []
   },
   "outputs": [
    {
     "data": {
      "text/html": [
       "<style  type=\"text/css\" >\n",
       "    #T_f13f47ba_4cc7_11e9_aafa_54ee75e0f62drow0_col2 {\n",
       "            background-color:  #f7b7b7;\n",
       "        }    #T_f13f47ba_4cc7_11e9_aafa_54ee75e0f62drow1_col2 {\n",
       "            background-color:  #f7b7b7;\n",
       "        }</style><table id=\"T_f13f47ba_4cc7_11e9_aafa_54ee75e0f62d\" ><thead>    <tr>        <th class=\"col_heading level0 col0\" >user</th>        <th class=\"col_heading level0 col1\" >author_association</th>        <th class=\"col_heading level0 col2\" >comments</th>        <th class=\"col_heading level0 col3\" >html_url</th>    </tr></thead><tbody>\n",
       "                <tr>\n",
       "                                <td id=\"T_f13f47ba_4cc7_11e9_aafa_54ee75e0f62drow0_col0\" class=\"data row0 col0\" >betatim</td>\n",
       "                        <td id=\"T_f13f47ba_4cc7_11e9_aafa_54ee75e0f62drow0_col1\" class=\"data row0 col1\" >MEMBER</td>\n",
       "                        <td id=\"T_f13f47ba_4cc7_11e9_aafa_54ee75e0f62drow0_col2\" class=\"data row0 col2\" >0</td>\n",
       "                        <td id=\"T_f13f47ba_4cc7_11e9_aafa_54ee75e0f62drow0_col3\" class=\"data row0 col3\" ><a target=\"_blank\" href=\"https://github.com/jupyterhub/mybinder.org-deploy/pull/910\">https://github.com/jupyterhub/mybinder.org-deploy/pull/910</a></td>\n",
       "            </tr>\n",
       "            <tr>\n",
       "                                <td id=\"T_f13f47ba_4cc7_11e9_aafa_54ee75e0f62drow1_col0\" class=\"data row1 col0\" >minrk</td>\n",
       "                        <td id=\"T_f13f47ba_4cc7_11e9_aafa_54ee75e0f62drow1_col1\" class=\"data row1 col1\" >MEMBER</td>\n",
       "                        <td id=\"T_f13f47ba_4cc7_11e9_aafa_54ee75e0f62drow1_col2\" class=\"data row1 col2\" >0</td>\n",
       "                        <td id=\"T_f13f47ba_4cc7_11e9_aafa_54ee75e0f62drow1_col3\" class=\"data row1 col3\" ><a target=\"_blank\" href=\"https://github.com/jupyterhub/mybinder.org-deploy/pull/899\">https://github.com/jupyterhub/mybinder.org-deploy/pull/899</a></td>\n",
       "            </tr>\n",
       "            <tr>\n",
       "                                <td id=\"T_f13f47ba_4cc7_11e9_aafa_54ee75e0f62drow2_col0\" class=\"data row2 col0\" >betatim</td>\n",
       "                        <td id=\"T_f13f47ba_4cc7_11e9_aafa_54ee75e0f62drow2_col1\" class=\"data row2 col1\" >MEMBER</td>\n",
       "                        <td id=\"T_f13f47ba_4cc7_11e9_aafa_54ee75e0f62drow2_col2\" class=\"data row2 col2\" >2</td>\n",
       "                        <td id=\"T_f13f47ba_4cc7_11e9_aafa_54ee75e0f62drow2_col3\" class=\"data row2 col3\" ><a target=\"_blank\" href=\"https://github.com/jupyterhub/mybinder.org-deploy/pull/904\">https://github.com/jupyterhub/mybinder.org-deploy/pull/904</a></td>\n",
       "            </tr>\n",
       "            <tr>\n",
       "                                <td id=\"T_f13f47ba_4cc7_11e9_aafa_54ee75e0f62drow3_col0\" class=\"data row3 col0\" >minrk</td>\n",
       "                        <td id=\"T_f13f47ba_4cc7_11e9_aafa_54ee75e0f62drow3_col1\" class=\"data row3 col1\" >MEMBER</td>\n",
       "                        <td id=\"T_f13f47ba_4cc7_11e9_aafa_54ee75e0f62drow3_col2\" class=\"data row3 col2\" >2</td>\n",
       "                        <td id=\"T_f13f47ba_4cc7_11e9_aafa_54ee75e0f62drow3_col3\" class=\"data row3 col3\" ><a target=\"_blank\" href=\"https://github.com/jupyterhub/mybinder.org-deploy/pull/902\">https://github.com/jupyterhub/mybinder.org-deploy/pull/902</a></td>\n",
       "            </tr>\n",
       "            <tr>\n",
       "                                <td id=\"T_f13f47ba_4cc7_11e9_aafa_54ee75e0f62drow4_col0\" class=\"data row4 col0\" >betatim</td>\n",
       "                        <td id=\"T_f13f47ba_4cc7_11e9_aafa_54ee75e0f62drow4_col1\" class=\"data row4 col1\" >MEMBER</td>\n",
       "                        <td id=\"T_f13f47ba_4cc7_11e9_aafa_54ee75e0f62drow4_col2\" class=\"data row4 col2\" >3</td>\n",
       "                        <td id=\"T_f13f47ba_4cc7_11e9_aafa_54ee75e0f62drow4_col3\" class=\"data row4 col3\" ><a target=\"_blank\" href=\"https://github.com/jupyterhub/mybinder.org-deploy/pull/908\">https://github.com/jupyterhub/mybinder.org-deploy/pull/908</a></td>\n",
       "            </tr>\n",
       "    </tbody></table>"
      ],
      "text/plain": [
       "<pandas.io.formats.style.Styler at 0x7fcee3100ba8>"
      ]
     },
     "execution_count": 18,
     "metadata": {},
     "output_type": "execute_result"
    }
   ],
   "source": [
    "closed_prs[['user', 'author_association', 'comments', 'html_url']]\\\n",
    "    .sort_values(['comments']).style.applymap(highlight_rows).format({'html_url': make_clickable}).hide_index()"
   ]
  },
  {
   "cell_type": "markdown",
   "metadata": {
    "papermill": {
     "duration": 0.042334,
     "end_time": "2019-03-22T17:28:44.207369",
     "exception": false,
     "start_time": "2019-03-22T17:28:44.165035",
     "status": "completed"
    },
    "tags": []
   },
   "source": [
    "# State of repo\n",
    "\n",
    "## Stale issues"
   ]
  },
  {
   "cell_type": "code",
   "execution_count": 19,
   "metadata": {
    "jupyter": {
     "source_hidden": true
    },
    "papermill": {
     "duration": 0.058231,
     "end_time": "2019-03-22T17:28:44.299505",
     "exception": false,
     "start_time": "2019-03-22T17:28:44.241274",
     "status": "completed"
    },
    "tags": []
   },
   "outputs": [],
   "source": [
    "stale_issues = issues.query('updated_at < @date_stale')\n",
    "stale_issues = stale_issues[stale_issues['closed_at'].isnull()]"
   ]
  },
  {
   "cell_type": "code",
   "execution_count": 20,
   "metadata": {
    "jupyter": {
     "source_hidden": true
    },
    "papermill": {
     "duration": 0.06595,
     "end_time": "2019-03-22T17:28:44.411350",
     "exception": false,
     "start_time": "2019-03-22T17:28:44.345400",
     "status": "completed"
    },
    "tags": []
   },
   "outputs": [
    {
     "data": {
      "text/html": [
       "<style  type=\"text/css\" >\n",
       "</style><table id=\"T_f16b00ee_4cc7_11e9_aafa_54ee75e0f62d\" ><thead>    <tr>        <th class=\"col_heading level0 col0\" >user</th>        <th class=\"col_heading level0 col1\" >author_association</th>        <th class=\"col_heading level0 col2\" >comments</th>        <th class=\"col_heading level0 col3\" >html_url</th>    </tr></thead><tbody>\n",
       "        </tbody></table>"
      ],
      "text/plain": [
       "<pandas.io.formats.style.Styler at 0x7fcee32156a0>"
      ]
     },
     "execution_count": 20,
     "metadata": {},
     "output_type": "execute_result"
    }
   ],
   "source": [
    "stale_issues[['user', 'author_association', 'comments', 'html_url']]\\\n",
    "    .sort_values(['comments']).style.applymap(highlight_rows).format({'html_url': make_clickable}).hide_index()"
   ]
  },
  {
   "cell_type": "code",
   "execution_count": null,
   "metadata": {
    "jupyter": {
     "source_hidden": true
    },
    "papermill": {
     "duration": 0.050835,
     "end_time": "2019-03-22T17:28:44.502137",
     "exception": false,
     "start_time": "2019-03-22T17:28:44.451302",
     "status": "completed"
    },
    "tags": []
   },
   "outputs": [],
   "source": []
  }
 ],
 "metadata": {
  "kernelspec": {
   "display_name": "Python 3",
   "language": "python",
   "name": "python3"
  },
  "language_info": {
   "codemirror_mode": {
    "name": "ipython",
    "version": 3
   },
   "file_extension": ".py",
   "mimetype": "text/x-python",
   "name": "python",
   "nbconvert_exporter": "python",
   "pygments_lexer": "ipython3",
   "version": "3.6.5"
  },
  "papermill": {
   "duration": 9.723068,
   "end_time": "2019-03-22T17:28:46.010039",
   "environment_variables": {},
   "exception": null,
   "input_path": "./templates/issues.ipynb",
   "output_path": "../reports/2019-02-20/jupyterhub/mybinder.org-deploy/issues.ipynb",
   "parameters": {
    "date": "2019-02-20",
    "org": "jupyterhub",
    "repo": "mybinder.org-deploy"
   },
   "start_time": "2019-03-22T17:28:36.286971",
   "version": "0.18.0"
  }
 },
 "nbformat": 4,
 "nbformat_minor": 2
}