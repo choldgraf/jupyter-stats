{
 "cells": [
  {
   "cell_type": "code",
   "execution_count": 1,
   "metadata": {
    "jupyter": {
     "source_hidden": true
    },
    "papermill": {
     "duration": 0.874359,
     "end_time": "2019-03-22T17:28:05.414141",
     "exception": false,
     "start_time": "2019-03-22T17:28:04.539782",
     "status": "completed"
    },
    "tags": []
   },
   "outputs": [],
   "source": [
    "import pandas as pd\n",
    "from datetime import timedelta\n",
    "from IPython.display import HTML, display"
   ]
  },
  {
   "cell_type": "code",
   "execution_count": 2,
   "metadata": {
    "jupyter": {
     "source_hidden": true
    },
    "papermill": {
     "duration": 0.084875,
     "end_time": "2019-03-22T17:28:05.559488",
     "exception": false,
     "start_time": "2019-03-22T17:28:05.474613",
     "status": "completed"
    },
    "tags": [
     "parameters"
    ]
   },
   "outputs": [],
   "source": [
    "date = pd.datetime.today() - timedelta(days=30)\n",
    "org = 'jupyterhub'\n",
    "repo = 'zero-to-jupyterhub-k8s'"
   ]
  },
  {
   "cell_type": "code",
   "execution_count": 3,
   "metadata": {
    "jupyter": {
     "source_hidden": true
    },
    "papermill": {
     "duration": 0.068796,
     "end_time": "2019-03-22T17:28:05.677387",
     "exception": false,
     "start_time": "2019-03-22T17:28:05.608591",
     "status": "completed"
    },
    "tags": [
     "injected-parameters"
    ]
   },
   "outputs": [],
   "source": [
    "# Parameters\n",
    "org = \"jupyterhub\"\n",
    "repo = \"binder\"\n",
    "date = \"2019-02-20\"\n"
   ]
  },
  {
   "cell_type": "code",
   "execution_count": 4,
   "metadata": {
    "jupyter": {
     "source_hidden": true
    },
    "papermill": {
     "duration": 0.066002,
     "end_time": "2019-03-22T17:28:05.779993",
     "exception": false,
     "start_time": "2019-03-22T17:28:05.713991",
     "status": "completed"
    },
    "tags": []
   },
   "outputs": [],
   "source": [
    "# Definition of a stale issue/PR (how many days since last updated)\n",
    "stale_days = 30\n",
    "date_stale = pd.to_datetime(date) - timedelta(days=stale_days)"
   ]
  },
  {
   "cell_type": "markdown",
   "metadata": {
    "papermill": {
     "duration": 0.037455,
     "end_time": "2019-03-22T17:28:05.861680",
     "exception": false,
     "start_time": "2019-03-22T17:28:05.824225",
     "status": "completed"
    },
    "tags": []
   },
   "source": [
    "# Opened and Closed Issues and PRs\n",
    "\n",
    "This report shows opened and closed issues / PRs over the last 30 days, with a\n",
    "particular focus on items that haven't had a lot of discussion, or that have\n",
    "been opened by people who aren't team-members. The goal of this page is to make\n",
    "it easier to spot places where some input would be appreciated!"
   ]
  },
  {
   "cell_type": "markdown",
   "metadata": {
    "papermill": {
     "duration": 0.030787,
     "end_time": "2019-03-22T17:28:05.926522",
     "exception": false,
     "start_time": "2019-03-22T17:28:05.895735",
     "status": "completed"
    },
    "tags": []
   },
   "source": [
    "# Imports"
   ]
  },
  {
   "cell_type": "code",
   "execution_count": 5,
   "metadata": {
    "jupyter": {
     "source_hidden": true
    },
    "papermill": {
     "duration": 0.389705,
     "end_time": "2019-03-22T17:28:06.352001",
     "exception": false,
     "start_time": "2019-03-22T17:28:05.962296",
     "status": "completed"
    },
    "tags": []
   },
   "outputs": [],
   "source": [
    "import pandas as pd\n",
    "from subprocess import run, PIPE\n",
    "from watchtower import issues_\n",
    "from glob import glob\n",
    "import os.path as op\n",
    "import shutil as sh\n",
    "import sys\n",
    "sys.path.append('../../scripts/')"
   ]
  },
  {
   "cell_type": "markdown",
   "metadata": {
    "papermill": {
     "duration": 0.055007,
     "end_time": "2019-03-22T17:28:06.437721",
     "exception": false,
     "start_time": "2019-03-22T17:28:06.382714",
     "status": "completed"
    },
    "tags": []
   },
   "source": [
    "## styling functions"
   ]
  },
  {
   "cell_type": "code",
   "execution_count": 6,
   "metadata": {
    "jupyter": {
     "source_hidden": true
    },
    "papermill": {
     "duration": 0.047687,
     "end_time": "2019-03-22T17:28:06.543980",
     "exception": false,
     "start_time": "2019-03-22T17:28:06.496293",
     "status": "completed"
    },
    "tags": []
   },
   "outputs": [],
   "source": [
    "def highlight_rows(val):\n",
    "    \"\"\"Highlights cells pertaining to non-members and w/ no comments\"\"\"\n",
    "    disp = ''\n",
    "    if val == 0 or val == \"NONE\":\n",
    "        disp += 'background-color: #f7b7b7'\n",
    "    elif val == \"FIRST_TIME_CONTRIBUTOR\":\n",
    "        disp += 'background-color: red'\n",
    "    return disp\n",
    "\n",
    "def make_clickable(val):\n",
    "    # target _blank to open new window\n",
    "    return '<a target=\"_blank\" href=\"{}\">{}</a>'.format(val, val)\n",
    "\n",
    "def print_html(msg):\n",
    "    display(HTML('<h2 style=\"padding-left: 1em;\">{}</h2>'.format(msg)))\n",
    "    \n",
    "pd.options.display.max_colwidth = 200"
   ]
  },
  {
   "cell_type": "markdown",
   "metadata": {
    "papermill": {
     "duration": 0.080295,
     "end_time": "2019-03-22T17:28:06.673606",
     "exception": false,
     "start_time": "2019-03-22T17:28:06.593311",
     "status": "completed"
    },
    "tags": []
   },
   "source": [
    "## Load data"
   ]
  },
  {
   "cell_type": "code",
   "execution_count": 7,
   "metadata": {
    "jupyter": {
     "source_hidden": true
    },
    "papermill": {
     "duration": 0.111668,
     "end_time": "2019-03-22T17:28:06.822167",
     "exception": false,
     "start_time": "2019-03-22T17:28:06.710499",
     "status": "completed"
    },
    "tags": []
   },
   "outputs": [],
   "source": [
    "# Issues\n",
    "issues = issues_.load_issues(org, repo)\n",
    "issues['user'] = issues['user'].map(lambda a: a['login'])"
   ]
  },
  {
   "cell_type": "markdown",
   "metadata": {
    "papermill": {
     "duration": 0.042209,
     "end_time": "2019-03-22T17:28:06.896389",
     "exception": false,
     "start_time": "2019-03-22T17:28:06.854180",
     "status": "completed"
    },
    "tags": []
   },
   "source": [
    "# New activity"
   ]
  },
  {
   "cell_type": "markdown",
   "metadata": {
    "papermill": {
     "duration": 0.033142,
     "end_time": "2019-03-22T17:28:06.963682",
     "exception": false,
     "start_time": "2019-03-22T17:28:06.930540",
     "status": "completed"
    },
    "tags": []
   },
   "source": [
    "## Opened issues\n",
    "\n",
    "without responses in red"
   ]
  },
  {
   "cell_type": "code",
   "execution_count": 8,
   "metadata": {
    "jupyter": {
     "source_hidden": true
    },
    "papermill": {
     "duration": 0.139306,
     "end_time": "2019-03-22T17:28:07.144209",
     "exception": false,
     "start_time": "2019-03-22T17:28:07.004903",
     "status": "completed"
    },
    "tags": []
   },
   "outputs": [
    {
     "name": "stderr",
     "output_type": "stream",
     "text": [
      "/home/choldgraf/anaconda/envs/dev/lib/python3.6/site-packages/ipykernel_launcher.py:3: SettingWithCopyWarning: \n",
      "A value is trying to be set on a copy of a slice from a DataFrame.\n",
      "Try using .loc[row_indexer,col_indexer] = value instead\n",
      "\n",
      "See the caveats in the documentation: http://pandas.pydata.org/pandas-docs/stable/indexing.html#indexing-view-versus-copy\n",
      "  This is separate from the ipykernel package so we can avoid doing imports until\n"
     ]
    }
   ],
   "source": [
    "opened = issues.query('created_at > @date')\n",
    "opened_issues = opened[opened['pull_request'].isna()]\n",
    "opened_issues['closed'] = ~pd.isnull(opened_issues['closed_at'])"
   ]
  },
  {
   "cell_type": "code",
   "execution_count": 9,
   "metadata": {
    "jupyter": {
     "source_hidden": true
    },
    "papermill": {
     "duration": 0.060607,
     "end_time": "2019-03-22T17:28:07.237425",
     "exception": false,
     "start_time": "2019-03-22T17:28:07.176818",
     "status": "completed"
    },
    "tags": []
   },
   "outputs": [
    {
     "data": {
      "text/html": [
       "<h2 style=\"padding-left: 1em;\">Opened issues: 5</h2>"
      ],
      "text/plain": [
       "<IPython.core.display.HTML object>"
      ]
     },
     "metadata": {},
     "output_type": "display_data"
    }
   ],
   "source": [
    "print_html('Opened issues: {}'.format(len(opened_issues)))"
   ]
  },
  {
   "cell_type": "code",
   "execution_count": 10,
   "metadata": {
    "jupyter": {
     "source_hidden": true
    },
    "papermill": {
     "duration": 1.038203,
     "end_time": "2019-03-22T17:28:08.307680",
     "exception": false,
     "start_time": "2019-03-22T17:28:07.269477",
     "status": "completed"
    },
    "tags": []
   },
   "outputs": [
    {
     "data": {
      "text/html": [
       "<style  type=\"text/css\" >\n",
       "    #T_dbe48f10_4cc7_11e9_9ed6_54ee75e0f62drow0_col1 {\n",
       "            background-color:  #f7b7b7;\n",
       "        }    #T_dbe48f10_4cc7_11e9_9ed6_54ee75e0f62drow0_col3 {\n",
       "            background-color:  #f7b7b7;\n",
       "        }    #T_dbe48f10_4cc7_11e9_9ed6_54ee75e0f62drow1_col1 {\n",
       "            background-color:  #f7b7b7;\n",
       "        }    #T_dbe48f10_4cc7_11e9_9ed6_54ee75e0f62drow3_col1 {\n",
       "            background-color:  #f7b7b7;\n",
       "        }    #T_dbe48f10_4cc7_11e9_9ed6_54ee75e0f62drow4_col1 {\n",
       "            background-color:  #f7b7b7;\n",
       "        }</style><table id=\"T_dbe48f10_4cc7_11e9_9ed6_54ee75e0f62d\" ><thead>    <tr>        <th class=\"col_heading level0 col0\" >user</th>        <th class=\"col_heading level0 col1\" >author_association</th>        <th class=\"col_heading level0 col2\" >comments</th>        <th class=\"col_heading level0 col3\" >closed</th>        <th class=\"col_heading level0 col4\" >html_url</th>    </tr></thead><tbody>\n",
       "                <tr>\n",
       "                                <td id=\"T_dbe48f10_4cc7_11e9_9ed6_54ee75e0f62drow0_col0\" class=\"data row0 col0\" >garej</td>\n",
       "                        <td id=\"T_dbe48f10_4cc7_11e9_9ed6_54ee75e0f62drow0_col1\" class=\"data row0 col1\" >NONE</td>\n",
       "                        <td id=\"T_dbe48f10_4cc7_11e9_9ed6_54ee75e0f62drow0_col2\" class=\"data row0 col2\" >5</td>\n",
       "                        <td id=\"T_dbe48f10_4cc7_11e9_9ed6_54ee75e0f62drow0_col3\" class=\"data row0 col3\" >False</td>\n",
       "                        <td id=\"T_dbe48f10_4cc7_11e9_9ed6_54ee75e0f62drow0_col4\" class=\"data row0 col4\" ><a target=\"_blank\" href=\"https://github.com/jupyterhub/binder/issues/150\">https://github.com/jupyterhub/binder/issues/150</a></td>\n",
       "            </tr>\n",
       "            <tr>\n",
       "                                <td id=\"T_dbe48f10_4cc7_11e9_9ed6_54ee75e0f62drow1_col0\" class=\"data row1 col0\" >agitter</td>\n",
       "                        <td id=\"T_dbe48f10_4cc7_11e9_9ed6_54ee75e0f62drow1_col1\" class=\"data row1 col1\" >NONE</td>\n",
       "                        <td id=\"T_dbe48f10_4cc7_11e9_9ed6_54ee75e0f62drow1_col2\" class=\"data row1 col2\" >2</td>\n",
       "                        <td id=\"T_dbe48f10_4cc7_11e9_9ed6_54ee75e0f62drow1_col3\" class=\"data row1 col3\" >True</td>\n",
       "                        <td id=\"T_dbe48f10_4cc7_11e9_9ed6_54ee75e0f62drow1_col4\" class=\"data row1 col4\" ><a target=\"_blank\" href=\"https://github.com/jupyterhub/binder/issues/153\">https://github.com/jupyterhub/binder/issues/153</a></td>\n",
       "            </tr>\n",
       "            <tr>\n",
       "                                <td id=\"T_dbe48f10_4cc7_11e9_9ed6_54ee75e0f62drow2_col0\" class=\"data row2 col0\" >fperez</td>\n",
       "                        <td id=\"T_dbe48f10_4cc7_11e9_9ed6_54ee75e0f62drow2_col1\" class=\"data row2 col1\" >MEMBER</td>\n",
       "                        <td id=\"T_dbe48f10_4cc7_11e9_9ed6_54ee75e0f62drow2_col2\" class=\"data row2 col2\" >4</td>\n",
       "                        <td id=\"T_dbe48f10_4cc7_11e9_9ed6_54ee75e0f62drow2_col3\" class=\"data row2 col3\" >True</td>\n",
       "                        <td id=\"T_dbe48f10_4cc7_11e9_9ed6_54ee75e0f62drow2_col4\" class=\"data row2 col4\" ><a target=\"_blank\" href=\"https://github.com/jupyterhub/binder/issues/155\">https://github.com/jupyterhub/binder/issues/155</a></td>\n",
       "            </tr>\n",
       "            <tr>\n",
       "                                <td id=\"T_dbe48f10_4cc7_11e9_9ed6_54ee75e0f62drow3_col0\" class=\"data row3 col0\" >emigre459</td>\n",
       "                        <td id=\"T_dbe48f10_4cc7_11e9_9ed6_54ee75e0f62drow3_col1\" class=\"data row3 col1\" >NONE</td>\n",
       "                        <td id=\"T_dbe48f10_4cc7_11e9_9ed6_54ee75e0f62drow3_col2\" class=\"data row3 col2\" >12</td>\n",
       "                        <td id=\"T_dbe48f10_4cc7_11e9_9ed6_54ee75e0f62drow3_col3\" class=\"data row3 col3\" >True</td>\n",
       "                        <td id=\"T_dbe48f10_4cc7_11e9_9ed6_54ee75e0f62drow3_col4\" class=\"data row3 col4\" ><a target=\"_blank\" href=\"https://github.com/jupyterhub/binder/issues/149\">https://github.com/jupyterhub/binder/issues/149</a></td>\n",
       "            </tr>\n",
       "            <tr>\n",
       "                                <td id=\"T_dbe48f10_4cc7_11e9_9ed6_54ee75e0f62drow4_col0\" class=\"data row4 col0\" >agitter</td>\n",
       "                        <td id=\"T_dbe48f10_4cc7_11e9_9ed6_54ee75e0f62drow4_col1\" class=\"data row4 col1\" >NONE</td>\n",
       "                        <td id=\"T_dbe48f10_4cc7_11e9_9ed6_54ee75e0f62drow4_col2\" class=\"data row4 col2\" >14</td>\n",
       "                        <td id=\"T_dbe48f10_4cc7_11e9_9ed6_54ee75e0f62drow4_col3\" class=\"data row4 col3\" >True</td>\n",
       "                        <td id=\"T_dbe48f10_4cc7_11e9_9ed6_54ee75e0f62drow4_col4\" class=\"data row4 col4\" ><a target=\"_blank\" href=\"https://github.com/jupyterhub/binder/issues/152\">https://github.com/jupyterhub/binder/issues/152</a></td>\n",
       "            </tr>\n",
       "    </tbody></table>"
      ],
      "text/plain": [
       "<pandas.io.formats.style.Styler at 0x7f4a6045dcf8>"
      ]
     },
     "execution_count": 10,
     "metadata": {},
     "output_type": "execute_result"
    }
   ],
   "source": [
    "opened_issues[['user', 'author_association', 'comments', 'closed', 'html_url']]\\\n",
    "    .sort_values(['closed', 'comments']).style.applymap(highlight_rows).format({'html_url': make_clickable}).hide_index()"
   ]
  },
  {
   "cell_type": "markdown",
   "metadata": {
    "papermill": {
     "duration": 0.033472,
     "end_time": "2019-03-22T17:28:08.374679",
     "exception": false,
     "start_time": "2019-03-22T17:28:08.341207",
     "status": "completed"
    },
    "tags": []
   },
   "source": [
    "## Closed issues\n"
   ]
  },
  {
   "cell_type": "code",
   "execution_count": 11,
   "metadata": {
    "jupyter": {
     "source_hidden": true
    },
    "papermill": {
     "duration": 0.050094,
     "end_time": "2019-03-22T17:28:08.457973",
     "exception": false,
     "start_time": "2019-03-22T17:28:08.407879",
     "status": "completed"
    },
    "tags": []
   },
   "outputs": [],
   "source": [
    "closed = issues.query('closed_at > @date')\n",
    "closed_issues = closed[closed['pull_request'].isna()]"
   ]
  },
  {
   "cell_type": "code",
   "execution_count": 12,
   "metadata": {
    "jupyter": {
     "source_hidden": true
    },
    "papermill": {
     "duration": 0.073879,
     "end_time": "2019-03-22T17:28:08.602741",
     "exception": false,
     "start_time": "2019-03-22T17:28:08.528862",
     "status": "completed"
    },
    "tags": []
   },
   "outputs": [
    {
     "data": {
      "text/html": [
       "<style  type=\"text/css\" >\n",
       "    #T_dc12bae8_4cc7_11e9_9ed6_54ee75e0f62drow0_col1 {\n",
       "            background-color:  #f7b7b7;\n",
       "        }    #T_dc12bae8_4cc7_11e9_9ed6_54ee75e0f62drow2_col1 {\n",
       "            background-color:  #f7b7b7;\n",
       "        }    #T_dc12bae8_4cc7_11e9_9ed6_54ee75e0f62drow3_col1 {\n",
       "            background-color:  #f7b7b7;\n",
       "        }</style><table id=\"T_dc12bae8_4cc7_11e9_9ed6_54ee75e0f62d\" ><thead>    <tr>        <th class=\"col_heading level0 col0\" >user</th>        <th class=\"col_heading level0 col1\" >author_association</th>        <th class=\"col_heading level0 col2\" >comments</th>        <th class=\"col_heading level0 col3\" >html_url</th>    </tr></thead><tbody>\n",
       "                <tr>\n",
       "                                <td id=\"T_dc12bae8_4cc7_11e9_9ed6_54ee75e0f62drow0_col0\" class=\"data row0 col0\" >agitter</td>\n",
       "                        <td id=\"T_dc12bae8_4cc7_11e9_9ed6_54ee75e0f62drow0_col1\" class=\"data row0 col1\" >NONE</td>\n",
       "                        <td id=\"T_dc12bae8_4cc7_11e9_9ed6_54ee75e0f62drow0_col2\" class=\"data row0 col2\" >2</td>\n",
       "                        <td id=\"T_dc12bae8_4cc7_11e9_9ed6_54ee75e0f62drow0_col3\" class=\"data row0 col3\" ><a target=\"_blank\" href=\"https://github.com/jupyterhub/binder/issues/153\">https://github.com/jupyterhub/binder/issues/153</a></td>\n",
       "            </tr>\n",
       "            <tr>\n",
       "                                <td id=\"T_dc12bae8_4cc7_11e9_9ed6_54ee75e0f62drow1_col0\" class=\"data row1 col0\" >fperez</td>\n",
       "                        <td id=\"T_dc12bae8_4cc7_11e9_9ed6_54ee75e0f62drow1_col1\" class=\"data row1 col1\" >MEMBER</td>\n",
       "                        <td id=\"T_dc12bae8_4cc7_11e9_9ed6_54ee75e0f62drow1_col2\" class=\"data row1 col2\" >4</td>\n",
       "                        <td id=\"T_dc12bae8_4cc7_11e9_9ed6_54ee75e0f62drow1_col3\" class=\"data row1 col3\" ><a target=\"_blank\" href=\"https://github.com/jupyterhub/binder/issues/155\">https://github.com/jupyterhub/binder/issues/155</a></td>\n",
       "            </tr>\n",
       "            <tr>\n",
       "                                <td id=\"T_dc12bae8_4cc7_11e9_9ed6_54ee75e0f62drow2_col0\" class=\"data row2 col0\" >emigre459</td>\n",
       "                        <td id=\"T_dc12bae8_4cc7_11e9_9ed6_54ee75e0f62drow2_col1\" class=\"data row2 col1\" >NONE</td>\n",
       "                        <td id=\"T_dc12bae8_4cc7_11e9_9ed6_54ee75e0f62drow2_col2\" class=\"data row2 col2\" >12</td>\n",
       "                        <td id=\"T_dc12bae8_4cc7_11e9_9ed6_54ee75e0f62drow2_col3\" class=\"data row2 col3\" ><a target=\"_blank\" href=\"https://github.com/jupyterhub/binder/issues/149\">https://github.com/jupyterhub/binder/issues/149</a></td>\n",
       "            </tr>\n",
       "            <tr>\n",
       "                                <td id=\"T_dc12bae8_4cc7_11e9_9ed6_54ee75e0f62drow3_col0\" class=\"data row3 col0\" >agitter</td>\n",
       "                        <td id=\"T_dc12bae8_4cc7_11e9_9ed6_54ee75e0f62drow3_col1\" class=\"data row3 col1\" >NONE</td>\n",
       "                        <td id=\"T_dc12bae8_4cc7_11e9_9ed6_54ee75e0f62drow3_col2\" class=\"data row3 col2\" >14</td>\n",
       "                        <td id=\"T_dc12bae8_4cc7_11e9_9ed6_54ee75e0f62drow3_col3\" class=\"data row3 col3\" ><a target=\"_blank\" href=\"https://github.com/jupyterhub/binder/issues/152\">https://github.com/jupyterhub/binder/issues/152</a></td>\n",
       "            </tr>\n",
       "    </tbody></table>"
      ],
      "text/plain": [
       "<pandas.io.formats.style.Styler at 0x7f4a37180f60>"
      ]
     },
     "execution_count": 12,
     "metadata": {},
     "output_type": "execute_result"
    }
   ],
   "source": [
    "closed_issues[['user', 'author_association', 'comments', 'html_url']]\\\n",
    "    .sort_values(['comments']).style.applymap(highlight_rows).format({'html_url': make_clickable}).hide_index()"
   ]
  },
  {
   "cell_type": "code",
   "execution_count": 13,
   "metadata": {
    "jupyter": {
     "source_hidden": true
    },
    "papermill": {
     "duration": 0.057328,
     "end_time": "2019-03-22T17:28:08.688967",
     "exception": false,
     "start_time": "2019-03-22T17:28:08.631639",
     "status": "completed"
    },
    "tags": []
   },
   "outputs": [
    {
     "data": {
      "text/html": [
       "<h2 style=\"padding-left: 1em;\">Closed issues: 4</h2>"
      ],
      "text/plain": [
       "<IPython.core.display.HTML object>"
      ]
     },
     "metadata": {},
     "output_type": "display_data"
    }
   ],
   "source": [
    "print_html('Closed issues: {}'.format(len(closed_issues)))"
   ]
  },
  {
   "cell_type": "markdown",
   "metadata": {
    "papermill": {
     "duration": 0.036238,
     "end_time": "2019-03-22T17:28:08.781568",
     "exception": false,
     "start_time": "2019-03-22T17:28:08.745330",
     "status": "completed"
    },
    "tags": []
   },
   "source": [
    "## Opened PRs\n",
    "\n",
    "without responses in red"
   ]
  },
  {
   "cell_type": "code",
   "execution_count": 14,
   "metadata": {
    "jupyter": {
     "source_hidden": true
    },
    "papermill": {
     "duration": 0.083196,
     "end_time": "2019-03-22T17:28:08.894099",
     "exception": false,
     "start_time": "2019-03-22T17:28:08.810903",
     "status": "completed"
    },
    "tags": []
   },
   "outputs": [
    {
     "name": "stderr",
     "output_type": "stream",
     "text": [
      "/home/choldgraf/anaconda/envs/dev/lib/python3.6/site-packages/ipykernel_launcher.py:2: SettingWithCopyWarning: \n",
      "A value is trying to be set on a copy of a slice from a DataFrame.\n",
      "Try using .loc[row_indexer,col_indexer] = value instead\n",
      "\n",
      "See the caveats in the documentation: http://pandas.pydata.org/pandas-docs/stable/indexing.html#indexing-view-versus-copy\n",
      "  \n"
     ]
    }
   ],
   "source": [
    "opened_prs = opened[~opened['pull_request'].isna()]\n",
    "opened_prs['closed'] = ~pd.isnull(opened_prs['closed_at'])\n",
    "\n",
    "closed_prs = closed[~closed['pull_request'].isna()]"
   ]
  },
  {
   "cell_type": "code",
   "execution_count": 15,
   "metadata": {
    "jupyter": {
     "source_hidden": true
    },
    "papermill": {
     "duration": 0.052876,
     "end_time": "2019-03-22T17:28:08.981487",
     "exception": false,
     "start_time": "2019-03-22T17:28:08.928611",
     "status": "completed"
    },
    "tags": []
   },
   "outputs": [
    {
     "data": {
      "text/html": [
       "<h2 style=\"padding-left: 1em;\">Opened PRs: 3</h2>"
      ],
      "text/plain": [
       "<IPython.core.display.HTML object>"
      ]
     },
     "metadata": {},
     "output_type": "display_data"
    }
   ],
   "source": [
    "print_html('Opened PRs: {}'.format(len(opened_prs)))"
   ]
  },
  {
   "cell_type": "code",
   "execution_count": 16,
   "metadata": {
    "jupyter": {
     "source_hidden": true
    },
    "papermill": {
     "duration": 0.07505,
     "end_time": "2019-03-22T17:28:09.092126",
     "exception": false,
     "start_time": "2019-03-22T17:28:09.017076",
     "status": "completed"
    },
    "tags": []
   },
   "outputs": [
    {
     "data": {
      "text/html": [
       "<style  type=\"text/css\" >\n",
       "    #T_dc5d5936_4cc7_11e9_9ed6_54ee75e0f62drow0_col2 {\n",
       "            background-color:  #f7b7b7;\n",
       "        }    #T_dc5d5936_4cc7_11e9_9ed6_54ee75e0f62drow0_col3 {\n",
       "            background-color:  #f7b7b7;\n",
       "        }</style><table id=\"T_dc5d5936_4cc7_11e9_9ed6_54ee75e0f62d\" ><thead>    <tr>        <th class=\"col_heading level0 col0\" >user</th>        <th class=\"col_heading level0 col1\" >author_association</th>        <th class=\"col_heading level0 col2\" >comments</th>        <th class=\"col_heading level0 col3\" >closed</th>        <th class=\"col_heading level0 col4\" >html_url</th>    </tr></thead><tbody>\n",
       "                <tr>\n",
       "                                <td id=\"T_dc5d5936_4cc7_11e9_9ed6_54ee75e0f62drow0_col0\" class=\"data row0 col0\" >garej</td>\n",
       "                        <td id=\"T_dc5d5936_4cc7_11e9_9ed6_54ee75e0f62drow0_col1\" class=\"data row0 col1\" >FIRST_TIMER</td>\n",
       "                        <td id=\"T_dc5d5936_4cc7_11e9_9ed6_54ee75e0f62drow0_col2\" class=\"data row0 col2\" >0</td>\n",
       "                        <td id=\"T_dc5d5936_4cc7_11e9_9ed6_54ee75e0f62drow0_col3\" class=\"data row0 col3\" >False</td>\n",
       "                        <td id=\"T_dc5d5936_4cc7_11e9_9ed6_54ee75e0f62drow0_col4\" class=\"data row0 col4\" ><a target=\"_blank\" href=\"https://github.com/jupyterhub/binder/pull/154\">https://github.com/jupyterhub/binder/pull/154</a></td>\n",
       "            </tr>\n",
       "            <tr>\n",
       "                                <td id=\"T_dc5d5936_4cc7_11e9_9ed6_54ee75e0f62drow1_col0\" class=\"data row1 col0\" >simonflood</td>\n",
       "                        <td id=\"T_dc5d5936_4cc7_11e9_9ed6_54ee75e0f62drow1_col1\" class=\"data row1 col1\" >CONTRIBUTOR</td>\n",
       "                        <td id=\"T_dc5d5936_4cc7_11e9_9ed6_54ee75e0f62drow1_col2\" class=\"data row1 col2\" >1</td>\n",
       "                        <td id=\"T_dc5d5936_4cc7_11e9_9ed6_54ee75e0f62drow1_col3\" class=\"data row1 col3\" >True</td>\n",
       "                        <td id=\"T_dc5d5936_4cc7_11e9_9ed6_54ee75e0f62drow1_col4\" class=\"data row1 col4\" ><a target=\"_blank\" href=\"https://github.com/jupyterhub/binder/pull/156\">https://github.com/jupyterhub/binder/pull/156</a></td>\n",
       "            </tr>\n",
       "            <tr>\n",
       "                                <td id=\"T_dc5d5936_4cc7_11e9_9ed6_54ee75e0f62drow2_col0\" class=\"data row2 col0\" >drj11</td>\n",
       "                        <td id=\"T_dc5d5936_4cc7_11e9_9ed6_54ee75e0f62drow2_col1\" class=\"data row2 col1\" >CONTRIBUTOR</td>\n",
       "                        <td id=\"T_dc5d5936_4cc7_11e9_9ed6_54ee75e0f62drow2_col2\" class=\"data row2 col2\" >1</td>\n",
       "                        <td id=\"T_dc5d5936_4cc7_11e9_9ed6_54ee75e0f62drow2_col3\" class=\"data row2 col3\" >True</td>\n",
       "                        <td id=\"T_dc5d5936_4cc7_11e9_9ed6_54ee75e0f62drow2_col4\" class=\"data row2 col4\" ><a target=\"_blank\" href=\"https://github.com/jupyterhub/binder/pull/151\">https://github.com/jupyterhub/binder/pull/151</a></td>\n",
       "            </tr>\n",
       "    </tbody></table>"
      ],
      "text/plain": [
       "<pandas.io.formats.style.Styler at 0x7f4a37180390>"
      ]
     },
     "execution_count": 16,
     "metadata": {},
     "output_type": "execute_result"
    }
   ],
   "source": [
    "opened_prs[['user', 'author_association', 'comments', 'closed', 'html_url']]\\\n",
    "    .sort_values(['closed', 'comments']).style.applymap(highlight_rows).format({'html_url': make_clickable}).hide_index()"
   ]
  },
  {
   "cell_type": "code",
   "execution_count": 17,
   "metadata": {
    "jupyter": {
     "source_hidden": true
    },
    "papermill": {
     "duration": 0.055861,
     "end_time": "2019-03-22T17:28:09.181083",
     "exception": false,
     "start_time": "2019-03-22T17:28:09.125222",
     "status": "completed"
    },
    "tags": []
   },
   "outputs": [
    {
     "data": {
      "text/html": [
       "<h2 style=\"padding-left: 1em;\">Closed PRs: 2</h2>"
      ],
      "text/plain": [
       "<IPython.core.display.HTML object>"
      ]
     },
     "metadata": {},
     "output_type": "display_data"
    }
   ],
   "source": [
    "print_html('Closed PRs: {}'.format(len(closed_prs)))"
   ]
  },
  {
   "cell_type": "code",
   "execution_count": 18,
   "metadata": {
    "jupyter": {
     "source_hidden": true
    },
    "papermill": {
     "duration": 0.070039,
     "end_time": "2019-03-22T17:28:09.285174",
     "exception": false,
     "start_time": "2019-03-22T17:28:09.215135",
     "status": "completed"
    },
    "tags": []
   },
   "outputs": [
    {
     "data": {
      "text/html": [
       "<style  type=\"text/css\" >\n",
       "</style><table id=\"T_dc7a8b5a_4cc7_11e9_9ed6_54ee75e0f62d\" ><thead>    <tr>        <th class=\"col_heading level0 col0\" >user</th>        <th class=\"col_heading level0 col1\" >author_association</th>        <th class=\"col_heading level0 col2\" >comments</th>        <th class=\"col_heading level0 col3\" >html_url</th>    </tr></thead><tbody>\n",
       "                <tr>\n",
       "                                <td id=\"T_dc7a8b5a_4cc7_11e9_9ed6_54ee75e0f62drow0_col0\" class=\"data row0 col0\" >simonflood</td>\n",
       "                        <td id=\"T_dc7a8b5a_4cc7_11e9_9ed6_54ee75e0f62drow0_col1\" class=\"data row0 col1\" >CONTRIBUTOR</td>\n",
       "                        <td id=\"T_dc7a8b5a_4cc7_11e9_9ed6_54ee75e0f62drow0_col2\" class=\"data row0 col2\" >1</td>\n",
       "                        <td id=\"T_dc7a8b5a_4cc7_11e9_9ed6_54ee75e0f62drow0_col3\" class=\"data row0 col3\" ><a target=\"_blank\" href=\"https://github.com/jupyterhub/binder/pull/156\">https://github.com/jupyterhub/binder/pull/156</a></td>\n",
       "            </tr>\n",
       "            <tr>\n",
       "                                <td id=\"T_dc7a8b5a_4cc7_11e9_9ed6_54ee75e0f62drow1_col0\" class=\"data row1 col0\" >drj11</td>\n",
       "                        <td id=\"T_dc7a8b5a_4cc7_11e9_9ed6_54ee75e0f62drow1_col1\" class=\"data row1 col1\" >CONTRIBUTOR</td>\n",
       "                        <td id=\"T_dc7a8b5a_4cc7_11e9_9ed6_54ee75e0f62drow1_col2\" class=\"data row1 col2\" >1</td>\n",
       "                        <td id=\"T_dc7a8b5a_4cc7_11e9_9ed6_54ee75e0f62drow1_col3\" class=\"data row1 col3\" ><a target=\"_blank\" href=\"https://github.com/jupyterhub/binder/pull/151\">https://github.com/jupyterhub/binder/pull/151</a></td>\n",
       "            </tr>\n",
       "    </tbody></table>"
      ],
      "text/plain": [
       "<pandas.io.formats.style.Styler at 0x7f4a37180320>"
      ]
     },
     "execution_count": 18,
     "metadata": {},
     "output_type": "execute_result"
    }
   ],
   "source": [
    "closed_prs[['user', 'author_association', 'comments', 'html_url']]\\\n",
    "    .sort_values(['comments']).style.applymap(highlight_rows).format({'html_url': make_clickable}).hide_index()"
   ]
  },
  {
   "cell_type": "markdown",
   "metadata": {
    "papermill": {
     "duration": 0.039741,
     "end_time": "2019-03-22T17:28:09.362274",
     "exception": false,
     "start_time": "2019-03-22T17:28:09.322533",
     "status": "completed"
    },
    "tags": []
   },
   "source": [
    "# State of repo\n",
    "\n",
    "## Stale issues"
   ]
  },
  {
   "cell_type": "code",
   "execution_count": 19,
   "metadata": {
    "jupyter": {
     "source_hidden": true
    },
    "papermill": {
     "duration": 0.050525,
     "end_time": "2019-03-22T17:28:09.446070",
     "exception": false,
     "start_time": "2019-03-22T17:28:09.395545",
     "status": "completed"
    },
    "tags": []
   },
   "outputs": [],
   "source": [
    "stale_issues = issues.query('updated_at < @date_stale')\n",
    "stale_issues = stale_issues[stale_issues['closed_at'].isnull()]"
   ]
  },
  {
   "cell_type": "code",
   "execution_count": 20,
   "metadata": {
    "jupyter": {
     "source_hidden": true
    },
    "papermill": {
     "duration": 0.053261,
     "end_time": "2019-03-22T17:28:09.544772",
     "exception": false,
     "start_time": "2019-03-22T17:28:09.491511",
     "status": "completed"
    },
    "tags": []
   },
   "outputs": [
    {
     "data": {
      "text/html": [
       "<style  type=\"text/css\" >\n",
       "</style><table id=\"T_dca2d650_4cc7_11e9_9ed6_54ee75e0f62d\" ><thead>    <tr>        <th class=\"col_heading level0 col0\" >user</th>        <th class=\"col_heading level0 col1\" >author_association</th>        <th class=\"col_heading level0 col2\" >comments</th>        <th class=\"col_heading level0 col3\" >html_url</th>    </tr></thead><tbody>\n",
       "        </tbody></table>"
      ],
      "text/plain": [
       "<pandas.io.formats.style.Styler at 0x7f4a371804a8>"
      ]
     },
     "execution_count": 20,
     "metadata": {},
     "output_type": "execute_result"
    }
   ],
   "source": [
    "stale_issues[['user', 'author_association', 'comments', 'html_url']]\\\n",
    "    .sort_values(['comments']).style.applymap(highlight_rows).format({'html_url': make_clickable}).hide_index()"
   ]
  },
  {
   "cell_type": "code",
   "execution_count": null,
   "metadata": {
    "jupyter": {
     "source_hidden": true
    },
    "papermill": {
     "duration": 0.034239,
     "end_time": "2019-03-22T17:28:09.614778",
     "exception": false,
     "start_time": "2019-03-22T17:28:09.580539",
     "status": "completed"
    },
    "tags": []
   },
   "outputs": [],
   "source": []
  }
 ],
 "metadata": {
  "kernelspec": {
   "display_name": "Python 3",
   "language": "python",
   "name": "python3"
  },
  "language_info": {
   "codemirror_mode": {
    "name": "ipython",
    "version": 3
   },
   "file_extension": ".py",
   "mimetype": "text/x-python",
   "name": "python",
   "nbconvert_exporter": "python",
   "pygments_lexer": "ipython3",
   "version": "3.6.5"
  },
  "papermill": {
   "duration": 7.524399,
   "end_time": "2019-03-22T17:28:10.379541",
   "environment_variables": {},
   "exception": null,
   "input_path": "./templates/issues.ipynb",
   "output_path": "../reports/2019-02-20/jupyterhub/binder/issues.ipynb",
   "parameters": {
    "date": "2019-02-20",
    "org": "jupyterhub",
    "repo": "binder"
   },
   "start_time": "2019-03-22T17:28:02.855142",
   "version": "0.18.0"
  }
 },
 "nbformat": 4,
 "nbformat_minor": 2
}