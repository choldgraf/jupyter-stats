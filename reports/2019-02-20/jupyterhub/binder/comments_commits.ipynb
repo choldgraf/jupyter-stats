{
 "cells": [
  {
   "cell_type": "code",
   "execution_count": 1,
   "metadata": {
    "jupyter": {
     "source_hidden": true
    },
    "papermill": {
     "duration": 0.932749,
     "end_time": "2019-03-22T17:27:57.881478",
     "exception": false,
     "start_time": "2019-03-22T17:27:56.948729",
     "status": "completed"
    },
    "tags": []
   },
   "outputs": [],
   "source": [
    "import pandas as pd\n",
    "from datetime import timedelta\n",
    "from IPython.display import HTML, display"
   ]
  },
  {
   "cell_type": "code",
   "execution_count": 2,
   "metadata": {
    "jupyter": {
     "source_hidden": true
    },
    "papermill": {
     "duration": 0.036777,
     "end_time": "2019-03-22T17:27:57.949130",
     "exception": false,
     "start_time": "2019-03-22T17:27:57.912353",
     "status": "completed"
    },
    "tags": [
     "parameters"
    ]
   },
   "outputs": [],
   "source": [
    "date = pd.datetime.today() - timedelta(days=30)\n",
    "org = 'jupyterhub'\n",
    "repo = 'zero-to-jupyterhub-k8s'"
   ]
  },
  {
   "cell_type": "code",
   "execution_count": 3,
   "metadata": {
    "jupyter": {
     "source_hidden": true
    },
    "papermill": {
     "duration": 0.048902,
     "end_time": "2019-03-22T17:27:58.030742",
     "exception": false,
     "start_time": "2019-03-22T17:27:57.981840",
     "status": "completed"
    },
    "tags": [
     "injected-parameters"
    ]
   },
   "outputs": [],
   "source": [
    "# Parameters\n",
    "org = \"jupyterhub\"\n",
    "repo = \"binder\"\n",
    "date = \"2019-02-20\"\n"
   ]
  },
  {
   "cell_type": "code",
   "execution_count": 4,
   "metadata": {
    "jupyter": {
     "source_hidden": true
    },
    "papermill": {
     "duration": 0.057585,
     "end_time": "2019-03-22T17:27:58.121499",
     "exception": false,
     "start_time": "2019-03-22T17:27:58.063914",
     "status": "completed"
    },
    "tags": []
   },
   "outputs": [],
   "source": [
    "# Make sure date is parsed as a date\n",
    "date = pd.to_datetime(date)"
   ]
  },
  {
   "cell_type": "markdown",
   "metadata": {
    "papermill": {
     "duration": 0.047811,
     "end_time": "2019-03-22T17:27:58.223076",
     "exception": false,
     "start_time": "2019-03-22T17:27:58.175265",
     "status": "completed"
    },
    "tags": []
   },
   "source": [
    "## Comment and commit activity\n",
    "\n",
    "This report shows general comment and commit activity for this repository. It's goal is\n",
    "to give a birds-eye view of where activity is happening across the JupyterHub repositories.\n",
    "It shouldn't be treated as a \"leaderboard\" or set of statistics to optimize for.\n"
   ]
  },
  {
   "cell_type": "markdown",
   "metadata": {
    "papermill": {
     "duration": 0.02726,
     "end_time": "2019-03-22T17:27:58.273618",
     "exception": false,
     "start_time": "2019-03-22T17:27:58.246358",
     "status": "completed"
    },
    "tags": []
   },
   "source": [
    "# Imports"
   ]
  },
  {
   "cell_type": "code",
   "execution_count": 5,
   "metadata": {
    "jupyter": {
     "source_hidden": true
    },
    "papermill": {
     "duration": 2.142467,
     "end_time": "2019-03-22T17:28:00.450560",
     "exception": false,
     "start_time": "2019-03-22T17:27:58.308093",
     "status": "completed"
    },
    "tags": []
   },
   "outputs": [],
   "source": [
    "import pandas as pd\n",
    "import scrapbook as sb\n",
    "from subprocess import run, PIPE\n",
    "from watchtower import comments_, commits_\n",
    "import os.path as op\n",
    "import shutil as sh\n",
    "import os\n",
    "import altair as alt\n",
    "import scrapbook as sb"
   ]
  },
  {
   "cell_type": "code",
   "execution_count": 6,
   "metadata": {
    "jupyter": {
     "source_hidden": true
    },
    "papermill": {
     "duration": 0.064575,
     "end_time": "2019-03-22T17:28:00.576760",
     "exception": false,
     "start_time": "2019-03-22T17:28:00.512185",
     "status": "completed"
    },
    "tags": []
   },
   "outputs": [],
   "source": [
    "# Styling functions\n",
    "\n",
    "def highlight_rows(val):\n",
    "    \"\"\"Highlights cells pertaining to non-members and w/ no comments\"\"\"\n",
    "    disp = ''\n",
    "    if val == 0 or val == \"NONE\":\n",
    "        disp += 'background-color: #f7b7b7'\n",
    "    elif val == \"FIRST_TIME_CONTRIBUTOR\":\n",
    "        disp += 'background-color: red'\n",
    "    return disp\n",
    "\n",
    "def make_clickable(val):\n",
    "    # target _blank to open new window\n",
    "    return '<a target=\"_blank\" href=\"{}\">{}</a>'.format(val, val)\n",
    "\n",
    "def print_html(msg):\n",
    "    display(HTML('<h2 style=\"padding-left: 1em;\">{}</h2>'.format(msg)))\n",
    "    \n",
    "pd.options.display.max_colwidth = 200"
   ]
  },
  {
   "cell_type": "markdown",
   "metadata": {
    "papermill": {
     "duration": 0.039256,
     "end_time": "2019-03-22T17:28:00.663184",
     "exception": false,
     "start_time": "2019-03-22T17:28:00.623928",
     "status": "completed"
    },
    "tags": []
   },
   "source": [
    "## Load data"
   ]
  },
  {
   "cell_type": "code",
   "execution_count": 7,
   "metadata": {
    "jupyter": {
     "source_hidden": true
    },
    "papermill": {
     "duration": 0.194135,
     "end_time": "2019-03-22T17:28:00.897644",
     "exception": false,
     "start_time": "2019-03-22T17:28:00.703509",
     "status": "completed"
    },
    "tags": []
   },
   "outputs": [],
   "source": [
    "teams = pd.read_csv('../../data/teams.csv')\n",
    "\n",
    "comments = comments_.load_comments(org, repo).query('created_at > @date')\n",
    "commits = commits_.load_commits(org, repo).dropna(subset=['author']).query('date > @date')\n",
    "\n",
    "comments['user'] = comments['user'].map(lambda a: a['login'])\n",
    "commits['user'] = commits['author'].map(lambda a: a['login'])\n",
    "\n",
    "top_committers = commits.groupby('user').count()['html_url'].sort_values(ascending=False).reset_index().rename(columns={'html_url': 'commits'})\n",
    "top_commenters = comments.groupby('user').count()['html_url'].sort_values(ascending=False).reset_index().rename(columns={'html_url': 'comments'})\n",
    "\n",
    "# Save committers/commenters\n",
    "path_data_date = '../../reports/{:%Y-%m-%d}/data'.format(date)\n",
    "if not op.isdir(path_data_date):\n",
    "    os.makedirs(path_data_date)\n",
    "top_committers.to_csv(op.join(path_data_date, '{}_{}-top_committers.csv'.format(org, repo)), index=False)\n",
    "top_commenters.to_csv(op.join(path_data_date, '{}_{}-top_commenters.csv'.format(org, repo)), index=False)"
   ]
  },
  {
   "cell_type": "code",
   "execution_count": 8,
   "metadata": {
    "jupyter": {
     "source_hidden": true
    },
    "papermill": {
     "duration": 0.049269,
     "end_time": "2019-03-22T17:28:00.976162",
     "exception": false,
     "start_time": "2019-03-22T17:28:00.926893",
     "status": "completed"
    },
    "tags": []
   },
   "outputs": [
    {
     "data": {
      "text/html": [
       "<h2 style=\"padding-left: 1em;\">Total commits: 4</h2>"
      ],
      "text/plain": [
       "<IPython.core.display.HTML object>"
      ]
     },
     "metadata": {},
     "output_type": "display_data"
    },
    {
     "data": {
      "text/html": [
       "<h2 style=\"padding-left: 1em;\">Total comments: 39</h2>"
      ],
      "text/plain": [
       "<IPython.core.display.HTML object>"
      ]
     },
     "metadata": {},
     "output_type": "display_data"
    }
   ],
   "source": [
    "print_html(\"Total commits: {}\".format(len(commits)))\n",
    "print_html(\"Total comments: {}\".format(len(comments)))"
   ]
  },
  {
   "cell_type": "markdown",
   "metadata": {
    "papermill": {
     "duration": 0.026232,
     "end_time": "2019-03-22T17:28:01.024947",
     "exception": false,
     "start_time": "2019-03-22T17:28:00.998715",
     "status": "completed"
    },
    "tags": []
   },
   "source": [
    "## Top committers"
   ]
  },
  {
   "cell_type": "code",
   "execution_count": 9,
   "metadata": {
    "jupyter": {
     "source_hidden": true
    },
    "papermill": {
     "duration": 0.073094,
     "end_time": "2019-03-22T17:28:01.127180",
     "exception": false,
     "start_time": "2019-03-22T17:28:01.054086",
     "status": "completed"
    },
    "tags": []
   },
   "outputs": [],
   "source": [
    "def find_association(user):\n",
    "    person = teams.query('username == @user')\n",
    "    if len(person) == 0:\n",
    "        return 'NONE'\n",
    "    else:\n",
    "        # Return their team (preferring the Binder teams since they're a bit more specific)\n",
    "        return person.iloc[-1]['team']\n",
    "    \n",
    "top_committers['association'] = top_committers['user'].map(find_association)\n",
    "top_commenters['association'] = top_commenters['user'].map(find_association)\n",
    "\n",
    "# Define the color scale we'll use to categorize people\n",
    "color_scale = alt.Scale(\n",
    "    domain=[\"red\", \"lead\", \"blue\", \"jupyterhub\", \"NONE\"],\n",
    "    range=[\"#fdbaba\", \"#fdbaba\", \"#bac5fd\", \"#ffbb74\", \"green\"]\n",
    ")"
   ]
  },
  {
   "cell_type": "code",
   "execution_count": 10,
   "metadata": {
    "jupyter": {
     "source_hidden": true
    },
    "papermill": {
     "duration": 0.087661,
     "end_time": "2019-03-22T17:28:01.243301",
     "exception": false,
     "start_time": "2019-03-22T17:28:01.155640",
     "status": "completed"
    },
    "tags": []
   },
   "outputs": [
    {
     "data": {
      "application/vnd.vegalite.v2+json": {
       "$schema": "https://vega.github.io/schema/vega-lite/v2.6.0.json",
       "config": {
        "view": {
         "height": 300,
         "width": 400
        }
       },
       "data": {
        "name": "data-666d5b490773dfae8f00e601b914e7f4"
       },
       "datasets": {
        "data-666d5b490773dfae8f00e601b914e7f4": [
         {
          "association": "red",
          "commits": 2,
          "user": "betatim"
         },
         {
          "association": "NONE",
          "commits": 1,
          "user": "simonflood"
         },
         {
          "association": "NONE",
          "commits": 1,
          "user": "drj11"
         }
        ]
       },
       "encoding": {
        "color": {
         "field": "association",
         "scale": {
          "domain": [
           "red",
           "lead",
           "blue",
           "jupyterhub",
           "NONE"
          ],
          "range": [
           "#fdbaba",
           "#fdbaba",
           "#bac5fd",
           "#ffbb74",
           "green"
          ]
         },
         "type": "nominal"
        },
        "x": {
         "field": "commits",
         "type": "quantitative"
        },
        "y": {
         "field": "user",
         "type": "nominal"
        }
       },
       "mark": "bar"
      },
      "text/plain": [
       "<VegaLite 2 object>\n",
       "\n",
       "If you see this message, it means the renderer has not been properly enabled\n",
       "for the frontend that you are using. For more information, see\n",
       "https://altair-viz.github.io/user_guide/troubleshooting.html\n"
      ]
     },
     "execution_count": 10,
     "metadata": {},
     "output_type": "execute_result"
    }
   ],
   "source": [
    "alt.Chart(top_committers).mark_bar().encode(\n",
    "    x='commits',\n",
    "    y='user',\n",
    "    color=alt.Color('association', scale=color_scale)\n",
    ")"
   ]
  },
  {
   "cell_type": "markdown",
   "metadata": {
    "papermill": {
     "duration": 0.046138,
     "end_time": "2019-03-22T17:28:01.327446",
     "exception": false,
     "start_time": "2019-03-22T17:28:01.281308",
     "status": "completed"
    },
    "tags": []
   },
   "source": [
    "## Top commenters"
   ]
  },
  {
   "cell_type": "code",
   "execution_count": 11,
   "metadata": {
    "jupyter": {
     "source_hidden": true
    },
    "papermill": {
     "duration": 0.076342,
     "end_time": "2019-03-22T17:28:01.442494",
     "exception": false,
     "start_time": "2019-03-22T17:28:01.366152",
     "status": "completed"
    },
    "tags": []
   },
   "outputs": [
    {
     "data": {
      "application/vnd.vegalite.v2+json": {
       "$schema": "https://vega.github.io/schema/vega-lite/v2.6.0.json",
       "config": {
        "view": {
         "height": 300,
         "width": 400
        }
       },
       "data": {
        "name": "data-db523dc4968a339d470fcd37c2edba51"
       },
       "datasets": {
        "data-db523dc4968a339d470fcd37c2edba51": [
         {
          "association": "red",
          "comments": 18,
          "user": "betatim"
         },
         {
          "association": "NONE",
          "comments": 7,
          "user": "agitter"
         },
         {
          "association": "red",
          "comments": 5,
          "user": "choldgraf"
         },
         {
          "association": "NONE",
          "comments": 4,
          "user": "emigre459"
         },
         {
          "association": "NONE",
          "comments": 2,
          "user": "garej"
         },
         {
          "association": "red",
          "comments": 1,
          "user": "willingc"
         },
         {
          "association": "NONE",
          "comments": 1,
          "user": "fperez"
         },
         {
          "association": "NONE",
          "comments": 1,
          "user": "dhimmel"
         }
        ]
       },
       "encoding": {
        "color": {
         "field": "association",
         "scale": {
          "domain": [
           "red",
           "lead",
           "blue",
           "jupyterhub",
           "NONE"
          ],
          "range": [
           "#fdbaba",
           "#fdbaba",
           "#bac5fd",
           "#ffbb74",
           "green"
          ]
         },
         "sort": [
          "CONTRIBUTOR",
          "MEMBER",
          "NONE"
         ],
         "type": "nominal"
        },
        "x": {
         "field": "comments",
         "type": "quantitative"
        },
        "y": {
         "field": "user",
         "type": "nominal"
        }
       },
       "mark": "bar"
      },
      "text/plain": [
       "<VegaLite 2 object>\n",
       "\n",
       "If you see this message, it means the renderer has not been properly enabled\n",
       "for the frontend that you are using. For more information, see\n",
       "https://altair-viz.github.io/user_guide/troubleshooting.html\n"
      ]
     },
     "execution_count": 11,
     "metadata": {},
     "output_type": "execute_result"
    }
   ],
   "source": [
    "alt.Chart(top_commenters).mark_bar().encode(\n",
    "    x='comments',\n",
    "    y='user',\n",
    "    color=alt.Color('association', sort=[\"CONTRIBUTOR\", \"MEMBER\", \"NONE\"], scale=color_scale)\n",
    ")"
   ]
  },
  {
   "cell_type": "markdown",
   "metadata": {
    "papermill": {
     "duration": 0.052689,
     "end_time": "2019-03-22T17:28:01.551319",
     "exception": false,
     "start_time": "2019-03-22T17:28:01.498630",
     "status": "completed"
    },
    "tags": []
   },
   "source": [
    "## Percentages of comments and commits"
   ]
  },
  {
   "cell_type": "code",
   "execution_count": 12,
   "metadata": {
    "jupyter": {
     "source_hidden": true
    },
    "papermill": {
     "duration": 0.069261,
     "end_time": "2019-03-22T17:28:01.659221",
     "exception": false,
     "start_time": "2019-03-22T17:28:01.589960",
     "status": "completed"
    },
    "tags": []
   },
   "outputs": [],
   "source": [
    "# Calculate percentages\n",
    "sum_comments = top_commenters.groupby('association')['comments'].sum().reset_index().rename(columns={'comments': \"percent\"})\n",
    "sum_comments['kind'] = \"comments\"\n",
    "sum_comments['percent'] = 100*(sum_comments['percent'] / sum_comments['percent'].sum())\n",
    "\n",
    "sum_commits = top_committers.groupby('association')['commits'].sum().reset_index().rename(columns={'commits': \"percent\"})\n",
    "sum_commits['kind'] = \"commits\"\n",
    "sum_commits['percent'] = 100*(sum_commits['percent'] / sum_commits['percent'].sum())\n",
    "\n",
    "sum_both = pd.concat([sum_comments, sum_commits])"
   ]
  },
  {
   "cell_type": "code",
   "execution_count": 13,
   "metadata": {
    "jupyter": {
     "source_hidden": true
    },
    "papermill": {
     "duration": 0.081874,
     "end_time": "2019-03-22T17:28:01.775166",
     "exception": false,
     "start_time": "2019-03-22T17:28:01.693292",
     "status": "completed"
    },
    "tags": []
   },
   "outputs": [
    {
     "data": {
      "application/vnd.vegalite.v2+json": {
       "$schema": "https://vega.github.io/schema/vega-lite/v2.6.0.json",
       "config": {
        "view": {
         "height": 300,
         "width": 400
        }
       },
       "data": {
        "name": "data-6086be62cd736912ac6a05a87b1ce459"
       },
       "datasets": {
        "data-6086be62cd736912ac6a05a87b1ce459": [
         {
          "association": "NONE",
          "kind": "comments",
          "percent": 38.46153846153847
         },
         {
          "association": "red",
          "kind": "comments",
          "percent": 61.53846153846154
         },
         {
          "association": "NONE",
          "kind": "commits",
          "percent": 50.0
         },
         {
          "association": "red",
          "kind": "commits",
          "percent": 50.0
         }
        ]
       },
       "encoding": {
        "color": {
         "field": "association",
         "scale": {
          "domain": [
           "red",
           "lead",
           "blue",
           "jupyterhub",
           "NONE"
          ],
          "range": [
           "#fdbaba",
           "#fdbaba",
           "#bac5fd",
           "#ffbb74",
           "green"
          ]
         },
         "sort": [
          "CONTRIBUTOR",
          "MEMBER",
          "NONE"
         ],
         "type": "nominal"
        },
        "x": {
         "field": "percent",
         "type": "quantitative"
        },
        "y": {
         "field": "kind",
         "type": "nominal"
        }
       },
       "mark": "bar"
      },
      "text/plain": [
       "<VegaLite 2 object>\n",
       "\n",
       "If you see this message, it means the renderer has not been properly enabled\n",
       "for the frontend that you are using. For more information, see\n",
       "https://altair-viz.github.io/user_guide/troubleshooting.html\n"
      ]
     },
     "execution_count": 13,
     "metadata": {},
     "output_type": "execute_result"
    }
   ],
   "source": [
    "alt.Chart(sum_both).mark_bar().encode(\n",
    "    x='percent',\n",
    "    y='kind',\n",
    "    color=alt.Color('association', sort=[\"CONTRIBUTOR\", \"MEMBER\", \"NONE\"], scale=color_scale)\n",
    ")"
   ]
  },
  {
   "cell_type": "code",
   "execution_count": null,
   "metadata": {
    "jupyter": {
     "source_hidden": true
    },
    "papermill": {
     "duration": 0.0354,
     "end_time": "2019-03-22T17:28:01.845235",
     "exception": false,
     "start_time": "2019-03-22T17:28:01.809835",
     "status": "completed"
    },
    "tags": []
   },
   "outputs": [],
   "source": []
  }
 ],
 "metadata": {
  "kernelspec": {
   "display_name": "Python 3",
   "language": "python",
   "name": "python3"
  },
  "language_info": {
   "codemirror_mode": {
    "name": "ipython",
    "version": 3
   },
   "file_extension": ".py",
   "mimetype": "text/x-python",
   "name": "python",
   "nbconvert_exporter": "python",
   "pygments_lexer": "ipython3",
   "version": "3.6.5"
  },
  "papermill": {
   "duration": 7.626114,
   "end_time": "2019-03-22T17:28:02.710225",
   "environment_variables": {},
   "exception": null,
   "input_path": "./templates/comments_commits.ipynb",
   "output_path": "../reports/2019-02-20/jupyterhub/binder/comments_commits.ipynb",
   "parameters": {
    "date": "2019-02-20",
    "org": "jupyterhub",
    "repo": "binder"
   },
   "start_time": "2019-03-22T17:27:55.084111",
   "version": "0.18.0"
  }
 },
 "nbformat": 4,
 "nbformat_minor": 2
}