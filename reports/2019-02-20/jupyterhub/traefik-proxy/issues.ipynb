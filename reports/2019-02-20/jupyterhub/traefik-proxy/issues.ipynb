{
 "cells": [
  {
   "cell_type": "code",
   "execution_count": 1,
   "metadata": {
    "jupyter": {
     "source_hidden": true
    },
    "papermill": {
     "duration": 1.061994,
     "end_time": "2019-03-22T17:29:30.210317",
     "exception": false,
     "start_time": "2019-03-22T17:29:29.148323",
     "status": "completed"
    },
    "tags": []
   },
   "outputs": [],
   "source": [
    "import pandas as pd\n",
    "from datetime import timedelta\n",
    "from IPython.display import HTML, display"
   ]
  },
  {
   "cell_type": "code",
   "execution_count": 2,
   "metadata": {
    "jupyter": {
     "source_hidden": true
    },
    "papermill": {
     "duration": 0.042437,
     "end_time": "2019-03-22T17:29:30.286633",
     "exception": false,
     "start_time": "2019-03-22T17:29:30.244196",
     "status": "completed"
    },
    "tags": [
     "parameters"
    ]
   },
   "outputs": [],
   "source": [
    "date = pd.datetime.today() - timedelta(days=30)\n",
    "org = 'jupyterhub'\n",
    "repo = 'zero-to-jupyterhub-k8s'"
   ]
  },
  {
   "cell_type": "code",
   "execution_count": 3,
   "metadata": {
    "jupyter": {
     "source_hidden": true
    },
    "papermill": {
     "duration": 0.039888,
     "end_time": "2019-03-22T17:29:30.356106",
     "exception": false,
     "start_time": "2019-03-22T17:29:30.316218",
     "status": "completed"
    },
    "tags": [
     "injected-parameters"
    ]
   },
   "outputs": [],
   "source": [
    "# Parameters\n",
    "org = \"jupyterhub\"\n",
    "repo = \"traefik-proxy\"\n",
    "date = \"2019-02-20\"\n"
   ]
  },
  {
   "cell_type": "code",
   "execution_count": 4,
   "metadata": {
    "jupyter": {
     "source_hidden": true
    },
    "papermill": {
     "duration": 0.04322,
     "end_time": "2019-03-22T17:29:30.435731",
     "exception": false,
     "start_time": "2019-03-22T17:29:30.392511",
     "status": "completed"
    },
    "tags": []
   },
   "outputs": [],
   "source": [
    "# Definition of a stale issue/PR (how many days since last updated)\n",
    "stale_days = 30\n",
    "date_stale = pd.to_datetime(date) - timedelta(days=stale_days)"
   ]
  },
  {
   "cell_type": "markdown",
   "metadata": {
    "papermill": {
     "duration": 0.04647,
     "end_time": "2019-03-22T17:29:30.549075",
     "exception": false,
     "start_time": "2019-03-22T17:29:30.502605",
     "status": "completed"
    },
    "tags": []
   },
   "source": [
    "# Opened and Closed Issues and PRs\n",
    "\n",
    "This report shows opened and closed issues / PRs over the last 30 days, with a\n",
    "particular focus on items that haven't had a lot of discussion, or that have\n",
    "been opened by people who aren't team-members. The goal of this page is to make\n",
    "it easier to spot places where some input would be appreciated!"
   ]
  },
  {
   "cell_type": "markdown",
   "metadata": {
    "papermill": {
     "duration": 0.034555,
     "end_time": "2019-03-22T17:29:30.613482",
     "exception": false,
     "start_time": "2019-03-22T17:29:30.578927",
     "status": "completed"
    },
    "tags": []
   },
   "source": [
    "# Imports"
   ]
  },
  {
   "cell_type": "code",
   "execution_count": 5,
   "metadata": {
    "jupyter": {
     "source_hidden": true
    },
    "papermill": {
     "duration": 0.38762,
     "end_time": "2019-03-22T17:29:31.032182",
     "exception": false,
     "start_time": "2019-03-22T17:29:30.644562",
     "status": "completed"
    },
    "tags": []
   },
   "outputs": [],
   "source": [
    "import pandas as pd\n",
    "from subprocess import run, PIPE\n",
    "from watchtower import issues_\n",
    "from glob import glob\n",
    "import os.path as op\n",
    "import shutil as sh\n",
    "import sys\n",
    "sys.path.append('../../scripts/')"
   ]
  },
  {
   "cell_type": "markdown",
   "metadata": {
    "papermill": {
     "duration": 0.032572,
     "end_time": "2019-03-22T17:29:31.103746",
     "exception": false,
     "start_time": "2019-03-22T17:29:31.071174",
     "status": "completed"
    },
    "tags": []
   },
   "source": [
    "## styling functions"
   ]
  },
  {
   "cell_type": "code",
   "execution_count": 6,
   "metadata": {
    "jupyter": {
     "source_hidden": true
    },
    "papermill": {
     "duration": 0.047176,
     "end_time": "2019-03-22T17:29:31.185198",
     "exception": false,
     "start_time": "2019-03-22T17:29:31.138022",
     "status": "completed"
    },
    "tags": []
   },
   "outputs": [],
   "source": [
    "def highlight_rows(val):\n",
    "    \"\"\"Highlights cells pertaining to non-members and w/ no comments\"\"\"\n",
    "    disp = ''\n",
    "    if val == 0 or val == \"NONE\":\n",
    "        disp += 'background-color: #f7b7b7'\n",
    "    elif val == \"FIRST_TIME_CONTRIBUTOR\":\n",
    "        disp += 'background-color: red'\n",
    "    return disp\n",
    "\n",
    "def make_clickable(val):\n",
    "    # target _blank to open new window\n",
    "    return '<a target=\"_blank\" href=\"{}\">{}</a>'.format(val, val)\n",
    "\n",
    "def print_html(msg):\n",
    "    display(HTML('<h2 style=\"padding-left: 1em;\">{}</h2>'.format(msg)))\n",
    "    \n",
    "pd.options.display.max_colwidth = 200"
   ]
  },
  {
   "cell_type": "markdown",
   "metadata": {
    "papermill": {
     "duration": 0.034344,
     "end_time": "2019-03-22T17:29:31.252934",
     "exception": false,
     "start_time": "2019-03-22T17:29:31.218590",
     "status": "completed"
    },
    "tags": []
   },
   "source": [
    "## Load data"
   ]
  },
  {
   "cell_type": "code",
   "execution_count": 7,
   "metadata": {
    "jupyter": {
     "source_hidden": true
    },
    "papermill": {
     "duration": 0.127372,
     "end_time": "2019-03-22T17:29:31.417070",
     "exception": false,
     "start_time": "2019-03-22T17:29:31.289698",
     "status": "completed"
    },
    "tags": []
   },
   "outputs": [],
   "source": [
    "# Issues\n",
    "issues = issues_.load_issues(org, repo)\n",
    "issues['user'] = issues['user'].map(lambda a: a['login'])"
   ]
  },
  {
   "cell_type": "markdown",
   "metadata": {
    "papermill": {
     "duration": 0.032816,
     "end_time": "2019-03-22T17:29:31.481384",
     "exception": false,
     "start_time": "2019-03-22T17:29:31.448568",
     "status": "completed"
    },
    "tags": []
   },
   "source": [
    "# New activity"
   ]
  },
  {
   "cell_type": "markdown",
   "metadata": {
    "papermill": {
     "duration": 0.080254,
     "end_time": "2019-03-22T17:29:31.593107",
     "exception": false,
     "start_time": "2019-03-22T17:29:31.512853",
     "status": "completed"
    },
    "tags": []
   },
   "source": [
    "## Opened issues\n",
    "\n",
    "without responses in red"
   ]
  },
  {
   "cell_type": "code",
   "execution_count": 8,
   "metadata": {
    "jupyter": {
     "source_hidden": true
    },
    "papermill": {
     "duration": 0.117413,
     "end_time": "2019-03-22T17:29:31.744111",
     "exception": false,
     "start_time": "2019-03-22T17:29:31.626698",
     "status": "completed"
    },
    "tags": []
   },
   "outputs": [
    {
     "name": "stderr",
     "output_type": "stream",
     "text": [
      "/home/choldgraf/anaconda/envs/dev/lib/python3.6/site-packages/ipykernel_launcher.py:3: SettingWithCopyWarning: \n",
      "A value is trying to be set on a copy of a slice from a DataFrame.\n",
      "Try using .loc[row_indexer,col_indexer] = value instead\n",
      "\n",
      "See the caveats in the documentation: http://pandas.pydata.org/pandas-docs/stable/indexing.html#indexing-view-versus-copy\n",
      "  This is separate from the ipykernel package so we can avoid doing imports until\n"
     ]
    }
   ],
   "source": [
    "opened = issues.query('created_at > @date')\n",
    "opened_issues = opened[opened['pull_request'].isna()]\n",
    "opened_issues['closed'] = ~pd.isnull(opened_issues['closed_at'])"
   ]
  },
  {
   "cell_type": "code",
   "execution_count": 9,
   "metadata": {
    "jupyter": {
     "source_hidden": true
    },
    "papermill": {
     "duration": 0.053654,
     "end_time": "2019-03-22T17:29:31.836378",
     "exception": false,
     "start_time": "2019-03-22T17:29:31.782724",
     "status": "completed"
    },
    "tags": []
   },
   "outputs": [
    {
     "data": {
      "text/html": [
       "<h2 style=\"padding-left: 1em;\">Opened issues: 2</h2>"
      ],
      "text/plain": [
       "<IPython.core.display.HTML object>"
      ]
     },
     "metadata": {},
     "output_type": "display_data"
    }
   ],
   "source": [
    "print_html('Opened issues: {}'.format(len(opened_issues)))"
   ]
  },
  {
   "cell_type": "code",
   "execution_count": 10,
   "metadata": {
    "jupyter": {
     "source_hidden": true
    },
    "papermill": {
     "duration": 1.133766,
     "end_time": "2019-03-22T17:29:33.011321",
     "exception": false,
     "start_time": "2019-03-22T17:29:31.877555",
     "status": "completed"
    },
    "tags": []
   },
   "outputs": [
    {
     "data": {
      "text/html": [
       "<style  type=\"text/css\" >\n",
       "    #T_0e624d2e_4cc8_11e9_a11d_54ee75e0f62drow0_col1 {\n",
       "            background-color:  #f7b7b7;\n",
       "        }    #T_0e624d2e_4cc8_11e9_a11d_54ee75e0f62drow0_col2 {\n",
       "            background-color:  #f7b7b7;\n",
       "        }    #T_0e624d2e_4cc8_11e9_a11d_54ee75e0f62drow0_col3 {\n",
       "            background-color:  #f7b7b7;\n",
       "        }    #T_0e624d2e_4cc8_11e9_a11d_54ee75e0f62drow1_col2 {\n",
       "            background-color:  #f7b7b7;\n",
       "        }</style><table id=\"T_0e624d2e_4cc8_11e9_a11d_54ee75e0f62d\" ><thead>    <tr>        <th class=\"col_heading level0 col0\" >user</th>        <th class=\"col_heading level0 col1\" >author_association</th>        <th class=\"col_heading level0 col2\" >comments</th>        <th class=\"col_heading level0 col3\" >closed</th>        <th class=\"col_heading level0 col4\" >html_url</th>    </tr></thead><tbody>\n",
       "                <tr>\n",
       "                                <td id=\"T_0e624d2e_4cc8_11e9_a11d_54ee75e0f62drow0_col0\" class=\"data row0 col0\" >Immortalin</td>\n",
       "                        <td id=\"T_0e624d2e_4cc8_11e9_a11d_54ee75e0f62drow0_col1\" class=\"data row0 col1\" >NONE</td>\n",
       "                        <td id=\"T_0e624d2e_4cc8_11e9_a11d_54ee75e0f62drow0_col2\" class=\"data row0 col2\" >0</td>\n",
       "                        <td id=\"T_0e624d2e_4cc8_11e9_a11d_54ee75e0f62drow0_col3\" class=\"data row0 col3\" >False</td>\n",
       "                        <td id=\"T_0e624d2e_4cc8_11e9_a11d_54ee75e0f62drow0_col4\" class=\"data row0 col4\" ><a target=\"_blank\" href=\"https://github.com/jupyterhub/traefik-proxy/issues/53\">https://github.com/jupyterhub/traefik-proxy/issues/53</a></td>\n",
       "            </tr>\n",
       "            <tr>\n",
       "                                <td id=\"T_0e624d2e_4cc8_11e9_a11d_54ee75e0f62drow1_col0\" class=\"data row1 col0\" >minrk</td>\n",
       "                        <td id=\"T_0e624d2e_4cc8_11e9_a11d_54ee75e0f62drow1_col1\" class=\"data row1 col1\" >MEMBER</td>\n",
       "                        <td id=\"T_0e624d2e_4cc8_11e9_a11d_54ee75e0f62drow1_col2\" class=\"data row1 col2\" >0</td>\n",
       "                        <td id=\"T_0e624d2e_4cc8_11e9_a11d_54ee75e0f62drow1_col3\" class=\"data row1 col3\" >True</td>\n",
       "                        <td id=\"T_0e624d2e_4cc8_11e9_a11d_54ee75e0f62drow1_col4\" class=\"data row1 col4\" ><a target=\"_blank\" href=\"https://github.com/jupyterhub/traefik-proxy/issues/50\">https://github.com/jupyterhub/traefik-proxy/issues/50</a></td>\n",
       "            </tr>\n",
       "    </tbody></table>"
      ],
      "text/plain": [
       "<pandas.io.formats.style.Styler at 0x7fb1ac3b0cc0>"
      ]
     },
     "execution_count": 10,
     "metadata": {},
     "output_type": "execute_result"
    }
   ],
   "source": [
    "opened_issues[['user', 'author_association', 'comments', 'closed', 'html_url']]\\\n",
    "    .sort_values(['closed', 'comments']).style.applymap(highlight_rows).format({'html_url': make_clickable}).hide_index()"
   ]
  },
  {
   "cell_type": "markdown",
   "metadata": {
    "papermill": {
     "duration": 0.032383,
     "end_time": "2019-03-22T17:29:33.071524",
     "exception": false,
     "start_time": "2019-03-22T17:29:33.039141",
     "status": "completed"
    },
    "tags": []
   },
   "source": [
    "## Closed issues\n"
   ]
  },
  {
   "cell_type": "code",
   "execution_count": 11,
   "metadata": {
    "jupyter": {
     "source_hidden": true
    },
    "papermill": {
     "duration": 0.047319,
     "end_time": "2019-03-22T17:29:33.151997",
     "exception": false,
     "start_time": "2019-03-22T17:29:33.104678",
     "status": "completed"
    },
    "tags": []
   },
   "outputs": [],
   "source": [
    "closed = issues.query('closed_at > @date')\n",
    "closed_issues = closed[closed['pull_request'].isna()]"
   ]
  },
  {
   "cell_type": "code",
   "execution_count": 12,
   "metadata": {
    "jupyter": {
     "source_hidden": true
    },
    "papermill": {
     "duration": 0.113267,
     "end_time": "2019-03-22T17:29:33.302645",
     "exception": false,
     "start_time": "2019-03-22T17:29:33.189378",
     "status": "completed"
    },
    "tags": []
   },
   "outputs": [
    {
     "data": {
      "text/html": [
       "<style  type=\"text/css\" >\n",
       "    #T_0e8dc0a8_4cc8_11e9_a11d_54ee75e0f62drow0_col2 {\n",
       "            background-color:  #f7b7b7;\n",
       "        }    #T_0e8dc0a8_4cc8_11e9_a11d_54ee75e0f62drow1_col2 {\n",
       "            background-color:  #f7b7b7;\n",
       "        }</style><table id=\"T_0e8dc0a8_4cc8_11e9_a11d_54ee75e0f62d\" ><thead>    <tr>        <th class=\"col_heading level0 col0\" >user</th>        <th class=\"col_heading level0 col1\" >author_association</th>        <th class=\"col_heading level0 col2\" >comments</th>        <th class=\"col_heading level0 col3\" >html_url</th>    </tr></thead><tbody>\n",
       "                <tr>\n",
       "                                <td id=\"T_0e8dc0a8_4cc8_11e9_a11d_54ee75e0f62drow0_col0\" class=\"data row0 col0\" >minrk</td>\n",
       "                        <td id=\"T_0e8dc0a8_4cc8_11e9_a11d_54ee75e0f62drow0_col1\" class=\"data row0 col1\" >MEMBER</td>\n",
       "                        <td id=\"T_0e8dc0a8_4cc8_11e9_a11d_54ee75e0f62drow0_col2\" class=\"data row0 col2\" >0</td>\n",
       "                        <td id=\"T_0e8dc0a8_4cc8_11e9_a11d_54ee75e0f62drow0_col3\" class=\"data row0 col3\" ><a target=\"_blank\" href=\"https://github.com/jupyterhub/traefik-proxy/issues/50\">https://github.com/jupyterhub/traefik-proxy/issues/50</a></td>\n",
       "            </tr>\n",
       "            <tr>\n",
       "                                <td id=\"T_0e8dc0a8_4cc8_11e9_a11d_54ee75e0f62drow1_col0\" class=\"data row1 col0\" >GeorgianaElena</td>\n",
       "                        <td id=\"T_0e8dc0a8_4cc8_11e9_a11d_54ee75e0f62drow1_col1\" class=\"data row1 col1\" >COLLABORATOR</td>\n",
       "                        <td id=\"T_0e8dc0a8_4cc8_11e9_a11d_54ee75e0f62drow1_col2\" class=\"data row1 col2\" >0</td>\n",
       "                        <td id=\"T_0e8dc0a8_4cc8_11e9_a11d_54ee75e0f62drow1_col3\" class=\"data row1 col3\" ><a target=\"_blank\" href=\"https://github.com/jupyterhub/traefik-proxy/issues/45\">https://github.com/jupyterhub/traefik-proxy/issues/45</a></td>\n",
       "            </tr>\n",
       "            <tr>\n",
       "                                <td id=\"T_0e8dc0a8_4cc8_11e9_a11d_54ee75e0f62drow2_col0\" class=\"data row2 col0\" >minrk</td>\n",
       "                        <td id=\"T_0e8dc0a8_4cc8_11e9_a11d_54ee75e0f62drow2_col1\" class=\"data row2 col1\" >MEMBER</td>\n",
       "                        <td id=\"T_0e8dc0a8_4cc8_11e9_a11d_54ee75e0f62drow2_col2\" class=\"data row2 col2\" >1</td>\n",
       "                        <td id=\"T_0e8dc0a8_4cc8_11e9_a11d_54ee75e0f62drow2_col3\" class=\"data row2 col3\" ><a target=\"_blank\" href=\"https://github.com/jupyterhub/traefik-proxy/issues/24\">https://github.com/jupyterhub/traefik-proxy/issues/24</a></td>\n",
       "            </tr>\n",
       "            <tr>\n",
       "                                <td id=\"T_0e8dc0a8_4cc8_11e9_a11d_54ee75e0f62drow3_col0\" class=\"data row3 col0\" >minrk</td>\n",
       "                        <td id=\"T_0e8dc0a8_4cc8_11e9_a11d_54ee75e0f62drow3_col1\" class=\"data row3 col1\" >MEMBER</td>\n",
       "                        <td id=\"T_0e8dc0a8_4cc8_11e9_a11d_54ee75e0f62drow3_col2\" class=\"data row3 col2\" >3</td>\n",
       "                        <td id=\"T_0e8dc0a8_4cc8_11e9_a11d_54ee75e0f62drow3_col3\" class=\"data row3 col3\" ><a target=\"_blank\" href=\"https://github.com/jupyterhub/traefik-proxy/issues/35\">https://github.com/jupyterhub/traefik-proxy/issues/35</a></td>\n",
       "            </tr>\n",
       "            <tr>\n",
       "                                <td id=\"T_0e8dc0a8_4cc8_11e9_a11d_54ee75e0f62drow4_col0\" class=\"data row4 col0\" >minrk</td>\n",
       "                        <td id=\"T_0e8dc0a8_4cc8_11e9_a11d_54ee75e0f62drow4_col1\" class=\"data row4 col1\" >MEMBER</td>\n",
       "                        <td id=\"T_0e8dc0a8_4cc8_11e9_a11d_54ee75e0f62drow4_col2\" class=\"data row4 col2\" >4</td>\n",
       "                        <td id=\"T_0e8dc0a8_4cc8_11e9_a11d_54ee75e0f62drow4_col3\" class=\"data row4 col3\" ><a target=\"_blank\" href=\"https://github.com/jupyterhub/traefik-proxy/issues/32\">https://github.com/jupyterhub/traefik-proxy/issues/32</a></td>\n",
       "            </tr>\n",
       "    </tbody></table>"
      ],
      "text/plain": [
       "<pandas.io.formats.style.Styler at 0x7fb1a7455f28>"
      ]
     },
     "execution_count": 12,
     "metadata": {},
     "output_type": "execute_result"
    }
   ],
   "source": [
    "closed_issues[['user', 'author_association', 'comments', 'html_url']]\\\n",
    "    .sort_values(['comments']).style.applymap(highlight_rows).format({'html_url': make_clickable}).hide_index()"
   ]
  },
  {
   "cell_type": "code",
   "execution_count": 13,
   "metadata": {
    "jupyter": {
     "source_hidden": true
    },
    "papermill": {
     "duration": 0.092926,
     "end_time": "2019-03-22T17:29:33.438972",
     "exception": false,
     "start_time": "2019-03-22T17:29:33.346046",
     "status": "completed"
    },
    "tags": []
   },
   "outputs": [
    {
     "data": {
      "text/html": [
       "<h2 style=\"padding-left: 1em;\">Closed issues: 5</h2>"
      ],
      "text/plain": [
       "<IPython.core.display.HTML object>"
      ]
     },
     "metadata": {},
     "output_type": "display_data"
    }
   ],
   "source": [
    "print_html('Closed issues: {}'.format(len(closed_issues)))"
   ]
  },
  {
   "cell_type": "markdown",
   "metadata": {
    "papermill": {
     "duration": 0.037206,
     "end_time": "2019-03-22T17:29:33.521555",
     "exception": false,
     "start_time": "2019-03-22T17:29:33.484349",
     "status": "completed"
    },
    "tags": []
   },
   "source": [
    "## Opened PRs\n",
    "\n",
    "without responses in red"
   ]
  },
  {
   "cell_type": "code",
   "execution_count": 14,
   "metadata": {
    "jupyter": {
     "source_hidden": true
    },
    "papermill": {
     "duration": 0.147279,
     "end_time": "2019-03-22T17:29:33.714560",
     "exception": false,
     "start_time": "2019-03-22T17:29:33.567281",
     "status": "completed"
    },
    "tags": []
   },
   "outputs": [
    {
     "name": "stderr",
     "output_type": "stream",
     "text": [
      "/home/choldgraf/anaconda/envs/dev/lib/python3.6/site-packages/ipykernel_launcher.py:2: SettingWithCopyWarning: \n",
      "A value is trying to be set on a copy of a slice from a DataFrame.\n",
      "Try using .loc[row_indexer,col_indexer] = value instead\n",
      "\n",
      "See the caveats in the documentation: http://pandas.pydata.org/pandas-docs/stable/indexing.html#indexing-view-versus-copy\n",
      "  \n"
     ]
    }
   ],
   "source": [
    "opened_prs = opened[~opened['pull_request'].isna()]\n",
    "opened_prs['closed'] = ~pd.isnull(opened_prs['closed_at'])\n",
    "\n",
    "closed_prs = closed[~closed['pull_request'].isna()]"
   ]
  },
  {
   "cell_type": "code",
   "execution_count": 15,
   "metadata": {
    "jupyter": {
     "source_hidden": true
    },
    "papermill": {
     "duration": 0.067999,
     "end_time": "2019-03-22T17:29:33.826335",
     "exception": false,
     "start_time": "2019-03-22T17:29:33.758336",
     "status": "completed"
    },
    "tags": []
   },
   "outputs": [
    {
     "data": {
      "text/html": [
       "<h2 style=\"padding-left: 1em;\">Opened PRs: 6</h2>"
      ],
      "text/plain": [
       "<IPython.core.display.HTML object>"
      ]
     },
     "metadata": {},
     "output_type": "display_data"
    }
   ],
   "source": [
    "print_html('Opened PRs: {}'.format(len(opened_prs)))"
   ]
  },
  {
   "cell_type": "code",
   "execution_count": 16,
   "metadata": {
    "jupyter": {
     "source_hidden": true
    },
    "papermill": {
     "duration": 0.127481,
     "end_time": "2019-03-22T17:29:33.998169",
     "exception": false,
     "start_time": "2019-03-22T17:29:33.870688",
     "status": "completed"
    },
    "tags": []
   },
   "outputs": [
    {
     "data": {
      "text/html": [
       "<style  type=\"text/css\" >\n",
       "    #T_0ef7c6f6_4cc8_11e9_a11d_54ee75e0f62drow0_col2 {\n",
       "            background-color:  #f7b7b7;\n",
       "        }    #T_0ef7c6f6_4cc8_11e9_a11d_54ee75e0f62drow0_col3 {\n",
       "            background-color:  #f7b7b7;\n",
       "        }    #T_0ef7c6f6_4cc8_11e9_a11d_54ee75e0f62drow1_col2 {\n",
       "            background-color:  #f7b7b7;\n",
       "        }    #T_0ef7c6f6_4cc8_11e9_a11d_54ee75e0f62drow2_col2 {\n",
       "            background-color:  #f7b7b7;\n",
       "        }</style><table id=\"T_0ef7c6f6_4cc8_11e9_a11d_54ee75e0f62d\" ><thead>    <tr>        <th class=\"col_heading level0 col0\" >user</th>        <th class=\"col_heading level0 col1\" >author_association</th>        <th class=\"col_heading level0 col2\" >comments</th>        <th class=\"col_heading level0 col3\" >closed</th>        <th class=\"col_heading level0 col4\" >html_url</th>    </tr></thead><tbody>\n",
       "                <tr>\n",
       "                                <td id=\"T_0ef7c6f6_4cc8_11e9_a11d_54ee75e0f62drow0_col0\" class=\"data row0 col0\" >GeorgianaElena</td>\n",
       "                        <td id=\"T_0ef7c6f6_4cc8_11e9_a11d_54ee75e0f62drow0_col1\" class=\"data row0 col1\" >COLLABORATOR</td>\n",
       "                        <td id=\"T_0ef7c6f6_4cc8_11e9_a11d_54ee75e0f62drow0_col2\" class=\"data row0 col2\" >0</td>\n",
       "                        <td id=\"T_0ef7c6f6_4cc8_11e9_a11d_54ee75e0f62drow0_col3\" class=\"data row0 col3\" >False</td>\n",
       "                        <td id=\"T_0ef7c6f6_4cc8_11e9_a11d_54ee75e0f62drow0_col4\" class=\"data row0 col4\" ><a target=\"_blank\" href=\"https://github.com/jupyterhub/traefik-proxy/pull/54\">https://github.com/jupyterhub/traefik-proxy/pull/54</a></td>\n",
       "            </tr>\n",
       "            <tr>\n",
       "                                <td id=\"T_0ef7c6f6_4cc8_11e9_a11d_54ee75e0f62drow1_col0\" class=\"data row1 col0\" >minrk</td>\n",
       "                        <td id=\"T_0ef7c6f6_4cc8_11e9_a11d_54ee75e0f62drow1_col1\" class=\"data row1 col1\" >MEMBER</td>\n",
       "                        <td id=\"T_0ef7c6f6_4cc8_11e9_a11d_54ee75e0f62drow1_col2\" class=\"data row1 col2\" >0</td>\n",
       "                        <td id=\"T_0ef7c6f6_4cc8_11e9_a11d_54ee75e0f62drow1_col3\" class=\"data row1 col3\" >True</td>\n",
       "                        <td id=\"T_0ef7c6f6_4cc8_11e9_a11d_54ee75e0f62drow1_col4\" class=\"data row1 col4\" ><a target=\"_blank\" href=\"https://github.com/jupyterhub/traefik-proxy/pull/49\">https://github.com/jupyterhub/traefik-proxy/pull/49</a></td>\n",
       "            </tr>\n",
       "            <tr>\n",
       "                                <td id=\"T_0ef7c6f6_4cc8_11e9_a11d_54ee75e0f62drow2_col0\" class=\"data row2 col0\" >GeorgianaElena</td>\n",
       "                        <td id=\"T_0ef7c6f6_4cc8_11e9_a11d_54ee75e0f62drow2_col1\" class=\"data row2 col1\" >COLLABORATOR</td>\n",
       "                        <td id=\"T_0ef7c6f6_4cc8_11e9_a11d_54ee75e0f62drow2_col2\" class=\"data row2 col2\" >0</td>\n",
       "                        <td id=\"T_0ef7c6f6_4cc8_11e9_a11d_54ee75e0f62drow2_col3\" class=\"data row2 col3\" >True</td>\n",
       "                        <td id=\"T_0ef7c6f6_4cc8_11e9_a11d_54ee75e0f62drow2_col4\" class=\"data row2 col4\" ><a target=\"_blank\" href=\"https://github.com/jupyterhub/traefik-proxy/pull/47\">https://github.com/jupyterhub/traefik-proxy/pull/47</a></td>\n",
       "            </tr>\n",
       "            <tr>\n",
       "                                <td id=\"T_0ef7c6f6_4cc8_11e9_a11d_54ee75e0f62drow3_col0\" class=\"data row3 col0\" >GeorgianaElena</td>\n",
       "                        <td id=\"T_0ef7c6f6_4cc8_11e9_a11d_54ee75e0f62drow3_col1\" class=\"data row3 col1\" >COLLABORATOR</td>\n",
       "                        <td id=\"T_0ef7c6f6_4cc8_11e9_a11d_54ee75e0f62drow3_col2\" class=\"data row3 col2\" >1</td>\n",
       "                        <td id=\"T_0ef7c6f6_4cc8_11e9_a11d_54ee75e0f62drow3_col3\" class=\"data row3 col3\" >True</td>\n",
       "                        <td id=\"T_0ef7c6f6_4cc8_11e9_a11d_54ee75e0f62drow3_col4\" class=\"data row3 col4\" ><a target=\"_blank\" href=\"https://github.com/jupyterhub/traefik-proxy/pull/52\">https://github.com/jupyterhub/traefik-proxy/pull/52</a></td>\n",
       "            </tr>\n",
       "            <tr>\n",
       "                                <td id=\"T_0ef7c6f6_4cc8_11e9_a11d_54ee75e0f62drow4_col0\" class=\"data row4 col0\" >minrk</td>\n",
       "                        <td id=\"T_0ef7c6f6_4cc8_11e9_a11d_54ee75e0f62drow4_col1\" class=\"data row4 col1\" >MEMBER</td>\n",
       "                        <td id=\"T_0ef7c6f6_4cc8_11e9_a11d_54ee75e0f62drow4_col2\" class=\"data row4 col2\" >1</td>\n",
       "                        <td id=\"T_0ef7c6f6_4cc8_11e9_a11d_54ee75e0f62drow4_col3\" class=\"data row4 col3\" >True</td>\n",
       "                        <td id=\"T_0ef7c6f6_4cc8_11e9_a11d_54ee75e0f62drow4_col4\" class=\"data row4 col4\" ><a target=\"_blank\" href=\"https://github.com/jupyterhub/traefik-proxy/pull/51\">https://github.com/jupyterhub/traefik-proxy/pull/51</a></td>\n",
       "            </tr>\n",
       "            <tr>\n",
       "                                <td id=\"T_0ef7c6f6_4cc8_11e9_a11d_54ee75e0f62drow5_col0\" class=\"data row5 col0\" >minrk</td>\n",
       "                        <td id=\"T_0ef7c6f6_4cc8_11e9_a11d_54ee75e0f62drow5_col1\" class=\"data row5 col1\" >MEMBER</td>\n",
       "                        <td id=\"T_0ef7c6f6_4cc8_11e9_a11d_54ee75e0f62drow5_col2\" class=\"data row5 col2\" >2</td>\n",
       "                        <td id=\"T_0ef7c6f6_4cc8_11e9_a11d_54ee75e0f62drow5_col3\" class=\"data row5 col3\" >True</td>\n",
       "                        <td id=\"T_0ef7c6f6_4cc8_11e9_a11d_54ee75e0f62drow5_col4\" class=\"data row5 col4\" ><a target=\"_blank\" href=\"https://github.com/jupyterhub/traefik-proxy/pull/48\">https://github.com/jupyterhub/traefik-proxy/pull/48</a></td>\n",
       "            </tr>\n",
       "    </tbody></table>"
      ],
      "text/plain": [
       "<pandas.io.formats.style.Styler at 0x7fb1a7455a58>"
      ]
     },
     "execution_count": 16,
     "metadata": {},
     "output_type": "execute_result"
    }
   ],
   "source": [
    "opened_prs[['user', 'author_association', 'comments', 'closed', 'html_url']]\\\n",
    "    .sort_values(['closed', 'comments']).style.applymap(highlight_rows).format({'html_url': make_clickable}).hide_index()"
   ]
  },
  {
   "cell_type": "code",
   "execution_count": 17,
   "metadata": {
    "jupyter": {
     "source_hidden": true
    },
    "papermill": {
     "duration": 0.075391,
     "end_time": "2019-03-22T17:29:34.138603",
     "exception": false,
     "start_time": "2019-03-22T17:29:34.063212",
     "status": "completed"
    },
    "tags": []
   },
   "outputs": [
    {
     "data": {
      "text/html": [
       "<h2 style=\"padding-left: 1em;\">Closed PRs: 6</h2>"
      ],
      "text/plain": [
       "<IPython.core.display.HTML object>"
      ]
     },
     "metadata": {},
     "output_type": "display_data"
    }
   ],
   "source": [
    "print_html('Closed PRs: {}'.format(len(closed_prs)))"
   ]
  },
  {
   "cell_type": "code",
   "execution_count": 18,
   "metadata": {
    "jupyter": {
     "source_hidden": true
    },
    "papermill": {
     "duration": 0.092618,
     "end_time": "2019-03-22T17:29:34.287001",
     "exception": false,
     "start_time": "2019-03-22T17:29:34.194383",
     "status": "completed"
    },
    "tags": []
   },
   "outputs": [
    {
     "data": {
      "text/html": [
       "<style  type=\"text/css\" >\n",
       "    #T_0f2533d4_4cc8_11e9_a11d_54ee75e0f62drow0_col2 {\n",
       "            background-color:  #f7b7b7;\n",
       "        }    #T_0f2533d4_4cc8_11e9_a11d_54ee75e0f62drow1_col2 {\n",
       "            background-color:  #f7b7b7;\n",
       "        }</style><table id=\"T_0f2533d4_4cc8_11e9_a11d_54ee75e0f62d\" ><thead>    <tr>        <th class=\"col_heading level0 col0\" >user</th>        <th class=\"col_heading level0 col1\" >author_association</th>        <th class=\"col_heading level0 col2\" >comments</th>        <th class=\"col_heading level0 col3\" >html_url</th>    </tr></thead><tbody>\n",
       "                <tr>\n",
       "                                <td id=\"T_0f2533d4_4cc8_11e9_a11d_54ee75e0f62drow0_col0\" class=\"data row0 col0\" >minrk</td>\n",
       "                        <td id=\"T_0f2533d4_4cc8_11e9_a11d_54ee75e0f62drow0_col1\" class=\"data row0 col1\" >MEMBER</td>\n",
       "                        <td id=\"T_0f2533d4_4cc8_11e9_a11d_54ee75e0f62drow0_col2\" class=\"data row0 col2\" >0</td>\n",
       "                        <td id=\"T_0f2533d4_4cc8_11e9_a11d_54ee75e0f62drow0_col3\" class=\"data row0 col3\" ><a target=\"_blank\" href=\"https://github.com/jupyterhub/traefik-proxy/pull/49\">https://github.com/jupyterhub/traefik-proxy/pull/49</a></td>\n",
       "            </tr>\n",
       "            <tr>\n",
       "                                <td id=\"T_0f2533d4_4cc8_11e9_a11d_54ee75e0f62drow1_col0\" class=\"data row1 col0\" >GeorgianaElena</td>\n",
       "                        <td id=\"T_0f2533d4_4cc8_11e9_a11d_54ee75e0f62drow1_col1\" class=\"data row1 col1\" >COLLABORATOR</td>\n",
       "                        <td id=\"T_0f2533d4_4cc8_11e9_a11d_54ee75e0f62drow1_col2\" class=\"data row1 col2\" >0</td>\n",
       "                        <td id=\"T_0f2533d4_4cc8_11e9_a11d_54ee75e0f62drow1_col3\" class=\"data row1 col3\" ><a target=\"_blank\" href=\"https://github.com/jupyterhub/traefik-proxy/pull/47\">https://github.com/jupyterhub/traefik-proxy/pull/47</a></td>\n",
       "            </tr>\n",
       "            <tr>\n",
       "                                <td id=\"T_0f2533d4_4cc8_11e9_a11d_54ee75e0f62drow2_col0\" class=\"data row2 col0\" >GeorgianaElena</td>\n",
       "                        <td id=\"T_0f2533d4_4cc8_11e9_a11d_54ee75e0f62drow2_col1\" class=\"data row2 col1\" >COLLABORATOR</td>\n",
       "                        <td id=\"T_0f2533d4_4cc8_11e9_a11d_54ee75e0f62drow2_col2\" class=\"data row2 col2\" >1</td>\n",
       "                        <td id=\"T_0f2533d4_4cc8_11e9_a11d_54ee75e0f62drow2_col3\" class=\"data row2 col3\" ><a target=\"_blank\" href=\"https://github.com/jupyterhub/traefik-proxy/pull/52\">https://github.com/jupyterhub/traefik-proxy/pull/52</a></td>\n",
       "            </tr>\n",
       "            <tr>\n",
       "                                <td id=\"T_0f2533d4_4cc8_11e9_a11d_54ee75e0f62drow3_col0\" class=\"data row3 col0\" >minrk</td>\n",
       "                        <td id=\"T_0f2533d4_4cc8_11e9_a11d_54ee75e0f62drow3_col1\" class=\"data row3 col1\" >MEMBER</td>\n",
       "                        <td id=\"T_0f2533d4_4cc8_11e9_a11d_54ee75e0f62drow3_col2\" class=\"data row3 col2\" >1</td>\n",
       "                        <td id=\"T_0f2533d4_4cc8_11e9_a11d_54ee75e0f62drow3_col3\" class=\"data row3 col3\" ><a target=\"_blank\" href=\"https://github.com/jupyterhub/traefik-proxy/pull/51\">https://github.com/jupyterhub/traefik-proxy/pull/51</a></td>\n",
       "            </tr>\n",
       "            <tr>\n",
       "                                <td id=\"T_0f2533d4_4cc8_11e9_a11d_54ee75e0f62drow4_col0\" class=\"data row4 col0\" >GeorgianaElena</td>\n",
       "                        <td id=\"T_0f2533d4_4cc8_11e9_a11d_54ee75e0f62drow4_col1\" class=\"data row4 col1\" >COLLABORATOR</td>\n",
       "                        <td id=\"T_0f2533d4_4cc8_11e9_a11d_54ee75e0f62drow4_col2\" class=\"data row4 col2\" >1</td>\n",
       "                        <td id=\"T_0f2533d4_4cc8_11e9_a11d_54ee75e0f62drow4_col3\" class=\"data row4 col3\" ><a target=\"_blank\" href=\"https://github.com/jupyterhub/traefik-proxy/pull/46\">https://github.com/jupyterhub/traefik-proxy/pull/46</a></td>\n",
       "            </tr>\n",
       "            <tr>\n",
       "                                <td id=\"T_0f2533d4_4cc8_11e9_a11d_54ee75e0f62drow5_col0\" class=\"data row5 col0\" >minrk</td>\n",
       "                        <td id=\"T_0f2533d4_4cc8_11e9_a11d_54ee75e0f62drow5_col1\" class=\"data row5 col1\" >MEMBER</td>\n",
       "                        <td id=\"T_0f2533d4_4cc8_11e9_a11d_54ee75e0f62drow5_col2\" class=\"data row5 col2\" >2</td>\n",
       "                        <td id=\"T_0f2533d4_4cc8_11e9_a11d_54ee75e0f62drow5_col3\" class=\"data row5 col3\" ><a target=\"_blank\" href=\"https://github.com/jupyterhub/traefik-proxy/pull/48\">https://github.com/jupyterhub/traefik-proxy/pull/48</a></td>\n",
       "            </tr>\n",
       "    </tbody></table>"
      ],
      "text/plain": [
       "<pandas.io.formats.style.Styler at 0x7fb1a7455dd8>"
      ]
     },
     "execution_count": 18,
     "metadata": {},
     "output_type": "execute_result"
    }
   ],
   "source": [
    "closed_prs[['user', 'author_association', 'comments', 'html_url']]\\\n",
    "    .sort_values(['comments']).style.applymap(highlight_rows).format({'html_url': make_clickable}).hide_index()"
   ]
  },
  {
   "cell_type": "markdown",
   "metadata": {
    "papermill": {
     "duration": 0.046845,
     "end_time": "2019-03-22T17:29:34.382762",
     "exception": false,
     "start_time": "2019-03-22T17:29:34.335917",
     "status": "completed"
    },
    "tags": []
   },
   "source": [
    "# State of repo\n",
    "\n",
    "## Stale issues"
   ]
  },
  {
   "cell_type": "code",
   "execution_count": 19,
   "metadata": {
    "jupyter": {
     "source_hidden": true
    },
    "papermill": {
     "duration": 0.05665,
     "end_time": "2019-03-22T17:29:34.476021",
     "exception": false,
     "start_time": "2019-03-22T17:29:34.419371",
     "status": "completed"
    },
    "tags": []
   },
   "outputs": [],
   "source": [
    "stale_issues = issues.query('updated_at < @date_stale')\n",
    "stale_issues = stale_issues[stale_issues['closed_at'].isnull()]"
   ]
  },
  {
   "cell_type": "code",
   "execution_count": 20,
   "metadata": {
    "jupyter": {
     "source_hidden": true
    },
    "papermill": {
     "duration": 0.060284,
     "end_time": "2019-03-22T17:29:34.577286",
     "exception": false,
     "start_time": "2019-03-22T17:29:34.517002",
     "status": "completed"
    },
    "tags": []
   },
   "outputs": [
    {
     "data": {
      "text/html": [
       "<style  type=\"text/css\" >\n",
       "</style><table id=\"T_0f5136dc_4cc8_11e9_a11d_54ee75e0f62d\" ><thead>    <tr>        <th class=\"col_heading level0 col0\" >user</th>        <th class=\"col_heading level0 col1\" >author_association</th>        <th class=\"col_heading level0 col2\" >comments</th>        <th class=\"col_heading level0 col3\" >html_url</th>    </tr></thead><tbody>\n",
       "        </tbody></table>"
      ],
      "text/plain": [
       "<pandas.io.formats.style.Styler at 0x7fb1a7381898>"
      ]
     },
     "execution_count": 20,
     "metadata": {},
     "output_type": "execute_result"
    }
   ],
   "source": [
    "stale_issues[['user', 'author_association', 'comments', 'html_url']]\\\n",
    "    .sort_values(['comments']).style.applymap(highlight_rows).format({'html_url': make_clickable}).hide_index()"
   ]
  },
  {
   "cell_type": "code",
   "execution_count": null,
   "metadata": {
    "jupyter": {
     "source_hidden": true
    },
    "papermill": {
     "duration": 0.041008,
     "end_time": "2019-03-22T17:29:34.654032",
     "exception": false,
     "start_time": "2019-03-22T17:29:34.613024",
     "status": "completed"
    },
    "tags": []
   },
   "outputs": [],
   "source": []
  }
 ],
 "metadata": {
  "kernelspec": {
   "display_name": "Python 3",
   "language": "python",
   "name": "python3"
  },
  "language_info": {
   "codemirror_mode": {
    "name": "ipython",
    "version": 3
   },
   "file_extension": ".py",
   "mimetype": "text/x-python",
   "name": "python",
   "nbconvert_exporter": "python",
   "pygments_lexer": "ipython3",
   "version": "3.6.5"
  },
  "papermill": {
   "duration": 8.542867,
   "end_time": "2019-03-22T17:29:35.769046",
   "environment_variables": {},
   "exception": null,
   "input_path": "./templates/issues.ipynb",
   "output_path": "../reports/2019-02-20/jupyterhub/traefik-proxy/issues.ipynb",
   "parameters": {
    "date": "2019-02-20",
    "org": "jupyterhub",
    "repo": "traefik-proxy"
   },
   "start_time": "2019-03-22T17:29:27.226179",
   "version": "0.18.0"
  }
 },
 "nbformat": 4,
 "nbformat_minor": 2
}