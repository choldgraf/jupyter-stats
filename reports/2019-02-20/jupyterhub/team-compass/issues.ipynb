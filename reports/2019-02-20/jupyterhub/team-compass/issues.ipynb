{
 "cells": [
  {
   "cell_type": "code",
   "execution_count": 1,
   "metadata": {
    "jupyter": {
     "source_hidden": true
    },
    "papermill": {
     "duration": 0.927221,
     "end_time": "2019-03-22T17:28:20.264585",
     "exception": false,
     "start_time": "2019-03-22T17:28:19.337364",
     "status": "completed"
    },
    "tags": []
   },
   "outputs": [],
   "source": [
    "import pandas as pd\n",
    "from datetime import timedelta\n",
    "from IPython.display import HTML, display"
   ]
  },
  {
   "cell_type": "code",
   "execution_count": 2,
   "metadata": {
    "jupyter": {
     "source_hidden": true
    },
    "papermill": {
     "duration": 0.059364,
     "end_time": "2019-03-22T17:28:20.369816",
     "exception": false,
     "start_time": "2019-03-22T17:28:20.310452",
     "status": "completed"
    },
    "tags": [
     "parameters"
    ]
   },
   "outputs": [],
   "source": [
    "date = pd.datetime.today() - timedelta(days=30)\n",
    "org = 'jupyterhub'\n",
    "repo = 'zero-to-jupyterhub-k8s'"
   ]
  },
  {
   "cell_type": "code",
   "execution_count": 3,
   "metadata": {
    "jupyter": {
     "source_hidden": true
    },
    "papermill": {
     "duration": 0.08193,
     "end_time": "2019-03-22T17:28:20.506739",
     "exception": false,
     "start_time": "2019-03-22T17:28:20.424809",
     "status": "completed"
    },
    "tags": [
     "injected-parameters"
    ]
   },
   "outputs": [],
   "source": [
    "# Parameters\n",
    "org = \"jupyterhub\"\n",
    "repo = \"team-compass\"\n",
    "date = \"2019-02-20\"\n"
   ]
  },
  {
   "cell_type": "code",
   "execution_count": 4,
   "metadata": {
    "jupyter": {
     "source_hidden": true
    },
    "papermill": {
     "duration": 0.063648,
     "end_time": "2019-03-22T17:28:20.627818",
     "exception": false,
     "start_time": "2019-03-22T17:28:20.564170",
     "status": "completed"
    },
    "tags": []
   },
   "outputs": [],
   "source": [
    "# Definition of a stale issue/PR (how many days since last updated)\n",
    "stale_days = 30\n",
    "date_stale = pd.to_datetime(date) - timedelta(days=stale_days)"
   ]
  },
  {
   "cell_type": "markdown",
   "metadata": {
    "papermill": {
     "duration": 0.039429,
     "end_time": "2019-03-22T17:28:20.719319",
     "exception": false,
     "start_time": "2019-03-22T17:28:20.679890",
     "status": "completed"
    },
    "tags": []
   },
   "source": [
    "# Opened and Closed Issues and PRs\n",
    "\n",
    "This report shows opened and closed issues / PRs over the last 30 days, with a\n",
    "particular focus on items that haven't had a lot of discussion, or that have\n",
    "been opened by people who aren't team-members. The goal of this page is to make\n",
    "it easier to spot places where some input would be appreciated!"
   ]
  },
  {
   "cell_type": "markdown",
   "metadata": {
    "papermill": {
     "duration": 0.031999,
     "end_time": "2019-03-22T17:28:20.786101",
     "exception": false,
     "start_time": "2019-03-22T17:28:20.754102",
     "status": "completed"
    },
    "tags": []
   },
   "source": [
    "# Imports"
   ]
  },
  {
   "cell_type": "code",
   "execution_count": 5,
   "metadata": {
    "jupyter": {
     "source_hidden": true
    },
    "papermill": {
     "duration": 0.397844,
     "end_time": "2019-03-22T17:28:21.219537",
     "exception": false,
     "start_time": "2019-03-22T17:28:20.821693",
     "status": "completed"
    },
    "tags": []
   },
   "outputs": [],
   "source": [
    "import pandas as pd\n",
    "from subprocess import run, PIPE\n",
    "from watchtower import issues_\n",
    "from glob import glob\n",
    "import os.path as op\n",
    "import shutil as sh\n",
    "import sys\n",
    "sys.path.append('../../scripts/')"
   ]
  },
  {
   "cell_type": "markdown",
   "metadata": {
    "papermill": {
     "duration": 0.038209,
     "end_time": "2019-03-22T17:28:21.290092",
     "exception": false,
     "start_time": "2019-03-22T17:28:21.251883",
     "status": "completed"
    },
    "tags": []
   },
   "source": [
    "## styling functions"
   ]
  },
  {
   "cell_type": "code",
   "execution_count": 6,
   "metadata": {
    "jupyter": {
     "source_hidden": true
    },
    "papermill": {
     "duration": 0.045078,
     "end_time": "2019-03-22T17:28:21.369325",
     "exception": false,
     "start_time": "2019-03-22T17:28:21.324247",
     "status": "completed"
    },
    "tags": []
   },
   "outputs": [],
   "source": [
    "def highlight_rows(val):\n",
    "    \"\"\"Highlights cells pertaining to non-members and w/ no comments\"\"\"\n",
    "    disp = ''\n",
    "    if val == 0 or val == \"NONE\":\n",
    "        disp += 'background-color: #f7b7b7'\n",
    "    elif val == \"FIRST_TIME_CONTRIBUTOR\":\n",
    "        disp += 'background-color: red'\n",
    "    return disp\n",
    "\n",
    "def make_clickable(val):\n",
    "    # target _blank to open new window\n",
    "    return '<a target=\"_blank\" href=\"{}\">{}</a>'.format(val, val)\n",
    "\n",
    "def print_html(msg):\n",
    "    display(HTML('<h2 style=\"padding-left: 1em;\">{}</h2>'.format(msg)))\n",
    "    \n",
    "pd.options.display.max_colwidth = 200"
   ]
  },
  {
   "cell_type": "markdown",
   "metadata": {
    "papermill": {
     "duration": 0.034548,
     "end_time": "2019-03-22T17:28:21.436186",
     "exception": false,
     "start_time": "2019-03-22T17:28:21.401638",
     "status": "completed"
    },
    "tags": []
   },
   "source": [
    "## Load data"
   ]
  },
  {
   "cell_type": "code",
   "execution_count": 7,
   "metadata": {
    "jupyter": {
     "source_hidden": true
    },
    "papermill": {
     "duration": 0.126156,
     "end_time": "2019-03-22T17:28:21.594416",
     "exception": false,
     "start_time": "2019-03-22T17:28:21.468260",
     "status": "completed"
    },
    "tags": []
   },
   "outputs": [],
   "source": [
    "# Issues\n",
    "issues = issues_.load_issues(org, repo)\n",
    "issues['user'] = issues['user'].map(lambda a: a['login'])"
   ]
  },
  {
   "cell_type": "markdown",
   "metadata": {
    "papermill": {
     "duration": 0.033841,
     "end_time": "2019-03-22T17:28:21.689100",
     "exception": false,
     "start_time": "2019-03-22T17:28:21.655259",
     "status": "completed"
    },
    "tags": []
   },
   "source": [
    "# New activity"
   ]
  },
  {
   "cell_type": "markdown",
   "metadata": {
    "papermill": {
     "duration": 0.036452,
     "end_time": "2019-03-22T17:28:21.755689",
     "exception": false,
     "start_time": "2019-03-22T17:28:21.719237",
     "status": "completed"
    },
    "tags": []
   },
   "source": [
    "## Opened issues\n",
    "\n",
    "without responses in red"
   ]
  },
  {
   "cell_type": "code",
   "execution_count": 8,
   "metadata": {
    "jupyter": {
     "source_hidden": true
    },
    "papermill": {
     "duration": 0.136285,
     "end_time": "2019-03-22T17:28:21.932224",
     "exception": false,
     "start_time": "2019-03-22T17:28:21.795939",
     "status": "completed"
    },
    "tags": []
   },
   "outputs": [
    {
     "name": "stderr",
     "output_type": "stream",
     "text": [
      "/home/choldgraf/anaconda/envs/dev/lib/python3.6/site-packages/ipykernel_launcher.py:3: SettingWithCopyWarning: \n",
      "A value is trying to be set on a copy of a slice from a DataFrame.\n",
      "Try using .loc[row_indexer,col_indexer] = value instead\n",
      "\n",
      "See the caveats in the documentation: http://pandas.pydata.org/pandas-docs/stable/indexing.html#indexing-view-versus-copy\n",
      "  This is separate from the ipykernel package so we can avoid doing imports until\n"
     ]
    }
   ],
   "source": [
    "opened = issues.query('created_at > @date')\n",
    "opened_issues = opened[opened['pull_request'].isna()]\n",
    "opened_issues['closed'] = ~pd.isnull(opened_issues['closed_at'])"
   ]
  },
  {
   "cell_type": "code",
   "execution_count": 9,
   "metadata": {
    "jupyter": {
     "source_hidden": true
    },
    "papermill": {
     "duration": 0.057881,
     "end_time": "2019-03-22T17:28:22.020123",
     "exception": false,
     "start_time": "2019-03-22T17:28:21.962242",
     "status": "completed"
    },
    "tags": []
   },
   "outputs": [
    {
     "data": {
      "text/html": [
       "<h2 style=\"padding-left: 1em;\">Opened issues: 14</h2>"
      ],
      "text/plain": [
       "<IPython.core.display.HTML object>"
      ]
     },
     "metadata": {},
     "output_type": "display_data"
    }
   ],
   "source": [
    "print_html('Opened issues: {}'.format(len(opened_issues)))"
   ]
  },
  {
   "cell_type": "code",
   "execution_count": 10,
   "metadata": {
    "jupyter": {
     "source_hidden": true
    },
    "papermill": {
     "duration": 1.394036,
     "end_time": "2019-03-22T17:28:23.440476",
     "exception": false,
     "start_time": "2019-03-22T17:28:22.046440",
     "status": "completed"
    },
    "tags": []
   },
   "outputs": [
    {
     "data": {
      "text/html": [
       "<style  type=\"text/css\" >\n",
       "    #T_e4ea090a_4cc7_11e9_a5c0_54ee75e0f62drow0_col2 {\n",
       "            background-color:  #f7b7b7;\n",
       "        }    #T_e4ea090a_4cc7_11e9_a5c0_54ee75e0f62drow0_col3 {\n",
       "            background-color:  #f7b7b7;\n",
       "        }    #T_e4ea090a_4cc7_11e9_a5c0_54ee75e0f62drow1_col2 {\n",
       "            background-color:  #f7b7b7;\n",
       "        }    #T_e4ea090a_4cc7_11e9_a5c0_54ee75e0f62drow1_col3 {\n",
       "            background-color:  #f7b7b7;\n",
       "        }    #T_e4ea090a_4cc7_11e9_a5c0_54ee75e0f62drow2_col3 {\n",
       "            background-color:  #f7b7b7;\n",
       "        }    #T_e4ea090a_4cc7_11e9_a5c0_54ee75e0f62drow3_col3 {\n",
       "            background-color:  #f7b7b7;\n",
       "        }    #T_e4ea090a_4cc7_11e9_a5c0_54ee75e0f62drow4_col3 {\n",
       "            background-color:  #f7b7b7;\n",
       "        }    #T_e4ea090a_4cc7_11e9_a5c0_54ee75e0f62drow5_col3 {\n",
       "            background-color:  #f7b7b7;\n",
       "        }    #T_e4ea090a_4cc7_11e9_a5c0_54ee75e0f62drow6_col3 {\n",
       "            background-color:  #f7b7b7;\n",
       "        }    #T_e4ea090a_4cc7_11e9_a5c0_54ee75e0f62drow7_col3 {\n",
       "            background-color:  #f7b7b7;\n",
       "        }    #T_e4ea090a_4cc7_11e9_a5c0_54ee75e0f62drow8_col3 {\n",
       "            background-color:  #f7b7b7;\n",
       "        }    #T_e4ea090a_4cc7_11e9_a5c0_54ee75e0f62drow9_col3 {\n",
       "            background-color:  #f7b7b7;\n",
       "        }    #T_e4ea090a_4cc7_11e9_a5c0_54ee75e0f62drow10_col3 {\n",
       "            background-color:  #f7b7b7;\n",
       "        }    #T_e4ea090a_4cc7_11e9_a5c0_54ee75e0f62drow11_col3 {\n",
       "            background-color:  #f7b7b7;\n",
       "        }</style><table id=\"T_e4ea090a_4cc7_11e9_a5c0_54ee75e0f62d\" ><thead>    <tr>        <th class=\"col_heading level0 col0\" >user</th>        <th class=\"col_heading level0 col1\" >author_association</th>        <th class=\"col_heading level0 col2\" >comments</th>        <th class=\"col_heading level0 col3\" >closed</th>        <th class=\"col_heading level0 col4\" >html_url</th>    </tr></thead><tbody>\n",
       "                <tr>\n",
       "                                <td id=\"T_e4ea090a_4cc7_11e9_a5c0_54ee75e0f62drow0_col0\" class=\"data row0 col0\" >Zsailer</td>\n",
       "                        <td id=\"T_e4ea090a_4cc7_11e9_a5c0_54ee75e0f62drow0_col1\" class=\"data row0 col1\" >MEMBER</td>\n",
       "                        <td id=\"T_e4ea090a_4cc7_11e9_a5c0_54ee75e0f62drow0_col2\" class=\"data row0 col2\" >0</td>\n",
       "                        <td id=\"T_e4ea090a_4cc7_11e9_a5c0_54ee75e0f62drow0_col3\" class=\"data row0 col3\" >False</td>\n",
       "                        <td id=\"T_e4ea090a_4cc7_11e9_a5c0_54ee75e0f62drow0_col4\" class=\"data row0 col4\" ><a target=\"_blank\" href=\"https://github.com/jupyterhub/team-compass/issues/137\">https://github.com/jupyterhub/team-compass/issues/137</a></td>\n",
       "            </tr>\n",
       "            <tr>\n",
       "                                <td id=\"T_e4ea090a_4cc7_11e9_a5c0_54ee75e0f62drow1_col0\" class=\"data row1 col0\" >betatim</td>\n",
       "                        <td id=\"T_e4ea090a_4cc7_11e9_a5c0_54ee75e0f62drow1_col1\" class=\"data row1 col1\" >MEMBER</td>\n",
       "                        <td id=\"T_e4ea090a_4cc7_11e9_a5c0_54ee75e0f62drow1_col2\" class=\"data row1 col2\" >0</td>\n",
       "                        <td id=\"T_e4ea090a_4cc7_11e9_a5c0_54ee75e0f62drow1_col3\" class=\"data row1 col3\" >False</td>\n",
       "                        <td id=\"T_e4ea090a_4cc7_11e9_a5c0_54ee75e0f62drow1_col4\" class=\"data row1 col4\" ><a target=\"_blank\" href=\"https://github.com/jupyterhub/team-compass/issues/136\">https://github.com/jupyterhub/team-compass/issues/136</a></td>\n",
       "            </tr>\n",
       "            <tr>\n",
       "                                <td id=\"T_e4ea090a_4cc7_11e9_a5c0_54ee75e0f62drow2_col0\" class=\"data row2 col0\" >betatim</td>\n",
       "                        <td id=\"T_e4ea090a_4cc7_11e9_a5c0_54ee75e0f62drow2_col1\" class=\"data row2 col1\" >MEMBER</td>\n",
       "                        <td id=\"T_e4ea090a_4cc7_11e9_a5c0_54ee75e0f62drow2_col2\" class=\"data row2 col2\" >1</td>\n",
       "                        <td id=\"T_e4ea090a_4cc7_11e9_a5c0_54ee75e0f62drow2_col3\" class=\"data row2 col3\" >False</td>\n",
       "                        <td id=\"T_e4ea090a_4cc7_11e9_a5c0_54ee75e0f62drow2_col4\" class=\"data row2 col4\" ><a target=\"_blank\" href=\"https://github.com/jupyterhub/team-compass/issues/125\">https://github.com/jupyterhub/team-compass/issues/125</a></td>\n",
       "            </tr>\n",
       "            <tr>\n",
       "                                <td id=\"T_e4ea090a_4cc7_11e9_a5c0_54ee75e0f62drow3_col0\" class=\"data row3 col0\" >choldgraf</td>\n",
       "                        <td id=\"T_e4ea090a_4cc7_11e9_a5c0_54ee75e0f62drow3_col1\" class=\"data row3 col1\" >MEMBER</td>\n",
       "                        <td id=\"T_e4ea090a_4cc7_11e9_a5c0_54ee75e0f62drow3_col2\" class=\"data row3 col2\" >1</td>\n",
       "                        <td id=\"T_e4ea090a_4cc7_11e9_a5c0_54ee75e0f62drow3_col3\" class=\"data row3 col3\" >False</td>\n",
       "                        <td id=\"T_e4ea090a_4cc7_11e9_a5c0_54ee75e0f62drow3_col4\" class=\"data row3 col4\" ><a target=\"_blank\" href=\"https://github.com/jupyterhub/team-compass/issues/135\">https://github.com/jupyterhub/team-compass/issues/135</a></td>\n",
       "            </tr>\n",
       "            <tr>\n",
       "                                <td id=\"T_e4ea090a_4cc7_11e9_a5c0_54ee75e0f62drow4_col0\" class=\"data row4 col0\" >willingc</td>\n",
       "                        <td id=\"T_e4ea090a_4cc7_11e9_a5c0_54ee75e0f62drow4_col1\" class=\"data row4 col1\" >MEMBER</td>\n",
       "                        <td id=\"T_e4ea090a_4cc7_11e9_a5c0_54ee75e0f62drow4_col2\" class=\"data row4 col2\" >2</td>\n",
       "                        <td id=\"T_e4ea090a_4cc7_11e9_a5c0_54ee75e0f62drow4_col3\" class=\"data row4 col3\" >False</td>\n",
       "                        <td id=\"T_e4ea090a_4cc7_11e9_a5c0_54ee75e0f62drow4_col4\" class=\"data row4 col4\" ><a target=\"_blank\" href=\"https://github.com/jupyterhub/team-compass/issues/132\">https://github.com/jupyterhub/team-compass/issues/132</a></td>\n",
       "            </tr>\n",
       "            <tr>\n",
       "                                <td id=\"T_e4ea090a_4cc7_11e9_a5c0_54ee75e0f62drow5_col0\" class=\"data row5 col0\" >willingc</td>\n",
       "                        <td id=\"T_e4ea090a_4cc7_11e9_a5c0_54ee75e0f62drow5_col1\" class=\"data row5 col1\" >MEMBER</td>\n",
       "                        <td id=\"T_e4ea090a_4cc7_11e9_a5c0_54ee75e0f62drow5_col2\" class=\"data row5 col2\" >4</td>\n",
       "                        <td id=\"T_e4ea090a_4cc7_11e9_a5c0_54ee75e0f62drow5_col3\" class=\"data row5 col3\" >False</td>\n",
       "                        <td id=\"T_e4ea090a_4cc7_11e9_a5c0_54ee75e0f62drow5_col4\" class=\"data row5 col4\" ><a target=\"_blank\" href=\"https://github.com/jupyterhub/team-compass/issues/127\">https://github.com/jupyterhub/team-compass/issues/127</a></td>\n",
       "            </tr>\n",
       "            <tr>\n",
       "                                <td id=\"T_e4ea090a_4cc7_11e9_a5c0_54ee75e0f62drow6_col0\" class=\"data row6 col0\" >choldgraf</td>\n",
       "                        <td id=\"T_e4ea090a_4cc7_11e9_a5c0_54ee75e0f62drow6_col1\" class=\"data row6 col1\" >MEMBER</td>\n",
       "                        <td id=\"T_e4ea090a_4cc7_11e9_a5c0_54ee75e0f62drow6_col2\" class=\"data row6 col2\" >4</td>\n",
       "                        <td id=\"T_e4ea090a_4cc7_11e9_a5c0_54ee75e0f62drow6_col3\" class=\"data row6 col3\" >False</td>\n",
       "                        <td id=\"T_e4ea090a_4cc7_11e9_a5c0_54ee75e0f62drow6_col4\" class=\"data row6 col4\" ><a target=\"_blank\" href=\"https://github.com/jupyterhub/team-compass/issues/133\">https://github.com/jupyterhub/team-compass/issues/133</a></td>\n",
       "            </tr>\n",
       "            <tr>\n",
       "                                <td id=\"T_e4ea090a_4cc7_11e9_a5c0_54ee75e0f62drow7_col0\" class=\"data row7 col0\" >willingc</td>\n",
       "                        <td id=\"T_e4ea090a_4cc7_11e9_a5c0_54ee75e0f62drow7_col1\" class=\"data row7 col1\" >MEMBER</td>\n",
       "                        <td id=\"T_e4ea090a_4cc7_11e9_a5c0_54ee75e0f62drow7_col2\" class=\"data row7 col2\" >4</td>\n",
       "                        <td id=\"T_e4ea090a_4cc7_11e9_a5c0_54ee75e0f62drow7_col3\" class=\"data row7 col3\" >False</td>\n",
       "                        <td id=\"T_e4ea090a_4cc7_11e9_a5c0_54ee75e0f62drow7_col4\" class=\"data row7 col4\" ><a target=\"_blank\" href=\"https://github.com/jupyterhub/team-compass/issues/131\">https://github.com/jupyterhub/team-compass/issues/131</a></td>\n",
       "            </tr>\n",
       "            <tr>\n",
       "                                <td id=\"T_e4ea090a_4cc7_11e9_a5c0_54ee75e0f62drow8_col0\" class=\"data row8 col0\" >choldgraf</td>\n",
       "                        <td id=\"T_e4ea090a_4cc7_11e9_a5c0_54ee75e0f62drow8_col1\" class=\"data row8 col1\" >MEMBER</td>\n",
       "                        <td id=\"T_e4ea090a_4cc7_11e9_a5c0_54ee75e0f62drow8_col2\" class=\"data row8 col2\" >5</td>\n",
       "                        <td id=\"T_e4ea090a_4cc7_11e9_a5c0_54ee75e0f62drow8_col3\" class=\"data row8 col3\" >False</td>\n",
       "                        <td id=\"T_e4ea090a_4cc7_11e9_a5c0_54ee75e0f62drow8_col4\" class=\"data row8 col4\" ><a target=\"_blank\" href=\"https://github.com/jupyterhub/team-compass/issues/120\">https://github.com/jupyterhub/team-compass/issues/120</a></td>\n",
       "            </tr>\n",
       "            <tr>\n",
       "                                <td id=\"T_e4ea090a_4cc7_11e9_a5c0_54ee75e0f62drow9_col0\" class=\"data row9 col0\" >betatim</td>\n",
       "                        <td id=\"T_e4ea090a_4cc7_11e9_a5c0_54ee75e0f62drow9_col1\" class=\"data row9 col1\" >MEMBER</td>\n",
       "                        <td id=\"T_e4ea090a_4cc7_11e9_a5c0_54ee75e0f62drow9_col2\" class=\"data row9 col2\" >5</td>\n",
       "                        <td id=\"T_e4ea090a_4cc7_11e9_a5c0_54ee75e0f62drow9_col3\" class=\"data row9 col3\" >False</td>\n",
       "                        <td id=\"T_e4ea090a_4cc7_11e9_a5c0_54ee75e0f62drow9_col4\" class=\"data row9 col4\" ><a target=\"_blank\" href=\"https://github.com/jupyterhub/team-compass/issues/134\">https://github.com/jupyterhub/team-compass/issues/134</a></td>\n",
       "            </tr>\n",
       "            <tr>\n",
       "                                <td id=\"T_e4ea090a_4cc7_11e9_a5c0_54ee75e0f62drow10_col0\" class=\"data row10 col0\" >betatim</td>\n",
       "                        <td id=\"T_e4ea090a_4cc7_11e9_a5c0_54ee75e0f62drow10_col1\" class=\"data row10 col1\" >MEMBER</td>\n",
       "                        <td id=\"T_e4ea090a_4cc7_11e9_a5c0_54ee75e0f62drow10_col2\" class=\"data row10 col2\" >6</td>\n",
       "                        <td id=\"T_e4ea090a_4cc7_11e9_a5c0_54ee75e0f62drow10_col3\" class=\"data row10 col3\" >False</td>\n",
       "                        <td id=\"T_e4ea090a_4cc7_11e9_a5c0_54ee75e0f62drow10_col4\" class=\"data row10 col4\" ><a target=\"_blank\" href=\"https://github.com/jupyterhub/team-compass/issues/130\">https://github.com/jupyterhub/team-compass/issues/130</a></td>\n",
       "            </tr>\n",
       "            <tr>\n",
       "                                <td id=\"T_e4ea090a_4cc7_11e9_a5c0_54ee75e0f62drow11_col0\" class=\"data row11 col0\" >Zsailer</td>\n",
       "                        <td id=\"T_e4ea090a_4cc7_11e9_a5c0_54ee75e0f62drow11_col1\" class=\"data row11 col1\" >MEMBER</td>\n",
       "                        <td id=\"T_e4ea090a_4cc7_11e9_a5c0_54ee75e0f62drow11_col2\" class=\"data row11 col2\" >7</td>\n",
       "                        <td id=\"T_e4ea090a_4cc7_11e9_a5c0_54ee75e0f62drow11_col3\" class=\"data row11 col3\" >False</td>\n",
       "                        <td id=\"T_e4ea090a_4cc7_11e9_a5c0_54ee75e0f62drow11_col4\" class=\"data row11 col4\" ><a target=\"_blank\" href=\"https://github.com/jupyterhub/team-compass/issues/124\">https://github.com/jupyterhub/team-compass/issues/124</a></td>\n",
       "            </tr>\n",
       "            <tr>\n",
       "                                <td id=\"T_e4ea090a_4cc7_11e9_a5c0_54ee75e0f62drow12_col0\" class=\"data row12 col0\" >betatim</td>\n",
       "                        <td id=\"T_e4ea090a_4cc7_11e9_a5c0_54ee75e0f62drow12_col1\" class=\"data row12 col1\" >MEMBER</td>\n",
       "                        <td id=\"T_e4ea090a_4cc7_11e9_a5c0_54ee75e0f62drow12_col2\" class=\"data row12 col2\" >8</td>\n",
       "                        <td id=\"T_e4ea090a_4cc7_11e9_a5c0_54ee75e0f62drow12_col3\" class=\"data row12 col3\" >True</td>\n",
       "                        <td id=\"T_e4ea090a_4cc7_11e9_a5c0_54ee75e0f62drow12_col4\" class=\"data row12 col4\" ><a target=\"_blank\" href=\"https://github.com/jupyterhub/team-compass/issues/129\">https://github.com/jupyterhub/team-compass/issues/129</a></td>\n",
       "            </tr>\n",
       "            <tr>\n",
       "                                <td id=\"T_e4ea090a_4cc7_11e9_a5c0_54ee75e0f62drow13_col0\" class=\"data row13 col0\" >Zsailer</td>\n",
       "                        <td id=\"T_e4ea090a_4cc7_11e9_a5c0_54ee75e0f62drow13_col1\" class=\"data row13 col1\" >MEMBER</td>\n",
       "                        <td id=\"T_e4ea090a_4cc7_11e9_a5c0_54ee75e0f62drow13_col2\" class=\"data row13 col2\" >15</td>\n",
       "                        <td id=\"T_e4ea090a_4cc7_11e9_a5c0_54ee75e0f62drow13_col3\" class=\"data row13 col3\" >True</td>\n",
       "                        <td id=\"T_e4ea090a_4cc7_11e9_a5c0_54ee75e0f62drow13_col4\" class=\"data row13 col4\" ><a target=\"_blank\" href=\"https://github.com/jupyterhub/team-compass/issues/122\">https://github.com/jupyterhub/team-compass/issues/122</a></td>\n",
       "            </tr>\n",
       "    </tbody></table>"
      ],
      "text/plain": [
       "<pandas.io.formats.style.Styler at 0x7f49b01b3be0>"
      ]
     },
     "execution_count": 10,
     "metadata": {},
     "output_type": "execute_result"
    }
   ],
   "source": [
    "opened_issues[['user', 'author_association', 'comments', 'closed', 'html_url']]\\\n",
    "    .sort_values(['closed', 'comments']).style.applymap(highlight_rows).format({'html_url': make_clickable}).hide_index()"
   ]
  },
  {
   "cell_type": "markdown",
   "metadata": {
    "papermill": {
     "duration": 0.032111,
     "end_time": "2019-03-22T17:28:23.518381",
     "exception": false,
     "start_time": "2019-03-22T17:28:23.486270",
     "status": "completed"
    },
    "tags": []
   },
   "source": [
    "## Closed issues\n"
   ]
  },
  {
   "cell_type": "code",
   "execution_count": 11,
   "metadata": {
    "jupyter": {
     "source_hidden": true
    },
    "papermill": {
     "duration": 0.046364,
     "end_time": "2019-03-22T17:28:23.592288",
     "exception": false,
     "start_time": "2019-03-22T17:28:23.545924",
     "status": "completed"
    },
    "tags": []
   },
   "outputs": [],
   "source": [
    "closed = issues.query('closed_at > @date')\n",
    "closed_issues = closed[closed['pull_request'].isna()]"
   ]
  },
  {
   "cell_type": "code",
   "execution_count": 12,
   "metadata": {
    "jupyter": {
     "source_hidden": true
    },
    "papermill": {
     "duration": 0.097678,
     "end_time": "2019-03-22T17:28:23.738239",
     "exception": false,
     "start_time": "2019-03-22T17:28:23.640561",
     "status": "completed"
    },
    "tags": []
   },
   "outputs": [
    {
     "data": {
      "text/html": [
       "<style  type=\"text/css\" >\n",
       "    #T_e5182e84_4cc7_11e9_a5c0_54ee75e0f62drow0_col2 {\n",
       "            background-color:  #f7b7b7;\n",
       "        }</style><table id=\"T_e5182e84_4cc7_11e9_a5c0_54ee75e0f62d\" ><thead>    <tr>        <th class=\"col_heading level0 col0\" >user</th>        <th class=\"col_heading level0 col1\" >author_association</th>        <th class=\"col_heading level0 col2\" >comments</th>        <th class=\"col_heading level0 col3\" >html_url</th>    </tr></thead><tbody>\n",
       "                <tr>\n",
       "                                <td id=\"T_e5182e84_4cc7_11e9_a5c0_54ee75e0f62drow0_col0\" class=\"data row0 col0\" >choldgraf</td>\n",
       "                        <td id=\"T_e5182e84_4cc7_11e9_a5c0_54ee75e0f62drow0_col1\" class=\"data row0 col1\" >MEMBER</td>\n",
       "                        <td id=\"T_e5182e84_4cc7_11e9_a5c0_54ee75e0f62drow0_col2\" class=\"data row0 col2\" >0</td>\n",
       "                        <td id=\"T_e5182e84_4cc7_11e9_a5c0_54ee75e0f62drow0_col3\" class=\"data row0 col3\" ><a target=\"_blank\" href=\"https://github.com/jupyterhub/team-compass/issues/30\">https://github.com/jupyterhub/team-compass/issues/30</a></td>\n",
       "            </tr>\n",
       "            <tr>\n",
       "                                <td id=\"T_e5182e84_4cc7_11e9_a5c0_54ee75e0f62drow1_col0\" class=\"data row1 col0\" >betatim</td>\n",
       "                        <td id=\"T_e5182e84_4cc7_11e9_a5c0_54ee75e0f62drow1_col1\" class=\"data row1 col1\" >MEMBER</td>\n",
       "                        <td id=\"T_e5182e84_4cc7_11e9_a5c0_54ee75e0f62drow1_col2\" class=\"data row1 col2\" >8</td>\n",
       "                        <td id=\"T_e5182e84_4cc7_11e9_a5c0_54ee75e0f62drow1_col3\" class=\"data row1 col3\" ><a target=\"_blank\" href=\"https://github.com/jupyterhub/team-compass/issues/129\">https://github.com/jupyterhub/team-compass/issues/129</a></td>\n",
       "            </tr>\n",
       "            <tr>\n",
       "                                <td id=\"T_e5182e84_4cc7_11e9_a5c0_54ee75e0f62drow2_col0\" class=\"data row2 col0\" >betatim</td>\n",
       "                        <td id=\"T_e5182e84_4cc7_11e9_a5c0_54ee75e0f62drow2_col1\" class=\"data row2 col1\" >MEMBER</td>\n",
       "                        <td id=\"T_e5182e84_4cc7_11e9_a5c0_54ee75e0f62drow2_col2\" class=\"data row2 col2\" >14</td>\n",
       "                        <td id=\"T_e5182e84_4cc7_11e9_a5c0_54ee75e0f62drow2_col3\" class=\"data row2 col3\" ><a target=\"_blank\" href=\"https://github.com/jupyterhub/team-compass/issues/111\">https://github.com/jupyterhub/team-compass/issues/111</a></td>\n",
       "            </tr>\n",
       "            <tr>\n",
       "                                <td id=\"T_e5182e84_4cc7_11e9_a5c0_54ee75e0f62drow3_col0\" class=\"data row3 col0\" >Zsailer</td>\n",
       "                        <td id=\"T_e5182e84_4cc7_11e9_a5c0_54ee75e0f62drow3_col1\" class=\"data row3 col1\" >MEMBER</td>\n",
       "                        <td id=\"T_e5182e84_4cc7_11e9_a5c0_54ee75e0f62drow3_col2\" class=\"data row3 col2\" >14</td>\n",
       "                        <td id=\"T_e5182e84_4cc7_11e9_a5c0_54ee75e0f62drow3_col3\" class=\"data row3 col3\" ><a target=\"_blank\" href=\"https://github.com/jupyterhub/team-compass/issues/104\">https://github.com/jupyterhub/team-compass/issues/104</a></td>\n",
       "            </tr>\n",
       "            <tr>\n",
       "                                <td id=\"T_e5182e84_4cc7_11e9_a5c0_54ee75e0f62drow4_col0\" class=\"data row4 col0\" >Zsailer</td>\n",
       "                        <td id=\"T_e5182e84_4cc7_11e9_a5c0_54ee75e0f62drow4_col1\" class=\"data row4 col1\" >MEMBER</td>\n",
       "                        <td id=\"T_e5182e84_4cc7_11e9_a5c0_54ee75e0f62drow4_col2\" class=\"data row4 col2\" >15</td>\n",
       "                        <td id=\"T_e5182e84_4cc7_11e9_a5c0_54ee75e0f62drow4_col3\" class=\"data row4 col3\" ><a target=\"_blank\" href=\"https://github.com/jupyterhub/team-compass/issues/122\">https://github.com/jupyterhub/team-compass/issues/122</a></td>\n",
       "            </tr>\n",
       "            <tr>\n",
       "                                <td id=\"T_e5182e84_4cc7_11e9_a5c0_54ee75e0f62drow5_col0\" class=\"data row5 col0\" >betatim</td>\n",
       "                        <td id=\"T_e5182e84_4cc7_11e9_a5c0_54ee75e0f62drow5_col1\" class=\"data row5 col1\" >MEMBER</td>\n",
       "                        <td id=\"T_e5182e84_4cc7_11e9_a5c0_54ee75e0f62drow5_col2\" class=\"data row5 col2\" >25</td>\n",
       "                        <td id=\"T_e5182e84_4cc7_11e9_a5c0_54ee75e0f62drow5_col3\" class=\"data row5 col3\" ><a target=\"_blank\" href=\"https://github.com/jupyterhub/team-compass/issues/110\">https://github.com/jupyterhub/team-compass/issues/110</a></td>\n",
       "            </tr>\n",
       "    </tbody></table>"
      ],
      "text/plain": [
       "<pandas.io.formats.style.Styler at 0x7f49d445cb00>"
      ]
     },
     "execution_count": 12,
     "metadata": {},
     "output_type": "execute_result"
    }
   ],
   "source": [
    "closed_issues[['user', 'author_association', 'comments', 'html_url']]\\\n",
    "    .sort_values(['comments']).style.applymap(highlight_rows).format({'html_url': make_clickable}).hide_index()"
   ]
  },
  {
   "cell_type": "code",
   "execution_count": 13,
   "metadata": {
    "jupyter": {
     "source_hidden": true
    },
    "papermill": {
     "duration": 0.053619,
     "end_time": "2019-03-22T17:28:23.823711",
     "exception": false,
     "start_time": "2019-03-22T17:28:23.770092",
     "status": "completed"
    },
    "tags": []
   },
   "outputs": [
    {
     "data": {
      "text/html": [
       "<h2 style=\"padding-left: 1em;\">Closed issues: 6</h2>"
      ],
      "text/plain": [
       "<IPython.core.display.HTML object>"
      ]
     },
     "metadata": {},
     "output_type": "display_data"
    }
   ],
   "source": [
    "print_html('Closed issues: {}'.format(len(closed_issues)))"
   ]
  },
  {
   "cell_type": "markdown",
   "metadata": {
    "papermill": {
     "duration": 0.037554,
     "end_time": "2019-03-22T17:28:23.893584",
     "exception": false,
     "start_time": "2019-03-22T17:28:23.856030",
     "status": "completed"
    },
    "tags": []
   },
   "source": [
    "## Opened PRs\n",
    "\n",
    "without responses in red"
   ]
  },
  {
   "cell_type": "code",
   "execution_count": 14,
   "metadata": {
    "jupyter": {
     "source_hidden": true
    },
    "papermill": {
     "duration": 0.103763,
     "end_time": "2019-03-22T17:28:24.033274",
     "exception": false,
     "start_time": "2019-03-22T17:28:23.929511",
     "status": "completed"
    },
    "tags": []
   },
   "outputs": [
    {
     "name": "stderr",
     "output_type": "stream",
     "text": [
      "/home/choldgraf/anaconda/envs/dev/lib/python3.6/site-packages/ipykernel_launcher.py:2: SettingWithCopyWarning: \n",
      "A value is trying to be set on a copy of a slice from a DataFrame.\n",
      "Try using .loc[row_indexer,col_indexer] = value instead\n",
      "\n",
      "See the caveats in the documentation: http://pandas.pydata.org/pandas-docs/stable/indexing.html#indexing-view-versus-copy\n",
      "  \n"
     ]
    }
   ],
   "source": [
    "opened_prs = opened[~opened['pull_request'].isna()]\n",
    "opened_prs['closed'] = ~pd.isnull(opened_prs['closed_at'])\n",
    "\n",
    "closed_prs = closed[~closed['pull_request'].isna()]"
   ]
  },
  {
   "cell_type": "code",
   "execution_count": 15,
   "metadata": {
    "jupyter": {
     "source_hidden": true
    },
    "papermill": {
     "duration": 0.056158,
     "end_time": "2019-03-22T17:28:24.127718",
     "exception": false,
     "start_time": "2019-03-22T17:28:24.071560",
     "status": "completed"
    },
    "tags": []
   },
   "outputs": [
    {
     "data": {
      "text/html": [
       "<h2 style=\"padding-left: 1em;\">Opened PRs: 6</h2>"
      ],
      "text/plain": [
       "<IPython.core.display.HTML object>"
      ]
     },
     "metadata": {},
     "output_type": "display_data"
    }
   ],
   "source": [
    "print_html('Opened PRs: {}'.format(len(opened_prs)))"
   ]
  },
  {
   "cell_type": "code",
   "execution_count": 16,
   "metadata": {
    "jupyter": {
     "source_hidden": true
    },
    "papermill": {
     "duration": 0.104492,
     "end_time": "2019-03-22T17:28:24.268033",
     "exception": false,
     "start_time": "2019-03-22T17:28:24.163541",
     "status": "completed"
    },
    "tags": []
   },
   "outputs": [
    {
     "data": {
      "text/html": [
       "<style  type=\"text/css\" >\n",
       "</style><table id=\"T_e568d4ec_4cc7_11e9_a5c0_54ee75e0f62d\" ><thead>    <tr>        <th class=\"col_heading level0 col0\" >user</th>        <th class=\"col_heading level0 col1\" >author_association</th>        <th class=\"col_heading level0 col2\" >comments</th>        <th class=\"col_heading level0 col3\" >closed</th>        <th class=\"col_heading level0 col4\" >html_url</th>    </tr></thead><tbody>\n",
       "                <tr>\n",
       "                                <td id=\"T_e568d4ec_4cc7_11e9_a5c0_54ee75e0f62drow0_col0\" class=\"data row0 col0\" >Zsailer</td>\n",
       "                        <td id=\"T_e568d4ec_4cc7_11e9_a5c0_54ee75e0f62drow0_col1\" class=\"data row0 col1\" >MEMBER</td>\n",
       "                        <td id=\"T_e568d4ec_4cc7_11e9_a5c0_54ee75e0f62drow0_col2\" class=\"data row0 col2\" >1</td>\n",
       "                        <td id=\"T_e568d4ec_4cc7_11e9_a5c0_54ee75e0f62drow0_col3\" class=\"data row0 col3\" >True</td>\n",
       "                        <td id=\"T_e568d4ec_4cc7_11e9_a5c0_54ee75e0f62drow0_col4\" class=\"data row0 col4\" ><a target=\"_blank\" href=\"https://github.com/jupyterhub/team-compass/pull/138\">https://github.com/jupyterhub/team-compass/pull/138</a></td>\n",
       "            </tr>\n",
       "            <tr>\n",
       "                                <td id=\"T_e568d4ec_4cc7_11e9_a5c0_54ee75e0f62drow1_col0\" class=\"data row1 col0\" >choldgraf</td>\n",
       "                        <td id=\"T_e568d4ec_4cc7_11e9_a5c0_54ee75e0f62drow1_col1\" class=\"data row1 col1\" >MEMBER</td>\n",
       "                        <td id=\"T_e568d4ec_4cc7_11e9_a5c0_54ee75e0f62drow1_col2\" class=\"data row1 col2\" >1</td>\n",
       "                        <td id=\"T_e568d4ec_4cc7_11e9_a5c0_54ee75e0f62drow1_col3\" class=\"data row1 col3\" >True</td>\n",
       "                        <td id=\"T_e568d4ec_4cc7_11e9_a5c0_54ee75e0f62drow1_col4\" class=\"data row1 col4\" ><a target=\"_blank\" href=\"https://github.com/jupyterhub/team-compass/pull/128\">https://github.com/jupyterhub/team-compass/pull/128</a></td>\n",
       "            </tr>\n",
       "            <tr>\n",
       "                                <td id=\"T_e568d4ec_4cc7_11e9_a5c0_54ee75e0f62drow2_col0\" class=\"data row2 col0\" >yuvipanda</td>\n",
       "                        <td id=\"T_e568d4ec_4cc7_11e9_a5c0_54ee75e0f62drow2_col1\" class=\"data row2 col1\" >MEMBER</td>\n",
       "                        <td id=\"T_e568d4ec_4cc7_11e9_a5c0_54ee75e0f62drow2_col2\" class=\"data row2 col2\" >1</td>\n",
       "                        <td id=\"T_e568d4ec_4cc7_11e9_a5c0_54ee75e0f62drow2_col3\" class=\"data row2 col3\" >True</td>\n",
       "                        <td id=\"T_e568d4ec_4cc7_11e9_a5c0_54ee75e0f62drow2_col4\" class=\"data row2 col4\" ><a target=\"_blank\" href=\"https://github.com/jupyterhub/team-compass/pull/123\">https://github.com/jupyterhub/team-compass/pull/123</a></td>\n",
       "            </tr>\n",
       "            <tr>\n",
       "                                <td id=\"T_e568d4ec_4cc7_11e9_a5c0_54ee75e0f62drow3_col0\" class=\"data row3 col0\" >Zsailer</td>\n",
       "                        <td id=\"T_e568d4ec_4cc7_11e9_a5c0_54ee75e0f62drow3_col1\" class=\"data row3 col1\" >MEMBER</td>\n",
       "                        <td id=\"T_e568d4ec_4cc7_11e9_a5c0_54ee75e0f62drow3_col2\" class=\"data row3 col2\" >1</td>\n",
       "                        <td id=\"T_e568d4ec_4cc7_11e9_a5c0_54ee75e0f62drow3_col3\" class=\"data row3 col3\" >True</td>\n",
       "                        <td id=\"T_e568d4ec_4cc7_11e9_a5c0_54ee75e0f62drow3_col4\" class=\"data row3 col4\" ><a target=\"_blank\" href=\"https://github.com/jupyterhub/team-compass/pull/121\">https://github.com/jupyterhub/team-compass/pull/121</a></td>\n",
       "            </tr>\n",
       "            <tr>\n",
       "                                <td id=\"T_e568d4ec_4cc7_11e9_a5c0_54ee75e0f62drow4_col0\" class=\"data row4 col0\" >Zsailer</td>\n",
       "                        <td id=\"T_e568d4ec_4cc7_11e9_a5c0_54ee75e0f62drow4_col1\" class=\"data row4 col1\" >MEMBER</td>\n",
       "                        <td id=\"T_e568d4ec_4cc7_11e9_a5c0_54ee75e0f62drow4_col2\" class=\"data row4 col2\" >2</td>\n",
       "                        <td id=\"T_e568d4ec_4cc7_11e9_a5c0_54ee75e0f62drow4_col3\" class=\"data row4 col3\" >True</td>\n",
       "                        <td id=\"T_e568d4ec_4cc7_11e9_a5c0_54ee75e0f62drow4_col4\" class=\"data row4 col4\" ><a target=\"_blank\" href=\"https://github.com/jupyterhub/team-compass/pull/139\">https://github.com/jupyterhub/team-compass/pull/139</a></td>\n",
       "            </tr>\n",
       "            <tr>\n",
       "                                <td id=\"T_e568d4ec_4cc7_11e9_a5c0_54ee75e0f62drow5_col0\" class=\"data row5 col0\" >choldgraf</td>\n",
       "                        <td id=\"T_e568d4ec_4cc7_11e9_a5c0_54ee75e0f62drow5_col1\" class=\"data row5 col1\" >MEMBER</td>\n",
       "                        <td id=\"T_e568d4ec_4cc7_11e9_a5c0_54ee75e0f62drow5_col2\" class=\"data row5 col2\" >2</td>\n",
       "                        <td id=\"T_e568d4ec_4cc7_11e9_a5c0_54ee75e0f62drow5_col3\" class=\"data row5 col3\" >True</td>\n",
       "                        <td id=\"T_e568d4ec_4cc7_11e9_a5c0_54ee75e0f62drow5_col4\" class=\"data row5 col4\" ><a target=\"_blank\" href=\"https://github.com/jupyterhub/team-compass/pull/126\">https://github.com/jupyterhub/team-compass/pull/126</a></td>\n",
       "            </tr>\n",
       "    </tbody></table>"
      ],
      "text/plain": [
       "<pandas.io.formats.style.Styler at 0x7f49ab181dd8>"
      ]
     },
     "execution_count": 16,
     "metadata": {},
     "output_type": "execute_result"
    }
   ],
   "source": [
    "opened_prs[['user', 'author_association', 'comments', 'closed', 'html_url']]\\\n",
    "    .sort_values(['closed', 'comments']).style.applymap(highlight_rows).format({'html_url': make_clickable}).hide_index()"
   ]
  },
  {
   "cell_type": "code",
   "execution_count": 17,
   "metadata": {
    "jupyter": {
     "source_hidden": true
    },
    "papermill": {
     "duration": 0.065463,
     "end_time": "2019-03-22T17:28:24.377112",
     "exception": false,
     "start_time": "2019-03-22T17:28:24.311649",
     "status": "completed"
    },
    "tags": []
   },
   "outputs": [
    {
     "data": {
      "text/html": [
       "<h2 style=\"padding-left: 1em;\">Closed PRs: 6</h2>"
      ],
      "text/plain": [
       "<IPython.core.display.HTML object>"
      ]
     },
     "metadata": {},
     "output_type": "display_data"
    }
   ],
   "source": [
    "print_html('Closed PRs: {}'.format(len(closed_prs)))"
   ]
  },
  {
   "cell_type": "code",
   "execution_count": 18,
   "metadata": {
    "jupyter": {
     "source_hidden": true
    },
    "papermill": {
     "duration": 0.102905,
     "end_time": "2019-03-22T17:28:24.525057",
     "exception": false,
     "start_time": "2019-03-22T17:28:24.422152",
     "status": "completed"
    },
    "tags": []
   },
   "outputs": [
    {
     "data": {
      "text/html": [
       "<style  type=\"text/css\" >\n",
       "</style><table id=\"T_e58faeb4_4cc7_11e9_a5c0_54ee75e0f62d\" ><thead>    <tr>        <th class=\"col_heading level0 col0\" >user</th>        <th class=\"col_heading level0 col1\" >author_association</th>        <th class=\"col_heading level0 col2\" >comments</th>        <th class=\"col_heading level0 col3\" >html_url</th>    </tr></thead><tbody>\n",
       "                <tr>\n",
       "                                <td id=\"T_e58faeb4_4cc7_11e9_a5c0_54ee75e0f62drow0_col0\" class=\"data row0 col0\" >Zsailer</td>\n",
       "                        <td id=\"T_e58faeb4_4cc7_11e9_a5c0_54ee75e0f62drow0_col1\" class=\"data row0 col1\" >MEMBER</td>\n",
       "                        <td id=\"T_e58faeb4_4cc7_11e9_a5c0_54ee75e0f62drow0_col2\" class=\"data row0 col2\" >1</td>\n",
       "                        <td id=\"T_e58faeb4_4cc7_11e9_a5c0_54ee75e0f62drow0_col3\" class=\"data row0 col3\" ><a target=\"_blank\" href=\"https://github.com/jupyterhub/team-compass/pull/138\">https://github.com/jupyterhub/team-compass/pull/138</a></td>\n",
       "            </tr>\n",
       "            <tr>\n",
       "                                <td id=\"T_e58faeb4_4cc7_11e9_a5c0_54ee75e0f62drow1_col0\" class=\"data row1 col0\" >choldgraf</td>\n",
       "                        <td id=\"T_e58faeb4_4cc7_11e9_a5c0_54ee75e0f62drow1_col1\" class=\"data row1 col1\" >MEMBER</td>\n",
       "                        <td id=\"T_e58faeb4_4cc7_11e9_a5c0_54ee75e0f62drow1_col2\" class=\"data row1 col2\" >1</td>\n",
       "                        <td id=\"T_e58faeb4_4cc7_11e9_a5c0_54ee75e0f62drow1_col3\" class=\"data row1 col3\" ><a target=\"_blank\" href=\"https://github.com/jupyterhub/team-compass/pull/128\">https://github.com/jupyterhub/team-compass/pull/128</a></td>\n",
       "            </tr>\n",
       "            <tr>\n",
       "                                <td id=\"T_e58faeb4_4cc7_11e9_a5c0_54ee75e0f62drow2_col0\" class=\"data row2 col0\" >yuvipanda</td>\n",
       "                        <td id=\"T_e58faeb4_4cc7_11e9_a5c0_54ee75e0f62drow2_col1\" class=\"data row2 col1\" >MEMBER</td>\n",
       "                        <td id=\"T_e58faeb4_4cc7_11e9_a5c0_54ee75e0f62drow2_col2\" class=\"data row2 col2\" >1</td>\n",
       "                        <td id=\"T_e58faeb4_4cc7_11e9_a5c0_54ee75e0f62drow2_col3\" class=\"data row2 col3\" ><a target=\"_blank\" href=\"https://github.com/jupyterhub/team-compass/pull/123\">https://github.com/jupyterhub/team-compass/pull/123</a></td>\n",
       "            </tr>\n",
       "            <tr>\n",
       "                                <td id=\"T_e58faeb4_4cc7_11e9_a5c0_54ee75e0f62drow3_col0\" class=\"data row3 col0\" >Zsailer</td>\n",
       "                        <td id=\"T_e58faeb4_4cc7_11e9_a5c0_54ee75e0f62drow3_col1\" class=\"data row3 col1\" >MEMBER</td>\n",
       "                        <td id=\"T_e58faeb4_4cc7_11e9_a5c0_54ee75e0f62drow3_col2\" class=\"data row3 col2\" >1</td>\n",
       "                        <td id=\"T_e58faeb4_4cc7_11e9_a5c0_54ee75e0f62drow3_col3\" class=\"data row3 col3\" ><a target=\"_blank\" href=\"https://github.com/jupyterhub/team-compass/pull/121\">https://github.com/jupyterhub/team-compass/pull/121</a></td>\n",
       "            </tr>\n",
       "            <tr>\n",
       "                                <td id=\"T_e58faeb4_4cc7_11e9_a5c0_54ee75e0f62drow4_col0\" class=\"data row4 col0\" >Zsailer</td>\n",
       "                        <td id=\"T_e58faeb4_4cc7_11e9_a5c0_54ee75e0f62drow4_col1\" class=\"data row4 col1\" >MEMBER</td>\n",
       "                        <td id=\"T_e58faeb4_4cc7_11e9_a5c0_54ee75e0f62drow4_col2\" class=\"data row4 col2\" >2</td>\n",
       "                        <td id=\"T_e58faeb4_4cc7_11e9_a5c0_54ee75e0f62drow4_col3\" class=\"data row4 col3\" ><a target=\"_blank\" href=\"https://github.com/jupyterhub/team-compass/pull/139\">https://github.com/jupyterhub/team-compass/pull/139</a></td>\n",
       "            </tr>\n",
       "            <tr>\n",
       "                                <td id=\"T_e58faeb4_4cc7_11e9_a5c0_54ee75e0f62drow5_col0\" class=\"data row5 col0\" >choldgraf</td>\n",
       "                        <td id=\"T_e58faeb4_4cc7_11e9_a5c0_54ee75e0f62drow5_col1\" class=\"data row5 col1\" >MEMBER</td>\n",
       "                        <td id=\"T_e58faeb4_4cc7_11e9_a5c0_54ee75e0f62drow5_col2\" class=\"data row5 col2\" >2</td>\n",
       "                        <td id=\"T_e58faeb4_4cc7_11e9_a5c0_54ee75e0f62drow5_col3\" class=\"data row5 col3\" ><a target=\"_blank\" href=\"https://github.com/jupyterhub/team-compass/pull/126\">https://github.com/jupyterhub/team-compass/pull/126</a></td>\n",
       "            </tr>\n",
       "    </tbody></table>"
      ],
      "text/plain": [
       "<pandas.io.formats.style.Styler at 0x7f49ab181b70>"
      ]
     },
     "execution_count": 18,
     "metadata": {},
     "output_type": "execute_result"
    }
   ],
   "source": [
    "closed_prs[['user', 'author_association', 'comments', 'html_url']]\\\n",
    "    .sort_values(['comments']).style.applymap(highlight_rows).format({'html_url': make_clickable}).hide_index()"
   ]
  },
  {
   "cell_type": "markdown",
   "metadata": {
    "papermill": {
     "duration": 0.046022,
     "end_time": "2019-03-22T17:28:24.618236",
     "exception": false,
     "start_time": "2019-03-22T17:28:24.572214",
     "status": "completed"
    },
    "tags": []
   },
   "source": [
    "# State of repo\n",
    "\n",
    "## Stale issues"
   ]
  },
  {
   "cell_type": "code",
   "execution_count": 19,
   "metadata": {
    "jupyter": {
     "source_hidden": true
    },
    "papermill": {
     "duration": 0.070302,
     "end_time": "2019-03-22T17:28:24.729013",
     "exception": false,
     "start_time": "2019-03-22T17:28:24.658711",
     "status": "completed"
    },
    "tags": []
   },
   "outputs": [],
   "source": [
    "stale_issues = issues.query('updated_at < @date_stale')\n",
    "stale_issues = stale_issues[stale_issues['closed_at'].isnull()]"
   ]
  },
  {
   "cell_type": "code",
   "execution_count": 20,
   "metadata": {
    "jupyter": {
     "source_hidden": true
    },
    "papermill": {
     "duration": 0.066595,
     "end_time": "2019-03-22T17:28:24.859066",
     "exception": false,
     "start_time": "2019-03-22T17:28:24.792471",
     "status": "completed"
    },
    "tags": []
   },
   "outputs": [
    {
     "data": {
      "text/html": [
       "<style  type=\"text/css\" >\n",
       "</style><table id=\"T_e5c2eb30_4cc7_11e9_a5c0_54ee75e0f62d\" ><thead>    <tr>        <th class=\"col_heading level0 col0\" >user</th>        <th class=\"col_heading level0 col1\" >author_association</th>        <th class=\"col_heading level0 col2\" >comments</th>        <th class=\"col_heading level0 col3\" >html_url</th>    </tr></thead><tbody>\n",
       "        </tbody></table>"
      ],
      "text/plain": [
       "<pandas.io.formats.style.Styler at 0x7f49ab1816a0>"
      ]
     },
     "execution_count": 20,
     "metadata": {},
     "output_type": "execute_result"
    }
   ],
   "source": [
    "stale_issues[['user', 'author_association', 'comments', 'html_url']]\\\n",
    "    .sort_values(['comments']).style.applymap(highlight_rows).format({'html_url': make_clickable}).hide_index()"
   ]
  },
  {
   "cell_type": "code",
   "execution_count": null,
   "metadata": {
    "jupyter": {
     "source_hidden": true
    },
    "papermill": {
     "duration": 0.047119,
     "end_time": "2019-03-22T17:28:24.953771",
     "exception": false,
     "start_time": "2019-03-22T17:28:24.906652",
     "status": "completed"
    },
    "tags": []
   },
   "outputs": [],
   "source": []
  }
 ],
 "metadata": {
  "kernelspec": {
   "display_name": "Python 3",
   "language": "python",
   "name": "python3"
  },
  "language_info": {
   "codemirror_mode": {
    "name": "ipython",
    "version": 3
   },
   "file_extension": ".py",
   "mimetype": "text/x-python",
   "name": "python",
   "nbconvert_exporter": "python",
   "pygments_lexer": "ipython3",
   "version": "3.6.5"
  },
  "papermill": {
   "duration": 8.769152,
   "end_time": "2019-03-22T17:28:26.096807",
   "environment_variables": {},
   "exception": null,
   "input_path": "./templates/issues.ipynb",
   "output_path": "../reports/2019-02-20/jupyterhub/team-compass/issues.ipynb",
   "parameters": {
    "date": "2019-02-20",
    "org": "jupyterhub",
    "repo": "team-compass"
   },
   "start_time": "2019-03-22T17:28:17.327655",
   "version": "0.18.0"
  }
 },
 "nbformat": 4,
 "nbformat_minor": 2
}