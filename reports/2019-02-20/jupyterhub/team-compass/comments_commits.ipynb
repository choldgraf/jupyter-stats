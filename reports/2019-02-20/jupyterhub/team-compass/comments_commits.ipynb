{
 "cells": [
  {
   "cell_type": "code",
   "execution_count": 1,
   "metadata": {
    "jupyter": {
     "source_hidden": true
    },
    "papermill": {
     "duration": 0.88152,
     "end_time": "2019-03-22T17:28:13.144471",
     "exception": false,
     "start_time": "2019-03-22T17:28:12.262951",
     "status": "completed"
    },
    "tags": []
   },
   "outputs": [],
   "source": [
    "import pandas as pd\n",
    "from datetime import timedelta\n",
    "from IPython.display import HTML, display"
   ]
  },
  {
   "cell_type": "code",
   "execution_count": 2,
   "metadata": {
    "jupyter": {
     "source_hidden": true
    },
    "papermill": {
     "duration": 0.033951,
     "end_time": "2019-03-22T17:28:13.202978",
     "exception": false,
     "start_time": "2019-03-22T17:28:13.169027",
     "status": "completed"
    },
    "tags": [
     "parameters"
    ]
   },
   "outputs": [],
   "source": [
    "date = pd.datetime.today() - timedelta(days=30)\n",
    "org = 'jupyterhub'\n",
    "repo = 'zero-to-jupyterhub-k8s'"
   ]
  },
  {
   "cell_type": "code",
   "execution_count": 3,
   "metadata": {
    "jupyter": {
     "source_hidden": true
    },
    "papermill": {
     "duration": 0.031856,
     "end_time": "2019-03-22T17:28:13.259280",
     "exception": false,
     "start_time": "2019-03-22T17:28:13.227424",
     "status": "completed"
    },
    "tags": [
     "injected-parameters"
    ]
   },
   "outputs": [],
   "source": [
    "# Parameters\n",
    "org = \"jupyterhub\"\n",
    "repo = \"team-compass\"\n",
    "date = \"2019-02-20\"\n"
   ]
  },
  {
   "cell_type": "code",
   "execution_count": 4,
   "metadata": {
    "jupyter": {
     "source_hidden": true
    },
    "papermill": {
     "duration": 0.036887,
     "end_time": "2019-03-22T17:28:13.322378",
     "exception": false,
     "start_time": "2019-03-22T17:28:13.285491",
     "status": "completed"
    },
    "tags": []
   },
   "outputs": [],
   "source": [
    "# Make sure date is parsed as a date\n",
    "date = pd.to_datetime(date)"
   ]
  },
  {
   "cell_type": "markdown",
   "metadata": {
    "papermill": {
     "duration": 0.025605,
     "end_time": "2019-03-22T17:28:13.373739",
     "exception": false,
     "start_time": "2019-03-22T17:28:13.348134",
     "status": "completed"
    },
    "tags": []
   },
   "source": [
    "## Comment and commit activity\n",
    "\n",
    "This report shows general comment and commit activity for this repository. It's goal is\n",
    "to give a birds-eye view of where activity is happening across the JupyterHub repositories.\n",
    "It shouldn't be treated as a \"leaderboard\" or set of statistics to optimize for.\n"
   ]
  },
  {
   "cell_type": "markdown",
   "metadata": {
    "papermill": {
     "duration": 0.024458,
     "end_time": "2019-03-22T17:28:13.422652",
     "exception": false,
     "start_time": "2019-03-22T17:28:13.398194",
     "status": "completed"
    },
    "tags": []
   },
   "source": [
    "# Imports"
   ]
  },
  {
   "cell_type": "code",
   "execution_count": 5,
   "metadata": {
    "jupyter": {
     "source_hidden": true
    },
    "papermill": {
     "duration": 1.895869,
     "end_time": "2019-03-22T17:28:15.340813",
     "exception": false,
     "start_time": "2019-03-22T17:28:13.444944",
     "status": "completed"
    },
    "tags": []
   },
   "outputs": [],
   "source": [
    "import pandas as pd\n",
    "import scrapbook as sb\n",
    "from subprocess import run, PIPE\n",
    "from watchtower import comments_, commits_\n",
    "import os.path as op\n",
    "import shutil as sh\n",
    "import os\n",
    "import altair as alt\n",
    "import scrapbook as sb"
   ]
  },
  {
   "cell_type": "code",
   "execution_count": 6,
   "metadata": {
    "jupyter": {
     "source_hidden": true
    },
    "papermill": {
     "duration": 0.041435,
     "end_time": "2019-03-22T17:28:15.405015",
     "exception": false,
     "start_time": "2019-03-22T17:28:15.363580",
     "status": "completed"
    },
    "tags": []
   },
   "outputs": [],
   "source": [
    "# Styling functions\n",
    "\n",
    "def highlight_rows(val):\n",
    "    \"\"\"Highlights cells pertaining to non-members and w/ no comments\"\"\"\n",
    "    disp = ''\n",
    "    if val == 0 or val == \"NONE\":\n",
    "        disp += 'background-color: #f7b7b7'\n",
    "    elif val == \"FIRST_TIME_CONTRIBUTOR\":\n",
    "        disp += 'background-color: red'\n",
    "    return disp\n",
    "\n",
    "def make_clickable(val):\n",
    "    # target _blank to open new window\n",
    "    return '<a target=\"_blank\" href=\"{}\">{}</a>'.format(val, val)\n",
    "\n",
    "def print_html(msg):\n",
    "    display(HTML('<h2 style=\"padding-left: 1em;\">{}</h2>'.format(msg)))\n",
    "    \n",
    "pd.options.display.max_colwidth = 200"
   ]
  },
  {
   "cell_type": "markdown",
   "metadata": {
    "papermill": {
     "duration": 0.028481,
     "end_time": "2019-03-22T17:28:15.457944",
     "exception": false,
     "start_time": "2019-03-22T17:28:15.429463",
     "status": "completed"
    },
    "tags": []
   },
   "source": [
    "## Load data"
   ]
  },
  {
   "cell_type": "code",
   "execution_count": 7,
   "metadata": {
    "jupyter": {
     "source_hidden": true
    },
    "papermill": {
     "duration": 0.235963,
     "end_time": "2019-03-22T17:28:15.726670",
     "exception": false,
     "start_time": "2019-03-22T17:28:15.490707",
     "status": "completed"
    },
    "tags": []
   },
   "outputs": [],
   "source": [
    "teams = pd.read_csv('../../data/teams.csv')\n",
    "\n",
    "comments = comments_.load_comments(org, repo).query('created_at > @date')\n",
    "commits = commits_.load_commits(org, repo).dropna(subset=['author']).query('date > @date')\n",
    "\n",
    "comments['user'] = comments['user'].map(lambda a: a['login'])\n",
    "commits['user'] = commits['author'].map(lambda a: a['login'])\n",
    "\n",
    "top_committers = commits.groupby('user').count()['html_url'].sort_values(ascending=False).reset_index().rename(columns={'html_url': 'commits'})\n",
    "top_commenters = comments.groupby('user').count()['html_url'].sort_values(ascending=False).reset_index().rename(columns={'html_url': 'comments'})\n",
    "\n",
    "# Save committers/commenters\n",
    "path_data_date = '../../reports/{:%Y-%m-%d}/data'.format(date)\n",
    "if not op.isdir(path_data_date):\n",
    "    os.makedirs(path_data_date)\n",
    "top_committers.to_csv(op.join(path_data_date, '{}_{}-top_committers.csv'.format(org, repo)), index=False)\n",
    "top_commenters.to_csv(op.join(path_data_date, '{}_{}-top_commenters.csv'.format(org, repo)), index=False)"
   ]
  },
  {
   "cell_type": "code",
   "execution_count": 8,
   "metadata": {
    "jupyter": {
     "source_hidden": true
    },
    "papermill": {
     "duration": 0.059269,
     "end_time": "2019-03-22T17:28:15.810355",
     "exception": false,
     "start_time": "2019-03-22T17:28:15.751086",
     "status": "completed"
    },
    "tags": []
   },
   "outputs": [
    {
     "data": {
      "text/html": [
       "<h2 style=\"padding-left: 1em;\">Total commits: 12</h2>"
      ],
      "text/plain": [
       "<IPython.core.display.HTML object>"
      ]
     },
     "metadata": {},
     "output_type": "display_data"
    },
    {
     "data": {
      "text/html": [
       "<h2 style=\"padding-left: 1em;\">Total comments: 94</h2>"
      ],
      "text/plain": [
       "<IPython.core.display.HTML object>"
      ]
     },
     "metadata": {},
     "output_type": "display_data"
    }
   ],
   "source": [
    "print_html(\"Total commits: {}\".format(len(commits)))\n",
    "print_html(\"Total comments: {}\".format(len(comments)))"
   ]
  },
  {
   "cell_type": "markdown",
   "metadata": {
    "papermill": {
     "duration": 0.029189,
     "end_time": "2019-03-22T17:28:15.858627",
     "exception": false,
     "start_time": "2019-03-22T17:28:15.829438",
     "status": "completed"
    },
    "tags": []
   },
   "source": [
    "## Top committers"
   ]
  },
  {
   "cell_type": "code",
   "execution_count": 9,
   "metadata": {
    "jupyter": {
     "source_hidden": true
    },
    "papermill": {
     "duration": 0.080145,
     "end_time": "2019-03-22T17:28:15.961981",
     "exception": false,
     "start_time": "2019-03-22T17:28:15.881836",
     "status": "completed"
    },
    "tags": []
   },
   "outputs": [],
   "source": [
    "def find_association(user):\n",
    "    person = teams.query('username == @user')\n",
    "    if len(person) == 0:\n",
    "        return 'NONE'\n",
    "    else:\n",
    "        # Return their team (preferring the Binder teams since they're a bit more specific)\n",
    "        return person.iloc[-1]['team']\n",
    "    \n",
    "top_committers['association'] = top_committers['user'].map(find_association)\n",
    "top_commenters['association'] = top_commenters['user'].map(find_association)\n",
    "\n",
    "# Define the color scale we'll use to categorize people\n",
    "color_scale = alt.Scale(\n",
    "    domain=[\"red\", \"lead\", \"blue\", \"jupyterhub\", \"NONE\"],\n",
    "    range=[\"#fdbaba\", \"#fdbaba\", \"#bac5fd\", \"#ffbb74\", \"green\"]\n",
    ")"
   ]
  },
  {
   "cell_type": "code",
   "execution_count": 10,
   "metadata": {
    "jupyter": {
     "source_hidden": true
    },
    "papermill": {
     "duration": 0.06618,
     "end_time": "2019-03-22T17:28:16.055130",
     "exception": false,
     "start_time": "2019-03-22T17:28:15.988950",
     "status": "completed"
    },
    "tags": []
   },
   "outputs": [
    {
     "data": {
      "application/vnd.vegalite.v2+json": {
       "$schema": "https://vega.github.io/schema/vega-lite/v2.6.0.json",
       "config": {
        "view": {
         "height": 300,
         "width": 400
        }
       },
       "data": {
        "name": "data-19b75209683e24ec71cc9277d8598502"
       },
       "datasets": {
        "data-19b75209683e24ec71cc9277d8598502": [
         {
          "association": "red",
          "commits": 4,
          "user": "choldgraf"
         },
         {
          "association": "blue",
          "commits": 3,
          "user": "Zsailer"
         },
         {
          "association": "red",
          "commits": 2,
          "user": "betatim"
         },
         {
          "association": "red",
          "commits": 1,
          "user": "yuvipanda"
         },
         {
          "association": "lead",
          "commits": 1,
          "user": "minrk"
         },
         {
          "association": "blue",
          "commits": 1,
          "user": "consideRatio"
         }
        ]
       },
       "encoding": {
        "color": {
         "field": "association",
         "scale": {
          "domain": [
           "red",
           "lead",
           "blue",
           "jupyterhub",
           "NONE"
          ],
          "range": [
           "#fdbaba",
           "#fdbaba",
           "#bac5fd",
           "#ffbb74",
           "green"
          ]
         },
         "type": "nominal"
        },
        "x": {
         "field": "commits",
         "type": "quantitative"
        },
        "y": {
         "field": "user",
         "type": "nominal"
        }
       },
       "mark": "bar"
      },
      "text/plain": [
       "<VegaLite 2 object>\n",
       "\n",
       "If you see this message, it means the renderer has not been properly enabled\n",
       "for the frontend that you are using. For more information, see\n",
       "https://altair-viz.github.io/user_guide/troubleshooting.html\n"
      ]
     },
     "execution_count": 10,
     "metadata": {},
     "output_type": "execute_result"
    }
   ],
   "source": [
    "alt.Chart(top_committers).mark_bar().encode(\n",
    "    x='commits',\n",
    "    y='user',\n",
    "    color=alt.Color('association', scale=color_scale)\n",
    ")"
   ]
  },
  {
   "cell_type": "markdown",
   "metadata": {
    "papermill": {
     "duration": 0.019807,
     "end_time": "2019-03-22T17:28:16.094946",
     "exception": false,
     "start_time": "2019-03-22T17:28:16.075139",
     "status": "completed"
    },
    "tags": []
   },
   "source": [
    "## Top commenters"
   ]
  },
  {
   "cell_type": "code",
   "execution_count": 11,
   "metadata": {
    "jupyter": {
     "source_hidden": true
    },
    "papermill": {
     "duration": 0.072251,
     "end_time": "2019-03-22T17:28:16.195680",
     "exception": false,
     "start_time": "2019-03-22T17:28:16.123429",
     "status": "completed"
    },
    "tags": []
   },
   "outputs": [
    {
     "data": {
      "application/vnd.vegalite.v2+json": {
       "$schema": "https://vega.github.io/schema/vega-lite/v2.6.0.json",
       "config": {
        "view": {
         "height": 300,
         "width": 400
        }
       },
       "data": {
        "name": "data-5f6ff9e8e55dc34969fb8b27b69e5b7b"
       },
       "datasets": {
        "data-5f6ff9e8e55dc34969fb8b27b69e5b7b": [
         {
          "association": "red",
          "comments": 29,
          "user": "betatim"
         },
         {
          "association": "red",
          "comments": 20,
          "user": "choldgraf"
         },
         {
          "association": "blue",
          "comments": 17,
          "user": "Zsailer"
         },
         {
          "association": "red",
          "comments": 7,
          "user": "willingc"
         },
         {
          "association": "blue",
          "comments": 7,
          "user": "lheagy"
         },
         {
          "association": "NONE",
          "comments": 7,
          "user": "leportella"
         },
         {
          "association": "blue",
          "comments": 3,
          "user": "consideRatio"
         },
         {
          "association": "NONE",
          "comments": 3,
          "user": "KirstieJane"
         },
         {
          "association": "lead",
          "comments": 1,
          "user": "minrk"
         }
        ]
       },
       "encoding": {
        "color": {
         "field": "association",
         "scale": {
          "domain": [
           "red",
           "lead",
           "blue",
           "jupyterhub",
           "NONE"
          ],
          "range": [
           "#fdbaba",
           "#fdbaba",
           "#bac5fd",
           "#ffbb74",
           "green"
          ]
         },
         "sort": [
          "CONTRIBUTOR",
          "MEMBER",
          "NONE"
         ],
         "type": "nominal"
        },
        "x": {
         "field": "comments",
         "type": "quantitative"
        },
        "y": {
         "field": "user",
         "type": "nominal"
        }
       },
       "mark": "bar"
      },
      "text/plain": [
       "<VegaLite 2 object>\n",
       "\n",
       "If you see this message, it means the renderer has not been properly enabled\n",
       "for the frontend that you are using. For more information, see\n",
       "https://altair-viz.github.io/user_guide/troubleshooting.html\n"
      ]
     },
     "execution_count": 11,
     "metadata": {},
     "output_type": "execute_result"
    }
   ],
   "source": [
    "alt.Chart(top_commenters).mark_bar().encode(\n",
    "    x='comments',\n",
    "    y='user',\n",
    "    color=alt.Color('association', sort=[\"CONTRIBUTOR\", \"MEMBER\", \"NONE\"], scale=color_scale)\n",
    ")"
   ]
  },
  {
   "cell_type": "markdown",
   "metadata": {
    "papermill": {
     "duration": 0.044149,
     "end_time": "2019-03-22T17:28:16.285338",
     "exception": false,
     "start_time": "2019-03-22T17:28:16.241189",
     "status": "completed"
    },
    "tags": []
   },
   "source": [
    "## Percentages of comments and commits"
   ]
  },
  {
   "cell_type": "code",
   "execution_count": 12,
   "metadata": {
    "jupyter": {
     "source_hidden": true
    },
    "papermill": {
     "duration": 0.070932,
     "end_time": "2019-03-22T17:28:16.393308",
     "exception": false,
     "start_time": "2019-03-22T17:28:16.322376",
     "status": "completed"
    },
    "tags": []
   },
   "outputs": [],
   "source": [
    "# Calculate percentages\n",
    "sum_comments = top_commenters.groupby('association')['comments'].sum().reset_index().rename(columns={'comments': \"percent\"})\n",
    "sum_comments['kind'] = \"comments\"\n",
    "sum_comments['percent'] = 100*(sum_comments['percent'] / sum_comments['percent'].sum())\n",
    "\n",
    "sum_commits = top_committers.groupby('association')['commits'].sum().reset_index().rename(columns={'commits': \"percent\"})\n",
    "sum_commits['kind'] = \"commits\"\n",
    "sum_commits['percent'] = 100*(sum_commits['percent'] / sum_commits['percent'].sum())\n",
    "\n",
    "sum_both = pd.concat([sum_comments, sum_commits])"
   ]
  },
  {
   "cell_type": "code",
   "execution_count": 13,
   "metadata": {
    "jupyter": {
     "source_hidden": true
    },
    "papermill": {
     "duration": 0.074308,
     "end_time": "2019-03-22T17:28:16.502453",
     "exception": false,
     "start_time": "2019-03-22T17:28:16.428145",
     "status": "completed"
    },
    "tags": []
   },
   "outputs": [
    {
     "data": {
      "application/vnd.vegalite.v2+json": {
       "$schema": "https://vega.github.io/schema/vega-lite/v2.6.0.json",
       "config": {
        "view": {
         "height": 300,
         "width": 400
        }
       },
       "data": {
        "name": "data-8574bc48d6e94ca2ff7a35e8d55a9adb"
       },
       "datasets": {
        "data-8574bc48d6e94ca2ff7a35e8d55a9adb": [
         {
          "association": "NONE",
          "kind": "comments",
          "percent": 10.638297872340425
         },
         {
          "association": "blue",
          "kind": "comments",
          "percent": 28.723404255319153
         },
         {
          "association": "lead",
          "kind": "comments",
          "percent": 1.0638297872340425
         },
         {
          "association": "red",
          "kind": "comments",
          "percent": 59.57446808510638
         },
         {
          "association": "blue",
          "kind": "commits",
          "percent": 33.33333333333333
         },
         {
          "association": "lead",
          "kind": "commits",
          "percent": 8.333333333333332
         },
         {
          "association": "red",
          "kind": "commits",
          "percent": 58.333333333333336
         }
        ]
       },
       "encoding": {
        "color": {
         "field": "association",
         "scale": {
          "domain": [
           "red",
           "lead",
           "blue",
           "jupyterhub",
           "NONE"
          ],
          "range": [
           "#fdbaba",
           "#fdbaba",
           "#bac5fd",
           "#ffbb74",
           "green"
          ]
         },
         "sort": [
          "CONTRIBUTOR",
          "MEMBER",
          "NONE"
         ],
         "type": "nominal"
        },
        "x": {
         "field": "percent",
         "type": "quantitative"
        },
        "y": {
         "field": "kind",
         "type": "nominal"
        }
       },
       "mark": "bar"
      },
      "text/plain": [
       "<VegaLite 2 object>\n",
       "\n",
       "If you see this message, it means the renderer has not been properly enabled\n",
       "for the frontend that you are using. For more information, see\n",
       "https://altair-viz.github.io/user_guide/troubleshooting.html\n"
      ]
     },
     "execution_count": 13,
     "metadata": {},
     "output_type": "execute_result"
    }
   ],
   "source": [
    "alt.Chart(sum_both).mark_bar().encode(\n",
    "    x='percent',\n",
    "    y='kind',\n",
    "    color=alt.Color('association', sort=[\"CONTRIBUTOR\", \"MEMBER\", \"NONE\"], scale=color_scale)\n",
    ")"
   ]
  },
  {
   "cell_type": "code",
   "execution_count": null,
   "metadata": {
    "jupyter": {
     "source_hidden": true
    },
    "papermill": {
     "duration": 0.035502,
     "end_time": "2019-03-22T17:28:16.566029",
     "exception": false,
     "start_time": "2019-03-22T17:28:16.530527",
     "status": "completed"
    },
    "tags": []
   },
   "outputs": [],
   "source": []
  }
 ],
 "metadata": {
  "kernelspec": {
   "display_name": "Python 3",
   "language": "python",
   "name": "python3"
  },
  "language_info": {
   "codemirror_mode": {
    "name": "ipython",
    "version": 3
   },
   "file_extension": ".py",
   "mimetype": "text/x-python",
   "name": "python",
   "nbconvert_exporter": "python",
   "pygments_lexer": "ipython3",
   "version": "3.6.5"
  },
  "papermill": {
   "duration": 6.649885,
   "end_time": "2019-03-22T17:28:17.161509",
   "environment_variables": {},
   "exception": null,
   "input_path": "./templates/comments_commits.ipynb",
   "output_path": "../reports/2019-02-20/jupyterhub/team-compass/comments_commits.ipynb",
   "parameters": {
    "date": "2019-02-20",
    "org": "jupyterhub",
    "repo": "team-compass"
   },
   "start_time": "2019-03-22T17:28:10.511624",
   "version": "0.18.0"
  }
 },
 "nbformat": 4,
 "nbformat_minor": 2
}