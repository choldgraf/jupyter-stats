{
 "cells": [
  {
   "cell_type": "code",
   "execution_count": 1,
   "metadata": {
    "jupyter": {
     "source_hidden": true
    },
    "papermill": {
     "duration": 1.27178,
     "end_time": "2019-03-22T17:27:45.747604",
     "exception": false,
     "start_time": "2019-03-22T17:27:44.475824",
     "status": "completed"
    },
    "tags": []
   },
   "outputs": [],
   "source": [
    "import pandas as pd\n",
    "from datetime import timedelta\n",
    "from IPython.display import HTML, display"
   ]
  },
  {
   "cell_type": "code",
   "execution_count": 2,
   "metadata": {
    "jupyter": {
     "source_hidden": true
    },
    "papermill": {
     "duration": 0.092594,
     "end_time": "2019-03-22T17:27:45.917160",
     "exception": false,
     "start_time": "2019-03-22T17:27:45.824566",
     "status": "completed"
    },
    "tags": [
     "parameters"
    ]
   },
   "outputs": [],
   "source": [
    "date = pd.datetime.today() - timedelta(days=30)\n",
    "org = 'jupyterhub'\n",
    "repo = 'zero-to-jupyterhub-k8s'"
   ]
  },
  {
   "cell_type": "code",
   "execution_count": 3,
   "metadata": {
    "jupyter": {
     "source_hidden": true
    },
    "papermill": {
     "duration": 0.081264,
     "end_time": "2019-03-22T17:27:46.061369",
     "exception": false,
     "start_time": "2019-03-22T17:27:45.980105",
     "status": "completed"
    },
    "tags": [
     "injected-parameters"
    ]
   },
   "outputs": [],
   "source": [
    "# Parameters\n",
    "org = \"jupyterhub\"\n",
    "repo = \"binderhub\"\n",
    "date = \"2019-02-20\"\n"
   ]
  },
  {
   "cell_type": "code",
   "execution_count": 4,
   "metadata": {
    "jupyter": {
     "source_hidden": true
    },
    "papermill": {
     "duration": 0.080677,
     "end_time": "2019-03-22T17:27:46.209687",
     "exception": false,
     "start_time": "2019-03-22T17:27:46.129010",
     "status": "completed"
    },
    "tags": []
   },
   "outputs": [],
   "source": [
    "# Definition of a stale issue/PR (how many days since last updated)\n",
    "stale_days = 30\n",
    "date_stale = pd.to_datetime(date) - timedelta(days=stale_days)"
   ]
  },
  {
   "cell_type": "markdown",
   "metadata": {
    "papermill": {
     "duration": 0.064672,
     "end_time": "2019-03-22T17:27:46.339802",
     "exception": false,
     "start_time": "2019-03-22T17:27:46.275130",
     "status": "completed"
    },
    "tags": []
   },
   "source": [
    "# Opened and Closed Issues and PRs\n",
    "\n",
    "This report shows opened and closed issues / PRs over the last 30 days, with a\n",
    "particular focus on items that haven't had a lot of discussion, or that have\n",
    "been opened by people who aren't team-members. The goal of this page is to make\n",
    "it easier to spot places where some input would be appreciated!"
   ]
  },
  {
   "cell_type": "markdown",
   "metadata": {
    "papermill": {
     "duration": 0.073627,
     "end_time": "2019-03-22T17:27:46.475250",
     "exception": false,
     "start_time": "2019-03-22T17:27:46.401623",
     "status": "completed"
    },
    "tags": []
   },
   "source": [
    "# Imports"
   ]
  },
  {
   "cell_type": "code",
   "execution_count": 5,
   "metadata": {
    "jupyter": {
     "source_hidden": true
    },
    "papermill": {
     "duration": 0.662519,
     "end_time": "2019-03-22T17:27:47.213996",
     "exception": false,
     "start_time": "2019-03-22T17:27:46.551477",
     "status": "completed"
    },
    "tags": []
   },
   "outputs": [],
   "source": [
    "import pandas as pd\n",
    "from subprocess import run, PIPE\n",
    "from watchtower import issues_\n",
    "from glob import glob\n",
    "import os.path as op\n",
    "import shutil as sh\n",
    "import sys\n",
    "sys.path.append('../../scripts/')"
   ]
  },
  {
   "cell_type": "markdown",
   "metadata": {
    "papermill": {
     "duration": 0.078566,
     "end_time": "2019-03-22T17:27:47.365839",
     "exception": false,
     "start_time": "2019-03-22T17:27:47.287273",
     "status": "completed"
    },
    "tags": []
   },
   "source": [
    "## styling functions"
   ]
  },
  {
   "cell_type": "code",
   "execution_count": 6,
   "metadata": {
    "jupyter": {
     "source_hidden": true
    },
    "papermill": {
     "duration": 0.098133,
     "end_time": "2019-03-22T17:27:47.551079",
     "exception": false,
     "start_time": "2019-03-22T17:27:47.452946",
     "status": "completed"
    },
    "tags": []
   },
   "outputs": [],
   "source": [
    "def highlight_rows(val):\n",
    "    \"\"\"Highlights cells pertaining to non-members and w/ no comments\"\"\"\n",
    "    disp = ''\n",
    "    if val == 0 or val == \"NONE\":\n",
    "        disp += 'background-color: #f7b7b7'\n",
    "    elif val == \"FIRST_TIME_CONTRIBUTOR\":\n",
    "        disp += 'background-color: red'\n",
    "    return disp\n",
    "\n",
    "def make_clickable(val):\n",
    "    # target _blank to open new window\n",
    "    return '<a target=\"_blank\" href=\"{}\">{}</a>'.format(val, val)\n",
    "\n",
    "def print_html(msg):\n",
    "    display(HTML('<h2 style=\"padding-left: 1em;\">{}</h2>'.format(msg)))\n",
    "    \n",
    "pd.options.display.max_colwidth = 200"
   ]
  },
  {
   "cell_type": "markdown",
   "metadata": {
    "papermill": {
     "duration": 0.088876,
     "end_time": "2019-03-22T17:27:47.722288",
     "exception": false,
     "start_time": "2019-03-22T17:27:47.633412",
     "status": "completed"
    },
    "tags": []
   },
   "source": [
    "## Load data"
   ]
  },
  {
   "cell_type": "code",
   "execution_count": 7,
   "metadata": {
    "jupyter": {
     "source_hidden": true
    },
    "papermill": {
     "duration": 0.243614,
     "end_time": "2019-03-22T17:27:48.056617",
     "exception": false,
     "start_time": "2019-03-22T17:27:47.813003",
     "status": "completed"
    },
    "tags": []
   },
   "outputs": [],
   "source": [
    "# Issues\n",
    "issues = issues_.load_issues(org, repo)\n",
    "issues['user'] = issues['user'].map(lambda a: a['login'])"
   ]
  },
  {
   "cell_type": "markdown",
   "metadata": {
    "papermill": {
     "duration": 0.07162,
     "end_time": "2019-03-22T17:27:48.199933",
     "exception": false,
     "start_time": "2019-03-22T17:27:48.128313",
     "status": "completed"
    },
    "tags": []
   },
   "source": [
    "# New activity"
   ]
  },
  {
   "cell_type": "markdown",
   "metadata": {
    "papermill": {
     "duration": 0.06879,
     "end_time": "2019-03-22T17:27:48.339350",
     "exception": false,
     "start_time": "2019-03-22T17:27:48.270560",
     "status": "completed"
    },
    "tags": []
   },
   "source": [
    "## Opened issues\n",
    "\n",
    "without responses in red"
   ]
  },
  {
   "cell_type": "code",
   "execution_count": 8,
   "metadata": {
    "jupyter": {
     "source_hidden": true
    },
    "papermill": {
     "duration": 0.223046,
     "end_time": "2019-03-22T17:27:48.651160",
     "exception": false,
     "start_time": "2019-03-22T17:27:48.428114",
     "status": "completed"
    },
    "tags": []
   },
   "outputs": [
    {
     "name": "stderr",
     "output_type": "stream",
     "text": [
      "/home/choldgraf/anaconda/envs/dev/lib/python3.6/site-packages/ipykernel_launcher.py:3: SettingWithCopyWarning: \n",
      "A value is trying to be set on a copy of a slice from a DataFrame.\n",
      "Try using .loc[row_indexer,col_indexer] = value instead\n",
      "\n",
      "See the caveats in the documentation: http://pandas.pydata.org/pandas-docs/stable/indexing.html#indexing-view-versus-copy\n",
      "  This is separate from the ipykernel package so we can avoid doing imports until\n"
     ]
    }
   ],
   "source": [
    "opened = issues.query('created_at > @date')\n",
    "opened_issues = opened[opened['pull_request'].isna()]\n",
    "opened_issues['closed'] = ~pd.isnull(opened_issues['closed_at'])"
   ]
  },
  {
   "cell_type": "code",
   "execution_count": 9,
   "metadata": {
    "jupyter": {
     "source_hidden": true
    },
    "papermill": {
     "duration": 0.114881,
     "end_time": "2019-03-22T17:27:48.849412",
     "exception": false,
     "start_time": "2019-03-22T17:27:48.734531",
     "status": "completed"
    },
    "tags": []
   },
   "outputs": [
    {
     "data": {
      "text/html": [
       "<h2 style=\"padding-left: 1em;\">Opened issues: 10</h2>"
      ],
      "text/plain": [
       "<IPython.core.display.HTML object>"
      ]
     },
     "metadata": {},
     "output_type": "display_data"
    }
   ],
   "source": [
    "print_html('Opened issues: {}'.format(len(opened_issues)))"
   ]
  },
  {
   "cell_type": "code",
   "execution_count": 10,
   "metadata": {
    "jupyter": {
     "source_hidden": true
    },
    "papermill": {
     "duration": 2.056203,
     "end_time": "2019-03-22T17:27:50.979192",
     "exception": false,
     "start_time": "2019-03-22T17:27:48.922989",
     "status": "completed"
    },
    "tags": []
   },
   "outputs": [
    {
     "data": {
      "text/html": [
       "<style  type=\"text/css\" >\n",
       "    #T_d18e015e_4cc7_11e9_a2f7_54ee75e0f62drow0_col2 {\n",
       "            background-color:  #f7b7b7;\n",
       "        }    #T_d18e015e_4cc7_11e9_a2f7_54ee75e0f62drow0_col3 {\n",
       "            background-color:  #f7b7b7;\n",
       "        }    #T_d18e015e_4cc7_11e9_a2f7_54ee75e0f62drow1_col3 {\n",
       "            background-color:  #f7b7b7;\n",
       "        }    #T_d18e015e_4cc7_11e9_a2f7_54ee75e0f62drow2_col3 {\n",
       "            background-color:  #f7b7b7;\n",
       "        }    #T_d18e015e_4cc7_11e9_a2f7_54ee75e0f62drow3_col1 {\n",
       "            background-color:  #f7b7b7;\n",
       "        }    #T_d18e015e_4cc7_11e9_a2f7_54ee75e0f62drow3_col3 {\n",
       "            background-color:  #f7b7b7;\n",
       "        }    #T_d18e015e_4cc7_11e9_a2f7_54ee75e0f62drow4_col3 {\n",
       "            background-color:  #f7b7b7;\n",
       "        }    #T_d18e015e_4cc7_11e9_a2f7_54ee75e0f62drow5_col1 {\n",
       "            background-color:  #f7b7b7;\n",
       "        }    #T_d18e015e_4cc7_11e9_a2f7_54ee75e0f62drow5_col3 {\n",
       "            background-color:  #f7b7b7;\n",
       "        }    #T_d18e015e_4cc7_11e9_a2f7_54ee75e0f62drow6_col1 {\n",
       "            background-color:  #f7b7b7;\n",
       "        }    #T_d18e015e_4cc7_11e9_a2f7_54ee75e0f62drow6_col3 {\n",
       "            background-color:  #f7b7b7;\n",
       "        }    #T_d18e015e_4cc7_11e9_a2f7_54ee75e0f62drow7_col3 {\n",
       "            background-color:  #f7b7b7;\n",
       "        }    #T_d18e015e_4cc7_11e9_a2f7_54ee75e0f62drow8_col1 {\n",
       "            background-color:  #f7b7b7;\n",
       "        }    #T_d18e015e_4cc7_11e9_a2f7_54ee75e0f62drow8_col3 {\n",
       "            background-color:  #f7b7b7;\n",
       "        }</style><table id=\"T_d18e015e_4cc7_11e9_a2f7_54ee75e0f62d\" ><thead>    <tr>        <th class=\"col_heading level0 col0\" >user</th>        <th class=\"col_heading level0 col1\" >author_association</th>        <th class=\"col_heading level0 col2\" >comments</th>        <th class=\"col_heading level0 col3\" >closed</th>        <th class=\"col_heading level0 col4\" >html_url</th>    </tr></thead><tbody>\n",
       "                <tr>\n",
       "                                <td id=\"T_d18e015e_4cc7_11e9_a2f7_54ee75e0f62drow0_col0\" class=\"data row0 col0\" >bitnik</td>\n",
       "                        <td id=\"T_d18e015e_4cc7_11e9_a2f7_54ee75e0f62drow0_col1\" class=\"data row0 col1\" >CONTRIBUTOR</td>\n",
       "                        <td id=\"T_d18e015e_4cc7_11e9_a2f7_54ee75e0f62drow0_col2\" class=\"data row0 col2\" >0</td>\n",
       "                        <td id=\"T_d18e015e_4cc7_11e9_a2f7_54ee75e0f62drow0_col3\" class=\"data row0 col3\" >False</td>\n",
       "                        <td id=\"T_d18e015e_4cc7_11e9_a2f7_54ee75e0f62drow0_col4\" class=\"data row0 col4\" ><a target=\"_blank\" href=\"https://github.com/jupyterhub/binderhub/issues/814\">https://github.com/jupyterhub/binderhub/issues/814</a></td>\n",
       "            </tr>\n",
       "            <tr>\n",
       "                                <td id=\"T_d18e015e_4cc7_11e9_a2f7_54ee75e0f62drow1_col0\" class=\"data row1 col0\" >betatim</td>\n",
       "                        <td id=\"T_d18e015e_4cc7_11e9_a2f7_54ee75e0f62drow1_col1\" class=\"data row1 col1\" >MEMBER</td>\n",
       "                        <td id=\"T_d18e015e_4cc7_11e9_a2f7_54ee75e0f62drow1_col2\" class=\"data row1 col2\" >1</td>\n",
       "                        <td id=\"T_d18e015e_4cc7_11e9_a2f7_54ee75e0f62drow1_col3\" class=\"data row1 col3\" >False</td>\n",
       "                        <td id=\"T_d18e015e_4cc7_11e9_a2f7_54ee75e0f62drow1_col4\" class=\"data row1 col4\" ><a target=\"_blank\" href=\"https://github.com/jupyterhub/binderhub/issues/812\">https://github.com/jupyterhub/binderhub/issues/812</a></td>\n",
       "            </tr>\n",
       "            <tr>\n",
       "                                <td id=\"T_d18e015e_4cc7_11e9_a2f7_54ee75e0f62drow2_col0\" class=\"data row2 col0\" >shibbas</td>\n",
       "                        <td id=\"T_d18e015e_4cc7_11e9_a2f7_54ee75e0f62drow2_col1\" class=\"data row2 col1\" >CONTRIBUTOR</td>\n",
       "                        <td id=\"T_d18e015e_4cc7_11e9_a2f7_54ee75e0f62drow2_col2\" class=\"data row2 col2\" >2</td>\n",
       "                        <td id=\"T_d18e015e_4cc7_11e9_a2f7_54ee75e0f62drow2_col3\" class=\"data row2 col3\" >False</td>\n",
       "                        <td id=\"T_d18e015e_4cc7_11e9_a2f7_54ee75e0f62drow2_col4\" class=\"data row2 col4\" ><a target=\"_blank\" href=\"https://github.com/jupyterhub/binderhub/issues/800\">https://github.com/jupyterhub/binderhub/issues/800</a></td>\n",
       "            </tr>\n",
       "            <tr>\n",
       "                                <td id=\"T_d18e015e_4cc7_11e9_a2f7_54ee75e0f62drow3_col0\" class=\"data row3 col0\" >rgaiacs</td>\n",
       "                        <td id=\"T_d18e015e_4cc7_11e9_a2f7_54ee75e0f62drow3_col1\" class=\"data row3 col1\" >NONE</td>\n",
       "                        <td id=\"T_d18e015e_4cc7_11e9_a2f7_54ee75e0f62drow3_col2\" class=\"data row3 col2\" >2</td>\n",
       "                        <td id=\"T_d18e015e_4cc7_11e9_a2f7_54ee75e0f62drow3_col3\" class=\"data row3 col3\" >False</td>\n",
       "                        <td id=\"T_d18e015e_4cc7_11e9_a2f7_54ee75e0f62drow3_col4\" class=\"data row3 col4\" ><a target=\"_blank\" href=\"https://github.com/jupyterhub/binderhub/issues/799\">https://github.com/jupyterhub/binderhub/issues/799</a></td>\n",
       "            </tr>\n",
       "            <tr>\n",
       "                                <td id=\"T_d18e015e_4cc7_11e9_a2f7_54ee75e0f62drow4_col0\" class=\"data row4 col0\" >sgibson91</td>\n",
       "                        <td id=\"T_d18e015e_4cc7_11e9_a2f7_54ee75e0f62drow4_col1\" class=\"data row4 col1\" >CONTRIBUTOR</td>\n",
       "                        <td id=\"T_d18e015e_4cc7_11e9_a2f7_54ee75e0f62drow4_col2\" class=\"data row4 col2\" >3</td>\n",
       "                        <td id=\"T_d18e015e_4cc7_11e9_a2f7_54ee75e0f62drow4_col3\" class=\"data row4 col3\" >False</td>\n",
       "                        <td id=\"T_d18e015e_4cc7_11e9_a2f7_54ee75e0f62drow4_col4\" class=\"data row4 col4\" ><a target=\"_blank\" href=\"https://github.com/jupyterhub/binderhub/issues/803\">https://github.com/jupyterhub/binderhub/issues/803</a></td>\n",
       "            </tr>\n",
       "            <tr>\n",
       "                                <td id=\"T_d18e015e_4cc7_11e9_a2f7_54ee75e0f62drow5_col0\" class=\"data row5 col0\" >williamfgc</td>\n",
       "                        <td id=\"T_d18e015e_4cc7_11e9_a2f7_54ee75e0f62drow5_col1\" class=\"data row5 col1\" >NONE</td>\n",
       "                        <td id=\"T_d18e015e_4cc7_11e9_a2f7_54ee75e0f62drow5_col2\" class=\"data row5 col2\" >3</td>\n",
       "                        <td id=\"T_d18e015e_4cc7_11e9_a2f7_54ee75e0f62drow5_col3\" class=\"data row5 col3\" >False</td>\n",
       "                        <td id=\"T_d18e015e_4cc7_11e9_a2f7_54ee75e0f62drow5_col4\" class=\"data row5 col4\" ><a target=\"_blank\" href=\"https://github.com/jupyterhub/binderhub/issues/806\">https://github.com/jupyterhub/binderhub/issues/806</a></td>\n",
       "            </tr>\n",
       "            <tr>\n",
       "                                <td id=\"T_d18e015e_4cc7_11e9_a2f7_54ee75e0f62drow6_col0\" class=\"data row6 col0\" >markdunning</td>\n",
       "                        <td id=\"T_d18e015e_4cc7_11e9_a2f7_54ee75e0f62drow6_col1\" class=\"data row6 col1\" >NONE</td>\n",
       "                        <td id=\"T_d18e015e_4cc7_11e9_a2f7_54ee75e0f62drow6_col2\" class=\"data row6 col2\" >4</td>\n",
       "                        <td id=\"T_d18e015e_4cc7_11e9_a2f7_54ee75e0f62drow6_col3\" class=\"data row6 col3\" >False</td>\n",
       "                        <td id=\"T_d18e015e_4cc7_11e9_a2f7_54ee75e0f62drow6_col4\" class=\"data row6 col4\" ><a target=\"_blank\" href=\"https://github.com/jupyterhub/binderhub/issues/809\">https://github.com/jupyterhub/binderhub/issues/809</a></td>\n",
       "            </tr>\n",
       "            <tr>\n",
       "                                <td id=\"T_d18e015e_4cc7_11e9_a2f7_54ee75e0f62drow7_col0\" class=\"data row7 col0\" >shibbas</td>\n",
       "                        <td id=\"T_d18e015e_4cc7_11e9_a2f7_54ee75e0f62drow7_col1\" class=\"data row7 col1\" >CONTRIBUTOR</td>\n",
       "                        <td id=\"T_d18e015e_4cc7_11e9_a2f7_54ee75e0f62drow7_col2\" class=\"data row7 col2\" >5</td>\n",
       "                        <td id=\"T_d18e015e_4cc7_11e9_a2f7_54ee75e0f62drow7_col3\" class=\"data row7 col3\" >False</td>\n",
       "                        <td id=\"T_d18e015e_4cc7_11e9_a2f7_54ee75e0f62drow7_col4\" class=\"data row7 col4\" ><a target=\"_blank\" href=\"https://github.com/jupyterhub/binderhub/issues/798\">https://github.com/jupyterhub/binderhub/issues/798</a></td>\n",
       "            </tr>\n",
       "            <tr>\n",
       "                                <td id=\"T_d18e015e_4cc7_11e9_a2f7_54ee75e0f62drow8_col0\" class=\"data row8 col0\" >ageorgou</td>\n",
       "                        <td id=\"T_d18e015e_4cc7_11e9_a2f7_54ee75e0f62drow8_col1\" class=\"data row8 col1\" >NONE</td>\n",
       "                        <td id=\"T_d18e015e_4cc7_11e9_a2f7_54ee75e0f62drow8_col2\" class=\"data row8 col2\" >7</td>\n",
       "                        <td id=\"T_d18e015e_4cc7_11e9_a2f7_54ee75e0f62drow8_col3\" class=\"data row8 col3\" >False</td>\n",
       "                        <td id=\"T_d18e015e_4cc7_11e9_a2f7_54ee75e0f62drow8_col4\" class=\"data row8 col4\" ><a target=\"_blank\" href=\"https://github.com/jupyterhub/binderhub/issues/810\">https://github.com/jupyterhub/binderhub/issues/810</a></td>\n",
       "            </tr>\n",
       "            <tr>\n",
       "                                <td id=\"T_d18e015e_4cc7_11e9_a2f7_54ee75e0f62drow9_col0\" class=\"data row9 col0\" >sgibson91</td>\n",
       "                        <td id=\"T_d18e015e_4cc7_11e9_a2f7_54ee75e0f62drow9_col1\" class=\"data row9 col1\" >CONTRIBUTOR</td>\n",
       "                        <td id=\"T_d18e015e_4cc7_11e9_a2f7_54ee75e0f62drow9_col2\" class=\"data row9 col2\" >1</td>\n",
       "                        <td id=\"T_d18e015e_4cc7_11e9_a2f7_54ee75e0f62drow9_col3\" class=\"data row9 col3\" >True</td>\n",
       "                        <td id=\"T_d18e015e_4cc7_11e9_a2f7_54ee75e0f62drow9_col4\" class=\"data row9 col4\" ><a target=\"_blank\" href=\"https://github.com/jupyterhub/binderhub/issues/811\">https://github.com/jupyterhub/binderhub/issues/811</a></td>\n",
       "            </tr>\n",
       "    </tbody></table>"
      ],
      "text/plain": [
       "<pandas.io.formats.style.Styler at 0x7f2a5ce68a90>"
      ]
     },
     "execution_count": 10,
     "metadata": {},
     "output_type": "execute_result"
    }
   ],
   "source": [
    "opened_issues[['user', 'author_association', 'comments', 'closed', 'html_url']]\\\n",
    "    .sort_values(['closed', 'comments']).style.applymap(highlight_rows).format({'html_url': make_clickable}).hide_index()"
   ]
  },
  {
   "cell_type": "markdown",
   "metadata": {
    "papermill": {
     "duration": 0.046525,
     "end_time": "2019-03-22T17:27:51.093527",
     "exception": false,
     "start_time": "2019-03-22T17:27:51.047002",
     "status": "completed"
    },
    "tags": []
   },
   "source": [
    "## Closed issues\n"
   ]
  },
  {
   "cell_type": "code",
   "execution_count": 11,
   "metadata": {
    "jupyter": {
     "source_hidden": true
    },
    "papermill": {
     "duration": 0.078484,
     "end_time": "2019-03-22T17:27:51.223087",
     "exception": false,
     "start_time": "2019-03-22T17:27:51.144603",
     "status": "completed"
    },
    "tags": []
   },
   "outputs": [],
   "source": [
    "closed = issues.query('closed_at > @date')\n",
    "closed_issues = closed[closed['pull_request'].isna()]"
   ]
  },
  {
   "cell_type": "code",
   "execution_count": 12,
   "metadata": {
    "jupyter": {
     "source_hidden": true
    },
    "papermill": {
     "duration": 0.107875,
     "end_time": "2019-03-22T17:27:51.397212",
     "exception": false,
     "start_time": "2019-03-22T17:27:51.289337",
     "status": "completed"
    },
    "tags": []
   },
   "outputs": [
    {
     "data": {
      "text/html": [
       "<style  type=\"text/css\" >\n",
       "    #T_d1d07886_4cc7_11e9_a2f7_54ee75e0f62drow1_col1 {\n",
       "            background-color:  #f7b7b7;\n",
       "        }</style><table id=\"T_d1d07886_4cc7_11e9_a2f7_54ee75e0f62d\" ><thead>    <tr>        <th class=\"col_heading level0 col0\" >user</th>        <th class=\"col_heading level0 col1\" >author_association</th>        <th class=\"col_heading level0 col2\" >comments</th>        <th class=\"col_heading level0 col3\" >html_url</th>    </tr></thead><tbody>\n",
       "                <tr>\n",
       "                                <td id=\"T_d1d07886_4cc7_11e9_a2f7_54ee75e0f62drow0_col0\" class=\"data row0 col0\" >sgibson91</td>\n",
       "                        <td id=\"T_d1d07886_4cc7_11e9_a2f7_54ee75e0f62drow0_col1\" class=\"data row0 col1\" >CONTRIBUTOR</td>\n",
       "                        <td id=\"T_d1d07886_4cc7_11e9_a2f7_54ee75e0f62drow0_col2\" class=\"data row0 col2\" >1</td>\n",
       "                        <td id=\"T_d1d07886_4cc7_11e9_a2f7_54ee75e0f62drow0_col3\" class=\"data row0 col3\" ><a target=\"_blank\" href=\"https://github.com/jupyterhub/binderhub/issues/811\">https://github.com/jupyterhub/binderhub/issues/811</a></td>\n",
       "            </tr>\n",
       "            <tr>\n",
       "                                <td id=\"T_d1d07886_4cc7_11e9_a2f7_54ee75e0f62drow1_col0\" class=\"data row1 col0\" >rakelkar</td>\n",
       "                        <td id=\"T_d1d07886_4cc7_11e9_a2f7_54ee75e0f62drow1_col1\" class=\"data row1 col1\" >NONE</td>\n",
       "                        <td id=\"T_d1d07886_4cc7_11e9_a2f7_54ee75e0f62drow1_col2\" class=\"data row1 col2\" >4</td>\n",
       "                        <td id=\"T_d1d07886_4cc7_11e9_a2f7_54ee75e0f62drow1_col3\" class=\"data row1 col3\" ><a target=\"_blank\" href=\"https://github.com/jupyterhub/binderhub/issues/385\">https://github.com/jupyterhub/binderhub/issues/385</a></td>\n",
       "            </tr>\n",
       "            <tr>\n",
       "                                <td id=\"T_d1d07886_4cc7_11e9_a2f7_54ee75e0f62drow2_col0\" class=\"data row2 col0\" >yuvipanda</td>\n",
       "                        <td id=\"T_d1d07886_4cc7_11e9_a2f7_54ee75e0f62drow2_col1\" class=\"data row2 col1\" >MEMBER</td>\n",
       "                        <td id=\"T_d1d07886_4cc7_11e9_a2f7_54ee75e0f62drow2_col2\" class=\"data row2 col2\" >5</td>\n",
       "                        <td id=\"T_d1d07886_4cc7_11e9_a2f7_54ee75e0f62drow2_col3\" class=\"data row2 col3\" ><a target=\"_blank\" href=\"https://github.com/jupyterhub/binderhub/issues/62\">https://github.com/jupyterhub/binderhub/issues/62</a></td>\n",
       "            </tr>\n",
       "    </tbody></table>"
      ],
      "text/plain": [
       "<pandas.io.formats.style.Styler at 0x7f2a57f037b8>"
      ]
     },
     "execution_count": 12,
     "metadata": {},
     "output_type": "execute_result"
    }
   ],
   "source": [
    "closed_issues[['user', 'author_association', 'comments', 'html_url']]\\\n",
    "    .sort_values(['comments']).style.applymap(highlight_rows).format({'html_url': make_clickable}).hide_index()"
   ]
  },
  {
   "cell_type": "code",
   "execution_count": 13,
   "metadata": {
    "jupyter": {
     "source_hidden": true
    },
    "papermill": {
     "duration": 0.079481,
     "end_time": "2019-03-22T17:27:51.530549",
     "exception": false,
     "start_time": "2019-03-22T17:27:51.451068",
     "status": "completed"
    },
    "tags": []
   },
   "outputs": [
    {
     "data": {
      "text/html": [
       "<h2 style=\"padding-left: 1em;\">Closed issues: 3</h2>"
      ],
      "text/plain": [
       "<IPython.core.display.HTML object>"
      ]
     },
     "metadata": {},
     "output_type": "display_data"
    }
   ],
   "source": [
    "print_html('Closed issues: {}'.format(len(closed_issues)))"
   ]
  },
  {
   "cell_type": "markdown",
   "metadata": {
    "papermill": {
     "duration": 0.070254,
     "end_time": "2019-03-22T17:27:51.651147",
     "exception": false,
     "start_time": "2019-03-22T17:27:51.580893",
     "status": "completed"
    },
    "tags": []
   },
   "source": [
    "## Opened PRs\n",
    "\n",
    "without responses in red"
   ]
  },
  {
   "cell_type": "code",
   "execution_count": 14,
   "metadata": {
    "jupyter": {
     "source_hidden": true
    },
    "papermill": {
     "duration": 0.346992,
     "end_time": "2019-03-22T17:27:52.042997",
     "exception": false,
     "start_time": "2019-03-22T17:27:51.696005",
     "status": "completed"
    },
    "tags": []
   },
   "outputs": [
    {
     "name": "stderr",
     "output_type": "stream",
     "text": [
      "/home/choldgraf/anaconda/envs/dev/lib/python3.6/site-packages/ipykernel_launcher.py:2: SettingWithCopyWarning: \n",
      "A value is trying to be set on a copy of a slice from a DataFrame.\n",
      "Try using .loc[row_indexer,col_indexer] = value instead\n",
      "\n",
      "See the caveats in the documentation: http://pandas.pydata.org/pandas-docs/stable/indexing.html#indexing-view-versus-copy\n",
      "  \n"
     ]
    }
   ],
   "source": [
    "opened_prs = opened[~opened['pull_request'].isna()]\n",
    "opened_prs['closed'] = ~pd.isnull(opened_prs['closed_at'])\n",
    "\n",
    "closed_prs = closed[~closed['pull_request'].isna()]"
   ]
  },
  {
   "cell_type": "code",
   "execution_count": 15,
   "metadata": {
    "jupyter": {
     "source_hidden": true
    },
    "papermill": {
     "duration": 0.059977,
     "end_time": "2019-03-22T17:27:52.283210",
     "exception": false,
     "start_time": "2019-03-22T17:27:52.223233",
     "status": "completed"
    },
    "tags": []
   },
   "outputs": [
    {
     "data": {
      "text/html": [
       "<h2 style=\"padding-left: 1em;\">Opened PRs: 10</h2>"
      ],
      "text/plain": [
       "<IPython.core.display.HTML object>"
      ]
     },
     "metadata": {},
     "output_type": "display_data"
    }
   ],
   "source": [
    "print_html('Opened PRs: {}'.format(len(opened_prs)))"
   ]
  },
  {
   "cell_type": "code",
   "execution_count": 16,
   "metadata": {
    "jupyter": {
     "source_hidden": true
    },
    "papermill": {
     "duration": 0.186075,
     "end_time": "2019-03-22T17:27:52.527446",
     "exception": false,
     "start_time": "2019-03-22T17:27:52.341371",
     "status": "completed"
    },
    "tags": []
   },
   "outputs": [
    {
     "data": {
      "text/html": [
       "<style  type=\"text/css\" >\n",
       "    #T_d27c18bc_4cc7_11e9_a2f7_54ee75e0f62drow0_col3 {\n",
       "            background-color:  #f7b7b7;\n",
       "        }    #T_d27c18bc_4cc7_11e9_a2f7_54ee75e0f62drow1_col1 {\n",
       "            background-color:  red;\n",
       "        }    #T_d27c18bc_4cc7_11e9_a2f7_54ee75e0f62drow1_col3 {\n",
       "            background-color:  #f7b7b7;\n",
       "        }    #T_d27c18bc_4cc7_11e9_a2f7_54ee75e0f62drow2_col3 {\n",
       "            background-color:  #f7b7b7;\n",
       "        }    #T_d27c18bc_4cc7_11e9_a2f7_54ee75e0f62drow3_col1 {\n",
       "            background-color:  red;\n",
       "        }    #T_d27c18bc_4cc7_11e9_a2f7_54ee75e0f62drow3_col3 {\n",
       "            background-color:  #f7b7b7;\n",
       "        }    #T_d27c18bc_4cc7_11e9_a2f7_54ee75e0f62drow4_col2 {\n",
       "            background-color:  #f7b7b7;\n",
       "        }    #T_d27c18bc_4cc7_11e9_a2f7_54ee75e0f62drow5_col2 {\n",
       "            background-color:  #f7b7b7;\n",
       "        }    #T_d27c18bc_4cc7_11e9_a2f7_54ee75e0f62drow6_col2 {\n",
       "            background-color:  #f7b7b7;\n",
       "        }</style><table id=\"T_d27c18bc_4cc7_11e9_a2f7_54ee75e0f62d\" ><thead>    <tr>        <th class=\"col_heading level0 col0\" >user</th>        <th class=\"col_heading level0 col1\" >author_association</th>        <th class=\"col_heading level0 col2\" >comments</th>        <th class=\"col_heading level0 col3\" >closed</th>        <th class=\"col_heading level0 col4\" >html_url</th>    </tr></thead><tbody>\n",
       "                <tr>\n",
       "                                <td id=\"T_d27c18bc_4cc7_11e9_a2f7_54ee75e0f62drow0_col0\" class=\"data row0 col0\" >bitnik</td>\n",
       "                        <td id=\"T_d27c18bc_4cc7_11e9_a2f7_54ee75e0f62drow0_col1\" class=\"data row0 col1\" >CONTRIBUTOR</td>\n",
       "                        <td id=\"T_d27c18bc_4cc7_11e9_a2f7_54ee75e0f62drow0_col2\" class=\"data row0 col2\" >1</td>\n",
       "                        <td id=\"T_d27c18bc_4cc7_11e9_a2f7_54ee75e0f62drow0_col3\" class=\"data row0 col3\" >False</td>\n",
       "                        <td id=\"T_d27c18bc_4cc7_11e9_a2f7_54ee75e0f62drow0_col4\" class=\"data row0 col4\" ><a target=\"_blank\" href=\"https://github.com/jupyterhub/binderhub/pull/805\">https://github.com/jupyterhub/binderhub/pull/805</a></td>\n",
       "            </tr>\n",
       "            <tr>\n",
       "                                <td id=\"T_d27c18bc_4cc7_11e9_a2f7_54ee75e0f62drow1_col0\" class=\"data row1 col0\" >rgaiacs</td>\n",
       "                        <td id=\"T_d27c18bc_4cc7_11e9_a2f7_54ee75e0f62drow1_col1\" class=\"data row1 col1\" >FIRST_TIME_CONTRIBUTOR</td>\n",
       "                        <td id=\"T_d27c18bc_4cc7_11e9_a2f7_54ee75e0f62drow1_col2\" class=\"data row1 col2\" >4</td>\n",
       "                        <td id=\"T_d27c18bc_4cc7_11e9_a2f7_54ee75e0f62drow1_col3\" class=\"data row1 col3\" >False</td>\n",
       "                        <td id=\"T_d27c18bc_4cc7_11e9_a2f7_54ee75e0f62drow1_col4\" class=\"data row1 col4\" ><a target=\"_blank\" href=\"https://github.com/jupyterhub/binderhub/pull/807\">https://github.com/jupyterhub/binderhub/pull/807</a></td>\n",
       "            </tr>\n",
       "            <tr>\n",
       "                                <td id=\"T_d27c18bc_4cc7_11e9_a2f7_54ee75e0f62drow2_col0\" class=\"data row2 col0\" >bitnik</td>\n",
       "                        <td id=\"T_d27c18bc_4cc7_11e9_a2f7_54ee75e0f62drow2_col1\" class=\"data row2 col1\" >CONTRIBUTOR</td>\n",
       "                        <td id=\"T_d27c18bc_4cc7_11e9_a2f7_54ee75e0f62drow2_col2\" class=\"data row2 col2\" >8</td>\n",
       "                        <td id=\"T_d27c18bc_4cc7_11e9_a2f7_54ee75e0f62drow2_col3\" class=\"data row2 col3\" >False</td>\n",
       "                        <td id=\"T_d27c18bc_4cc7_11e9_a2f7_54ee75e0f62drow2_col4\" class=\"data row2 col4\" ><a target=\"_blank\" href=\"https://github.com/jupyterhub/binderhub/pull/802\">https://github.com/jupyterhub/binderhub/pull/802</a></td>\n",
       "            </tr>\n",
       "            <tr>\n",
       "                                <td id=\"T_d27c18bc_4cc7_11e9_a2f7_54ee75e0f62drow3_col0\" class=\"data row3 col0\" >rgaiacs</td>\n",
       "                        <td id=\"T_d27c18bc_4cc7_11e9_a2f7_54ee75e0f62drow3_col1\" class=\"data row3 col1\" >FIRST_TIME_CONTRIBUTOR</td>\n",
       "                        <td id=\"T_d27c18bc_4cc7_11e9_a2f7_54ee75e0f62drow3_col2\" class=\"data row3 col2\" >8</td>\n",
       "                        <td id=\"T_d27c18bc_4cc7_11e9_a2f7_54ee75e0f62drow3_col3\" class=\"data row3 col3\" >False</td>\n",
       "                        <td id=\"T_d27c18bc_4cc7_11e9_a2f7_54ee75e0f62drow3_col4\" class=\"data row3 col4\" ><a target=\"_blank\" href=\"https://github.com/jupyterhub/binderhub/pull/808\">https://github.com/jupyterhub/binderhub/pull/808</a></td>\n",
       "            </tr>\n",
       "            <tr>\n",
       "                                <td id=\"T_d27c18bc_4cc7_11e9_a2f7_54ee75e0f62drow4_col0\" class=\"data row4 col0\" >sgibson91</td>\n",
       "                        <td id=\"T_d27c18bc_4cc7_11e9_a2f7_54ee75e0f62drow4_col1\" class=\"data row4 col1\" >CONTRIBUTOR</td>\n",
       "                        <td id=\"T_d27c18bc_4cc7_11e9_a2f7_54ee75e0f62drow4_col2\" class=\"data row4 col2\" >0</td>\n",
       "                        <td id=\"T_d27c18bc_4cc7_11e9_a2f7_54ee75e0f62drow4_col3\" class=\"data row4 col3\" >True</td>\n",
       "                        <td id=\"T_d27c18bc_4cc7_11e9_a2f7_54ee75e0f62drow4_col4\" class=\"data row4 col4\" ><a target=\"_blank\" href=\"https://github.com/jupyterhub/binderhub/pull/813\">https://github.com/jupyterhub/binderhub/pull/813</a></td>\n",
       "            </tr>\n",
       "            <tr>\n",
       "                                <td id=\"T_d27c18bc_4cc7_11e9_a2f7_54ee75e0f62drow5_col0\" class=\"data row5 col0\" >shibbas</td>\n",
       "                        <td id=\"T_d27c18bc_4cc7_11e9_a2f7_54ee75e0f62drow5_col1\" class=\"data row5 col1\" >CONTRIBUTOR</td>\n",
       "                        <td id=\"T_d27c18bc_4cc7_11e9_a2f7_54ee75e0f62drow5_col2\" class=\"data row5 col2\" >0</td>\n",
       "                        <td id=\"T_d27c18bc_4cc7_11e9_a2f7_54ee75e0f62drow5_col3\" class=\"data row5 col3\" >True</td>\n",
       "                        <td id=\"T_d27c18bc_4cc7_11e9_a2f7_54ee75e0f62drow5_col4\" class=\"data row5 col4\" ><a target=\"_blank\" href=\"https://github.com/jupyterhub/binderhub/pull/797\">https://github.com/jupyterhub/binderhub/pull/797</a></td>\n",
       "            </tr>\n",
       "            <tr>\n",
       "                                <td id=\"T_d27c18bc_4cc7_11e9_a2f7_54ee75e0f62drow6_col0\" class=\"data row6 col0\" >minrk</td>\n",
       "                        <td id=\"T_d27c18bc_4cc7_11e9_a2f7_54ee75e0f62drow6_col1\" class=\"data row6 col1\" >MEMBER</td>\n",
       "                        <td id=\"T_d27c18bc_4cc7_11e9_a2f7_54ee75e0f62drow6_col2\" class=\"data row6 col2\" >0</td>\n",
       "                        <td id=\"T_d27c18bc_4cc7_11e9_a2f7_54ee75e0f62drow6_col3\" class=\"data row6 col3\" >True</td>\n",
       "                        <td id=\"T_d27c18bc_4cc7_11e9_a2f7_54ee75e0f62drow6_col4\" class=\"data row6 col4\" ><a target=\"_blank\" href=\"https://github.com/jupyterhub/binderhub/pull/796\">https://github.com/jupyterhub/binderhub/pull/796</a></td>\n",
       "            </tr>\n",
       "            <tr>\n",
       "                                <td id=\"T_d27c18bc_4cc7_11e9_a2f7_54ee75e0f62drow7_col0\" class=\"data row7 col0\" >captainsafia</td>\n",
       "                        <td id=\"T_d27c18bc_4cc7_11e9_a2f7_54ee75e0f62drow7_col1\" class=\"data row7 col1\" >MEMBER</td>\n",
       "                        <td id=\"T_d27c18bc_4cc7_11e9_a2f7_54ee75e0f62drow7_col2\" class=\"data row7 col2\" >1</td>\n",
       "                        <td id=\"T_d27c18bc_4cc7_11e9_a2f7_54ee75e0f62drow7_col3\" class=\"data row7 col3\" >True</td>\n",
       "                        <td id=\"T_d27c18bc_4cc7_11e9_a2f7_54ee75e0f62drow7_col4\" class=\"data row7 col4\" ><a target=\"_blank\" href=\"https://github.com/jupyterhub/binderhub/pull/801\">https://github.com/jupyterhub/binderhub/pull/801</a></td>\n",
       "            </tr>\n",
       "            <tr>\n",
       "                                <td id=\"T_d27c18bc_4cc7_11e9_a2f7_54ee75e0f62drow8_col0\" class=\"data row8 col0\" >sgibson91</td>\n",
       "                        <td id=\"T_d27c18bc_4cc7_11e9_a2f7_54ee75e0f62drow8_col1\" class=\"data row8 col1\" >CONTRIBUTOR</td>\n",
       "                        <td id=\"T_d27c18bc_4cc7_11e9_a2f7_54ee75e0f62drow8_col2\" class=\"data row8 col2\" >3</td>\n",
       "                        <td id=\"T_d27c18bc_4cc7_11e9_a2f7_54ee75e0f62drow8_col3\" class=\"data row8 col3\" >True</td>\n",
       "                        <td id=\"T_d27c18bc_4cc7_11e9_a2f7_54ee75e0f62drow8_col4\" class=\"data row8 col4\" ><a target=\"_blank\" href=\"https://github.com/jupyterhub/binderhub/pull/804\">https://github.com/jupyterhub/binderhub/pull/804</a></td>\n",
       "            </tr>\n",
       "            <tr>\n",
       "                                <td id=\"T_d27c18bc_4cc7_11e9_a2f7_54ee75e0f62drow9_col0\" class=\"data row9 col0\" >minrk</td>\n",
       "                        <td id=\"T_d27c18bc_4cc7_11e9_a2f7_54ee75e0f62drow9_col1\" class=\"data row9 col1\" >MEMBER</td>\n",
       "                        <td id=\"T_d27c18bc_4cc7_11e9_a2f7_54ee75e0f62drow9_col2\" class=\"data row9 col2\" >4</td>\n",
       "                        <td id=\"T_d27c18bc_4cc7_11e9_a2f7_54ee75e0f62drow9_col3\" class=\"data row9 col3\" >True</td>\n",
       "                        <td id=\"T_d27c18bc_4cc7_11e9_a2f7_54ee75e0f62drow9_col4\" class=\"data row9 col4\" ><a target=\"_blank\" href=\"https://github.com/jupyterhub/binderhub/pull/795\">https://github.com/jupyterhub/binderhub/pull/795</a></td>\n",
       "            </tr>\n",
       "    </tbody></table>"
      ],
      "text/plain": [
       "<pandas.io.formats.style.Styler at 0x7f2a8090ccf8>"
      ]
     },
     "execution_count": 16,
     "metadata": {},
     "output_type": "execute_result"
    }
   ],
   "source": [
    "opened_prs[['user', 'author_association', 'comments', 'closed', 'html_url']]\\\n",
    "    .sort_values(['closed', 'comments']).style.applymap(highlight_rows).format({'html_url': make_clickable}).hide_index()"
   ]
  },
  {
   "cell_type": "code",
   "execution_count": 17,
   "metadata": {
    "jupyter": {
     "source_hidden": true
    },
    "papermill": {
     "duration": 0.07525,
     "end_time": "2019-03-22T17:27:52.655232",
     "exception": false,
     "start_time": "2019-03-22T17:27:52.579982",
     "status": "completed"
    },
    "tags": []
   },
   "outputs": [
    {
     "data": {
      "text/html": [
       "<h2 style=\"padding-left: 1em;\">Closed PRs: 7</h2>"
      ],
      "text/plain": [
       "<IPython.core.display.HTML object>"
      ]
     },
     "metadata": {},
     "output_type": "display_data"
    }
   ],
   "source": [
    "print_html('Closed PRs: {}'.format(len(closed_prs)))"
   ]
  },
  {
   "cell_type": "code",
   "execution_count": 18,
   "metadata": {
    "jupyter": {
     "source_hidden": true
    },
    "papermill": {
     "duration": 0.357321,
     "end_time": "2019-03-22T17:27:53.102969",
     "exception": false,
     "start_time": "2019-03-22T17:27:52.745648",
     "status": "completed"
    },
    "tags": []
   },
   "outputs": [
    {
     "data": {
      "text/html": [
       "<style  type=\"text/css\" >\n",
       "    #T_d2c4b608_4cc7_11e9_a2f7_54ee75e0f62drow0_col2 {\n",
       "            background-color:  #f7b7b7;\n",
       "        }    #T_d2c4b608_4cc7_11e9_a2f7_54ee75e0f62drow1_col2 {\n",
       "            background-color:  #f7b7b7;\n",
       "        }    #T_d2c4b608_4cc7_11e9_a2f7_54ee75e0f62drow2_col2 {\n",
       "            background-color:  #f7b7b7;\n",
       "        }</style><table id=\"T_d2c4b608_4cc7_11e9_a2f7_54ee75e0f62d\" ><thead>    <tr>        <th class=\"col_heading level0 col0\" >user</th>        <th class=\"col_heading level0 col1\" >author_association</th>        <th class=\"col_heading level0 col2\" >comments</th>        <th class=\"col_heading level0 col3\" >html_url</th>    </tr></thead><tbody>\n",
       "                <tr>\n",
       "                                <td id=\"T_d2c4b608_4cc7_11e9_a2f7_54ee75e0f62drow0_col0\" class=\"data row0 col0\" >sgibson91</td>\n",
       "                        <td id=\"T_d2c4b608_4cc7_11e9_a2f7_54ee75e0f62drow0_col1\" class=\"data row0 col1\" >CONTRIBUTOR</td>\n",
       "                        <td id=\"T_d2c4b608_4cc7_11e9_a2f7_54ee75e0f62drow0_col2\" class=\"data row0 col2\" >0</td>\n",
       "                        <td id=\"T_d2c4b608_4cc7_11e9_a2f7_54ee75e0f62drow0_col3\" class=\"data row0 col3\" ><a target=\"_blank\" href=\"https://github.com/jupyterhub/binderhub/pull/813\">https://github.com/jupyterhub/binderhub/pull/813</a></td>\n",
       "            </tr>\n",
       "            <tr>\n",
       "                                <td id=\"T_d2c4b608_4cc7_11e9_a2f7_54ee75e0f62drow1_col0\" class=\"data row1 col0\" >shibbas</td>\n",
       "                        <td id=\"T_d2c4b608_4cc7_11e9_a2f7_54ee75e0f62drow1_col1\" class=\"data row1 col1\" >CONTRIBUTOR</td>\n",
       "                        <td id=\"T_d2c4b608_4cc7_11e9_a2f7_54ee75e0f62drow1_col2\" class=\"data row1 col2\" >0</td>\n",
       "                        <td id=\"T_d2c4b608_4cc7_11e9_a2f7_54ee75e0f62drow1_col3\" class=\"data row1 col3\" ><a target=\"_blank\" href=\"https://github.com/jupyterhub/binderhub/pull/797\">https://github.com/jupyterhub/binderhub/pull/797</a></td>\n",
       "            </tr>\n",
       "            <tr>\n",
       "                                <td id=\"T_d2c4b608_4cc7_11e9_a2f7_54ee75e0f62drow2_col0\" class=\"data row2 col0\" >minrk</td>\n",
       "                        <td id=\"T_d2c4b608_4cc7_11e9_a2f7_54ee75e0f62drow2_col1\" class=\"data row2 col1\" >MEMBER</td>\n",
       "                        <td id=\"T_d2c4b608_4cc7_11e9_a2f7_54ee75e0f62drow2_col2\" class=\"data row2 col2\" >0</td>\n",
       "                        <td id=\"T_d2c4b608_4cc7_11e9_a2f7_54ee75e0f62drow2_col3\" class=\"data row2 col3\" ><a target=\"_blank\" href=\"https://github.com/jupyterhub/binderhub/pull/796\">https://github.com/jupyterhub/binderhub/pull/796</a></td>\n",
       "            </tr>\n",
       "            <tr>\n",
       "                                <td id=\"T_d2c4b608_4cc7_11e9_a2f7_54ee75e0f62drow3_col0\" class=\"data row3 col0\" >captainsafia</td>\n",
       "                        <td id=\"T_d2c4b608_4cc7_11e9_a2f7_54ee75e0f62drow3_col1\" class=\"data row3 col1\" >MEMBER</td>\n",
       "                        <td id=\"T_d2c4b608_4cc7_11e9_a2f7_54ee75e0f62drow3_col2\" class=\"data row3 col2\" >1</td>\n",
       "                        <td id=\"T_d2c4b608_4cc7_11e9_a2f7_54ee75e0f62drow3_col3\" class=\"data row3 col3\" ><a target=\"_blank\" href=\"https://github.com/jupyterhub/binderhub/pull/801\">https://github.com/jupyterhub/binderhub/pull/801</a></td>\n",
       "            </tr>\n",
       "            <tr>\n",
       "                                <td id=\"T_d2c4b608_4cc7_11e9_a2f7_54ee75e0f62drow4_col0\" class=\"data row4 col0\" >sgibson91</td>\n",
       "                        <td id=\"T_d2c4b608_4cc7_11e9_a2f7_54ee75e0f62drow4_col1\" class=\"data row4 col1\" >CONTRIBUTOR</td>\n",
       "                        <td id=\"T_d2c4b608_4cc7_11e9_a2f7_54ee75e0f62drow4_col2\" class=\"data row4 col2\" >3</td>\n",
       "                        <td id=\"T_d2c4b608_4cc7_11e9_a2f7_54ee75e0f62drow4_col3\" class=\"data row4 col3\" ><a target=\"_blank\" href=\"https://github.com/jupyterhub/binderhub/pull/804\">https://github.com/jupyterhub/binderhub/pull/804</a></td>\n",
       "            </tr>\n",
       "            <tr>\n",
       "                                <td id=\"T_d2c4b608_4cc7_11e9_a2f7_54ee75e0f62drow5_col0\" class=\"data row5 col0\" >minrk</td>\n",
       "                        <td id=\"T_d2c4b608_4cc7_11e9_a2f7_54ee75e0f62drow5_col1\" class=\"data row5 col1\" >MEMBER</td>\n",
       "                        <td id=\"T_d2c4b608_4cc7_11e9_a2f7_54ee75e0f62drow5_col2\" class=\"data row5 col2\" >4</td>\n",
       "                        <td id=\"T_d2c4b608_4cc7_11e9_a2f7_54ee75e0f62drow5_col3\" class=\"data row5 col3\" ><a target=\"_blank\" href=\"https://github.com/jupyterhub/binderhub/pull/795\">https://github.com/jupyterhub/binderhub/pull/795</a></td>\n",
       "            </tr>\n",
       "            <tr>\n",
       "                                <td id=\"T_d2c4b608_4cc7_11e9_a2f7_54ee75e0f62drow6_col0\" class=\"data row6 col0\" >Carreau</td>\n",
       "                        <td id=\"T_d2c4b608_4cc7_11e9_a2f7_54ee75e0f62drow6_col1\" class=\"data row6 col1\" >MEMBER</td>\n",
       "                        <td id=\"T_d2c4b608_4cc7_11e9_a2f7_54ee75e0f62drow6_col2\" class=\"data row6 col2\" >35</td>\n",
       "                        <td id=\"T_d2c4b608_4cc7_11e9_a2f7_54ee75e0f62drow6_col3\" class=\"data row6 col3\" ><a target=\"_blank\" href=\"https://github.com/jupyterhub/binderhub/pull/274\">https://github.com/jupyterhub/binderhub/pull/274</a></td>\n",
       "            </tr>\n",
       "    </tbody></table>"
      ],
      "text/plain": [
       "<pandas.io.formats.style.Styler at 0x7f2a57f03978>"
      ]
     },
     "execution_count": 18,
     "metadata": {},
     "output_type": "execute_result"
    }
   ],
   "source": [
    "closed_prs[['user', 'author_association', 'comments', 'html_url']]\\\n",
    "    .sort_values(['comments']).style.applymap(highlight_rows).format({'html_url': make_clickable}).hide_index()"
   ]
  },
  {
   "cell_type": "markdown",
   "metadata": {
    "papermill": {
     "duration": 0.169061,
     "end_time": "2019-03-22T17:27:53.345431",
     "exception": false,
     "start_time": "2019-03-22T17:27:53.176370",
     "status": "completed"
    },
    "tags": []
   },
   "source": [
    "# State of repo\n",
    "\n",
    "## Stale issues"
   ]
  },
  {
   "cell_type": "code",
   "execution_count": 19,
   "metadata": {
    "jupyter": {
     "source_hidden": true
    },
    "papermill": {
     "duration": 0.109594,
     "end_time": "2019-03-22T17:27:53.575379",
     "exception": false,
     "start_time": "2019-03-22T17:27:53.465785",
     "status": "completed"
    },
    "tags": []
   },
   "outputs": [],
   "source": [
    "stale_issues = issues.query('updated_at < @date_stale')\n",
    "stale_issues = stale_issues[stale_issues['closed_at'].isnull()]"
   ]
  },
  {
   "cell_type": "code",
   "execution_count": 20,
   "metadata": {
    "jupyter": {
     "source_hidden": true
    },
    "papermill": {
     "duration": 0.075022,
     "end_time": "2019-03-22T17:27:53.706614",
     "exception": false,
     "start_time": "2019-03-22T17:27:53.631592",
     "status": "completed"
    },
    "tags": []
   },
   "outputs": [
    {
     "data": {
      "text/html": [
       "<style  type=\"text/css\" >\n",
       "</style><table id=\"T_d3314ee4_4cc7_11e9_a2f7_54ee75e0f62d\" ><thead>    <tr>        <th class=\"col_heading level0 col0\" >user</th>        <th class=\"col_heading level0 col1\" >author_association</th>        <th class=\"col_heading level0 col2\" >comments</th>        <th class=\"col_heading level0 col3\" >html_url</th>    </tr></thead><tbody>\n",
       "        </tbody></table>"
      ],
      "text/plain": [
       "<pandas.io.formats.style.Styler at 0x7f2a57e357b8>"
      ]
     },
     "execution_count": 20,
     "metadata": {},
     "output_type": "execute_result"
    }
   ],
   "source": [
    "stale_issues[['user', 'author_association', 'comments', 'html_url']]\\\n",
    "    .sort_values(['comments']).style.applymap(highlight_rows).format({'html_url': make_clickable}).hide_index()"
   ]
  },
  {
   "cell_type": "code",
   "execution_count": null,
   "metadata": {
    "jupyter": {
     "source_hidden": true
    },
    "papermill": {
     "duration": 0.058097,
     "end_time": "2019-03-22T17:27:53.817825",
     "exception": false,
     "start_time": "2019-03-22T17:27:53.759728",
     "status": "completed"
    },
    "tags": []
   },
   "outputs": [],
   "source": []
  }
 ],
 "metadata": {
  "kernelspec": {
   "display_name": "Python 3",
   "language": "python",
   "name": "python3"
  },
  "language_info": {
   "codemirror_mode": {
    "name": "ipython",
    "version": 3
   },
   "file_extension": ".py",
   "mimetype": "text/x-python",
   "name": "python",
   "nbconvert_exporter": "python",
   "pygments_lexer": "ipython3",
   "version": "3.6.5"
  },
  "papermill": {
   "duration": 12.568476,
   "end_time": "2019-03-22T17:27:54.915577",
   "environment_variables": {},
   "exception": null,
   "input_path": "./templates/issues.ipynb",
   "output_path": "../reports/2019-02-20/jupyterhub/binderhub/issues.ipynb",
   "parameters": {
    "date": "2019-02-20",
    "org": "jupyterhub",
    "repo": "binderhub"
   },
   "start_time": "2019-03-22T17:27:42.347101",
   "version": "0.18.0"
  }
 },
 "nbformat": 4,
 "nbformat_minor": 2
}