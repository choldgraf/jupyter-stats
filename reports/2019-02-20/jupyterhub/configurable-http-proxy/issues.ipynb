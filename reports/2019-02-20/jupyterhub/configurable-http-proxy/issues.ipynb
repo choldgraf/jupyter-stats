{
 "cells": [
  {
   "cell_type": "code",
   "execution_count": 1,
   "metadata": {
    "jupyter": {
     "source_hidden": true
    },
    "papermill": {
     "duration": 0.881445,
     "end_time": "2019-03-22T17:28:56.634861",
     "exception": false,
     "start_time": "2019-03-22T17:28:55.753416",
     "status": "completed"
    },
    "tags": []
   },
   "outputs": [],
   "source": [
    "import pandas as pd\n",
    "from datetime import timedelta\n",
    "from IPython.display import HTML, display"
   ]
  },
  {
   "cell_type": "code",
   "execution_count": 2,
   "metadata": {
    "jupyter": {
     "source_hidden": true
    },
    "papermill": {
     "duration": 0.049342,
     "end_time": "2019-03-22T17:28:56.717498",
     "exception": false,
     "start_time": "2019-03-22T17:28:56.668156",
     "status": "completed"
    },
    "tags": [
     "parameters"
    ]
   },
   "outputs": [],
   "source": [
    "date = pd.datetime.today() - timedelta(days=30)\n",
    "org = 'jupyterhub'\n",
    "repo = 'zero-to-jupyterhub-k8s'"
   ]
  },
  {
   "cell_type": "code",
   "execution_count": 3,
   "metadata": {
    "jupyter": {
     "source_hidden": true
    },
    "papermill": {
     "duration": 0.043121,
     "end_time": "2019-03-22T17:28:56.789202",
     "exception": false,
     "start_time": "2019-03-22T17:28:56.746081",
     "status": "completed"
    },
    "tags": [
     "injected-parameters"
    ]
   },
   "outputs": [],
   "source": [
    "# Parameters\n",
    "org = \"jupyterhub\"\n",
    "repo = \"configurable-http-proxy\"\n",
    "date = \"2019-02-20\"\n"
   ]
  },
  {
   "cell_type": "code",
   "execution_count": 4,
   "metadata": {
    "jupyter": {
     "source_hidden": true
    },
    "papermill": {
     "duration": 0.043349,
     "end_time": "2019-03-22T17:28:56.865268",
     "exception": false,
     "start_time": "2019-03-22T17:28:56.821919",
     "status": "completed"
    },
    "tags": []
   },
   "outputs": [],
   "source": [
    "# Definition of a stale issue/PR (how many days since last updated)\n",
    "stale_days = 30\n",
    "date_stale = pd.to_datetime(date) - timedelta(days=stale_days)"
   ]
  },
  {
   "cell_type": "markdown",
   "metadata": {
    "papermill": {
     "duration": 0.029011,
     "end_time": "2019-03-22T17:28:56.934446",
     "exception": false,
     "start_time": "2019-03-22T17:28:56.905435",
     "status": "completed"
    },
    "tags": []
   },
   "source": [
    "# Opened and Closed Issues and PRs\n",
    "\n",
    "This report shows opened and closed issues / PRs over the last 30 days, with a\n",
    "particular focus on items that haven't had a lot of discussion, or that have\n",
    "been opened by people who aren't team-members. The goal of this page is to make\n",
    "it easier to spot places where some input would be appreciated!"
   ]
  },
  {
   "cell_type": "markdown",
   "metadata": {
    "papermill": {
     "duration": 0.029841,
     "end_time": "2019-03-22T17:28:56.994638",
     "exception": false,
     "start_time": "2019-03-22T17:28:56.964797",
     "status": "completed"
    },
    "tags": []
   },
   "source": [
    "# Imports"
   ]
  },
  {
   "cell_type": "code",
   "execution_count": 5,
   "metadata": {
    "jupyter": {
     "source_hidden": true
    },
    "papermill": {
     "duration": 0.345254,
     "end_time": "2019-03-22T17:28:57.370795",
     "exception": false,
     "start_time": "2019-03-22T17:28:57.025541",
     "status": "completed"
    },
    "tags": []
   },
   "outputs": [],
   "source": [
    "import pandas as pd\n",
    "from subprocess import run, PIPE\n",
    "from watchtower import issues_\n",
    "from glob import glob\n",
    "import os.path as op\n",
    "import shutil as sh\n",
    "import sys\n",
    "sys.path.append('../../scripts/')"
   ]
  },
  {
   "cell_type": "markdown",
   "metadata": {
    "papermill": {
     "duration": 0.038008,
     "end_time": "2019-03-22T17:28:57.447925",
     "exception": false,
     "start_time": "2019-03-22T17:28:57.409917",
     "status": "completed"
    },
    "tags": []
   },
   "source": [
    "## styling functions"
   ]
  },
  {
   "cell_type": "code",
   "execution_count": 6,
   "metadata": {
    "jupyter": {
     "source_hidden": true
    },
    "papermill": {
     "duration": 0.047644,
     "end_time": "2019-03-22T17:28:57.532351",
     "exception": false,
     "start_time": "2019-03-22T17:28:57.484707",
     "status": "completed"
    },
    "tags": []
   },
   "outputs": [],
   "source": [
    "def highlight_rows(val):\n",
    "    \"\"\"Highlights cells pertaining to non-members and w/ no comments\"\"\"\n",
    "    disp = ''\n",
    "    if val == 0 or val == \"NONE\":\n",
    "        disp += 'background-color: #f7b7b7'\n",
    "    elif val == \"FIRST_TIME_CONTRIBUTOR\":\n",
    "        disp += 'background-color: red'\n",
    "    return disp\n",
    "\n",
    "def make_clickable(val):\n",
    "    # target _blank to open new window\n",
    "    return '<a target=\"_blank\" href=\"{}\">{}</a>'.format(val, val)\n",
    "\n",
    "def print_html(msg):\n",
    "    display(HTML('<h2 style=\"padding-left: 1em;\">{}</h2>'.format(msg)))\n",
    "    \n",
    "pd.options.display.max_colwidth = 200"
   ]
  },
  {
   "cell_type": "markdown",
   "metadata": {
    "papermill": {
     "duration": 0.029202,
     "end_time": "2019-03-22T17:28:57.593734",
     "exception": false,
     "start_time": "2019-03-22T17:28:57.564532",
     "status": "completed"
    },
    "tags": []
   },
   "source": [
    "## Load data"
   ]
  },
  {
   "cell_type": "code",
   "execution_count": 7,
   "metadata": {
    "jupyter": {
     "source_hidden": true
    },
    "papermill": {
     "duration": 0.110713,
     "end_time": "2019-03-22T17:28:57.733612",
     "exception": false,
     "start_time": "2019-03-22T17:28:57.622899",
     "status": "completed"
    },
    "tags": []
   },
   "outputs": [],
   "source": [
    "# Issues\n",
    "issues = issues_.load_issues(org, repo)\n",
    "issues['user'] = issues['user'].map(lambda a: a['login'])"
   ]
  },
  {
   "cell_type": "markdown",
   "metadata": {
    "papermill": {
     "duration": 0.034275,
     "end_time": "2019-03-22T17:28:57.799255",
     "exception": false,
     "start_time": "2019-03-22T17:28:57.764980",
     "status": "completed"
    },
    "tags": []
   },
   "source": [
    "# New activity"
   ]
  },
  {
   "cell_type": "markdown",
   "metadata": {
    "papermill": {
     "duration": 0.031352,
     "end_time": "2019-03-22T17:28:57.862930",
     "exception": false,
     "start_time": "2019-03-22T17:28:57.831578",
     "status": "completed"
    },
    "tags": []
   },
   "source": [
    "## Opened issues\n",
    "\n",
    "without responses in red"
   ]
  },
  {
   "cell_type": "code",
   "execution_count": 8,
   "metadata": {
    "jupyter": {
     "source_hidden": true
    },
    "papermill": {
     "duration": 0.115917,
     "end_time": "2019-03-22T17:28:58.007691",
     "exception": false,
     "start_time": "2019-03-22T17:28:57.891774",
     "status": "completed"
    },
    "tags": []
   },
   "outputs": [
    {
     "name": "stderr",
     "output_type": "stream",
     "text": [
      "/home/choldgraf/anaconda/envs/dev/lib/python3.6/site-packages/ipykernel_launcher.py:3: SettingWithCopyWarning: \n",
      "A value is trying to be set on a copy of a slice from a DataFrame.\n",
      "Try using .loc[row_indexer,col_indexer] = value instead\n",
      "\n",
      "See the caveats in the documentation: http://pandas.pydata.org/pandas-docs/stable/indexing.html#indexing-view-versus-copy\n",
      "  This is separate from the ipykernel package so we can avoid doing imports until\n"
     ]
    }
   ],
   "source": [
    "opened = issues.query('created_at > @date')\n",
    "opened_issues = opened[opened['pull_request'].isna()]\n",
    "opened_issues['closed'] = ~pd.isnull(opened_issues['closed_at'])"
   ]
  },
  {
   "cell_type": "code",
   "execution_count": 9,
   "metadata": {
    "jupyter": {
     "source_hidden": true
    },
    "papermill": {
     "duration": 0.051431,
     "end_time": "2019-03-22T17:28:58.087361",
     "exception": false,
     "start_time": "2019-03-22T17:28:58.035930",
     "status": "completed"
    },
    "tags": []
   },
   "outputs": [
    {
     "data": {
      "text/html": [
       "<h2 style=\"padding-left: 1em;\">Opened issues: 1</h2>"
      ],
      "text/plain": [
       "<IPython.core.display.HTML object>"
      ]
     },
     "metadata": {},
     "output_type": "display_data"
    }
   ],
   "source": [
    "print_html('Opened issues: {}'.format(len(opened_issues)))"
   ]
  },
  {
   "cell_type": "code",
   "execution_count": 10,
   "metadata": {
    "jupyter": {
     "source_hidden": true
    },
    "papermill": {
     "duration": 1.070904,
     "end_time": "2019-03-22T17:28:59.189124",
     "exception": false,
     "start_time": "2019-03-22T17:28:58.118220",
     "status": "completed"
    },
    "tags": []
   },
   "outputs": [
    {
     "data": {
      "text/html": [
       "<style  type=\"text/css\" >\n",
       "    #T_fa392cb4_4cc7_11e9_8c3a_54ee75e0f62drow0_col1 {\n",
       "            background-color:  #f7b7b7;\n",
       "        }    #T_fa392cb4_4cc7_11e9_8c3a_54ee75e0f62drow0_col2 {\n",
       "            background-color:  #f7b7b7;\n",
       "        }    #T_fa392cb4_4cc7_11e9_8c3a_54ee75e0f62drow0_col3 {\n",
       "            background-color:  #f7b7b7;\n",
       "        }</style><table id=\"T_fa392cb4_4cc7_11e9_8c3a_54ee75e0f62d\" ><thead>    <tr>        <th class=\"col_heading level0 col0\" >user</th>        <th class=\"col_heading level0 col1\" >author_association</th>        <th class=\"col_heading level0 col2\" >comments</th>        <th class=\"col_heading level0 col3\" >closed</th>        <th class=\"col_heading level0 col4\" >html_url</th>    </tr></thead><tbody>\n",
       "                <tr>\n",
       "                                <td id=\"T_fa392cb4_4cc7_11e9_8c3a_54ee75e0f62drow0_col0\" class=\"data row0 col0\" >ch-liuzhide</td>\n",
       "                        <td id=\"T_fa392cb4_4cc7_11e9_8c3a_54ee75e0f62drow0_col1\" class=\"data row0 col1\" >NONE</td>\n",
       "                        <td id=\"T_fa392cb4_4cc7_11e9_8c3a_54ee75e0f62drow0_col2\" class=\"data row0 col2\" >0</td>\n",
       "                        <td id=\"T_fa392cb4_4cc7_11e9_8c3a_54ee75e0f62drow0_col3\" class=\"data row0 col3\" >False</td>\n",
       "                        <td id=\"T_fa392cb4_4cc7_11e9_8c3a_54ee75e0f62drow0_col4\" class=\"data row0 col4\" ><a target=\"_blank\" href=\"https://github.com/jupyterhub/configurable-http-proxy/issues/199\">https://github.com/jupyterhub/configurable-http-proxy/issues/199</a></td>\n",
       "            </tr>\n",
       "    </tbody></table>"
      ],
      "text/plain": [
       "<pandas.io.formats.style.Styler at 0x7fba81e1d198>"
      ]
     },
     "execution_count": 10,
     "metadata": {},
     "output_type": "execute_result"
    }
   ],
   "source": [
    "opened_issues[['user', 'author_association', 'comments', 'closed', 'html_url']]\\\n",
    "    .sort_values(['closed', 'comments']).style.applymap(highlight_rows).format({'html_url': make_clickable}).hide_index()"
   ]
  },
  {
   "cell_type": "markdown",
   "metadata": {
    "papermill": {
     "duration": 0.031678,
     "end_time": "2019-03-22T17:28:59.252180",
     "exception": false,
     "start_time": "2019-03-22T17:28:59.220502",
     "status": "completed"
    },
    "tags": []
   },
   "source": [
    "## Closed issues\n"
   ]
  },
  {
   "cell_type": "code",
   "execution_count": 11,
   "metadata": {
    "jupyter": {
     "source_hidden": true
    },
    "papermill": {
     "duration": 0.077898,
     "end_time": "2019-03-22T17:28:59.380955",
     "exception": false,
     "start_time": "2019-03-22T17:28:59.303057",
     "status": "completed"
    },
    "tags": []
   },
   "outputs": [],
   "source": [
    "closed = issues.query('closed_at > @date')\n",
    "closed_issues = closed[closed['pull_request'].isna()]"
   ]
  },
  {
   "cell_type": "code",
   "execution_count": 12,
   "metadata": {
    "jupyter": {
     "source_hidden": true
    },
    "papermill": {
     "duration": 0.046525,
     "end_time": "2019-03-22T17:28:59.459218",
     "exception": false,
     "start_time": "2019-03-22T17:28:59.412693",
     "status": "completed"
    },
    "tags": []
   },
   "outputs": [
    {
     "data": {
      "text/html": [
       "<style  type=\"text/css\" >\n",
       "</style><table id=\"T_fa6308ae_4cc7_11e9_8c3a_54ee75e0f62d\" ><thead>    <tr>        <th class=\"col_heading level0 col0\" >user</th>        <th class=\"col_heading level0 col1\" >author_association</th>        <th class=\"col_heading level0 col2\" >comments</th>        <th class=\"col_heading level0 col3\" >html_url</th>    </tr></thead><tbody>\n",
       "        </tbody></table>"
      ],
      "text/plain": [
       "<pandas.io.formats.style.Styler at 0x7fba7cea4b00>"
      ]
     },
     "execution_count": 12,
     "metadata": {},
     "output_type": "execute_result"
    }
   ],
   "source": [
    "closed_issues[['user', 'author_association', 'comments', 'html_url']]\\\n",
    "    .sort_values(['comments']).style.applymap(highlight_rows).format({'html_url': make_clickable}).hide_index()"
   ]
  },
  {
   "cell_type": "code",
   "execution_count": 13,
   "metadata": {
    "jupyter": {
     "source_hidden": true
    },
    "papermill": {
     "duration": 0.037536,
     "end_time": "2019-03-22T17:28:59.524273",
     "exception": false,
     "start_time": "2019-03-22T17:28:59.486737",
     "status": "completed"
    },
    "tags": []
   },
   "outputs": [
    {
     "data": {
      "text/html": [
       "<h2 style=\"padding-left: 1em;\">Closed issues: 0</h2>"
      ],
      "text/plain": [
       "<IPython.core.display.HTML object>"
      ]
     },
     "metadata": {},
     "output_type": "display_data"
    }
   ],
   "source": [
    "print_html('Closed issues: {}'.format(len(closed_issues)))"
   ]
  },
  {
   "cell_type": "markdown",
   "metadata": {
    "papermill": {
     "duration": 0.027366,
     "end_time": "2019-03-22T17:28:59.584967",
     "exception": false,
     "start_time": "2019-03-22T17:28:59.557601",
     "status": "completed"
    },
    "tags": []
   },
   "source": [
    "## Opened PRs\n",
    "\n",
    "without responses in red"
   ]
  },
  {
   "cell_type": "code",
   "execution_count": 14,
   "metadata": {
    "jupyter": {
     "source_hidden": true
    },
    "papermill": {
     "duration": 0.090915,
     "end_time": "2019-03-22T17:28:59.703757",
     "exception": false,
     "start_time": "2019-03-22T17:28:59.612842",
     "status": "completed"
    },
    "tags": []
   },
   "outputs": [
    {
     "name": "stderr",
     "output_type": "stream",
     "text": [
      "/home/choldgraf/anaconda/envs/dev/lib/python3.6/site-packages/ipykernel_launcher.py:2: SettingWithCopyWarning: \n",
      "A value is trying to be set on a copy of a slice from a DataFrame.\n",
      "Try using .loc[row_indexer,col_indexer] = value instead\n",
      "\n",
      "See the caveats in the documentation: http://pandas.pydata.org/pandas-docs/stable/indexing.html#indexing-view-versus-copy\n",
      "  \n"
     ]
    }
   ],
   "source": [
    "opened_prs = opened[~opened['pull_request'].isna()]\n",
    "opened_prs['closed'] = ~pd.isnull(opened_prs['closed_at'])\n",
    "\n",
    "closed_prs = closed[~closed['pull_request'].isna()]"
   ]
  },
  {
   "cell_type": "code",
   "execution_count": 15,
   "metadata": {
    "jupyter": {
     "source_hidden": true
    },
    "papermill": {
     "duration": 0.049031,
     "end_time": "2019-03-22T17:28:59.783745",
     "exception": false,
     "start_time": "2019-03-22T17:28:59.734714",
     "status": "completed"
    },
    "tags": []
   },
   "outputs": [
    {
     "data": {
      "text/html": [
       "<h2 style=\"padding-left: 1em;\">Opened PRs: 5</h2>"
      ],
      "text/plain": [
       "<IPython.core.display.HTML object>"
      ]
     },
     "metadata": {},
     "output_type": "display_data"
    }
   ],
   "source": [
    "print_html('Opened PRs: {}'.format(len(opened_prs)))"
   ]
  },
  {
   "cell_type": "code",
   "execution_count": 16,
   "metadata": {
    "jupyter": {
     "source_hidden": true
    },
    "papermill": {
     "duration": 0.071502,
     "end_time": "2019-03-22T17:28:59.886927",
     "exception": false,
     "start_time": "2019-03-22T17:28:59.815425",
     "status": "completed"
    },
    "tags": []
   },
   "outputs": [
    {
     "data": {
      "text/html": [
       "<style  type=\"text/css\" >\n",
       "    #T_faa41024_4cc7_11e9_8c3a_54ee75e0f62drow0_col1 {\n",
       "            background-color:  #f7b7b7;\n",
       "        }    #T_faa41024_4cc7_11e9_8c3a_54ee75e0f62drow0_col2 {\n",
       "            background-color:  #f7b7b7;\n",
       "        }    #T_faa41024_4cc7_11e9_8c3a_54ee75e0f62drow0_col3 {\n",
       "            background-color:  #f7b7b7;\n",
       "        }    #T_faa41024_4cc7_11e9_8c3a_54ee75e0f62drow1_col1 {\n",
       "            background-color:  #f7b7b7;\n",
       "        }    #T_faa41024_4cc7_11e9_8c3a_54ee75e0f62drow1_col2 {\n",
       "            background-color:  #f7b7b7;\n",
       "        }    #T_faa41024_4cc7_11e9_8c3a_54ee75e0f62drow2_col1 {\n",
       "            background-color:  #f7b7b7;\n",
       "        }    #T_faa41024_4cc7_11e9_8c3a_54ee75e0f62drow2_col2 {\n",
       "            background-color:  #f7b7b7;\n",
       "        }    #T_faa41024_4cc7_11e9_8c3a_54ee75e0f62drow3_col2 {\n",
       "            background-color:  #f7b7b7;\n",
       "        }    #T_faa41024_4cc7_11e9_8c3a_54ee75e0f62drow4_col2 {\n",
       "            background-color:  #f7b7b7;\n",
       "        }</style><table id=\"T_faa41024_4cc7_11e9_8c3a_54ee75e0f62d\" ><thead>    <tr>        <th class=\"col_heading level0 col0\" >user</th>        <th class=\"col_heading level0 col1\" >author_association</th>        <th class=\"col_heading level0 col2\" >comments</th>        <th class=\"col_heading level0 col3\" >closed</th>        <th class=\"col_heading level0 col4\" >html_url</th>    </tr></thead><tbody>\n",
       "                <tr>\n",
       "                                <td id=\"T_faa41024_4cc7_11e9_8c3a_54ee75e0f62drow0_col0\" class=\"data row0 col0\" >renovate[bot]</td>\n",
       "                        <td id=\"T_faa41024_4cc7_11e9_8c3a_54ee75e0f62drow0_col1\" class=\"data row0 col1\" >NONE</td>\n",
       "                        <td id=\"T_faa41024_4cc7_11e9_8c3a_54ee75e0f62drow0_col2\" class=\"data row0 col2\" >0</td>\n",
       "                        <td id=\"T_faa41024_4cc7_11e9_8c3a_54ee75e0f62drow0_col3\" class=\"data row0 col3\" >False</td>\n",
       "                        <td id=\"T_faa41024_4cc7_11e9_8c3a_54ee75e0f62drow0_col4\" class=\"data row0 col4\" ><a target=\"_blank\" href=\"https://github.com/jupyterhub/configurable-http-proxy/pull/198\">https://github.com/jupyterhub/configurable-http-proxy/pull/198</a></td>\n",
       "            </tr>\n",
       "            <tr>\n",
       "                                <td id=\"T_faa41024_4cc7_11e9_8c3a_54ee75e0f62drow1_col0\" class=\"data row1 col0\" >renovate[bot]</td>\n",
       "                        <td id=\"T_faa41024_4cc7_11e9_8c3a_54ee75e0f62drow1_col1\" class=\"data row1 col1\" >NONE</td>\n",
       "                        <td id=\"T_faa41024_4cc7_11e9_8c3a_54ee75e0f62drow1_col2\" class=\"data row1 col2\" >0</td>\n",
       "                        <td id=\"T_faa41024_4cc7_11e9_8c3a_54ee75e0f62drow1_col3\" class=\"data row1 col3\" >True</td>\n",
       "                        <td id=\"T_faa41024_4cc7_11e9_8c3a_54ee75e0f62drow1_col4\" class=\"data row1 col4\" ><a target=\"_blank\" href=\"https://github.com/jupyterhub/configurable-http-proxy/pull/197\">https://github.com/jupyterhub/configurable-http-proxy/pull/197</a></td>\n",
       "            </tr>\n",
       "            <tr>\n",
       "                                <td id=\"T_faa41024_4cc7_11e9_8c3a_54ee75e0f62drow2_col0\" class=\"data row2 col0\" >renovate[bot]</td>\n",
       "                        <td id=\"T_faa41024_4cc7_11e9_8c3a_54ee75e0f62drow2_col1\" class=\"data row2 col1\" >NONE</td>\n",
       "                        <td id=\"T_faa41024_4cc7_11e9_8c3a_54ee75e0f62drow2_col2\" class=\"data row2 col2\" >0</td>\n",
       "                        <td id=\"T_faa41024_4cc7_11e9_8c3a_54ee75e0f62drow2_col3\" class=\"data row2 col3\" >True</td>\n",
       "                        <td id=\"T_faa41024_4cc7_11e9_8c3a_54ee75e0f62drow2_col4\" class=\"data row2 col4\" ><a target=\"_blank\" href=\"https://github.com/jupyterhub/configurable-http-proxy/pull/196\">https://github.com/jupyterhub/configurable-http-proxy/pull/196</a></td>\n",
       "            </tr>\n",
       "            <tr>\n",
       "                                <td id=\"T_faa41024_4cc7_11e9_8c3a_54ee75e0f62drow3_col0\" class=\"data row3 col0\" >minrk</td>\n",
       "                        <td id=\"T_faa41024_4cc7_11e9_8c3a_54ee75e0f62drow3_col1\" class=\"data row3 col1\" >MEMBER</td>\n",
       "                        <td id=\"T_faa41024_4cc7_11e9_8c3a_54ee75e0f62drow3_col2\" class=\"data row3 col2\" >0</td>\n",
       "                        <td id=\"T_faa41024_4cc7_11e9_8c3a_54ee75e0f62drow3_col3\" class=\"data row3 col3\" >True</td>\n",
       "                        <td id=\"T_faa41024_4cc7_11e9_8c3a_54ee75e0f62drow3_col4\" class=\"data row3 col4\" ><a target=\"_blank\" href=\"https://github.com/jupyterhub/configurable-http-proxy/pull/195\">https://github.com/jupyterhub/configurable-http-proxy/pull/195</a></td>\n",
       "            </tr>\n",
       "            <tr>\n",
       "                                <td id=\"T_faa41024_4cc7_11e9_8c3a_54ee75e0f62drow4_col0\" class=\"data row4 col0\" >robnagler</td>\n",
       "                        <td id=\"T_faa41024_4cc7_11e9_8c3a_54ee75e0f62drow4_col1\" class=\"data row4 col1\" >CONTRIBUTOR</td>\n",
       "                        <td id=\"T_faa41024_4cc7_11e9_8c3a_54ee75e0f62drow4_col2\" class=\"data row4 col2\" >0</td>\n",
       "                        <td id=\"T_faa41024_4cc7_11e9_8c3a_54ee75e0f62drow4_col3\" class=\"data row4 col3\" >True</td>\n",
       "                        <td id=\"T_faa41024_4cc7_11e9_8c3a_54ee75e0f62drow4_col4\" class=\"data row4 col4\" ><a target=\"_blank\" href=\"https://github.com/jupyterhub/configurable-http-proxy/pull/194\">https://github.com/jupyterhub/configurable-http-proxy/pull/194</a></td>\n",
       "            </tr>\n",
       "    </tbody></table>"
      ],
      "text/plain": [
       "<pandas.io.formats.style.Styler at 0x7fba7cea49e8>"
      ]
     },
     "execution_count": 16,
     "metadata": {},
     "output_type": "execute_result"
    }
   ],
   "source": [
    "opened_prs[['user', 'author_association', 'comments', 'closed', 'html_url']]\\\n",
    "    .sort_values(['closed', 'comments']).style.applymap(highlight_rows).format({'html_url': make_clickable}).hide_index()"
   ]
  },
  {
   "cell_type": "code",
   "execution_count": 17,
   "metadata": {
    "jupyter": {
     "source_hidden": true
    },
    "papermill": {
     "duration": 0.050939,
     "end_time": "2019-03-22T17:28:59.969747",
     "exception": false,
     "start_time": "2019-03-22T17:28:59.918808",
     "status": "completed"
    },
    "tags": []
   },
   "outputs": [
    {
     "data": {
      "text/html": [
       "<h2 style=\"padding-left: 1em;\">Closed PRs: 9</h2>"
      ],
      "text/plain": [
       "<IPython.core.display.HTML object>"
      ]
     },
     "metadata": {},
     "output_type": "display_data"
    }
   ],
   "source": [
    "print_html('Closed PRs: {}'.format(len(closed_prs)))"
   ]
  },
  {
   "cell_type": "code",
   "execution_count": 18,
   "metadata": {
    "jupyter": {
     "source_hidden": true
    },
    "papermill": {
     "duration": 0.100337,
     "end_time": "2019-03-22T17:29:00.105162",
     "exception": false,
     "start_time": "2019-03-22T17:29:00.004825",
     "status": "completed"
    },
    "tags": []
   },
   "outputs": [
    {
     "data": {
      "text/html": [
       "<style  type=\"text/css\" >\n",
       "    #T_fac4ea6a_4cc7_11e9_8c3a_54ee75e0f62drow0_col2 {\n",
       "            background-color:  #f7b7b7;\n",
       "        }    #T_fac4ea6a_4cc7_11e9_8c3a_54ee75e0f62drow1_col1 {\n",
       "            background-color:  #f7b7b7;\n",
       "        }    #T_fac4ea6a_4cc7_11e9_8c3a_54ee75e0f62drow1_col2 {\n",
       "            background-color:  #f7b7b7;\n",
       "        }    #T_fac4ea6a_4cc7_11e9_8c3a_54ee75e0f62drow2_col1 {\n",
       "            background-color:  #f7b7b7;\n",
       "        }    #T_fac4ea6a_4cc7_11e9_8c3a_54ee75e0f62drow2_col2 {\n",
       "            background-color:  #f7b7b7;\n",
       "        }    #T_fac4ea6a_4cc7_11e9_8c3a_54ee75e0f62drow3_col2 {\n",
       "            background-color:  #f7b7b7;\n",
       "        }    #T_fac4ea6a_4cc7_11e9_8c3a_54ee75e0f62drow4_col2 {\n",
       "            background-color:  #f7b7b7;\n",
       "        }    #T_fac4ea6a_4cc7_11e9_8c3a_54ee75e0f62drow5_col1 {\n",
       "            background-color:  #f7b7b7;\n",
       "        }    #T_fac4ea6a_4cc7_11e9_8c3a_54ee75e0f62drow5_col2 {\n",
       "            background-color:  #f7b7b7;\n",
       "        }</style><table id=\"T_fac4ea6a_4cc7_11e9_8c3a_54ee75e0f62d\" ><thead>    <tr>        <th class=\"col_heading level0 col0\" >user</th>        <th class=\"col_heading level0 col1\" >author_association</th>        <th class=\"col_heading level0 col2\" >comments</th>        <th class=\"col_heading level0 col3\" >html_url</th>    </tr></thead><tbody>\n",
       "                <tr>\n",
       "                                <td id=\"T_fac4ea6a_4cc7_11e9_8c3a_54ee75e0f62drow0_col0\" class=\"data row0 col0\" >dtaniwaki</td>\n",
       "                        <td id=\"T_fac4ea6a_4cc7_11e9_8c3a_54ee75e0f62drow0_col1\" class=\"data row0 col1\" >CONTRIBUTOR</td>\n",
       "                        <td id=\"T_fac4ea6a_4cc7_11e9_8c3a_54ee75e0f62drow0_col2\" class=\"data row0 col2\" >0</td>\n",
       "                        <td id=\"T_fac4ea6a_4cc7_11e9_8c3a_54ee75e0f62drow0_col3\" class=\"data row0 col3\" ><a target=\"_blank\" href=\"https://github.com/jupyterhub/configurable-http-proxy/pull/186\">https://github.com/jupyterhub/configurable-http-proxy/pull/186</a></td>\n",
       "            </tr>\n",
       "            <tr>\n",
       "                                <td id=\"T_fac4ea6a_4cc7_11e9_8c3a_54ee75e0f62drow1_col0\" class=\"data row1 col0\" >renovate[bot]</td>\n",
       "                        <td id=\"T_fac4ea6a_4cc7_11e9_8c3a_54ee75e0f62drow1_col1\" class=\"data row1 col1\" >NONE</td>\n",
       "                        <td id=\"T_fac4ea6a_4cc7_11e9_8c3a_54ee75e0f62drow1_col2\" class=\"data row1 col2\" >0</td>\n",
       "                        <td id=\"T_fac4ea6a_4cc7_11e9_8c3a_54ee75e0f62drow1_col3\" class=\"data row1 col3\" ><a target=\"_blank\" href=\"https://github.com/jupyterhub/configurable-http-proxy/pull/197\">https://github.com/jupyterhub/configurable-http-proxy/pull/197</a></td>\n",
       "            </tr>\n",
       "            <tr>\n",
       "                                <td id=\"T_fac4ea6a_4cc7_11e9_8c3a_54ee75e0f62drow2_col0\" class=\"data row2 col0\" >renovate[bot]</td>\n",
       "                        <td id=\"T_fac4ea6a_4cc7_11e9_8c3a_54ee75e0f62drow2_col1\" class=\"data row2 col1\" >NONE</td>\n",
       "                        <td id=\"T_fac4ea6a_4cc7_11e9_8c3a_54ee75e0f62drow2_col2\" class=\"data row2 col2\" >0</td>\n",
       "                        <td id=\"T_fac4ea6a_4cc7_11e9_8c3a_54ee75e0f62drow2_col3\" class=\"data row2 col3\" ><a target=\"_blank\" href=\"https://github.com/jupyterhub/configurable-http-proxy/pull/196\">https://github.com/jupyterhub/configurable-http-proxy/pull/196</a></td>\n",
       "            </tr>\n",
       "            <tr>\n",
       "                                <td id=\"T_fac4ea6a_4cc7_11e9_8c3a_54ee75e0f62drow3_col0\" class=\"data row3 col0\" >minrk</td>\n",
       "                        <td id=\"T_fac4ea6a_4cc7_11e9_8c3a_54ee75e0f62drow3_col1\" class=\"data row3 col1\" >MEMBER</td>\n",
       "                        <td id=\"T_fac4ea6a_4cc7_11e9_8c3a_54ee75e0f62drow3_col2\" class=\"data row3 col2\" >0</td>\n",
       "                        <td id=\"T_fac4ea6a_4cc7_11e9_8c3a_54ee75e0f62drow3_col3\" class=\"data row3 col3\" ><a target=\"_blank\" href=\"https://github.com/jupyterhub/configurable-http-proxy/pull/195\">https://github.com/jupyterhub/configurable-http-proxy/pull/195</a></td>\n",
       "            </tr>\n",
       "            <tr>\n",
       "                                <td id=\"T_fac4ea6a_4cc7_11e9_8c3a_54ee75e0f62drow4_col0\" class=\"data row4 col0\" >robnagler</td>\n",
       "                        <td id=\"T_fac4ea6a_4cc7_11e9_8c3a_54ee75e0f62drow4_col1\" class=\"data row4 col1\" >CONTRIBUTOR</td>\n",
       "                        <td id=\"T_fac4ea6a_4cc7_11e9_8c3a_54ee75e0f62drow4_col2\" class=\"data row4 col2\" >0</td>\n",
       "                        <td id=\"T_fac4ea6a_4cc7_11e9_8c3a_54ee75e0f62drow4_col3\" class=\"data row4 col3\" ><a target=\"_blank\" href=\"https://github.com/jupyterhub/configurable-http-proxy/pull/194\">https://github.com/jupyterhub/configurable-http-proxy/pull/194</a></td>\n",
       "            </tr>\n",
       "            <tr>\n",
       "                                <td id=\"T_fac4ea6a_4cc7_11e9_8c3a_54ee75e0f62drow5_col0\" class=\"data row5 col0\" >clancychilds</td>\n",
       "                        <td id=\"T_fac4ea6a_4cc7_11e9_8c3a_54ee75e0f62drow5_col1\" class=\"data row5 col1\" >NONE</td>\n",
       "                        <td id=\"T_fac4ea6a_4cc7_11e9_8c3a_54ee75e0f62drow5_col2\" class=\"data row5 col2\" >0</td>\n",
       "                        <td id=\"T_fac4ea6a_4cc7_11e9_8c3a_54ee75e0f62drow5_col3\" class=\"data row5 col3\" ><a target=\"_blank\" href=\"https://github.com/jupyterhub/configurable-http-proxy/pull/188\">https://github.com/jupyterhub/configurable-http-proxy/pull/188</a></td>\n",
       "            </tr>\n",
       "            <tr>\n",
       "                                <td id=\"T_fac4ea6a_4cc7_11e9_8c3a_54ee75e0f62drow6_col0\" class=\"data row6 col0\" >greenkeeper[bot]</td>\n",
       "                        <td id=\"T_fac4ea6a_4cc7_11e9_8c3a_54ee75e0f62drow6_col1\" class=\"data row6 col1\" >CONTRIBUTOR</td>\n",
       "                        <td id=\"T_fac4ea6a_4cc7_11e9_8c3a_54ee75e0f62drow6_col2\" class=\"data row6 col2\" >1</td>\n",
       "                        <td id=\"T_fac4ea6a_4cc7_11e9_8c3a_54ee75e0f62drow6_col3\" class=\"data row6 col3\" ><a target=\"_blank\" href=\"https://github.com/jupyterhub/configurable-http-proxy/pull/193\">https://github.com/jupyterhub/configurable-http-proxy/pull/193</a></td>\n",
       "            </tr>\n",
       "            <tr>\n",
       "                                <td id=\"T_fac4ea6a_4cc7_11e9_8c3a_54ee75e0f62drow7_col0\" class=\"data row7 col0\" >greenkeeper[bot]</td>\n",
       "                        <td id=\"T_fac4ea6a_4cc7_11e9_8c3a_54ee75e0f62drow7_col1\" class=\"data row7 col1\" >CONTRIBUTOR</td>\n",
       "                        <td id=\"T_fac4ea6a_4cc7_11e9_8c3a_54ee75e0f62drow7_col2\" class=\"data row7 col2\" >1</td>\n",
       "                        <td id=\"T_fac4ea6a_4cc7_11e9_8c3a_54ee75e0f62drow7_col3\" class=\"data row7 col3\" ><a target=\"_blank\" href=\"https://github.com/jupyterhub/configurable-http-proxy/pull/192\">https://github.com/jupyterhub/configurable-http-proxy/pull/192</a></td>\n",
       "            </tr>\n",
       "            <tr>\n",
       "                                <td id=\"T_fac4ea6a_4cc7_11e9_8c3a_54ee75e0f62drow8_col0\" class=\"data row8 col0\" >rushikeshraut777</td>\n",
       "                        <td id=\"T_fac4ea6a_4cc7_11e9_8c3a_54ee75e0f62drow8_col1\" class=\"data row8 col1\" >CONTRIBUTOR</td>\n",
       "                        <td id=\"T_fac4ea6a_4cc7_11e9_8c3a_54ee75e0f62drow8_col2\" class=\"data row8 col2\" >1</td>\n",
       "                        <td id=\"T_fac4ea6a_4cc7_11e9_8c3a_54ee75e0f62drow8_col3\" class=\"data row8 col3\" ><a target=\"_blank\" href=\"https://github.com/jupyterhub/configurable-http-proxy/pull/189\">https://github.com/jupyterhub/configurable-http-proxy/pull/189</a></td>\n",
       "            </tr>\n",
       "    </tbody></table>"
      ],
      "text/plain": [
       "<pandas.io.formats.style.Styler at 0x7fba7cde3978>"
      ]
     },
     "execution_count": 18,
     "metadata": {},
     "output_type": "execute_result"
    }
   ],
   "source": [
    "closed_prs[['user', 'author_association', 'comments', 'html_url']]\\\n",
    "    .sort_values(['comments']).style.applymap(highlight_rows).format({'html_url': make_clickable}).hide_index()"
   ]
  },
  {
   "cell_type": "markdown",
   "metadata": {
    "papermill": {
     "duration": 0.040641,
     "end_time": "2019-03-22T17:29:00.199461",
     "exception": false,
     "start_time": "2019-03-22T17:29:00.158820",
     "status": "completed"
    },
    "tags": []
   },
   "source": [
    "# State of repo\n",
    "\n",
    "## Stale issues"
   ]
  },
  {
   "cell_type": "code",
   "execution_count": 19,
   "metadata": {
    "jupyter": {
     "source_hidden": true
    },
    "papermill": {
     "duration": 0.083934,
     "end_time": "2019-03-22T17:29:00.324999",
     "exception": false,
     "start_time": "2019-03-22T17:29:00.241065",
     "status": "completed"
    },
    "tags": []
   },
   "outputs": [],
   "source": [
    "stale_issues = issues.query('updated_at < @date_stale')\n",
    "stale_issues = stale_issues[stale_issues['closed_at'].isnull()]"
   ]
  },
  {
   "cell_type": "code",
   "execution_count": 20,
   "metadata": {
    "jupyter": {
     "source_hidden": true
    },
    "papermill": {
     "duration": 0.084422,
     "end_time": "2019-03-22T17:29:00.477760",
     "exception": false,
     "start_time": "2019-03-22T17:29:00.393338",
     "status": "completed"
    },
    "tags": []
   },
   "outputs": [
    {
     "data": {
      "text/html": [
       "<style  type=\"text/css\" >\n",
       "</style><table id=\"T_fafca77a_4cc7_11e9_8c3a_54ee75e0f62d\" ><thead>    <tr>        <th class=\"col_heading level0 col0\" >user</th>        <th class=\"col_heading level0 col1\" >author_association</th>        <th class=\"col_heading level0 col2\" >comments</th>        <th class=\"col_heading level0 col3\" >html_url</th>    </tr></thead><tbody>\n",
       "        </tbody></table>"
      ],
      "text/plain": [
       "<pandas.io.formats.style.Styler at 0x7fba7cde3358>"
      ]
     },
     "execution_count": 20,
     "metadata": {},
     "output_type": "execute_result"
    }
   ],
   "source": [
    "stale_issues[['user', 'author_association', 'comments', 'html_url']]\\\n",
    "    .sort_values(['comments']).style.applymap(highlight_rows).format({'html_url': make_clickable}).hide_index()"
   ]
  },
  {
   "cell_type": "code",
   "execution_count": null,
   "metadata": {
    "jupyter": {
     "source_hidden": true
    },
    "papermill": {
     "duration": 0.046277,
     "end_time": "2019-03-22T17:29:00.587747",
     "exception": false,
     "start_time": "2019-03-22T17:29:00.541470",
     "status": "completed"
    },
    "tags": []
   },
   "outputs": [],
   "source": []
  }
 ],
 "metadata": {
  "kernelspec": {
   "display_name": "Python 3",
   "language": "python",
   "name": "python3"
  },
  "language_info": {
   "codemirror_mode": {
    "name": "ipython",
    "version": 3
   },
   "file_extension": ".py",
   "mimetype": "text/x-python",
   "name": "python",
   "nbconvert_exporter": "python",
   "pygments_lexer": "ipython3",
   "version": "3.6.5"
  },
  "papermill": {
   "duration": 7.517956,
   "end_time": "2019-03-22T17:29:01.491456",
   "environment_variables": {},
   "exception": null,
   "input_path": "./templates/issues.ipynb",
   "output_path": "../reports/2019-02-20/jupyterhub/configurable-http-proxy/issues.ipynb",
   "parameters": {
    "date": "2019-02-20",
    "org": "jupyterhub",
    "repo": "configurable-http-proxy"
   },
   "start_time": "2019-03-22T17:28:53.973500",
   "version": "0.18.0"
  }
 },
 "nbformat": 4,
 "nbformat_minor": 2
}