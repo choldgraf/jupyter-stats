{
 "cells": [
  {
   "cell_type": "code",
   "execution_count": 1,
   "metadata": {
    "jupyter": {
     "source_hidden": true
    },
    "papermill": {
     "duration": 1.108654,
     "end_time": "2019-03-22T17:29:47.717014",
     "exception": false,
     "start_time": "2019-03-22T17:29:46.608360",
     "status": "completed"
    },
    "tags": []
   },
   "outputs": [],
   "source": [
    "import pandas as pd\n",
    "from datetime import timedelta\n",
    "from IPython.display import HTML, display"
   ]
  },
  {
   "cell_type": "code",
   "execution_count": 2,
   "metadata": {
    "jupyter": {
     "source_hidden": true
    },
    "papermill": {
     "duration": 0.063739,
     "end_time": "2019-03-22T17:29:47.816874",
     "exception": false,
     "start_time": "2019-03-22T17:29:47.753135",
     "status": "completed"
    },
    "tags": [
     "parameters"
    ]
   },
   "outputs": [],
   "source": [
    "date = pd.datetime.today() - timedelta(days=30)\n",
    "org = 'jupyterhub'\n",
    "repo = 'zero-to-jupyterhub-k8s'"
   ]
  },
  {
   "cell_type": "code",
   "execution_count": 3,
   "metadata": {
    "jupyter": {
     "source_hidden": true
    },
    "papermill": {
     "duration": 0.052591,
     "end_time": "2019-03-22T17:29:47.929265",
     "exception": false,
     "start_time": "2019-03-22T17:29:47.876674",
     "status": "completed"
    },
    "tags": [
     "injected-parameters"
    ]
   },
   "outputs": [],
   "source": [
    "# Parameters\n",
    "org = \"jupyterhub\"\n",
    "repo = \"jupyter-server-proxy\"\n",
    "date = \"2019-02-20\"\n"
   ]
  },
  {
   "cell_type": "code",
   "execution_count": 4,
   "metadata": {
    "jupyter": {
     "source_hidden": true
    },
    "papermill": {
     "duration": 0.038016,
     "end_time": "2019-03-22T17:29:48.001167",
     "exception": false,
     "start_time": "2019-03-22T17:29:47.963151",
     "status": "completed"
    },
    "tags": []
   },
   "outputs": [],
   "source": [
    "# Definition of a stale issue/PR (how many days since last updated)\n",
    "stale_days = 30\n",
    "date_stale = pd.to_datetime(date) - timedelta(days=stale_days)"
   ]
  },
  {
   "cell_type": "markdown",
   "metadata": {
    "papermill": {
     "duration": 0.066119,
     "end_time": "2019-03-22T17:29:48.119950",
     "exception": false,
     "start_time": "2019-03-22T17:29:48.053831",
     "status": "completed"
    },
    "tags": []
   },
   "source": [
    "# Opened and Closed Issues and PRs\n",
    "\n",
    "This report shows opened and closed issues / PRs over the last 30 days, with a\n",
    "particular focus on items that haven't had a lot of discussion, or that have\n",
    "been opened by people who aren't team-members. The goal of this page is to make\n",
    "it easier to spot places where some input would be appreciated!"
   ]
  },
  {
   "cell_type": "markdown",
   "metadata": {
    "papermill": {
     "duration": 0.037994,
     "end_time": "2019-03-22T17:29:48.213254",
     "exception": false,
     "start_time": "2019-03-22T17:29:48.175260",
     "status": "completed"
    },
    "tags": []
   },
   "source": [
    "# Imports"
   ]
  },
  {
   "cell_type": "code",
   "execution_count": 5,
   "metadata": {
    "jupyter": {
     "source_hidden": true
    },
    "papermill": {
     "duration": 0.44459,
     "end_time": "2019-03-22T17:29:48.694596",
     "exception": false,
     "start_time": "2019-03-22T17:29:48.250006",
     "status": "completed"
    },
    "tags": []
   },
   "outputs": [],
   "source": [
    "import pandas as pd\n",
    "from subprocess import run, PIPE\n",
    "from watchtower import issues_\n",
    "from glob import glob\n",
    "import os.path as op\n",
    "import shutil as sh\n",
    "import sys\n",
    "sys.path.append('../../scripts/')"
   ]
  },
  {
   "cell_type": "markdown",
   "metadata": {
    "papermill": {
     "duration": 0.046058,
     "end_time": "2019-03-22T17:29:48.800418",
     "exception": false,
     "start_time": "2019-03-22T17:29:48.754360",
     "status": "completed"
    },
    "tags": []
   },
   "source": [
    "## styling functions"
   ]
  },
  {
   "cell_type": "code",
   "execution_count": 6,
   "metadata": {
    "jupyter": {
     "source_hidden": true
    },
    "papermill": {
     "duration": 0.051967,
     "end_time": "2019-03-22T17:29:48.899171",
     "exception": false,
     "start_time": "2019-03-22T17:29:48.847204",
     "status": "completed"
    },
    "tags": []
   },
   "outputs": [],
   "source": [
    "def highlight_rows(val):\n",
    "    \"\"\"Highlights cells pertaining to non-members and w/ no comments\"\"\"\n",
    "    disp = ''\n",
    "    if val == 0 or val == \"NONE\":\n",
    "        disp += 'background-color: #f7b7b7'\n",
    "    elif val == \"FIRST_TIME_CONTRIBUTOR\":\n",
    "        disp += 'background-color: red'\n",
    "    return disp\n",
    "\n",
    "def make_clickable(val):\n",
    "    # target _blank to open new window\n",
    "    return '<a target=\"_blank\" href=\"{}\">{}</a>'.format(val, val)\n",
    "\n",
    "def print_html(msg):\n",
    "    display(HTML('<h2 style=\"padding-left: 1em;\">{}</h2>'.format(msg)))\n",
    "    \n",
    "pd.options.display.max_colwidth = 200"
   ]
  },
  {
   "cell_type": "markdown",
   "metadata": {
    "papermill": {
     "duration": 0.059192,
     "end_time": "2019-03-22T17:29:49.007768",
     "exception": false,
     "start_time": "2019-03-22T17:29:48.948576",
     "status": "completed"
    },
    "tags": []
   },
   "source": [
    "## Load data"
   ]
  },
  {
   "cell_type": "code",
   "execution_count": 7,
   "metadata": {
    "jupyter": {
     "source_hidden": true
    },
    "papermill": {
     "duration": 0.124365,
     "end_time": "2019-03-22T17:29:49.174438",
     "exception": false,
     "start_time": "2019-03-22T17:29:49.050073",
     "status": "completed"
    },
    "tags": []
   },
   "outputs": [],
   "source": [
    "# Issues\n",
    "issues = issues_.load_issues(org, repo)\n",
    "issues['user'] = issues['user'].map(lambda a: a['login'])"
   ]
  },
  {
   "cell_type": "markdown",
   "metadata": {
    "papermill": {
     "duration": 0.059678,
     "end_time": "2019-03-22T17:29:49.268947",
     "exception": false,
     "start_time": "2019-03-22T17:29:49.209269",
     "status": "completed"
    },
    "tags": []
   },
   "source": [
    "# New activity"
   ]
  },
  {
   "cell_type": "markdown",
   "metadata": {
    "papermill": {
     "duration": 0.037342,
     "end_time": "2019-03-22T17:29:49.346117",
     "exception": false,
     "start_time": "2019-03-22T17:29:49.308775",
     "status": "completed"
    },
    "tags": []
   },
   "source": [
    "## Opened issues\n",
    "\n",
    "without responses in red"
   ]
  },
  {
   "cell_type": "code",
   "execution_count": 8,
   "metadata": {
    "jupyter": {
     "source_hidden": true
    },
    "papermill": {
     "duration": 0.141541,
     "end_time": "2019-03-22T17:29:49.532643",
     "exception": false,
     "start_time": "2019-03-22T17:29:49.391102",
     "status": "completed"
    },
    "tags": []
   },
   "outputs": [
    {
     "name": "stderr",
     "output_type": "stream",
     "text": [
      "/home/choldgraf/anaconda/envs/dev/lib/python3.6/site-packages/ipykernel_launcher.py:3: SettingWithCopyWarning: \n",
      "A value is trying to be set on a copy of a slice from a DataFrame.\n",
      "Try using .loc[row_indexer,col_indexer] = value instead\n",
      "\n",
      "See the caveats in the documentation: http://pandas.pydata.org/pandas-docs/stable/indexing.html#indexing-view-versus-copy\n",
      "  This is separate from the ipykernel package so we can avoid doing imports until\n"
     ]
    }
   ],
   "source": [
    "opened = issues.query('created_at > @date')\n",
    "opened_issues = opened[opened['pull_request'].isna()]\n",
    "opened_issues['closed'] = ~pd.isnull(opened_issues['closed_at'])"
   ]
  },
  {
   "cell_type": "code",
   "execution_count": 9,
   "metadata": {
    "jupyter": {
     "source_hidden": true
    },
    "papermill": {
     "duration": 0.079019,
     "end_time": "2019-03-22T17:29:49.648062",
     "exception": false,
     "start_time": "2019-03-22T17:29:49.569043",
     "status": "completed"
    },
    "tags": []
   },
   "outputs": [
    {
     "data": {
      "text/html": [
       "<h2 style=\"padding-left: 1em;\">Opened issues: 5</h2>"
      ],
      "text/plain": [
       "<IPython.core.display.HTML object>"
      ]
     },
     "metadata": {},
     "output_type": "display_data"
    }
   ],
   "source": [
    "print_html('Opened issues: {}'.format(len(opened_issues)))"
   ]
  },
  {
   "cell_type": "code",
   "execution_count": 10,
   "metadata": {
    "jupyter": {
     "source_hidden": true
    },
    "papermill": {
     "duration": 1.607663,
     "end_time": "2019-03-22T17:29:51.291214",
     "exception": false,
     "start_time": "2019-03-22T17:29:49.683551",
     "status": "completed"
    },
    "tags": []
   },
   "outputs": [
    {
     "data": {
      "text/html": [
       "<style  type=\"text/css\" >\n",
       "    #T_1946596a_4cc8_11e9_927a_54ee75e0f62drow0_col2 {\n",
       "            background-color:  #f7b7b7;\n",
       "        }    #T_1946596a_4cc8_11e9_927a_54ee75e0f62drow0_col3 {\n",
       "            background-color:  #f7b7b7;\n",
       "        }    #T_1946596a_4cc8_11e9_927a_54ee75e0f62drow1_col2 {\n",
       "            background-color:  #f7b7b7;\n",
       "        }    #T_1946596a_4cc8_11e9_927a_54ee75e0f62drow1_col3 {\n",
       "            background-color:  #f7b7b7;\n",
       "        }    #T_1946596a_4cc8_11e9_927a_54ee75e0f62drow2_col3 {\n",
       "            background-color:  #f7b7b7;\n",
       "        }    #T_1946596a_4cc8_11e9_927a_54ee75e0f62drow3_col1 {\n",
       "            background-color:  #f7b7b7;\n",
       "        }    #T_1946596a_4cc8_11e9_927a_54ee75e0f62drow3_col3 {\n",
       "            background-color:  #f7b7b7;\n",
       "        }</style><table id=\"T_1946596a_4cc8_11e9_927a_54ee75e0f62d\" ><thead>    <tr>        <th class=\"col_heading level0 col0\" >user</th>        <th class=\"col_heading level0 col1\" >author_association</th>        <th class=\"col_heading level0 col2\" >comments</th>        <th class=\"col_heading level0 col3\" >closed</th>        <th class=\"col_heading level0 col4\" >html_url</th>    </tr></thead><tbody>\n",
       "                <tr>\n",
       "                                <td id=\"T_1946596a_4cc8_11e9_927a_54ee75e0f62drow0_col0\" class=\"data row0 col0\" >ryanlovett</td>\n",
       "                        <td id=\"T_1946596a_4cc8_11e9_927a_54ee75e0f62drow0_col1\" class=\"data row0 col1\" >MEMBER</td>\n",
       "                        <td id=\"T_1946596a_4cc8_11e9_927a_54ee75e0f62drow0_col2\" class=\"data row0 col2\" >0</td>\n",
       "                        <td id=\"T_1946596a_4cc8_11e9_927a_54ee75e0f62drow0_col3\" class=\"data row0 col3\" >False</td>\n",
       "                        <td id=\"T_1946596a_4cc8_11e9_927a_54ee75e0f62drow0_col4\" class=\"data row0 col4\" ><a target=\"_blank\" href=\"https://github.com/jupyterhub/jupyter-server-proxy/issues/112\">https://github.com/jupyterhub/jupyter-server-proxy/issues/112</a></td>\n",
       "            </tr>\n",
       "            <tr>\n",
       "                                <td id=\"T_1946596a_4cc8_11e9_927a_54ee75e0f62drow1_col0\" class=\"data row1 col0\" >jakirkham</td>\n",
       "                        <td id=\"T_1946596a_4cc8_11e9_927a_54ee75e0f62drow1_col1\" class=\"data row1 col1\" >CONTRIBUTOR</td>\n",
       "                        <td id=\"T_1946596a_4cc8_11e9_927a_54ee75e0f62drow1_col2\" class=\"data row1 col2\" >0</td>\n",
       "                        <td id=\"T_1946596a_4cc8_11e9_927a_54ee75e0f62drow1_col3\" class=\"data row1 col3\" >False</td>\n",
       "                        <td id=\"T_1946596a_4cc8_11e9_927a_54ee75e0f62drow1_col4\" class=\"data row1 col4\" ><a target=\"_blank\" href=\"https://github.com/jupyterhub/jupyter-server-proxy/issues/109\">https://github.com/jupyterhub/jupyter-server-proxy/issues/109</a></td>\n",
       "            </tr>\n",
       "            <tr>\n",
       "                                <td id=\"T_1946596a_4cc8_11e9_927a_54ee75e0f62drow2_col0\" class=\"data row2 col0\" >betatim</td>\n",
       "                        <td id=\"T_1946596a_4cc8_11e9_927a_54ee75e0f62drow2_col1\" class=\"data row2 col1\" >MEMBER</td>\n",
       "                        <td id=\"T_1946596a_4cc8_11e9_927a_54ee75e0f62drow2_col2\" class=\"data row2 col2\" >2</td>\n",
       "                        <td id=\"T_1946596a_4cc8_11e9_927a_54ee75e0f62drow2_col3\" class=\"data row2 col3\" >False</td>\n",
       "                        <td id=\"T_1946596a_4cc8_11e9_927a_54ee75e0f62drow2_col4\" class=\"data row2 col4\" ><a target=\"_blank\" href=\"https://github.com/jupyterhub/jupyter-server-proxy/issues/107\">https://github.com/jupyterhub/jupyter-server-proxy/issues/107</a></td>\n",
       "            </tr>\n",
       "            <tr>\n",
       "                                <td id=\"T_1946596a_4cc8_11e9_927a_54ee75e0f62drow3_col0\" class=\"data row3 col0\" >dirkcgrunwald</td>\n",
       "                        <td id=\"T_1946596a_4cc8_11e9_927a_54ee75e0f62drow3_col1\" class=\"data row3 col1\" >NONE</td>\n",
       "                        <td id=\"T_1946596a_4cc8_11e9_927a_54ee75e0f62drow3_col2\" class=\"data row3 col2\" >5</td>\n",
       "                        <td id=\"T_1946596a_4cc8_11e9_927a_54ee75e0f62drow3_col3\" class=\"data row3 col3\" >False</td>\n",
       "                        <td id=\"T_1946596a_4cc8_11e9_927a_54ee75e0f62drow3_col4\" class=\"data row3 col4\" ><a target=\"_blank\" href=\"https://github.com/jupyterhub/jupyter-server-proxy/issues/106\">https://github.com/jupyterhub/jupyter-server-proxy/issues/106</a></td>\n",
       "            </tr>\n",
       "            <tr>\n",
       "                                <td id=\"T_1946596a_4cc8_11e9_927a_54ee75e0f62drow4_col0\" class=\"data row4 col0\" >betatim</td>\n",
       "                        <td id=\"T_1946596a_4cc8_11e9_927a_54ee75e0f62drow4_col1\" class=\"data row4 col1\" >MEMBER</td>\n",
       "                        <td id=\"T_1946596a_4cc8_11e9_927a_54ee75e0f62drow4_col2\" class=\"data row4 col2\" >1</td>\n",
       "                        <td id=\"T_1946596a_4cc8_11e9_927a_54ee75e0f62drow4_col3\" class=\"data row4 col3\" >True</td>\n",
       "                        <td id=\"T_1946596a_4cc8_11e9_927a_54ee75e0f62drow4_col4\" class=\"data row4 col4\" ><a target=\"_blank\" href=\"https://github.com/jupyterhub/jupyter-server-proxy/issues/108\">https://github.com/jupyterhub/jupyter-server-proxy/issues/108</a></td>\n",
       "            </tr>\n",
       "    </tbody></table>"
      ],
      "text/plain": [
       "<pandas.io.formats.style.Styler at 0x7fe53ddb6898>"
      ]
     },
     "execution_count": 10,
     "metadata": {},
     "output_type": "execute_result"
    }
   ],
   "source": [
    "opened_issues[['user', 'author_association', 'comments', 'closed', 'html_url']]\\\n",
    "    .sort_values(['closed', 'comments']).style.applymap(highlight_rows).format({'html_url': make_clickable}).hide_index()"
   ]
  },
  {
   "cell_type": "markdown",
   "metadata": {
    "papermill": {
     "duration": 0.04093,
     "end_time": "2019-03-22T17:29:51.374766",
     "exception": false,
     "start_time": "2019-03-22T17:29:51.333836",
     "status": "completed"
    },
    "tags": []
   },
   "source": [
    "## Closed issues\n"
   ]
  },
  {
   "cell_type": "code",
   "execution_count": 11,
   "metadata": {
    "jupyter": {
     "source_hidden": true
    },
    "papermill": {
     "duration": 0.062548,
     "end_time": "2019-03-22T17:29:51.485778",
     "exception": false,
     "start_time": "2019-03-22T17:29:51.423230",
     "status": "completed"
    },
    "tags": []
   },
   "outputs": [],
   "source": [
    "closed = issues.query('closed_at > @date')\n",
    "closed_issues = closed[closed['pull_request'].isna()]"
   ]
  },
  {
   "cell_type": "code",
   "execution_count": 12,
   "metadata": {
    "jupyter": {
     "source_hidden": true
    },
    "papermill": {
     "duration": 0.092984,
     "end_time": "2019-03-22T17:29:51.635775",
     "exception": false,
     "start_time": "2019-03-22T17:29:51.542791",
     "status": "completed"
    },
    "tags": []
   },
   "outputs": [
    {
     "data": {
      "text/html": [
       "<style  type=\"text/css\" >\n",
       "    #T_197c61e0_4cc8_11e9_927a_54ee75e0f62drow1_col1 {\n",
       "            background-color:  #f7b7b7;\n",
       "        }    #T_197c61e0_4cc8_11e9_927a_54ee75e0f62drow2_col1 {\n",
       "            background-color:  #f7b7b7;\n",
       "        }</style><table id=\"T_197c61e0_4cc8_11e9_927a_54ee75e0f62d\" ><thead>    <tr>        <th class=\"col_heading level0 col0\" >user</th>        <th class=\"col_heading level0 col1\" >author_association</th>        <th class=\"col_heading level0 col2\" >comments</th>        <th class=\"col_heading level0 col3\" >html_url</th>    </tr></thead><tbody>\n",
       "                <tr>\n",
       "                                <td id=\"T_197c61e0_4cc8_11e9_927a_54ee75e0f62drow0_col0\" class=\"data row0 col0\" >betatim</td>\n",
       "                        <td id=\"T_197c61e0_4cc8_11e9_927a_54ee75e0f62drow0_col1\" class=\"data row0 col1\" >MEMBER</td>\n",
       "                        <td id=\"T_197c61e0_4cc8_11e9_927a_54ee75e0f62drow0_col2\" class=\"data row0 col2\" >1</td>\n",
       "                        <td id=\"T_197c61e0_4cc8_11e9_927a_54ee75e0f62drow0_col3\" class=\"data row0 col3\" ><a target=\"_blank\" href=\"https://github.com/jupyterhub/jupyter-server-proxy/issues/108\">https://github.com/jupyterhub/jupyter-server-proxy/issues/108</a></td>\n",
       "            </tr>\n",
       "            <tr>\n",
       "                                <td id=\"T_197c61e0_4cc8_11e9_927a_54ee75e0f62drow1_col0\" class=\"data row1 col0\" >vnijs</td>\n",
       "                        <td id=\"T_197c61e0_4cc8_11e9_927a_54ee75e0f62drow1_col1\" class=\"data row1 col1\" >NONE</td>\n",
       "                        <td id=\"T_197c61e0_4cc8_11e9_927a_54ee75e0f62drow1_col2\" class=\"data row1 col2\" >6</td>\n",
       "                        <td id=\"T_197c61e0_4cc8_11e9_927a_54ee75e0f62drow1_col3\" class=\"data row1 col3\" ><a target=\"_blank\" href=\"https://github.com/jupyterhub/jupyter-server-proxy/issues/103\">https://github.com/jupyterhub/jupyter-server-proxy/issues/103</a></td>\n",
       "            </tr>\n",
       "            <tr>\n",
       "                                <td id=\"T_197c61e0_4cc8_11e9_927a_54ee75e0f62drow2_col0\" class=\"data row2 col0\" >ian-r-rose</td>\n",
       "                        <td id=\"T_197c61e0_4cc8_11e9_927a_54ee75e0f62drow2_col1\" class=\"data row2 col1\" >NONE</td>\n",
       "                        <td id=\"T_197c61e0_4cc8_11e9_927a_54ee75e0f62drow2_col2\" class=\"data row2 col2\" >9</td>\n",
       "                        <td id=\"T_197c61e0_4cc8_11e9_927a_54ee75e0f62drow2_col3\" class=\"data row2 col3\" ><a target=\"_blank\" href=\"https://github.com/jupyterhub/jupyter-server-proxy/issues/88\">https://github.com/jupyterhub/jupyter-server-proxy/issues/88</a></td>\n",
       "            </tr>\n",
       "    </tbody></table>"
      ],
      "text/plain": [
       "<pandas.io.formats.style.Styler at 0x7fe538e32748>"
      ]
     },
     "execution_count": 12,
     "metadata": {},
     "output_type": "execute_result"
    }
   ],
   "source": [
    "closed_issues[['user', 'author_association', 'comments', 'html_url']]\\\n",
    "    .sort_values(['comments']).style.applymap(highlight_rows).format({'html_url': make_clickable}).hide_index()"
   ]
  },
  {
   "cell_type": "code",
   "execution_count": 13,
   "metadata": {
    "jupyter": {
     "source_hidden": true
    },
    "papermill": {
     "duration": 0.0645,
     "end_time": "2019-03-22T17:29:51.737141",
     "exception": false,
     "start_time": "2019-03-22T17:29:51.672641",
     "status": "completed"
    },
    "tags": []
   },
   "outputs": [
    {
     "data": {
      "text/html": [
       "<h2 style=\"padding-left: 1em;\">Closed issues: 3</h2>"
      ],
      "text/plain": [
       "<IPython.core.display.HTML object>"
      ]
     },
     "metadata": {},
     "output_type": "display_data"
    }
   ],
   "source": [
    "print_html('Closed issues: {}'.format(len(closed_issues)))"
   ]
  },
  {
   "cell_type": "markdown",
   "metadata": {
    "papermill": {
     "duration": 0.064995,
     "end_time": "2019-03-22T17:29:51.864036",
     "exception": false,
     "start_time": "2019-03-22T17:29:51.799041",
     "status": "completed"
    },
    "tags": []
   },
   "source": [
    "## Opened PRs\n",
    "\n",
    "without responses in red"
   ]
  },
  {
   "cell_type": "code",
   "execution_count": 14,
   "metadata": {
    "jupyter": {
     "source_hidden": true
    },
    "papermill": {
     "duration": 0.16022,
     "end_time": "2019-03-22T17:29:52.067734",
     "exception": false,
     "start_time": "2019-03-22T17:29:51.907514",
     "status": "completed"
    },
    "tags": []
   },
   "outputs": [
    {
     "name": "stderr",
     "output_type": "stream",
     "text": [
      "/home/choldgraf/anaconda/envs/dev/lib/python3.6/site-packages/ipykernel_launcher.py:2: SettingWithCopyWarning: \n",
      "A value is trying to be set on a copy of a slice from a DataFrame.\n",
      "Try using .loc[row_indexer,col_indexer] = value instead\n",
      "\n",
      "See the caveats in the documentation: http://pandas.pydata.org/pandas-docs/stable/indexing.html#indexing-view-versus-copy\n",
      "  \n"
     ]
    }
   ],
   "source": [
    "opened_prs = opened[~opened['pull_request'].isna()]\n",
    "opened_prs['closed'] = ~pd.isnull(opened_prs['closed_at'])\n",
    "\n",
    "closed_prs = closed[~closed['pull_request'].isna()]"
   ]
  },
  {
   "cell_type": "code",
   "execution_count": 15,
   "metadata": {
    "jupyter": {
     "source_hidden": true
    },
    "papermill": {
     "duration": 0.051224,
     "end_time": "2019-03-22T17:29:52.152575",
     "exception": false,
     "start_time": "2019-03-22T17:29:52.101351",
     "status": "completed"
    },
    "tags": []
   },
   "outputs": [
    {
     "data": {
      "text/html": [
       "<h2 style=\"padding-left: 1em;\">Opened PRs: 4</h2>"
      ],
      "text/plain": [
       "<IPython.core.display.HTML object>"
      ]
     },
     "metadata": {},
     "output_type": "display_data"
    }
   ],
   "source": [
    "print_html('Opened PRs: {}'.format(len(opened_prs)))"
   ]
  },
  {
   "cell_type": "code",
   "execution_count": 16,
   "metadata": {
    "jupyter": {
     "source_hidden": true
    },
    "papermill": {
     "duration": 0.087293,
     "end_time": "2019-03-22T17:29:52.300319",
     "exception": false,
     "start_time": "2019-03-22T17:29:52.213026",
     "status": "completed"
    },
    "tags": []
   },
   "outputs": [
    {
     "data": {
      "text/html": [
       "<style  type=\"text/css\" >\n",
       "    #T_19e20d60_4cc8_11e9_927a_54ee75e0f62drow0_col3 {\n",
       "            background-color:  #f7b7b7;\n",
       "        }    #T_19e20d60_4cc8_11e9_927a_54ee75e0f62drow1_col2 {\n",
       "            background-color:  #f7b7b7;\n",
       "        }    #T_19e20d60_4cc8_11e9_927a_54ee75e0f62drow2_col2 {\n",
       "            background-color:  #f7b7b7;\n",
       "        }</style><table id=\"T_19e20d60_4cc8_11e9_927a_54ee75e0f62d\" ><thead>    <tr>        <th class=\"col_heading level0 col0\" >user</th>        <th class=\"col_heading level0 col1\" >author_association</th>        <th class=\"col_heading level0 col2\" >comments</th>        <th class=\"col_heading level0 col3\" >closed</th>        <th class=\"col_heading level0 col4\" >html_url</th>    </tr></thead><tbody>\n",
       "                <tr>\n",
       "                                <td id=\"T_19e20d60_4cc8_11e9_927a_54ee75e0f62drow0_col0\" class=\"data row0 col0\" >ryanlovett</td>\n",
       "                        <td id=\"T_19e20d60_4cc8_11e9_927a_54ee75e0f62drow0_col1\" class=\"data row0 col1\" >MEMBER</td>\n",
       "                        <td id=\"T_19e20d60_4cc8_11e9_927a_54ee75e0f62drow0_col2\" class=\"data row0 col2\" >1</td>\n",
       "                        <td id=\"T_19e20d60_4cc8_11e9_927a_54ee75e0f62drow0_col3\" class=\"data row0 col3\" >False</td>\n",
       "                        <td id=\"T_19e20d60_4cc8_11e9_927a_54ee75e0f62drow0_col4\" class=\"data row0 col4\" ><a target=\"_blank\" href=\"https://github.com/jupyterhub/jupyter-server-proxy/pull/113\">https://github.com/jupyterhub/jupyter-server-proxy/pull/113</a></td>\n",
       "            </tr>\n",
       "            <tr>\n",
       "                                <td id=\"T_19e20d60_4cc8_11e9_927a_54ee75e0f62drow1_col0\" class=\"data row1 col0\" >ryanlovett</td>\n",
       "                        <td id=\"T_19e20d60_4cc8_11e9_927a_54ee75e0f62drow1_col1\" class=\"data row1 col1\" >MEMBER</td>\n",
       "                        <td id=\"T_19e20d60_4cc8_11e9_927a_54ee75e0f62drow1_col2\" class=\"data row1 col2\" >0</td>\n",
       "                        <td id=\"T_19e20d60_4cc8_11e9_927a_54ee75e0f62drow1_col3\" class=\"data row1 col3\" >True</td>\n",
       "                        <td id=\"T_19e20d60_4cc8_11e9_927a_54ee75e0f62drow1_col4\" class=\"data row1 col4\" ><a target=\"_blank\" href=\"https://github.com/jupyterhub/jupyter-server-proxy/pull/111\">https://github.com/jupyterhub/jupyter-server-proxy/pull/111</a></td>\n",
       "            </tr>\n",
       "            <tr>\n",
       "                                <td id=\"T_19e20d60_4cc8_11e9_927a_54ee75e0f62drow2_col0\" class=\"data row2 col0\" >ryanlovett</td>\n",
       "                        <td id=\"T_19e20d60_4cc8_11e9_927a_54ee75e0f62drow2_col1\" class=\"data row2 col1\" >MEMBER</td>\n",
       "                        <td id=\"T_19e20d60_4cc8_11e9_927a_54ee75e0f62drow2_col2\" class=\"data row2 col2\" >0</td>\n",
       "                        <td id=\"T_19e20d60_4cc8_11e9_927a_54ee75e0f62drow2_col3\" class=\"data row2 col3\" >True</td>\n",
       "                        <td id=\"T_19e20d60_4cc8_11e9_927a_54ee75e0f62drow2_col4\" class=\"data row2 col4\" ><a target=\"_blank\" href=\"https://github.com/jupyterhub/jupyter-server-proxy/pull/110\">https://github.com/jupyterhub/jupyter-server-proxy/pull/110</a></td>\n",
       "            </tr>\n",
       "            <tr>\n",
       "                                <td id=\"T_19e20d60_4cc8_11e9_927a_54ee75e0f62drow3_col0\" class=\"data row3 col0\" >jakirkham</td>\n",
       "                        <td id=\"T_19e20d60_4cc8_11e9_927a_54ee75e0f62drow3_col1\" class=\"data row3 col1\" >CONTRIBUTOR</td>\n",
       "                        <td id=\"T_19e20d60_4cc8_11e9_927a_54ee75e0f62drow3_col2\" class=\"data row3 col2\" >1</td>\n",
       "                        <td id=\"T_19e20d60_4cc8_11e9_927a_54ee75e0f62drow3_col3\" class=\"data row3 col3\" >True</td>\n",
       "                        <td id=\"T_19e20d60_4cc8_11e9_927a_54ee75e0f62drow3_col4\" class=\"data row3 col4\" ><a target=\"_blank\" href=\"https://github.com/jupyterhub/jupyter-server-proxy/pull/105\">https://github.com/jupyterhub/jupyter-server-proxy/pull/105</a></td>\n",
       "            </tr>\n",
       "    </tbody></table>"
      ],
      "text/plain": [
       "<pandas.io.formats.style.Styler at 0x7fe538e328d0>"
      ]
     },
     "execution_count": 16,
     "metadata": {},
     "output_type": "execute_result"
    }
   ],
   "source": [
    "opened_prs[['user', 'author_association', 'comments', 'closed', 'html_url']]\\\n",
    "    .sort_values(['closed', 'comments']).style.applymap(highlight_rows).format({'html_url': make_clickable}).hide_index()"
   ]
  },
  {
   "cell_type": "code",
   "execution_count": 17,
   "metadata": {
    "jupyter": {
     "source_hidden": true
    },
    "papermill": {
     "duration": 0.064267,
     "end_time": "2019-03-22T17:29:52.399929",
     "exception": false,
     "start_time": "2019-03-22T17:29:52.335662",
     "status": "completed"
    },
    "tags": []
   },
   "outputs": [
    {
     "data": {
      "text/html": [
       "<h2 style=\"padding-left: 1em;\">Closed PRs: 3</h2>"
      ],
      "text/plain": [
       "<IPython.core.display.HTML object>"
      ]
     },
     "metadata": {},
     "output_type": "display_data"
    }
   ],
   "source": [
    "print_html('Closed PRs: {}'.format(len(closed_prs)))"
   ]
  },
  {
   "cell_type": "code",
   "execution_count": 18,
   "metadata": {
    "jupyter": {
     "source_hidden": true
    },
    "papermill": {
     "duration": 0.117787,
     "end_time": "2019-03-22T17:29:52.576663",
     "exception": false,
     "start_time": "2019-03-22T17:29:52.458876",
     "status": "completed"
    },
    "tags": []
   },
   "outputs": [
    {
     "data": {
      "text/html": [
       "<style  type=\"text/css\" >\n",
       "    #T_1a09b734_4cc8_11e9_927a_54ee75e0f62drow0_col2 {\n",
       "            background-color:  #f7b7b7;\n",
       "        }    #T_1a09b734_4cc8_11e9_927a_54ee75e0f62drow1_col2 {\n",
       "            background-color:  #f7b7b7;\n",
       "        }</style><table id=\"T_1a09b734_4cc8_11e9_927a_54ee75e0f62d\" ><thead>    <tr>        <th class=\"col_heading level0 col0\" >user</th>        <th class=\"col_heading level0 col1\" >author_association</th>        <th class=\"col_heading level0 col2\" >comments</th>        <th class=\"col_heading level0 col3\" >html_url</th>    </tr></thead><tbody>\n",
       "                <tr>\n",
       "                                <td id=\"T_1a09b734_4cc8_11e9_927a_54ee75e0f62drow0_col0\" class=\"data row0 col0\" >ryanlovett</td>\n",
       "                        <td id=\"T_1a09b734_4cc8_11e9_927a_54ee75e0f62drow0_col1\" class=\"data row0 col1\" >MEMBER</td>\n",
       "                        <td id=\"T_1a09b734_4cc8_11e9_927a_54ee75e0f62drow0_col2\" class=\"data row0 col2\" >0</td>\n",
       "                        <td id=\"T_1a09b734_4cc8_11e9_927a_54ee75e0f62drow0_col3\" class=\"data row0 col3\" ><a target=\"_blank\" href=\"https://github.com/jupyterhub/jupyter-server-proxy/pull/111\">https://github.com/jupyterhub/jupyter-server-proxy/pull/111</a></td>\n",
       "            </tr>\n",
       "            <tr>\n",
       "                                <td id=\"T_1a09b734_4cc8_11e9_927a_54ee75e0f62drow1_col0\" class=\"data row1 col0\" >ryanlovett</td>\n",
       "                        <td id=\"T_1a09b734_4cc8_11e9_927a_54ee75e0f62drow1_col1\" class=\"data row1 col1\" >MEMBER</td>\n",
       "                        <td id=\"T_1a09b734_4cc8_11e9_927a_54ee75e0f62drow1_col2\" class=\"data row1 col2\" >0</td>\n",
       "                        <td id=\"T_1a09b734_4cc8_11e9_927a_54ee75e0f62drow1_col3\" class=\"data row1 col3\" ><a target=\"_blank\" href=\"https://github.com/jupyterhub/jupyter-server-proxy/pull/110\">https://github.com/jupyterhub/jupyter-server-proxy/pull/110</a></td>\n",
       "            </tr>\n",
       "            <tr>\n",
       "                                <td id=\"T_1a09b734_4cc8_11e9_927a_54ee75e0f62drow2_col0\" class=\"data row2 col0\" >jakirkham</td>\n",
       "                        <td id=\"T_1a09b734_4cc8_11e9_927a_54ee75e0f62drow2_col1\" class=\"data row2 col1\" >CONTRIBUTOR</td>\n",
       "                        <td id=\"T_1a09b734_4cc8_11e9_927a_54ee75e0f62drow2_col2\" class=\"data row2 col2\" >1</td>\n",
       "                        <td id=\"T_1a09b734_4cc8_11e9_927a_54ee75e0f62drow2_col3\" class=\"data row2 col3\" ><a target=\"_blank\" href=\"https://github.com/jupyterhub/jupyter-server-proxy/pull/105\">https://github.com/jupyterhub/jupyter-server-proxy/pull/105</a></td>\n",
       "            </tr>\n",
       "    </tbody></table>"
      ],
      "text/plain": [
       "<pandas.io.formats.style.Styler at 0x7fe538e32d68>"
      ]
     },
     "execution_count": 18,
     "metadata": {},
     "output_type": "execute_result"
    }
   ],
   "source": [
    "closed_prs[['user', 'author_association', 'comments', 'html_url']]\\\n",
    "    .sort_values(['comments']).style.applymap(highlight_rows).format({'html_url': make_clickable}).hide_index()"
   ]
  },
  {
   "cell_type": "markdown",
   "metadata": {
    "papermill": {
     "duration": 0.040028,
     "end_time": "2019-03-22T17:29:52.665141",
     "exception": false,
     "start_time": "2019-03-22T17:29:52.625113",
     "status": "completed"
    },
    "tags": []
   },
   "source": [
    "# State of repo\n",
    "\n",
    "## Stale issues"
   ]
  },
  {
   "cell_type": "code",
   "execution_count": 19,
   "metadata": {
    "jupyter": {
     "source_hidden": true
    },
    "papermill": {
     "duration": 0.069247,
     "end_time": "2019-03-22T17:29:52.781024",
     "exception": false,
     "start_time": "2019-03-22T17:29:52.711777",
     "status": "completed"
    },
    "tags": []
   },
   "outputs": [],
   "source": [
    "stale_issues = issues.query('updated_at < @date_stale')\n",
    "stale_issues = stale_issues[stale_issues['closed_at'].isnull()]"
   ]
  },
  {
   "cell_type": "code",
   "execution_count": 20,
   "metadata": {
    "jupyter": {
     "source_hidden": true
    },
    "papermill": {
     "duration": 0.072711,
     "end_time": "2019-03-22T17:29:52.898304",
     "exception": false,
     "start_time": "2019-03-22T17:29:52.825593",
     "status": "completed"
    },
    "tags": []
   },
   "outputs": [
    {
     "data": {
      "text/html": [
       "<style  type=\"text/css\" >\n",
       "</style><table id=\"T_1a3c37a4_4cc8_11e9_927a_54ee75e0f62d\" ><thead>    <tr>        <th class=\"col_heading level0 col0\" >user</th>        <th class=\"col_heading level0 col1\" >author_association</th>        <th class=\"col_heading level0 col2\" >comments</th>        <th class=\"col_heading level0 col3\" >html_url</th>    </tr></thead><tbody>\n",
       "        </tbody></table>"
      ],
      "text/plain": [
       "<pandas.io.formats.style.Styler at 0x7fe538d613c8>"
      ]
     },
     "execution_count": 20,
     "metadata": {},
     "output_type": "execute_result"
    }
   ],
   "source": [
    "stale_issues[['user', 'author_association', 'comments', 'html_url']]\\\n",
    "    .sort_values(['comments']).style.applymap(highlight_rows).format({'html_url': make_clickable}).hide_index()"
   ]
  },
  {
   "cell_type": "code",
   "execution_count": null,
   "metadata": {
    "jupyter": {
     "source_hidden": true
    },
    "papermill": {
     "duration": 0.047378,
     "end_time": "2019-03-22T17:29:52.994003",
     "exception": false,
     "start_time": "2019-03-22T17:29:52.946625",
     "status": "completed"
    },
    "tags": []
   },
   "outputs": [],
   "source": []
  }
 ],
 "metadata": {
  "kernelspec": {
   "display_name": "Python 3",
   "language": "python",
   "name": "python3"
  },
  "language_info": {
   "codemirror_mode": {
    "name": "ipython",
    "version": 3
   },
   "file_extension": ".py",
   "mimetype": "text/x-python",
   "name": "python",
   "nbconvert_exporter": "python",
   "pygments_lexer": "ipython3",
   "version": "3.6.5"
  },
  "papermill": {
   "duration": 9.740541,
   "end_time": "2019-03-22T17:29:54.442270",
   "environment_variables": {},
   "exception": null,
   "input_path": "./templates/issues.ipynb",
   "output_path": "../reports/2019-02-20/jupyterhub/jupyter-server-proxy/issues.ipynb",
   "parameters": {
    "date": "2019-02-20",
    "org": "jupyterhub",
    "repo": "jupyter-server-proxy"
   },
   "start_time": "2019-03-22T17:29:44.701729",
   "version": "0.18.0"
  }
 },
 "nbformat": 4,
 "nbformat_minor": 2
}