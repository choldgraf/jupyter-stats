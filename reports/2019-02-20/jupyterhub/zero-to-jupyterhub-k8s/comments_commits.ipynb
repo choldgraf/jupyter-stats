{
 "cells": [
  {
   "cell_type": "code",
   "execution_count": 1,
   "metadata": {
    "jupyter": {
     "source_hidden": true
    },
    "papermill": {
     "duration": 0.881888,
     "end_time": "2019-03-22T17:26:26.616866",
     "exception": false,
     "start_time": "2019-03-22T17:26:25.734978",
     "status": "completed"
    },
    "tags": []
   },
   "outputs": [],
   "source": [
    "import pandas as pd\n",
    "from datetime import timedelta\n",
    "from IPython.display import HTML, display"
   ]
  },
  {
   "cell_type": "code",
   "execution_count": 2,
   "metadata": {
    "jupyter": {
     "source_hidden": true
    },
    "papermill": {
     "duration": 0.048824,
     "end_time": "2019-03-22T17:26:26.690426",
     "exception": false,
     "start_time": "2019-03-22T17:26:26.641602",
     "status": "completed"
    },
    "tags": [
     "parameters"
    ]
   },
   "outputs": [],
   "source": [
    "date = pd.datetime.today() - timedelta(days=30)\n",
    "org = 'jupyterhub'\n",
    "repo = 'zero-to-jupyterhub-k8s'"
   ]
  },
  {
   "cell_type": "code",
   "execution_count": 3,
   "metadata": {
    "jupyter": {
     "source_hidden": true
    },
    "papermill": {
     "duration": 0.038995,
     "end_time": "2019-03-22T17:26:26.777647",
     "exception": false,
     "start_time": "2019-03-22T17:26:26.738652",
     "status": "completed"
    },
    "tags": [
     "injected-parameters"
    ]
   },
   "outputs": [],
   "source": [
    "# Parameters\n",
    "org = \"jupyterhub\"\n",
    "repo = \"zero-to-jupyterhub-k8s\"\n",
    "date = \"2019-02-20\"\n"
   ]
  },
  {
   "cell_type": "code",
   "execution_count": 4,
   "metadata": {
    "jupyter": {
     "source_hidden": true
    },
    "papermill": {
     "duration": 0.03949,
     "end_time": "2019-03-22T17:26:26.843949",
     "exception": false,
     "start_time": "2019-03-22T17:26:26.804459",
     "status": "completed"
    },
    "tags": []
   },
   "outputs": [],
   "source": [
    "# Make sure date is parsed as a date\n",
    "date = pd.to_datetime(date)"
   ]
  },
  {
   "cell_type": "markdown",
   "metadata": {
    "papermill": {
     "duration": 0.021145,
     "end_time": "2019-03-22T17:26:26.893156",
     "exception": false,
     "start_time": "2019-03-22T17:26:26.872011",
     "status": "completed"
    },
    "tags": []
   },
   "source": [
    "## Comment and commit activity\n",
    "\n",
    "This report shows general comment and commit activity for this repository. It's goal is\n",
    "to give a birds-eye view of where activity is happening across the JupyterHub repositories.\n",
    "It shouldn't be treated as a \"leaderboard\" or set of statistics to optimize for.\n"
   ]
  },
  {
   "cell_type": "markdown",
   "metadata": {
    "papermill": {
     "duration": 0.024221,
     "end_time": "2019-03-22T17:26:26.944428",
     "exception": false,
     "start_time": "2019-03-22T17:26:26.920207",
     "status": "completed"
    },
    "tags": []
   },
   "source": [
    "# Imports"
   ]
  },
  {
   "cell_type": "code",
   "execution_count": 5,
   "metadata": {
    "jupyter": {
     "source_hidden": true
    },
    "papermill": {
     "duration": 1.778992,
     "end_time": "2019-03-22T17:26:28.755821",
     "exception": false,
     "start_time": "2019-03-22T17:26:26.976829",
     "status": "completed"
    },
    "tags": []
   },
   "outputs": [],
   "source": [
    "import pandas as pd\n",
    "import scrapbook as sb\n",
    "from subprocess import run, PIPE\n",
    "from watchtower import comments_, commits_\n",
    "import os.path as op\n",
    "import shutil as sh\n",
    "import os\n",
    "import altair as alt\n",
    "import scrapbook as sb"
   ]
  },
  {
   "cell_type": "code",
   "execution_count": 6,
   "metadata": {
    "jupyter": {
     "source_hidden": true
    },
    "papermill": {
     "duration": 0.048685,
     "end_time": "2019-03-22T17:26:28.830817",
     "exception": false,
     "start_time": "2019-03-22T17:26:28.782132",
     "status": "completed"
    },
    "tags": []
   },
   "outputs": [],
   "source": [
    "# Styling functions\n",
    "\n",
    "def highlight_rows(val):\n",
    "    \"\"\"Highlights cells pertaining to non-members and w/ no comments\"\"\"\n",
    "    disp = ''\n",
    "    if val == 0 or val == \"NONE\":\n",
    "        disp += 'background-color: #f7b7b7'\n",
    "    elif val == \"FIRST_TIME_CONTRIBUTOR\":\n",
    "        disp += 'background-color: red'\n",
    "    return disp\n",
    "\n",
    "def make_clickable(val):\n",
    "    # target _blank to open new window\n",
    "    return '<a target=\"_blank\" href=\"{}\">{}</a>'.format(val, val)\n",
    "\n",
    "def print_html(msg):\n",
    "    display(HTML('<h2 style=\"padding-left: 1em;\">{}</h2>'.format(msg)))\n",
    "    \n",
    "pd.options.display.max_colwidth = 200"
   ]
  },
  {
   "cell_type": "markdown",
   "metadata": {
    "papermill": {
     "duration": 0.025516,
     "end_time": "2019-03-22T17:26:28.890591",
     "exception": false,
     "start_time": "2019-03-22T17:26:28.865075",
     "status": "completed"
    },
    "tags": []
   },
   "source": [
    "## Load data"
   ]
  },
  {
   "cell_type": "code",
   "execution_count": 7,
   "metadata": {
    "jupyter": {
     "source_hidden": true
    },
    "papermill": {
     "duration": 0.275198,
     "end_time": "2019-03-22T17:26:29.192360",
     "exception": false,
     "start_time": "2019-03-22T17:26:28.917162",
     "status": "completed"
    },
    "tags": []
   },
   "outputs": [],
   "source": [
    "teams = pd.read_csv('../../data/teams.csv')\n",
    "\n",
    "comments = comments_.load_comments(org, repo).query('created_at > @date')\n",
    "commits = commits_.load_commits(org, repo).dropna(subset=['author']).query('date > @date')\n",
    "\n",
    "comments['user'] = comments['user'].map(lambda a: a['login'])\n",
    "commits['user'] = commits['author'].map(lambda a: a['login'])\n",
    "\n",
    "top_committers = commits.groupby('user').count()['html_url'].sort_values(ascending=False).reset_index().rename(columns={'html_url': 'commits'})\n",
    "top_commenters = comments.groupby('user').count()['html_url'].sort_values(ascending=False).reset_index().rename(columns={'html_url': 'comments'})\n",
    "\n",
    "# Save committers/commenters\n",
    "path_data_date = '../../reports/{:%Y-%m-%d}/data'.format(date)\n",
    "if not op.isdir(path_data_date):\n",
    "    os.makedirs(path_data_date)\n",
    "top_committers.to_csv(op.join(path_data_date, '{}_{}-top_committers.csv'.format(org, repo)), index=False)\n",
    "top_commenters.to_csv(op.join(path_data_date, '{}_{}-top_commenters.csv'.format(org, repo)), index=False)"
   ]
  },
  {
   "cell_type": "code",
   "execution_count": 8,
   "metadata": {
    "jupyter": {
     "source_hidden": true
    },
    "papermill": {
     "duration": 0.085534,
     "end_time": "2019-03-22T17:26:29.303217",
     "exception": false,
     "start_time": "2019-03-22T17:26:29.217683",
     "status": "completed"
    },
    "tags": []
   },
   "outputs": [
    {
     "data": {
      "text/html": [
       "<h2 style=\"padding-left: 1em;\">Total commits: 35</h2>"
      ],
      "text/plain": [
       "<IPython.core.display.HTML object>"
      ]
     },
     "metadata": {},
     "output_type": "display_data"
    },
    {
     "data": {
      "text/html": [
       "<h2 style=\"padding-left: 1em;\">Total comments: 195</h2>"
      ],
      "text/plain": [
       "<IPython.core.display.HTML object>"
      ]
     },
     "metadata": {},
     "output_type": "display_data"
    }
   ],
   "source": [
    "print_html(\"Total commits: {}\".format(len(commits)))\n",
    "print_html(\"Total comments: {}\".format(len(comments)))"
   ]
  },
  {
   "cell_type": "markdown",
   "metadata": {
    "papermill": {
     "duration": 0.035388,
     "end_time": "2019-03-22T17:26:29.367408",
     "exception": false,
     "start_time": "2019-03-22T17:26:29.332020",
     "status": "completed"
    },
    "tags": []
   },
   "source": [
    "## Top committers"
   ]
  },
  {
   "cell_type": "code",
   "execution_count": 9,
   "metadata": {
    "jupyter": {
     "source_hidden": true
    },
    "papermill": {
     "duration": 0.170481,
     "end_time": "2019-03-22T17:26:29.561269",
     "exception": false,
     "start_time": "2019-03-22T17:26:29.390788",
     "status": "completed"
    },
    "tags": []
   },
   "outputs": [],
   "source": [
    "def find_association(user):\n",
    "    person = teams.query('username == @user')\n",
    "    if len(person) == 0:\n",
    "        return 'NONE'\n",
    "    else:\n",
    "        # Return their team (preferring the Binder teams since they're a bit more specific)\n",
    "        return person.iloc[-1]['team']\n",
    "    \n",
    "top_committers['association'] = top_committers['user'].map(find_association)\n",
    "top_commenters['association'] = top_commenters['user'].map(find_association)\n",
    "\n",
    "# Define the color scale we'll use to categorize people\n",
    "color_scale = alt.Scale(\n",
    "    domain=[\"red\", \"lead\", \"blue\", \"jupyterhub\", \"NONE\"],\n",
    "    range=[\"#fdbaba\", \"#fdbaba\", \"#bac5fd\", \"#ffbb74\", \"green\"]\n",
    ")"
   ]
  },
  {
   "cell_type": "code",
   "execution_count": 10,
   "metadata": {
    "jupyter": {
     "source_hidden": true
    },
    "papermill": {
     "duration": 0.089887,
     "end_time": "2019-03-22T17:26:29.713584",
     "exception": false,
     "start_time": "2019-03-22T17:26:29.623697",
     "status": "completed"
    },
    "tags": []
   },
   "outputs": [
    {
     "data": {
      "application/vnd.vegalite.v2+json": {
       "$schema": "https://vega.github.io/schema/vega-lite/v2.6.0.json",
       "config": {
        "view": {
         "height": 300,
         "width": 400
        }
       },
       "data": {
        "name": "data-7c6d795a0fbac54452d113ec91615fea"
       },
       "datasets": {
        "data-7c6d795a0fbac54452d113ec91615fea": [
         {
          "association": "lead",
          "commits": 13,
          "user": "minrk"
         },
         {
          "association": "blue",
          "commits": 8,
          "user": "consideRatio"
         },
         {
          "association": "NONE",
          "commits": 4,
          "user": "manycoding"
         },
         {
          "association": "NONE",
          "commits": 3,
          "user": "sgibson91"
         },
         {
          "association": "NONE",
          "commits": 2,
          "user": "jtpio"
         },
         {
          "association": "red",
          "commits": 2,
          "user": "choldgraf"
         },
         {
          "association": "NONE",
          "commits": 1,
          "user": "joshbode"
         },
         {
          "association": "red",
          "commits": 1,
          "user": "betatim"
         },
         {
          "association": "NONE",
          "commits": 1,
          "user": "JohnPaton"
         }
        ]
       },
       "encoding": {
        "color": {
         "field": "association",
         "scale": {
          "domain": [
           "red",
           "lead",
           "blue",
           "jupyterhub",
           "NONE"
          ],
          "range": [
           "#fdbaba",
           "#fdbaba",
           "#bac5fd",
           "#ffbb74",
           "green"
          ]
         },
         "type": "nominal"
        },
        "x": {
         "field": "commits",
         "type": "quantitative"
        },
        "y": {
         "field": "user",
         "type": "nominal"
        }
       },
       "mark": "bar"
      },
      "text/plain": [
       "<VegaLite 2 object>\n",
       "\n",
       "If you see this message, it means the renderer has not been properly enabled\n",
       "for the frontend that you are using. For more information, see\n",
       "https://altair-viz.github.io/user_guide/troubleshooting.html\n"
      ]
     },
     "execution_count": 10,
     "metadata": {},
     "output_type": "execute_result"
    }
   ],
   "source": [
    "alt.Chart(top_committers).mark_bar().encode(\n",
    "    x='commits',\n",
    "    y='user',\n",
    "    color=alt.Color('association', scale=color_scale)\n",
    ")"
   ]
  },
  {
   "cell_type": "markdown",
   "metadata": {
    "papermill": {
     "duration": 0.033147,
     "end_time": "2019-03-22T17:26:29.770414",
     "exception": false,
     "start_time": "2019-03-22T17:26:29.737267",
     "status": "completed"
    },
    "tags": []
   },
   "source": [
    "## Top commenters"
   ]
  },
  {
   "cell_type": "code",
   "execution_count": 11,
   "metadata": {
    "jupyter": {
     "source_hidden": true
    },
    "papermill": {
     "duration": 0.053821,
     "end_time": "2019-03-22T17:26:29.860895",
     "exception": false,
     "start_time": "2019-03-22T17:26:29.807074",
     "status": "completed"
    },
    "tags": []
   },
   "outputs": [
    {
     "data": {
      "application/vnd.vegalite.v2+json": {
       "$schema": "https://vega.github.io/schema/vega-lite/v2.6.0.json",
       "config": {
        "view": {
         "height": 300,
         "width": 400
        }
       },
       "data": {
        "name": "data-8bcab638f32169181d88dd121734c362"
       },
       "datasets": {
        "data-8bcab638f32169181d88dd121734c362": [
         {
          "association": "blue",
          "comments": 60,
          "user": "consideRatio"
         },
         {
          "association": "NONE",
          "comments": 32,
          "user": "ablekh"
         },
         {
          "association": "red",
          "comments": 20,
          "user": "choldgraf"
         },
         {
          "association": "lead",
          "comments": 11,
          "user": "minrk"
         },
         {
          "association": "red",
          "comments": 8,
          "user": "betatim"
         },
         {
          "association": "NONE",
          "comments": 8,
          "user": "manics"
         },
         {
          "association": "red",
          "comments": 5,
          "user": "willingc"
         },
         {
          "association": "NONE",
          "comments": 5,
          "user": "frouzbeh"
         },
         {
          "association": "NONE",
          "comments": 4,
          "user": "joshbode"
         },
         {
          "association": "NONE",
          "comments": 4,
          "user": "jtpio"
         },
         {
          "association": "NONE",
          "comments": 3,
          "user": "manycoding"
         },
         {
          "association": "NONE",
          "comments": 3,
          "user": "alexmorley"
         },
         {
          "association": "NONE",
          "comments": 3,
          "user": "sgibson91"
         },
         {
          "association": "NONE",
          "comments": 3,
          "user": "abdidarmawan007"
         },
         {
          "association": "NONE",
          "comments": 3,
          "user": "clkao"
         },
         {
          "association": "NONE",
          "comments": 2,
          "user": "mfhm"
         },
         {
          "association": "NONE",
          "comments": 2,
          "user": "ryanlovett"
         },
         {
          "association": "NONE",
          "comments": 2,
          "user": "wierzba3"
         },
         {
          "association": "NONE",
          "comments": 2,
          "user": "hickst"
         },
         {
          "association": "NONE",
          "comments": 1,
          "user": "amit1rrr"
         },
         {
          "association": "NONE",
          "comments": 1,
          "user": "akhmerov"
         },
         {
          "association": "NONE",
          "comments": 1,
          "user": "FCtj"
         },
         {
          "association": "NONE",
          "comments": 1,
          "user": "ianalis"
         },
         {
          "association": "NONE",
          "comments": 1,
          "user": "daldridge-cs"
         },
         {
          "association": "NONE",
          "comments": 1,
          "user": "divatemangesh"
         },
         {
          "association": "NONE",
          "comments": 1,
          "user": "hnykda"
         },
         {
          "association": "NONE",
          "comments": 1,
          "user": "kfox1111"
         },
         {
          "association": "NONE",
          "comments": 1,
          "user": "lesteve"
         },
         {
          "association": "NONE",
          "comments": 1,
          "user": "metrofun"
         },
         {
          "association": "NONE",
          "comments": 1,
          "user": "rabernat"
         },
         {
          "association": "NONE",
          "comments": 1,
          "user": "sciffer"
         },
         {
          "association": "NONE",
          "comments": 1,
          "user": "szelenka"
         },
         {
          "association": "NONE",
          "comments": 1,
          "user": "trallard"
         },
         {
          "association": "NONE",
          "comments": 1,
          "user": "AbhinavanT"
         }
        ]
       },
       "encoding": {
        "color": {
         "field": "association",
         "scale": {
          "domain": [
           "red",
           "lead",
           "blue",
           "jupyterhub",
           "NONE"
          ],
          "range": [
           "#fdbaba",
           "#fdbaba",
           "#bac5fd",
           "#ffbb74",
           "green"
          ]
         },
         "sort": [
          "CONTRIBUTOR",
          "MEMBER",
          "NONE"
         ],
         "type": "nominal"
        },
        "x": {
         "field": "comments",
         "type": "quantitative"
        },
        "y": {
         "field": "user",
         "type": "nominal"
        }
       },
       "mark": "bar"
      },
      "text/plain": [
       "<VegaLite 2 object>\n",
       "\n",
       "If you see this message, it means the renderer has not been properly enabled\n",
       "for the frontend that you are using. For more information, see\n",
       "https://altair-viz.github.io/user_guide/troubleshooting.html\n"
      ]
     },
     "execution_count": 11,
     "metadata": {},
     "output_type": "execute_result"
    }
   ],
   "source": [
    "alt.Chart(top_commenters).mark_bar().encode(\n",
    "    x='comments',\n",
    "    y='user',\n",
    "    color=alt.Color('association', sort=[\"CONTRIBUTOR\", \"MEMBER\", \"NONE\"], scale=color_scale)\n",
    ")"
   ]
  },
  {
   "cell_type": "markdown",
   "metadata": {
    "papermill": {
     "duration": 0.048031,
     "end_time": "2019-03-22T17:26:29.940696",
     "exception": false,
     "start_time": "2019-03-22T17:26:29.892665",
     "status": "completed"
    },
    "tags": []
   },
   "source": [
    "## Percentages of comments and commits"
   ]
  },
  {
   "cell_type": "code",
   "execution_count": 12,
   "metadata": {
    "jupyter": {
     "source_hidden": true
    },
    "papermill": {
     "duration": 0.078757,
     "end_time": "2019-03-22T17:26:30.060665",
     "exception": false,
     "start_time": "2019-03-22T17:26:29.981908",
     "status": "completed"
    },
    "tags": []
   },
   "outputs": [],
   "source": [
    "# Calculate percentages\n",
    "sum_comments = top_commenters.groupby('association')['comments'].sum().reset_index().rename(columns={'comments': \"percent\"})\n",
    "sum_comments['kind'] = \"comments\"\n",
    "sum_comments['percent'] = 100*(sum_comments['percent'] / sum_comments['percent'].sum())\n",
    "\n",
    "sum_commits = top_committers.groupby('association')['commits'].sum().reset_index().rename(columns={'commits': \"percent\"})\n",
    "sum_commits['kind'] = \"commits\"\n",
    "sum_commits['percent'] = 100*(sum_commits['percent'] / sum_commits['percent'].sum())\n",
    "\n",
    "sum_both = pd.concat([sum_comments, sum_commits])"
   ]
  },
  {
   "cell_type": "code",
   "execution_count": 13,
   "metadata": {
    "jupyter": {
     "source_hidden": true
    },
    "papermill": {
     "duration": 0.085299,
     "end_time": "2019-03-22T17:26:30.203817",
     "exception": false,
     "start_time": "2019-03-22T17:26:30.118518",
     "status": "completed"
    },
    "tags": []
   },
   "outputs": [
    {
     "data": {
      "application/vnd.vegalite.v2+json": {
       "$schema": "https://vega.github.io/schema/vega-lite/v2.6.0.json",
       "config": {
        "view": {
         "height": 300,
         "width": 400
        }
       },
       "data": {
        "name": "data-5b511a962b182e15d88a08dca84a3e7f"
       },
       "datasets": {
        "data-5b511a962b182e15d88a08dca84a3e7f": [
         {
          "association": "NONE",
          "kind": "comments",
          "percent": 46.666666666666664
         },
         {
          "association": "blue",
          "kind": "comments",
          "percent": 30.76923076923077
         },
         {
          "association": "lead",
          "kind": "comments",
          "percent": 5.641025641025641
         },
         {
          "association": "red",
          "kind": "comments",
          "percent": 16.923076923076923
         },
         {
          "association": "NONE",
          "kind": "commits",
          "percent": 31.428571428571427
         },
         {
          "association": "blue",
          "kind": "commits",
          "percent": 22.857142857142858
         },
         {
          "association": "lead",
          "kind": "commits",
          "percent": 37.142857142857146
         },
         {
          "association": "red",
          "kind": "commits",
          "percent": 8.571428571428571
         }
        ]
       },
       "encoding": {
        "color": {
         "field": "association",
         "scale": {
          "domain": [
           "red",
           "lead",
           "blue",
           "jupyterhub",
           "NONE"
          ],
          "range": [
           "#fdbaba",
           "#fdbaba",
           "#bac5fd",
           "#ffbb74",
           "green"
          ]
         },
         "sort": [
          "CONTRIBUTOR",
          "MEMBER",
          "NONE"
         ],
         "type": "nominal"
        },
        "x": {
         "field": "percent",
         "type": "quantitative"
        },
        "y": {
         "field": "kind",
         "type": "nominal"
        }
       },
       "mark": "bar"
      },
      "text/plain": [
       "<VegaLite 2 object>\n",
       "\n",
       "If you see this message, it means the renderer has not been properly enabled\n",
       "for the frontend that you are using. For more information, see\n",
       "https://altair-viz.github.io/user_guide/troubleshooting.html\n"
      ]
     },
     "execution_count": 13,
     "metadata": {},
     "output_type": "execute_result"
    }
   ],
   "source": [
    "alt.Chart(sum_both).mark_bar().encode(\n",
    "    x='percent',\n",
    "    y='kind',\n",
    "    color=alt.Color('association', sort=[\"CONTRIBUTOR\", \"MEMBER\", \"NONE\"], scale=color_scale)\n",
    ")"
   ]
  },
  {
   "cell_type": "code",
   "execution_count": null,
   "metadata": {
    "jupyter": {
     "source_hidden": true
    },
    "papermill": {
     "duration": 0.032322,
     "end_time": "2019-03-22T17:26:30.269020",
     "exception": false,
     "start_time": "2019-03-22T17:26:30.236698",
     "status": "completed"
    },
    "tags": []
   },
   "outputs": [],
   "source": []
  }
 ],
 "metadata": {
  "kernelspec": {
   "display_name": "Python 3",
   "language": "python",
   "name": "python3"
  },
  "language_info": {
   "codemirror_mode": {
    "name": "ipython",
    "version": 3
   },
   "file_extension": ".py",
   "mimetype": "text/x-python",
   "name": "python",
   "nbconvert_exporter": "python",
   "pygments_lexer": "ipython3",
   "version": "3.6.5"
  },
  "papermill": {
   "duration": 7.526351,
   "end_time": "2019-03-22T17:26:31.418594",
   "environment_variables": {},
   "exception": null,
   "input_path": "./templates/comments_commits.ipynb",
   "output_path": "../reports/2019-02-20/jupyterhub/zero-to-jupyterhub-k8s/comments_commits.ipynb",
   "parameters": {
    "date": "2019-02-20",
    "org": "jupyterhub",
    "repo": "zero-to-jupyterhub-k8s"
   },
   "start_time": "2019-03-22T17:26:23.892243",
   "version": "0.18.0"
  }
 },
 "nbformat": 4,
 "nbformat_minor": 2
}