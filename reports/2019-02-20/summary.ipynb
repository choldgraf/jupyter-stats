{
 "cells": [
  {
   "cell_type": "code",
   "execution_count": 1,
   "metadata": {
    "jupyter": {
     "source_hidden": true
    },
    "papermill": {
     "duration": 0.076736,
     "end_time": "2019-03-22T17:29:56.806951",
     "exception": false,
     "start_time": "2019-03-22T17:29:56.730215",
     "status": "completed"
    },
    "tags": [
     "parameters"
    ]
   },
   "outputs": [],
   "source": [
    "# The date after which we'll summarize data (up to today)\n",
    "date = \"2019-01-18\""
   ]
  },
  {
   "cell_type": "code",
   "execution_count": 2,
   "metadata": {
    "jupyter": {
     "source_hidden": true
    },
    "papermill": {
     "duration": 0.036004,
     "end_time": "2019-03-22T17:29:56.869037",
     "exception": false,
     "start_time": "2019-03-22T17:29:56.833033",
     "status": "completed"
    },
    "tags": [
     "injected-parameters"
    ]
   },
   "outputs": [],
   "source": [
    "# Parameters\n",
    "date = \"2019-02-20\"\n"
   ]
  },
  {
   "cell_type": "code",
   "execution_count": 3,
   "metadata": {
    "jupyter": {
     "source_hidden": true
    },
    "papermill": {
     "duration": 0.037577,
     "end_time": "2019-03-22T17:29:56.928431",
     "exception": false,
     "start_time": "2019-03-22T17:29:56.890854",
     "status": "completed"
    },
    "tags": []
   },
   "outputs": [
    {
     "data": {
      "text/html": [
       "<h2>Report summary for 2019-02-20</h2>"
      ],
      "text/plain": [
       "<IPython.core.display.HTML object>"
      ]
     },
     "execution_count": 3,
     "metadata": {},
     "output_type": "execute_result"
    }
   ],
   "source": [
    "from IPython.display import display, HTML\n",
    "HTML(\"<h2>Report summary for {}</h2>\".format(date))"
   ]
  },
  {
   "cell_type": "markdown",
   "metadata": {
    "papermill": {
     "duration": 0.023798,
     "end_time": "2019-03-22T17:29:56.974490",
     "exception": false,
     "start_time": "2019-03-22T17:29:56.950692",
     "status": "completed"
    },
    "tags": []
   },
   "source": [
    "This is a summary of activity in the JupyterHub repositories over the last 30 days.\n",
    "It should not be treated as set of statistics to optimize, but should instead be\n",
    "used to find opportunities to pursue ways that we can recognize and congratulate the\n",
    "work that folks are doing in the community. It should be a birds-eye view of what's\n",
    "going on that inspires people to dig a bit deeper."
   ]
  },
  {
   "cell_type": "code",
   "execution_count": 4,
   "metadata": {
    "jupyter": {
     "source_hidden": true
    },
    "papermill": {
     "duration": 2.283906,
     "end_time": "2019-03-22T17:29:59.283654",
     "exception": false,
     "start_time": "2019-03-22T17:29:56.999748",
     "status": "completed"
    },
    "tags": []
   },
   "outputs": [],
   "source": [
    "from glob import glob\n",
    "import os.path as op\n",
    "import pandas as pd\n",
    "import altair as alt\n",
    "import matplotlib.pyplot as plt\n",
    "import seaborn as sns\n",
    "import numpy as np\n",
    "\n",
    "plt.rcParams['figure.dpi'] = 300\n",
    "\n",
    "csv_files = glob('../../reports/{}/data/*.csv'.format(date))"
   ]
  },
  {
   "cell_type": "code",
   "execution_count": 5,
   "metadata": {
    "jupyter": {
     "source_hidden": true
    },
    "papermill": {
     "duration": 0.274829,
     "end_time": "2019-03-22T17:29:59.581329",
     "exception": false,
     "start_time": "2019-03-22T17:29:59.306500",
     "status": "completed"
    },
    "tags": []
   },
   "outputs": [],
   "source": [
    "data = []\n",
    "for ifile in csv_files:\n",
    "    name = op.basename(ifile)\n",
    "    org, repo = name.rsplit('-', 1)[0].split('_', 1)\n",
    "    idata = pd.read_csv(ifile)\n",
    "    idata['org'] = org\n",
    "    idata['repo'] = repo\n",
    "    idata = idata.rename(columns={'commits': 'count', 'comments': 'count'})\n",
    "    kind = 'commits' if 'committers' in ifile else 'comments'\n",
    "    idata['kind'] = kind\n",
    "    data.append(idata)\n",
    "\n",
    "data = pd.concat(data, sort=False).reset_index(drop=True)\n",
    "\n",
    "data_total = data.groupby(['user', 'kind'])['count'].sum().reset_index()"
   ]
  },
  {
   "cell_type": "code",
   "execution_count": 6,
   "metadata": {
    "jupyter": {
     "source_hidden": true
    },
    "papermill": {
     "duration": 0.288656,
     "end_time": "2019-03-22T17:29:59.891007",
     "exception": false,
     "start_time": "2019-03-22T17:29:59.602351",
     "status": "completed"
    },
    "tags": []
   },
   "outputs": [],
   "source": [
    "teams = pd.read_csv('../../data/teams.csv')\n",
    "\n",
    "def assign_team(val):\n",
    "    if val in teams['username'].values:\n",
    "        team = teams.query('username == @val')['team'].iloc[-1] \n",
    "    else:\n",
    "        team = \"NONE\"\n",
    "    return team\n",
    "data['association'] = data['user'].map(assign_team)"
   ]
  },
  {
   "cell_type": "markdown",
   "metadata": {
    "papermill": {
     "duration": 0.022232,
     "end_time": "2019-03-22T17:29:59.933673",
     "exception": false,
     "start_time": "2019-03-22T17:29:59.911441",
     "status": "completed"
    },
    "tags": []
   },
   "source": [
    "## Total commits and comments by repository"
   ]
  },
  {
   "cell_type": "code",
   "execution_count": 7,
   "metadata": {
    "jupyter": {
     "source_hidden": true
    },
    "papermill": {
     "duration": 0.099374,
     "end_time": "2019-03-22T17:30:00.064111",
     "exception": false,
     "start_time": "2019-03-22T17:29:59.964737",
     "status": "completed"
    },
    "tags": []
   },
   "outputs": [
    {
     "data": {
      "application/vnd.vegalite.v2+json": {
       "$schema": "https://vega.github.io/schema/vega-lite/v2.6.0.json",
       "config": {
        "view": {
         "height": 300,
         "width": 400
        }
       },
       "data": {
        "name": "data-a110b2782499f297bb0df811bfc5d50b"
       },
       "datasets": {
        "data-a110b2782499f297bb0df811bfc5d50b": [
         {
          "count": 176,
          "kind": "comments",
          "org": "jupyter",
          "repo": "repo2docker"
         },
         {
          "count": 115,
          "kind": "commits",
          "org": "jupyter",
          "repo": "repo2docker"
         },
         {
          "count": 39,
          "kind": "comments",
          "org": "jupyterhub",
          "repo": "binder"
         },
         {
          "count": 4,
          "kind": "commits",
          "org": "jupyterhub",
          "repo": "binder"
         },
         {
          "count": 68,
          "kind": "comments",
          "org": "jupyterhub",
          "repo": "binderhub"
         },
         {
          "count": 14,
          "kind": "commits",
          "org": "jupyterhub",
          "repo": "binderhub"
         },
         {
          "count": 1,
          "kind": "comments",
          "org": "jupyterhub",
          "repo": "configurable-http-proxy"
         },
         {
          "count": 10,
          "kind": "commits",
          "org": "jupyterhub",
          "repo": "configurable-http-proxy"
         },
         {
          "count": 17,
          "kind": "comments",
          "org": "jupyterhub",
          "repo": "jupyter-server-proxy"
         },
         {
          "count": 7,
          "kind": "commits",
          "org": "jupyterhub",
          "repo": "jupyter-server-proxy"
         },
         {
          "count": 122,
          "kind": "comments",
          "org": "jupyterhub",
          "repo": "jupyterhub"
         },
         {
          "count": 59,
          "kind": "commits",
          "org": "jupyterhub",
          "repo": "jupyterhub"
         },
         {
          "count": 47,
          "kind": "comments",
          "org": "jupyterhub",
          "repo": "mybinder.org-deploy"
         },
         {
          "count": 9,
          "kind": "commits",
          "org": "jupyterhub",
          "repo": "mybinder.org-deploy"
         },
         {
          "count": 18,
          "kind": "comments",
          "org": "jupyterhub",
          "repo": "nativeauthenticator"
         },
         {
          "count": 16,
          "kind": "commits",
          "org": "jupyterhub",
          "repo": "nativeauthenticator"
         },
         {
          "count": 94,
          "kind": "comments",
          "org": "jupyterhub",
          "repo": "team-compass"
         },
         {
          "count": 12,
          "kind": "commits",
          "org": "jupyterhub",
          "repo": "team-compass"
         },
         {
          "count": 56,
          "kind": "comments",
          "org": "jupyterhub",
          "repo": "the-littlest-jupyterhub"
         },
         {
          "count": 14,
          "kind": "commits",
          "org": "jupyterhub",
          "repo": "the-littlest-jupyterhub"
         },
         {
          "count": 10,
          "kind": "comments",
          "org": "jupyterhub",
          "repo": "traefik-proxy"
         },
         {
          "count": 15,
          "kind": "commits",
          "org": "jupyterhub",
          "repo": "traefik-proxy"
         },
         {
          "count": 195,
          "kind": "comments",
          "org": "jupyterhub",
          "repo": "zero-to-jupyterhub-k8s"
         },
         {
          "count": 35,
          "kind": "commits",
          "org": "jupyterhub",
          "repo": "zero-to-jupyterhub-k8s"
         }
        ]
       },
       "encoding": {
        "color": {
         "field": "kind",
         "type": "nominal"
        },
        "x": {
         "field": "repo",
         "type": "nominal"
        },
        "y": {
         "field": "count",
         "type": "quantitative"
        }
       },
       "mark": "bar",
       "title": "Comments",
       "width": 700
      },
      "image/png": "[encoded data removed]",
      "text/plain": [
       "<VegaLite 2 object>\n",
       "\n",
       "If you see this message, it means the renderer has not been properly enabled\n",
       "for the frontend that you are using. For more information, see\n",
       "https://altair-viz.github.io/user_guide/troubleshooting.html\n"
      ]
     },
     "execution_count": 7,
     "metadata": {},
     "output_type": "execute_result"
    }
   ],
   "source": [
    "pltdata = data.groupby(['org', 'repo', 'kind'])['count'].sum().reset_index()\n",
    "comments = alt.Chart(pltdata, title=\"Comments\", width=700).mark_bar().encode(\n",
    "    x='repo',\n",
    "    y='count',\n",
    "    color='kind'\n",
    ")\n",
    "comments"
   ]
  },
  {
   "cell_type": "markdown",
   "metadata": {
    "papermill": {
     "duration": 0.026916,
     "end_time": "2019-03-22T17:30:00.113179",
     "exception": false,
     "start_time": "2019-03-22T17:30:00.086263",
     "status": "completed"
    },
    "tags": []
   },
   "source": [
    "## Total commits and comments by user"
   ]
  },
  {
   "cell_type": "code",
   "execution_count": 8,
   "metadata": {
    "jupyter": {
     "source_hidden": true
    },
    "papermill": {
     "duration": 0.053391,
     "end_time": "2019-03-22T17:30:00.215242",
     "exception": false,
     "start_time": "2019-03-22T17:30:00.161851",
     "status": "completed"
    },
    "tags": []
   },
   "outputs": [],
   "source": [
    "# Define the color scale we'll use to categorize people\n",
    "color_scale = alt.Scale(\n",
    "    domain=[\"red\", \"lead\",\"blue\", \"jupyterhub\", \"NONE\"],\n",
    "    range=[\"#fdbaba\", \"#fdbaba\", \"#bac5fd\", \"#ffbb74\", \"green\"]\n",
    ")\n",
    "\n",
    "pltdata = data.groupby(['user', 'association', 'kind'])['count'].sum().reset_index()\n",
    "pltcommits = pltdata.query('kind == \"commits\"')\n",
    "pltcomments = pltdata.query('kind == \"comments\"')"
   ]
  },
  {
   "cell_type": "code",
   "execution_count": 9,
   "metadata": {
    "jupyter": {
     "source_hidden": true
    },
    "papermill": {
     "duration": 0.094503,
     "end_time": "2019-03-22T17:30:00.342876",
     "exception": false,
     "start_time": "2019-03-22T17:30:00.248373",
     "status": "completed"
    },
    "tags": []
   },
   "outputs": [
    {
     "data": {
      "application/vnd.vegalite.v2+json": {
       "$schema": "https://vega.github.io/schema/vega-lite/v2.6.0.json",
       "config": {
        "view": {
         "height": 300,
         "width": 400
        }
       },
       "datasets": {
        "data-900cac712e7ed6d66baeddd6c1248334": [
         {
          "association": "NONE",
          "count": 1,
          "kind": "comments",
          "user": "00Kai0"
         },
         {
          "association": "NONE",
          "count": 1,
          "kind": "comments",
          "user": "AbhinavanT"
         },
         {
          "association": "NONE",
          "count": 1,
          "kind": "comments",
          "user": "Abhinish13"
         },
         {
          "association": "NONE",
          "count": 1,
          "kind": "comments",
          "user": "Alessandro-QDT"
         },
         {
          "association": "NONE",
          "count": 6,
          "kind": "comments",
          "user": "Athanasiamo"
         },
         {
          "association": "NONE",
          "count": 2,
          "kind": "comments",
          "user": "Blackrobe"
         },
         {
          "association": "NONE",
          "count": 1,
          "kind": "comments",
          "user": "CagtayFabry"
         },
         {
          "association": "NONE",
          "count": 13,
          "kind": "comments",
          "user": "Carreau"
         },
         {
          "association": "NONE",
          "count": 1,
          "kind": "comments",
          "user": "DeoLeung"
         },
         {
          "association": "NONE",
          "count": 1,
          "kind": "comments",
          "user": "FCtj"
         },
         {
          "association": "NONE",
          "count": 5,
          "kind": "comments",
          "user": "GeorgianaElena"
         },
         {
          "association": "NONE",
          "count": 1,
          "kind": "comments",
          "user": "HoudayerPierre"
         },
         {
          "association": "NONE",
          "count": 1,
          "kind": "comments",
          "user": "JaobsenYc"
         },
         {
          "association": "NONE",
          "count": 1,
          "kind": "comments",
          "user": "KeitelDOG"
         },
         {
          "association": "NONE",
          "count": 3,
          "kind": "comments",
          "user": "KirstieJane"
         },
         {
          "association": "NONE",
          "count": 1,
          "kind": "comments",
          "user": "KristofferC"
         },
         {
          "association": "NONE",
          "count": 2,
          "kind": "comments",
          "user": "LucianaMarques"
         },
         {
          "association": "NONE",
          "count": 15,
          "kind": "comments",
          "user": "NHDaly"
         },
         {
          "association": "NONE",
          "count": 1,
          "kind": "comments",
          "user": "OliverEvans96"
         },
         {
          "association": "NONE",
          "count": 3,
          "kind": "comments",
          "user": "PaluchowskiMatthew"
         },
         {
          "association": "NONE",
          "count": 2,
          "kind": "comments",
          "user": "RajeshB61"
         },
         {
          "association": "NONE",
          "count": 1,
          "kind": "comments",
          "user": "Smithx10"
         },
         {
          "association": "NONE",
          "count": 3,
          "kind": "comments",
          "user": "SylvainCorlay"
         },
         {
          "association": "blue",
          "count": 18,
          "kind": "comments",
          "user": "Zsailer"
         },
         {
          "association": "NONE",
          "count": 3,
          "kind": "comments",
          "user": "abdidarmawan007"
         },
         {
          "association": "NONE",
          "count": 33,
          "kind": "comments",
          "user": "ablekh"
         },
         {
          "association": "NONE",
          "count": 3,
          "kind": "comments",
          "user": "ageorgou"
         },
         {
          "association": "NONE",
          "count": 8,
          "kind": "comments",
          "user": "agitter"
         },
         {
          "association": "NONE",
          "count": 1,
          "kind": "comments",
          "user": "akhmerov"
         },
         {
          "association": "NONE",
          "count": 1,
          "kind": "comments",
          "user": "alexespencer"
         },
         {
          "association": "NONE",
          "count": 4,
          "kind": "comments",
          "user": "alexmorley"
         },
         {
          "association": "NONE",
          "count": 1,
          "kind": "comments",
          "user": "amit1rrr"
         },
         {
          "association": "NONE",
          "count": 1,
          "kind": "comments",
          "user": "andrewresearch"
         },
         {
          "association": "NONE",
          "count": 1,
          "kind": "comments",
          "user": "asinghvi17"
         },
         {
          "association": "red",
          "count": 183,
          "kind": "comments",
          "user": "betatim"
         },
         {
          "association": "NONE",
          "count": 8,
          "kind": "comments",
          "user": "bitnik"
         },
         {
          "association": "NONE",
          "count": 1,
          "kind": "comments",
          "user": "bmarthi248"
         },
         {
          "association": "NONE",
          "count": 1,
          "kind": "comments",
          "user": "bobbychopra"
         },
         {
          "association": "NONE",
          "count": 1,
          "kind": "comments",
          "user": "captainsafia"
         },
         {
          "association": "NONE",
          "count": 1,
          "kind": "comments",
          "user": "cb1986ster"
         },
         {
          "association": "NONE",
          "count": 1,
          "kind": "comments",
          "user": "ch-liuzhide"
         },
         {
          "association": "red",
          "count": 65,
          "kind": "comments",
          "user": "choldgraf"
         },
         {
          "association": "NONE",
          "count": 5,
          "kind": "comments",
          "user": "clkao"
         },
         {
          "association": "blue",
          "count": 78,
          "kind": "comments",
          "user": "consideRatio"
         },
         {
          "association": "NONE",
          "count": 3,
          "kind": "comments",
          "user": "craig-willis"
         },
         {
          "association": "NONE",
          "count": 1,
          "kind": "comments",
          "user": "ctb"
         },
         {
          "association": "NONE",
          "count": 1,
          "kind": "comments",
          "user": "daldridge-cs"
         },
         {
          "association": "NONE",
          "count": 43,
          "kind": "comments",
          "user": "davidanthoff"
         },
         {
          "association": "NONE",
          "count": 1,
          "kind": "comments",
          "user": "dhimmel"
         },
         {
          "association": "NONE",
          "count": 2,
          "kind": "comments",
          "user": "dirkcgrunwald"
         },
         {
          "association": "NONE",
          "count": 2,
          "kind": "comments",
          "user": "divatemangesh"
         },
         {
          "association": "NONE",
          "count": 3,
          "kind": "comments",
          "user": "drj11"
         },
         {
          "association": "NONE",
          "count": 1,
          "kind": "comments",
          "user": "dtaniwaki"
         },
         {
          "association": "NONE",
          "count": 1,
          "kind": "comments",
          "user": "ebauch"
         },
         {
          "association": "NONE",
          "count": 4,
          "kind": "comments",
          "user": "ellisonbg"
         },
         {
          "association": "NONE",
          "count": 4,
          "kind": "comments",
          "user": "emigre459"
         },
         {
          "association": "NONE",
          "count": 1,
          "kind": "comments",
          "user": "emirot"
         },
         {
          "association": "NONE",
          "count": 1,
          "kind": "comments",
          "user": "engyasin"
         },
         {
          "association": "NONE",
          "count": 1,
          "kind": "comments",
          "user": "enricotagliavini"
         },
         {
          "association": "NONE",
          "count": 1,
          "kind": "comments",
          "user": "fperez"
         },
         {
          "association": "NONE",
          "count": 1,
          "kind": "comments",
          "user": "francois-travais"
         },
         {
          "association": "NONE",
          "count": 5,
          "kind": "comments",
          "user": "frouzbeh"
         },
         {
          "association": "NONE",
          "count": 2,
          "kind": "comments",
          "user": "garej"
         },
         {
          "association": "NONE",
          "count": 1,
          "kind": "comments",
          "user": "gerroon"
         },
         {
          "association": "NONE",
          "count": 1,
          "kind": "comments",
          "user": "getitzack"
         },
         {
          "association": "NONE",
          "count": 1,
          "kind": "comments",
          "user": "gpvidal"
         },
         {
          "association": "NONE",
          "count": 1,
          "kind": "comments",
          "user": "hansen-m"
         },
         {
          "association": "NONE",
          "count": 1,
          "kind": "comments",
          "user": "haraldschilly"
         },
         {
          "association": "NONE",
          "count": 2,
          "kind": "comments",
          "user": "hickst"
         },
         {
          "association": "NONE",
          "count": 1,
          "kind": "comments",
          "user": "hnykda"
         },
         {
          "association": "NONE",
          "count": 2,
          "kind": "comments",
          "user": "huseinzol05"
         },
         {
          "association": "NONE",
          "count": 2,
          "kind": "comments",
          "user": "ian-r-rose"
         },
         {
          "association": "NONE",
          "count": 1,
          "kind": "comments",
          "user": "ianalis"
         },
         {
          "association": "NONE",
          "count": 1,
          "kind": "comments",
          "user": "jagwar"
         },
         {
          "association": "NONE",
          "count": 1,
          "kind": "comments",
          "user": "jakirkham"
         },
         {
          "association": "NONE",
          "count": 4,
          "kind": "comments",
          "user": "jason2249"
         },
         {
          "association": "NONE",
          "count": 1,
          "kind": "comments",
          "user": "jcunhafonte"
         },
         {
          "association": "NONE",
          "count": 2,
          "kind": "comments",
          "user": "jhamman"
         },
         {
          "association": "NONE",
          "count": 1,
          "kind": "comments",
          "user": "jml6m"
         },
         {
          "association": "NONE",
          "count": 1,
          "kind": "comments",
          "user": "johnmharris"
         },
         {
          "association": "NONE",
          "count": 4,
          "kind": "comments",
          "user": "joshbode"
         },
         {
          "association": "NONE",
          "count": 2,
          "kind": "comments",
          "user": "joshy"
         },
         {
          "association": "NONE",
          "count": 4,
          "kind": "comments",
          "user": "jtpio"
         },
         {
          "association": "NONE",
          "count": 1,
          "kind": "comments",
          "user": "ker2x"
         },
         {
          "association": "NONE",
          "count": 1,
          "kind": "comments",
          "user": "kfox1111"
         },
         {
          "association": "NONE",
          "count": 1,
          "kind": "comments",
          "user": "kkmann"
         },
         {
          "association": "NONE",
          "count": 1,
          "kind": "comments",
          "user": "knkski"
         },
         {
          "association": "NONE",
          "count": 2,
          "kind": "comments",
          "user": "kpeeters"
         },
         {
          "association": "NONE",
          "count": 2,
          "kind": "comments",
          "user": "lachlancampbell"
         },
         {
          "association": "NONE",
          "count": 23,
          "kind": "comments",
          "user": "leportella"
         },
         {
          "association": "NONE",
          "count": 1,
          "kind": "comments",
          "user": "lesteve"
         },
         {
          "association": "blue",
          "count": 7,
          "kind": "comments",
          "user": "lheagy"
         },
         {
          "association": "NONE",
          "count": 11,
          "kind": "comments",
          "user": "manics"
         },
         {
          "association": "NONE",
          "count": 3,
          "kind": "comments",
          "user": "manycoding"
         },
         {
          "association": "NONE",
          "count": 1,
          "kind": "comments",
          "user": "markdunning"
         },
         {
          "association": "NONE",
          "count": 2,
          "kind": "comments",
          "user": "mdivk"
         },
         {
          "association": "NONE",
          "count": 1,
          "kind": "comments",
          "user": "metrofun"
         },
         {
          "association": "NONE",
          "count": 2,
          "kind": "comments",
          "user": "mfhm"
         },
         {
          "association": "NONE",
          "count": 2,
          "kind": "comments",
          "user": "mgd722"
         },
         {
          "association": "NONE",
          "count": 3,
          "kind": "comments",
          "user": "mgnfcnt"
         },
         {
          "association": "lead",
          "count": 51,
          "kind": "comments",
          "user": "minrk"
         },
         {
          "association": "NONE",
          "count": 1,
          "kind": "comments",
          "user": "montao"
         },
         {
          "association": "NONE",
          "count": 1,
          "kind": "comments",
          "user": "mpetroff"
         },
         {
          "association": "NONE",
          "count": 1,
          "kind": "comments",
          "user": "mrocklin"
         },
         {
          "association": "NONE",
          "count": 1,
          "kind": "comments",
          "user": "nathansegers"
         },
         {
          "association": "NONE",
          "count": 2,
          "kind": "comments",
          "user": "noah7545"
         },
         {
          "association": "NONE",
          "count": 2,
          "kind": "comments",
          "user": "nuest"
         },
         {
          "association": "NONE",
          "count": 1,
          "kind": "comments",
          "user": "phoenom"
         },
         {
          "association": "NONE",
          "count": 1,
          "kind": "comments",
          "user": "pjmartel"
         },
         {
          "association": "NONE",
          "count": 1,
          "kind": "comments",
          "user": "pkumar8789"
         },
         {
          "association": "NONE",
          "count": 1,
          "kind": "comments",
          "user": "psychemedia"
         },
         {
          "association": "NONE",
          "count": 2,
          "kind": "comments",
          "user": "rabernat"
         },
         {
          "association": "NONE",
          "count": 1,
          "kind": "comments",
          "user": "ransoor2"
         },
         {
          "association": "NONE",
          "count": 1,
          "kind": "comments",
          "user": "rcthomas"
         },
         {
          "association": "NONE",
          "count": 3,
          "kind": "comments",
          "user": "rgaiacs"
         },
         {
          "association": "NONE",
          "count": 3,
          "kind": "comments",
          "user": "rkdarst"
         },
         {
          "association": "NONE",
          "count": 1,
          "kind": "comments",
          "user": "robnagler"
         },
         {
          "association": "NONE",
          "count": 1,
          "kind": "comments",
          "user": "ruhidagdelen"
         },
         {
          "association": "NONE",
          "count": 4,
          "kind": "comments",
          "user": "ryanlovett"
         },
         {
          "association": "NONE",
          "count": 1,
          "kind": "comments",
          "user": "sanjaydatasciencedojo"
         },
         {
          "association": "NONE",
          "count": 1,
          "kind": "comments",
          "user": "sciffer"
         },
         {
          "association": "NONE",
          "count": 2,
          "kind": "comments",
          "user": "sebasguts"
         },
         {
          "association": "NONE",
          "count": 5,
          "kind": "comments",
          "user": "serlina"
         },
         {
          "association": "NONE",
          "count": 6,
          "kind": "comments",
          "user": "sgibson91"
         },
         {
          "association": "NONE",
          "count": 4,
          "kind": "comments",
          "user": "shibbas"
         },
         {
          "association": "NONE",
          "count": 1,
          "kind": "comments",
          "user": "story645"
         },
         {
          "association": "NONE",
          "count": 1,
          "kind": "comments",
          "user": "szelenka"
         },
         {
          "association": "NONE",
          "count": 1,
          "kind": "comments",
          "user": "tantra35"
         },
         {
          "association": "NONE",
          "count": 3,
          "kind": "comments",
          "user": "tathagata"
         },
         {
          "association": "NONE",
          "count": 1,
          "kind": "comments",
          "user": "thongnnguyen"
         },
         {
          "association": "NONE",
          "count": 2,
          "kind": "comments",
          "user": "trallard"
         },
         {
          "association": "NONE",
          "count": 1,
          "kind": "comments",
          "user": "tyrsius"
         },
         {
          "association": "NONE",
          "count": 1,
          "kind": "comments",
          "user": "user919lx"
         },
         {
          "association": "NONE",
          "count": 3,
          "kind": "comments",
          "user": "vilhelmen"
         },
         {
          "association": "NONE",
          "count": 1,
          "kind": "comments",
          "user": "vnijs"
         },
         {
          "association": "NONE",
          "count": 1,
          "kind": "comments",
          "user": "weisong82"
         },
         {
          "association": "NONE",
          "count": 2,
          "kind": "comments",
          "user": "wierzba3"
         },
         {
          "association": "NONE",
          "count": 1,
          "kind": "comments",
          "user": "williamfgc"
         },
         {
          "association": "red",
          "count": 23,
          "kind": "comments",
          "user": "willingc"
         },
         {
          "association": "NONE",
          "count": 5,
          "kind": "comments",
          "user": "willirath"
         },
         {
          "association": "red",
          "count": 35,
          "kind": "comments",
          "user": "yuvipanda"
         },
         {
          "association": "NONE",
          "count": 2,
          "kind": "comments",
          "user": "yuyueugene84"
         }
        ],
        "data-ff583dd09e764692a6c2556ccab89766": [
         {
          "association": "NONE",
          "count": 2,
          "kind": "commits",
          "user": "Athanasiamo"
         },
         {
          "association": "NONE",
          "count": 5,
          "kind": "commits",
          "user": "Carreau"
         },
         {
          "association": "NONE",
          "count": 7,
          "kind": "commits",
          "user": "GeorgianaElena"
         },
         {
          "association": "NONE",
          "count": 1,
          "kind": "commits",
          "user": "JohnPaton"
         },
         {
          "association": "NONE",
          "count": 4,
          "kind": "commits",
          "user": "NHDaly"
         },
         {
          "association": "blue",
          "count": 3,
          "kind": "commits",
          "user": "Zsailer"
         },
         {
          "association": "NONE",
          "count": 2,
          "kind": "commits",
          "user": "agitter"
         },
         {
          "association": "red",
          "count": 57,
          "kind": "commits",
          "user": "betatim"
         },
         {
          "association": "NONE",
          "count": 2,
          "kind": "commits",
          "user": "captainsafia"
         },
         {
          "association": "red",
          "count": 8,
          "kind": "commits",
          "user": "choldgraf"
         },
         {
          "association": "blue",
          "count": 10,
          "kind": "commits",
          "user": "consideRatio"
         },
         {
          "association": "NONE",
          "count": 52,
          "kind": "commits",
          "user": "davidanthoff"
         },
         {
          "association": "NONE",
          "count": 1,
          "kind": "commits",
          "user": "drj11"
         },
         {
          "association": "NONE",
          "count": 1,
          "kind": "commits",
          "user": "fredrikekre"
         },
         {
          "association": "NONE",
          "count": 2,
          "kind": "commits",
          "user": "jakirkham"
         },
         {
          "association": "NONE",
          "count": 1,
          "kind": "commits",
          "user": "javabrett"
         },
         {
          "association": "NONE",
          "count": 1,
          "kind": "commits",
          "user": "joshbode"
         },
         {
          "association": "NONE",
          "count": 2,
          "kind": "commits",
          "user": "jtpio"
         },
         {
          "association": "NONE",
          "count": 16,
          "kind": "commits",
          "user": "leportella"
         },
         {
          "association": "NONE",
          "count": 4,
          "kind": "commits",
          "user": "manycoding"
         },
         {
          "association": "lead",
          "count": 80,
          "kind": "commits",
          "user": "minrk"
         },
         {
          "association": "NONE",
          "count": 2,
          "kind": "commits",
          "user": "mpetroff"
         },
         {
          "association": "NONE",
          "count": 1,
          "kind": "commits",
          "user": "rcthomas"
         },
         {
          "association": "NONE",
          "count": 1,
          "kind": "commits",
          "user": "renovate-bot"
         },
         {
          "association": "NONE",
          "count": 1,
          "kind": "commits",
          "user": "rkdarst"
         },
         {
          "association": "NONE",
          "count": 2,
          "kind": "commits",
          "user": "robnagler"
         },
         {
          "association": "NONE",
          "count": 3,
          "kind": "commits",
          "user": "ryanlovett"
         },
         {
          "association": "NONE",
          "count": 9,
          "kind": "commits",
          "user": "sgibson91"
         },
         {
          "association": "NONE",
          "count": 1,
          "kind": "commits",
          "user": "simonflood"
         },
         {
          "association": "NONE",
          "count": 1,
          "kind": "commits",
          "user": "story645"
         },
         {
          "association": "red",
          "count": 16,
          "kind": "commits",
          "user": "willingc"
         },
         {
          "association": "NONE",
          "count": 2,
          "kind": "commits",
          "user": "willirath"
         },
         {
          "association": "red",
          "count": 10,
          "kind": "commits",
          "user": "yuvipanda"
         }
        ]
       },
       "hconcat": [
        {
         "data": {
          "name": "data-900cac712e7ed6d66baeddd6c1248334"
         },
         "encoding": {
          "color": {
           "field": "association",
           "scale": {
            "domain": [
             "red",
             "lead",
             "blue",
             "jupyterhub",
             "NONE"
            ],
            "range": [
             "#fdbaba",
             "#fdbaba",
             "#bac5fd",
             "#ffbb74",
             "green"
            ]
           },
           "type": "nominal"
          },
          "x": {
           "field": "count",
           "type": "quantitative"
          },
          "y": {
           "field": "user",
           "type": "nominal"
          }
         },
         "mark": "bar",
         "title": "Comments"
        },
        {
         "data": {
          "name": "data-ff583dd09e764692a6c2556ccab89766"
         },
         "encoding": {
          "color": {
           "field": "association",
           "scale": {
            "domain": [
             "red",
             "lead",
             "blue",
             "jupyterhub",
             "NONE"
            ],
            "range": [
             "#fdbaba",
             "#fdbaba",
             "#bac5fd",
             "#ffbb74",
             "green"
            ]
           },
           "type": "nominal"
          },
          "x": {
           "field": "count",
           "type": "quantitative"
          },
          "y": {
           "field": "user",
           "type": "nominal"
          }
         },
         "mark": "bar",
         "title": "Commits"
        }
       ]
      },
      "image/png": "[encoded data removed]",
      "text/plain": [
       "<VegaLite 2 object>\n",
       "\n",
       "If you see this message, it means the renderer has not been properly enabled\n",
       "for the frontend that you are using. For more information, see\n",
       "https://altair-viz.github.io/user_guide/troubleshooting.html\n"
      ]
     },
     "execution_count": 9,
     "metadata": {},
     "output_type": "execute_result"
    }
   ],
   "source": [
    "commits = alt.Chart(pltcommits, title=\"Commits\").mark_bar().encode(\n",
    "    x='count',\n",
    "    y='user',\n",
    "    color=alt.Color('association', scale=color_scale)\n",
    ")\n",
    "\n",
    "comments = alt.Chart(pltcomments, title=\"Comments\").mark_bar().encode(\n",
    "    x='count',\n",
    "    y='user',\n",
    "    color=alt.Color('association', scale=color_scale)\n",
    ")\n",
    "\n",
    "comments | commits"
   ]
  },
  {
   "cell_type": "markdown",
   "metadata": {
    "papermill": {
     "duration": 0.037936,
     "end_time": "2019-03-22T17:30:00.413684",
     "exception": false,
     "start_time": "2019-03-22T17:30:00.375748",
     "status": "completed"
    },
    "tags": []
   },
   "source": [
    "## Percentage commits and comments by user type"
   ]
  },
  {
   "cell_type": "code",
   "execution_count": 10,
   "metadata": {
    "jupyter": {
     "source_hidden": true
    },
    "papermill": {
     "duration": 0.082759,
     "end_time": "2019-03-22T17:30:00.577144",
     "exception": false,
     "start_time": "2019-03-22T17:30:00.494385",
     "status": "completed"
    },
    "tags": []
   },
   "outputs": [],
   "source": [
    "def to_percentage(data):\n",
    "    data = data / data.sum()\n",
    "    data.name = 'percent'\n",
    "    return data * 100\n",
    "\n",
    "totalcommits = to_percentage(pltcommits.groupby('association')['count'].sum()).reset_index()\n",
    "totalcommits['kind'] = \"commits\"\n",
    "totalcomments = to_percentage(pltcomments.groupby('association')['count'].sum()).reset_index()\n",
    "totalcomments['kind'] = \"comments\"\n",
    "totalboth = pd.concat([totalcomments, totalcommits])"
   ]
  },
  {
   "cell_type": "code",
   "execution_count": 11,
   "metadata": {
    "jupyter": {
     "source_hidden": true
    },
    "papermill": {
     "duration": 0.082293,
     "end_time": "2019-03-22T17:30:00.793175",
     "exception": false,
     "start_time": "2019-03-22T17:30:00.710882",
     "status": "completed"
    },
    "tags": []
   },
   "outputs": [
    {
     "data": {
      "application/vnd.vegalite.v2+json": {
       "$schema": "https://vega.github.io/schema/vega-lite/v2.6.0.json",
       "config": {
        "view": {
         "height": 300,
         "width": 400
        }
       },
       "data": {
        "name": "data-1b887192dea9f559aaddb8e74d3a0c25"
       },
       "datasets": {
        "data-1b887192dea9f559aaddb8e74d3a0c25": [
         {
          "association": "NONE",
          "kind": "comments",
          "percent": 45.43297746144721
         },
         {
          "association": "blue",
          "kind": "comments",
          "percent": 12.218268090154211
         },
         {
          "association": "lead",
          "kind": "comments",
          "percent": 6.049822064056939
         },
         {
          "association": "red",
          "kind": "comments",
          "percent": 36.29893238434164
         },
         {
          "association": "NONE",
          "kind": "commits",
          "percent": 40.64516129032258
         },
         {
          "association": "blue",
          "kind": "commits",
          "percent": 4.193548387096775
         },
         {
          "association": "lead",
          "kind": "commits",
          "percent": 25.806451612903224
         },
         {
          "association": "red",
          "kind": "commits",
          "percent": 29.354838709677416
         }
        ]
       },
       "encoding": {
        "color": {
         "field": "association",
         "scale": {
          "domain": [
           "red",
           "lead",
           "blue",
           "jupyterhub",
           "NONE"
          ],
          "range": [
           "#fdbaba",
           "#fdbaba",
           "#bac5fd",
           "#ffbb74",
           "green"
          ]
         },
         "type": "nominal"
        },
        "x": {
         "field": "percent",
         "type": "quantitative"
        },
        "y": {
         "field": "kind",
         "type": "nominal"
        }
       },
       "mark": "bar"
      },
      "image/png": "[encoded data removed]",
      "text/plain": [
       "<VegaLite 2 object>\n",
       "\n",
       "If you see this message, it means the renderer has not been properly enabled\n",
       "for the frontend that you are using. For more information, see\n",
       "https://altair-viz.github.io/user_guide/troubleshooting.html\n"
      ]
     },
     "execution_count": 11,
     "metadata": {},
     "output_type": "execute_result"
    }
   ],
   "source": [
    "alt.Chart(totalboth).mark_bar().encode(\n",
    "    x='percent',\n",
    "    y='kind',\n",
    "    color=alt.Color('association', scale=color_scale)\n",
    ")"
   ]
  }
 ],
 "metadata": {
  "kernelspec": {
   "display_name": "Python 3",
   "language": "python",
   "name": "python3"
  },
  "language_info": {
   "codemirror_mode": {
    "name": "ipython",
    "version": 3
   },
   "file_extension": ".py",
   "mimetype": "text/x-python",
   "name": "python",
   "nbconvert_exporter": "python",
   "pygments_lexer": "ipython3",
   "version": "3.6.5"
  },
  "papermill": {
   "duration": 6.631392,
   "end_time": "2019-03-22T17:30:01.539884",
   "environment_variables": {},
   "exception": null,
   "input_path": "./templates/summary.ipynb",
   "output_path": "../reports/2019-02-20/summary.ipynb",
   "parameters": {
    "date": "2019-02-20"
   },
   "start_time": "2019-03-22T17:29:54.908492",
   "version": "0.18.0"
  }
 },
 "nbformat": 4,
 "nbformat_minor": 2
}
