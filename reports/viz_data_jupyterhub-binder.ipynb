{
 "cells": [
  {
   "cell_type": "markdown",
   "metadata": {
    "papermill": {
     "duration": 0.03817,
     "end_time": "2019-02-14T22:41:22.053190",
     "exception": false,
     "start_time": "2019-02-14T22:41:22.015020",
     "status": "completed"
    },
    "tags": []
   },
   "source": [
    "## Parameters"
   ]
  },
  {
   "cell_type": "code",
   "execution_count": 1,
   "metadata": {
    "papermill": {
     "duration": 0.042388,
     "end_time": "2019-02-14T22:41:22.118674",
     "exception": false,
     "start_time": "2019-02-14T22:41:22.076286",
     "status": "completed"
    },
    "tags": [
     "parameters"
    ]
   },
   "outputs": [],
   "source": [
    "org = 'jupyterhub'\n",
    "repo = 'jupyterhub'\n",
    "plot_N = 25  # Number of lines to add"
   ]
  },
  {
   "cell_type": "code",
   "execution_count": 2,
   "metadata": {
    "papermill": {
     "duration": 0.028954,
     "end_time": "2019-02-14T22:41:22.181162",
     "exception": false,
     "start_time": "2019-02-14T22:41:22.152208",
     "status": "completed"
    },
    "tags": [
     "injected-parameters"
    ]
   },
   "outputs": [],
   "source": [
    "# Parameters\n",
    "org = \"jupyterhub\"\n",
    "repo = \"binder\"\n",
    "plot_N = 20\n"
   ]
  },
  {
   "cell_type": "markdown",
   "metadata": {
    "papermill": {
     "duration": 0.025806,
     "end_time": "2019-02-14T22:41:22.232141",
     "exception": false,
     "start_time": "2019-02-14T22:41:22.206335",
     "status": "completed"
    },
    "tags": []
   },
   "source": [
    "## Functions"
   ]
  },
  {
   "cell_type": "code",
   "execution_count": 3,
   "metadata": {
    "papermill": {
     "duration": 0.032937,
     "end_time": "2019-02-14T22:41:22.299568",
     "exception": false,
     "start_time": "2019-02-14T22:41:22.266631",
     "status": "completed"
    },
    "tags": []
   },
   "outputs": [],
   "source": [
    "def selectable_line_plot(data, x, y, color, width=1000):\n",
    "\n",
    "    select = alt.selection(type='single', on='mouseover',\n",
    "                           fields=[color], nearest=True)\n",
    "\n",
    "    base = alt.Chart(data=data, width=width).encode(\n",
    "        x=alt.X(x, scale=alt.Scale(domain=[\"2016-01-01\", \"2019-02-01\"])),\n",
    "        y=y,\n",
    "        color=color,\n",
    "        tooltip=color,\n",
    "    )\n",
    "\n",
    "    points = base.mark_circle(clip=True).encode(\n",
    "        opacity=alt.value(0)\n",
    "    ).add_selection(select)\n",
    "\n",
    "\n",
    "    lines = base.mark_line(clip=True).encode(\n",
    "        size=alt.condition(~select, alt.value(1), alt.value(4)),\n",
    "        color=alt.condition(select, color, alt.value('lightgray'))\n",
    "    )\n",
    "\n",
    "    return points + lines"
   ]
  },
  {
   "cell_type": "markdown",
   "metadata": {
    "papermill": {
     "duration": 0.027402,
     "end_time": "2019-02-14T22:41:22.352359",
     "exception": false,
     "start_time": "2019-02-14T22:41:22.324957",
     "status": "completed"
    },
    "tags": []
   },
   "source": [
    "# Load data"
   ]
  },
  {
   "cell_type": "code",
   "execution_count": 4,
   "metadata": {
    "papermill": {
     "duration": 1.297445,
     "end_time": "2019-02-14T22:41:23.675331",
     "exception": false,
     "start_time": "2019-02-14T22:41:22.377886",
     "status": "completed"
    },
    "tags": []
   },
   "outputs": [],
   "source": [
    "import pandas as pd\n",
    "import seaborn as sns\n",
    "import altair as alt\n",
    "import numpy as np"
   ]
  },
  {
   "cell_type": "code",
   "execution_count": 5,
   "metadata": {
    "papermill": {
     "duration": 0.133154,
     "end_time": "2019-02-14T22:41:23.839050",
     "exception": false,
     "start_time": "2019-02-14T22:41:23.705896",
     "status": "completed"
    },
    "tags": []
   },
   "outputs": [],
   "source": [
    "# Read in data\n",
    "daily = pd.read_csv('../data/daily.csv', index_col=0)\n",
    "\n",
    "# Convert indices to date\n",
    "daily['date'] = pd.to_datetime(daily['date'])\n",
    "daily = daily.query('org == @org and repo == @repo').drop(['org', 'repo'], axis=1)\n",
    "daily = daily.replace(np.nan, 0)"
   ]
  },
  {
   "cell_type": "markdown",
   "metadata": {
    "papermill": {
     "duration": 0.04684,
     "end_time": "2019-02-14T22:41:23.914806",
     "exception": false,
     "start_time": "2019-02-14T22:41:23.867966",
     "status": "completed"
    },
    "tags": []
   },
   "source": [
    "# Features"
   ]
  },
  {
   "cell_type": "code",
   "execution_count": 6,
   "metadata": {
    "papermill": {
     "duration": 0.194449,
     "end_time": "2019-02-14T22:41:24.138995",
     "exception": false,
     "start_time": "2019-02-14T22:41:23.944546",
     "status": "completed"
    },
    "tags": []
   },
   "outputs": [],
   "source": [
    "weekly = daily.groupby('user').resample('W', on='date').sum().reset_index()\n",
    "weekly = weekly.query('commits != 0 or comments != 0')"
   ]
  },
  {
   "cell_type": "code",
   "execution_count": 7,
   "metadata": {
    "papermill": {
     "duration": 0.119596,
     "end_time": "2019-02-14T22:41:24.290865",
     "exception": false,
     "start_time": "2019-02-14T22:41:24.171269",
     "status": "completed"
    },
    "tags": []
   },
   "outputs": [],
   "source": [
    "# Rolling mean\n",
    "weekly = weekly.groupby(['user', 'date']).sum().reset_index().groupby('user').\\\n",
    "    rolling(2, on='date')['comments'].\\\n",
    "    mean().dropna().reset_index()"
   ]
  },
  {
   "cell_type": "code",
   "execution_count": 8,
   "metadata": {
    "papermill": {
     "duration": 0.058258,
     "end_time": "2019-02-14T22:41:24.394115",
     "exception": false,
     "start_time": "2019-02-14T22:41:24.335857",
     "status": "completed"
    },
    "tags": []
   },
   "outputs": [],
   "source": [
    "# Top N commentors over time\n",
    "top_N = weekly.groupby('user').sum()['comments'].sort_values(ascending=False)\n",
    "top_N = top_N.index[:plot_N]"
   ]
  },
  {
   "cell_type": "markdown",
   "metadata": {
    "papermill": {
     "duration": 0.084745,
     "end_time": "2019-02-14T22:41:24.506846",
     "exception": false,
     "start_time": "2019-02-14T22:41:24.422101",
     "status": "completed"
    },
    "tags": []
   },
   "source": [
    "# Plotting"
   ]
  },
  {
   "cell_type": "markdown",
   "metadata": {
    "papermill": {
     "duration": 0.040296,
     "end_time": "2019-02-14T22:41:24.576494",
     "exception": false,
     "start_time": "2019-02-14T22:41:24.536198",
     "status": "completed"
    },
    "tags": []
   },
   "source": [
    "## Weekly unique contributors"
   ]
  },
  {
   "cell_type": "code",
   "execution_count": 9,
   "metadata": {
    "papermill": {
     "duration": 0.110112,
     "end_time": "2019-02-14T22:41:24.759227",
     "exception": false,
     "start_time": "2019-02-14T22:41:24.649115",
     "status": "completed"
    },
    "tags": []
   },
   "outputs": [],
   "source": [
    "unique = weekly[['date', 'user']].copy()\n",
    "unique['user'] = unique['user'].map(lambda a: [a])\n",
    "unique = unique.groupby('date').sum()"
   ]
  },
  {
   "cell_type": "code",
   "execution_count": 10,
   "metadata": {
    "papermill": {
     "duration": 0.134903,
     "end_time": "2019-02-14T22:41:24.948950",
     "exception": false,
     "start_time": "2019-02-14T22:41:24.814047",
     "status": "completed"
    },
    "tags": []
   },
   "outputs": [],
   "source": [
    "all_users = set()\n",
    "nunique = {}\n",
    "for idate, ivals in unique.iterrows():\n",
    "    n_unique_current = len(all_users)\n",
    "    \n",
    "    all_users = all_users.union(ivals[0])\n",
    "    n_unique_new = len(all_users) - n_unique_current\n",
    "    nunique[idate] = n_unique_new\n",
    "unique['new_contributors'] = pd.Series(nunique).values"
   ]
  },
  {
   "cell_type": "code",
   "execution_count": 11,
   "metadata": {
    "papermill": {
     "duration": 0.061506,
     "end_time": "2019-02-14T22:41:25.055366",
     "exception": false,
     "start_time": "2019-02-14T22:41:24.993860",
     "status": "completed"
    },
    "tags": []
   },
   "outputs": [],
   "source": [
    "unique['cumulative'] = unique['new_contributors'].cumsum()"
   ]
  },
  {
   "cell_type": "code",
   "execution_count": 12,
   "metadata": {
    "papermill": {
     "duration": 0.107495,
     "end_time": "2019-02-14T22:41:25.202929",
     "exception": false,
     "start_time": "2019-02-14T22:41:25.095434",
     "status": "completed"
    },
    "tags": []
   },
   "outputs": [
    {
     "data": {
      "application/vnd.vegalite.v2+json": {
       "$schema": "https://vega.github.io/schema/vega-lite/v2.6.0.json",
       "config": {
        "view": {
         "height": 300,
         "width": 400
        }
       },
       "data": {
        "name": "data-477f0ebf8f445413007425b855b92001"
       },
       "datasets": {
        "data-477f0ebf8f445413007425b855b92001": [
         {
          "cumulative": 1,
          "date": "2017-08-27T00:00:00",
          "new_contributors": 1,
          "user": [
           "choldgraf"
          ]
         },
         {
          "cumulative": 1,
          "date": "2017-09-10T00:00:00",
          "new_contributors": 0,
          "user": [
           "choldgraf"
          ]
         },
         {
          "cumulative": 1,
          "date": "2017-09-17T00:00:00",
          "new_contributors": 0,
          "user": [
           "choldgraf"
          ]
         },
         {
          "cumulative": 3,
          "date": "2017-09-24T00:00:00",
          "new_contributors": 2,
          "user": [
           "choldgraf",
           "minrk",
           "willingc"
          ]
         },
         {
          "cumulative": 4,
          "date": "2017-10-01T00:00:00",
          "new_contributors": 1,
          "user": [
           "minrk",
           "yuvipanda"
          ]
         },
         {
          "cumulative": 4,
          "date": "2017-10-08T00:00:00",
          "new_contributors": 0,
          "user": [
           "choldgraf",
           "willingc",
           "yuvipanda"
          ]
         },
         {
          "cumulative": 4,
          "date": "2017-10-15T00:00:00",
          "new_contributors": 0,
          "user": [
           "choldgraf",
           "minrk",
           "willingc",
           "yuvipanda"
          ]
         },
         {
          "cumulative": 4,
          "date": "2017-10-22T00:00:00",
          "new_contributors": 0,
          "user": [
           "yuvipanda"
          ]
         },
         {
          "cumulative": 5,
          "date": "2017-10-29T00:00:00",
          "new_contributors": 1,
          "user": [
           "Carreau",
           "choldgraf",
           "willingc",
           "yuvipanda"
          ]
         },
         {
          "cumulative": 6,
          "date": "2017-11-05T00:00:00",
          "new_contributors": 1,
          "user": [
           "ellisonbg"
          ]
         },
         {
          "cumulative": 7,
          "date": "2017-11-12T00:00:00",
          "new_contributors": 1,
          "user": [
           "betatim",
           "choldgraf"
          ]
         },
         {
          "cumulative": 7,
          "date": "2017-11-19T00:00:00",
          "new_contributors": 0,
          "user": [
           "Carreau",
           "betatim",
           "choldgraf"
          ]
         },
         {
          "cumulative": 8,
          "date": "2017-11-26T00:00:00",
          "new_contributors": 1,
          "user": [
           "Carreau",
           "betatim",
           "choldgraf",
           "ellisonbg",
           "takluyver",
           "willingc",
           "yuvipanda"
          ]
         },
         {
          "cumulative": 9,
          "date": "2017-12-03T00:00:00",
          "new_contributors": 1,
          "user": [
           "Carreau",
           "betatim",
           "choldgraf",
           "ellisonbg",
           "minrk",
           "npscience",
           "willingc",
           "yuvipanda"
          ]
         },
         {
          "cumulative": 11,
          "date": "2017-12-10T00:00:00",
          "new_contributors": 2,
          "user": [
           "Carreau",
           "betatim",
           "choldgraf",
           "ctb",
           "ellisonbg",
           "mpacer",
           "npscience",
           "takluyver",
           "willingc",
           "yuvipanda"
          ]
         },
         {
          "cumulative": 13,
          "date": "2017-12-17T00:00:00",
          "new_contributors": 2,
          "user": [
           "Carreau",
           "betatim",
           "choldgraf",
           "ellisonbg",
           "jzf2101",
           "mdeff",
           "minrk",
           "willingc"
          ]
         },
         {
          "cumulative": 14,
          "date": "2017-12-24T00:00:00",
          "new_contributors": 1,
          "user": [
           "betatim",
           "choldgraf",
           "minrk",
           "npscience",
           "psychemedia"
          ]
         },
         {
          "cumulative": 14,
          "date": "2017-12-31T00:00:00",
          "new_contributors": 0,
          "user": [
           "betatim",
           "choldgraf",
           "jzf2101"
          ]
         },
         {
          "cumulative": 14,
          "date": "2018-01-07T00:00:00",
          "new_contributors": 0,
          "user": [
           "Carreau",
           "choldgraf",
           "minrk"
          ]
         },
         {
          "cumulative": 14,
          "date": "2018-01-14T00:00:00",
          "new_contributors": 0,
          "user": [
           "betatim",
           "choldgraf"
          ]
         },
         {
          "cumulative": 14,
          "date": "2018-01-21T00:00:00",
          "new_contributors": 0,
          "user": [
           "betatim"
          ]
         },
         {
          "cumulative": 14,
          "date": "2018-01-28T00:00:00",
          "new_contributors": 0,
          "user": [
           "choldgraf",
           "yuvipanda"
          ]
         },
         {
          "cumulative": 14,
          "date": "2018-02-04T00:00:00",
          "new_contributors": 0,
          "user": [
           "choldgraf",
           "willingc"
          ]
         },
         {
          "cumulative": 14,
          "date": "2018-02-11T00:00:00",
          "new_contributors": 0,
          "user": [
           "betatim",
           "choldgraf",
           "minrk",
           "yuvipanda"
          ]
         },
         {
          "cumulative": 14,
          "date": "2018-02-18T00:00:00",
          "new_contributors": 0,
          "user": [
           "betatim",
           "choldgraf",
           "yuvipanda"
          ]
         },
         {
          "cumulative": 14,
          "date": "2018-02-25T00:00:00",
          "new_contributors": 0,
          "user": [
           "betatim",
           "choldgraf",
           "willingc"
          ]
         },
         {
          "cumulative": 14,
          "date": "2018-03-04T00:00:00",
          "new_contributors": 0,
          "user": [
           "betatim",
           "choldgraf",
           "minrk",
           "willingc"
          ]
         },
         {
          "cumulative": 14,
          "date": "2018-03-18T00:00:00",
          "new_contributors": 0,
          "user": [
           "betatim",
           "choldgraf",
           "willingc",
           "yuvipanda"
          ]
         },
         {
          "cumulative": 14,
          "date": "2018-03-25T00:00:00",
          "new_contributors": 0,
          "user": [
           "betatim",
           "choldgraf",
           "jzf2101",
           "willingc",
           "yuvipanda"
          ]
         },
         {
          "cumulative": 14,
          "date": "2018-04-01T00:00:00",
          "new_contributors": 0,
          "user": [
           "betatim",
           "choldgraf"
          ]
         },
         {
          "cumulative": 15,
          "date": "2018-04-08T00:00:00",
          "new_contributors": 1,
          "user": [
           "betatim",
           "vaibhavsagar",
           "yuvipanda"
          ]
         },
         {
          "cumulative": 15,
          "date": "2018-04-15T00:00:00",
          "new_contributors": 0,
          "user": [
           "betatim"
          ]
         },
         {
          "cumulative": 15,
          "date": "2018-04-22T00:00:00",
          "new_contributors": 0,
          "user": [
           "vaibhavsagar"
          ]
         },
         {
          "cumulative": 15,
          "date": "2018-04-29T00:00:00",
          "new_contributors": 0,
          "user": [
           "betatim",
           "choldgraf",
           "jzf2101",
           "vaibhavsagar",
           "willingc",
           "yuvipanda"
          ]
         },
         {
          "cumulative": 15,
          "date": "2018-05-06T00:00:00",
          "new_contributors": 0,
          "user": [
           "betatim",
           "choldgraf",
           "vaibhavsagar"
          ]
         },
         {
          "cumulative": 15,
          "date": "2018-05-13T00:00:00",
          "new_contributors": 0,
          "user": [
           "choldgraf"
          ]
         },
         {
          "cumulative": 15,
          "date": "2018-05-20T00:00:00",
          "new_contributors": 0,
          "user": [
           "betatim",
           "choldgraf"
          ]
         },
         {
          "cumulative": 15,
          "date": "2018-05-27T00:00:00",
          "new_contributors": 0,
          "user": [
           "minrk"
          ]
         },
         {
          "cumulative": 15,
          "date": "2018-06-03T00:00:00",
          "new_contributors": 0,
          "user": [
           "betatim",
           "choldgraf",
           "jzf2101",
           "willingc"
          ]
         },
         {
          "cumulative": 15,
          "date": "2018-06-10T00:00:00",
          "new_contributors": 0,
          "user": [
           "betatim",
           "choldgraf"
          ]
         },
         {
          "cumulative": 15,
          "date": "2018-06-17T00:00:00",
          "new_contributors": 0,
          "user": [
           "betatim",
           "choldgraf",
           "minrk",
           "willingc"
          ]
         },
         {
          "cumulative": 15,
          "date": "2018-06-24T00:00:00",
          "new_contributors": 0,
          "user": [
           "betatim",
           "jzf2101"
          ]
         },
         {
          "cumulative": 15,
          "date": "2018-07-22T00:00:00",
          "new_contributors": 0,
          "user": [
           "betatim"
          ]
         },
         {
          "cumulative": 15,
          "date": "2018-07-29T00:00:00",
          "new_contributors": 0,
          "user": [
           "betatim"
          ]
         },
         {
          "cumulative": 15,
          "date": "2018-08-26T00:00:00",
          "new_contributors": 0,
          "user": [
           "betatim",
           "choldgraf"
          ]
         },
         {
          "cumulative": 15,
          "date": "2018-09-09T00:00:00",
          "new_contributors": 0,
          "user": [
           "betatim"
          ]
         },
         {
          "cumulative": 15,
          "date": "2018-09-23T00:00:00",
          "new_contributors": 0,
          "user": [
           "betatim",
           "choldgraf",
           "jzf2101"
          ]
         },
         {
          "cumulative": 15,
          "date": "2018-09-30T00:00:00",
          "new_contributors": 0,
          "user": [
           "betatim",
           "choldgraf",
           "jzf2101"
          ]
         },
         {
          "cumulative": 15,
          "date": "2018-10-07T00:00:00",
          "new_contributors": 0,
          "user": [
           "choldgraf",
           "jzf2101"
          ]
         },
         {
          "cumulative": 15,
          "date": "2018-10-14T00:00:00",
          "new_contributors": 0,
          "user": [
           "betatim",
           "choldgraf",
           "willingc"
          ]
         },
         {
          "cumulative": 15,
          "date": "2018-10-21T00:00:00",
          "new_contributors": 0,
          "user": [
           "betatim",
           "choldgraf",
           "jzf2101",
           "minrk"
          ]
         },
         {
          "cumulative": 15,
          "date": "2018-11-11T00:00:00",
          "new_contributors": 0,
          "user": [
           "betatim",
           "choldgraf"
          ]
         },
         {
          "cumulative": 15,
          "date": "2018-11-18T00:00:00",
          "new_contributors": 0,
          "user": [
           "betatim",
           "choldgraf"
          ]
         },
         {
          "cumulative": 15,
          "date": "2018-11-25T00:00:00",
          "new_contributors": 0,
          "user": [
           "betatim",
           "choldgraf"
          ]
         },
         {
          "cumulative": 15,
          "date": "2018-12-02T00:00:00",
          "new_contributors": 0,
          "user": [
           "betatim",
           "choldgraf"
          ]
         },
         {
          "cumulative": 15,
          "date": "2018-12-30T00:00:00",
          "new_contributors": 0,
          "user": [
           "betatim",
           "choldgraf",
           "yuvipanda"
          ]
         },
         {
          "cumulative": 15,
          "date": "2019-01-20T00:00:00",
          "new_contributors": 0,
          "user": [
           "betatim"
          ]
         },
         {
          "cumulative": 15,
          "date": "2019-02-03T00:00:00",
          "new_contributors": 0,
          "user": [
           "betatim",
           "choldgraf",
           "yuvipanda"
          ]
         }
        ]
       },
       "encoding": {
        "x": {
         "field": "date",
         "type": "temporal"
        },
        "y": {
         "field": "cumulative",
         "type": "quantitative"
        }
       },
       "mark": "line",
       "width": 500
      },
      "text/plain": [
       "<VegaLite 2 object>\n",
       "\n",
       "If you see this message, it means the renderer has not been properly enabled\n",
       "for the frontend that you are using. For more information, see\n",
       "https://altair-viz.github.io/user_guide/troubleshooting.html\n"
      ]
     },
     "execution_count": 12,
     "metadata": {},
     "output_type": "execute_result"
    }
   ],
   "source": [
    "line = alt.Chart(data=unique.reset_index(), width=500).mark_line().encode(x='date', y='cumulative')\n",
    "line"
   ]
  },
  {
   "cell_type": "markdown",
   "metadata": {
    "papermill": {
     "duration": 0.05129,
     "end_time": "2019-02-14T22:41:25.292824",
     "exception": false,
     "start_time": "2019-02-14T22:41:25.241534",
     "status": "completed"
    },
    "tags": []
   },
   "source": [
    "## Comment activity over time"
   ]
  },
  {
   "cell_type": "code",
   "execution_count": 13,
   "metadata": {
    "papermill": {
     "duration": 0.157792,
     "end_time": "2019-02-14T22:41:25.531514",
     "exception": false,
     "start_time": "2019-02-14T22:41:25.373722",
     "status": "completed"
    },
    "tags": []
   },
   "outputs": [],
   "source": [
    "# Select the users we'll plot\n",
    "user_data = weekly.groupby(['user', 'date']).sum().reset_index('user')\n",
    "total_users = user_data.groupby('user')['comments'].sum()\n",
    "plt_users = total_users.sort_values(ascending=False)[:plot_N].index\n",
    "user_data = user_data.query(\"user in @plt_users\")\n",
    "\n",
    "# Drop empty dates\n",
    "user_data = user_data[user_data.sum(1) != 0]"
   ]
  },
  {
   "cell_type": "code",
   "execution_count": 14,
   "metadata": {
    "papermill": {
     "duration": 0.19887,
     "end_time": "2019-02-14T22:41:25.800884",
     "exception": false,
     "start_time": "2019-02-14T22:41:25.602014",
     "status": "completed"
    },
    "tags": []
   },
   "outputs": [
    {
     "data": {
      "application/vnd.vegalite.v2+json": {
       "$schema": "https://vega.github.io/schema/vega-lite/v2.6.0.json",
       "config": {
        "view": {
         "height": 300,
         "width": 400
        }
       },
       "datasets": {
        "data-e49cea4bc39c91aeb42633cf397f0e27": [
         {
          "comments": 1.0,
          "date": "2017-10-29T00:00:00",
          "user": "Carreau"
         },
         {
          "comments": 1.5,
          "date": "2017-11-19T00:00:00",
          "user": "Carreau"
         },
         {
          "comments": 4.0,
          "date": "2017-11-26T00:00:00",
          "user": "Carreau"
         },
         {
          "comments": 9.0,
          "date": "2017-12-03T00:00:00",
          "user": "Carreau"
         },
         {
          "comments": 8.5,
          "date": "2017-12-10T00:00:00",
          "user": "Carreau"
         },
         {
          "comments": 3.0,
          "date": "2017-12-17T00:00:00",
          "user": "Carreau"
         },
         {
          "comments": 1.0,
          "date": "2018-01-07T00:00:00",
          "user": "Carreau"
         },
         {
          "comments": 1.5,
          "date": "2017-11-12T00:00:00",
          "user": "betatim"
         },
         {
          "comments": 1.5,
          "date": "2017-11-19T00:00:00",
          "user": "betatim"
         },
         {
          "comments": 2.5,
          "date": "2017-11-26T00:00:00",
          "user": "betatim"
         },
         {
          "comments": 9.0,
          "date": "2017-12-03T00:00:00",
          "user": "betatim"
         },
         {
          "comments": 8.5,
          "date": "2017-12-10T00:00:00",
          "user": "betatim"
         },
         {
          "comments": 2.5,
          "date": "2017-12-17T00:00:00",
          "user": "betatim"
         },
         {
          "comments": 2.0,
          "date": "2017-12-24T00:00:00",
          "user": "betatim"
         },
         {
          "comments": 1.5,
          "date": "2017-12-31T00:00:00",
          "user": "betatim"
         },
         {
          "comments": 1.5,
          "date": "2018-01-14T00:00:00",
          "user": "betatim"
         },
         {
          "comments": 1.5,
          "date": "2018-01-21T00:00:00",
          "user": "betatim"
         },
         {
          "comments": 2.5,
          "date": "2018-02-11T00:00:00",
          "user": "betatim"
         },
         {
          "comments": 2.5,
          "date": "2018-02-18T00:00:00",
          "user": "betatim"
         },
         {
          "comments": 2.0,
          "date": "2018-02-25T00:00:00",
          "user": "betatim"
         },
         {
          "comments": 2.0,
          "date": "2018-03-04T00:00:00",
          "user": "betatim"
         },
         {
          "comments": 3.0,
          "date": "2018-03-18T00:00:00",
          "user": "betatim"
         },
         {
          "comments": 4.0,
          "date": "2018-03-25T00:00:00",
          "user": "betatim"
         },
         {
          "comments": 3.0,
          "date": "2018-04-01T00:00:00",
          "user": "betatim"
         },
         {
          "comments": 2.0,
          "date": "2018-04-08T00:00:00",
          "user": "betatim"
         },
         {
          "comments": 1.0,
          "date": "2018-04-15T00:00:00",
          "user": "betatim"
         },
         {
          "comments": 1.0,
          "date": "2018-04-29T00:00:00",
          "user": "betatim"
         },
         {
          "comments": 1.5,
          "date": "2018-05-06T00:00:00",
          "user": "betatim"
         },
         {
          "comments": 1.5,
          "date": "2018-05-20T00:00:00",
          "user": "betatim"
         },
         {
          "comments": 2.5,
          "date": "2018-06-03T00:00:00",
          "user": "betatim"
         },
         {
          "comments": 3.0,
          "date": "2018-06-10T00:00:00",
          "user": "betatim"
         },
         {
          "comments": 2.0,
          "date": "2018-06-17T00:00:00",
          "user": "betatim"
         },
         {
          "comments": 2.0,
          "date": "2018-06-24T00:00:00",
          "user": "betatim"
         },
         {
          "comments": 1.5,
          "date": "2018-07-22T00:00:00",
          "user": "betatim"
         },
         {
          "comments": 1.0,
          "date": "2018-07-29T00:00:00",
          "user": "betatim"
         },
         {
          "comments": 1.0,
          "date": "2018-08-26T00:00:00",
          "user": "betatim"
         },
         {
          "comments": 1.0,
          "date": "2018-09-09T00:00:00",
          "user": "betatim"
         },
         {
          "comments": 1.5,
          "date": "2018-09-23T00:00:00",
          "user": "betatim"
         },
         {
          "comments": 4.5,
          "date": "2018-09-30T00:00:00",
          "user": "betatim"
         },
         {
          "comments": 5.0,
          "date": "2018-10-14T00:00:00",
          "user": "betatim"
         },
         {
          "comments": 3.5,
          "date": "2018-10-21T00:00:00",
          "user": "betatim"
         },
         {
          "comments": 3.0,
          "date": "2018-11-11T00:00:00",
          "user": "betatim"
         },
         {
          "comments": 2.0,
          "date": "2018-11-18T00:00:00",
          "user": "betatim"
         },
         {
          "comments": 1.5,
          "date": "2018-11-25T00:00:00",
          "user": "betatim"
         },
         {
          "comments": 1.5,
          "date": "2018-12-02T00:00:00",
          "user": "betatim"
         },
         {
          "comments": 2.0,
          "date": "2018-12-30T00:00:00",
          "user": "betatim"
         },
         {
          "comments": 1.5,
          "date": "2019-01-20T00:00:00",
          "user": "betatim"
         },
         {
          "comments": 0.5,
          "date": "2019-02-03T00:00:00",
          "user": "betatim"
         },
         {
          "comments": 5.5,
          "date": "2017-08-27T00:00:00",
          "user": "choldgraf"
         },
         {
          "comments": 2.0,
          "date": "2017-09-10T00:00:00",
          "user": "choldgraf"
         },
         {
          "comments": 1.0,
          "date": "2017-09-17T00:00:00",
          "user": "choldgraf"
         },
         {
          "comments": 2.0,
          "date": "2017-09-24T00:00:00",
          "user": "choldgraf"
         },
         {
          "comments": 4.0,
          "date": "2017-10-08T00:00:00",
          "user": "choldgraf"
         },
         {
          "comments": 4.0,
          "date": "2017-10-15T00:00:00",
          "user": "choldgraf"
         },
         {
          "comments": 7.5,
          "date": "2017-10-29T00:00:00",
          "user": "choldgraf"
         },
         {
          "comments": 7.0,
          "date": "2017-11-12T00:00:00",
          "user": "choldgraf"
         },
         {
          "comments": 3.0,
          "date": "2017-11-19T00:00:00",
          "user": "choldgraf"
         },
         {
          "comments": 7.0,
          "date": "2017-11-26T00:00:00",
          "user": "choldgraf"
         },
         {
          "comments": 21.5,
          "date": "2017-12-03T00:00:00",
          "user": "choldgraf"
         },
         {
          "comments": 22.5,
          "date": "2017-12-10T00:00:00",
          "user": "choldgraf"
         },
         {
          "comments": 12.0,
          "date": "2017-12-17T00:00:00",
          "user": "choldgraf"
         },
         {
          "comments": 8.5,
          "date": "2017-12-24T00:00:00",
          "user": "choldgraf"
         },
         {
          "comments": 3.5,
          "date": "2017-12-31T00:00:00",
          "user": "choldgraf"
         },
         {
          "comments": 1.5,
          "date": "2018-01-07T00:00:00",
          "user": "choldgraf"
         },
         {
          "comments": 3.0,
          "date": "2018-01-14T00:00:00",
          "user": "choldgraf"
         },
         {
          "comments": 4.0,
          "date": "2018-01-28T00:00:00",
          "user": "choldgraf"
         },
         {
          "comments": 2.5,
          "date": "2018-02-04T00:00:00",
          "user": "choldgraf"
         },
         {
          "comments": 4.5,
          "date": "2018-02-11T00:00:00",
          "user": "choldgraf"
         },
         {
          "comments": 5.5,
          "date": "2018-02-18T00:00:00",
          "user": "choldgraf"
         },
         {
          "comments": 4.0,
          "date": "2018-02-25T00:00:00",
          "user": "choldgraf"
         },
         {
          "comments": 4.0,
          "date": "2018-03-04T00:00:00",
          "user": "choldgraf"
         },
         {
          "comments": 3.0,
          "date": "2018-03-18T00:00:00",
          "user": "choldgraf"
         },
         {
          "comments": 5.5,
          "date": "2018-03-25T00:00:00",
          "user": "choldgraf"
         },
         {
          "comments": 5.0,
          "date": "2018-04-01T00:00:00",
          "user": "choldgraf"
         },
         {
          "comments": 8.5,
          "date": "2018-04-29T00:00:00",
          "user": "choldgraf"
         },
         {
          "comments": 9.0,
          "date": "2018-05-06T00:00:00",
          "user": "choldgraf"
         },
         {
          "comments": 1.5,
          "date": "2018-05-13T00:00:00",
          "user": "choldgraf"
         },
         {
          "comments": 1.5,
          "date": "2018-05-20T00:00:00",
          "user": "choldgraf"
         },
         {
          "comments": 3.5,
          "date": "2018-06-03T00:00:00",
          "user": "choldgraf"
         },
         {
          "comments": 3.5,
          "date": "2018-06-10T00:00:00",
          "user": "choldgraf"
         },
         {
          "comments": 2.5,
          "date": "2018-06-17T00:00:00",
          "user": "choldgraf"
         },
         {
          "comments": 2.5,
          "date": "2018-08-26T00:00:00",
          "user": "choldgraf"
         },
         {
          "comments": 3.5,
          "date": "2018-09-23T00:00:00",
          "user": "choldgraf"
         },
         {
          "comments": 5.5,
          "date": "2018-09-30T00:00:00",
          "user": "choldgraf"
         },
         {
          "comments": 3.5,
          "date": "2018-10-07T00:00:00",
          "user": "choldgraf"
         },
         {
          "comments": 4.5,
          "date": "2018-10-14T00:00:00",
          "user": "choldgraf"
         },
         {
          "comments": 6.0,
          "date": "2018-10-21T00:00:00",
          "user": "choldgraf"
         },
         {
          "comments": 4.0,
          "date": "2018-11-11T00:00:00",
          "user": "choldgraf"
         },
         {
          "comments": 4.0,
          "date": "2018-11-18T00:00:00",
          "user": "choldgraf"
         },
         {
          "comments": 3.0,
          "date": "2018-11-25T00:00:00",
          "user": "choldgraf"
         },
         {
          "comments": 2.0,
          "date": "2018-12-02T00:00:00",
          "user": "choldgraf"
         },
         {
          "comments": 1.5,
          "date": "2018-12-30T00:00:00",
          "user": "choldgraf"
         },
         {
          "comments": 4.0,
          "date": "2019-02-03T00:00:00",
          "user": "choldgraf"
         },
         {
          "comments": 1.0,
          "date": "2017-12-10T00:00:00",
          "user": "ctb"
         },
         {
          "comments": 2.5,
          "date": "2017-11-05T00:00:00",
          "user": "ellisonbg"
         },
         {
          "comments": 2.0,
          "date": "2017-11-26T00:00:00",
          "user": "ellisonbg"
         },
         {
          "comments": 5.0,
          "date": "2017-12-03T00:00:00",
          "user": "ellisonbg"
         },
         {
          "comments": 4.5,
          "date": "2017-12-10T00:00:00",
          "user": "ellisonbg"
         },
         {
          "comments": 1.5,
          "date": "2017-12-17T00:00:00",
          "user": "ellisonbg"
         },
         {
          "comments": 2.5,
          "date": "2017-12-17T00:00:00",
          "user": "jzf2101"
         },
         {
          "comments": 2.0,
          "date": "2017-12-31T00:00:00",
          "user": "jzf2101"
         },
         {
          "comments": 1.5,
          "date": "2018-03-25T00:00:00",
          "user": "jzf2101"
         },
         {
          "comments": 1.0,
          "date": "2018-04-29T00:00:00",
          "user": "jzf2101"
         },
         {
          "comments": 3.0,
          "date": "2018-06-03T00:00:00",
          "user": "jzf2101"
         },
         {
          "comments": 3.0,
          "date": "2018-06-24T00:00:00",
          "user": "jzf2101"
         },
         {
          "comments": 2.0,
          "date": "2018-09-23T00:00:00",
          "user": "jzf2101"
         },
         {
          "comments": 2.0,
          "date": "2018-09-30T00:00:00",
          "user": "jzf2101"
         },
         {
          "comments": 1.0,
          "date": "2018-10-07T00:00:00",
          "user": "jzf2101"
         },
         {
          "comments": 1.0,
          "date": "2018-10-21T00:00:00",
          "user": "jzf2101"
         },
         {
          "comments": 1.0,
          "date": "2017-12-17T00:00:00",
          "user": "mdeff"
         },
         {
          "comments": 1.5,
          "date": "2017-09-24T00:00:00",
          "user": "minrk"
         },
         {
          "comments": 1.0,
          "date": "2017-10-01T00:00:00",
          "user": "minrk"
         },
         {
          "comments": 1.0,
          "date": "2017-10-15T00:00:00",
          "user": "minrk"
         },
         {
          "comments": 5.0,
          "date": "2017-12-03T00:00:00",
          "user": "minrk"
         },
         {
          "comments": 5.0,
          "date": "2017-12-17T00:00:00",
          "user": "minrk"
         },
         {
          "comments": 1.0,
          "date": "2017-12-24T00:00:00",
          "user": "minrk"
         },
         {
          "comments": 1.0,
          "date": "2018-01-07T00:00:00",
          "user": "minrk"
         },
         {
          "comments": 1.0,
          "date": "2018-02-11T00:00:00",
          "user": "minrk"
         },
         {
          "comments": 1.0,
          "date": "2018-03-04T00:00:00",
          "user": "minrk"
         },
         {
          "comments": 1.0,
          "date": "2018-05-27T00:00:00",
          "user": "minrk"
         },
         {
          "comments": 1.0,
          "date": "2018-06-17T00:00:00",
          "user": "minrk"
         },
         {
          "comments": 1.0,
          "date": "2018-10-21T00:00:00",
          "user": "minrk"
         },
         {
          "comments": 1.0,
          "date": "2017-12-10T00:00:00",
          "user": "mpacer"
         },
         {
          "comments": 5.5,
          "date": "2017-12-03T00:00:00",
          "user": "npscience"
         },
         {
          "comments": 4.5,
          "date": "2017-12-10T00:00:00",
          "user": "npscience"
         },
         {
          "comments": 1.5,
          "date": "2017-12-24T00:00:00",
          "user": "npscience"
         },
         {
          "comments": 2.0,
          "date": "2017-12-24T00:00:00",
          "user": "psychemedia"
         },
         {
          "comments": 2.0,
          "date": "2017-11-26T00:00:00",
          "user": "takluyver"
         },
         {
          "comments": 1.5,
          "date": "2017-12-10T00:00:00",
          "user": "takluyver"
         },
         {
          "comments": 3.5,
          "date": "2018-04-08T00:00:00",
          "user": "vaibhavsagar"
         },
         {
          "comments": 2.0,
          "date": "2018-04-22T00:00:00",
          "user": "vaibhavsagar"
         },
         {
          "comments": 4.0,
          "date": "2018-04-29T00:00:00",
          "user": "vaibhavsagar"
         },
         {
          "comments": 4.5,
          "date": "2018-05-06T00:00:00",
          "user": "vaibhavsagar"
         },
         {
          "comments": 1.5,
          "date": "2017-09-24T00:00:00",
          "user": "willingc"
         },
         {
          "comments": 1.5,
          "date": "2017-10-08T00:00:00",
          "user": "willingc"
         },
         {
          "comments": 1.5,
          "date": "2017-10-15T00:00:00",
          "user": "willingc"
         },
         {
          "comments": 1.0,
          "date": "2017-10-29T00:00:00",
          "user": "willingc"
         },
         {
          "comments": 1.0,
          "date": "2017-11-26T00:00:00",
          "user": "willingc"
         },
         {
          "comments": 4.0,
          "date": "2017-12-03T00:00:00",
          "user": "willingc"
         },
         {
          "comments": 5.0,
          "date": "2017-12-10T00:00:00",
          "user": "willingc"
         },
         {
          "comments": 2.0,
          "date": "2017-12-17T00:00:00",
          "user": "willingc"
         },
         {
          "comments": 1.0,
          "date": "2018-02-04T00:00:00",
          "user": "willingc"
         },
         {
          "comments": 1.5,
          "date": "2018-02-25T00:00:00",
          "user": "willingc"
         },
         {
          "comments": 1.5,
          "date": "2018-03-04T00:00:00",
          "user": "willingc"
         },
         {
          "comments": 2.0,
          "date": "2018-03-18T00:00:00",
          "user": "willingc"
         },
         {
          "comments": 2.5,
          "date": "2018-03-25T00:00:00",
          "user": "willingc"
         },
         {
          "comments": 1.5,
          "date": "2018-04-29T00:00:00",
          "user": "willingc"
         },
         {
          "comments": 1.0,
          "date": "2018-06-03T00:00:00",
          "user": "willingc"
         },
         {
          "comments": 1.0,
          "date": "2018-06-17T00:00:00",
          "user": "willingc"
         },
         {
          "comments": 2.5,
          "date": "2018-10-14T00:00:00",
          "user": "willingc"
         },
         {
          "comments": 1.0,
          "date": "2017-10-01T00:00:00",
          "user": "yuvipanda"
         },
         {
          "comments": 2.5,
          "date": "2017-10-08T00:00:00",
          "user": "yuvipanda"
         },
         {
          "comments": 3.5,
          "date": "2017-10-15T00:00:00",
          "user": "yuvipanda"
         },
         {
          "comments": 2.0,
          "date": "2017-10-22T00:00:00",
          "user": "yuvipanda"
         },
         {
          "comments": 1.5,
          "date": "2017-10-29T00:00:00",
          "user": "yuvipanda"
         },
         {
          "comments": 1.5,
          "date": "2017-11-26T00:00:00",
          "user": "yuvipanda"
         },
         {
          "comments": 1.5,
          "date": "2017-12-03T00:00:00",
          "user": "yuvipanda"
         },
         {
          "comments": 3.5,
          "date": "2017-12-10T00:00:00",
          "user": "yuvipanda"
         },
         {
          "comments": 4.0,
          "date": "2018-01-28T00:00:00",
          "user": "yuvipanda"
         },
         {
          "comments": 3.5,
          "date": "2018-02-11T00:00:00",
          "user": "yuvipanda"
         },
         {
          "comments": 2.5,
          "date": "2018-02-18T00:00:00",
          "user": "yuvipanda"
         },
         {
          "comments": 1.5,
          "date": "2018-03-18T00:00:00",
          "user": "yuvipanda"
         },
         {
          "comments": 2.0,
          "date": "2018-03-25T00:00:00",
          "user": "yuvipanda"
         },
         {
          "comments": 1.5,
          "date": "2018-04-08T00:00:00",
          "user": "yuvipanda"
         },
         {
          "comments": 1.0,
          "date": "2018-04-29T00:00:00",
          "user": "yuvipanda"
         },
         {
          "comments": 2.0,
          "date": "2018-12-30T00:00:00",
          "user": "yuvipanda"
         },
         {
          "comments": 2.5,
          "date": "2019-02-03T00:00:00",
          "user": "yuvipanda"
         }
        ]
       },
       "layer": [
        {
         "data": {
          "name": "data-e49cea4bc39c91aeb42633cf397f0e27"
         },
         "encoding": {
          "color": {
           "field": "user",
           "type": "nominal"
          },
          "opacity": {
           "value": 0
          },
          "tooltip": {
           "field": "user",
           "type": "nominal"
          },
          "x": {
           "field": "date",
           "scale": {
            "domain": [
             "2016-01-01",
             "2019-02-01"
            ]
           },
           "type": "temporal"
          },
          "y": {
           "field": "comments",
           "type": "quantitative"
          }
         },
         "mark": {
          "clip": true,
          "type": "circle"
         },
         "selection": {
          "selector001": {
           "fields": [
            "user"
           ],
           "nearest": true,
           "on": "mouseover",
           "type": "single"
          }
         },
         "width": 1000
        },
        {
         "data": {
          "name": "data-e49cea4bc39c91aeb42633cf397f0e27"
         },
         "encoding": {
          "color": {
           "condition": {
            "field": "user",
            "selection": "selector001",
            "type": "nominal"
           },
           "value": "lightgray"
          },
          "size": {
           "condition": {
            "selection": {
             "not": "selector001"
            },
            "value": 1
           },
           "value": 4
          },
          "tooltip": {
           "field": "user",
           "type": "nominal"
          },
          "x": {
           "field": "date",
           "scale": {
            "domain": [
             "2016-01-01",
             "2019-02-01"
            ]
           },
           "type": "temporal"
          },
          "y": {
           "field": "comments",
           "type": "quantitative"
          }
         },
         "mark": {
          "clip": true,
          "type": "line"
         },
         "width": 1000
        }
       ]
      },
      "text/plain": [
       "<VegaLite 2 object>\n",
       "\n",
       "If you see this message, it means the renderer has not been properly enabled\n",
       "for the frontend that you are using. For more information, see\n",
       "https://altair-viz.github.io/user_guide/troubleshooting.html\n"
      ]
     },
     "execution_count": 14,
     "metadata": {},
     "output_type": "execute_result"
    }
   ],
   "source": [
    "selectable_line_plot(user_data.reset_index(), 'date', 'comments', 'user')"
   ]
  },
  {
   "cell_type": "code",
   "execution_count": 15,
   "metadata": {
    "papermill": {
     "duration": 0.225288,
     "end_time": "2019-02-14T22:41:26.098973",
     "exception": false,
     "start_time": "2019-02-14T22:41:25.873685",
     "status": "completed"
    },
    "tags": []
   },
   "outputs": [
    {
     "data": {
      "application/vnd.vegalite.v2+json": {
       "$schema": "https://vega.github.io/schema/vega-lite/v2.6.0.json",
       "config": {
        "view": {
         "height": 300,
         "width": 400
        }
       },
       "data": {
        "name": "data-30f044953616f09c9602d7a1532c3a98"
       },
       "datasets": {
        "data-30f044953616f09c9602d7a1532c3a98": [
         {
          "comments": 5.5,
          "date": "2017-08-27T00:00:00"
         },
         {
          "comments": 2.0,
          "date": "2017-09-10T00:00:00"
         },
         {
          "comments": 1.0,
          "date": "2017-09-17T00:00:00"
         },
         {
          "comments": 5.0,
          "date": "2017-09-24T00:00:00"
         },
         {
          "comments": 2.0,
          "date": "2017-10-01T00:00:00"
         },
         {
          "comments": 8.0,
          "date": "2017-10-08T00:00:00"
         },
         {
          "comments": 10.0,
          "date": "2017-10-15T00:00:00"
         },
         {
          "comments": 2.0,
          "date": "2017-10-22T00:00:00"
         },
         {
          "comments": 11.0,
          "date": "2017-10-29T00:00:00"
         },
         {
          "comments": 2.5,
          "date": "2017-11-05T00:00:00"
         },
         {
          "comments": 8.5,
          "date": "2017-11-12T00:00:00"
         },
         {
          "comments": 6.0,
          "date": "2017-11-19T00:00:00"
         },
         {
          "comments": 20.0,
          "date": "2017-11-26T00:00:00"
         },
         {
          "comments": 60.5,
          "date": "2017-12-03T00:00:00"
         },
         {
          "comments": 60.5,
          "date": "2017-12-10T00:00:00"
         },
         {
          "comments": 29.5,
          "date": "2017-12-17T00:00:00"
         },
         {
          "comments": 15.0,
          "date": "2017-12-24T00:00:00"
         },
         {
          "comments": 7.0,
          "date": "2017-12-31T00:00:00"
         },
         {
          "comments": 3.5,
          "date": "2018-01-07T00:00:00"
         },
         {
          "comments": 4.5,
          "date": "2018-01-14T00:00:00"
         },
         {
          "comments": 1.5,
          "date": "2018-01-21T00:00:00"
         },
         {
          "comments": 8.0,
          "date": "2018-01-28T00:00:00"
         },
         {
          "comments": 3.5,
          "date": "2018-02-04T00:00:00"
         },
         {
          "comments": 11.5,
          "date": "2018-02-11T00:00:00"
         },
         {
          "comments": 10.5,
          "date": "2018-02-18T00:00:00"
         },
         {
          "comments": 7.5,
          "date": "2018-02-25T00:00:00"
         },
         {
          "comments": 8.5,
          "date": "2018-03-04T00:00:00"
         },
         {
          "comments": 9.5,
          "date": "2018-03-18T00:00:00"
         },
         {
          "comments": 15.5,
          "date": "2018-03-25T00:00:00"
         },
         {
          "comments": 8.0,
          "date": "2018-04-01T00:00:00"
         },
         {
          "comments": 7.0,
          "date": "2018-04-08T00:00:00"
         },
         {
          "comments": 1.0,
          "date": "2018-04-15T00:00:00"
         },
         {
          "comments": 2.0,
          "date": "2018-04-22T00:00:00"
         },
         {
          "comments": 17.0,
          "date": "2018-04-29T00:00:00"
         },
         {
          "comments": 15.0,
          "date": "2018-05-06T00:00:00"
         },
         {
          "comments": 1.5,
          "date": "2018-05-13T00:00:00"
         },
         {
          "comments": 3.0,
          "date": "2018-05-20T00:00:00"
         },
         {
          "comments": 1.0,
          "date": "2018-05-27T00:00:00"
         },
         {
          "comments": 10.0,
          "date": "2018-06-03T00:00:00"
         },
         {
          "comments": 6.5,
          "date": "2018-06-10T00:00:00"
         },
         {
          "comments": 6.5,
          "date": "2018-06-17T00:00:00"
         },
         {
          "comments": 5.0,
          "date": "2018-06-24T00:00:00"
         },
         {
          "comments": 1.5,
          "date": "2018-07-22T00:00:00"
         },
         {
          "comments": 1.0,
          "date": "2018-07-29T00:00:00"
         },
         {
          "comments": 3.5,
          "date": "2018-08-26T00:00:00"
         },
         {
          "comments": 1.0,
          "date": "2018-09-09T00:00:00"
         },
         {
          "comments": 7.0,
          "date": "2018-09-23T00:00:00"
         },
         {
          "comments": 12.0,
          "date": "2018-09-30T00:00:00"
         },
         {
          "comments": 4.5,
          "date": "2018-10-07T00:00:00"
         },
         {
          "comments": 12.0,
          "date": "2018-10-14T00:00:00"
         },
         {
          "comments": 11.5,
          "date": "2018-10-21T00:00:00"
         },
         {
          "comments": 7.0,
          "date": "2018-11-11T00:00:00"
         },
         {
          "comments": 6.0,
          "date": "2018-11-18T00:00:00"
         },
         {
          "comments": 4.5,
          "date": "2018-11-25T00:00:00"
         },
         {
          "comments": 3.5,
          "date": "2018-12-02T00:00:00"
         },
         {
          "comments": 5.5,
          "date": "2018-12-30T00:00:00"
         },
         {
          "comments": 1.5,
          "date": "2019-01-20T00:00:00"
         },
         {
          "comments": 7.0,
          "date": "2019-02-03T00:00:00"
         }
        ]
       },
       "encoding": {
        "x": {
         "field": "date",
         "scale": {
          "domain": [
           "2016-01-01",
           "2019-02-01"
          ]
         },
         "type": "temporal"
        },
        "y": {
         "field": "comments",
         "type": "quantitative"
        }
       },
       "mark": {
        "clip": true,
        "type": "line"
       },
       "width": 1000
      },
      "text/plain": [
       "<VegaLite 2 object>\n",
       "\n",
       "If you see this message, it means the renderer has not been properly enabled\n",
       "for the frontend that you are using. For more information, see\n",
       "https://altair-viz.github.io/user_guide/troubleshooting.html\n"
      ]
     },
     "execution_count": 15,
     "metadata": {},
     "output_type": "execute_result"
    }
   ],
   "source": [
    "# Comment totals over time\n",
    "all_user_data = user_data.reset_index().groupby('date').sum()['comments'].reset_index()\n",
    "alt.Chart(data=all_user_data, width=1000).mark_line(clip=True).encode(\n",
    "    x=alt.X('date', scale=alt.Scale(domain=[\"2016-01-01\", \"2019-02-01\"])),\n",
    "    y='comments',\n",
    ")"
   ]
  },
  {
   "cell_type": "markdown",
   "metadata": {
    "papermill": {
     "duration": 0.136262,
     "end_time": "2019-02-14T22:41:26.335280",
     "exception": false,
     "start_time": "2019-02-14T22:41:26.199018",
     "status": "completed"
    },
    "tags": []
   },
   "source": [
    "## Distribution of comments over top N contributors"
   ]
  },
  {
   "cell_type": "code",
   "execution_count": 16,
   "metadata": {
    "papermill": {
     "duration": 0.1996,
     "end_time": "2019-02-14T22:41:26.639408",
     "exception": false,
     "start_time": "2019-02-14T22:41:26.439808",
     "status": "completed"
    },
    "tags": []
   },
   "outputs": [],
   "source": [
    "# For each week, calculate the top 20 contributions, turn them into percentages, order them, store the result"
   ]
  },
  {
   "cell_type": "code",
   "execution_count": 17,
   "metadata": {
    "papermill": {
     "duration": 0.385356,
     "end_time": "2019-02-14T22:41:27.219330",
     "exception": false,
     "start_time": "2019-02-14T22:41:26.833974",
     "status": "completed"
    },
    "tags": []
   },
   "outputs": [],
   "source": [
    "monthly = weekly.groupby('user').resample('M', on='date').sum().reset_index()"
   ]
  },
  {
   "cell_type": "code",
   "execution_count": 18,
   "metadata": {
    "papermill": {
     "duration": 0.229995,
     "end_time": "2019-02-14T22:41:27.579759",
     "exception": false,
     "start_time": "2019-02-14T22:41:27.349764",
     "status": "completed"
    },
    "tags": []
   },
   "outputs": [],
   "source": [
    "n_comments_plot = 20"
   ]
  },
  {
   "cell_type": "code",
   "execution_count": 19,
   "metadata": {
    "papermill": {
     "duration": 0.366443,
     "end_time": "2019-02-14T22:41:28.099084",
     "exception": false,
     "start_time": "2019-02-14T22:41:27.732641",
     "status": "completed"
    },
    "tags": []
   },
   "outputs": [],
   "source": [
    "monthly_dist = {}\n",
    "for iweek, ivals in monthly.groupby('date'):\n",
    "    comments_dist = ivals.groupby('user').sum()['comments']\n",
    "    comments_dist = comments_dist / comments_dist.sum()\n",
    "    comments_dist = comments_dist.sort_values(ascending=False)\n",
    "    comments_placeholder = [0] * n_comments_plot\n",
    "\n",
    "    for ii, (iname, ipart) in enumerate(comments_dist.items()):\n",
    "        if ii + 1 > n_comments_plot:\n",
    "            continue\n",
    "        comments_placeholder[ii] = ipart\n",
    "    monthly_dist[iweek] = comments_placeholder"
   ]
  },
  {
   "cell_type": "code",
   "execution_count": 20,
   "metadata": {
    "papermill": {
     "duration": 0.216792,
     "end_time": "2019-02-14T22:41:28.500155",
     "exception": false,
     "start_time": "2019-02-14T22:41:28.283363",
     "status": "completed"
    },
    "tags": []
   },
   "outputs": [],
   "source": [
    "monthly_dist = pd.DataFrame(monthly_dist)\n",
    "# monthly_dist.index.name = 'position'\n",
    "# monthly_dist.columns.name = 'date'\n",
    "# monthly_dist = monthly_dist.stack().reset_index().rename(columns={0: 'dist'})"
   ]
  },
  {
   "cell_type": "code",
   "execution_count": 21,
   "metadata": {
    "papermill": {
     "duration": 0.23115,
     "end_time": "2019-02-14T22:41:28.857275",
     "exception": false,
     "start_time": "2019-02-14T22:41:28.626125",
     "status": "completed"
    },
    "tags": []
   },
   "outputs": [],
   "source": [
    "monthly_dist.columns = monthly_dist.columns.date"
   ]
  },
  {
   "cell_type": "code",
   "execution_count": 22,
   "metadata": {
    "papermill": {
     "duration": 0.162589,
     "end_time": "2019-02-14T22:41:29.179071",
     "exception": false,
     "start_time": "2019-02-14T22:41:29.016482",
     "status": "completed"
    },
    "tags": []
   },
   "outputs": [],
   "source": [
    "from matplotlib import pyplot as plt"
   ]
  },
  {
   "cell_type": "code",
   "execution_count": 23,
   "metadata": {
    "papermill": {
     "duration": 1.178968,
     "end_time": "2019-02-14T22:41:30.482697",
     "exception": false,
     "start_time": "2019-02-14T22:41:29.303729",
     "status": "completed"
    },
    "tags": []
   },
   "outputs": [
    {
     "name": "stderr",
     "output_type": "stream",
     "text": [
      "/home/choldgraf/anaconda/envs/dev/lib/python3.6/site-packages/ipykernel_launcher.py:2: RuntimeWarning: divide by zero encountered in log10\n",
      "  \n"
     ]
    },
    {
     "data": {
      "text/plain": [
       "[Text(114.0, 0.5, 'Rank'),\n",
       " Text(0.5, 1.0, 'Log % Comments over time\\ntop 20 commentors')]"
      ]
     },
     "execution_count": 23,
     "metadata": {},
     "output_type": "execute_result"
    },
    {
     "data": {
      "image/png": "[encoded data removed]",
      "text/plain": [
       "<Figure size 1080x360 with 2 Axes>"
      ]
     },
     "metadata": {},
     "output_type": "display_data"
    }
   ],
   "source": [
    "fig, ax = plt.subplots(figsize=(15, 5))\n",
    "ax = sns.heatmap(np.log10(100 * monthly_dist), vmin=0, vmax=2)\n",
    "ax.set(ylabel=\"Rank\", title=\"Log % Comments over time\\ntop {} commentors\".format(n_comments_plot))"
   ]
  },
  {
   "cell_type": "markdown",
   "metadata": {
    "papermill": {
     "duration": 0.063975,
     "end_time": "2019-02-14T22:41:30.604508",
     "exception": false,
     "start_time": "2019-02-14T22:41:30.540533",
     "status": "completed"
    },
    "tags": []
   },
   "source": [
    "## Correlations between members"
   ]
  },
  {
   "cell_type": "code",
   "execution_count": 24,
   "metadata": {
    "papermill": {
     "duration": 0.078891,
     "end_time": "2019-02-14T22:41:30.754523",
     "exception": false,
     "start_time": "2019-02-14T22:41:30.675632",
     "status": "completed"
    },
    "tags": []
   },
   "outputs": [],
   "source": [
    "correlations = weekly.query(\"user in @plt_users\").set_index(['date', 'user'])['comments'].unstack('user').corr()\n",
    "correlations = correlations.replace(np.nan, 0)"
   ]
  },
  {
   "cell_type": "code",
   "execution_count": 25,
   "metadata": {
    "papermill": {
     "duration": 0.770906,
     "end_time": "2019-02-14T22:41:31.574844",
     "exception": false,
     "start_time": "2019-02-14T22:41:30.803938",
     "status": "completed"
    },
    "tags": []
   },
   "outputs": [
    {
     "data": {
      "text/plain": [
       "<seaborn.matrix.ClusterGrid at 0x7f0110e132e8>"
      ]
     },
     "execution_count": 25,
     "metadata": {},
     "output_type": "execute_result"
    },
    {
     "data": {
      "image/png": "[encoded data removed]",
      "text/plain": [
       "<Figure size 720x720 with 4 Axes>"
      ]
     },
     "metadata": {},
     "output_type": "display_data"
    }
   ],
   "source": [
    "sns.clustermap(correlations, vmin=-1, vmax=1, cmap='RdYlBu_r')"
   ]
  },
  {
   "cell_type": "code",
   "execution_count": null,
   "metadata": {
    "papermill": {
     "duration": 0.094167,
     "end_time": "2019-02-14T22:41:31.732983",
     "exception": false,
     "start_time": "2019-02-14T22:41:31.638816",
     "status": "completed"
    },
    "tags": []
   },
   "outputs": [],
   "source": []
  }
 ],
 "metadata": {
  "kernelspec": {
   "display_name": "Python 3",
   "language": "python",
   "name": "python3"
  },
  "language_info": {
   "codemirror_mode": {
    "name": "ipython",
    "version": 3
   },
   "file_extension": ".py",
   "mimetype": "text/x-python",
   "name": "python",
   "nbconvert_exporter": "python",
   "pygments_lexer": "ipython3",
   "version": "3.6.5"
  },
  "papermill": {
   "duration": 11.51506,
   "end_time": "2019-02-14T22:41:32.470065",
   "environment_variables": {},
   "exception": null,
   "input_path": "./viz_data.ipynb",
   "output_path": "../reports/viz_data_jupyterhub-binder.ipynb",
   "parameters": {
    "org": "jupyterhub",
    "plot_N": 20,
    "repo": "binder"
   },
   "start_time": "2019-02-14T22:41:20.955005",
   "version": "0.18.0"
  }
 },
 "nbformat": 4,
 "nbformat_minor": 2
}