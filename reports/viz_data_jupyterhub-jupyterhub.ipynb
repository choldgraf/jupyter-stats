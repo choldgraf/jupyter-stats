{
 "cells": [
  {
   "cell_type": "markdown",
   "metadata": {
    "papermill": {
     "duration": 0.024372,
     "end_time": "2019-02-14T22:40:40.783866",
     "exception": false,
     "start_time": "2019-02-14T22:40:40.759494",
     "status": "completed"
    },
    "tags": []
   },
   "source": [
    "## Parameters"
   ]
  },
  {
   "cell_type": "code",
   "execution_count": 1,
   "metadata": {
    "papermill": {
     "duration": 0.043284,
     "end_time": "2019-02-14T22:40:40.849654",
     "exception": false,
     "start_time": "2019-02-14T22:40:40.806370",
     "status": "completed"
    },
    "tags": [
     "parameters"
    ]
   },
   "outputs": [],
   "source": [
    "org = 'jupyterhub'\n",
    "repo = 'jupyterhub'\n",
    "plot_N = 25  # Number of lines to add"
   ]
  },
  {
   "cell_type": "code",
   "execution_count": 2,
   "metadata": {
    "papermill": {
     "duration": 0.028352,
     "end_time": "2019-02-14T22:40:40.905190",
     "exception": false,
     "start_time": "2019-02-14T22:40:40.876838",
     "status": "completed"
    },
    "tags": [
     "injected-parameters"
    ]
   },
   "outputs": [],
   "source": [
    "# Parameters\n",
    "org = \"jupyterhub\"\n",
    "repo = \"jupyterhub\"\n",
    "plot_N = 20\n"
   ]
  },
  {
   "cell_type": "markdown",
   "metadata": {
    "papermill": {
     "duration": 0.024336,
     "end_time": "2019-02-14T22:40:40.954816",
     "exception": false,
     "start_time": "2019-02-14T22:40:40.930480",
     "status": "completed"
    },
    "tags": []
   },
   "source": [
    "## Functions"
   ]
  },
  {
   "cell_type": "code",
   "execution_count": 3,
   "metadata": {
    "papermill": {
     "duration": 0.032581,
     "end_time": "2019-02-14T22:40:41.018050",
     "exception": false,
     "start_time": "2019-02-14T22:40:40.985469",
     "status": "completed"
    },
    "tags": []
   },
   "outputs": [],
   "source": [
    "def selectable_line_plot(data, x, y, color, width=1000):\n",
    "\n",
    "    select = alt.selection(type='single', on='mouseover',\n",
    "                           fields=[color], nearest=True)\n",
    "\n",
    "    base = alt.Chart(data=data, width=width).encode(\n",
    "        x=alt.X(x, scale=alt.Scale(domain=[\"2016-01-01\", \"2019-02-01\"])),\n",
    "        y=y,\n",
    "        color=color,\n",
    "        tooltip=color,\n",
    "    )\n",
    "\n",
    "    points = base.mark_circle(clip=True).encode(\n",
    "        opacity=alt.value(0)\n",
    "    ).add_selection(select)\n",
    "\n",
    "\n",
    "    lines = base.mark_line(clip=True).encode(\n",
    "        size=alt.condition(~select, alt.value(1), alt.value(4)),\n",
    "        color=alt.condition(select, color, alt.value('lightgray'))\n",
    "    )\n",
    "\n",
    "    return points + lines"
   ]
  },
  {
   "cell_type": "markdown",
   "metadata": {
    "papermill": {
     "duration": 0.027236,
     "end_time": "2019-02-14T22:40:41.070993",
     "exception": false,
     "start_time": "2019-02-14T22:40:41.043757",
     "status": "completed"
    },
    "tags": []
   },
   "source": [
    "# Load data"
   ]
  },
  {
   "cell_type": "code",
   "execution_count": 4,
   "metadata": {
    "papermill": {
     "duration": 1.378139,
     "end_time": "2019-02-14T22:40:42.482517",
     "exception": false,
     "start_time": "2019-02-14T22:40:41.104378",
     "status": "completed"
    },
    "tags": []
   },
   "outputs": [],
   "source": [
    "import pandas as pd\n",
    "import seaborn as sns\n",
    "import altair as alt\n",
    "import numpy as np"
   ]
  },
  {
   "cell_type": "code",
   "execution_count": 5,
   "metadata": {
    "papermill": {
     "duration": 0.133511,
     "end_time": "2019-02-14T22:40:42.644510",
     "exception": false,
     "start_time": "2019-02-14T22:40:42.510999",
     "status": "completed"
    },
    "tags": []
   },
   "outputs": [],
   "source": [
    "# Read in data\n",
    "daily = pd.read_csv('../data/daily.csv', index_col=0)\n",
    "\n",
    "# Convert indices to date\n",
    "daily['date'] = pd.to_datetime(daily['date'])\n",
    "daily = daily.query('org == @org and repo == @repo').drop(['org', 'repo'], axis=1)\n",
    "daily = daily.replace(np.nan, 0)"
   ]
  },
  {
   "cell_type": "markdown",
   "metadata": {
    "papermill": {
     "duration": 0.028242,
     "end_time": "2019-02-14T22:40:42.700977",
     "exception": false,
     "start_time": "2019-02-14T22:40:42.672735",
     "status": "completed"
    },
    "tags": []
   },
   "source": [
    "# Features"
   ]
  },
  {
   "cell_type": "code",
   "execution_count": 6,
   "metadata": {
    "papermill": {
     "duration": 3.72366,
     "end_time": "2019-02-14T22:40:46.459695",
     "exception": false,
     "start_time": "2019-02-14T22:40:42.736035",
     "status": "completed"
    },
    "tags": []
   },
   "outputs": [],
   "source": [
    "weekly = daily.groupby('user').resample('W', on='date').sum().reset_index()\n",
    "weekly = weekly.query('commits != 0 or comments != 0')"
   ]
  },
  {
   "cell_type": "code",
   "execution_count": 7,
   "metadata": {
    "papermill": {
     "duration": 0.549112,
     "end_time": "2019-02-14T22:40:47.042618",
     "exception": false,
     "start_time": "2019-02-14T22:40:46.493506",
     "status": "completed"
    },
    "tags": []
   },
   "outputs": [],
   "source": [
    "# Rolling mean\n",
    "weekly = weekly.groupby(['user', 'date']).sum().reset_index().groupby('user').\\\n",
    "    rolling(2, on='date')['comments'].\\\n",
    "    mean().dropna().reset_index()"
   ]
  },
  {
   "cell_type": "code",
   "execution_count": 8,
   "metadata": {
    "papermill": {
     "duration": 0.053384,
     "end_time": "2019-02-14T22:40:47.125095",
     "exception": false,
     "start_time": "2019-02-14T22:40:47.071711",
     "status": "completed"
    },
    "tags": []
   },
   "outputs": [],
   "source": [
    "# Top N commentors over time\n",
    "top_N = weekly.groupby('user').sum()['comments'].sort_values(ascending=False)\n",
    "top_N = top_N.index[:plot_N]"
   ]
  },
  {
   "cell_type": "markdown",
   "metadata": {
    "papermill": {
     "duration": 0.027614,
     "end_time": "2019-02-14T22:40:47.187581",
     "exception": false,
     "start_time": "2019-02-14T22:40:47.159967",
     "status": "completed"
    },
    "tags": []
   },
   "source": [
    "# Plotting"
   ]
  },
  {
   "cell_type": "markdown",
   "metadata": {
    "papermill": {
     "duration": 0.059007,
     "end_time": "2019-02-14T22:40:47.278225",
     "exception": false,
     "start_time": "2019-02-14T22:40:47.219218",
     "status": "completed"
    },
    "tags": []
   },
   "source": [
    "## Weekly unique contributors"
   ]
  },
  {
   "cell_type": "code",
   "execution_count": 9,
   "metadata": {
    "papermill": {
     "duration": 0.083482,
     "end_time": "2019-02-14T22:40:47.396475",
     "exception": false,
     "start_time": "2019-02-14T22:40:47.312993",
     "status": "completed"
    },
    "tags": []
   },
   "outputs": [],
   "source": [
    "unique = weekly[['date', 'user']].copy()\n",
    "unique['user'] = unique['user'].map(lambda a: [a])\n",
    "unique = unique.groupby('date').sum()"
   ]
  },
  {
   "cell_type": "code",
   "execution_count": 10,
   "metadata": {
    "papermill": {
     "duration": 0.084932,
     "end_time": "2019-02-14T22:40:47.509558",
     "exception": false,
     "start_time": "2019-02-14T22:40:47.424626",
     "status": "completed"
    },
    "tags": []
   },
   "outputs": [],
   "source": [
    "all_users = set()\n",
    "nunique = {}\n",
    "for idate, ivals in unique.iterrows():\n",
    "    n_unique_current = len(all_users)\n",
    "    \n",
    "    all_users = all_users.union(ivals[0])\n",
    "    n_unique_new = len(all_users) - n_unique_current\n",
    "    nunique[idate] = n_unique_new\n",
    "unique['new_contributors'] = pd.Series(nunique).values"
   ]
  },
  {
   "cell_type": "code",
   "execution_count": 11,
   "metadata": {
    "papermill": {
     "duration": 0.056748,
     "end_time": "2019-02-14T22:40:47.591444",
     "exception": false,
     "start_time": "2019-02-14T22:40:47.534696",
     "status": "completed"
    },
    "tags": []
   },
   "outputs": [],
   "source": [
    "unique['cumulative'] = unique['new_contributors'].cumsum()"
   ]
  },
  {
   "cell_type": "code",
   "execution_count": 12,
   "metadata": {
    "papermill": {
     "duration": 0.088381,
     "end_time": "2019-02-14T22:40:47.713852",
     "exception": false,
     "start_time": "2019-02-14T22:40:47.625471",
     "status": "completed"
    },
    "tags": []
   },
   "outputs": [
    {
     "data": {
      "application/vnd.vegalite.v2+json": {
       "$schema": "https://vega.github.io/schema/vega-lite/v2.6.0.json",
       "config": {
        "view": {
         "height": 300,
         "width": 400
        }
       },
       "data": {
        "name": "data-4d8e9b95e24917be6fd18d477bc2c244"
       },
       "datasets": {
        "data-4d8e9b95e24917be6fd18d477bc2c244": [
         {
          "cumulative": 1,
          "date": "2016-01-10T00:00:00",
          "new_contributors": 1,
          "user": [
           "willingc"
          ]
         },
         {
          "cumulative": 11,
          "date": "2016-01-17T00:00:00",
          "new_contributors": 10,
          "user": [
           "Carreau",
           "andreaslang",
           "betatim",
           "chandragaajula",
           "ellisonbg",
           "etejedor",
           "jlamcanopy",
           "mbmilligan",
           "minrk",
           "rsandhu1",
           "willingc"
          ]
         },
         {
          "cumulative": 12,
          "date": "2016-01-24T00:00:00",
          "new_contributors": 1,
          "user": [
           "mbmilligan",
           "minrk",
           "willingc",
           "yuvipanda"
          ]
         },
         {
          "cumulative": 15,
          "date": "2016-01-31T00:00:00",
          "new_contributors": 3,
          "user": [
           "Carreau",
           "charleswardell",
           "jlamcanopy",
           "mbmilligan",
           "minrk",
           "satendrakumar",
           "ssanderson",
           "yuvipanda"
          ]
         },
         {
          "cumulative": 16,
          "date": "2016-02-07T00:00:00",
          "new_contributors": 1,
          "user": [
           "jlamcanopy",
           "minrk",
           "rgbkrk",
           "willingc",
           "yuvipanda"
          ]
         },
         {
          "cumulative": 21,
          "date": "2016-02-14T00:00:00",
          "new_contributors": 5,
          "user": [
           "fossouo",
           "fperez",
           "jld23",
           "minrk",
           "mogthesprog",
           "rgbkrk",
           "sourceindex",
           "willingc",
           "yuvipanda"
          ]
         },
         {
          "cumulative": 22,
          "date": "2016-02-21T00:00:00",
          "new_contributors": 1,
          "user": [
           "minrk",
           "rgbkrk",
           "statueofmike",
           "willingc"
          ]
         },
         {
          "cumulative": 23,
          "date": "2016-02-28T00:00:00",
          "new_contributors": 1,
          "user": [
           "Carreau",
           "betatim",
           "minrk",
           "rgbkrk",
           "ryanlovett",
           "willingc"
          ]
         },
         {
          "cumulative": 25,
          "date": "2016-03-06T00:00:00",
          "new_contributors": 2,
          "user": [
           "AndreWin",
           "Carreau",
           "arsturges",
           "betatim",
           "fossouo",
           "minrk",
           "rgbkrk",
           "ryanlovett",
           "willingc",
           "yuvipanda"
          ]
         },
         {
          "cumulative": 25,
          "date": "2016-03-13T00:00:00",
          "new_contributors": 0,
          "user": [
           "Carreau",
           "betatim",
           "minrk",
           "ssanderson",
           "statueofmike",
           "willingc",
           "yuvipanda"
          ]
         },
         {
          "cumulative": 25,
          "date": "2016-03-20T00:00:00",
          "new_contributors": 0,
          "user": [
           "betatim",
           "minrk",
           "willingc"
          ]
         },
         {
          "cumulative": 26,
          "date": "2016-03-27T00:00:00",
          "new_contributors": 1,
          "user": [
           "alexvorobiev",
           "betatim",
           "minrk",
           "willingc"
          ]
         },
         {
          "cumulative": 26,
          "date": "2016-04-03T00:00:00",
          "new_contributors": 0,
          "user": [
           "Carreau",
           "minrk",
           "willingc",
           "yuvipanda"
          ]
         },
         {
          "cumulative": 27,
          "date": "2016-04-10T00:00:00",
          "new_contributors": 1,
          "user": [
           "chicagobuss",
           "minrk",
           "rgbkrk",
           "willingc",
           "yuvipanda"
          ]
         },
         {
          "cumulative": 30,
          "date": "2016-04-17T00:00:00",
          "new_contributors": 3,
          "user": [
           "Carreau",
           "fperez",
           "jhamrick",
           "minrk",
           "pawannrao-ebay",
           "sdd3",
           "willingc"
          ]
         },
         {
          "cumulative": 35,
          "date": "2016-04-24T00:00:00",
          "new_contributors": 5,
          "user": [
           "bartaelterman",
           "carolynvs",
           "dominicfollett",
           "iamed18",
           "minrk",
           "mmetts",
           "pawannrao-ebay",
           "rgbkrk",
           "willingc",
           "yuvipanda"
          ]
         },
         {
          "cumulative": 35,
          "date": "2016-05-01T00:00:00",
          "new_contributors": 0,
          "user": [
           "minrk",
           "rgbkrk",
           "willingc",
           "yuvipanda"
          ]
         },
         {
          "cumulative": 38,
          "date": "2016-05-08T00:00:00",
          "new_contributors": 3,
          "user": [
           "daradib",
           "minrk",
           "rawrgulmuffins",
           "vitapoly",
           "willingc"
          ]
         },
         {
          "cumulative": 39,
          "date": "2016-05-15T00:00:00",
          "new_contributors": 1,
          "user": [
           "cenveoanalyst",
           "minrk",
           "pawannrao-ebay",
           "ryanlovett",
           "willingc"
          ]
         },
         {
          "cumulative": 40,
          "date": "2016-05-22T00:00:00",
          "new_contributors": 1,
          "user": [
           "LMtx",
           "minrk",
           "pawannrao-ebay",
           "rgbkrk",
           "ryanlovett",
           "willingc"
          ]
         },
         {
          "cumulative": 42,
          "date": "2016-05-29T00:00:00",
          "new_contributors": 2,
          "user": [
           "jhamrick",
           "minrk",
           "pawannrao-ebay",
           "rgbkrk",
           "robnagler",
           "theNewFlesh",
           "willingc"
          ]
         },
         {
          "cumulative": 45,
          "date": "2016-06-05T00:00:00",
          "new_contributors": 3,
          "user": [
           "Balajideivam",
           "YannBrrd",
           "bjlange",
           "minrk",
           "rgbkrk"
          ]
         },
         {
          "cumulative": 45,
          "date": "2016-06-12T00:00:00",
          "new_contributors": 0,
          "user": [
           "iamed18",
           "minrk",
           "willingc"
          ]
         },
         {
          "cumulative": 45,
          "date": "2016-06-19T00:00:00",
          "new_contributors": 0,
          "user": [
           "Carreau",
           "daradib",
           "minrk",
           "willingc"
          ]
         },
         {
          "cumulative": 46,
          "date": "2016-06-26T00:00:00",
          "new_contributors": 1,
          "user": [
           "ObadaM",
           "iamed18",
           "minrk",
           "willingc"
          ]
         },
         {
          "cumulative": 46,
          "date": "2016-07-03T00:00:00",
          "new_contributors": 0,
          "user": [
           "Carreau",
           "minrk",
           "robnagler",
           "willingc"
          ]
         },
         {
          "cumulative": 49,
          "date": "2016-07-10T00:00:00",
          "new_contributors": 3,
          "user": [
           "benrobinson1976",
           "gwincr11",
           "minrk",
           "quanghoc",
           "willingc"
          ]
         },
         {
          "cumulative": 51,
          "date": "2016-07-17T00:00:00",
          "new_contributors": 2,
          "user": [
           "brblord",
           "gwincr11",
           "kitsirota",
           "minrk",
           "willingc"
          ]
         },
         {
          "cumulative": 53,
          "date": "2016-07-24T00:00:00",
          "new_contributors": 2,
          "user": [
           "harishcj",
           "mbmilligan",
           "minrk",
           "mpekalski",
           "willingc"
          ]
         },
         {
          "cumulative": 54,
          "date": "2016-07-31T00:00:00",
          "new_contributors": 1,
          "user": [
           "iamed18",
           "matteoipri",
           "minrk",
           "willingc"
          ]
         },
         {
          "cumulative": 56,
          "date": "2016-08-07T00:00:00",
          "new_contributors": 2,
          "user": [
           "KhoaLeTea",
           "minrk",
           "rgbkrk",
           "vilhelmen"
          ]
         },
         {
          "cumulative": 56,
          "date": "2016-08-14T00:00:00",
          "new_contributors": 0,
          "user": [
           "minrk",
           "willingc"
          ]
         },
         {
          "cumulative": 58,
          "date": "2016-08-21T00:00:00",
          "new_contributors": 2,
          "user": [
           "minrk",
           "parente",
           "sudipto84goswami",
           "willingc"
          ]
         },
         {
          "cumulative": 62,
          "date": "2016-08-28T00:00:00",
          "new_contributors": 4,
          "user": [
           "TrigonaMinima",
           "dsblank",
           "jhamrick",
           "mbmilligan",
           "minrk",
           "rawrgulmuffins",
           "ryanlovett",
           "simtos",
           "steverweber",
           "willingc"
          ]
         },
         {
          "cumulative": 71,
          "date": "2016-09-04T00:00:00",
          "new_contributors": 9,
          "user": [
           "SeanHealy33",
           "aidaph",
           "damianavila",
           "denfromufa",
           "fperez",
           "hani1814",
           "katsar0v",
           "kishorchintal",
           "lbiemans",
           "minrk",
           "parente",
           "rgbkrk",
           "spalkovits",
           "ssanderson",
           "willingc"
          ]
         },
         {
          "cumulative": 75,
          "date": "2016-09-11T00:00:00",
          "new_contributors": 4,
          "user": [
           "dsblank",
           "hani1814",
           "ianabc",
           "jai11",
           "jhamrick",
           "minrk",
           "mogthesprog",
           "parente",
           "robnagler",
           "spalkovits",
           "stefanoborini",
           "willingc",
           "yuvipanda",
           "zer0n"
          ]
         },
         {
          "cumulative": 75,
          "date": "2016-09-18T00:00:00",
          "new_contributors": 0,
          "user": [
           "hani1814",
           "jai11",
           "minrk",
           "spalkovits",
           "willingc",
           "yuvipanda"
          ]
         },
         {
          "cumulative": 79,
          "date": "2016-09-25T00:00:00",
          "new_contributors": 4,
          "user": [
           "KhoaLeTea",
           "SruthiBhavanam",
           "bourguig",
           "danielballan",
           "hani1814",
           "jai11",
           "katsar0v",
           "minrk",
           "nvenayak",
           "ryanlovett",
           "willingc",
           "yuvipanda",
           "zer0n"
          ]
         },
         {
          "cumulative": 81,
          "date": "2016-10-02T00:00:00",
          "new_contributors": 2,
          "user": [
           "Loulybob",
           "SruthiBhavanam",
           "jai11",
           "jhamrick",
           "kishorchintal",
           "minrk",
           "mrinmoyprasad",
           "parente",
           "willingc"
          ]
         },
         {
          "cumulative": 84,
          "date": "2016-10-09T00:00:00",
          "new_contributors": 3,
          "user": [
           "ianabc",
           "jai11",
           "jgsogo",
           "minrk",
           "pcarazo",
           "steverweber",
           "takluyver",
           "willingc"
          ]
         },
         {
          "cumulative": 85,
          "date": "2016-10-16T00:00:00",
          "new_contributors": 1,
          "user": [
           "Loulybob",
           "danielballan",
           "danielfrg",
           "ianabc",
           "minrk",
           "pcarazo",
           "robnagler",
           "takluyver",
           "willingc",
           "yuvipanda"
          ]
         },
         {
          "cumulative": 87,
          "date": "2016-10-23T00:00:00",
          "new_contributors": 2,
          "user": [
           "danielballan",
           "minrk",
           "sirgogo",
           "vhp1360",
           "willingc",
           "yuvipanda"
          ]
         },
         {
          "cumulative": 90,
          "date": "2016-10-30T00:00:00",
          "new_contributors": 3,
          "user": [
           "Carreau",
           "blink1073",
           "danielballan",
           "eburgueno",
           "ianabc",
           "minrk",
           "parente",
           "vhp1360",
           "willingc",
           "yuvipanda",
           "zoltan-fedor"
          ]
         },
         {
          "cumulative": 90,
          "date": "2016-11-06T00:00:00",
          "new_contributors": 0,
          "user": [
           "minrk",
           "mrinmoyprasad",
           "parente",
           "steverweber",
           "willingc",
           "yuvipanda"
          ]
         },
         {
          "cumulative": 91,
          "date": "2016-11-13T00:00:00",
          "new_contributors": 1,
          "user": [
           "0x00b1",
           "Loulybob",
           "minrk",
           "parente",
           "willingc",
           "yuvipanda"
          ]
         },
         {
          "cumulative": 92,
          "date": "2016-11-20T00:00:00",
          "new_contributors": 1,
          "user": [
           "dsoares",
           "minrk",
           "parente",
           "willingc",
           "yuvipanda"
          ]
         },
         {
          "cumulative": 94,
          "date": "2016-11-27T00:00:00",
          "new_contributors": 2,
          "user": [
           "ZelphirKaltstahl",
           "danielfrg",
           "dsoares",
           "erikhe90",
           "minrk",
           "parente",
           "willingc",
           "yuvipanda"
          ]
         },
         {
          "cumulative": 95,
          "date": "2016-12-04T00:00:00",
          "new_contributors": 1,
          "user": [
           "mariusvniekerk",
           "minrk",
           "parente",
           "willingc",
           "yuvipanda"
          ]
         },
         {
          "cumulative": 99,
          "date": "2016-12-11T00:00:00",
          "new_contributors": 4,
          "user": [
           "Analect",
           "denfromufa",
           "hani1814",
           "kafonek",
           "mconigliaro",
           "minrk",
           "ponomarevsy",
           "willingc"
          ]
         },
         {
          "cumulative": 102,
          "date": "2016-12-18T00:00:00",
          "new_contributors": 3,
          "user": [
           "erikhe90",
           "hokiegeek2",
           "jbkalmbach",
           "mconigliaro",
           "minrk",
           "ponomarevsy",
           "remidebette",
           "willingc",
           "zoltan-fedor"
          ]
         },
         {
          "cumulative": 104,
          "date": "2016-12-25T00:00:00",
          "new_contributors": 2,
          "user": [
           "damianavila",
           "jacknlliu",
           "mariusvniekerk",
           "mconigliaro",
           "minrk",
           "parente",
           "rachmaninovquartet",
           "willingc"
          ]
         },
         {
          "cumulative": 106,
          "date": "2017-01-08T00:00:00",
          "new_contributors": 2,
          "user": [
           "barrachri",
           "ellisonbg",
           "kartoch",
           "minrk",
           "willingc",
           "yuvipanda"
          ]
         },
         {
          "cumulative": 107,
          "date": "2017-01-15T00:00:00",
          "new_contributors": 1,
          "user": [
           "KhoaLeTea",
           "barrachri",
           "ellisonbg",
           "minrk",
           "thornhale",
           "willingc",
           "yuvipanda"
          ]
         },
         {
          "cumulative": 107,
          "date": "2017-01-22T00:00:00",
          "new_contributors": 0,
          "user": [
           "barrachri",
           "minrk",
           "ryanlovett",
           "sudipto84goswami",
           "willingc"
          ]
         },
         {
          "cumulative": 107,
          "date": "2017-01-29T00:00:00",
          "new_contributors": 0,
          "user": [
           "minrk",
           "mrinmoyprasad",
           "willingc"
          ]
         },
         {
          "cumulative": 107,
          "date": "2017-02-05T00:00:00",
          "new_contributors": 0,
          "user": [
           "ellisonbg",
           "minrk",
           "remidebette",
           "willingc"
          ]
         },
         {
          "cumulative": 109,
          "date": "2017-02-12T00:00:00",
          "new_contributors": 2,
          "user": [
           "Habulinec",
           "barrachri",
           "ellisonbg",
           "evandam",
           "jai11",
           "jhamrick",
           "minrk",
           "remidebette",
           "willingc"
          ]
         },
         {
          "cumulative": 111,
          "date": "2017-02-19T00:00:00",
          "new_contributors": 2,
          "user": [
           "ellisonbg",
           "jai11",
           "minrk",
           "mrinmoyprasad",
           "ponomarevsy",
           "shusson",
           "willingc",
           "yuvipanda",
           "yxqd"
          ]
         },
         {
          "cumulative": 113,
          "date": "2017-02-26T00:00:00",
          "new_contributors": 2,
          "user": [
           "SteveFelker",
           "barrachri",
           "minrk",
           "ryanlovett",
           "whitead",
           "willingc"
          ]
         },
         {
          "cumulative": 114,
          "date": "2017-03-05T00:00:00",
          "new_contributors": 1,
          "user": [
           "barrachri",
           "cschindlbeck",
           "minrk",
           "whitead",
           "willingc"
          ]
         },
         {
          "cumulative": 114,
          "date": "2017-03-12T00:00:00",
          "new_contributors": 0,
          "user": [
           "barrachri",
           "dominicfollett",
           "ianabc",
           "minrk",
           "rgbkrk",
           "stefanoborini",
           "willingc"
          ]
         },
         {
          "cumulative": 116,
          "date": "2017-03-19T00:00:00",
          "new_contributors": 2,
          "user": [
           "barrachri",
           "laurikoobas",
           "minrk",
           "vbraun",
           "willingc"
          ]
         },
         {
          "cumulative": 117,
          "date": "2017-03-26T00:00:00",
          "new_contributors": 1,
          "user": [
           "JoyMonteiro",
           "barrachri",
           "laurikoobas",
           "minrk",
           "willingc",
           "yuvipanda"
          ]
         },
         {
          "cumulative": 120,
          "date": "2017-04-02T00:00:00",
          "new_contributors": 3,
          "user": [
           "funnelandhose",
           "jai11",
           "johnplaydrums",
           "laurikoobas",
           "minrk",
           "parente",
           "qingzhouzhen",
           "ryanlovett",
           "willingc",
           "zoltan-fedor"
          ]
         },
         {
          "cumulative": 124,
          "date": "2017-04-09T00:00:00",
          "new_contributors": 4,
          "user": [
           "JoyMonteiro",
           "jan-janssen",
           "minrk",
           "penumbra-",
           "ramnavan",
           "tguillemot",
           "willingc",
           "yuvipanda"
          ]
         },
         {
          "cumulative": 124,
          "date": "2017-04-16T00:00:00",
          "new_contributors": 0,
          "user": [
           "JoyMonteiro",
           "barrachri",
           "ianabc",
           "minrk",
           "mpekalski",
           "willingc",
           "yuvipanda"
          ]
         },
         {
          "cumulative": 126,
          "date": "2017-04-23T00:00:00",
          "new_contributors": 2,
          "user": [
           "Bamieh",
           "barrachri",
           "mbmilligan",
           "minrk",
           "mpekalski",
           "parente",
           "qingzhouzhen",
           "tjcrone",
           "willingc",
           "yuvipanda",
           "zoltan-fedor"
          ]
         },
         {
          "cumulative": 129,
          "date": "2017-04-30T00:00:00",
          "new_contributors": 3,
          "user": [
           "Spritekin",
           "ZelphirKaltstahl",
           "athornton",
           "betatim",
           "cschindlbeck",
           "evandam",
           "mbmilligan",
           "minrk",
           "rsinha25",
           "willingc"
          ]
         },
         {
          "cumulative": 129,
          "date": "2017-05-07T00:00:00",
          "new_contributors": 0,
          "user": [
           "Spritekin",
           "barrachri",
           "betatim",
           "ellisonbg",
           "evandam",
           "minrk",
           "parente",
           "willingc",
           "yuvipanda"
          ]
         },
         {
          "cumulative": 131,
          "date": "2017-05-14T00:00:00",
          "new_contributors": 2,
          "user": [
           "dmvieira",
           "evandam",
           "johnbotsis",
           "minrk",
           "willingc"
          ]
         },
         {
          "cumulative": 131,
          "date": "2017-05-21T00:00:00",
          "new_contributors": 0,
          "user": [
           "evandam",
           "minrk",
           "parente",
           "willingc"
          ]
         },
         {
          "cumulative": 132,
          "date": "2017-05-28T00:00:00",
          "new_contributors": 1,
          "user": [
           "Analect",
           "Krzef",
           "athornton",
           "ellisonbg",
           "minrk",
           "parente",
           "willingc",
           "yuvipanda"
          ]
         },
         {
          "cumulative": 136,
          "date": "2017-06-04T00:00:00",
          "new_contributors": 4,
          "user": [
           "Krzef",
           "cekees",
           "dhirschfeld",
           "jrollins",
           "minrk",
           "parente",
           "willingc",
           "yechangyao",
           "yuvipanda"
          ]
         },
         {
          "cumulative": 138,
          "date": "2017-06-11T00:00:00",
          "new_contributors": 2,
          "user": [
           "SteveFelker",
           "anderbubble",
           "eschlon",
           "minrk",
           "willingc"
          ]
         },
         {
          "cumulative": 138,
          "date": "2017-06-18T00:00:00",
          "new_contributors": 0,
          "user": [
           "minrk"
          ]
         },
         {
          "cumulative": 139,
          "date": "2017-06-25T00:00:00",
          "new_contributors": 1,
          "user": [
           "evanlinde",
           "minrk",
           "mogthesprog",
           "ryanlovett",
           "willingc",
           "yuvipanda"
          ]
         },
         {
          "cumulative": 141,
          "date": "2017-07-02T00:00:00",
          "new_contributors": 2,
          "user": [
           "minrk",
           "mogthesprog",
           "prasadkatti",
           "sudipto84goswami",
           "uday2002",
           "willingc",
           "yuvipanda"
          ]
         },
         {
          "cumulative": 141,
          "date": "2017-07-09T00:00:00",
          "new_contributors": 0,
          "user": [
           "mogthesprog",
           "parente",
           "ryanlovett",
           "yuvipanda"
          ]
         },
         {
          "cumulative": 145,
          "date": "2017-07-16T00:00:00",
          "new_contributors": 4,
          "user": [
           "alexanderhaensch",
           "dhirschfeld",
           "evandam",
           "minrk",
           "mogthesprog",
           "pgeez",
           "stanleyxu2005",
           "willingc",
           "yuvipanda",
           "zsluedem"
          ]
         },
         {
          "cumulative": 148,
          "date": "2017-07-23T00:00:00",
          "new_contributors": 3,
          "user": [
           "Carreau",
           "choldgraf",
           "cloutiertyler",
           "dannybusch",
           "dhirschfeld",
           "minrk",
           "pgeez",
           "ryanlovett",
           "willingc",
           "yuvipanda",
           "zsluedem"
          ]
         },
         {
          "cumulative": 150,
          "date": "2017-07-30T00:00:00",
          "new_contributors": 2,
          "user": [
           "Carreau",
           "lesiano",
           "minrk",
           "ssanderson",
           "tritemio",
           "willingc",
           "yuvipanda",
           "zsluedem"
          ]
         },
         {
          "cumulative": 153,
          "date": "2017-08-06T00:00:00",
          "new_contributors": 3,
          "user": [
           "alivcor",
           "deisi",
           "minrk",
           "njsmith",
           "willingc",
           "yuvipanda"
          ]
         },
         {
          "cumulative": 156,
          "date": "2017-08-13T00:00:00",
          "new_contributors": 3,
          "user": [
           "athornton",
           "choldgraf",
           "davidXire",
           "deisi",
           "jonny86",
           "minrk",
           "uttamkumar123",
           "willingc",
           "yuvipanda",
           "zsluedem"
          ]
         },
         {
          "cumulative": 158,
          "date": "2017-08-20T00:00:00",
          "new_contributors": 2,
          "user": [
           "DeepHorizons",
           "FalseProtagonist",
           "deisi",
           "minrk",
           "willingc"
          ]
         },
         {
          "cumulative": 160,
          "date": "2017-08-27T00:00:00",
          "new_contributors": 2,
          "user": [
           "DeepHorizons",
           "calz1",
           "davidXire",
           "dhirschfeld",
           "hynek2001",
           "minrk",
           "willingc",
           "yuvipanda"
          ]
         },
         {
          "cumulative": 162,
          "date": "2017-09-03T00:00:00",
          "new_contributors": 2,
          "user": [
           "dramaley",
           "dsblank",
           "hani1814",
           "krak3nnn",
           "matteoipri",
           "minrk",
           "willingc",
           "yuvipanda"
          ]
         },
         {
          "cumulative": 164,
          "date": "2017-09-10T00:00:00",
          "new_contributors": 2,
          "user": [
           "Carreau",
           "DeepHorizons",
           "arnome",
           "choldgraf",
           "ckbhatt",
           "dmvieira",
           "dramaley",
           "dsblank",
           "krak3nnn",
           "minrk",
           "willingc",
           "yuvipanda"
          ]
         },
         {
          "cumulative": 165,
          "date": "2017-09-17T00:00:00",
          "new_contributors": 1,
          "user": [
           "Analect",
           "Carreau",
           "cloutiertyler",
           "dramaley",
           "minrk",
           "tjcrone",
           "uttamkumar123",
           "willingc",
           "yuvipanda",
           "ziedbouf"
          ]
         },
         {
          "cumulative": 169,
          "date": "2017-09-24T00:00:00",
          "new_contributors": 4,
          "user": [
           "Analect",
           "DeepHorizons",
           "athornton",
           "dlsun",
           "dramaley",
           "inkrement",
           "minrk",
           "tgmachina",
           "willingc",
           "yoryicopo",
           "yuvipanda"
          ]
         },
         {
          "cumulative": 175,
          "date": "2017-10-01T00:00:00",
          "new_contributors": 6,
          "user": [
           "Carreau",
           "KhoaLeTea",
           "Siecje",
           "astrodb",
           "danfike",
           "dclong",
           "dhirschfeld",
           "dramaley",
           "evanlinde",
           "ktong",
           "lbiemans",
           "minrk",
           "mrunmayeejog",
           "willingc",
           "yuvipanda"
          ]
         },
         {
          "cumulative": 179,
          "date": "2017-10-08T00:00:00",
          "new_contributors": 4,
          "user": [
           "DeepHorizons",
           "ZelphirKaltstahl",
           "colingoldberg",
           "ihleonard-c3",
           "jm2004",
           "ktong",
           "lbiemans",
           "minrk",
           "mmchougule",
           "ryanlovett",
           "willingc"
          ]
         },
         {
          "cumulative": 181,
          "date": "2017-10-15T00:00:00",
          "new_contributors": 2,
          "user": [
           "DeepHorizons",
           "harschware",
           "ihleonard-c3",
           "minrk",
           "vhp1360",
           "willingc",
           "yuvipanda",
           "zonca"
          ]
         },
         {
          "cumulative": 182,
          "date": "2017-10-22T00:00:00",
          "new_contributors": 1,
          "user": [
           "ZelphirKaltstahl",
           "katsar0v",
           "lachlancampbell",
           "mariusvniekerk",
           "yuvipanda"
          ]
         },
         {
          "cumulative": 182,
          "date": "2017-10-29T00:00:00",
          "new_contributors": 0,
          "user": [
           "matteoipri",
           "minrk",
           "yuvipanda"
          ]
         },
         {
          "cumulative": 184,
          "date": "2017-11-05T00:00:00",
          "new_contributors": 2,
          "user": [
           "DeepHorizons",
           "dclong",
           "dsblank",
           "fenderrex",
           "ianabc",
           "jeroenvuurens",
           "minrk",
           "yuvipanda"
          ]
         },
         {
          "cumulative": 190,
          "date": "2017-11-12T00:00:00",
          "new_contributors": 6,
          "user": [
           "akhmerov",
           "bbrauns",
           "betatim",
           "camilo-nunez",
           "dclong",
           "dmceballosg",
           "ghost",
           "hani1814",
           "ktong",
           "minrk",
           "ssackett",
           "uday2002",
           "willingc",
           "yuvipanda"
          ]
         },
         {
          "cumulative": 192,
          "date": "2017-11-19T00:00:00",
          "new_contributors": 2,
          "user": [
           "akhmerov",
           "betatim",
           "brianray",
           "choldgraf",
           "ellisonbg",
           "katsar0v",
           "mariusvniekerk",
           "minrk",
           "psyvision",
           "takluyver",
           "vilhelmen",
           "willingc",
           "yuvipanda"
          ]
         },
         {
          "cumulative": 193,
          "date": "2017-11-26T00:00:00",
          "new_contributors": 1,
          "user": [
           "Carreau",
           "betatim",
           "choldgraf",
           "dclong",
           "ellisonbg",
           "jzf2101",
           "minrk",
           "psyvision",
           "willingc",
           "ziedbouf"
          ]
         },
         {
          "cumulative": 194,
          "date": "2017-12-03T00:00:00",
          "new_contributors": 1,
          "user": [
           "Andy-Doddington",
           "choldgraf",
           "danielballan",
           "katsar0v",
           "lbiemans",
           "minrk",
           "willingc"
          ]
         },
         {
          "cumulative": 199,
          "date": "2017-12-10T00:00:00",
          "new_contributors": 5,
          "user": [
           "Analect",
           "ArvinSiChuan",
           "Winterflower",
           "ankitml",
           "choldgraf",
           "dhirschfeld",
           "gaorongchao",
           "minrk",
           "ppLorins",
           "psyvision",
           "willingc",
           "yuvipanda",
           "ziedbouf"
          ]
         },
         {
          "cumulative": 202,
          "date": "2017-12-17T00:00:00",
          "new_contributors": 3,
          "user": [
           "Carreau",
           "Siecje",
           "ghost",
           "ixjlyons",
           "minrk",
           "rcthomas",
           "willingc",
           "yocode",
           "yuvipanda"
          ]
         },
         {
          "cumulative": 204,
          "date": "2017-12-24T00:00:00",
          "new_contributors": 2,
          "user": [
           "Analect",
           "minrk",
           "prabhu1984",
           "psyvision",
           "satendrakumar",
           "sigurdurb",
           "willingc",
           "yuvipanda"
          ]
         },
         {
          "cumulative": 205,
          "date": "2017-12-31T00:00:00",
          "new_contributors": 1,
          "user": [
           "TapasSpark",
           "ppLorins",
           "prabhu1984",
           "satendrakumar",
           "willingc"
          ]
         },
         {
          "cumulative": 208,
          "date": "2018-01-07T00:00:00",
          "new_contributors": 3,
          "user": [
           "ellisonbg",
           "kingaj12",
           "minrk",
           "ormskirk77",
           "rschroll",
           "sigurdurb",
           "willingc"
          ]
         },
         {
          "cumulative": 210,
          "date": "2018-01-14T00:00:00",
          "new_contributors": 2,
          "user": [
           "ellisonbg",
           "ghost",
           "jm2004",
           "minrk",
           "sangramga",
           "whositwhatnow",
           "willingc",
           "yuvipanda",
           "zonca"
          ]
         },
         {
          "cumulative": 211,
          "date": "2018-01-21T00:00:00",
          "new_contributors": 1,
          "user": [
           "ZelphirKaltstahl",
           "betatim",
           "ckbhatt",
           "ellisonbg",
           "jonny86",
           "karthikpitchaimani",
           "lbiemans",
           "sangramga",
           "sigurdurb",
           "whositwhatnow",
           "willingc",
           "yuvipanda"
          ]
         },
         {
          "cumulative": 212,
          "date": "2018-01-28T00:00:00",
          "new_contributors": 1,
          "user": [
           "MaximMoinat",
           "ckbhatt",
           "ellisonbg",
           "katsar0v",
           "minrk",
           "willingc",
           "yuvipanda"
          ]
         },
         {
          "cumulative": 213,
          "date": "2018-02-04T00:00:00",
          "new_contributors": 1,
          "user": [
           "katsar0v",
           "minrk",
           "rschroll",
           "sigurdurb",
           "willingc",
           "yuanzhou",
           "yuvipanda"
          ]
         },
         {
          "cumulative": 216,
          "date": "2018-02-11T00:00:00",
          "new_contributors": 3,
          "user": [
           "MalinAan",
           "choldgraf",
           "minrk",
           "mpacer",
           "ndandanov",
           "rschroll",
           "willingc",
           "yuvipanda"
          ]
         },
         {
          "cumulative": 219,
          "date": "2018-02-18T00:00:00",
          "new_contributors": 3,
          "user": [
           "AnirudhVyas",
           "Siecje",
           "betatim",
           "brospars",
           "dhirschfeld",
           "holms",
           "minrk",
           "rschroll",
           "tgmachina",
           "yuvipanda"
          ]
         },
         {
          "cumulative": 222,
          "date": "2018-02-25T00:00:00",
          "new_contributors": 3,
          "user": [
           "DanHoerst",
           "Siecje",
           "dado0583",
           "javin-gn",
           "minrk",
           "rschroll",
           "yuvipanda"
          ]
         },
         {
          "cumulative": 226,
          "date": "2018-03-04T00:00:00",
          "new_contributors": 4,
          "user": [
           "TimKreuzer",
           "athornton",
           "betatim",
           "brospars",
           "consideRatio",
           "emmanuel",
           "javin-gn",
           "minrk",
           "umar-sik",
           "willingc",
           "yuvipanda"
          ]
         },
         {
          "cumulative": 228,
          "date": "2018-03-11T00:00:00",
          "new_contributors": 2,
          "user": [
           "chack05",
           "choldgraf",
           "ghost",
           "ichasepucks",
           "minrk",
           "mpacer",
           "ryanlovett",
           "takluyver",
           "willingc",
           "yuvipanda"
          ]
         },
         {
          "cumulative": 229,
          "date": "2018-03-18T00:00:00",
          "new_contributors": 1,
          "user": [
           "betatim",
           "glenak1911",
           "ichasepucks",
           "minrk",
           "willingc",
           "yuvipanda"
          ]
         },
         {
          "cumulative": 232,
          "date": "2018-03-25T00:00:00",
          "new_contributors": 3,
          "user": [
           "betatim",
           "ernestmartinez",
           "evandam",
           "farassadek",
           "minrk",
           "summerswallow",
           "vilhelmen"
          ]
         },
         {
          "cumulative": 234,
          "date": "2018-04-01T00:00:00",
          "new_contributors": 2,
          "user": [
           "SofianeB",
           "betatim",
           "glenak1911",
           "johnbotsis",
           "justkar4u",
           "minrk",
           "summerswallow",
           "willingc"
          ]
         },
         {
          "cumulative": 239,
          "date": "2018-04-08T00:00:00",
          "new_contributors": 5,
          "user": [
           "ArvinSiChuan",
           "PandaWhoCodes",
           "betatim",
           "brospars",
           "clkao",
           "consideRatio",
           "dhirschfeld",
           "elgalu",
           "liuzhliang",
           "minrk",
           "mpacer",
           "tritemio",
           "willingc",
           "ynnelson"
          ]
         },
         {
          "cumulative": 240,
          "date": "2018-04-15T00:00:00",
          "new_contributors": 1,
          "user": [
           "ArvinSiChuan",
           "Srinivasb0",
           "betatim",
           "clkao",
           "consideRatio",
           "dhirschfeld",
           "elgalu",
           "minrk",
           "rcthomas",
           "ryanlovett",
           "sangramga",
           "willingc"
          ]
         },
         {
          "cumulative": 241,
          "date": "2018-04-22T00:00:00",
          "new_contributors": 1,
          "user": [
           "clkao",
           "consideRatio",
           "dhirschfeld",
           "johnbotsis",
           "minrk",
           "ogre0403",
           "sigurdurb",
           "willingc",
           "yuvipanda"
          ]
         },
         {
          "cumulative": 247,
          "date": "2018-04-29T00:00:00",
          "new_contributors": 6,
          "user": [
           "SofianeB",
           "betatim",
           "choldgraf",
           "gsemet",
           "harmon",
           "minrk",
           "mohanamurali7",
           "ranjitiyer",
           "rkdarst",
           "whitebluecloud",
           "willingc"
          ]
         },
         {
          "cumulative": 250,
          "date": "2018-05-06T00:00:00",
          "new_contributors": 3,
          "user": [
           "akhmerov",
           "betatim",
           "davidedelvento",
           "elgalu",
           "manics",
           "mbmilligan",
           "minrk",
           "ranjitiyer",
           "rkdarst",
           "tgeorgeux",
           "willingc"
          ]
         },
         {
          "cumulative": 254,
          "date": "2018-05-13T00:00:00",
          "new_contributors": 4,
          "user": [
           "betatim",
           "dhirschfeld",
           "echarles",
           "gsemet",
           "gweis",
           "ichasepucks",
           "minrk",
           "nikolayvoronchikhin",
           "rkdarst",
           "ssanderson",
           "summerswallow-whi",
           "willingc"
          ]
         },
         {
          "cumulative": 260,
          "date": "2018-05-20T00:00:00",
          "new_contributors": 6,
          "user": [
           "adelcast",
           "anasos",
           "andybrnr",
           "betatim",
           "dhirschfeld",
           "mak-aravind",
           "minrk",
           "mrocklin",
           "rschroll",
           "serlina",
           "ssanderson",
           "summerswallow-whi",
           "willingc"
          ]
         },
         {
          "cumulative": 262,
          "date": "2018-05-27T00:00:00",
          "new_contributors": 2,
          "user": [
           "Winterflower",
           "adelcast",
           "betatim",
           "chicocvenancio",
           "dhirschfeld",
           "mak-aravind",
           "minrk",
           "pranayhasan",
           "rkdarst",
           "summerswallow",
           "summerswallow-whi",
           "tgmachina",
           "willingc"
          ]
         },
         {
          "cumulative": 264,
          "date": "2018-06-03T00:00:00",
          "new_contributors": 2,
          "user": [
           "betatim",
           "chicocvenancio",
           "elgalu",
           "ermakovpetr",
           "minrk",
           "rkdarst",
           "sangramga",
           "sarath145p",
           "zsluedem"
          ]
         },
         {
          "cumulative": 269,
          "date": "2018-06-10T00:00:00",
          "new_contributors": 5,
          "user": [
           "GrahamDumpleton",
           "SeaDude",
           "betatim",
           "brospars",
           "chicocvenancio",
           "jingsong-liu",
           "krinsman",
           "minrk",
           "rcthomas",
           "rkdarst",
           "rueberger",
           "sarath145p",
           "willingc"
          ]
         },
         {
          "cumulative": 271,
          "date": "2018-06-17T00:00:00",
          "new_contributors": 2,
          "user": [
           "CordThomas",
           "chicocvenancio",
           "danielrychel",
           "dhirschfeld",
           "krinsman",
           "minrk",
           "rcthomas",
           "rkdarst",
           "willingc"
          ]
         },
         {
          "cumulative": 272,
          "date": "2018-06-24T00:00:00",
          "new_contributors": 1,
          "user": [
           "CordThomas",
           "betatim",
           "chicocvenancio",
           "choldgraf",
           "clkao",
           "maryamdev",
           "minrk",
           "rkdarst",
           "serlina",
           "tgeorgeux",
           "willingc"
          ]
         },
         {
          "cumulative": 275,
          "date": "2018-07-01T00:00:00",
          "new_contributors": 3,
          "user": [
           "CordThomas",
           "GrahamDumpleton",
           "betatim",
           "chicocvenancio",
           "choldgraf",
           "clkao",
           "consideRatio",
           "hansen-m",
           "minrk",
           "rkdarst",
           "sdesrozis",
           "stephenpascoe",
           "willingc"
          ]
         },
         {
          "cumulative": 275,
          "date": "2018-07-08T00:00:00",
          "new_contributors": 0,
          "user": [
           "adelcast",
           "betatim",
           "dhirschfeld",
           "hani1814",
           "maryamdev",
           "minrk",
           "ryanlovett",
           "stephenpascoe",
           "willingc",
           "yuvipanda",
           "zoltan-fedor"
          ]
         },
         {
          "cumulative": 276,
          "date": "2018-07-15T00:00:00",
          "new_contributors": 1,
          "user": [
           "adelcast",
           "consideRatio",
           "minrk",
           "nauhpc",
           "rkdarst",
           "willingc",
           "yuvipanda"
          ]
         },
         {
          "cumulative": 277,
          "date": "2018-07-22T00:00:00",
          "new_contributors": 1,
          "user": [
           "betatim",
           "minrk",
           "spouyllau"
          ]
         },
         {
          "cumulative": 280,
          "date": "2018-07-29T00:00:00",
          "new_contributors": 3,
          "user": [
           "Carreau",
           "Cas-pian",
           "CordThomas",
           "adelcast",
           "arokem",
           "betatim",
           "consideRatio",
           "dhirschfeld",
           "katsar0v",
           "krinsman",
           "minrk",
           "satendrakumar",
           "sougou",
           "tgmachina",
           "willingc",
           "yuvipanda"
          ]
         },
         {
          "cumulative": 284,
          "date": "2018-08-05T00:00:00",
          "new_contributors": 4,
          "user": [
           "Cas-pian",
           "JPUnD",
           "betatim",
           "consideRatio",
           "dhirschfeld",
           "fahadabbas91",
           "gedankenstuecke",
           "krinsman",
           "merlin1608",
           "minrk",
           "rcthomas",
           "ryanlovett",
           "sougou",
           "willingc"
          ]
         },
         {
          "cumulative": 285,
          "date": "2018-08-12T00:00:00",
          "new_contributors": 1,
          "user": [
           "TapasSpark",
           "consideRatio",
           "hanbeibei",
           "minrk",
           "tgmachina",
           "willingc"
          ]
         },
         {
          "cumulative": 287,
          "date": "2018-08-19T00:00:00",
          "new_contributors": 2,
          "user": [
           "krinsman",
           "mbuffat",
           "minrk",
           "sc250024",
           "willingc"
          ]
         },
         {
          "cumulative": 292,
          "date": "2018-08-26T00:00:00",
          "new_contributors": 5,
          "user": [
           "akhilputhiry",
           "cmseal",
           "consideRatio",
           "danielrychel",
           "forbxy",
           "guillaumeeb",
           "krinsman",
           "mikehamer",
           "minrk",
           "ryanlovett",
           "willingc",
           "yuvipanda"
          ]
         },
         {
          "cumulative": 298,
          "date": "2018-09-02T00:00:00",
          "new_contributors": 6,
          "user": [
           "GrahamDumpleton",
           "guillaumeeb",
           "h4gen",
           "jlsimms",
           "mdivk",
           "minrk",
           "nethsix",
           "rcthomas",
           "srican",
           "willingc",
           "yuvipanda",
           "zmkhazi"
          ]
         },
         {
          "cumulative": 304,
          "date": "2018-09-09T00:00:00",
          "new_contributors": 6,
          "user": [
           "Carreau",
           "SivaMaplelabs",
           "Zsailer",
           "amangarg96",
           "bellackn",
           "betatim",
           "chaoyue729",
           "dhirschfeld",
           "ellisonbg",
           "jhermann",
           "krinsman",
           "mdivk",
           "minrk",
           "willingc",
           "yuvipanda"
          ]
         },
         {
          "cumulative": 305,
          "date": "2018-09-16T00:00:00",
          "new_contributors": 1,
          "user": [
           "Guo-Zhang",
           "SivaMaplelabs",
           "Zsailer",
           "betatim",
           "blink1073",
           "cmseal",
           "jhermann",
           "krinsman",
           "mdivk",
           "minrk",
           "tgmachina",
           "willingc"
          ]
         },
         {
          "cumulative": 311,
          "date": "2018-09-23T00:00:00",
          "new_contributors": 6,
          "user": [
           "Jamesits",
           "SivaMaplelabs",
           "ThibTrip",
           "betatim",
           "consideRatio",
           "cristofercri",
           "fahadabbas91",
           "glenak1911",
           "lucasdurand",
           "martinzugnoni",
           "mdivk",
           "minrk",
           "sc250024",
           "smoulderme",
           "willingc",
           "yuvipanda"
          ]
         },
         {
          "cumulative": 314,
          "date": "2018-09-30T00:00:00",
          "new_contributors": 3,
          "user": [
           "KGHustad",
           "attardi",
           "betatim",
           "choldgraf",
           "consideRatio",
           "mdivk",
           "minrk",
           "parente",
           "rkdarst",
           "ryanlovett",
           "rzuidhof",
           "tgmachina",
           "whositwhatnow",
           "willingc",
           "yuvipanda",
           "zmkhazi"
          ]
         },
         {
          "cumulative": 318,
          "date": "2018-10-07T00:00:00",
          "new_contributors": 4,
          "user": [
           "GeorgianaElena",
           "Siecje",
           "bitnik",
           "consideRatio",
           "dhirschfeld",
           "kshitija08",
           "mdivk",
           "minrk",
           "rkdarst",
           "ryanlovett",
           "tgmachina",
           "tuhina2020",
           "willingc",
           "yuvipanda",
           "zmkhazi"
          ]
         },
         {
          "cumulative": 322,
          "date": "2018-10-14T00:00:00",
          "new_contributors": 4,
          "user": [
           "betatim",
           "dmvieira",
           "ellisonbg",
           "jmatuskey",
           "ltalirz",
           "michec81",
           "minrk",
           "thongnnguyen",
           "tuhina2020",
           "vilhelmen",
           "willingc"
          ]
         },
         {
          "cumulative": 325,
          "date": "2018-10-21T00:00:00",
          "new_contributors": 3,
          "user": [
           "2efPer",
           "betatim",
           "consideRatio",
           "djknight1",
           "katsar0v",
           "minrk",
           "sidebo",
           "sigurdurb",
           "tgmachina",
           "tuhina2020",
           "vilhelmen"
          ]
         },
         {
          "cumulative": 329,
          "date": "2018-10-28T00:00:00",
          "new_contributors": 4,
          "user": [
           "AcademicAdmin",
           "DataVictorEngineer",
           "Paperone80",
           "akhilputhiry",
           "ellisonbg",
           "kshitija08",
           "minrk",
           "ssword",
           "vbraun",
           "vilhelmen"
          ]
         },
         {
          "cumulative": 331,
          "date": "2018-11-04T00:00:00",
          "new_contributors": 2,
          "user": [
           "AcademicAdmin",
           "akhilputhiry",
           "dkipping",
           "elgalu",
           "jingsong-liu",
           "markm42",
           "minrk",
           "vilhelmen"
          ]
         },
         {
          "cumulative": 332,
          "date": "2018-11-11T00:00:00",
          "new_contributors": 1,
          "user": [
           "clkao",
           "dkipping",
           "eran-pinhas",
           "gsemet",
           "katsar0v",
           "kshitija08",
           "minrk",
           "robnagler",
           "ryanlovett",
           "vilhelmen",
           "willingc",
           "yuvipanda"
          ]
         },
         {
          "cumulative": 333,
          "date": "2018-11-18T00:00:00",
          "new_contributors": 1,
          "user": [
           "DataVictorEngineer",
           "SeaDude",
           "Zsailer",
           "adelcast",
           "betatim",
           "choldgraf",
           "clkao",
           "eran-pinhas",
           "kshitija08",
           "minrk",
           "robnagler",
           "tony-tian",
           "vilhelmen",
           "zmkhazi"
          ]
         },
         {
          "cumulative": 336,
          "date": "2018-11-25T00:00:00",
          "new_contributors": 3,
          "user": [
           "abremirata28",
           "akhilputhiry",
           "amangarg96",
           "betatim",
           "gweis",
           "minrk",
           "msmarchena",
           "spiketren",
           "yuvipanda"
          ]
         },
         {
          "cumulative": 338,
          "date": "2018-12-02T00:00:00",
          "new_contributors": 2,
          "user": [
           "YborBorn",
           "akhilputhiry",
           "dkipping",
           "gweis",
           "joergklein",
           "mbmilligan",
           "minrk",
           "vilhelmen",
           "zmkhazi"
          ]
         },
         {
          "cumulative": 339,
          "date": "2018-12-09T00:00:00",
          "new_contributors": 1,
          "user": [
           "adelcast",
           "akhilputhiry",
           "betatim",
           "consideRatio",
           "dsblank",
           "katsar0v",
           "minrk",
           "phxedmond",
           "rcthomas",
           "ryanlovett",
           "vilhelmen"
          ]
         },
         {
          "cumulative": 340,
          "date": "2018-12-16T00:00:00",
          "new_contributors": 1,
          "user": [
           "akhilputhiry",
           "eode",
           "minrk"
          ]
         },
         {
          "cumulative": 342,
          "date": "2018-12-23T00:00:00",
          "new_contributors": 2,
          "user": [
           "00Kai0",
           "adelcast",
           "consideRatio",
           "davidedelvento",
           "gabefair",
           "minrk"
          ]
         },
         {
          "cumulative": 343,
          "date": "2018-12-30T00:00:00",
          "new_contributors": 1,
          "user": [
           "clkao",
           "rollbackchen",
           "yuvipanda"
          ]
         },
         {
          "cumulative": 343,
          "date": "2019-01-06T00:00:00",
          "new_contributors": 0,
          "user": [
           "minrk"
          ]
         },
         {
          "cumulative": 345,
          "date": "2019-01-13T00:00:00",
          "new_contributors": 2,
          "user": [
           "dtaniwaki",
           "minrk",
           "myidealab",
           "vilhelmen"
          ]
         },
         {
          "cumulative": 345,
          "date": "2019-01-20T00:00:00",
          "new_contributors": 0,
          "user": [
           "dtaniwaki",
           "mdivk",
           "minrk",
           "myidealab"
          ]
         },
         {
          "cumulative": 346,
          "date": "2019-01-27T00:00:00",
          "new_contributors": 1,
          "user": [
           "consideRatio",
           "marinalopez2110",
           "willingc"
          ]
         },
         {
          "cumulative": 349,
          "date": "2019-02-03T00:00:00",
          "new_contributors": 3,
          "user": [
           "00Kai0",
           "Zsailer",
           "choldgraf",
           "consideRatio",
           "feriat",
           "ibre5041",
           "minrk",
           "oscar6echo",
           "rkdarst",
           "whositwhatnow",
           "willingc"
          ]
         },
         {
          "cumulative": 349,
          "date": "2019-02-10T00:00:00",
          "new_contributors": 0,
          "user": [
           "Zsailer"
          ]
         },
         {
          "cumulative": 351,
          "date": "2019-02-17T00:00:00",
          "new_contributors": 2,
          "user": [
           "1kastner",
           "Zsailer",
           "betatim",
           "clkao",
           "consideRatio",
           "dhirschfeld",
           "lbiemans",
           "minrk",
           "williamstein"
          ]
         }
        ]
       },
       "encoding": {
        "x": {
         "field": "date",
         "type": "temporal"
        },
        "y": {
         "field": "cumulative",
         "type": "quantitative"
        }
       },
       "mark": "line",
       "width": 500
      },
      "text/plain": [
       "<VegaLite 2 object>\n",
       "\n",
       "If you see this message, it means the renderer has not been properly enabled\n",
       "for the frontend that you are using. For more information, see\n",
       "https://altair-viz.github.io/user_guide/troubleshooting.html\n"
      ]
     },
     "execution_count": 12,
     "metadata": {},
     "output_type": "execute_result"
    }
   ],
   "source": [
    "line = alt.Chart(data=unique.reset_index(), width=500).mark_line().encode(x='date', y='cumulative')\n",
    "line"
   ]
  },
  {
   "cell_type": "markdown",
   "metadata": {
    "papermill": {
     "duration": 0.043331,
     "end_time": "2019-02-14T22:40:47.795780",
     "exception": false,
     "start_time": "2019-02-14T22:40:47.752449",
     "status": "completed"
    },
    "tags": []
   },
   "source": [
    "## Comment activity over time"
   ]
  },
  {
   "cell_type": "code",
   "execution_count": 13,
   "metadata": {
    "papermill": {
     "duration": 0.058791,
     "end_time": "2019-02-14T22:40:47.898949",
     "exception": false,
     "start_time": "2019-02-14T22:40:47.840158",
     "status": "completed"
    },
    "tags": []
   },
   "outputs": [],
   "source": [
    "# Select the users we'll plot\n",
    "user_data = weekly.groupby(['user', 'date']).sum().reset_index('user')\n",
    "total_users = user_data.groupby('user')['comments'].sum()\n",
    "plt_users = total_users.sort_values(ascending=False)[:plot_N].index\n",
    "user_data = user_data.query(\"user in @plt_users\")\n",
    "\n",
    "# Drop empty dates\n",
    "user_data = user_data[user_data.sum(1) != 0]"
   ]
  },
  {
   "cell_type": "code",
   "execution_count": 14,
   "metadata": {
    "papermill": {
     "duration": 0.252154,
     "end_time": "2019-02-14T22:40:48.192567",
     "exception": false,
     "start_time": "2019-02-14T22:40:47.940413",
     "status": "completed"
    },
    "tags": []
   },
   "outputs": [
    {
     "data": {
      "application/vnd.vegalite.v2+json": {
       "$schema": "https://vega.github.io/schema/vega-lite/v2.6.0.json",
       "config": {
        "view": {
         "height": 300,
         "width": 400
        }
       },
       "datasets": {
        "data-a09ec5278385864fad3f8f0acdff0c8c": [
         {
          "comments": 1.5,
          "date": "2016-01-17T00:00:00",
          "user": "Carreau"
         },
         {
          "comments": 1.0,
          "date": "2016-01-31T00:00:00",
          "user": "Carreau"
         },
         {
          "comments": 1.0,
          "date": "2016-02-28T00:00:00",
          "user": "Carreau"
         },
         {
          "comments": 2.0,
          "date": "2016-03-06T00:00:00",
          "user": "Carreau"
         },
         {
          "comments": 4.0,
          "date": "2016-03-13T00:00:00",
          "user": "Carreau"
         },
         {
          "comments": 3.0,
          "date": "2016-04-03T00:00:00",
          "user": "Carreau"
         },
         {
          "comments": 1.0,
          "date": "2016-04-17T00:00:00",
          "user": "Carreau"
         },
         {
          "comments": 1.0,
          "date": "2016-06-19T00:00:00",
          "user": "Carreau"
         },
         {
          "comments": 1.0,
          "date": "2016-07-03T00:00:00",
          "user": "Carreau"
         },
         {
          "comments": 1.0,
          "date": "2016-10-30T00:00:00",
          "user": "Carreau"
         },
         {
          "comments": 1.0,
          "date": "2017-07-23T00:00:00",
          "user": "Carreau"
         },
         {
          "comments": 3.5,
          "date": "2017-07-30T00:00:00",
          "user": "Carreau"
         },
         {
          "comments": 3.5,
          "date": "2017-09-10T00:00:00",
          "user": "Carreau"
         },
         {
          "comments": 3.0,
          "date": "2017-09-17T00:00:00",
          "user": "Carreau"
         },
         {
          "comments": 4.0,
          "date": "2017-10-01T00:00:00",
          "user": "Carreau"
         },
         {
          "comments": 3.5,
          "date": "2017-11-26T00:00:00",
          "user": "Carreau"
         },
         {
          "comments": 2.5,
          "date": "2017-12-17T00:00:00",
          "user": "Carreau"
         },
         {
          "comments": 1.5,
          "date": "2018-07-29T00:00:00",
          "user": "Carreau"
         },
         {
          "comments": 1.5,
          "date": "2018-09-09T00:00:00",
          "user": "Carreau"
         },
         {
          "comments": 1.5,
          "date": "2017-01-08T00:00:00",
          "user": "barrachri"
         },
         {
          "comments": 4.0,
          "date": "2017-01-15T00:00:00",
          "user": "barrachri"
         },
         {
          "comments": 4.5,
          "date": "2017-01-22T00:00:00",
          "user": "barrachri"
         },
         {
          "comments": 2.0,
          "date": "2017-02-12T00:00:00",
          "user": "barrachri"
         },
         {
          "comments": 3.5,
          "date": "2017-02-26T00:00:00",
          "user": "barrachri"
         },
         {
          "comments": 5.0,
          "date": "2017-03-05T00:00:00",
          "user": "barrachri"
         },
         {
          "comments": 3.5,
          "date": "2017-03-12T00:00:00",
          "user": "barrachri"
         },
         {
          "comments": 3.0,
          "date": "2017-03-19T00:00:00",
          "user": "barrachri"
         },
         {
          "comments": 3.0,
          "date": "2017-03-26T00:00:00",
          "user": "barrachri"
         },
         {
          "comments": 2.0,
          "date": "2017-04-16T00:00:00",
          "user": "barrachri"
         },
         {
          "comments": 1.5,
          "date": "2017-04-23T00:00:00",
          "user": "barrachri"
         },
         {
          "comments": 1.0,
          "date": "2017-05-07T00:00:00",
          "user": "barrachri"
         },
         {
          "comments": 1.0,
          "date": "2016-01-17T00:00:00",
          "user": "betatim"
         },
         {
          "comments": 1.5,
          "date": "2016-02-28T00:00:00",
          "user": "betatim"
         },
         {
          "comments": 2.0,
          "date": "2016-03-06T00:00:00",
          "user": "betatim"
         },
         {
          "comments": 1.5,
          "date": "2016-03-13T00:00:00",
          "user": "betatim"
         },
         {
          "comments": 1.0,
          "date": "2016-03-20T00:00:00",
          "user": "betatim"
         },
         {
          "comments": 1.0,
          "date": "2016-03-27T00:00:00",
          "user": "betatim"
         },
         {
          "comments": 1.0,
          "date": "2017-04-30T00:00:00",
          "user": "betatim"
         },
         {
          "comments": 1.0,
          "date": "2017-05-07T00:00:00",
          "user": "betatim"
         },
         {
          "comments": 1.0,
          "date": "2017-11-12T00:00:00",
          "user": "betatim"
         },
         {
          "comments": 1.0,
          "date": "2017-11-19T00:00:00",
          "user": "betatim"
         },
         {
          "comments": 1.5,
          "date": "2017-11-26T00:00:00",
          "user": "betatim"
         },
         {
          "comments": 1.5,
          "date": "2018-01-21T00:00:00",
          "user": "betatim"
         },
         {
          "comments": 1.0,
          "date": "2018-02-18T00:00:00",
          "user": "betatim"
         },
         {
          "comments": 1.5,
          "date": "2018-03-04T00:00:00",
          "user": "betatim"
         },
         {
          "comments": 3.0,
          "date": "2018-03-18T00:00:00",
          "user": "betatim"
         },
         {
          "comments": 3.5,
          "date": "2018-03-25T00:00:00",
          "user": "betatim"
         },
         {
          "comments": 4.5,
          "date": "2018-04-01T00:00:00",
          "user": "betatim"
         },
         {
          "comments": 4.5,
          "date": "2018-04-08T00:00:00",
          "user": "betatim"
         },
         {
          "comments": 2.0,
          "date": "2018-04-15T00:00:00",
          "user": "betatim"
         },
         {
          "comments": 1.5,
          "date": "2018-04-29T00:00:00",
          "user": "betatim"
         },
         {
          "comments": 2.5,
          "date": "2018-05-06T00:00:00",
          "user": "betatim"
         },
         {
          "comments": 2.0,
          "date": "2018-05-13T00:00:00",
          "user": "betatim"
         },
         {
          "comments": 2.0,
          "date": "2018-05-20T00:00:00",
          "user": "betatim"
         },
         {
          "comments": 3.0,
          "date": "2018-05-27T00:00:00",
          "user": "betatim"
         },
         {
          "comments": 2.5,
          "date": "2018-06-03T00:00:00",
          "user": "betatim"
         },
         {
          "comments": 2.5,
          "date": "2018-06-10T00:00:00",
          "user": "betatim"
         },
         {
          "comments": 3.0,
          "date": "2018-06-24T00:00:00",
          "user": "betatim"
         },
         {
          "comments": 3.0,
          "date": "2018-07-01T00:00:00",
          "user": "betatim"
         },
         {
          "comments": 3.0,
          "date": "2018-07-08T00:00:00",
          "user": "betatim"
         },
         {
          "comments": 2.0,
          "date": "2018-07-22T00:00:00",
          "user": "betatim"
         },
         {
          "comments": 2.0,
          "date": "2018-07-29T00:00:00",
          "user": "betatim"
         },
         {
          "comments": 2.5,
          "date": "2018-08-05T00:00:00",
          "user": "betatim"
         },
         {
          "comments": 1.5,
          "date": "2018-09-09T00:00:00",
          "user": "betatim"
         },
         {
          "comments": 2.0,
          "date": "2018-09-16T00:00:00",
          "user": "betatim"
         },
         {
          "comments": 2.5,
          "date": "2018-09-23T00:00:00",
          "user": "betatim"
         },
         {
          "comments": 2.0,
          "date": "2018-09-30T00:00:00",
          "user": "betatim"
         },
         {
          "comments": 2.0,
          "date": "2018-10-14T00:00:00",
          "user": "betatim"
         },
         {
          "comments": 2.5,
          "date": "2018-10-21T00:00:00",
          "user": "betatim"
         },
         {
          "comments": 2.0,
          "date": "2018-11-18T00:00:00",
          "user": "betatim"
         },
         {
          "comments": 1.5,
          "date": "2018-11-25T00:00:00",
          "user": "betatim"
         },
         {
          "comments": 2.5,
          "date": "2018-12-09T00:00:00",
          "user": "betatim"
         },
         {
          "comments": 2.0,
          "date": "2019-02-17T00:00:00",
          "user": "betatim"
         },
         {
          "comments": 2.0,
          "date": "2017-07-23T00:00:00",
          "user": "choldgraf"
         },
         {
          "comments": 2.0,
          "date": "2017-08-13T00:00:00",
          "user": "choldgraf"
         },
         {
          "comments": 1.0,
          "date": "2017-09-10T00:00:00",
          "user": "choldgraf"
         },
         {
          "comments": 1.5,
          "date": "2017-11-19T00:00:00",
          "user": "choldgraf"
         },
         {
          "comments": 4.0,
          "date": "2017-11-26T00:00:00",
          "user": "choldgraf"
         },
         {
          "comments": 3.5,
          "date": "2017-12-03T00:00:00",
          "user": "choldgraf"
         },
         {
          "comments": 1.5,
          "date": "2017-12-10T00:00:00",
          "user": "choldgraf"
         },
         {
          "comments": 1.5,
          "date": "2018-02-11T00:00:00",
          "user": "choldgraf"
         },
         {
          "comments": 1.5,
          "date": "2018-03-11T00:00:00",
          "user": "choldgraf"
         },
         {
          "comments": 1.5,
          "date": "2018-04-29T00:00:00",
          "user": "choldgraf"
         },
         {
          "comments": 1.0,
          "date": "2018-06-24T00:00:00",
          "user": "choldgraf"
         },
         {
          "comments": 1.0,
          "date": "2018-07-01T00:00:00",
          "user": "choldgraf"
         },
         {
          "comments": 1.0,
          "date": "2018-09-30T00:00:00",
          "user": "choldgraf"
         },
         {
          "comments": 1.0,
          "date": "2018-11-18T00:00:00",
          "user": "choldgraf"
         },
         {
          "comments": 1.5,
          "date": "2019-02-03T00:00:00",
          "user": "choldgraf"
         },
         {
          "comments": 1.0,
          "date": "2018-03-04T00:00:00",
          "user": "consideRatio"
         },
         {
          "comments": 1.5,
          "date": "2018-04-08T00:00:00",
          "user": "consideRatio"
         },
         {
          "comments": 8.0,
          "date": "2018-04-15T00:00:00",
          "user": "consideRatio"
         },
         {
          "comments": 7.5,
          "date": "2018-04-22T00:00:00",
          "user": "consideRatio"
         },
         {
          "comments": 3.0,
          "date": "2018-07-01T00:00:00",
          "user": "consideRatio"
         },
         {
          "comments": 3.0,
          "date": "2018-07-15T00:00:00",
          "user": "consideRatio"
         },
         {
          "comments": 1.5,
          "date": "2018-07-29T00:00:00",
          "user": "consideRatio"
         },
         {
          "comments": 2.0,
          "date": "2018-08-05T00:00:00",
          "user": "consideRatio"
         },
         {
          "comments": 3.0,
          "date": "2018-08-12T00:00:00",
          "user": "consideRatio"
         },
         {
          "comments": 3.0,
          "date": "2018-08-26T00:00:00",
          "user": "consideRatio"
         },
         {
          "comments": 2.5,
          "date": "2018-09-23T00:00:00",
          "user": "consideRatio"
         },
         {
          "comments": 3.0,
          "date": "2018-09-30T00:00:00",
          "user": "consideRatio"
         },
         {
          "comments": 3.5,
          "date": "2018-10-07T00:00:00",
          "user": "consideRatio"
         },
         {
          "comments": 2.5,
          "date": "2018-10-21T00:00:00",
          "user": "consideRatio"
         },
         {
          "comments": 1.5,
          "date": "2018-12-09T00:00:00",
          "user": "consideRatio"
         },
         {
          "comments": 1.5,
          "date": "2018-12-23T00:00:00",
          "user": "consideRatio"
         },
         {
          "comments": 2.0,
          "date": "2019-01-27T00:00:00",
          "user": "consideRatio"
         },
         {
          "comments": 2.0,
          "date": "2019-02-03T00:00:00",
          "user": "consideRatio"
         },
         {
          "comments": 6.0,
          "date": "2019-02-17T00:00:00",
          "user": "consideRatio"
         },
         {
          "comments": 5.5,
          "date": "2017-06-04T00:00:00",
          "user": "dhirschfeld"
         },
         {
          "comments": 4.0,
          "date": "2017-07-16T00:00:00",
          "user": "dhirschfeld"
         },
         {
          "comments": 6.0,
          "date": "2017-07-23T00:00:00",
          "user": "dhirschfeld"
         },
         {
          "comments": 6.0,
          "date": "2017-08-27T00:00:00",
          "user": "dhirschfeld"
         },
         {
          "comments": 7.5,
          "date": "2017-10-01T00:00:00",
          "user": "dhirschfeld"
         },
         {
          "comments": 5.0,
          "date": "2017-12-10T00:00:00",
          "user": "dhirschfeld"
         },
         {
          "comments": 1.0,
          "date": "2018-02-18T00:00:00",
          "user": "dhirschfeld"
         },
         {
          "comments": 2.0,
          "date": "2018-04-08T00:00:00",
          "user": "dhirschfeld"
         },
         {
          "comments": 3.0,
          "date": "2018-04-15T00:00:00",
          "user": "dhirschfeld"
         },
         {
          "comments": 4.0,
          "date": "2018-04-22T00:00:00",
          "user": "dhirschfeld"
         },
         {
          "comments": 9.0,
          "date": "2018-05-13T00:00:00",
          "user": "dhirschfeld"
         },
         {
          "comments": 9.0,
          "date": "2018-05-20T00:00:00",
          "user": "dhirschfeld"
         },
         {
          "comments": 3.0,
          "date": "2018-05-27T00:00:00",
          "user": "dhirschfeld"
         },
         {
          "comments": 2.0,
          "date": "2018-06-17T00:00:00",
          "user": "dhirschfeld"
         },
         {
          "comments": 2.5,
          "date": "2018-07-08T00:00:00",
          "user": "dhirschfeld"
         },
         {
          "comments": 2.0,
          "date": "2018-07-29T00:00:00",
          "user": "dhirschfeld"
         },
         {
          "comments": 1.5,
          "date": "2018-08-05T00:00:00",
          "user": "dhirschfeld"
         },
         {
          "comments": 1.0,
          "date": "2018-09-09T00:00:00",
          "user": "dhirschfeld"
         },
         {
          "comments": 1.5,
          "date": "2018-10-07T00:00:00",
          "user": "dhirschfeld"
         },
         {
          "comments": 1.5,
          "date": "2019-02-17T00:00:00",
          "user": "dhirschfeld"
         },
         {
          "comments": 1.0,
          "date": "2016-01-17T00:00:00",
          "user": "ellisonbg"
         },
         {
          "comments": 6.0,
          "date": "2017-01-08T00:00:00",
          "user": "ellisonbg"
         },
         {
          "comments": 7.0,
          "date": "2017-01-15T00:00:00",
          "user": "ellisonbg"
         },
         {
          "comments": 2.5,
          "date": "2017-02-05T00:00:00",
          "user": "ellisonbg"
         },
         {
          "comments": 1.5,
          "date": "2017-02-12T00:00:00",
          "user": "ellisonbg"
         },
         {
          "comments": 1.0,
          "date": "2017-02-19T00:00:00",
          "user": "ellisonbg"
         },
         {
          "comments": 1.0,
          "date": "2017-05-07T00:00:00",
          "user": "ellisonbg"
         },
         {
          "comments": 1.5,
          "date": "2017-05-28T00:00:00",
          "user": "ellisonbg"
         },
         {
          "comments": 2.0,
          "date": "2017-11-19T00:00:00",
          "user": "ellisonbg"
         },
         {
          "comments": 2.0,
          "date": "2017-11-26T00:00:00",
          "user": "ellisonbg"
         },
         {
          "comments": 1.5,
          "date": "2018-01-07T00:00:00",
          "user": "ellisonbg"
         },
         {
          "comments": 4.0,
          "date": "2018-01-14T00:00:00",
          "user": "ellisonbg"
         },
         {
          "comments": 4.5,
          "date": "2018-01-21T00:00:00",
          "user": "ellisonbg"
         },
         {
          "comments": 2.0,
          "date": "2018-01-28T00:00:00",
          "user": "ellisonbg"
         },
         {
          "comments": 1.5,
          "date": "2018-09-09T00:00:00",
          "user": "ellisonbg"
         },
         {
          "comments": 1.0,
          "date": "2018-10-14T00:00:00",
          "user": "ellisonbg"
         },
         {
          "comments": 1.0,
          "date": "2018-10-28T00:00:00",
          "user": "ellisonbg"
         },
         {
          "comments": 4.0,
          "date": "2016-09-11T00:00:00",
          "user": "jai11"
         },
         {
          "comments": 4.0,
          "date": "2016-09-18T00:00:00",
          "user": "jai11"
         },
         {
          "comments": 1.0,
          "date": "2016-09-25T00:00:00",
          "user": "jai11"
         },
         {
          "comments": 1.0,
          "date": "2016-10-02T00:00:00",
          "user": "jai11"
         },
         {
          "comments": 4.5,
          "date": "2016-10-09T00:00:00",
          "user": "jai11"
         },
         {
          "comments": 5.0,
          "date": "2017-02-12T00:00:00",
          "user": "jai11"
         },
         {
          "comments": 1.5,
          "date": "2017-02-19T00:00:00",
          "user": "jai11"
         },
         {
          "comments": 1.0,
          "date": "2017-04-02T00:00:00",
          "user": "jai11"
         },
         {
          "comments": 5.0,
          "date": "2016-09-04T00:00:00",
          "user": "katsar0v"
         },
         {
          "comments": 1.0,
          "date": "2016-09-25T00:00:00",
          "user": "katsar0v"
         },
         {
          "comments": 1.0,
          "date": "2017-10-22T00:00:00",
          "user": "katsar0v"
         },
         {
          "comments": 1.0,
          "date": "2017-11-19T00:00:00",
          "user": "katsar0v"
         },
         {
          "comments": 1.0,
          "date": "2017-12-03T00:00:00",
          "user": "katsar0v"
         },
         {
          "comments": 1.0,
          "date": "2018-01-28T00:00:00",
          "user": "katsar0v"
         },
         {
          "comments": 1.0,
          "date": "2018-02-04T00:00:00",
          "user": "katsar0v"
         },
         {
          "comments": 1.0,
          "date": "2018-07-29T00:00:00",
          "user": "katsar0v"
         },
         {
          "comments": 1.0,
          "date": "2018-10-21T00:00:00",
          "user": "katsar0v"
         },
         {
          "comments": 3.0,
          "date": "2018-11-11T00:00:00",
          "user": "katsar0v"
         },
         {
          "comments": 3.0,
          "date": "2018-12-09T00:00:00",
          "user": "katsar0v"
         },
         {
          "comments": 2.0,
          "date": "2018-06-10T00:00:00",
          "user": "krinsman"
         },
         {
          "comments": 4.5,
          "date": "2018-06-17T00:00:00",
          "user": "krinsman"
         },
         {
          "comments": 3.5,
          "date": "2018-07-29T00:00:00",
          "user": "krinsman"
         },
         {
          "comments": 3.5,
          "date": "2018-08-05T00:00:00",
          "user": "krinsman"
         },
         {
          "comments": 4.5,
          "date": "2018-08-19T00:00:00",
          "user": "krinsman"
         },
         {
          "comments": 3.5,
          "date": "2018-08-26T00:00:00",
          "user": "krinsman"
         },
         {
          "comments": 2.5,
          "date": "2018-09-09T00:00:00",
          "user": "krinsman"
         },
         {
          "comments": 1.0,
          "date": "2018-09-16T00:00:00",
          "user": "krinsman"
         },
         {
          "comments": 5.0,
          "date": "2018-09-02T00:00:00",
          "user": "mdivk"
         },
         {
          "comments": 6.0,
          "date": "2018-09-09T00:00:00",
          "user": "mdivk"
         },
         {
          "comments": 3.5,
          "date": "2018-09-16T00:00:00",
          "user": "mdivk"
         },
         {
          "comments": 4.5,
          "date": "2018-09-23T00:00:00",
          "user": "mdivk"
         },
         {
          "comments": 3.0,
          "date": "2018-09-30T00:00:00",
          "user": "mdivk"
         },
         {
          "comments": 2.0,
          "date": "2018-10-07T00:00:00",
          "user": "mdivk"
         },
         {
          "comments": 2.5,
          "date": "2019-01-20T00:00:00",
          "user": "mdivk"
         },
         {
          "comments": 16.5,
          "date": "2016-01-17T00:00:00",
          "user": "minrk"
         },
         {
          "comments": 15.5,
          "date": "2016-01-24T00:00:00",
          "user": "minrk"
         },
         {
          "comments": 11.5,
          "date": "2016-01-31T00:00:00",
          "user": "minrk"
         },
         {
          "comments": 15.5,
          "date": "2016-02-07T00:00:00",
          "user": "minrk"
         },
         {
          "comments": 18.0,
          "date": "2016-02-14T00:00:00",
          "user": "minrk"
         },
         {
          "comments": 13.0,
          "date": "2016-02-21T00:00:00",
          "user": "minrk"
         },
         {
          "comments": 10.0,
          "date": "2016-02-28T00:00:00",
          "user": "minrk"
         },
         {
          "comments": 13.5,
          "date": "2016-03-06T00:00:00",
          "user": "minrk"
         },
         {
          "comments": 22.0,
          "date": "2016-03-13T00:00:00",
          "user": "minrk"
         },
         {
          "comments": 15.0,
          "date": "2016-03-20T00:00:00",
          "user": "minrk"
         },
         {
          "comments": 8.0,
          "date": "2016-03-27T00:00:00",
          "user": "minrk"
         },
         {
          "comments": 10.5,
          "date": "2016-04-03T00:00:00",
          "user": "minrk"
         },
         {
          "comments": 6.0,
          "date": "2016-04-10T00:00:00",
          "user": "minrk"
         },
         {
          "comments": 14.5,
          "date": "2016-04-17T00:00:00",
          "user": "minrk"
         },
         {
          "comments": 31.5,
          "date": "2016-04-24T00:00:00",
          "user": "minrk"
         },
         {
          "comments": 24.0,
          "date": "2016-05-01T00:00:00",
          "user": "minrk"
         },
         {
          "comments": 8.5,
          "date": "2016-05-08T00:00:00",
          "user": "minrk"
         },
         {
          "comments": 11.0,
          "date": "2016-05-15T00:00:00",
          "user": "minrk"
         },
         {
          "comments": 11.5,
          "date": "2016-05-22T00:00:00",
          "user": "minrk"
         },
         {
          "comments": 9.0,
          "date": "2016-05-29T00:00:00",
          "user": "minrk"
         },
         {
          "comments": 13.5,
          "date": "2016-06-05T00:00:00",
          "user": "minrk"
         },
         {
          "comments": 15.5,
          "date": "2016-06-12T00:00:00",
          "user": "minrk"
         },
         {
          "comments": 8.0,
          "date": "2016-06-19T00:00:00",
          "user": "minrk"
         },
         {
          "comments": 4.5,
          "date": "2016-06-26T00:00:00",
          "user": "minrk"
         },
         {
          "comments": 6.0,
          "date": "2016-07-03T00:00:00",
          "user": "minrk"
         },
         {
          "comments": 6.0,
          "date": "2016-07-10T00:00:00",
          "user": "minrk"
         },
         {
          "comments": 5.0,
          "date": "2016-07-17T00:00:00",
          "user": "minrk"
         },
         {
          "comments": 5.0,
          "date": "2016-07-24T00:00:00",
          "user": "minrk"
         },
         {
          "comments": 9.5,
          "date": "2016-07-31T00:00:00",
          "user": "minrk"
         },
         {
          "comments": 13.5,
          "date": "2016-08-07T00:00:00",
          "user": "minrk"
         },
         {
          "comments": 12.0,
          "date": "2016-08-14T00:00:00",
          "user": "minrk"
         },
         {
          "comments": 6.5,
          "date": "2016-08-21T00:00:00",
          "user": "minrk"
         },
         {
          "comments": 10.0,
          "date": "2016-08-28T00:00:00",
          "user": "minrk"
         },
         {
          "comments": 16.0,
          "date": "2016-09-04T00:00:00",
          "user": "minrk"
         },
         {
          "comments": 20.5,
          "date": "2016-09-11T00:00:00",
          "user": "minrk"
         },
         {
          "comments": 21.0,
          "date": "2016-09-18T00:00:00",
          "user": "minrk"
         },
         {
          "comments": 17.5,
          "date": "2016-09-25T00:00:00",
          "user": "minrk"
         },
         {
          "comments": 13.0,
          "date": "2016-10-02T00:00:00",
          "user": "minrk"
         },
         {
          "comments": 13.5,
          "date": "2016-10-09T00:00:00",
          "user": "minrk"
         },
         {
          "comments": 17.0,
          "date": "2016-10-16T00:00:00",
          "user": "minrk"
         },
         {
          "comments": 10.0,
          "date": "2016-10-23T00:00:00",
          "user": "minrk"
         },
         {
          "comments": 8.5,
          "date": "2016-10-30T00:00:00",
          "user": "minrk"
         },
         {
          "comments": 9.0,
          "date": "2016-11-06T00:00:00",
          "user": "minrk"
         },
         {
          "comments": 9.0,
          "date": "2016-11-13T00:00:00",
          "user": "minrk"
         },
         {
          "comments": 13.0,
          "date": "2016-11-20T00:00:00",
          "user": "minrk"
         },
         {
          "comments": 11.0,
          "date": "2016-11-27T00:00:00",
          "user": "minrk"
         },
         {
          "comments": 6.5,
          "date": "2016-12-04T00:00:00",
          "user": "minrk"
         },
         {
          "comments": 9.0,
          "date": "2016-12-11T00:00:00",
          "user": "minrk"
         },
         {
          "comments": 8.5,
          "date": "2016-12-18T00:00:00",
          "user": "minrk"
         },
         {
          "comments": 11.0,
          "date": "2016-12-25T00:00:00",
          "user": "minrk"
         },
         {
          "comments": 17.0,
          "date": "2017-01-08T00:00:00",
          "user": "minrk"
         },
         {
          "comments": 17.5,
          "date": "2017-01-15T00:00:00",
          "user": "minrk"
         },
         {
          "comments": 13.5,
          "date": "2017-01-22T00:00:00",
          "user": "minrk"
         },
         {
          "comments": 9.5,
          "date": "2017-01-29T00:00:00",
          "user": "minrk"
         },
         {
          "comments": 7.5,
          "date": "2017-02-05T00:00:00",
          "user": "minrk"
         },
         {
          "comments": 7.5,
          "date": "2017-02-12T00:00:00",
          "user": "minrk"
         },
         {
          "comments": 11.0,
          "date": "2017-02-19T00:00:00",
          "user": "minrk"
         },
         {
          "comments": 10.0,
          "date": "2017-02-26T00:00:00",
          "user": "minrk"
         },
         {
          "comments": 11.0,
          "date": "2017-03-05T00:00:00",
          "user": "minrk"
         },
         {
          "comments": 10.5,
          "date": "2017-03-12T00:00:00",
          "user": "minrk"
         },
         {
          "comments": 8.5,
          "date": "2017-03-19T00:00:00",
          "user": "minrk"
         },
         {
          "comments": 10.0,
          "date": "2017-03-26T00:00:00",
          "user": "minrk"
         },
         {
          "comments": 11.0,
          "date": "2017-04-02T00:00:00",
          "user": "minrk"
         },
         {
          "comments": 15.0,
          "date": "2017-04-09T00:00:00",
          "user": "minrk"
         },
         {
          "comments": 12.0,
          "date": "2017-04-16T00:00:00",
          "user": "minrk"
         },
         {
          "comments": 14.0,
          "date": "2017-04-23T00:00:00",
          "user": "minrk"
         },
         {
          "comments": 13.5,
          "date": "2017-04-30T00:00:00",
          "user": "minrk"
         },
         {
          "comments": 13.0,
          "date": "2017-05-07T00:00:00",
          "user": "minrk"
         },
         {
          "comments": 11.5,
          "date": "2017-05-14T00:00:00",
          "user": "minrk"
         },
         {
          "comments": 3.5,
          "date": "2017-05-21T00:00:00",
          "user": "minrk"
         },
         {
          "comments": 7.0,
          "date": "2017-05-28T00:00:00",
          "user": "minrk"
         },
         {
          "comments": 4.5,
          "date": "2017-06-04T00:00:00",
          "user": "minrk"
         },
         {
          "comments": 7.0,
          "date": "2017-06-11T00:00:00",
          "user": "minrk"
         },
         {
          "comments": 8.5,
          "date": "2017-06-18T00:00:00",
          "user": "minrk"
         },
         {
          "comments": 8.0,
          "date": "2017-06-25T00:00:00",
          "user": "minrk"
         },
         {
          "comments": 10.0,
          "date": "2017-07-02T00:00:00",
          "user": "minrk"
         },
         {
          "comments": 13.5,
          "date": "2017-07-16T00:00:00",
          "user": "minrk"
         },
         {
          "comments": 19.0,
          "date": "2017-07-23T00:00:00",
          "user": "minrk"
         },
         {
          "comments": 19.0,
          "date": "2017-07-30T00:00:00",
          "user": "minrk"
         },
         {
          "comments": 19.0,
          "date": "2017-08-06T00:00:00",
          "user": "minrk"
         },
         {
          "comments": 19.0,
          "date": "2017-08-13T00:00:00",
          "user": "minrk"
         },
         {
          "comments": 15.0,
          "date": "2017-08-20T00:00:00",
          "user": "minrk"
         },
         {
          "comments": 12.0,
          "date": "2017-08-27T00:00:00",
          "user": "minrk"
         },
         {
          "comments": 9.0,
          "date": "2017-09-03T00:00:00",
          "user": "minrk"
         },
         {
          "comments": 19.0,
          "date": "2017-09-10T00:00:00",
          "user": "minrk"
         },
         {
          "comments": 23.0,
          "date": "2017-09-17T00:00:00",
          "user": "minrk"
         },
         {
          "comments": 15.0,
          "date": "2017-09-24T00:00:00",
          "user": "minrk"
         },
         {
          "comments": 16.5,
          "date": "2017-10-01T00:00:00",
          "user": "minrk"
         },
         {
          "comments": 13.0,
          "date": "2017-10-08T00:00:00",
          "user": "minrk"
         },
         {
          "comments": 12.0,
          "date": "2017-10-15T00:00:00",
          "user": "minrk"
         },
         {
          "comments": 8.5,
          "date": "2017-10-29T00:00:00",
          "user": "minrk"
         },
         {
          "comments": 8.0,
          "date": "2017-11-05T00:00:00",
          "user": "minrk"
         },
         {
          "comments": 12.5,
          "date": "2017-11-12T00:00:00",
          "user": "minrk"
         },
         {
          "comments": 10.0,
          "date": "2017-11-19T00:00:00",
          "user": "minrk"
         },
         {
          "comments": 9.0,
          "date": "2017-11-26T00:00:00",
          "user": "minrk"
         },
         {
          "comments": 6.0,
          "date": "2017-12-03T00:00:00",
          "user": "minrk"
         },
         {
          "comments": 9.5,
          "date": "2017-12-10T00:00:00",
          "user": "minrk"
         },
         {
          "comments": 11.5,
          "date": "2017-12-17T00:00:00",
          "user": "minrk"
         },
         {
          "comments": 6.0,
          "date": "2017-12-24T00:00:00",
          "user": "minrk"
         },
         {
          "comments": 8.5,
          "date": "2018-01-07T00:00:00",
          "user": "minrk"
         },
         {
          "comments": 7.5,
          "date": "2018-01-14T00:00:00",
          "user": "minrk"
         },
         {
          "comments": 5.0,
          "date": "2018-01-28T00:00:00",
          "user": "minrk"
         },
         {
          "comments": 9.5,
          "date": "2018-02-04T00:00:00",
          "user": "minrk"
         },
         {
          "comments": 12.5,
          "date": "2018-02-11T00:00:00",
          "user": "minrk"
         },
         {
          "comments": 16.5,
          "date": "2018-02-18T00:00:00",
          "user": "minrk"
         },
         {
          "comments": 17.0,
          "date": "2018-02-25T00:00:00",
          "user": "minrk"
         },
         {
          "comments": 16.0,
          "date": "2018-03-04T00:00:00",
          "user": "minrk"
         },
         {
          "comments": 10.5,
          "date": "2018-03-11T00:00:00",
          "user": "minrk"
         },
         {
          "comments": 4.5,
          "date": "2018-03-18T00:00:00",
          "user": "minrk"
         },
         {
          "comments": 18.5,
          "date": "2018-03-25T00:00:00",
          "user": "minrk"
         },
         {
          "comments": 18.0,
          "date": "2018-04-01T00:00:00",
          "user": "minrk"
         },
         {
          "comments": 6.5,
          "date": "2018-04-08T00:00:00",
          "user": "minrk"
         },
         {
          "comments": 19.0,
          "date": "2018-04-15T00:00:00",
          "user": "minrk"
         },
         {
          "comments": 24.0,
          "date": "2018-04-22T00:00:00",
          "user": "minrk"
         },
         {
          "comments": 18.5,
          "date": "2018-04-29T00:00:00",
          "user": "minrk"
         },
         {
          "comments": 22.5,
          "date": "2018-05-06T00:00:00",
          "user": "minrk"
         },
         {
          "comments": 22.5,
          "date": "2018-05-13T00:00:00",
          "user": "minrk"
         },
         {
          "comments": 18.0,
          "date": "2018-05-20T00:00:00",
          "user": "minrk"
         },
         {
          "comments": 18.0,
          "date": "2018-05-27T00:00:00",
          "user": "minrk"
         },
         {
          "comments": 17.5,
          "date": "2018-06-03T00:00:00",
          "user": "minrk"
         },
         {
          "comments": 13.0,
          "date": "2018-06-10T00:00:00",
          "user": "minrk"
         },
         {
          "comments": 19.5,
          "date": "2018-06-17T00:00:00",
          "user": "minrk"
         },
         {
          "comments": 22.5,
          "date": "2018-06-24T00:00:00",
          "user": "minrk"
         },
         {
          "comments": 11.5,
          "date": "2018-07-01T00:00:00",
          "user": "minrk"
         },
         {
          "comments": 8.0,
          "date": "2018-07-08T00:00:00",
          "user": "minrk"
         },
         {
          "comments": 7.5,
          "date": "2018-07-15T00:00:00",
          "user": "minrk"
         },
         {
          "comments": 3.5,
          "date": "2018-07-22T00:00:00",
          "user": "minrk"
         },
         {
          "comments": 2.0,
          "date": "2018-07-29T00:00:00",
          "user": "minrk"
         },
         {
          "comments": 4.0,
          "date": "2018-08-05T00:00:00",
          "user": "minrk"
         },
         {
          "comments": 4.5,
          "date": "2018-08-12T00:00:00",
          "user": "minrk"
         },
         {
          "comments": 5.5,
          "date": "2018-08-19T00:00:00",
          "user": "minrk"
         },
         {
          "comments": 8.0,
          "date": "2018-08-26T00:00:00",
          "user": "minrk"
         },
         {
          "comments": 6.0,
          "date": "2018-09-02T00:00:00",
          "user": "minrk"
         },
         {
          "comments": 5.0,
          "date": "2018-09-09T00:00:00",
          "user": "minrk"
         },
         {
          "comments": 10.0,
          "date": "2018-09-16T00:00:00",
          "user": "minrk"
         },
         {
          "comments": 14.0,
          "date": "2018-09-23T00:00:00",
          "user": "minrk"
         },
         {
          "comments": 17.5,
          "date": "2018-09-30T00:00:00",
          "user": "minrk"
         },
         {
          "comments": 19.5,
          "date": "2018-10-07T00:00:00",
          "user": "minrk"
         },
         {
          "comments": 11.0,
          "date": "2018-10-14T00:00:00",
          "user": "minrk"
         },
         {
          "comments": 7.5,
          "date": "2018-10-21T00:00:00",
          "user": "minrk"
         },
         {
          "comments": 10.5,
          "date": "2018-10-28T00:00:00",
          "user": "minrk"
         },
         {
          "comments": 5.5,
          "date": "2018-11-04T00:00:00",
          "user": "minrk"
         },
         {
          "comments": 11.5,
          "date": "2018-11-11T00:00:00",
          "user": "minrk"
         },
         {
          "comments": 20.5,
          "date": "2018-11-18T00:00:00",
          "user": "minrk"
         },
         {
          "comments": 25.5,
          "date": "2018-11-25T00:00:00",
          "user": "minrk"
         },
         {
          "comments": 18.5,
          "date": "2018-12-02T00:00:00",
          "user": "minrk"
         },
         {
          "comments": 13.5,
          "date": "2018-12-09T00:00:00",
          "user": "minrk"
         },
         {
          "comments": 15.0,
          "date": "2018-12-16T00:00:00",
          "user": "minrk"
         },
         {
          "comments": 6.0,
          "date": "2018-12-23T00:00:00",
          "user": "minrk"
         },
         {
          "comments": 3.0,
          "date": "2019-01-06T00:00:00",
          "user": "minrk"
         },
         {
          "comments": 2.0,
          "date": "2019-01-13T00:00:00",
          "user": "minrk"
         },
         {
          "comments": 4.0,
          "date": "2019-01-20T00:00:00",
          "user": "minrk"
         },
         {
          "comments": 4.5,
          "date": "2019-02-03T00:00:00",
          "user": "minrk"
         },
         {
          "comments": 14.5,
          "date": "2019-02-17T00:00:00",
          "user": "minrk"
         },
         {
          "comments": 1.0,
          "date": "2016-08-21T00:00:00",
          "user": "parente"
         },
         {
          "comments": 2.0,
          "date": "2016-09-04T00:00:00",
          "user": "parente"
         },
         {
          "comments": 2.0,
          "date": "2016-09-11T00:00:00",
          "user": "parente"
         },
         {
          "comments": 1.0,
          "date": "2016-10-02T00:00:00",
          "user": "parente"
         },
         {
          "comments": 1.5,
          "date": "2016-10-30T00:00:00",
          "user": "parente"
         },
         {
          "comments": 2.0,
          "date": "2016-11-06T00:00:00",
          "user": "parente"
         },
         {
          "comments": 8.5,
          "date": "2016-11-13T00:00:00",
          "user": "parente"
         },
         {
          "comments": 10.0,
          "date": "2016-11-20T00:00:00",
          "user": "parente"
         },
         {
          "comments": 4.0,
          "date": "2016-11-27T00:00:00",
          "user": "parente"
         },
         {
          "comments": 6.0,
          "date": "2016-12-04T00:00:00",
          "user": "parente"
         },
         {
          "comments": 5.0,
          "date": "2016-12-25T00:00:00",
          "user": "parente"
         },
         {
          "comments": 1.5,
          "date": "2017-04-02T00:00:00",
          "user": "parente"
         },
         {
          "comments": 2.5,
          "date": "2017-04-23T00:00:00",
          "user": "parente"
         },
         {
          "comments": 2.0,
          "date": "2017-05-07T00:00:00",
          "user": "parente"
         },
         {
          "comments": 1.5,
          "date": "2017-05-21T00:00:00",
          "user": "parente"
         },
         {
          "comments": 1.5,
          "date": "2017-05-28T00:00:00",
          "user": "parente"
         },
         {
          "comments": 1.5,
          "date": "2017-06-04T00:00:00",
          "user": "parente"
         },
         {
          "comments": 1.5,
          "date": "2017-07-09T00:00:00",
          "user": "parente"
         },
         {
          "comments": 1.0,
          "date": "2018-09-30T00:00:00",
          "user": "parente"
         },
         {
          "comments": 3.5,
          "date": "2016-02-07T00:00:00",
          "user": "rgbkrk"
         },
         {
          "comments": 1.5,
          "date": "2016-02-14T00:00:00",
          "user": "rgbkrk"
         },
         {
          "comments": 3.5,
          "date": "2016-02-21T00:00:00",
          "user": "rgbkrk"
         },
         {
          "comments": 7.0,
          "date": "2016-02-28T00:00:00",
          "user": "rgbkrk"
         },
         {
          "comments": 4.5,
          "date": "2016-03-06T00:00:00",
          "user": "rgbkrk"
         },
         {
          "comments": 1.0,
          "date": "2016-04-10T00:00:00",
          "user": "rgbkrk"
         },
         {
          "comments": 1.5,
          "date": "2016-04-24T00:00:00",
          "user": "rgbkrk"
         },
         {
          "comments": 1.5,
          "date": "2016-05-01T00:00:00",
          "user": "rgbkrk"
         },
         {
          "comments": 1.0,
          "date": "2016-05-22T00:00:00",
          "user": "rgbkrk"
         },
         {
          "comments": 1.0,
          "date": "2016-05-29T00:00:00",
          "user": "rgbkrk"
         },
         {
          "comments": 1.0,
          "date": "2016-06-05T00:00:00",
          "user": "rgbkrk"
         },
         {
          "comments": 1.0,
          "date": "2016-08-07T00:00:00",
          "user": "rgbkrk"
         },
         {
          "comments": 1.5,
          "date": "2016-09-04T00:00:00",
          "user": "rgbkrk"
         },
         {
          "comments": 3.0,
          "date": "2017-03-12T00:00:00",
          "user": "rgbkrk"
         },
         {
          "comments": 5.0,
          "date": "2018-04-29T00:00:00",
          "user": "rkdarst"
         },
         {
          "comments": 4.0,
          "date": "2018-05-06T00:00:00",
          "user": "rkdarst"
         },
         {
          "comments": 1.0,
          "date": "2018-05-13T00:00:00",
          "user": "rkdarst"
         },
         {
          "comments": 4.5,
          "date": "2018-05-27T00:00:00",
          "user": "rkdarst"
         },
         {
          "comments": 5.0,
          "date": "2018-06-03T00:00:00",
          "user": "rkdarst"
         },
         {
          "comments": 2.0,
          "date": "2018-06-10T00:00:00",
          "user": "rkdarst"
         },
         {
          "comments": 2.0,
          "date": "2018-06-17T00:00:00",
          "user": "rkdarst"
         },
         {
          "comments": 2.5,
          "date": "2018-06-24T00:00:00",
          "user": "rkdarst"
         },
         {
          "comments": 2.5,
          "date": "2018-07-01T00:00:00",
          "user": "rkdarst"
         },
         {
          "comments": 1.5,
          "date": "2018-07-15T00:00:00",
          "user": "rkdarst"
         },
         {
          "comments": 1.0,
          "date": "2018-09-30T00:00:00",
          "user": "rkdarst"
         },
         {
          "comments": 1.0,
          "date": "2018-10-07T00:00:00",
          "user": "rkdarst"
         },
         {
          "comments": 1.5,
          "date": "2019-02-03T00:00:00",
          "user": "rkdarst"
         },
         {
          "comments": 1.5,
          "date": "2016-02-28T00:00:00",
          "user": "ryanlovett"
         },
         {
          "comments": 1.5,
          "date": "2016-03-06T00:00:00",
          "user": "ryanlovett"
         },
         {
          "comments": 1.5,
          "date": "2016-05-15T00:00:00",
          "user": "ryanlovett"
         },
         {
          "comments": 2.0,
          "date": "2016-05-22T00:00:00",
          "user": "ryanlovett"
         },
         {
          "comments": 2.0,
          "date": "2016-08-28T00:00:00",
          "user": "ryanlovett"
         },
         {
          "comments": 1.0,
          "date": "2016-09-25T00:00:00",
          "user": "ryanlovett"
         },
         {
          "comments": 1.0,
          "date": "2017-01-22T00:00:00",
          "user": "ryanlovett"
         },
         {
          "comments": 1.0,
          "date": "2017-02-26T00:00:00",
          "user": "ryanlovett"
         },
         {
          "comments": 2.0,
          "date": "2017-04-02T00:00:00",
          "user": "ryanlovett"
         },
         {
          "comments": 2.5,
          "date": "2017-06-25T00:00:00",
          "user": "ryanlovett"
         },
         {
          "comments": 1.5,
          "date": "2017-07-09T00:00:00",
          "user": "ryanlovett"
         },
         {
          "comments": 1.0,
          "date": "2017-07-23T00:00:00",
          "user": "ryanlovett"
         },
         {
          "comments": 1.0,
          "date": "2017-10-08T00:00:00",
          "user": "ryanlovett"
         },
         {
          "comments": 1.0,
          "date": "2018-03-11T00:00:00",
          "user": "ryanlovett"
         },
         {
          "comments": 1.5,
          "date": "2018-04-15T00:00:00",
          "user": "ryanlovett"
         },
         {
          "comments": 1.5,
          "date": "2018-07-08T00:00:00",
          "user": "ryanlovett"
         },
         {
          "comments": 2.5,
          "date": "2018-08-05T00:00:00",
          "user": "ryanlovett"
         },
         {
          "comments": 3.5,
          "date": "2018-08-26T00:00:00",
          "user": "ryanlovett"
         },
         {
          "comments": 2.0,
          "date": "2018-09-30T00:00:00",
          "user": "ryanlovett"
         },
         {
          "comments": 1.5,
          "date": "2018-10-07T00:00:00",
          "user": "ryanlovett"
         },
         {
          "comments": 3.0,
          "date": "2018-11-11T00:00:00",
          "user": "ryanlovett"
         },
         {
          "comments": 2.5,
          "date": "2018-12-09T00:00:00",
          "user": "ryanlovett"
         },
         {
          "comments": 1.0,
          "date": "2016-08-07T00:00:00",
          "user": "vilhelmen"
         },
         {
          "comments": 1.0,
          "date": "2017-11-19T00:00:00",
          "user": "vilhelmen"
         },
         {
          "comments": 1.5,
          "date": "2018-03-25T00:00:00",
          "user": "vilhelmen"
         },
         {
          "comments": 2.0,
          "date": "2018-10-14T00:00:00",
          "user": "vilhelmen"
         },
         {
          "comments": 2.5,
          "date": "2018-10-21T00:00:00",
          "user": "vilhelmen"
         },
         {
          "comments": 3.5,
          "date": "2018-10-28T00:00:00",
          "user": "vilhelmen"
         },
         {
          "comments": 2.5,
          "date": "2018-11-04T00:00:00",
          "user": "vilhelmen"
         },
         {
          "comments": 1.0,
          "date": "2018-11-11T00:00:00",
          "user": "vilhelmen"
         },
         {
          "comments": 1.5,
          "date": "2018-11-18T00:00:00",
          "user": "vilhelmen"
         },
         {
          "comments": 1.5,
          "date": "2018-12-02T00:00:00",
          "user": "vilhelmen"
         },
         {
          "comments": 1.0,
          "date": "2018-12-09T00:00:00",
          "user": "vilhelmen"
         },
         {
          "comments": 1.0,
          "date": "2019-01-13T00:00:00",
          "user": "vilhelmen"
         },
         {
          "comments": 2.5,
          "date": "2016-01-10T00:00:00",
          "user": "willingc"
         },
         {
          "comments": 7.0,
          "date": "2016-01-17T00:00:00",
          "user": "willingc"
         },
         {
          "comments": 6.0,
          "date": "2016-01-24T00:00:00",
          "user": "willingc"
         },
         {
          "comments": 3.5,
          "date": "2016-02-07T00:00:00",
          "user": "willingc"
         },
         {
          "comments": 5.5,
          "date": "2016-02-14T00:00:00",
          "user": "willingc"
         },
         {
          "comments": 4.5,
          "date": "2016-02-21T00:00:00",
          "user": "willingc"
         },
         {
          "comments": 2.0,
          "date": "2016-02-28T00:00:00",
          "user": "willingc"
         },
         {
          "comments": 4.0,
          "date": "2016-03-06T00:00:00",
          "user": "willingc"
         },
         {
          "comments": 7.0,
          "date": "2016-03-13T00:00:00",
          "user": "willingc"
         },
         {
          "comments": 4.0,
          "date": "2016-03-20T00:00:00",
          "user": "willingc"
         },
         {
          "comments": 1.5,
          "date": "2016-03-27T00:00:00",
          "user": "willingc"
         },
         {
          "comments": 4.0,
          "date": "2016-04-03T00:00:00",
          "user": "willingc"
         },
         {
          "comments": 3.5,
          "date": "2016-04-10T00:00:00",
          "user": "willingc"
         },
         {
          "comments": 6.0,
          "date": "2016-04-17T00:00:00",
          "user": "willingc"
         },
         {
          "comments": 12.5,
          "date": "2016-04-24T00:00:00",
          "user": "willingc"
         },
         {
          "comments": 8.5,
          "date": "2016-05-01T00:00:00",
          "user": "willingc"
         },
         {
          "comments": 3.5,
          "date": "2016-05-08T00:00:00",
          "user": "willingc"
         },
         {
          "comments": 7.0,
          "date": "2016-05-15T00:00:00",
          "user": "willingc"
         },
         {
          "comments": 7.5,
          "date": "2016-05-22T00:00:00",
          "user": "willingc"
         },
         {
          "comments": 4.5,
          "date": "2016-05-29T00:00:00",
          "user": "willingc"
         },
         {
          "comments": 25.5,
          "date": "2016-06-12T00:00:00",
          "user": "willingc"
         },
         {
          "comments": 24.5,
          "date": "2016-06-19T00:00:00",
          "user": "willingc"
         },
         {
          "comments": 9.5,
          "date": "2016-06-26T00:00:00",
          "user": "willingc"
         },
         {
          "comments": 10.5,
          "date": "2016-07-03T00:00:00",
          "user": "willingc"
         },
         {
          "comments": 2.5,
          "date": "2016-07-10T00:00:00",
          "user": "willingc"
         },
         {
          "comments": 2.5,
          "date": "2016-07-17T00:00:00",
          "user": "willingc"
         },
         {
          "comments": 6.0,
          "date": "2016-07-24T00:00:00",
          "user": "willingc"
         },
         {
          "comments": 7.5,
          "date": "2016-07-31T00:00:00",
          "user": "willingc"
         },
         {
          "comments": 4.5,
          "date": "2016-08-14T00:00:00",
          "user": "willingc"
         },
         {
          "comments": 5.0,
          "date": "2016-08-21T00:00:00",
          "user": "willingc"
         },
         {
          "comments": 8.5,
          "date": "2016-08-28T00:00:00",
          "user": "willingc"
         },
         {
          "comments": 15.0,
          "date": "2016-09-04T00:00:00",
          "user": "willingc"
         },
         {
          "comments": 28.5,
          "date": "2016-09-11T00:00:00",
          "user": "willingc"
         },
         {
          "comments": 19.5,
          "date": "2016-09-18T00:00:00",
          "user": "willingc"
         },
         {
          "comments": 14.0,
          "date": "2016-09-25T00:00:00",
          "user": "willingc"
         },
         {
          "comments": 17.5,
          "date": "2016-10-02T00:00:00",
          "user": "willingc"
         },
         {
          "comments": 9.5,
          "date": "2016-10-09T00:00:00",
          "user": "willingc"
         },
         {
          "comments": 13.5,
          "date": "2016-10-16T00:00:00",
          "user": "willingc"
         },
         {
          "comments": 13.5,
          "date": "2016-10-23T00:00:00",
          "user": "willingc"
         },
         {
          "comments": 14.5,
          "date": "2016-10-30T00:00:00",
          "user": "willingc"
         },
         {
          "comments": 11.0,
          "date": "2016-11-06T00:00:00",
          "user": "willingc"
         },
         {
          "comments": 4.0,
          "date": "2016-11-13T00:00:00",
          "user": "willingc"
         },
         {
          "comments": 9.0,
          "date": "2016-11-20T00:00:00",
          "user": "willingc"
         },
         {
          "comments": 7.5,
          "date": "2016-11-27T00:00:00",
          "user": "willingc"
         },
         {
          "comments": 5.0,
          "date": "2016-12-04T00:00:00",
          "user": "willingc"
         },
         {
          "comments": 8.0,
          "date": "2016-12-11T00:00:00",
          "user": "willingc"
         },
         {
          "comments": 6.5,
          "date": "2016-12-18T00:00:00",
          "user": "willingc"
         },
         {
          "comments": 8.0,
          "date": "2016-12-25T00:00:00",
          "user": "willingc"
         },
         {
          "comments": 9.5,
          "date": "2017-01-08T00:00:00",
          "user": "willingc"
         },
         {
          "comments": 15.0,
          "date": "2017-01-15T00:00:00",
          "user": "willingc"
         },
         {
          "comments": 14.5,
          "date": "2017-01-22T00:00:00",
          "user": "willingc"
         },
         {
          "comments": 8.5,
          "date": "2017-01-29T00:00:00",
          "user": "willingc"
         },
         {
          "comments": 13.5,
          "date": "2017-02-05T00:00:00",
          "user": "willingc"
         },
         {
          "comments": 13.0,
          "date": "2017-02-12T00:00:00",
          "user": "willingc"
         },
         {
          "comments": 27.5,
          "date": "2017-02-19T00:00:00",
          "user": "willingc"
         },
         {
          "comments": 31.5,
          "date": "2017-02-26T00:00:00",
          "user": "willingc"
         },
         {
          "comments": 13.0,
          "date": "2017-03-05T00:00:00",
          "user": "willingc"
         },
         {
          "comments": 5.0,
          "date": "2017-03-12T00:00:00",
          "user": "willingc"
         },
         {
          "comments": 2.0,
          "date": "2017-03-19T00:00:00",
          "user": "willingc"
         },
         {
          "comments": 5.0,
          "date": "2017-03-26T00:00:00",
          "user": "willingc"
         },
         {
          "comments": 19.0,
          "date": "2017-04-02T00:00:00",
          "user": "willingc"
         },
         {
          "comments": 22.5,
          "date": "2017-04-09T00:00:00",
          "user": "willingc"
         },
         {
          "comments": 13.0,
          "date": "2017-04-16T00:00:00",
          "user": "willingc"
         },
         {
          "comments": 9.5,
          "date": "2017-04-23T00:00:00",
          "user": "willingc"
         },
         {
          "comments": 12.0,
          "date": "2017-04-30T00:00:00",
          "user": "willingc"
         },
         {
          "comments": 19.0,
          "date": "2017-05-07T00:00:00",
          "user": "willingc"
         },
         {
          "comments": 13.0,
          "date": "2017-05-14T00:00:00",
          "user": "willingc"
         },
         {
          "comments": 3.0,
          "date": "2017-05-21T00:00:00",
          "user": "willingc"
         },
         {
          "comments": 3.5,
          "date": "2017-05-28T00:00:00",
          "user": "willingc"
         },
         {
          "comments": 6.0,
          "date": "2017-06-04T00:00:00",
          "user": "willingc"
         },
         {
          "comments": 4.0,
          "date": "2017-06-11T00:00:00",
          "user": "willingc"
         },
         {
          "comments": 2.0,
          "date": "2017-06-25T00:00:00",
          "user": "willingc"
         },
         {
          "comments": 7.0,
          "date": "2017-07-02T00:00:00",
          "user": "willingc"
         },
         {
          "comments": 10.0,
          "date": "2017-07-16T00:00:00",
          "user": "willingc"
         },
         {
          "comments": 12.5,
          "date": "2017-07-23T00:00:00",
          "user": "willingc"
         },
         {
          "comments": 21.0,
          "date": "2017-07-30T00:00:00",
          "user": "willingc"
         },
         {
          "comments": 17.0,
          "date": "2017-08-06T00:00:00",
          "user": "willingc"
         },
         {
          "comments": 19.0,
          "date": "2017-08-13T00:00:00",
          "user": "willingc"
         },
         {
          "comments": 19.0,
          "date": "2017-08-20T00:00:00",
          "user": "willingc"
         },
         {
          "comments": 5.5,
          "date": "2017-08-27T00:00:00",
          "user": "willingc"
         },
         {
          "comments": 4.0,
          "date": "2017-09-03T00:00:00",
          "user": "willingc"
         },
         {
          "comments": 8.5,
          "date": "2017-09-10T00:00:00",
          "user": "willingc"
         },
         {
          "comments": 8.5,
          "date": "2017-09-17T00:00:00",
          "user": "willingc"
         },
         {
          "comments": 7.5,
          "date": "2017-09-24T00:00:00",
          "user": "willingc"
         },
         {
          "comments": 11.5,
          "date": "2017-10-01T00:00:00",
          "user": "willingc"
         },
         {
          "comments": 8.5,
          "date": "2017-10-08T00:00:00",
          "user": "willingc"
         },
         {
          "comments": 5.0,
          "date": "2017-10-15T00:00:00",
          "user": "willingc"
         },
         {
          "comments": 8.0,
          "date": "2017-11-12T00:00:00",
          "user": "willingc"
         },
         {
          "comments": 8.5,
          "date": "2017-11-19T00:00:00",
          "user": "willingc"
         },
         {
          "comments": 10.5,
          "date": "2017-11-26T00:00:00",
          "user": "willingc"
         },
         {
          "comments": 12.0,
          "date": "2017-12-03T00:00:00",
          "user": "willingc"
         },
         {
          "comments": 9.5,
          "date": "2017-12-10T00:00:00",
          "user": "willingc"
         },
         {
          "comments": 6.5,
          "date": "2017-12-17T00:00:00",
          "user": "willingc"
         },
         {
          "comments": 2.5,
          "date": "2017-12-24T00:00:00",
          "user": "willingc"
         },
         {
          "comments": 1.0,
          "date": "2017-12-31T00:00:00",
          "user": "willingc"
         },
         {
          "comments": 2.0,
          "date": "2018-01-07T00:00:00",
          "user": "willingc"
         },
         {
          "comments": 6.0,
          "date": "2018-01-14T00:00:00",
          "user": "willingc"
         },
         {
          "comments": 9.5,
          "date": "2018-01-21T00:00:00",
          "user": "willingc"
         },
         {
          "comments": 7.5,
          "date": "2018-01-28T00:00:00",
          "user": "willingc"
         },
         {
          "comments": 6.5,
          "date": "2018-02-04T00:00:00",
          "user": "willingc"
         },
         {
          "comments": 5.5,
          "date": "2018-02-11T00:00:00",
          "user": "willingc"
         },
         {
          "comments": 4.0,
          "date": "2018-03-04T00:00:00",
          "user": "willingc"
         },
         {
          "comments": 6.5,
          "date": "2018-03-11T00:00:00",
          "user": "willingc"
         },
         {
          "comments": 5.5,
          "date": "2018-03-18T00:00:00",
          "user": "willingc"
         },
         {
          "comments": 2.5,
          "date": "2018-04-01T00:00:00",
          "user": "willingc"
         },
         {
          "comments": 7.0,
          "date": "2018-04-08T00:00:00",
          "user": "willingc"
         },
         {
          "comments": 11.5,
          "date": "2018-04-15T00:00:00",
          "user": "willingc"
         },
         {
          "comments": 6.5,
          "date": "2018-04-22T00:00:00",
          "user": "willingc"
         },
         {
          "comments": 3.5,
          "date": "2018-04-29T00:00:00",
          "user": "willingc"
         },
         {
          "comments": 34.0,
          "date": "2018-05-06T00:00:00",
          "user": "willingc"
         },
         {
          "comments": 32.0,
          "date": "2018-05-13T00:00:00",
          "user": "willingc"
         },
         {
          "comments": 4.0,
          "date": "2018-05-20T00:00:00",
          "user": "willingc"
         },
         {
          "comments": 7.5,
          "date": "2018-05-27T00:00:00",
          "user": "willingc"
         },
         {
          "comments": 21.0,
          "date": "2018-06-10T00:00:00",
          "user": "willingc"
         },
         {
          "comments": 22.5,
          "date": "2018-06-17T00:00:00",
          "user": "willingc"
         },
         {
          "comments": 10.0,
          "date": "2018-06-24T00:00:00",
          "user": "willingc"
         },
         {
          "comments": 6.0,
          "date": "2018-07-01T00:00:00",
          "user": "willingc"
         },
         {
          "comments": 3.0,
          "date": "2018-07-08T00:00:00",
          "user": "willingc"
         },
         {
          "comments": 4.5,
          "date": "2018-07-15T00:00:00",
          "user": "willingc"
         },
         {
          "comments": 4.0,
          "date": "2018-07-29T00:00:00",
          "user": "willingc"
         },
         {
          "comments": 6.0,
          "date": "2018-08-05T00:00:00",
          "user": "willingc"
         },
         {
          "comments": 6.0,
          "date": "2018-08-12T00:00:00",
          "user": "willingc"
         },
         {
          "comments": 2.0,
          "date": "2018-08-19T00:00:00",
          "user": "willingc"
         },
         {
          "comments": 3.5,
          "date": "2018-08-26T00:00:00",
          "user": "willingc"
         },
         {
          "comments": 4.5,
          "date": "2018-09-02T00:00:00",
          "user": "willingc"
         },
         {
          "comments": 4.0,
          "date": "2018-09-09T00:00:00",
          "user": "willingc"
         },
         {
          "comments": 3.0,
          "date": "2018-09-16T00:00:00",
          "user": "willingc"
         },
         {
          "comments": 32.5,
          "date": "2018-09-23T00:00:00",
          "user": "willingc"
         },
         {
          "comments": 33.0,
          "date": "2018-09-30T00:00:00",
          "user": "willingc"
         },
         {
          "comments": 3.0,
          "date": "2018-10-07T00:00:00",
          "user": "willingc"
         },
         {
          "comments": 5.0,
          "date": "2018-10-14T00:00:00",
          "user": "willingc"
         },
         {
          "comments": 4.5,
          "date": "2018-11-11T00:00:00",
          "user": "willingc"
         },
         {
          "comments": 1.5,
          "date": "2019-01-27T00:00:00",
          "user": "willingc"
         },
         {
          "comments": 1.0,
          "date": "2019-02-03T00:00:00",
          "user": "willingc"
         },
         {
          "comments": 2.0,
          "date": "2016-01-24T00:00:00",
          "user": "yuvipanda"
         },
         {
          "comments": 2.0,
          "date": "2016-01-31T00:00:00",
          "user": "yuvipanda"
         },
         {
          "comments": 2.0,
          "date": "2016-02-07T00:00:00",
          "user": "yuvipanda"
         },
         {
          "comments": 2.5,
          "date": "2016-02-14T00:00:00",
          "user": "yuvipanda"
         },
         {
          "comments": 2.0,
          "date": "2016-03-06T00:00:00",
          "user": "yuvipanda"
         },
         {
          "comments": 4.5,
          "date": "2016-03-13T00:00:00",
          "user": "yuvipanda"
         },
         {
          "comments": 11.5,
          "date": "2016-04-03T00:00:00",
          "user": "yuvipanda"
         },
         {
          "comments": 8.5,
          "date": "2016-04-10T00:00:00",
          "user": "yuvipanda"
         },
         {
          "comments": 1.0,
          "date": "2016-04-24T00:00:00",
          "user": "yuvipanda"
         },
         {
          "comments": 1.0,
          "date": "2016-05-01T00:00:00",
          "user": "yuvipanda"
         },
         {
          "comments": 4.0,
          "date": "2016-09-11T00:00:00",
          "user": "yuvipanda"
         },
         {
          "comments": 4.0,
          "date": "2016-09-18T00:00:00",
          "user": "yuvipanda"
         },
         {
          "comments": 3.0,
          "date": "2016-09-25T00:00:00",
          "user": "yuvipanda"
         },
         {
          "comments": 4.5,
          "date": "2016-10-16T00:00:00",
          "user": "yuvipanda"
         },
         {
          "comments": 5.0,
          "date": "2016-10-23T00:00:00",
          "user": "yuvipanda"
         },
         {
          "comments": 7.5,
          "date": "2016-10-30T00:00:00",
          "user": "yuvipanda"
         },
         {
          "comments": 5.5,
          "date": "2016-11-06T00:00:00",
          "user": "yuvipanda"
         },
         {
          "comments": 14.0,
          "date": "2016-11-13T00:00:00",
          "user": "yuvipanda"
         },
         {
          "comments": 16.0,
          "date": "2016-11-20T00:00:00",
          "user": "yuvipanda"
         },
         {
          "comments": 4.5,
          "date": "2016-11-27T00:00:00",
          "user": "yuvipanda"
         },
         {
          "comments": 4.5,
          "date": "2016-12-04T00:00:00",
          "user": "yuvipanda"
         },
         {
          "comments": 4.0,
          "date": "2017-01-08T00:00:00",
          "user": "yuvipanda"
         },
         {
          "comments": 1.5,
          "date": "2017-01-15T00:00:00",
          "user": "yuvipanda"
         },
         {
          "comments": 1.5,
          "date": "2017-02-19T00:00:00",
          "user": "yuvipanda"
         },
         {
          "comments": 1.5,
          "date": "2017-03-26T00:00:00",
          "user": "yuvipanda"
         },
         {
          "comments": 1.0,
          "date": "2017-04-09T00:00:00",
          "user": "yuvipanda"
         },
         {
          "comments": 1.0,
          "date": "2017-04-16T00:00:00",
          "user": "yuvipanda"
         },
         {
          "comments": 3.0,
          "date": "2017-04-23T00:00:00",
          "user": "yuvipanda"
         },
         {
          "comments": 3.0,
          "date": "2017-05-07T00:00:00",
          "user": "yuvipanda"
         },
         {
          "comments": 1.5,
          "date": "2017-05-28T00:00:00",
          "user": "yuvipanda"
         },
         {
          "comments": 3.5,
          "date": "2017-06-04T00:00:00",
          "user": "yuvipanda"
         },
         {
          "comments": 4.5,
          "date": "2017-06-25T00:00:00",
          "user": "yuvipanda"
         },
         {
          "comments": 3.5,
          "date": "2017-07-02T00:00:00",
          "user": "yuvipanda"
         },
         {
          "comments": 2.5,
          "date": "2017-07-09T00:00:00",
          "user": "yuvipanda"
         },
         {
          "comments": 8.0,
          "date": "2017-07-16T00:00:00",
          "user": "yuvipanda"
         },
         {
          "comments": 15.0,
          "date": "2017-07-23T00:00:00",
          "user": "yuvipanda"
         },
         {
          "comments": 25.0,
          "date": "2017-07-30T00:00:00",
          "user": "yuvipanda"
         },
         {
          "comments": 20.5,
          "date": "2017-08-06T00:00:00",
          "user": "yuvipanda"
         },
         {
          "comments": 6.0,
          "date": "2017-08-13T00:00:00",
          "user": "yuvipanda"
         },
         {
          "comments": 3.0,
          "date": "2017-08-27T00:00:00",
          "user": "yuvipanda"
         },
         {
          "comments": 2.0,
          "date": "2017-09-03T00:00:00",
          "user": "yuvipanda"
         },
         {
          "comments": 2.5,
          "date": "2017-09-10T00:00:00",
          "user": "yuvipanda"
         },
         {
          "comments": 5.5,
          "date": "2017-09-17T00:00:00",
          "user": "yuvipanda"
         },
         {
          "comments": 5.0,
          "date": "2017-09-24T00:00:00",
          "user": "yuvipanda"
         },
         {
          "comments": 2.5,
          "date": "2017-10-01T00:00:00",
          "user": "yuvipanda"
         },
         {
          "comments": 4.5,
          "date": "2017-10-15T00:00:00",
          "user": "yuvipanda"
         },
         {
          "comments": 3.0,
          "date": "2017-10-22T00:00:00",
          "user": "yuvipanda"
         },
         {
          "comments": 1.0,
          "date": "2017-10-29T00:00:00",
          "user": "yuvipanda"
         },
         {
          "comments": 1.0,
          "date": "2017-11-05T00:00:00",
          "user": "yuvipanda"
         },
         {
          "comments": 1.5,
          "date": "2017-11-12T00:00:00",
          "user": "yuvipanda"
         },
         {
          "comments": 2.5,
          "date": "2017-11-19T00:00:00",
          "user": "yuvipanda"
         },
         {
          "comments": 2.0,
          "date": "2017-12-10T00:00:00",
          "user": "yuvipanda"
         },
         {
          "comments": 1.5,
          "date": "2017-12-17T00:00:00",
          "user": "yuvipanda"
         },
         {
          "comments": 2.0,
          "date": "2017-12-24T00:00:00",
          "user": "yuvipanda"
         },
         {
          "comments": 1.5,
          "date": "2018-01-14T00:00:00",
          "user": "yuvipanda"
         },
         {
          "comments": 1.5,
          "date": "2018-01-21T00:00:00",
          "user": "yuvipanda"
         },
         {
          "comments": 3.5,
          "date": "2018-01-28T00:00:00",
          "user": "yuvipanda"
         },
         {
          "comments": 6.5,
          "date": "2018-02-04T00:00:00",
          "user": "yuvipanda"
         },
         {
          "comments": 4.5,
          "date": "2018-02-11T00:00:00",
          "user": "yuvipanda"
         },
         {
          "comments": 1.5,
          "date": "2018-02-18T00:00:00",
          "user": "yuvipanda"
         },
         {
          "comments": 1.5,
          "date": "2018-02-25T00:00:00",
          "user": "yuvipanda"
         },
         {
          "comments": 1.5,
          "date": "2018-03-04T00:00:00",
          "user": "yuvipanda"
         },
         {
          "comments": 3.0,
          "date": "2018-03-11T00:00:00",
          "user": "yuvipanda"
         },
         {
          "comments": 3.0,
          "date": "2018-03-18T00:00:00",
          "user": "yuvipanda"
         },
         {
          "comments": 2.0,
          "date": "2018-04-22T00:00:00",
          "user": "yuvipanda"
         },
         {
          "comments": 1.5,
          "date": "2018-07-08T00:00:00",
          "user": "yuvipanda"
         },
         {
          "comments": 2.0,
          "date": "2018-07-15T00:00:00",
          "user": "yuvipanda"
         },
         {
          "comments": 2.5,
          "date": "2018-07-29T00:00:00",
          "user": "yuvipanda"
         },
         {
          "comments": 2.0,
          "date": "2018-08-26T00:00:00",
          "user": "yuvipanda"
         },
         {
          "comments": 2.5,
          "date": "2018-09-02T00:00:00",
          "user": "yuvipanda"
         },
         {
          "comments": 2.5,
          "date": "2018-09-09T00:00:00",
          "user": "yuvipanda"
         },
         {
          "comments": 8.5,
          "date": "2018-09-23T00:00:00",
          "user": "yuvipanda"
         },
         {
          "comments": 10.5,
          "date": "2018-09-30T00:00:00",
          "user": "yuvipanda"
         },
         {
          "comments": 4.0,
          "date": "2018-10-07T00:00:00",
          "user": "yuvipanda"
         },
         {
          "comments": 3.5,
          "date": "2018-11-11T00:00:00",
          "user": "yuvipanda"
         },
         {
          "comments": 3.0,
          "date": "2018-11-25T00:00:00",
          "user": "yuvipanda"
         },
         {
          "comments": 1.0,
          "date": "2018-12-30T00:00:00",
          "user": "yuvipanda"
         },
         {
          "comments": 5.0,
          "date": "2017-07-16T00:00:00",
          "user": "zsluedem"
         },
         {
          "comments": 5.5,
          "date": "2017-07-23T00:00:00",
          "user": "zsluedem"
         },
         {
          "comments": 4.0,
          "date": "2017-07-30T00:00:00",
          "user": "zsluedem"
         },
         {
          "comments": 3.0,
          "date": "2017-08-13T00:00:00",
          "user": "zsluedem"
         },
         {
          "comments": 1.0,
          "date": "2018-06-03T00:00:00",
          "user": "zsluedem"
         }
        ]
       },
       "layer": [
        {
         "data": {
          "name": "data-a09ec5278385864fad3f8f0acdff0c8c"
         },
         "encoding": {
          "color": {
           "field": "user",
           "type": "nominal"
          },
          "opacity": {
           "value": 0
          },
          "tooltip": {
           "field": "user",
           "type": "nominal"
          },
          "x": {
           "field": "date",
           "scale": {
            "domain": [
             "2016-01-01",
             "2019-02-01"
            ]
           },
           "type": "temporal"
          },
          "y": {
           "field": "comments",
           "type": "quantitative"
          }
         },
         "mark": {
          "clip": true,
          "type": "circle"
         },
         "selection": {
          "selector001": {
           "fields": [
            "user"
           ],
           "nearest": true,
           "on": "mouseover",
           "type": "single"
          }
         },
         "width": 1000
        },
        {
         "data": {
          "name": "data-a09ec5278385864fad3f8f0acdff0c8c"
         },
         "encoding": {
          "color": {
           "condition": {
            "field": "user",
            "selection": "selector001",
            "type": "nominal"
           },
           "value": "lightgray"
          },
          "size": {
           "condition": {
            "selection": {
             "not": "selector001"
            },
            "value": 1
           },
           "value": 4
          },
          "tooltip": {
           "field": "user",
           "type": "nominal"
          },
          "x": {
           "field": "date",
           "scale": {
            "domain": [
             "2016-01-01",
             "2019-02-01"
            ]
           },
           "type": "temporal"
          },
          "y": {
           "field": "comments",
           "type": "quantitative"
          }
         },
         "mark": {
          "clip": true,
          "type": "line"
         },
         "width": 1000
        }
       ]
      },
      "text/plain": [
       "<VegaLite 2 object>\n",
       "\n",
       "If you see this message, it means the renderer has not been properly enabled\n",
       "for the frontend that you are using. For more information, see\n",
       "https://altair-viz.github.io/user_guide/troubleshooting.html\n"
      ]
     },
     "execution_count": 14,
     "metadata": {},
     "output_type": "execute_result"
    }
   ],
   "source": [
    "selectable_line_plot(user_data.reset_index(), 'date', 'comments', 'user')"
   ]
  },
  {
   "cell_type": "code",
   "execution_count": 15,
   "metadata": {
    "papermill": {
     "duration": 0.193263,
     "end_time": "2019-02-14T22:40:48.522288",
     "exception": false,
     "start_time": "2019-02-14T22:40:48.329025",
     "status": "completed"
    },
    "tags": []
   },
   "outputs": [
    {
     "data": {
      "application/vnd.vegalite.v2+json": {
       "$schema": "https://vega.github.io/schema/vega-lite/v2.6.0.json",
       "config": {
        "view": {
         "height": 300,
         "width": 400
        }
       },
       "data": {
        "name": "data-8ffb961bcdbb93e51c03739394c90f59"
       },
       "datasets": {
        "data-8ffb961bcdbb93e51c03739394c90f59": [
         {
          "comments": 2.5,
          "date": "2016-01-10T00:00:00"
         },
         {
          "comments": 27.0,
          "date": "2016-01-17T00:00:00"
         },
         {
          "comments": 23.5,
          "date": "2016-01-24T00:00:00"
         },
         {
          "comments": 14.5,
          "date": "2016-01-31T00:00:00"
         },
         {
          "comments": 24.5,
          "date": "2016-02-07T00:00:00"
         },
         {
          "comments": 27.5,
          "date": "2016-02-14T00:00:00"
         },
         {
          "comments": 21.0,
          "date": "2016-02-21T00:00:00"
         },
         {
          "comments": 23.0,
          "date": "2016-02-28T00:00:00"
         },
         {
          "comments": 29.5,
          "date": "2016-03-06T00:00:00"
         },
         {
          "comments": 39.0,
          "date": "2016-03-13T00:00:00"
         },
         {
          "comments": 20.0,
          "date": "2016-03-20T00:00:00"
         },
         {
          "comments": 10.5,
          "date": "2016-03-27T00:00:00"
         },
         {
          "comments": 29.0,
          "date": "2016-04-03T00:00:00"
         },
         {
          "comments": 19.0,
          "date": "2016-04-10T00:00:00"
         },
         {
          "comments": 21.5,
          "date": "2016-04-17T00:00:00"
         },
         {
          "comments": 46.5,
          "date": "2016-04-24T00:00:00"
         },
         {
          "comments": 35.0,
          "date": "2016-05-01T00:00:00"
         },
         {
          "comments": 12.0,
          "date": "2016-05-08T00:00:00"
         },
         {
          "comments": 19.5,
          "date": "2016-05-15T00:00:00"
         },
         {
          "comments": 22.0,
          "date": "2016-05-22T00:00:00"
         },
         {
          "comments": 14.5,
          "date": "2016-05-29T00:00:00"
         },
         {
          "comments": 14.5,
          "date": "2016-06-05T00:00:00"
         },
         {
          "comments": 41.0,
          "date": "2016-06-12T00:00:00"
         },
         {
          "comments": 33.5,
          "date": "2016-06-19T00:00:00"
         },
         {
          "comments": 14.0,
          "date": "2016-06-26T00:00:00"
         },
         {
          "comments": 17.5,
          "date": "2016-07-03T00:00:00"
         },
         {
          "comments": 8.5,
          "date": "2016-07-10T00:00:00"
         },
         {
          "comments": 7.5,
          "date": "2016-07-17T00:00:00"
         },
         {
          "comments": 11.0,
          "date": "2016-07-24T00:00:00"
         },
         {
          "comments": 17.0,
          "date": "2016-07-31T00:00:00"
         },
         {
          "comments": 15.5,
          "date": "2016-08-07T00:00:00"
         },
         {
          "comments": 16.5,
          "date": "2016-08-14T00:00:00"
         },
         {
          "comments": 12.5,
          "date": "2016-08-21T00:00:00"
         },
         {
          "comments": 20.5,
          "date": "2016-08-28T00:00:00"
         },
         {
          "comments": 39.5,
          "date": "2016-09-04T00:00:00"
         },
         {
          "comments": 59.0,
          "date": "2016-09-11T00:00:00"
         },
         {
          "comments": 48.5,
          "date": "2016-09-18T00:00:00"
         },
         {
          "comments": 37.5,
          "date": "2016-09-25T00:00:00"
         },
         {
          "comments": 32.5,
          "date": "2016-10-02T00:00:00"
         },
         {
          "comments": 27.5,
          "date": "2016-10-09T00:00:00"
         },
         {
          "comments": 35.0,
          "date": "2016-10-16T00:00:00"
         },
         {
          "comments": 28.5,
          "date": "2016-10-23T00:00:00"
         },
         {
          "comments": 33.0,
          "date": "2016-10-30T00:00:00"
         },
         {
          "comments": 27.5,
          "date": "2016-11-06T00:00:00"
         },
         {
          "comments": 35.5,
          "date": "2016-11-13T00:00:00"
         },
         {
          "comments": 48.0,
          "date": "2016-11-20T00:00:00"
         },
         {
          "comments": 27.0,
          "date": "2016-11-27T00:00:00"
         },
         {
          "comments": 22.0,
          "date": "2016-12-04T00:00:00"
         },
         {
          "comments": 17.0,
          "date": "2016-12-11T00:00:00"
         },
         {
          "comments": 15.0,
          "date": "2016-12-18T00:00:00"
         },
         {
          "comments": 24.0,
          "date": "2016-12-25T00:00:00"
         },
         {
          "comments": 38.0,
          "date": "2017-01-08T00:00:00"
         },
         {
          "comments": 45.0,
          "date": "2017-01-15T00:00:00"
         },
         {
          "comments": 33.5,
          "date": "2017-01-22T00:00:00"
         },
         {
          "comments": 18.0,
          "date": "2017-01-29T00:00:00"
         },
         {
          "comments": 23.5,
          "date": "2017-02-05T00:00:00"
         },
         {
          "comments": 29.0,
          "date": "2017-02-12T00:00:00"
         },
         {
          "comments": 42.5,
          "date": "2017-02-19T00:00:00"
         },
         {
          "comments": 46.0,
          "date": "2017-02-26T00:00:00"
         },
         {
          "comments": 29.0,
          "date": "2017-03-05T00:00:00"
         },
         {
          "comments": 22.0,
          "date": "2017-03-12T00:00:00"
         },
         {
          "comments": 13.5,
          "date": "2017-03-19T00:00:00"
         },
         {
          "comments": 19.5,
          "date": "2017-03-26T00:00:00"
         },
         {
          "comments": 34.5,
          "date": "2017-04-02T00:00:00"
         },
         {
          "comments": 38.5,
          "date": "2017-04-09T00:00:00"
         },
         {
          "comments": 28.0,
          "date": "2017-04-16T00:00:00"
         },
         {
          "comments": 30.5,
          "date": "2017-04-23T00:00:00"
         },
         {
          "comments": 26.5,
          "date": "2017-04-30T00:00:00"
         },
         {
          "comments": 40.0,
          "date": "2017-05-07T00:00:00"
         },
         {
          "comments": 24.5,
          "date": "2017-05-14T00:00:00"
         },
         {
          "comments": 8.0,
          "date": "2017-05-21T00:00:00"
         },
         {
          "comments": 15.0,
          "date": "2017-05-28T00:00:00"
         },
         {
          "comments": 21.0,
          "date": "2017-06-04T00:00:00"
         },
         {
          "comments": 11.0,
          "date": "2017-06-11T00:00:00"
         },
         {
          "comments": 8.5,
          "date": "2017-06-18T00:00:00"
         },
         {
          "comments": 17.0,
          "date": "2017-06-25T00:00:00"
         },
         {
          "comments": 20.5,
          "date": "2017-07-02T00:00:00"
         },
         {
          "comments": 5.5,
          "date": "2017-07-09T00:00:00"
         },
         {
          "comments": 40.5,
          "date": "2017-07-16T00:00:00"
         },
         {
          "comments": 62.0,
          "date": "2017-07-23T00:00:00"
         },
         {
          "comments": 72.5,
          "date": "2017-07-30T00:00:00"
         },
         {
          "comments": 56.5,
          "date": "2017-08-06T00:00:00"
         },
         {
          "comments": 49.0,
          "date": "2017-08-13T00:00:00"
         },
         {
          "comments": 34.0,
          "date": "2017-08-20T00:00:00"
         },
         {
          "comments": 26.5,
          "date": "2017-08-27T00:00:00"
         },
         {
          "comments": 15.0,
          "date": "2017-09-03T00:00:00"
         },
         {
          "comments": 34.5,
          "date": "2017-09-10T00:00:00"
         },
         {
          "comments": 40.0,
          "date": "2017-09-17T00:00:00"
         },
         {
          "comments": 27.5,
          "date": "2017-09-24T00:00:00"
         },
         {
          "comments": 42.0,
          "date": "2017-10-01T00:00:00"
         },
         {
          "comments": 22.5,
          "date": "2017-10-08T00:00:00"
         },
         {
          "comments": 21.5,
          "date": "2017-10-15T00:00:00"
         },
         {
          "comments": 4.0,
          "date": "2017-10-22T00:00:00"
         },
         {
          "comments": 9.5,
          "date": "2017-10-29T00:00:00"
         },
         {
          "comments": 9.0,
          "date": "2017-11-05T00:00:00"
         },
         {
          "comments": 23.0,
          "date": "2017-11-12T00:00:00"
         },
         {
          "comments": 27.5,
          "date": "2017-11-19T00:00:00"
         },
         {
          "comments": 30.5,
          "date": "2017-11-26T00:00:00"
         },
         {
          "comments": 22.5,
          "date": "2017-12-03T00:00:00"
         },
         {
          "comments": 27.5,
          "date": "2017-12-10T00:00:00"
         },
         {
          "comments": 22.0,
          "date": "2017-12-17T00:00:00"
         },
         {
          "comments": 10.5,
          "date": "2017-12-24T00:00:00"
         },
         {
          "comments": 1.0,
          "date": "2017-12-31T00:00:00"
         },
         {
          "comments": 12.0,
          "date": "2018-01-07T00:00:00"
         },
         {
          "comments": 19.0,
          "date": "2018-01-14T00:00:00"
         },
         {
          "comments": 17.0,
          "date": "2018-01-21T00:00:00"
         },
         {
          "comments": 19.0,
          "date": "2018-01-28T00:00:00"
         },
         {
          "comments": 23.5,
          "date": "2018-02-04T00:00:00"
         },
         {
          "comments": 24.0,
          "date": "2018-02-11T00:00:00"
         },
         {
          "comments": 20.0,
          "date": "2018-02-18T00:00:00"
         },
         {
          "comments": 18.5,
          "date": "2018-02-25T00:00:00"
         },
         {
          "comments": 24.0,
          "date": "2018-03-04T00:00:00"
         },
         {
          "comments": 22.5,
          "date": "2018-03-11T00:00:00"
         },
         {
          "comments": 16.0,
          "date": "2018-03-18T00:00:00"
         },
         {
          "comments": 23.5,
          "date": "2018-03-25T00:00:00"
         },
         {
          "comments": 25.0,
          "date": "2018-04-01T00:00:00"
         },
         {
          "comments": 21.5,
          "date": "2018-04-08T00:00:00"
         },
         {
          "comments": 45.0,
          "date": "2018-04-15T00:00:00"
         },
         {
          "comments": 44.0,
          "date": "2018-04-22T00:00:00"
         },
         {
          "comments": 30.0,
          "date": "2018-04-29T00:00:00"
         },
         {
          "comments": 63.0,
          "date": "2018-05-06T00:00:00"
         },
         {
          "comments": 66.5,
          "date": "2018-05-13T00:00:00"
         },
         {
          "comments": 33.0,
          "date": "2018-05-20T00:00:00"
         },
         {
          "comments": 36.0,
          "date": "2018-05-27T00:00:00"
         },
         {
          "comments": 26.0,
          "date": "2018-06-03T00:00:00"
         },
         {
          "comments": 40.5,
          "date": "2018-06-10T00:00:00"
         },
         {
          "comments": 50.5,
          "date": "2018-06-17T00:00:00"
         },
         {
          "comments": 39.0,
          "date": "2018-06-24T00:00:00"
         },
         {
          "comments": 27.0,
          "date": "2018-07-01T00:00:00"
         },
         {
          "comments": 19.5,
          "date": "2018-07-08T00:00:00"
         },
         {
          "comments": 18.5,
          "date": "2018-07-15T00:00:00"
         },
         {
          "comments": 5.5,
          "date": "2018-07-22T00:00:00"
         },
         {
          "comments": 20.0,
          "date": "2018-07-29T00:00:00"
         },
         {
          "comments": 22.0,
          "date": "2018-08-05T00:00:00"
         },
         {
          "comments": 13.5,
          "date": "2018-08-12T00:00:00"
         },
         {
          "comments": 12.0,
          "date": "2018-08-19T00:00:00"
         },
         {
          "comments": 23.5,
          "date": "2018-08-26T00:00:00"
         },
         {
          "comments": 18.0,
          "date": "2018-09-02T00:00:00"
         },
         {
          "comments": 25.5,
          "date": "2018-09-09T00:00:00"
         },
         {
          "comments": 19.5,
          "date": "2018-09-16T00:00:00"
         },
         {
          "comments": 64.5,
          "date": "2018-09-23T00:00:00"
         },
         {
          "comments": 74.0,
          "date": "2018-09-30T00:00:00"
         },
         {
          "comments": 36.0,
          "date": "2018-10-07T00:00:00"
         },
         {
          "comments": 21.0,
          "date": "2018-10-14T00:00:00"
         },
         {
          "comments": 16.0,
          "date": "2018-10-21T00:00:00"
         },
         {
          "comments": 15.0,
          "date": "2018-10-28T00:00:00"
         },
         {
          "comments": 8.0,
          "date": "2018-11-04T00:00:00"
         },
         {
          "comments": 26.5,
          "date": "2018-11-11T00:00:00"
         },
         {
          "comments": 25.0,
          "date": "2018-11-18T00:00:00"
         },
         {
          "comments": 30.0,
          "date": "2018-11-25T00:00:00"
         },
         {
          "comments": 20.0,
          "date": "2018-12-02T00:00:00"
         },
         {
          "comments": 24.0,
          "date": "2018-12-09T00:00:00"
         },
         {
          "comments": 15.0,
          "date": "2018-12-16T00:00:00"
         },
         {
          "comments": 7.5,
          "date": "2018-12-23T00:00:00"
         },
         {
          "comments": 1.0,
          "date": "2018-12-30T00:00:00"
         },
         {
          "comments": 3.0,
          "date": "2019-01-06T00:00:00"
         },
         {
          "comments": 3.0,
          "date": "2019-01-13T00:00:00"
         },
         {
          "comments": 6.5,
          "date": "2019-01-20T00:00:00"
         },
         {
          "comments": 3.5,
          "date": "2019-01-27T00:00:00"
         },
         {
          "comments": 10.5,
          "date": "2019-02-03T00:00:00"
         },
         {
          "comments": 24.0,
          "date": "2019-02-17T00:00:00"
         }
        ]
       },
       "encoding": {
        "x": {
         "field": "date",
         "scale": {
          "domain": [
           "2016-01-01",
           "2019-02-01"
          ]
         },
         "type": "temporal"
        },
        "y": {
         "field": "comments",
         "type": "quantitative"
        }
       },
       "mark": {
        "clip": true,
        "type": "line"
       },
       "width": 1000
      },
      "text/plain": [
       "<VegaLite 2 object>\n",
       "\n",
       "If you see this message, it means the renderer has not been properly enabled\n",
       "for the frontend that you are using. For more information, see\n",
       "https://altair-viz.github.io/user_guide/troubleshooting.html\n"
      ]
     },
     "execution_count": 15,
     "metadata": {},
     "output_type": "execute_result"
    }
   ],
   "source": [
    "# Comment totals over time\n",
    "all_user_data = user_data.reset_index().groupby('date').sum()['comments'].reset_index()\n",
    "alt.Chart(data=all_user_data, width=1000).mark_line(clip=True).encode(\n",
    "    x=alt.X('date', scale=alt.Scale(domain=[\"2016-01-01\", \"2019-02-01\"])),\n",
    "    y='comments',\n",
    ")"
   ]
  },
  {
   "cell_type": "markdown",
   "metadata": {
    "papermill": {
     "duration": 0.140117,
     "end_time": "2019-02-14T22:40:48.761470",
     "exception": false,
     "start_time": "2019-02-14T22:40:48.621353",
     "status": "completed"
    },
    "tags": []
   },
   "source": [
    "## Distribution of comments over top N contributors"
   ]
  },
  {
   "cell_type": "code",
   "execution_count": 16,
   "metadata": {
    "papermill": {
     "duration": 0.511317,
     "end_time": "2019-02-14T22:40:49.372365",
     "exception": false,
     "start_time": "2019-02-14T22:40:48.861048",
     "status": "completed"
    },
    "tags": []
   },
   "outputs": [],
   "source": [
    "# For each week, calculate the top 20 contributions, turn them into percentages, order them, store the result"
   ]
  },
  {
   "cell_type": "code",
   "execution_count": 17,
   "metadata": {
    "papermill": {
     "duration": 2.111726,
     "end_time": "2019-02-14T22:40:51.660279",
     "exception": false,
     "start_time": "2019-02-14T22:40:49.548553",
     "status": "completed"
    },
    "tags": []
   },
   "outputs": [],
   "source": [
    "monthly = weekly.groupby('user').resample('M', on='date').sum().reset_index()"
   ]
  },
  {
   "cell_type": "code",
   "execution_count": 18,
   "metadata": {
    "papermill": {
     "duration": 0.104009,
     "end_time": "2019-02-14T22:40:51.880837",
     "exception": false,
     "start_time": "2019-02-14T22:40:51.776828",
     "status": "completed"
    },
    "tags": []
   },
   "outputs": [],
   "source": [
    "n_comments_plot = 20"
   ]
  },
  {
   "cell_type": "code",
   "execution_count": 19,
   "metadata": {
    "papermill": {
     "duration": 0.496057,
     "end_time": "2019-02-14T22:40:52.503262",
     "exception": false,
     "start_time": "2019-02-14T22:40:52.007205",
     "status": "completed"
    },
    "tags": []
   },
   "outputs": [],
   "source": [
    "monthly_dist = {}\n",
    "for iweek, ivals in monthly.groupby('date'):\n",
    "    comments_dist = ivals.groupby('user').sum()['comments']\n",
    "    comments_dist = comments_dist / comments_dist.sum()\n",
    "    comments_dist = comments_dist.sort_values(ascending=False)\n",
    "    comments_placeholder = [0] * n_comments_plot\n",
    "\n",
    "    for ii, (iname, ipart) in enumerate(comments_dist.items()):\n",
    "        if ii + 1 > n_comments_plot:\n",
    "            continue\n",
    "        comments_placeholder[ii] = ipart\n",
    "    monthly_dist[iweek] = comments_placeholder"
   ]
  },
  {
   "cell_type": "code",
   "execution_count": 20,
   "metadata": {
    "papermill": {
     "duration": 0.223588,
     "end_time": "2019-02-14T22:40:52.926025",
     "exception": false,
     "start_time": "2019-02-14T22:40:52.702437",
     "status": "completed"
    },
    "tags": []
   },
   "outputs": [],
   "source": [
    "monthly_dist = pd.DataFrame(monthly_dist)\n",
    "# monthly_dist.index.name = 'position'\n",
    "# monthly_dist.columns.name = 'date'\n",
    "# monthly_dist = monthly_dist.stack().reset_index().rename(columns={0: 'dist'})"
   ]
  },
  {
   "cell_type": "code",
   "execution_count": 21,
   "metadata": {
    "papermill": {
     "duration": 0.272639,
     "end_time": "2019-02-14T22:40:53.436385",
     "exception": false,
     "start_time": "2019-02-14T22:40:53.163746",
     "status": "completed"
    },
    "tags": []
   },
   "outputs": [],
   "source": [
    "monthly_dist.columns = monthly_dist.columns.date"
   ]
  },
  {
   "cell_type": "code",
   "execution_count": 22,
   "metadata": {
    "papermill": {
     "duration": 0.132779,
     "end_time": "2019-02-14T22:40:53.757031",
     "exception": false,
     "start_time": "2019-02-14T22:40:53.624252",
     "status": "completed"
    },
    "tags": []
   },
   "outputs": [],
   "source": [
    "from matplotlib import pyplot as plt"
   ]
  },
  {
   "cell_type": "code",
   "execution_count": 23,
   "metadata": {
    "papermill": {
     "duration": 1.811408,
     "end_time": "2019-02-14T22:40:55.697597",
     "exception": false,
     "start_time": "2019-02-14T22:40:53.886189",
     "status": "completed"
    },
    "tags": []
   },
   "outputs": [
    {
     "name": "stderr",
     "output_type": "stream",
     "text": [
      "/home/choldgraf/anaconda/envs/dev/lib/python3.6/site-packages/ipykernel_launcher.py:2: RuntimeWarning: divide by zero encountered in log10\n",
      "  \n"
     ]
    },
    {
     "data": {
      "text/plain": [
       "[Text(114.0, 0.5, 'Rank'),\n",
       " Text(0.5, 1.0, 'Log % Comments over time\\ntop 20 commentors')]"
      ]
     },
     "execution_count": 23,
     "metadata": {},
     "output_type": "execute_result"
    },
    {
     "data": {
      "image/png": "[encoded data removed]",
      "text/plain": [
       "<Figure size 1080x360 with 2 Axes>"
      ]
     },
     "metadata": {},
     "output_type": "display_data"
    }
   ],
   "source": [
    "fig, ax = plt.subplots(figsize=(15, 5))\n",
    "ax = sns.heatmap(np.log10(100 * monthly_dist), vmin=0, vmax=2)\n",
    "ax.set(ylabel=\"Rank\", title=\"Log % Comments over time\\ntop {} commentors\".format(n_comments_plot))"
   ]
  },
  {
   "cell_type": "markdown",
   "metadata": {
    "papermill": {
     "duration": 0.277521,
     "end_time": "2019-02-14T22:40:56.070655",
     "exception": false,
     "start_time": "2019-02-14T22:40:55.793134",
     "status": "completed"
    },
    "tags": []
   },
   "source": [
    "## Correlations between members"
   ]
  },
  {
   "cell_type": "code",
   "execution_count": 24,
   "metadata": {
    "papermill": {
     "duration": 0.830648,
     "end_time": "2019-02-14T22:40:57.080712",
     "exception": false,
     "start_time": "2019-02-14T22:40:56.250064",
     "status": "completed"
    },
    "tags": []
   },
   "outputs": [],
   "source": [
    "correlations = weekly.query(\"user in @plt_users\").set_index(['date', 'user'])['comments'].unstack('user').corr()\n",
    "correlations = correlations.replace(np.nan, 0)"
   ]
  },
  {
   "cell_type": "code",
   "execution_count": 25,
   "metadata": {
    "papermill": {
     "duration": 2.74135,
     "end_time": "2019-02-14T22:41:00.526313",
     "exception": false,
     "start_time": "2019-02-14T22:40:57.784963",
     "status": "completed"
    },
    "tags": []
   },
   "outputs": [
    {
     "data": {
      "text/plain": [
       "<seaborn.matrix.ClusterGrid at 0x7f5974e20080>"
      ]
     },
     "execution_count": 25,
     "metadata": {},
     "output_type": "execute_result"
    },
    {
     "data": {
      "image/png": "[encoded data removed]",
      "text/plain": [
       "<Figure size 720x720 with 4 Axes>"
      ]
     },
     "metadata": {},
     "output_type": "display_data"
    }
   ],
   "source": [
    "sns.clustermap(correlations, vmin=-1, vmax=1, cmap='RdYlBu_r')"
   ]
  },
  {
   "cell_type": "code",
   "execution_count": null,
   "metadata": {
    "papermill": {
     "duration": 0.233546,
     "end_time": "2019-02-14T22:41:00.887915",
     "exception": false,
     "start_time": "2019-02-14T22:41:00.654369",
     "status": "completed"
    },
    "tags": []
   },
   "outputs": [],
   "source": []
  }
 ],
 "metadata": {
  "kernelspec": {
   "display_name": "Python 3",
   "language": "python",
   "name": "python3"
  },
  "language_info": {
   "codemirror_mode": {
    "name": "ipython",
    "version": 3
   },
   "file_extension": ".py",
   "mimetype": "text/x-python",
   "name": "python",
   "nbconvert_exporter": "python",
   "pygments_lexer": "ipython3",
   "version": "3.6.5"
  },
  "papermill": {
   "duration": 22.722824,
   "end_time": "2019-02-14T22:41:02.469689",
   "environment_variables": {},
   "exception": null,
   "input_path": "./viz_data.ipynb",
   "output_path": "../reports/viz_data_jupyterhub-jupyterhub.ipynb",
   "parameters": {
    "org": "jupyterhub",
    "plot_N": 20,
    "repo": "jupyterhub"
   },
   "start_time": "2019-02-14T22:40:39.746865",
   "version": "0.18.0"
  }
 },
 "nbformat": 4,
 "nbformat_minor": 2
}