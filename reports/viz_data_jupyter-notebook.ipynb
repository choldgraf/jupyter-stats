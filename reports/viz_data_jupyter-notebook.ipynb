{
 "cells": [
  {
   "cell_type": "markdown",
   "metadata": {
    "papermill": {
     "duration": 0.038167,
     "end_time": "2019-02-14T22:39:39.378361",
     "exception": false,
     "start_time": "2019-02-14T22:39:39.340194",
     "status": "completed"
    },
    "tags": []
   },
   "source": [
    "## Parameters"
   ]
  },
  {
   "cell_type": "code",
   "execution_count": 1,
   "metadata": {
    "papermill": {
     "duration": 0.042504,
     "end_time": "2019-02-14T22:39:39.447365",
     "exception": false,
     "start_time": "2019-02-14T22:39:39.404861",
     "status": "completed"
    },
    "tags": [
     "parameters"
    ]
   },
   "outputs": [],
   "source": [
    "org = 'jupyterhub'\n",
    "repo = 'jupyterhub'\n",
    "plot_N = 25  # Number of lines to add"
   ]
  },
  {
   "cell_type": "code",
   "execution_count": 2,
   "metadata": {
    "papermill": {
     "duration": 0.033441,
     "end_time": "2019-02-14T22:39:39.513608",
     "exception": false,
     "start_time": "2019-02-14T22:39:39.480167",
     "status": "completed"
    },
    "tags": [
     "injected-parameters"
    ]
   },
   "outputs": [],
   "source": [
    "# Parameters\n",
    "org = \"jupyter\"\n",
    "repo = \"notebook\"\n",
    "plot_N = 20\n"
   ]
  },
  {
   "cell_type": "markdown",
   "metadata": {
    "papermill": {
     "duration": 0.035641,
     "end_time": "2019-02-14T22:39:39.576069",
     "exception": false,
     "start_time": "2019-02-14T22:39:39.540428",
     "status": "completed"
    },
    "tags": []
   },
   "source": [
    "## Functions"
   ]
  },
  {
   "cell_type": "code",
   "execution_count": 3,
   "metadata": {
    "papermill": {
     "duration": 0.038279,
     "end_time": "2019-02-14T22:39:39.646444",
     "exception": false,
     "start_time": "2019-02-14T22:39:39.608165",
     "status": "completed"
    },
    "tags": []
   },
   "outputs": [],
   "source": [
    "def selectable_line_plot(data, x, y, color, width=1000):\n",
    "\n",
    "    select = alt.selection(type='single', on='mouseover',\n",
    "                           fields=[color], nearest=True)\n",
    "\n",
    "    base = alt.Chart(data=data, width=width).encode(\n",
    "        x=alt.X(x, scale=alt.Scale(domain=[\"2016-01-01\", \"2019-02-01\"])),\n",
    "        y=y,\n",
    "        color=color,\n",
    "        tooltip=color,\n",
    "    )\n",
    "\n",
    "    points = base.mark_circle(clip=True).encode(\n",
    "        opacity=alt.value(0)\n",
    "    ).add_selection(select)\n",
    "\n",
    "\n",
    "    lines = base.mark_line(clip=True).encode(\n",
    "        size=alt.condition(~select, alt.value(1), alt.value(4)),\n",
    "        color=alt.condition(select, color, alt.value('lightgray'))\n",
    "    )\n",
    "\n",
    "    return points + lines"
   ]
  },
  {
   "cell_type": "markdown",
   "metadata": {
    "papermill": {
     "duration": 0.039713,
     "end_time": "2019-02-14T22:39:39.721339",
     "exception": false,
     "start_time": "2019-02-14T22:39:39.681626",
     "status": "completed"
    },
    "tags": []
   },
   "source": [
    "# Load data"
   ]
  },
  {
   "cell_type": "code",
   "execution_count": 4,
   "metadata": {
    "papermill": {
     "duration": 1.404187,
     "end_time": "2019-02-14T22:39:41.176481",
     "exception": false,
     "start_time": "2019-02-14T22:39:39.772294",
     "status": "completed"
    },
    "tags": []
   },
   "outputs": [],
   "source": [
    "import pandas as pd\n",
    "import seaborn as sns\n",
    "import altair as alt\n",
    "import numpy as np"
   ]
  },
  {
   "cell_type": "code",
   "execution_count": 5,
   "metadata": {
    "papermill": {
     "duration": 0.155233,
     "end_time": "2019-02-14T22:39:41.362434",
     "exception": false,
     "start_time": "2019-02-14T22:39:41.207201",
     "status": "completed"
    },
    "tags": []
   },
   "outputs": [],
   "source": [
    "# Read in data\n",
    "daily = pd.read_csv('../data/daily.csv', index_col=0)\n",
    "\n",
    "# Convert indices to date\n",
    "daily['date'] = pd.to_datetime(daily['date'])\n",
    "daily = daily.query('org == @org and repo == @repo').drop(['org', 'repo'], axis=1)\n",
    "daily = daily.replace(np.nan, 0)"
   ]
  },
  {
   "cell_type": "markdown",
   "metadata": {
    "papermill": {
     "duration": 0.030323,
     "end_time": "2019-02-14T22:39:41.421273",
     "exception": false,
     "start_time": "2019-02-14T22:39:41.390950",
     "status": "completed"
    },
    "tags": []
   },
   "source": [
    "# Features"
   ]
  },
  {
   "cell_type": "code",
   "execution_count": 6,
   "metadata": {
    "papermill": {
     "duration": 8.657003,
     "end_time": "2019-02-14T22:39:50.108782",
     "exception": false,
     "start_time": "2019-02-14T22:39:41.451779",
     "status": "completed"
    },
    "tags": []
   },
   "outputs": [],
   "source": [
    "weekly = daily.groupby('user').resample('W', on='date').sum().reset_index()\n",
    "weekly = weekly.query('commits != 0 or comments != 0')"
   ]
  },
  {
   "cell_type": "code",
   "execution_count": 7,
   "metadata": {
    "papermill": {
     "duration": 1.297323,
     "end_time": "2019-02-14T22:39:51.433988",
     "exception": false,
     "start_time": "2019-02-14T22:39:50.136665",
     "status": "completed"
    },
    "tags": []
   },
   "outputs": [],
   "source": [
    "# Rolling mean\n",
    "weekly = weekly.groupby(['user', 'date']).sum().reset_index().groupby('user').\\\n",
    "    rolling(2, on='date')['comments'].\\\n",
    "    mean().dropna().reset_index()"
   ]
  },
  {
   "cell_type": "code",
   "execution_count": 8,
   "metadata": {
    "papermill": {
     "duration": 0.04994,
     "end_time": "2019-02-14T22:39:51.512095",
     "exception": false,
     "start_time": "2019-02-14T22:39:51.462155",
     "status": "completed"
    },
    "tags": []
   },
   "outputs": [],
   "source": [
    "# Top N commentors over time\n",
    "top_N = weekly.groupby('user').sum()['comments'].sort_values(ascending=False)\n",
    "top_N = top_N.index[:plot_N]"
   ]
  },
  {
   "cell_type": "markdown",
   "metadata": {
    "papermill": {
     "duration": 0.027558,
     "end_time": "2019-02-14T22:39:51.570672",
     "exception": false,
     "start_time": "2019-02-14T22:39:51.543114",
     "status": "completed"
    },
    "tags": []
   },
   "source": [
    "# Plotting"
   ]
  },
  {
   "cell_type": "markdown",
   "metadata": {
    "papermill": {
     "duration": 0.033156,
     "end_time": "2019-02-14T22:39:51.629842",
     "exception": false,
     "start_time": "2019-02-14T22:39:51.596686",
     "status": "completed"
    },
    "tags": []
   },
   "source": [
    "## Weekly unique contributors"
   ]
  },
  {
   "cell_type": "code",
   "execution_count": 9,
   "metadata": {
    "papermill": {
     "duration": 0.086537,
     "end_time": "2019-02-14T22:39:51.745600",
     "exception": false,
     "start_time": "2019-02-14T22:39:51.659063",
     "status": "completed"
    },
    "tags": []
   },
   "outputs": [],
   "source": [
    "unique = weekly[['date', 'user']].copy()\n",
    "unique['user'] = unique['user'].map(lambda a: [a])\n",
    "unique = unique.groupby('date').sum()"
   ]
  },
  {
   "cell_type": "code",
   "execution_count": 10,
   "metadata": {
    "papermill": {
     "duration": 0.076141,
     "end_time": "2019-02-14T22:39:51.855508",
     "exception": false,
     "start_time": "2019-02-14T22:39:51.779367",
     "status": "completed"
    },
    "tags": []
   },
   "outputs": [],
   "source": [
    "all_users = set()\n",
    "nunique = {}\n",
    "for idate, ivals in unique.iterrows():\n",
    "    n_unique_current = len(all_users)\n",
    "    \n",
    "    all_users = all_users.union(ivals[0])\n",
    "    n_unique_new = len(all_users) - n_unique_current\n",
    "    nunique[idate] = n_unique_new\n",
    "unique['new_contributors'] = pd.Series(nunique).values"
   ]
  },
  {
   "cell_type": "code",
   "execution_count": 11,
   "metadata": {
    "papermill": {
     "duration": 0.042994,
     "end_time": "2019-02-14T22:39:51.927375",
     "exception": false,
     "start_time": "2019-02-14T22:39:51.884381",
     "status": "completed"
    },
    "tags": []
   },
   "outputs": [],
   "source": [
    "unique['cumulative'] = unique['new_contributors'].cumsum()"
   ]
  },
  {
   "cell_type": "code",
   "execution_count": 12,
   "metadata": {
    "papermill": {
     "duration": 0.094363,
     "end_time": "2019-02-14T22:39:52.075146",
     "exception": false,
     "start_time": "2019-02-14T22:39:51.980783",
     "status": "completed"
    },
    "tags": []
   },
   "outputs": [
    {
     "data": {
      "application/vnd.vegalite.v2+json": {
       "$schema": "https://vega.github.io/schema/vega-lite/v2.6.0.json",
       "config": {
        "view": {
         "height": 300,
         "width": 400
        }
       },
       "data": {
        "name": "data-56cfb4646116cd3f8fb017ed4d54ca3f"
       },
       "datasets": {
        "data-56cfb4646116cd3f8fb017ed4d54ca3f": [
         {
          "cumulative": 4,
          "date": "2016-01-10T00:00:00",
          "new_contributors": 4,
          "user": [
           "Carreau",
           "minrk",
           "tritemio",
           "willingc"
          ]
         },
         {
          "cumulative": 9,
          "date": "2016-01-17T00:00:00",
          "new_contributors": 5,
          "user": [
           "Carreau",
           "captainsafia",
           "dsblank",
           "ellisonbg",
           "jdfreder",
           "minrk",
           "takluyver",
           "willingc"
          ]
         },
         {
          "cumulative": 13,
          "date": "2016-01-24T00:00:00",
          "new_contributors": 4,
          "user": [
           "Carreau",
           "NHDaly",
           "blink1073",
           "dsblank",
           "ellisonbg",
           "elmerehbi",
           "fonnesbeck",
           "jdfreder",
           "minrk",
           "takluyver",
           "willingc"
          ]
         },
         {
          "cumulative": 16,
          "date": "2016-01-31T00:00:00",
          "new_contributors": 3,
          "user": [
           "Carreau",
           "SylvainCorlay",
           "blink1073",
           "jakirkham",
           "jasongrout",
           "jdfreder",
           "minrk",
           "takluyver",
           "willingc"
          ]
         },
         {
          "cumulative": 21,
          "date": "2016-02-07T00:00:00",
          "new_contributors": 5,
          "user": [
           "Carreau",
           "NHDaly",
           "amueller",
           "cailiang9",
           "captainsafia",
           "ellisonbg",
           "jasongrout",
           "jdfreder",
           "minrk",
           "pawannrao-ebay",
           "skukhtichev",
           "takluyver",
           "willingc",
           "yuvipanda"
          ]
         },
         {
          "cumulative": 29,
          "date": "2016-02-14T00:00:00",
          "new_contributors": 8,
          "user": [
           "AGS-Knight",
           "Carreau",
           "blink1073",
           "cameronoelsen",
           "damianavila",
           "ellisonbg",
           "jdfreder",
           "julienr",
           "minrk",
           "parente",
           "parleur",
           "rgbkrk",
           "stevengj",
           "takluyver",
           "willingc"
          ]
         },
         {
          "cumulative": 35,
          "date": "2016-02-21T00:00:00",
          "new_contributors": 6,
          "user": [
           "AGS-Knight",
           "Carreau",
           "NHDaly",
           "amueller",
           "blink1073",
           "captainsafia",
           "damianavila",
           "ellisonbg",
           "elmerehbi",
           "eronlloyd",
           "ghost",
           "jankatins",
           "jasongrout",
           "jdfreder",
           "julienr",
           "laerus",
           "maver1ck",
           "minrk",
           "rgbkrk",
           "sccolbert",
           "takluyver",
           "willingc"
          ]
         },
         {
          "cumulative": 44,
          "date": "2016-02-28T00:00:00",
          "new_contributors": 9,
          "user": [
           "Carreau",
           "Phyks",
           "SylvainCorlay",
           "TheWitnesses",
           "bkarlovitz",
           "blink1073",
           "captainsafia",
           "ccordoba12",
           "damianavila",
           "damienstanton",
           "dsblank",
           "ellisonbg",
           "fperez",
           "jankatins",
           "jasongrout",
           "jdfreder",
           "julienr",
           "mgeier",
           "minrk",
           "moorepants",
           "parente",
           "rgbkrk",
           "stevengj",
           "stonebig",
           "takluyver",
           "willingc",
           "yuvipanda"
          ]
         },
         {
          "cumulative": 50,
          "date": "2016-03-06T00:00:00",
          "new_contributors": 6,
          "user": [
           "Carreau",
           "Phyks",
           "akhmerov",
           "amueller",
           "blink1073",
           "cameronoelsen",
           "captainsafia",
           "fperez",
           "ghost",
           "gracehllee",
           "hack-c",
           "jakirkham",
           "jasongrout",
           "jcb91",
           "jdfreder",
           "michaelsbradleyjr",
           "minrk",
           "parente",
           "parleur",
           "rgbkrk",
           "sccolbert",
           "takluyver",
           "tfors",
           "willingc"
          ]
         },
         {
          "cumulative": 56,
          "date": "2016-03-13T00:00:00",
          "new_contributors": 6,
          "user": [
           "Carreau",
           "blink1073",
           "bollwyvl",
           "brazilbean",
           "captainsafia",
           "ccordoba12",
           "cenveoanalyst",
           "ellisonbg",
           "jankatins",
           "jcb91",
           "jdfreder",
           "julienr",
           "maartenbreddels",
           "mgeier",
           "minrk",
           "parleur",
           "praveen-srinivasan",
           "stevengj",
           "tacaswell",
           "takluyver",
           "willingc",
           "yuvipanda"
          ]
         },
         {
          "cumulative": 61,
          "date": "2016-03-20T00:00:00",
          "new_contributors": 5,
          "user": [
           "Carreau",
           "Phyks",
           "amueller",
           "blink1073",
           "bollwyvl",
           "captainsafia",
           "cqcn1991",
           "damianavila",
           "ellisonbg",
           "fonnesbeck",
           "fperez",
           "jasongrout",
           "jdfreder",
           "julienr",
           "jvalhondo",
           "lucaventurini",
           "maartenbreddels",
           "mgeier",
           "michaelaye",
           "minrk",
           "parente",
           "praveen-srinivasan",
           "ryanlovett",
           "takluyver",
           "willingc"
          ]
         },
         {
          "cumulative": 62,
          "date": "2016-03-27T00:00:00",
          "new_contributors": 1,
          "user": [
           "Carreau",
           "SylvainCorlay",
           "blink1073",
           "bollwyvl",
           "captainsafia",
           "damianavila",
           "dsblank",
           "ellisonbg",
           "jdfreder",
           "juhasch",
           "mgeier",
           "michaelaye",
           "minrk",
           "parleur",
           "rgbkrk",
           "takluyver",
           "willingc"
          ]
         },
         {
          "cumulative": 65,
          "date": "2016-04-03T00:00:00",
          "new_contributors": 3,
          "user": [
           "Carreau",
           "Phyks",
           "brazilbean",
           "captainsafia",
           "ellisonbg",
           "excetara2",
           "flying-sheep",
           "ghost",
           "jankatins",
           "jcb91",
           "jdfreder",
           "juhasch",
           "julienr",
           "lstagner",
           "michaelaye",
           "parente",
           "parleur",
           "rgbkrk",
           "tacaswell",
           "takluyver",
           "willingc"
          ]
         },
         {
          "cumulative": 70,
          "date": "2016-04-10T00:00:00",
          "new_contributors": 5,
          "user": [
           "Carreau",
           "FilippoPolo",
           "SylvainCorlay",
           "amueller",
           "blink1073",
           "bschwb",
           "cameronoelsen",
           "captainsafia",
           "cdknorow",
           "cqcn1991",
           "damianavila",
           "ellisonbg",
           "jankatins",
           "jdfreder",
           "juhasch",
           "lbustelo",
           "mgeier",
           "minrk",
           "parente",
           "rgbkrk",
           "rkpatel33",
           "ryanlovett",
           "sccolbert",
           "tacaswell",
           "takluyver",
           "willingc"
          ]
         },
         {
          "cumulative": 73,
          "date": "2016-04-17T00:00:00",
          "new_contributors": 3,
          "user": [
           "Carreau",
           "KimDaeEon",
           "Phyks",
           "SylvainCorlay",
           "akhmerov",
           "blink1073",
           "bollwyvl",
           "cameronoelsen",
           "cdknorow",
           "cqcn1991",
           "ellisonbg",
           "fperez",
           "jasongrout",
           "jcb91",
           "jdetle",
           "jdfreder",
           "julienr",
           "mgeier",
           "minrk",
           "rgbkrk",
           "sccolbert",
           "takluyver",
           "thomasaarholt",
           "willingc"
          ]
         },
         {
          "cumulative": 75,
          "date": "2016-04-24T00:00:00",
          "new_contributors": 2,
          "user": [
           "Carreau",
           "FilippoPolo",
           "SylvainCorlay",
           "aytekinar",
           "blink1073",
           "bollwyvl",
           "captainsafia",
           "dsblank",
           "ellisonbg",
           "ghost",
           "jankatins",
           "julienr",
           "kozo2",
           "mgeier",
           "minrk",
           "parleur",
           "rgbkrk",
           "takluyver",
           "willingc"
          ]
         },
         {
          "cumulative": 81,
          "date": "2016-05-01T00:00:00",
          "new_contributors": 6,
          "user": [
           "Carreau",
           "SylvainCorlay",
           "TyberiusPrime",
           "aggFTW",
           "axil",
           "boarpig",
           "brazilbean",
           "dofine",
           "ellisonbg",
           "fperez",
           "ghost",
           "mgeier",
           "minrk",
           "satra",
           "sccolbert",
           "takluyver",
           "willingc"
          ]
         },
         {
          "cumulative": 84,
          "date": "2016-05-08T00:00:00",
          "new_contributors": 3,
          "user": [
           "Carreau",
           "FilippoPolo",
           "Phyks",
           "aggFTW",
           "blink1073",
           "captainsafia",
           "cschwem2er",
           "ellisonbg",
           "fperez",
           "jhemmelg",
           "jorisvandenbossche",
           "minrk",
           "rgbkrk",
           "satra",
           "takluyver",
           "willingc"
          ]
         },
         {
          "cumulative": 88,
          "date": "2016-05-15T00:00:00",
          "new_contributors": 4,
          "user": [
           "Carreau",
           "aggFTW",
           "blink1073",
           "bnaul",
           "damianavila",
           "ellisonbg",
           "gibiansky",
           "jakirkham",
           "jcb91",
           "kzapfe",
           "mgeier",
           "minrk",
           "parente",
           "rgbkrk",
           "takluyver",
           "vincent-legoll",
           "willingc"
          ]
         },
         {
          "cumulative": 89,
          "date": "2016-05-22T00:00:00",
          "new_contributors": 1,
          "user": [
           "Carreau",
           "Phyks",
           "aggFTW",
           "blink1073",
           "ecollins",
           "ellisonbg",
           "fonnesbeck",
           "jcb91",
           "minrk",
           "tacaswell",
           "takluyver",
           "willingc"
          ]
         },
         {
          "cumulative": 95,
          "date": "2016-05-29T00:00:00",
          "new_contributors": 6,
          "user": [
           "Carreau",
           "Jeffalltogether",
           "Paul-Yuchao-Dong",
           "aggFTW",
           "bartaelterman",
           "blink1073",
           "bollwyvl",
           "cailiang9",
           "cqcn1991",
           "demianw",
           "flying-sheep",
           "jcb91",
           "jhamrick",
           "jorisvandenbossche",
           "juhasch",
           "minrk",
           "poke1024",
           "takluyver",
           "vincent-legoll",
           "willingc",
           "yuvipanda"
          ]
         },
         {
          "cumulative": 96,
          "date": "2016-06-05T00:00:00",
          "new_contributors": 1,
          "user": [
           "Carreau",
           "SylvainCorlay",
           "aggFTW",
           "blink1073",
           "cqcn1991",
           "ellisonbg",
           "jasongrout",
           "jhamrick",
           "mansweet",
           "minrk",
           "takluyver",
           "willingc",
           "yuvipanda"
          ]
         },
         {
          "cumulative": 99,
          "date": "2016-06-12T00:00:00",
          "new_contributors": 3,
          "user": [
           "Carreau",
           "Shuyib",
           "SylvainCorlay",
           "blink1073",
           "bollwyvl",
           "captainsafia",
           "cqcn1991",
           "elbamos",
           "ellisonbg",
           "fperez",
           "jankatins",
           "jasongrout",
           "jcb91",
           "mgeier",
           "minrk",
           "nsknojj",
           "takluyver",
           "willingc"
          ]
         },
         {
          "cumulative": 106,
          "date": "2016-06-19T00:00:00",
          "new_contributors": 7,
          "user": [
           "Carreau",
           "SylvainCorlay",
           "amueller",
           "b0ry",
           "blink1073",
           "brunobeltran",
           "ellisonbg",
           "fperez",
           "jakirkham",
           "jankatins",
           "michaelaye",
           "minrk",
           "parente",
           "plumSemPy",
           "poldrack",
           "rajarsheem",
           "sparseinference",
           "ssanderson",
           "takluyver"
          ]
         },
         {
          "cumulative": 107,
          "date": "2016-06-26T00:00:00",
          "new_contributors": 1,
          "user": [
           "Carreau",
           "ellisonbg",
           "fperez",
           "ghost",
           "lucaventurini",
           "mccullerlp",
           "mgeier",
           "minrk",
           "poke1024",
           "rgbkrk",
           "ssanderson",
           "takluyver"
          ]
         },
         {
          "cumulative": 111,
          "date": "2016-07-03T00:00:00",
          "new_contributors": 4,
          "user": [
           "Carreau",
           "brazilbean",
           "dhirschfeld",
           "gibiansky",
           "j2kun",
           "mansweet",
           "minrk",
           "mkoske",
           "parente",
           "randy3k",
           "stevengj",
           "takluyver",
           "tritemio",
           "willingc"
          ]
         },
         {
          "cumulative": 114,
          "date": "2016-07-10T00:00:00",
          "new_contributors": 3,
          "user": [
           "Carreau",
           "blink1073",
           "fperez",
           "gibiansky",
           "hainm",
           "michaelaye",
           "minrk",
           "mogthesprog",
           "par2",
           "parente",
           "takluyver",
           "willingc",
           "yuvipanda"
          ]
         },
         {
          "cumulative": 117,
          "date": "2016-07-17T00:00:00",
          "new_contributors": 3,
          "user": [
           "Carreau",
           "blink1073",
           "cqcn1991",
           "csnap001",
           "ellisonbg",
           "jasongrout",
           "jdetle",
           "jorisvandenbossche",
           "jseabold",
           "minrk",
           "mjbright",
           "mogthesprog",
           "tacaswell",
           "takluyver",
           "yuvipanda"
          ]
         },
         {
          "cumulative": 117,
          "date": "2016-07-24T00:00:00",
          "new_contributors": 0,
          "user": [
           "Carreau",
           "brazilbean",
           "ecollins",
           "ellisonbg",
           "flying-sheep",
           "fonnesbeck",
           "hainm",
           "juhasch",
           "takluyver"
          ]
         },
         {
          "cumulative": 123,
          "date": "2016-07-31T00:00:00",
          "new_contributors": 6,
          "user": [
           "Carreau",
           "GreySage",
           "TomAugspurger",
           "aseering",
           "blink1073",
           "damianavila",
           "ellisonbg",
           "flying-sheep",
           "hainm",
           "jakirkham",
           "jdetle",
           "levithatcher",
           "mansweet",
           "marwahaha",
           "minrk",
           "parente",
           "stsievert",
           "takluyver",
           "willingc",
           "yuvipanda"
          ]
         },
         {
          "cumulative": 126,
          "date": "2016-08-07T00:00:00",
          "new_contributors": 3,
          "user": [
           "AnakinShieh",
           "Carreau",
           "bollwyvl",
           "damianavila",
           "fonnesbeck",
           "fperez",
           "gnestor",
           "juhasch",
           "julienr",
           "michaelaye",
           "minrk",
           "mpacer",
           "takluyver"
          ]
         },
         {
          "cumulative": 128,
          "date": "2016-08-14T00:00:00",
          "new_contributors": 2,
          "user": [
           "Carreau",
           "blink1073",
           "clearissimple",
           "damianavila",
           "ghost",
           "gnestor",
           "hainm",
           "jankatins",
           "jasongrout",
           "jcb91",
           "jmarrec",
           "kozo2",
           "marwahaha",
           "michaelaye",
           "minrk",
           "mpacer",
           "nsknojj",
           "parente",
           "poke1024",
           "rgbkrk",
           "takluyver",
           "willingc"
          ]
         },
         {
          "cumulative": 129,
          "date": "2016-08-21T00:00:00",
          "new_contributors": 1,
          "user": [
           "Carreau",
           "blink1073",
           "ellisonbg",
           "flying-sheep",
           "fonnesbeck",
           "gnestor",
           "jdemeyer",
           "minrk",
           "parente",
           "rgbkrk",
           "takluyver",
           "thomasaarholt"
          ]
         },
         {
          "cumulative": 131,
          "date": "2016-08-28T00:00:00",
          "new_contributors": 2,
          "user": [
           "Carreau",
           "SylvainCorlay",
           "bilderbuchi",
           "brazilbean",
           "charleshauser",
           "cqcn1991",
           "damianavila",
           "ellisonbg",
           "fperez",
           "gnestor",
           "jasongrout",
           "minrk",
           "mpacer",
           "parente",
           "takluyver",
           "willingc",
           "yuvipanda"
          ]
         },
         {
          "cumulative": 131,
          "date": "2016-09-04T00:00:00",
          "new_contributors": 0,
          "user": [
           "Carreau",
           "blink1073",
           "damianavila",
           "ellisonbg",
           "jasongrout",
           "jcb91",
           "juhasch",
           "minrk",
           "mpacer",
           "parente",
           "randy3k",
           "takluyver",
           "yuvipanda"
          ]
         },
         {
          "cumulative": 133,
          "date": "2016-09-11T00:00:00",
          "new_contributors": 2,
          "user": [
           "Carreau",
           "SylvainCorlay",
           "blink1073",
           "dsblank",
           "fonnesbeck",
           "gnestor",
           "jdemeyer",
           "lgfa29",
           "minrk",
           "mpacer",
           "randy3k",
           "techtonik",
           "willingc"
          ]
         },
         {
          "cumulative": 136,
          "date": "2016-09-18T00:00:00",
          "new_contributors": 3,
          "user": [
           "Carreau",
           "KhoaLeTea",
           "TomAugspurger",
           "anderbubble",
           "blink1073",
           "damianavila",
           "dsblank",
           "fonnesbeck",
           "gnestor",
           "jankatins",
           "minrk",
           "mpacer",
           "nvdv",
           "takluyver",
           "techtonik",
           "willingc",
           "yuvipanda"
          ]
         },
         {
          "cumulative": 139,
          "date": "2016-09-25T00:00:00",
          "new_contributors": 3,
          "user": [
           "Carreau",
           "blink1073",
           "ellisonbg",
           "evanbiederstedt",
           "flying-sheep",
           "gnestor",
           "jordanst3wart",
           "juhasch",
           "minrk",
           "takluyver",
           "venkateshpatil1"
          ]
         },
         {
          "cumulative": 139,
          "date": "2016-10-02T00:00:00",
          "new_contributors": 0,
          "user": [
           "Carreau",
           "blink1073",
           "ccordoba12",
           "damianavila",
           "dsblank",
           "ellisonbg",
           "gnestor",
           "jasongrout",
           "minrk",
           "takluyver",
           "tritemio",
           "willingc"
          ]
         },
         {
          "cumulative": 144,
          "date": "2016-10-09T00:00:00",
          "new_contributors": 5,
          "user": [
           "Carreau",
           "blink1073",
           "cameronoelsen",
           "damianavila",
           "diego898",
           "flying-sheep",
           "glimmerphoenix",
           "gnestor",
           "jai11",
           "jasongrout",
           "mej",
           "minrk",
           "takluyver",
           "wernight"
          ]
         },
         {
          "cumulative": 145,
          "date": "2016-10-16T00:00:00",
          "new_contributors": 1,
          "user": [
           "Carreau",
           "Piraat",
           "damianavila",
           "ellisonbg",
           "elmerehbi",
           "flying-sheep",
           "gnestor",
           "jai11",
           "jasongrout",
           "minrk",
           "mpacer",
           "parente",
           "rgbkrk",
           "takluyver"
          ]
         },
         {
          "cumulative": 146,
          "date": "2016-10-23T00:00:00",
          "new_contributors": 1,
          "user": [
           "Carreau",
           "aseering",
           "elmerehbi",
           "ghost",
           "gnestor",
           "jasongrout",
           "minrk",
           "mpacer",
           "rgbkrk",
           "takluyver",
           "williamstein",
           "yuvipanda"
          ]
         },
         {
          "cumulative": 150,
          "date": "2016-10-30T00:00:00",
          "new_contributors": 4,
          "user": [
           "AC130USpectre",
           "Carreau",
           "DSLituiev",
           "HemanK",
           "Zhang-O",
           "elmerehbi",
           "gnestor",
           "jasongrout",
           "minrk",
           "rgbkrk",
           "takluyver",
           "williamstein",
           "willingc",
           "yuvipanda"
          ]
         },
         {
          "cumulative": 154,
          "date": "2016-11-06T00:00:00",
          "new_contributors": 4,
          "user": [
           "Carreau",
           "Coldmooon",
           "HemanK",
           "JamiesHQ",
           "aseering",
           "cailiang9",
           "damianavila",
           "elmerehbi",
           "jakirkham",
           "jasongrout",
           "minrk",
           "rgbkrk",
           "samarsultan",
           "takluyver",
           "vizmotion",
           "williamstein",
           "willingc"
          ]
         },
         {
          "cumulative": 156,
          "date": "2016-11-13T00:00:00",
          "new_contributors": 2,
          "user": [
           "Carreau",
           "gnestor",
           "jcb91",
           "jfbercher",
           "minrk",
           "mpacer",
           "paulmasson",
           "rgbkrk",
           "tacaswell",
           "takluyver",
           "williamstein",
           "yuvipanda"
          ]
         },
         {
          "cumulative": 159,
          "date": "2016-11-20T00:00:00",
          "new_contributors": 3,
          "user": [
           "Carreau",
           "blink1073",
           "dsblank",
           "gnestor",
           "jcb91",
           "jeremydouglass",
           "jfbercher",
           "liviu-",
           "minrk",
           "mpacer",
           "rgbkrk",
           "tacaswell",
           "takluyver",
           "ultradian"
          ]
         },
         {
          "cumulative": 161,
          "date": "2016-11-27T00:00:00",
          "new_contributors": 2,
          "user": [
           "Carreau",
           "MarcelSimon",
           "amueller",
           "andreavicere",
           "flying-sheep",
           "gnestor",
           "minrk",
           "parente",
           "rgbkrk",
           "takluyver"
          ]
         },
         {
          "cumulative": 167,
          "date": "2016-12-04T00:00:00",
          "new_contributors": 6,
          "user": [
           "Carreau",
           "JCEmmons",
           "bighomeyg",
           "blink1073",
           "damianavila",
           "dopplershift",
           "flying-sheep",
           "fonnesbeck",
           "gnestor",
           "gsemet",
           "jakirkham",
           "jasongrout",
           "jdetle",
           "martinal",
           "minrk",
           "mpacer",
           "rgbkrk",
           "smcinerney",
           "takluyver"
          ]
         },
         {
          "cumulative": 170,
          "date": "2016-12-11T00:00:00",
          "new_contributors": 3,
          "user": [
           "Carreau",
           "RafalSkolasinski",
           "akhmerov",
           "aseering",
           "flying-sheep",
           "fonnesbeck",
           "gnestor",
           "horta",
           "jasongrout",
           "mgeier",
           "minrk",
           "rgbkrk",
           "szeitlin",
           "takluyver",
           "williamstein"
          ]
         },
         {
          "cumulative": 172,
          "date": "2016-12-18T00:00:00",
          "new_contributors": 2,
          "user": [
           "Carreau",
           "a2232189",
           "akhmerov",
           "blink1073",
           "damianavila",
           "eryshev",
           "flying-sheep",
           "fonnesbeck",
           "fperez",
           "gnestor",
           "jasongrout",
           "mgeier",
           "michaelaye",
           "minrk",
           "mpacer",
           "rgbkrk",
           "takluyver",
           "willingc"
          ]
         },
         {
          "cumulative": 172,
          "date": "2016-12-25T00:00:00",
          "new_contributors": 0,
          "user": [
           "Carreau",
           "blink1073",
           "cailiang9",
           "ellisonbg",
           "fonnesbeck",
           "fperez",
           "gnestor",
           "juhasch",
           "mgeier",
           "minrk",
           "mpacer",
           "rgbkrk",
           "takluyver"
          ]
         },
         {
          "cumulative": 174,
          "date": "2017-01-01T00:00:00",
          "new_contributors": 2,
          "user": [
           "jonasrauber",
           "mpacer",
           "psigen",
           "rgbkrk",
           "takluyver"
          ]
         },
         {
          "cumulative": 175,
          "date": "2017-01-08T00:00:00",
          "new_contributors": 1,
          "user": [
           "BoPeng",
           "Carreau",
           "aseering",
           "damianavila",
           "ellisonbg",
           "jasongrout",
           "mgeier",
           "minrk",
           "rgbkrk",
           "takluyver"
          ]
         },
         {
          "cumulative": 179,
          "date": "2017-01-15T00:00:00",
          "new_contributors": 4,
          "user": [
           "Carreau",
           "aiguofer",
           "amueller",
           "blink1073",
           "damianavila",
           "diego898",
           "edoardovivo",
           "gnestor",
           "jhamrick",
           "meeseeksdev[bot]",
           "minrk",
           "rgbkrk",
           "takluyver",
           "wikiped",
           "yuvipanda"
          ]
         },
         {
          "cumulative": 183,
          "date": "2017-01-22T00:00:00",
          "new_contributors": 4,
          "user": [
           "Carreau",
           "SylvainCorlay",
           "aiguofer",
           "blink1073",
           "cailiang9",
           "damianavila",
           "dsblank",
           "gnestor",
           "ivanov",
           "jasongrout",
           "jcb91",
           "juhasch",
           "minrk",
           "mpacer",
           "myyc",
           "rgbkrk",
           "takluyver",
           "themrmax",
           "yelled1"
          ]
         },
         {
          "cumulative": 188,
          "date": "2017-01-29T00:00:00",
          "new_contributors": 5,
          "user": [
           "Carreau",
           "aseering",
           "blink1073",
           "bogdanteleaga",
           "ggrrll",
           "gnestor",
           "ivanov",
           "jcb91",
           "jinmehta13",
           "minrk",
           "parente",
           "pylang",
           "rainwoodman",
           "rgbkrk",
           "takluyver",
           "themrmax",
           "willingc"
          ]
         },
         {
          "cumulative": 191,
          "date": "2017-02-05T00:00:00",
          "new_contributors": 3,
          "user": [
           "AndreiCostinescu",
           "Carreau",
           "FilippoPolo",
           "MatthewSteen",
           "SylvainCorlay",
           "blink1073",
           "ellisonbg",
           "flying-sheep",
           "ggrrll",
           "gnestor",
           "jasongrout",
           "jaykinghorn",
           "jdemeyer",
           "lbustelo",
           "martinal",
           "meeseeksdev[bot]",
           "minrk",
           "parente",
           "rgbkrk",
           "takluyver",
           "themrmax",
           "thomasaarholt",
           "tritemio",
           "willingc"
          ]
         },
         {
          "cumulative": 198,
          "date": "2017-02-12T00:00:00",
          "new_contributors": 7,
          "user": [
           "Carreau",
           "JCEmmons",
           "Jessime",
           "SylvainCorlay",
           "andram",
           "blink1073",
           "bollwyvl",
           "cheshirecats",
           "daniel1124",
           "dslemusp",
           "ebraminio",
           "ellisonbg",
           "gnestor",
           "jasongrout",
           "jfbercher",
           "juhasch",
           "michaelaye",
           "minrk",
           "rgaiacs",
           "samarsultan",
           "takluyver"
          ]
         },
         {
          "cumulative": 205,
          "date": "2017-02-19T00:00:00",
          "new_contributors": 7,
          "user": [
           "Carreau",
           "MissOgra",
           "SylvainCorlay",
           "blink1073",
           "ellisonbg",
           "ericdill",
           "flying-sheep",
           "gnestor",
           "hlignin",
           "janfreyberg",
           "jasongrout",
           "jcb91",
           "jfbercher",
           "linas",
           "michaelaye",
           "minrk",
           "mpacer",
           "parente",
           "rgaiacs",
           "rgbkrk",
           "ronteo",
           "rylanchiu",
           "samarsultan",
           "tacaswell",
           "takluyver",
           "willingc"
          ]
         },
         {
          "cumulative": 209,
          "date": "2017-02-26T00:00:00",
          "new_contributors": 4,
          "user": [
           "Carreau",
           "SherryNJU",
           "akaihola",
           "blink1073",
           "daniel1124",
           "ellisonbg",
           "gnestor",
           "jorisvandenbossche",
           "minrk",
           "psychemedia",
           "rylanchiu",
           "samarsultan",
           "takluyver",
           "vidartf",
           "willingc"
          ]
         },
         {
          "cumulative": 212,
          "date": "2017-03-05T00:00:00",
          "new_contributors": 3,
          "user": [
           "11257512",
           "Carreau",
           "blink1073",
           "botcs",
           "cailiang9",
           "ccordoba12",
           "daniel1124",
           "dsblank",
           "ellisonbg",
           "ggrrll",
           "gnestor",
           "ivanov",
           "jorisvandenbossche",
           "juhasch",
           "manansatra3",
           "minrk",
           "mpacer",
           "rgbkrk",
           "samarsultan",
           "stevengj",
           "takluyver",
           "vidartf",
           "willingc",
           "yuvipanda"
          ]
         },
         {
          "cumulative": 213,
          "date": "2017-03-12T00:00:00",
          "new_contributors": 1,
          "user": [
           "Akelio-zhang",
           "Carreau",
           "fonnesbeck",
           "ggrrll",
           "gnestor",
           "minrk",
           "mpacer",
           "rgbkrk",
           "takluyver",
           "yuvipanda"
          ]
         },
         {
          "cumulative": 217,
          "date": "2017-03-19T00:00:00",
          "new_contributors": 4,
          "user": [
           "Carreau",
           "Fandekasp",
           "JamiesHQ",
           "JoelBondurant",
           "blink1073",
           "ccordoba12",
           "damianavila",
           "dkrenn",
           "ellisonbg",
           "gnestor",
           "jasongrout",
           "joined",
           "meeseeksdev[bot]",
           "michaelaye",
           "minrk",
           "mpacer",
           "rgbkrk",
           "takluyver"
          ]
         },
         {
          "cumulative": 223,
          "date": "2017-03-26T00:00:00",
          "new_contributors": 6,
          "user": [
           "Analect",
           "Carreau",
           "JamiesHQ",
           "ZelphirKaltstahl",
           "blink1073",
           "brazilbean",
           "cipri-tom",
           "damianavila",
           "dkrenn",
           "ellisonbg",
           "ggrrll",
           "gnestor",
           "jhamrick",
           "louise-davies",
           "mgeier",
           "minrk",
           "mpacer",
           "parmentelat",
           "praveen049",
           "rgbkrk",
           "sparseinference",
           "takluyver"
          ]
         },
         {
          "cumulative": 226,
          "date": "2017-04-02T00:00:00",
          "new_contributors": 3,
          "user": [
           "Analect",
           "JCEmmons",
           "JamiesHQ",
           "Phyks",
           "SimonBiggs",
           "blink1073",
           "ccordoba12",
           "coveralls",
           "dkrenn",
           "ellisonbg",
           "fonnesbeck",
           "gnestor",
           "jasongrout",
           "juhasch",
           "michaelaye",
           "minrk",
           "quaxquax",
           "rgbkrk",
           "sparseinference",
           "takluyver",
           "thomasaarholt"
          ]
         },
         {
          "cumulative": 231,
          "date": "2017-04-09T00:00:00",
          "new_contributors": 5,
          "user": [
           "AkhilGNair",
           "Analect",
           "Carreau",
           "EgZvor",
           "JCEmmons",
           "Jessime",
           "abalter",
           "amueller",
           "blink1073",
           "bluss",
           "ccordoba12",
           "dhirschfeld",
           "fonnesbeck",
           "gboeing",
           "gnestor",
           "jasongrout",
           "michaelaye",
           "minrk",
           "mpacer",
           "psychemedia",
           "rgbkrk",
           "samarsultan",
           "tacaswell",
           "takluyver",
           "vidartf",
           "wikiped",
           "willingc"
          ]
         },
         {
          "cumulative": 237,
          "date": "2017-04-16T00:00:00",
          "new_contributors": 6,
          "user": [
           "Carreau",
           "JCEmmons",
           "JamiesHQ",
           "ZelphirKaltstahl",
           "dbl001",
           "dsblank",
           "ellisonbg",
           "gnestor",
           "jankatins",
           "jasongrout",
           "juhasch",
           "k1trd",
           "louise-davies",
           "mgeier",
           "minrk",
           "mpacer",
           "parente",
           "peter-ch",
           "rgbkrk",
           "scholer",
           "soamaven",
           "takluyver",
           "tjnd89",
           "tritemio"
          ]
         },
         {
          "cumulative": 242,
          "date": "2017-04-23T00:00:00",
          "new_contributors": 5,
          "user": [
           "Carreau",
           "JCEmmons",
           "TomAugspurger",
           "amirsch",
           "bertjwregeer",
           "cancan101",
           "coveralls",
           "fperez",
           "gnestor",
           "jasongrout",
           "juhasch",
           "mebersole",
           "minrk",
           "mpacer",
           "odedbd",
           "rgbkrk",
           "takluyver"
          ]
         },
         {
          "cumulative": 249,
          "date": "2017-04-30T00:00:00",
          "new_contributors": 7,
          "user": [
           "Carreau",
           "GadgetSteve",
           "JCEmmons",
           "JamiesHQ",
           "KevinBaudin",
           "ZelphirKaltstahl",
           "alejandrobll",
           "bertjwregeer",
           "blink1073",
           "brunobeltran",
           "cailiang9",
           "ellisonbg",
           "eteq",
           "gnestor",
           "hhuuggoo",
           "hyliu1989",
           "jankatins",
           "jasongrout",
           "mforbes",
           "mgeier",
           "minrk",
           "mpacer",
           "nvdv",
           "poldrack",
           "pylang",
           "rainwoodman",
           "rgbkrk",
           "takluyver",
           "willingc"
          ]
         },
         {
          "cumulative": 253,
          "date": "2017-05-07T00:00:00",
          "new_contributors": 4,
          "user": [
           "JamiesHQ",
           "Phyks",
           "ZelphirKaltstahl",
           "abalter",
           "blink1073",
           "devyhia",
           "ellisonbg",
           "fonnesbeck",
           "gnestor",
           "ipcoder",
           "lebedov",
           "maartenbreddels",
           "minrk",
           "oztalha",
           "parente",
           "takluyver"
          ]
         },
         {
          "cumulative": 254,
          "date": "2017-05-14T00:00:00",
          "new_contributors": 1,
          "user": [
           "ZelphirKaltstahl",
           "abalter",
           "blink1073",
           "jasongrout",
           "maartenbreddels",
           "minrk",
           "mpacer",
           "oztalha",
           "santoshgsk",
           "sparseinference",
           "takluyver",
           "willingc"
          ]
         },
         {
          "cumulative": 257,
          "date": "2017-05-21T00:00:00",
          "new_contributors": 3,
          "user": [
           "Carreau",
           "GadgetSteve",
           "JCEmmons",
           "bighomeyg",
           "blink1073",
           "cailiang9",
           "damianavila",
           "danieljoonlee",
           "dsblank",
           "ellisonbg",
           "flrgsr",
           "flying-sheep",
           "ghost",
           "ijstokes",
           "jasongrout",
           "juhasch",
           "minrk",
           "mpacer",
           "parente",
           "rgbkrk",
           "ssanderson",
           "stevengj",
           "takluyver",
           "themrmax"
          ]
         },
         {
          "cumulative": 261,
          "date": "2017-05-28T00:00:00",
          "new_contributors": 4,
          "user": [
           "BoPeng",
           "Carreau",
           "blink1073",
           "damianavila",
           "dsblank",
           "jan-glx",
           "jasongrout",
           "kevin-bates",
           "maartenbreddels",
           "minrk",
           "mpacer",
           "parente",
           "ralexx",
           "rgbkrk",
           "simonbyrne",
           "stevengj",
           "takluyver"
          ]
         },
         {
          "cumulative": 269,
          "date": "2017-06-04T00:00:00",
          "new_contributors": 8,
          "user": [
           "Carreau",
           "JCEmmons",
           "SamuelMarks",
           "amueller",
           "dbl001",
           "defjaf",
           "ecollins",
           "ellisonbg",
           "gempel",
           "ghazpar",
           "gnestor",
           "jankatins",
           "jason-s",
           "kevin-bates",
           "lzkelley",
           "minrk",
           "parente",
           "pde",
           "rgbkrk",
           "rolweber",
           "takluyver"
          ]
         },
         {
          "cumulative": 270,
          "date": "2017-06-11T00:00:00",
          "new_contributors": 1,
          "user": [
           "Analect",
           "Carreau",
           "DSLituiev",
           "JCEmmons",
           "blink1073",
           "coveralls",
           "dopplershift",
           "ellisonbg",
           "gnestor",
           "minrk",
           "mscuthbert",
           "rgbkrk",
           "stevengj",
           "takluyver",
           "vidartf"
          ]
         },
         {
          "cumulative": 276,
          "date": "2017-06-18T00:00:00",
          "new_contributors": 6,
          "user": [
           "Carreau",
           "Jeitan",
           "Niwroc",
           "blink1073",
           "coveralls",
           "defjaf",
           "dhirschfeld",
           "ellisonbg",
           "ezietsman",
           "gnestor",
           "infinity0",
           "juhasch",
           "lmarti",
           "lzkelley",
           "minrk",
           "rjtjs",
           "takluyver",
           "vidartf"
          ]
         },
         {
          "cumulative": 278,
          "date": "2017-06-25T00:00:00",
          "new_contributors": 2,
          "user": [
           "Carreau",
           "cancan101",
           "coveralls",
           "dhirschfeld",
           "dsblank",
           "ellisonbg",
           "gnestor",
           "jcb91",
           "juhasch",
           "maver1ck",
           "minrk",
           "mpacer",
           "nateGeorge",
           "rgbkrk",
           "tacaswell",
           "takluyver",
           "tsatie"
          ]
         },
         {
          "cumulative": 278,
          "date": "2017-07-02T00:00:00",
          "new_contributors": 0,
          "user": [
           "GadgetSteve",
           "JCEmmons",
           "amueller",
           "damianavila",
           "dbl001",
           "dhirschfeld",
           "dopplershift",
           "flying-sheep",
           "gnestor",
           "mpacer",
           "rgbkrk",
           "rolweber",
           "takluyver"
          ]
         },
         {
          "cumulative": 285,
          "date": "2017-07-09T00:00:00",
          "new_contributors": 7,
          "user": [
           "Carreau",
           "JCEmmons",
           "aulon",
           "cancan101",
           "chrisrb10",
           "ellisonbg",
           "essandess",
           "flying-sheep",
           "gnestor",
           "guillaume-chevalier",
           "ioancw",
           "pwl",
           "rgbkrk",
           "rolweber",
           "royitaqi",
           "takluyver",
           "vidartf",
           "willingc"
          ]
         },
         {
          "cumulative": 289,
          "date": "2017-07-16T00:00:00",
          "new_contributors": 4,
          "user": [
           "JCEmmons",
           "MatthewSteen",
           "cancan101",
           "cholmcc",
           "jdriordan",
           "minrk",
           "rgbkrk",
           "takluyver",
           "vharsh",
           "zeka0"
          ]
         },
         {
          "cumulative": 296,
          "date": "2017-07-23T00:00:00",
          "new_contributors": 7,
          "user": [
           "Carreau",
           "JamiesHQ",
           "Madhu94",
           "Neurrone",
           "bighomeyg",
           "blink1073",
           "damianavila",
           "defjaf",
           "ellisonbg",
           "gnestor",
           "jfbercher",
           "jlintusaari",
           "jozjan",
           "juhasch",
           "kwlzn",
           "lmarti",
           "minrk",
           "mpacer",
           "rgbkrk",
           "rolweber",
           "sccolbert",
           "seekFire",
           "takluyver",
           "vietvudanh"
          ]
         },
         {
          "cumulative": 302,
          "date": "2017-07-30T00:00:00",
          "new_contributors": 6,
          "user": [
           "Carreau",
           "JoshuaC3",
           "blink1073",
           "coveralls",
           "ellisonbg",
           "flying-sheep",
           "gnestor",
           "h3ct0rjs",
           "ian-r-rose",
           "jasongrout",
           "jcb91",
           "jfbercher",
           "lcnature",
           "luissalgadofreire",
           "minrk",
           "mpacer",
           "parente",
           "pisteps",
           "rgbkrk",
           "rolweber",
           "takluyver",
           "tritemio"
          ]
         },
         {
          "cumulative": 307,
          "date": "2017-08-06T00:00:00",
          "new_contributors": 5,
          "user": [
           "Carreau",
           "GadgetSteve",
           "Madhu94",
           "bigquant",
           "dhirschfeld",
           "ellisonbg",
           "ghazpar",
           "gnestor",
           "jimmy-walker",
           "kevin-bates",
           "libphy",
           "minrk",
           "mpacer",
           "reckoner",
           "samarsultan",
           "takluyver",
           "tritemio",
           "wendingp"
          ]
         },
         {
          "cumulative": 310,
          "date": "2017-08-13T00:00:00",
          "new_contributors": 3,
          "user": [
           "Carreau",
           "CrocodileDandy",
           "JCEmmons",
           "cancan101",
           "coveralls",
           "dsblank",
           "fonnesbeck",
           "ghost",
           "glyph",
           "gnestor",
           "infinity0",
           "luissalgadofreire",
           "minrk",
           "mpacer",
           "stonebig",
           "tacaswell",
           "takluyver",
           "thomasaarholt",
           "vidartf",
           "wendingp",
           "willingc",
           "woodrujm"
          ]
         },
         {
          "cumulative": 317,
          "date": "2017-08-20T00:00:00",
          "new_contributors": 7,
          "user": [
           "Faur",
           "HEHenson",
           "Madhu94",
           "dietmarw",
           "dsblank",
           "fonnesbeck",
           "gabyx",
           "ghost",
           "gnestor",
           "jasongrout",
           "jzf2101",
           "michaelaye",
           "minrk",
           "mpacer",
           "oeway",
           "rgbkrk",
           "rolweber",
           "takluyver",
           "unnamedplay-r",
           "willingc",
           "woodrujm"
          ]
         },
         {
          "cumulative": 320,
          "date": "2017-08-27T00:00:00",
          "new_contributors": 3,
          "user": [
           "JCEmmons",
           "captainsafia",
           "coveralls",
           "dofine",
           "dopplershift",
           "fonnesbeck",
           "gnestor",
           "hroncok",
           "hroser",
           "jzf2101",
           "kxiluri",
           "minrk",
           "mpacer",
           "pylang",
           "rgbkrk",
           "rolweber",
           "takluyver",
           "unnamedplay-r",
           "willingc"
          ]
         },
         {
          "cumulative": 326,
          "date": "2017-09-03T00:00:00",
          "new_contributors": 6,
          "user": [
           "SamLau95",
           "blink1073",
           "catherinedodge",
           "dsblank",
           "fonnesbeck",
           "hainm",
           "juhasch",
           "maartenbreddels",
           "mingrammer",
           "minrk",
           "mpacer",
           "mscuthbert",
           "nabriis",
           "rgbkrk",
           "rolweber",
           "simonm3",
           "soumith",
           "stonebig",
           "tacaswell",
           "takluyver"
          ]
         },
         {
          "cumulative": 329,
          "date": "2017-09-10T00:00:00",
          "new_contributors": 3,
          "user": [
           "Carreau",
           "JCEmmons",
           "Ross-Jo",
           "blink1073",
           "dbl001",
           "dsblank",
           "ellisonbg",
           "eseiver",
           "jimmy-walker",
           "minrk",
           "mpacer",
           "mscuthbert",
           "rgbkrk",
           "soamaven",
           "stonebig",
           "wanglongqi"
          ]
         },
         {
          "cumulative": 331,
          "date": "2017-09-17T00:00:00",
          "new_contributors": 2,
          "user": [
           "Carreau",
           "JCEmmons",
           "SimonBiggs",
           "clived2",
           "dietmarw",
           "ellisonbg",
           "fonnesbeck",
           "gnestor",
           "jasongrout",
           "juhasch",
           "minrk",
           "mpacer",
           "rgbkrk",
           "rlamorea",
           "soumith",
           "takluyver",
           "willingc"
          ]
         },
         {
          "cumulative": 335,
          "date": "2017-09-24T00:00:00",
          "new_contributors": 4,
          "user": [
           "JCEmmons",
           "Madhu94",
           "SimonBiggs",
           "blink1073",
           "cailiang9",
           "cancan101",
           "cjw296",
           "ellisonbg",
           "fbilbao",
           "jianzi123",
           "lzkelley",
           "matlabat",
           "minrk",
           "nvdv",
           "parente",
           "rgbkrk",
           "takluyver"
          ]
         },
         {
          "cumulative": 338,
          "date": "2017-10-01T00:00:00",
          "new_contributors": 3,
          "user": [
           "Madhu94",
           "adl",
           "axil",
           "blink1073",
           "choldgraf",
           "clived2",
           "dhirschfeld",
           "dietmarw",
           "ellisonbg",
           "gnestor",
           "jasongrout",
           "jcb91",
           "jeremydouglass",
           "jianzi123",
           "juhasch",
           "jzf2101",
           "michaelaye",
           "minrk",
           "mpacer",
           "rgbkrk",
           "takluyver",
           "vickorian",
           "willingc"
          ]
         },
         {
          "cumulative": 344,
          "date": "2017-10-08T00:00:00",
          "new_contributors": 6,
          "user": [
           "Carreau",
           "Eyshika",
           "JosephCardwell",
           "Madhu94",
           "alexhagen",
           "blink1073",
           "bollwyvl",
           "choldgraf",
           "chuaxr",
           "damianavila",
           "dsblank",
           "ellisonbg",
           "elmerehbi",
           "gnestor",
           "ian-r-rose",
           "jcb91",
           "juhasch",
           "maartenbreddels",
           "minrk",
           "miquelmarti",
           "mpacer",
           "ragnerok",
           "rgbkrk",
           "takluyver",
           "tjnd89",
           "wendingp",
           "yuvipanda"
          ]
         },
         {
          "cumulative": 350,
          "date": "2017-10-15T00:00:00",
          "new_contributors": 6,
          "user": [
           "Carreau",
           "Faur",
           "Madhu94",
           "axil",
           "blink1073",
           "ccordoba12",
           "chans1239",
           "danpf",
           "dclong",
           "dhirschfeld",
           "dsblank",
           "ebraminio",
           "ellisonbg",
           "gnestor",
           "jasongrout",
           "kiendang",
           "mheilman",
           "minrk",
           "parente",
           "rgbkrk",
           "rolweber",
           "shubhamgoel27",
           "takluyver",
           "yuvipanda"
          ]
         },
         {
          "cumulative": 353,
          "date": "2017-10-22T00:00:00",
          "new_contributors": 3,
          "user": [
           "Carreau",
           "DrNickBailey",
           "Madhu94",
           "aaronmyatt",
           "blink1073",
           "chans1239",
           "ellisonbg",
           "gnestor",
           "ian-r-rose",
           "jakirkham",
           "jasongrout",
           "jcb91",
           "kevin-bates",
           "mheilman",
           "minrk",
           "mpacer",
           "parente",
           "ragnerok",
           "rgbkrk",
           "rpep",
           "takluyver",
           "willingc"
          ]
         },
         {
          "cumulative": 358,
          "date": "2017-10-29T00:00:00",
          "new_contributors": 5,
          "user": [
           "Carreau",
           "DrNickBailey",
           "Eyshika",
           "JCEmmons",
           "JocelynDelalande",
           "Madhu94",
           "aaronmyatt",
           "blink1073",
           "dsblank",
           "eseiver",
           "gabyx",
           "gnestor",
           "h3ct0rjs",
           "jasongrout",
           "jhamrick",
           "lzkelley",
           "maartenbreddels",
           "meeseeksdev[bot]",
           "mgeier",
           "minrk",
           "mpacer",
           "mycarta",
           "pylang",
           "rgbkrk",
           "rolweber",
           "rpep",
           "takluyver",
           "watercrossing",
           "williamsmj",
           "willingc",
           "zachjweiner"
          ]
         },
         {
          "cumulative": 363,
          "date": "2017-11-05T00:00:00",
          "new_contributors": 5,
          "user": [
           "Carreau",
           "GadgetSteve",
           "aaronmyatt",
           "betatim",
           "blink1073",
           "ctb",
           "damianavila",
           "ellisonbg",
           "ghost",
           "gnestor",
           "jcb91",
           "kevin-bates",
           "meeseeksdev[bot]",
           "mgeier",
           "minrk",
           "mpacer",
           "ptbrowne",
           "ragnerok",
           "rgbkrk",
           "rwmajor2",
           "takluyver",
           "viaregio",
           "vidartf"
          ]
         },
         {
          "cumulative": 365,
          "date": "2017-11-12T00:00:00",
          "new_contributors": 2,
          "user": [
           "Carreau",
           "LizMcQuillan",
           "Madhu94",
           "aaronmyatt",
           "arjun921",
           "betatim",
           "bollwyvl",
           "cancan101",
           "danpf",
           "dsblank",
           "ghost",
           "gnestor",
           "jcb91",
           "juhasch",
           "oeway",
           "parmentelat",
           "rgbkrk",
           "takluyver",
           "willingc"
          ]
         },
         {
          "cumulative": 370,
          "date": "2017-11-19T00:00:00",
          "new_contributors": 5,
          "user": [
           "Atcold",
           "Carreau",
           "HaiKju",
           "Madhu94",
           "dsblank",
           "gnestor",
           "jcb91",
           "jherbel",
           "micahscopes",
           "minrk",
           "mpacer",
           "parmentelat",
           "psychemedia",
           "tacaswell",
           "takluyver",
           "toqduj",
           "yuvipanda"
          ]
         },
         {
          "cumulative": 374,
          "date": "2017-11-26T00:00:00",
          "new_contributors": 4,
          "user": [
           "Carreau",
           "Madhu94",
           "Paul-Yuchao-Dong",
           "achampion",
           "bitMaestro",
           "blink1073",
           "dsblank",
           "ghazpar",
           "jasongrout",
           "jzf2101",
           "madanh",
           "minrk",
           "mpacer",
           "parrt",
           "rgbkrk",
           "takluyver"
          ]
         },
         {
          "cumulative": 376,
          "date": "2017-12-03T00:00:00",
          "new_contributors": 2,
          "user": [
           "Carreau",
           "JCEmmons",
           "Madhu94",
           "blink1073",
           "flying-sheep",
           "gnestor",
           "jasongrout",
           "ksze",
           "mmagnuski",
           "rgbkrk",
           "rolweber",
           "samarsultan",
           "takluyver",
           "yuvipanda"
          ]
         },
         {
          "cumulative": 382,
          "date": "2017-12-10T00:00:00",
          "new_contributors": 6,
          "user": [
           "Carreau",
           "EvansDaniel",
           "JCEmmons",
           "afshin",
           "blink1073",
           "bollwyvl",
           "clived2",
           "gnestor",
           "kadlugan",
           "kirit93",
           "maartenbreddels",
           "rgbkrk",
           "shashi",
           "stonebig",
           "takluyver",
           "winner1986"
          ]
         },
         {
          "cumulative": 388,
          "date": "2017-12-17T00:00:00",
          "new_contributors": 6,
          "user": [
           "Axle7XStriker",
           "Carreau",
           "MatthewSteen",
           "blink1073",
           "davidfarmer",
           "ellisonbg",
           "forbxy",
           "gnestor",
           "invisibleroads",
           "jdemeyer",
           "makmanalp",
           "mpacer",
           "orobsonpires",
           "rgbkrk",
           "takluyver"
          ]
         },
         {
          "cumulative": 394,
          "date": "2017-12-24T00:00:00",
          "new_contributors": 6,
          "user": [
           "AbdealiJK",
           "Axle7XStriker",
           "RafalSkolasinski",
           "blink1073",
           "bollwyvl",
           "cvanelteren",
           "dmvieira",
           "fonnesbeck",
           "ghost",
           "habemus-papadum",
           "jcb91",
           "maartenbreddels",
           "minrk",
           "orobsonpires",
           "sargense",
           "shiti-saxena",
           "takluyver",
           "toqduj"
          ]
         },
         {
          "cumulative": 396,
          "date": "2017-12-31T00:00:00",
          "new_contributors": 2,
          "user": [
           "Axle7XStriker",
           "Madhu94",
           "jasongrout",
           "jaypeedevlin",
           "p2ya",
           "stonebig"
          ]
         },
         {
          "cumulative": 401,
          "date": "2018-01-07T00:00:00",
          "new_contributors": 5,
          "user": [
           "AbdealiJK",
           "Axle7XStriker",
           "Carreau",
           "GabySalgado",
           "SylvainCorlay",
           "acrule",
           "avriLee",
           "betatim",
           "blink1073",
           "bollwyvl",
           "cancan101",
           "charlie718y",
           "dsblank",
           "gnestor",
           "jasongrout",
           "maartenbreddels",
           "mikkokotila",
           "rgbkrk",
           "stonebig",
           "takluyver",
           "unnamedplay-r",
           "willingc"
          ]
         },
         {
          "cumulative": 406,
          "date": "2018-01-14T00:00:00",
          "new_contributors": 5,
          "user": [
           "blink1073",
           "bollwyvl",
           "cancan101",
           "ccordoba12",
           "dmadeka",
           "gnestor",
           "gunjannaik",
           "hero0926",
           "jasongrout",
           "jdemeyer",
           "minrk",
           "mpacer",
           "shoval",
           "taion",
           "takluyver"
          ]
         },
         {
          "cumulative": 417,
          "date": "2018-01-21T00:00:00",
          "new_contributors": 11,
          "user": [
           "Carreau",
           "Madhu94",
           "Naereen",
           "betatim",
           "bjodah",
           "chris246",
           "cipri-tom",
           "cqcn1991",
           "dsblank",
           "ellisonbg",
           "foice",
           "forbxy",
           "gnestor",
           "ian-r-rose",
           "jasongrout",
           "maartenbreddels",
           "megamindbrian",
           "mlucool",
           "mojones",
           "rwmajor2",
           "sem-geologist",
           "stczwd",
           "takluyver",
           "uduse",
           "unnamedplay-r",
           "williamstein",
           "yshkk"
          ]
         },
         {
          "cumulative": 426,
          "date": "2018-01-28T00:00:00",
          "new_contributors": 9,
          "user": [
           "Carreau",
           "Madhu94",
           "Naereen",
           "Nikolai-Hlubek",
           "SumNeuron",
           "ZelphirKaltstahl",
           "cvanelteren",
           "draperjames",
           "dsblank",
           "gnestor",
           "ian-r-rose",
           "jdemeyer",
           "leontp587",
           "louis925",
           "minrk",
           "navoshta",
           "ns23",
           "p2ya",
           "pybokeh",
           "rwmajor2",
           "sharonaire",
           "takluyver"
          ]
         },
         {
          "cumulative": 430,
          "date": "2018-02-04T00:00:00",
          "new_contributors": 4,
          "user": [
           "Axle7XStriker",
           "IHackPy",
           "Madhu94",
           "abalter",
           "damianavila",
           "dsblank",
           "mmagnuski",
           "parente",
           "platise",
           "rasbt",
           "shaad1994",
           "takluyver",
           "yuvipanda"
          ]
         },
         {
          "cumulative": 434,
          "date": "2018-02-11T00:00:00",
          "new_contributors": 4,
          "user": [
           "EricGallimore",
           "Huzo",
           "Tyriar",
           "abalter",
           "blink1073",
           "cancan101",
           "gnestor",
           "jzf2101",
           "mgeier",
           "mpacer",
           "orobsonpires",
           "ragnerok",
           "rasbt",
           "rgbkrk",
           "snidersd",
           "tacaswell",
           "takluyver",
           "unnamedplay-r",
           "wernight"
          ]
         },
         {
          "cumulative": 440,
          "date": "2018-02-18T00:00:00",
          "new_contributors": 6,
          "user": [
           "Axle7XStriker",
           "Jessime",
           "Madhu94",
           "SimonBiggs",
           "aaronmyatt",
           "aok1425",
           "cancan101",
           "drorata",
           "gnestor",
           "hendrixet",
           "jmhsi",
           "mdboom",
           "minrk",
           "mpacer",
           "platise",
           "rgbkrk",
           "simonbyrne",
           "stevengj",
           "takluyver",
           "tomersagi"
          ]
         },
         {
          "cumulative": 444,
          "date": "2018-02-25T00:00:00",
          "new_contributors": 4,
          "user": [
           "Faur",
           "Jeitan",
           "JoeBlair",
           "JosephCardwell",
           "Khalilsqu",
           "PeterXiaoGuo",
           "SimonBiggs",
           "cancan101",
           "drorata",
           "gnestor",
           "gsemet",
           "ian-r-rose",
           "juhasch",
           "louis925",
           "minrk",
           "mpacer",
           "sargense",
           "techtonik",
           "wstomv"
          ]
         },
         {
          "cumulative": 447,
          "date": "2018-03-04T00:00:00",
          "new_contributors": 3,
          "user": [
           "Carreau",
           "Khalilsqu",
           "aaronmyatt",
           "dsblank",
           "forbxy",
           "ghost",
           "gnestor",
           "gunjannaik",
           "jfbercher",
           "jzf2101",
           "labeebee",
           "minrk",
           "scaramouche-00",
           "sunpope",
           "takluyver"
          ]
         },
         {
          "cumulative": 451,
          "date": "2018-03-11T00:00:00",
          "new_contributors": 4,
          "user": [
           "Carreau",
           "Coldmooon",
           "Madhu94",
           "ashleytqy",
           "bassio",
           "ellisonbg",
           "elmerehbi",
           "gnestor",
           "gunjannaik",
           "hendrixet",
           "ketch",
           "minrk",
           "quinot",
           "rgbkrk",
           "takluyver",
           "willingc"
          ]
         },
         {
          "cumulative": 460,
          "date": "2018-03-18T00:00:00",
          "new_contributors": 9,
          "user": [
           "Exception4U",
           "Madhu94",
           "Sheshtawy",
           "akshaysuresh4793",
           "dartdog",
           "hendrixet",
           "kevin-bates",
           "kmuehlbauer",
           "minrk",
           "mjbright",
           "mondeja",
           "ruffsl",
           "smartsammler",
           "takluyver",
           "thomasaarholt",
           "tomweber-sas"
          ]
         },
         {
          "cumulative": 467,
          "date": "2018-03-25T00:00:00",
          "new_contributors": 7,
          "user": [
           "Madhu94",
           "Sheshtawy",
           "ThomasKirkatrick",
           "arovit",
           "bacboc",
           "cailiang9",
           "ccordoba12",
           "cndaimin",
           "elgalu",
           "fredthedead",
           "ggrrll",
           "jakirkham",
           "jasongrout",
           "minrk",
           "mpacer",
           "rgbkrk",
           "takluyver",
           "whitecoffee"
          ]
         },
         {
          "cumulative": 475,
          "date": "2018-04-01T00:00:00",
          "new_contributors": 8,
          "user": [
           "BoPeng",
           "CrocodileDandy",
           "GadgetSteve",
           "Sheshtawy",
           "Zebreu",
           "aaronmyatt",
           "ashishsingal1",
           "ashleytqy",
           "cod3licious",
           "danagilliann",
           "hero0926",
           "jad2192",
           "jakirkham",
           "mingwandroid",
           "minrk",
           "parmentelat",
           "rabernat",
           "rgbkrk",
           "takluyver",
           "thomasaarholt",
           "waschbaer00",
           "williamstein",
           "willingc"
          ]
         },
         {
          "cumulative": 482,
          "date": "2018-04-08T00:00:00",
          "new_contributors": 7,
          "user": [
           "BoPeng",
           "SteliosStefanatos",
           "Sumit-Kap",
           "ckilcrease",
           "danagilliann",
           "freifrauvonbleifrei",
           "gnestor",
           "kevin-bates",
           "nthiery",
           "pluviosilla",
           "quinot",
           "rgbkrk",
           "rosaswaby",
           "takluyver",
           "unnamedplay-r",
           "williamstein",
           "yuvipanda"
          ]
         },
         {
          "cumulative": 488,
          "date": "2018-04-15T00:00:00",
          "new_contributors": 6,
          "user": [
           "Madhu94",
           "RafalSkolasinski",
           "ReneKat",
           "Sheshtawy",
           "ashleytqy",
           "ckilcrease",
           "cy16f01",
           "ggrrll",
           "jasongrout",
           "lmcdon14",
           "minrk",
           "nevanscott",
           "paulmattheww",
           "takluyver",
           "woodrujm",
           "zertrin"
          ]
         },
         {
          "cumulative": 491,
          "date": "2018-04-22T00:00:00",
          "new_contributors": 3,
          "user": [
           "Carreau",
           "Madhu94",
           "Sheshtawy",
           "arovit",
           "ashleytqy",
           "bdarnell",
           "cloga",
           "dhirschfeld",
           "forbxy",
           "gabefair",
           "gnestor",
           "ivanov",
           "jmhsi",
           "takluyver",
           "yuvipanda",
           "zertrin"
          ]
         },
         {
          "cumulative": 494,
          "date": "2018-04-29T00:00:00",
          "new_contributors": 3,
          "user": [
           "AIGyan",
           "Madhu94",
           "arovit",
           "danagilliann",
           "dhirschfeld",
           "dsblank",
           "forbxy",
           "ggrrll",
           "ikrambennasrbennasr",
           "lucasoshiro",
           "minrk",
           "parmentelat",
           "rgbkrk",
           "takluyver",
           "tomweber-sas",
           "unnamedplay-r"
          ]
         },
         {
          "cumulative": 499,
          "date": "2018-05-06T00:00:00",
          "new_contributors": 5,
          "user": [
           "Juanlu001",
           "ccordoba12",
           "dsblank",
           "elgalu",
           "ellisonbg",
           "ggrrll",
           "gnestor",
           "jason-s",
           "jasongrout",
           "kevin-bates",
           "lucasoshiro",
           "maartenbreddels",
           "makmanalp",
           "minrk",
           "mpacer",
           "praveenkanamarlapudi",
           "rjurney",
           "solstag",
           "sunilhari0x16",
           "takluyver",
           "whitecoffee",
           "williamstein"
          ]
         },
         {
          "cumulative": 499,
          "date": "2018-05-13T00:00:00",
          "new_contributors": 0,
          "user": [
           "Madhu94",
           "arovit",
           "cy16f01",
           "ellisonbg",
           "gnestor",
           "takluyver",
           "thomasaarholt"
          ]
         },
         {
          "cumulative": 501,
          "date": "2018-05-20T00:00:00",
          "new_contributors": 2,
          "user": [
           "AlJohri",
           "Carreau",
           "bollwyvl",
           "gnestor",
           "louis925",
           "lucasoshiro",
           "parrt",
           "piton1",
           "ptbrowne",
           "takluyver"
          ]
         },
         {
          "cumulative": 504,
          "date": "2018-05-27T00:00:00",
          "new_contributors": 3,
          "user": [
           "CorbinFoucart",
           "arovit",
           "cod3licious",
           "damianavila",
           "donghwicha",
           "dsblank",
           "forbxy",
           "gnestor",
           "hroncok",
           "minrk",
           "psychemedia",
           "shivendra90",
           "takluyver"
          ]
         },
         {
          "cumulative": 506,
          "date": "2018-06-03T00:00:00",
          "new_contributors": 2,
          "user": [
           "Exception4U",
           "arovit",
           "cyberwillis",
           "gunjannaik",
           "lucasoshiro",
           "minrk",
           "takluyver",
           "tiangolo"
          ]
         },
         {
          "cumulative": 510,
          "date": "2018-06-10T00:00:00",
          "new_contributors": 4,
          "user": [
           "MathRanger6",
           "arovit",
           "bollwyvl",
           "gnestor",
           "hroncok",
           "minrk",
           "mpacer",
           "quertenmont",
           "sarveshj",
           "shaljam",
           "takluyver",
           "wstomv"
          ]
         },
         {
          "cumulative": 519,
          "date": "2018-06-17T00:00:00",
          "new_contributors": 9,
          "user": [
           "DIYer22",
           "Madhu94",
           "TiesdeKok",
           "TomAugspurger",
           "adharsh",
           "alvi-subhan",
           "dhirschfeld",
           "ericmjl",
           "forbxy",
           "gnestor",
           "kc1",
           "kfuka",
           "lucasoshiro",
           "minrk",
           "mpacer",
           "neighthan",
           "rgbkrk",
           "takluyver",
           "tomjorquera",
           "willingc",
           "yuvipanda"
          ]
         },
         {
          "cumulative": 523,
          "date": "2018-06-24T00:00:00",
          "new_contributors": 4,
          "user": [
           "Carreau",
           "Madhu94",
           "TiesdeKok",
           "deniz195",
           "flying-sheep",
           "jasongrout",
           "minrk",
           "mpacer",
           "rgbkrk",
           "sebma",
           "takluyver",
           "tomjorquera",
           "tonyfast",
           "willingc",
           "wotsushi",
           "yuvipanda"
          ]
         },
         {
          "cumulative": 527,
          "date": "2018-07-01T00:00:00",
          "new_contributors": 4,
          "user": [
           "Carreau",
           "Sheshtawy",
           "ZaRaSm",
           "alfredo-gimenez",
           "davidbrochart",
           "dhirschfeld",
           "ggrrll",
           "jakirkham",
           "mbakker7",
           "minrk",
           "sebma",
           "takluyver"
          ]
         },
         {
          "cumulative": 530,
          "date": "2018-07-08T00:00:00",
          "new_contributors": 3,
          "user": [
           "Sraw",
           "SylvainCorlay",
           "alfredo-gimenez",
           "arovit",
           "foice",
           "gnestor",
           "jarascript",
           "minrk",
           "stas00",
           "takluyver"
          ]
         },
         {
          "cumulative": 531,
          "date": "2018-07-15T00:00:00",
          "new_contributors": 1,
          "user": [
           "GoelJatin",
           "abalter",
           "akhmerov",
           "arovit",
           "forbxy",
           "gnestor",
           "jasongrout",
           "minrk",
           "mpacer",
           "stas00",
           "takluyver",
           "thomasaarholt",
           "willingc"
          ]
         },
         {
          "cumulative": 533,
          "date": "2018-07-22T00:00:00",
          "new_contributors": 2,
          "user": [
           "SergeyDidenko",
           "arovit",
           "blink1073",
           "choldgraf",
           "gnestor",
           "ian-r-rose",
           "ivanov",
           "jasongrout",
           "maartenbreddels",
           "minrk",
           "mwouts",
           "rgbkrk",
           "stas00",
           "takluyver"
          ]
         },
         {
          "cumulative": 535,
          "date": "2018-07-29T00:00:00",
          "new_contributors": 2,
          "user": [
           "K539",
           "Sheshtawy",
           "achampion",
           "charlieeeeeee",
           "ellisonbg",
           "jasongrout",
           "takluyver"
          ]
         },
         {
          "cumulative": 539,
          "date": "2018-08-05T00:00:00",
          "new_contributors": 4,
          "user": [
           "Carreau",
           "GoelJatin",
           "Pastafarianist",
           "Peque",
           "Sheshtawy",
           "abalter",
           "arovit",
           "beledouxdenis",
           "bollwyvl",
           "dclong",
           "dhirschfeld",
           "eseiver",
           "ihnorton",
           "jasongrout",
           "minrk",
           "sargense",
           "wernight",
           "yuvipanda"
          ]
         },
         {
          "cumulative": 540,
          "date": "2018-08-12T00:00:00",
          "new_contributors": 1,
          "user": [
           "Sheshtawy",
           "dhirschfeld",
           "ggrrll",
           "hapaa",
           "ihnorton",
           "jianzi123",
           "paulmattheww",
           "takluyver",
           "wernight",
           "willingc"
          ]
         },
         {
          "cumulative": 543,
          "date": "2018-08-19T00:00:00",
          "new_contributors": 3,
          "user": [
           "Axle7XStriker",
           "Carreau",
           "Sraw",
           "SumNeuron",
           "blink1073",
           "bryango",
           "ghost",
           "gnestor",
           "kdeleeuw11",
           "pybokeh",
           "willingc",
           "yebrahim"
          ]
         },
         {
          "cumulative": 545,
          "date": "2018-08-26T00:00:00",
          "new_contributors": 2,
          "user": [
           "AaronWatters",
           "arovit",
           "dsblank",
           "ggrrll",
           "gnestor",
           "jdfreder",
           "matanster",
           "minrk",
           "mwouts",
           "rpep",
           "sargense"
          ]
         },
         {
          "cumulative": 548,
          "date": "2018-09-02T00:00:00",
          "new_contributors": 3,
          "user": [
           "Carreau",
           "amitsharma23",
           "crstnbr",
           "elgalu",
           "ellisonbg",
           "gadcam",
           "ggrrll",
           "matanster",
           "mwouts",
           "nevanscott",
           "rwmajor2",
           "takluyver"
          ]
         },
         {
          "cumulative": 552,
          "date": "2018-09-09T00:00:00",
          "new_contributors": 4,
          "user": [
           "Axle7XStriker",
           "Carreau",
           "basnijholt",
           "ellisonbg",
           "erdewit",
           "gnestor",
           "marscher",
           "mingwandroid",
           "minrk",
           "mwouts",
           "remram44",
           "rgbkrk"
          ]
         },
         {
          "cumulative": 555,
          "date": "2018-09-16T00:00:00",
          "new_contributors": 3,
          "user": [
           "Carreau",
           "JocelynDelalande",
           "LiryChen",
           "abalter",
           "dsblank",
           "fonnesbeck",
           "ian-r-rose",
           "jasongrout",
           "jimmy-walker",
           "manuhortet",
           "minrk",
           "mwouts",
           "waynebliu"
          ]
         },
         {
          "cumulative": 555,
          "date": "2018-09-23T00:00:00",
          "new_contributors": 0,
          "user": [
           "Carreau",
           "fonnesbeck",
           "jasongrout",
           "manuhortet",
           "minrk",
           "tacaswell"
          ]
         },
         {
          "cumulative": 558,
          "date": "2018-09-30T00:00:00",
          "new_contributors": 3,
          "user": [
           "Carreau",
           "Hyaxia",
           "SylvainCorlay",
           "abalter",
           "blink1073",
           "bollwyvl",
           "cailiang9",
           "gustavoefeiche",
           "ioancw",
           "jasongrout",
           "minrk",
           "vaibhavsagar",
           "willingc",
           "yshkk"
          ]
         },
         {
          "cumulative": 563,
          "date": "2018-10-07T00:00:00",
          "new_contributors": 5,
          "user": [
           "Carreau",
           "Hyaxia",
           "Khalilsqu",
           "LiryChen",
           "Madhu94",
           "Sheshtawy",
           "adam-m-jcbs",
           "arovit",
           "blink1073",
           "bryango",
           "chmp",
           "dhirschfeld",
           "esvhd",
           "ian-r-rose",
           "konnermacias",
           "manuelsh",
           "manuhortet",
           "mgeier",
           "pylang",
           "rgbkrk",
           "sargense",
           "stonebig"
          ]
         },
         {
          "cumulative": 567,
          "date": "2018-10-14T00:00:00",
          "new_contributors": 4,
          "user": [
           "Axle7XStriker",
           "Carreau",
           "NHDaly",
           "alexgarel",
           "ciupicri",
           "daf",
           "dhirschfeld",
           "esvhd",
           "kara71",
           "kevin-bates",
           "minrk",
           "rgbkrk",
           "stonebig"
          ]
         },
         {
          "cumulative": 572,
          "date": "2018-10-21T00:00:00",
          "new_contributors": 5,
          "user": [
           "Carreau",
           "Hyaxia",
           "Kai-Chen",
           "LeviZell",
           "MaxSchambach",
           "Nicholas-Mitchell",
           "abalter",
           "ggrrll",
           "janamejaya",
           "kevin-bates",
           "minrk"
          ]
         },
         {
          "cumulative": 577,
          "date": "2018-10-28T00:00:00",
          "new_contributors": 5,
          "user": [
           "Carreau",
           "Jessime",
           "Masterxilo",
           "MaxSchambach",
           "Nicholas-Mitchell",
           "bhansa",
           "dartdog",
           "dubielt1",
           "einon",
           "gnestor",
           "kevin-bates",
           "michaelaye",
           "rwmajor2",
           "stmax82",
           "takluyver",
           "yuvipanda"
          ]
         },
         {
          "cumulative": 580,
          "date": "2018-11-04T00:00:00",
          "new_contributors": 3,
          "user": [
           "Carreau",
           "Dubrzr",
           "SpencerPark",
           "ThomasKirkatrick",
           "cailiang9",
           "einon",
           "gnestor",
           "jasongrout",
           "kevin-bates",
           "kl2792",
           "minrk",
           "rgbkrk",
           "stas00"
          ]
         },
         {
          "cumulative": 586,
          "date": "2018-11-11T00:00:00",
          "new_contributors": 6,
          "user": [
           "DancingQuanta",
           "Dubrzr",
           "Jishanshaikh4",
           "adrianschneider94",
           "alex4200",
           "cailiang9",
           "dhirschfeld",
           "dubielt1",
           "gnestor",
           "kevin-bates",
           "lautjy",
           "minrk",
           "rgbkrk",
           "takluyver",
           "vfilimonov"
          ]
         },
         {
          "cumulative": 592,
          "date": "2018-11-18T00:00:00",
          "new_contributors": 6,
          "user": [
           "1kastner",
           "AndresSan6",
           "Carreau",
           "SylvainCorlay",
           "TheoSimier",
           "bollwyvl",
           "clowe521",
           "dhirschfeld",
           "glortho",
           "ian-r-rose",
           "jasongrout",
           "kevin-bates",
           "mgeier",
           "minrk",
           "takluyver",
           "tsando",
           "vidartf",
           "wernight"
          ]
         },
         {
          "cumulative": 598,
          "date": "2018-11-25T00:00:00",
          "new_contributors": 6,
          "user": [
           "1kastner",
           "AlJohri",
           "JuzerShakir",
           "Madhu94",
           "Mirodil",
           "betatim",
           "bhansa",
           "dave-wilkins",
           "fonnesbeck",
           "kevin-bates",
           "leezu",
           "lwasser",
           "mgeier",
           "minrk",
           "suri199507",
           "vfilimonov"
          ]
         },
         {
          "cumulative": 600,
          "date": "2018-12-02T00:00:00",
          "new_contributors": 2,
          "user": [
           "Juanlu001",
           "Kprzeorski",
           "findesgh",
           "gnestor",
           "kevin-bates",
           "marscher",
           "minrk",
           "stmax82",
           "takluyver",
           "thomasaarholt"
          ]
         },
         {
          "cumulative": 601,
          "date": "2018-12-09T00:00:00",
          "new_contributors": 1,
          "user": [
           "MaxSchambach",
           "SpencerPark",
           "bnaul",
           "jozjan",
           "kevin-bates",
           "marscher",
           "minrk",
           "nealmcb",
           "parente"
          ]
         },
         {
          "cumulative": 610,
          "date": "2018-12-16T00:00:00",
          "new_contributors": 9,
          "user": [
           "BharathNuke",
           "JanVanIm",
           "KiwiSeth",
           "Winterflower",
           "bhansa",
           "cottrell",
           "feiaf",
           "iNLyze",
           "jbednar",
           "meeseeksdev[bot]",
           "minrk",
           "steaward",
           "takluyver",
           "zertrin"
          ]
         },
         {
          "cumulative": 616,
          "date": "2018-12-23T00:00:00",
          "new_contributors": 6,
          "user": [
           "Hyaxia",
           "Oliver-Prislan",
           "choldgraf",
           "cyberwillis",
           "gnestor",
           "jat255",
           "jbednar",
           "juhasch",
           "lodagro",
           "mgeier",
           "microbially",
           "minrk",
           "owainkenwayucl",
           "parente",
           "qyj2006",
           "stas00",
           "stmax82",
           "stonebig",
           "takluyver"
          ]
         },
         {
          "cumulative": 616,
          "date": "2018-12-30T00:00:00",
          "new_contributors": 0,
          "user": [
           "bryango",
           "juhasch",
           "matanster",
           "suri199507",
           "yuvipanda"
          ]
         },
         {
          "cumulative": 621,
          "date": "2019-01-06T00:00:00",
          "new_contributors": 5,
          "user": [
           "Dubrzr",
           "PhilipMay",
           "gabefair",
           "ggrrll",
           "habemus-papadum",
           "joelostblom",
           "lingyaochu",
           "matanster",
           "mtd91429",
           "takluyver",
           "tfabris",
           "yuvipanda"
          ]
         },
         {
          "cumulative": 625,
          "date": "2019-01-13T00:00:00",
          "new_contributors": 4,
          "user": [
           "NTimmons",
           "christek91",
           "daf",
           "damianavila",
           "gnestor",
           "gunjannaik",
           "jasongrout",
           "kevin-bates",
           "michaelaye",
           "mmagnuski",
           "mtd91429",
           "pluviosilla",
           "ruffsl",
           "takluyver",
           "vilhelmen",
           "vincentzlt",
           "yuvipanda"
          ]
         },
         {
          "cumulative": 635,
          "date": "2019-01-20T00:00:00",
          "new_contributors": 10,
          "user": [
           "AliceDinh",
           "Carreau",
           "andyljones",
           "bharathgs",
           "blink1073",
           "cems2",
           "donghwicha",
           "drevicko",
           "embray",
           "flying-sheep",
           "gnestor",
           "gnumoksha",
           "jbednar",
           "kevin-bates",
           "matanster",
           "minrk",
           "mmagnuski",
           "parthi2929",
           "pylang",
           "slel",
           "stas00",
           "takluyver",
           "thegnord",
           "yuvipanda"
          ]
         },
         {
          "cumulative": 643,
          "date": "2019-01-27T00:00:00",
          "new_contributors": 8,
          "user": [
           "AliceDinh",
           "ReddyKilowatt",
           "aakhmetz",
           "blink1073",
           "blokeley",
           "concretevitamin",
           "ggrrll",
           "ian-r-rose",
           "kevin-bates",
           "kirk86",
           "lresende",
           "skycreeper2000",
           "t-vi"
          ]
         },
         {
          "cumulative": 643,
          "date": "2019-02-03T00:00:00",
          "new_contributors": 0,
          "user": [
           "Carreau",
           "ReddyKilowatt",
           "blink1073",
           "cailiang9",
           "dhirschfeld",
           "gnestor",
           "jasongrout",
           "kevin-bates",
           "mikkokotila",
           "minrk",
           "mlucool",
           "pylang",
           "takluyver",
           "vilhelmen"
          ]
         },
         {
          "cumulative": 649,
          "date": "2019-02-10T00:00:00",
          "new_contributors": 6,
          "user": [
           "DSLituiev",
           "Naviden",
           "aakhmetz",
           "andrewzhang1",
           "ginward",
           "gnestor",
           "jobevers",
           "lchutny",
           "payne911",
           "stas00",
           "takluyver"
          ]
         },
         {
          "cumulative": 651,
          "date": "2019-02-17T00:00:00",
          "new_contributors": 2,
          "user": [
           "ReddyKilowatt",
           "brettbrocato",
           "minrk",
           "takluyver",
           "wesinator"
          ]
         }
        ]
       },
       "encoding": {
        "x": {
         "field": "date",
         "type": "temporal"
        },
        "y": {
         "field": "cumulative",
         "type": "quantitative"
        }
       },
       "mark": "line",
       "width": 500
      },
      "text/plain": [
       "<VegaLite 2 object>\n",
       "\n",
       "If you see this message, it means the renderer has not been properly enabled\n",
       "for the frontend that you are using. For more information, see\n",
       "https://altair-viz.github.io/user_guide/troubleshooting.html\n"
      ]
     },
     "execution_count": 12,
     "metadata": {},
     "output_type": "execute_result"
    }
   ],
   "source": [
    "line = alt.Chart(data=unique.reset_index(), width=500).mark_line().encode(x='date', y='cumulative')\n",
    "line"
   ]
  },
  {
   "cell_type": "markdown",
   "metadata": {
    "papermill": {
     "duration": 0.120809,
     "end_time": "2019-02-14T22:39:52.241979",
     "exception": false,
     "start_time": "2019-02-14T22:39:52.121170",
     "status": "completed"
    },
    "tags": []
   },
   "source": [
    "## Comment activity over time"
   ]
  },
  {
   "cell_type": "code",
   "execution_count": 13,
   "metadata": {
    "papermill": {
     "duration": 0.07717,
     "end_time": "2019-02-14T22:39:52.367296",
     "exception": false,
     "start_time": "2019-02-14T22:39:52.290126",
     "status": "completed"
    },
    "tags": []
   },
   "outputs": [],
   "source": [
    "# Select the users we'll plot\n",
    "user_data = weekly.groupby(['user', 'date']).sum().reset_index('user')\n",
    "total_users = user_data.groupby('user')['comments'].sum()\n",
    "plt_users = total_users.sort_values(ascending=False)[:plot_N].index\n",
    "user_data = user_data.query(\"user in @plt_users\")\n",
    "\n",
    "# Drop empty dates\n",
    "user_data = user_data[user_data.sum(1) != 0]"
   ]
  },
  {
   "cell_type": "code",
   "execution_count": 14,
   "metadata": {
    "papermill": {
     "duration": 0.241545,
     "end_time": "2019-02-14T22:39:52.655795",
     "exception": false,
     "start_time": "2019-02-14T22:39:52.414250",
     "status": "completed"
    },
    "tags": []
   },
   "outputs": [
    {
     "data": {
      "application/vnd.vegalite.v2+json": {
       "$schema": "https://vega.github.io/schema/vega-lite/v2.6.0.json",
       "config": {
        "view": {
         "height": 300,
         "width": 400
        }
       },
       "datasets": {
        "data-b30e03a10f630bfa65b17140009a6359": [
         {
          "comments": 8.0,
          "date": "2016-01-10T00:00:00",
          "user": "Carreau"
         },
         {
          "comments": 14.0,
          "date": "2016-01-17T00:00:00",
          "user": "Carreau"
         },
         {
          "comments": 14.5,
          "date": "2016-01-24T00:00:00",
          "user": "Carreau"
         },
         {
          "comments": 20.5,
          "date": "2016-01-31T00:00:00",
          "user": "Carreau"
         },
         {
          "comments": 33.5,
          "date": "2016-02-07T00:00:00",
          "user": "Carreau"
         },
         {
          "comments": 25.5,
          "date": "2016-02-14T00:00:00",
          "user": "Carreau"
         },
         {
          "comments": 14.5,
          "date": "2016-02-21T00:00:00",
          "user": "Carreau"
         },
         {
          "comments": 19.0,
          "date": "2016-02-28T00:00:00",
          "user": "Carreau"
         },
         {
          "comments": 23.0,
          "date": "2016-03-06T00:00:00",
          "user": "Carreau"
         },
         {
          "comments": 20.5,
          "date": "2016-03-13T00:00:00",
          "user": "Carreau"
         },
         {
          "comments": 11.0,
          "date": "2016-03-20T00:00:00",
          "user": "Carreau"
         },
         {
          "comments": 11.0,
          "date": "2016-03-27T00:00:00",
          "user": "Carreau"
         },
         {
          "comments": 14.5,
          "date": "2016-04-03T00:00:00",
          "user": "Carreau"
         },
         {
          "comments": 21.5,
          "date": "2016-04-10T00:00:00",
          "user": "Carreau"
         },
         {
          "comments": 23.5,
          "date": "2016-04-17T00:00:00",
          "user": "Carreau"
         },
         {
          "comments": 11.5,
          "date": "2016-04-24T00:00:00",
          "user": "Carreau"
         },
         {
          "comments": 7.0,
          "date": "2016-05-01T00:00:00",
          "user": "Carreau"
         },
         {
          "comments": 11.0,
          "date": "2016-05-08T00:00:00",
          "user": "Carreau"
         },
         {
          "comments": 13.0,
          "date": "2016-05-15T00:00:00",
          "user": "Carreau"
         },
         {
          "comments": 5.5,
          "date": "2016-05-22T00:00:00",
          "user": "Carreau"
         },
         {
          "comments": 4.0,
          "date": "2016-05-29T00:00:00",
          "user": "Carreau"
         },
         {
          "comments": 8.0,
          "date": "2016-06-05T00:00:00",
          "user": "Carreau"
         },
         {
          "comments": 13.0,
          "date": "2016-06-12T00:00:00",
          "user": "Carreau"
         },
         {
          "comments": 24.0,
          "date": "2016-06-19T00:00:00",
          "user": "Carreau"
         },
         {
          "comments": 24.5,
          "date": "2016-06-26T00:00:00",
          "user": "Carreau"
         },
         {
          "comments": 17.5,
          "date": "2016-07-03T00:00:00",
          "user": "Carreau"
         },
         {
          "comments": 11.5,
          "date": "2016-07-10T00:00:00",
          "user": "Carreau"
         },
         {
          "comments": 3.5,
          "date": "2016-07-17T00:00:00",
          "user": "Carreau"
         },
         {
          "comments": 4.5,
          "date": "2016-07-24T00:00:00",
          "user": "Carreau"
         },
         {
          "comments": 20.5,
          "date": "2016-07-31T00:00:00",
          "user": "Carreau"
         },
         {
          "comments": 26.5,
          "date": "2016-08-07T00:00:00",
          "user": "Carreau"
         },
         {
          "comments": 20.5,
          "date": "2016-08-14T00:00:00",
          "user": "Carreau"
         },
         {
          "comments": 14.5,
          "date": "2016-08-21T00:00:00",
          "user": "Carreau"
         },
         {
          "comments": 5.5,
          "date": "2016-08-28T00:00:00",
          "user": "Carreau"
         },
         {
          "comments": 2.5,
          "date": "2016-09-04T00:00:00",
          "user": "Carreau"
         },
         {
          "comments": 1.5,
          "date": "2016-09-11T00:00:00",
          "user": "Carreau"
         },
         {
          "comments": 2.5,
          "date": "2016-09-18T00:00:00",
          "user": "Carreau"
         },
         {
          "comments": 6.0,
          "date": "2016-09-25T00:00:00",
          "user": "Carreau"
         },
         {
          "comments": 9.5,
          "date": "2016-10-02T00:00:00",
          "user": "Carreau"
         },
         {
          "comments": 8.5,
          "date": "2016-10-09T00:00:00",
          "user": "Carreau"
         },
         {
          "comments": 6.5,
          "date": "2016-10-16T00:00:00",
          "user": "Carreau"
         },
         {
          "comments": 7.0,
          "date": "2016-10-23T00:00:00",
          "user": "Carreau"
         },
         {
          "comments": 5.0,
          "date": "2016-10-30T00:00:00",
          "user": "Carreau"
         },
         {
          "comments": 8.0,
          "date": "2016-11-06T00:00:00",
          "user": "Carreau"
         },
         {
          "comments": 14.0,
          "date": "2016-11-13T00:00:00",
          "user": "Carreau"
         },
         {
          "comments": 9.5,
          "date": "2016-11-20T00:00:00",
          "user": "Carreau"
         },
         {
          "comments": 2.5,
          "date": "2016-11-27T00:00:00",
          "user": "Carreau"
         },
         {
          "comments": 1.5,
          "date": "2016-12-04T00:00:00",
          "user": "Carreau"
         },
         {
          "comments": 3.0,
          "date": "2016-12-11T00:00:00",
          "user": "Carreau"
         },
         {
          "comments": 4.5,
          "date": "2016-12-18T00:00:00",
          "user": "Carreau"
         },
         {
          "comments": 3.5,
          "date": "2016-12-25T00:00:00",
          "user": "Carreau"
         },
         {
          "comments": 1.5,
          "date": "2017-01-08T00:00:00",
          "user": "Carreau"
         },
         {
          "comments": 4.5,
          "date": "2017-01-15T00:00:00",
          "user": "Carreau"
         },
         {
          "comments": 5.5,
          "date": "2017-01-22T00:00:00",
          "user": "Carreau"
         },
         {
          "comments": 5.0,
          "date": "2017-01-29T00:00:00",
          "user": "Carreau"
         },
         {
          "comments": 32.0,
          "date": "2017-02-05T00:00:00",
          "user": "Carreau"
         },
         {
          "comments": 37.0,
          "date": "2017-02-12T00:00:00",
          "user": "Carreau"
         },
         {
          "comments": 16.5,
          "date": "2017-02-19T00:00:00",
          "user": "Carreau"
         },
         {
          "comments": 17.5,
          "date": "2017-02-26T00:00:00",
          "user": "Carreau"
         },
         {
          "comments": 16.5,
          "date": "2017-03-05T00:00:00",
          "user": "Carreau"
         },
         {
          "comments": 9.0,
          "date": "2017-03-12T00:00:00",
          "user": "Carreau"
         },
         {
          "comments": 9.0,
          "date": "2017-03-19T00:00:00",
          "user": "Carreau"
         },
         {
          "comments": 12.0,
          "date": "2017-03-26T00:00:00",
          "user": "Carreau"
         },
         {
          "comments": 8.5,
          "date": "2017-04-09T00:00:00",
          "user": "Carreau"
         },
         {
          "comments": 4.5,
          "date": "2017-04-16T00:00:00",
          "user": "Carreau"
         },
         {
          "comments": 1.5,
          "date": "2017-04-23T00:00:00",
          "user": "Carreau"
         },
         {
          "comments": 4.5,
          "date": "2017-04-30T00:00:00",
          "user": "Carreau"
         },
         {
          "comments": 5.0,
          "date": "2017-05-21T00:00:00",
          "user": "Carreau"
         },
         {
          "comments": 3.5,
          "date": "2017-05-28T00:00:00",
          "user": "Carreau"
         },
         {
          "comments": 3.5,
          "date": "2017-06-04T00:00:00",
          "user": "Carreau"
         },
         {
          "comments": 1.5,
          "date": "2017-06-11T00:00:00",
          "user": "Carreau"
         },
         {
          "comments": 1.0,
          "date": "2017-06-18T00:00:00",
          "user": "Carreau"
         },
         {
          "comments": 1.0,
          "date": "2017-06-25T00:00:00",
          "user": "Carreau"
         },
         {
          "comments": 2.5,
          "date": "2017-07-09T00:00:00",
          "user": "Carreau"
         },
         {
          "comments": 3.0,
          "date": "2017-07-23T00:00:00",
          "user": "Carreau"
         },
         {
          "comments": 3.5,
          "date": "2017-07-30T00:00:00",
          "user": "Carreau"
         },
         {
          "comments": 3.0,
          "date": "2017-08-06T00:00:00",
          "user": "Carreau"
         },
         {
          "comments": 1.5,
          "date": "2017-08-13T00:00:00",
          "user": "Carreau"
         },
         {
          "comments": 3.0,
          "date": "2017-09-10T00:00:00",
          "user": "Carreau"
         },
         {
          "comments": 8.5,
          "date": "2017-09-17T00:00:00",
          "user": "Carreau"
         },
         {
          "comments": 8.5,
          "date": "2017-10-08T00:00:00",
          "user": "Carreau"
         },
         {
          "comments": 4.0,
          "date": "2017-10-15T00:00:00",
          "user": "Carreau"
         },
         {
          "comments": 2.5,
          "date": "2017-10-22T00:00:00",
          "user": "Carreau"
         },
         {
          "comments": 4.0,
          "date": "2017-10-29T00:00:00",
          "user": "Carreau"
         },
         {
          "comments": 5.5,
          "date": "2017-11-05T00:00:00",
          "user": "Carreau"
         },
         {
          "comments": 3.0,
          "date": "2017-11-12T00:00:00",
          "user": "Carreau"
         },
         {
          "comments": 2.0,
          "date": "2017-11-19T00:00:00",
          "user": "Carreau"
         },
         {
          "comments": 1.5,
          "date": "2017-11-26T00:00:00",
          "user": "Carreau"
         },
         {
          "comments": 1.0,
          "date": "2017-12-03T00:00:00",
          "user": "Carreau"
         },
         {
          "comments": 1.5,
          "date": "2017-12-10T00:00:00",
          "user": "Carreau"
         },
         {
          "comments": 2.0,
          "date": "2017-12-17T00:00:00",
          "user": "Carreau"
         },
         {
          "comments": 2.0,
          "date": "2018-01-07T00:00:00",
          "user": "Carreau"
         },
         {
          "comments": 3.5,
          "date": "2018-01-21T00:00:00",
          "user": "Carreau"
         },
         {
          "comments": 4.5,
          "date": "2018-01-28T00:00:00",
          "user": "Carreau"
         },
         {
          "comments": 2.5,
          "date": "2018-03-04T00:00:00",
          "user": "Carreau"
         },
         {
          "comments": 1.0,
          "date": "2018-03-11T00:00:00",
          "user": "Carreau"
         },
         {
          "comments": 5.0,
          "date": "2018-04-22T00:00:00",
          "user": "Carreau"
         },
         {
          "comments": 5.0,
          "date": "2018-05-20T00:00:00",
          "user": "Carreau"
         },
         {
          "comments": 1.0,
          "date": "2018-06-24T00:00:00",
          "user": "Carreau"
         },
         {
          "comments": 1.0,
          "date": "2018-07-01T00:00:00",
          "user": "Carreau"
         },
         {
          "comments": 1.5,
          "date": "2018-08-05T00:00:00",
          "user": "Carreau"
         },
         {
          "comments": 1.5,
          "date": "2018-08-19T00:00:00",
          "user": "Carreau"
         },
         {
          "comments": 1.0,
          "date": "2018-09-02T00:00:00",
          "user": "Carreau"
         },
         {
          "comments": 2.5,
          "date": "2018-09-09T00:00:00",
          "user": "Carreau"
         },
         {
          "comments": 6.0,
          "date": "2018-09-16T00:00:00",
          "user": "Carreau"
         },
         {
          "comments": 5.5,
          "date": "2018-09-23T00:00:00",
          "user": "Carreau"
         },
         {
          "comments": 7.0,
          "date": "2018-09-30T00:00:00",
          "user": "Carreau"
         },
         {
          "comments": 7.0,
          "date": "2018-10-07T00:00:00",
          "user": "Carreau"
         },
         {
          "comments": 2.5,
          "date": "2018-10-14T00:00:00",
          "user": "Carreau"
         },
         {
          "comments": 2.5,
          "date": "2018-10-21T00:00:00",
          "user": "Carreau"
         },
         {
          "comments": 2.0,
          "date": "2018-10-28T00:00:00",
          "user": "Carreau"
         },
         {
          "comments": 3.5,
          "date": "2018-11-04T00:00:00",
          "user": "Carreau"
         },
         {
          "comments": 4.5,
          "date": "2018-11-18T00:00:00",
          "user": "Carreau"
         },
         {
          "comments": 2.5,
          "date": "2019-01-20T00:00:00",
          "user": "Carreau"
         },
         {
          "comments": 1.5,
          "date": "2019-02-03T00:00:00",
          "user": "Carreau"
         },
         {
          "comments": 1.0,
          "date": "2016-11-06T00:00:00",
          "user": "JamiesHQ"
         },
         {
          "comments": 1.0,
          "date": "2017-03-19T00:00:00",
          "user": "JamiesHQ"
         },
         {
          "comments": 1.0,
          "date": "2017-03-26T00:00:00",
          "user": "JamiesHQ"
         },
         {
          "comments": 1.0,
          "date": "2017-04-02T00:00:00",
          "user": "JamiesHQ"
         },
         {
          "comments": 1.5,
          "date": "2017-04-16T00:00:00",
          "user": "JamiesHQ"
         },
         {
          "comments": 55.5,
          "date": "2017-04-30T00:00:00",
          "user": "JamiesHQ"
         },
         {
          "comments": 55.0,
          "date": "2017-05-07T00:00:00",
          "user": "JamiesHQ"
         },
         {
          "comments": 1.0,
          "date": "2017-07-23T00:00:00",
          "user": "JamiesHQ"
         },
         {
          "comments": 3.0,
          "date": "2017-07-23T00:00:00",
          "user": "Madhu94"
         },
         {
          "comments": 5.5,
          "date": "2017-08-06T00:00:00",
          "user": "Madhu94"
         },
         {
          "comments": 5.5,
          "date": "2017-08-20T00:00:00",
          "user": "Madhu94"
         },
         {
          "comments": 1.5,
          "date": "2017-09-24T00:00:00",
          "user": "Madhu94"
         },
         {
          "comments": 1.0,
          "date": "2017-10-01T00:00:00",
          "user": "Madhu94"
         },
         {
          "comments": 1.5,
          "date": "2017-10-08T00:00:00",
          "user": "Madhu94"
         },
         {
          "comments": 1.5,
          "date": "2017-10-15T00:00:00",
          "user": "Madhu94"
         },
         {
          "comments": 1.0,
          "date": "2017-10-22T00:00:00",
          "user": "Madhu94"
         },
         {
          "comments": 2.5,
          "date": "2017-10-29T00:00:00",
          "user": "Madhu94"
         },
         {
          "comments": 2.5,
          "date": "2017-11-12T00:00:00",
          "user": "Madhu94"
         },
         {
          "comments": 1.5,
          "date": "2017-11-19T00:00:00",
          "user": "Madhu94"
         },
         {
          "comments": 2.0,
          "date": "2017-11-26T00:00:00",
          "user": "Madhu94"
         },
         {
          "comments": 2.5,
          "date": "2017-12-03T00:00:00",
          "user": "Madhu94"
         },
         {
          "comments": 2.5,
          "date": "2017-12-31T00:00:00",
          "user": "Madhu94"
         },
         {
          "comments": 1.5,
          "date": "2018-01-21T00:00:00",
          "user": "Madhu94"
         },
         {
          "comments": 1.0,
          "date": "2018-01-28T00:00:00",
          "user": "Madhu94"
         },
         {
          "comments": 1.5,
          "date": "2018-02-04T00:00:00",
          "user": "Madhu94"
         },
         {
          "comments": 1.5,
          "date": "2018-02-18T00:00:00",
          "user": "Madhu94"
         },
         {
          "comments": 1.0,
          "date": "2018-03-11T00:00:00",
          "user": "Madhu94"
         },
         {
          "comments": 1.5,
          "date": "2018-03-18T00:00:00",
          "user": "Madhu94"
         },
         {
          "comments": 2.0,
          "date": "2018-03-25T00:00:00",
          "user": "Madhu94"
         },
         {
          "comments": 1.5,
          "date": "2018-04-15T00:00:00",
          "user": "Madhu94"
         },
         {
          "comments": 2.0,
          "date": "2018-04-22T00:00:00",
          "user": "Madhu94"
         },
         {
          "comments": 3.0,
          "date": "2018-04-29T00:00:00",
          "user": "Madhu94"
         },
         {
          "comments": 2.0,
          "date": "2018-05-13T00:00:00",
          "user": "Madhu94"
         },
         {
          "comments": 1.0,
          "date": "2018-06-17T00:00:00",
          "user": "Madhu94"
         },
         {
          "comments": 2.0,
          "date": "2018-06-24T00:00:00",
          "user": "Madhu94"
         },
         {
          "comments": 2.0,
          "date": "2018-10-07T00:00:00",
          "user": "Madhu94"
         },
         {
          "comments": 1.0,
          "date": "2018-11-25T00:00:00",
          "user": "Madhu94"
         },
         {
          "comments": 8.0,
          "date": "2016-01-24T00:00:00",
          "user": "blink1073"
         },
         {
          "comments": 6.0,
          "date": "2016-01-31T00:00:00",
          "user": "blink1073"
         },
         {
          "comments": 1.5,
          "date": "2016-02-14T00:00:00",
          "user": "blink1073"
         },
         {
          "comments": 6.5,
          "date": "2016-02-21T00:00:00",
          "user": "blink1073"
         },
         {
          "comments": 9.0,
          "date": "2016-02-28T00:00:00",
          "user": "blink1073"
         },
         {
          "comments": 5.5,
          "date": "2016-03-06T00:00:00",
          "user": "blink1073"
         },
         {
          "comments": 3.5,
          "date": "2016-03-13T00:00:00",
          "user": "blink1073"
         },
         {
          "comments": 12.5,
          "date": "2016-03-20T00:00:00",
          "user": "blink1073"
         },
         {
          "comments": 15.0,
          "date": "2016-03-27T00:00:00",
          "user": "blink1073"
         },
         {
          "comments": 4.0,
          "date": "2016-04-10T00:00:00",
          "user": "blink1073"
         },
         {
          "comments": 12.5,
          "date": "2016-04-17T00:00:00",
          "user": "blink1073"
         },
         {
          "comments": 13.5,
          "date": "2016-04-24T00:00:00",
          "user": "blink1073"
         },
         {
          "comments": 3.5,
          "date": "2016-05-08T00:00:00",
          "user": "blink1073"
         },
         {
          "comments": 3.5,
          "date": "2016-05-15T00:00:00",
          "user": "blink1073"
         },
         {
          "comments": 2.5,
          "date": "2016-05-22T00:00:00",
          "user": "blink1073"
         },
         {
          "comments": 3.5,
          "date": "2016-05-29T00:00:00",
          "user": "blink1073"
         },
         {
          "comments": 3.0,
          "date": "2016-06-05T00:00:00",
          "user": "blink1073"
         },
         {
          "comments": 1.5,
          "date": "2016-06-12T00:00:00",
          "user": "blink1073"
         },
         {
          "comments": 11.0,
          "date": "2016-06-19T00:00:00",
          "user": "blink1073"
         },
         {
          "comments": 13.0,
          "date": "2016-07-10T00:00:00",
          "user": "blink1073"
         },
         {
          "comments": 4.0,
          "date": "2016-07-17T00:00:00",
          "user": "blink1073"
         },
         {
          "comments": 2.0,
          "date": "2016-07-31T00:00:00",
          "user": "blink1073"
         },
         {
          "comments": 2.5,
          "date": "2016-08-14T00:00:00",
          "user": "blink1073"
         },
         {
          "comments": 2.5,
          "date": "2016-08-21T00:00:00",
          "user": "blink1073"
         },
         {
          "comments": 1.5,
          "date": "2016-09-04T00:00:00",
          "user": "blink1073"
         },
         {
          "comments": 1.0,
          "date": "2016-09-11T00:00:00",
          "user": "blink1073"
         },
         {
          "comments": 2.5,
          "date": "2016-09-18T00:00:00",
          "user": "blink1073"
         },
         {
          "comments": 5.5,
          "date": "2016-09-25T00:00:00",
          "user": "blink1073"
         },
         {
          "comments": 4.5,
          "date": "2016-10-02T00:00:00",
          "user": "blink1073"
         },
         {
          "comments": 4.0,
          "date": "2016-10-09T00:00:00",
          "user": "blink1073"
         },
         {
          "comments": 4.5,
          "date": "2016-11-20T00:00:00",
          "user": "blink1073"
         },
         {
          "comments": 5.0,
          "date": "2016-12-04T00:00:00",
          "user": "blink1073"
         },
         {
          "comments": 5.0,
          "date": "2016-12-18T00:00:00",
          "user": "blink1073"
         },
         {
          "comments": 2.0,
          "date": "2016-12-25T00:00:00",
          "user": "blink1073"
         },
         {
          "comments": 3.5,
          "date": "2017-01-15T00:00:00",
          "user": "blink1073"
         },
         {
          "comments": 7.0,
          "date": "2017-01-22T00:00:00",
          "user": "blink1073"
         },
         {
          "comments": 4.5,
          "date": "2017-01-29T00:00:00",
          "user": "blink1073"
         },
         {
          "comments": 15.5,
          "date": "2017-02-05T00:00:00",
          "user": "blink1073"
         },
         {
          "comments": 27.5,
          "date": "2017-02-12T00:00:00",
          "user": "blink1073"
         },
         {
          "comments": 15.5,
          "date": "2017-02-19T00:00:00",
          "user": "blink1073"
         },
         {
          "comments": 4.0,
          "date": "2017-02-26T00:00:00",
          "user": "blink1073"
         },
         {
          "comments": 4.0,
          "date": "2017-03-05T00:00:00",
          "user": "blink1073"
         },
         {
          "comments": 5.0,
          "date": "2017-03-19T00:00:00",
          "user": "blink1073"
         },
         {
          "comments": 4.0,
          "date": "2017-03-26T00:00:00",
          "user": "blink1073"
         },
         {
          "comments": 2.5,
          "date": "2017-04-02T00:00:00",
          "user": "blink1073"
         },
         {
          "comments": 1.5,
          "date": "2017-04-09T00:00:00",
          "user": "blink1073"
         },
         {
          "comments": 2.0,
          "date": "2017-04-30T00:00:00",
          "user": "blink1073"
         },
         {
          "comments": 3.0,
          "date": "2017-05-07T00:00:00",
          "user": "blink1073"
         },
         {
          "comments": 3.0,
          "date": "2017-05-14T00:00:00",
          "user": "blink1073"
         },
         {
          "comments": 2.0,
          "date": "2017-05-21T00:00:00",
          "user": "blink1073"
         },
         {
          "comments": 1.5,
          "date": "2017-05-28T00:00:00",
          "user": "blink1073"
         },
         {
          "comments": 1.5,
          "date": "2017-06-11T00:00:00",
          "user": "blink1073"
         },
         {
          "comments": 2.5,
          "date": "2017-06-18T00:00:00",
          "user": "blink1073"
         },
         {
          "comments": 2.0,
          "date": "2017-07-23T00:00:00",
          "user": "blink1073"
         },
         {
          "comments": 1.5,
          "date": "2017-07-30T00:00:00",
          "user": "blink1073"
         },
         {
          "comments": 1.5,
          "date": "2017-09-03T00:00:00",
          "user": "blink1073"
         },
         {
          "comments": 1.0,
          "date": "2017-09-10T00:00:00",
          "user": "blink1073"
         },
         {
          "comments": 1.0,
          "date": "2017-09-24T00:00:00",
          "user": "blink1073"
         },
         {
          "comments": 1.5,
          "date": "2017-10-01T00:00:00",
          "user": "blink1073"
         },
         {
          "comments": 3.5,
          "date": "2017-10-08T00:00:00",
          "user": "blink1073"
         },
         {
          "comments": 10.0,
          "date": "2017-10-15T00:00:00",
          "user": "blink1073"
         },
         {
          "comments": 9.0,
          "date": "2017-10-22T00:00:00",
          "user": "blink1073"
         },
         {
          "comments": 9.5,
          "date": "2017-10-29T00:00:00",
          "user": "blink1073"
         },
         {
          "comments": 8.5,
          "date": "2017-11-05T00:00:00",
          "user": "blink1073"
         },
         {
          "comments": 1.5,
          "date": "2017-11-26T00:00:00",
          "user": "blink1073"
         },
         {
          "comments": 3.0,
          "date": "2017-12-03T00:00:00",
          "user": "blink1073"
         },
         {
          "comments": 11.0,
          "date": "2017-12-10T00:00:00",
          "user": "blink1073"
         },
         {
          "comments": 14.0,
          "date": "2017-12-17T00:00:00",
          "user": "blink1073"
         },
         {
          "comments": 6.5,
          "date": "2017-12-24T00:00:00",
          "user": "blink1073"
         },
         {
          "comments": 8.0,
          "date": "2018-01-07T00:00:00",
          "user": "blink1073"
         },
         {
          "comments": 11.5,
          "date": "2018-01-14T00:00:00",
          "user": "blink1073"
         },
         {
          "comments": 5.5,
          "date": "2018-02-11T00:00:00",
          "user": "blink1073"
         },
         {
          "comments": 1.0,
          "date": "2018-07-22T00:00:00",
          "user": "blink1073"
         },
         {
          "comments": 2.0,
          "date": "2018-08-19T00:00:00",
          "user": "blink1073"
         },
         {
          "comments": 5.5,
          "date": "2018-09-30T00:00:00",
          "user": "blink1073"
         },
         {
          "comments": 5.5,
          "date": "2018-10-07T00:00:00",
          "user": "blink1073"
         },
         {
          "comments": 2.0,
          "date": "2019-01-20T00:00:00",
          "user": "blink1073"
         },
         {
          "comments": 1.0,
          "date": "2019-01-27T00:00:00",
          "user": "blink1073"
         },
         {
          "comments": 1.0,
          "date": "2019-02-03T00:00:00",
          "user": "blink1073"
         },
         {
          "comments": 8.0,
          "date": "2016-03-13T00:00:00",
          "user": "bollwyvl"
         },
         {
          "comments": 12.5,
          "date": "2016-03-20T00:00:00",
          "user": "bollwyvl"
         },
         {
          "comments": 6.5,
          "date": "2016-03-27T00:00:00",
          "user": "bollwyvl"
         },
         {
          "comments": 2.5,
          "date": "2016-04-17T00:00:00",
          "user": "bollwyvl"
         },
         {
          "comments": 1.5,
          "date": "2016-04-24T00:00:00",
          "user": "bollwyvl"
         },
         {
          "comments": 1.0,
          "date": "2016-05-29T00:00:00",
          "user": "bollwyvl"
         },
         {
          "comments": 2.0,
          "date": "2016-06-12T00:00:00",
          "user": "bollwyvl"
         },
         {
          "comments": 2.0,
          "date": "2016-08-07T00:00:00",
          "user": "bollwyvl"
         },
         {
          "comments": 2.0,
          "date": "2017-02-12T00:00:00",
          "user": "bollwyvl"
         },
         {
          "comments": 2.5,
          "date": "2017-10-08T00:00:00",
          "user": "bollwyvl"
         },
         {
          "comments": 1.5,
          "date": "2017-11-12T00:00:00",
          "user": "bollwyvl"
         },
         {
          "comments": 2.0,
          "date": "2017-12-10T00:00:00",
          "user": "bollwyvl"
         },
         {
          "comments": 2.0,
          "date": "2017-12-24T00:00:00",
          "user": "bollwyvl"
         },
         {
          "comments": 4.0,
          "date": "2018-01-07T00:00:00",
          "user": "bollwyvl"
         },
         {
          "comments": 4.0,
          "date": "2018-01-14T00:00:00",
          "user": "bollwyvl"
         },
         {
          "comments": 1.0,
          "date": "2018-05-20T00:00:00",
          "user": "bollwyvl"
         },
         {
          "comments": 1.0,
          "date": "2018-06-10T00:00:00",
          "user": "bollwyvl"
         },
         {
          "comments": 1.5,
          "date": "2018-08-05T00:00:00",
          "user": "bollwyvl"
         },
         {
          "comments": 1.5,
          "date": "2018-09-30T00:00:00",
          "user": "bollwyvl"
         },
         {
          "comments": 1.0,
          "date": "2018-11-18T00:00:00",
          "user": "bollwyvl"
         },
         {
          "comments": 2.5,
          "date": "2016-02-14T00:00:00",
          "user": "damianavila"
         },
         {
          "comments": 3.0,
          "date": "2016-02-21T00:00:00",
          "user": "damianavila"
         },
         {
          "comments": 2.5,
          "date": "2016-02-28T00:00:00",
          "user": "damianavila"
         },
         {
          "comments": 2.0,
          "date": "2016-03-20T00:00:00",
          "user": "damianavila"
         },
         {
          "comments": 1.0,
          "date": "2016-03-27T00:00:00",
          "user": "damianavila"
         },
         {
          "comments": 1.5,
          "date": "2016-04-10T00:00:00",
          "user": "damianavila"
         },
         {
          "comments": 1.5,
          "date": "2016-05-15T00:00:00",
          "user": "damianavila"
         },
         {
          "comments": 1.0,
          "date": "2016-07-31T00:00:00",
          "user": "damianavila"
         },
         {
          "comments": 1.0,
          "date": "2016-08-07T00:00:00",
          "user": "damianavila"
         },
         {
          "comments": 2.0,
          "date": "2016-08-14T00:00:00",
          "user": "damianavila"
         },
         {
          "comments": 3.0,
          "date": "2016-08-28T00:00:00",
          "user": "damianavila"
         },
         {
          "comments": 5.0,
          "date": "2016-09-04T00:00:00",
          "user": "damianavila"
         },
         {
          "comments": 4.0,
          "date": "2016-09-18T00:00:00",
          "user": "damianavila"
         },
         {
          "comments": 1.5,
          "date": "2016-10-02T00:00:00",
          "user": "damianavila"
         },
         {
          "comments": 3.0,
          "date": "2016-10-09T00:00:00",
          "user": "damianavila"
         },
         {
          "comments": 2.5,
          "date": "2016-10-16T00:00:00",
          "user": "damianavila"
         },
         {
          "comments": 1.0,
          "date": "2016-11-06T00:00:00",
          "user": "damianavila"
         },
         {
          "comments": 1.0,
          "date": "2016-12-04T00:00:00",
          "user": "damianavila"
         },
         {
          "comments": 2.0,
          "date": "2016-12-18T00:00:00",
          "user": "damianavila"
         },
         {
          "comments": 2.0,
          "date": "2017-01-08T00:00:00",
          "user": "damianavila"
         },
         {
          "comments": 1.0,
          "date": "2017-01-15T00:00:00",
          "user": "damianavila"
         },
         {
          "comments": 1.5,
          "date": "2017-01-22T00:00:00",
          "user": "damianavila"
         },
         {
          "comments": 1.5,
          "date": "2017-03-19T00:00:00",
          "user": "damianavila"
         },
         {
          "comments": 1.5,
          "date": "2017-03-26T00:00:00",
          "user": "damianavila"
         },
         {
          "comments": 1.5,
          "date": "2017-05-21T00:00:00",
          "user": "damianavila"
         },
         {
          "comments": 1.5,
          "date": "2017-05-28T00:00:00",
          "user": "damianavila"
         },
         {
          "comments": 1.5,
          "date": "2017-07-02T00:00:00",
          "user": "damianavila"
         },
         {
          "comments": 1.0,
          "date": "2017-07-23T00:00:00",
          "user": "damianavila"
         },
         {
          "comments": 1.0,
          "date": "2017-10-08T00:00:00",
          "user": "damianavila"
         },
         {
          "comments": 1.5,
          "date": "2017-11-05T00:00:00",
          "user": "damianavila"
         },
         {
          "comments": 3.5,
          "date": "2018-02-04T00:00:00",
          "user": "damianavila"
         },
         {
          "comments": 3.0,
          "date": "2018-05-27T00:00:00",
          "user": "damianavila"
         },
         {
          "comments": 1.5,
          "date": "2019-01-13T00:00:00",
          "user": "damianavila"
         },
         {
          "comments": 3.5,
          "date": "2016-01-17T00:00:00",
          "user": "dsblank"
         },
         {
          "comments": 3.0,
          "date": "2016-01-24T00:00:00",
          "user": "dsblank"
         },
         {
          "comments": 1.5,
          "date": "2016-02-28T00:00:00",
          "user": "dsblank"
         },
         {
          "comments": 1.5,
          "date": "2016-03-27T00:00:00",
          "user": "dsblank"
         },
         {
          "comments": 1.5,
          "date": "2016-04-24T00:00:00",
          "user": "dsblank"
         },
         {
          "comments": 2.0,
          "date": "2016-09-11T00:00:00",
          "user": "dsblank"
         },
         {
          "comments": 3.0,
          "date": "2016-09-18T00:00:00",
          "user": "dsblank"
         },
         {
          "comments": 2.5,
          "date": "2016-10-02T00:00:00",
          "user": "dsblank"
         },
         {
          "comments": 2.0,
          "date": "2016-11-20T00:00:00",
          "user": "dsblank"
         },
         {
          "comments": 3.0,
          "date": "2017-01-22T00:00:00",
          "user": "dsblank"
         },
         {
          "comments": 3.0,
          "date": "2017-03-05T00:00:00",
          "user": "dsblank"
         },
         {
          "comments": 2.0,
          "date": "2017-04-16T00:00:00",
          "user": "dsblank"
         },
         {
          "comments": 1.0,
          "date": "2017-05-21T00:00:00",
          "user": "dsblank"
         },
         {
          "comments": 1.0,
          "date": "2017-05-28T00:00:00",
          "user": "dsblank"
         },
         {
          "comments": 1.5,
          "date": "2017-06-25T00:00:00",
          "user": "dsblank"
         },
         {
          "comments": 2.5,
          "date": "2017-08-13T00:00:00",
          "user": "dsblank"
         },
         {
          "comments": 2.5,
          "date": "2017-08-20T00:00:00",
          "user": "dsblank"
         },
         {
          "comments": 1.5,
          "date": "2017-09-03T00:00:00",
          "user": "dsblank"
         },
         {
          "comments": 1.5,
          "date": "2017-09-10T00:00:00",
          "user": "dsblank"
         },
         {
          "comments": 1.5,
          "date": "2017-10-08T00:00:00",
          "user": "dsblank"
         },
         {
          "comments": 1.0,
          "date": "2017-10-15T00:00:00",
          "user": "dsblank"
         },
         {
          "comments": 1.0,
          "date": "2017-10-29T00:00:00",
          "user": "dsblank"
         },
         {
          "comments": 1.0,
          "date": "2017-11-12T00:00:00",
          "user": "dsblank"
         },
         {
          "comments": 1.5,
          "date": "2017-11-19T00:00:00",
          "user": "dsblank"
         },
         {
          "comments": 1.5,
          "date": "2017-11-26T00:00:00",
          "user": "dsblank"
         },
         {
          "comments": 2.0,
          "date": "2018-01-07T00:00:00",
          "user": "dsblank"
         },
         {
          "comments": 2.0,
          "date": "2018-01-21T00:00:00",
          "user": "dsblank"
         },
         {
          "comments": 1.0,
          "date": "2018-01-28T00:00:00",
          "user": "dsblank"
         },
         {
          "comments": 1.0,
          "date": "2018-02-04T00:00:00",
          "user": "dsblank"
         },
         {
          "comments": 1.0,
          "date": "2018-03-04T00:00:00",
          "user": "dsblank"
         },
         {
          "comments": 1.0,
          "date": "2018-04-29T00:00:00",
          "user": "dsblank"
         },
         {
          "comments": 1.0,
          "date": "2018-05-06T00:00:00",
          "user": "dsblank"
         },
         {
          "comments": 2.5,
          "date": "2018-05-27T00:00:00",
          "user": "dsblank"
         },
         {
          "comments": 3.5,
          "date": "2018-08-26T00:00:00",
          "user": "dsblank"
         },
         {
          "comments": 2.0,
          "date": "2018-09-16T00:00:00",
          "user": "dsblank"
         },
         {
          "comments": 9.5,
          "date": "2016-01-17T00:00:00",
          "user": "ellisonbg"
         },
         {
          "comments": 6.0,
          "date": "2016-01-24T00:00:00",
          "user": "ellisonbg"
         },
         {
          "comments": 4.0,
          "date": "2016-02-07T00:00:00",
          "user": "ellisonbg"
         },
         {
          "comments": 3.5,
          "date": "2016-02-14T00:00:00",
          "user": "ellisonbg"
         },
         {
          "comments": 4.5,
          "date": "2016-02-21T00:00:00",
          "user": "ellisonbg"
         },
         {
          "comments": 4.5,
          "date": "2016-02-28T00:00:00",
          "user": "ellisonbg"
         },
         {
          "comments": 3.0,
          "date": "2016-03-13T00:00:00",
          "user": "ellisonbg"
         },
         {
          "comments": 5.5,
          "date": "2016-03-20T00:00:00",
          "user": "ellisonbg"
         },
         {
          "comments": 8.5,
          "date": "2016-03-27T00:00:00",
          "user": "ellisonbg"
         },
         {
          "comments": 6.0,
          "date": "2016-04-03T00:00:00",
          "user": "ellisonbg"
         },
         {
          "comments": 8.0,
          "date": "2016-04-10T00:00:00",
          "user": "ellisonbg"
         },
         {
          "comments": 10.0,
          "date": "2016-04-17T00:00:00",
          "user": "ellisonbg"
         },
         {
          "comments": 4.0,
          "date": "2016-04-24T00:00:00",
          "user": "ellisonbg"
         },
         {
          "comments": 3.0,
          "date": "2016-05-01T00:00:00",
          "user": "ellisonbg"
         },
         {
          "comments": 6.0,
          "date": "2016-05-08T00:00:00",
          "user": "ellisonbg"
         },
         {
          "comments": 4.0,
          "date": "2016-05-15T00:00:00",
          "user": "ellisonbg"
         },
         {
          "comments": 1.5,
          "date": "2016-05-22T00:00:00",
          "user": "ellisonbg"
         },
         {
          "comments": 2.0,
          "date": "2016-06-05T00:00:00",
          "user": "ellisonbg"
         },
         {
          "comments": 3.5,
          "date": "2016-06-12T00:00:00",
          "user": "ellisonbg"
         },
         {
          "comments": 3.5,
          "date": "2016-06-19T00:00:00",
          "user": "ellisonbg"
         },
         {
          "comments": 2.0,
          "date": "2016-06-26T00:00:00",
          "user": "ellisonbg"
         },
         {
          "comments": 2.5,
          "date": "2016-07-17T00:00:00",
          "user": "ellisonbg"
         },
         {
          "comments": 4.0,
          "date": "2016-07-24T00:00:00",
          "user": "ellisonbg"
         },
         {
          "comments": 3.0,
          "date": "2016-07-31T00:00:00",
          "user": "ellisonbg"
         },
         {
          "comments": 1.5,
          "date": "2016-08-21T00:00:00",
          "user": "ellisonbg"
         },
         {
          "comments": 2.0,
          "date": "2016-08-28T00:00:00",
          "user": "ellisonbg"
         },
         {
          "comments": 1.5,
          "date": "2016-09-04T00:00:00",
          "user": "ellisonbg"
         },
         {
          "comments": 2.5,
          "date": "2016-09-25T00:00:00",
          "user": "ellisonbg"
         },
         {
          "comments": 2.5,
          "date": "2016-10-02T00:00:00",
          "user": "ellisonbg"
         },
         {
          "comments": 1.0,
          "date": "2016-10-16T00:00:00",
          "user": "ellisonbg"
         },
         {
          "comments": 11.0,
          "date": "2016-12-25T00:00:00",
          "user": "ellisonbg"
         },
         {
          "comments": 12.0,
          "date": "2017-01-08T00:00:00",
          "user": "ellisonbg"
         },
         {
          "comments": 2.5,
          "date": "2017-02-05T00:00:00",
          "user": "ellisonbg"
         },
         {
          "comments": 11.5,
          "date": "2017-02-12T00:00:00",
          "user": "ellisonbg"
         },
         {
          "comments": 14.5,
          "date": "2017-02-19T00:00:00",
          "user": "ellisonbg"
         },
         {
          "comments": 14.5,
          "date": "2017-02-26T00:00:00",
          "user": "ellisonbg"
         },
         {
          "comments": 13.5,
          "date": "2017-03-05T00:00:00",
          "user": "ellisonbg"
         },
         {
          "comments": 4.5,
          "date": "2017-03-19T00:00:00",
          "user": "ellisonbg"
         },
         {
          "comments": 2.0,
          "date": "2017-03-26T00:00:00",
          "user": "ellisonbg"
         },
         {
          "comments": 1.5,
          "date": "2017-04-02T00:00:00",
          "user": "ellisonbg"
         },
         {
          "comments": 1.5,
          "date": "2017-04-16T00:00:00",
          "user": "ellisonbg"
         },
         {
          "comments": 8.0,
          "date": "2017-04-30T00:00:00",
          "user": "ellisonbg"
         },
         {
          "comments": 8.0,
          "date": "2017-05-07T00:00:00",
          "user": "ellisonbg"
         },
         {
          "comments": 1.5,
          "date": "2017-05-21T00:00:00",
          "user": "ellisonbg"
         },
         {
          "comments": 2.0,
          "date": "2017-06-04T00:00:00",
          "user": "ellisonbg"
         },
         {
          "comments": 2.0,
          "date": "2017-06-11T00:00:00",
          "user": "ellisonbg"
         },
         {
          "comments": 3.0,
          "date": "2017-06-18T00:00:00",
          "user": "ellisonbg"
         },
         {
          "comments": 2.5,
          "date": "2017-06-25T00:00:00",
          "user": "ellisonbg"
         },
         {
          "comments": 1.0,
          "date": "2017-07-09T00:00:00",
          "user": "ellisonbg"
         },
         {
          "comments": 1.0,
          "date": "2017-07-23T00:00:00",
          "user": "ellisonbg"
         },
         {
          "comments": 1.5,
          "date": "2017-07-30T00:00:00",
          "user": "ellisonbg"
         },
         {
          "comments": 1.5,
          "date": "2017-08-06T00:00:00",
          "user": "ellisonbg"
         },
         {
          "comments": 2.5,
          "date": "2017-09-10T00:00:00",
          "user": "ellisonbg"
         },
         {
          "comments": 2.5,
          "date": "2017-09-17T00:00:00",
          "user": "ellisonbg"
         },
         {
          "comments": 1.0,
          "date": "2017-09-24T00:00:00",
          "user": "ellisonbg"
         },
         {
          "comments": 1.0,
          "date": "2017-10-01T00:00:00",
          "user": "ellisonbg"
         },
         {
          "comments": 2.5,
          "date": "2017-10-08T00:00:00",
          "user": "ellisonbg"
         },
         {
          "comments": 4.5,
          "date": "2017-10-15T00:00:00",
          "user": "ellisonbg"
         },
         {
          "comments": 3.0,
          "date": "2017-10-22T00:00:00",
          "user": "ellisonbg"
         },
         {
          "comments": 4.5,
          "date": "2017-11-05T00:00:00",
          "user": "ellisonbg"
         },
         {
          "comments": 6.0,
          "date": "2017-12-17T00:00:00",
          "user": "ellisonbg"
         },
         {
          "comments": 3.5,
          "date": "2018-01-21T00:00:00",
          "user": "ellisonbg"
         },
         {
          "comments": 2.0,
          "date": "2018-03-11T00:00:00",
          "user": "ellisonbg"
         },
         {
          "comments": 1.0,
          "date": "2018-05-06T00:00:00",
          "user": "ellisonbg"
         },
         {
          "comments": 1.0,
          "date": "2018-05-13T00:00:00",
          "user": "ellisonbg"
         },
         {
          "comments": 1.0,
          "date": "2018-07-29T00:00:00",
          "user": "ellisonbg"
         },
         {
          "comments": 1.0,
          "date": "2018-09-02T00:00:00",
          "user": "ellisonbg"
         },
         {
          "comments": 1.5,
          "date": "2018-09-09T00:00:00",
          "user": "ellisonbg"
         },
         {
          "comments": 10.0,
          "date": "2016-08-07T00:00:00",
          "user": "gnestor"
         },
         {
          "comments": 24.5,
          "date": "2016-08-14T00:00:00",
          "user": "gnestor"
         },
         {
          "comments": 24.0,
          "date": "2016-08-21T00:00:00",
          "user": "gnestor"
         },
         {
          "comments": 7.5,
          "date": "2016-08-28T00:00:00",
          "user": "gnestor"
         },
         {
          "comments": 2.0,
          "date": "2016-09-11T00:00:00",
          "user": "gnestor"
         },
         {
          "comments": 38.0,
          "date": "2016-09-18T00:00:00",
          "user": "gnestor"
         },
         {
          "comments": 49.5,
          "date": "2016-09-25T00:00:00",
          "user": "gnestor"
         },
         {
          "comments": 15.5,
          "date": "2016-10-02T00:00:00",
          "user": "gnestor"
         },
         {
          "comments": 6.0,
          "date": "2016-10-09T00:00:00",
          "user": "gnestor"
         },
         {
          "comments": 7.0,
          "date": "2016-10-16T00:00:00",
          "user": "gnestor"
         },
         {
          "comments": 7.0,
          "date": "2016-10-23T00:00:00",
          "user": "gnestor"
         },
         {
          "comments": 10.5,
          "date": "2016-10-30T00:00:00",
          "user": "gnestor"
         },
         {
          "comments": 8.5,
          "date": "2016-11-13T00:00:00",
          "user": "gnestor"
         },
         {
          "comments": 6.5,
          "date": "2016-11-20T00:00:00",
          "user": "gnestor"
         },
         {
          "comments": 6.0,
          "date": "2016-11-27T00:00:00",
          "user": "gnestor"
         },
         {
          "comments": 1.0,
          "date": "2016-12-04T00:00:00",
          "user": "gnestor"
         },
         {
          "comments": 9.0,
          "date": "2016-12-11T00:00:00",
          "user": "gnestor"
         },
         {
          "comments": 16.5,
          "date": "2016-12-18T00:00:00",
          "user": "gnestor"
         },
         {
          "comments": 11.5,
          "date": "2016-12-25T00:00:00",
          "user": "gnestor"
         },
         {
          "comments": 4.5,
          "date": "2017-01-15T00:00:00",
          "user": "gnestor"
         },
         {
          "comments": 4.0,
          "date": "2017-01-22T00:00:00",
          "user": "gnestor"
         },
         {
          "comments": 19.0,
          "date": "2017-01-29T00:00:00",
          "user": "gnestor"
         },
         {
          "comments": 41.5,
          "date": "2017-02-05T00:00:00",
          "user": "gnestor"
         },
         {
          "comments": 38.0,
          "date": "2017-02-12T00:00:00",
          "user": "gnestor"
         },
         {
          "comments": 21.5,
          "date": "2017-02-19T00:00:00",
          "user": "gnestor"
         },
         {
          "comments": 10.5,
          "date": "2017-02-26T00:00:00",
          "user": "gnestor"
         },
         {
          "comments": 4.0,
          "date": "2017-03-05T00:00:00",
          "user": "gnestor"
         },
         {
          "comments": 6.5,
          "date": "2017-03-12T00:00:00",
          "user": "gnestor"
         },
         {
          "comments": 11.0,
          "date": "2017-03-19T00:00:00",
          "user": "gnestor"
         },
         {
          "comments": 11.0,
          "date": "2017-03-26T00:00:00",
          "user": "gnestor"
         },
         {
          "comments": 20.5,
          "date": "2017-04-02T00:00:00",
          "user": "gnestor"
         },
         {
          "comments": 30.5,
          "date": "2017-04-09T00:00:00",
          "user": "gnestor"
         },
         {
          "comments": 23.0,
          "date": "2017-04-16T00:00:00",
          "user": "gnestor"
         },
         {
          "comments": 10.5,
          "date": "2017-04-23T00:00:00",
          "user": "gnestor"
         },
         {
          "comments": 25.5,
          "date": "2017-04-30T00:00:00",
          "user": "gnestor"
         },
         {
          "comments": 25.0,
          "date": "2017-05-07T00:00:00",
          "user": "gnestor"
         },
         {
          "comments": 7.5,
          "date": "2017-06-04T00:00:00",
          "user": "gnestor"
         },
         {
          "comments": 9.0,
          "date": "2017-06-11T00:00:00",
          "user": "gnestor"
         },
         {
          "comments": 3.0,
          "date": "2017-06-18T00:00:00",
          "user": "gnestor"
         },
         {
          "comments": 5.5,
          "date": "2017-06-25T00:00:00",
          "user": "gnestor"
         },
         {
          "comments": 6.0,
          "date": "2017-07-02T00:00:00",
          "user": "gnestor"
         },
         {
          "comments": 4.5,
          "date": "2017-07-09T00:00:00",
          "user": "gnestor"
         },
         {
          "comments": 4.0,
          "date": "2017-07-23T00:00:00",
          "user": "gnestor"
         },
         {
          "comments": 23.5,
          "date": "2017-07-30T00:00:00",
          "user": "gnestor"
         },
         {
          "comments": 31.0,
          "date": "2017-08-06T00:00:00",
          "user": "gnestor"
         },
         {
          "comments": 19.5,
          "date": "2017-08-13T00:00:00",
          "user": "gnestor"
         },
         {
          "comments": 20.5,
          "date": "2017-08-20T00:00:00",
          "user": "gnestor"
         },
         {
          "comments": 10.0,
          "date": "2017-08-27T00:00:00",
          "user": "gnestor"
         },
         {
          "comments": 12.5,
          "date": "2017-09-17T00:00:00",
          "user": "gnestor"
         },
         {
          "comments": 14.0,
          "date": "2017-10-01T00:00:00",
          "user": "gnestor"
         },
         {
          "comments": 7.5,
          "date": "2017-10-08T00:00:00",
          "user": "gnestor"
         },
         {
          "comments": 23.0,
          "date": "2017-10-15T00:00:00",
          "user": "gnestor"
         },
         {
          "comments": 20.0,
          "date": "2017-10-22T00:00:00",
          "user": "gnestor"
         },
         {
          "comments": 20.0,
          "date": "2017-10-29T00:00:00",
          "user": "gnestor"
         },
         {
          "comments": 32.5,
          "date": "2017-11-05T00:00:00",
          "user": "gnestor"
         },
         {
          "comments": 18.5,
          "date": "2017-11-12T00:00:00",
          "user": "gnestor"
         },
         {
          "comments": 9.0,
          "date": "2017-11-19T00:00:00",
          "user": "gnestor"
         },
         {
          "comments": 18.5,
          "date": "2017-12-03T00:00:00",
          "user": "gnestor"
         },
         {
          "comments": 21.0,
          "date": "2017-12-10T00:00:00",
          "user": "gnestor"
         },
         {
          "comments": 10.0,
          "date": "2017-12-17T00:00:00",
          "user": "gnestor"
         },
         {
          "comments": 13.0,
          "date": "2018-01-07T00:00:00",
          "user": "gnestor"
         },
         {
          "comments": 13.5,
          "date": "2018-01-14T00:00:00",
          "user": "gnestor"
         },
         {
          "comments": 6.0,
          "date": "2018-01-21T00:00:00",
          "user": "gnestor"
         },
         {
          "comments": 9.0,
          "date": "2018-01-28T00:00:00",
          "user": "gnestor"
         },
         {
          "comments": 7.0,
          "date": "2018-02-11T00:00:00",
          "user": "gnestor"
         },
         {
          "comments": 4.0,
          "date": "2018-02-18T00:00:00",
          "user": "gnestor"
         },
         {
          "comments": 4.5,
          "date": "2018-02-25T00:00:00",
          "user": "gnestor"
         },
         {
          "comments": 2.5,
          "date": "2018-03-04T00:00:00",
          "user": "gnestor"
         },
         {
          "comments": 1.5,
          "date": "2018-03-11T00:00:00",
          "user": "gnestor"
         },
         {
          "comments": 2.5,
          "date": "2018-04-08T00:00:00",
          "user": "gnestor"
         },
         {
          "comments": 2.5,
          "date": "2018-04-22T00:00:00",
          "user": "gnestor"
         },
         {
          "comments": 2.0,
          "date": "2018-05-06T00:00:00",
          "user": "gnestor"
         },
         {
          "comments": 2.0,
          "date": "2018-05-13T00:00:00",
          "user": "gnestor"
         },
         {
          "comments": 1.5,
          "date": "2018-05-20T00:00:00",
          "user": "gnestor"
         },
         {
          "comments": 2.5,
          "date": "2018-05-27T00:00:00",
          "user": "gnestor"
         },
         {
          "comments": 2.0,
          "date": "2018-06-10T00:00:00",
          "user": "gnestor"
         },
         {
          "comments": 3.0,
          "date": "2018-06-17T00:00:00",
          "user": "gnestor"
         },
         {
          "comments": 3.0,
          "date": "2018-07-08T00:00:00",
          "user": "gnestor"
         },
         {
          "comments": 4.0,
          "date": "2018-07-15T00:00:00",
          "user": "gnestor"
         },
         {
          "comments": 5.5,
          "date": "2018-07-22T00:00:00",
          "user": "gnestor"
         },
         {
          "comments": 2.5,
          "date": "2018-08-19T00:00:00",
          "user": "gnestor"
         },
         {
          "comments": 1.0,
          "date": "2018-08-26T00:00:00",
          "user": "gnestor"
         },
         {
          "comments": 1.0,
          "date": "2018-09-09T00:00:00",
          "user": "gnestor"
         },
         {
          "comments": 1.0,
          "date": "2018-10-28T00:00:00",
          "user": "gnestor"
         },
         {
          "comments": 1.0,
          "date": "2018-11-04T00:00:00",
          "user": "gnestor"
         },
         {
          "comments": 3.0,
          "date": "2018-11-11T00:00:00",
          "user": "gnestor"
         },
         {
          "comments": 3.0,
          "date": "2018-12-02T00:00:00",
          "user": "gnestor"
         },
         {
          "comments": 1.0,
          "date": "2018-12-23T00:00:00",
          "user": "gnestor"
         },
         {
          "comments": 1.0,
          "date": "2019-01-13T00:00:00",
          "user": "gnestor"
         },
         {
          "comments": 1.0,
          "date": "2019-01-20T00:00:00",
          "user": "gnestor"
         },
         {
          "comments": 2.0,
          "date": "2019-02-03T00:00:00",
          "user": "gnestor"
         },
         {
          "comments": 3.0,
          "date": "2019-02-10T00:00:00",
          "user": "gnestor"
         },
         {
          "comments": 7.5,
          "date": "2016-01-31T00:00:00",
          "user": "jasongrout"
         },
         {
          "comments": 4.5,
          "date": "2016-02-07T00:00:00",
          "user": "jasongrout"
         },
         {
          "comments": 3.5,
          "date": "2016-02-21T00:00:00",
          "user": "jasongrout"
         },
         {
          "comments": 3.0,
          "date": "2016-02-28T00:00:00",
          "user": "jasongrout"
         },
         {
          "comments": 4.5,
          "date": "2016-03-06T00:00:00",
          "user": "jasongrout"
         },
         {
          "comments": 13.0,
          "date": "2016-03-20T00:00:00",
          "user": "jasongrout"
         },
         {
          "comments": 10.5,
          "date": "2016-04-17T00:00:00",
          "user": "jasongrout"
         },
         {
          "comments": 2.0,
          "date": "2016-06-05T00:00:00",
          "user": "jasongrout"
         },
         {
          "comments": 1.5,
          "date": "2016-06-12T00:00:00",
          "user": "jasongrout"
         },
         {
          "comments": 2.0,
          "date": "2016-07-17T00:00:00",
          "user": "jasongrout"
         },
         {
          "comments": 3.0,
          "date": "2016-08-14T00:00:00",
          "user": "jasongrout"
         },
         {
          "comments": 2.5,
          "date": "2016-08-28T00:00:00",
          "user": "jasongrout"
         },
         {
          "comments": 1.5,
          "date": "2016-09-04T00:00:00",
          "user": "jasongrout"
         },
         {
          "comments": 1.0,
          "date": "2016-10-02T00:00:00",
          "user": "jasongrout"
         },
         {
          "comments": 1.5,
          "date": "2016-10-09T00:00:00",
          "user": "jasongrout"
         },
         {
          "comments": 1.5,
          "date": "2016-10-16T00:00:00",
          "user": "jasongrout"
         },
         {
          "comments": 1.0,
          "date": "2016-10-23T00:00:00",
          "user": "jasongrout"
         },
         {
          "comments": 1.0,
          "date": "2016-10-30T00:00:00",
          "user": "jasongrout"
         },
         {
          "comments": 1.0,
          "date": "2016-11-06T00:00:00",
          "user": "jasongrout"
         },
         {
          "comments": 1.5,
          "date": "2016-12-04T00:00:00",
          "user": "jasongrout"
         },
         {
          "comments": 8.5,
          "date": "2016-12-11T00:00:00",
          "user": "jasongrout"
         },
         {
          "comments": 8.0,
          "date": "2016-12-18T00:00:00",
          "user": "jasongrout"
         },
         {
          "comments": 1.5,
          "date": "2017-01-08T00:00:00",
          "user": "jasongrout"
         },
         {
          "comments": 1.5,
          "date": "2017-01-22T00:00:00",
          "user": "jasongrout"
         },
         {
          "comments": 3.5,
          "date": "2017-02-05T00:00:00",
          "user": "jasongrout"
         },
         {
          "comments": 7.5,
          "date": "2017-02-12T00:00:00",
          "user": "jasongrout"
         },
         {
          "comments": 8.0,
          "date": "2017-02-19T00:00:00",
          "user": "jasongrout"
         },
         {
          "comments": 7.5,
          "date": "2017-03-19T00:00:00",
          "user": "jasongrout"
         },
         {
          "comments": 5.0,
          "date": "2017-04-02T00:00:00",
          "user": "jasongrout"
         },
         {
          "comments": 2.0,
          "date": "2017-04-09T00:00:00",
          "user": "jasongrout"
         },
         {
          "comments": 4.0,
          "date": "2017-04-16T00:00:00",
          "user": "jasongrout"
         },
         {
          "comments": 3.5,
          "date": "2017-04-23T00:00:00",
          "user": "jasongrout"
         },
         {
          "comments": 2.0,
          "date": "2017-04-30T00:00:00",
          "user": "jasongrout"
         },
         {
          "comments": 2.0,
          "date": "2017-05-14T00:00:00",
          "user": "jasongrout"
         },
         {
          "comments": 1.0,
          "date": "2017-05-21T00:00:00",
          "user": "jasongrout"
         },
         {
          "comments": 1.0,
          "date": "2017-05-28T00:00:00",
          "user": "jasongrout"
         },
         {
          "comments": 1.5,
          "date": "2017-07-30T00:00:00",
          "user": "jasongrout"
         },
         {
          "comments": 1.5,
          "date": "2017-08-20T00:00:00",
          "user": "jasongrout"
         },
         {
          "comments": 1.5,
          "date": "2017-09-17T00:00:00",
          "user": "jasongrout"
         },
         {
          "comments": 2.0,
          "date": "2017-10-01T00:00:00",
          "user": "jasongrout"
         },
         {
          "comments": 1.5,
          "date": "2017-10-15T00:00:00",
          "user": "jasongrout"
         },
         {
          "comments": 2.0,
          "date": "2017-10-22T00:00:00",
          "user": "jasongrout"
         },
         {
          "comments": 2.5,
          "date": "2017-10-29T00:00:00",
          "user": "jasongrout"
         },
         {
          "comments": 2.5,
          "date": "2017-11-26T00:00:00",
          "user": "jasongrout"
         },
         {
          "comments": 2.5,
          "date": "2017-12-03T00:00:00",
          "user": "jasongrout"
         },
         {
          "comments": 1.5,
          "date": "2017-12-31T00:00:00",
          "user": "jasongrout"
         },
         {
          "comments": 1.0,
          "date": "2018-01-07T00:00:00",
          "user": "jasongrout"
         },
         {
          "comments": 1.0,
          "date": "2018-01-14T00:00:00",
          "user": "jasongrout"
         },
         {
          "comments": 1.0,
          "date": "2018-01-21T00:00:00",
          "user": "jasongrout"
         },
         {
          "comments": 2.5,
          "date": "2018-03-25T00:00:00",
          "user": "jasongrout"
         },
         {
          "comments": 2.5,
          "date": "2018-04-15T00:00:00",
          "user": "jasongrout"
         },
         {
          "comments": 1.0,
          "date": "2018-05-06T00:00:00",
          "user": "jasongrout"
         },
         {
          "comments": 1.0,
          "date": "2018-06-24T00:00:00",
          "user": "jasongrout"
         },
         {
          "comments": 1.5,
          "date": "2018-07-15T00:00:00",
          "user": "jasongrout"
         },
         {
          "comments": 3.5,
          "date": "2018-07-22T00:00:00",
          "user": "jasongrout"
         },
         {
          "comments": 3.0,
          "date": "2018-07-29T00:00:00",
          "user": "jasongrout"
         },
         {
          "comments": 1.0,
          "date": "2018-08-05T00:00:00",
          "user": "jasongrout"
         },
         {
          "comments": 1.0,
          "date": "2018-09-16T00:00:00",
          "user": "jasongrout"
         },
         {
          "comments": 4.0,
          "date": "2018-09-23T00:00:00",
          "user": "jasongrout"
         },
         {
          "comments": 16.5,
          "date": "2018-09-30T00:00:00",
          "user": "jasongrout"
         },
         {
          "comments": 13.5,
          "date": "2018-11-04T00:00:00",
          "user": "jasongrout"
         },
         {
          "comments": 1.5,
          "date": "2018-11-18T00:00:00",
          "user": "jasongrout"
         },
         {
          "comments": 2.0,
          "date": "2019-01-13T00:00:00",
          "user": "jasongrout"
         },
         {
          "comments": 2.0,
          "date": "2019-02-03T00:00:00",
          "user": "jasongrout"
         },
         {
          "comments": 1.0,
          "date": "2016-03-06T00:00:00",
          "user": "jcb91"
         },
         {
          "comments": 2.5,
          "date": "2016-03-13T00:00:00",
          "user": "jcb91"
         },
         {
          "comments": 2.5,
          "date": "2016-04-03T00:00:00",
          "user": "jcb91"
         },
         {
          "comments": 2.0,
          "date": "2016-04-17T00:00:00",
          "user": "jcb91"
         },
         {
          "comments": 2.5,
          "date": "2016-05-15T00:00:00",
          "user": "jcb91"
         },
         {
          "comments": 1.5,
          "date": "2016-05-22T00:00:00",
          "user": "jcb91"
         },
         {
          "comments": 2.0,
          "date": "2016-05-29T00:00:00",
          "user": "jcb91"
         },
         {
          "comments": 4.0,
          "date": "2016-06-12T00:00:00",
          "user": "jcb91"
         },
         {
          "comments": 3.0,
          "date": "2016-08-14T00:00:00",
          "user": "jcb91"
         },
         {
          "comments": 1.0,
          "date": "2016-09-04T00:00:00",
          "user": "jcb91"
         },
         {
          "comments": 2.5,
          "date": "2016-11-13T00:00:00",
          "user": "jcb91"
         },
         {
          "comments": 3.0,
          "date": "2016-11-20T00:00:00",
          "user": "jcb91"
         },
         {
          "comments": 1.5,
          "date": "2017-01-22T00:00:00",
          "user": "jcb91"
         },
         {
          "comments": 1.5,
          "date": "2017-01-29T00:00:00",
          "user": "jcb91"
         },
         {
          "comments": 2.0,
          "date": "2017-02-19T00:00:00",
          "user": "jcb91"
         },
         {
          "comments": 2.0,
          "date": "2017-06-25T00:00:00",
          "user": "jcb91"
         },
         {
          "comments": 2.0,
          "date": "2017-07-30T00:00:00",
          "user": "jcb91"
         },
         {
          "comments": 4.5,
          "date": "2017-10-01T00:00:00",
          "user": "jcb91"
         },
         {
          "comments": 4.0,
          "date": "2017-10-08T00:00:00",
          "user": "jcb91"
         },
         {
          "comments": 1.5,
          "date": "2017-10-22T00:00:00",
          "user": "jcb91"
         },
         {
          "comments": 3.5,
          "date": "2017-11-05T00:00:00",
          "user": "jcb91"
         },
         {
          "comments": 4.0,
          "date": "2017-11-12T00:00:00",
          "user": "jcb91"
         },
         {
          "comments": 4.5,
          "date": "2017-11-19T00:00:00",
          "user": "jcb91"
         },
         {
          "comments": 4.0,
          "date": "2017-12-24T00:00:00",
          "user": "jcb91"
         },
         {
          "comments": 5.0,
          "date": "2016-01-17T00:00:00",
          "user": "jdfreder"
         },
         {
          "comments": 9.0,
          "date": "2016-01-24T00:00:00",
          "user": "jdfreder"
         },
         {
          "comments": 8.5,
          "date": "2016-01-31T00:00:00",
          "user": "jdfreder"
         },
         {
          "comments": 9.0,
          "date": "2016-02-07T00:00:00",
          "user": "jdfreder"
         },
         {
          "comments": 15.0,
          "date": "2016-02-14T00:00:00",
          "user": "jdfreder"
         },
         {
          "comments": 15.0,
          "date": "2016-02-21T00:00:00",
          "user": "jdfreder"
         },
         {
          "comments": 16.0,
          "date": "2016-02-28T00:00:00",
          "user": "jdfreder"
         },
         {
          "comments": 17.5,
          "date": "2016-03-06T00:00:00",
          "user": "jdfreder"
         },
         {
          "comments": 13.5,
          "date": "2016-03-13T00:00:00",
          "user": "jdfreder"
         },
         {
          "comments": 8.5,
          "date": "2016-03-20T00:00:00",
          "user": "jdfreder"
         },
         {
          "comments": 3.5,
          "date": "2016-03-27T00:00:00",
          "user": "jdfreder"
         },
         {
          "comments": 4.5,
          "date": "2016-04-03T00:00:00",
          "user": "jdfreder"
         },
         {
          "comments": 3.5,
          "date": "2016-04-10T00:00:00",
          "user": "jdfreder"
         },
         {
          "comments": 4.0,
          "date": "2016-04-17T00:00:00",
          "user": "jdfreder"
         },
         {
          "comments": 3.5,
          "date": "2018-08-26T00:00:00",
          "user": "jdfreder"
         },
         {
          "comments": 1.0,
          "date": "2016-02-28T00:00:00",
          "user": "mgeier"
         },
         {
          "comments": 1.0,
          "date": "2016-03-13T00:00:00",
          "user": "mgeier"
         },
         {
          "comments": 6.5,
          "date": "2016-03-20T00:00:00",
          "user": "mgeier"
         },
         {
          "comments": 11.5,
          "date": "2016-03-27T00:00:00",
          "user": "mgeier"
         },
         {
          "comments": 7.0,
          "date": "2016-04-10T00:00:00",
          "user": "mgeier"
         },
         {
          "comments": 2.5,
          "date": "2016-04-17T00:00:00",
          "user": "mgeier"
         },
         {
          "comments": 3.5,
          "date": "2016-04-24T00:00:00",
          "user": "mgeier"
         },
         {
          "comments": 4.5,
          "date": "2016-05-01T00:00:00",
          "user": "mgeier"
         },
         {
          "comments": 3.5,
          "date": "2016-05-15T00:00:00",
          "user": "mgeier"
         },
         {
          "comments": 2.0,
          "date": "2016-06-12T00:00:00",
          "user": "mgeier"
         },
         {
          "comments": 1.5,
          "date": "2016-06-26T00:00:00",
          "user": "mgeier"
         },
         {
          "comments": 2.5,
          "date": "2016-12-11T00:00:00",
          "user": "mgeier"
         },
         {
          "comments": 2.5,
          "date": "2016-12-18T00:00:00",
          "user": "mgeier"
         },
         {
          "comments": 2.5,
          "date": "2016-12-25T00:00:00",
          "user": "mgeier"
         },
         {
          "comments": 2.0,
          "date": "2017-01-08T00:00:00",
          "user": "mgeier"
         },
         {
          "comments": 1.0,
          "date": "2017-03-26T00:00:00",
          "user": "mgeier"
         },
         {
          "comments": 1.5,
          "date": "2017-04-16T00:00:00",
          "user": "mgeier"
         },
         {
          "comments": 1.5,
          "date": "2017-04-30T00:00:00",
          "user": "mgeier"
         },
         {
          "comments": 1.5,
          "date": "2017-10-29T00:00:00",
          "user": "mgeier"
         },
         {
          "comments": 1.5,
          "date": "2017-11-05T00:00:00",
          "user": "mgeier"
         },
         {
          "comments": 1.0,
          "date": "2018-02-11T00:00:00",
          "user": "mgeier"
         },
         {
          "comments": 1.5,
          "date": "2018-10-07T00:00:00",
          "user": "mgeier"
         },
         {
          "comments": 2.5,
          "date": "2018-11-18T00:00:00",
          "user": "mgeier"
         },
         {
          "comments": 2.0,
          "date": "2018-11-25T00:00:00",
          "user": "mgeier"
         },
         {
          "comments": 1.0,
          "date": "2018-12-23T00:00:00",
          "user": "mgeier"
         },
         {
          "comments": 6.5,
          "date": "2016-01-10T00:00:00",
          "user": "minrk"
         },
         {
          "comments": 12.5,
          "date": "2016-01-17T00:00:00",
          "user": "minrk"
         },
         {
          "comments": 14.5,
          "date": "2016-01-24T00:00:00",
          "user": "minrk"
         },
         {
          "comments": 16.0,
          "date": "2016-01-31T00:00:00",
          "user": "minrk"
         },
         {
          "comments": 24.5,
          "date": "2016-02-07T00:00:00",
          "user": "minrk"
         },
         {
          "comments": 23.5,
          "date": "2016-02-14T00:00:00",
          "user": "minrk"
         },
         {
          "comments": 14.5,
          "date": "2016-02-21T00:00:00",
          "user": "minrk"
         },
         {
          "comments": 27.0,
          "date": "2016-02-28T00:00:00",
          "user": "minrk"
         },
         {
          "comments": 30.5,
          "date": "2016-03-06T00:00:00",
          "user": "minrk"
         },
         {
          "comments": 16.5,
          "date": "2016-03-13T00:00:00",
          "user": "minrk"
         },
         {
          "comments": 19.0,
          "date": "2016-03-20T00:00:00",
          "user": "minrk"
         },
         {
          "comments": 29.5,
          "date": "2016-03-27T00:00:00",
          "user": "minrk"
         },
         {
          "comments": 24.0,
          "date": "2016-04-10T00:00:00",
          "user": "minrk"
         },
         {
          "comments": 22.5,
          "date": "2016-04-17T00:00:00",
          "user": "minrk"
         },
         {
          "comments": 26.5,
          "date": "2016-04-24T00:00:00",
          "user": "minrk"
         },
         {
          "comments": 16.0,
          "date": "2016-05-01T00:00:00",
          "user": "minrk"
         },
         {
          "comments": 7.5,
          "date": "2016-05-08T00:00:00",
          "user": "minrk"
         },
         {
          "comments": 7.5,
          "date": "2016-05-15T00:00:00",
          "user": "minrk"
         },
         {
          "comments": 8.0,
          "date": "2016-05-22T00:00:00",
          "user": "minrk"
         },
         {
          "comments": 9.5,
          "date": "2016-05-29T00:00:00",
          "user": "minrk"
         },
         {
          "comments": 11.0,
          "date": "2016-06-05T00:00:00",
          "user": "minrk"
         },
         {
          "comments": 12.5,
          "date": "2016-06-12T00:00:00",
          "user": "minrk"
         },
         {
          "comments": 23.5,
          "date": "2016-06-19T00:00:00",
          "user": "minrk"
         },
         {
          "comments": 17.0,
          "date": "2016-06-26T00:00:00",
          "user": "minrk"
         },
         {
          "comments": 4.5,
          "date": "2016-07-03T00:00:00",
          "user": "minrk"
         },
         {
          "comments": 14.0,
          "date": "2016-07-10T00:00:00",
          "user": "minrk"
         },
         {
          "comments": 13.0,
          "date": "2016-07-17T00:00:00",
          "user": "minrk"
         },
         {
          "comments": 6.0,
          "date": "2016-07-31T00:00:00",
          "user": "minrk"
         },
         {
          "comments": 7.0,
          "date": "2016-08-07T00:00:00",
          "user": "minrk"
         },
         {
          "comments": 5.0,
          "date": "2016-08-14T00:00:00",
          "user": "minrk"
         },
         {
          "comments": 2.0,
          "date": "2016-08-21T00:00:00",
          "user": "minrk"
         },
         {
          "comments": 3.5,
          "date": "2016-08-28T00:00:00",
          "user": "minrk"
         },
         {
          "comments": 5.5,
          "date": "2016-09-04T00:00:00",
          "user": "minrk"
         },
         {
          "comments": 9.0,
          "date": "2016-09-11T00:00:00",
          "user": "minrk"
         },
         {
          "comments": 18.0,
          "date": "2016-09-18T00:00:00",
          "user": "minrk"
         },
         {
          "comments": 14.0,
          "date": "2016-09-25T00:00:00",
          "user": "minrk"
         },
         {
          "comments": 5.0,
          "date": "2016-10-02T00:00:00",
          "user": "minrk"
         },
         {
          "comments": 10.0,
          "date": "2016-10-09T00:00:00",
          "user": "minrk"
         },
         {
          "comments": 12.0,
          "date": "2016-10-16T00:00:00",
          "user": "minrk"
         },
         {
          "comments": 10.5,
          "date": "2016-10-23T00:00:00",
          "user": "minrk"
         },
         {
          "comments": 8.0,
          "date": "2016-10-30T00:00:00",
          "user": "minrk"
         },
         {
          "comments": 4.0,
          "date": "2016-11-06T00:00:00",
          "user": "minrk"
         },
         {
          "comments": 3.0,
          "date": "2016-11-13T00:00:00",
          "user": "minrk"
         },
         {
          "comments": 6.0,
          "date": "2016-11-20T00:00:00",
          "user": "minrk"
         },
         {
          "comments": 13.0,
          "date": "2016-11-27T00:00:00",
          "user": "minrk"
         },
         {
          "comments": 12.0,
          "date": "2016-12-04T00:00:00",
          "user": "minrk"
         },
         {
          "comments": 8.5,
          "date": "2016-12-11T00:00:00",
          "user": "minrk"
         },
         {
          "comments": 12.0,
          "date": "2016-12-18T00:00:00",
          "user": "minrk"
         },
         {
          "comments": 14.0,
          "date": "2016-12-25T00:00:00",
          "user": "minrk"
         },
         {
          "comments": 13.5,
          "date": "2017-01-08T00:00:00",
          "user": "minrk"
         },
         {
          "comments": 12.0,
          "date": "2017-01-15T00:00:00",
          "user": "minrk"
         },
         {
          "comments": 7.5,
          "date": "2017-01-22T00:00:00",
          "user": "minrk"
         },
         {
          "comments": 9.0,
          "date": "2017-01-29T00:00:00",
          "user": "minrk"
         },
         {
          "comments": 20.5,
          "date": "2017-02-05T00:00:00",
          "user": "minrk"
         },
         {
          "comments": 24.5,
          "date": "2017-02-12T00:00:00",
          "user": "minrk"
         },
         {
          "comments": 15.5,
          "date": "2017-02-19T00:00:00",
          "user": "minrk"
         },
         {
          "comments": 5.5,
          "date": "2017-02-26T00:00:00",
          "user": "minrk"
         },
         {
          "comments": 6.0,
          "date": "2017-03-05T00:00:00",
          "user": "minrk"
         },
         {
          "comments": 7.5,
          "date": "2017-03-12T00:00:00",
          "user": "minrk"
         },
         {
          "comments": 7.0,
          "date": "2017-03-19T00:00:00",
          "user": "minrk"
         },
         {
          "comments": 6.0,
          "date": "2017-03-26T00:00:00",
          "user": "minrk"
         },
         {
          "comments": 6.5,
          "date": "2017-04-02T00:00:00",
          "user": "minrk"
         },
         {
          "comments": 9.5,
          "date": "2017-04-09T00:00:00",
          "user": "minrk"
         },
         {
          "comments": 6.0,
          "date": "2017-04-16T00:00:00",
          "user": "minrk"
         },
         {
          "comments": 7.0,
          "date": "2017-04-23T00:00:00",
          "user": "minrk"
         },
         {
          "comments": 9.5,
          "date": "2017-04-30T00:00:00",
          "user": "minrk"
         },
         {
          "comments": 7.0,
          "date": "2017-05-07T00:00:00",
          "user": "minrk"
         },
         {
          "comments": 3.5,
          "date": "2017-05-14T00:00:00",
          "user": "minrk"
         },
         {
          "comments": 1.5,
          "date": "2017-05-21T00:00:00",
          "user": "minrk"
         },
         {
          "comments": 4.0,
          "date": "2017-05-28T00:00:00",
          "user": "minrk"
         },
         {
          "comments": 4.5,
          "date": "2017-06-04T00:00:00",
          "user": "minrk"
         },
         {
          "comments": 3.0,
          "date": "2017-06-11T00:00:00",
          "user": "minrk"
         },
         {
          "comments": 4.0,
          "date": "2017-06-18T00:00:00",
          "user": "minrk"
         },
         {
          "comments": 3.0,
          "date": "2017-06-25T00:00:00",
          "user": "minrk"
         },
         {
          "comments": 4.0,
          "date": "2017-07-16T00:00:00",
          "user": "minrk"
         },
         {
          "comments": 5.0,
          "date": "2017-07-23T00:00:00",
          "user": "minrk"
         },
         {
          "comments": 2.0,
          "date": "2017-07-30T00:00:00",
          "user": "minrk"
         },
         {
          "comments": 9.5,
          "date": "2017-08-06T00:00:00",
          "user": "minrk"
         },
         {
          "comments": 14.5,
          "date": "2017-08-13T00:00:00",
          "user": "minrk"
         },
         {
          "comments": 10.5,
          "date": "2017-08-20T00:00:00",
          "user": "minrk"
         },
         {
          "comments": 5.5,
          "date": "2017-08-27T00:00:00",
          "user": "minrk"
         },
         {
          "comments": 1.0,
          "date": "2017-09-03T00:00:00",
          "user": "minrk"
         },
         {
          "comments": 2.0,
          "date": "2017-09-10T00:00:00",
          "user": "minrk"
         },
         {
          "comments": 3.5,
          "date": "2017-09-17T00:00:00",
          "user": "minrk"
         },
         {
          "comments": 5.0,
          "date": "2017-09-24T00:00:00",
          "user": "minrk"
         },
         {
          "comments": 4.5,
          "date": "2017-10-01T00:00:00",
          "user": "minrk"
         },
         {
          "comments": 7.5,
          "date": "2017-10-08T00:00:00",
          "user": "minrk"
         },
         {
          "comments": 8.0,
          "date": "2017-10-15T00:00:00",
          "user": "minrk"
         },
         {
          "comments": 2.5,
          "date": "2017-10-22T00:00:00",
          "user": "minrk"
         },
         {
          "comments": 1.0,
          "date": "2017-10-29T00:00:00",
          "user": "minrk"
         },
         {
          "comments": 2.5,
          "date": "2017-11-05T00:00:00",
          "user": "minrk"
         },
         {
          "comments": 3.5,
          "date": "2017-11-19T00:00:00",
          "user": "minrk"
         },
         {
          "comments": 3.5,
          "date": "2017-11-26T00:00:00",
          "user": "minrk"
         },
         {
          "comments": 4.5,
          "date": "2017-12-24T00:00:00",
          "user": "minrk"
         },
         {
          "comments": 3.5,
          "date": "2018-01-14T00:00:00",
          "user": "minrk"
         },
         {
          "comments": 2.5,
          "date": "2018-01-28T00:00:00",
          "user": "minrk"
         },
         {
          "comments": 2.5,
          "date": "2018-02-18T00:00:00",
          "user": "minrk"
         },
         {
          "comments": 1.5,
          "date": "2018-02-25T00:00:00",
          "user": "minrk"
         },
         {
          "comments": 3.5,
          "date": "2018-03-04T00:00:00",
          "user": "minrk"
         },
         {
          "comments": 5.0,
          "date": "2018-03-11T00:00:00",
          "user": "minrk"
         },
         {
          "comments": 2.5,
          "date": "2018-03-18T00:00:00",
          "user": "minrk"
         },
         {
          "comments": 1.0,
          "date": "2018-03-25T00:00:00",
          "user": "minrk"
         },
         {
          "comments": 1.0,
          "date": "2018-04-01T00:00:00",
          "user": "minrk"
         },
         {
          "comments": 1.0,
          "date": "2018-04-15T00:00:00",
          "user": "minrk"
         },
         {
          "comments": 1.0,
          "date": "2018-04-29T00:00:00",
          "user": "minrk"
         },
         {
          "comments": 1.5,
          "date": "2018-05-06T00:00:00",
          "user": "minrk"
         },
         {
          "comments": 2.5,
          "date": "2018-05-27T00:00:00",
          "user": "minrk"
         },
         {
          "comments": 2.0,
          "date": "2018-06-03T00:00:00",
          "user": "minrk"
         },
         {
          "comments": 1.5,
          "date": "2018-06-10T00:00:00",
          "user": "minrk"
         },
         {
          "comments": 6.0,
          "date": "2018-06-17T00:00:00",
          "user": "minrk"
         },
         {
          "comments": 7.5,
          "date": "2018-06-24T00:00:00",
          "user": "minrk"
         },
         {
          "comments": 3.5,
          "date": "2018-07-01T00:00:00",
          "user": "minrk"
         },
         {
          "comments": 2.0,
          "date": "2018-07-08T00:00:00",
          "user": "minrk"
         },
         {
          "comments": 2.0,
          "date": "2018-07-15T00:00:00",
          "user": "minrk"
         },
         {
          "comments": 3.0,
          "date": "2018-07-22T00:00:00",
          "user": "minrk"
         },
         {
          "comments": 4.0,
          "date": "2018-08-05T00:00:00",
          "user": "minrk"
         },
         {
          "comments": 2.5,
          "date": "2018-08-26T00:00:00",
          "user": "minrk"
         },
         {
          "comments": 3.0,
          "date": "2018-09-09T00:00:00",
          "user": "minrk"
         },
         {
          "comments": 7.0,
          "date": "2018-09-16T00:00:00",
          "user": "minrk"
         },
         {
          "comments": 7.5,
          "date": "2018-09-23T00:00:00",
          "user": "minrk"
         },
         {
          "comments": 6.0,
          "date": "2018-09-30T00:00:00",
          "user": "minrk"
         },
         {
          "comments": 8.0,
          "date": "2018-10-14T00:00:00",
          "user": "minrk"
         },
         {
          "comments": 9.0,
          "date": "2018-10-21T00:00:00",
          "user": "minrk"
         },
         {
          "comments": 5.5,
          "date": "2018-11-04T00:00:00",
          "user": "minrk"
         },
         {
          "comments": 2.0,
          "date": "2018-11-11T00:00:00",
          "user": "minrk"
         },
         {
          "comments": 2.0,
          "date": "2018-11-18T00:00:00",
          "user": "minrk"
         },
         {
          "comments": 3.0,
          "date": "2018-11-25T00:00:00",
          "user": "minrk"
         },
         {
          "comments": 3.5,
          "date": "2018-12-02T00:00:00",
          "user": "minrk"
         },
         {
          "comments": 5.0,
          "date": "2018-12-09T00:00:00",
          "user": "minrk"
         },
         {
          "comments": 5.5,
          "date": "2018-12-16T00:00:00",
          "user": "minrk"
         },
         {
          "comments": 4.0,
          "date": "2018-12-23T00:00:00",
          "user": "minrk"
         },
         {
          "comments": 2.5,
          "date": "2019-01-20T00:00:00",
          "user": "minrk"
         },
         {
          "comments": 1.5,
          "date": "2019-02-03T00:00:00",
          "user": "minrk"
         },
         {
          "comments": 1.0,
          "date": "2019-02-17T00:00:00",
          "user": "minrk"
         },
         {
          "comments": 1.5,
          "date": "2016-08-07T00:00:00",
          "user": "mpacer"
         },
         {
          "comments": 1.5,
          "date": "2016-08-14T00:00:00",
          "user": "mpacer"
         },
         {
          "comments": 1.0,
          "date": "2016-08-28T00:00:00",
          "user": "mpacer"
         },
         {
          "comments": 1.0,
          "date": "2016-09-04T00:00:00",
          "user": "mpacer"
         },
         {
          "comments": 2.5,
          "date": "2016-09-11T00:00:00",
          "user": "mpacer"
         },
         {
          "comments": 5.5,
          "date": "2016-09-18T00:00:00",
          "user": "mpacer"
         },
         {
          "comments": 5.5,
          "date": "2016-10-16T00:00:00",
          "user": "mpacer"
         },
         {
          "comments": 2.5,
          "date": "2016-10-23T00:00:00",
          "user": "mpacer"
         },
         {
          "comments": 1.0,
          "date": "2016-11-13T00:00:00",
          "user": "mpacer"
         },
         {
          "comments": 1.0,
          "date": "2016-11-20T00:00:00",
          "user": "mpacer"
         },
         {
          "comments": 2.0,
          "date": "2016-12-04T00:00:00",
          "user": "mpacer"
         },
         {
          "comments": 5.5,
          "date": "2016-12-18T00:00:00",
          "user": "mpacer"
         },
         {
          "comments": 6.0,
          "date": "2016-12-25T00:00:00",
          "user": "mpacer"
         },
         {
          "comments": 2.5,
          "date": "2017-01-01T00:00:00",
          "user": "mpacer"
         },
         {
          "comments": 3.0,
          "date": "2017-01-22T00:00:00",
          "user": "mpacer"
         },
         {
          "comments": 7.0,
          "date": "2017-02-19T00:00:00",
          "user": "mpacer"
         },
         {
          "comments": 8.5,
          "date": "2017-03-05T00:00:00",
          "user": "mpacer"
         },
         {
          "comments": 5.0,
          "date": "2017-03-12T00:00:00",
          "user": "mpacer"
         },
         {
          "comments": 2.5,
          "date": "2017-03-19T00:00:00",
          "user": "mpacer"
         },
         {
          "comments": 2.0,
          "date": "2017-03-26T00:00:00",
          "user": "mpacer"
         },
         {
          "comments": 1.0,
          "date": "2017-04-09T00:00:00",
          "user": "mpacer"
         },
         {
          "comments": 1.5,
          "date": "2017-04-16T00:00:00",
          "user": "mpacer"
         },
         {
          "comments": 1.5,
          "date": "2017-04-23T00:00:00",
          "user": "mpacer"
         },
         {
          "comments": 5.0,
          "date": "2017-04-30T00:00:00",
          "user": "mpacer"
         },
         {
          "comments": 5.0,
          "date": "2017-05-14T00:00:00",
          "user": "mpacer"
         },
         {
          "comments": 1.0,
          "date": "2017-05-21T00:00:00",
          "user": "mpacer"
         },
         {
          "comments": 1.0,
          "date": "2017-05-28T00:00:00",
          "user": "mpacer"
         },
         {
          "comments": 2.5,
          "date": "2017-06-25T00:00:00",
          "user": "mpacer"
         },
         {
          "comments": 3.0,
          "date": "2017-07-02T00:00:00",
          "user": "mpacer"
         },
         {
          "comments": 2.0,
          "date": "2017-07-23T00:00:00",
          "user": "mpacer"
         },
         {
          "comments": 3.5,
          "date": "2017-07-30T00:00:00",
          "user": "mpacer"
         },
         {
          "comments": 3.0,
          "date": "2017-08-06T00:00:00",
          "user": "mpacer"
         },
         {
          "comments": 2.0,
          "date": "2017-08-13T00:00:00",
          "user": "mpacer"
         },
         {
          "comments": 2.0,
          "date": "2017-08-20T00:00:00",
          "user": "mpacer"
         },
         {
          "comments": 4.0,
          "date": "2017-08-27T00:00:00",
          "user": "mpacer"
         },
         {
          "comments": 4.5,
          "date": "2017-09-03T00:00:00",
          "user": "mpacer"
         },
         {
          "comments": 3.0,
          "date": "2017-09-10T00:00:00",
          "user": "mpacer"
         },
         {
          "comments": 3.0,
          "date": "2017-09-17T00:00:00",
          "user": "mpacer"
         },
         {
          "comments": 1.5,
          "date": "2017-10-01T00:00:00",
          "user": "mpacer"
         },
         {
          "comments": 3.5,
          "date": "2017-10-08T00:00:00",
          "user": "mpacer"
         },
         {
          "comments": 4.5,
          "date": "2017-10-22T00:00:00",
          "user": "mpacer"
         },
         {
          "comments": 9.0,
          "date": "2017-10-29T00:00:00",
          "user": "mpacer"
         },
         {
          "comments": 9.0,
          "date": "2017-11-05T00:00:00",
          "user": "mpacer"
         },
         {
          "comments": 2.0,
          "date": "2017-11-19T00:00:00",
          "user": "mpacer"
         },
         {
          "comments": 1.0,
          "date": "2017-11-26T00:00:00",
          "user": "mpacer"
         },
         {
          "comments": 1.5,
          "date": "2017-12-17T00:00:00",
          "user": "mpacer"
         },
         {
          "comments": 2.0,
          "date": "2018-01-14T00:00:00",
          "user": "mpacer"
         },
         {
          "comments": 1.5,
          "date": "2018-02-11T00:00:00",
          "user": "mpacer"
         },
         {
          "comments": 2.0,
          "date": "2018-02-18T00:00:00",
          "user": "mpacer"
         },
         {
          "comments": 2.5,
          "date": "2018-02-25T00:00:00",
          "user": "mpacer"
         },
         {
          "comments": 3.0,
          "date": "2018-03-25T00:00:00",
          "user": "mpacer"
         },
         {
          "comments": 2.5,
          "date": "2018-05-06T00:00:00",
          "user": "mpacer"
         },
         {
          "comments": 2.5,
          "date": "2018-06-10T00:00:00",
          "user": "mpacer"
         },
         {
          "comments": 3.5,
          "date": "2018-06-17T00:00:00",
          "user": "mpacer"
         },
         {
          "comments": 2.5,
          "date": "2018-06-24T00:00:00",
          "user": "mpacer"
         },
         {
          "comments": 1.5,
          "date": "2018-07-15T00:00:00",
          "user": "mpacer"
         },
         {
          "comments": 2.5,
          "date": "2016-02-14T00:00:00",
          "user": "parente"
         },
         {
          "comments": 4.0,
          "date": "2016-02-28T00:00:00",
          "user": "parente"
         },
         {
          "comments": 3.5,
          "date": "2016-03-06T00:00:00",
          "user": "parente"
         },
         {
          "comments": 1.5,
          "date": "2016-03-20T00:00:00",
          "user": "parente"
         },
         {
          "comments": 1.0,
          "date": "2016-04-03T00:00:00",
          "user": "parente"
         },
         {
          "comments": 1.0,
          "date": "2016-04-10T00:00:00",
          "user": "parente"
         },
         {
          "comments": 1.0,
          "date": "2016-05-15T00:00:00",
          "user": "parente"
         },
         {
          "comments": 1.5,
          "date": "2016-06-19T00:00:00",
          "user": "parente"
         },
         {
          "comments": 1.5,
          "date": "2016-07-03T00:00:00",
          "user": "parente"
         },
         {
          "comments": 2.0,
          "date": "2016-07-10T00:00:00",
          "user": "parente"
         },
         {
          "comments": 2.0,
          "date": "2016-07-31T00:00:00",
          "user": "parente"
         },
         {
          "comments": 1.5,
          "date": "2016-08-14T00:00:00",
          "user": "parente"
         },
         {
          "comments": 1.5,
          "date": "2016-08-21T00:00:00",
          "user": "parente"
         },
         {
          "comments": 2.0,
          "date": "2016-08-28T00:00:00",
          "user": "parente"
         },
         {
          "comments": 2.0,
          "date": "2016-09-04T00:00:00",
          "user": "parente"
         },
         {
          "comments": 2.0,
          "date": "2016-10-16T00:00:00",
          "user": "parente"
         },
         {
          "comments": 2.0,
          "date": "2016-11-27T00:00:00",
          "user": "parente"
         },
         {
          "comments": 1.0,
          "date": "2017-01-29T00:00:00",
          "user": "parente"
         },
         {
          "comments": 1.0,
          "date": "2017-02-05T00:00:00",
          "user": "parente"
         },
         {
          "comments": 1.5,
          "date": "2017-02-19T00:00:00",
          "user": "parente"
         },
         {
          "comments": 1.5,
          "date": "2017-04-16T00:00:00",
          "user": "parente"
         },
         {
          "comments": 1.5,
          "date": "2017-05-07T00:00:00",
          "user": "parente"
         },
         {
          "comments": 3.5,
          "date": "2017-05-21T00:00:00",
          "user": "parente"
         },
         {
          "comments": 4.0,
          "date": "2017-05-28T00:00:00",
          "user": "parente"
         },
         {
          "comments": 2.0,
          "date": "2017-06-04T00:00:00",
          "user": "parente"
         },
         {
          "comments": 1.0,
          "date": "2017-07-30T00:00:00",
          "user": "parente"
         },
         {
          "comments": 1.0,
          "date": "2017-09-24T00:00:00",
          "user": "parente"
         },
         {
          "comments": 1.0,
          "date": "2017-10-15T00:00:00",
          "user": "parente"
         },
         {
          "comments": 1.5,
          "date": "2017-10-22T00:00:00",
          "user": "parente"
         },
         {
          "comments": 2.0,
          "date": "2018-02-04T00:00:00",
          "user": "parente"
         },
         {
          "comments": 1.5,
          "date": "2018-12-09T00:00:00",
          "user": "parente"
         },
         {
          "comments": 2.0,
          "date": "2018-12-23T00:00:00",
          "user": "parente"
         },
         {
          "comments": 2.0,
          "date": "2016-02-14T00:00:00",
          "user": "rgbkrk"
         },
         {
          "comments": 4.5,
          "date": "2016-02-21T00:00:00",
          "user": "rgbkrk"
         },
         {
          "comments": 6.5,
          "date": "2016-02-28T00:00:00",
          "user": "rgbkrk"
         },
         {
          "comments": 5.5,
          "date": "2016-03-06T00:00:00",
          "user": "rgbkrk"
         },
         {
          "comments": 3.0,
          "date": "2016-03-27T00:00:00",
          "user": "rgbkrk"
         },
         {
          "comments": 1.0,
          "date": "2016-04-03T00:00:00",
          "user": "rgbkrk"
         },
         {
          "comments": 5.0,
          "date": "2016-04-10T00:00:00",
          "user": "rgbkrk"
         },
         {
          "comments": 5.0,
          "date": "2016-04-17T00:00:00",
          "user": "rgbkrk"
         },
         {
          "comments": 1.5,
          "date": "2016-04-24T00:00:00",
          "user": "rgbkrk"
         },
         {
          "comments": 2.0,
          "date": "2016-05-08T00:00:00",
          "user": "rgbkrk"
         },
         {
          "comments": 1.5,
          "date": "2016-05-15T00:00:00",
          "user": "rgbkrk"
         },
         {
          "comments": 1.0,
          "date": "2016-06-26T00:00:00",
          "user": "rgbkrk"
         },
         {
          "comments": 4.0,
          "date": "2016-08-14T00:00:00",
          "user": "rgbkrk"
         },
         {
          "comments": 6.0,
          "date": "2016-08-21T00:00:00",
          "user": "rgbkrk"
         },
         {
          "comments": 3.5,
          "date": "2016-10-16T00:00:00",
          "user": "rgbkrk"
         },
         {
          "comments": 3.5,
          "date": "2016-10-23T00:00:00",
          "user": "rgbkrk"
         },
         {
          "comments": 8.5,
          "date": "2016-10-30T00:00:00",
          "user": "rgbkrk"
         },
         {
          "comments": 11.0,
          "date": "2016-11-06T00:00:00",
          "user": "rgbkrk"
         },
         {
          "comments": 6.5,
          "date": "2016-11-13T00:00:00",
          "user": "rgbkrk"
         },
         {
          "comments": 6.5,
          "date": "2016-11-20T00:00:00",
          "user": "rgbkrk"
         },
         {
          "comments": 6.0,
          "date": "2016-11-27T00:00:00",
          "user": "rgbkrk"
         },
         {
          "comments": 7.0,
          "date": "2016-12-04T00:00:00",
          "user": "rgbkrk"
         },
         {
          "comments": 8.0,
          "date": "2016-12-11T00:00:00",
          "user": "rgbkrk"
         },
         {
          "comments": 5.5,
          "date": "2016-12-18T00:00:00",
          "user": "rgbkrk"
         },
         {
          "comments": 6.0,
          "date": "2016-12-25T00:00:00",
          "user": "rgbkrk"
         },
         {
          "comments": 3.5,
          "date": "2017-01-01T00:00:00",
          "user": "rgbkrk"
         },
         {
          "comments": 1.5,
          "date": "2017-01-08T00:00:00",
          "user": "rgbkrk"
         },
         {
          "comments": 1.0,
          "date": "2017-01-15T00:00:00",
          "user": "rgbkrk"
         },
         {
          "comments": 1.0,
          "date": "2017-01-22T00:00:00",
          "user": "rgbkrk"
         },
         {
          "comments": 1.0,
          "date": "2017-01-29T00:00:00",
          "user": "rgbkrk"
         },
         {
          "comments": 1.5,
          "date": "2017-02-05T00:00:00",
          "user": "rgbkrk"
         },
         {
          "comments": 2.5,
          "date": "2017-02-19T00:00:00",
          "user": "rgbkrk"
         },
         {
          "comments": 4.5,
          "date": "2017-03-05T00:00:00",
          "user": "rgbkrk"
         },
         {
          "comments": 3.5,
          "date": "2017-03-12T00:00:00",
          "user": "rgbkrk"
         },
         {
          "comments": 2.0,
          "date": "2017-03-19T00:00:00",
          "user": "rgbkrk"
         },
         {
          "comments": 3.5,
          "date": "2017-03-26T00:00:00",
          "user": "rgbkrk"
         },
         {
          "comments": 2.5,
          "date": "2017-04-02T00:00:00",
          "user": "rgbkrk"
         },
         {
          "comments": 3.5,
          "date": "2017-04-09T00:00:00",
          "user": "rgbkrk"
         },
         {
          "comments": 4.5,
          "date": "2017-04-16T00:00:00",
          "user": "rgbkrk"
         },
         {
          "comments": 2.5,
          "date": "2017-04-23T00:00:00",
          "user": "rgbkrk"
         },
         {
          "comments": 6.0,
          "date": "2017-04-30T00:00:00",
          "user": "rgbkrk"
         },
         {
          "comments": 7.5,
          "date": "2017-05-21T00:00:00",
          "user": "rgbkrk"
         },
         {
          "comments": 4.0,
          "date": "2017-05-28T00:00:00",
          "user": "rgbkrk"
         },
         {
          "comments": 2.0,
          "date": "2017-06-04T00:00:00",
          "user": "rgbkrk"
         },
         {
          "comments": 2.0,
          "date": "2017-06-11T00:00:00",
          "user": "rgbkrk"
         },
         {
          "comments": 4.5,
          "date": "2017-06-25T00:00:00",
          "user": "rgbkrk"
         },
         {
          "comments": 3.5,
          "date": "2017-07-02T00:00:00",
          "user": "rgbkrk"
         },
         {
          "comments": 1.5,
          "date": "2017-07-09T00:00:00",
          "user": "rgbkrk"
         },
         {
          "comments": 2.0,
          "date": "2017-07-16T00:00:00",
          "user": "rgbkrk"
         },
         {
          "comments": 2.0,
          "date": "2017-07-23T00:00:00",
          "user": "rgbkrk"
         },
         {
          "comments": 4.0,
          "date": "2017-07-30T00:00:00",
          "user": "rgbkrk"
         },
         {
          "comments": 3.5,
          "date": "2017-08-20T00:00:00",
          "user": "rgbkrk"
         },
         {
          "comments": 2.5,
          "date": "2017-08-27T00:00:00",
          "user": "rgbkrk"
         },
         {
          "comments": 3.0,
          "date": "2017-09-03T00:00:00",
          "user": "rgbkrk"
         },
         {
          "comments": 2.5,
          "date": "2017-09-10T00:00:00",
          "user": "rgbkrk"
         },
         {
          "comments": 5.0,
          "date": "2017-09-17T00:00:00",
          "user": "rgbkrk"
         },
         {
          "comments": 5.5,
          "date": "2017-09-24T00:00:00",
          "user": "rgbkrk"
         },
         {
          "comments": 14.5,
          "date": "2017-10-01T00:00:00",
          "user": "rgbkrk"
         },
         {
          "comments": 19.0,
          "date": "2017-10-08T00:00:00",
          "user": "rgbkrk"
         },
         {
          "comments": 12.0,
          "date": "2017-10-15T00:00:00",
          "user": "rgbkrk"
         },
         {
          "comments": 7.0,
          "date": "2017-10-22T00:00:00",
          "user": "rgbkrk"
         },
         {
          "comments": 2.0,
          "date": "2017-10-29T00:00:00",
          "user": "rgbkrk"
         },
         {
          "comments": 4.0,
          "date": "2017-11-05T00:00:00",
          "user": "rgbkrk"
         },
         {
          "comments": 6.5,
          "date": "2017-11-12T00:00:00",
          "user": "rgbkrk"
         },
         {
          "comments": 3.5,
          "date": "2017-11-26T00:00:00",
          "user": "rgbkrk"
         },
         {
          "comments": 1.0,
          "date": "2017-12-03T00:00:00",
          "user": "rgbkrk"
         },
         {
          "comments": 1.0,
          "date": "2017-12-10T00:00:00",
          "user": "rgbkrk"
         },
         {
          "comments": 1.0,
          "date": "2017-12-17T00:00:00",
          "user": "rgbkrk"
         },
         {
          "comments": 1.0,
          "date": "2018-01-07T00:00:00",
          "user": "rgbkrk"
         },
         {
          "comments": 1.5,
          "date": "2018-02-11T00:00:00",
          "user": "rgbkrk"
         },
         {
          "comments": 2.0,
          "date": "2018-02-18T00:00:00",
          "user": "rgbkrk"
         },
         {
          "comments": 1.5,
          "date": "2018-03-11T00:00:00",
          "user": "rgbkrk"
         },
         {
          "comments": 1.5,
          "date": "2018-03-25T00:00:00",
          "user": "rgbkrk"
         },
         {
          "comments": 3.0,
          "date": "2018-04-01T00:00:00",
          "user": "rgbkrk"
         },
         {
          "comments": 2.5,
          "date": "2018-04-08T00:00:00",
          "user": "rgbkrk"
         },
         {
          "comments": 1.0,
          "date": "2018-04-29T00:00:00",
          "user": "rgbkrk"
         },
         {
          "comments": 1.5,
          "date": "2018-06-17T00:00:00",
          "user": "rgbkrk"
         },
         {
          "comments": 2.0,
          "date": "2018-06-24T00:00:00",
          "user": "rgbkrk"
         },
         {
          "comments": 1.5,
          "date": "2018-07-22T00:00:00",
          "user": "rgbkrk"
         },
         {
          "comments": 1.5,
          "date": "2018-09-09T00:00:00",
          "user": "rgbkrk"
         },
         {
          "comments": 2.0,
          "date": "2018-10-07T00:00:00",
          "user": "rgbkrk"
         },
         {
          "comments": 2.0,
          "date": "2018-10-14T00:00:00",
          "user": "rgbkrk"
         },
         {
          "comments": 1.5,
          "date": "2018-11-04T00:00:00",
          "user": "rgbkrk"
         },
         {
          "comments": 1.0,
          "date": "2018-11-11T00:00:00",
          "user": "rgbkrk"
         },
         {
          "comments": 7.5,
          "date": "2016-01-17T00:00:00",
          "user": "takluyver"
         },
         {
          "comments": 10.5,
          "date": "2016-01-24T00:00:00",
          "user": "takluyver"
         },
         {
          "comments": 16.0,
          "date": "2016-01-31T00:00:00",
          "user": "takluyver"
         },
         {
          "comments": 25.5,
          "date": "2016-02-07T00:00:00",
          "user": "takluyver"
         },
         {
          "comments": 33.5,
          "date": "2016-02-14T00:00:00",
          "user": "takluyver"
         },
         {
          "comments": 40.0,
          "date": "2016-02-21T00:00:00",
          "user": "takluyver"
         },
         {
          "comments": 41.0,
          "date": "2016-02-28T00:00:00",
          "user": "takluyver"
         },
         {
          "comments": 27.5,
          "date": "2016-03-06T00:00:00",
          "user": "takluyver"
         },
         {
          "comments": 15.0,
          "date": "2016-03-13T00:00:00",
          "user": "takluyver"
         },
         {
          "comments": 17.5,
          "date": "2016-03-20T00:00:00",
          "user": "takluyver"
         },
         {
          "comments": 18.0,
          "date": "2016-03-27T00:00:00",
          "user": "takluyver"
         },
         {
          "comments": 16.5,
          "date": "2016-04-03T00:00:00",
          "user": "takluyver"
         },
         {
          "comments": 22.5,
          "date": "2016-04-10T00:00:00",
          "user": "takluyver"
         },
         {
          "comments": 17.5,
          "date": "2016-04-17T00:00:00",
          "user": "takluyver"
         },
         {
          "comments": 19.5,
          "date": "2016-04-24T00:00:00",
          "user": "takluyver"
         },
         {
          "comments": 27.5,
          "date": "2016-05-01T00:00:00",
          "user": "takluyver"
         },
         {
          "comments": 26.0,
          "date": "2016-05-08T00:00:00",
          "user": "takluyver"
         },
         {
          "comments": 23.0,
          "date": "2016-05-15T00:00:00",
          "user": "takluyver"
         },
         {
          "comments": 17.5,
          "date": "2016-05-22T00:00:00",
          "user": "takluyver"
         },
         {
          "comments": 14.5,
          "date": "2016-05-29T00:00:00",
          "user": "takluyver"
         },
         {
          "comments": 10.0,
          "date": "2016-06-05T00:00:00",
          "user": "takluyver"
         },
         {
          "comments": 4.5,
          "date": "2016-06-12T00:00:00",
          "user": "takluyver"
         },
         {
          "comments": 9.5,
          "date": "2016-06-19T00:00:00",
          "user": "takluyver"
         },
         {
          "comments": 15.0,
          "date": "2016-06-26T00:00:00",
          "user": "takluyver"
         },
         {
          "comments": 14.5,
          "date": "2016-07-03T00:00:00",
          "user": "takluyver"
         },
         {
          "comments": 20.0,
          "date": "2016-07-10T00:00:00",
          "user": "takluyver"
         },
         {
          "comments": 16.0,
          "date": "2016-07-17T00:00:00",
          "user": "takluyver"
         },
         {
          "comments": 8.5,
          "date": "2016-07-24T00:00:00",
          "user": "takluyver"
         },
         {
          "comments": 10.0,
          "date": "2016-07-31T00:00:00",
          "user": "takluyver"
         },
         {
          "comments": 8.0,
          "date": "2016-08-07T00:00:00",
          "user": "takluyver"
         },
         {
          "comments": 13.5,
          "date": "2016-08-14T00:00:00",
          "user": "takluyver"
         },
         {
          "comments": 18.5,
          "date": "2016-08-21T00:00:00",
          "user": "takluyver"
         },
         {
          "comments": 13.5,
          "date": "2016-08-28T00:00:00",
          "user": "takluyver"
         },
         {
          "comments": 11.5,
          "date": "2016-09-04T00:00:00",
          "user": "takluyver"
         },
         {
          "comments": 12.0,
          "date": "2016-09-18T00:00:00",
          "user": "takluyver"
         },
         {
          "comments": 14.0,
          "date": "2016-09-25T00:00:00",
          "user": "takluyver"
         },
         {
          "comments": 12.5,
          "date": "2016-10-02T00:00:00",
          "user": "takluyver"
         },
         {
          "comments": 15.5,
          "date": "2016-10-09T00:00:00",
          "user": "takluyver"
         },
         {
          "comments": 13.0,
          "date": "2016-10-16T00:00:00",
          "user": "takluyver"
         },
         {
          "comments": 10.0,
          "date": "2016-10-23T00:00:00",
          "user": "takluyver"
         },
         {
          "comments": 11.5,
          "date": "2016-10-30T00:00:00",
          "user": "takluyver"
         },
         {
          "comments": 12.0,
          "date": "2016-11-06T00:00:00",
          "user": "takluyver"
         },
         {
          "comments": 29.5,
          "date": "2016-11-13T00:00:00",
          "user": "takluyver"
         },
         {
          "comments": 34.5,
          "date": "2016-11-20T00:00:00",
          "user": "takluyver"
         },
         {
          "comments": 16.5,
          "date": "2016-11-27T00:00:00",
          "user": "takluyver"
         },
         {
          "comments": 13.5,
          "date": "2016-12-04T00:00:00",
          "user": "takluyver"
         },
         {
          "comments": 18.5,
          "date": "2016-12-11T00:00:00",
          "user": "takluyver"
         },
         {
          "comments": 33.0,
          "date": "2016-12-18T00:00:00",
          "user": "takluyver"
         },
         {
          "comments": 34.0,
          "date": "2016-12-25T00:00:00",
          "user": "takluyver"
         },
         {
          "comments": 10.5,
          "date": "2017-01-01T00:00:00",
          "user": "takluyver"
         },
         {
          "comments": 4.0,
          "date": "2017-01-08T00:00:00",
          "user": "takluyver"
         },
         {
          "comments": 12.0,
          "date": "2017-01-15T00:00:00",
          "user": "takluyver"
         },
         {
          "comments": 21.5,
          "date": "2017-01-22T00:00:00",
          "user": "takluyver"
         },
         {
          "comments": 19.5,
          "date": "2017-01-29T00:00:00",
          "user": "takluyver"
         },
         {
          "comments": 66.5,
          "date": "2017-02-05T00:00:00",
          "user": "takluyver"
         },
         {
          "comments": 81.0,
          "date": "2017-02-12T00:00:00",
          "user": "takluyver"
         },
         {
          "comments": 41.0,
          "date": "2017-02-19T00:00:00",
          "user": "takluyver"
         },
         {
          "comments": 31.0,
          "date": "2017-02-26T00:00:00",
          "user": "takluyver"
         },
         {
          "comments": 40.0,
          "date": "2017-03-05T00:00:00",
          "user": "takluyver"
         },
         {
          "comments": 33.0,
          "date": "2017-03-12T00:00:00",
          "user": "takluyver"
         },
         {
          "comments": 15.5,
          "date": "2017-03-19T00:00:00",
          "user": "takluyver"
         },
         {
          "comments": 40.5,
          "date": "2017-03-26T00:00:00",
          "user": "takluyver"
         },
         {
          "comments": 34.0,
          "date": "2017-04-02T00:00:00",
          "user": "takluyver"
         },
         {
          "comments": 14.5,
          "date": "2017-04-09T00:00:00",
          "user": "takluyver"
         },
         {
          "comments": 22.0,
          "date": "2017-04-16T00:00:00",
          "user": "takluyver"
         },
         {
          "comments": 25.5,
          "date": "2017-04-23T00:00:00",
          "user": "takluyver"
         },
         {
          "comments": 37.0,
          "date": "2017-04-30T00:00:00",
          "user": "takluyver"
         },
         {
          "comments": 36.0,
          "date": "2017-05-07T00:00:00",
          "user": "takluyver"
         },
         {
          "comments": 22.5,
          "date": "2017-05-14T00:00:00",
          "user": "takluyver"
         },
         {
          "comments": 19.5,
          "date": "2017-05-21T00:00:00",
          "user": "takluyver"
         },
         {
          "comments": 23.5,
          "date": "2017-05-28T00:00:00",
          "user": "takluyver"
         },
         {
          "comments": 22.5,
          "date": "2017-06-04T00:00:00",
          "user": "takluyver"
         },
         {
          "comments": 17.0,
          "date": "2017-06-11T00:00:00",
          "user": "takluyver"
         },
         {
          "comments": 16.0,
          "date": "2017-06-18T00:00:00",
          "user": "takluyver"
         },
         {
          "comments": 29.5,
          "date": "2017-06-25T00:00:00",
          "user": "takluyver"
         },
         {
          "comments": 22.5,
          "date": "2017-07-02T00:00:00",
          "user": "takluyver"
         },
         {
          "comments": 27.0,
          "date": "2017-07-09T00:00:00",
          "user": "takluyver"
         },
         {
          "comments": 36.0,
          "date": "2017-07-16T00:00:00",
          "user": "takluyver"
         },
         {
          "comments": 21.0,
          "date": "2017-07-23T00:00:00",
          "user": "takluyver"
         },
         {
          "comments": 36.5,
          "date": "2017-07-30T00:00:00",
          "user": "takluyver"
         },
         {
          "comments": 43.0,
          "date": "2017-08-06T00:00:00",
          "user": "takluyver"
         },
         {
          "comments": 36.5,
          "date": "2017-08-13T00:00:00",
          "user": "takluyver"
         },
         {
          "comments": 45.0,
          "date": "2017-08-20T00:00:00",
          "user": "takluyver"
         },
         {
          "comments": 54.5,
          "date": "2017-08-27T00:00:00",
          "user": "takluyver"
         },
         {
          "comments": 35.5,
          "date": "2017-09-03T00:00:00",
          "user": "takluyver"
         },
         {
          "comments": 22.0,
          "date": "2017-09-17T00:00:00",
          "user": "takluyver"
         },
         {
          "comments": 23.5,
          "date": "2017-09-24T00:00:00",
          "user": "takluyver"
         },
         {
          "comments": 18.5,
          "date": "2017-10-01T00:00:00",
          "user": "takluyver"
         },
         {
          "comments": 24.0,
          "date": "2017-10-08T00:00:00",
          "user": "takluyver"
         },
         {
          "comments": 33.5,
          "date": "2017-10-15T00:00:00",
          "user": "takluyver"
         },
         {
          "comments": 30.5,
          "date": "2017-10-22T00:00:00",
          "user": "takluyver"
         },
         {
          "comments": 23.5,
          "date": "2017-10-29T00:00:00",
          "user": "takluyver"
         },
         {
          "comments": 25.5,
          "date": "2017-11-05T00:00:00",
          "user": "takluyver"
         },
         {
          "comments": 22.0,
          "date": "2017-11-12T00:00:00",
          "user": "takluyver"
         },
         {
          "comments": 32.5,
          "date": "2017-11-19T00:00:00",
          "user": "takluyver"
         },
         {
          "comments": 35.5,
          "date": "2017-11-26T00:00:00",
          "user": "takluyver"
         },
         {
          "comments": 26.0,
          "date": "2017-12-03T00:00:00",
          "user": "takluyver"
         },
         {
          "comments": 26.5,
          "date": "2017-12-10T00:00:00",
          "user": "takluyver"
         },
         {
          "comments": 38.5,
          "date": "2017-12-17T00:00:00",
          "user": "takluyver"
         },
         {
          "comments": 40.5,
          "date": "2017-12-24T00:00:00",
          "user": "takluyver"
         },
         {
          "comments": 27.5,
          "date": "2018-01-07T00:00:00",
          "user": "takluyver"
         },
         {
          "comments": 28.0,
          "date": "2018-01-14T00:00:00",
          "user": "takluyver"
         },
         {
          "comments": 50.5,
          "date": "2018-01-21T00:00:00",
          "user": "takluyver"
         },
         {
          "comments": 54.0,
          "date": "2018-01-28T00:00:00",
          "user": "takluyver"
         },
         {
          "comments": 35.0,
          "date": "2018-02-04T00:00:00",
          "user": "takluyver"
         },
         {
          "comments": 35.5,
          "date": "2018-02-11T00:00:00",
          "user": "takluyver"
         },
         {
          "comments": 33.0,
          "date": "2018-02-18T00:00:00",
          "user": "takluyver"
         },
         {
          "comments": 38.0,
          "date": "2018-03-04T00:00:00",
          "user": "takluyver"
         },
         {
          "comments": 35.5,
          "date": "2018-03-11T00:00:00",
          "user": "takluyver"
         },
         {
          "comments": 27.5,
          "date": "2018-03-18T00:00:00",
          "user": "takluyver"
         },
         {
          "comments": 40.0,
          "date": "2018-03-25T00:00:00",
          "user": "takluyver"
         },
         {
          "comments": 55.0,
          "date": "2018-04-01T00:00:00",
          "user": "takluyver"
         },
         {
          "comments": 67.5,
          "date": "2018-04-08T00:00:00",
          "user": "takluyver"
         },
         {
          "comments": 56.5,
          "date": "2018-04-15T00:00:00",
          "user": "takluyver"
         },
         {
          "comments": 35.5,
          "date": "2018-04-22T00:00:00",
          "user": "takluyver"
         },
         {
          "comments": 50.0,
          "date": "2018-04-29T00:00:00",
          "user": "takluyver"
         },
         {
          "comments": 52.0,
          "date": "2018-05-06T00:00:00",
          "user": "takluyver"
         },
         {
          "comments": 22.5,
          "date": "2018-05-13T00:00:00",
          "user": "takluyver"
         },
         {
          "comments": 10.5,
          "date": "2018-05-20T00:00:00",
          "user": "takluyver"
         },
         {
          "comments": 17.0,
          "date": "2018-05-27T00:00:00",
          "user": "takluyver"
         },
         {
          "comments": 20.0,
          "date": "2018-06-03T00:00:00",
          "user": "takluyver"
         },
         {
          "comments": 15.5,
          "date": "2018-06-10T00:00:00",
          "user": "takluyver"
         },
         {
          "comments": 20.0,
          "date": "2018-06-17T00:00:00",
          "user": "takluyver"
         },
         {
          "comments": 21.0,
          "date": "2018-06-24T00:00:00",
          "user": "takluyver"
         },
         {
          "comments": 16.5,
          "date": "2018-07-01T00:00:00",
          "user": "takluyver"
         },
         {
          "comments": 11.5,
          "date": "2018-07-08T00:00:00",
          "user": "takluyver"
         },
         {
          "comments": 13.0,
          "date": "2018-07-15T00:00:00",
          "user": "takluyver"
         },
         {
          "comments": 16.0,
          "date": "2018-07-22T00:00:00",
          "user": "takluyver"
         },
         {
          "comments": 7.0,
          "date": "2018-07-29T00:00:00",
          "user": "takluyver"
         },
         {
          "comments": 4.0,
          "date": "2018-08-12T00:00:00",
          "user": "takluyver"
         },
         {
          "comments": 4.0,
          "date": "2018-09-02T00:00:00",
          "user": "takluyver"
         },
         {
          "comments": 5.0,
          "date": "2018-10-28T00:00:00",
          "user": "takluyver"
         },
         {
          "comments": 32.5,
          "date": "2018-11-11T00:00:00",
          "user": "takluyver"
         },
         {
          "comments": 37.0,
          "date": "2018-11-18T00:00:00",
          "user": "takluyver"
         },
         {
          "comments": 10.5,
          "date": "2018-12-02T00:00:00",
          "user": "takluyver"
         },
         {
          "comments": 10.0,
          "date": "2018-12-16T00:00:00",
          "user": "takluyver"
         },
         {
          "comments": 9.0,
          "date": "2018-12-23T00:00:00",
          "user": "takluyver"
         },
         {
          "comments": 3.5,
          "date": "2019-01-06T00:00:00",
          "user": "takluyver"
         },
         {
          "comments": 4.0,
          "date": "2019-01-13T00:00:00",
          "user": "takluyver"
         },
         {
          "comments": 24.0,
          "date": "2019-01-20T00:00:00",
          "user": "takluyver"
         },
         {
          "comments": 28.0,
          "date": "2019-02-03T00:00:00",
          "user": "takluyver"
         },
         {
          "comments": 6.5,
          "date": "2019-02-10T00:00:00",
          "user": "takluyver"
         },
         {
          "comments": 2.0,
          "date": "2019-02-17T00:00:00",
          "user": "takluyver"
         },
         {
          "comments": 6.5,
          "date": "2016-01-10T00:00:00",
          "user": "willingc"
         },
         {
          "comments": 9.0,
          "date": "2016-01-17T00:00:00",
          "user": "willingc"
         },
         {
          "comments": 7.0,
          "date": "2016-01-24T00:00:00",
          "user": "willingc"
         },
         {
          "comments": 10.5,
          "date": "2016-01-31T00:00:00",
          "user": "willingc"
         },
         {
          "comments": 13.5,
          "date": "2016-02-07T00:00:00",
          "user": "willingc"
         },
         {
          "comments": 16.0,
          "date": "2016-02-14T00:00:00",
          "user": "willingc"
         },
         {
          "comments": 20.5,
          "date": "2016-02-21T00:00:00",
          "user": "willingc"
         },
         {
          "comments": 17.0,
          "date": "2016-02-28T00:00:00",
          "user": "willingc"
         },
         {
          "comments": 6.5,
          "date": "2016-03-06T00:00:00",
          "user": "willingc"
         },
         {
          "comments": 4.5,
          "date": "2016-03-13T00:00:00",
          "user": "willingc"
         },
         {
          "comments": 12.0,
          "date": "2016-03-20T00:00:00",
          "user": "willingc"
         },
         {
          "comments": 20.0,
          "date": "2016-03-27T00:00:00",
          "user": "willingc"
         },
         {
          "comments": 14.0,
          "date": "2016-04-03T00:00:00",
          "user": "willingc"
         },
         {
          "comments": 12.5,
          "date": "2016-04-10T00:00:00",
          "user": "willingc"
         },
         {
          "comments": 15.0,
          "date": "2016-04-17T00:00:00",
          "user": "willingc"
         },
         {
          "comments": 10.0,
          "date": "2016-04-24T00:00:00",
          "user": "willingc"
         },
         {
          "comments": 6.5,
          "date": "2016-05-01T00:00:00",
          "user": "willingc"
         },
         {
          "comments": 8.0,
          "date": "2016-05-08T00:00:00",
          "user": "willingc"
         },
         {
          "comments": 10.0,
          "date": "2016-05-15T00:00:00",
          "user": "willingc"
         },
         {
          "comments": 5.5,
          "date": "2016-05-22T00:00:00",
          "user": "willingc"
         },
         {
          "comments": 2.5,
          "date": "2016-05-29T00:00:00",
          "user": "willingc"
         },
         {
          "comments": 2.0,
          "date": "2016-06-05T00:00:00",
          "user": "willingc"
         },
         {
          "comments": 3.5,
          "date": "2016-06-12T00:00:00",
          "user": "willingc"
         },
         {
          "comments": 2.5,
          "date": "2016-07-03T00:00:00",
          "user": "willingc"
         },
         {
          "comments": 2.0,
          "date": "2016-07-10T00:00:00",
          "user": "willingc"
         },
         {
          "comments": 3.0,
          "date": "2016-07-31T00:00:00",
          "user": "willingc"
         },
         {
          "comments": 2.0,
          "date": "2016-08-14T00:00:00",
          "user": "willingc"
         },
         {
          "comments": 1.0,
          "date": "2016-08-28T00:00:00",
          "user": "willingc"
         },
         {
          "comments": 3.5,
          "date": "2016-09-11T00:00:00",
          "user": "willingc"
         },
         {
          "comments": 4.5,
          "date": "2016-09-18T00:00:00",
          "user": "willingc"
         },
         {
          "comments": 2.0,
          "date": "2016-10-02T00:00:00",
          "user": "willingc"
         },
         {
          "comments": 1.5,
          "date": "2016-10-30T00:00:00",
          "user": "willingc"
         },
         {
          "comments": 3.5,
          "date": "2016-11-06T00:00:00",
          "user": "willingc"
         },
         {
          "comments": 3.5,
          "date": "2016-12-18T00:00:00",
          "user": "willingc"
         },
         {
          "comments": 2.0,
          "date": "2017-01-29T00:00:00",
          "user": "willingc"
         },
         {
          "comments": 3.0,
          "date": "2017-02-05T00:00:00",
          "user": "willingc"
         },
         {
          "comments": 2.5,
          "date": "2017-02-19T00:00:00",
          "user": "willingc"
         },
         {
          "comments": 1.0,
          "date": "2017-02-26T00:00:00",
          "user": "willingc"
         },
         {
          "comments": 1.0,
          "date": "2017-03-05T00:00:00",
          "user": "willingc"
         },
         {
          "comments": 2.0,
          "date": "2017-04-09T00:00:00",
          "user": "willingc"
         },
         {
          "comments": 3.5,
          "date": "2017-04-30T00:00:00",
          "user": "willingc"
         },
         {
          "comments": 2.5,
          "date": "2017-05-14T00:00:00",
          "user": "willingc"
         },
         {
          "comments": 1.5,
          "date": "2017-07-09T00:00:00",
          "user": "willingc"
         },
         {
          "comments": 3.5,
          "date": "2017-08-13T00:00:00",
          "user": "willingc"
         },
         {
          "comments": 4.0,
          "date": "2017-08-20T00:00:00",
          "user": "willingc"
         },
         {
          "comments": 2.5,
          "date": "2017-08-27T00:00:00",
          "user": "willingc"
         },
         {
          "comments": 1.5,
          "date": "2017-09-17T00:00:00",
          "user": "willingc"
         },
         {
          "comments": 1.0,
          "date": "2017-10-01T00:00:00",
          "user": "willingc"
         },
         {
          "comments": 1.0,
          "date": "2017-10-22T00:00:00",
          "user": "willingc"
         },
         {
          "comments": 1.0,
          "date": "2017-10-29T00:00:00",
          "user": "willingc"
         },
         {
          "comments": 1.5,
          "date": "2017-11-12T00:00:00",
          "user": "willingc"
         },
         {
          "comments": 1.5,
          "date": "2018-01-07T00:00:00",
          "user": "willingc"
         },
         {
          "comments": 1.5,
          "date": "2018-03-11T00:00:00",
          "user": "willingc"
         },
         {
          "comments": 1.5,
          "date": "2018-04-01T00:00:00",
          "user": "willingc"
         },
         {
          "comments": 1.0,
          "date": "2018-06-17T00:00:00",
          "user": "willingc"
         },
         {
          "comments": 1.5,
          "date": "2018-06-24T00:00:00",
          "user": "willingc"
         },
         {
          "comments": 1.5,
          "date": "2018-07-15T00:00:00",
          "user": "willingc"
         },
         {
          "comments": 1.0,
          "date": "2018-08-12T00:00:00",
          "user": "willingc"
         },
         {
          "comments": 1.0,
          "date": "2018-08-19T00:00:00",
          "user": "willingc"
         },
         {
          "comments": 1.0,
          "date": "2018-09-30T00:00:00",
          "user": "willingc"
         },
         {
          "comments": 1.0,
          "date": "2016-02-07T00:00:00",
          "user": "yuvipanda"
         },
         {
          "comments": 1.0,
          "date": "2016-02-28T00:00:00",
          "user": "yuvipanda"
         },
         {
          "comments": 1.5,
          "date": "2016-03-13T00:00:00",
          "user": "yuvipanda"
         },
         {
          "comments": 4.5,
          "date": "2016-05-29T00:00:00",
          "user": "yuvipanda"
         },
         {
          "comments": 4.0,
          "date": "2016-06-05T00:00:00",
          "user": "yuvipanda"
         },
         {
          "comments": 1.0,
          "date": "2016-07-10T00:00:00",
          "user": "yuvipanda"
         },
         {
          "comments": 2.0,
          "date": "2016-07-17T00:00:00",
          "user": "yuvipanda"
         },
         {
          "comments": 2.5,
          "date": "2016-07-31T00:00:00",
          "user": "yuvipanda"
         },
         {
          "comments": 2.5,
          "date": "2016-08-28T00:00:00",
          "user": "yuvipanda"
         },
         {
          "comments": 3.0,
          "date": "2016-09-04T00:00:00",
          "user": "yuvipanda"
         },
         {
          "comments": 4.5,
          "date": "2016-09-18T00:00:00",
          "user": "yuvipanda"
         },
         {
          "comments": 3.5,
          "date": "2016-10-23T00:00:00",
          "user": "yuvipanda"
         },
         {
          "comments": 1.5,
          "date": "2016-10-30T00:00:00",
          "user": "yuvipanda"
         },
         {
          "comments": 3.5,
          "date": "2016-11-13T00:00:00",
          "user": "yuvipanda"
         },
         {
          "comments": 3.0,
          "date": "2017-01-15T00:00:00",
          "user": "yuvipanda"
         },
         {
          "comments": 1.0,
          "date": "2017-03-05T00:00:00",
          "user": "yuvipanda"
         },
         {
          "comments": 1.0,
          "date": "2017-03-12T00:00:00",
          "user": "yuvipanda"
         },
         {
          "comments": 1.0,
          "date": "2017-10-08T00:00:00",
          "user": "yuvipanda"
         },
         {
          "comments": 1.0,
          "date": "2017-10-15T00:00:00",
          "user": "yuvipanda"
         },
         {
          "comments": 1.5,
          "date": "2017-11-19T00:00:00",
          "user": "yuvipanda"
         },
         {
          "comments": 1.5,
          "date": "2017-12-03T00:00:00",
          "user": "yuvipanda"
         },
         {
          "comments": 1.5,
          "date": "2018-02-04T00:00:00",
          "user": "yuvipanda"
         },
         {
          "comments": 3.0,
          "date": "2018-04-08T00:00:00",
          "user": "yuvipanda"
         },
         {
          "comments": 2.5,
          "date": "2018-04-22T00:00:00",
          "user": "yuvipanda"
         },
         {
          "comments": 1.5,
          "date": "2018-06-17T00:00:00",
          "user": "yuvipanda"
         },
         {
          "comments": 1.5,
          "date": "2018-06-24T00:00:00",
          "user": "yuvipanda"
         },
         {
          "comments": 1.5,
          "date": "2018-08-05T00:00:00",
          "user": "yuvipanda"
         },
         {
          "comments": 1.5,
          "date": "2018-10-28T00:00:00",
          "user": "yuvipanda"
         },
         {
          "comments": 5.0,
          "date": "2018-12-30T00:00:00",
          "user": "yuvipanda"
         },
         {
          "comments": 5.0,
          "date": "2019-01-06T00:00:00",
          "user": "yuvipanda"
         },
         {
          "comments": 1.0,
          "date": "2019-01-13T00:00:00",
          "user": "yuvipanda"
         },
         {
          "comments": 1.5,
          "date": "2019-01-20T00:00:00",
          "user": "yuvipanda"
         }
        ]
       },
       "layer": [
        {
         "data": {
          "name": "data-b30e03a10f630bfa65b17140009a6359"
         },
         "encoding": {
          "color": {
           "field": "user",
           "type": "nominal"
          },
          "opacity": {
           "value": 0
          },
          "tooltip": {
           "field": "user",
           "type": "nominal"
          },
          "x": {
           "field": "date",
           "scale": {
            "domain": [
             "2016-01-01",
             "2019-02-01"
            ]
           },
           "type": "temporal"
          },
          "y": {
           "field": "comments",
           "type": "quantitative"
          }
         },
         "mark": {
          "clip": true,
          "type": "circle"
         },
         "selection": {
          "selector001": {
           "fields": [
            "user"
           ],
           "nearest": true,
           "on": "mouseover",
           "type": "single"
          }
         },
         "width": 1000
        },
        {
         "data": {
          "name": "data-b30e03a10f630bfa65b17140009a6359"
         },
         "encoding": {
          "color": {
           "condition": {
            "field": "user",
            "selection": "selector001",
            "type": "nominal"
           },
           "value": "lightgray"
          },
          "size": {
           "condition": {
            "selection": {
             "not": "selector001"
            },
            "value": 1
           },
           "value": 4
          },
          "tooltip": {
           "field": "user",
           "type": "nominal"
          },
          "x": {
           "field": "date",
           "scale": {
            "domain": [
             "2016-01-01",
             "2019-02-01"
            ]
           },
           "type": "temporal"
          },
          "y": {
           "field": "comments",
           "type": "quantitative"
          }
         },
         "mark": {
          "clip": true,
          "type": "line"
         },
         "width": 1000
        }
       ]
      },
      "text/plain": [
       "<VegaLite 2 object>\n",
       "\n",
       "If you see this message, it means the renderer has not been properly enabled\n",
       "for the frontend that you are using. For more information, see\n",
       "https://altair-viz.github.io/user_guide/troubleshooting.html\n"
      ]
     },
     "execution_count": 14,
     "metadata": {},
     "output_type": "execute_result"
    }
   ],
   "source": [
    "selectable_line_plot(user_data.reset_index(), 'date', 'comments', 'user')"
   ]
  },
  {
   "cell_type": "code",
   "execution_count": 15,
   "metadata": {
    "papermill": {
     "duration": 0.175758,
     "end_time": "2019-02-14T22:39:52.959514",
     "exception": false,
     "start_time": "2019-02-14T22:39:52.783756",
     "status": "completed"
    },
    "tags": []
   },
   "outputs": [
    {
     "data": {
      "application/vnd.vegalite.v2+json": {
       "$schema": "https://vega.github.io/schema/vega-lite/v2.6.0.json",
       "config": {
        "view": {
         "height": 300,
         "width": 400
        }
       },
       "data": {
        "name": "data-4fcd2e4869855b508cec59fe54d02735"
       },
       "datasets": {
        "data-4fcd2e4869855b508cec59fe54d02735": [
         {
          "comments": 21.0,
          "date": "2016-01-10T00:00:00"
         },
         {
          "comments": 61.0,
          "date": "2016-01-17T00:00:00"
         },
         {
          "comments": 72.5,
          "date": "2016-01-24T00:00:00"
         },
         {
          "comments": 85.0,
          "date": "2016-01-31T00:00:00"
         },
         {
          "comments": 115.5,
          "date": "2016-02-07T00:00:00"
         },
         {
          "comments": 125.5,
          "date": "2016-02-14T00:00:00"
         },
         {
          "comments": 126.5,
          "date": "2016-02-21T00:00:00"
         },
         {
          "comments": 153.0,
          "date": "2016-02-28T00:00:00"
         },
         {
          "comments": 125.0,
          "date": "2016-03-06T00:00:00"
         },
         {
          "comments": 89.5,
          "date": "2016-03-13T00:00:00"
         },
         {
          "comments": 121.5,
          "date": "2016-03-20T00:00:00"
         },
         {
          "comments": 129.0,
          "date": "2016-03-27T00:00:00"
         },
         {
          "comments": 60.0,
          "date": "2016-04-03T00:00:00"
         },
         {
          "comments": 110.5,
          "date": "2016-04-10T00:00:00"
         },
         {
          "comments": 127.5,
          "date": "2016-04-17T00:00:00"
         },
         {
          "comments": 93.0,
          "date": "2016-04-24T00:00:00"
         },
         {
          "comments": 64.5,
          "date": "2016-05-01T00:00:00"
         },
         {
          "comments": 64.0,
          "date": "2016-05-08T00:00:00"
         },
         {
          "comments": 71.0,
          "date": "2016-05-15T00:00:00"
         },
         {
          "comments": 42.0,
          "date": "2016-05-22T00:00:00"
         },
         {
          "comments": 41.5,
          "date": "2016-05-29T00:00:00"
         },
         {
          "comments": 42.0,
          "date": "2016-06-05T00:00:00"
         },
         {
          "comments": 48.0,
          "date": "2016-06-12T00:00:00"
         },
         {
          "comments": 73.0,
          "date": "2016-06-19T00:00:00"
         },
         {
          "comments": 61.0,
          "date": "2016-06-26T00:00:00"
         },
         {
          "comments": 40.5,
          "date": "2016-07-03T00:00:00"
         },
         {
          "comments": 63.5,
          "date": "2016-07-10T00:00:00"
         },
         {
          "comments": 43.0,
          "date": "2016-07-17T00:00:00"
         },
         {
          "comments": 17.0,
          "date": "2016-07-24T00:00:00"
         },
         {
          "comments": 50.0,
          "date": "2016-07-31T00:00:00"
         },
         {
          "comments": 56.0,
          "date": "2016-08-07T00:00:00"
         },
         {
          "comments": 83.0,
          "date": "2016-08-14T00:00:00"
         },
         {
          "comments": 70.5,
          "date": "2016-08-21T00:00:00"
         },
         {
          "comments": 44.0,
          "date": "2016-08-28T00:00:00"
         },
         {
          "comments": 36.0,
          "date": "2016-09-04T00:00:00"
         },
         {
          "comments": 21.5,
          "date": "2016-09-11T00:00:00"
         },
         {
          "comments": 94.5,
          "date": "2016-09-18T00:00:00"
         },
         {
          "comments": 91.5,
          "date": "2016-09-25T00:00:00"
         },
         {
          "comments": 56.5,
          "date": "2016-10-02T00:00:00"
         },
         {
          "comments": 48.5,
          "date": "2016-10-09T00:00:00"
         },
         {
          "comments": 54.5,
          "date": "2016-10-16T00:00:00"
         },
         {
          "comments": 45.0,
          "date": "2016-10-23T00:00:00"
         },
         {
          "comments": 47.5,
          "date": "2016-10-30T00:00:00"
         },
         {
          "comments": 41.5,
          "date": "2016-11-06T00:00:00"
         },
         {
          "comments": 68.5,
          "date": "2016-11-13T00:00:00"
         },
         {
          "comments": 73.5,
          "date": "2016-11-20T00:00:00"
         },
         {
          "comments": 46.0,
          "date": "2016-11-27T00:00:00"
         },
         {
          "comments": 44.5,
          "date": "2016-12-04T00:00:00"
         },
         {
          "comments": 58.0,
          "date": "2016-12-11T00:00:00"
         },
         {
          "comments": 98.0,
          "date": "2016-12-18T00:00:00"
         },
         {
          "comments": 90.5,
          "date": "2016-12-25T00:00:00"
         },
         {
          "comments": 16.5,
          "date": "2017-01-01T00:00:00"
         },
         {
          "comments": 38.0,
          "date": "2017-01-08T00:00:00"
         },
         {
          "comments": 41.5,
          "date": "2017-01-15T00:00:00"
         },
         {
          "comments": 57.0,
          "date": "2017-01-22T00:00:00"
         },
         {
          "comments": 62.5,
          "date": "2017-01-29T00:00:00"
         },
         {
          "comments": 187.5,
          "date": "2017-02-05T00:00:00"
         },
         {
          "comments": 229.0,
          "date": "2017-02-12T00:00:00"
         },
         {
          "comments": 148.0,
          "date": "2017-02-19T00:00:00"
         },
         {
          "comments": 84.0,
          "date": "2017-02-26T00:00:00"
         },
         {
          "comments": 102.0,
          "date": "2017-03-05T00:00:00"
         },
         {
          "comments": 65.5,
          "date": "2017-03-12T00:00:00"
         },
         {
          "comments": 66.5,
          "date": "2017-03-19T00:00:00"
         },
         {
          "comments": 84.5,
          "date": "2017-03-26T00:00:00"
         },
         {
          "comments": 73.5,
          "date": "2017-04-02T00:00:00"
         },
         {
          "comments": 73.0,
          "date": "2017-04-09T00:00:00"
         },
         {
          "comments": 73.5,
          "date": "2017-04-16T00:00:00"
         },
         {
          "comments": 52.0,
          "date": "2017-04-23T00:00:00"
         },
         {
          "comments": 160.0,
          "date": "2017-04-30T00:00:00"
         },
         {
          "comments": 135.5,
          "date": "2017-05-07T00:00:00"
         },
         {
          "comments": 38.5,
          "date": "2017-05-14T00:00:00"
         },
         {
          "comments": 45.0,
          "date": "2017-05-21T00:00:00"
         },
         {
          "comments": 45.0,
          "date": "2017-05-28T00:00:00"
         },
         {
          "comments": 44.0,
          "date": "2017-06-04T00:00:00"
         },
         {
          "comments": 36.0,
          "date": "2017-06-11T00:00:00"
         },
         {
          "comments": 29.5,
          "date": "2017-06-18T00:00:00"
         },
         {
          "comments": 52.0,
          "date": "2017-06-25T00:00:00"
         },
         {
          "comments": 36.5,
          "date": "2017-07-02T00:00:00"
         },
         {
          "comments": 38.0,
          "date": "2017-07-09T00:00:00"
         },
         {
          "comments": 42.0,
          "date": "2017-07-16T00:00:00"
         },
         {
          "comments": 45.0,
          "date": "2017-07-23T00:00:00"
         },
         {
          "comments": 80.5,
          "date": "2017-07-30T00:00:00"
         },
         {
          "comments": 96.5,
          "date": "2017-08-06T00:00:00"
         },
         {
          "comments": 80.0,
          "date": "2017-08-13T00:00:00"
         },
         {
          "comments": 95.0,
          "date": "2017-08-20T00:00:00"
         },
         {
          "comments": 79.0,
          "date": "2017-08-27T00:00:00"
         },
         {
          "comments": 47.0,
          "date": "2017-09-03T00:00:00"
         },
         {
          "comments": 15.5,
          "date": "2017-09-10T00:00:00"
         },
         {
          "comments": 60.0,
          "date": "2017-09-17T00:00:00"
         },
         {
          "comments": 38.5,
          "date": "2017-09-24T00:00:00"
         },
         {
          "comments": 64.0,
          "date": "2017-10-01T00:00:00"
         },
         {
          "comments": 87.5,
          "date": "2017-10-08T00:00:00"
         },
         {
          "comments": 101.0,
          "date": "2017-10-15T00:00:00"
         },
         {
          "comments": 86.0,
          "date": "2017-10-22T00:00:00"
         },
         {
          "comments": 77.5,
          "date": "2017-10-29T00:00:00"
         },
         {
          "comments": 98.5,
          "date": "2017-11-05T00:00:00"
         },
         {
          "comments": 60.5,
          "date": "2017-11-12T00:00:00"
         },
         {
          "comments": 58.0,
          "date": "2017-11-19T00:00:00"
         },
         {
          "comments": 52.5,
          "date": "2017-11-26T00:00:00"
         },
         {
          "comments": 56.0,
          "date": "2017-12-03T00:00:00"
         },
         {
          "comments": 63.0,
          "date": "2017-12-10T00:00:00"
         },
         {
          "comments": 73.0,
          "date": "2017-12-17T00:00:00"
         },
         {
          "comments": 57.5,
          "date": "2017-12-24T00:00:00"
         },
         {
          "comments": 4.0,
          "date": "2017-12-31T00:00:00"
         },
         {
          "comments": 60.0,
          "date": "2018-01-07T00:00:00"
         },
         {
          "comments": 63.5,
          "date": "2018-01-14T00:00:00"
         },
         {
          "comments": 68.0,
          "date": "2018-01-21T00:00:00"
         },
         {
          "comments": 72.0,
          "date": "2018-01-28T00:00:00"
         },
         {
          "comments": 44.5,
          "date": "2018-02-04T00:00:00"
         },
         {
          "comments": 52.0,
          "date": "2018-02-11T00:00:00"
         },
         {
          "comments": 45.0,
          "date": "2018-02-18T00:00:00"
         },
         {
          "comments": 8.5,
          "date": "2018-02-25T00:00:00"
         },
         {
          "comments": 47.5,
          "date": "2018-03-04T00:00:00"
         },
         {
          "comments": 49.0,
          "date": "2018-03-11T00:00:00"
         },
         {
          "comments": 31.5,
          "date": "2018-03-18T00:00:00"
         },
         {
          "comments": 50.0,
          "date": "2018-03-25T00:00:00"
         },
         {
          "comments": 60.5,
          "date": "2018-04-01T00:00:00"
         },
         {
          "comments": 75.5,
          "date": "2018-04-08T00:00:00"
         },
         {
          "comments": 61.5,
          "date": "2018-04-15T00:00:00"
         },
         {
          "comments": 47.5,
          "date": "2018-04-22T00:00:00"
         },
         {
          "comments": 56.0,
          "date": "2018-04-29T00:00:00"
         },
         {
          "comments": 61.0,
          "date": "2018-05-06T00:00:00"
         },
         {
          "comments": 27.5,
          "date": "2018-05-13T00:00:00"
         },
         {
          "comments": 18.0,
          "date": "2018-05-20T00:00:00"
         },
         {
          "comments": 27.5,
          "date": "2018-05-27T00:00:00"
         },
         {
          "comments": 22.0,
          "date": "2018-06-03T00:00:00"
         },
         {
          "comments": 22.5,
          "date": "2018-06-10T00:00:00"
         },
         {
          "comments": 37.5,
          "date": "2018-06-17T00:00:00"
         },
         {
          "comments": 40.0,
          "date": "2018-06-24T00:00:00"
         },
         {
          "comments": 21.0,
          "date": "2018-07-01T00:00:00"
         },
         {
          "comments": 16.5,
          "date": "2018-07-08T00:00:00"
         },
         {
          "comments": 23.5,
          "date": "2018-07-15T00:00:00"
         },
         {
          "comments": 30.5,
          "date": "2018-07-22T00:00:00"
         },
         {
          "comments": 11.0,
          "date": "2018-07-29T00:00:00"
         },
         {
          "comments": 9.5,
          "date": "2018-08-05T00:00:00"
         },
         {
          "comments": 5.0,
          "date": "2018-08-12T00:00:00"
         },
         {
          "comments": 7.0,
          "date": "2018-08-19T00:00:00"
         },
         {
          "comments": 10.5,
          "date": "2018-08-26T00:00:00"
         },
         {
          "comments": 6.0,
          "date": "2018-09-02T00:00:00"
         },
         {
          "comments": 9.5,
          "date": "2018-09-09T00:00:00"
         },
         {
          "comments": 16.0,
          "date": "2018-09-16T00:00:00"
         },
         {
          "comments": 17.0,
          "date": "2018-09-23T00:00:00"
         },
         {
          "comments": 37.5,
          "date": "2018-09-30T00:00:00"
         },
         {
          "comments": 18.0,
          "date": "2018-10-07T00:00:00"
         },
         {
          "comments": 12.5,
          "date": "2018-10-14T00:00:00"
         },
         {
          "comments": 11.5,
          "date": "2018-10-21T00:00:00"
         },
         {
          "comments": 9.5,
          "date": "2018-10-28T00:00:00"
         },
         {
          "comments": 25.0,
          "date": "2018-11-04T00:00:00"
         },
         {
          "comments": 38.5,
          "date": "2018-11-11T00:00:00"
         },
         {
          "comments": 48.5,
          "date": "2018-11-18T00:00:00"
         },
         {
          "comments": 6.0,
          "date": "2018-11-25T00:00:00"
         },
         {
          "comments": 17.0,
          "date": "2018-12-02T00:00:00"
         },
         {
          "comments": 6.5,
          "date": "2018-12-09T00:00:00"
         },
         {
          "comments": 15.5,
          "date": "2018-12-16T00:00:00"
         },
         {
          "comments": 17.0,
          "date": "2018-12-23T00:00:00"
         },
         {
          "comments": 5.0,
          "date": "2018-12-30T00:00:00"
         },
         {
          "comments": 8.5,
          "date": "2019-01-06T00:00:00"
         },
         {
          "comments": 9.5,
          "date": "2019-01-13T00:00:00"
         },
         {
          "comments": 33.5,
          "date": "2019-01-20T00:00:00"
         },
         {
          "comments": 1.0,
          "date": "2019-01-27T00:00:00"
         },
         {
          "comments": 36.0,
          "date": "2019-02-03T00:00:00"
         },
         {
          "comments": 9.5,
          "date": "2019-02-10T00:00:00"
         },
         {
          "comments": 3.0,
          "date": "2019-02-17T00:00:00"
         }
        ]
       },
       "encoding": {
        "x": {
         "field": "date",
         "scale": {
          "domain": [
           "2016-01-01",
           "2019-02-01"
          ]
         },
         "type": "temporal"
        },
        "y": {
         "field": "comments",
         "type": "quantitative"
        }
       },
       "mark": {
        "clip": true,
        "type": "line"
       },
       "width": 1000
      },
      "text/plain": [
       "<VegaLite 2 object>\n",
       "\n",
       "If you see this message, it means the renderer has not been properly enabled\n",
       "for the frontend that you are using. For more information, see\n",
       "https://altair-viz.github.io/user_guide/troubleshooting.html\n"
      ]
     },
     "execution_count": 15,
     "metadata": {},
     "output_type": "execute_result"
    }
   ],
   "source": [
    "# Comment totals over time\n",
    "all_user_data = user_data.reset_index().groupby('date').sum()['comments'].reset_index()\n",
    "alt.Chart(data=all_user_data, width=1000).mark_line(clip=True).encode(\n",
    "    x=alt.X('date', scale=alt.Scale(domain=[\"2016-01-01\", \"2019-02-01\"])),\n",
    "    y='comments',\n",
    ")"
   ]
  },
  {
   "cell_type": "markdown",
   "metadata": {
    "papermill": {
     "duration": 0.139213,
     "end_time": "2019-02-14T22:39:53.240525",
     "exception": false,
     "start_time": "2019-02-14T22:39:53.101312",
     "status": "completed"
    },
    "tags": []
   },
   "source": [
    "## Distribution of comments over top N contributors"
   ]
  },
  {
   "cell_type": "code",
   "execution_count": 16,
   "metadata": {
    "papermill": {
     "duration": 0.117471,
     "end_time": "2019-02-14T22:39:53.486801",
     "exception": false,
     "start_time": "2019-02-14T22:39:53.369330",
     "status": "completed"
    },
    "tags": []
   },
   "outputs": [],
   "source": [
    "# For each week, calculate the top 20 contributions, turn them into percentages, order them, store the result"
   ]
  },
  {
   "cell_type": "code",
   "execution_count": 17,
   "metadata": {
    "papermill": {
     "duration": 2.590745,
     "end_time": "2019-02-14T22:39:56.195631",
     "exception": false,
     "start_time": "2019-02-14T22:39:53.604886",
     "status": "completed"
    },
    "tags": []
   },
   "outputs": [],
   "source": [
    "monthly = weekly.groupby('user').resample('M', on='date').sum().reset_index()"
   ]
  },
  {
   "cell_type": "code",
   "execution_count": 18,
   "metadata": {
    "papermill": {
     "duration": 0.125087,
     "end_time": "2019-02-14T22:39:56.423729",
     "exception": false,
     "start_time": "2019-02-14T22:39:56.298642",
     "status": "completed"
    },
    "tags": []
   },
   "outputs": [],
   "source": [
    "n_comments_plot = 20"
   ]
  },
  {
   "cell_type": "code",
   "execution_count": 19,
   "metadata": {
    "papermill": {
     "duration": 0.305492,
     "end_time": "2019-02-14T22:39:56.858613",
     "exception": false,
     "start_time": "2019-02-14T22:39:56.553121",
     "status": "completed"
    },
    "tags": []
   },
   "outputs": [],
   "source": [
    "monthly_dist = {}\n",
    "for iweek, ivals in monthly.groupby('date'):\n",
    "    comments_dist = ivals.groupby('user').sum()['comments']\n",
    "    comments_dist = comments_dist / comments_dist.sum()\n",
    "    comments_dist = comments_dist.sort_values(ascending=False)\n",
    "    comments_placeholder = [0] * n_comments_plot\n",
    "\n",
    "    for ii, (iname, ipart) in enumerate(comments_dist.items()):\n",
    "        if ii + 1 > n_comments_plot:\n",
    "            continue\n",
    "        comments_placeholder[ii] = ipart\n",
    "    monthly_dist[iweek] = comments_placeholder"
   ]
  },
  {
   "cell_type": "code",
   "execution_count": 20,
   "metadata": {
    "papermill": {
     "duration": 0.197723,
     "end_time": "2019-02-14T22:39:57.202163",
     "exception": false,
     "start_time": "2019-02-14T22:39:57.004440",
     "status": "completed"
    },
    "tags": []
   },
   "outputs": [],
   "source": [
    "monthly_dist = pd.DataFrame(monthly_dist)\n",
    "# monthly_dist.index.name = 'position'\n",
    "# monthly_dist.columns.name = 'date'\n",
    "# monthly_dist = monthly_dist.stack().reset_index().rename(columns={0: 'dist'})"
   ]
  },
  {
   "cell_type": "code",
   "execution_count": 21,
   "metadata": {
    "papermill": {
     "duration": 0.161516,
     "end_time": "2019-02-14T22:39:57.495384",
     "exception": false,
     "start_time": "2019-02-14T22:39:57.333868",
     "status": "completed"
    },
    "tags": []
   },
   "outputs": [],
   "source": [
    "monthly_dist.columns = monthly_dist.columns.date"
   ]
  },
  {
   "cell_type": "code",
   "execution_count": 22,
   "metadata": {
    "papermill": {
     "duration": 0.153442,
     "end_time": "2019-02-14T22:39:57.779155",
     "exception": false,
     "start_time": "2019-02-14T22:39:57.625713",
     "status": "completed"
    },
    "tags": []
   },
   "outputs": [],
   "source": [
    "from matplotlib import pyplot as plt"
   ]
  },
  {
   "cell_type": "code",
   "execution_count": 23,
   "metadata": {
    "papermill": {
     "duration": 1.189538,
     "end_time": "2019-02-14T22:39:59.091133",
     "exception": false,
     "start_time": "2019-02-14T22:39:57.901595",
     "status": "completed"
    },
    "tags": []
   },
   "outputs": [
    {
     "name": "stderr",
     "output_type": "stream",
     "text": [
      "/home/choldgraf/anaconda/envs/dev/lib/python3.6/site-packages/ipykernel_launcher.py:2: RuntimeWarning: divide by zero encountered in log10\n",
      "  \n"
     ]
    },
    {
     "data": {
      "text/plain": [
       "[Text(114.0, 0.5, 'Rank'),\n",
       " Text(0.5, 1.0, 'Log % Comments over time\\ntop 20 commentors')]"
      ]
     },
     "execution_count": 23,
     "metadata": {},
     "output_type": "execute_result"
    },
    {
     "data": {
      "image/png": "[encoded data removed]",
      "text/plain": [
       "<Figure size 1080x360 with 2 Axes>"
      ]
     },
     "metadata": {},
     "output_type": "display_data"
    }
   ],
   "source": [
    "fig, ax = plt.subplots(figsize=(15, 5))\n",
    "ax = sns.heatmap(np.log10(100 * monthly_dist), vmin=0, vmax=2)\n",
    "ax.set(ylabel=\"Rank\", title=\"Log % Comments over time\\ntop {} commentors\".format(n_comments_plot))"
   ]
  },
  {
   "cell_type": "markdown",
   "metadata": {
    "papermill": {
     "duration": 0.111859,
     "end_time": "2019-02-14T22:39:59.335538",
     "exception": false,
     "start_time": "2019-02-14T22:39:59.223679",
     "status": "completed"
    },
    "tags": []
   },
   "source": [
    "## Correlations between members"
   ]
  },
  {
   "cell_type": "code",
   "execution_count": 24,
   "metadata": {
    "papermill": {
     "duration": 0.144318,
     "end_time": "2019-02-14T22:39:59.580354",
     "exception": false,
     "start_time": "2019-02-14T22:39:59.436036",
     "status": "completed"
    },
    "tags": []
   },
   "outputs": [],
   "source": [
    "correlations = weekly.query(\"user in @plt_users\").set_index(['date', 'user'])['comments'].unstack('user').corr()\n",
    "correlations = correlations.replace(np.nan, 0)"
   ]
  },
  {
   "cell_type": "code",
   "execution_count": 25,
   "metadata": {
    "papermill": {
     "duration": 1.036915,
     "end_time": "2019-02-14T22:40:00.725852",
     "exception": false,
     "start_time": "2019-02-14T22:39:59.688937",
     "status": "completed"
    },
    "tags": []
   },
   "outputs": [
    {
     "data": {
      "text/plain": [
       "<seaborn.matrix.ClusterGrid at 0x7f2c2b672b00>"
      ]
     },
     "execution_count": 25,
     "metadata": {},
     "output_type": "execute_result"
    },
    {
     "data": {
      "image/png": "[encoded data removed]",
      "text/plain": [
       "<Figure size 720x720 with 4 Axes>"
      ]
     },
     "metadata": {},
     "output_type": "display_data"
    }
   ],
   "source": [
    "sns.clustermap(correlations, vmin=-1, vmax=1, cmap='RdYlBu_r')"
   ]
  },
  {
   "cell_type": "code",
   "execution_count": null,
   "metadata": {
    "papermill": {
     "duration": 0.11544,
     "end_time": "2019-02-14T22:40:00.960260",
     "exception": false,
     "start_time": "2019-02-14T22:40:00.844820",
     "status": "completed"
    },
    "tags": []
   },
   "outputs": [],
   "source": []
  }
 ],
 "metadata": {
  "kernelspec": {
   "display_name": "Python 3",
   "language": "python",
   "name": "python3"
  },
  "language_info": {
   "codemirror_mode": {
    "name": "ipython",
    "version": 3
   },
   "file_extension": ".py",
   "mimetype": "text/x-python",
   "name": "python",
   "nbconvert_exporter": "python",
   "pygments_lexer": "ipython3",
   "version": "3.6.5"
  },
  "papermill": {
   "duration": 23.612195,
   "end_time": "2019-02-14T22:40:01.752771",
   "environment_variables": {},
   "exception": null,
   "input_path": "./viz_data.ipynb",
   "output_path": "../reports/viz_data_jupyter-notebook.ipynb",
   "parameters": {
    "org": "jupyter",
    "plot_N": 20,
    "repo": "notebook"
   },
   "start_time": "2019-02-14T22:39:38.140576",
   "version": "0.18.0"
  }
 },
 "nbformat": 4,
 "nbformat_minor": 2
}