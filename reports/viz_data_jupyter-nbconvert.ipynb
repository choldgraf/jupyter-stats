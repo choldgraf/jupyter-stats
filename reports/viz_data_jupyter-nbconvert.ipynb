{
 "cells": [
  {
   "cell_type": "markdown",
   "metadata": {
    "papermill": {
     "duration": 0.025977,
     "end_time": "2019-02-14T22:40:03.331627",
     "exception": false,
     "start_time": "2019-02-14T22:40:03.305650",
     "status": "completed"
    },
    "tags": []
   },
   "source": [
    "## Parameters"
   ]
  },
  {
   "cell_type": "code",
   "execution_count": 1,
   "metadata": {
    "papermill": {
     "duration": 0.063712,
     "end_time": "2019-02-14T22:40:03.419276",
     "exception": false,
     "start_time": "2019-02-14T22:40:03.355564",
     "status": "completed"
    },
    "tags": [
     "parameters"
    ]
   },
   "outputs": [],
   "source": [
    "org = 'jupyterhub'\n",
    "repo = 'jupyterhub'\n",
    "plot_N = 25  # Number of lines to add"
   ]
  },
  {
   "cell_type": "code",
   "execution_count": 2,
   "metadata": {
    "papermill": {
     "duration": 0.061596,
     "end_time": "2019-02-14T22:40:03.518515",
     "exception": false,
     "start_time": "2019-02-14T22:40:03.456919",
     "status": "completed"
    },
    "tags": [
     "injected-parameters"
    ]
   },
   "outputs": [],
   "source": [
    "# Parameters\n",
    "org = \"jupyter\"\n",
    "repo = \"nbconvert\"\n",
    "plot_N = 20\n"
   ]
  },
  {
   "cell_type": "markdown",
   "metadata": {
    "papermill": {
     "duration": 0.050233,
     "end_time": "2019-02-14T22:40:03.627228",
     "exception": false,
     "start_time": "2019-02-14T22:40:03.576995",
     "status": "completed"
    },
    "tags": []
   },
   "source": [
    "## Functions"
   ]
  },
  {
   "cell_type": "code",
   "execution_count": 3,
   "metadata": {
    "papermill": {
     "duration": 0.076514,
     "end_time": "2019-02-14T22:40:03.762976",
     "exception": false,
     "start_time": "2019-02-14T22:40:03.686462",
     "status": "completed"
    },
    "tags": []
   },
   "outputs": [],
   "source": [
    "def selectable_line_plot(data, x, y, color, width=1000):\n",
    "\n",
    "    select = alt.selection(type='single', on='mouseover',\n",
    "                           fields=[color], nearest=True)\n",
    "\n",
    "    base = alt.Chart(data=data, width=width).encode(\n",
    "        x=alt.X(x, scale=alt.Scale(domain=[\"2016-01-01\", \"2019-02-01\"])),\n",
    "        y=y,\n",
    "        color=color,\n",
    "        tooltip=color,\n",
    "    )\n",
    "\n",
    "    points = base.mark_circle(clip=True).encode(\n",
    "        opacity=alt.value(0)\n",
    "    ).add_selection(select)\n",
    "\n",
    "\n",
    "    lines = base.mark_line(clip=True).encode(\n",
    "        size=alt.condition(~select, alt.value(1), alt.value(4)),\n",
    "        color=alt.condition(select, color, alt.value('lightgray'))\n",
    "    )\n",
    "\n",
    "    return points + lines"
   ]
  },
  {
   "cell_type": "markdown",
   "metadata": {
    "papermill": {
     "duration": 0.036969,
     "end_time": "2019-02-14T22:40:03.834712",
     "exception": false,
     "start_time": "2019-02-14T22:40:03.797743",
     "status": "completed"
    },
    "tags": []
   },
   "source": [
    "# Load data"
   ]
  },
  {
   "cell_type": "code",
   "execution_count": 4,
   "metadata": {
    "papermill": {
     "duration": 1.531278,
     "end_time": "2019-02-14T22:40:05.404673",
     "exception": false,
     "start_time": "2019-02-14T22:40:03.873395",
     "status": "completed"
    },
    "tags": []
   },
   "outputs": [],
   "source": [
    "import pandas as pd\n",
    "import seaborn as sns\n",
    "import altair as alt\n",
    "import numpy as np"
   ]
  },
  {
   "cell_type": "code",
   "execution_count": 5,
   "metadata": {
    "papermill": {
     "duration": 0.135833,
     "end_time": "2019-02-14T22:40:05.569413",
     "exception": false,
     "start_time": "2019-02-14T22:40:05.433580",
     "status": "completed"
    },
    "tags": []
   },
   "outputs": [],
   "source": [
    "# Read in data\n",
    "daily = pd.read_csv('../data/daily.csv', index_col=0)\n",
    "\n",
    "# Convert indices to date\n",
    "daily['date'] = pd.to_datetime(daily['date'])\n",
    "daily = daily.query('org == @org and repo == @repo').drop(['org', 'repo'], axis=1)\n",
    "daily = daily.replace(np.nan, 0)"
   ]
  },
  {
   "cell_type": "markdown",
   "metadata": {
    "papermill": {
     "duration": 0.036554,
     "end_time": "2019-02-14T22:40:05.637274",
     "exception": false,
     "start_time": "2019-02-14T22:40:05.600720",
     "status": "completed"
    },
    "tags": []
   },
   "source": [
    "# Features"
   ]
  },
  {
   "cell_type": "code",
   "execution_count": 6,
   "metadata": {
    "papermill": {
     "duration": 1.980351,
     "end_time": "2019-02-14T22:40:07.645951",
     "exception": false,
     "start_time": "2019-02-14T22:40:05.665600",
     "status": "completed"
    },
    "tags": []
   },
   "outputs": [],
   "source": [
    "weekly = daily.groupby('user').resample('W', on='date').sum().reset_index()\n",
    "weekly = weekly.query('commits != 0 or comments != 0')"
   ]
  },
  {
   "cell_type": "code",
   "execution_count": 7,
   "metadata": {
    "papermill": {
     "duration": 0.273724,
     "end_time": "2019-02-14T22:40:07.952131",
     "exception": false,
     "start_time": "2019-02-14T22:40:07.678407",
     "status": "completed"
    },
    "tags": []
   },
   "outputs": [],
   "source": [
    "# Rolling mean\n",
    "weekly = weekly.groupby(['user', 'date']).sum().reset_index().groupby('user').\\\n",
    "    rolling(2, on='date')['comments'].\\\n",
    "    mean().dropna().reset_index()"
   ]
  },
  {
   "cell_type": "code",
   "execution_count": 8,
   "metadata": {
    "papermill": {
     "duration": 0.051439,
     "end_time": "2019-02-14T22:40:08.030860",
     "exception": false,
     "start_time": "2019-02-14T22:40:07.979421",
     "status": "completed"
    },
    "tags": []
   },
   "outputs": [],
   "source": [
    "# Top N commentors over time\n",
    "top_N = weekly.groupby('user').sum()['comments'].sort_values(ascending=False)\n",
    "top_N = top_N.index[:plot_N]"
   ]
  },
  {
   "cell_type": "markdown",
   "metadata": {
    "papermill": {
     "duration": 0.026097,
     "end_time": "2019-02-14T22:40:08.085849",
     "exception": false,
     "start_time": "2019-02-14T22:40:08.059752",
     "status": "completed"
    },
    "tags": []
   },
   "source": [
    "# Plotting"
   ]
  },
  {
   "cell_type": "markdown",
   "metadata": {
    "papermill": {
     "duration": 0.050281,
     "end_time": "2019-02-14T22:40:08.165199",
     "exception": false,
     "start_time": "2019-02-14T22:40:08.114918",
     "status": "completed"
    },
    "tags": []
   },
   "source": [
    "## Weekly unique contributors"
   ]
  },
  {
   "cell_type": "code",
   "execution_count": 9,
   "metadata": {
    "papermill": {
     "duration": 0.14477,
     "end_time": "2019-02-14T22:40:08.375204",
     "exception": false,
     "start_time": "2019-02-14T22:40:08.230434",
     "status": "completed"
    },
    "tags": []
   },
   "outputs": [],
   "source": [
    "unique = weekly[['date', 'user']].copy()\n",
    "unique['user'] = unique['user'].map(lambda a: [a])\n",
    "unique = unique.groupby('date').sum()"
   ]
  },
  {
   "cell_type": "code",
   "execution_count": 10,
   "metadata": {
    "papermill": {
     "duration": 0.076827,
     "end_time": "2019-02-14T22:40:08.481575",
     "exception": false,
     "start_time": "2019-02-14T22:40:08.404748",
     "status": "completed"
    },
    "tags": []
   },
   "outputs": [],
   "source": [
    "all_users = set()\n",
    "nunique = {}\n",
    "for idate, ivals in unique.iterrows():\n",
    "    n_unique_current = len(all_users)\n",
    "    \n",
    "    all_users = all_users.union(ivals[0])\n",
    "    n_unique_new = len(all_users) - n_unique_current\n",
    "    nunique[idate] = n_unique_new\n",
    "unique['new_contributors'] = pd.Series(nunique).values"
   ]
  },
  {
   "cell_type": "code",
   "execution_count": 11,
   "metadata": {
    "papermill": {
     "duration": 0.048809,
     "end_time": "2019-02-14T22:40:08.562833",
     "exception": false,
     "start_time": "2019-02-14T22:40:08.514024",
     "status": "completed"
    },
    "tags": []
   },
   "outputs": [],
   "source": [
    "unique['cumulative'] = unique['new_contributors'].cumsum()"
   ]
  },
  {
   "cell_type": "code",
   "execution_count": 12,
   "metadata": {
    "papermill": {
     "duration": 0.09295,
     "end_time": "2019-02-14T22:40:08.691687",
     "exception": false,
     "start_time": "2019-02-14T22:40:08.598737",
     "status": "completed"
    },
    "tags": []
   },
   "outputs": [
    {
     "data": {
      "application/vnd.vegalite.v2+json": {
       "$schema": "https://vega.github.io/schema/vega-lite/v2.6.0.json",
       "config": {
        "view": {
         "height": 300,
         "width": 400
        }
       },
       "data": {
        "name": "data-5d8d8302c6914d058848e3bf93e150e5"
       },
       "datasets": {
        "data-5d8d8302c6914d058848e3bf93e150e5": [
         {
          "cumulative": 1,
          "date": "2015-10-11T00:00:00",
          "new_contributors": 1,
          "user": [
           "Carreau"
          ]
         },
         {
          "cumulative": 1,
          "date": "2015-10-18T00:00:00",
          "new_contributors": 0,
          "user": [
           "Carreau"
          ]
         },
         {
          "cumulative": 1,
          "date": "2015-12-13T00:00:00",
          "new_contributors": 0,
          "user": [
           "Carreau"
          ]
         },
         {
          "cumulative": 1,
          "date": "2016-01-03T00:00:00",
          "new_contributors": 0,
          "user": [
           "Carreau"
          ]
         },
         {
          "cumulative": 1,
          "date": "2016-01-10T00:00:00",
          "new_contributors": 0,
          "user": [
           "Carreau"
          ]
         },
         {
          "cumulative": 4,
          "date": "2016-01-17T00:00:00",
          "new_contributors": 3,
          "user": [
           "Carreau",
           "minrk",
           "takluyver",
           "willingc"
          ]
         },
         {
          "cumulative": 7,
          "date": "2016-01-24T00:00:00",
          "new_contributors": 3,
          "user": [
           "Carreau",
           "damianavila",
           "mgeier",
           "minrk",
           "takluyver",
           "tritemio",
           "willingc"
          ]
         },
         {
          "cumulative": 9,
          "date": "2016-01-31T00:00:00",
          "new_contributors": 2,
          "user": [
           "Carreau",
           "amueller",
           "damianavila",
           "karldw",
           "mgeier",
           "minrk",
           "takluyver",
           "willingc"
          ]
         },
         {
          "cumulative": 10,
          "date": "2016-02-07T00:00:00",
          "new_contributors": 1,
          "user": [
           "Carreau",
           "damianavila",
           "ellisonbg",
           "mgeier",
           "minrk",
           "takluyver",
           "willingc"
          ]
         },
         {
          "cumulative": 10,
          "date": "2016-02-14T00:00:00",
          "new_contributors": 0,
          "user": [
           "Carreau",
           "amueller",
           "karldw",
           "mgeier",
           "minrk",
           "takluyver"
          ]
         },
         {
          "cumulative": 11,
          "date": "2016-02-21T00:00:00",
          "new_contributors": 1,
          "user": [
           "Carreau",
           "amueller",
           "jakobgager",
           "mgeier",
           "minrk",
           "takluyver"
          ]
         },
         {
          "cumulative": 12,
          "date": "2016-02-28T00:00:00",
          "new_contributors": 1,
          "user": [
           "Carreau",
           "fperez",
           "mgeier",
           "minrk",
           "takluyver"
          ]
         },
         {
          "cumulative": 12,
          "date": "2016-03-06T00:00:00",
          "new_contributors": 0,
          "user": [
           "Carreau",
           "minrk",
           "takluyver",
           "willingc"
          ]
         },
         {
          "cumulative": 13,
          "date": "2016-03-13T00:00:00",
          "new_contributors": 1,
          "user": [
           "Carreau",
           "amueller",
           "jdfreder",
           "mgeier",
           "minrk",
           "takluyver",
           "willingc"
          ]
         },
         {
          "cumulative": 14,
          "date": "2016-03-20T00:00:00",
          "new_contributors": 1,
          "user": [
           "damianavila",
           "mgeier",
           "minrk",
           "seltzered",
           "takluyver",
           "willingc"
          ]
         },
         {
          "cumulative": 14,
          "date": "2016-03-27T00:00:00",
          "new_contributors": 0,
          "user": [
           "mgeier",
           "minrk",
           "takluyver"
          ]
         },
         {
          "cumulative": 15,
          "date": "2016-04-03T00:00:00",
          "new_contributors": 1,
          "user": [
           "diazona",
           "mgeier",
           "takluyver"
          ]
         },
         {
          "cumulative": 15,
          "date": "2016-04-10T00:00:00",
          "new_contributors": 0,
          "user": [
           "Carreau",
           "damianavila",
           "ellisonbg",
           "fperez",
           "mgeier",
           "minrk",
           "takluyver",
           "willingc"
          ]
         },
         {
          "cumulative": 18,
          "date": "2016-04-17T00:00:00",
          "new_contributors": 3,
          "user": [
           "flying-sheep",
           "jankatins",
           "jankoslavic",
           "mgeier",
           "minrk",
           "takluyver"
          ]
         },
         {
          "cumulative": 18,
          "date": "2016-04-24T00:00:00",
          "new_contributors": 0,
          "user": [
           "flying-sheep",
           "mgeier",
           "takluyver"
          ]
         },
         {
          "cumulative": 19,
          "date": "2016-05-01T00:00:00",
          "new_contributors": 1,
          "user": [
           "ianhbell",
           "mgeier",
           "minrk",
           "takluyver",
           "tritemio"
          ]
         },
         {
          "cumulative": 19,
          "date": "2016-05-08T00:00:00",
          "new_contributors": 0,
          "user": [
           "Carreau",
           "jankatins",
           "minrk",
           "takluyver"
          ]
         },
         {
          "cumulative": 19,
          "date": "2016-05-15T00:00:00",
          "new_contributors": 0,
          "user": [
           "flying-sheep",
           "jankatins",
           "minrk",
           "takluyver"
          ]
         },
         {
          "cumulative": 20,
          "date": "2016-05-22T00:00:00",
          "new_contributors": 1,
          "user": [
           "minrk",
           "qingkaikong",
           "takluyver"
          ]
         },
         {
          "cumulative": 20,
          "date": "2016-05-29T00:00:00",
          "new_contributors": 0,
          "user": [
           "damianavila",
           "minrk",
           "takluyver"
          ]
         },
         {
          "cumulative": 22,
          "date": "2016-06-05T00:00:00",
          "new_contributors": 2,
          "user": [
           "amueller",
           "clayms",
           "juhasch",
           "minrk",
           "takluyver"
          ]
         },
         {
          "cumulative": 22,
          "date": "2016-06-12T00:00:00",
          "new_contributors": 0,
          "user": [
           "clayms"
          ]
         },
         {
          "cumulative": 22,
          "date": "2016-06-19T00:00:00",
          "new_contributors": 0,
          "user": [
           "takluyver"
          ]
         },
         {
          "cumulative": 23,
          "date": "2016-06-26T00:00:00",
          "new_contributors": 1,
          "user": [
           "bpajusco",
           "flying-sheep",
           "takluyver"
          ]
         },
         {
          "cumulative": 23,
          "date": "2016-07-03T00:00:00",
          "new_contributors": 0,
          "user": [
           "Carreau",
           "minrk",
           "takluyver"
          ]
         },
         {
          "cumulative": 23,
          "date": "2016-07-10T00:00:00",
          "new_contributors": 0,
          "user": [
           "minrk"
          ]
         },
         {
          "cumulative": 24,
          "date": "2016-07-17T00:00:00",
          "new_contributors": 1,
          "user": [
           "clayms",
           "flying-sheep",
           "jankatins",
           "juhasch",
           "mpacer",
           "takluyver"
          ]
         },
         {
          "cumulative": 25,
          "date": "2016-07-24T00:00:00",
          "new_contributors": 1,
          "user": [
           "amueller",
           "flying-sheep",
           "jankatins",
           "minrk",
           "soamaven",
           "takluyver",
           "willingc"
          ]
         },
         {
          "cumulative": 25,
          "date": "2016-07-31T00:00:00",
          "new_contributors": 0,
          "user": [
           "juhasch",
           "minrk",
           "mpacer",
           "soamaven",
           "takluyver",
           "willingc"
          ]
         },
         {
          "cumulative": 26,
          "date": "2016-08-07T00:00:00",
          "new_contributors": 1,
          "user": [
           "Carreau",
           "amueller",
           "flying-sheep",
           "j2kun",
           "juhasch",
           "minrk",
           "mpacer",
           "soamaven",
           "takluyver"
          ]
         },
         {
          "cumulative": 27,
          "date": "2016-08-14T00:00:00",
          "new_contributors": 1,
          "user": [
           "Carreau",
           "amueller",
           "damianavila",
           "flying-sheep",
           "fperez",
           "jankatins",
           "mghijs",
           "minrk",
           "soamaven",
           "takluyver",
           "willingc"
          ]
         },
         {
          "cumulative": 28,
          "date": "2016-08-21T00:00:00",
          "new_contributors": 1,
          "user": [
           "akhmerov",
           "amueller",
           "ellisonbg",
           "flying-sheep",
           "jankatins",
           "juhasch",
           "minrk",
           "mpacer",
           "takluyver"
          ]
         },
         {
          "cumulative": 28,
          "date": "2016-08-28T00:00:00",
          "new_contributors": 0,
          "user": [
           "amueller",
           "j2kun",
           "juhasch",
           "minrk",
           "mpacer",
           "takluyver",
           "willingc"
          ]
         },
         {
          "cumulative": 30,
          "date": "2016-09-04T00:00:00",
          "new_contributors": 2,
          "user": [
           "agreicius",
           "amueller",
           "btel",
           "minrk",
           "mpacer",
           "takluyver",
           "willingc"
          ]
         },
         {
          "cumulative": 32,
          "date": "2016-09-11T00:00:00",
          "new_contributors": 2,
          "user": [
           "Carreau",
           "avinashmaheshjoshi",
           "damianavila",
           "flying-sheep",
           "michael-nichols",
           "minrk",
           "mpacer",
           "tritemio",
           "willingc"
          ]
         },
         {
          "cumulative": 36,
          "date": "2016-09-18T00:00:00",
          "new_contributors": 4,
          "user": [
           "Tagar",
           "amueller",
           "btel",
           "herr-biber",
           "jmarcellopereira",
           "mgeier",
           "michael-nichols",
           "minrk",
           "mpacer",
           "rossant",
           "takluyver",
           "tritemio",
           "willingc"
          ]
         },
         {
          "cumulative": 39,
          "date": "2016-09-25T00:00:00",
          "new_contributors": 3,
          "user": [
           "Carreau",
           "Tagar",
           "amueller",
           "gnestor",
           "lgautier",
           "mgeier",
           "minrk",
           "mpacer",
           "takluyver",
           "yuvipanda"
          ]
         },
         {
          "cumulative": 39,
          "date": "2016-10-02T00:00:00",
          "new_contributors": 0,
          "user": [
           "Carreau",
           "amueller",
           "damianavila",
           "minrk",
           "mpacer",
           "takluyver"
          ]
         },
         {
          "cumulative": 39,
          "date": "2016-10-09T00:00:00",
          "new_contributors": 0,
          "user": [
           "Carreau",
           "Tagar",
           "amueller",
           "gnestor",
           "juhasch",
           "mgeier",
           "mpacer",
           "takluyver",
           "willingc"
          ]
         },
         {
          "cumulative": 39,
          "date": "2016-10-16T00:00:00",
          "new_contributors": 0,
          "user": [
           "Carreau",
           "amueller",
           "damianavila",
           "gnestor",
           "minrk",
           "mpacer",
           "takluyver",
           "willingc",
           "yuvipanda"
          ]
         },
         {
          "cumulative": 39,
          "date": "2016-10-23T00:00:00",
          "new_contributors": 0,
          "user": [
           "Carreau",
           "amueller",
           "minrk",
           "mpacer",
           "takluyver"
          ]
         },
         {
          "cumulative": 39,
          "date": "2016-10-30T00:00:00",
          "new_contributors": 0,
          "user": [
           "amueller",
           "takluyver"
          ]
         },
         {
          "cumulative": 39,
          "date": "2016-11-06T00:00:00",
          "new_contributors": 0,
          "user": [
           "Carreau",
           "mpacer",
           "soamaven",
           "takluyver",
           "willingc"
          ]
         },
         {
          "cumulative": 41,
          "date": "2016-11-13T00:00:00",
          "new_contributors": 2,
          "user": [
           "mpacer",
           "takluyver",
           "thhancock",
           "yangnw"
          ]
         },
         {
          "cumulative": 41,
          "date": "2016-11-20T00:00:00",
          "new_contributors": 0,
          "user": [
           "minrk",
           "mpacer",
           "takluyver"
          ]
         },
         {
          "cumulative": 43,
          "date": "2016-11-27T00:00:00",
          "new_contributors": 2,
          "user": [
           "jhamrick",
           "minrk",
           "mpacer",
           "rubik",
           "takluyver"
          ]
         },
         {
          "cumulative": 44,
          "date": "2016-12-04T00:00:00",
          "new_contributors": 1,
          "user": [
           "jfbercher",
           "mpacer",
           "takluyver"
          ]
         },
         {
          "cumulative": 44,
          "date": "2016-12-11T00:00:00",
          "new_contributors": 0,
          "user": [
           "Carreau",
           "damianavila",
           "jfbercher",
           "juhasch",
           "mgeier",
           "mpacer",
           "takluyver",
           "willingc"
          ]
         },
         {
          "cumulative": 45,
          "date": "2016-12-18T00:00:00",
          "new_contributors": 1,
          "user": [
           "Carreau",
           "SylvainCorlay",
           "minrk",
           "mpacer",
           "takluyver",
           "willingc"
          ]
         },
         {
          "cumulative": 46,
          "date": "2016-12-25T00:00:00",
          "new_contributors": 1,
          "user": [
           "ellisonbg",
           "matthew-brett",
           "mgeier",
           "minrk",
           "mpacer",
           "takluyver"
          ]
         },
         {
          "cumulative": 47,
          "date": "2017-01-01T00:00:00",
          "new_contributors": 1,
          "user": [
           "eddiejessup",
           "mpacer",
           "takluyver"
          ]
         },
         {
          "cumulative": 48,
          "date": "2017-01-08T00:00:00",
          "new_contributors": 1,
          "user": [
           "juhasch",
           "mpacer",
           "rubik",
           "srinivasreddy",
           "takluyver"
          ]
         },
         {
          "cumulative": 48,
          "date": "2017-01-15T00:00:00",
          "new_contributors": 0,
          "user": [
           "Carreau",
           "minrk",
           "mpacer",
           "takluyver"
          ]
         },
         {
          "cumulative": 48,
          "date": "2017-01-22T00:00:00",
          "new_contributors": 0,
          "user": [
           "amueller",
           "minrk",
           "mpacer",
           "takluyver",
           "willingc"
          ]
         },
         {
          "cumulative": 49,
          "date": "2017-01-29T00:00:00",
          "new_contributors": 1,
          "user": [
           "Carreau",
           "arsenovic",
           "juhasch",
           "mgeier",
           "mpacer",
           "takluyver",
           "willingc"
          ]
         },
         {
          "cumulative": 49,
          "date": "2017-02-05T00:00:00",
          "new_contributors": 0,
          "user": [
           "Carreau",
           "juhasch",
           "mgeier",
           "mpacer",
           "takluyver",
           "willingc"
          ]
         },
         {
          "cumulative": 51,
          "date": "2017-02-12T00:00:00",
          "new_contributors": 2,
          "user": [
           "Carreau",
           "mgeier",
           "takluyver",
           "teoguso",
           "zasdfgbnm"
          ]
         },
         {
          "cumulative": 51,
          "date": "2017-02-19T00:00:00",
          "new_contributors": 0,
          "user": [
           "Carreau",
           "mpacer",
           "takluyver"
          ]
         },
         {
          "cumulative": 52,
          "date": "2017-02-26T00:00:00",
          "new_contributors": 1,
          "user": [
           "Carreau",
           "Ken-B",
           "minrk",
           "mpacer",
           "takluyver"
          ]
         },
         {
          "cumulative": 53,
          "date": "2017-03-05T00:00:00",
          "new_contributors": 1,
          "user": [
           "Carreau",
           "Ken-B",
           "demidovakatya",
           "mpacer"
          ]
         },
         {
          "cumulative": 54,
          "date": "2017-03-12T00:00:00",
          "new_contributors": 1,
          "user": [
           "Ken-B",
           "WillClaudeHolmes",
           "mpacer"
          ]
         },
         {
          "cumulative": 55,
          "date": "2017-03-19T00:00:00",
          "new_contributors": 1,
          "user": [
           "jpeacock29",
           "minrk",
           "takluyver"
          ]
         },
         {
          "cumulative": 56,
          "date": "2017-03-26T00:00:00",
          "new_contributors": 1,
          "user": [
           "Carreau",
           "amueller",
           "choldgraf",
           "damianavila",
           "jankoslavic",
           "mgeier",
           "mpacer",
           "takluyver"
          ]
         },
         {
          "cumulative": 56,
          "date": "2017-04-02T00:00:00",
          "new_contributors": 0,
          "user": [
           "damianavila",
           "juhasch",
           "minrk",
           "mpacer",
           "takluyver"
          ]
         },
         {
          "cumulative": 56,
          "date": "2017-04-09T00:00:00",
          "new_contributors": 0,
          "user": [
           "damianavila",
           "minrk",
           "mpacer",
           "takluyver"
          ]
         },
         {
          "cumulative": 56,
          "date": "2017-04-16T00:00:00",
          "new_contributors": 0,
          "user": [
           "mgeier",
           "minrk",
           "mpacer",
           "takluyver"
          ]
         },
         {
          "cumulative": 56,
          "date": "2017-04-23T00:00:00",
          "new_contributors": 0,
          "user": [
           "damianavila",
           "minrk",
           "mpacer",
           "takluyver"
          ]
         },
         {
          "cumulative": 58,
          "date": "2017-04-30T00:00:00",
          "new_contributors": 2,
          "user": [
           "Carreau",
           "choldgraf",
           "ketch",
           "mpacer",
           "takluyver",
           "tillahoffmann"
          ]
         },
         {
          "cumulative": 59,
          "date": "2017-05-07T00:00:00",
          "new_contributors": 1,
          "user": [
           "minrk",
           "mpacer",
           "nfultz",
           "takluyver"
          ]
         },
         {
          "cumulative": 59,
          "date": "2017-05-14T00:00:00",
          "new_contributors": 0,
          "user": [
           "damianavila",
           "mpacer"
          ]
         },
         {
          "cumulative": 61,
          "date": "2017-05-21T00:00:00",
          "new_contributors": 2,
          "user": [
           "flying-sheep",
           "juhasch",
           "mpacer",
           "mscuthbert",
           "slokhorst",
           "takluyver",
           "tillahoffmann",
           "willingc"
          ]
         },
         {
          "cumulative": 63,
          "date": "2017-05-28T00:00:00",
          "new_contributors": 2,
          "user": [
           "alcrene",
           "damianavila",
           "flying-sheep",
           "jochym",
           "minrk",
           "mpacer",
           "mscuthbert",
           "nfultz",
           "takluyver"
          ]
         },
         {
          "cumulative": 66,
          "date": "2017-06-04T00:00:00",
          "new_contributors": 3,
          "user": [
           "akhmerov",
           "damianavila",
           "damontallen",
           "haicen",
           "jcrichard",
           "mpacer",
           "mscuthbert",
           "takluyver"
          ]
         },
         {
          "cumulative": 68,
          "date": "2017-06-11T00:00:00",
          "new_contributors": 2,
          "user": [
           "Carreau",
           "amueller",
           "damianavila",
           "ketch",
           "mpacer",
           "mscuthbert",
           "nipunbatra",
           "simonbyrne"
          ]
         },
         {
          "cumulative": 68,
          "date": "2017-06-18T00:00:00",
          "new_contributors": 0,
          "user": [
           "damianavila",
           "damontallen",
           "takluyver"
          ]
         },
         {
          "cumulative": 68,
          "date": "2017-06-25T00:00:00",
          "new_contributors": 0,
          "user": [
           "damianavila",
           "damontallen",
           "mpacer",
           "mscuthbert",
           "takluyver",
           "willingc"
          ]
         },
         {
          "cumulative": 68,
          "date": "2017-07-02T00:00:00",
          "new_contributors": 0,
          "user": [
           "mpacer",
           "mscuthbert"
          ]
         },
         {
          "cumulative": 69,
          "date": "2017-07-09T00:00:00",
          "new_contributors": 1,
          "user": [
           "Carreau",
           "amueller",
           "hoangvanthien",
           "ketch",
           "mpacer",
           "takluyver"
          ]
         },
         {
          "cumulative": 71,
          "date": "2017-07-16T00:00:00",
          "new_contributors": 2,
          "user": [
           "arun-siv",
           "chrisjsewell",
           "minrk",
           "mpacer",
           "takluyver",
           "tritemio"
          ]
         },
         {
          "cumulative": 71,
          "date": "2017-07-23T00:00:00",
          "new_contributors": 0,
          "user": [
           "chrisjsewell",
           "damianavila",
           "minrk",
           "mpacer",
           "takluyver"
          ]
         },
         {
          "cumulative": 72,
          "date": "2017-07-30T00:00:00",
          "new_contributors": 1,
          "user": [
           "bollwyvl",
           "juhasch",
           "mpacer",
           "takluyver",
           "tritemio"
          ]
         },
         {
          "cumulative": 73,
          "date": "2017-08-06T00:00:00",
          "new_contributors": 1,
          "user": [
           "Carreau",
           "constatza",
           "mpacer",
           "takluyver"
          ]
         },
         {
          "cumulative": 74,
          "date": "2017-08-13T00:00:00",
          "new_contributors": 1,
          "user": [
           "ellisonbg",
           "jbednar",
           "minrk",
           "mpacer",
           "takluyver"
          ]
         },
         {
          "cumulative": 75,
          "date": "2017-08-20T00:00:00",
          "new_contributors": 1,
          "user": [
           "Abduoit",
           "minrk",
           "mpacer",
           "takluyver"
          ]
         },
         {
          "cumulative": 75,
          "date": "2017-08-27T00:00:00",
          "new_contributors": 0,
          "user": [
           "ellisonbg",
           "minrk",
           "mpacer",
           "takluyver"
          ]
         },
         {
          "cumulative": 77,
          "date": "2017-09-03T00:00:00",
          "new_contributors": 2,
          "user": [
           "cglong",
           "mpacer",
           "takluyver",
           "wstomv"
          ]
         },
         {
          "cumulative": 80,
          "date": "2017-09-10T00:00:00",
          "new_contributors": 3,
          "user": [
           "Carreau",
           "cglong",
           "damianavila",
           "ivanov",
           "jasongrout",
           "mpacer",
           "takluyver",
           "zscore"
          ]
         },
         {
          "cumulative": 80,
          "date": "2017-09-17T00:00:00",
          "new_contributors": 0,
          "user": [
           "Carreau",
           "damianavila",
           "juhasch",
           "mpacer",
           "takluyver"
          ]
         },
         {
          "cumulative": 80,
          "date": "2017-09-24T00:00:00",
          "new_contributors": 0,
          "user": [
           "Abduoit",
           "mpacer",
           "takluyver",
           "zscore"
          ]
         },
         {
          "cumulative": 84,
          "date": "2017-10-01T00:00:00",
          "new_contributors": 4,
          "user": [
           "Alcampopiano",
           "gabyx",
           "jzf2101",
           "pxhanus",
           "takluyver"
          ]
         },
         {
          "cumulative": 84,
          "date": "2017-10-08T00:00:00",
          "new_contributors": 0,
          "user": [
           "gabyx",
           "mpacer",
           "takluyver"
          ]
         },
         {
          "cumulative": 85,
          "date": "2017-10-15T00:00:00",
          "new_contributors": 1,
          "user": [
           "mgeier",
           "minrk",
           "mpacer",
           "t-makaro",
           "takluyver"
          ]
         },
         {
          "cumulative": 85,
          "date": "2017-10-22T00:00:00",
          "new_contributors": 0,
          "user": [
           "mpacer",
           "t-makaro",
           "takluyver",
           "tillahoffmann"
          ]
         },
         {
          "cumulative": 89,
          "date": "2017-10-29T00:00:00",
          "new_contributors": 4,
          "user": [
           "Carreau",
           "geniusupgrader",
           "jbschiratti",
           "labeebee",
           "meeseeksdev[bot]",
           "mgeier",
           "minrk",
           "mpacer",
           "takluyver"
          ]
         },
         {
          "cumulative": 89,
          "date": "2017-11-05T00:00:00",
          "new_contributors": 0,
          "user": [
           "mgeier",
           "mpacer",
           "takluyver"
          ]
         },
         {
          "cumulative": 90,
          "date": "2017-11-12T00:00:00",
          "new_contributors": 1,
          "user": [
           "mpacer",
           "oscar6echo",
           "takluyver"
          ]
         },
         {
          "cumulative": 92,
          "date": "2017-11-19T00:00:00",
          "new_contributors": 2,
          "user": [
           "TMorville",
           "fperez",
           "m-rossi",
           "mpacer",
           "oscar6echo",
           "t-makaro",
           "takluyver"
          ]
         },
         {
          "cumulative": 92,
          "date": "2017-11-26T00:00:00",
          "new_contributors": 0,
          "user": [
           "damianavila",
           "jzf2101"
          ]
         },
         {
          "cumulative": 92,
          "date": "2017-12-03T00:00:00",
          "new_contributors": 0,
          "user": [
           "mgeier",
           "takluyver"
          ]
         },
         {
          "cumulative": 94,
          "date": "2017-12-10T00:00:00",
          "new_contributors": 2,
          "user": [
           "erihanse",
           "fperez",
           "ivanov",
           "jwood803",
           "m-rossi",
           "mpacer",
           "pxhanus",
           "takluyver"
          ]
         },
         {
          "cumulative": 94,
          "date": "2017-12-17T00:00:00",
          "new_contributors": 0,
          "user": [
           "jasongrout",
           "mpacer",
           "t-makaro",
           "takluyver"
          ]
         },
         {
          "cumulative": 94,
          "date": "2017-12-24T00:00:00",
          "new_contributors": 0,
          "user": [
           "m-rossi",
           "takluyver"
          ]
         },
         {
          "cumulative": 95,
          "date": "2017-12-31T00:00:00",
          "new_contributors": 1,
          "user": [
           "m-rossi",
           "mpacer",
           "oscar6echo",
           "p2ya",
           "t-makaro"
          ]
         },
         {
          "cumulative": 97,
          "date": "2018-01-07T00:00:00",
          "new_contributors": 2,
          "user": [
           "hyzhak",
           "mgeier",
           "rabernat",
           "takluyver"
          ]
         },
         {
          "cumulative": 98,
          "date": "2018-01-14T00:00:00",
          "new_contributors": 1,
          "user": [
           "bollwyvl",
           "fperez",
           "mgeier",
           "mpacer",
           "pacahon",
           "takluyver"
          ]
         },
         {
          "cumulative": 99,
          "date": "2018-01-21T00:00:00",
          "new_contributors": 1,
          "user": [
           "damianavila",
           "mpacer",
           "pacahon",
           "seanysull",
           "takluyver",
           "willingc"
          ]
         },
         {
          "cumulative": 101,
          "date": "2018-01-28T00:00:00",
          "new_contributors": 2,
          "user": [
           "damianavila",
           "mgeier",
           "mpacer",
           "pjsulin",
           "takluyver",
           "vidartf"
          ]
         },
         {
          "cumulative": 103,
          "date": "2018-02-04T00:00:00",
          "new_contributors": 2,
          "user": [
           "Juanlu001",
           "liamim",
           "mgeier",
           "mpacer",
           "t-makaro",
           "takluyver"
          ]
         },
         {
          "cumulative": 107,
          "date": "2018-02-11T00:00:00",
          "new_contributors": 4,
          "user": [
           "HagaiHargil",
           "Madhu94",
           "minrk",
           "mpacer",
           "rgbkrk",
           "ricklupton",
           "takluyver"
          ]
         },
         {
          "cumulative": 108,
          "date": "2018-02-18T00:00:00",
          "new_contributors": 1,
          "user": [
           "mgeier",
           "mpacer",
           "platise",
           "ricklupton",
           "takluyver"
          ]
         },
         {
          "cumulative": 108,
          "date": "2018-02-25T00:00:00",
          "new_contributors": 0,
          "user": [
           "jzf2101",
           "platise"
          ]
         },
         {
          "cumulative": 108,
          "date": "2018-03-04T00:00:00",
          "new_contributors": 0,
          "user": [
           "damianavila",
           "jasongrout",
           "mpacer",
           "ricklupton",
           "t-makaro",
           "takluyver"
          ]
         },
         {
          "cumulative": 109,
          "date": "2018-03-11T00:00:00",
          "new_contributors": 1,
          "user": [
           "ricklupton",
           "scottdraves",
           "takluyver",
           "wstomv"
          ]
         },
         {
          "cumulative": 110,
          "date": "2018-03-18T00:00:00",
          "new_contributors": 1,
          "user": [
           "fuglede",
           "mpacer",
           "platise"
          ]
         },
         {
          "cumulative": 111,
          "date": "2018-03-25T00:00:00",
          "new_contributors": 1,
          "user": [
           "FENGSHAN95",
           "jasongrout",
           "mgeier",
           "mpacer",
           "scottdraves",
           "takluyver"
          ]
         },
         {
          "cumulative": 111,
          "date": "2018-04-01T00:00:00",
          "new_contributors": 0,
          "user": [
           "scottdraves"
          ]
         },
         {
          "cumulative": 111,
          "date": "2018-04-08T00:00:00",
          "new_contributors": 0,
          "user": [
           "Ken-B",
           "mgeier",
           "takluyver"
          ]
         },
         {
          "cumulative": 111,
          "date": "2018-04-15T00:00:00",
          "new_contributors": 0,
          "user": [
           "p2ya",
           "takluyver",
           "vidartf",
           "wstomv"
          ]
         },
         {
          "cumulative": 111,
          "date": "2018-04-22T00:00:00",
          "new_contributors": 0,
          "user": [
           "takluyver"
          ]
         },
         {
          "cumulative": 111,
          "date": "2018-04-29T00:00:00",
          "new_contributors": 0,
          "user": [
           "mgeier",
           "takluyver"
          ]
         },
         {
          "cumulative": 111,
          "date": "2018-05-06T00:00:00",
          "new_contributors": 0,
          "user": [
           "p2ya",
           "platise",
           "takluyver"
          ]
         },
         {
          "cumulative": 114,
          "date": "2018-05-13T00:00:00",
          "new_contributors": 3,
          "user": [
           "abchenson",
           "dhimmel",
           "krinsman"
          ]
         },
         {
          "cumulative": 116,
          "date": "2018-05-20T00:00:00",
          "new_contributors": 2,
          "user": [
           "MSeal",
           "henriqueribeiro",
           "ivanov",
           "mgeier",
           "mpacer",
           "t-makaro"
          ]
         },
         {
          "cumulative": 116,
          "date": "2018-05-27T00:00:00",
          "new_contributors": 0,
          "user": [
           "MSeal",
           "choldgraf",
           "henriqueribeiro",
           "rgbkrk",
           "takluyver"
          ]
         },
         {
          "cumulative": 117,
          "date": "2018-06-03T00:00:00",
          "new_contributors": 1,
          "user": [
           "carlthome",
           "mgeier",
           "takluyver"
          ]
         },
         {
          "cumulative": 117,
          "date": "2018-06-10T00:00:00",
          "new_contributors": 0,
          "user": [
           "mpacer",
           "takluyver"
          ]
         },
         {
          "cumulative": 117,
          "date": "2018-06-17T00:00:00",
          "new_contributors": 0,
          "user": [
           "mpacer",
           "takluyver",
           "vidartf"
          ]
         },
         {
          "cumulative": 117,
          "date": "2018-06-24T00:00:00",
          "new_contributors": 0,
          "user": [
           "t-makaro",
           "takluyver"
          ]
         },
         {
          "cumulative": 117,
          "date": "2018-07-01T00:00:00",
          "new_contributors": 0,
          "user": [
           "Alcampopiano"
          ]
         },
         {
          "cumulative": 117,
          "date": "2018-07-08T00:00:00",
          "new_contributors": 0,
          "user": [
           "henriqueribeiro",
           "t-makaro"
          ]
         },
         {
          "cumulative": 118,
          "date": "2018-07-15T00:00:00",
          "new_contributors": 1,
          "user": [
           "rlabbe",
           "t-makaro",
           "takluyver"
          ]
         },
         {
          "cumulative": 118,
          "date": "2018-07-22T00:00:00",
          "new_contributors": 0,
          "user": [
           "carlthome",
           "takluyver",
           "vidartf"
          ]
         },
         {
          "cumulative": 118,
          "date": "2018-07-29T00:00:00",
          "new_contributors": 0,
          "user": [
           "akhmerov"
          ]
         },
         {
          "cumulative": 118,
          "date": "2018-08-12T00:00:00",
          "new_contributors": 0,
          "user": [
           "Carreau",
           "Juanlu001",
           "SylvainCorlay",
           "akhmerov",
           "mgeier",
           "takluyver"
          ]
         },
         {
          "cumulative": 118,
          "date": "2018-08-19T00:00:00",
          "new_contributors": 0,
          "user": [
           "akhmerov",
           "minrk"
          ]
         },
         {
          "cumulative": 118,
          "date": "2018-08-26T00:00:00",
          "new_contributors": 0,
          "user": [
           "Juanlu001",
           "MSeal",
           "mpacer",
           "t-makaro"
          ]
         },
         {
          "cumulative": 119,
          "date": "2018-09-02T00:00:00",
          "new_contributors": 1,
          "user": [
           "Carreau",
           "MSeal",
           "SylvainCorlay",
           "akhmerov",
           "blink1073",
           "mgeier",
           "mpacer",
           "t-makaro",
           "tillahoffmann"
          ]
         },
         {
          "cumulative": 119,
          "date": "2018-09-09T00:00:00",
          "new_contributors": 0,
          "user": [
           "Carreau",
           "Juanlu001",
           "MSeal",
           "SylvainCorlay",
           "akhmerov",
           "blink1073",
           "ivanov",
           "mgeier",
           "mpacer",
           "t-makaro",
           "takluyver"
          ]
         },
         {
          "cumulative": 120,
          "date": "2018-09-16T00:00:00",
          "new_contributors": 1,
          "user": [
           "MSeal",
           "mgeier",
           "minrk",
           "mpacer",
           "parthi2929",
           "t-makaro"
          ]
         },
         {
          "cumulative": 120,
          "date": "2018-09-23T00:00:00",
          "new_contributors": 0,
          "user": [
           "Juanlu001",
           "MSeal",
           "akhmerov",
           "mgeier",
           "parthi2929",
           "t-makaro"
          ]
         },
         {
          "cumulative": 120,
          "date": "2018-09-30T00:00:00",
          "new_contributors": 0,
          "user": [
           "parthi2929",
           "t-makaro"
          ]
         },
         {
          "cumulative": 120,
          "date": "2018-10-07T00:00:00",
          "new_contributors": 0,
          "user": [
           "mgeier",
           "t-makaro"
          ]
         },
         {
          "cumulative": 120,
          "date": "2018-10-14T00:00:00",
          "new_contributors": 0,
          "user": [
           "t-makaro"
          ]
         },
         {
          "cumulative": 120,
          "date": "2018-10-21T00:00:00",
          "new_contributors": 0,
          "user": [
           "SylvainCorlay",
           "bollwyvl"
          ]
         },
         {
          "cumulative": 120,
          "date": "2018-10-28T00:00:00",
          "new_contributors": 0,
          "user": [
           "MSeal",
           "mgeier",
           "minrk",
           "takluyver"
          ]
         },
         {
          "cumulative": 121,
          "date": "2018-11-04T00:00:00",
          "new_contributors": 1,
          "user": [
           "Carreau",
           "MSeal",
           "bollwyvl",
           "maartenbreddels",
           "mpacer"
          ]
         },
         {
          "cumulative": 122,
          "date": "2018-11-11T00:00:00",
          "new_contributors": 1,
          "user": [
           "ManPython",
           "bollwyvl",
           "mgeier",
           "t-makaro",
           "takluyver"
          ]
         },
         {
          "cumulative": 123,
          "date": "2018-11-18T00:00:00",
          "new_contributors": 1,
          "user": [
           "mgeier",
           "sgsaenger",
           "takluyver"
          ]
         },
         {
          "cumulative": 123,
          "date": "2018-11-25T00:00:00",
          "new_contributors": 0,
          "user": [
           "akhmerov",
           "mgeier",
           "sgsaenger",
           "t-makaro"
          ]
         },
         {
          "cumulative": 125,
          "date": "2018-12-02T00:00:00",
          "new_contributors": 2,
          "user": [
           "AlJohri",
           "Marek77",
           "maartenbreddels",
           "mgeier"
          ]
         },
         {
          "cumulative": 125,
          "date": "2018-12-09T00:00:00",
          "new_contributors": 0,
          "user": [
           "MSeal",
           "Marek77",
           "SylvainCorlay",
           "mgeier",
           "mpacer",
           "slokhorst"
          ]
         },
         {
          "cumulative": 126,
          "date": "2018-12-16T00:00:00",
          "new_contributors": 1,
          "user": [
           "MSeal",
           "Marek77",
           "mgeier",
           "mpacer",
           "vors"
          ]
         },
         {
          "cumulative": 126,
          "date": "2018-12-23T00:00:00",
          "new_contributors": 0,
          "user": [
           "mgeier"
          ]
         },
         {
          "cumulative": 127,
          "date": "2018-12-30T00:00:00",
          "new_contributors": 1,
          "user": [
           "choldgraf",
           "matthieu-pa",
           "mgeier"
          ]
         },
         {
          "cumulative": 127,
          "date": "2019-01-06T00:00:00",
          "new_contributors": 0,
          "user": [
           "akhmerov",
           "mgeier"
          ]
         },
         {
          "cumulative": 127,
          "date": "2019-01-13T00:00:00",
          "new_contributors": 0,
          "user": [
           "Juanlu001",
           "juhasch",
           "takluyver"
          ]
         },
         {
          "cumulative": 127,
          "date": "2019-01-20T00:00:00",
          "new_contributors": 0,
          "user": [
           "MSeal",
           "mgeier",
           "t-makaro",
           "takluyver"
          ]
         },
         {
          "cumulative": 128,
          "date": "2019-01-27T00:00:00",
          "new_contributors": 1,
          "user": [
           "ashwinvis",
           "gnestor",
           "mgeier",
           "t-makaro"
          ]
         },
         {
          "cumulative": 132,
          "date": "2019-02-03T00:00:00",
          "new_contributors": 4,
          "user": [
           "alixhami",
           "choldgraf",
           "chrisjsewell",
           "gnestor",
           "ianhbell",
           "ischg",
           "janba",
           "maartenbreddels",
           "mgeier",
           "ryanlovett",
           "t-makaro",
           "takluyver",
           "yuvipanda"
          ]
         },
         {
          "cumulative": 133,
          "date": "2019-02-10T00:00:00",
          "new_contributors": 1,
          "user": [
           "Juanlu001",
           "MSeal",
           "Marek77",
           "Tagar",
           "mgeier",
           "takluyver",
           "westurner"
          ]
         },
         {
          "cumulative": 133,
          "date": "2019-02-17T00:00:00",
          "new_contributors": 0,
          "user": [
           "mgeier"
          ]
         }
        ]
       },
       "encoding": {
        "x": {
         "field": "date",
         "type": "temporal"
        },
        "y": {
         "field": "cumulative",
         "type": "quantitative"
        }
       },
       "mark": "line",
       "width": 500
      },
      "text/plain": [
       "<VegaLite 2 object>\n",
       "\n",
       "If you see this message, it means the renderer has not been properly enabled\n",
       "for the frontend that you are using. For more information, see\n",
       "https://altair-viz.github.io/user_guide/troubleshooting.html\n"
      ]
     },
     "execution_count": 12,
     "metadata": {},
     "output_type": "execute_result"
    }
   ],
   "source": [
    "line = alt.Chart(data=unique.reset_index(), width=500).mark_line().encode(x='date', y='cumulative')\n",
    "line"
   ]
  },
  {
   "cell_type": "markdown",
   "metadata": {
    "papermill": {
     "duration": 0.044732,
     "end_time": "2019-02-14T22:40:08.779296",
     "exception": false,
     "start_time": "2019-02-14T22:40:08.734564",
     "status": "completed"
    },
    "tags": []
   },
   "source": [
    "## Comment activity over time"
   ]
  },
  {
   "cell_type": "code",
   "execution_count": 13,
   "metadata": {
    "papermill": {
     "duration": 0.06139,
     "end_time": "2019-02-14T22:40:08.882832",
     "exception": false,
     "start_time": "2019-02-14T22:40:08.821442",
     "status": "completed"
    },
    "tags": []
   },
   "outputs": [],
   "source": [
    "# Select the users we'll plot\n",
    "user_data = weekly.groupby(['user', 'date']).sum().reset_index('user')\n",
    "total_users = user_data.groupby('user')['comments'].sum()\n",
    "plt_users = total_users.sort_values(ascending=False)[:plot_N].index\n",
    "user_data = user_data.query(\"user in @plt_users\")\n",
    "\n",
    "# Drop empty dates\n",
    "user_data = user_data[user_data.sum(1) != 0]"
   ]
  },
  {
   "cell_type": "code",
   "execution_count": 14,
   "metadata": {
    "papermill": {
     "duration": 0.287564,
     "end_time": "2019-02-14T22:40:09.209912",
     "exception": false,
     "start_time": "2019-02-14T22:40:08.922348",
     "status": "completed"
    },
    "tags": []
   },
   "outputs": [
    {
     "data": {
      "application/vnd.vegalite.v2+json": {
       "$schema": "https://vega.github.io/schema/vega-lite/v2.6.0.json",
       "config": {
        "view": {
         "height": 300,
         "width": 400
        }
       },
       "datasets": {
        "data-8073d5d5b49de32b074623f9d55fafff": [
         {
          "comments": 1.0,
          "date": "2015-10-11T00:00:00",
          "user": "Carreau"
         },
         {
          "comments": 1.0,
          "date": "2015-10-18T00:00:00",
          "user": "Carreau"
         },
         {
          "comments": 3.5,
          "date": "2015-12-13T00:00:00",
          "user": "Carreau"
         },
         {
          "comments": 3.5,
          "date": "2016-01-03T00:00:00",
          "user": "Carreau"
         },
         {
          "comments": 3.5,
          "date": "2016-01-10T00:00:00",
          "user": "Carreau"
         },
         {
          "comments": 7.5,
          "date": "2016-01-17T00:00:00",
          "user": "Carreau"
         },
         {
          "comments": 7.5,
          "date": "2016-01-24T00:00:00",
          "user": "Carreau"
         },
         {
          "comments": 4.0,
          "date": "2016-01-31T00:00:00",
          "user": "Carreau"
         },
         {
          "comments": 4.5,
          "date": "2016-02-07T00:00:00",
          "user": "Carreau"
         },
         {
          "comments": 4.5,
          "date": "2016-02-14T00:00:00",
          "user": "Carreau"
         },
         {
          "comments": 2.0,
          "date": "2016-02-21T00:00:00",
          "user": "Carreau"
         },
         {
          "comments": 6.0,
          "date": "2016-02-28T00:00:00",
          "user": "Carreau"
         },
         {
          "comments": 6.0,
          "date": "2016-03-06T00:00:00",
          "user": "Carreau"
         },
         {
          "comments": 5.0,
          "date": "2016-03-13T00:00:00",
          "user": "Carreau"
         },
         {
          "comments": 6.0,
          "date": "2016-04-10T00:00:00",
          "user": "Carreau"
         },
         {
          "comments": 2.5,
          "date": "2016-05-08T00:00:00",
          "user": "Carreau"
         },
         {
          "comments": 1.0,
          "date": "2016-07-03T00:00:00",
          "user": "Carreau"
         },
         {
          "comments": 1.5,
          "date": "2016-08-07T00:00:00",
          "user": "Carreau"
         },
         {
          "comments": 1.5,
          "date": "2016-08-14T00:00:00",
          "user": "Carreau"
         },
         {
          "comments": 1.0,
          "date": "2016-09-11T00:00:00",
          "user": "Carreau"
         },
         {
          "comments": 7.5,
          "date": "2016-09-25T00:00:00",
          "user": "Carreau"
         },
         {
          "comments": 9.0,
          "date": "2016-10-02T00:00:00",
          "user": "Carreau"
         },
         {
          "comments": 3.0,
          "date": "2016-10-09T00:00:00",
          "user": "Carreau"
         },
         {
          "comments": 3.0,
          "date": "2016-10-16T00:00:00",
          "user": "Carreau"
         },
         {
          "comments": 2.5,
          "date": "2016-10-23T00:00:00",
          "user": "Carreau"
         },
         {
          "comments": 1.0,
          "date": "2016-11-06T00:00:00",
          "user": "Carreau"
         },
         {
          "comments": 1.5,
          "date": "2016-12-11T00:00:00",
          "user": "Carreau"
         },
         {
          "comments": 1.5,
          "date": "2016-12-18T00:00:00",
          "user": "Carreau"
         },
         {
          "comments": 2.5,
          "date": "2017-01-15T00:00:00",
          "user": "Carreau"
         },
         {
          "comments": 3.5,
          "date": "2017-01-29T00:00:00",
          "user": "Carreau"
         },
         {
          "comments": 2.0,
          "date": "2017-02-05T00:00:00",
          "user": "Carreau"
         },
         {
          "comments": 1.0,
          "date": "2017-02-12T00:00:00",
          "user": "Carreau"
         },
         {
          "comments": 1.5,
          "date": "2017-02-19T00:00:00",
          "user": "Carreau"
         },
         {
          "comments": 1.5,
          "date": "2017-02-26T00:00:00",
          "user": "Carreau"
         },
         {
          "comments": 2.0,
          "date": "2017-03-05T00:00:00",
          "user": "Carreau"
         },
         {
          "comments": 2.0,
          "date": "2017-03-26T00:00:00",
          "user": "Carreau"
         },
         {
          "comments": 1.0,
          "date": "2017-04-30T00:00:00",
          "user": "Carreau"
         },
         {
          "comments": 1.0,
          "date": "2017-06-11T00:00:00",
          "user": "Carreau"
         },
         {
          "comments": 1.5,
          "date": "2017-07-09T00:00:00",
          "user": "Carreau"
         },
         {
          "comments": 1.5,
          "date": "2017-08-06T00:00:00",
          "user": "Carreau"
         },
         {
          "comments": 2.5,
          "date": "2017-09-10T00:00:00",
          "user": "Carreau"
         },
         {
          "comments": 3.0,
          "date": "2017-09-17T00:00:00",
          "user": "Carreau"
         },
         {
          "comments": 4.0,
          "date": "2017-10-29T00:00:00",
          "user": "Carreau"
         },
         {
          "comments": 6.0,
          "date": "2018-08-12T00:00:00",
          "user": "Carreau"
         },
         {
          "comments": 7.5,
          "date": "2018-09-02T00:00:00",
          "user": "Carreau"
         },
         {
          "comments": 8.5,
          "date": "2018-09-09T00:00:00",
          "user": "Carreau"
         },
         {
          "comments": 4.5,
          "date": "2018-11-04T00:00:00",
          "user": "Carreau"
         },
         {
          "comments": 1.0,
          "date": "2018-05-20T00:00:00",
          "user": "MSeal"
         },
         {
          "comments": 1.0,
          "date": "2018-05-27T00:00:00",
          "user": "MSeal"
         },
         {
          "comments": 1.0,
          "date": "2018-08-26T00:00:00",
          "user": "MSeal"
         },
         {
          "comments": 2.5,
          "date": "2018-09-02T00:00:00",
          "user": "MSeal"
         },
         {
          "comments": 6.0,
          "date": "2018-09-09T00:00:00",
          "user": "MSeal"
         },
         {
          "comments": 5.0,
          "date": "2018-09-16T00:00:00",
          "user": "MSeal"
         },
         {
          "comments": 1.5,
          "date": "2018-09-23T00:00:00",
          "user": "MSeal"
         },
         {
          "comments": 2.0,
          "date": "2018-10-28T00:00:00",
          "user": "MSeal"
         },
         {
          "comments": 3.0,
          "date": "2018-11-04T00:00:00",
          "user": "MSeal"
         },
         {
          "comments": 3.5,
          "date": "2018-12-09T00:00:00",
          "user": "MSeal"
         },
         {
          "comments": 3.0,
          "date": "2018-12-16T00:00:00",
          "user": "MSeal"
         },
         {
          "comments": 2.0,
          "date": "2019-01-20T00:00:00",
          "user": "MSeal"
         },
         {
          "comments": 4.5,
          "date": "2019-02-10T00:00:00",
          "user": "MSeal"
         },
         {
          "comments": 13.0,
          "date": "2016-12-18T00:00:00",
          "user": "SylvainCorlay"
         },
         {
          "comments": 8.0,
          "date": "2018-08-12T00:00:00",
          "user": "SylvainCorlay"
         },
         {
          "comments": 5.0,
          "date": "2018-09-02T00:00:00",
          "user": "SylvainCorlay"
         },
         {
          "comments": 4.5,
          "date": "2018-09-09T00:00:00",
          "user": "SylvainCorlay"
         },
         {
          "comments": 4.0,
          "date": "2018-10-21T00:00:00",
          "user": "SylvainCorlay"
         },
         {
          "comments": 1.5,
          "date": "2018-12-09T00:00:00",
          "user": "SylvainCorlay"
         },
         {
          "comments": 1.0,
          "date": "2016-08-21T00:00:00",
          "user": "akhmerov"
         },
         {
          "comments": 1.0,
          "date": "2017-06-04T00:00:00",
          "user": "akhmerov"
         },
         {
          "comments": 1.0,
          "date": "2018-07-29T00:00:00",
          "user": "akhmerov"
         },
         {
          "comments": 5.0,
          "date": "2018-08-12T00:00:00",
          "user": "akhmerov"
         },
         {
          "comments": 6.0,
          "date": "2018-08-19T00:00:00",
          "user": "akhmerov"
         },
         {
          "comments": 2.5,
          "date": "2018-09-02T00:00:00",
          "user": "akhmerov"
         },
         {
          "comments": 2.0,
          "date": "2018-09-09T00:00:00",
          "user": "akhmerov"
         },
         {
          "comments": 2.0,
          "date": "2018-09-23T00:00:00",
          "user": "akhmerov"
         },
         {
          "comments": 2.5,
          "date": "2018-11-25T00:00:00",
          "user": "akhmerov"
         },
         {
          "comments": 2.0,
          "date": "2019-01-06T00:00:00",
          "user": "akhmerov"
         },
         {
          "comments": 3.5,
          "date": "2016-01-31T00:00:00",
          "user": "amueller"
         },
         {
          "comments": 6.0,
          "date": "2016-02-14T00:00:00",
          "user": "amueller"
         },
         {
          "comments": 5.5,
          "date": "2016-02-21T00:00:00",
          "user": "amueller"
         },
         {
          "comments": 1.0,
          "date": "2016-03-13T00:00:00",
          "user": "amueller"
         },
         {
          "comments": 1.5,
          "date": "2016-06-05T00:00:00",
          "user": "amueller"
         },
         {
          "comments": 1.5,
          "date": "2016-07-24T00:00:00",
          "user": "amueller"
         },
         {
          "comments": 1.0,
          "date": "2016-08-07T00:00:00",
          "user": "amueller"
         },
         {
          "comments": 3.0,
          "date": "2016-08-14T00:00:00",
          "user": "amueller"
         },
         {
          "comments": 5.0,
          "date": "2016-08-21T00:00:00",
          "user": "amueller"
         },
         {
          "comments": 4.0,
          "date": "2016-08-28T00:00:00",
          "user": "amueller"
         },
         {
          "comments": 3.0,
          "date": "2016-09-04T00:00:00",
          "user": "amueller"
         },
         {
          "comments": 2.0,
          "date": "2016-09-18T00:00:00",
          "user": "amueller"
         },
         {
          "comments": 1.0,
          "date": "2016-09-25T00:00:00",
          "user": "amueller"
         },
         {
          "comments": 2.0,
          "date": "2016-10-02T00:00:00",
          "user": "amueller"
         },
         {
          "comments": 3.0,
          "date": "2016-10-09T00:00:00",
          "user": "amueller"
         },
         {
          "comments": 2.5,
          "date": "2016-10-16T00:00:00",
          "user": "amueller"
         },
         {
          "comments": 4.0,
          "date": "2016-10-23T00:00:00",
          "user": "amueller"
         },
         {
          "comments": 4.0,
          "date": "2016-10-30T00:00:00",
          "user": "amueller"
         },
         {
          "comments": 2.5,
          "date": "2017-01-22T00:00:00",
          "user": "amueller"
         },
         {
          "comments": 2.0,
          "date": "2017-03-26T00:00:00",
          "user": "amueller"
         },
         {
          "comments": 1.0,
          "date": "2017-06-11T00:00:00",
          "user": "amueller"
         },
         {
          "comments": 1.5,
          "date": "2017-07-09T00:00:00",
          "user": "amueller"
         },
         {
          "comments": 10.5,
          "date": "2018-09-02T00:00:00",
          "user": "blink1073"
         },
         {
          "comments": 11.0,
          "date": "2018-09-09T00:00:00",
          "user": "blink1073"
         },
         {
          "comments": 1.5,
          "date": "2016-01-24T00:00:00",
          "user": "damianavila"
         },
         {
          "comments": 1.0,
          "date": "2016-01-31T00:00:00",
          "user": "damianavila"
         },
         {
          "comments": 1.0,
          "date": "2016-02-07T00:00:00",
          "user": "damianavila"
         },
         {
          "comments": 1.0,
          "date": "2016-03-20T00:00:00",
          "user": "damianavila"
         },
         {
          "comments": 1.0,
          "date": "2016-04-10T00:00:00",
          "user": "damianavila"
         },
         {
          "comments": 1.0,
          "date": "2016-05-29T00:00:00",
          "user": "damianavila"
         },
         {
          "comments": 1.5,
          "date": "2016-08-14T00:00:00",
          "user": "damianavila"
         },
         {
          "comments": 1.5,
          "date": "2016-09-11T00:00:00",
          "user": "damianavila"
         },
         {
          "comments": 1.0,
          "date": "2016-10-02T00:00:00",
          "user": "damianavila"
         },
         {
          "comments": 1.5,
          "date": "2016-10-16T00:00:00",
          "user": "damianavila"
         },
         {
          "comments": 1.5,
          "date": "2016-12-11T00:00:00",
          "user": "damianavila"
         },
         {
          "comments": 1.0,
          "date": "2017-03-26T00:00:00",
          "user": "damianavila"
         },
         {
          "comments": 2.0,
          "date": "2017-04-02T00:00:00",
          "user": "damianavila"
         },
         {
          "comments": 2.0,
          "date": "2017-04-09T00:00:00",
          "user": "damianavila"
         },
         {
          "comments": 1.0,
          "date": "2017-04-23T00:00:00",
          "user": "damianavila"
         },
         {
          "comments": 1.5,
          "date": "2017-05-14T00:00:00",
          "user": "damianavila"
         },
         {
          "comments": 1.5,
          "date": "2017-05-28T00:00:00",
          "user": "damianavila"
         },
         {
          "comments": 13.5,
          "date": "2017-06-04T00:00:00",
          "user": "damianavila"
         },
         {
          "comments": 17.5,
          "date": "2017-06-11T00:00:00",
          "user": "damianavila"
         },
         {
          "comments": 5.0,
          "date": "2017-06-18T00:00:00",
          "user": "damianavila"
         },
         {
          "comments": 2.0,
          "date": "2017-06-25T00:00:00",
          "user": "damianavila"
         },
         {
          "comments": 2.0,
          "date": "2017-07-23T00:00:00",
          "user": "damianavila"
         },
         {
          "comments": 1.0,
          "date": "2017-09-10T00:00:00",
          "user": "damianavila"
         },
         {
          "comments": 1.0,
          "date": "2017-09-17T00:00:00",
          "user": "damianavila"
         },
         {
          "comments": 1.5,
          "date": "2017-11-26T00:00:00",
          "user": "damianavila"
         },
         {
          "comments": 5.5,
          "date": "2018-01-21T00:00:00",
          "user": "damianavila"
         },
         {
          "comments": 7.5,
          "date": "2018-01-28T00:00:00",
          "user": "damianavila"
         },
         {
          "comments": 4.5,
          "date": "2018-03-04T00:00:00",
          "user": "damianavila"
         },
         {
          "comments": 2.5,
          "date": "2016-04-17T00:00:00",
          "user": "flying-sheep"
         },
         {
          "comments": 1.5,
          "date": "2016-04-24T00:00:00",
          "user": "flying-sheep"
         },
         {
          "comments": 2.0,
          "date": "2016-05-15T00:00:00",
          "user": "flying-sheep"
         },
         {
          "comments": 1.5,
          "date": "2016-06-26T00:00:00",
          "user": "flying-sheep"
         },
         {
          "comments": 7.5,
          "date": "2016-07-17T00:00:00",
          "user": "flying-sheep"
         },
         {
          "comments": 8.0,
          "date": "2016-07-24T00:00:00",
          "user": "flying-sheep"
         },
         {
          "comments": 1.5,
          "date": "2016-08-07T00:00:00",
          "user": "flying-sheep"
         },
         {
          "comments": 4.5,
          "date": "2016-08-14T00:00:00",
          "user": "flying-sheep"
         },
         {
          "comments": 6.5,
          "date": "2016-08-21T00:00:00",
          "user": "flying-sheep"
         },
         {
          "comments": 3.0,
          "date": "2016-09-11T00:00:00",
          "user": "flying-sheep"
         },
         {
          "comments": 2.5,
          "date": "2017-05-21T00:00:00",
          "user": "flying-sheep"
         },
         {
          "comments": 2.5,
          "date": "2017-05-28T00:00:00",
          "user": "flying-sheep"
         },
         {
          "comments": 8.5,
          "date": "2016-09-25T00:00:00",
          "user": "gnestor"
         },
         {
          "comments": 4.5,
          "date": "2016-10-09T00:00:00",
          "user": "gnestor"
         },
         {
          "comments": 2.0,
          "date": "2016-10-16T00:00:00",
          "user": "gnestor"
         },
         {
          "comments": 1.0,
          "date": "2019-01-27T00:00:00",
          "user": "gnestor"
         },
         {
          "comments": 1.5,
          "date": "2019-02-03T00:00:00",
          "user": "gnestor"
         },
         {
          "comments": 1.0,
          "date": "2016-04-17T00:00:00",
          "user": "jankatins"
         },
         {
          "comments": 1.5,
          "date": "2016-05-08T00:00:00",
          "user": "jankatins"
         },
         {
          "comments": 1.5,
          "date": "2016-05-15T00:00:00",
          "user": "jankatins"
         },
         {
          "comments": 1.5,
          "date": "2016-07-17T00:00:00",
          "user": "jankatins"
         },
         {
          "comments": 1.5,
          "date": "2016-07-24T00:00:00",
          "user": "jankatins"
         },
         {
          "comments": 6.5,
          "date": "2016-08-14T00:00:00",
          "user": "jankatins"
         },
         {
          "comments": 7.0,
          "date": "2016-08-21T00:00:00",
          "user": "jankatins"
         },
         {
          "comments": 1.5,
          "date": "2016-06-05T00:00:00",
          "user": "juhasch"
         },
         {
          "comments": 2.5,
          "date": "2016-07-17T00:00:00",
          "user": "juhasch"
         },
         {
          "comments": 2.0,
          "date": "2016-07-31T00:00:00",
          "user": "juhasch"
         },
         {
          "comments": 2.0,
          "date": "2016-08-07T00:00:00",
          "user": "juhasch"
         },
         {
          "comments": 3.0,
          "date": "2016-08-21T00:00:00",
          "user": "juhasch"
         },
         {
          "comments": 2.5,
          "date": "2016-08-28T00:00:00",
          "user": "juhasch"
         },
         {
          "comments": 1.5,
          "date": "2016-10-09T00:00:00",
          "user": "juhasch"
         },
         {
          "comments": 1.5,
          "date": "2016-12-11T00:00:00",
          "user": "juhasch"
         },
         {
          "comments": 1.5,
          "date": "2017-01-08T00:00:00",
          "user": "juhasch"
         },
         {
          "comments": 1.0,
          "date": "2017-01-29T00:00:00",
          "user": "juhasch"
         },
         {
          "comments": 1.5,
          "date": "2017-02-05T00:00:00",
          "user": "juhasch"
         },
         {
          "comments": 1.5,
          "date": "2017-04-02T00:00:00",
          "user": "juhasch"
         },
         {
          "comments": 1.0,
          "date": "2017-05-21T00:00:00",
          "user": "juhasch"
         },
         {
          "comments": 1.0,
          "date": "2017-07-30T00:00:00",
          "user": "juhasch"
         },
         {
          "comments": 1.0,
          "date": "2017-09-17T00:00:00",
          "user": "juhasch"
         },
         {
          "comments": 1.0,
          "date": "2019-01-13T00:00:00",
          "user": "juhasch"
         },
         {
          "comments": 1.0,
          "date": "2016-01-24T00:00:00",
          "user": "mgeier"
         },
         {
          "comments": 6.0,
          "date": "2016-01-31T00:00:00",
          "user": "mgeier"
         },
         {
          "comments": 10.5,
          "date": "2016-02-07T00:00:00",
          "user": "mgeier"
         },
         {
          "comments": 6.5,
          "date": "2016-02-14T00:00:00",
          "user": "mgeier"
         },
         {
          "comments": 5.5,
          "date": "2016-02-21T00:00:00",
          "user": "mgeier"
         },
         {
          "comments": 9.0,
          "date": "2016-02-28T00:00:00",
          "user": "mgeier"
         },
         {
          "comments": 5.5,
          "date": "2016-03-13T00:00:00",
          "user": "mgeier"
         },
         {
          "comments": 1.5,
          "date": "2016-03-20T00:00:00",
          "user": "mgeier"
         },
         {
          "comments": 2.5,
          "date": "2016-03-27T00:00:00",
          "user": "mgeier"
         },
         {
          "comments": 2.5,
          "date": "2016-04-03T00:00:00",
          "user": "mgeier"
         },
         {
          "comments": 2.5,
          "date": "2016-04-10T00:00:00",
          "user": "mgeier"
         },
         {
          "comments": 3.0,
          "date": "2016-04-17T00:00:00",
          "user": "mgeier"
         },
         {
          "comments": 2.0,
          "date": "2016-04-24T00:00:00",
          "user": "mgeier"
         },
         {
          "comments": 1.0,
          "date": "2016-05-01T00:00:00",
          "user": "mgeier"
         },
         {
          "comments": 1.5,
          "date": "2016-09-18T00:00:00",
          "user": "mgeier"
         },
         {
          "comments": 1.5,
          "date": "2016-09-25T00:00:00",
          "user": "mgeier"
         },
         {
          "comments": 1.0,
          "date": "2016-10-09T00:00:00",
          "user": "mgeier"
         },
         {
          "comments": 1.0,
          "date": "2016-12-11T00:00:00",
          "user": "mgeier"
         },
         {
          "comments": 1.0,
          "date": "2016-12-25T00:00:00",
          "user": "mgeier"
         },
         {
          "comments": 2.5,
          "date": "2017-01-29T00:00:00",
          "user": "mgeier"
         },
         {
          "comments": 2.5,
          "date": "2017-02-05T00:00:00",
          "user": "mgeier"
         },
         {
          "comments": 1.0,
          "date": "2017-02-12T00:00:00",
          "user": "mgeier"
         },
         {
          "comments": 1.0,
          "date": "2017-03-26T00:00:00",
          "user": "mgeier"
         },
         {
          "comments": 1.5,
          "date": "2017-04-16T00:00:00",
          "user": "mgeier"
         },
         {
          "comments": 1.5,
          "date": "2017-10-15T00:00:00",
          "user": "mgeier"
         },
         {
          "comments": 1.5,
          "date": "2017-10-29T00:00:00",
          "user": "mgeier"
         },
         {
          "comments": 1.5,
          "date": "2017-11-05T00:00:00",
          "user": "mgeier"
         },
         {
          "comments": 1.0,
          "date": "2017-12-03T00:00:00",
          "user": "mgeier"
         },
         {
          "comments": 1.5,
          "date": "2018-01-07T00:00:00",
          "user": "mgeier"
         },
         {
          "comments": 2.0,
          "date": "2018-01-14T00:00:00",
          "user": "mgeier"
         },
         {
          "comments": 1.5,
          "date": "2018-01-28T00:00:00",
          "user": "mgeier"
         },
         {
          "comments": 1.5,
          "date": "2018-02-04T00:00:00",
          "user": "mgeier"
         },
         {
          "comments": 1.5,
          "date": "2018-02-18T00:00:00",
          "user": "mgeier"
         },
         {
          "comments": 1.0,
          "date": "2018-03-25T00:00:00",
          "user": "mgeier"
         },
         {
          "comments": 1.5,
          "date": "2018-04-08T00:00:00",
          "user": "mgeier"
         },
         {
          "comments": 1.5,
          "date": "2018-04-29T00:00:00",
          "user": "mgeier"
         },
         {
          "comments": 1.0,
          "date": "2018-05-20T00:00:00",
          "user": "mgeier"
         },
         {
          "comments": 1.0,
          "date": "2018-06-03T00:00:00",
          "user": "mgeier"
         },
         {
          "comments": 1.0,
          "date": "2018-08-12T00:00:00",
          "user": "mgeier"
         },
         {
          "comments": 1.0,
          "date": "2018-09-02T00:00:00",
          "user": "mgeier"
         },
         {
          "comments": 1.5,
          "date": "2018-09-09T00:00:00",
          "user": "mgeier"
         },
         {
          "comments": 3.0,
          "date": "2018-09-16T00:00:00",
          "user": "mgeier"
         },
         {
          "comments": 4.5,
          "date": "2018-09-23T00:00:00",
          "user": "mgeier"
         },
         {
          "comments": 5.0,
          "date": "2018-10-07T00:00:00",
          "user": "mgeier"
         },
         {
          "comments": 3.0,
          "date": "2018-10-28T00:00:00",
          "user": "mgeier"
         },
         {
          "comments": 3.5,
          "date": "2018-11-11T00:00:00",
          "user": "mgeier"
         },
         {
          "comments": 6.5,
          "date": "2018-11-18T00:00:00",
          "user": "mgeier"
         },
         {
          "comments": 4.0,
          "date": "2018-11-25T00:00:00",
          "user": "mgeier"
         },
         {
          "comments": 1.5,
          "date": "2018-12-02T00:00:00",
          "user": "mgeier"
         },
         {
          "comments": 8.0,
          "date": "2018-12-09T00:00:00",
          "user": "mgeier"
         },
         {
          "comments": 10.0,
          "date": "2018-12-16T00:00:00",
          "user": "mgeier"
         },
         {
          "comments": 3.5,
          "date": "2018-12-23T00:00:00",
          "user": "mgeier"
         },
         {
          "comments": 1.0,
          "date": "2018-12-30T00:00:00",
          "user": "mgeier"
         },
         {
          "comments": 1.0,
          "date": "2019-01-06T00:00:00",
          "user": "mgeier"
         },
         {
          "comments": 1.5,
          "date": "2019-01-20T00:00:00",
          "user": "mgeier"
         },
         {
          "comments": 1.5,
          "date": "2019-01-27T00:00:00",
          "user": "mgeier"
         },
         {
          "comments": 3.0,
          "date": "2019-02-03T00:00:00",
          "user": "mgeier"
         },
         {
          "comments": 3.5,
          "date": "2019-02-10T00:00:00",
          "user": "mgeier"
         },
         {
          "comments": 1.5,
          "date": "2019-02-17T00:00:00",
          "user": "mgeier"
         },
         {
          "comments": 5.0,
          "date": "2016-01-17T00:00:00",
          "user": "minrk"
         },
         {
          "comments": 5.5,
          "date": "2016-01-24T00:00:00",
          "user": "minrk"
         },
         {
          "comments": 5.0,
          "date": "2016-01-31T00:00:00",
          "user": "minrk"
         },
         {
          "comments": 11.0,
          "date": "2016-02-07T00:00:00",
          "user": "minrk"
         },
         {
          "comments": 11.5,
          "date": "2016-02-14T00:00:00",
          "user": "minrk"
         },
         {
          "comments": 5.0,
          "date": "2016-02-21T00:00:00",
          "user": "minrk"
         },
         {
          "comments": 7.0,
          "date": "2016-02-28T00:00:00",
          "user": "minrk"
         },
         {
          "comments": 5.5,
          "date": "2016-03-06T00:00:00",
          "user": "minrk"
         },
         {
          "comments": 2.0,
          "date": "2016-03-13T00:00:00",
          "user": "minrk"
         },
         {
          "comments": 3.0,
          "date": "2016-03-20T00:00:00",
          "user": "minrk"
         },
         {
          "comments": 2.5,
          "date": "2016-03-27T00:00:00",
          "user": "minrk"
         },
         {
          "comments": 7.0,
          "date": "2016-04-10T00:00:00",
          "user": "minrk"
         },
         {
          "comments": 7.5,
          "date": "2016-04-17T00:00:00",
          "user": "minrk"
         },
         {
          "comments": 2.0,
          "date": "2016-05-01T00:00:00",
          "user": "minrk"
         },
         {
          "comments": 1.0,
          "date": "2016-05-08T00:00:00",
          "user": "minrk"
         },
         {
          "comments": 3.0,
          "date": "2016-05-15T00:00:00",
          "user": "minrk"
         },
         {
          "comments": 3.0,
          "date": "2016-05-22T00:00:00",
          "user": "minrk"
         },
         {
          "comments": 1.0,
          "date": "2016-05-29T00:00:00",
          "user": "minrk"
         },
         {
          "comments": 1.0,
          "date": "2016-06-05T00:00:00",
          "user": "minrk"
         },
         {
          "comments": 1.0,
          "date": "2016-07-03T00:00:00",
          "user": "minrk"
         },
         {
          "comments": 1.0,
          "date": "2016-07-10T00:00:00",
          "user": "minrk"
         },
         {
          "comments": 1.0,
          "date": "2016-07-24T00:00:00",
          "user": "minrk"
         },
         {
          "comments": 2.5,
          "date": "2016-07-31T00:00:00",
          "user": "minrk"
         },
         {
          "comments": 3.0,
          "date": "2016-08-07T00:00:00",
          "user": "minrk"
         },
         {
          "comments": 4.5,
          "date": "2016-08-14T00:00:00",
          "user": "minrk"
         },
         {
          "comments": 5.5,
          "date": "2016-08-21T00:00:00",
          "user": "minrk"
         },
         {
          "comments": 2.5,
          "date": "2016-08-28T00:00:00",
          "user": "minrk"
         },
         {
          "comments": 3.0,
          "date": "2016-09-04T00:00:00",
          "user": "minrk"
         },
         {
          "comments": 3.5,
          "date": "2016-09-11T00:00:00",
          "user": "minrk"
         },
         {
          "comments": 6.0,
          "date": "2016-09-18T00:00:00",
          "user": "minrk"
         },
         {
          "comments": 5.5,
          "date": "2016-09-25T00:00:00",
          "user": "minrk"
         },
         {
          "comments": 1.0,
          "date": "2016-10-02T00:00:00",
          "user": "minrk"
         },
         {
          "comments": 2.5,
          "date": "2016-10-16T00:00:00",
          "user": "minrk"
         },
         {
          "comments": 3.0,
          "date": "2016-10-23T00:00:00",
          "user": "minrk"
         },
         {
          "comments": 1.5,
          "date": "2016-11-20T00:00:00",
          "user": "minrk"
         },
         {
          "comments": 3.5,
          "date": "2016-11-27T00:00:00",
          "user": "minrk"
         },
         {
          "comments": 4.5,
          "date": "2016-12-18T00:00:00",
          "user": "minrk"
         },
         {
          "comments": 3.5,
          "date": "2016-12-25T00:00:00",
          "user": "minrk"
         },
         {
          "comments": 2.5,
          "date": "2017-01-15T00:00:00",
          "user": "minrk"
         },
         {
          "comments": 1.5,
          "date": "2017-01-22T00:00:00",
          "user": "minrk"
         },
         {
          "comments": 1.5,
          "date": "2017-02-26T00:00:00",
          "user": "minrk"
         },
         {
          "comments": 1.0,
          "date": "2017-03-19T00:00:00",
          "user": "minrk"
         },
         {
          "comments": 2.5,
          "date": "2017-04-02T00:00:00",
          "user": "minrk"
         },
         {
          "comments": 3.5,
          "date": "2017-04-09T00:00:00",
          "user": "minrk"
         },
         {
          "comments": 2.0,
          "date": "2017-04-16T00:00:00",
          "user": "minrk"
         },
         {
          "comments": 1.0,
          "date": "2017-04-23T00:00:00",
          "user": "minrk"
         },
         {
          "comments": 1.0,
          "date": "2017-05-07T00:00:00",
          "user": "minrk"
         },
         {
          "comments": 1.5,
          "date": "2017-05-28T00:00:00",
          "user": "minrk"
         },
         {
          "comments": 2.0,
          "date": "2017-07-16T00:00:00",
          "user": "minrk"
         },
         {
          "comments": 1.5,
          "date": "2017-07-23T00:00:00",
          "user": "minrk"
         },
         {
          "comments": 2.0,
          "date": "2017-08-13T00:00:00",
          "user": "minrk"
         },
         {
          "comments": 2.0,
          "date": "2017-08-20T00:00:00",
          "user": "minrk"
         },
         {
          "comments": 1.5,
          "date": "2017-08-27T00:00:00",
          "user": "minrk"
         },
         {
          "comments": 1.5,
          "date": "2017-10-15T00:00:00",
          "user": "minrk"
         },
         {
          "comments": 1.0,
          "date": "2017-10-29T00:00:00",
          "user": "minrk"
         },
         {
          "comments": 2.0,
          "date": "2018-02-11T00:00:00",
          "user": "minrk"
         },
         {
          "comments": 2.5,
          "date": "2018-08-19T00:00:00",
          "user": "minrk"
         },
         {
          "comments": 2.5,
          "date": "2018-09-16T00:00:00",
          "user": "minrk"
         },
         {
          "comments": 2.0,
          "date": "2018-10-28T00:00:00",
          "user": "minrk"
         },
         {
          "comments": 1.0,
          "date": "2016-07-17T00:00:00",
          "user": "mpacer"
         },
         {
          "comments": 1.5,
          "date": "2016-07-31T00:00:00",
          "user": "mpacer"
         },
         {
          "comments": 4.0,
          "date": "2016-08-07T00:00:00",
          "user": "mpacer"
         },
         {
          "comments": 12.5,
          "date": "2016-08-21T00:00:00",
          "user": "mpacer"
         },
         {
          "comments": 17.5,
          "date": "2016-08-28T00:00:00",
          "user": "mpacer"
         },
         {
          "comments": 16.0,
          "date": "2016-09-04T00:00:00",
          "user": "mpacer"
         },
         {
          "comments": 23.0,
          "date": "2016-09-11T00:00:00",
          "user": "mpacer"
         },
         {
          "comments": 43.0,
          "date": "2016-09-18T00:00:00",
          "user": "mpacer"
         },
         {
          "comments": 44.0,
          "date": "2016-09-25T00:00:00",
          "user": "mpacer"
         },
         {
          "comments": 26.0,
          "date": "2016-10-02T00:00:00",
          "user": "mpacer"
         },
         {
          "comments": 20.0,
          "date": "2016-10-09T00:00:00",
          "user": "mpacer"
         },
         {
          "comments": 18.0,
          "date": "2016-10-16T00:00:00",
          "user": "mpacer"
         },
         {
          "comments": 16.5,
          "date": "2016-10-23T00:00:00",
          "user": "mpacer"
         },
         {
          "comments": 9.5,
          "date": "2016-11-06T00:00:00",
          "user": "mpacer"
         },
         {
          "comments": 3.5,
          "date": "2016-11-13T00:00:00",
          "user": "mpacer"
         },
         {
          "comments": 6.0,
          "date": "2016-11-20T00:00:00",
          "user": "mpacer"
         },
         {
          "comments": 8.0,
          "date": "2016-11-27T00:00:00",
          "user": "mpacer"
         },
         {
          "comments": 8.0,
          "date": "2016-12-04T00:00:00",
          "user": "mpacer"
         },
         {
          "comments": 29.0,
          "date": "2016-12-11T00:00:00",
          "user": "mpacer"
         },
         {
          "comments": 37.0,
          "date": "2016-12-18T00:00:00",
          "user": "mpacer"
         },
         {
          "comments": 21.0,
          "date": "2016-12-25T00:00:00",
          "user": "mpacer"
         },
         {
          "comments": 11.5,
          "date": "2017-01-01T00:00:00",
          "user": "mpacer"
         },
         {
          "comments": 15.5,
          "date": "2017-01-08T00:00:00",
          "user": "mpacer"
         },
         {
          "comments": 16.5,
          "date": "2017-01-15T00:00:00",
          "user": "mpacer"
         },
         {
          "comments": 11.5,
          "date": "2017-01-22T00:00:00",
          "user": "mpacer"
         },
         {
          "comments": 12.0,
          "date": "2017-01-29T00:00:00",
          "user": "mpacer"
         },
         {
          "comments": 4.5,
          "date": "2017-02-05T00:00:00",
          "user": "mpacer"
         },
         {
          "comments": 2.5,
          "date": "2017-02-19T00:00:00",
          "user": "mpacer"
         },
         {
          "comments": 6.0,
          "date": "2017-02-26T00:00:00",
          "user": "mpacer"
         },
         {
          "comments": 7.0,
          "date": "2017-03-05T00:00:00",
          "user": "mpacer"
         },
         {
          "comments": 6.0,
          "date": "2017-03-12T00:00:00",
          "user": "mpacer"
         },
         {
          "comments": 7.0,
          "date": "2017-03-26T00:00:00",
          "user": "mpacer"
         },
         {
          "comments": 7.0,
          "date": "2017-04-02T00:00:00",
          "user": "mpacer"
         },
         {
          "comments": 9.0,
          "date": "2017-04-09T00:00:00",
          "user": "mpacer"
         },
         {
          "comments": 6.0,
          "date": "2017-04-16T00:00:00",
          "user": "mpacer"
         },
         {
          "comments": 5.0,
          "date": "2017-04-23T00:00:00",
          "user": "mpacer"
         },
         {
          "comments": 7.5,
          "date": "2017-04-30T00:00:00",
          "user": "mpacer"
         },
         {
          "comments": 3.5,
          "date": "2017-05-07T00:00:00",
          "user": "mpacer"
         },
         {
          "comments": 2.0,
          "date": "2017-05-14T00:00:00",
          "user": "mpacer"
         },
         {
          "comments": 8.0,
          "date": "2017-05-21T00:00:00",
          "user": "mpacer"
         },
         {
          "comments": 14.5,
          "date": "2017-05-28T00:00:00",
          "user": "mpacer"
         },
         {
          "comments": 10.5,
          "date": "2017-06-04T00:00:00",
          "user": "mpacer"
         },
         {
          "comments": 3.5,
          "date": "2017-06-11T00:00:00",
          "user": "mpacer"
         },
         {
          "comments": 6.5,
          "date": "2017-06-25T00:00:00",
          "user": "mpacer"
         },
         {
          "comments": 9.0,
          "date": "2017-07-02T00:00:00",
          "user": "mpacer"
         },
         {
          "comments": 6.5,
          "date": "2017-07-09T00:00:00",
          "user": "mpacer"
         },
         {
          "comments": 3.5,
          "date": "2017-07-16T00:00:00",
          "user": "mpacer"
         },
         {
          "comments": 3.0,
          "date": "2017-07-23T00:00:00",
          "user": "mpacer"
         },
         {
          "comments": 5.0,
          "date": "2017-07-30T00:00:00",
          "user": "mpacer"
         },
         {
          "comments": 6.0,
          "date": "2017-08-06T00:00:00",
          "user": "mpacer"
         },
         {
          "comments": 11.5,
          "date": "2017-08-13T00:00:00",
          "user": "mpacer"
         },
         {
          "comments": 19.5,
          "date": "2017-08-20T00:00:00",
          "user": "mpacer"
         },
         {
          "comments": 15.5,
          "date": "2017-08-27T00:00:00",
          "user": "mpacer"
         },
         {
          "comments": 7.0,
          "date": "2017-09-03T00:00:00",
          "user": "mpacer"
         },
         {
          "comments": 8.0,
          "date": "2017-09-10T00:00:00",
          "user": "mpacer"
         },
         {
          "comments": 12.0,
          "date": "2017-09-17T00:00:00",
          "user": "mpacer"
         },
         {
          "comments": 7.5,
          "date": "2017-09-24T00:00:00",
          "user": "mpacer"
         },
         {
          "comments": 4.0,
          "date": "2017-10-08T00:00:00",
          "user": "mpacer"
         },
         {
          "comments": 8.0,
          "date": "2017-10-15T00:00:00",
          "user": "mpacer"
         },
         {
          "comments": 6.0,
          "date": "2017-10-22T00:00:00",
          "user": "mpacer"
         },
         {
          "comments": 10.5,
          "date": "2017-10-29T00:00:00",
          "user": "mpacer"
         },
         {
          "comments": 9.5,
          "date": "2017-11-05T00:00:00",
          "user": "mpacer"
         },
         {
          "comments": 1.0,
          "date": "2017-11-12T00:00:00",
          "user": "mpacer"
         },
         {
          "comments": 3.0,
          "date": "2017-11-19T00:00:00",
          "user": "mpacer"
         },
         {
          "comments": 9.0,
          "date": "2017-12-10T00:00:00",
          "user": "mpacer"
         },
         {
          "comments": 7.5,
          "date": "2017-12-17T00:00:00",
          "user": "mpacer"
         },
         {
          "comments": 6.5,
          "date": "2017-12-31T00:00:00",
          "user": "mpacer"
         },
         {
          "comments": 12.0,
          "date": "2018-01-14T00:00:00",
          "user": "mpacer"
         },
         {
          "comments": 8.5,
          "date": "2018-01-21T00:00:00",
          "user": "mpacer"
         },
         {
          "comments": 6.0,
          "date": "2018-01-28T00:00:00",
          "user": "mpacer"
         },
         {
          "comments": 6.0,
          "date": "2018-02-04T00:00:00",
          "user": "mpacer"
         },
         {
          "comments": 6.0,
          "date": "2018-02-11T00:00:00",
          "user": "mpacer"
         },
         {
          "comments": 4.5,
          "date": "2018-02-18T00:00:00",
          "user": "mpacer"
         },
         {
          "comments": 5.5,
          "date": "2018-03-04T00:00:00",
          "user": "mpacer"
         },
         {
          "comments": 5.5,
          "date": "2018-03-18T00:00:00",
          "user": "mpacer"
         },
         {
          "comments": 4.0,
          "date": "2018-03-25T00:00:00",
          "user": "mpacer"
         },
         {
          "comments": 6.5,
          "date": "2018-05-20T00:00:00",
          "user": "mpacer"
         },
         {
          "comments": 4.5,
          "date": "2018-06-10T00:00:00",
          "user": "mpacer"
         },
         {
          "comments": 2.0,
          "date": "2018-06-17T00:00:00",
          "user": "mpacer"
         },
         {
          "comments": 1.5,
          "date": "2018-08-26T00:00:00",
          "user": "mpacer"
         },
         {
          "comments": 2.5,
          "date": "2018-09-02T00:00:00",
          "user": "mpacer"
         },
         {
          "comments": 6.0,
          "date": "2018-09-09T00:00:00",
          "user": "mpacer"
         },
         {
          "comments": 7.0,
          "date": "2018-09-16T00:00:00",
          "user": "mpacer"
         },
         {
          "comments": 3.0,
          "date": "2018-11-04T00:00:00",
          "user": "mpacer"
         },
         {
          "comments": 1.0,
          "date": "2018-12-09T00:00:00",
          "user": "mpacer"
         },
         {
          "comments": 1.0,
          "date": "2018-12-16T00:00:00",
          "user": "mpacer"
         },
         {
          "comments": 2.0,
          "date": "2017-05-21T00:00:00",
          "user": "mscuthbert"
         },
         {
          "comments": 2.5,
          "date": "2017-05-28T00:00:00",
          "user": "mscuthbert"
         },
         {
          "comments": 2.0,
          "date": "2017-06-04T00:00:00",
          "user": "mscuthbert"
         },
         {
          "comments": 1.5,
          "date": "2017-06-11T00:00:00",
          "user": "mscuthbert"
         },
         {
          "comments": 3.5,
          "date": "2017-06-25T00:00:00",
          "user": "mscuthbert"
         },
         {
          "comments": 3.5,
          "date": "2017-07-02T00:00:00",
          "user": "mscuthbert"
         },
         {
          "comments": 4.0,
          "date": "2016-07-24T00:00:00",
          "user": "soamaven"
         },
         {
          "comments": 2.5,
          "date": "2016-07-31T00:00:00",
          "user": "soamaven"
         },
         {
          "comments": 3.5,
          "date": "2016-08-07T00:00:00",
          "user": "soamaven"
         },
         {
          "comments": 2.0,
          "date": "2016-08-14T00:00:00",
          "user": "soamaven"
         },
         {
          "comments": 1.0,
          "date": "2016-11-06T00:00:00",
          "user": "soamaven"
         },
         {
          "comments": 1.0,
          "date": "2017-10-15T00:00:00",
          "user": "t-makaro"
         },
         {
          "comments": 2.5,
          "date": "2017-10-22T00:00:00",
          "user": "t-makaro"
         },
         {
          "comments": 2.5,
          "date": "2017-11-19T00:00:00",
          "user": "t-makaro"
         },
         {
          "comments": 1.0,
          "date": "2017-12-17T00:00:00",
          "user": "t-makaro"
         },
         {
          "comments": 1.0,
          "date": "2017-12-31T00:00:00",
          "user": "t-makaro"
         },
         {
          "comments": 2.0,
          "date": "2018-02-04T00:00:00",
          "user": "t-makaro"
         },
         {
          "comments": 2.0,
          "date": "2018-03-04T00:00:00",
          "user": "t-makaro"
         },
         {
          "comments": 2.0,
          "date": "2018-05-20T00:00:00",
          "user": "t-makaro"
         },
         {
          "comments": 4.0,
          "date": "2018-06-24T00:00:00",
          "user": "t-makaro"
         },
         {
          "comments": 5.5,
          "date": "2018-07-08T00:00:00",
          "user": "t-makaro"
         },
         {
          "comments": 4.0,
          "date": "2018-07-15T00:00:00",
          "user": "t-makaro"
         },
         {
          "comments": 4.0,
          "date": "2018-08-26T00:00:00",
          "user": "t-makaro"
         },
         {
          "comments": 10.0,
          "date": "2018-09-02T00:00:00",
          "user": "t-makaro"
         },
         {
          "comments": 8.0,
          "date": "2018-09-09T00:00:00",
          "user": "t-makaro"
         },
         {
          "comments": 4.0,
          "date": "2018-09-16T00:00:00",
          "user": "t-makaro"
         },
         {
          "comments": 4.0,
          "date": "2018-09-23T00:00:00",
          "user": "t-makaro"
         },
         {
          "comments": 2.0,
          "date": "2018-09-30T00:00:00",
          "user": "t-makaro"
         },
         {
          "comments": 1.5,
          "date": "2018-10-07T00:00:00",
          "user": "t-makaro"
         },
         {
          "comments": 1.5,
          "date": "2018-10-14T00:00:00",
          "user": "t-makaro"
         },
         {
          "comments": 1.5,
          "date": "2018-11-11T00:00:00",
          "user": "t-makaro"
         },
         {
          "comments": 1.0,
          "date": "2018-11-25T00:00:00",
          "user": "t-makaro"
         },
         {
          "comments": 1.0,
          "date": "2019-01-20T00:00:00",
          "user": "t-makaro"
         },
         {
          "comments": 1.0,
          "date": "2019-01-27T00:00:00",
          "user": "t-makaro"
         },
         {
          "comments": 1.0,
          "date": "2019-02-03T00:00:00",
          "user": "t-makaro"
         },
         {
          "comments": 5.5,
          "date": "2016-01-17T00:00:00",
          "user": "takluyver"
         },
         {
          "comments": 13.5,
          "date": "2016-01-24T00:00:00",
          "user": "takluyver"
         },
         {
          "comments": 16.5,
          "date": "2016-01-31T00:00:00",
          "user": "takluyver"
         },
         {
          "comments": 17.5,
          "date": "2016-02-07T00:00:00",
          "user": "takluyver"
         },
         {
          "comments": 21.5,
          "date": "2016-02-14T00:00:00",
          "user": "takluyver"
         },
         {
          "comments": 21.0,
          "date": "2016-02-21T00:00:00",
          "user": "takluyver"
         },
         {
          "comments": 17.5,
          "date": "2016-02-28T00:00:00",
          "user": "takluyver"
         },
         {
          "comments": 6.5,
          "date": "2016-03-06T00:00:00",
          "user": "takluyver"
         },
         {
          "comments": 1.5,
          "date": "2016-03-13T00:00:00",
          "user": "takluyver"
         },
         {
          "comments": 1.5,
          "date": "2016-03-20T00:00:00",
          "user": "takluyver"
         },
         {
          "comments": 1.0,
          "date": "2016-03-27T00:00:00",
          "user": "takluyver"
         },
         {
          "comments": 3.5,
          "date": "2016-04-03T00:00:00",
          "user": "takluyver"
         },
         {
          "comments": 4.5,
          "date": "2016-04-10T00:00:00",
          "user": "takluyver"
         },
         {
          "comments": 2.5,
          "date": "2016-04-17T00:00:00",
          "user": "takluyver"
         },
         {
          "comments": 4.5,
          "date": "2016-04-24T00:00:00",
          "user": "takluyver"
         },
         {
          "comments": 5.0,
          "date": "2016-05-01T00:00:00",
          "user": "takluyver"
         },
         {
          "comments": 4.0,
          "date": "2016-05-08T00:00:00",
          "user": "takluyver"
         },
         {
          "comments": 3.0,
          "date": "2016-05-15T00:00:00",
          "user": "takluyver"
         },
         {
          "comments": 1.0,
          "date": "2016-05-22T00:00:00",
          "user": "takluyver"
         },
         {
          "comments": 2.0,
          "date": "2016-05-29T00:00:00",
          "user": "takluyver"
         },
         {
          "comments": 2.5,
          "date": "2016-06-05T00:00:00",
          "user": "takluyver"
         },
         {
          "comments": 2.5,
          "date": "2016-06-19T00:00:00",
          "user": "takluyver"
         },
         {
          "comments": 3.0,
          "date": "2016-06-26T00:00:00",
          "user": "takluyver"
         },
         {
          "comments": 6.5,
          "date": "2016-07-03T00:00:00",
          "user": "takluyver"
         },
         {
          "comments": 11.0,
          "date": "2016-07-17T00:00:00",
          "user": "takluyver"
         },
         {
          "comments": 8.5,
          "date": "2016-07-24T00:00:00",
          "user": "takluyver"
         },
         {
          "comments": 6.0,
          "date": "2016-07-31T00:00:00",
          "user": "takluyver"
         },
         {
          "comments": 4.5,
          "date": "2016-08-07T00:00:00",
          "user": "takluyver"
         },
         {
          "comments": 12.0,
          "date": "2016-08-14T00:00:00",
          "user": "takluyver"
         },
         {
          "comments": 21.5,
          "date": "2016-08-21T00:00:00",
          "user": "takluyver"
         },
         {
          "comments": 15.0,
          "date": "2016-08-28T00:00:00",
          "user": "takluyver"
         },
         {
          "comments": 9.0,
          "date": "2016-09-04T00:00:00",
          "user": "takluyver"
         },
         {
          "comments": 15.0,
          "date": "2016-09-18T00:00:00",
          "user": "takluyver"
         },
         {
          "comments": 15.0,
          "date": "2016-09-25T00:00:00",
          "user": "takluyver"
         },
         {
          "comments": 8.0,
          "date": "2016-10-02T00:00:00",
          "user": "takluyver"
         },
         {
          "comments": 5.5,
          "date": "2016-10-09T00:00:00",
          "user": "takluyver"
         },
         {
          "comments": 4.0,
          "date": "2016-10-16T00:00:00",
          "user": "takluyver"
         },
         {
          "comments": 3.0,
          "date": "2016-10-23T00:00:00",
          "user": "takluyver"
         },
         {
          "comments": 1.5,
          "date": "2016-10-30T00:00:00",
          "user": "takluyver"
         },
         {
          "comments": 2.5,
          "date": "2016-11-06T00:00:00",
          "user": "takluyver"
         },
         {
          "comments": 6.5,
          "date": "2016-11-13T00:00:00",
          "user": "takluyver"
         },
         {
          "comments": 7.0,
          "date": "2016-11-20T00:00:00",
          "user": "takluyver"
         },
         {
          "comments": 3.5,
          "date": "2016-11-27T00:00:00",
          "user": "takluyver"
         },
         {
          "comments": 3.5,
          "date": "2016-12-04T00:00:00",
          "user": "takluyver"
         },
         {
          "comments": 3.5,
          "date": "2016-12-11T00:00:00",
          "user": "takluyver"
         },
         {
          "comments": 4.5,
          "date": "2016-12-18T00:00:00",
          "user": "takluyver"
         },
         {
          "comments": 7.5,
          "date": "2016-12-25T00:00:00",
          "user": "takluyver"
         },
         {
          "comments": 5.0,
          "date": "2017-01-01T00:00:00",
          "user": "takluyver"
         },
         {
          "comments": 2.0,
          "date": "2017-01-08T00:00:00",
          "user": "takluyver"
         },
         {
          "comments": 4.0,
          "date": "2017-01-15T00:00:00",
          "user": "takluyver"
         },
         {
          "comments": 7.0,
          "date": "2017-01-22T00:00:00",
          "user": "takluyver"
         },
         {
          "comments": 10.5,
          "date": "2017-01-29T00:00:00",
          "user": "takluyver"
         },
         {
          "comments": 9.0,
          "date": "2017-02-05T00:00:00",
          "user": "takluyver"
         },
         {
          "comments": 6.0,
          "date": "2017-02-12T00:00:00",
          "user": "takluyver"
         },
         {
          "comments": 5.5,
          "date": "2017-02-19T00:00:00",
          "user": "takluyver"
         },
         {
          "comments": 5.0,
          "date": "2017-02-26T00:00:00",
          "user": "takluyver"
         },
         {
          "comments": 3.5,
          "date": "2017-03-19T00:00:00",
          "user": "takluyver"
         },
         {
          "comments": 3.5,
          "date": "2017-03-26T00:00:00",
          "user": "takluyver"
         },
         {
          "comments": 3.5,
          "date": "2017-04-02T00:00:00",
          "user": "takluyver"
         },
         {
          "comments": 3.0,
          "date": "2017-04-09T00:00:00",
          "user": "takluyver"
         },
         {
          "comments": 3.0,
          "date": "2017-04-16T00:00:00",
          "user": "takluyver"
         },
         {
          "comments": 5.0,
          "date": "2017-04-23T00:00:00",
          "user": "takluyver"
         },
         {
          "comments": 7.5,
          "date": "2017-04-30T00:00:00",
          "user": "takluyver"
         },
         {
          "comments": 4.5,
          "date": "2017-05-07T00:00:00",
          "user": "takluyver"
         },
         {
          "comments": 5.5,
          "date": "2017-05-21T00:00:00",
          "user": "takluyver"
         },
         {
          "comments": 7.0,
          "date": "2017-05-28T00:00:00",
          "user": "takluyver"
         },
         {
          "comments": 4.5,
          "date": "2017-06-04T00:00:00",
          "user": "takluyver"
         },
         {
          "comments": 2.0,
          "date": "2017-06-18T00:00:00",
          "user": "takluyver"
         },
         {
          "comments": 2.5,
          "date": "2017-06-25T00:00:00",
          "user": "takluyver"
         },
         {
          "comments": 3.0,
          "date": "2017-07-09T00:00:00",
          "user": "takluyver"
         },
         {
          "comments": 3.0,
          "date": "2017-07-16T00:00:00",
          "user": "takluyver"
         },
         {
          "comments": 3.5,
          "date": "2017-07-23T00:00:00",
          "user": "takluyver"
         },
         {
          "comments": 3.5,
          "date": "2017-07-30T00:00:00",
          "user": "takluyver"
         },
         {
          "comments": 7.5,
          "date": "2017-08-06T00:00:00",
          "user": "takluyver"
         },
         {
          "comments": 11.0,
          "date": "2017-08-13T00:00:00",
          "user": "takluyver"
         },
         {
          "comments": 7.0,
          "date": "2017-08-20T00:00:00",
          "user": "takluyver"
         },
         {
          "comments": 6.5,
          "date": "2017-08-27T00:00:00",
          "user": "takluyver"
         },
         {
          "comments": 6.0,
          "date": "2017-09-03T00:00:00",
          "user": "takluyver"
         },
         {
          "comments": 1.5,
          "date": "2017-09-10T00:00:00",
          "user": "takluyver"
         },
         {
          "comments": 5.0,
          "date": "2017-09-17T00:00:00",
          "user": "takluyver"
         },
         {
          "comments": 5.0,
          "date": "2017-09-24T00:00:00",
          "user": "takluyver"
         },
         {
          "comments": 2.0,
          "date": "2017-10-01T00:00:00",
          "user": "takluyver"
         },
         {
          "comments": 2.5,
          "date": "2017-10-08T00:00:00",
          "user": "takluyver"
         },
         {
          "comments": 3.5,
          "date": "2017-10-15T00:00:00",
          "user": "takluyver"
         },
         {
          "comments": 5.0,
          "date": "2017-10-22T00:00:00",
          "user": "takluyver"
         },
         {
          "comments": 4.0,
          "date": "2017-10-29T00:00:00",
          "user": "takluyver"
         },
         {
          "comments": 2.5,
          "date": "2017-11-05T00:00:00",
          "user": "takluyver"
         },
         {
          "comments": 1.5,
          "date": "2017-11-12T00:00:00",
          "user": "takluyver"
         },
         {
          "comments": 3.5,
          "date": "2017-11-19T00:00:00",
          "user": "takluyver"
         },
         {
          "comments": 3.5,
          "date": "2017-12-03T00:00:00",
          "user": "takluyver"
         },
         {
          "comments": 6.5,
          "date": "2017-12-10T00:00:00",
          "user": "takluyver"
         },
         {
          "comments": 6.5,
          "date": "2017-12-17T00:00:00",
          "user": "takluyver"
         },
         {
          "comments": 1.0,
          "date": "2017-12-24T00:00:00",
          "user": "takluyver"
         },
         {
          "comments": 4.0,
          "date": "2018-01-07T00:00:00",
          "user": "takluyver"
         },
         {
          "comments": 5.5,
          "date": "2018-01-14T00:00:00",
          "user": "takluyver"
         },
         {
          "comments": 11.5,
          "date": "2018-01-21T00:00:00",
          "user": "takluyver"
         },
         {
          "comments": 16.0,
          "date": "2018-01-28T00:00:00",
          "user": "takluyver"
         },
         {
          "comments": 9.0,
          "date": "2018-02-04T00:00:00",
          "user": "takluyver"
         },
         {
          "comments": 5.5,
          "date": "2018-02-11T00:00:00",
          "user": "takluyver"
         },
         {
          "comments": 4.5,
          "date": "2018-02-18T00:00:00",
          "user": "takluyver"
         },
         {
          "comments": 5.5,
          "date": "2018-03-04T00:00:00",
          "user": "takluyver"
         },
         {
          "comments": 6.5,
          "date": "2018-03-11T00:00:00",
          "user": "takluyver"
         },
         {
          "comments": 4.5,
          "date": "2018-03-25T00:00:00",
          "user": "takluyver"
         },
         {
          "comments": 4.5,
          "date": "2018-04-08T00:00:00",
          "user": "takluyver"
         },
         {
          "comments": 4.0,
          "date": "2018-04-15T00:00:00",
          "user": "takluyver"
         },
         {
          "comments": 3.0,
          "date": "2018-04-22T00:00:00",
          "user": "takluyver"
         },
         {
          "comments": 2.5,
          "date": "2018-04-29T00:00:00",
          "user": "takluyver"
         },
         {
          "comments": 4.5,
          "date": "2018-05-06T00:00:00",
          "user": "takluyver"
         },
         {
          "comments": 5.5,
          "date": "2018-05-27T00:00:00",
          "user": "takluyver"
         },
         {
          "comments": 2.5,
          "date": "2018-06-03T00:00:00",
          "user": "takluyver"
         },
         {
          "comments": 1.0,
          "date": "2018-06-10T00:00:00",
          "user": "takluyver"
         },
         {
          "comments": 1.0,
          "date": "2018-06-17T00:00:00",
          "user": "takluyver"
         },
         {
          "comments": 1.5,
          "date": "2018-06-24T00:00:00",
          "user": "takluyver"
         },
         {
          "comments": 3.0,
          "date": "2018-07-15T00:00:00",
          "user": "takluyver"
         },
         {
          "comments": 3.5,
          "date": "2018-07-22T00:00:00",
          "user": "takluyver"
         },
         {
          "comments": 2.0,
          "date": "2018-08-12T00:00:00",
          "user": "takluyver"
         },
         {
          "comments": 1.0,
          "date": "2018-09-09T00:00:00",
          "user": "takluyver"
         },
         {
          "comments": 2.0,
          "date": "2018-10-28T00:00:00",
          "user": "takluyver"
         },
         {
          "comments": 5.5,
          "date": "2018-11-11T00:00:00",
          "user": "takluyver"
         },
         {
          "comments": 6.0,
          "date": "2018-11-18T00:00:00",
          "user": "takluyver"
         },
         {
          "comments": 3.5,
          "date": "2019-01-13T00:00:00",
          "user": "takluyver"
         },
         {
          "comments": 2.0,
          "date": "2019-01-20T00:00:00",
          "user": "takluyver"
         },
         {
          "comments": 3.5,
          "date": "2019-02-03T00:00:00",
          "user": "takluyver"
         },
         {
          "comments": 4.0,
          "date": "2019-02-10T00:00:00",
          "user": "takluyver"
         },
         {
          "comments": 6.5,
          "date": "2016-01-24T00:00:00",
          "user": "tritemio"
         },
         {
          "comments": 1.0,
          "date": "2016-05-01T00:00:00",
          "user": "tritemio"
         },
         {
          "comments": 1.0,
          "date": "2016-09-11T00:00:00",
          "user": "tritemio"
         },
         {
          "comments": 1.0,
          "date": "2016-09-18T00:00:00",
          "user": "tritemio"
         },
         {
          "comments": 1.5,
          "date": "2017-07-16T00:00:00",
          "user": "tritemio"
         },
         {
          "comments": 1.5,
          "date": "2017-07-30T00:00:00",
          "user": "tritemio"
         },
         {
          "comments": 6.0,
          "date": "2016-01-17T00:00:00",
          "user": "willingc"
         },
         {
          "comments": 6.0,
          "date": "2016-01-24T00:00:00",
          "user": "willingc"
         },
         {
          "comments": 6.5,
          "date": "2016-01-31T00:00:00",
          "user": "willingc"
         },
         {
          "comments": 5.5,
          "date": "2016-02-07T00:00:00",
          "user": "willingc"
         },
         {
          "comments": 1.0,
          "date": "2016-03-06T00:00:00",
          "user": "willingc"
         },
         {
          "comments": 2.5,
          "date": "2016-03-13T00:00:00",
          "user": "willingc"
         },
         {
          "comments": 3.5,
          "date": "2016-03-20T00:00:00",
          "user": "willingc"
         },
         {
          "comments": 2.0,
          "date": "2016-04-10T00:00:00",
          "user": "willingc"
         },
         {
          "comments": 3.5,
          "date": "2016-07-24T00:00:00",
          "user": "willingc"
         },
         {
          "comments": 3.5,
          "date": "2016-07-31T00:00:00",
          "user": "willingc"
         },
         {
          "comments": 1.0,
          "date": "2016-08-14T00:00:00",
          "user": "willingc"
         },
         {
          "comments": 1.0,
          "date": "2016-08-28T00:00:00",
          "user": "willingc"
         },
         {
          "comments": 6.0,
          "date": "2016-09-04T00:00:00",
          "user": "willingc"
         },
         {
          "comments": 6.0,
          "date": "2016-09-11T00:00:00",
          "user": "willingc"
         },
         {
          "comments": 4.5,
          "date": "2016-09-18T00:00:00",
          "user": "willingc"
         },
         {
          "comments": 8.5,
          "date": "2016-10-09T00:00:00",
          "user": "willingc"
         },
         {
          "comments": 6.0,
          "date": "2016-10-16T00:00:00",
          "user": "willingc"
         },
         {
          "comments": 2.0,
          "date": "2016-11-06T00:00:00",
          "user": "willingc"
         },
         {
          "comments": 1.5,
          "date": "2016-12-11T00:00:00",
          "user": "willingc"
         },
         {
          "comments": 3.0,
          "date": "2016-12-18T00:00:00",
          "user": "willingc"
         },
         {
          "comments": 2.5,
          "date": "2017-01-22T00:00:00",
          "user": "willingc"
         },
         {
          "comments": 1.5,
          "date": "2017-01-29T00:00:00",
          "user": "willingc"
         },
         {
          "comments": 2.5,
          "date": "2017-02-05T00:00:00",
          "user": "willingc"
         },
         {
          "comments": 2.0,
          "date": "2017-05-21T00:00:00",
          "user": "willingc"
         },
         {
          "comments": 1.0,
          "date": "2017-06-25T00:00:00",
          "user": "willingc"
         },
         {
          "comments": 1.0,
          "date": "2018-01-21T00:00:00",
          "user": "willingc"
         }
        ]
       },
       "layer": [
        {
         "data": {
          "name": "data-8073d5d5b49de32b074623f9d55fafff"
         },
         "encoding": {
          "color": {
           "field": "user",
           "type": "nominal"
          },
          "opacity": {
           "value": 0
          },
          "tooltip": {
           "field": "user",
           "type": "nominal"
          },
          "x": {
           "field": "date",
           "scale": {
            "domain": [
             "2016-01-01",
             "2019-02-01"
            ]
           },
           "type": "temporal"
          },
          "y": {
           "field": "comments",
           "type": "quantitative"
          }
         },
         "mark": {
          "clip": true,
          "type": "circle"
         },
         "selection": {
          "selector001": {
           "fields": [
            "user"
           ],
           "nearest": true,
           "on": "mouseover",
           "type": "single"
          }
         },
         "width": 1000
        },
        {
         "data": {
          "name": "data-8073d5d5b49de32b074623f9d55fafff"
         },
         "encoding": {
          "color": {
           "condition": {
            "field": "user",
            "selection": "selector001",
            "type": "nominal"
           },
           "value": "lightgray"
          },
          "size": {
           "condition": {
            "selection": {
             "not": "selector001"
            },
            "value": 1
           },
           "value": 4
          },
          "tooltip": {
           "field": "user",
           "type": "nominal"
          },
          "x": {
           "field": "date",
           "scale": {
            "domain": [
             "2016-01-01",
             "2019-02-01"
            ]
           },
           "type": "temporal"
          },
          "y": {
           "field": "comments",
           "type": "quantitative"
          }
         },
         "mark": {
          "clip": true,
          "type": "line"
         },
         "width": 1000
        }
       ]
      },
      "text/plain": [
       "<VegaLite 2 object>\n",
       "\n",
       "If you see this message, it means the renderer has not been properly enabled\n",
       "for the frontend that you are using. For more information, see\n",
       "https://altair-viz.github.io/user_guide/troubleshooting.html\n"
      ]
     },
     "execution_count": 14,
     "metadata": {},
     "output_type": "execute_result"
    }
   ],
   "source": [
    "selectable_line_plot(user_data.reset_index(), 'date', 'comments', 'user')"
   ]
  },
  {
   "cell_type": "code",
   "execution_count": 15,
   "metadata": {
    "papermill": {
     "duration": 0.247389,
     "end_time": "2019-02-14T22:40:09.560339",
     "exception": false,
     "start_time": "2019-02-14T22:40:09.312950",
     "status": "completed"
    },
    "tags": []
   },
   "outputs": [
    {
     "data": {
      "application/vnd.vegalite.v2+json": {
       "$schema": "https://vega.github.io/schema/vega-lite/v2.6.0.json",
       "config": {
        "view": {
         "height": 300,
         "width": 400
        }
       },
       "data": {
        "name": "data-db262db296f68f5cadb3d23870c8f09f"
       },
       "datasets": {
        "data-db262db296f68f5cadb3d23870c8f09f": [
         {
          "comments": 1.0,
          "date": "2015-10-11T00:00:00"
         },
         {
          "comments": 1.0,
          "date": "2015-10-18T00:00:00"
         },
         {
          "comments": 3.5,
          "date": "2015-12-13T00:00:00"
         },
         {
          "comments": 3.5,
          "date": "2016-01-03T00:00:00"
         },
         {
          "comments": 3.5,
          "date": "2016-01-10T00:00:00"
         },
         {
          "comments": 24.0,
          "date": "2016-01-17T00:00:00"
         },
         {
          "comments": 41.5,
          "date": "2016-01-24T00:00:00"
         },
         {
          "comments": 42.5,
          "date": "2016-01-31T00:00:00"
         },
         {
          "comments": 50.0,
          "date": "2016-02-07T00:00:00"
         },
         {
          "comments": 50.0,
          "date": "2016-02-14T00:00:00"
         },
         {
          "comments": 39.0,
          "date": "2016-02-21T00:00:00"
         },
         {
          "comments": 39.5,
          "date": "2016-02-28T00:00:00"
         },
         {
          "comments": 19.0,
          "date": "2016-03-06T00:00:00"
         },
         {
          "comments": 17.5,
          "date": "2016-03-13T00:00:00"
         },
         {
          "comments": 10.5,
          "date": "2016-03-20T00:00:00"
         },
         {
          "comments": 6.0,
          "date": "2016-03-27T00:00:00"
         },
         {
          "comments": 6.0,
          "date": "2016-04-03T00:00:00"
         },
         {
          "comments": 23.0,
          "date": "2016-04-10T00:00:00"
         },
         {
          "comments": 16.5,
          "date": "2016-04-17T00:00:00"
         },
         {
          "comments": 8.0,
          "date": "2016-04-24T00:00:00"
         },
         {
          "comments": 9.0,
          "date": "2016-05-01T00:00:00"
         },
         {
          "comments": 9.0,
          "date": "2016-05-08T00:00:00"
         },
         {
          "comments": 9.5,
          "date": "2016-05-15T00:00:00"
         },
         {
          "comments": 4.0,
          "date": "2016-05-22T00:00:00"
         },
         {
          "comments": 4.0,
          "date": "2016-05-29T00:00:00"
         },
         {
          "comments": 6.5,
          "date": "2016-06-05T00:00:00"
         },
         {
          "comments": 2.5,
          "date": "2016-06-19T00:00:00"
         },
         {
          "comments": 4.5,
          "date": "2016-06-26T00:00:00"
         },
         {
          "comments": 8.5,
          "date": "2016-07-03T00:00:00"
         },
         {
          "comments": 1.0,
          "date": "2016-07-10T00:00:00"
         },
         {
          "comments": 23.5,
          "date": "2016-07-17T00:00:00"
         },
         {
          "comments": 28.0,
          "date": "2016-07-24T00:00:00"
         },
         {
          "comments": 18.0,
          "date": "2016-07-31T00:00:00"
         },
         {
          "comments": 21.0,
          "date": "2016-08-07T00:00:00"
         },
         {
          "comments": 36.5,
          "date": "2016-08-14T00:00:00"
         },
         {
          "comments": 62.0,
          "date": "2016-08-21T00:00:00"
         },
         {
          "comments": 42.5,
          "date": "2016-08-28T00:00:00"
         },
         {
          "comments": 37.0,
          "date": "2016-09-04T00:00:00"
         },
         {
          "comments": 39.0,
          "date": "2016-09-11T00:00:00"
         },
         {
          "comments": 73.0,
          "date": "2016-09-18T00:00:00"
         },
         {
          "comments": 83.0,
          "date": "2016-09-25T00:00:00"
         },
         {
          "comments": 47.0,
          "date": "2016-10-02T00:00:00"
         },
         {
          "comments": 47.0,
          "date": "2016-10-09T00:00:00"
         },
         {
          "comments": 39.5,
          "date": "2016-10-16T00:00:00"
         },
         {
          "comments": 29.0,
          "date": "2016-10-23T00:00:00"
         },
         {
          "comments": 5.5,
          "date": "2016-10-30T00:00:00"
         },
         {
          "comments": 16.0,
          "date": "2016-11-06T00:00:00"
         },
         {
          "comments": 10.0,
          "date": "2016-11-13T00:00:00"
         },
         {
          "comments": 14.5,
          "date": "2016-11-20T00:00:00"
         },
         {
          "comments": 15.0,
          "date": "2016-11-27T00:00:00"
         },
         {
          "comments": 11.5,
          "date": "2016-12-04T00:00:00"
         },
         {
          "comments": 39.5,
          "date": "2016-12-11T00:00:00"
         },
         {
          "comments": 63.5,
          "date": "2016-12-18T00:00:00"
         },
         {
          "comments": 33.0,
          "date": "2016-12-25T00:00:00"
         },
         {
          "comments": 16.5,
          "date": "2017-01-01T00:00:00"
         },
         {
          "comments": 19.0,
          "date": "2017-01-08T00:00:00"
         },
         {
          "comments": 25.5,
          "date": "2017-01-15T00:00:00"
         },
         {
          "comments": 25.0,
          "date": "2017-01-22T00:00:00"
         },
         {
          "comments": 31.0,
          "date": "2017-01-29T00:00:00"
         },
         {
          "comments": 22.0,
          "date": "2017-02-05T00:00:00"
         },
         {
          "comments": 8.0,
          "date": "2017-02-12T00:00:00"
         },
         {
          "comments": 9.5,
          "date": "2017-02-19T00:00:00"
         },
         {
          "comments": 14.0,
          "date": "2017-02-26T00:00:00"
         },
         {
          "comments": 9.0,
          "date": "2017-03-05T00:00:00"
         },
         {
          "comments": 6.0,
          "date": "2017-03-12T00:00:00"
         },
         {
          "comments": 4.5,
          "date": "2017-03-19T00:00:00"
         },
         {
          "comments": 16.5,
          "date": "2017-03-26T00:00:00"
         },
         {
          "comments": 16.5,
          "date": "2017-04-02T00:00:00"
         },
         {
          "comments": 17.5,
          "date": "2017-04-09T00:00:00"
         },
         {
          "comments": 12.5,
          "date": "2017-04-16T00:00:00"
         },
         {
          "comments": 12.0,
          "date": "2017-04-23T00:00:00"
         },
         {
          "comments": 16.0,
          "date": "2017-04-30T00:00:00"
         },
         {
          "comments": 9.0,
          "date": "2017-05-07T00:00:00"
         },
         {
          "comments": 3.5,
          "date": "2017-05-14T00:00:00"
         },
         {
          "comments": 21.0,
          "date": "2017-05-21T00:00:00"
         },
         {
          "comments": 29.5,
          "date": "2017-05-28T00:00:00"
         },
         {
          "comments": 31.5,
          "date": "2017-06-04T00:00:00"
         },
         {
          "comments": 24.5,
          "date": "2017-06-11T00:00:00"
         },
         {
          "comments": 7.0,
          "date": "2017-06-18T00:00:00"
         },
         {
          "comments": 15.5,
          "date": "2017-06-25T00:00:00"
         },
         {
          "comments": 12.5,
          "date": "2017-07-02T00:00:00"
         },
         {
          "comments": 12.5,
          "date": "2017-07-09T00:00:00"
         },
         {
          "comments": 10.0,
          "date": "2017-07-16T00:00:00"
         },
         {
          "comments": 10.0,
          "date": "2017-07-23T00:00:00"
         },
         {
          "comments": 11.0,
          "date": "2017-07-30T00:00:00"
         },
         {
          "comments": 15.0,
          "date": "2017-08-06T00:00:00"
         },
         {
          "comments": 24.5,
          "date": "2017-08-13T00:00:00"
         },
         {
          "comments": 28.5,
          "date": "2017-08-20T00:00:00"
         },
         {
          "comments": 23.5,
          "date": "2017-08-27T00:00:00"
         },
         {
          "comments": 13.0,
          "date": "2017-09-03T00:00:00"
         },
         {
          "comments": 13.0,
          "date": "2017-09-10T00:00:00"
         },
         {
          "comments": 22.0,
          "date": "2017-09-17T00:00:00"
         },
         {
          "comments": 12.5,
          "date": "2017-09-24T00:00:00"
         },
         {
          "comments": 2.0,
          "date": "2017-10-01T00:00:00"
         },
         {
          "comments": 6.5,
          "date": "2017-10-08T00:00:00"
         },
         {
          "comments": 15.5,
          "date": "2017-10-15T00:00:00"
         },
         {
          "comments": 13.5,
          "date": "2017-10-22T00:00:00"
         },
         {
          "comments": 21.0,
          "date": "2017-10-29T00:00:00"
         },
         {
          "comments": 13.5,
          "date": "2017-11-05T00:00:00"
         },
         {
          "comments": 2.5,
          "date": "2017-11-12T00:00:00"
         },
         {
          "comments": 9.0,
          "date": "2017-11-19T00:00:00"
         },
         {
          "comments": 1.5,
          "date": "2017-11-26T00:00:00"
         },
         {
          "comments": 4.5,
          "date": "2017-12-03T00:00:00"
         },
         {
          "comments": 15.5,
          "date": "2017-12-10T00:00:00"
         },
         {
          "comments": 15.0,
          "date": "2017-12-17T00:00:00"
         },
         {
          "comments": 1.0,
          "date": "2017-12-24T00:00:00"
         },
         {
          "comments": 7.5,
          "date": "2017-12-31T00:00:00"
         },
         {
          "comments": 5.5,
          "date": "2018-01-07T00:00:00"
         },
         {
          "comments": 19.5,
          "date": "2018-01-14T00:00:00"
         },
         {
          "comments": 26.5,
          "date": "2018-01-21T00:00:00"
         },
         {
          "comments": 31.0,
          "date": "2018-01-28T00:00:00"
         },
         {
          "comments": 18.5,
          "date": "2018-02-04T00:00:00"
         },
         {
          "comments": 13.5,
          "date": "2018-02-11T00:00:00"
         },
         {
          "comments": 10.5,
          "date": "2018-02-18T00:00:00"
         },
         {
          "comments": 17.5,
          "date": "2018-03-04T00:00:00"
         },
         {
          "comments": 6.5,
          "date": "2018-03-11T00:00:00"
         },
         {
          "comments": 5.5,
          "date": "2018-03-18T00:00:00"
         },
         {
          "comments": 9.5,
          "date": "2018-03-25T00:00:00"
         },
         {
          "comments": 6.0,
          "date": "2018-04-08T00:00:00"
         },
         {
          "comments": 4.0,
          "date": "2018-04-15T00:00:00"
         },
         {
          "comments": 3.0,
          "date": "2018-04-22T00:00:00"
         },
         {
          "comments": 4.0,
          "date": "2018-04-29T00:00:00"
         },
         {
          "comments": 4.5,
          "date": "2018-05-06T00:00:00"
         },
         {
          "comments": 10.5,
          "date": "2018-05-20T00:00:00"
         },
         {
          "comments": 6.5,
          "date": "2018-05-27T00:00:00"
         },
         {
          "comments": 3.5,
          "date": "2018-06-03T00:00:00"
         },
         {
          "comments": 5.5,
          "date": "2018-06-10T00:00:00"
         },
         {
          "comments": 3.0,
          "date": "2018-06-17T00:00:00"
         },
         {
          "comments": 5.5,
          "date": "2018-06-24T00:00:00"
         },
         {
          "comments": 5.5,
          "date": "2018-07-08T00:00:00"
         },
         {
          "comments": 7.0,
          "date": "2018-07-15T00:00:00"
         },
         {
          "comments": 3.5,
          "date": "2018-07-22T00:00:00"
         },
         {
          "comments": 1.0,
          "date": "2018-07-29T00:00:00"
         },
         {
          "comments": 22.0,
          "date": "2018-08-12T00:00:00"
         },
         {
          "comments": 8.5,
          "date": "2018-08-19T00:00:00"
         },
         {
          "comments": 6.5,
          "date": "2018-08-26T00:00:00"
         },
         {
          "comments": 41.5,
          "date": "2018-09-02T00:00:00"
         },
         {
          "comments": 48.5,
          "date": "2018-09-09T00:00:00"
         },
         {
          "comments": 21.5,
          "date": "2018-09-16T00:00:00"
         },
         {
          "comments": 12.0,
          "date": "2018-09-23T00:00:00"
         },
         {
          "comments": 2.0,
          "date": "2018-09-30T00:00:00"
         },
         {
          "comments": 6.5,
          "date": "2018-10-07T00:00:00"
         },
         {
          "comments": 1.5,
          "date": "2018-10-14T00:00:00"
         },
         {
          "comments": 4.0,
          "date": "2018-10-21T00:00:00"
         },
         {
          "comments": 9.0,
          "date": "2018-10-28T00:00:00"
         },
         {
          "comments": 10.5,
          "date": "2018-11-04T00:00:00"
         },
         {
          "comments": 10.5,
          "date": "2018-11-11T00:00:00"
         },
         {
          "comments": 12.5,
          "date": "2018-11-18T00:00:00"
         },
         {
          "comments": 7.5,
          "date": "2018-11-25T00:00:00"
         },
         {
          "comments": 1.5,
          "date": "2018-12-02T00:00:00"
         },
         {
          "comments": 14.0,
          "date": "2018-12-09T00:00:00"
         },
         {
          "comments": 14.0,
          "date": "2018-12-16T00:00:00"
         },
         {
          "comments": 3.5,
          "date": "2018-12-23T00:00:00"
         },
         {
          "comments": 1.0,
          "date": "2018-12-30T00:00:00"
         },
         {
          "comments": 3.0,
          "date": "2019-01-06T00:00:00"
         },
         {
          "comments": 4.5,
          "date": "2019-01-13T00:00:00"
         },
         {
          "comments": 6.5,
          "date": "2019-01-20T00:00:00"
         },
         {
          "comments": 3.5,
          "date": "2019-01-27T00:00:00"
         },
         {
          "comments": 9.0,
          "date": "2019-02-03T00:00:00"
         },
         {
          "comments": 12.0,
          "date": "2019-02-10T00:00:00"
         },
         {
          "comments": 1.5,
          "date": "2019-02-17T00:00:00"
         }
        ]
       },
       "encoding": {
        "x": {
         "field": "date",
         "scale": {
          "domain": [
           "2016-01-01",
           "2019-02-01"
          ]
         },
         "type": "temporal"
        },
        "y": {
         "field": "comments",
         "type": "quantitative"
        }
       },
       "mark": {
        "clip": true,
        "type": "line"
       },
       "width": 1000
      },
      "text/plain": [
       "<VegaLite 2 object>\n",
       "\n",
       "If you see this message, it means the renderer has not been properly enabled\n",
       "for the frontend that you are using. For more information, see\n",
       "https://altair-viz.github.io/user_guide/troubleshooting.html\n"
      ]
     },
     "execution_count": 15,
     "metadata": {},
     "output_type": "execute_result"
    }
   ],
   "source": [
    "# Comment totals over time\n",
    "all_user_data = user_data.reset_index().groupby('date').sum()['comments'].reset_index()\n",
    "alt.Chart(data=all_user_data, width=1000).mark_line(clip=True).encode(\n",
    "    x=alt.X('date', scale=alt.Scale(domain=[\"2016-01-01\", \"2019-02-01\"])),\n",
    "    y='comments',\n",
    ")"
   ]
  },
  {
   "cell_type": "markdown",
   "metadata": {
    "papermill": {
     "duration": 0.158359,
     "end_time": "2019-02-14T22:40:09.862792",
     "exception": false,
     "start_time": "2019-02-14T22:40:09.704433",
     "status": "completed"
    },
    "tags": []
   },
   "source": [
    "## Distribution of comments over top N contributors"
   ]
  },
  {
   "cell_type": "code",
   "execution_count": 16,
   "metadata": {
    "papermill": {
     "duration": 0.147537,
     "end_time": "2019-02-14T22:40:10.141452",
     "exception": false,
     "start_time": "2019-02-14T22:40:09.993915",
     "status": "completed"
    },
    "tags": []
   },
   "outputs": [],
   "source": [
    "# For each week, calculate the top 20 contributions, turn them into percentages, order them, store the result"
   ]
  },
  {
   "cell_type": "code",
   "execution_count": 17,
   "metadata": {
    "papermill": {
     "duration": 1.323831,
     "end_time": "2019-02-14T22:40:11.577444",
     "exception": false,
     "start_time": "2019-02-14T22:40:10.253613",
     "status": "completed"
    },
    "tags": []
   },
   "outputs": [],
   "source": [
    "monthly = weekly.groupby('user').resample('M', on='date').sum().reset_index()"
   ]
  },
  {
   "cell_type": "code",
   "execution_count": 18,
   "metadata": {
    "papermill": {
     "duration": 0.218338,
     "end_time": "2019-02-14T22:40:12.074288",
     "exception": false,
     "start_time": "2019-02-14T22:40:11.855950",
     "status": "completed"
    },
    "tags": []
   },
   "outputs": [],
   "source": [
    "n_comments_plot = 20"
   ]
  },
  {
   "cell_type": "code",
   "execution_count": 19,
   "metadata": {
    "papermill": {
     "duration": 0.317703,
     "end_time": "2019-02-14T22:40:12.512442",
     "exception": false,
     "start_time": "2019-02-14T22:40:12.194739",
     "status": "completed"
    },
    "tags": []
   },
   "outputs": [],
   "source": [
    "monthly_dist = {}\n",
    "for iweek, ivals in monthly.groupby('date'):\n",
    "    comments_dist = ivals.groupby('user').sum()['comments']\n",
    "    comments_dist = comments_dist / comments_dist.sum()\n",
    "    comments_dist = comments_dist.sort_values(ascending=False)\n",
    "    comments_placeholder = [0] * n_comments_plot\n",
    "\n",
    "    for ii, (iname, ipart) in enumerate(comments_dist.items()):\n",
    "        if ii + 1 > n_comments_plot:\n",
    "            continue\n",
    "        comments_placeholder[ii] = ipart\n",
    "    monthly_dist[iweek] = comments_placeholder"
   ]
  },
  {
   "cell_type": "code",
   "execution_count": 20,
   "metadata": {
    "papermill": {
     "duration": 0.125264,
     "end_time": "2019-02-14T22:40:12.731288",
     "exception": false,
     "start_time": "2019-02-14T22:40:12.606024",
     "status": "completed"
    },
    "tags": []
   },
   "outputs": [],
   "source": [
    "monthly_dist = pd.DataFrame(monthly_dist)\n",
    "# monthly_dist.index.name = 'position'\n",
    "# monthly_dist.columns.name = 'date'\n",
    "# monthly_dist = monthly_dist.stack().reset_index().rename(columns={0: 'dist'})"
   ]
  },
  {
   "cell_type": "code",
   "execution_count": 21,
   "metadata": {
    "papermill": {
     "duration": 0.121576,
     "end_time": "2019-02-14T22:40:12.950069",
     "exception": false,
     "start_time": "2019-02-14T22:40:12.828493",
     "status": "completed"
    },
    "tags": []
   },
   "outputs": [],
   "source": [
    "monthly_dist.columns = monthly_dist.columns.date"
   ]
  },
  {
   "cell_type": "code",
   "execution_count": 22,
   "metadata": {
    "papermill": {
     "duration": 0.142821,
     "end_time": "2019-02-14T22:40:13.213284",
     "exception": false,
     "start_time": "2019-02-14T22:40:13.070463",
     "status": "completed"
    },
    "tags": []
   },
   "outputs": [],
   "source": [
    "from matplotlib import pyplot as plt"
   ]
  },
  {
   "cell_type": "code",
   "execution_count": 23,
   "metadata": {
    "papermill": {
     "duration": 1.323626,
     "end_time": "2019-02-14T22:40:14.664356",
     "exception": false,
     "start_time": "2019-02-14T22:40:13.340730",
     "status": "completed"
    },
    "tags": []
   },
   "outputs": [
    {
     "name": "stderr",
     "output_type": "stream",
     "text": [
      "/home/choldgraf/anaconda/envs/dev/lib/python3.6/site-packages/ipykernel_launcher.py:2: RuntimeWarning: divide by zero encountered in log10\n",
      "  \n"
     ]
    },
    {
     "data": {
      "text/plain": [
       "[Text(114.0, 0.5, 'Rank'),\n",
       " Text(0.5, 1.0, 'Log % Comments over time\\ntop 20 commentors')]"
      ]
     },
     "execution_count": 23,
     "metadata": {},
     "output_type": "execute_result"
    },
    {
     "data": {
      "image/png": "[encoded data removed]",
      "text/plain": [
       "<Figure size 1080x360 with 2 Axes>"
      ]
     },
     "metadata": {},
     "output_type": "display_data"
    }
   ],
   "source": [
    "fig, ax = plt.subplots(figsize=(15, 5))\n",
    "ax = sns.heatmap(np.log10(100 * monthly_dist), vmin=0, vmax=2)\n",
    "ax.set(ylabel=\"Rank\", title=\"Log % Comments over time\\ntop {} commentors\".format(n_comments_plot))"
   ]
  },
  {
   "cell_type": "markdown",
   "metadata": {
    "papermill": {
     "duration": 0.081638,
     "end_time": "2019-02-14T22:40:14.821746",
     "exception": false,
     "start_time": "2019-02-14T22:40:14.740108",
     "status": "completed"
    },
    "tags": []
   },
   "source": [
    "## Correlations between members"
   ]
  },
  {
   "cell_type": "code",
   "execution_count": 24,
   "metadata": {
    "papermill": {
     "duration": 0.105637,
     "end_time": "2019-02-14T22:40:15.018472",
     "exception": false,
     "start_time": "2019-02-14T22:40:14.912835",
     "status": "completed"
    },
    "tags": []
   },
   "outputs": [],
   "source": [
    "correlations = weekly.query(\"user in @plt_users\").set_index(['date', 'user'])['comments'].unstack('user').corr()\n",
    "correlations = correlations.replace(np.nan, 0)"
   ]
  },
  {
   "cell_type": "code",
   "execution_count": 25,
   "metadata": {
    "papermill": {
     "duration": 1.015592,
     "end_time": "2019-02-14T22:40:16.106363",
     "exception": false,
     "start_time": "2019-02-14T22:40:15.090771",
     "status": "completed"
    },
    "tags": []
   },
   "outputs": [
    {
     "data": {
      "text/plain": [
       "<seaborn.matrix.ClusterGrid at 0x7f0aa34f9c88>"
      ]
     },
     "execution_count": 25,
     "metadata": {},
     "output_type": "execute_result"
    },
    {
     "data": {
      "image/png": "[encoded data removed]",
      "text/plain": [
       "<Figure size 720x720 with 4 Axes>"
      ]
     },
     "metadata": {},
     "output_type": "display_data"
    }
   ],
   "source": [
    "sns.clustermap(correlations, vmin=-1, vmax=1, cmap='RdYlBu_r')"
   ]
  },
  {
   "cell_type": "code",
   "execution_count": null,
   "metadata": {
    "papermill": {
     "duration": 0.089348,
     "end_time": "2019-02-14T22:40:16.268041",
     "exception": false,
     "start_time": "2019-02-14T22:40:16.178693",
     "status": "completed"
    },
    "tags": []
   },
   "outputs": [],
   "source": []
  }
 ],
 "metadata": {
  "kernelspec": {
   "display_name": "Python 3",
   "language": "python",
   "name": "python3"
  },
  "language_info": {
   "codemirror_mode": {
    "name": "ipython",
    "version": 3
   },
   "file_extension": ".py",
   "mimetype": "text/x-python",
   "name": "python",
   "nbconvert_exporter": "python",
   "pygments_lexer": "ipython3",
   "version": "3.6.5"
  },
  "papermill": {
   "duration": 15.605745,
   "end_time": "2019-02-14T22:40:17.752553",
   "environment_variables": {},
   "exception": null,
   "input_path": "./viz_data.ipynb",
   "output_path": "../reports/viz_data_jupyter-nbconvert.ipynb",
   "parameters": {
    "org": "jupyter",
    "plot_N": 20,
    "repo": "nbconvert"
   },
   "start_time": "2019-02-14T22:40:02.146808",
   "version": "0.18.0"
  }
 },
 "nbformat": 4,
 "nbformat_minor": 2
}