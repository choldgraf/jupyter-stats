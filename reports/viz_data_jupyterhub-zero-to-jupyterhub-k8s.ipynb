{
 "cells": [
  {
   "cell_type": "markdown",
   "metadata": {
    "papermill": {
     "duration": 0.051907,
     "end_time": "2019-02-14T22:40:19.178404",
     "exception": false,
     "start_time": "2019-02-14T22:40:19.126497",
     "status": "completed"
    },
    "tags": []
   },
   "source": [
    "## Parameters"
   ]
  },
  {
   "cell_type": "code",
   "execution_count": 1,
   "metadata": {
    "papermill": {
     "duration": 0.043127,
     "end_time": "2019-02-14T22:40:19.247468",
     "exception": false,
     "start_time": "2019-02-14T22:40:19.204341",
     "status": "completed"
    },
    "tags": [
     "parameters"
    ]
   },
   "outputs": [],
   "source": [
    "org = 'jupyterhub'\n",
    "repo = 'jupyterhub'\n",
    "plot_N = 25  # Number of lines to add"
   ]
  },
  {
   "cell_type": "code",
   "execution_count": 2,
   "metadata": {
    "papermill": {
     "duration": 0.045213,
     "end_time": "2019-02-14T22:40:19.334548",
     "exception": false,
     "start_time": "2019-02-14T22:40:19.289335",
     "status": "completed"
    },
    "tags": [
     "injected-parameters"
    ]
   },
   "outputs": [],
   "source": [
    "# Parameters\n",
    "org = \"jupyterhub\"\n",
    "repo = \"zero-to-jupyterhub-k8s\"\n",
    "plot_N = 20\n"
   ]
  },
  {
   "cell_type": "markdown",
   "metadata": {
    "papermill": {
     "duration": 0.04253,
     "end_time": "2019-02-14T22:40:19.421206",
     "exception": false,
     "start_time": "2019-02-14T22:40:19.378676",
     "status": "completed"
    },
    "tags": []
   },
   "source": [
    "## Functions"
   ]
  },
  {
   "cell_type": "code",
   "execution_count": 3,
   "metadata": {
    "papermill": {
     "duration": 0.03981,
     "end_time": "2019-02-14T22:40:19.492578",
     "exception": false,
     "start_time": "2019-02-14T22:40:19.452768",
     "status": "completed"
    },
    "tags": []
   },
   "outputs": [],
   "source": [
    "def selectable_line_plot(data, x, y, color, width=1000):\n",
    "\n",
    "    select = alt.selection(type='single', on='mouseover',\n",
    "                           fields=[color], nearest=True)\n",
    "\n",
    "    base = alt.Chart(data=data, width=width).encode(\n",
    "        x=alt.X(x, scale=alt.Scale(domain=[\"2016-01-01\", \"2019-02-01\"])),\n",
    "        y=y,\n",
    "        color=color,\n",
    "        tooltip=color,\n",
    "    )\n",
    "\n",
    "    points = base.mark_circle(clip=True).encode(\n",
    "        opacity=alt.value(0)\n",
    "    ).add_selection(select)\n",
    "\n",
    "\n",
    "    lines = base.mark_line(clip=True).encode(\n",
    "        size=alt.condition(~select, alt.value(1), alt.value(4)),\n",
    "        color=alt.condition(select, color, alt.value('lightgray'))\n",
    "    )\n",
    "\n",
    "    return points + lines"
   ]
  },
  {
   "cell_type": "markdown",
   "metadata": {
    "papermill": {
     "duration": 0.029628,
     "end_time": "2019-02-14T22:40:19.561876",
     "exception": false,
     "start_time": "2019-02-14T22:40:19.532248",
     "status": "completed"
    },
    "tags": []
   },
   "source": [
    "# Load data"
   ]
  },
  {
   "cell_type": "code",
   "execution_count": 4,
   "metadata": {
    "papermill": {
     "duration": 1.360634,
     "end_time": "2019-02-14T22:40:20.959557",
     "exception": false,
     "start_time": "2019-02-14T22:40:19.598923",
     "status": "completed"
    },
    "tags": []
   },
   "outputs": [],
   "source": [
    "import pandas as pd\n",
    "import seaborn as sns\n",
    "import altair as alt\n",
    "import numpy as np"
   ]
  },
  {
   "cell_type": "code",
   "execution_count": 5,
   "metadata": {
    "papermill": {
     "duration": 0.127205,
     "end_time": "2019-02-14T22:40:21.116233",
     "exception": false,
     "start_time": "2019-02-14T22:40:20.989028",
     "status": "completed"
    },
    "tags": []
   },
   "outputs": [],
   "source": [
    "# Read in data\n",
    "daily = pd.read_csv('../data/daily.csv', index_col=0)\n",
    "\n",
    "# Convert indices to date\n",
    "daily['date'] = pd.to_datetime(daily['date'])\n",
    "daily = daily.query('org == @org and repo == @repo').drop(['org', 'repo'], axis=1)\n",
    "daily = daily.replace(np.nan, 0)"
   ]
  },
  {
   "cell_type": "markdown",
   "metadata": {
    "papermill": {
     "duration": 0.032436,
     "end_time": "2019-02-14T22:40:21.176195",
     "exception": false,
     "start_time": "2019-02-14T22:40:21.143759",
     "status": "completed"
    },
    "tags": []
   },
   "source": [
    "# Features"
   ]
  },
  {
   "cell_type": "code",
   "execution_count": 6,
   "metadata": {
    "papermill": {
     "duration": 0.700909,
     "end_time": "2019-02-14T22:40:21.913911",
     "exception": false,
     "start_time": "2019-02-14T22:40:21.213002",
     "status": "completed"
    },
    "tags": []
   },
   "outputs": [],
   "source": [
    "weekly = daily.groupby('user').resample('W', on='date').sum().reset_index()\n",
    "weekly = weekly.query('commits != 0 or comments != 0')"
   ]
  },
  {
   "cell_type": "code",
   "execution_count": 7,
   "metadata": {
    "papermill": {
     "duration": 0.13882,
     "end_time": "2019-02-14T22:40:22.078697",
     "exception": false,
     "start_time": "2019-02-14T22:40:21.939877",
     "status": "completed"
    },
    "tags": []
   },
   "outputs": [],
   "source": [
    "# Rolling mean\n",
    "weekly = weekly.groupby(['user', 'date']).sum().reset_index().groupby('user').\\\n",
    "    rolling(2, on='date')['comments'].\\\n",
    "    mean().dropna().reset_index()"
   ]
  },
  {
   "cell_type": "code",
   "execution_count": 8,
   "metadata": {
    "papermill": {
     "duration": 0.057842,
     "end_time": "2019-02-14T22:40:22.162200",
     "exception": false,
     "start_time": "2019-02-14T22:40:22.104358",
     "status": "completed"
    },
    "tags": []
   },
   "outputs": [],
   "source": [
    "# Top N commentors over time\n",
    "top_N = weekly.groupby('user').sum()['comments'].sort_values(ascending=False)\n",
    "top_N = top_N.index[:plot_N]"
   ]
  },
  {
   "cell_type": "markdown",
   "metadata": {
    "papermill": {
     "duration": 0.026742,
     "end_time": "2019-02-14T22:40:22.223602",
     "exception": false,
     "start_time": "2019-02-14T22:40:22.196860",
     "status": "completed"
    },
    "tags": []
   },
   "source": [
    "# Plotting"
   ]
  },
  {
   "cell_type": "markdown",
   "metadata": {
    "papermill": {
     "duration": 0.046018,
     "end_time": "2019-02-14T22:40:22.307739",
     "exception": false,
     "start_time": "2019-02-14T22:40:22.261721",
     "status": "completed"
    },
    "tags": []
   },
   "source": [
    "## Weekly unique contributors"
   ]
  },
  {
   "cell_type": "code",
   "execution_count": 9,
   "metadata": {
    "papermill": {
     "duration": 0.081057,
     "end_time": "2019-02-14T22:40:22.417135",
     "exception": false,
     "start_time": "2019-02-14T22:40:22.336078",
     "status": "completed"
    },
    "tags": []
   },
   "outputs": [],
   "source": [
    "unique = weekly[['date', 'user']].copy()\n",
    "unique['user'] = unique['user'].map(lambda a: [a])\n",
    "unique = unique.groupby('date').sum()"
   ]
  },
  {
   "cell_type": "code",
   "execution_count": 10,
   "metadata": {
    "papermill": {
     "duration": 0.060558,
     "end_time": "2019-02-14T22:40:22.509978",
     "exception": false,
     "start_time": "2019-02-14T22:40:22.449420",
     "status": "completed"
    },
    "tags": []
   },
   "outputs": [],
   "source": [
    "all_users = set()\n",
    "nunique = {}\n",
    "for idate, ivals in unique.iterrows():\n",
    "    n_unique_current = len(all_users)\n",
    "    \n",
    "    all_users = all_users.union(ivals[0])\n",
    "    n_unique_new = len(all_users) - n_unique_current\n",
    "    nunique[idate] = n_unique_new\n",
    "unique['new_contributors'] = pd.Series(nunique).values"
   ]
  },
  {
   "cell_type": "code",
   "execution_count": 11,
   "metadata": {
    "papermill": {
     "duration": 0.039732,
     "end_time": "2019-02-14T22:40:22.581558",
     "exception": false,
     "start_time": "2019-02-14T22:40:22.541826",
     "status": "completed"
    },
    "tags": []
   },
   "outputs": [],
   "source": [
    "unique['cumulative'] = unique['new_contributors'].cumsum()"
   ]
  },
  {
   "cell_type": "code",
   "execution_count": 12,
   "metadata": {
    "papermill": {
     "duration": 0.102065,
     "end_time": "2019-02-14T22:40:22.716855",
     "exception": false,
     "start_time": "2019-02-14T22:40:22.614790",
     "status": "completed"
    },
    "tags": []
   },
   "outputs": [
    {
     "data": {
      "application/vnd.vegalite.v2+json": {
       "$schema": "https://vega.github.io/schema/vega-lite/v2.6.0.json",
       "config": {
        "view": {
         "height": 300,
         "width": 400
        }
       },
       "data": {
        "name": "data-aa985852ec9d349fac6533fc2726f15a"
       },
       "datasets": {
        "data-aa985852ec9d349fac6533fc2726f15a": [
         {
          "cumulative": 3,
          "date": "2017-04-23T00:00:00",
          "new_contributors": 3,
          "user": [
           "choldgraf",
           "willingc",
           "yuvipanda"
          ]
         },
         {
          "cumulative": 4,
          "date": "2017-04-30T00:00:00",
          "new_contributors": 1,
          "user": [
           "choldgraf",
           "ryanlovett",
           "willingc",
           "yuvipanda"
          ]
         },
         {
          "cumulative": 4,
          "date": "2017-05-07T00:00:00",
          "new_contributors": 0,
          "user": [
           "choldgraf",
           "willingc",
           "yuvipanda"
          ]
         },
         {
          "cumulative": 4,
          "date": "2017-05-14T00:00:00",
          "new_contributors": 0,
          "user": [
           "willingc",
           "yuvipanda"
          ]
         },
         {
          "cumulative": 5,
          "date": "2017-05-21T00:00:00",
          "new_contributors": 1,
          "user": [
           "Carreau",
           "choldgraf",
           "yuvipanda"
          ]
         },
         {
          "cumulative": 5,
          "date": "2017-05-28T00:00:00",
          "new_contributors": 0,
          "user": [
           "choldgraf",
           "willingc",
           "yuvipanda"
          ]
         },
         {
          "cumulative": 5,
          "date": "2017-06-04T00:00:00",
          "new_contributors": 0,
          "user": [
           "choldgraf",
           "ryanlovett",
           "willingc",
           "yuvipanda"
          ]
         },
         {
          "cumulative": 5,
          "date": "2017-06-11T00:00:00",
          "new_contributors": 0,
          "user": [
           "choldgraf"
          ]
         },
         {
          "cumulative": 5,
          "date": "2017-06-18T00:00:00",
          "new_contributors": 0,
          "user": [
           "choldgraf",
           "willingc"
          ]
         },
         {
          "cumulative": 5,
          "date": "2017-06-25T00:00:00",
          "new_contributors": 0,
          "user": [
           "choldgraf",
           "willingc",
           "yuvipanda"
          ]
         },
         {
          "cumulative": 5,
          "date": "2017-07-02T00:00:00",
          "new_contributors": 0,
          "user": [
           "choldgraf",
           "willingc",
           "yuvipanda"
          ]
         },
         {
          "cumulative": 5,
          "date": "2017-07-09T00:00:00",
          "new_contributors": 0,
          "user": [
           "choldgraf",
           "yuvipanda"
          ]
         },
         {
          "cumulative": 5,
          "date": "2017-07-16T00:00:00",
          "new_contributors": 0,
          "user": [
           "willingc",
           "yuvipanda"
          ]
         },
         {
          "cumulative": 5,
          "date": "2017-07-23T00:00:00",
          "new_contributors": 0,
          "user": [
           "willingc"
          ]
         },
         {
          "cumulative": 7,
          "date": "2017-07-30T00:00:00",
          "new_contributors": 2,
          "user": [
           "aculich",
           "choldgraf",
           "henchc",
           "willingc",
           "yuvipanda"
          ]
         },
         {
          "cumulative": 7,
          "date": "2017-08-13T00:00:00",
          "new_contributors": 0,
          "user": [
           "aculich",
           "choldgraf",
           "henchc",
           "willingc",
           "yuvipanda"
          ]
         },
         {
          "cumulative": 8,
          "date": "2017-08-20T00:00:00",
          "new_contributors": 1,
          "user": [
           "choldgraf",
           "rdodev",
           "willingc",
           "yuvipanda"
          ]
         },
         {
          "cumulative": 10,
          "date": "2017-08-27T00:00:00",
          "new_contributors": 2,
          "user": [
           "choldgraf",
           "cmoscardi",
           "minrk",
           "willingc",
           "yuvipanda"
          ]
         },
         {
          "cumulative": 10,
          "date": "2017-09-03T00:00:00",
          "new_contributors": 0,
          "user": [
           "choldgraf",
           "rdodev",
           "willingc",
           "yuvipanda"
          ]
         },
         {
          "cumulative": 10,
          "date": "2017-09-10T00:00:00",
          "new_contributors": 0,
          "user": [
           "choldgraf",
           "cmoscardi",
           "ryanlovett",
           "willingc"
          ]
         },
         {
          "cumulative": 12,
          "date": "2017-09-17T00:00:00",
          "new_contributors": 2,
          "user": [
           "Winterflower",
           "arokem",
           "choldgraf",
           "willingc",
           "yuvipanda"
          ]
         },
         {
          "cumulative": 12,
          "date": "2017-09-24T00:00:00",
          "new_contributors": 0,
          "user": [
           "choldgraf",
           "cmoscardi",
           "minrk",
           "rdodev",
           "willingc",
           "yuvipanda"
          ]
         },
         {
          "cumulative": 12,
          "date": "2017-10-01T00:00:00",
          "new_contributors": 0,
          "user": [
           "minrk",
           "willingc",
           "yuvipanda"
          ]
         },
         {
          "cumulative": 13,
          "date": "2017-10-08T00:00:00",
          "new_contributors": 1,
          "user": [
           "choldgraf",
           "cmoscardi",
           "yuvipanda",
           "zonca"
          ]
         },
         {
          "cumulative": 14,
          "date": "2017-10-15T00:00:00",
          "new_contributors": 1,
          "user": [
           "choldgraf",
           "cmoscardi",
           "gsemet",
           "willingc",
           "yuvipanda",
           "zonca"
          ]
         },
         {
          "cumulative": 14,
          "date": "2017-10-22T00:00:00",
          "new_contributors": 0,
          "user": [
           "choldgraf",
           "cmoscardi",
           "yuvipanda"
          ]
         },
         {
          "cumulative": 14,
          "date": "2017-10-29T00:00:00",
          "new_contributors": 0,
          "user": [
           "choldgraf",
           "cmoscardi",
           "minrk",
           "willingc",
           "yuvipanda",
           "zonca"
          ]
         },
         {
          "cumulative": 16,
          "date": "2017-11-05T00:00:00",
          "new_contributors": 2,
          "user": [
           "NickolausDS",
           "ablekh",
           "choldgraf",
           "minrk",
           "willingc",
           "yuvipanda",
           "zonca"
          ]
         },
         {
          "cumulative": 16,
          "date": "2017-11-12T00:00:00",
          "new_contributors": 0,
          "user": [
           "choldgraf",
           "minrk",
           "willingc",
           "yuvipanda"
          ]
         },
         {
          "cumulative": 16,
          "date": "2017-11-19T00:00:00",
          "new_contributors": 0,
          "user": [
           "Carreau",
           "aculich",
           "choldgraf",
           "minrk",
           "willingc",
           "yuvipanda",
           "zonca"
          ]
         },
         {
          "cumulative": 18,
          "date": "2017-11-26T00:00:00",
          "new_contributors": 2,
          "user": [
           "Montereytony",
           "aculich",
           "choldgraf",
           "manics",
           "minrk",
           "yuvipanda"
          ]
         },
         {
          "cumulative": 20,
          "date": "2017-12-03T00:00:00",
          "new_contributors": 2,
          "user": [
           "Carreau",
           "NickolausDS",
           "aculich",
           "betatim",
           "choldgraf",
           "cmoscardi",
           "manics",
           "minrk",
           "tsturzl",
           "willingc",
           "yuvipanda",
           "zonca"
          ]
         },
         {
          "cumulative": 22,
          "date": "2017-12-10T00:00:00",
          "new_contributors": 2,
          "user": [
           "choldgraf",
           "jacobtomlinson",
           "manics",
           "minrk",
           "ryanlovett",
           "tianhuil",
           "willingc",
           "yuvipanda"
          ]
         },
         {
          "cumulative": 26,
          "date": "2017-12-17T00:00:00",
          "new_contributors": 4,
          "user": [
           "aculich",
           "choldgraf",
           "jacobtomlinson",
           "jzf2101",
           "manics",
           "mrocklin",
           "ryanlovett",
           "tianhuil",
           "tothandras",
           "tracek",
           "willingc",
           "yuvipanda",
           "zonca"
          ]
         },
         {
          "cumulative": 27,
          "date": "2017-12-24T00:00:00",
          "new_contributors": 1,
          "user": [
           "choldgraf",
           "consideRatio",
           "minrk",
           "mrocklin",
           "willingc",
           "yuvipanda"
          ]
         },
         {
          "cumulative": 27,
          "date": "2017-12-31T00:00:00",
          "new_contributors": 0,
          "user": [
           "choldgraf",
           "consideRatio",
           "ryanlovett",
           "yuvipanda"
          ]
         },
         {
          "cumulative": 29,
          "date": "2018-01-07T00:00:00",
          "new_contributors": 2,
          "user": [
           "avaranovich",
           "cam72cam",
           "choldgraf",
           "consideRatio",
           "minrk",
           "mrocklin",
           "willingc",
           "yuvipanda"
          ]
         },
         {
          "cumulative": 30,
          "date": "2018-01-14T00:00:00",
          "new_contributors": 1,
          "user": [
           "avaranovich",
           "choldgraf",
           "consideRatio",
           "manics",
           "minrk",
           "mrocklin",
           "rschroll",
           "ryanlovett",
           "tracek",
           "tsturzl",
           "willingc",
           "yuvipanda"
          ]
         },
         {
          "cumulative": 32,
          "date": "2018-01-21T00:00:00",
          "new_contributors": 2,
          "user": [
           "Carreau",
           "cam72cam",
           "choldgraf",
           "jacobtomlinson",
           "manics",
           "masonlr",
           "minrk",
           "mrocklin",
           "rsignell-usgs",
           "ryanlovett",
           "willingc",
           "yuvipanda"
          ]
         },
         {
          "cumulative": 33,
          "date": "2018-01-28T00:00:00",
          "new_contributors": 1,
          "user": [
           "betatim",
           "cam72cam",
           "choldgraf",
           "consideRatio",
           "ellisonbg",
           "minrk",
           "ryanlovett",
           "willingc",
           "yuvipanda"
          ]
         },
         {
          "cumulative": 33,
          "date": "2018-02-04T00:00:00",
          "new_contributors": 0,
          "user": [
           "cam72cam",
           "choldgraf",
           "manics",
           "minrk",
           "ryanlovett",
           "willingc",
           "yuvipanda"
          ]
         },
         {
          "cumulative": 34,
          "date": "2018-02-11T00:00:00",
          "new_contributors": 1,
          "user": [
           "aculich",
           "betatim",
           "choldgraf",
           "consideRatio",
           "manics",
           "minrk",
           "mrocklin",
           "rschroll",
           "ryanlovett",
           "summerswallow",
           "willingc",
           "yuvipanda"
          ]
         },
         {
          "cumulative": 34,
          "date": "2018-02-18T00:00:00",
          "new_contributors": 0,
          "user": [
           "cam72cam",
           "choldgraf",
           "consideRatio",
           "manics",
           "willingc",
           "yuvipanda"
          ]
         },
         {
          "cumulative": 37,
          "date": "2018-02-25T00:00:00",
          "new_contributors": 3,
          "user": [
           "GerbenWelter",
           "actionshrimp",
           "aculich",
           "betatim",
           "cam72cam",
           "choldgraf",
           "clkao",
           "consideRatio",
           "jzf2101",
           "manics",
           "minrk",
           "willingc",
           "yuvipanda"
          ]
         },
         {
          "cumulative": 39,
          "date": "2018-03-04T00:00:00",
          "new_contributors": 2,
          "user": [
           "cam72cam",
           "choldgraf",
           "clkao",
           "consideRatio",
           "gsemet",
           "jzf2101",
           "kdubovikov",
           "manics",
           "minrk",
           "mrocklin",
           "ryanlovett",
           "summerswallow",
           "willingc",
           "yuvipanda",
           "zcesur"
          ]
         },
         {
          "cumulative": 39,
          "date": "2018-03-11T00:00:00",
          "new_contributors": 0,
          "user": [
           "choldgraf",
           "consideRatio",
           "gsemet",
           "manics",
           "willingc"
          ]
         },
         {
          "cumulative": 40,
          "date": "2018-03-18T00:00:00",
          "new_contributors": 1,
          "user": [
           "cam72cam",
           "choldgraf",
           "consideRatio",
           "enolfc",
           "gsemet",
           "manics",
           "minrk",
           "yuvipanda"
          ]
         },
         {
          "cumulative": 42,
          "date": "2018-03-25T00:00:00",
          "new_contributors": 2,
          "user": [
           "ZachGlassman",
           "cam72cam",
           "choldgraf",
           "consideRatio",
           "gsemet",
           "jacobtomlinson",
           "jzf2101",
           "manics",
           "minrk",
           "mrocklin",
           "willingc",
           "wydwww",
           "yuvipanda",
           "zonca"
          ]
         },
         {
          "cumulative": 45,
          "date": "2018-04-01T00:00:00",
          "new_contributors": 3,
          "user": [
           "ablekh",
           "betatim",
           "cam72cam",
           "choldgraf",
           "clkao",
           "consideRatio",
           "danielmaitre",
           "gsemet",
           "manics",
           "mattjbray",
           "minrk",
           "summerswallow",
           "tjcrone",
           "yuvipanda"
          ]
         },
         {
          "cumulative": 45,
          "date": "2018-04-08T00:00:00",
          "new_contributors": 0,
          "user": [
           "ablekh",
           "betatim",
           "cam72cam",
           "choldgraf",
           "consideRatio",
           "danielmaitre",
           "gsemet",
           "manics",
           "minrk",
           "tracek",
           "willingc",
           "yuvipanda"
          ]
         },
         {
          "cumulative": 45,
          "date": "2018-04-15T00:00:00",
          "new_contributors": 0,
          "user": [
           "betatim",
           "cam72cam",
           "choldgraf",
           "consideRatio",
           "jzf2101",
           "manics",
           "willingc",
           "yuvipanda"
          ]
         },
         {
          "cumulative": 46,
          "date": "2018-04-22T00:00:00",
          "new_contributors": 1,
          "user": [
           "ablekh",
           "choldgraf",
           "clkao",
           "consideRatio",
           "jgerardsimcock",
           "jzf2101",
           "manics",
           "minrk",
           "willingc"
          ]
         },
         {
          "cumulative": 47,
          "date": "2018-04-29T00:00:00",
          "new_contributors": 1,
          "user": [
           "cam72cam",
           "choldgraf",
           "clkao",
           "consideRatio",
           "gsemet",
           "jgerardsimcock",
           "minrk",
           "miramar-labs",
           "willingc",
           "yuvipanda"
          ]
         },
         {
          "cumulative": 49,
          "date": "2018-05-06T00:00:00",
          "new_contributors": 2,
          "user": [
           "ZachGlassman",
           "ablekh",
           "betatim",
           "cam72cam",
           "choldgraf",
           "consideRatio",
           "elgalu",
           "gsemet",
           "jgerardsimcock",
           "jzf2101",
           "manics",
           "minrk",
           "mrocklin",
           "rabernat",
           "yuvipanda",
           "zonca"
          ]
         },
         {
          "cumulative": 49,
          "date": "2018-05-13T00:00:00",
          "new_contributors": 0,
          "user": [
           "ablekh",
           "aculich",
           "betatim",
           "choldgraf",
           "consideRatio",
           "manics",
           "minrk",
           "yuvipanda",
           "zonca"
          ]
         },
         {
          "cumulative": 49,
          "date": "2018-05-20T00:00:00",
          "new_contributors": 0,
          "user": [
           "betatim",
           "choldgraf",
           "consideRatio",
           "jacobtomlinson",
           "jzf2101",
           "minrk",
           "rsignell-usgs",
           "willingc",
           "yuvipanda",
           "zonca"
          ]
         },
         {
          "cumulative": 50,
          "date": "2018-05-27T00:00:00",
          "new_contributors": 1,
          "user": [
           "betatim",
           "cam72cam",
           "choldgraf",
           "consideRatio",
           "manics",
           "mrocklin",
           "rsignell-usgs",
           "summerswallow-whi",
           "yuvipanda"
          ]
         },
         {
          "cumulative": 51,
          "date": "2018-06-03T00:00:00",
          "new_contributors": 1,
          "user": [
           "ablekh",
           "aculich",
           "betatim",
           "cam72cam",
           "choldgraf",
           "consideRatio",
           "gsemet",
           "jgerardsimcock",
           "jzf2101",
           "manics",
           "rsignell-usgs",
           "summerswallow-whi",
           "sylus",
           "willingc"
          ]
         },
         {
          "cumulative": 52,
          "date": "2018-06-10T00:00:00",
          "new_contributors": 1,
          "user": [
           "aculich",
           "cam72cam",
           "choldgraf",
           "consideRatio",
           "gsemet",
           "mbjoseph",
           "minrk",
           "summerswallow-whi",
           "willingc"
          ]
         },
         {
          "cumulative": 53,
          "date": "2018-06-17T00:00:00",
          "new_contributors": 1,
          "user": [
           "betatim",
           "cam72cam",
           "chicocvenancio",
           "choldgraf",
           "consideRatio",
           "manics",
           "ryanlovett",
           "summerswallow-whi",
           "willingc"
          ]
         },
         {
          "cumulative": 56,
          "date": "2018-06-24T00:00:00",
          "new_contributors": 3,
          "user": [
           "amanda-tan",
           "cam72cam",
           "chicocvenancio",
           "choldgraf",
           "clkao",
           "consideRatio",
           "jgerardsimcock",
           "jreadey",
           "konfiot",
           "manics",
           "minrk",
           "tjcrone",
           "willingc",
           "yuvipanda",
           "zonca"
          ]
         },
         {
          "cumulative": 56,
          "date": "2018-07-01T00:00:00",
          "new_contributors": 0,
          "user": [
           "ablekh",
           "betatim",
           "chicocvenancio",
           "consideRatio",
           "enolfc",
           "konfiot",
           "manics",
           "minrk",
           "tjcrone",
           "willingc",
           "yuvipanda"
          ]
         },
         {
          "cumulative": 56,
          "date": "2018-07-08T00:00:00",
          "new_contributors": 0,
          "user": [
           "betatim",
           "choldgraf",
           "clkao",
           "consideRatio",
           "jgerardsimcock",
           "konfiot",
           "manics",
           "minrk",
           "summerswallow-whi",
           "willingc",
           "yuvipanda"
          ]
         },
         {
          "cumulative": 56,
          "date": "2018-07-15T00:00:00",
          "new_contributors": 0,
          "user": [
           "aculich",
           "betatim",
           "clkao",
           "consideRatio",
           "jgerardsimcock",
           "ryanlovett",
           "summerswallow-whi",
           "sylus",
           "willingc"
          ]
         },
         {
          "cumulative": 56,
          "date": "2018-07-22T00:00:00",
          "new_contributors": 0,
          "user": [
           "betatim",
           "choldgraf",
           "clkao",
           "consideRatio",
           "elgalu",
           "jzf2101",
           "konfiot"
          ]
         },
         {
          "cumulative": 58,
          "date": "2018-07-29T00:00:00",
          "new_contributors": 2,
          "user": [
           "amanda-tan",
           "betatim",
           "choldgraf",
           "clkao",
           "consideRatio",
           "manics",
           "paul-laskowski",
           "rnestler"
          ]
         },
         {
          "cumulative": 60,
          "date": "2018-08-05T00:00:00",
          "new_contributors": 2,
          "user": [
           "Sefriol",
           "ablekh",
           "arokem",
           "betatim",
           "choldgraf",
           "consideRatio",
           "ellisonbg",
           "jacobtomlinson",
           "manics",
           "minrk",
           "paul-laskowski",
           "prkriz",
           "ryanlovett"
          ]
         },
         {
          "cumulative": 63,
          "date": "2018-08-12T00:00:00",
          "new_contributors": 3,
          "user": [
           "AlexMorreale",
           "aculich",
           "betatim",
           "choldgraf",
           "consideRatio",
           "craig-willis",
           "jgerardsimcock",
           "konfiot",
           "manics",
           "minrk",
           "paul-laskowski",
           "rabernat",
           "ryanlovett",
           "vishwesh5",
           "willingc"
          ]
         },
         {
          "cumulative": 64,
          "date": "2018-08-19T00:00:00",
          "new_contributors": 1,
          "user": [
           "ablekh",
           "betatim",
           "choldgraf",
           "consideRatio",
           "manics",
           "minrk",
           "rkdarst",
           "ryanlovett",
           "willingc"
          ]
         },
         {
          "cumulative": 65,
          "date": "2018-08-26T00:00:00",
          "new_contributors": 1,
          "user": [
           "ablekh",
           "choldgraf",
           "consideRatio",
           "jeremievallee",
           "minrk",
           "rsignell-usgs",
           "yuvipanda"
          ]
         },
         {
          "cumulative": 66,
          "date": "2018-09-02T00:00:00",
          "new_contributors": 1,
          "user": [
           "Carreau",
           "consideRatio",
           "ellisonbg",
           "jacobtomlinson",
           "manics",
           "minrk",
           "openthings",
           "rabernat",
           "rsignell-usgs",
           "wydwww",
           "yuvipanda"
          ]
         },
         {
          "cumulative": 68,
          "date": "2018-09-09T00:00:00",
          "new_contributors": 2,
          "user": [
           "AlexMorreale",
           "ablekh",
           "betatim",
           "cam72cam",
           "chaoleili",
           "clkao",
           "consideRatio",
           "craig-willis",
           "ellisonbg",
           "gsemet",
           "jzf2101",
           "mhuttner",
           "minrk",
           "ryanlovett",
           "summerswallow-whi",
           "tracek",
           "willingc",
           "yuvipanda",
           "zcesur"
          ]
         },
         {
          "cumulative": 68,
          "date": "2018-09-16T00:00:00",
          "new_contributors": 0,
          "user": [
           "ablekh",
           "betatim",
           "clkao",
           "consideRatio",
           "minrk",
           "willingc",
           "yuvipanda"
          ]
         },
         {
          "cumulative": 69,
          "date": "2018-09-23T00:00:00",
          "new_contributors": 1,
          "user": [
           "choldgraf",
           "consideRatio",
           "ellisonbg",
           "jhamman",
           "manics",
           "minrk",
           "willingc",
           "yuvipanda"
          ]
         },
         {
          "cumulative": 71,
          "date": "2018-09-30T00:00:00",
          "new_contributors": 2,
          "user": [
           "choldgraf",
           "clkao",
           "consideRatio",
           "manics",
           "mlovci",
           "prcastro",
           "ryanlovett",
           "willingc"
          ]
         },
         {
          "cumulative": 72,
          "date": "2018-10-07T00:00:00",
          "new_contributors": 1,
          "user": [
           "choldgraf",
           "consideRatio",
           "fuglede",
           "manics",
           "minrk",
           "rkdarst"
          ]
         },
         {
          "cumulative": 72,
          "date": "2018-10-14T00:00:00",
          "new_contributors": 0,
          "user": [
           "consideRatio",
           "minrk",
           "willingc"
          ]
         },
         {
          "cumulative": 73,
          "date": "2018-10-21T00:00:00",
          "new_contributors": 1,
          "user": [
           "ablekh",
           "betatim",
           "choldgraf",
           "consideRatio",
           "jzf2101",
           "kalaytan",
           "manics",
           "ryanlovett",
           "willingc"
          ]
         },
         {
          "cumulative": 76,
          "date": "2018-10-28T00:00:00",
          "new_contributors": 3,
          "user": [
           "ablekh",
           "amanda-tan",
           "camer314",
           "consideRatio",
           "dkipping",
           "manics",
           "minrk",
           "ryanlovett",
           "vishal49naik49",
           "willingc",
           "yuvipanda"
          ]
         },
         {
          "cumulative": 76,
          "date": "2018-11-04T00:00:00",
          "new_contributors": 0,
          "user": [
           "betatim",
           "consideRatio",
           "dkipping",
           "ryanlovett",
           "yuvipanda"
          ]
         },
         {
          "cumulative": 76,
          "date": "2018-11-11T00:00:00",
          "new_contributors": 0,
          "user": [
           "ablekh",
           "consideRatio",
           "dkipping",
           "manics",
           "minrk"
          ]
         },
         {
          "cumulative": 77,
          "date": "2018-11-18T00:00:00",
          "new_contributors": 1,
          "user": [
           "Carreau",
           "betatim",
           "choldgraf",
           "consideRatio",
           "jzf2101",
           "manics",
           "minrk",
           "tregin"
          ]
         },
         {
          "cumulative": 78,
          "date": "2018-11-25T00:00:00",
          "new_contributors": 1,
          "user": [
           "betatim",
           "choldgraf",
           "clancychilds",
           "consideRatio",
           "minrk"
          ]
         },
         {
          "cumulative": 79,
          "date": "2018-12-02T00:00:00",
          "new_contributors": 1,
          "user": [
           "betatim",
           "clkao",
           "consideRatio",
           "h4gen",
           "minrk",
           "prcastro",
           "ryanlovett",
           "tjcrone",
           "tregin"
          ]
         },
         {
          "cumulative": 82,
          "date": "2018-12-09T00:00:00",
          "new_contributors": 3,
          "user": [
           "amanda-tan",
           "betatim",
           "clkao",
           "consideRatio",
           "craig-willis",
           "dalonlobo",
           "h4gen",
           "manics",
           "minrk",
           "tjcrone",
           "verdurin",
           "vilhelmen",
           "yuvipanda"
          ]
         },
         {
          "cumulative": 82,
          "date": "2018-12-16T00:00:00",
          "new_contributors": 0,
          "user": [
           "choldgraf",
           "consideRatio",
           "manics",
           "minrk",
           "verdurin",
           "yuvipanda"
          ]
         },
         {
          "cumulative": 83,
          "date": "2018-12-23T00:00:00",
          "new_contributors": 1,
          "user": [
           "ablekh",
           "choldgraf",
           "consideRatio",
           "dalonlobo",
           "manics",
           "minrk",
           "pcfens",
           "verdurin",
           "vilhelmen",
           "yuvipanda"
          ]
         },
         {
          "cumulative": 84,
          "date": "2018-12-30T00:00:00",
          "new_contributors": 1,
          "user": [
           "betatim",
           "choldgraf",
           "consideRatio",
           "eric-leblouch",
           "yuvipanda"
          ]
         },
         {
          "cumulative": 84,
          "date": "2019-01-06T00:00:00",
          "new_contributors": 0,
          "user": [
           "ablekh",
           "betatim",
           "choldgraf",
           "clancychilds",
           "consideRatio",
           "manics",
           "minrk",
           "vilhelmen",
           "yuvipanda"
          ]
         },
         {
          "cumulative": 87,
          "date": "2019-01-13T00:00:00",
          "new_contributors": 3,
          "user": [
           "ablekh",
           "anton-khodak",
           "cbjuan",
           "choldgraf",
           "clancychilds",
           "consideRatio",
           "minrk",
           "terhorst",
           "vilhelmen"
          ]
         },
         {
          "cumulative": 90,
          "date": "2019-01-20T00:00:00",
          "new_contributors": 3,
          "user": [
           "ablekh",
           "betatim",
           "cbjuan",
           "choldgraf",
           "consideRatio",
           "dalonlobo",
           "dkipping",
           "joshbode",
           "kavemun",
           "manics",
           "minrk",
           "vilhelmen",
           "yugushihuang"
          ]
         },
         {
          "cumulative": 90,
          "date": "2019-01-27T00:00:00",
          "new_contributors": 0,
          "user": [
           "amanda-tan",
           "arokem",
           "betatim",
           "choldgraf",
           "consideRatio",
           "joshbode",
           "kavemun",
           "manics",
           "terhorst",
           "tregin"
          ]
         },
         {
          "cumulative": 93,
          "date": "2019-02-03T00:00:00",
          "new_contributors": 3,
          "user": [
           "01100010011001010110010101110000",
           "betatim",
           "cam72cam",
           "choldgraf",
           "consideRatio",
           "hnykda",
           "manics",
           "tmshn",
           "willingc",
           "yuvipanda"
          ]
         },
         {
          "cumulative": 93,
          "date": "2019-02-10T00:00:00",
          "new_contributors": 0,
          "user": [
           "anton-khodak",
           "choldgraf",
           "consideRatio",
           "hnykda",
           "minrk"
          ]
         },
         {
          "cumulative": 95,
          "date": "2019-02-17T00:00:00",
          "new_contributors": 2,
          "user": [
           "consideRatio",
           "manycoding",
           "stefansedich"
          ]
         }
        ]
       },
       "encoding": {
        "x": {
         "field": "date",
         "type": "temporal"
        },
        "y": {
         "field": "cumulative",
         "type": "quantitative"
        }
       },
       "mark": "line",
       "width": 500
      },
      "text/plain": [
       "<VegaLite 2 object>\n",
       "\n",
       "If you see this message, it means the renderer has not been properly enabled\n",
       "for the frontend that you are using. For more information, see\n",
       "https://altair-viz.github.io/user_guide/troubleshooting.html\n"
      ]
     },
     "execution_count": 12,
     "metadata": {},
     "output_type": "execute_result"
    }
   ],
   "source": [
    "line = alt.Chart(data=unique.reset_index(), width=500).mark_line().encode(x='date', y='cumulative')\n",
    "line"
   ]
  },
  {
   "cell_type": "markdown",
   "metadata": {
    "papermill": {
     "duration": 0.035363,
     "end_time": "2019-02-14T22:40:22.786179",
     "exception": false,
     "start_time": "2019-02-14T22:40:22.750816",
     "status": "completed"
    },
    "tags": []
   },
   "source": [
    "## Comment activity over time"
   ]
  },
  {
   "cell_type": "code",
   "execution_count": 13,
   "metadata": {
    "papermill": {
     "duration": 0.059005,
     "end_time": "2019-02-14T22:40:22.884560",
     "exception": false,
     "start_time": "2019-02-14T22:40:22.825555",
     "status": "completed"
    },
    "tags": []
   },
   "outputs": [],
   "source": [
    "# Select the users we'll plot\n",
    "user_data = weekly.groupby(['user', 'date']).sum().reset_index('user')\n",
    "total_users = user_data.groupby('user')['comments'].sum()\n",
    "plt_users = total_users.sort_values(ascending=False)[:plot_N].index\n",
    "user_data = user_data.query(\"user in @plt_users\")\n",
    "\n",
    "# Drop empty dates\n",
    "user_data = user_data[user_data.sum(1) != 0]"
   ]
  },
  {
   "cell_type": "code",
   "execution_count": 14,
   "metadata": {
    "papermill": {
     "duration": 0.164842,
     "end_time": "2019-02-14T22:40:23.084663",
     "exception": false,
     "start_time": "2019-02-14T22:40:22.919821",
     "status": "completed"
    },
    "tags": []
   },
   "outputs": [
    {
     "data": {
      "application/vnd.vegalite.v2+json": {
       "$schema": "https://vega.github.io/schema/vega-lite/v2.6.0.json",
       "config": {
        "view": {
         "height": 300,
         "width": 400
        }
       },
       "datasets": {
        "data-8b01bd2da69c34b695637fbfc7e79767": [
         {
          "comments": 22.5,
          "date": "2017-11-05T00:00:00",
          "user": "ablekh"
         },
         {
          "comments": 11.5,
          "date": "2018-04-01T00:00:00",
          "user": "ablekh"
         },
         {
          "comments": 11.0,
          "date": "2018-04-08T00:00:00",
          "user": "ablekh"
         },
         {
          "comments": 7.0,
          "date": "2018-04-22T00:00:00",
          "user": "ablekh"
         },
         {
          "comments": 5.0,
          "date": "2018-05-06T00:00:00",
          "user": "ablekh"
         },
         {
          "comments": 6.0,
          "date": "2018-05-13T00:00:00",
          "user": "ablekh"
         },
         {
          "comments": 3.5,
          "date": "2018-06-03T00:00:00",
          "user": "ablekh"
         },
         {
          "comments": 6.0,
          "date": "2018-07-01T00:00:00",
          "user": "ablekh"
         },
         {
          "comments": 6.0,
          "date": "2018-08-05T00:00:00",
          "user": "ablekh"
         },
         {
          "comments": 2.0,
          "date": "2018-08-19T00:00:00",
          "user": "ablekh"
         },
         {
          "comments": 3.0,
          "date": "2018-08-26T00:00:00",
          "user": "ablekh"
         },
         {
          "comments": 3.5,
          "date": "2018-09-09T00:00:00",
          "user": "ablekh"
         },
         {
          "comments": 2.5,
          "date": "2018-09-16T00:00:00",
          "user": "ablekh"
         },
         {
          "comments": 2.5,
          "date": "2018-10-21T00:00:00",
          "user": "ablekh"
         },
         {
          "comments": 10.0,
          "date": "2018-10-28T00:00:00",
          "user": "ablekh"
         },
         {
          "comments": 9.5,
          "date": "2018-11-11T00:00:00",
          "user": "ablekh"
         },
         {
          "comments": 3.0,
          "date": "2018-12-23T00:00:00",
          "user": "ablekh"
         },
         {
          "comments": 3.0,
          "date": "2019-01-06T00:00:00",
          "user": "ablekh"
         },
         {
          "comments": 2.0,
          "date": "2019-01-13T00:00:00",
          "user": "ablekh"
         },
         {
          "comments": 2.0,
          "date": "2019-01-20T00:00:00",
          "user": "ablekh"
         },
         {
          "comments": 1.0,
          "date": "2017-07-30T00:00:00",
          "user": "aculich"
         },
         {
          "comments": 1.0,
          "date": "2017-08-13T00:00:00",
          "user": "aculich"
         },
         {
          "comments": 2.0,
          "date": "2017-11-19T00:00:00",
          "user": "aculich"
         },
         {
          "comments": 2.5,
          "date": "2017-11-26T00:00:00",
          "user": "aculich"
         },
         {
          "comments": 3.0,
          "date": "2017-12-03T00:00:00",
          "user": "aculich"
         },
         {
          "comments": 2.5,
          "date": "2017-12-17T00:00:00",
          "user": "aculich"
         },
         {
          "comments": 1.0,
          "date": "2018-02-11T00:00:00",
          "user": "aculich"
         },
         {
          "comments": 3.5,
          "date": "2018-02-25T00:00:00",
          "user": "aculich"
         },
         {
          "comments": 3.5,
          "date": "2018-05-13T00:00:00",
          "user": "aculich"
         },
         {
          "comments": 1.5,
          "date": "2018-06-03T00:00:00",
          "user": "aculich"
         },
         {
          "comments": 2.0,
          "date": "2018-06-10T00:00:00",
          "user": "aculich"
         },
         {
          "comments": 1.5,
          "date": "2018-07-15T00:00:00",
          "user": "aculich"
         },
         {
          "comments": 1.5,
          "date": "2018-08-12T00:00:00",
          "user": "aculich"
         },
         {
          "comments": 2.0,
          "date": "2017-12-03T00:00:00",
          "user": "betatim"
         },
         {
          "comments": 1.5,
          "date": "2018-01-28T00:00:00",
          "user": "betatim"
         },
         {
          "comments": 1.0,
          "date": "2018-02-11T00:00:00",
          "user": "betatim"
         },
         {
          "comments": 1.5,
          "date": "2018-02-25T00:00:00",
          "user": "betatim"
         },
         {
          "comments": 1.5,
          "date": "2018-04-01T00:00:00",
          "user": "betatim"
         },
         {
          "comments": 4.5,
          "date": "2018-04-08T00:00:00",
          "user": "betatim"
         },
         {
          "comments": 6.0,
          "date": "2018-04-15T00:00:00",
          "user": "betatim"
         },
         {
          "comments": 2.5,
          "date": "2018-05-06T00:00:00",
          "user": "betatim"
         },
         {
          "comments": 1.0,
          "date": "2018-05-13T00:00:00",
          "user": "betatim"
         },
         {
          "comments": 1.5,
          "date": "2018-05-20T00:00:00",
          "user": "betatim"
         },
         {
          "comments": 2.0,
          "date": "2018-05-27T00:00:00",
          "user": "betatim"
         },
         {
          "comments": 2.0,
          "date": "2018-06-03T00:00:00",
          "user": "betatim"
         },
         {
          "comments": 3.5,
          "date": "2018-06-17T00:00:00",
          "user": "betatim"
         },
         {
          "comments": 5.5,
          "date": "2018-07-01T00:00:00",
          "user": "betatim"
         },
         {
          "comments": 6.5,
          "date": "2018-07-08T00:00:00",
          "user": "betatim"
         },
         {
          "comments": 6.5,
          "date": "2018-07-15T00:00:00",
          "user": "betatim"
         },
         {
          "comments": 4.5,
          "date": "2018-07-22T00:00:00",
          "user": "betatim"
         },
         {
          "comments": 9.5,
          "date": "2018-07-29T00:00:00",
          "user": "betatim"
         },
         {
          "comments": 10.5,
          "date": "2018-08-05T00:00:00",
          "user": "betatim"
         },
         {
          "comments": 4.5,
          "date": "2018-08-12T00:00:00",
          "user": "betatim"
         },
         {
          "comments": 4.5,
          "date": "2018-08-19T00:00:00",
          "user": "betatim"
         },
         {
          "comments": 3.0,
          "date": "2018-09-09T00:00:00",
          "user": "betatim"
         },
         {
          "comments": 1.5,
          "date": "2018-09-16T00:00:00",
          "user": "betatim"
         },
         {
          "comments": 1.5,
          "date": "2018-10-21T00:00:00",
          "user": "betatim"
         },
         {
          "comments": 3.0,
          "date": "2018-11-04T00:00:00",
          "user": "betatim"
         },
         {
          "comments": 3.5,
          "date": "2018-11-18T00:00:00",
          "user": "betatim"
         },
         {
          "comments": 2.0,
          "date": "2018-11-25T00:00:00",
          "user": "betatim"
         },
         {
          "comments": 4.0,
          "date": "2018-12-02T00:00:00",
          "user": "betatim"
         },
         {
          "comments": 3.5,
          "date": "2018-12-09T00:00:00",
          "user": "betatim"
         },
         {
          "comments": 1.0,
          "date": "2018-12-30T00:00:00",
          "user": "betatim"
         },
         {
          "comments": 1.0,
          "date": "2019-01-06T00:00:00",
          "user": "betatim"
         },
         {
          "comments": 1.0,
          "date": "2019-01-20T00:00:00",
          "user": "betatim"
         },
         {
          "comments": 1.0,
          "date": "2019-01-27T00:00:00",
          "user": "betatim"
         },
         {
          "comments": 1.5,
          "date": "2019-02-03T00:00:00",
          "user": "betatim"
         },
         {
          "comments": 3.5,
          "date": "2018-01-07T00:00:00",
          "user": "cam72cam"
         },
         {
          "comments": 3.5,
          "date": "2018-01-21T00:00:00",
          "user": "cam72cam"
         },
         {
          "comments": 5.5,
          "date": "2018-01-28T00:00:00",
          "user": "cam72cam"
         },
         {
          "comments": 3.5,
          "date": "2018-02-04T00:00:00",
          "user": "cam72cam"
         },
         {
          "comments": 1.5,
          "date": "2018-02-18T00:00:00",
          "user": "cam72cam"
         },
         {
          "comments": 2.0,
          "date": "2018-02-25T00:00:00",
          "user": "cam72cam"
         },
         {
          "comments": 2.5,
          "date": "2018-03-04T00:00:00",
          "user": "cam72cam"
         },
         {
          "comments": 1.5,
          "date": "2018-03-18T00:00:00",
          "user": "cam72cam"
         },
         {
          "comments": 4.0,
          "date": "2018-03-25T00:00:00",
          "user": "cam72cam"
         },
         {
          "comments": 4.0,
          "date": "2018-04-01T00:00:00",
          "user": "cam72cam"
         },
         {
          "comments": 2.0,
          "date": "2018-04-08T00:00:00",
          "user": "cam72cam"
         },
         {
          "comments": 2.0,
          "date": "2018-04-15T00:00:00",
          "user": "cam72cam"
         },
         {
          "comments": 1.0,
          "date": "2018-04-29T00:00:00",
          "user": "cam72cam"
         },
         {
          "comments": 1.5,
          "date": "2018-05-06T00:00:00",
          "user": "cam72cam"
         },
         {
          "comments": 1.5,
          "date": "2018-05-27T00:00:00",
          "user": "cam72cam"
         },
         {
          "comments": 1.0,
          "date": "2018-06-03T00:00:00",
          "user": "cam72cam"
         },
         {
          "comments": 1.0,
          "date": "2018-06-10T00:00:00",
          "user": "cam72cam"
         },
         {
          "comments": 3.5,
          "date": "2018-06-17T00:00:00",
          "user": "cam72cam"
         },
         {
          "comments": 4.0,
          "date": "2018-06-24T00:00:00",
          "user": "cam72cam"
         },
         {
          "comments": 1.5,
          "date": "2018-09-09T00:00:00",
          "user": "cam72cam"
         },
         {
          "comments": 1.0,
          "date": "2019-02-03T00:00:00",
          "user": "cam72cam"
         },
         {
          "comments": 6.0,
          "date": "2017-04-23T00:00:00",
          "user": "choldgraf"
         },
         {
          "comments": 6.5,
          "date": "2017-04-30T00:00:00",
          "user": "choldgraf"
         },
         {
          "comments": 5.5,
          "date": "2017-05-07T00:00:00",
          "user": "choldgraf"
         },
         {
          "comments": 1.5,
          "date": "2017-05-21T00:00:00",
          "user": "choldgraf"
         },
         {
          "comments": 1.5,
          "date": "2017-05-28T00:00:00",
          "user": "choldgraf"
         },
         {
          "comments": 3.5,
          "date": "2017-06-04T00:00:00",
          "user": "choldgraf"
         },
         {
          "comments": 4.0,
          "date": "2017-06-11T00:00:00",
          "user": "choldgraf"
         },
         {
          "comments": 1.5,
          "date": "2017-06-18T00:00:00",
          "user": "choldgraf"
         },
         {
          "comments": 2.0,
          "date": "2017-06-25T00:00:00",
          "user": "choldgraf"
         },
         {
          "comments": 3.0,
          "date": "2017-07-02T00:00:00",
          "user": "choldgraf"
         },
         {
          "comments": 2.5,
          "date": "2017-07-09T00:00:00",
          "user": "choldgraf"
         },
         {
          "comments": 2.0,
          "date": "2017-07-30T00:00:00",
          "user": "choldgraf"
         },
         {
          "comments": 11.5,
          "date": "2017-08-13T00:00:00",
          "user": "choldgraf"
         },
         {
          "comments": 23.5,
          "date": "2017-08-20T00:00:00",
          "user": "choldgraf"
         },
         {
          "comments": 15.5,
          "date": "2017-08-27T00:00:00",
          "user": "choldgraf"
         },
         {
          "comments": 3.5,
          "date": "2017-09-03T00:00:00",
          "user": "choldgraf"
         },
         {
          "comments": 2.5,
          "date": "2017-09-10T00:00:00",
          "user": "choldgraf"
         },
         {
          "comments": 6.0,
          "date": "2017-09-17T00:00:00",
          "user": "choldgraf"
         },
         {
          "comments": 23.0,
          "date": "2017-09-24T00:00:00",
          "user": "choldgraf"
         },
         {
          "comments": 23.0,
          "date": "2017-10-08T00:00:00",
          "user": "choldgraf"
         },
         {
          "comments": 6.5,
          "date": "2017-10-15T00:00:00",
          "user": "choldgraf"
         },
         {
          "comments": 4.0,
          "date": "2017-10-22T00:00:00",
          "user": "choldgraf"
         },
         {
          "comments": 17.5,
          "date": "2017-10-29T00:00:00",
          "user": "choldgraf"
         },
         {
          "comments": 23.5,
          "date": "2017-11-05T00:00:00",
          "user": "choldgraf"
         },
         {
          "comments": 10.5,
          "date": "2017-11-12T00:00:00",
          "user": "choldgraf"
         },
         {
          "comments": 6.5,
          "date": "2017-11-19T00:00:00",
          "user": "choldgraf"
         },
         {
          "comments": 6.5,
          "date": "2017-11-26T00:00:00",
          "user": "choldgraf"
         },
         {
          "comments": 10.0,
          "date": "2017-12-03T00:00:00",
          "user": "choldgraf"
         },
         {
          "comments": 14.0,
          "date": "2017-12-10T00:00:00",
          "user": "choldgraf"
         },
         {
          "comments": 8.5,
          "date": "2017-12-17T00:00:00",
          "user": "choldgraf"
         },
         {
          "comments": 6.5,
          "date": "2017-12-24T00:00:00",
          "user": "choldgraf"
         },
         {
          "comments": 5.5,
          "date": "2017-12-31T00:00:00",
          "user": "choldgraf"
         },
         {
          "comments": 3.0,
          "date": "2018-01-07T00:00:00",
          "user": "choldgraf"
         },
         {
          "comments": 17.0,
          "date": "2018-01-14T00:00:00",
          "user": "choldgraf"
         },
         {
          "comments": 39.5,
          "date": "2018-01-21T00:00:00",
          "user": "choldgraf"
         },
         {
          "comments": 42.0,
          "date": "2018-01-28T00:00:00",
          "user": "choldgraf"
         },
         {
          "comments": 35.0,
          "date": "2018-02-04T00:00:00",
          "user": "choldgraf"
         },
         {
          "comments": 25.5,
          "date": "2018-02-11T00:00:00",
          "user": "choldgraf"
         },
         {
          "comments": 13.5,
          "date": "2018-02-18T00:00:00",
          "user": "choldgraf"
         },
         {
          "comments": 14.5,
          "date": "2018-02-25T00:00:00",
          "user": "choldgraf"
         },
         {
          "comments": 20.0,
          "date": "2018-03-04T00:00:00",
          "user": "choldgraf"
         },
         {
          "comments": 14.5,
          "date": "2018-03-11T00:00:00",
          "user": "choldgraf"
         },
         {
          "comments": 9.0,
          "date": "2018-03-18T00:00:00",
          "user": "choldgraf"
         },
         {
          "comments": 11.0,
          "date": "2018-03-25T00:00:00",
          "user": "choldgraf"
         },
         {
          "comments": 9.0,
          "date": "2018-04-01T00:00:00",
          "user": "choldgraf"
         },
         {
          "comments": 6.5,
          "date": "2018-04-08T00:00:00",
          "user": "choldgraf"
         },
         {
          "comments": 5.5,
          "date": "2018-04-15T00:00:00",
          "user": "choldgraf"
         },
         {
          "comments": 6.5,
          "date": "2018-04-22T00:00:00",
          "user": "choldgraf"
         },
         {
          "comments": 8.0,
          "date": "2018-04-29T00:00:00",
          "user": "choldgraf"
         },
         {
          "comments": 22.0,
          "date": "2018-05-06T00:00:00",
          "user": "choldgraf"
         },
         {
          "comments": 20.0,
          "date": "2018-05-13T00:00:00",
          "user": "choldgraf"
         },
         {
          "comments": 4.5,
          "date": "2018-05-20T00:00:00",
          "user": "choldgraf"
         },
         {
          "comments": 5.0,
          "date": "2018-05-27T00:00:00",
          "user": "choldgraf"
         },
         {
          "comments": 7.5,
          "date": "2018-06-03T00:00:00",
          "user": "choldgraf"
         },
         {
          "comments": 8.5,
          "date": "2018-06-10T00:00:00",
          "user": "choldgraf"
         },
         {
          "comments": 9.5,
          "date": "2018-06-17T00:00:00",
          "user": "choldgraf"
         },
         {
          "comments": 7.0,
          "date": "2018-06-24T00:00:00",
          "user": "choldgraf"
         },
         {
          "comments": 3.0,
          "date": "2018-07-08T00:00:00",
          "user": "choldgraf"
         },
         {
          "comments": 2.5,
          "date": "2018-07-22T00:00:00",
          "user": "choldgraf"
         },
         {
          "comments": 2.5,
          "date": "2018-07-29T00:00:00",
          "user": "choldgraf"
         },
         {
          "comments": 9.0,
          "date": "2018-08-05T00:00:00",
          "user": "choldgraf"
         },
         {
          "comments": 11.0,
          "date": "2018-08-12T00:00:00",
          "user": "choldgraf"
         },
         {
          "comments": 6.0,
          "date": "2018-08-19T00:00:00",
          "user": "choldgraf"
         },
         {
          "comments": 3.5,
          "date": "2018-08-26T00:00:00",
          "user": "choldgraf"
         },
         {
          "comments": 2.5,
          "date": "2018-09-23T00:00:00",
          "user": "choldgraf"
         },
         {
          "comments": 2.0,
          "date": "2018-09-30T00:00:00",
          "user": "choldgraf"
         },
         {
          "comments": 2.0,
          "date": "2018-10-07T00:00:00",
          "user": "choldgraf"
         },
         {
          "comments": 2.0,
          "date": "2018-10-21T00:00:00",
          "user": "choldgraf"
         },
         {
          "comments": 1.5,
          "date": "2018-11-18T00:00:00",
          "user": "choldgraf"
         },
         {
          "comments": 1.0,
          "date": "2018-11-25T00:00:00",
          "user": "choldgraf"
         },
         {
          "comments": 1.0,
          "date": "2018-12-16T00:00:00",
          "user": "choldgraf"
         },
         {
          "comments": 1.0,
          "date": "2018-12-23T00:00:00",
          "user": "choldgraf"
         },
         {
          "comments": 3.5,
          "date": "2018-12-30T00:00:00",
          "user": "choldgraf"
         },
         {
          "comments": 3.5,
          "date": "2019-01-06T00:00:00",
          "user": "choldgraf"
         },
         {
          "comments": 3.0,
          "date": "2019-01-13T00:00:00",
          "user": "choldgraf"
         },
         {
          "comments": 4.0,
          "date": "2019-01-20T00:00:00",
          "user": "choldgraf"
         },
         {
          "comments": 2.0,
          "date": "2019-01-27T00:00:00",
          "user": "choldgraf"
         },
         {
          "comments": 2.5,
          "date": "2019-02-03T00:00:00",
          "user": "choldgraf"
         },
         {
          "comments": 5.5,
          "date": "2019-02-10T00:00:00",
          "user": "choldgraf"
         },
         {
          "comments": 1.5,
          "date": "2018-02-25T00:00:00",
          "user": "clkao"
         },
         {
          "comments": 2.0,
          "date": "2018-03-04T00:00:00",
          "user": "clkao"
         },
         {
          "comments": 2.5,
          "date": "2018-04-01T00:00:00",
          "user": "clkao"
         },
         {
          "comments": 2.0,
          "date": "2018-04-22T00:00:00",
          "user": "clkao"
         },
         {
          "comments": 1.5,
          "date": "2018-04-29T00:00:00",
          "user": "clkao"
         },
         {
          "comments": 1.0,
          "date": "2018-06-24T00:00:00",
          "user": "clkao"
         },
         {
          "comments": 3.0,
          "date": "2018-07-08T00:00:00",
          "user": "clkao"
         },
         {
          "comments": 4.5,
          "date": "2018-07-15T00:00:00",
          "user": "clkao"
         },
         {
          "comments": 3.0,
          "date": "2018-07-22T00:00:00",
          "user": "clkao"
         },
         {
          "comments": 3.5,
          "date": "2018-07-29T00:00:00",
          "user": "clkao"
         },
         {
          "comments": 4.5,
          "date": "2018-09-09T00:00:00",
          "user": "clkao"
         },
         {
          "comments": 2.5,
          "date": "2018-09-16T00:00:00",
          "user": "clkao"
         },
         {
          "comments": 1.0,
          "date": "2018-09-30T00:00:00",
          "user": "clkao"
         },
         {
          "comments": 1.0,
          "date": "2018-12-02T00:00:00",
          "user": "clkao"
         },
         {
          "comments": 1.0,
          "date": "2018-12-09T00:00:00",
          "user": "clkao"
         },
         {
          "comments": 2.0,
          "date": "2017-08-27T00:00:00",
          "user": "cmoscardi"
         },
         {
          "comments": 1.0,
          "date": "2017-09-10T00:00:00",
          "user": "cmoscardi"
         },
         {
          "comments": 1.0,
          "date": "2017-09-24T00:00:00",
          "user": "cmoscardi"
         },
         {
          "comments": 2.0,
          "date": "2017-10-08T00:00:00",
          "user": "cmoscardi"
         },
         {
          "comments": 3.5,
          "date": "2017-10-15T00:00:00",
          "user": "cmoscardi"
         },
         {
          "comments": 2.5,
          "date": "2017-10-22T00:00:00",
          "user": "cmoscardi"
         },
         {
          "comments": 1.0,
          "date": "2017-10-29T00:00:00",
          "user": "cmoscardi"
         },
         {
          "comments": 1.5,
          "date": "2017-12-03T00:00:00",
          "user": "cmoscardi"
         },
         {
          "comments": 7.0,
          "date": "2017-12-24T00:00:00",
          "user": "consideRatio"
         },
         {
          "comments": 6.5,
          "date": "2017-12-31T00:00:00",
          "user": "consideRatio"
         },
         {
          "comments": 2.5,
          "date": "2018-01-07T00:00:00",
          "user": "consideRatio"
         },
         {
          "comments": 5.0,
          "date": "2018-01-14T00:00:00",
          "user": "consideRatio"
         },
         {
          "comments": 4.5,
          "date": "2018-01-28T00:00:00",
          "user": "consideRatio"
         },
         {
          "comments": 8.5,
          "date": "2018-02-11T00:00:00",
          "user": "consideRatio"
         },
         {
          "comments": 8.5,
          "date": "2018-02-18T00:00:00",
          "user": "consideRatio"
         },
         {
          "comments": 17.5,
          "date": "2018-02-25T00:00:00",
          "user": "consideRatio"
         },
         {
          "comments": 24.0,
          "date": "2018-03-04T00:00:00",
          "user": "consideRatio"
         },
         {
          "comments": 9.0,
          "date": "2018-03-11T00:00:00",
          "user": "consideRatio"
         },
         {
          "comments": 6.5,
          "date": "2018-03-18T00:00:00",
          "user": "consideRatio"
         },
         {
          "comments": 6.5,
          "date": "2018-03-25T00:00:00",
          "user": "consideRatio"
         },
         {
          "comments": 15.0,
          "date": "2018-04-01T00:00:00",
          "user": "consideRatio"
         },
         {
          "comments": 22.0,
          "date": "2018-04-08T00:00:00",
          "user": "consideRatio"
         },
         {
          "comments": 10.0,
          "date": "2018-04-15T00:00:00",
          "user": "consideRatio"
         },
         {
          "comments": 7.5,
          "date": "2018-04-22T00:00:00",
          "user": "consideRatio"
         },
         {
          "comments": 7.5,
          "date": "2018-04-29T00:00:00",
          "user": "consideRatio"
         },
         {
          "comments": 10.5,
          "date": "2018-05-06T00:00:00",
          "user": "consideRatio"
         },
         {
          "comments": 10.0,
          "date": "2018-05-13T00:00:00",
          "user": "consideRatio"
         },
         {
          "comments": 4.5,
          "date": "2018-05-20T00:00:00",
          "user": "consideRatio"
         },
         {
          "comments": 6.0,
          "date": "2018-05-27T00:00:00",
          "user": "consideRatio"
         },
         {
          "comments": 4.0,
          "date": "2018-06-03T00:00:00",
          "user": "consideRatio"
         },
         {
          "comments": 3.0,
          "date": "2018-06-10T00:00:00",
          "user": "consideRatio"
         },
         {
          "comments": 7.0,
          "date": "2018-06-17T00:00:00",
          "user": "consideRatio"
         },
         {
          "comments": 6.0,
          "date": "2018-06-24T00:00:00",
          "user": "consideRatio"
         },
         {
          "comments": 17.0,
          "date": "2018-07-01T00:00:00",
          "user": "consideRatio"
         },
         {
          "comments": 22.0,
          "date": "2018-07-08T00:00:00",
          "user": "consideRatio"
         },
         {
          "comments": 11.5,
          "date": "2018-07-15T00:00:00",
          "user": "consideRatio"
         },
         {
          "comments": 20.5,
          "date": "2018-07-22T00:00:00",
          "user": "consideRatio"
         },
         {
          "comments": 28.0,
          "date": "2018-07-29T00:00:00",
          "user": "consideRatio"
         },
         {
          "comments": 26.5,
          "date": "2018-08-05T00:00:00",
          "user": "consideRatio"
         },
         {
          "comments": 32.0,
          "date": "2018-08-12T00:00:00",
          "user": "consideRatio"
         },
         {
          "comments": 31.5,
          "date": "2018-08-19T00:00:00",
          "user": "consideRatio"
         },
         {
          "comments": 16.0,
          "date": "2018-08-26T00:00:00",
          "user": "consideRatio"
         },
         {
          "comments": 17.5,
          "date": "2018-09-02T00:00:00",
          "user": "consideRatio"
         },
         {
          "comments": 69.0,
          "date": "2018-09-09T00:00:00",
          "user": "consideRatio"
         },
         {
          "comments": 66.0,
          "date": "2018-09-16T00:00:00",
          "user": "consideRatio"
         },
         {
          "comments": 20.5,
          "date": "2018-09-23T00:00:00",
          "user": "consideRatio"
         },
         {
          "comments": 12.5,
          "date": "2018-09-30T00:00:00",
          "user": "consideRatio"
         },
         {
          "comments": 6.5,
          "date": "2018-10-07T00:00:00",
          "user": "consideRatio"
         },
         {
          "comments": 12.5,
          "date": "2018-10-14T00:00:00",
          "user": "consideRatio"
         },
         {
          "comments": 14.0,
          "date": "2018-10-21T00:00:00",
          "user": "consideRatio"
         },
         {
          "comments": 7.0,
          "date": "2018-10-28T00:00:00",
          "user": "consideRatio"
         },
         {
          "comments": 3.5,
          "date": "2018-11-04T00:00:00",
          "user": "consideRatio"
         },
         {
          "comments": 5.0,
          "date": "2018-11-11T00:00:00",
          "user": "consideRatio"
         },
         {
          "comments": 10.5,
          "date": "2018-11-18T00:00:00",
          "user": "consideRatio"
         },
         {
          "comments": 10.5,
          "date": "2018-11-25T00:00:00",
          "user": "consideRatio"
         },
         {
          "comments": 6.5,
          "date": "2018-12-02T00:00:00",
          "user": "consideRatio"
         },
         {
          "comments": 7.5,
          "date": "2018-12-09T00:00:00",
          "user": "consideRatio"
         },
         {
          "comments": 13.5,
          "date": "2018-12-16T00:00:00",
          "user": "consideRatio"
         },
         {
          "comments": 16.5,
          "date": "2018-12-23T00:00:00",
          "user": "consideRatio"
         },
         {
          "comments": 10.5,
          "date": "2018-12-30T00:00:00",
          "user": "consideRatio"
         },
         {
          "comments": 7.0,
          "date": "2019-01-06T00:00:00",
          "user": "consideRatio"
         },
         {
          "comments": 8.0,
          "date": "2019-01-13T00:00:00",
          "user": "consideRatio"
         },
         {
          "comments": 10.0,
          "date": "2019-01-20T00:00:00",
          "user": "consideRatio"
         },
         {
          "comments": 14.0,
          "date": "2019-01-27T00:00:00",
          "user": "consideRatio"
         },
         {
          "comments": 13.5,
          "date": "2019-02-03T00:00:00",
          "user": "consideRatio"
         },
         {
          "comments": 10.0,
          "date": "2019-02-10T00:00:00",
          "user": "consideRatio"
         },
         {
          "comments": 5.5,
          "date": "2019-02-17T00:00:00",
          "user": "consideRatio"
         },
         {
          "comments": 2.0,
          "date": "2018-10-28T00:00:00",
          "user": "dkipping"
         },
         {
          "comments": 1.5,
          "date": "2018-11-04T00:00:00",
          "user": "dkipping"
         },
         {
          "comments": 6.0,
          "date": "2018-11-11T00:00:00",
          "user": "dkipping"
         },
         {
          "comments": 11.5,
          "date": "2019-01-20T00:00:00",
          "user": "dkipping"
         },
         {
          "comments": 1.0,
          "date": "2017-10-15T00:00:00",
          "user": "gsemet"
         },
         {
          "comments": 2.5,
          "date": "2018-03-04T00:00:00",
          "user": "gsemet"
         },
         {
          "comments": 3.0,
          "date": "2018-03-11T00:00:00",
          "user": "gsemet"
         },
         {
          "comments": 12.5,
          "date": "2018-03-18T00:00:00",
          "user": "gsemet"
         },
         {
          "comments": 14.0,
          "date": "2018-03-25T00:00:00",
          "user": "gsemet"
         },
         {
          "comments": 7.0,
          "date": "2018-04-01T00:00:00",
          "user": "gsemet"
         },
         {
          "comments": 5.0,
          "date": "2018-04-08T00:00:00",
          "user": "gsemet"
         },
         {
          "comments": 1.5,
          "date": "2018-04-29T00:00:00",
          "user": "gsemet"
         },
         {
          "comments": 6.0,
          "date": "2018-05-06T00:00:00",
          "user": "gsemet"
         },
         {
          "comments": 5.5,
          "date": "2018-06-03T00:00:00",
          "user": "gsemet"
         },
         {
          "comments": 1.0,
          "date": "2018-06-10T00:00:00",
          "user": "gsemet"
         },
         {
          "comments": 1.0,
          "date": "2018-09-09T00:00:00",
          "user": "gsemet"
         },
         {
          "comments": 4.0,
          "date": "2018-04-22T00:00:00",
          "user": "jgerardsimcock"
         },
         {
          "comments": 4.5,
          "date": "2018-04-29T00:00:00",
          "user": "jgerardsimcock"
         },
         {
          "comments": 1.5,
          "date": "2018-05-06T00:00:00",
          "user": "jgerardsimcock"
         },
         {
          "comments": 1.0,
          "date": "2018-06-03T00:00:00",
          "user": "jgerardsimcock"
         },
         {
          "comments": 1.0,
          "date": "2018-06-24T00:00:00",
          "user": "jgerardsimcock"
         },
         {
          "comments": 2.0,
          "date": "2018-07-08T00:00:00",
          "user": "jgerardsimcock"
         },
         {
          "comments": 2.0,
          "date": "2018-07-15T00:00:00",
          "user": "jgerardsimcock"
         },
         {
          "comments": 1.0,
          "date": "2018-08-12T00:00:00",
          "user": "jgerardsimcock"
         },
         {
          "comments": 1.0,
          "date": "2017-12-17T00:00:00",
          "user": "jzf2101"
         },
         {
          "comments": 1.5,
          "date": "2018-02-25T00:00:00",
          "user": "jzf2101"
         },
         {
          "comments": 2.5,
          "date": "2018-03-04T00:00:00",
          "user": "jzf2101"
         },
         {
          "comments": 2.5,
          "date": "2018-03-25T00:00:00",
          "user": "jzf2101"
         },
         {
          "comments": 2.0,
          "date": "2018-04-15T00:00:00",
          "user": "jzf2101"
         },
         {
          "comments": 1.5,
          "date": "2018-04-22T00:00:00",
          "user": "jzf2101"
         },
         {
          "comments": 1.5,
          "date": "2018-05-06T00:00:00",
          "user": "jzf2101"
         },
         {
          "comments": 2.0,
          "date": "2018-05-20T00:00:00",
          "user": "jzf2101"
         },
         {
          "comments": 2.0,
          "date": "2018-06-03T00:00:00",
          "user": "jzf2101"
         },
         {
          "comments": 2.0,
          "date": "2018-07-22T00:00:00",
          "user": "jzf2101"
         },
         {
          "comments": 2.0,
          "date": "2018-09-09T00:00:00",
          "user": "jzf2101"
         },
         {
          "comments": 1.5,
          "date": "2018-10-21T00:00:00",
          "user": "jzf2101"
         },
         {
          "comments": 4.0,
          "date": "2018-11-18T00:00:00",
          "user": "jzf2101"
         },
         {
          "comments": 1.5,
          "date": "2017-11-26T00:00:00",
          "user": "manics"
         },
         {
          "comments": 1.5,
          "date": "2017-12-03T00:00:00",
          "user": "manics"
         },
         {
          "comments": 1.0,
          "date": "2017-12-10T00:00:00",
          "user": "manics"
         },
         {
          "comments": 3.5,
          "date": "2017-12-17T00:00:00",
          "user": "manics"
         },
         {
          "comments": 3.5,
          "date": "2018-01-14T00:00:00",
          "user": "manics"
         },
         {
          "comments": 1.5,
          "date": "2018-01-21T00:00:00",
          "user": "manics"
         },
         {
          "comments": 1.5,
          "date": "2018-02-04T00:00:00",
          "user": "manics"
         },
         {
          "comments": 1.5,
          "date": "2018-02-11T00:00:00",
          "user": "manics"
         },
         {
          "comments": 2.0,
          "date": "2018-02-18T00:00:00",
          "user": "manics"
         },
         {
          "comments": 3.5,
          "date": "2018-02-25T00:00:00",
          "user": "manics"
         },
         {
          "comments": 5.0,
          "date": "2018-03-04T00:00:00",
          "user": "manics"
         },
         {
          "comments": 4.0,
          "date": "2018-03-11T00:00:00",
          "user": "manics"
         },
         {
          "comments": 3.5,
          "date": "2018-03-18T00:00:00",
          "user": "manics"
         },
         {
          "comments": 5.0,
          "date": "2018-03-25T00:00:00",
          "user": "manics"
         },
         {
          "comments": 3.5,
          "date": "2018-04-01T00:00:00",
          "user": "manics"
         },
         {
          "comments": 3.0,
          "date": "2018-04-08T00:00:00",
          "user": "manics"
         },
         {
          "comments": 4.5,
          "date": "2018-04-15T00:00:00",
          "user": "manics"
         },
         {
          "comments": 3.5,
          "date": "2018-04-22T00:00:00",
          "user": "manics"
         },
         {
          "comments": 3.5,
          "date": "2018-05-06T00:00:00",
          "user": "manics"
         },
         {
          "comments": 2.5,
          "date": "2018-05-13T00:00:00",
          "user": "manics"
         },
         {
          "comments": 3.0,
          "date": "2018-05-27T00:00:00",
          "user": "manics"
         },
         {
          "comments": 4.5,
          "date": "2018-06-03T00:00:00",
          "user": "manics"
         },
         {
          "comments": 2.5,
          "date": "2018-06-17T00:00:00",
          "user": "manics"
         },
         {
          "comments": 1.5,
          "date": "2018-06-24T00:00:00",
          "user": "manics"
         },
         {
          "comments": 4.0,
          "date": "2018-07-01T00:00:00",
          "user": "manics"
         },
         {
          "comments": 4.0,
          "date": "2018-07-08T00:00:00",
          "user": "manics"
         },
         {
          "comments": 2.0,
          "date": "2018-07-29T00:00:00",
          "user": "manics"
         },
         {
          "comments": 3.0,
          "date": "2018-08-05T00:00:00",
          "user": "manics"
         },
         {
          "comments": 6.5,
          "date": "2018-08-12T00:00:00",
          "user": "manics"
         },
         {
          "comments": 5.0,
          "date": "2018-08-19T00:00:00",
          "user": "manics"
         },
         {
          "comments": 1.0,
          "date": "2018-09-02T00:00:00",
          "user": "manics"
         },
         {
          "comments": 2.0,
          "date": "2018-09-23T00:00:00",
          "user": "manics"
         },
         {
          "comments": 2.0,
          "date": "2018-09-30T00:00:00",
          "user": "manics"
         },
         {
          "comments": 2.0,
          "date": "2018-10-07T00:00:00",
          "user": "manics"
         },
         {
          "comments": 3.0,
          "date": "2018-10-21T00:00:00",
          "user": "manics"
         },
         {
          "comments": 3.5,
          "date": "2018-10-28T00:00:00",
          "user": "manics"
         },
         {
          "comments": 4.0,
          "date": "2018-11-11T00:00:00",
          "user": "manics"
         },
         {
          "comments": 3.0,
          "date": "2018-11-18T00:00:00",
          "user": "manics"
         },
         {
          "comments": 2.0,
          "date": "2018-12-09T00:00:00",
          "user": "manics"
         },
         {
          "comments": 4.5,
          "date": "2018-12-16T00:00:00",
          "user": "manics"
         },
         {
          "comments": 4.0,
          "date": "2018-12-23T00:00:00",
          "user": "manics"
         },
         {
          "comments": 1.0,
          "date": "2019-01-06T00:00:00",
          "user": "manics"
         },
         {
          "comments": 2.0,
          "date": "2019-01-20T00:00:00",
          "user": "manics"
         },
         {
          "comments": 4.5,
          "date": "2019-01-27T00:00:00",
          "user": "manics"
         },
         {
          "comments": 6.0,
          "date": "2019-02-03T00:00:00",
          "user": "manics"
         },
         {
          "comments": 1.5,
          "date": "2017-08-27T00:00:00",
          "user": "minrk"
         },
         {
          "comments": 10.0,
          "date": "2017-09-24T00:00:00",
          "user": "minrk"
         },
         {
          "comments": 9.5,
          "date": "2017-10-01T00:00:00",
          "user": "minrk"
         },
         {
          "comments": 1.0,
          "date": "2017-10-29T00:00:00",
          "user": "minrk"
         },
         {
          "comments": 2.5,
          "date": "2017-11-05T00:00:00",
          "user": "minrk"
         },
         {
          "comments": 4.0,
          "date": "2017-11-12T00:00:00",
          "user": "minrk"
         },
         {
          "comments": 4.5,
          "date": "2017-11-19T00:00:00",
          "user": "minrk"
         },
         {
          "comments": 4.0,
          "date": "2017-11-26T00:00:00",
          "user": "minrk"
         },
         {
          "comments": 2.0,
          "date": "2017-12-03T00:00:00",
          "user": "minrk"
         },
         {
          "comments": 5.5,
          "date": "2017-12-10T00:00:00",
          "user": "minrk"
         },
         {
          "comments": 5.5,
          "date": "2017-12-24T00:00:00",
          "user": "minrk"
         },
         {
          "comments": 2.0,
          "date": "2018-01-07T00:00:00",
          "user": "minrk"
         },
         {
          "comments": 3.5,
          "date": "2018-01-14T00:00:00",
          "user": "minrk"
         },
         {
          "comments": 4.0,
          "date": "2018-01-21T00:00:00",
          "user": "minrk"
         },
         {
          "comments": 3.0,
          "date": "2018-01-28T00:00:00",
          "user": "minrk"
         },
         {
          "comments": 1.5,
          "date": "2018-02-04T00:00:00",
          "user": "minrk"
         },
         {
          "comments": 1.0,
          "date": "2018-02-11T00:00:00",
          "user": "minrk"
         },
         {
          "comments": 1.0,
          "date": "2018-02-25T00:00:00",
          "user": "minrk"
         },
         {
          "comments": 7.0,
          "date": "2018-03-04T00:00:00",
          "user": "minrk"
         },
         {
          "comments": 10.0,
          "date": "2018-03-18T00:00:00",
          "user": "minrk"
         },
         {
          "comments": 8.0,
          "date": "2018-03-25T00:00:00",
          "user": "minrk"
         },
         {
          "comments": 8.0,
          "date": "2018-04-01T00:00:00",
          "user": "minrk"
         },
         {
          "comments": 5.5,
          "date": "2018-04-08T00:00:00",
          "user": "minrk"
         },
         {
          "comments": 3.0,
          "date": "2018-04-22T00:00:00",
          "user": "minrk"
         },
         {
          "comments": 2.0,
          "date": "2018-04-29T00:00:00",
          "user": "minrk"
         },
         {
          "comments": 1.5,
          "date": "2018-05-06T00:00:00",
          "user": "minrk"
         },
         {
          "comments": 2.5,
          "date": "2018-05-13T00:00:00",
          "user": "minrk"
         },
         {
          "comments": 2.5,
          "date": "2018-05-20T00:00:00",
          "user": "minrk"
         },
         {
          "comments": 3.0,
          "date": "2018-06-10T00:00:00",
          "user": "minrk"
         },
         {
          "comments": 3.5,
          "date": "2018-06-24T00:00:00",
          "user": "minrk"
         },
         {
          "comments": 2.5,
          "date": "2018-07-01T00:00:00",
          "user": "minrk"
         },
         {
          "comments": 2.5,
          "date": "2018-07-08T00:00:00",
          "user": "minrk"
         },
         {
          "comments": 2.5,
          "date": "2018-08-05T00:00:00",
          "user": "minrk"
         },
         {
          "comments": 4.0,
          "date": "2018-08-12T00:00:00",
          "user": "minrk"
         },
         {
          "comments": 6.5,
          "date": "2018-08-19T00:00:00",
          "user": "minrk"
         },
         {
          "comments": 5.5,
          "date": "2018-08-26T00:00:00",
          "user": "minrk"
         },
         {
          "comments": 3.5,
          "date": "2018-09-02T00:00:00",
          "user": "minrk"
         },
         {
          "comments": 9.0,
          "date": "2018-09-09T00:00:00",
          "user": "minrk"
         },
         {
          "comments": 9.5,
          "date": "2018-09-16T00:00:00",
          "user": "minrk"
         },
         {
          "comments": 7.0,
          "date": "2018-09-23T00:00:00",
          "user": "minrk"
         },
         {
          "comments": 5.0,
          "date": "2018-10-07T00:00:00",
          "user": "minrk"
         },
         {
          "comments": 4.5,
          "date": "2018-10-14T00:00:00",
          "user": "minrk"
         },
         {
          "comments": 5.5,
          "date": "2018-10-28T00:00:00",
          "user": "minrk"
         },
         {
          "comments": 4.5,
          "date": "2018-11-11T00:00:00",
          "user": "minrk"
         },
         {
          "comments": 4.0,
          "date": "2018-11-18T00:00:00",
          "user": "minrk"
         },
         {
          "comments": 2.0,
          "date": "2018-11-25T00:00:00",
          "user": "minrk"
         },
         {
          "comments": 1.5,
          "date": "2018-12-02T00:00:00",
          "user": "minrk"
         },
         {
          "comments": 3.0,
          "date": "2018-12-09T00:00:00",
          "user": "minrk"
         },
         {
          "comments": 7.5,
          "date": "2018-12-16T00:00:00",
          "user": "minrk"
         },
         {
          "comments": 7.5,
          "date": "2018-12-23T00:00:00",
          "user": "minrk"
         },
         {
          "comments": 3.0,
          "date": "2019-01-06T00:00:00",
          "user": "minrk"
         },
         {
          "comments": 2.0,
          "date": "2019-01-13T00:00:00",
          "user": "minrk"
         },
         {
          "comments": 6.0,
          "date": "2019-01-20T00:00:00",
          "user": "minrk"
         },
         {
          "comments": 10.0,
          "date": "2019-02-10T00:00:00",
          "user": "minrk"
         },
         {
          "comments": 4.0,
          "date": "2017-12-17T00:00:00",
          "user": "mrocklin"
         },
         {
          "comments": 3.5,
          "date": "2017-12-24T00:00:00",
          "user": "mrocklin"
         },
         {
          "comments": 6.0,
          "date": "2018-01-07T00:00:00",
          "user": "mrocklin"
         },
         {
          "comments": 5.5,
          "date": "2018-01-14T00:00:00",
          "user": "mrocklin"
         },
         {
          "comments": 2.0,
          "date": "2018-01-21T00:00:00",
          "user": "mrocklin"
         },
         {
          "comments": 1.0,
          "date": "2018-02-11T00:00:00",
          "user": "mrocklin"
         },
         {
          "comments": 1.5,
          "date": "2018-03-04T00:00:00",
          "user": "mrocklin"
         },
         {
          "comments": 1.5,
          "date": "2018-03-25T00:00:00",
          "user": "mrocklin"
         },
         {
          "comments": 1.5,
          "date": "2018-05-06T00:00:00",
          "user": "mrocklin"
         },
         {
          "comments": 1.5,
          "date": "2018-05-27T00:00:00",
          "user": "mrocklin"
         },
         {
          "comments": 12.0,
          "date": "2017-08-20T00:00:00",
          "user": "rdodev"
         },
         {
          "comments": 6.5,
          "date": "2017-09-03T00:00:00",
          "user": "rdodev"
         },
         {
          "comments": 2.0,
          "date": "2017-09-24T00:00:00",
          "user": "rdodev"
         },
         {
          "comments": 2.0,
          "date": "2017-04-30T00:00:00",
          "user": "ryanlovett"
         },
         {
          "comments": 2.0,
          "date": "2017-06-04T00:00:00",
          "user": "ryanlovett"
         },
         {
          "comments": 1.5,
          "date": "2017-09-10T00:00:00",
          "user": "ryanlovett"
         },
         {
          "comments": 3.0,
          "date": "2017-12-10T00:00:00",
          "user": "ryanlovett"
         },
         {
          "comments": 2.5,
          "date": "2017-12-17T00:00:00",
          "user": "ryanlovett"
         },
         {
          "comments": 2.0,
          "date": "2017-12-31T00:00:00",
          "user": "ryanlovett"
         },
         {
          "comments": 4.0,
          "date": "2018-01-14T00:00:00",
          "user": "ryanlovett"
         },
         {
          "comments": 3.0,
          "date": "2018-01-21T00:00:00",
          "user": "ryanlovett"
         },
         {
          "comments": 3.0,
          "date": "2018-01-28T00:00:00",
          "user": "ryanlovett"
         },
         {
          "comments": 8.0,
          "date": "2018-02-04T00:00:00",
          "user": "ryanlovett"
         },
         {
          "comments": 6.0,
          "date": "2018-02-11T00:00:00",
          "user": "ryanlovett"
         },
         {
          "comments": 1.0,
          "date": "2018-03-04T00:00:00",
          "user": "ryanlovett"
         },
         {
          "comments": 1.5,
          "date": "2018-06-17T00:00:00",
          "user": "ryanlovett"
         },
         {
          "comments": 2.5,
          "date": "2018-07-15T00:00:00",
          "user": "ryanlovett"
         },
         {
          "comments": 2.5,
          "date": "2018-08-05T00:00:00",
          "user": "ryanlovett"
         },
         {
          "comments": 1.5,
          "date": "2018-08-12T00:00:00",
          "user": "ryanlovett"
         },
         {
          "comments": 3.5,
          "date": "2018-08-19T00:00:00",
          "user": "ryanlovett"
         },
         {
          "comments": 3.5,
          "date": "2018-09-09T00:00:00",
          "user": "ryanlovett"
         },
         {
          "comments": 2.0,
          "date": "2018-09-30T00:00:00",
          "user": "ryanlovett"
         },
         {
          "comments": 2.0,
          "date": "2018-10-21T00:00:00",
          "user": "ryanlovett"
         },
         {
          "comments": 2.0,
          "date": "2018-10-28T00:00:00",
          "user": "ryanlovett"
         },
         {
          "comments": 2.5,
          "date": "2018-11-04T00:00:00",
          "user": "ryanlovett"
         },
         {
          "comments": 1.5,
          "date": "2018-12-02T00:00:00",
          "user": "ryanlovett"
         },
         {
          "comments": 3.5,
          "date": "2017-04-23T00:00:00",
          "user": "willingc"
         },
         {
          "comments": 5.5,
          "date": "2017-04-30T00:00:00",
          "user": "willingc"
         },
         {
          "comments": 5.0,
          "date": "2017-05-07T00:00:00",
          "user": "willingc"
         },
         {
          "comments": 1.5,
          "date": "2017-05-14T00:00:00",
          "user": "willingc"
         },
         {
          "comments": 2.5,
          "date": "2017-05-28T00:00:00",
          "user": "willingc"
         },
         {
          "comments": 3.0,
          "date": "2017-06-04T00:00:00",
          "user": "willingc"
         },
         {
          "comments": 1.5,
          "date": "2017-06-18T00:00:00",
          "user": "willingc"
         },
         {
          "comments": 11.0,
          "date": "2017-06-25T00:00:00",
          "user": "willingc"
         },
         {
          "comments": 12.0,
          "date": "2017-07-02T00:00:00",
          "user": "willingc"
         },
         {
          "comments": 3.0,
          "date": "2017-07-16T00:00:00",
          "user": "willingc"
         },
         {
          "comments": 2.0,
          "date": "2017-07-23T00:00:00",
          "user": "willingc"
         },
         {
          "comments": 1.0,
          "date": "2017-07-30T00:00:00",
          "user": "willingc"
         },
         {
          "comments": 3.0,
          "date": "2017-08-13T00:00:00",
          "user": "willingc"
         },
         {
          "comments": 4.0,
          "date": "2017-08-20T00:00:00",
          "user": "willingc"
         },
         {
          "comments": 3.0,
          "date": "2017-08-27T00:00:00",
          "user": "willingc"
         },
         {
          "comments": 2.0,
          "date": "2017-09-03T00:00:00",
          "user": "willingc"
         },
         {
          "comments": 2.0,
          "date": "2017-09-10T00:00:00",
          "user": "willingc"
         },
         {
          "comments": 2.5,
          "date": "2017-09-17T00:00:00",
          "user": "willingc"
         },
         {
          "comments": 11.0,
          "date": "2017-09-24T00:00:00",
          "user": "willingc"
         },
         {
          "comments": 11.0,
          "date": "2017-10-01T00:00:00",
          "user": "willingc"
         },
         {
          "comments": 5.0,
          "date": "2017-10-15T00:00:00",
          "user": "willingc"
         },
         {
          "comments": 4.5,
          "date": "2017-10-29T00:00:00",
          "user": "willingc"
         },
         {
          "comments": 1.0,
          "date": "2017-11-05T00:00:00",
          "user": "willingc"
         },
         {
          "comments": 5.0,
          "date": "2017-11-12T00:00:00",
          "user": "willingc"
         },
         {
          "comments": 6.0,
          "date": "2017-11-19T00:00:00",
          "user": "willingc"
         },
         {
          "comments": 3.5,
          "date": "2017-12-03T00:00:00",
          "user": "willingc"
         },
         {
          "comments": 4.0,
          "date": "2017-12-10T00:00:00",
          "user": "willingc"
         },
         {
          "comments": 3.5,
          "date": "2017-12-17T00:00:00",
          "user": "willingc"
         },
         {
          "comments": 3.5,
          "date": "2017-12-24T00:00:00",
          "user": "willingc"
         },
         {
          "comments": 2.5,
          "date": "2018-01-07T00:00:00",
          "user": "willingc"
         },
         {
          "comments": 2.5,
          "date": "2018-01-14T00:00:00",
          "user": "willingc"
         },
         {
          "comments": 3.0,
          "date": "2018-01-21T00:00:00",
          "user": "willingc"
         },
         {
          "comments": 2.5,
          "date": "2018-01-28T00:00:00",
          "user": "willingc"
         },
         {
          "comments": 8.0,
          "date": "2018-02-04T00:00:00",
          "user": "willingc"
         },
         {
          "comments": 8.0,
          "date": "2018-02-11T00:00:00",
          "user": "willingc"
         },
         {
          "comments": 2.0,
          "date": "2018-02-18T00:00:00",
          "user": "willingc"
         },
         {
          "comments": 1.5,
          "date": "2018-02-25T00:00:00",
          "user": "willingc"
         },
         {
          "comments": 17.0,
          "date": "2018-03-04T00:00:00",
          "user": "willingc"
         },
         {
          "comments": 19.0,
          "date": "2018-03-11T00:00:00",
          "user": "willingc"
         },
         {
          "comments": 6.5,
          "date": "2018-03-25T00:00:00",
          "user": "willingc"
         },
         {
          "comments": 5.5,
          "date": "2018-04-08T00:00:00",
          "user": "willingc"
         },
         {
          "comments": 3.0,
          "date": "2018-04-15T00:00:00",
          "user": "willingc"
         },
         {
          "comments": 4.0,
          "date": "2018-04-22T00:00:00",
          "user": "willingc"
         },
         {
          "comments": 4.5,
          "date": "2018-04-29T00:00:00",
          "user": "willingc"
         },
         {
          "comments": 2.0,
          "date": "2018-05-20T00:00:00",
          "user": "willingc"
         },
         {
          "comments": 1.0,
          "date": "2018-06-03T00:00:00",
          "user": "willingc"
         },
         {
          "comments": 1.5,
          "date": "2018-06-10T00:00:00",
          "user": "willingc"
         },
         {
          "comments": 4.0,
          "date": "2018-06-17T00:00:00",
          "user": "willingc"
         },
         {
          "comments": 4.0,
          "date": "2018-06-24T00:00:00",
          "user": "willingc"
         },
         {
          "comments": 1.5,
          "date": "2018-07-01T00:00:00",
          "user": "willingc"
         },
         {
          "comments": 1.0,
          "date": "2018-07-08T00:00:00",
          "user": "willingc"
         },
         {
          "comments": 1.5,
          "date": "2018-07-15T00:00:00",
          "user": "willingc"
         },
         {
          "comments": 2.5,
          "date": "2018-08-12T00:00:00",
          "user": "willingc"
         },
         {
          "comments": 2.5,
          "date": "2018-08-19T00:00:00",
          "user": "willingc"
         },
         {
          "comments": 1.5,
          "date": "2018-09-09T00:00:00",
          "user": "willingc"
         },
         {
          "comments": 1.0,
          "date": "2018-09-16T00:00:00",
          "user": "willingc"
         },
         {
          "comments": 1.5,
          "date": "2018-09-23T00:00:00",
          "user": "willingc"
         },
         {
          "comments": 2.0,
          "date": "2018-09-30T00:00:00",
          "user": "willingc"
         },
         {
          "comments": 1.5,
          "date": "2018-10-14T00:00:00",
          "user": "willingc"
         },
         {
          "comments": 1.0,
          "date": "2018-10-21T00:00:00",
          "user": "willingc"
         },
         {
          "comments": 1.0,
          "date": "2018-10-28T00:00:00",
          "user": "willingc"
         },
         {
          "comments": 1.0,
          "date": "2019-02-03T00:00:00",
          "user": "willingc"
         },
         {
          "comments": 2.5,
          "date": "2017-04-23T00:00:00",
          "user": "yuvipanda"
         },
         {
          "comments": 2.0,
          "date": "2017-04-30T00:00:00",
          "user": "yuvipanda"
         },
         {
          "comments": 3.0,
          "date": "2017-05-07T00:00:00",
          "user": "yuvipanda"
         },
         {
          "comments": 4.5,
          "date": "2017-05-14T00:00:00",
          "user": "yuvipanda"
         },
         {
          "comments": 4.0,
          "date": "2017-05-21T00:00:00",
          "user": "yuvipanda"
         },
         {
          "comments": 2.5,
          "date": "2017-05-28T00:00:00",
          "user": "yuvipanda"
         },
         {
          "comments": 1.5,
          "date": "2017-06-04T00:00:00",
          "user": "yuvipanda"
         },
         {
          "comments": 7.0,
          "date": "2017-06-25T00:00:00",
          "user": "yuvipanda"
         },
         {
          "comments": 10.0,
          "date": "2017-07-02T00:00:00",
          "user": "yuvipanda"
         },
         {
          "comments": 5.5,
          "date": "2017-07-09T00:00:00",
          "user": "yuvipanda"
         },
         {
          "comments": 3.0,
          "date": "2017-07-16T00:00:00",
          "user": "yuvipanda"
         },
         {
          "comments": 2.5,
          "date": "2017-07-30T00:00:00",
          "user": "yuvipanda"
         },
         {
          "comments": 7.5,
          "date": "2017-08-13T00:00:00",
          "user": "yuvipanda"
         },
         {
          "comments": 8.5,
          "date": "2017-08-20T00:00:00",
          "user": "yuvipanda"
         },
         {
          "comments": 5.0,
          "date": "2017-08-27T00:00:00",
          "user": "yuvipanda"
         },
         {
          "comments": 4.0,
          "date": "2017-09-03T00:00:00",
          "user": "yuvipanda"
         },
         {
          "comments": 2.5,
          "date": "2017-09-17T00:00:00",
          "user": "yuvipanda"
         },
         {
          "comments": 14.5,
          "date": "2017-09-24T00:00:00",
          "user": "yuvipanda"
         },
         {
          "comments": 17.0,
          "date": "2017-10-01T00:00:00",
          "user": "yuvipanda"
         },
         {
          "comments": 6.0,
          "date": "2017-10-08T00:00:00",
          "user": "yuvipanda"
         },
         {
          "comments": 8.5,
          "date": "2017-10-15T00:00:00",
          "user": "yuvipanda"
         },
         {
          "comments": 11.5,
          "date": "2017-10-22T00:00:00",
          "user": "yuvipanda"
         },
         {
          "comments": 12.0,
          "date": "2017-10-29T00:00:00",
          "user": "yuvipanda"
         },
         {
          "comments": 16.5,
          "date": "2017-11-05T00:00:00",
          "user": "yuvipanda"
         },
         {
          "comments": 20.0,
          "date": "2017-11-12T00:00:00",
          "user": "yuvipanda"
         },
         {
          "comments": 18.5,
          "date": "2017-11-19T00:00:00",
          "user": "yuvipanda"
         },
         {
          "comments": 11.0,
          "date": "2017-11-26T00:00:00",
          "user": "yuvipanda"
         },
         {
          "comments": 16.5,
          "date": "2017-12-03T00:00:00",
          "user": "yuvipanda"
         },
         {
          "comments": 24.0,
          "date": "2017-12-10T00:00:00",
          "user": "yuvipanda"
         },
         {
          "comments": 19.0,
          "date": "2017-12-17T00:00:00",
          "user": "yuvipanda"
         },
         {
          "comments": 21.5,
          "date": "2017-12-24T00:00:00",
          "user": "yuvipanda"
         },
         {
          "comments": 15.5,
          "date": "2017-12-31T00:00:00",
          "user": "yuvipanda"
         },
         {
          "comments": 9.0,
          "date": "2018-01-07T00:00:00",
          "user": "yuvipanda"
         },
         {
          "comments": 29.5,
          "date": "2018-01-14T00:00:00",
          "user": "yuvipanda"
         },
         {
          "comments": 55.5,
          "date": "2018-01-21T00:00:00",
          "user": "yuvipanda"
         },
         {
          "comments": 53.0,
          "date": "2018-01-28T00:00:00",
          "user": "yuvipanda"
         },
         {
          "comments": 32.5,
          "date": "2018-02-04T00:00:00",
          "user": "yuvipanda"
         },
         {
          "comments": 19.0,
          "date": "2018-02-11T00:00:00",
          "user": "yuvipanda"
         },
         {
          "comments": 12.0,
          "date": "2018-02-18T00:00:00",
          "user": "yuvipanda"
         },
         {
          "comments": 13.5,
          "date": "2018-02-25T00:00:00",
          "user": "yuvipanda"
         },
         {
          "comments": 22.0,
          "date": "2018-03-04T00:00:00",
          "user": "yuvipanda"
         },
         {
          "comments": 25.0,
          "date": "2018-03-18T00:00:00",
          "user": "yuvipanda"
         },
         {
          "comments": 19.0,
          "date": "2018-03-25T00:00:00",
          "user": "yuvipanda"
         },
         {
          "comments": 22.0,
          "date": "2018-04-01T00:00:00",
          "user": "yuvipanda"
         },
         {
          "comments": 24.0,
          "date": "2018-04-08T00:00:00",
          "user": "yuvipanda"
         },
         {
          "comments": 12.0,
          "date": "2018-04-15T00:00:00",
          "user": "yuvipanda"
         },
         {
          "comments": 5.5,
          "date": "2018-04-29T00:00:00",
          "user": "yuvipanda"
         },
         {
          "comments": 4.5,
          "date": "2018-05-06T00:00:00",
          "user": "yuvipanda"
         },
         {
          "comments": 2.0,
          "date": "2018-05-13T00:00:00",
          "user": "yuvipanda"
         },
         {
          "comments": 1.0,
          "date": "2018-05-20T00:00:00",
          "user": "yuvipanda"
         },
         {
          "comments": 2.0,
          "date": "2018-05-27T00:00:00",
          "user": "yuvipanda"
         },
         {
          "comments": 2.0,
          "date": "2018-06-24T00:00:00",
          "user": "yuvipanda"
         },
         {
          "comments": 3.0,
          "date": "2018-07-01T00:00:00",
          "user": "yuvipanda"
         },
         {
          "comments": 3.0,
          "date": "2018-07-08T00:00:00",
          "user": "yuvipanda"
         },
         {
          "comments": 1.0,
          "date": "2018-08-26T00:00:00",
          "user": "yuvipanda"
         },
         {
          "comments": 2.5,
          "date": "2018-09-02T00:00:00",
          "user": "yuvipanda"
         },
         {
          "comments": 5.5,
          "date": "2018-09-09T00:00:00",
          "user": "yuvipanda"
         },
         {
          "comments": 4.0,
          "date": "2018-09-16T00:00:00",
          "user": "yuvipanda"
         },
         {
          "comments": 1.5,
          "date": "2018-09-23T00:00:00",
          "user": "yuvipanda"
         },
         {
          "comments": 5.0,
          "date": "2018-10-28T00:00:00",
          "user": "yuvipanda"
         },
         {
          "comments": 5.5,
          "date": "2018-11-04T00:00:00",
          "user": "yuvipanda"
         },
         {
          "comments": 2.5,
          "date": "2018-12-09T00:00:00",
          "user": "yuvipanda"
         },
         {
          "comments": 3.0,
          "date": "2018-12-16T00:00:00",
          "user": "yuvipanda"
         },
         {
          "comments": 3.5,
          "date": "2018-12-23T00:00:00",
          "user": "yuvipanda"
         },
         {
          "comments": 3.0,
          "date": "2018-12-30T00:00:00",
          "user": "yuvipanda"
         },
         {
          "comments": 2.5,
          "date": "2019-01-06T00:00:00",
          "user": "yuvipanda"
         },
         {
          "comments": 2.0,
          "date": "2019-02-03T00:00:00",
          "user": "yuvipanda"
         },
         {
          "comments": 1.0,
          "date": "2017-10-08T00:00:00",
          "user": "zonca"
         },
         {
          "comments": 1.0,
          "date": "2017-10-15T00:00:00",
          "user": "zonca"
         },
         {
          "comments": 3.0,
          "date": "2017-10-29T00:00:00",
          "user": "zonca"
         },
         {
          "comments": 3.0,
          "date": "2017-11-05T00:00:00",
          "user": "zonca"
         },
         {
          "comments": 1.0,
          "date": "2017-11-19T00:00:00",
          "user": "zonca"
         },
         {
          "comments": 1.0,
          "date": "2017-12-03T00:00:00",
          "user": "zonca"
         },
         {
          "comments": 1.0,
          "date": "2017-12-17T00:00:00",
          "user": "zonca"
         },
         {
          "comments": 1.0,
          "date": "2018-03-25T00:00:00",
          "user": "zonca"
         },
         {
          "comments": 1.0,
          "date": "2018-05-06T00:00:00",
          "user": "zonca"
         },
         {
          "comments": 1.0,
          "date": "2018-05-13T00:00:00",
          "user": "zonca"
         },
         {
          "comments": 1.0,
          "date": "2018-05-20T00:00:00",
          "user": "zonca"
         },
         {
          "comments": 1.0,
          "date": "2018-06-24T00:00:00",
          "user": "zonca"
         }
        ]
       },
       "layer": [
        {
         "data": {
          "name": "data-8b01bd2da69c34b695637fbfc7e79767"
         },
         "encoding": {
          "color": {
           "field": "user",
           "type": "nominal"
          },
          "opacity": {
           "value": 0
          },
          "tooltip": {
           "field": "user",
           "type": "nominal"
          },
          "x": {
           "field": "date",
           "scale": {
            "domain": [
             "2016-01-01",
             "2019-02-01"
            ]
           },
           "type": "temporal"
          },
          "y": {
           "field": "comments",
           "type": "quantitative"
          }
         },
         "mark": {
          "clip": true,
          "type": "circle"
         },
         "selection": {
          "selector001": {
           "fields": [
            "user"
           ],
           "nearest": true,
           "on": "mouseover",
           "type": "single"
          }
         },
         "width": 1000
        },
        {
         "data": {
          "name": "data-8b01bd2da69c34b695637fbfc7e79767"
         },
         "encoding": {
          "color": {
           "condition": {
            "field": "user",
            "selection": "selector001",
            "type": "nominal"
           },
           "value": "lightgray"
          },
          "size": {
           "condition": {
            "selection": {
             "not": "selector001"
            },
            "value": 1
           },
           "value": 4
          },
          "tooltip": {
           "field": "user",
           "type": "nominal"
          },
          "x": {
           "field": "date",
           "scale": {
            "domain": [
             "2016-01-01",
             "2019-02-01"
            ]
           },
           "type": "temporal"
          },
          "y": {
           "field": "comments",
           "type": "quantitative"
          }
         },
         "mark": {
          "clip": true,
          "type": "line"
         },
         "width": 1000
        }
       ]
      },
      "text/plain": [
       "<VegaLite 2 object>\n",
       "\n",
       "If you see this message, it means the renderer has not been properly enabled\n",
       "for the frontend that you are using. For more information, see\n",
       "https://altair-viz.github.io/user_guide/troubleshooting.html\n"
      ]
     },
     "execution_count": 14,
     "metadata": {},
     "output_type": "execute_result"
    }
   ],
   "source": [
    "selectable_line_plot(user_data.reset_index(), 'date', 'comments', 'user')"
   ]
  },
  {
   "cell_type": "code",
   "execution_count": 15,
   "metadata": {
    "papermill": {
     "duration": 0.126693,
     "end_time": "2019-02-14T22:40:23.297858",
     "exception": false,
     "start_time": "2019-02-14T22:40:23.171165",
     "status": "completed"
    },
    "tags": []
   },
   "outputs": [
    {
     "data": {
      "application/vnd.vegalite.v2+json": {
       "$schema": "https://vega.github.io/schema/vega-lite/v2.6.0.json",
       "config": {
        "view": {
         "height": 300,
         "width": 400
        }
       },
       "data": {
        "name": "data-b48387ab726e37430d651b21e22e1944"
       },
       "datasets": {
        "data-b48387ab726e37430d651b21e22e1944": [
         {
          "comments": 12.0,
          "date": "2017-04-23T00:00:00"
         },
         {
          "comments": 16.0,
          "date": "2017-04-30T00:00:00"
         },
         {
          "comments": 13.5,
          "date": "2017-05-07T00:00:00"
         },
         {
          "comments": 6.0,
          "date": "2017-05-14T00:00:00"
         },
         {
          "comments": 5.5,
          "date": "2017-05-21T00:00:00"
         },
         {
          "comments": 6.5,
          "date": "2017-05-28T00:00:00"
         },
         {
          "comments": 10.0,
          "date": "2017-06-04T00:00:00"
         },
         {
          "comments": 4.0,
          "date": "2017-06-11T00:00:00"
         },
         {
          "comments": 3.0,
          "date": "2017-06-18T00:00:00"
         },
         {
          "comments": 20.0,
          "date": "2017-06-25T00:00:00"
         },
         {
          "comments": 25.0,
          "date": "2017-07-02T00:00:00"
         },
         {
          "comments": 8.0,
          "date": "2017-07-09T00:00:00"
         },
         {
          "comments": 6.0,
          "date": "2017-07-16T00:00:00"
         },
         {
          "comments": 2.0,
          "date": "2017-07-23T00:00:00"
         },
         {
          "comments": 6.5,
          "date": "2017-07-30T00:00:00"
         },
         {
          "comments": 23.0,
          "date": "2017-08-13T00:00:00"
         },
         {
          "comments": 48.0,
          "date": "2017-08-20T00:00:00"
         },
         {
          "comments": 27.0,
          "date": "2017-08-27T00:00:00"
         },
         {
          "comments": 16.0,
          "date": "2017-09-03T00:00:00"
         },
         {
          "comments": 7.0,
          "date": "2017-09-10T00:00:00"
         },
         {
          "comments": 11.0,
          "date": "2017-09-17T00:00:00"
         },
         {
          "comments": 61.5,
          "date": "2017-09-24T00:00:00"
         },
         {
          "comments": 37.5,
          "date": "2017-10-01T00:00:00"
         },
         {
          "comments": 32.0,
          "date": "2017-10-08T00:00:00"
         },
         {
          "comments": 25.5,
          "date": "2017-10-15T00:00:00"
         },
         {
          "comments": 18.0,
          "date": "2017-10-22T00:00:00"
         },
         {
          "comments": 39.0,
          "date": "2017-10-29T00:00:00"
         },
         {
          "comments": 69.0,
          "date": "2017-11-05T00:00:00"
         },
         {
          "comments": 39.5,
          "date": "2017-11-12T00:00:00"
         },
         {
          "comments": 38.5,
          "date": "2017-11-19T00:00:00"
         },
         {
          "comments": 25.5,
          "date": "2017-11-26T00:00:00"
         },
         {
          "comments": 41.0,
          "date": "2017-12-03T00:00:00"
         },
         {
          "comments": 51.5,
          "date": "2017-12-10T00:00:00"
         },
         {
          "comments": 45.5,
          "date": "2017-12-17T00:00:00"
         },
         {
          "comments": 47.5,
          "date": "2017-12-24T00:00:00"
         },
         {
          "comments": 29.5,
          "date": "2017-12-31T00:00:00"
         },
         {
          "comments": 28.5,
          "date": "2018-01-07T00:00:00"
         },
         {
          "comments": 70.5,
          "date": "2018-01-14T00:00:00"
         },
         {
          "comments": 112.0,
          "date": "2018-01-21T00:00:00"
         },
         {
          "comments": 115.0,
          "date": "2018-01-28T00:00:00"
         },
         {
          "comments": 90.0,
          "date": "2018-02-04T00:00:00"
         },
         {
          "comments": 72.5,
          "date": "2018-02-11T00:00:00"
         },
         {
          "comments": 39.5,
          "date": "2018-02-18T00:00:00"
         },
         {
          "comments": 61.5,
          "date": "2018-02-25T00:00:00"
         },
         {
          "comments": 107.0,
          "date": "2018-03-04T00:00:00"
         },
         {
          "comments": 49.5,
          "date": "2018-03-11T00:00:00"
         },
         {
          "comments": 68.0,
          "date": "2018-03-18T00:00:00"
         },
         {
          "comments": 79.0,
          "date": "2018-03-25T00:00:00"
         },
         {
          "comments": 84.0,
          "date": "2018-04-01T00:00:00"
         },
         {
          "comments": 89.0,
          "date": "2018-04-08T00:00:00"
         },
         {
          "comments": 45.0,
          "date": "2018-04-15T00:00:00"
         },
         {
          "comments": 39.0,
          "date": "2018-04-22T00:00:00"
         },
         {
          "comments": 36.0,
          "date": "2018-04-29T00:00:00"
         },
         {
          "comments": 62.5,
          "date": "2018-05-06T00:00:00"
         },
         {
          "comments": 48.5,
          "date": "2018-05-13T00:00:00"
         },
         {
          "comments": 19.0,
          "date": "2018-05-20T00:00:00"
         },
         {
          "comments": 21.0,
          "date": "2018-05-27T00:00:00"
         },
         {
          "comments": 33.5,
          "date": "2018-06-03T00:00:00"
         },
         {
          "comments": 20.0,
          "date": "2018-06-10T00:00:00"
         },
         {
          "comments": 31.5,
          "date": "2018-06-17T00:00:00"
         },
         {
          "comments": 31.0,
          "date": "2018-06-24T00:00:00"
         },
         {
          "comments": 39.5,
          "date": "2018-07-01T00:00:00"
         },
         {
          "comments": 47.0,
          "date": "2018-07-08T00:00:00"
         },
         {
          "comments": 30.0,
          "date": "2018-07-15T00:00:00"
         },
         {
          "comments": 32.5,
          "date": "2018-07-22T00:00:00"
         },
         {
          "comments": 45.5,
          "date": "2018-07-29T00:00:00"
         },
         {
          "comments": 60.0,
          "date": "2018-08-05T00:00:00"
         },
         {
          "comments": 64.5,
          "date": "2018-08-12T00:00:00"
         },
         {
          "comments": 61.5,
          "date": "2018-08-19T00:00:00"
         },
         {
          "comments": 29.0,
          "date": "2018-08-26T00:00:00"
         },
         {
          "comments": 24.5,
          "date": "2018-09-02T00:00:00"
         },
         {
          "comments": 104.0,
          "date": "2018-09-09T00:00:00"
         },
         {
          "comments": 87.0,
          "date": "2018-09-16T00:00:00"
         },
         {
          "comments": 35.0,
          "date": "2018-09-23T00:00:00"
         },
         {
          "comments": 21.5,
          "date": "2018-09-30T00:00:00"
         },
         {
          "comments": 15.5,
          "date": "2018-10-07T00:00:00"
         },
         {
          "comments": 18.5,
          "date": "2018-10-14T00:00:00"
         },
         {
          "comments": 27.5,
          "date": "2018-10-21T00:00:00"
         },
         {
          "comments": 36.0,
          "date": "2018-10-28T00:00:00"
         },
         {
          "comments": 16.0,
          "date": "2018-11-04T00:00:00"
         },
         {
          "comments": 29.0,
          "date": "2018-11-11T00:00:00"
         },
         {
          "comments": 26.5,
          "date": "2018-11-18T00:00:00"
         },
         {
          "comments": 15.5,
          "date": "2018-11-25T00:00:00"
         },
         {
          "comments": 14.5,
          "date": "2018-12-02T00:00:00"
         },
         {
          "comments": 19.5,
          "date": "2018-12-09T00:00:00"
         },
         {
          "comments": 29.5,
          "date": "2018-12-16T00:00:00"
         },
         {
          "comments": 35.5,
          "date": "2018-12-23T00:00:00"
         },
         {
          "comments": 18.0,
          "date": "2018-12-30T00:00:00"
         },
         {
          "comments": 21.0,
          "date": "2019-01-06T00:00:00"
         },
         {
          "comments": 15.0,
          "date": "2019-01-13T00:00:00"
         },
         {
          "comments": 36.5,
          "date": "2019-01-20T00:00:00"
         },
         {
          "comments": 21.5,
          "date": "2019-01-27T00:00:00"
         },
         {
          "comments": 27.5,
          "date": "2019-02-03T00:00:00"
         },
         {
          "comments": 25.5,
          "date": "2019-02-10T00:00:00"
         },
         {
          "comments": 5.5,
          "date": "2019-02-17T00:00:00"
         }
        ]
       },
       "encoding": {
        "x": {
         "field": "date",
         "scale": {
          "domain": [
           "2016-01-01",
           "2019-02-01"
          ]
         },
         "type": "temporal"
        },
        "y": {
         "field": "comments",
         "type": "quantitative"
        }
       },
       "mark": {
        "clip": true,
        "type": "line"
       },
       "width": 1000
      },
      "text/plain": [
       "<VegaLite 2 object>\n",
       "\n",
       "If you see this message, it means the renderer has not been properly enabled\n",
       "for the frontend that you are using. For more information, see\n",
       "https://altair-viz.github.io/user_guide/troubleshooting.html\n"
      ]
     },
     "execution_count": 15,
     "metadata": {},
     "output_type": "execute_result"
    }
   ],
   "source": [
    "# Comment totals over time\n",
    "all_user_data = user_data.reset_index().groupby('date').sum()['comments'].reset_index()\n",
    "alt.Chart(data=all_user_data, width=1000).mark_line(clip=True).encode(\n",
    "    x=alt.X('date', scale=alt.Scale(domain=[\"2016-01-01\", \"2019-02-01\"])),\n",
    "    y='comments',\n",
    ")"
   ]
  },
  {
   "cell_type": "markdown",
   "metadata": {
    "papermill": {
     "duration": 0.118109,
     "end_time": "2019-02-14T22:40:23.497943",
     "exception": false,
     "start_time": "2019-02-14T22:40:23.379834",
     "status": "completed"
    },
    "tags": []
   },
   "source": [
    "## Distribution of comments over top N contributors"
   ]
  },
  {
   "cell_type": "code",
   "execution_count": 16,
   "metadata": {
    "papermill": {
     "duration": 0.141039,
     "end_time": "2019-02-14T22:40:23.751584",
     "exception": false,
     "start_time": "2019-02-14T22:40:23.610545",
     "status": "completed"
    },
    "tags": []
   },
   "outputs": [],
   "source": [
    "# For each week, calculate the top 20 contributions, turn them into percentages, order them, store the result"
   ]
  },
  {
   "cell_type": "code",
   "execution_count": 17,
   "metadata": {
    "papermill": {
     "duration": 0.450502,
     "end_time": "2019-02-14T22:40:24.283701",
     "exception": false,
     "start_time": "2019-02-14T22:40:23.833199",
     "status": "completed"
    },
    "tags": []
   },
   "outputs": [],
   "source": [
    "monthly = weekly.groupby('user').resample('M', on='date').sum().reset_index()"
   ]
  },
  {
   "cell_type": "code",
   "execution_count": 18,
   "metadata": {
    "papermill": {
     "duration": 0.103438,
     "end_time": "2019-02-14T22:40:24.461727",
     "exception": false,
     "start_time": "2019-02-14T22:40:24.358289",
     "status": "completed"
    },
    "tags": []
   },
   "outputs": [],
   "source": [
    "n_comments_plot = 20"
   ]
  },
  {
   "cell_type": "code",
   "execution_count": 19,
   "metadata": {
    "papermill": {
     "duration": 0.183519,
     "end_time": "2019-02-14T22:40:24.725668",
     "exception": false,
     "start_time": "2019-02-14T22:40:24.542149",
     "status": "completed"
    },
    "tags": []
   },
   "outputs": [],
   "source": [
    "monthly_dist = {}\n",
    "for iweek, ivals in monthly.groupby('date'):\n",
    "    comments_dist = ivals.groupby('user').sum()['comments']\n",
    "    comments_dist = comments_dist / comments_dist.sum()\n",
    "    comments_dist = comments_dist.sort_values(ascending=False)\n",
    "    comments_placeholder = [0] * n_comments_plot\n",
    "\n",
    "    for ii, (iname, ipart) in enumerate(comments_dist.items()):\n",
    "        if ii + 1 > n_comments_plot:\n",
    "            continue\n",
    "        comments_placeholder[ii] = ipart\n",
    "    monthly_dist[iweek] = comments_placeholder"
   ]
  },
  {
   "cell_type": "code",
   "execution_count": 20,
   "metadata": {
    "papermill": {
     "duration": 0.101658,
     "end_time": "2019-02-14T22:40:24.904722",
     "exception": false,
     "start_time": "2019-02-14T22:40:24.803064",
     "status": "completed"
    },
    "tags": []
   },
   "outputs": [],
   "source": [
    "monthly_dist = pd.DataFrame(monthly_dist)\n",
    "# monthly_dist.index.name = 'position'\n",
    "# monthly_dist.columns.name = 'date'\n",
    "# monthly_dist = monthly_dist.stack().reset_index().rename(columns={0: 'dist'})"
   ]
  },
  {
   "cell_type": "code",
   "execution_count": 21,
   "metadata": {
    "papermill": {
     "duration": 0.086103,
     "end_time": "2019-02-14T22:40:25.070798",
     "exception": false,
     "start_time": "2019-02-14T22:40:24.984695",
     "status": "completed"
    },
    "tags": []
   },
   "outputs": [],
   "source": [
    "monthly_dist.columns = monthly_dist.columns.date"
   ]
  },
  {
   "cell_type": "code",
   "execution_count": 22,
   "metadata": {
    "papermill": {
     "duration": 0.09894,
     "end_time": "2019-02-14T22:40:25.243972",
     "exception": false,
     "start_time": "2019-02-14T22:40:25.145032",
     "status": "completed"
    },
    "tags": []
   },
   "outputs": [],
   "source": [
    "from matplotlib import pyplot as plt"
   ]
  },
  {
   "cell_type": "code",
   "execution_count": 23,
   "metadata": {
    "papermill": {
     "duration": 0.804551,
     "end_time": "2019-02-14T22:40:26.114109",
     "exception": false,
     "start_time": "2019-02-14T22:40:25.309558",
     "status": "completed"
    },
    "tags": []
   },
   "outputs": [
    {
     "name": "stderr",
     "output_type": "stream",
     "text": [
      "/home/choldgraf/anaconda/envs/dev/lib/python3.6/site-packages/ipykernel_launcher.py:2: RuntimeWarning: divide by zero encountered in log10\n",
      "  \n"
     ]
    },
    {
     "data": {
      "text/plain": [
       "[Text(114.0, 0.5, 'Rank'),\n",
       " Text(0.5, 1.0, 'Log % Comments over time\\ntop 20 commentors')]"
      ]
     },
     "execution_count": 23,
     "metadata": {},
     "output_type": "execute_result"
    },
    {
     "data": {
      "image/png": "[encoded data removed]",
      "text/plain": [
       "<Figure size 1080x360 with 2 Axes>"
      ]
     },
     "metadata": {},
     "output_type": "display_data"
    }
   ],
   "source": [
    "fig, ax = plt.subplots(figsize=(15, 5))\n",
    "ax = sns.heatmap(np.log10(100 * monthly_dist), vmin=0, vmax=2)\n",
    "ax.set(ylabel=\"Rank\", title=\"Log % Comments over time\\ntop {} commentors\".format(n_comments_plot))"
   ]
  },
  {
   "cell_type": "markdown",
   "metadata": {
    "papermill": {
     "duration": 0.074256,
     "end_time": "2019-02-14T22:40:26.263461",
     "exception": false,
     "start_time": "2019-02-14T22:40:26.189205",
     "status": "completed"
    },
    "tags": []
   },
   "source": [
    "## Correlations between members"
   ]
  },
  {
   "cell_type": "code",
   "execution_count": 24,
   "metadata": {
    "papermill": {
     "duration": 0.090396,
     "end_time": "2019-02-14T22:40:26.421983",
     "exception": false,
     "start_time": "2019-02-14T22:40:26.331587",
     "status": "completed"
    },
    "tags": []
   },
   "outputs": [],
   "source": [
    "correlations = weekly.query(\"user in @plt_users\").set_index(['date', 'user'])['comments'].unstack('user').corr()\n",
    "correlations = correlations.replace(np.nan, 0)"
   ]
  },
  {
   "cell_type": "code",
   "execution_count": 25,
   "metadata": {
    "papermill": {
     "duration": 0.913866,
     "end_time": "2019-02-14T22:40:27.403324",
     "exception": false,
     "start_time": "2019-02-14T22:40:26.489458",
     "status": "completed"
    },
    "tags": []
   },
   "outputs": [
    {
     "data": {
      "text/plain": [
       "<seaborn.matrix.ClusterGrid at 0x7f25244d7ba8>"
      ]
     },
     "execution_count": 25,
     "metadata": {},
     "output_type": "execute_result"
    },
    {
     "data": {
      "image/png": "[encoded data removed]",
      "text/plain": [
       "<Figure size 720x720 with 4 Axes>"
      ]
     },
     "metadata": {},
     "output_type": "display_data"
    }
   ],
   "source": [
    "sns.clustermap(correlations, vmin=-1, vmax=1, cmap='RdYlBu_r')"
   ]
  },
  {
   "cell_type": "code",
   "execution_count": null,
   "metadata": {
    "papermill": {
     "duration": 0.08007,
     "end_time": "2019-02-14T22:40:27.563503",
     "exception": false,
     "start_time": "2019-02-14T22:40:27.483433",
     "status": "completed"
    },
    "tags": []
   },
   "outputs": [],
   "source": []
  }
 ],
 "metadata": {
  "kernelspec": {
   "display_name": "Python 3",
   "language": "python",
   "name": "python3"
  },
  "language_info": {
   "codemirror_mode": {
    "name": "ipython",
    "version": 3
   },
   "file_extension": ".py",
   "mimetype": "text/x-python",
   "name": "python",
   "nbconvert_exporter": "python",
   "pygments_lexer": "ipython3",
   "version": "3.6.5"
  },
  "papermill": {
   "duration": 10.543486,
   "end_time": "2019-02-14T22:40:28.615327",
   "environment_variables": {},
   "exception": null,
   "input_path": "./viz_data.ipynb",
   "output_path": "../reports/viz_data_jupyterhub-zero-to-jupyterhub-k8s.ipynb",
   "parameters": {
    "org": "jupyterhub",
    "plot_N": 20,
    "repo": "zero-to-jupyterhub-k8s"
   },
   "start_time": "2019-02-14T22:40:18.071841",
   "version": "0.18.0"
  }
 },
 "nbformat": 4,
 "nbformat_minor": 2
}