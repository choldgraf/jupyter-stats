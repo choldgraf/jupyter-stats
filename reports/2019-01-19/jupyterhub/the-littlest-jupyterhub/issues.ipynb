{
 "cells": [
  {
   "cell_type": "code",
   "execution_count": 1,
   "metadata": {
    "jupyter": {
     "source_hidden": true
    },
    "papermill": {
     "duration": 0.967499,
     "end_time": "2019-02-19T04:40:22.557573",
     "exception": false,
     "start_time": "2019-02-19T04:40:21.590074",
     "status": "completed"
    },
    "tags": []
   },
   "outputs": [],
   "source": [
    "import pandas as pd\n",
    "from datetime import timedelta\n",
    "from IPython.display import HTML, display"
   ]
  },
  {
   "cell_type": "code",
   "execution_count": 2,
   "metadata": {
    "jupyter": {
     "source_hidden": true
    },
    "papermill": {
     "duration": 0.038652,
     "end_time": "2019-02-19T04:40:22.627609",
     "exception": false,
     "start_time": "2019-02-19T04:40:22.588957",
     "status": "completed"
    },
    "tags": [
     "parameters"
    ]
   },
   "outputs": [],
   "source": [
    "date = pd.datetime.today() - timedelta(days=30)\n",
    "org = 'jupyterhub'\n",
    "repo = 'zero-to-jupyterhub-k8s'"
   ]
  },
  {
   "cell_type": "code",
   "execution_count": 3,
   "metadata": {
    "jupyter": {
     "source_hidden": true
    },
    "papermill": {
     "duration": 0.046094,
     "end_time": "2019-02-19T04:40:22.719024",
     "exception": false,
     "start_time": "2019-02-19T04:40:22.672930",
     "status": "completed"
    },
    "tags": [
     "injected-parameters"
    ]
   },
   "outputs": [],
   "source": [
    "# Parameters\n",
    "org = \"jupyterhub\"\n",
    "repo = \"the-littlest-jupyterhub\"\n",
    "date = \"2019-01-19\"\n"
   ]
  },
  {
   "cell_type": "code",
   "execution_count": 4,
   "metadata": {
    "jupyter": {
     "source_hidden": true
    },
    "papermill": {
     "duration": 0.058259,
     "end_time": "2019-02-19T04:40:22.832159",
     "exception": false,
     "start_time": "2019-02-19T04:40:22.773900",
     "status": "completed"
    },
    "tags": []
   },
   "outputs": [],
   "source": [
    "# Definition of a stale issue/PR (how many days since last updated)\n",
    "date = pd.to_datetime(date)\n",
    "stale_days = 30\n",
    "date_stale = date - timedelta(days=stale_days)"
   ]
  },
  {
   "cell_type": "markdown",
   "metadata": {
    "papermill": {
     "duration": 0.107847,
     "end_time": "2019-02-19T04:40:23.009853",
     "exception": false,
     "start_time": "2019-02-19T04:40:22.902006",
     "status": "completed"
    },
    "tags": []
   },
   "source": [
    "# Opened and Closed Issues and PRs\n",
    "\n",
    "This report shows opened and closed issues / PRs over the last 30 days, with a\n",
    "particular focus on items that haven't had a lot of discussion, or that have\n",
    "been opened by people who aren't team-members. The goal of this page is to make\n",
    "it easier to spot places where some input would be appreciated!"
   ]
  },
  {
   "cell_type": "markdown",
   "metadata": {
    "papermill": {
     "duration": 0.08505,
     "end_time": "2019-02-19T04:40:23.176375",
     "exception": false,
     "start_time": "2019-02-19T04:40:23.091325",
     "status": "completed"
    },
    "tags": []
   },
   "source": [
    "# Imports"
   ]
  },
  {
   "cell_type": "code",
   "execution_count": 5,
   "metadata": {
    "jupyter": {
     "source_hidden": true
    },
    "papermill": {
     "duration": 0.539897,
     "end_time": "2019-02-19T04:40:23.789106",
     "exception": false,
     "start_time": "2019-02-19T04:40:23.249209",
     "status": "completed"
    },
    "tags": []
   },
   "outputs": [],
   "source": [
    "import pandas as pd\n",
    "from subprocess import run, PIPE\n",
    "from watchtower import issues_\n",
    "from glob import glob\n",
    "import os.path as op\n",
    "import shutil as sh\n",
    "import sys\n",
    "sys.path.append('../../scripts/')"
   ]
  },
  {
   "cell_type": "markdown",
   "metadata": {
    "papermill": {
     "duration": 0.035574,
     "end_time": "2019-02-19T04:40:23.876507",
     "exception": false,
     "start_time": "2019-02-19T04:40:23.840933",
     "status": "completed"
    },
    "tags": []
   },
   "source": [
    "## styling functions"
   ]
  },
  {
   "cell_type": "code",
   "execution_count": 6,
   "metadata": {
    "jupyter": {
     "source_hidden": true
    },
    "papermill": {
     "duration": 0.108634,
     "end_time": "2019-02-19T04:40:24.033801",
     "exception": false,
     "start_time": "2019-02-19T04:40:23.925167",
     "status": "completed"
    },
    "tags": []
   },
   "outputs": [],
   "source": [
    "def highlight_rows(val):\n",
    "    \"\"\"Highlights cells pertaining to non-members and w/ no comments\"\"\"\n",
    "    disp = ''\n",
    "    if val == 0 or val == \"NONE\":\n",
    "        disp += 'background-color: #f7b7b7'\n",
    "    elif val == \"FIRST_TIME_CONTRIBUTOR\":\n",
    "        disp += 'background-color: red'\n",
    "    return disp\n",
    "\n",
    "def make_clickable(val):\n",
    "    # target _blank to open new window\n",
    "    return '<a target=\"_blank\" href=\"{}\">{}</a>'.format(val, val)\n",
    "\n",
    "def print_html(msg):\n",
    "    display(HTML('<h2 style=\"padding-left: 1em;\">{}</h2>'.format(msg)))\n",
    "    \n",
    "pd.options.display.max_colwidth = 200"
   ]
  },
  {
   "cell_type": "markdown",
   "metadata": {
    "papermill": {
     "duration": 0.026072,
     "end_time": "2019-02-19T04:40:24.093543",
     "exception": false,
     "start_time": "2019-02-19T04:40:24.067471",
     "status": "completed"
    },
    "tags": []
   },
   "source": [
    "## Load data"
   ]
  },
  {
   "cell_type": "code",
   "execution_count": 7,
   "metadata": {
    "jupyter": {
     "source_hidden": true
    },
    "papermill": {
     "duration": 0.242205,
     "end_time": "2019-02-19T04:40:24.383660",
     "exception": false,
     "start_time": "2019-02-19T04:40:24.141455",
     "status": "completed"
    },
    "tags": []
   },
   "outputs": [],
   "source": [
    "# Issues\n",
    "issues = issues_.load_issues(org, repo)\n",
    "issues['user'] = issues['user'].map(lambda a: a['login'])"
   ]
  },
  {
   "cell_type": "markdown",
   "metadata": {
    "papermill": {
     "duration": 0.042733,
     "end_time": "2019-02-19T04:40:24.464856",
     "exception": false,
     "start_time": "2019-02-19T04:40:24.422123",
     "status": "completed"
    },
    "tags": []
   },
   "source": [
    "# New activity"
   ]
  },
  {
   "cell_type": "markdown",
   "metadata": {
    "papermill": {
     "duration": 0.045316,
     "end_time": "2019-02-19T04:40:24.549634",
     "exception": false,
     "start_time": "2019-02-19T04:40:24.504318",
     "status": "completed"
    },
    "tags": []
   },
   "source": [
    "## Opened issues\n",
    "\n",
    "without responses in red"
   ]
  },
  {
   "cell_type": "code",
   "execution_count": 8,
   "metadata": {
    "jupyter": {
     "source_hidden": true
    },
    "papermill": {
     "duration": 0.184148,
     "end_time": "2019-02-19T04:40:24.800390",
     "exception": false,
     "start_time": "2019-02-19T04:40:24.616242",
     "status": "completed"
    },
    "tags": []
   },
   "outputs": [
    {
     "name": "stderr",
     "output_type": "stream",
     "text": [
      "/home/choldgraf/anaconda/envs/dev/lib/python3.6/site-packages/ipykernel_launcher.py:3: SettingWithCopyWarning: \n",
      "A value is trying to be set on a copy of a slice from a DataFrame.\n",
      "Try using .loc[row_indexer,col_indexer] = value instead\n",
      "\n",
      "See the caveats in the documentation: http://pandas.pydata.org/pandas-docs/stable/indexing.html#indexing-view-versus-copy\n",
      "  This is separate from the ipykernel package so we can avoid doing imports until\n"
     ]
    }
   ],
   "source": [
    "opened = issues.query('created_at > @date')\n",
    "opened_issues = opened[opened['pull_request'].isna()]\n",
    "opened_issues['closed'] = ~pd.isnull(opened_issues['closed_at'])"
   ]
  },
  {
   "cell_type": "code",
   "execution_count": 9,
   "metadata": {
    "jupyter": {
     "source_hidden": true
    },
    "papermill": {
     "duration": 0.059662,
     "end_time": "2019-02-19T04:40:24.900529",
     "exception": false,
     "start_time": "2019-02-19T04:40:24.840867",
     "status": "completed"
    },
    "tags": []
   },
   "outputs": [
    {
     "data": {
      "text/html": [
       "<h2 style=\"padding-left: 1em;\">Opened issues: 13</h2>"
      ],
      "text/plain": [
       "<IPython.core.display.HTML object>"
      ]
     },
     "metadata": {},
     "output_type": "display_data"
    }
   ],
   "source": [
    "print_html('Opened issues: {}'.format(len(opened_issues)))"
   ]
  },
  {
   "cell_type": "code",
   "execution_count": 10,
   "metadata": {
    "jupyter": {
     "source_hidden": true
    },
    "papermill": {
     "duration": 2.142262,
     "end_time": "2019-02-19T04:40:27.072278",
     "exception": false,
     "start_time": "2019-02-19T04:40:24.930016",
     "status": "completed"
    },
    "tags": []
   },
   "outputs": [
    {
     "data": {
      "text/html": [
       "<style  type=\"text/css\" >\n",
       "    #T_7a70c878_3400_11e9_a960_54ee75e0f62drow0_col1 {\n",
       "            background-color:  #f7b7b7;\n",
       "        }    #T_7a70c878_3400_11e9_a960_54ee75e0f62drow0_col2 {\n",
       "            background-color:  #f7b7b7;\n",
       "        }    #T_7a70c878_3400_11e9_a960_54ee75e0f62drow0_col3 {\n",
       "            background-color:  #f7b7b7;\n",
       "        }    #T_7a70c878_3400_11e9_a960_54ee75e0f62drow1_col1 {\n",
       "            background-color:  #f7b7b7;\n",
       "        }    #T_7a70c878_3400_11e9_a960_54ee75e0f62drow1_col2 {\n",
       "            background-color:  #f7b7b7;\n",
       "        }    #T_7a70c878_3400_11e9_a960_54ee75e0f62drow1_col3 {\n",
       "            background-color:  #f7b7b7;\n",
       "        }    #T_7a70c878_3400_11e9_a960_54ee75e0f62drow2_col1 {\n",
       "            background-color:  #f7b7b7;\n",
       "        }    #T_7a70c878_3400_11e9_a960_54ee75e0f62drow2_col2 {\n",
       "            background-color:  #f7b7b7;\n",
       "        }    #T_7a70c878_3400_11e9_a960_54ee75e0f62drow2_col3 {\n",
       "            background-color:  #f7b7b7;\n",
       "        }    #T_7a70c878_3400_11e9_a960_54ee75e0f62drow3_col1 {\n",
       "            background-color:  #f7b7b7;\n",
       "        }    #T_7a70c878_3400_11e9_a960_54ee75e0f62drow3_col2 {\n",
       "            background-color:  #f7b7b7;\n",
       "        }    #T_7a70c878_3400_11e9_a960_54ee75e0f62drow3_col3 {\n",
       "            background-color:  #f7b7b7;\n",
       "        }    #T_7a70c878_3400_11e9_a960_54ee75e0f62drow4_col1 {\n",
       "            background-color:  #f7b7b7;\n",
       "        }    #T_7a70c878_3400_11e9_a960_54ee75e0f62drow4_col2 {\n",
       "            background-color:  #f7b7b7;\n",
       "        }    #T_7a70c878_3400_11e9_a960_54ee75e0f62drow4_col3 {\n",
       "            background-color:  #f7b7b7;\n",
       "        }    #T_7a70c878_3400_11e9_a960_54ee75e0f62drow5_col1 {\n",
       "            background-color:  #f7b7b7;\n",
       "        }    #T_7a70c878_3400_11e9_a960_54ee75e0f62drow5_col2 {\n",
       "            background-color:  #f7b7b7;\n",
       "        }    #T_7a70c878_3400_11e9_a960_54ee75e0f62drow5_col3 {\n",
       "            background-color:  #f7b7b7;\n",
       "        }    #T_7a70c878_3400_11e9_a960_54ee75e0f62drow6_col1 {\n",
       "            background-color:  #f7b7b7;\n",
       "        }    #T_7a70c878_3400_11e9_a960_54ee75e0f62drow6_col2 {\n",
       "            background-color:  #f7b7b7;\n",
       "        }    #T_7a70c878_3400_11e9_a960_54ee75e0f62drow6_col3 {\n",
       "            background-color:  #f7b7b7;\n",
       "        }    #T_7a70c878_3400_11e9_a960_54ee75e0f62drow7_col2 {\n",
       "            background-color:  #f7b7b7;\n",
       "        }    #T_7a70c878_3400_11e9_a960_54ee75e0f62drow7_col3 {\n",
       "            background-color:  #f7b7b7;\n",
       "        }    #T_7a70c878_3400_11e9_a960_54ee75e0f62drow8_col2 {\n",
       "            background-color:  #f7b7b7;\n",
       "        }    #T_7a70c878_3400_11e9_a960_54ee75e0f62drow8_col3 {\n",
       "            background-color:  #f7b7b7;\n",
       "        }    #T_7a70c878_3400_11e9_a960_54ee75e0f62drow9_col3 {\n",
       "            background-color:  #f7b7b7;\n",
       "        }    #T_7a70c878_3400_11e9_a960_54ee75e0f62drow10_col1 {\n",
       "            background-color:  #f7b7b7;\n",
       "        }    #T_7a70c878_3400_11e9_a960_54ee75e0f62drow10_col2 {\n",
       "            background-color:  #f7b7b7;\n",
       "        }    #T_7a70c878_3400_11e9_a960_54ee75e0f62drow11_col1 {\n",
       "            background-color:  #f7b7b7;\n",
       "        }    #T_7a70c878_3400_11e9_a960_54ee75e0f62drow12_col1 {\n",
       "            background-color:  #f7b7b7;\n",
       "        }</style><table id=\"T_7a70c878_3400_11e9_a960_54ee75e0f62d\" ><thead>    <tr>        <th class=\"col_heading level0 col0\" >user</th>        <th class=\"col_heading level0 col1\" >author_association</th>        <th class=\"col_heading level0 col2\" >comments</th>        <th class=\"col_heading level0 col3\" >closed</th>        <th class=\"col_heading level0 col4\" >html_url</th>    </tr></thead><tbody>\n",
       "                <tr>\n",
       "                                <td id=\"T_7a70c878_3400_11e9_a960_54ee75e0f62drow0_col0\" class=\"data row0 col0\" >stegua</td>\n",
       "                        <td id=\"T_7a70c878_3400_11e9_a960_54ee75e0f62drow0_col1\" class=\"data row0 col1\" >NONE</td>\n",
       "                        <td id=\"T_7a70c878_3400_11e9_a960_54ee75e0f62drow0_col2\" class=\"data row0 col2\" >0</td>\n",
       "                        <td id=\"T_7a70c878_3400_11e9_a960_54ee75e0f62drow0_col3\" class=\"data row0 col3\" >False</td>\n",
       "                        <td id=\"T_7a70c878_3400_11e9_a960_54ee75e0f62drow0_col4\" class=\"data row0 col4\" ><a target=\"_blank\" href=\"https://github.com/jupyterhub/the-littlest-jupyterhub/issues/279\">https://github.com/jupyterhub/the-littlest-jupyterhub/issues/279</a></td>\n",
       "            </tr>\n",
       "            <tr>\n",
       "                                <td id=\"T_7a70c878_3400_11e9_a960_54ee75e0f62drow1_col0\" class=\"data row1 col0\" >lachlancampbell</td>\n",
       "                        <td id=\"T_7a70c878_3400_11e9_a960_54ee75e0f62drow1_col1\" class=\"data row1 col1\" >NONE</td>\n",
       "                        <td id=\"T_7a70c878_3400_11e9_a960_54ee75e0f62drow1_col2\" class=\"data row1 col2\" >0</td>\n",
       "                        <td id=\"T_7a70c878_3400_11e9_a960_54ee75e0f62drow1_col3\" class=\"data row1 col3\" >False</td>\n",
       "                        <td id=\"T_7a70c878_3400_11e9_a960_54ee75e0f62drow1_col4\" class=\"data row1 col4\" ><a target=\"_blank\" href=\"https://github.com/jupyterhub/the-littlest-jupyterhub/issues/259\">https://github.com/jupyterhub/the-littlest-jupyterhub/issues/259</a></td>\n",
       "            </tr>\n",
       "            <tr>\n",
       "                                <td id=\"T_7a70c878_3400_11e9_a960_54ee75e0f62drow2_col0\" class=\"data row2 col0\" >mkempenaar</td>\n",
       "                        <td id=\"T_7a70c878_3400_11e9_a960_54ee75e0f62drow2_col1\" class=\"data row2 col1\" >NONE</td>\n",
       "                        <td id=\"T_7a70c878_3400_11e9_a960_54ee75e0f62drow2_col2\" class=\"data row2 col2\" >0</td>\n",
       "                        <td id=\"T_7a70c878_3400_11e9_a960_54ee75e0f62drow2_col3\" class=\"data row2 col3\" >False</td>\n",
       "                        <td id=\"T_7a70c878_3400_11e9_a960_54ee75e0f62drow2_col4\" class=\"data row2 col4\" ><a target=\"_blank\" href=\"https://github.com/jupyterhub/the-littlest-jupyterhub/issues/274\">https://github.com/jupyterhub/the-littlest-jupyterhub/issues/274</a></td>\n",
       "            </tr>\n",
       "            <tr>\n",
       "                                <td id=\"T_7a70c878_3400_11e9_a960_54ee75e0f62drow3_col0\" class=\"data row3 col0\" >HoudayerPierre</td>\n",
       "                        <td id=\"T_7a70c878_3400_11e9_a960_54ee75e0f62drow3_col1\" class=\"data row3 col1\" >NONE</td>\n",
       "                        <td id=\"T_7a70c878_3400_11e9_a960_54ee75e0f62drow3_col2\" class=\"data row3 col2\" >0</td>\n",
       "                        <td id=\"T_7a70c878_3400_11e9_a960_54ee75e0f62drow3_col3\" class=\"data row3 col3\" >False</td>\n",
       "                        <td id=\"T_7a70c878_3400_11e9_a960_54ee75e0f62drow3_col4\" class=\"data row3 col4\" ><a target=\"_blank\" href=\"https://github.com/jupyterhub/the-littlest-jupyterhub/issues/273\">https://github.com/jupyterhub/the-littlest-jupyterhub/issues/273</a></td>\n",
       "            </tr>\n",
       "            <tr>\n",
       "                                <td id=\"T_7a70c878_3400_11e9_a960_54ee75e0f62drow4_col0\" class=\"data row4 col0\" >mikanyman</td>\n",
       "                        <td id=\"T_7a70c878_3400_11e9_a960_54ee75e0f62drow4_col1\" class=\"data row4 col1\" >NONE</td>\n",
       "                        <td id=\"T_7a70c878_3400_11e9_a960_54ee75e0f62drow4_col2\" class=\"data row4 col2\" >0</td>\n",
       "                        <td id=\"T_7a70c878_3400_11e9_a960_54ee75e0f62drow4_col3\" class=\"data row4 col3\" >False</td>\n",
       "                        <td id=\"T_7a70c878_3400_11e9_a960_54ee75e0f62drow4_col4\" class=\"data row4 col4\" ><a target=\"_blank\" href=\"https://github.com/jupyterhub/the-littlest-jupyterhub/issues/272\">https://github.com/jupyterhub/the-littlest-jupyterhub/issues/272</a></td>\n",
       "            </tr>\n",
       "            <tr>\n",
       "                                <td id=\"T_7a70c878_3400_11e9_a960_54ee75e0f62drow5_col0\" class=\"data row5 col0\" >ypff</td>\n",
       "                        <td id=\"T_7a70c878_3400_11e9_a960_54ee75e0f62drow5_col1\" class=\"data row5 col1\" >NONE</td>\n",
       "                        <td id=\"T_7a70c878_3400_11e9_a960_54ee75e0f62drow5_col2\" class=\"data row5 col2\" >0</td>\n",
       "                        <td id=\"T_7a70c878_3400_11e9_a960_54ee75e0f62drow5_col3\" class=\"data row5 col3\" >False</td>\n",
       "                        <td id=\"T_7a70c878_3400_11e9_a960_54ee75e0f62drow5_col4\" class=\"data row5 col4\" ><a target=\"_blank\" href=\"https://github.com/jupyterhub/the-littlest-jupyterhub/issues/270\">https://github.com/jupyterhub/the-littlest-jupyterhub/issues/270</a></td>\n",
       "            </tr>\n",
       "            <tr>\n",
       "                                <td id=\"T_7a70c878_3400_11e9_a960_54ee75e0f62drow6_col0\" class=\"data row6 col0\" >ypff</td>\n",
       "                        <td id=\"T_7a70c878_3400_11e9_a960_54ee75e0f62drow6_col1\" class=\"data row6 col1\" >NONE</td>\n",
       "                        <td id=\"T_7a70c878_3400_11e9_a960_54ee75e0f62drow6_col2\" class=\"data row6 col2\" >0</td>\n",
       "                        <td id=\"T_7a70c878_3400_11e9_a960_54ee75e0f62drow6_col3\" class=\"data row6 col3\" >False</td>\n",
       "                        <td id=\"T_7a70c878_3400_11e9_a960_54ee75e0f62drow6_col4\" class=\"data row6 col4\" ><a target=\"_blank\" href=\"https://github.com/jupyterhub/the-littlest-jupyterhub/issues/269\">https://github.com/jupyterhub/the-littlest-jupyterhub/issues/269</a></td>\n",
       "            </tr>\n",
       "            <tr>\n",
       "                                <td id=\"T_7a70c878_3400_11e9_a960_54ee75e0f62drow7_col0\" class=\"data row7 col0\" >yuvipanda</td>\n",
       "                        <td id=\"T_7a70c878_3400_11e9_a960_54ee75e0f62drow7_col1\" class=\"data row7 col1\" >MEMBER</td>\n",
       "                        <td id=\"T_7a70c878_3400_11e9_a960_54ee75e0f62drow7_col2\" class=\"data row7 col2\" >0</td>\n",
       "                        <td id=\"T_7a70c878_3400_11e9_a960_54ee75e0f62drow7_col3\" class=\"data row7 col3\" >False</td>\n",
       "                        <td id=\"T_7a70c878_3400_11e9_a960_54ee75e0f62drow7_col4\" class=\"data row7 col4\" ><a target=\"_blank\" href=\"https://github.com/jupyterhub/the-littlest-jupyterhub/issues/264\">https://github.com/jupyterhub/the-littlest-jupyterhub/issues/264</a></td>\n",
       "            </tr>\n",
       "            <tr>\n",
       "                                <td id=\"T_7a70c878_3400_11e9_a960_54ee75e0f62drow8_col0\" class=\"data row8 col0\" >yuvipanda</td>\n",
       "                        <td id=\"T_7a70c878_3400_11e9_a960_54ee75e0f62drow8_col1\" class=\"data row8 col1\" >MEMBER</td>\n",
       "                        <td id=\"T_7a70c878_3400_11e9_a960_54ee75e0f62drow8_col2\" class=\"data row8 col2\" >0</td>\n",
       "                        <td id=\"T_7a70c878_3400_11e9_a960_54ee75e0f62drow8_col3\" class=\"data row8 col3\" >False</td>\n",
       "                        <td id=\"T_7a70c878_3400_11e9_a960_54ee75e0f62drow8_col4\" class=\"data row8 col4\" ><a target=\"_blank\" href=\"https://github.com/jupyterhub/the-littlest-jupyterhub/issues/263\">https://github.com/jupyterhub/the-littlest-jupyterhub/issues/263</a></td>\n",
       "            </tr>\n",
       "            <tr>\n",
       "                                <td id=\"T_7a70c878_3400_11e9_a960_54ee75e0f62drow9_col0\" class=\"data row9 col0\" >minrk</td>\n",
       "                        <td id=\"T_7a70c878_3400_11e9_a960_54ee75e0f62drow9_col1\" class=\"data row9 col1\" >MEMBER</td>\n",
       "                        <td id=\"T_7a70c878_3400_11e9_a960_54ee75e0f62drow9_col2\" class=\"data row9 col2\" >1</td>\n",
       "                        <td id=\"T_7a70c878_3400_11e9_a960_54ee75e0f62drow9_col3\" class=\"data row9 col3\" >False</td>\n",
       "                        <td id=\"T_7a70c878_3400_11e9_a960_54ee75e0f62drow9_col4\" class=\"data row9 col4\" ><a target=\"_blank\" href=\"https://github.com/jupyterhub/the-littlest-jupyterhub/issues/277\">https://github.com/jupyterhub/the-littlest-jupyterhub/issues/277</a></td>\n",
       "            </tr>\n",
       "            <tr>\n",
       "                                <td id=\"T_7a70c878_3400_11e9_a960_54ee75e0f62drow10_col0\" class=\"data row10 col0\" >kannes</td>\n",
       "                        <td id=\"T_7a70c878_3400_11e9_a960_54ee75e0f62drow10_col1\" class=\"data row10 col1\" >NONE</td>\n",
       "                        <td id=\"T_7a70c878_3400_11e9_a960_54ee75e0f62drow10_col2\" class=\"data row10 col2\" >0</td>\n",
       "                        <td id=\"T_7a70c878_3400_11e9_a960_54ee75e0f62drow10_col3\" class=\"data row10 col3\" >True</td>\n",
       "                        <td id=\"T_7a70c878_3400_11e9_a960_54ee75e0f62drow10_col4\" class=\"data row10 col4\" ><a target=\"_blank\" href=\"https://github.com/jupyterhub/the-littlest-jupyterhub/issues/267\">https://github.com/jupyterhub/the-littlest-jupyterhub/issues/267</a></td>\n",
       "            </tr>\n",
       "            <tr>\n",
       "                                <td id=\"T_7a70c878_3400_11e9_a960_54ee75e0f62drow11_col0\" class=\"data row11 col0\" >davidlowryduda</td>\n",
       "                        <td id=\"T_7a70c878_3400_11e9_a960_54ee75e0f62drow11_col1\" class=\"data row11 col1\" >NONE</td>\n",
       "                        <td id=\"T_7a70c878_3400_11e9_a960_54ee75e0f62drow11_col2\" class=\"data row11 col2\" >1</td>\n",
       "                        <td id=\"T_7a70c878_3400_11e9_a960_54ee75e0f62drow11_col3\" class=\"data row11 col3\" >True</td>\n",
       "                        <td id=\"T_7a70c878_3400_11e9_a960_54ee75e0f62drow11_col4\" class=\"data row11 col4\" ><a target=\"_blank\" href=\"https://github.com/jupyterhub/the-littlest-jupyterhub/issues/278\">https://github.com/jupyterhub/the-littlest-jupyterhub/issues/278</a></td>\n",
       "            </tr>\n",
       "            <tr>\n",
       "                                <td id=\"T_7a70c878_3400_11e9_a960_54ee75e0f62drow12_col0\" class=\"data row12 col0\" >DSqiansun</td>\n",
       "                        <td id=\"T_7a70c878_3400_11e9_a960_54ee75e0f62drow12_col1\" class=\"data row12 col1\" >NONE</td>\n",
       "                        <td id=\"T_7a70c878_3400_11e9_a960_54ee75e0f62drow12_col2\" class=\"data row12 col2\" >3</td>\n",
       "                        <td id=\"T_7a70c878_3400_11e9_a960_54ee75e0f62drow12_col3\" class=\"data row12 col3\" >True</td>\n",
       "                        <td id=\"T_7a70c878_3400_11e9_a960_54ee75e0f62drow12_col4\" class=\"data row12 col4\" ><a target=\"_blank\" href=\"https://github.com/jupyterhub/the-littlest-jupyterhub/issues/280\">https://github.com/jupyterhub/the-littlest-jupyterhub/issues/280</a></td>\n",
       "            </tr>\n",
       "    </tbody></table>"
      ],
      "text/plain": [
       "<pandas.io.formats.style.Styler at 0x7f687fb98588>"
      ]
     },
     "execution_count": 10,
     "metadata": {},
     "output_type": "execute_result"
    }
   ],
   "source": [
    "opened_issues[['user', 'author_association', 'comments', 'closed', 'html_url']]\\\n",
    "    .sort_values(['closed', 'comments']).style.applymap(highlight_rows).format({'html_url': make_clickable}).hide_index()"
   ]
  },
  {
   "cell_type": "markdown",
   "metadata": {
    "papermill": {
     "duration": 0.095768,
     "end_time": "2019-02-19T04:40:27.234285",
     "exception": false,
     "start_time": "2019-02-19T04:40:27.138517",
     "status": "completed"
    },
    "tags": []
   },
   "source": [
    "## Closed issues\n"
   ]
  },
  {
   "cell_type": "code",
   "execution_count": 11,
   "metadata": {
    "jupyter": {
     "source_hidden": true
    },
    "papermill": {
     "duration": 0.100289,
     "end_time": "2019-02-19T04:40:27.404938",
     "exception": false,
     "start_time": "2019-02-19T04:40:27.304649",
     "status": "completed"
    },
    "tags": []
   },
   "outputs": [],
   "source": [
    "closed = issues.query('closed_at > @date')\n",
    "closed_issues = closed[closed['pull_request'].isna()]"
   ]
  },
  {
   "cell_type": "code",
   "execution_count": 12,
   "metadata": {
    "jupyter": {
     "source_hidden": true
    },
    "papermill": {
     "duration": 0.21849,
     "end_time": "2019-02-19T04:40:27.708891",
     "exception": false,
     "start_time": "2019-02-19T04:40:27.490401",
     "status": "completed"
    },
    "tags": []
   },
   "outputs": [
    {
     "data": {
      "text/html": [
       "<style  type=\"text/css\" >\n",
       "    #T_7ad3c0f4_3400_11e9_a960_54ee75e0f62drow0_col1 {\n",
       "            background-color:  #f7b7b7;\n",
       "        }    #T_7ad3c0f4_3400_11e9_a960_54ee75e0f62drow0_col2 {\n",
       "            background-color:  #f7b7b7;\n",
       "        }    #T_7ad3c0f4_3400_11e9_a960_54ee75e0f62drow1_col1 {\n",
       "            background-color:  #f7b7b7;\n",
       "        }    #T_7ad3c0f4_3400_11e9_a960_54ee75e0f62drow2_col1 {\n",
       "            background-color:  #f7b7b7;\n",
       "        }    #T_7ad3c0f4_3400_11e9_a960_54ee75e0f62drow3_col1 {\n",
       "            background-color:  #f7b7b7;\n",
       "        }</style><table id=\"T_7ad3c0f4_3400_11e9_a960_54ee75e0f62d\" ><thead>    <tr>        <th class=\"col_heading level0 col0\" >user</th>        <th class=\"col_heading level0 col1\" >author_association</th>        <th class=\"col_heading level0 col2\" >comments</th>        <th class=\"col_heading level0 col3\" >html_url</th>    </tr></thead><tbody>\n",
       "                <tr>\n",
       "                                <td id=\"T_7ad3c0f4_3400_11e9_a960_54ee75e0f62drow0_col0\" class=\"data row0 col0\" >kannes</td>\n",
       "                        <td id=\"T_7ad3c0f4_3400_11e9_a960_54ee75e0f62drow0_col1\" class=\"data row0 col1\" >NONE</td>\n",
       "                        <td id=\"T_7ad3c0f4_3400_11e9_a960_54ee75e0f62drow0_col2\" class=\"data row0 col2\" >0</td>\n",
       "                        <td id=\"T_7ad3c0f4_3400_11e9_a960_54ee75e0f62drow0_col3\" class=\"data row0 col3\" ><a target=\"_blank\" href=\"https://github.com/jupyterhub/the-littlest-jupyterhub/issues/267\">https://github.com/jupyterhub/the-littlest-jupyterhub/issues/267</a></td>\n",
       "            </tr>\n",
       "            <tr>\n",
       "                                <td id=\"T_7ad3c0f4_3400_11e9_a960_54ee75e0f62drow1_col0\" class=\"data row1 col0\" >hoeller</td>\n",
       "                        <td id=\"T_7ad3c0f4_3400_11e9_a960_54ee75e0f62drow1_col1\" class=\"data row1 col1\" >NONE</td>\n",
       "                        <td id=\"T_7ad3c0f4_3400_11e9_a960_54ee75e0f62drow1_col2\" class=\"data row1 col2\" >1</td>\n",
       "                        <td id=\"T_7ad3c0f4_3400_11e9_a960_54ee75e0f62drow1_col3\" class=\"data row1 col3\" ><a target=\"_blank\" href=\"https://github.com/jupyterhub/the-littlest-jupyterhub/issues/257\">https://github.com/jupyterhub/the-littlest-jupyterhub/issues/257</a></td>\n",
       "            </tr>\n",
       "            <tr>\n",
       "                                <td id=\"T_7ad3c0f4_3400_11e9_a960_54ee75e0f62drow2_col0\" class=\"data row2 col0\" >davidlowryduda</td>\n",
       "                        <td id=\"T_7ad3c0f4_3400_11e9_a960_54ee75e0f62drow2_col1\" class=\"data row2 col1\" >NONE</td>\n",
       "                        <td id=\"T_7ad3c0f4_3400_11e9_a960_54ee75e0f62drow2_col2\" class=\"data row2 col2\" >1</td>\n",
       "                        <td id=\"T_7ad3c0f4_3400_11e9_a960_54ee75e0f62drow2_col3\" class=\"data row2 col3\" ><a target=\"_blank\" href=\"https://github.com/jupyterhub/the-littlest-jupyterhub/issues/278\">https://github.com/jupyterhub/the-littlest-jupyterhub/issues/278</a></td>\n",
       "            </tr>\n",
       "            <tr>\n",
       "                                <td id=\"T_7ad3c0f4_3400_11e9_a960_54ee75e0f62drow3_col0\" class=\"data row3 col0\" >DSqiansun</td>\n",
       "                        <td id=\"T_7ad3c0f4_3400_11e9_a960_54ee75e0f62drow3_col1\" class=\"data row3 col1\" >NONE</td>\n",
       "                        <td id=\"T_7ad3c0f4_3400_11e9_a960_54ee75e0f62drow3_col2\" class=\"data row3 col2\" >3</td>\n",
       "                        <td id=\"T_7ad3c0f4_3400_11e9_a960_54ee75e0f62drow3_col3\" class=\"data row3 col3\" ><a target=\"_blank\" href=\"https://github.com/jupyterhub/the-littlest-jupyterhub/issues/280\">https://github.com/jupyterhub/the-littlest-jupyterhub/issues/280</a></td>\n",
       "            </tr>\n",
       "    </tbody></table>"
      ],
      "text/plain": [
       "<pandas.io.formats.style.Styler at 0x7f687af493c8>"
      ]
     },
     "execution_count": 12,
     "metadata": {},
     "output_type": "execute_result"
    }
   ],
   "source": [
    "closed_issues[['user', 'author_association', 'comments', 'html_url']]\\\n",
    "    .sort_values(['comments']).style.applymap(highlight_rows).format({'html_url': make_clickable}).hide_index()"
   ]
  },
  {
   "cell_type": "code",
   "execution_count": 13,
   "metadata": {
    "jupyter": {
     "source_hidden": true
    },
    "papermill": {
     "duration": 0.18913,
     "end_time": "2019-02-19T04:40:27.988099",
     "exception": false,
     "start_time": "2019-02-19T04:40:27.798969",
     "status": "completed"
    },
    "tags": []
   },
   "outputs": [
    {
     "data": {
      "text/html": [
       "<h2 style=\"padding-left: 1em;\">Closed issues: 4</h2>"
      ],
      "text/plain": [
       "<IPython.core.display.HTML object>"
      ]
     },
     "metadata": {},
     "output_type": "display_data"
    }
   ],
   "source": [
    "print_html('Closed issues: {}'.format(len(closed_issues)))"
   ]
  },
  {
   "cell_type": "markdown",
   "metadata": {
    "papermill": {
     "duration": 0.120948,
     "end_time": "2019-02-19T04:40:28.173879",
     "exception": false,
     "start_time": "2019-02-19T04:40:28.052931",
     "status": "completed"
    },
    "tags": []
   },
   "source": [
    "## Opened PRs\n",
    "\n",
    "without responses in red"
   ]
  },
  {
   "cell_type": "code",
   "execution_count": 14,
   "metadata": {
    "jupyter": {
     "source_hidden": true
    },
    "papermill": {
     "duration": 0.122841,
     "end_time": "2019-02-19T04:40:28.362311",
     "exception": false,
     "start_time": "2019-02-19T04:40:28.239470",
     "status": "completed"
    },
    "tags": []
   },
   "outputs": [
    {
     "name": "stderr",
     "output_type": "stream",
     "text": [
      "/home/choldgraf/anaconda/envs/dev/lib/python3.6/site-packages/ipykernel_launcher.py:2: SettingWithCopyWarning: \n",
      "A value is trying to be set on a copy of a slice from a DataFrame.\n",
      "Try using .loc[row_indexer,col_indexer] = value instead\n",
      "\n",
      "See the caveats in the documentation: http://pandas.pydata.org/pandas-docs/stable/indexing.html#indexing-view-versus-copy\n",
      "  \n"
     ]
    }
   ],
   "source": [
    "opened_prs = opened[~opened['pull_request'].isna()]\n",
    "opened_prs['closed'] = ~pd.isnull(opened_prs['closed_at'])\n",
    "\n",
    "closed_prs = closed[~closed['pull_request'].isna()]"
   ]
  },
  {
   "cell_type": "code",
   "execution_count": 15,
   "metadata": {
    "jupyter": {
     "source_hidden": true
    },
    "papermill": {
     "duration": 0.056106,
     "end_time": "2019-02-19T04:40:28.463723",
     "exception": false,
     "start_time": "2019-02-19T04:40:28.407617",
     "status": "completed"
    },
    "tags": []
   },
   "outputs": [
    {
     "data": {
      "text/html": [
       "<h2 style=\"padding-left: 1em;\">Opened PRs: 9</h2>"
      ],
      "text/plain": [
       "<IPython.core.display.HTML object>"
      ]
     },
     "metadata": {},
     "output_type": "display_data"
    }
   ],
   "source": [
    "print_html('Opened PRs: {}'.format(len(opened_prs)))"
   ]
  },
  {
   "cell_type": "code",
   "execution_count": 16,
   "metadata": {
    "jupyter": {
     "source_hidden": true
    },
    "papermill": {
     "duration": 0.127526,
     "end_time": "2019-02-19T04:40:28.640750",
     "exception": false,
     "start_time": "2019-02-19T04:40:28.513224",
     "status": "completed"
    },
    "tags": []
   },
   "outputs": [
    {
     "data": {
      "text/html": [
       "<style  type=\"text/css\" >\n",
       "    #T_7b633eb4_3400_11e9_a960_54ee75e0f62drow0_col1 {\n",
       "            background-color:  red;\n",
       "        }    #T_7b633eb4_3400_11e9_a960_54ee75e0f62drow0_col3 {\n",
       "            background-color:  #f7b7b7;\n",
       "        }    #T_7b633eb4_3400_11e9_a960_54ee75e0f62drow1_col2 {\n",
       "            background-color:  #f7b7b7;\n",
       "        }    #T_7b633eb4_3400_11e9_a960_54ee75e0f62drow2_col2 {\n",
       "            background-color:  #f7b7b7;\n",
       "        }    #T_7b633eb4_3400_11e9_a960_54ee75e0f62drow3_col2 {\n",
       "            background-color:  #f7b7b7;\n",
       "        }</style><table id=\"T_7b633eb4_3400_11e9_a960_54ee75e0f62d\" ><thead>    <tr>        <th class=\"col_heading level0 col0\" >user</th>        <th class=\"col_heading level0 col1\" >author_association</th>        <th class=\"col_heading level0 col2\" >comments</th>        <th class=\"col_heading level0 col3\" >closed</th>        <th class=\"col_heading level0 col4\" >html_url</th>    </tr></thead><tbody>\n",
       "                <tr>\n",
       "                                <td id=\"T_7b633eb4_3400_11e9_a960_54ee75e0f62drow0_col0\" class=\"data row0 col0\" >GeorgianaElena</td>\n",
       "                        <td id=\"T_7b633eb4_3400_11e9_a960_54ee75e0f62drow0_col1\" class=\"data row0 col1\" >FIRST_TIME_CONTRIBUTOR</td>\n",
       "                        <td id=\"T_7b633eb4_3400_11e9_a960_54ee75e0f62drow0_col2\" class=\"data row0 col2\" >2</td>\n",
       "                        <td id=\"T_7b633eb4_3400_11e9_a960_54ee75e0f62drow0_col3\" class=\"data row0 col3\" >False</td>\n",
       "                        <td id=\"T_7b633eb4_3400_11e9_a960_54ee75e0f62drow0_col4\" class=\"data row0 col4\" ><a target=\"_blank\" href=\"https://github.com/jupyterhub/the-littlest-jupyterhub/pull/266\">https://github.com/jupyterhub/the-littlest-jupyterhub/pull/266</a></td>\n",
       "            </tr>\n",
       "            <tr>\n",
       "                                <td id=\"T_7b633eb4_3400_11e9_a960_54ee75e0f62drow1_col0\" class=\"data row1 col0\" >minrk</td>\n",
       "                        <td id=\"T_7b633eb4_3400_11e9_a960_54ee75e0f62drow1_col1\" class=\"data row1 col1\" >MEMBER</td>\n",
       "                        <td id=\"T_7b633eb4_3400_11e9_a960_54ee75e0f62drow1_col2\" class=\"data row1 col2\" >0</td>\n",
       "                        <td id=\"T_7b633eb4_3400_11e9_a960_54ee75e0f62drow1_col3\" class=\"data row1 col3\" >True</td>\n",
       "                        <td id=\"T_7b633eb4_3400_11e9_a960_54ee75e0f62drow1_col4\" class=\"data row1 col4\" ><a target=\"_blank\" href=\"https://github.com/jupyterhub/the-littlest-jupyterhub/pull/275\">https://github.com/jupyterhub/the-littlest-jupyterhub/pull/275</a></td>\n",
       "            </tr>\n",
       "            <tr>\n",
       "                                <td id=\"T_7b633eb4_3400_11e9_a960_54ee75e0f62drow2_col0\" class=\"data row2 col0\" >choldgraf</td>\n",
       "                        <td id=\"T_7b633eb4_3400_11e9_a960_54ee75e0f62drow2_col1\" class=\"data row2 col1\" >MEMBER</td>\n",
       "                        <td id=\"T_7b633eb4_3400_11e9_a960_54ee75e0f62drow2_col2\" class=\"data row2 col2\" >0</td>\n",
       "                        <td id=\"T_7b633eb4_3400_11e9_a960_54ee75e0f62drow2_col3\" class=\"data row2 col3\" >True</td>\n",
       "                        <td id=\"T_7b633eb4_3400_11e9_a960_54ee75e0f62drow2_col4\" class=\"data row2 col4\" ><a target=\"_blank\" href=\"https://github.com/jupyterhub/the-littlest-jupyterhub/pull/271\">https://github.com/jupyterhub/the-littlest-jupyterhub/pull/271</a></td>\n",
       "            </tr>\n",
       "            <tr>\n",
       "                                <td id=\"T_7b633eb4_3400_11e9_a960_54ee75e0f62drow3_col0\" class=\"data row3 col0\" >yuvipanda</td>\n",
       "                        <td id=\"T_7b633eb4_3400_11e9_a960_54ee75e0f62drow3_col1\" class=\"data row3 col1\" >MEMBER</td>\n",
       "                        <td id=\"T_7b633eb4_3400_11e9_a960_54ee75e0f62drow3_col2\" class=\"data row3 col2\" >0</td>\n",
       "                        <td id=\"T_7b633eb4_3400_11e9_a960_54ee75e0f62drow3_col3\" class=\"data row3 col3\" >True</td>\n",
       "                        <td id=\"T_7b633eb4_3400_11e9_a960_54ee75e0f62drow3_col4\" class=\"data row3 col4\" ><a target=\"_blank\" href=\"https://github.com/jupyterhub/the-littlest-jupyterhub/pull/265\">https://github.com/jupyterhub/the-littlest-jupyterhub/pull/265</a></td>\n",
       "            </tr>\n",
       "            <tr>\n",
       "                                <td id=\"T_7b633eb4_3400_11e9_a960_54ee75e0f62drow4_col0\" class=\"data row4 col0\" >minrk</td>\n",
       "                        <td id=\"T_7b633eb4_3400_11e9_a960_54ee75e0f62drow4_col1\" class=\"data row4 col1\" >MEMBER</td>\n",
       "                        <td id=\"T_7b633eb4_3400_11e9_a960_54ee75e0f62drow4_col2\" class=\"data row4 col2\" >1</td>\n",
       "                        <td id=\"T_7b633eb4_3400_11e9_a960_54ee75e0f62drow4_col3\" class=\"data row4 col3\" >True</td>\n",
       "                        <td id=\"T_7b633eb4_3400_11e9_a960_54ee75e0f62drow4_col4\" class=\"data row4 col4\" ><a target=\"_blank\" href=\"https://github.com/jupyterhub/the-littlest-jupyterhub/pull/276\">https://github.com/jupyterhub/the-littlest-jupyterhub/pull/276</a></td>\n",
       "            </tr>\n",
       "            <tr>\n",
       "                                <td id=\"T_7b633eb4_3400_11e9_a960_54ee75e0f62drow5_col0\" class=\"data row5 col0\" >minrk</td>\n",
       "                        <td id=\"T_7b633eb4_3400_11e9_a960_54ee75e0f62drow5_col1\" class=\"data row5 col1\" >MEMBER</td>\n",
       "                        <td id=\"T_7b633eb4_3400_11e9_a960_54ee75e0f62drow5_col2\" class=\"data row5 col2\" >1</td>\n",
       "                        <td id=\"T_7b633eb4_3400_11e9_a960_54ee75e0f62drow5_col3\" class=\"data row5 col3\" >True</td>\n",
       "                        <td id=\"T_7b633eb4_3400_11e9_a960_54ee75e0f62drow5_col4\" class=\"data row5 col4\" ><a target=\"_blank\" href=\"https://github.com/jupyterhub/the-littlest-jupyterhub/pull/268\">https://github.com/jupyterhub/the-littlest-jupyterhub/pull/268</a></td>\n",
       "            </tr>\n",
       "            <tr>\n",
       "                                <td id=\"T_7b633eb4_3400_11e9_a960_54ee75e0f62drow6_col0\" class=\"data row6 col0\" >huhuhang</td>\n",
       "                        <td id=\"T_7b633eb4_3400_11e9_a960_54ee75e0f62drow6_col1\" class=\"data row6 col1\" >CONTRIBUTOR</td>\n",
       "                        <td id=\"T_7b633eb4_3400_11e9_a960_54ee75e0f62drow6_col2\" class=\"data row6 col2\" >1</td>\n",
       "                        <td id=\"T_7b633eb4_3400_11e9_a960_54ee75e0f62drow6_col3\" class=\"data row6 col3\" >True</td>\n",
       "                        <td id=\"T_7b633eb4_3400_11e9_a960_54ee75e0f62drow6_col4\" class=\"data row6 col4\" ><a target=\"_blank\" href=\"https://github.com/jupyterhub/the-littlest-jupyterhub/pull/261\">https://github.com/jupyterhub/the-littlest-jupyterhub/pull/261</a></td>\n",
       "            </tr>\n",
       "            <tr>\n",
       "                                <td id=\"T_7b633eb4_3400_11e9_a960_54ee75e0f62drow7_col0\" class=\"data row7 col0\" >yuvipanda</td>\n",
       "                        <td id=\"T_7b633eb4_3400_11e9_a960_54ee75e0f62drow7_col1\" class=\"data row7 col1\" >MEMBER</td>\n",
       "                        <td id=\"T_7b633eb4_3400_11e9_a960_54ee75e0f62drow7_col2\" class=\"data row7 col2\" >2</td>\n",
       "                        <td id=\"T_7b633eb4_3400_11e9_a960_54ee75e0f62drow7_col3\" class=\"data row7 col3\" >True</td>\n",
       "                        <td id=\"T_7b633eb4_3400_11e9_a960_54ee75e0f62drow7_col4\" class=\"data row7 col4\" ><a target=\"_blank\" href=\"https://github.com/jupyterhub/the-littlest-jupyterhub/pull/262\">https://github.com/jupyterhub/the-littlest-jupyterhub/pull/262</a></td>\n",
       "            </tr>\n",
       "            <tr>\n",
       "                                <td id=\"T_7b633eb4_3400_11e9_a960_54ee75e0f62drow8_col0\" class=\"data row8 col0\" >willirath</td>\n",
       "                        <td id=\"T_7b633eb4_3400_11e9_a960_54ee75e0f62drow8_col1\" class=\"data row8 col1\" >COLLABORATOR</td>\n",
       "                        <td id=\"T_7b633eb4_3400_11e9_a960_54ee75e0f62drow8_col2\" class=\"data row8 col2\" >5</td>\n",
       "                        <td id=\"T_7b633eb4_3400_11e9_a960_54ee75e0f62drow8_col3\" class=\"data row8 col3\" >True</td>\n",
       "                        <td id=\"T_7b633eb4_3400_11e9_a960_54ee75e0f62drow8_col4\" class=\"data row8 col4\" ><a target=\"_blank\" href=\"https://github.com/jupyterhub/the-littlest-jupyterhub/pull/260\">https://github.com/jupyterhub/the-littlest-jupyterhub/pull/260</a></td>\n",
       "            </tr>\n",
       "    </tbody></table>"
      ],
      "text/plain": [
       "<pandas.io.formats.style.Styler at 0x7f687af49b38>"
      ]
     },
     "execution_count": 16,
     "metadata": {},
     "output_type": "execute_result"
    }
   ],
   "source": [
    "opened_prs[['user', 'author_association', 'comments', 'closed', 'html_url']]\\\n",
    "    .sort_values(['closed', 'comments']).style.applymap(highlight_rows).format({'html_url': make_clickable}).hide_index()"
   ]
  },
  {
   "cell_type": "code",
   "execution_count": 17,
   "metadata": {
    "jupyter": {
     "source_hidden": true
    },
    "papermill": {
     "duration": 0.064109,
     "end_time": "2019-02-19T04:40:28.753925",
     "exception": false,
     "start_time": "2019-02-19T04:40:28.689816",
     "status": "completed"
    },
    "tags": []
   },
   "outputs": [
    {
     "data": {
      "text/html": [
       "<h2 style=\"padding-left: 1em;\">Closed PRs: 8</h2>"
      ],
      "text/plain": [
       "<IPython.core.display.HTML object>"
      ]
     },
     "metadata": {},
     "output_type": "display_data"
    }
   ],
   "source": [
    "print_html('Closed PRs: {}'.format(len(closed_prs)))"
   ]
  },
  {
   "cell_type": "code",
   "execution_count": 18,
   "metadata": {
    "jupyter": {
     "source_hidden": true
    },
    "papermill": {
     "duration": 0.100044,
     "end_time": "2019-02-19T04:40:28.907134",
     "exception": false,
     "start_time": "2019-02-19T04:40:28.807090",
     "status": "completed"
    },
    "tags": []
   },
   "outputs": [
    {
     "data": {
      "text/html": [
       "<style  type=\"text/css\" >\n",
       "    #T_7b8c96ec_3400_11e9_a960_54ee75e0f62drow0_col2 {\n",
       "            background-color:  #f7b7b7;\n",
       "        }    #T_7b8c96ec_3400_11e9_a960_54ee75e0f62drow1_col2 {\n",
       "            background-color:  #f7b7b7;\n",
       "        }    #T_7b8c96ec_3400_11e9_a960_54ee75e0f62drow2_col2 {\n",
       "            background-color:  #f7b7b7;\n",
       "        }</style><table id=\"T_7b8c96ec_3400_11e9_a960_54ee75e0f62d\" ><thead>    <tr>        <th class=\"col_heading level0 col0\" >user</th>        <th class=\"col_heading level0 col1\" >author_association</th>        <th class=\"col_heading level0 col2\" >comments</th>        <th class=\"col_heading level0 col3\" >html_url</th>    </tr></thead><tbody>\n",
       "                <tr>\n",
       "                                <td id=\"T_7b8c96ec_3400_11e9_a960_54ee75e0f62drow0_col0\" class=\"data row0 col0\" >minrk</td>\n",
       "                        <td id=\"T_7b8c96ec_3400_11e9_a960_54ee75e0f62drow0_col1\" class=\"data row0 col1\" >MEMBER</td>\n",
       "                        <td id=\"T_7b8c96ec_3400_11e9_a960_54ee75e0f62drow0_col2\" class=\"data row0 col2\" >0</td>\n",
       "                        <td id=\"T_7b8c96ec_3400_11e9_a960_54ee75e0f62drow0_col3\" class=\"data row0 col3\" ><a target=\"_blank\" href=\"https://github.com/jupyterhub/the-littlest-jupyterhub/pull/275\">https://github.com/jupyterhub/the-littlest-jupyterhub/pull/275</a></td>\n",
       "            </tr>\n",
       "            <tr>\n",
       "                                <td id=\"T_7b8c96ec_3400_11e9_a960_54ee75e0f62drow1_col0\" class=\"data row1 col0\" >choldgraf</td>\n",
       "                        <td id=\"T_7b8c96ec_3400_11e9_a960_54ee75e0f62drow1_col1\" class=\"data row1 col1\" >MEMBER</td>\n",
       "                        <td id=\"T_7b8c96ec_3400_11e9_a960_54ee75e0f62drow1_col2\" class=\"data row1 col2\" >0</td>\n",
       "                        <td id=\"T_7b8c96ec_3400_11e9_a960_54ee75e0f62drow1_col3\" class=\"data row1 col3\" ><a target=\"_blank\" href=\"https://github.com/jupyterhub/the-littlest-jupyterhub/pull/271\">https://github.com/jupyterhub/the-littlest-jupyterhub/pull/271</a></td>\n",
       "            </tr>\n",
       "            <tr>\n",
       "                                <td id=\"T_7b8c96ec_3400_11e9_a960_54ee75e0f62drow2_col0\" class=\"data row2 col0\" >yuvipanda</td>\n",
       "                        <td id=\"T_7b8c96ec_3400_11e9_a960_54ee75e0f62drow2_col1\" class=\"data row2 col1\" >MEMBER</td>\n",
       "                        <td id=\"T_7b8c96ec_3400_11e9_a960_54ee75e0f62drow2_col2\" class=\"data row2 col2\" >0</td>\n",
       "                        <td id=\"T_7b8c96ec_3400_11e9_a960_54ee75e0f62drow2_col3\" class=\"data row2 col3\" ><a target=\"_blank\" href=\"https://github.com/jupyterhub/the-littlest-jupyterhub/pull/265\">https://github.com/jupyterhub/the-littlest-jupyterhub/pull/265</a></td>\n",
       "            </tr>\n",
       "            <tr>\n",
       "                                <td id=\"T_7b8c96ec_3400_11e9_a960_54ee75e0f62drow3_col0\" class=\"data row3 col0\" >minrk</td>\n",
       "                        <td id=\"T_7b8c96ec_3400_11e9_a960_54ee75e0f62drow3_col1\" class=\"data row3 col1\" >MEMBER</td>\n",
       "                        <td id=\"T_7b8c96ec_3400_11e9_a960_54ee75e0f62drow3_col2\" class=\"data row3 col2\" >1</td>\n",
       "                        <td id=\"T_7b8c96ec_3400_11e9_a960_54ee75e0f62drow3_col3\" class=\"data row3 col3\" ><a target=\"_blank\" href=\"https://github.com/jupyterhub/the-littlest-jupyterhub/pull/276\">https://github.com/jupyterhub/the-littlest-jupyterhub/pull/276</a></td>\n",
       "            </tr>\n",
       "            <tr>\n",
       "                                <td id=\"T_7b8c96ec_3400_11e9_a960_54ee75e0f62drow4_col0\" class=\"data row4 col0\" >minrk</td>\n",
       "                        <td id=\"T_7b8c96ec_3400_11e9_a960_54ee75e0f62drow4_col1\" class=\"data row4 col1\" >MEMBER</td>\n",
       "                        <td id=\"T_7b8c96ec_3400_11e9_a960_54ee75e0f62drow4_col2\" class=\"data row4 col2\" >1</td>\n",
       "                        <td id=\"T_7b8c96ec_3400_11e9_a960_54ee75e0f62drow4_col3\" class=\"data row4 col3\" ><a target=\"_blank\" href=\"https://github.com/jupyterhub/the-littlest-jupyterhub/pull/268\">https://github.com/jupyterhub/the-littlest-jupyterhub/pull/268</a></td>\n",
       "            </tr>\n",
       "            <tr>\n",
       "                                <td id=\"T_7b8c96ec_3400_11e9_a960_54ee75e0f62drow5_col0\" class=\"data row5 col0\" >huhuhang</td>\n",
       "                        <td id=\"T_7b8c96ec_3400_11e9_a960_54ee75e0f62drow5_col1\" class=\"data row5 col1\" >CONTRIBUTOR</td>\n",
       "                        <td id=\"T_7b8c96ec_3400_11e9_a960_54ee75e0f62drow5_col2\" class=\"data row5 col2\" >1</td>\n",
       "                        <td id=\"T_7b8c96ec_3400_11e9_a960_54ee75e0f62drow5_col3\" class=\"data row5 col3\" ><a target=\"_blank\" href=\"https://github.com/jupyterhub/the-littlest-jupyterhub/pull/261\">https://github.com/jupyterhub/the-littlest-jupyterhub/pull/261</a></td>\n",
       "            </tr>\n",
       "            <tr>\n",
       "                                <td id=\"T_7b8c96ec_3400_11e9_a960_54ee75e0f62drow6_col0\" class=\"data row6 col0\" >yuvipanda</td>\n",
       "                        <td id=\"T_7b8c96ec_3400_11e9_a960_54ee75e0f62drow6_col1\" class=\"data row6 col1\" >MEMBER</td>\n",
       "                        <td id=\"T_7b8c96ec_3400_11e9_a960_54ee75e0f62drow6_col2\" class=\"data row6 col2\" >2</td>\n",
       "                        <td id=\"T_7b8c96ec_3400_11e9_a960_54ee75e0f62drow6_col3\" class=\"data row6 col3\" ><a target=\"_blank\" href=\"https://github.com/jupyterhub/the-littlest-jupyterhub/pull/262\">https://github.com/jupyterhub/the-littlest-jupyterhub/pull/262</a></td>\n",
       "            </tr>\n",
       "            <tr>\n",
       "                                <td id=\"T_7b8c96ec_3400_11e9_a960_54ee75e0f62drow7_col0\" class=\"data row7 col0\" >willirath</td>\n",
       "                        <td id=\"T_7b8c96ec_3400_11e9_a960_54ee75e0f62drow7_col1\" class=\"data row7 col1\" >COLLABORATOR</td>\n",
       "                        <td id=\"T_7b8c96ec_3400_11e9_a960_54ee75e0f62drow7_col2\" class=\"data row7 col2\" >5</td>\n",
       "                        <td id=\"T_7b8c96ec_3400_11e9_a960_54ee75e0f62drow7_col3\" class=\"data row7 col3\" ><a target=\"_blank\" href=\"https://github.com/jupyterhub/the-littlest-jupyterhub/pull/260\">https://github.com/jupyterhub/the-littlest-jupyterhub/pull/260</a></td>\n",
       "            </tr>\n",
       "    </tbody></table>"
      ],
      "text/plain": [
       "<pandas.io.formats.style.Styler at 0x7f687af33780>"
      ]
     },
     "execution_count": 18,
     "metadata": {},
     "output_type": "execute_result"
    }
   ],
   "source": [
    "closed_prs[['user', 'author_association', 'comments', 'html_url']]\\\n",
    "    .sort_values(['comments']).style.applymap(highlight_rows).format({'html_url': make_clickable}).hide_index()"
   ]
  },
  {
   "cell_type": "markdown",
   "metadata": {
    "papermill": {
     "duration": 0.064817,
     "end_time": "2019-02-19T04:40:29.020764",
     "exception": false,
     "start_time": "2019-02-19T04:40:28.955947",
     "status": "completed"
    },
    "tags": []
   },
   "source": [
    "# State of repo\n",
    "\n",
    "## Stale issues"
   ]
  },
  {
   "cell_type": "code",
   "execution_count": 19,
   "metadata": {
    "jupyter": {
     "source_hidden": true
    },
    "papermill": {
     "duration": 0.097746,
     "end_time": "2019-02-19T04:40:29.224393",
     "exception": false,
     "start_time": "2019-02-19T04:40:29.126647",
     "status": "completed"
    },
    "tags": []
   },
   "outputs": [],
   "source": [
    "stale_issues = issues.query('updated_at < @date_stale')\n",
    "stale_issues = stale_issues[stale_issues['closed_at'].isnull()]"
   ]
  },
  {
   "cell_type": "code",
   "execution_count": 20,
   "metadata": {
    "jupyter": {
     "source_hidden": true
    },
    "papermill": {
     "duration": 0.309053,
     "end_time": "2019-02-19T04:40:29.582482",
     "exception": false,
     "start_time": "2019-02-19T04:40:29.273429",
     "status": "completed"
    },
    "tags": []
   },
   "outputs": [
    {
     "data": {
      "text/html": [
       "<style  type=\"text/css\" >\n",
       "    #T_7bf0e46c_3400_11e9_a960_54ee75e0f62drow0_col1 {\n",
       "            background-color:  #f7b7b7;\n",
       "        }    #T_7bf0e46c_3400_11e9_a960_54ee75e0f62drow0_col2 {\n",
       "            background-color:  #f7b7b7;\n",
       "        }    #T_7bf0e46c_3400_11e9_a960_54ee75e0f62drow1_col2 {\n",
       "            background-color:  #f7b7b7;\n",
       "        }    #T_7bf0e46c_3400_11e9_a960_54ee75e0f62drow2_col2 {\n",
       "            background-color:  #f7b7b7;\n",
       "        }    #T_7bf0e46c_3400_11e9_a960_54ee75e0f62drow3_col2 {\n",
       "            background-color:  #f7b7b7;\n",
       "        }    #T_7bf0e46c_3400_11e9_a960_54ee75e0f62drow4_col2 {\n",
       "            background-color:  #f7b7b7;\n",
       "        }    #T_7bf0e46c_3400_11e9_a960_54ee75e0f62drow5_col1 {\n",
       "            background-color:  #f7b7b7;\n",
       "        }    #T_7bf0e46c_3400_11e9_a960_54ee75e0f62drow5_col2 {\n",
       "            background-color:  #f7b7b7;\n",
       "        }    #T_7bf0e46c_3400_11e9_a960_54ee75e0f62drow6_col2 {\n",
       "            background-color:  #f7b7b7;\n",
       "        }    #T_7bf0e46c_3400_11e9_a960_54ee75e0f62drow7_col2 {\n",
       "            background-color:  #f7b7b7;\n",
       "        }    #T_7bf0e46c_3400_11e9_a960_54ee75e0f62drow8_col2 {\n",
       "            background-color:  #f7b7b7;\n",
       "        }    #T_7bf0e46c_3400_11e9_a960_54ee75e0f62drow9_col2 {\n",
       "            background-color:  #f7b7b7;\n",
       "        }    #T_7bf0e46c_3400_11e9_a960_54ee75e0f62drow10_col2 {\n",
       "            background-color:  #f7b7b7;\n",
       "        }    #T_7bf0e46c_3400_11e9_a960_54ee75e0f62drow11_col2 {\n",
       "            background-color:  #f7b7b7;\n",
       "        }    #T_7bf0e46c_3400_11e9_a960_54ee75e0f62drow12_col2 {\n",
       "            background-color:  #f7b7b7;\n",
       "        }    #T_7bf0e46c_3400_11e9_a960_54ee75e0f62drow13_col2 {\n",
       "            background-color:  #f7b7b7;\n",
       "        }    #T_7bf0e46c_3400_11e9_a960_54ee75e0f62drow14_col2 {\n",
       "            background-color:  #f7b7b7;\n",
       "        }    #T_7bf0e46c_3400_11e9_a960_54ee75e0f62drow15_col1 {\n",
       "            background-color:  #f7b7b7;\n",
       "        }    #T_7bf0e46c_3400_11e9_a960_54ee75e0f62drow15_col2 {\n",
       "            background-color:  #f7b7b7;\n",
       "        }    #T_7bf0e46c_3400_11e9_a960_54ee75e0f62drow16_col2 {\n",
       "            background-color:  #f7b7b7;\n",
       "        }    #T_7bf0e46c_3400_11e9_a960_54ee75e0f62drow17_col2 {\n",
       "            background-color:  #f7b7b7;\n",
       "        }    #T_7bf0e46c_3400_11e9_a960_54ee75e0f62drow18_col2 {\n",
       "            background-color:  #f7b7b7;\n",
       "        }    #T_7bf0e46c_3400_11e9_a960_54ee75e0f62drow19_col2 {\n",
       "            background-color:  #f7b7b7;\n",
       "        }    #T_7bf0e46c_3400_11e9_a960_54ee75e0f62drow20_col1 {\n",
       "            background-color:  #f7b7b7;\n",
       "        }    #T_7bf0e46c_3400_11e9_a960_54ee75e0f62drow20_col2 {\n",
       "            background-color:  #f7b7b7;\n",
       "        }    #T_7bf0e46c_3400_11e9_a960_54ee75e0f62drow23_col1 {\n",
       "            background-color:  #f7b7b7;\n",
       "        }    #T_7bf0e46c_3400_11e9_a960_54ee75e0f62drow24_col1 {\n",
       "            background-color:  #f7b7b7;\n",
       "        }    #T_7bf0e46c_3400_11e9_a960_54ee75e0f62drow25_col1 {\n",
       "            background-color:  #f7b7b7;\n",
       "        }    #T_7bf0e46c_3400_11e9_a960_54ee75e0f62drow27_col1 {\n",
       "            background-color:  #f7b7b7;\n",
       "        }    #T_7bf0e46c_3400_11e9_a960_54ee75e0f62drow28_col1 {\n",
       "            background-color:  red;\n",
       "        }    #T_7bf0e46c_3400_11e9_a960_54ee75e0f62drow30_col1 {\n",
       "            background-color:  #f7b7b7;\n",
       "        }    #T_7bf0e46c_3400_11e9_a960_54ee75e0f62drow31_col1 {\n",
       "            background-color:  #f7b7b7;\n",
       "        }    #T_7bf0e46c_3400_11e9_a960_54ee75e0f62drow39_col1 {\n",
       "            background-color:  #f7b7b7;\n",
       "        }    #T_7bf0e46c_3400_11e9_a960_54ee75e0f62drow41_col1 {\n",
       "            background-color:  #f7b7b7;\n",
       "        }    #T_7bf0e46c_3400_11e9_a960_54ee75e0f62drow42_col1 {\n",
       "            background-color:  red;\n",
       "        }    #T_7bf0e46c_3400_11e9_a960_54ee75e0f62drow43_col1 {\n",
       "            background-color:  #f7b7b7;\n",
       "        }    #T_7bf0e46c_3400_11e9_a960_54ee75e0f62drow45_col1 {\n",
       "            background-color:  #f7b7b7;\n",
       "        }    #T_7bf0e46c_3400_11e9_a960_54ee75e0f62drow47_col1 {\n",
       "            background-color:  #f7b7b7;\n",
       "        }    #T_7bf0e46c_3400_11e9_a960_54ee75e0f62drow55_col1 {\n",
       "            background-color:  #f7b7b7;\n",
       "        }    #T_7bf0e46c_3400_11e9_a960_54ee75e0f62drow56_col1 {\n",
       "            background-color:  #f7b7b7;\n",
       "        }    #T_7bf0e46c_3400_11e9_a960_54ee75e0f62drow58_col1 {\n",
       "            background-color:  #f7b7b7;\n",
       "        }    #T_7bf0e46c_3400_11e9_a960_54ee75e0f62drow59_col1 {\n",
       "            background-color:  #f7b7b7;\n",
       "        }</style><table id=\"T_7bf0e46c_3400_11e9_a960_54ee75e0f62d\" ><thead>    <tr>        <th class=\"col_heading level0 col0\" >user</th>        <th class=\"col_heading level0 col1\" >author_association</th>        <th class=\"col_heading level0 col2\" >comments</th>        <th class=\"col_heading level0 col3\" >html_url</th>    </tr></thead><tbody>\n",
       "                <tr>\n",
       "                                <td id=\"T_7bf0e46c_3400_11e9_a960_54ee75e0f62drow0_col0\" class=\"data row0 col0\" >JuanCab</td>\n",
       "                        <td id=\"T_7bf0e46c_3400_11e9_a960_54ee75e0f62drow0_col1\" class=\"data row0 col1\" >NONE</td>\n",
       "                        <td id=\"T_7bf0e46c_3400_11e9_a960_54ee75e0f62drow0_col2\" class=\"data row0 col2\" >0</td>\n",
       "                        <td id=\"T_7bf0e46c_3400_11e9_a960_54ee75e0f62drow0_col3\" class=\"data row0 col3\" ><a target=\"_blank\" href=\"https://github.com/jupyterhub/the-littlest-jupyterhub/issues/142\">https://github.com/jupyterhub/the-littlest-jupyterhub/issues/142</a></td>\n",
       "            </tr>\n",
       "            <tr>\n",
       "                                <td id=\"T_7bf0e46c_3400_11e9_a960_54ee75e0f62drow1_col0\" class=\"data row1 col0\" >fm75</td>\n",
       "                        <td id=\"T_7bf0e46c_3400_11e9_a960_54ee75e0f62drow1_col1\" class=\"data row1 col1\" >CONTRIBUTOR</td>\n",
       "                        <td id=\"T_7bf0e46c_3400_11e9_a960_54ee75e0f62drow1_col2\" class=\"data row1 col2\" >0</td>\n",
       "                        <td id=\"T_7bf0e46c_3400_11e9_a960_54ee75e0f62drow1_col3\" class=\"data row1 col3\" ><a target=\"_blank\" href=\"https://github.com/jupyterhub/the-littlest-jupyterhub/issues/235\">https://github.com/jupyterhub/the-littlest-jupyterhub/issues/235</a></td>\n",
       "            </tr>\n",
       "            <tr>\n",
       "                                <td id=\"T_7bf0e46c_3400_11e9_a960_54ee75e0f62drow2_col0\" class=\"data row2 col0\" >yuvipanda</td>\n",
       "                        <td id=\"T_7bf0e46c_3400_11e9_a960_54ee75e0f62drow2_col1\" class=\"data row2 col1\" >MEMBER</td>\n",
       "                        <td id=\"T_7bf0e46c_3400_11e9_a960_54ee75e0f62drow2_col2\" class=\"data row2 col2\" >0</td>\n",
       "                        <td id=\"T_7bf0e46c_3400_11e9_a960_54ee75e0f62drow2_col3\" class=\"data row2 col3\" ><a target=\"_blank\" href=\"https://github.com/jupyterhub/the-littlest-jupyterhub/issues/239\">https://github.com/jupyterhub/the-littlest-jupyterhub/issues/239</a></td>\n",
       "            </tr>\n",
       "            <tr>\n",
       "                                <td id=\"T_7bf0e46c_3400_11e9_a960_54ee75e0f62drow3_col0\" class=\"data row3 col0\" >betatim</td>\n",
       "                        <td id=\"T_7bf0e46c_3400_11e9_a960_54ee75e0f62drow3_col1\" class=\"data row3 col1\" >MEMBER</td>\n",
       "                        <td id=\"T_7bf0e46c_3400_11e9_a960_54ee75e0f62drow3_col2\" class=\"data row3 col2\" >0</td>\n",
       "                        <td id=\"T_7bf0e46c_3400_11e9_a960_54ee75e0f62drow3_col3\" class=\"data row3 col3\" ><a target=\"_blank\" href=\"https://github.com/jupyterhub/the-littlest-jupyterhub/issues/203\">https://github.com/jupyterhub/the-littlest-jupyterhub/issues/203</a></td>\n",
       "            </tr>\n",
       "            <tr>\n",
       "                                <td id=\"T_7bf0e46c_3400_11e9_a960_54ee75e0f62drow4_col0\" class=\"data row4 col0\" >yuvipanda</td>\n",
       "                        <td id=\"T_7bf0e46c_3400_11e9_a960_54ee75e0f62drow4_col1\" class=\"data row4 col1\" >MEMBER</td>\n",
       "                        <td id=\"T_7bf0e46c_3400_11e9_a960_54ee75e0f62drow4_col2\" class=\"data row4 col2\" >0</td>\n",
       "                        <td id=\"T_7bf0e46c_3400_11e9_a960_54ee75e0f62drow4_col3\" class=\"data row4 col3\" ><a target=\"_blank\" href=\"https://github.com/jupyterhub/the-littlest-jupyterhub/issues/2\">https://github.com/jupyterhub/the-littlest-jupyterhub/issues/2</a></td>\n",
       "            </tr>\n",
       "            <tr>\n",
       "                                <td id=\"T_7bf0e46c_3400_11e9_a960_54ee75e0f62drow5_col0\" class=\"data row5 col0\" >ynnelson</td>\n",
       "                        <td id=\"T_7bf0e46c_3400_11e9_a960_54ee75e0f62drow5_col1\" class=\"data row5 col1\" >NONE</td>\n",
       "                        <td id=\"T_7bf0e46c_3400_11e9_a960_54ee75e0f62drow5_col2\" class=\"data row5 col2\" >0</td>\n",
       "                        <td id=\"T_7bf0e46c_3400_11e9_a960_54ee75e0f62drow5_col3\" class=\"data row5 col3\" ><a target=\"_blank\" href=\"https://github.com/jupyterhub/the-littlest-jupyterhub/issues/156\">https://github.com/jupyterhub/the-littlest-jupyterhub/issues/156</a></td>\n",
       "            </tr>\n",
       "            <tr>\n",
       "                                <td id=\"T_7bf0e46c_3400_11e9_a960_54ee75e0f62drow6_col0\" class=\"data row6 col0\" >yuvipanda</td>\n",
       "                        <td id=\"T_7bf0e46c_3400_11e9_a960_54ee75e0f62drow6_col1\" class=\"data row6 col1\" >MEMBER</td>\n",
       "                        <td id=\"T_7bf0e46c_3400_11e9_a960_54ee75e0f62drow6_col2\" class=\"data row6 col2\" >0</td>\n",
       "                        <td id=\"T_7bf0e46c_3400_11e9_a960_54ee75e0f62drow6_col3\" class=\"data row6 col3\" ><a target=\"_blank\" href=\"https://github.com/jupyterhub/the-littlest-jupyterhub/issues/133\">https://github.com/jupyterhub/the-littlest-jupyterhub/issues/133</a></td>\n",
       "            </tr>\n",
       "            <tr>\n",
       "                                <td id=\"T_7bf0e46c_3400_11e9_a960_54ee75e0f62drow7_col0\" class=\"data row7 col0\" >yuvipanda</td>\n",
       "                        <td id=\"T_7bf0e46c_3400_11e9_a960_54ee75e0f62drow7_col1\" class=\"data row7 col1\" >MEMBER</td>\n",
       "                        <td id=\"T_7bf0e46c_3400_11e9_a960_54ee75e0f62drow7_col2\" class=\"data row7 col2\" >0</td>\n",
       "                        <td id=\"T_7bf0e46c_3400_11e9_a960_54ee75e0f62drow7_col3\" class=\"data row7 col3\" ><a target=\"_blank\" href=\"https://github.com/jupyterhub/the-littlest-jupyterhub/issues/12\">https://github.com/jupyterhub/the-littlest-jupyterhub/issues/12</a></td>\n",
       "            </tr>\n",
       "            <tr>\n",
       "                                <td id=\"T_7bf0e46c_3400_11e9_a960_54ee75e0f62drow8_col0\" class=\"data row8 col0\" >yuvipanda</td>\n",
       "                        <td id=\"T_7bf0e46c_3400_11e9_a960_54ee75e0f62drow8_col1\" class=\"data row8 col1\" >MEMBER</td>\n",
       "                        <td id=\"T_7bf0e46c_3400_11e9_a960_54ee75e0f62drow8_col2\" class=\"data row8 col2\" >0</td>\n",
       "                        <td id=\"T_7bf0e46c_3400_11e9_a960_54ee75e0f62drow8_col3\" class=\"data row8 col3\" ><a target=\"_blank\" href=\"https://github.com/jupyterhub/the-littlest-jupyterhub/issues/16\">https://github.com/jupyterhub/the-littlest-jupyterhub/issues/16</a></td>\n",
       "            </tr>\n",
       "            <tr>\n",
       "                                <td id=\"T_7bf0e46c_3400_11e9_a960_54ee75e0f62drow9_col0\" class=\"data row9 col0\" >yuvipanda</td>\n",
       "                        <td id=\"T_7bf0e46c_3400_11e9_a960_54ee75e0f62drow9_col1\" class=\"data row9 col1\" >MEMBER</td>\n",
       "                        <td id=\"T_7bf0e46c_3400_11e9_a960_54ee75e0f62drow9_col2\" class=\"data row9 col2\" >0</td>\n",
       "                        <td id=\"T_7bf0e46c_3400_11e9_a960_54ee75e0f62drow9_col3\" class=\"data row9 col3\" ><a target=\"_blank\" href=\"https://github.com/jupyterhub/the-littlest-jupyterhub/issues/132\">https://github.com/jupyterhub/the-littlest-jupyterhub/issues/132</a></td>\n",
       "            </tr>\n",
       "            <tr>\n",
       "                                <td id=\"T_7bf0e46c_3400_11e9_a960_54ee75e0f62drow10_col0\" class=\"data row10 col0\" >betatim</td>\n",
       "                        <td id=\"T_7bf0e46c_3400_11e9_a960_54ee75e0f62drow10_col1\" class=\"data row10 col1\" >MEMBER</td>\n",
       "                        <td id=\"T_7bf0e46c_3400_11e9_a960_54ee75e0f62drow10_col2\" class=\"data row10 col2\" >0</td>\n",
       "                        <td id=\"T_7bf0e46c_3400_11e9_a960_54ee75e0f62drow10_col3\" class=\"data row10 col3\" ><a target=\"_blank\" href=\"https://github.com/jupyterhub/the-littlest-jupyterhub/issues/234\">https://github.com/jupyterhub/the-littlest-jupyterhub/issues/234</a></td>\n",
       "            </tr>\n",
       "            <tr>\n",
       "                                <td id=\"T_7bf0e46c_3400_11e9_a960_54ee75e0f62drow11_col0\" class=\"data row11 col0\" >Carreau</td>\n",
       "                        <td id=\"T_7bf0e46c_3400_11e9_a960_54ee75e0f62drow11_col1\" class=\"data row11 col1\" >MEMBER</td>\n",
       "                        <td id=\"T_7bf0e46c_3400_11e9_a960_54ee75e0f62drow11_col2\" class=\"data row11 col2\" >0</td>\n",
       "                        <td id=\"T_7bf0e46c_3400_11e9_a960_54ee75e0f62drow11_col3\" class=\"data row11 col3\" ><a target=\"_blank\" href=\"https://github.com/jupyterhub/the-littlest-jupyterhub/issues/158\">https://github.com/jupyterhub/the-littlest-jupyterhub/issues/158</a></td>\n",
       "            </tr>\n",
       "            <tr>\n",
       "                                <td id=\"T_7bf0e46c_3400_11e9_a960_54ee75e0f62drow12_col0\" class=\"data row12 col0\" >yuvipanda</td>\n",
       "                        <td id=\"T_7bf0e46c_3400_11e9_a960_54ee75e0f62drow12_col1\" class=\"data row12 col1\" >MEMBER</td>\n",
       "                        <td id=\"T_7bf0e46c_3400_11e9_a960_54ee75e0f62drow12_col2\" class=\"data row12 col2\" >0</td>\n",
       "                        <td id=\"T_7bf0e46c_3400_11e9_a960_54ee75e0f62drow12_col3\" class=\"data row12 col3\" ><a target=\"_blank\" href=\"https://github.com/jupyterhub/the-littlest-jupyterhub/issues/41\">https://github.com/jupyterhub/the-littlest-jupyterhub/issues/41</a></td>\n",
       "            </tr>\n",
       "            <tr>\n",
       "                                <td id=\"T_7bf0e46c_3400_11e9_a960_54ee75e0f62drow13_col0\" class=\"data row13 col0\" >yuvipanda</td>\n",
       "                        <td id=\"T_7bf0e46c_3400_11e9_a960_54ee75e0f62drow13_col1\" class=\"data row13 col1\" >MEMBER</td>\n",
       "                        <td id=\"T_7bf0e46c_3400_11e9_a960_54ee75e0f62drow13_col2\" class=\"data row13 col2\" >0</td>\n",
       "                        <td id=\"T_7bf0e46c_3400_11e9_a960_54ee75e0f62drow13_col3\" class=\"data row13 col3\" ><a target=\"_blank\" href=\"https://github.com/jupyterhub/the-littlest-jupyterhub/issues/42\">https://github.com/jupyterhub/the-littlest-jupyterhub/issues/42</a></td>\n",
       "            </tr>\n",
       "            <tr>\n",
       "                                <td id=\"T_7bf0e46c_3400_11e9_a960_54ee75e0f62drow14_col0\" class=\"data row14 col0\" >yuvipanda</td>\n",
       "                        <td id=\"T_7bf0e46c_3400_11e9_a960_54ee75e0f62drow14_col1\" class=\"data row14 col1\" >MEMBER</td>\n",
       "                        <td id=\"T_7bf0e46c_3400_11e9_a960_54ee75e0f62drow14_col2\" class=\"data row14 col2\" >0</td>\n",
       "                        <td id=\"T_7bf0e46c_3400_11e9_a960_54ee75e0f62drow14_col3\" class=\"data row14 col3\" ><a target=\"_blank\" href=\"https://github.com/jupyterhub/the-littlest-jupyterhub/issues/54\">https://github.com/jupyterhub/the-littlest-jupyterhub/issues/54</a></td>\n",
       "            </tr>\n",
       "            <tr>\n",
       "                                <td id=\"T_7bf0e46c_3400_11e9_a960_54ee75e0f62drow15_col0\" class=\"data row15 col0\" >cjemmott</td>\n",
       "                        <td id=\"T_7bf0e46c_3400_11e9_a960_54ee75e0f62drow15_col1\" class=\"data row15 col1\" >NONE</td>\n",
       "                        <td id=\"T_7bf0e46c_3400_11e9_a960_54ee75e0f62drow15_col2\" class=\"data row15 col2\" >0</td>\n",
       "                        <td id=\"T_7bf0e46c_3400_11e9_a960_54ee75e0f62drow15_col3\" class=\"data row15 col3\" ><a target=\"_blank\" href=\"https://github.com/jupyterhub/the-littlest-jupyterhub/issues/171\">https://github.com/jupyterhub/the-littlest-jupyterhub/issues/171</a></td>\n",
       "            </tr>\n",
       "            <tr>\n",
       "                                <td id=\"T_7bf0e46c_3400_11e9_a960_54ee75e0f62drow16_col0\" class=\"data row16 col0\" >choldgraf</td>\n",
       "                        <td id=\"T_7bf0e46c_3400_11e9_a960_54ee75e0f62drow16_col1\" class=\"data row16 col1\" >MEMBER</td>\n",
       "                        <td id=\"T_7bf0e46c_3400_11e9_a960_54ee75e0f62drow16_col2\" class=\"data row16 col2\" >0</td>\n",
       "                        <td id=\"T_7bf0e46c_3400_11e9_a960_54ee75e0f62drow16_col3\" class=\"data row16 col3\" ><a target=\"_blank\" href=\"https://github.com/jupyterhub/the-littlest-jupyterhub/issues/114\">https://github.com/jupyterhub/the-littlest-jupyterhub/issues/114</a></td>\n",
       "            </tr>\n",
       "            <tr>\n",
       "                                <td id=\"T_7bf0e46c_3400_11e9_a960_54ee75e0f62drow17_col0\" class=\"data row17 col0\" >choldgraf</td>\n",
       "                        <td id=\"T_7bf0e46c_3400_11e9_a960_54ee75e0f62drow17_col1\" class=\"data row17 col1\" >MEMBER</td>\n",
       "                        <td id=\"T_7bf0e46c_3400_11e9_a960_54ee75e0f62drow17_col2\" class=\"data row17 col2\" >0</td>\n",
       "                        <td id=\"T_7bf0e46c_3400_11e9_a960_54ee75e0f62drow17_col3\" class=\"data row17 col3\" ><a target=\"_blank\" href=\"https://github.com/jupyterhub/the-littlest-jupyterhub/issues/70\">https://github.com/jupyterhub/the-littlest-jupyterhub/issues/70</a></td>\n",
       "            </tr>\n",
       "            <tr>\n",
       "                                <td id=\"T_7bf0e46c_3400_11e9_a960_54ee75e0f62drow18_col0\" class=\"data row18 col0\" >muralikarthikk</td>\n",
       "                        <td id=\"T_7bf0e46c_3400_11e9_a960_54ee75e0f62drow18_col1\" class=\"data row18 col1\" >FIRST_TIMER</td>\n",
       "                        <td id=\"T_7bf0e46c_3400_11e9_a960_54ee75e0f62drow18_col2\" class=\"data row18 col2\" >0</td>\n",
       "                        <td id=\"T_7bf0e46c_3400_11e9_a960_54ee75e0f62drow18_col3\" class=\"data row18 col3\" ><a target=\"_blank\" href=\"https://github.com/jupyterhub/the-littlest-jupyterhub/pull/212\">https://github.com/jupyterhub/the-littlest-jupyterhub/pull/212</a></td>\n",
       "            </tr>\n",
       "            <tr>\n",
       "                                <td id=\"T_7bf0e46c_3400_11e9_a960_54ee75e0f62drow19_col0\" class=\"data row19 col0\" >choldgraf</td>\n",
       "                        <td id=\"T_7bf0e46c_3400_11e9_a960_54ee75e0f62drow19_col1\" class=\"data row19 col1\" >MEMBER</td>\n",
       "                        <td id=\"T_7bf0e46c_3400_11e9_a960_54ee75e0f62drow19_col2\" class=\"data row19 col2\" >0</td>\n",
       "                        <td id=\"T_7bf0e46c_3400_11e9_a960_54ee75e0f62drow19_col3\" class=\"data row19 col3\" ><a target=\"_blank\" href=\"https://github.com/jupyterhub/the-littlest-jupyterhub/issues/193\">https://github.com/jupyterhub/the-littlest-jupyterhub/issues/193</a></td>\n",
       "            </tr>\n",
       "            <tr>\n",
       "                                <td id=\"T_7bf0e46c_3400_11e9_a960_54ee75e0f62drow20_col0\" class=\"data row20 col0\" >suhailrehman</td>\n",
       "                        <td id=\"T_7bf0e46c_3400_11e9_a960_54ee75e0f62drow20_col1\" class=\"data row20 col1\" >NONE</td>\n",
       "                        <td id=\"T_7bf0e46c_3400_11e9_a960_54ee75e0f62drow20_col2\" class=\"data row20 col2\" >0</td>\n",
       "                        <td id=\"T_7bf0e46c_3400_11e9_a960_54ee75e0f62drow20_col3\" class=\"data row20 col3\" ><a target=\"_blank\" href=\"https://github.com/jupyterhub/the-littlest-jupyterhub/issues/180\">https://github.com/jupyterhub/the-littlest-jupyterhub/issues/180</a></td>\n",
       "            </tr>\n",
       "            <tr>\n",
       "                                <td id=\"T_7bf0e46c_3400_11e9_a960_54ee75e0f62drow21_col0\" class=\"data row21 col0\" >minrk</td>\n",
       "                        <td id=\"T_7bf0e46c_3400_11e9_a960_54ee75e0f62drow21_col1\" class=\"data row21 col1\" >MEMBER</td>\n",
       "                        <td id=\"T_7bf0e46c_3400_11e9_a960_54ee75e0f62drow21_col2\" class=\"data row21 col2\" >1</td>\n",
       "                        <td id=\"T_7bf0e46c_3400_11e9_a960_54ee75e0f62drow21_col3\" class=\"data row21 col3\" ><a target=\"_blank\" href=\"https://github.com/jupyterhub/the-littlest-jupyterhub/issues/218\">https://github.com/jupyterhub/the-littlest-jupyterhub/issues/218</a></td>\n",
       "            </tr>\n",
       "            <tr>\n",
       "                                <td id=\"T_7bf0e46c_3400_11e9_a960_54ee75e0f62drow22_col0\" class=\"data row22 col0\" >yuvipanda</td>\n",
       "                        <td id=\"T_7bf0e46c_3400_11e9_a960_54ee75e0f62drow22_col1\" class=\"data row22 col1\" >MEMBER</td>\n",
       "                        <td id=\"T_7bf0e46c_3400_11e9_a960_54ee75e0f62drow22_col2\" class=\"data row22 col2\" >1</td>\n",
       "                        <td id=\"T_7bf0e46c_3400_11e9_a960_54ee75e0f62drow22_col3\" class=\"data row22 col3\" ><a target=\"_blank\" href=\"https://github.com/jupyterhub/the-littlest-jupyterhub/issues/217\">https://github.com/jupyterhub/the-littlest-jupyterhub/issues/217</a></td>\n",
       "            </tr>\n",
       "            <tr>\n",
       "                                <td id=\"T_7bf0e46c_3400_11e9_a960_54ee75e0f62drow23_col0\" class=\"data row23 col0\" >tkang007</td>\n",
       "                        <td id=\"T_7bf0e46c_3400_11e9_a960_54ee75e0f62drow23_col1\" class=\"data row23 col1\" >NONE</td>\n",
       "                        <td id=\"T_7bf0e46c_3400_11e9_a960_54ee75e0f62drow23_col2\" class=\"data row23 col2\" >1</td>\n",
       "                        <td id=\"T_7bf0e46c_3400_11e9_a960_54ee75e0f62drow23_col3\" class=\"data row23 col3\" ><a target=\"_blank\" href=\"https://github.com/jupyterhub/the-littlest-jupyterhub/issues/228\">https://github.com/jupyterhub/the-littlest-jupyterhub/issues/228</a></td>\n",
       "            </tr>\n",
       "            <tr>\n",
       "                                <td id=\"T_7bf0e46c_3400_11e9_a960_54ee75e0f62drow24_col0\" class=\"data row24 col0\" >JuanCab</td>\n",
       "                        <td id=\"T_7bf0e46c_3400_11e9_a960_54ee75e0f62drow24_col1\" class=\"data row24 col1\" >NONE</td>\n",
       "                        <td id=\"T_7bf0e46c_3400_11e9_a960_54ee75e0f62drow24_col2\" class=\"data row24 col2\" >1</td>\n",
       "                        <td id=\"T_7bf0e46c_3400_11e9_a960_54ee75e0f62drow24_col3\" class=\"data row24 col3\" ><a target=\"_blank\" href=\"https://github.com/jupyterhub/the-littlest-jupyterhub/issues/229\">https://github.com/jupyterhub/the-littlest-jupyterhub/issues/229</a></td>\n",
       "            </tr>\n",
       "            <tr>\n",
       "                                <td id=\"T_7bf0e46c_3400_11e9_a960_54ee75e0f62drow25_col0\" class=\"data row25 col0\" >raghav130593</td>\n",
       "                        <td id=\"T_7bf0e46c_3400_11e9_a960_54ee75e0f62drow25_col1\" class=\"data row25 col1\" >NONE</td>\n",
       "                        <td id=\"T_7bf0e46c_3400_11e9_a960_54ee75e0f62drow25_col2\" class=\"data row25 col2\" >1</td>\n",
       "                        <td id=\"T_7bf0e46c_3400_11e9_a960_54ee75e0f62drow25_col3\" class=\"data row25 col3\" ><a target=\"_blank\" href=\"https://github.com/jupyterhub/the-littlest-jupyterhub/issues/231\">https://github.com/jupyterhub/the-littlest-jupyterhub/issues/231</a></td>\n",
       "            </tr>\n",
       "            <tr>\n",
       "                                <td id=\"T_7bf0e46c_3400_11e9_a960_54ee75e0f62drow26_col0\" class=\"data row26 col0\" >yuvipanda</td>\n",
       "                        <td id=\"T_7bf0e46c_3400_11e9_a960_54ee75e0f62drow26_col1\" class=\"data row26 col1\" >MEMBER</td>\n",
       "                        <td id=\"T_7bf0e46c_3400_11e9_a960_54ee75e0f62drow26_col2\" class=\"data row26 col2\" >1</td>\n",
       "                        <td id=\"T_7bf0e46c_3400_11e9_a960_54ee75e0f62drow26_col3\" class=\"data row26 col3\" ><a target=\"_blank\" href=\"https://github.com/jupyterhub/the-littlest-jupyterhub/issues/84\">https://github.com/jupyterhub/the-littlest-jupyterhub/issues/84</a></td>\n",
       "            </tr>\n",
       "            <tr>\n",
       "                                <td id=\"T_7bf0e46c_3400_11e9_a960_54ee75e0f62drow27_col0\" class=\"data row27 col0\" >swallace21</td>\n",
       "                        <td id=\"T_7bf0e46c_3400_11e9_a960_54ee75e0f62drow27_col1\" class=\"data row27 col1\" >NONE</td>\n",
       "                        <td id=\"T_7bf0e46c_3400_11e9_a960_54ee75e0f62drow27_col2\" class=\"data row27 col2\" >1</td>\n",
       "                        <td id=\"T_7bf0e46c_3400_11e9_a960_54ee75e0f62drow27_col3\" class=\"data row27 col3\" ><a target=\"_blank\" href=\"https://github.com/jupyterhub/the-littlest-jupyterhub/issues/147\">https://github.com/jupyterhub/the-littlest-jupyterhub/issues/147</a></td>\n",
       "            </tr>\n",
       "            <tr>\n",
       "                                <td id=\"T_7bf0e46c_3400_11e9_a960_54ee75e0f62drow28_col0\" class=\"data row28 col0\" >owah</td>\n",
       "                        <td id=\"T_7bf0e46c_3400_11e9_a960_54ee75e0f62drow28_col1\" class=\"data row28 col1\" >FIRST_TIME_CONTRIBUTOR</td>\n",
       "                        <td id=\"T_7bf0e46c_3400_11e9_a960_54ee75e0f62drow28_col2\" class=\"data row28 col2\" >1</td>\n",
       "                        <td id=\"T_7bf0e46c_3400_11e9_a960_54ee75e0f62drow28_col3\" class=\"data row28 col3\" ><a target=\"_blank\" href=\"https://github.com/jupyterhub/the-littlest-jupyterhub/pull/242\">https://github.com/jupyterhub/the-littlest-jupyterhub/pull/242</a></td>\n",
       "            </tr>\n",
       "            <tr>\n",
       "                                <td id=\"T_7bf0e46c_3400_11e9_a960_54ee75e0f62drow29_col0\" class=\"data row29 col0\" >yuvipanda</td>\n",
       "                        <td id=\"T_7bf0e46c_3400_11e9_a960_54ee75e0f62drow29_col1\" class=\"data row29 col1\" >MEMBER</td>\n",
       "                        <td id=\"T_7bf0e46c_3400_11e9_a960_54ee75e0f62drow29_col2\" class=\"data row29 col2\" >1</td>\n",
       "                        <td id=\"T_7bf0e46c_3400_11e9_a960_54ee75e0f62drow29_col3\" class=\"data row29 col3\" ><a target=\"_blank\" href=\"https://github.com/jupyterhub/the-littlest-jupyterhub/issues/166\">https://github.com/jupyterhub/the-littlest-jupyterhub/issues/166</a></td>\n",
       "            </tr>\n",
       "            <tr>\n",
       "                                <td id=\"T_7bf0e46c_3400_11e9_a960_54ee75e0f62drow30_col0\" class=\"data row30 col0\" >JuanCab</td>\n",
       "                        <td id=\"T_7bf0e46c_3400_11e9_a960_54ee75e0f62drow30_col1\" class=\"data row30 col1\" >NONE</td>\n",
       "                        <td id=\"T_7bf0e46c_3400_11e9_a960_54ee75e0f62drow30_col2\" class=\"data row30 col2\" >1</td>\n",
       "                        <td id=\"T_7bf0e46c_3400_11e9_a960_54ee75e0f62drow30_col3\" class=\"data row30 col3\" ><a target=\"_blank\" href=\"https://github.com/jupyterhub/the-littlest-jupyterhub/issues/27\">https://github.com/jupyterhub/the-littlest-jupyterhub/issues/27</a></td>\n",
       "            </tr>\n",
       "            <tr>\n",
       "                                <td id=\"T_7bf0e46c_3400_11e9_a960_54ee75e0f62drow31_col0\" class=\"data row31 col0\" >gtom</td>\n",
       "                        <td id=\"T_7bf0e46c_3400_11e9_a960_54ee75e0f62drow31_col1\" class=\"data row31 col1\" >NONE</td>\n",
       "                        <td id=\"T_7bf0e46c_3400_11e9_a960_54ee75e0f62drow31_col2\" class=\"data row31 col2\" >1</td>\n",
       "                        <td id=\"T_7bf0e46c_3400_11e9_a960_54ee75e0f62drow31_col3\" class=\"data row31 col3\" ><a target=\"_blank\" href=\"https://github.com/jupyterhub/the-littlest-jupyterhub/issues/173\">https://github.com/jupyterhub/the-littlest-jupyterhub/issues/173</a></td>\n",
       "            </tr>\n",
       "            <tr>\n",
       "                                <td id=\"T_7bf0e46c_3400_11e9_a960_54ee75e0f62drow32_col0\" class=\"data row32 col0\" >yuvipanda</td>\n",
       "                        <td id=\"T_7bf0e46c_3400_11e9_a960_54ee75e0f62drow32_col1\" class=\"data row32 col1\" >MEMBER</td>\n",
       "                        <td id=\"T_7bf0e46c_3400_11e9_a960_54ee75e0f62drow32_col2\" class=\"data row32 col2\" >1</td>\n",
       "                        <td id=\"T_7bf0e46c_3400_11e9_a960_54ee75e0f62drow32_col3\" class=\"data row32 col3\" ><a target=\"_blank\" href=\"https://github.com/jupyterhub/the-littlest-jupyterhub/issues/83\">https://github.com/jupyterhub/the-littlest-jupyterhub/issues/83</a></td>\n",
       "            </tr>\n",
       "            <tr>\n",
       "                                <td id=\"T_7bf0e46c_3400_11e9_a960_54ee75e0f62drow33_col0\" class=\"data row33 col0\" >yuvipanda</td>\n",
       "                        <td id=\"T_7bf0e46c_3400_11e9_a960_54ee75e0f62drow33_col1\" class=\"data row33 col1\" >MEMBER</td>\n",
       "                        <td id=\"T_7bf0e46c_3400_11e9_a960_54ee75e0f62drow33_col2\" class=\"data row33 col2\" >1</td>\n",
       "                        <td id=\"T_7bf0e46c_3400_11e9_a960_54ee75e0f62drow33_col3\" class=\"data row33 col3\" ><a target=\"_blank\" href=\"https://github.com/jupyterhub/the-littlest-jupyterhub/pull/232\">https://github.com/jupyterhub/the-littlest-jupyterhub/pull/232</a></td>\n",
       "            </tr>\n",
       "            <tr>\n",
       "                                <td id=\"T_7bf0e46c_3400_11e9_a960_54ee75e0f62drow34_col0\" class=\"data row34 col0\" >minrk</td>\n",
       "                        <td id=\"T_7bf0e46c_3400_11e9_a960_54ee75e0f62drow34_col1\" class=\"data row34 col1\" >MEMBER</td>\n",
       "                        <td id=\"T_7bf0e46c_3400_11e9_a960_54ee75e0f62drow34_col2\" class=\"data row34 col2\" >2</td>\n",
       "                        <td id=\"T_7bf0e46c_3400_11e9_a960_54ee75e0f62drow34_col3\" class=\"data row34 col3\" ><a target=\"_blank\" href=\"https://github.com/jupyterhub/the-littlest-jupyterhub/issues/33\">https://github.com/jupyterhub/the-littlest-jupyterhub/issues/33</a></td>\n",
       "            </tr>\n",
       "            <tr>\n",
       "                                <td id=\"T_7bf0e46c_3400_11e9_a960_54ee75e0f62drow35_col0\" class=\"data row35 col0\" >betatim</td>\n",
       "                        <td id=\"T_7bf0e46c_3400_11e9_a960_54ee75e0f62drow35_col1\" class=\"data row35 col1\" >MEMBER</td>\n",
       "                        <td id=\"T_7bf0e46c_3400_11e9_a960_54ee75e0f62drow35_col2\" class=\"data row35 col2\" >2</td>\n",
       "                        <td id=\"T_7bf0e46c_3400_11e9_a960_54ee75e0f62drow35_col3\" class=\"data row35 col3\" ><a target=\"_blank\" href=\"https://github.com/jupyterhub/the-littlest-jupyterhub/issues/112\">https://github.com/jupyterhub/the-littlest-jupyterhub/issues/112</a></td>\n",
       "            </tr>\n",
       "            <tr>\n",
       "                                <td id=\"T_7bf0e46c_3400_11e9_a960_54ee75e0f62drow36_col0\" class=\"data row36 col0\" >yuvipanda</td>\n",
       "                        <td id=\"T_7bf0e46c_3400_11e9_a960_54ee75e0f62drow36_col1\" class=\"data row36 col1\" >MEMBER</td>\n",
       "                        <td id=\"T_7bf0e46c_3400_11e9_a960_54ee75e0f62drow36_col2\" class=\"data row36 col2\" >2</td>\n",
       "                        <td id=\"T_7bf0e46c_3400_11e9_a960_54ee75e0f62drow36_col3\" class=\"data row36 col3\" ><a target=\"_blank\" href=\"https://github.com/jupyterhub/the-littlest-jupyterhub/issues/81\">https://github.com/jupyterhub/the-littlest-jupyterhub/issues/81</a></td>\n",
       "            </tr>\n",
       "            <tr>\n",
       "                                <td id=\"T_7bf0e46c_3400_11e9_a960_54ee75e0f62drow37_col0\" class=\"data row37 col0\" >jzf2101</td>\n",
       "                        <td id=\"T_7bf0e46c_3400_11e9_a960_54ee75e0f62drow37_col1\" class=\"data row37 col1\" >MEMBER</td>\n",
       "                        <td id=\"T_7bf0e46c_3400_11e9_a960_54ee75e0f62drow37_col2\" class=\"data row37 col2\" >2</td>\n",
       "                        <td id=\"T_7bf0e46c_3400_11e9_a960_54ee75e0f62drow37_col3\" class=\"data row37 col3\" ><a target=\"_blank\" href=\"https://github.com/jupyterhub/the-littlest-jupyterhub/issues/199\">https://github.com/jupyterhub/the-littlest-jupyterhub/issues/199</a></td>\n",
       "            </tr>\n",
       "            <tr>\n",
       "                                <td id=\"T_7bf0e46c_3400_11e9_a960_54ee75e0f62drow38_col0\" class=\"data row38 col0\" >choldgraf</td>\n",
       "                        <td id=\"T_7bf0e46c_3400_11e9_a960_54ee75e0f62drow38_col1\" class=\"data row38 col1\" >MEMBER</td>\n",
       "                        <td id=\"T_7bf0e46c_3400_11e9_a960_54ee75e0f62drow38_col2\" class=\"data row38 col2\" >3</td>\n",
       "                        <td id=\"T_7bf0e46c_3400_11e9_a960_54ee75e0f62drow38_col3\" class=\"data row38 col3\" ><a target=\"_blank\" href=\"https://github.com/jupyterhub/the-littlest-jupyterhub/issues/185\">https://github.com/jupyterhub/the-littlest-jupyterhub/issues/185</a></td>\n",
       "            </tr>\n",
       "            <tr>\n",
       "                                <td id=\"T_7bf0e46c_3400_11e9_a960_54ee75e0f62drow39_col0\" class=\"data row39 col0\" >jhamman</td>\n",
       "                        <td id=\"T_7bf0e46c_3400_11e9_a960_54ee75e0f62drow39_col1\" class=\"data row39 col1\" >NONE</td>\n",
       "                        <td id=\"T_7bf0e46c_3400_11e9_a960_54ee75e0f62drow39_col2\" class=\"data row39 col2\" >3</td>\n",
       "                        <td id=\"T_7bf0e46c_3400_11e9_a960_54ee75e0f62drow39_col3\" class=\"data row39 col3\" ><a target=\"_blank\" href=\"https://github.com/jupyterhub/the-littlest-jupyterhub/issues/191\">https://github.com/jupyterhub/the-littlest-jupyterhub/issues/191</a></td>\n",
       "            </tr>\n",
       "            <tr>\n",
       "                                <td id=\"T_7bf0e46c_3400_11e9_a960_54ee75e0f62drow40_col0\" class=\"data row40 col0\" >betatim</td>\n",
       "                        <td id=\"T_7bf0e46c_3400_11e9_a960_54ee75e0f62drow40_col1\" class=\"data row40 col1\" >MEMBER</td>\n",
       "                        <td id=\"T_7bf0e46c_3400_11e9_a960_54ee75e0f62drow40_col2\" class=\"data row40 col2\" >3</td>\n",
       "                        <td id=\"T_7bf0e46c_3400_11e9_a960_54ee75e0f62drow40_col3\" class=\"data row40 col3\" ><a target=\"_blank\" href=\"https://github.com/jupyterhub/the-littlest-jupyterhub/issues/104\">https://github.com/jupyterhub/the-littlest-jupyterhub/issues/104</a></td>\n",
       "            </tr>\n",
       "            <tr>\n",
       "                                <td id=\"T_7bf0e46c_3400_11e9_a960_54ee75e0f62drow41_col0\" class=\"data row41 col0\" >biojerm</td>\n",
       "                        <td id=\"T_7bf0e46c_3400_11e9_a960_54ee75e0f62drow41_col1\" class=\"data row41 col1\" >NONE</td>\n",
       "                        <td id=\"T_7bf0e46c_3400_11e9_a960_54ee75e0f62drow41_col2\" class=\"data row41 col2\" >3</td>\n",
       "                        <td id=\"T_7bf0e46c_3400_11e9_a960_54ee75e0f62drow41_col3\" class=\"data row41 col3\" ><a target=\"_blank\" href=\"https://github.com/jupyterhub/the-littlest-jupyterhub/issues/172\">https://github.com/jupyterhub/the-littlest-jupyterhub/issues/172</a></td>\n",
       "            </tr>\n",
       "            <tr>\n",
       "                                <td id=\"T_7bf0e46c_3400_11e9_a960_54ee75e0f62drow42_col0\" class=\"data row42 col0\" >gillybops</td>\n",
       "                        <td id=\"T_7bf0e46c_3400_11e9_a960_54ee75e0f62drow42_col1\" class=\"data row42 col1\" >FIRST_TIME_CONTRIBUTOR</td>\n",
       "                        <td id=\"T_7bf0e46c_3400_11e9_a960_54ee75e0f62drow42_col2\" class=\"data row42 col2\" >3</td>\n",
       "                        <td id=\"T_7bf0e46c_3400_11e9_a960_54ee75e0f62drow42_col3\" class=\"data row42 col3\" ><a target=\"_blank\" href=\"https://github.com/jupyterhub/the-littlest-jupyterhub/pull/213\">https://github.com/jupyterhub/the-littlest-jupyterhub/pull/213</a></td>\n",
       "            </tr>\n",
       "            <tr>\n",
       "                                <td id=\"T_7bf0e46c_3400_11e9_a960_54ee75e0f62drow43_col0\" class=\"data row43 col0\" >simonlindgren</td>\n",
       "                        <td id=\"T_7bf0e46c_3400_11e9_a960_54ee75e0f62drow43_col1\" class=\"data row43 col1\" >NONE</td>\n",
       "                        <td id=\"T_7bf0e46c_3400_11e9_a960_54ee75e0f62drow43_col2\" class=\"data row43 col2\" >3</td>\n",
       "                        <td id=\"T_7bf0e46c_3400_11e9_a960_54ee75e0f62drow43_col3\" class=\"data row43 col3\" ><a target=\"_blank\" href=\"https://github.com/jupyterhub/the-littlest-jupyterhub/issues/164\">https://github.com/jupyterhub/the-littlest-jupyterhub/issues/164</a></td>\n",
       "            </tr>\n",
       "            <tr>\n",
       "                                <td id=\"T_7bf0e46c_3400_11e9_a960_54ee75e0f62drow44_col0\" class=\"data row44 col0\" >jzf2101</td>\n",
       "                        <td id=\"T_7bf0e46c_3400_11e9_a960_54ee75e0f62drow44_col1\" class=\"data row44 col1\" >MEMBER</td>\n",
       "                        <td id=\"T_7bf0e46c_3400_11e9_a960_54ee75e0f62drow44_col2\" class=\"data row44 col2\" >3</td>\n",
       "                        <td id=\"T_7bf0e46c_3400_11e9_a960_54ee75e0f62drow44_col3\" class=\"data row44 col3\" ><a target=\"_blank\" href=\"https://github.com/jupyterhub/the-littlest-jupyterhub/issues/197\">https://github.com/jupyterhub/the-littlest-jupyterhub/issues/197</a></td>\n",
       "            </tr>\n",
       "            <tr>\n",
       "                                <td id=\"T_7bf0e46c_3400_11e9_a960_54ee75e0f62drow45_col0\" class=\"data row45 col0\" >joshy</td>\n",
       "                        <td id=\"T_7bf0e46c_3400_11e9_a960_54ee75e0f62drow45_col1\" class=\"data row45 col1\" >NONE</td>\n",
       "                        <td id=\"T_7bf0e46c_3400_11e9_a960_54ee75e0f62drow45_col2\" class=\"data row45 col2\" >3</td>\n",
       "                        <td id=\"T_7bf0e46c_3400_11e9_a960_54ee75e0f62drow45_col3\" class=\"data row45 col3\" ><a target=\"_blank\" href=\"https://github.com/jupyterhub/the-littlest-jupyterhub/issues/106\">https://github.com/jupyterhub/the-littlest-jupyterhub/issues/106</a></td>\n",
       "            </tr>\n",
       "            <tr>\n",
       "                                <td id=\"T_7bf0e46c_3400_11e9_a960_54ee75e0f62drow46_col0\" class=\"data row46 col0\" >Carreau</td>\n",
       "                        <td id=\"T_7bf0e46c_3400_11e9_a960_54ee75e0f62drow46_col1\" class=\"data row46 col1\" >MEMBER</td>\n",
       "                        <td id=\"T_7bf0e46c_3400_11e9_a960_54ee75e0f62drow46_col2\" class=\"data row46 col2\" >4</td>\n",
       "                        <td id=\"T_7bf0e46c_3400_11e9_a960_54ee75e0f62drow46_col3\" class=\"data row46 col3\" ><a target=\"_blank\" href=\"https://github.com/jupyterhub/the-littlest-jupyterhub/issues/150\">https://github.com/jupyterhub/the-littlest-jupyterhub/issues/150</a></td>\n",
       "            </tr>\n",
       "            <tr>\n",
       "                                <td id=\"T_7bf0e46c_3400_11e9_a960_54ee75e0f62drow47_col0\" class=\"data row47 col0\" >mmatiaschek</td>\n",
       "                        <td id=\"T_7bf0e46c_3400_11e9_a960_54ee75e0f62drow47_col1\" class=\"data row47 col1\" >NONE</td>\n",
       "                        <td id=\"T_7bf0e46c_3400_11e9_a960_54ee75e0f62drow47_col2\" class=\"data row47 col2\" >5</td>\n",
       "                        <td id=\"T_7bf0e46c_3400_11e9_a960_54ee75e0f62drow47_col3\" class=\"data row47 col3\" ><a target=\"_blank\" href=\"https://github.com/jupyterhub/the-littlest-jupyterhub/issues/207\">https://github.com/jupyterhub/the-littlest-jupyterhub/issues/207</a></td>\n",
       "            </tr>\n",
       "            <tr>\n",
       "                                <td id=\"T_7bf0e46c_3400_11e9_a960_54ee75e0f62drow48_col0\" class=\"data row48 col0\" >yuvipanda</td>\n",
       "                        <td id=\"T_7bf0e46c_3400_11e9_a960_54ee75e0f62drow48_col1\" class=\"data row48 col1\" >MEMBER</td>\n",
       "                        <td id=\"T_7bf0e46c_3400_11e9_a960_54ee75e0f62drow48_col2\" class=\"data row48 col2\" >5</td>\n",
       "                        <td id=\"T_7bf0e46c_3400_11e9_a960_54ee75e0f62drow48_col3\" class=\"data row48 col3\" ><a target=\"_blank\" href=\"https://github.com/jupyterhub/the-littlest-jupyterhub/issues/11\">https://github.com/jupyterhub/the-littlest-jupyterhub/issues/11</a></td>\n",
       "            </tr>\n",
       "            <tr>\n",
       "                                <td id=\"T_7bf0e46c_3400_11e9_a960_54ee75e0f62drow49_col0\" class=\"data row49 col0\" >yuvipanda</td>\n",
       "                        <td id=\"T_7bf0e46c_3400_11e9_a960_54ee75e0f62drow49_col1\" class=\"data row49 col1\" >MEMBER</td>\n",
       "                        <td id=\"T_7bf0e46c_3400_11e9_a960_54ee75e0f62drow49_col2\" class=\"data row49 col2\" >5</td>\n",
       "                        <td id=\"T_7bf0e46c_3400_11e9_a960_54ee75e0f62drow49_col3\" class=\"data row49 col3\" ><a target=\"_blank\" href=\"https://github.com/jupyterhub/the-littlest-jupyterhub/issues/165\">https://github.com/jupyterhub/the-littlest-jupyterhub/issues/165</a></td>\n",
       "            </tr>\n",
       "            <tr>\n",
       "                                <td id=\"T_7bf0e46c_3400_11e9_a960_54ee75e0f62drow50_col0\" class=\"data row50 col0\" >fm75</td>\n",
       "                        <td id=\"T_7bf0e46c_3400_11e9_a960_54ee75e0f62drow50_col1\" class=\"data row50 col1\" >CONTRIBUTOR</td>\n",
       "                        <td id=\"T_7bf0e46c_3400_11e9_a960_54ee75e0f62drow50_col2\" class=\"data row50 col2\" >5</td>\n",
       "                        <td id=\"T_7bf0e46c_3400_11e9_a960_54ee75e0f62drow50_col3\" class=\"data row50 col3\" ><a target=\"_blank\" href=\"https://github.com/jupyterhub/the-littlest-jupyterhub/issues/226\">https://github.com/jupyterhub/the-littlest-jupyterhub/issues/226</a></td>\n",
       "            </tr>\n",
       "            <tr>\n",
       "                                <td id=\"T_7bf0e46c_3400_11e9_a960_54ee75e0f62drow51_col0\" class=\"data row51 col0\" >choldgraf</td>\n",
       "                        <td id=\"T_7bf0e46c_3400_11e9_a960_54ee75e0f62drow51_col1\" class=\"data row51 col1\" >MEMBER</td>\n",
       "                        <td id=\"T_7bf0e46c_3400_11e9_a960_54ee75e0f62drow51_col2\" class=\"data row51 col2\" >5</td>\n",
       "                        <td id=\"T_7bf0e46c_3400_11e9_a960_54ee75e0f62drow51_col3\" class=\"data row51 col3\" ><a target=\"_blank\" href=\"https://github.com/jupyterhub/the-littlest-jupyterhub/issues/210\">https://github.com/jupyterhub/the-littlest-jupyterhub/issues/210</a></td>\n",
       "            </tr>\n",
       "            <tr>\n",
       "                                <td id=\"T_7bf0e46c_3400_11e9_a960_54ee75e0f62drow52_col0\" class=\"data row52 col0\" >fm75</td>\n",
       "                        <td id=\"T_7bf0e46c_3400_11e9_a960_54ee75e0f62drow52_col1\" class=\"data row52 col1\" >CONTRIBUTOR</td>\n",
       "                        <td id=\"T_7bf0e46c_3400_11e9_a960_54ee75e0f62drow52_col2\" class=\"data row52 col2\" >6</td>\n",
       "                        <td id=\"T_7bf0e46c_3400_11e9_a960_54ee75e0f62drow52_col3\" class=\"data row52 col3\" ><a target=\"_blank\" href=\"https://github.com/jupyterhub/the-littlest-jupyterhub/issues/225\">https://github.com/jupyterhub/the-littlest-jupyterhub/issues/225</a></td>\n",
       "            </tr>\n",
       "            <tr>\n",
       "                                <td id=\"T_7bf0e46c_3400_11e9_a960_54ee75e0f62drow53_col0\" class=\"data row53 col0\" >fm75</td>\n",
       "                        <td id=\"T_7bf0e46c_3400_11e9_a960_54ee75e0f62drow53_col1\" class=\"data row53 col1\" >CONTRIBUTOR</td>\n",
       "                        <td id=\"T_7bf0e46c_3400_11e9_a960_54ee75e0f62drow53_col2\" class=\"data row53 col2\" >9</td>\n",
       "                        <td id=\"T_7bf0e46c_3400_11e9_a960_54ee75e0f62drow53_col3\" class=\"data row53 col3\" ><a target=\"_blank\" href=\"https://github.com/jupyterhub/the-littlest-jupyterhub/issues/219\">https://github.com/jupyterhub/the-littlest-jupyterhub/issues/219</a></td>\n",
       "            </tr>\n",
       "            <tr>\n",
       "                                <td id=\"T_7bf0e46c_3400_11e9_a960_54ee75e0f62drow54_col0\" class=\"data row54 col0\" >choldgraf</td>\n",
       "                        <td id=\"T_7bf0e46c_3400_11e9_a960_54ee75e0f62drow54_col1\" class=\"data row54 col1\" >MEMBER</td>\n",
       "                        <td id=\"T_7bf0e46c_3400_11e9_a960_54ee75e0f62drow54_col2\" class=\"data row54 col2\" >10</td>\n",
       "                        <td id=\"T_7bf0e46c_3400_11e9_a960_54ee75e0f62drow54_col3\" class=\"data row54 col3\" ><a target=\"_blank\" href=\"https://github.com/jupyterhub/the-littlest-jupyterhub/issues/192\">https://github.com/jupyterhub/the-littlest-jupyterhub/issues/192</a></td>\n",
       "            </tr>\n",
       "            <tr>\n",
       "                                <td id=\"T_7bf0e46c_3400_11e9_a960_54ee75e0f62drow55_col0\" class=\"data row55 col0\" >chekos</td>\n",
       "                        <td id=\"T_7bf0e46c_3400_11e9_a960_54ee75e0f62drow55_col1\" class=\"data row55 col1\" >NONE</td>\n",
       "                        <td id=\"T_7bf0e46c_3400_11e9_a960_54ee75e0f62drow55_col2\" class=\"data row55 col2\" >11</td>\n",
       "                        <td id=\"T_7bf0e46c_3400_11e9_a960_54ee75e0f62drow55_col3\" class=\"data row55 col3\" ><a target=\"_blank\" href=\"https://github.com/jupyterhub/the-littlest-jupyterhub/issues/188\">https://github.com/jupyterhub/the-littlest-jupyterhub/issues/188</a></td>\n",
       "            </tr>\n",
       "            <tr>\n",
       "                                <td id=\"T_7bf0e46c_3400_11e9_a960_54ee75e0f62drow56_col0\" class=\"data row56 col0\" >swallace21</td>\n",
       "                        <td id=\"T_7bf0e46c_3400_11e9_a960_54ee75e0f62drow56_col1\" class=\"data row56 col1\" >NONE</td>\n",
       "                        <td id=\"T_7bf0e46c_3400_11e9_a960_54ee75e0f62drow56_col2\" class=\"data row56 col2\" >11</td>\n",
       "                        <td id=\"T_7bf0e46c_3400_11e9_a960_54ee75e0f62drow56_col3\" class=\"data row56 col3\" ><a target=\"_blank\" href=\"https://github.com/jupyterhub/the-littlest-jupyterhub/issues/75\">https://github.com/jupyterhub/the-littlest-jupyterhub/issues/75</a></td>\n",
       "            </tr>\n",
       "            <tr>\n",
       "                                <td id=\"T_7bf0e46c_3400_11e9_a960_54ee75e0f62drow57_col0\" class=\"data row57 col0\" >ctb</td>\n",
       "                        <td id=\"T_7bf0e46c_3400_11e9_a960_54ee75e0f62drow57_col1\" class=\"data row57 col1\" >CONTRIBUTOR</td>\n",
       "                        <td id=\"T_7bf0e46c_3400_11e9_a960_54ee75e0f62drow57_col2\" class=\"data row57 col2\" >13</td>\n",
       "                        <td id=\"T_7bf0e46c_3400_11e9_a960_54ee75e0f62drow57_col3\" class=\"data row57 col3\" ><a target=\"_blank\" href=\"https://github.com/jupyterhub/the-littlest-jupyterhub/issues/18\">https://github.com/jupyterhub/the-littlest-jupyterhub/issues/18</a></td>\n",
       "            </tr>\n",
       "            <tr>\n",
       "                                <td id=\"T_7bf0e46c_3400_11e9_a960_54ee75e0f62drow58_col0\" class=\"data row58 col0\" >dzarlax</td>\n",
       "                        <td id=\"T_7bf0e46c_3400_11e9_a960_54ee75e0f62drow58_col1\" class=\"data row58 col1\" >NONE</td>\n",
       "                        <td id=\"T_7bf0e46c_3400_11e9_a960_54ee75e0f62drow58_col2\" class=\"data row58 col2\" >13</td>\n",
       "                        <td id=\"T_7bf0e46c_3400_11e9_a960_54ee75e0f62drow58_col3\" class=\"data row58 col3\" ><a target=\"_blank\" href=\"https://github.com/jupyterhub/the-littlest-jupyterhub/issues/148\">https://github.com/jupyterhub/the-littlest-jupyterhub/issues/148</a></td>\n",
       "            </tr>\n",
       "            <tr>\n",
       "                                <td id=\"T_7bf0e46c_3400_11e9_a960_54ee75e0f62drow59_col0\" class=\"data row59 col0\" >JuanCab</td>\n",
       "                        <td id=\"T_7bf0e46c_3400_11e9_a960_54ee75e0f62drow59_col1\" class=\"data row59 col1\" >NONE</td>\n",
       "                        <td id=\"T_7bf0e46c_3400_11e9_a960_54ee75e0f62drow59_col2\" class=\"data row59 col2\" >22</td>\n",
       "                        <td id=\"T_7bf0e46c_3400_11e9_a960_54ee75e0f62drow59_col3\" class=\"data row59 col3\" ><a target=\"_blank\" href=\"https://github.com/jupyterhub/the-littlest-jupyterhub/issues/108\">https://github.com/jupyterhub/the-littlest-jupyterhub/issues/108</a></td>\n",
       "            </tr>\n",
       "    </tbody></table>"
      ],
      "text/plain": [
       "<pandas.io.formats.style.Styler at 0x7f687af33908>"
      ]
     },
     "execution_count": 20,
     "metadata": {},
     "output_type": "execute_result"
    }
   ],
   "source": [
    "stale_issues[['user', 'author_association', 'comments', 'html_url']]\\\n",
    "    .sort_values(['comments']).style.applymap(highlight_rows).format({'html_url': make_clickable}).hide_index()"
   ]
  }
 ],
 "metadata": {
  "kernelspec": {
   "display_name": "Python 3",
   "language": "python",
   "name": "python3"
  },
  "language_info": {
   "codemirror_mode": {
    "name": "ipython",
    "version": 3
   },
   "file_extension": ".py",
   "mimetype": "text/x-python",
   "name": "python",
   "nbconvert_exporter": "python",
   "pygments_lexer": "ipython3",
   "version": "3.6.5"
  },
  "papermill": {
   "duration": 10.64228,
   "end_time": "2019-02-19T04:40:30.452302",
   "environment_variables": {},
   "exception": null,
   "input_path": "./templates/issues.ipynb",
   "output_path": "../reports/2019-01-19/jupyterhub/the-littlest-jupyterhub/issues.ipynb",
   "parameters": {
    "date": "2019-01-19",
    "org": "jupyterhub",
    "repo": "the-littlest-jupyterhub"
   },
   "start_time": "2019-02-19T04:40:19.810022",
   "version": "0.18.0"
  }
 },
 "nbformat": 4,
 "nbformat_minor": 2
}