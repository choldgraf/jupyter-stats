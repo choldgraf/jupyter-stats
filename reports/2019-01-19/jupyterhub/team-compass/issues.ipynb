{
 "cells": [
  {
   "cell_type": "code",
   "execution_count": 1,
   "metadata": {
    "jupyter": {
     "source_hidden": true
    },
    "papermill": {
     "duration": 0.691958,
     "end_time": "2019-02-19T04:41:24.336902",
     "exception": false,
     "start_time": "2019-02-19T04:41:23.644944",
     "status": "completed"
    },
    "tags": []
   },
   "outputs": [],
   "source": [
    "import pandas as pd\n",
    "from datetime import timedelta\n",
    "from IPython.display import HTML, display"
   ]
  },
  {
   "cell_type": "code",
   "execution_count": 2,
   "metadata": {
    "jupyter": {
     "source_hidden": true
    },
    "papermill": {
     "duration": 0.041969,
     "end_time": "2019-02-19T04:41:24.415721",
     "exception": false,
     "start_time": "2019-02-19T04:41:24.373752",
     "status": "completed"
    },
    "tags": [
     "parameters"
    ]
   },
   "outputs": [],
   "source": [
    "date = pd.datetime.today() - timedelta(days=30)\n",
    "org = 'jupyterhub'\n",
    "repo = 'zero-to-jupyterhub-k8s'"
   ]
  },
  {
   "cell_type": "code",
   "execution_count": 3,
   "metadata": {
    "jupyter": {
     "source_hidden": true
    },
    "papermill": {
     "duration": 0.028444,
     "end_time": "2019-02-19T04:41:24.468382",
     "exception": false,
     "start_time": "2019-02-19T04:41:24.439938",
     "status": "completed"
    },
    "tags": [
     "injected-parameters"
    ]
   },
   "outputs": [],
   "source": [
    "# Parameters\n",
    "org = \"jupyterhub\"\n",
    "repo = \"team-compass\"\n",
    "date = \"2019-01-19\"\n"
   ]
  },
  {
   "cell_type": "code",
   "execution_count": 4,
   "metadata": {
    "jupyter": {
     "source_hidden": true
    },
    "papermill": {
     "duration": 0.03153,
     "end_time": "2019-02-19T04:41:24.524035",
     "exception": false,
     "start_time": "2019-02-19T04:41:24.492505",
     "status": "completed"
    },
    "tags": []
   },
   "outputs": [],
   "source": [
    "# Definition of a stale issue/PR (how many days since last updated)\n",
    "date = pd.to_datetime(date)\n",
    "stale_days = 30\n",
    "date_stale = date - timedelta(days=stale_days)"
   ]
  },
  {
   "cell_type": "markdown",
   "metadata": {
    "papermill": {
     "duration": 0.0218,
     "end_time": "2019-02-19T04:41:24.568653",
     "exception": false,
     "start_time": "2019-02-19T04:41:24.546853",
     "status": "completed"
    },
    "tags": []
   },
   "source": [
    "# Opened and Closed Issues and PRs\n",
    "\n",
    "This report shows opened and closed issues / PRs over the last 30 days, with a\n",
    "particular focus on items that haven't had a lot of discussion, or that have\n",
    "been opened by people who aren't team-members. The goal of this page is to make\n",
    "it easier to spot places where some input would be appreciated!"
   ]
  },
  {
   "cell_type": "markdown",
   "metadata": {
    "papermill": {
     "duration": 0.019719,
     "end_time": "2019-02-19T04:41:24.610733",
     "exception": false,
     "start_time": "2019-02-19T04:41:24.591014",
     "status": "completed"
    },
    "tags": []
   },
   "source": [
    "# Imports"
   ]
  },
  {
   "cell_type": "code",
   "execution_count": 5,
   "metadata": {
    "jupyter": {
     "source_hidden": true
    },
    "papermill": {
     "duration": 0.233257,
     "end_time": "2019-02-19T04:41:24.865761",
     "exception": false,
     "start_time": "2019-02-19T04:41:24.632504",
     "status": "completed"
    },
    "tags": []
   },
   "outputs": [],
   "source": [
    "import pandas as pd\n",
    "from subprocess import run, PIPE\n",
    "from watchtower import issues_\n",
    "from glob import glob\n",
    "import os.path as op\n",
    "import shutil as sh\n",
    "import sys\n",
    "sys.path.append('../../scripts/')"
   ]
  },
  {
   "cell_type": "markdown",
   "metadata": {
    "papermill": {
     "duration": 0.025256,
     "end_time": "2019-02-19T04:41:24.923345",
     "exception": false,
     "start_time": "2019-02-19T04:41:24.898089",
     "status": "completed"
    },
    "tags": []
   },
   "source": [
    "## styling functions"
   ]
  },
  {
   "cell_type": "code",
   "execution_count": 6,
   "metadata": {
    "jupyter": {
     "source_hidden": true
    },
    "papermill": {
     "duration": 0.071007,
     "end_time": "2019-02-19T04:41:25.033980",
     "exception": false,
     "start_time": "2019-02-19T04:41:24.962973",
     "status": "completed"
    },
    "tags": []
   },
   "outputs": [],
   "source": [
    "def highlight_rows(val):\n",
    "    \"\"\"Highlights cells pertaining to non-members and w/ no comments\"\"\"\n",
    "    disp = ''\n",
    "    if val == 0 or val == \"NONE\":\n",
    "        disp += 'background-color: #f7b7b7'\n",
    "    elif val == \"FIRST_TIME_CONTRIBUTOR\":\n",
    "        disp += 'background-color: red'\n",
    "    return disp\n",
    "\n",
    "def make_clickable(val):\n",
    "    # target _blank to open new window\n",
    "    return '<a target=\"_blank\" href=\"{}\">{}</a>'.format(val, val)\n",
    "\n",
    "def print_html(msg):\n",
    "    display(HTML('<h2 style=\"padding-left: 1em;\">{}</h2>'.format(msg)))\n",
    "    \n",
    "pd.options.display.max_colwidth = 200"
   ]
  },
  {
   "cell_type": "markdown",
   "metadata": {
    "papermill": {
     "duration": 0.070449,
     "end_time": "2019-02-19T04:41:25.162999",
     "exception": false,
     "start_time": "2019-02-19T04:41:25.092550",
     "status": "completed"
    },
    "tags": []
   },
   "source": [
    "## Load data"
   ]
  },
  {
   "cell_type": "code",
   "execution_count": 7,
   "metadata": {
    "jupyter": {
     "source_hidden": true
    },
    "papermill": {
     "duration": 0.137713,
     "end_time": "2019-02-19T04:41:25.349140",
     "exception": false,
     "start_time": "2019-02-19T04:41:25.211427",
     "status": "completed"
    },
    "tags": []
   },
   "outputs": [],
   "source": [
    "# Issues\n",
    "issues = issues_.load_issues(org, repo)\n",
    "issues['user'] = issues['user'].map(lambda a: a['login'])"
   ]
  },
  {
   "cell_type": "markdown",
   "metadata": {
    "papermill": {
     "duration": 0.031229,
     "end_time": "2019-02-19T04:41:25.413211",
     "exception": false,
     "start_time": "2019-02-19T04:41:25.381982",
     "status": "completed"
    },
    "tags": []
   },
   "source": [
    "# New activity"
   ]
  },
  {
   "cell_type": "markdown",
   "metadata": {
    "papermill": {
     "duration": 0.027622,
     "end_time": "2019-02-19T04:41:25.469362",
     "exception": false,
     "start_time": "2019-02-19T04:41:25.441740",
     "status": "completed"
    },
    "tags": []
   },
   "source": [
    "## Opened issues\n",
    "\n",
    "without responses in red"
   ]
  },
  {
   "cell_type": "code",
   "execution_count": 8,
   "metadata": {
    "jupyter": {
     "source_hidden": true
    },
    "papermill": {
     "duration": 0.155508,
     "end_time": "2019-02-19T04:41:25.655248",
     "exception": false,
     "start_time": "2019-02-19T04:41:25.499740",
     "status": "completed"
    },
    "tags": []
   },
   "outputs": [
    {
     "name": "stderr",
     "output_type": "stream",
     "text": [
      "/home/choldgraf/anaconda/envs/dev/lib/python3.6/site-packages/ipykernel_launcher.py:3: SettingWithCopyWarning: \n",
      "A value is trying to be set on a copy of a slice from a DataFrame.\n",
      "Try using .loc[row_indexer,col_indexer] = value instead\n",
      "\n",
      "See the caveats in the documentation: http://pandas.pydata.org/pandas-docs/stable/indexing.html#indexing-view-versus-copy\n",
      "  This is separate from the ipykernel package so we can avoid doing imports until\n"
     ]
    }
   ],
   "source": [
    "opened = issues.query('created_at > @date')\n",
    "opened_issues = opened[opened['pull_request'].isna()]\n",
    "opened_issues['closed'] = ~pd.isnull(opened_issues['closed_at'])"
   ]
  },
  {
   "cell_type": "code",
   "execution_count": 9,
   "metadata": {
    "jupyter": {
     "source_hidden": true
    },
    "papermill": {
     "duration": 0.065924,
     "end_time": "2019-02-19T04:41:25.764137",
     "exception": false,
     "start_time": "2019-02-19T04:41:25.698213",
     "status": "completed"
    },
    "tags": []
   },
   "outputs": [
    {
     "data": {
      "text/html": [
       "<h2 style=\"padding-left: 1em;\">Opened issues: 12</h2>"
      ],
      "text/plain": [
       "<IPython.core.display.HTML object>"
      ]
     },
     "metadata": {},
     "output_type": "display_data"
    }
   ],
   "source": [
    "print_html('Opened issues: {}'.format(len(opened_issues)))"
   ]
  },
  {
   "cell_type": "code",
   "execution_count": 10,
   "metadata": {
    "jupyter": {
     "source_hidden": true
    },
    "papermill": {
     "duration": 0.91397,
     "end_time": "2019-02-19T04:41:26.711258",
     "exception": false,
     "start_time": "2019-02-19T04:41:25.797288",
     "status": "completed"
    },
    "tags": []
   },
   "outputs": [
    {
     "data": {
      "text/html": [
       "<style  type=\"text/css\" >\n",
       "    #T_9e0084ae_3400_11e9_895e_54ee75e0f62drow0_col2 {\n",
       "            background-color:  #f7b7b7;\n",
       "        }    #T_9e0084ae_3400_11e9_895e_54ee75e0f62drow0_col3 {\n",
       "            background-color:  #f7b7b7;\n",
       "        }    #T_9e0084ae_3400_11e9_895e_54ee75e0f62drow1_col2 {\n",
       "            background-color:  #f7b7b7;\n",
       "        }    #T_9e0084ae_3400_11e9_895e_54ee75e0f62drow1_col3 {\n",
       "            background-color:  #f7b7b7;\n",
       "        }    #T_9e0084ae_3400_11e9_895e_54ee75e0f62drow2_col2 {\n",
       "            background-color:  #f7b7b7;\n",
       "        }    #T_9e0084ae_3400_11e9_895e_54ee75e0f62drow2_col3 {\n",
       "            background-color:  #f7b7b7;\n",
       "        }    #T_9e0084ae_3400_11e9_895e_54ee75e0f62drow3_col3 {\n",
       "            background-color:  #f7b7b7;\n",
       "        }    #T_9e0084ae_3400_11e9_895e_54ee75e0f62drow4_col3 {\n",
       "            background-color:  #f7b7b7;\n",
       "        }    #T_9e0084ae_3400_11e9_895e_54ee75e0f62drow5_col3 {\n",
       "            background-color:  #f7b7b7;\n",
       "        }    #T_9e0084ae_3400_11e9_895e_54ee75e0f62drow6_col3 {\n",
       "            background-color:  #f7b7b7;\n",
       "        }    #T_9e0084ae_3400_11e9_895e_54ee75e0f62drow7_col3 {\n",
       "            background-color:  #f7b7b7;\n",
       "        }    #T_9e0084ae_3400_11e9_895e_54ee75e0f62drow8_col3 {\n",
       "            background-color:  #f7b7b7;\n",
       "        }    #T_9e0084ae_3400_11e9_895e_54ee75e0f62drow9_col3 {\n",
       "            background-color:  #f7b7b7;\n",
       "        }</style><table id=\"T_9e0084ae_3400_11e9_895e_54ee75e0f62d\" ><thead>    <tr>        <th class=\"col_heading level0 col0\" >user</th>        <th class=\"col_heading level0 col1\" >author_association</th>        <th class=\"col_heading level0 col2\" >comments</th>        <th class=\"col_heading level0 col3\" >closed</th>        <th class=\"col_heading level0 col4\" >html_url</th>    </tr></thead><tbody>\n",
       "                <tr>\n",
       "                                <td id=\"T_9e0084ae_3400_11e9_895e_54ee75e0f62drow0_col0\" class=\"data row0 col0\" >choldgraf</td>\n",
       "                        <td id=\"T_9e0084ae_3400_11e9_895e_54ee75e0f62drow0_col1\" class=\"data row0 col1\" >MEMBER</td>\n",
       "                        <td id=\"T_9e0084ae_3400_11e9_895e_54ee75e0f62drow0_col2\" class=\"data row0 col2\" >0</td>\n",
       "                        <td id=\"T_9e0084ae_3400_11e9_895e_54ee75e0f62drow0_col3\" class=\"data row0 col3\" >False</td>\n",
       "                        <td id=\"T_9e0084ae_3400_11e9_895e_54ee75e0f62drow0_col4\" class=\"data row0 col4\" ><a target=\"_blank\" href=\"https://github.com/jupyterhub/team-compass/issues/119\">https://github.com/jupyterhub/team-compass/issues/119</a></td>\n",
       "            </tr>\n",
       "            <tr>\n",
       "                                <td id=\"T_9e0084ae_3400_11e9_895e_54ee75e0f62drow1_col0\" class=\"data row1 col0\" >minrk</td>\n",
       "                        <td id=\"T_9e0084ae_3400_11e9_895e_54ee75e0f62drow1_col1\" class=\"data row1 col1\" >MEMBER</td>\n",
       "                        <td id=\"T_9e0084ae_3400_11e9_895e_54ee75e0f62drow1_col2\" class=\"data row1 col2\" >0</td>\n",
       "                        <td id=\"T_9e0084ae_3400_11e9_895e_54ee75e0f62drow1_col3\" class=\"data row1 col3\" >False</td>\n",
       "                        <td id=\"T_9e0084ae_3400_11e9_895e_54ee75e0f62drow1_col4\" class=\"data row1 col4\" ><a target=\"_blank\" href=\"https://github.com/jupyterhub/team-compass/issues/118\">https://github.com/jupyterhub/team-compass/issues/118</a></td>\n",
       "            </tr>\n",
       "            <tr>\n",
       "                                <td id=\"T_9e0084ae_3400_11e9_895e_54ee75e0f62drow2_col0\" class=\"data row2 col0\" >betatim</td>\n",
       "                        <td id=\"T_9e0084ae_3400_11e9_895e_54ee75e0f62drow2_col1\" class=\"data row2 col1\" >MEMBER</td>\n",
       "                        <td id=\"T_9e0084ae_3400_11e9_895e_54ee75e0f62drow2_col2\" class=\"data row2 col2\" >0</td>\n",
       "                        <td id=\"T_9e0084ae_3400_11e9_895e_54ee75e0f62drow2_col3\" class=\"data row2 col3\" >False</td>\n",
       "                        <td id=\"T_9e0084ae_3400_11e9_895e_54ee75e0f62drow2_col4\" class=\"data row2 col4\" ><a target=\"_blank\" href=\"https://github.com/jupyterhub/team-compass/issues/115\">https://github.com/jupyterhub/team-compass/issues/115</a></td>\n",
       "            </tr>\n",
       "            <tr>\n",
       "                                <td id=\"T_9e0084ae_3400_11e9_895e_54ee75e0f62drow3_col0\" class=\"data row3 col0\" >willingc</td>\n",
       "                        <td id=\"T_9e0084ae_3400_11e9_895e_54ee75e0f62drow3_col1\" class=\"data row3 col1\" >MEMBER</td>\n",
       "                        <td id=\"T_9e0084ae_3400_11e9_895e_54ee75e0f62drow3_col2\" class=\"data row3 col2\" >1</td>\n",
       "                        <td id=\"T_9e0084ae_3400_11e9_895e_54ee75e0f62drow3_col3\" class=\"data row3 col3\" >False</td>\n",
       "                        <td id=\"T_9e0084ae_3400_11e9_895e_54ee75e0f62drow3_col4\" class=\"data row3 col4\" ><a target=\"_blank\" href=\"https://github.com/jupyterhub/team-compass/issues/109\">https://github.com/jupyterhub/team-compass/issues/109</a></td>\n",
       "            </tr>\n",
       "            <tr>\n",
       "                                <td id=\"T_9e0084ae_3400_11e9_895e_54ee75e0f62drow4_col0\" class=\"data row4 col0\" >lheagy</td>\n",
       "                        <td id=\"T_9e0084ae_3400_11e9_895e_54ee75e0f62drow4_col1\" class=\"data row4 col1\" >MEMBER</td>\n",
       "                        <td id=\"T_9e0084ae_3400_11e9_895e_54ee75e0f62drow4_col2\" class=\"data row4 col2\" >2</td>\n",
       "                        <td id=\"T_9e0084ae_3400_11e9_895e_54ee75e0f62drow4_col3\" class=\"data row4 col3\" >False</td>\n",
       "                        <td id=\"T_9e0084ae_3400_11e9_895e_54ee75e0f62drow4_col4\" class=\"data row4 col4\" ><a target=\"_blank\" href=\"https://github.com/jupyterhub/team-compass/issues/117\">https://github.com/jupyterhub/team-compass/issues/117</a></td>\n",
       "            </tr>\n",
       "            <tr>\n",
       "                                <td id=\"T_9e0084ae_3400_11e9_895e_54ee75e0f62drow5_col0\" class=\"data row5 col0\" >betatim</td>\n",
       "                        <td id=\"T_9e0084ae_3400_11e9_895e_54ee75e0f62drow5_col1\" class=\"data row5 col1\" >MEMBER</td>\n",
       "                        <td id=\"T_9e0084ae_3400_11e9_895e_54ee75e0f62drow5_col2\" class=\"data row5 col2\" >2</td>\n",
       "                        <td id=\"T_9e0084ae_3400_11e9_895e_54ee75e0f62drow5_col3\" class=\"data row5 col3\" >False</td>\n",
       "                        <td id=\"T_9e0084ae_3400_11e9_895e_54ee75e0f62drow5_col4\" class=\"data row5 col4\" ><a target=\"_blank\" href=\"https://github.com/jupyterhub/team-compass/issues/114\">https://github.com/jupyterhub/team-compass/issues/114</a></td>\n",
       "            </tr>\n",
       "            <tr>\n",
       "                                <td id=\"T_9e0084ae_3400_11e9_895e_54ee75e0f62drow6_col0\" class=\"data row6 col0\" >betatim</td>\n",
       "                        <td id=\"T_9e0084ae_3400_11e9_895e_54ee75e0f62drow6_col1\" class=\"data row6 col1\" >MEMBER</td>\n",
       "                        <td id=\"T_9e0084ae_3400_11e9_895e_54ee75e0f62drow6_col2\" class=\"data row6 col2\" >4</td>\n",
       "                        <td id=\"T_9e0084ae_3400_11e9_895e_54ee75e0f62drow6_col3\" class=\"data row6 col3\" >False</td>\n",
       "                        <td id=\"T_9e0084ae_3400_11e9_895e_54ee75e0f62drow6_col4\" class=\"data row6 col4\" ><a target=\"_blank\" href=\"https://github.com/jupyterhub/team-compass/issues/113\">https://github.com/jupyterhub/team-compass/issues/113</a></td>\n",
       "            </tr>\n",
       "            <tr>\n",
       "                                <td id=\"T_9e0084ae_3400_11e9_895e_54ee75e0f62drow7_col0\" class=\"data row7 col0\" >lheagy</td>\n",
       "                        <td id=\"T_9e0084ae_3400_11e9_895e_54ee75e0f62drow7_col1\" class=\"data row7 col1\" >MEMBER</td>\n",
       "                        <td id=\"T_9e0084ae_3400_11e9_895e_54ee75e0f62drow7_col2\" class=\"data row7 col2\" >10</td>\n",
       "                        <td id=\"T_9e0084ae_3400_11e9_895e_54ee75e0f62drow7_col3\" class=\"data row7 col3\" >False</td>\n",
       "                        <td id=\"T_9e0084ae_3400_11e9_895e_54ee75e0f62drow7_col4\" class=\"data row7 col4\" ><a target=\"_blank\" href=\"https://github.com/jupyterhub/team-compass/issues/116\">https://github.com/jupyterhub/team-compass/issues/116</a></td>\n",
       "            </tr>\n",
       "            <tr>\n",
       "                                <td id=\"T_9e0084ae_3400_11e9_895e_54ee75e0f62drow8_col0\" class=\"data row8 col0\" >betatim</td>\n",
       "                        <td id=\"T_9e0084ae_3400_11e9_895e_54ee75e0f62drow8_col1\" class=\"data row8 col1\" >MEMBER</td>\n",
       "                        <td id=\"T_9e0084ae_3400_11e9_895e_54ee75e0f62drow8_col2\" class=\"data row8 col2\" >13</td>\n",
       "                        <td id=\"T_9e0084ae_3400_11e9_895e_54ee75e0f62drow8_col3\" class=\"data row8 col3\" >False</td>\n",
       "                        <td id=\"T_9e0084ae_3400_11e9_895e_54ee75e0f62drow8_col4\" class=\"data row8 col4\" ><a target=\"_blank\" href=\"https://github.com/jupyterhub/team-compass/issues/111\">https://github.com/jupyterhub/team-compass/issues/111</a></td>\n",
       "            </tr>\n",
       "            <tr>\n",
       "                                <td id=\"T_9e0084ae_3400_11e9_895e_54ee75e0f62drow9_col0\" class=\"data row9 col0\" >betatim</td>\n",
       "                        <td id=\"T_9e0084ae_3400_11e9_895e_54ee75e0f62drow9_col1\" class=\"data row9 col1\" >MEMBER</td>\n",
       "                        <td id=\"T_9e0084ae_3400_11e9_895e_54ee75e0f62drow9_col2\" class=\"data row9 col2\" >16</td>\n",
       "                        <td id=\"T_9e0084ae_3400_11e9_895e_54ee75e0f62drow9_col3\" class=\"data row9 col3\" >False</td>\n",
       "                        <td id=\"T_9e0084ae_3400_11e9_895e_54ee75e0f62drow9_col4\" class=\"data row9 col4\" ><a target=\"_blank\" href=\"https://github.com/jupyterhub/team-compass/issues/110\">https://github.com/jupyterhub/team-compass/issues/110</a></td>\n",
       "            </tr>\n",
       "            <tr>\n",
       "                                <td id=\"T_9e0084ae_3400_11e9_895e_54ee75e0f62drow10_col0\" class=\"data row10 col0\" >choldgraf</td>\n",
       "                        <td id=\"T_9e0084ae_3400_11e9_895e_54ee75e0f62drow10_col1\" class=\"data row10 col1\" >MEMBER</td>\n",
       "                        <td id=\"T_9e0084ae_3400_11e9_895e_54ee75e0f62drow10_col2\" class=\"data row10 col2\" >2</td>\n",
       "                        <td id=\"T_9e0084ae_3400_11e9_895e_54ee75e0f62drow10_col3\" class=\"data row10 col3\" >True</td>\n",
       "                        <td id=\"T_9e0084ae_3400_11e9_895e_54ee75e0f62drow10_col4\" class=\"data row10 col4\" ><a target=\"_blank\" href=\"https://github.com/jupyterhub/team-compass/issues/107\">https://github.com/jupyterhub/team-compass/issues/107</a></td>\n",
       "            </tr>\n",
       "            <tr>\n",
       "                                <td id=\"T_9e0084ae_3400_11e9_895e_54ee75e0f62drow11_col0\" class=\"data row11 col0\" >choldgraf</td>\n",
       "                        <td id=\"T_9e0084ae_3400_11e9_895e_54ee75e0f62drow11_col1\" class=\"data row11 col1\" >MEMBER</td>\n",
       "                        <td id=\"T_9e0084ae_3400_11e9_895e_54ee75e0f62drow11_col2\" class=\"data row11 col2\" >3</td>\n",
       "                        <td id=\"T_9e0084ae_3400_11e9_895e_54ee75e0f62drow11_col3\" class=\"data row11 col3\" >True</td>\n",
       "                        <td id=\"T_9e0084ae_3400_11e9_895e_54ee75e0f62drow11_col4\" class=\"data row11 col4\" ><a target=\"_blank\" href=\"https://github.com/jupyterhub/team-compass/issues/112\">https://github.com/jupyterhub/team-compass/issues/112</a></td>\n",
       "            </tr>\n",
       "    </tbody></table>"
      ],
      "text/plain": [
       "<pandas.io.formats.style.Styler at 0x7f8794af3240>"
      ]
     },
     "execution_count": 10,
     "metadata": {},
     "output_type": "execute_result"
    }
   ],
   "source": [
    "opened_issues[['user', 'author_association', 'comments', 'closed', 'html_url']]\\\n",
    "    .sort_values(['closed', 'comments']).style.applymap(highlight_rows).format({'html_url': make_clickable}).hide_index()"
   ]
  },
  {
   "cell_type": "markdown",
   "metadata": {
    "papermill": {
     "duration": 0.026205,
     "end_time": "2019-02-19T04:41:26.760591",
     "exception": false,
     "start_time": "2019-02-19T04:41:26.734386",
     "status": "completed"
    },
    "tags": []
   },
   "source": [
    "## Closed issues\n"
   ]
  },
  {
   "cell_type": "code",
   "execution_count": 11,
   "metadata": {
    "jupyter": {
     "source_hidden": true
    },
    "papermill": {
     "duration": 0.039811,
     "end_time": "2019-02-19T04:41:26.823899",
     "exception": false,
     "start_time": "2019-02-19T04:41:26.784088",
     "status": "completed"
    },
    "tags": []
   },
   "outputs": [],
   "source": [
    "closed = issues.query('closed_at > @date')\n",
    "closed_issues = closed[closed['pull_request'].isna()]"
   ]
  },
  {
   "cell_type": "code",
   "execution_count": 12,
   "metadata": {
    "jupyter": {
     "source_hidden": true
    },
    "papermill": {
     "duration": 0.06083,
     "end_time": "2019-02-19T04:41:26.912982",
     "exception": false,
     "start_time": "2019-02-19T04:41:26.852152",
     "status": "completed"
    },
    "tags": []
   },
   "outputs": [
    {
     "data": {
      "text/html": [
       "<style  type=\"text/css\" >\n",
       "</style><table id=\"T_9e20200c_3400_11e9_895e_54ee75e0f62d\" ><thead>    <tr>        <th class=\"col_heading level0 col0\" >user</th>        <th class=\"col_heading level0 col1\" >author_association</th>        <th class=\"col_heading level0 col2\" >comments</th>        <th class=\"col_heading level0 col3\" >html_url</th>    </tr></thead><tbody>\n",
       "                <tr>\n",
       "                                <td id=\"T_9e20200c_3400_11e9_895e_54ee75e0f62drow0_col0\" class=\"data row0 col0\" >choldgraf</td>\n",
       "                        <td id=\"T_9e20200c_3400_11e9_895e_54ee75e0f62drow0_col1\" class=\"data row0 col1\" >MEMBER</td>\n",
       "                        <td id=\"T_9e20200c_3400_11e9_895e_54ee75e0f62drow0_col2\" class=\"data row0 col2\" >2</td>\n",
       "                        <td id=\"T_9e20200c_3400_11e9_895e_54ee75e0f62drow0_col3\" class=\"data row0 col3\" ><a target=\"_blank\" href=\"https://github.com/jupyterhub/team-compass/issues/107\">https://github.com/jupyterhub/team-compass/issues/107</a></td>\n",
       "            </tr>\n",
       "            <tr>\n",
       "                                <td id=\"T_9e20200c_3400_11e9_895e_54ee75e0f62drow1_col0\" class=\"data row1 col0\" >choldgraf</td>\n",
       "                        <td id=\"T_9e20200c_3400_11e9_895e_54ee75e0f62drow1_col1\" class=\"data row1 col1\" >MEMBER</td>\n",
       "                        <td id=\"T_9e20200c_3400_11e9_895e_54ee75e0f62drow1_col2\" class=\"data row1 col2\" >3</td>\n",
       "                        <td id=\"T_9e20200c_3400_11e9_895e_54ee75e0f62drow1_col3\" class=\"data row1 col3\" ><a target=\"_blank\" href=\"https://github.com/jupyterhub/team-compass/issues/112\">https://github.com/jupyterhub/team-compass/issues/112</a></td>\n",
       "            </tr>\n",
       "            <tr>\n",
       "                                <td id=\"T_9e20200c_3400_11e9_895e_54ee75e0f62drow2_col0\" class=\"data row2 col0\" >betatim</td>\n",
       "                        <td id=\"T_9e20200c_3400_11e9_895e_54ee75e0f62drow2_col1\" class=\"data row2 col1\" >MEMBER</td>\n",
       "                        <td id=\"T_9e20200c_3400_11e9_895e_54ee75e0f62drow2_col2\" class=\"data row2 col2\" >4</td>\n",
       "                        <td id=\"T_9e20200c_3400_11e9_895e_54ee75e0f62drow2_col3\" class=\"data row2 col3\" ><a target=\"_blank\" href=\"https://github.com/jupyterhub/team-compass/issues/103\">https://github.com/jupyterhub/team-compass/issues/103</a></td>\n",
       "            </tr>\n",
       "            <tr>\n",
       "                                <td id=\"T_9e20200c_3400_11e9_895e_54ee75e0f62drow3_col0\" class=\"data row3 col0\" >betatim</td>\n",
       "                        <td id=\"T_9e20200c_3400_11e9_895e_54ee75e0f62drow3_col1\" class=\"data row3 col1\" >MEMBER</td>\n",
       "                        <td id=\"T_9e20200c_3400_11e9_895e_54ee75e0f62drow3_col2\" class=\"data row3 col2\" >4</td>\n",
       "                        <td id=\"T_9e20200c_3400_11e9_895e_54ee75e0f62drow3_col3\" class=\"data row3 col3\" ><a target=\"_blank\" href=\"https://github.com/jupyterhub/team-compass/issues/102\">https://github.com/jupyterhub/team-compass/issues/102</a></td>\n",
       "            </tr>\n",
       "            <tr>\n",
       "                                <td id=\"T_9e20200c_3400_11e9_895e_54ee75e0f62drow4_col0\" class=\"data row4 col0\" >betatim</td>\n",
       "                        <td id=\"T_9e20200c_3400_11e9_895e_54ee75e0f62drow4_col1\" class=\"data row4 col1\" >MEMBER</td>\n",
       "                        <td id=\"T_9e20200c_3400_11e9_895e_54ee75e0f62drow4_col2\" class=\"data row4 col2\" >10</td>\n",
       "                        <td id=\"T_9e20200c_3400_11e9_895e_54ee75e0f62drow4_col3\" class=\"data row4 col3\" ><a target=\"_blank\" href=\"https://github.com/jupyterhub/team-compass/issues/81\">https://github.com/jupyterhub/team-compass/issues/81</a></td>\n",
       "            </tr>\n",
       "            <tr>\n",
       "                                <td id=\"T_9e20200c_3400_11e9_895e_54ee75e0f62drow5_col0\" class=\"data row5 col0\" >jzf2101</td>\n",
       "                        <td id=\"T_9e20200c_3400_11e9_895e_54ee75e0f62drow5_col1\" class=\"data row5 col1\" >MEMBER</td>\n",
       "                        <td id=\"T_9e20200c_3400_11e9_895e_54ee75e0f62drow5_col2\" class=\"data row5 col2\" >28</td>\n",
       "                        <td id=\"T_9e20200c_3400_11e9_895e_54ee75e0f62drow5_col3\" class=\"data row5 col3\" ><a target=\"_blank\" href=\"https://github.com/jupyterhub/team-compass/issues/85\">https://github.com/jupyterhub/team-compass/issues/85</a></td>\n",
       "            </tr>\n",
       "            <tr>\n",
       "                                <td id=\"T_9e20200c_3400_11e9_895e_54ee75e0f62drow6_col0\" class=\"data row6 col0\" >jzf2101</td>\n",
       "                        <td id=\"T_9e20200c_3400_11e9_895e_54ee75e0f62drow6_col1\" class=\"data row6 col1\" >MEMBER</td>\n",
       "                        <td id=\"T_9e20200c_3400_11e9_895e_54ee75e0f62drow6_col2\" class=\"data row6 col2\" >31</td>\n",
       "                        <td id=\"T_9e20200c_3400_11e9_895e_54ee75e0f62drow6_col3\" class=\"data row6 col3\" ><a target=\"_blank\" href=\"https://github.com/jupyterhub/team-compass/issues/92\">https://github.com/jupyterhub/team-compass/issues/92</a></td>\n",
       "            </tr>\n",
       "            <tr>\n",
       "                                <td id=\"T_9e20200c_3400_11e9_895e_54ee75e0f62drow7_col0\" class=\"data row7 col0\" >betatim</td>\n",
       "                        <td id=\"T_9e20200c_3400_11e9_895e_54ee75e0f62drow7_col1\" class=\"data row7 col1\" >MEMBER</td>\n",
       "                        <td id=\"T_9e20200c_3400_11e9_895e_54ee75e0f62drow7_col2\" class=\"data row7 col2\" >44</td>\n",
       "                        <td id=\"T_9e20200c_3400_11e9_895e_54ee75e0f62drow7_col3\" class=\"data row7 col3\" ><a target=\"_blank\" href=\"https://github.com/jupyterhub/team-compass/issues/42\">https://github.com/jupyterhub/team-compass/issues/42</a></td>\n",
       "            </tr>\n",
       "    </tbody></table>"
      ],
      "text/plain": [
       "<pandas.io.formats.style.Styler at 0x7f878faddf60>"
      ]
     },
     "execution_count": 12,
     "metadata": {},
     "output_type": "execute_result"
    }
   ],
   "source": [
    "closed_issues[['user', 'author_association', 'comments', 'html_url']]\\\n",
    "    .sort_values(['comments']).style.applymap(highlight_rows).format({'html_url': make_clickable}).hide_index()"
   ]
  },
  {
   "cell_type": "code",
   "execution_count": 13,
   "metadata": {
    "jupyter": {
     "source_hidden": true
    },
    "papermill": {
     "duration": 0.033011,
     "end_time": "2019-02-19T04:41:26.967125",
     "exception": false,
     "start_time": "2019-02-19T04:41:26.934114",
     "status": "completed"
    },
    "tags": []
   },
   "outputs": [
    {
     "data": {
      "text/html": [
       "<h2 style=\"padding-left: 1em;\">Closed issues: 8</h2>"
      ],
      "text/plain": [
       "<IPython.core.display.HTML object>"
      ]
     },
     "metadata": {},
     "output_type": "display_data"
    }
   ],
   "source": [
    "print_html('Closed issues: {}'.format(len(closed_issues)))"
   ]
  },
  {
   "cell_type": "markdown",
   "metadata": {
    "papermill": {
     "duration": 0.026243,
     "end_time": "2019-02-19T04:41:27.024194",
     "exception": false,
     "start_time": "2019-02-19T04:41:26.997951",
     "status": "completed"
    },
    "tags": []
   },
   "source": [
    "## Opened PRs\n",
    "\n",
    "without responses in red"
   ]
  },
  {
   "cell_type": "code",
   "execution_count": 14,
   "metadata": {
    "jupyter": {
     "source_hidden": true
    },
    "papermill": {
     "duration": 0.073361,
     "end_time": "2019-02-19T04:41:27.120031",
     "exception": false,
     "start_time": "2019-02-19T04:41:27.046670",
     "status": "completed"
    },
    "tags": []
   },
   "outputs": [
    {
     "name": "stderr",
     "output_type": "stream",
     "text": [
      "/home/choldgraf/anaconda/envs/dev/lib/python3.6/site-packages/ipykernel_launcher.py:2: SettingWithCopyWarning: \n",
      "A value is trying to be set on a copy of a slice from a DataFrame.\n",
      "Try using .loc[row_indexer,col_indexer] = value instead\n",
      "\n",
      "See the caveats in the documentation: http://pandas.pydata.org/pandas-docs/stable/indexing.html#indexing-view-versus-copy\n",
      "  \n"
     ]
    }
   ],
   "source": [
    "opened_prs = opened[~opened['pull_request'].isna()]\n",
    "opened_prs['closed'] = ~pd.isnull(opened_prs['closed_at'])\n",
    "\n",
    "closed_prs = closed[~closed['pull_request'].isna()]"
   ]
  },
  {
   "cell_type": "code",
   "execution_count": 15,
   "metadata": {
    "jupyter": {
     "source_hidden": true
    },
    "papermill": {
     "duration": 0.035913,
     "end_time": "2019-02-19T04:41:27.194100",
     "exception": false,
     "start_time": "2019-02-19T04:41:27.158187",
     "status": "completed"
    },
    "tags": []
   },
   "outputs": [
    {
     "data": {
      "text/html": [
       "<h2 style=\"padding-left: 1em;\">Opened PRs: 2</h2>"
      ],
      "text/plain": [
       "<IPython.core.display.HTML object>"
      ]
     },
     "metadata": {},
     "output_type": "display_data"
    }
   ],
   "source": [
    "print_html('Opened PRs: {}'.format(len(opened_prs)))"
   ]
  },
  {
   "cell_type": "code",
   "execution_count": 16,
   "metadata": {
    "jupyter": {
     "source_hidden": true
    },
    "papermill": {
     "duration": 0.058324,
     "end_time": "2019-02-19T04:41:27.277087",
     "exception": false,
     "start_time": "2019-02-19T04:41:27.218763",
     "status": "completed"
    },
    "tags": []
   },
   "outputs": [
    {
     "data": {
      "text/html": [
       "<style  type=\"text/css\" >\n",
       "</style><table id=\"T_9e579ee2_3400_11e9_895e_54ee75e0f62d\" ><thead>    <tr>        <th class=\"col_heading level0 col0\" >user</th>        <th class=\"col_heading level0 col1\" >author_association</th>        <th class=\"col_heading level0 col2\" >comments</th>        <th class=\"col_heading level0 col3\" >closed</th>        <th class=\"col_heading level0 col4\" >html_url</th>    </tr></thead><tbody>\n",
       "                <tr>\n",
       "                                <td id=\"T_9e579ee2_3400_11e9_895e_54ee75e0f62drow0_col0\" class=\"data row0 col0\" >choldgraf</td>\n",
       "                        <td id=\"T_9e579ee2_3400_11e9_895e_54ee75e0f62drow0_col1\" class=\"data row0 col1\" >MEMBER</td>\n",
       "                        <td id=\"T_9e579ee2_3400_11e9_895e_54ee75e0f62drow0_col2\" class=\"data row0 col2\" >1</td>\n",
       "                        <td id=\"T_9e579ee2_3400_11e9_895e_54ee75e0f62drow0_col3\" class=\"data row0 col3\" >True</td>\n",
       "                        <td id=\"T_9e579ee2_3400_11e9_895e_54ee75e0f62drow0_col4\" class=\"data row0 col4\" ><a target=\"_blank\" href=\"https://github.com/jupyterhub/team-compass/pull/106\">https://github.com/jupyterhub/team-compass/pull/106</a></td>\n",
       "            </tr>\n",
       "            <tr>\n",
       "                                <td id=\"T_9e579ee2_3400_11e9_895e_54ee75e0f62drow1_col0\" class=\"data row1 col0\" >willingc</td>\n",
       "                        <td id=\"T_9e579ee2_3400_11e9_895e_54ee75e0f62drow1_col1\" class=\"data row1 col1\" >MEMBER</td>\n",
       "                        <td id=\"T_9e579ee2_3400_11e9_895e_54ee75e0f62drow1_col2\" class=\"data row1 col2\" >2</td>\n",
       "                        <td id=\"T_9e579ee2_3400_11e9_895e_54ee75e0f62drow1_col3\" class=\"data row1 col3\" >True</td>\n",
       "                        <td id=\"T_9e579ee2_3400_11e9_895e_54ee75e0f62drow1_col4\" class=\"data row1 col4\" ><a target=\"_blank\" href=\"https://github.com/jupyterhub/team-compass/pull/108\">https://github.com/jupyterhub/team-compass/pull/108</a></td>\n",
       "            </tr>\n",
       "    </tbody></table>"
      ],
      "text/plain": [
       "<pandas.io.formats.style.Styler at 0x7f878fadd5c0>"
      ]
     },
     "execution_count": 16,
     "metadata": {},
     "output_type": "execute_result"
    }
   ],
   "source": [
    "opened_prs[['user', 'author_association', 'comments', 'closed', 'html_url']]\\\n",
    "    .sort_values(['closed', 'comments']).style.applymap(highlight_rows).format({'html_url': make_clickable}).hide_index()"
   ]
  },
  {
   "cell_type": "code",
   "execution_count": 17,
   "metadata": {
    "jupyter": {
     "source_hidden": true
    },
    "papermill": {
     "duration": 0.042022,
     "end_time": "2019-02-19T04:41:27.344215",
     "exception": false,
     "start_time": "2019-02-19T04:41:27.302193",
     "status": "completed"
    },
    "tags": []
   },
   "outputs": [
    {
     "data": {
      "text/html": [
       "<h2 style=\"padding-left: 1em;\">Closed PRs: 3</h2>"
      ],
      "text/plain": [
       "<IPython.core.display.HTML object>"
      ]
     },
     "metadata": {},
     "output_type": "display_data"
    }
   ],
   "source": [
    "print_html('Closed PRs: {}'.format(len(closed_prs)))"
   ]
  },
  {
   "cell_type": "code",
   "execution_count": 18,
   "metadata": {
    "jupyter": {
     "source_hidden": true
    },
    "papermill": {
     "duration": 0.050377,
     "end_time": "2019-02-19T04:41:27.423736",
     "exception": false,
     "start_time": "2019-02-19T04:41:27.373359",
     "status": "completed"
    },
    "tags": []
   },
   "outputs": [
    {
     "data": {
      "text/html": [
       "<style  type=\"text/css\" >\n",
       "</style><table id=\"T_9e6de594_3400_11e9_895e_54ee75e0f62d\" ><thead>    <tr>        <th class=\"col_heading level0 col0\" >user</th>        <th class=\"col_heading level0 col1\" >author_association</th>        <th class=\"col_heading level0 col2\" >comments</th>        <th class=\"col_heading level0 col3\" >html_url</th>    </tr></thead><tbody>\n",
       "                <tr>\n",
       "                                <td id=\"T_9e6de594_3400_11e9_895e_54ee75e0f62drow0_col0\" class=\"data row0 col0\" >choldgraf</td>\n",
       "                        <td id=\"T_9e6de594_3400_11e9_895e_54ee75e0f62drow0_col1\" class=\"data row0 col1\" >MEMBER</td>\n",
       "                        <td id=\"T_9e6de594_3400_11e9_895e_54ee75e0f62drow0_col2\" class=\"data row0 col2\" >1</td>\n",
       "                        <td id=\"T_9e6de594_3400_11e9_895e_54ee75e0f62drow0_col3\" class=\"data row0 col3\" ><a target=\"_blank\" href=\"https://github.com/jupyterhub/team-compass/pull/106\">https://github.com/jupyterhub/team-compass/pull/106</a></td>\n",
       "            </tr>\n",
       "            <tr>\n",
       "                                <td id=\"T_9e6de594_3400_11e9_895e_54ee75e0f62drow1_col0\" class=\"data row1 col0\" >willingc</td>\n",
       "                        <td id=\"T_9e6de594_3400_11e9_895e_54ee75e0f62drow1_col1\" class=\"data row1 col1\" >MEMBER</td>\n",
       "                        <td id=\"T_9e6de594_3400_11e9_895e_54ee75e0f62drow1_col2\" class=\"data row1 col2\" >2</td>\n",
       "                        <td id=\"T_9e6de594_3400_11e9_895e_54ee75e0f62drow1_col3\" class=\"data row1 col3\" ><a target=\"_blank\" href=\"https://github.com/jupyterhub/team-compass/pull/108\">https://github.com/jupyterhub/team-compass/pull/108</a></td>\n",
       "            </tr>\n",
       "            <tr>\n",
       "                                <td id=\"T_9e6de594_3400_11e9_895e_54ee75e0f62drow2_col0\" class=\"data row2 col0\" >betatim</td>\n",
       "                        <td id=\"T_9e6de594_3400_11e9_895e_54ee75e0f62drow2_col1\" class=\"data row2 col1\" >MEMBER</td>\n",
       "                        <td id=\"T_9e6de594_3400_11e9_895e_54ee75e0f62drow2_col2\" class=\"data row2 col2\" >37</td>\n",
       "                        <td id=\"T_9e6de594_3400_11e9_895e_54ee75e0f62drow2_col3\" class=\"data row2 col3\" ><a target=\"_blank\" href=\"https://github.com/jupyterhub/team-compass/pull/100\">https://github.com/jupyterhub/team-compass/pull/100</a></td>\n",
       "            </tr>\n",
       "    </tbody></table>"
      ],
      "text/plain": [
       "<pandas.io.formats.style.Styler at 0x7f878fadd898>"
      ]
     },
     "execution_count": 18,
     "metadata": {},
     "output_type": "execute_result"
    }
   ],
   "source": [
    "closed_prs[['user', 'author_association', 'comments', 'html_url']]\\\n",
    "    .sort_values(['comments']).style.applymap(highlight_rows).format({'html_url': make_clickable}).hide_index()"
   ]
  },
  {
   "cell_type": "markdown",
   "metadata": {
    "papermill": {
     "duration": 0.03135,
     "end_time": "2019-02-19T04:41:27.483160",
     "exception": false,
     "start_time": "2019-02-19T04:41:27.451810",
     "status": "completed"
    },
    "tags": []
   },
   "source": [
    "# State of repo\n",
    "\n",
    "## Stale issues"
   ]
  },
  {
   "cell_type": "code",
   "execution_count": 19,
   "metadata": {
    "jupyter": {
     "source_hidden": true
    },
    "papermill": {
     "duration": 0.033733,
     "end_time": "2019-02-19T04:41:27.543082",
     "exception": false,
     "start_time": "2019-02-19T04:41:27.509349",
     "status": "completed"
    },
    "tags": []
   },
   "outputs": [],
   "source": [
    "stale_issues = issues.query('updated_at < @date_stale')\n",
    "stale_issues = stale_issues[stale_issues['closed_at'].isnull()]"
   ]
  },
  {
   "cell_type": "code",
   "execution_count": 20,
   "metadata": {
    "jupyter": {
     "source_hidden": true
    },
    "papermill": {
     "duration": 0.116686,
     "end_time": "2019-02-19T04:41:27.686386",
     "exception": false,
     "start_time": "2019-02-19T04:41:27.569700",
     "status": "completed"
    },
    "tags": []
   },
   "outputs": [
    {
     "data": {
      "text/html": [
       "<style  type=\"text/css\" >\n",
       "    #T_9e95b3bc_3400_11e9_895e_54ee75e0f62drow0_col2 {\n",
       "            background-color:  #f7b7b7;\n",
       "        }    #T_9e95b3bc_3400_11e9_895e_54ee75e0f62drow1_col2 {\n",
       "            background-color:  #f7b7b7;\n",
       "        }    #T_9e95b3bc_3400_11e9_895e_54ee75e0f62drow2_col2 {\n",
       "            background-color:  #f7b7b7;\n",
       "        }    #T_9e95b3bc_3400_11e9_895e_54ee75e0f62drow3_col2 {\n",
       "            background-color:  #f7b7b7;\n",
       "        }    #T_9e95b3bc_3400_11e9_895e_54ee75e0f62drow4_col2 {\n",
       "            background-color:  #f7b7b7;\n",
       "        }</style><table id=\"T_9e95b3bc_3400_11e9_895e_54ee75e0f62d\" ><thead>    <tr>        <th class=\"col_heading level0 col0\" >user</th>        <th class=\"col_heading level0 col1\" >author_association</th>        <th class=\"col_heading level0 col2\" >comments</th>        <th class=\"col_heading level0 col3\" >html_url</th>    </tr></thead><tbody>\n",
       "                <tr>\n",
       "                                <td id=\"T_9e95b3bc_3400_11e9_895e_54ee75e0f62drow0_col0\" class=\"data row0 col0\" >betatim</td>\n",
       "                        <td id=\"T_9e95b3bc_3400_11e9_895e_54ee75e0f62drow0_col1\" class=\"data row0 col1\" >MEMBER</td>\n",
       "                        <td id=\"T_9e95b3bc_3400_11e9_895e_54ee75e0f62drow0_col2\" class=\"data row0 col2\" >0</td>\n",
       "                        <td id=\"T_9e95b3bc_3400_11e9_895e_54ee75e0f62drow0_col3\" class=\"data row0 col3\" ><a target=\"_blank\" href=\"https://github.com/jupyterhub/team-compass/issues/83\">https://github.com/jupyterhub/team-compass/issues/83</a></td>\n",
       "            </tr>\n",
       "            <tr>\n",
       "                                <td id=\"T_9e95b3bc_3400_11e9_895e_54ee75e0f62drow1_col0\" class=\"data row1 col0\" >choldgraf</td>\n",
       "                        <td id=\"T_9e95b3bc_3400_11e9_895e_54ee75e0f62drow1_col1\" class=\"data row1 col1\" >MEMBER</td>\n",
       "                        <td id=\"T_9e95b3bc_3400_11e9_895e_54ee75e0f62drow1_col2\" class=\"data row1 col2\" >0</td>\n",
       "                        <td id=\"T_9e95b3bc_3400_11e9_895e_54ee75e0f62drow1_col3\" class=\"data row1 col3\" ><a target=\"_blank\" href=\"https://github.com/jupyterhub/team-compass/issues/30\">https://github.com/jupyterhub/team-compass/issues/30</a></td>\n",
       "            </tr>\n",
       "            <tr>\n",
       "                                <td id=\"T_9e95b3bc_3400_11e9_895e_54ee75e0f62drow2_col0\" class=\"data row2 col0\" >choldgraf</td>\n",
       "                        <td id=\"T_9e95b3bc_3400_11e9_895e_54ee75e0f62drow2_col1\" class=\"data row2 col1\" >MEMBER</td>\n",
       "                        <td id=\"T_9e95b3bc_3400_11e9_895e_54ee75e0f62drow2_col2\" class=\"data row2 col2\" >0</td>\n",
       "                        <td id=\"T_9e95b3bc_3400_11e9_895e_54ee75e0f62drow2_col3\" class=\"data row2 col3\" ><a target=\"_blank\" href=\"https://github.com/jupyterhub/team-compass/issues/22\">https://github.com/jupyterhub/team-compass/issues/22</a></td>\n",
       "            </tr>\n",
       "            <tr>\n",
       "                                <td id=\"T_9e95b3bc_3400_11e9_895e_54ee75e0f62drow3_col0\" class=\"data row3 col0\" >choldgraf</td>\n",
       "                        <td id=\"T_9e95b3bc_3400_11e9_895e_54ee75e0f62drow3_col1\" class=\"data row3 col1\" >MEMBER</td>\n",
       "                        <td id=\"T_9e95b3bc_3400_11e9_895e_54ee75e0f62drow3_col2\" class=\"data row3 col2\" >0</td>\n",
       "                        <td id=\"T_9e95b3bc_3400_11e9_895e_54ee75e0f62drow3_col3\" class=\"data row3 col3\" ><a target=\"_blank\" href=\"https://github.com/jupyterhub/team-compass/issues/20\">https://github.com/jupyterhub/team-compass/issues/20</a></td>\n",
       "            </tr>\n",
       "            <tr>\n",
       "                                <td id=\"T_9e95b3bc_3400_11e9_895e_54ee75e0f62drow4_col0\" class=\"data row4 col0\" >choldgraf</td>\n",
       "                        <td id=\"T_9e95b3bc_3400_11e9_895e_54ee75e0f62drow4_col1\" class=\"data row4 col1\" >MEMBER</td>\n",
       "                        <td id=\"T_9e95b3bc_3400_11e9_895e_54ee75e0f62drow4_col2\" class=\"data row4 col2\" >0</td>\n",
       "                        <td id=\"T_9e95b3bc_3400_11e9_895e_54ee75e0f62drow4_col3\" class=\"data row4 col3\" ><a target=\"_blank\" href=\"https://github.com/jupyterhub/team-compass/issues/84\">https://github.com/jupyterhub/team-compass/issues/84</a></td>\n",
       "            </tr>\n",
       "            <tr>\n",
       "                                <td id=\"T_9e95b3bc_3400_11e9_895e_54ee75e0f62drow5_col0\" class=\"data row5 col0\" >choldgraf</td>\n",
       "                        <td id=\"T_9e95b3bc_3400_11e9_895e_54ee75e0f62drow5_col1\" class=\"data row5 col1\" >MEMBER</td>\n",
       "                        <td id=\"T_9e95b3bc_3400_11e9_895e_54ee75e0f62drow5_col2\" class=\"data row5 col2\" >1</td>\n",
       "                        <td id=\"T_9e95b3bc_3400_11e9_895e_54ee75e0f62drow5_col3\" class=\"data row5 col3\" ><a target=\"_blank\" href=\"https://github.com/jupyterhub/team-compass/issues/77\">https://github.com/jupyterhub/team-compass/issues/77</a></td>\n",
       "            </tr>\n",
       "            <tr>\n",
       "                                <td id=\"T_9e95b3bc_3400_11e9_895e_54ee75e0f62drow6_col0\" class=\"data row6 col0\" >betatim</td>\n",
       "                        <td id=\"T_9e95b3bc_3400_11e9_895e_54ee75e0f62drow6_col1\" class=\"data row6 col1\" >MEMBER</td>\n",
       "                        <td id=\"T_9e95b3bc_3400_11e9_895e_54ee75e0f62drow6_col2\" class=\"data row6 col2\" >2</td>\n",
       "                        <td id=\"T_9e95b3bc_3400_11e9_895e_54ee75e0f62drow6_col3\" class=\"data row6 col3\" ><a target=\"_blank\" href=\"https://github.com/jupyterhub/team-compass/issues/51\">https://github.com/jupyterhub/team-compass/issues/51</a></td>\n",
       "            </tr>\n",
       "            <tr>\n",
       "                                <td id=\"T_9e95b3bc_3400_11e9_895e_54ee75e0f62drow7_col0\" class=\"data row7 col0\" >yuvipanda</td>\n",
       "                        <td id=\"T_9e95b3bc_3400_11e9_895e_54ee75e0f62drow7_col1\" class=\"data row7 col1\" >MEMBER</td>\n",
       "                        <td id=\"T_9e95b3bc_3400_11e9_895e_54ee75e0f62drow7_col2\" class=\"data row7 col2\" >2</td>\n",
       "                        <td id=\"T_9e95b3bc_3400_11e9_895e_54ee75e0f62drow7_col3\" class=\"data row7 col3\" ><a target=\"_blank\" href=\"https://github.com/jupyterhub/team-compass/issues/36\">https://github.com/jupyterhub/team-compass/issues/36</a></td>\n",
       "            </tr>\n",
       "            <tr>\n",
       "                                <td id=\"T_9e95b3bc_3400_11e9_895e_54ee75e0f62drow8_col0\" class=\"data row8 col0\" >choldgraf</td>\n",
       "                        <td id=\"T_9e95b3bc_3400_11e9_895e_54ee75e0f62drow8_col1\" class=\"data row8 col1\" >MEMBER</td>\n",
       "                        <td id=\"T_9e95b3bc_3400_11e9_895e_54ee75e0f62drow8_col2\" class=\"data row8 col2\" >2</td>\n",
       "                        <td id=\"T_9e95b3bc_3400_11e9_895e_54ee75e0f62drow8_col3\" class=\"data row8 col3\" ><a target=\"_blank\" href=\"https://github.com/jupyterhub/team-compass/issues/28\">https://github.com/jupyterhub/team-compass/issues/28</a></td>\n",
       "            </tr>\n",
       "            <tr>\n",
       "                                <td id=\"T_9e95b3bc_3400_11e9_895e_54ee75e0f62drow9_col0\" class=\"data row9 col0\" >betatim</td>\n",
       "                        <td id=\"T_9e95b3bc_3400_11e9_895e_54ee75e0f62drow9_col1\" class=\"data row9 col1\" >MEMBER</td>\n",
       "                        <td id=\"T_9e95b3bc_3400_11e9_895e_54ee75e0f62drow9_col2\" class=\"data row9 col2\" >3</td>\n",
       "                        <td id=\"T_9e95b3bc_3400_11e9_895e_54ee75e0f62drow9_col3\" class=\"data row9 col3\" ><a target=\"_blank\" href=\"https://github.com/jupyterhub/team-compass/issues/79\">https://github.com/jupyterhub/team-compass/issues/79</a></td>\n",
       "            </tr>\n",
       "            <tr>\n",
       "                                <td id=\"T_9e95b3bc_3400_11e9_895e_54ee75e0f62drow10_col0\" class=\"data row10 col0\" >betatim</td>\n",
       "                        <td id=\"T_9e95b3bc_3400_11e9_895e_54ee75e0f62drow10_col1\" class=\"data row10 col1\" >MEMBER</td>\n",
       "                        <td id=\"T_9e95b3bc_3400_11e9_895e_54ee75e0f62drow10_col2\" class=\"data row10 col2\" >3</td>\n",
       "                        <td id=\"T_9e95b3bc_3400_11e9_895e_54ee75e0f62drow10_col3\" class=\"data row10 col3\" ><a target=\"_blank\" href=\"https://github.com/jupyterhub/team-compass/issues/72\">https://github.com/jupyterhub/team-compass/issues/72</a></td>\n",
       "            </tr>\n",
       "            <tr>\n",
       "                                <td id=\"T_9e95b3bc_3400_11e9_895e_54ee75e0f62drow11_col0\" class=\"data row11 col0\" >choldgraf</td>\n",
       "                        <td id=\"T_9e95b3bc_3400_11e9_895e_54ee75e0f62drow11_col1\" class=\"data row11 col1\" >MEMBER</td>\n",
       "                        <td id=\"T_9e95b3bc_3400_11e9_895e_54ee75e0f62drow11_col2\" class=\"data row11 col2\" >3</td>\n",
       "                        <td id=\"T_9e95b3bc_3400_11e9_895e_54ee75e0f62drow11_col3\" class=\"data row11 col3\" ><a target=\"_blank\" href=\"https://github.com/jupyterhub/team-compass/issues/95\">https://github.com/jupyterhub/team-compass/issues/95</a></td>\n",
       "            </tr>\n",
       "            <tr>\n",
       "                                <td id=\"T_9e95b3bc_3400_11e9_895e_54ee75e0f62drow12_col0\" class=\"data row12 col0\" >betatim</td>\n",
       "                        <td id=\"T_9e95b3bc_3400_11e9_895e_54ee75e0f62drow12_col1\" class=\"data row12 col1\" >MEMBER</td>\n",
       "                        <td id=\"T_9e95b3bc_3400_11e9_895e_54ee75e0f62drow12_col2\" class=\"data row12 col2\" >4</td>\n",
       "                        <td id=\"T_9e95b3bc_3400_11e9_895e_54ee75e0f62drow12_col3\" class=\"data row12 col3\" ><a target=\"_blank\" href=\"https://github.com/jupyterhub/team-compass/issues/45\">https://github.com/jupyterhub/team-compass/issues/45</a></td>\n",
       "            </tr>\n",
       "            <tr>\n",
       "                                <td id=\"T_9e95b3bc_3400_11e9_895e_54ee75e0f62drow13_col0\" class=\"data row13 col0\" >betatim</td>\n",
       "                        <td id=\"T_9e95b3bc_3400_11e9_895e_54ee75e0f62drow13_col1\" class=\"data row13 col1\" >MEMBER</td>\n",
       "                        <td id=\"T_9e95b3bc_3400_11e9_895e_54ee75e0f62drow13_col2\" class=\"data row13 col2\" >6</td>\n",
       "                        <td id=\"T_9e95b3bc_3400_11e9_895e_54ee75e0f62drow13_col3\" class=\"data row13 col3\" ><a target=\"_blank\" href=\"https://github.com/jupyterhub/team-compass/issues/56\">https://github.com/jupyterhub/team-compass/issues/56</a></td>\n",
       "            </tr>\n",
       "            <tr>\n",
       "                                <td id=\"T_9e95b3bc_3400_11e9_895e_54ee75e0f62drow14_col0\" class=\"data row14 col0\" >betatim</td>\n",
       "                        <td id=\"T_9e95b3bc_3400_11e9_895e_54ee75e0f62drow14_col1\" class=\"data row14 col1\" >MEMBER</td>\n",
       "                        <td id=\"T_9e95b3bc_3400_11e9_895e_54ee75e0f62drow14_col2\" class=\"data row14 col2\" >10</td>\n",
       "                        <td id=\"T_9e95b3bc_3400_11e9_895e_54ee75e0f62drow14_col3\" class=\"data row14 col3\" ><a target=\"_blank\" href=\"https://github.com/jupyterhub/team-compass/issues/57\">https://github.com/jupyterhub/team-compass/issues/57</a></td>\n",
       "            </tr>\n",
       "            <tr>\n",
       "                                <td id=\"T_9e95b3bc_3400_11e9_895e_54ee75e0f62drow15_col0\" class=\"data row15 col0\" >choldgraf</td>\n",
       "                        <td id=\"T_9e95b3bc_3400_11e9_895e_54ee75e0f62drow15_col1\" class=\"data row15 col1\" >MEMBER</td>\n",
       "                        <td id=\"T_9e95b3bc_3400_11e9_895e_54ee75e0f62drow15_col2\" class=\"data row15 col2\" >13</td>\n",
       "                        <td id=\"T_9e95b3bc_3400_11e9_895e_54ee75e0f62drow15_col3\" class=\"data row15 col3\" ><a target=\"_blank\" href=\"https://github.com/jupyterhub/team-compass/issues/29\">https://github.com/jupyterhub/team-compass/issues/29</a></td>\n",
       "            </tr>\n",
       "            <tr>\n",
       "                                <td id=\"T_9e95b3bc_3400_11e9_895e_54ee75e0f62drow16_col0\" class=\"data row16 col0\" >choldgraf</td>\n",
       "                        <td id=\"T_9e95b3bc_3400_11e9_895e_54ee75e0f62drow16_col1\" class=\"data row16 col1\" >MEMBER</td>\n",
       "                        <td id=\"T_9e95b3bc_3400_11e9_895e_54ee75e0f62drow16_col2\" class=\"data row16 col2\" >17</td>\n",
       "                        <td id=\"T_9e95b3bc_3400_11e9_895e_54ee75e0f62drow16_col3\" class=\"data row16 col3\" ><a target=\"_blank\" href=\"https://github.com/jupyterhub/team-compass/issues/41\">https://github.com/jupyterhub/team-compass/issues/41</a></td>\n",
       "            </tr>\n",
       "            <tr>\n",
       "                                <td id=\"T_9e95b3bc_3400_11e9_895e_54ee75e0f62drow17_col0\" class=\"data row17 col0\" >choldgraf</td>\n",
       "                        <td id=\"T_9e95b3bc_3400_11e9_895e_54ee75e0f62drow17_col1\" class=\"data row17 col1\" >MEMBER</td>\n",
       "                        <td id=\"T_9e95b3bc_3400_11e9_895e_54ee75e0f62drow17_col2\" class=\"data row17 col2\" >19</td>\n",
       "                        <td id=\"T_9e95b3bc_3400_11e9_895e_54ee75e0f62drow17_col3\" class=\"data row17 col3\" ><a target=\"_blank\" href=\"https://github.com/jupyterhub/team-compass/issues/70\">https://github.com/jupyterhub/team-compass/issues/70</a></td>\n",
       "            </tr>\n",
       "    </tbody></table>"
      ],
      "text/plain": [
       "<pandas.io.formats.style.Styler at 0x7f878fbfe978>"
      ]
     },
     "execution_count": 20,
     "metadata": {},
     "output_type": "execute_result"
    }
   ],
   "source": [
    "stale_issues[['user', 'author_association', 'comments', 'html_url']]\\\n",
    "    .sort_values(['comments']).style.applymap(highlight_rows).format({'html_url': make_clickable}).hide_index()"
   ]
  }
 ],
 "metadata": {
  "kernelspec": {
   "display_name": "Python 3",
   "language": "python",
   "name": "python3"
  },
  "language_info": {
   "codemirror_mode": {
    "name": "ipython",
    "version": 3
   },
   "file_extension": ".py",
   "mimetype": "text/x-python",
   "name": "python",
   "nbconvert_exporter": "python",
   "pygments_lexer": "ipython3",
   "version": "3.6.5"
  },
  "papermill": {
   "duration": 6.488859,
   "end_time": "2019-02-19T04:41:28.878485",
   "environment_variables": {},
   "exception": null,
   "input_path": "./templates/issues.ipynb",
   "output_path": "../reports/2019-01-19/jupyterhub/team-compass/issues.ipynb",
   "parameters": {
    "date": "2019-01-19",
    "org": "jupyterhub",
    "repo": "team-compass"
   },
   "start_time": "2019-02-19T04:41:22.389626",
   "version": "0.18.0"
  }
 },
 "nbformat": 4,
 "nbformat_minor": 2
}