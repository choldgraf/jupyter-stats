{
 "cells": [
  {
   "cell_type": "code",
   "execution_count": 1,
   "metadata": {
    "jupyter": {
     "source_hidden": true
    },
    "papermill": {
     "duration": 0.764478,
     "end_time": "2019-02-19T04:40:00.812639",
     "exception": false,
     "start_time": "2019-02-19T04:40:00.048161",
     "status": "completed"
    },
    "tags": []
   },
   "outputs": [],
   "source": [
    "import pandas as pd\n",
    "from datetime import timedelta\n",
    "from IPython.display import HTML, display"
   ]
  },
  {
   "cell_type": "code",
   "execution_count": 2,
   "metadata": {
    "jupyter": {
     "source_hidden": true
    },
    "papermill": {
     "duration": 0.035026,
     "end_time": "2019-02-19T04:40:00.879829",
     "exception": false,
     "start_time": "2019-02-19T04:40:00.844803",
     "status": "completed"
    },
    "tags": [
     "parameters"
    ]
   },
   "outputs": [],
   "source": [
    "date = pd.datetime.today() - timedelta(days=30)\n",
    "org = 'jupyterhub'\n",
    "repo = 'zero-to-jupyterhub-k8s'"
   ]
  },
  {
   "cell_type": "code",
   "execution_count": 3,
   "metadata": {
    "jupyter": {
     "source_hidden": true
    },
    "papermill": {
     "duration": 0.047473,
     "end_time": "2019-02-19T04:40:00.955117",
     "exception": false,
     "start_time": "2019-02-19T04:40:00.907644",
     "status": "completed"
    },
    "tags": [
     "injected-parameters"
    ]
   },
   "outputs": [],
   "source": [
    "# Parameters\n",
    "org = \"jupyterhub\"\n",
    "repo = \"zero-to-jupyterhub-k8s\"\n",
    "date = \"2019-01-19\"\n"
   ]
  },
  {
   "cell_type": "code",
   "execution_count": 4,
   "metadata": {
    "jupyter": {
     "source_hidden": true
    },
    "papermill": {
     "duration": 0.032757,
     "end_time": "2019-02-19T04:40:01.037052",
     "exception": false,
     "start_time": "2019-02-19T04:40:01.004295",
     "status": "completed"
    },
    "tags": []
   },
   "outputs": [],
   "source": [
    "# Make sure date is parsed as a date\n",
    "date = pd.to_datetime(date)"
   ]
  },
  {
   "cell_type": "markdown",
   "metadata": {
    "papermill": {
     "duration": 0.019059,
     "end_time": "2019-02-19T04:40:01.074859",
     "exception": false,
     "start_time": "2019-02-19T04:40:01.055800",
     "status": "completed"
    },
    "tags": []
   },
   "source": [
    "## Comment and commit activity\n",
    "\n",
    "This report shows general comment and commit activity for this repository. It's goal is\n",
    "to give a birds-eye view of where activity is happening across the JupyterHub repositories.\n",
    "It shouldn't be treated as a \"leaderboard\" or set of statistics to optimize for.\n"
   ]
  },
  {
   "cell_type": "markdown",
   "metadata": {
    "papermill": {
     "duration": 0.025516,
     "end_time": "2019-02-19T04:40:01.117664",
     "exception": false,
     "start_time": "2019-02-19T04:40:01.092148",
     "status": "completed"
    },
    "tags": []
   },
   "source": [
    "# Imports"
   ]
  },
  {
   "cell_type": "code",
   "execution_count": 5,
   "metadata": {
    "jupyter": {
     "source_hidden": true
    },
    "papermill": {
     "duration": 1.463395,
     "end_time": "2019-02-19T04:40:02.606401",
     "exception": false,
     "start_time": "2019-02-19T04:40:01.143006",
     "status": "completed"
    },
    "tags": []
   },
   "outputs": [],
   "source": [
    "import pandas as pd\n",
    "import scrapbook as sb\n",
    "from subprocess import run, PIPE\n",
    "from watchtower import comments_, commits_\n",
    "import os.path as op\n",
    "import shutil as sh\n",
    "import os\n",
    "import altair as alt\n",
    "import scrapbook as sb"
   ]
  },
  {
   "cell_type": "code",
   "execution_count": 6,
   "metadata": {
    "jupyter": {
     "source_hidden": true
    },
    "papermill": {
     "duration": 0.028702,
     "end_time": "2019-02-19T04:40:02.651778",
     "exception": false,
     "start_time": "2019-02-19T04:40:02.623076",
     "status": "completed"
    },
    "tags": []
   },
   "outputs": [],
   "source": [
    "# Styling functions\n",
    "\n",
    "def highlight_rows(val):\n",
    "    \"\"\"Highlights cells pertaining to non-members and w/ no comments\"\"\"\n",
    "    disp = ''\n",
    "    if val == 0 or val == \"NONE\":\n",
    "        disp += 'background-color: #f7b7b7'\n",
    "    elif val == \"FIRST_TIME_CONTRIBUTOR\":\n",
    "        disp += 'background-color: red'\n",
    "    return disp\n",
    "\n",
    "def make_clickable(val):\n",
    "    # target _blank to open new window\n",
    "    return '<a target=\"_blank\" href=\"{}\">{}</a>'.format(val, val)\n",
    "\n",
    "def print_html(msg):\n",
    "    display(HTML('<h2 style=\"padding-left: 1em;\">{}</h2>'.format(msg)))\n",
    "    \n",
    "pd.options.display.max_colwidth = 200"
   ]
  },
  {
   "cell_type": "markdown",
   "metadata": {
    "papermill": {
     "duration": 0.015787,
     "end_time": "2019-02-19T04:40:02.686775",
     "exception": false,
     "start_time": "2019-02-19T04:40:02.670988",
     "status": "completed"
    },
    "tags": []
   },
   "source": [
    "## Load data"
   ]
  },
  {
   "cell_type": "code",
   "execution_count": 7,
   "metadata": {
    "jupyter": {
     "source_hidden": true
    },
    "papermill": {
     "duration": 0.633054,
     "end_time": "2019-02-19T04:40:03.339136",
     "exception": false,
     "start_time": "2019-02-19T04:40:02.706082",
     "status": "completed"
    },
    "tags": []
   },
   "outputs": [],
   "source": [
    "teams = pd.read_csv('../../data/teams.csv')\n",
    "\n",
    "comments = comments_.load_comments(org, repo).query('created_at > @date')\n",
    "commits = commits_.load_commits(org, repo).dropna(subset=['author']).query('date > @date')\n",
    "\n",
    "comments['user'] = comments['user'].map(lambda a: a['login'])\n",
    "commits['user'] = commits['author'].map(lambda a: a['login'])\n",
    "\n",
    "top_committers = commits.groupby('user').count()['html_url'].sort_values(ascending=False).reset_index().rename(columns={'html_url': 'commits'})\n",
    "top_commenters = comments.groupby('user').count()['html_url'].sort_values(ascending=False).reset_index().rename(columns={'html_url': 'comments'})\n",
    "\n",
    "# Save committers/commenters\n",
    "path_data_date = '../../reports/{:%Y-%m-%d}/data'.format(date)\n",
    "if not op.isdir(path_data_date):\n",
    "    os.makedirs(path_data_date)\n",
    "top_committers.to_csv(op.join(path_data_date, '{}_{}-top_committers.csv'.format(org, repo)), index=False)\n",
    "top_commenters.to_csv(op.join(path_data_date, '{}_{}-top_commenters.csv'.format(org, repo)), index=False)"
   ]
  },
  {
   "cell_type": "code",
   "execution_count": 8,
   "metadata": {
    "jupyter": {
     "source_hidden": true
    },
    "papermill": {
     "duration": 0.039113,
     "end_time": "2019-02-19T04:40:03.398730",
     "exception": false,
     "start_time": "2019-02-19T04:40:03.359617",
     "status": "completed"
    },
    "tags": []
   },
   "outputs": [
    {
     "data": {
      "text/html": [
       "<h2 style=\"padding-left: 1em;\">Total commits: 84</h2>"
      ],
      "text/plain": [
       "<IPython.core.display.HTML object>"
      ]
     },
     "metadata": {},
     "output_type": "display_data"
    },
    {
     "data": {
      "text/html": [
       "<h2 style=\"padding-left: 1em;\">Total comments: 128</h2>"
      ],
      "text/plain": [
       "<IPython.core.display.HTML object>"
      ]
     },
     "metadata": {},
     "output_type": "display_data"
    }
   ],
   "source": [
    "print_html(\"Total commits: {}\".format(len(commits)))\n",
    "print_html(\"Total comments: {}\".format(len(comments)))"
   ]
  },
  {
   "cell_type": "markdown",
   "metadata": {
    "papermill": {
     "duration": 0.048736,
     "end_time": "2019-02-19T04:40:03.468527",
     "exception": false,
     "start_time": "2019-02-19T04:40:03.419791",
     "status": "completed"
    },
    "tags": []
   },
   "source": [
    "## Top committers"
   ]
  },
  {
   "cell_type": "code",
   "execution_count": 9,
   "metadata": {
    "jupyter": {
     "source_hidden": true
    },
    "papermill": {
     "duration": 0.167182,
     "end_time": "2019-02-19T04:40:03.654950",
     "exception": false,
     "start_time": "2019-02-19T04:40:03.487768",
     "status": "completed"
    },
    "tags": []
   },
   "outputs": [],
   "source": [
    "def find_association(user):\n",
    "    person = teams.query('username == @user')\n",
    "    if len(person) == 0:\n",
    "        return 'NONE'\n",
    "    else:\n",
    "        # Return their team (preferring the Binder teams since they're a bit more specific)\n",
    "        return person.iloc[-1]['team']\n",
    "    \n",
    "top_committers['association'] = top_committers['user'].map(find_association)\n",
    "top_commenters['association'] = top_commenters['user'].map(find_association)\n",
    "\n",
    "# Define the color scale we'll use to categorize people\n",
    "color_scale = alt.Scale(\n",
    "    domain=[\"red\", \"lead\", \"blue\", \"jupyterhub\", \"NONE\"],\n",
    "    range=[\"#fdbaba\", \"#fdbaba\", \"#bac5fd\", \"#ffbb74\", \"red\"]\n",
    ")"
   ]
  },
  {
   "cell_type": "code",
   "execution_count": 10,
   "metadata": {
    "jupyter": {
     "source_hidden": true
    },
    "papermill": {
     "duration": 0.063653,
     "end_time": "2019-02-19T04:40:03.746494",
     "exception": false,
     "start_time": "2019-02-19T04:40:03.682841",
     "status": "completed"
    },
    "tags": []
   },
   "outputs": [
    {
     "name": "stderr",
     "output_type": "stream",
     "text": [
      "/home/choldgraf/anaconda/envs/dev/lib/python3.6/site-packages/altair/utils/core.py:294: FutureWarning: A future version of pandas will default to `skipna=True`. To silence this warning, pass `skipna=True|False` explicitly.\n",
      "  attrs['type'] = infer_vegalite_type(data[attrs['field']])\n"
     ]
    },
    {
     "data": {
      "application/vnd.vegalite.v2+json": {
       "$schema": "https://vega.github.io/schema/vega-lite/v2.6.0.json",
       "config": {
        "view": {
         "height": 300,
         "width": 400
        }
       },
       "data": {
        "name": "data-b537f04357cd996002a846664c37f18a"
       },
       "datasets": {
        "data-b537f04357cd996002a846664c37f18a": [
         {
          "association": "lead",
          "commits": 30,
          "user": "minrk"
         },
         {
          "association": "blue",
          "commits": 28,
          "user": "consideRatio"
         },
         {
          "association": "NONE",
          "commits": 8,
          "user": "manics"
         },
         {
          "association": "red",
          "commits": 6,
          "user": "choldgraf"
         },
         {
          "association": "NONE",
          "commits": 3,
          "user": "manycoding"
         },
         {
          "association": "NONE",
          "commits": 2,
          "user": "lesteve"
         },
         {
          "association": "red",
          "commits": 2,
          "user": "betatim"
         },
         {
          "association": "red",
          "commits": 1,
          "user": "yuvipanda"
         },
         {
          "association": "NONE",
          "commits": 1,
          "user": "ryanlovett"
         },
         {
          "association": "NONE",
          "commits": 1,
          "user": "guoshimin"
         },
         {
          "association": "NONE",
          "commits": 1,
          "user": "arokem"
         },
         {
          "association": "NONE",
          "commits": 1,
          "user": "alanjcastonguay"
         }
        ]
       },
       "encoding": {
        "color": {
         "field": "association",
         "scale": {
          "domain": [
           "red",
           "lead",
           "blue",
           "jupyterhub",
           "NONE"
          ],
          "range": [
           "#fdbaba",
           "#fdbaba",
           "#bac5fd",
           "#ffbb74",
           "red"
          ]
         },
         "type": "nominal"
        },
        "x": {
         "field": "commits",
         "type": "quantitative"
        },
        "y": {
         "field": "user",
         "type": "nominal"
        }
       },
       "mark": "bar"
      },
      "text/plain": [
       "<VegaLite 2 object>\n",
       "\n",
       "If you see this message, it means the renderer has not been properly enabled\n",
       "for the frontend that you are using. For more information, see\n",
       "https://altair-viz.github.io/user_guide/troubleshooting.html\n"
      ]
     },
     "execution_count": 10,
     "metadata": {},
     "output_type": "execute_result"
    }
   ],
   "source": [
    "alt.Chart(top_committers).mark_bar().encode(\n",
    "    x='commits',\n",
    "    y='user',\n",
    "    color=alt.Color('association', scale=color_scale)\n",
    ")"
   ]
  },
  {
   "cell_type": "markdown",
   "metadata": {
    "papermill": {
     "duration": 0.018861,
     "end_time": "2019-02-19T04:40:03.784627",
     "exception": false,
     "start_time": "2019-02-19T04:40:03.765766",
     "status": "completed"
    },
    "tags": []
   },
   "source": [
    "## Top commenters"
   ]
  },
  {
   "cell_type": "code",
   "execution_count": 11,
   "metadata": {
    "jupyter": {
     "source_hidden": true
    },
    "papermill": {
     "duration": 0.041388,
     "end_time": "2019-02-19T04:40:03.844613",
     "exception": false,
     "start_time": "2019-02-19T04:40:03.803225",
     "status": "completed"
    },
    "tags": []
   },
   "outputs": [
    {
     "data": {
      "application/vnd.vegalite.v2+json": {
       "$schema": "https://vega.github.io/schema/vega-lite/v2.6.0.json",
       "config": {
        "view": {
         "height": 300,
         "width": 400
        }
       },
       "data": {
        "name": "data-34ce962579618308a0b4a3e22dc17db7"
       },
       "datasets": {
        "data-34ce962579618308a0b4a3e22dc17db7": [
         {
          "association": "blue",
          "comments": 38,
          "user": "consideRatio"
         },
         {
          "association": "red",
          "comments": 12,
          "user": "choldgraf"
         },
         {
          "association": "NONE",
          "comments": 12,
          "user": "manics"
         },
         {
          "association": "lead",
          "comments": 11,
          "user": "minrk"
         },
         {
          "association": "NONE",
          "comments": 10,
          "user": "hnykda"
         },
         {
          "association": "NONE",
          "comments": 5,
          "user": "stefansedich"
         },
         {
          "association": "red",
          "comments": 3,
          "user": "betatim"
         },
         {
          "association": "NONE",
          "comments": 3,
          "user": "tregin"
         },
         {
          "association": "NONE",
          "comments": 2,
          "user": "farzadz"
         },
         {
          "association": "NONE",
          "comments": 2,
          "user": "jflam"
         },
         {
          "association": "NONE",
          "comments": 2,
          "user": "joshbode"
         },
         {
          "association": "red",
          "comments": 2,
          "user": "yuvipanda"
         },
         {
          "association": "NONE",
          "comments": 2,
          "user": "arokem"
         },
         {
          "association": "NONE",
          "comments": 2,
          "user": "stelford"
         },
         {
          "association": "NONE",
          "comments": 2,
          "user": "amanda-tan"
         },
         {
          "association": "NONE",
          "comments": 1,
          "user": "dalssaso"
         },
         {
          "association": "NONE",
          "comments": 1,
          "user": "cam72cam"
         },
         {
          "association": "NONE",
          "comments": 1,
          "user": "anton-khodak"
         },
         {
          "association": "NONE",
          "comments": 1,
          "user": "canhtran"
         },
         {
          "association": "NONE",
          "comments": 1,
          "user": "captainsafia"
         },
         {
          "association": "NONE",
          "comments": 1,
          "user": "KVSSetty"
         },
         {
          "association": "NONE",
          "comments": 1,
          "user": "awalther"
         },
         {
          "association": "NONE",
          "comments": 1,
          "user": "hhuuggoo"
         },
         {
          "association": "NONE",
          "comments": 1,
          "user": "danielchalef"
         },
         {
          "association": "NONE",
          "comments": 1,
          "user": "djgagne"
         },
         {
          "association": "NONE",
          "comments": 1,
          "user": "frafi82"
         },
         {
          "association": "red",
          "comments": 1,
          "user": "willingc"
         },
         {
          "association": "NONE",
          "comments": 1,
          "user": "jmatuskey"
         },
         {
          "association": "NONE",
          "comments": 1,
          "user": "jspc"
         },
         {
          "association": "NONE",
          "comments": 1,
          "user": "kavemun"
         },
         {
          "association": "NONE",
          "comments": 1,
          "user": "koen92"
         },
         {
          "association": "NONE",
          "comments": 1,
          "user": "manycoding"
         },
         {
          "association": "NONE",
          "comments": 1,
          "user": "terhorst"
         },
         {
          "association": "NONE",
          "comments": 1,
          "user": "tmshn"
         },
         {
          "association": "NONE",
          "comments": 1,
          "user": "01100010011001010110010101110000"
         }
        ]
       },
       "encoding": {
        "color": {
         "field": "association",
         "scale": {
          "domain": [
           "red",
           "lead",
           "blue",
           "jupyterhub",
           "NONE"
          ],
          "range": [
           "#fdbaba",
           "#fdbaba",
           "#bac5fd",
           "#ffbb74",
           "red"
          ]
         },
         "sort": [
          "CONTRIBUTOR",
          "MEMBER",
          "NONE"
         ],
         "type": "nominal"
        },
        "x": {
         "field": "comments",
         "type": "quantitative"
        },
        "y": {
         "field": "user",
         "type": "nominal"
        }
       },
       "mark": "bar"
      },
      "text/plain": [
       "<VegaLite 2 object>\n",
       "\n",
       "If you see this message, it means the renderer has not been properly enabled\n",
       "for the frontend that you are using. For more information, see\n",
       "https://altair-viz.github.io/user_guide/troubleshooting.html\n"
      ]
     },
     "execution_count": 11,
     "metadata": {},
     "output_type": "execute_result"
    }
   ],
   "source": [
    "alt.Chart(top_commenters).mark_bar().encode(\n",
    "    x='comments',\n",
    "    y='user',\n",
    "    color=alt.Color('association', sort=[\"CONTRIBUTOR\", \"MEMBER\", \"NONE\"], scale=color_scale)\n",
    ")"
   ]
  },
  {
   "cell_type": "markdown",
   "metadata": {
    "papermill": {
     "duration": 0.019818,
     "end_time": "2019-02-19T04:40:03.886773",
     "exception": false,
     "start_time": "2019-02-19T04:40:03.866955",
     "status": "completed"
    },
    "tags": []
   },
   "source": [
    "## Percentages of comments and commits"
   ]
  },
  {
   "cell_type": "code",
   "execution_count": 12,
   "metadata": {
    "jupyter": {
     "source_hidden": true
    },
    "papermill": {
     "duration": 0.073238,
     "end_time": "2019-02-19T04:40:03.993333",
     "exception": false,
     "start_time": "2019-02-19T04:40:03.920095",
     "status": "completed"
    },
    "tags": []
   },
   "outputs": [],
   "source": [
    "# Calculate percentages\n",
    "sum_comments = top_commenters.groupby('association')['comments'].sum().reset_index().rename(columns={'comments': \"percent\"})\n",
    "sum_comments['kind'] = \"comments\"\n",
    "sum_comments['percent'] = 100*(sum_comments['percent'] / sum_comments['percent'].sum())\n",
    "\n",
    "sum_commits = top_committers.groupby('association')['commits'].sum().reset_index().rename(columns={'commits': \"percent\"})\n",
    "sum_commits['kind'] = \"commits\"\n",
    "sum_commits['percent'] = 100*(sum_commits['percent'] / sum_commits['percent'].sum())\n",
    "\n",
    "sum_both = pd.concat([sum_comments, sum_commits])"
   ]
  },
  {
   "cell_type": "code",
   "execution_count": 13,
   "metadata": {
    "jupyter": {
     "source_hidden": true
    },
    "papermill": {
     "duration": 0.059569,
     "end_time": "2019-02-19T04:40:04.082535",
     "exception": false,
     "start_time": "2019-02-19T04:40:04.022966",
     "status": "completed"
    },
    "tags": []
   },
   "outputs": [
    {
     "data": {
      "application/vnd.vegalite.v2+json": {
       "$schema": "https://vega.github.io/schema/vega-lite/v2.6.0.json",
       "config": {
        "view": {
         "height": 300,
         "width": 400
        }
       },
       "data": {
        "name": "data-59adcf7a672098dab7e737e50effc0ba"
       },
       "datasets": {
        "data-59adcf7a672098dab7e737e50effc0ba": [
         {
          "association": "NONE",
          "kind": "comments",
          "percent": 47.65625
         },
         {
          "association": "blue",
          "kind": "comments",
          "percent": 29.6875
         },
         {
          "association": "lead",
          "kind": "comments",
          "percent": 8.59375
         },
         {
          "association": "red",
          "kind": "comments",
          "percent": 14.0625
         },
         {
          "association": "NONE",
          "kind": "commits",
          "percent": 20.238095238095237
         },
         {
          "association": "blue",
          "kind": "commits",
          "percent": 33.33333333333333
         },
         {
          "association": "lead",
          "kind": "commits",
          "percent": 35.714285714285715
         },
         {
          "association": "red",
          "kind": "commits",
          "percent": 10.714285714285714
         }
        ]
       },
       "encoding": {
        "color": {
         "field": "association",
         "scale": {
          "domain": [
           "red",
           "lead",
           "blue",
           "jupyterhub",
           "NONE"
          ],
          "range": [
           "#fdbaba",
           "#fdbaba",
           "#bac5fd",
           "#ffbb74",
           "red"
          ]
         },
         "sort": [
          "CONTRIBUTOR",
          "MEMBER",
          "NONE"
         ],
         "type": "nominal"
        },
        "x": {
         "field": "percent",
         "type": "quantitative"
        },
        "y": {
         "field": "kind",
         "type": "nominal"
        }
       },
       "mark": "bar"
      },
      "text/plain": [
       "<VegaLite 2 object>\n",
       "\n",
       "If you see this message, it means the renderer has not been properly enabled\n",
       "for the frontend that you are using. For more information, see\n",
       "https://altair-viz.github.io/user_guide/troubleshooting.html\n"
      ]
     },
     "execution_count": 13,
     "metadata": {},
     "output_type": "execute_result"
    }
   ],
   "source": [
    "alt.Chart(sum_both).mark_bar().encode(\n",
    "    x='percent',\n",
    "    y='kind',\n",
    "    color=alt.Color('association', sort=[\"CONTRIBUTOR\", \"MEMBER\", \"NONE\"], scale=color_scale)\n",
    ")"
   ]
  }
 ],
 "metadata": {
  "kernelspec": {
   "display_name": "Python 3",
   "language": "python",
   "name": "python3"
  },
  "language_info": {
   "codemirror_mode": {
    "name": "ipython",
    "version": 3
   },
   "file_extension": ".py",
   "mimetype": "text/x-python",
   "name": "python",
   "nbconvert_exporter": "python",
   "pygments_lexer": "ipython3",
   "version": "3.6.5"
  },
  "papermill": {
   "duration": 6.585287,
   "end_time": "2019-02-19T04:40:05.090417",
   "environment_variables": {},
   "exception": null,
   "input_path": "./templates/comments_commits.ipynb",
   "output_path": "../reports/2019-01-19/jupyterhub/zero-to-jupyterhub-k8s/comments_commits.ipynb",
   "parameters": {
    "date": "2019-01-19",
    "org": "jupyterhub",
    "repo": "zero-to-jupyterhub-k8s"
   },
   "start_time": "2019-02-19T04:39:58.505130",
   "version": "0.18.0"
  }
 },
 "nbformat": 4,
 "nbformat_minor": 2
}