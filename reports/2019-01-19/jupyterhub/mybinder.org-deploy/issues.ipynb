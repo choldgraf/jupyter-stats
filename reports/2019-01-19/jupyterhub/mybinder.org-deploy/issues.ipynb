{
 "cells": [
  {
   "cell_type": "code",
   "execution_count": 1,
   "metadata": {
    "jupyter": {
     "source_hidden": true
    },
    "papermill": {
     "duration": 0.652385,
     "end_time": "2019-02-19T04:41:36.315608",
     "exception": false,
     "start_time": "2019-02-19T04:41:35.663223",
     "status": "completed"
    },
    "tags": []
   },
   "outputs": [],
   "source": [
    "import pandas as pd\n",
    "from datetime import timedelta\n",
    "from IPython.display import HTML, display"
   ]
  },
  {
   "cell_type": "code",
   "execution_count": 2,
   "metadata": {
    "jupyter": {
     "source_hidden": true
    },
    "papermill": {
     "duration": 0.039253,
     "end_time": "2019-02-19T04:41:36.382318",
     "exception": false,
     "start_time": "2019-02-19T04:41:36.343065",
     "status": "completed"
    },
    "tags": [
     "parameters"
    ]
   },
   "outputs": [],
   "source": [
    "date = pd.datetime.today() - timedelta(days=30)\n",
    "org = 'jupyterhub'\n",
    "repo = 'zero-to-jupyterhub-k8s'"
   ]
  },
  {
   "cell_type": "code",
   "execution_count": 3,
   "metadata": {
    "jupyter": {
     "source_hidden": true
    },
    "papermill": {
     "duration": 0.027757,
     "end_time": "2019-02-19T04:41:36.433269",
     "exception": false,
     "start_time": "2019-02-19T04:41:36.405512",
     "status": "completed"
    },
    "tags": [
     "injected-parameters"
    ]
   },
   "outputs": [],
   "source": [
    "# Parameters\n",
    "org = \"jupyterhub\"\n",
    "repo = \"mybinder.org-deploy\"\n",
    "date = \"2019-01-19\"\n"
   ]
  },
  {
   "cell_type": "code",
   "execution_count": 4,
   "metadata": {
    "jupyter": {
     "source_hidden": true
    },
    "papermill": {
     "duration": 0.032241,
     "end_time": "2019-02-19T04:41:36.487405",
     "exception": false,
     "start_time": "2019-02-19T04:41:36.455164",
     "status": "completed"
    },
    "tags": []
   },
   "outputs": [],
   "source": [
    "# Definition of a stale issue/PR (how many days since last updated)\n",
    "date = pd.to_datetime(date)\n",
    "stale_days = 30\n",
    "date_stale = date - timedelta(days=stale_days)"
   ]
  },
  {
   "cell_type": "markdown",
   "metadata": {
    "papermill": {
     "duration": 0.018942,
     "end_time": "2019-02-19T04:41:36.530298",
     "exception": false,
     "start_time": "2019-02-19T04:41:36.511356",
     "status": "completed"
    },
    "tags": []
   },
   "source": [
    "# Opened and Closed Issues and PRs\n",
    "\n",
    "This report shows opened and closed issues / PRs over the last 30 days, with a\n",
    "particular focus on items that haven't had a lot of discussion, or that have\n",
    "been opened by people who aren't team-members. The goal of this page is to make\n",
    "it easier to spot places where some input would be appreciated!"
   ]
  },
  {
   "cell_type": "markdown",
   "metadata": {
    "papermill": {
     "duration": 0.02128,
     "end_time": "2019-02-19T04:41:36.572145",
     "exception": false,
     "start_time": "2019-02-19T04:41:36.550865",
     "status": "completed"
    },
    "tags": []
   },
   "source": [
    "# Imports"
   ]
  },
  {
   "cell_type": "code",
   "execution_count": 5,
   "metadata": {
    "jupyter": {
     "source_hidden": true
    },
    "papermill": {
     "duration": 0.242915,
     "end_time": "2019-02-19T04:41:36.837962",
     "exception": false,
     "start_time": "2019-02-19T04:41:36.595047",
     "status": "completed"
    },
    "tags": []
   },
   "outputs": [],
   "source": [
    "import pandas as pd\n",
    "from subprocess import run, PIPE\n",
    "from watchtower import issues_\n",
    "from glob import glob\n",
    "import os.path as op\n",
    "import shutil as sh\n",
    "import sys\n",
    "sys.path.append('../../scripts/')"
   ]
  },
  {
   "cell_type": "markdown",
   "metadata": {
    "papermill": {
     "duration": 0.023605,
     "end_time": "2019-02-19T04:41:36.882198",
     "exception": false,
     "start_time": "2019-02-19T04:41:36.858593",
     "status": "completed"
    },
    "tags": []
   },
   "source": [
    "## styling functions"
   ]
  },
  {
   "cell_type": "code",
   "execution_count": 6,
   "metadata": {
    "jupyter": {
     "source_hidden": true
    },
    "papermill": {
     "duration": 0.028676,
     "end_time": "2019-02-19T04:41:36.934579",
     "exception": false,
     "start_time": "2019-02-19T04:41:36.905903",
     "status": "completed"
    },
    "tags": []
   },
   "outputs": [],
   "source": [
    "def highlight_rows(val):\n",
    "    \"\"\"Highlights cells pertaining to non-members and w/ no comments\"\"\"\n",
    "    disp = ''\n",
    "    if val == 0 or val == \"NONE\":\n",
    "        disp += 'background-color: #f7b7b7'\n",
    "    elif val == \"FIRST_TIME_CONTRIBUTOR\":\n",
    "        disp += 'background-color: red'\n",
    "    return disp\n",
    "\n",
    "def make_clickable(val):\n",
    "    # target _blank to open new window\n",
    "    return '<a target=\"_blank\" href=\"{}\">{}</a>'.format(val, val)\n",
    "\n",
    "def print_html(msg):\n",
    "    display(HTML('<h2 style=\"padding-left: 1em;\">{}</h2>'.format(msg)))\n",
    "    \n",
    "pd.options.display.max_colwidth = 200"
   ]
  },
  {
   "cell_type": "markdown",
   "metadata": {
    "papermill": {
     "duration": 0.03001,
     "end_time": "2019-02-19T04:41:36.993431",
     "exception": false,
     "start_time": "2019-02-19T04:41:36.963421",
     "status": "completed"
    },
    "tags": []
   },
   "source": [
    "## Load data"
   ]
  },
  {
   "cell_type": "code",
   "execution_count": 7,
   "metadata": {
    "jupyter": {
     "source_hidden": true
    },
    "papermill": {
     "duration": 0.139739,
     "end_time": "2019-02-19T04:41:37.152838",
     "exception": false,
     "start_time": "2019-02-19T04:41:37.013099",
     "status": "completed"
    },
    "tags": []
   },
   "outputs": [],
   "source": [
    "# Issues\n",
    "issues = issues_.load_issues(org, repo)\n",
    "issues['user'] = issues['user'].map(lambda a: a['login'])"
   ]
  },
  {
   "cell_type": "markdown",
   "metadata": {
    "papermill": {
     "duration": 0.021299,
     "end_time": "2019-02-19T04:41:37.206877",
     "exception": false,
     "start_time": "2019-02-19T04:41:37.185578",
     "status": "completed"
    },
    "tags": []
   },
   "source": [
    "# New activity"
   ]
  },
  {
   "cell_type": "markdown",
   "metadata": {
    "papermill": {
     "duration": 0.022461,
     "end_time": "2019-02-19T04:41:37.253315",
     "exception": false,
     "start_time": "2019-02-19T04:41:37.230854",
     "status": "completed"
    },
    "tags": []
   },
   "source": [
    "## Opened issues\n",
    "\n",
    "without responses in red"
   ]
  },
  {
   "cell_type": "code",
   "execution_count": 8,
   "metadata": {
    "jupyter": {
     "source_hidden": true
    },
    "papermill": {
     "duration": 0.081728,
     "end_time": "2019-02-19T04:41:37.356147",
     "exception": false,
     "start_time": "2019-02-19T04:41:37.274419",
     "status": "completed"
    },
    "tags": []
   },
   "outputs": [
    {
     "name": "stderr",
     "output_type": "stream",
     "text": [
      "/home/choldgraf/anaconda/envs/dev/lib/python3.6/site-packages/ipykernel_launcher.py:3: SettingWithCopyWarning: \n",
      "A value is trying to be set on a copy of a slice from a DataFrame.\n",
      "Try using .loc[row_indexer,col_indexer] = value instead\n",
      "\n",
      "See the caveats in the documentation: http://pandas.pydata.org/pandas-docs/stable/indexing.html#indexing-view-versus-copy\n",
      "  This is separate from the ipykernel package so we can avoid doing imports until\n"
     ]
    }
   ],
   "source": [
    "opened = issues.query('created_at > @date')\n",
    "opened_issues = opened[opened['pull_request'].isna()]\n",
    "opened_issues['closed'] = ~pd.isnull(opened_issues['closed_at'])"
   ]
  },
  {
   "cell_type": "code",
   "execution_count": 9,
   "metadata": {
    "jupyter": {
     "source_hidden": true
    },
    "papermill": {
     "duration": 0.036267,
     "end_time": "2019-02-19T04:41:37.413856",
     "exception": false,
     "start_time": "2019-02-19T04:41:37.377589",
     "status": "completed"
    },
    "tags": []
   },
   "outputs": [
    {
     "data": {
      "text/html": [
       "<h2 style=\"padding-left: 1em;\">Opened issues: 3</h2>"
      ],
      "text/plain": [
       "<IPython.core.display.HTML object>"
      ]
     },
     "metadata": {},
     "output_type": "display_data"
    }
   ],
   "source": [
    "print_html('Opened issues: {}'.format(len(opened_issues)))"
   ]
  },
  {
   "cell_type": "code",
   "execution_count": 10,
   "metadata": {
    "jupyter": {
     "source_hidden": true
    },
    "papermill": {
     "duration": 0.743757,
     "end_time": "2019-02-19T04:41:38.183062",
     "exception": false,
     "start_time": "2019-02-19T04:41:37.439305",
     "status": "completed"
    },
    "tags": []
   },
   "outputs": [
    {
     "data": {
      "text/html": [
       "<style  type=\"text/css\" >\n",
       "    #T_a4d7607c_3400_11e9_84ba_54ee75e0f62drow0_col2 {\n",
       "            background-color:  #f7b7b7;\n",
       "        }    #T_a4d7607c_3400_11e9_84ba_54ee75e0f62drow0_col3 {\n",
       "            background-color:  #f7b7b7;\n",
       "        }    #T_a4d7607c_3400_11e9_84ba_54ee75e0f62drow1_col3 {\n",
       "            background-color:  #f7b7b7;\n",
       "        }    #T_a4d7607c_3400_11e9_84ba_54ee75e0f62drow2_col3 {\n",
       "            background-color:  #f7b7b7;\n",
       "        }</style><table id=\"T_a4d7607c_3400_11e9_84ba_54ee75e0f62d\" ><thead>    <tr>        <th class=\"col_heading level0 col0\" >user</th>        <th class=\"col_heading level0 col1\" >author_association</th>        <th class=\"col_heading level0 col2\" >comments</th>        <th class=\"col_heading level0 col3\" >closed</th>        <th class=\"col_heading level0 col4\" >html_url</th>    </tr></thead><tbody>\n",
       "                <tr>\n",
       "                                <td id=\"T_a4d7607c_3400_11e9_84ba_54ee75e0f62drow0_col0\" class=\"data row0 col0\" >betatim</td>\n",
       "                        <td id=\"T_a4d7607c_3400_11e9_84ba_54ee75e0f62drow0_col1\" class=\"data row0 col1\" >MEMBER</td>\n",
       "                        <td id=\"T_a4d7607c_3400_11e9_84ba_54ee75e0f62drow0_col2\" class=\"data row0 col2\" >0</td>\n",
       "                        <td id=\"T_a4d7607c_3400_11e9_84ba_54ee75e0f62drow0_col3\" class=\"data row0 col3\" >False</td>\n",
       "                        <td id=\"T_a4d7607c_3400_11e9_84ba_54ee75e0f62drow0_col4\" class=\"data row0 col4\" ><a target=\"_blank\" href=\"https://github.com/jupyterhub/mybinder.org-deploy/issues/883\">https://github.com/jupyterhub/mybinder.org-deploy/issues/883</a></td>\n",
       "            </tr>\n",
       "            <tr>\n",
       "                                <td id=\"T_a4d7607c_3400_11e9_84ba_54ee75e0f62drow1_col0\" class=\"data row1 col0\" >minrk</td>\n",
       "                        <td id=\"T_a4d7607c_3400_11e9_84ba_54ee75e0f62drow1_col1\" class=\"data row1 col1\" >MEMBER</td>\n",
       "                        <td id=\"T_a4d7607c_3400_11e9_84ba_54ee75e0f62drow1_col2\" class=\"data row1 col2\" >2</td>\n",
       "                        <td id=\"T_a4d7607c_3400_11e9_84ba_54ee75e0f62drow1_col3\" class=\"data row1 col3\" >False</td>\n",
       "                        <td id=\"T_a4d7607c_3400_11e9_84ba_54ee75e0f62drow1_col4\" class=\"data row1 col4\" ><a target=\"_blank\" href=\"https://github.com/jupyterhub/mybinder.org-deploy/issues/885\">https://github.com/jupyterhub/mybinder.org-deploy/issues/885</a></td>\n",
       "            </tr>\n",
       "            <tr>\n",
       "                                <td id=\"T_a4d7607c_3400_11e9_84ba_54ee75e0f62drow2_col0\" class=\"data row2 col0\" >choldgraf</td>\n",
       "                        <td id=\"T_a4d7607c_3400_11e9_84ba_54ee75e0f62drow2_col1\" class=\"data row2 col1\" >MEMBER</td>\n",
       "                        <td id=\"T_a4d7607c_3400_11e9_84ba_54ee75e0f62drow2_col2\" class=\"data row2 col2\" >2</td>\n",
       "                        <td id=\"T_a4d7607c_3400_11e9_84ba_54ee75e0f62drow2_col3\" class=\"data row2 col3\" >False</td>\n",
       "                        <td id=\"T_a4d7607c_3400_11e9_84ba_54ee75e0f62drow2_col4\" class=\"data row2 col4\" ><a target=\"_blank\" href=\"https://github.com/jupyterhub/mybinder.org-deploy/issues/892\">https://github.com/jupyterhub/mybinder.org-deploy/issues/892</a></td>\n",
       "            </tr>\n",
       "    </tbody></table>"
      ],
      "text/plain": [
       "<pandas.io.formats.style.Styler at 0x7f5a242726a0>"
      ]
     },
     "execution_count": 10,
     "metadata": {},
     "output_type": "execute_result"
    }
   ],
   "source": [
    "opened_issues[['user', 'author_association', 'comments', 'closed', 'html_url']]\\\n",
    "    .sort_values(['closed', 'comments']).style.applymap(highlight_rows).format({'html_url': make_clickable}).hide_index()"
   ]
  },
  {
   "cell_type": "markdown",
   "metadata": {
    "papermill": {
     "duration": 0.025751,
     "end_time": "2019-02-19T04:41:38.235028",
     "exception": false,
     "start_time": "2019-02-19T04:41:38.209277",
     "status": "completed"
    },
    "tags": []
   },
   "source": [
    "## Closed issues\n"
   ]
  },
  {
   "cell_type": "code",
   "execution_count": 11,
   "metadata": {
    "jupyter": {
     "source_hidden": true
    },
    "papermill": {
     "duration": 0.031629,
     "end_time": "2019-02-19T04:41:38.291733",
     "exception": false,
     "start_time": "2019-02-19T04:41:38.260104",
     "status": "completed"
    },
    "tags": []
   },
   "outputs": [],
   "source": [
    "closed = issues.query('closed_at > @date')\n",
    "closed_issues = closed[closed['pull_request'].isna()]"
   ]
  },
  {
   "cell_type": "code",
   "execution_count": 12,
   "metadata": {
    "jupyter": {
     "source_hidden": true
    },
    "papermill": {
     "duration": 0.041476,
     "end_time": "2019-02-19T04:41:38.357387",
     "exception": false,
     "start_time": "2019-02-19T04:41:38.315911",
     "status": "completed"
    },
    "tags": []
   },
   "outputs": [
    {
     "data": {
      "text/html": [
       "<style  type=\"text/css\" >\n",
       "</style><table id=\"T_a4f1b1fc_3400_11e9_84ba_54ee75e0f62d\" ><thead>    <tr>        <th class=\"col_heading level0 col0\" >user</th>        <th class=\"col_heading level0 col1\" >author_association</th>        <th class=\"col_heading level0 col2\" >comments</th>        <th class=\"col_heading level0 col3\" >html_url</th>    </tr></thead><tbody>\n",
       "        </tbody></table>"
      ],
      "text/plain": [
       "<pandas.io.formats.style.Styler at 0x7f5a200102b0>"
      ]
     },
     "execution_count": 12,
     "metadata": {},
     "output_type": "execute_result"
    }
   ],
   "source": [
    "closed_issues[['user', 'author_association', 'comments', 'html_url']]\\\n",
    "    .sort_values(['comments']).style.applymap(highlight_rows).format({'html_url': make_clickable}).hide_index()"
   ]
  },
  {
   "cell_type": "code",
   "execution_count": 13,
   "metadata": {
    "jupyter": {
     "source_hidden": true
    },
    "papermill": {
     "duration": 0.031714,
     "end_time": "2019-02-19T04:41:38.413546",
     "exception": false,
     "start_time": "2019-02-19T04:41:38.381832",
     "status": "completed"
    },
    "tags": []
   },
   "outputs": [
    {
     "data": {
      "text/html": [
       "<h2 style=\"padding-left: 1em;\">Closed issues: 0</h2>"
      ],
      "text/plain": [
       "<IPython.core.display.HTML object>"
      ]
     },
     "metadata": {},
     "output_type": "display_data"
    }
   ],
   "source": [
    "print_html('Closed issues: {}'.format(len(closed_issues)))"
   ]
  },
  {
   "cell_type": "markdown",
   "metadata": {
    "papermill": {
     "duration": 0.026991,
     "end_time": "2019-02-19T04:41:38.463028",
     "exception": false,
     "start_time": "2019-02-19T04:41:38.436037",
     "status": "completed"
    },
    "tags": []
   },
   "source": [
    "## Opened PRs\n",
    "\n",
    "without responses in red"
   ]
  },
  {
   "cell_type": "code",
   "execution_count": 14,
   "metadata": {
    "jupyter": {
     "source_hidden": true
    },
    "papermill": {
     "duration": 0.065462,
     "end_time": "2019-02-19T04:41:38.550866",
     "exception": false,
     "start_time": "2019-02-19T04:41:38.485404",
     "status": "completed"
    },
    "tags": []
   },
   "outputs": [
    {
     "name": "stderr",
     "output_type": "stream",
     "text": [
      "/home/choldgraf/anaconda/envs/dev/lib/python3.6/site-packages/ipykernel_launcher.py:2: SettingWithCopyWarning: \n",
      "A value is trying to be set on a copy of a slice from a DataFrame.\n",
      "Try using .loc[row_indexer,col_indexer] = value instead\n",
      "\n",
      "See the caveats in the documentation: http://pandas.pydata.org/pandas-docs/stable/indexing.html#indexing-view-versus-copy\n",
      "  \n"
     ]
    }
   ],
   "source": [
    "opened_prs = opened[~opened['pull_request'].isna()]\n",
    "opened_prs['closed'] = ~pd.isnull(opened_prs['closed_at'])\n",
    "\n",
    "closed_prs = closed[~closed['pull_request'].isna()]"
   ]
  },
  {
   "cell_type": "code",
   "execution_count": 15,
   "metadata": {
    "jupyter": {
     "source_hidden": true
    },
    "papermill": {
     "duration": 0.037937,
     "end_time": "2019-02-19T04:41:38.614936",
     "exception": false,
     "start_time": "2019-02-19T04:41:38.576999",
     "status": "completed"
    },
    "tags": []
   },
   "outputs": [
    {
     "data": {
      "text/html": [
       "<h2 style=\"padding-left: 1em;\">Opened PRs: 14</h2>"
      ],
      "text/plain": [
       "<IPython.core.display.HTML object>"
      ]
     },
     "metadata": {},
     "output_type": "display_data"
    }
   ],
   "source": [
    "print_html('Opened PRs: {}'.format(len(opened_prs)))"
   ]
  },
  {
   "cell_type": "code",
   "execution_count": 16,
   "metadata": {
    "jupyter": {
     "source_hidden": true
    },
    "papermill": {
     "duration": 0.080708,
     "end_time": "2019-02-19T04:41:38.719429",
     "exception": false,
     "start_time": "2019-02-19T04:41:38.638721",
     "status": "completed"
    },
    "tags": []
   },
   "outputs": [
    {
     "data": {
      "text/html": [
       "<style  type=\"text/css\" >\n",
       "    #T_a5294356_3400_11e9_84ba_54ee75e0f62drow0_col2 {\n",
       "            background-color:  #f7b7b7;\n",
       "        }    #T_a5294356_3400_11e9_84ba_54ee75e0f62drow1_col2 {\n",
       "            background-color:  #f7b7b7;\n",
       "        }    #T_a5294356_3400_11e9_84ba_54ee75e0f62drow2_col2 {\n",
       "            background-color:  #f7b7b7;\n",
       "        }    #T_a5294356_3400_11e9_84ba_54ee75e0f62drow3_col2 {\n",
       "            background-color:  #f7b7b7;\n",
       "        }    #T_a5294356_3400_11e9_84ba_54ee75e0f62drow4_col2 {\n",
       "            background-color:  #f7b7b7;\n",
       "        }    #T_a5294356_3400_11e9_84ba_54ee75e0f62drow5_col2 {\n",
       "            background-color:  #f7b7b7;\n",
       "        }    #T_a5294356_3400_11e9_84ba_54ee75e0f62drow6_col2 {\n",
       "            background-color:  #f7b7b7;\n",
       "        }</style><table id=\"T_a5294356_3400_11e9_84ba_54ee75e0f62d\" ><thead>    <tr>        <th class=\"col_heading level0 col0\" >user</th>        <th class=\"col_heading level0 col1\" >author_association</th>        <th class=\"col_heading level0 col2\" >comments</th>        <th class=\"col_heading level0 col3\" >closed</th>        <th class=\"col_heading level0 col4\" >html_url</th>    </tr></thead><tbody>\n",
       "                <tr>\n",
       "                                <td id=\"T_a5294356_3400_11e9_84ba_54ee75e0f62drow0_col0\" class=\"data row0 col0\" >betatim</td>\n",
       "                        <td id=\"T_a5294356_3400_11e9_84ba_54ee75e0f62drow0_col1\" class=\"data row0 col1\" >MEMBER</td>\n",
       "                        <td id=\"T_a5294356_3400_11e9_84ba_54ee75e0f62drow0_col2\" class=\"data row0 col2\" >0</td>\n",
       "                        <td id=\"T_a5294356_3400_11e9_84ba_54ee75e0f62drow0_col3\" class=\"data row0 col3\" >True</td>\n",
       "                        <td id=\"T_a5294356_3400_11e9_84ba_54ee75e0f62drow0_col4\" class=\"data row0 col4\" ><a target=\"_blank\" href=\"https://github.com/jupyterhub/mybinder.org-deploy/pull/896\">https://github.com/jupyterhub/mybinder.org-deploy/pull/896</a></td>\n",
       "            </tr>\n",
       "            <tr>\n",
       "                                <td id=\"T_a5294356_3400_11e9_84ba_54ee75e0f62drow1_col0\" class=\"data row1 col0\" >minrk</td>\n",
       "                        <td id=\"T_a5294356_3400_11e9_84ba_54ee75e0f62drow1_col1\" class=\"data row1 col1\" >MEMBER</td>\n",
       "                        <td id=\"T_a5294356_3400_11e9_84ba_54ee75e0f62drow1_col2\" class=\"data row1 col2\" >0</td>\n",
       "                        <td id=\"T_a5294356_3400_11e9_84ba_54ee75e0f62drow1_col3\" class=\"data row1 col3\" >True</td>\n",
       "                        <td id=\"T_a5294356_3400_11e9_84ba_54ee75e0f62drow1_col4\" class=\"data row1 col4\" ><a target=\"_blank\" href=\"https://github.com/jupyterhub/mybinder.org-deploy/pull/886\">https://github.com/jupyterhub/mybinder.org-deploy/pull/886</a></td>\n",
       "            </tr>\n",
       "            <tr>\n",
       "                                <td id=\"T_a5294356_3400_11e9_84ba_54ee75e0f62drow2_col0\" class=\"data row2 col0\" >betatim</td>\n",
       "                        <td id=\"T_a5294356_3400_11e9_84ba_54ee75e0f62drow2_col1\" class=\"data row2 col1\" >MEMBER</td>\n",
       "                        <td id=\"T_a5294356_3400_11e9_84ba_54ee75e0f62drow2_col2\" class=\"data row2 col2\" >0</td>\n",
       "                        <td id=\"T_a5294356_3400_11e9_84ba_54ee75e0f62drow2_col3\" class=\"data row2 col3\" >True</td>\n",
       "                        <td id=\"T_a5294356_3400_11e9_84ba_54ee75e0f62drow2_col4\" class=\"data row2 col4\" ><a target=\"_blank\" href=\"https://github.com/jupyterhub/mybinder.org-deploy/pull/884\">https://github.com/jupyterhub/mybinder.org-deploy/pull/884</a></td>\n",
       "            </tr>\n",
       "            <tr>\n",
       "                                <td id=\"T_a5294356_3400_11e9_84ba_54ee75e0f62drow3_col0\" class=\"data row3 col0\" >minrk</td>\n",
       "                        <td id=\"T_a5294356_3400_11e9_84ba_54ee75e0f62drow3_col1\" class=\"data row3 col1\" >MEMBER</td>\n",
       "                        <td id=\"T_a5294356_3400_11e9_84ba_54ee75e0f62drow3_col2\" class=\"data row3 col2\" >0</td>\n",
       "                        <td id=\"T_a5294356_3400_11e9_84ba_54ee75e0f62drow3_col3\" class=\"data row3 col3\" >True</td>\n",
       "                        <td id=\"T_a5294356_3400_11e9_84ba_54ee75e0f62drow3_col4\" class=\"data row3 col4\" ><a target=\"_blank\" href=\"https://github.com/jupyterhub/mybinder.org-deploy/pull/882\">https://github.com/jupyterhub/mybinder.org-deploy/pull/882</a></td>\n",
       "            </tr>\n",
       "            <tr>\n",
       "                                <td id=\"T_a5294356_3400_11e9_84ba_54ee75e0f62drow4_col0\" class=\"data row4 col0\" >minrk</td>\n",
       "                        <td id=\"T_a5294356_3400_11e9_84ba_54ee75e0f62drow4_col1\" class=\"data row4 col1\" >MEMBER</td>\n",
       "                        <td id=\"T_a5294356_3400_11e9_84ba_54ee75e0f62drow4_col2\" class=\"data row4 col2\" >0</td>\n",
       "                        <td id=\"T_a5294356_3400_11e9_84ba_54ee75e0f62drow4_col3\" class=\"data row4 col3\" >True</td>\n",
       "                        <td id=\"T_a5294356_3400_11e9_84ba_54ee75e0f62drow4_col4\" class=\"data row4 col4\" ><a target=\"_blank\" href=\"https://github.com/jupyterhub/mybinder.org-deploy/pull/881\">https://github.com/jupyterhub/mybinder.org-deploy/pull/881</a></td>\n",
       "            </tr>\n",
       "            <tr>\n",
       "                                <td id=\"T_a5294356_3400_11e9_84ba_54ee75e0f62drow5_col0\" class=\"data row5 col0\" >choldgraf</td>\n",
       "                        <td id=\"T_a5294356_3400_11e9_84ba_54ee75e0f62drow5_col1\" class=\"data row5 col1\" >MEMBER</td>\n",
       "                        <td id=\"T_a5294356_3400_11e9_84ba_54ee75e0f62drow5_col2\" class=\"data row5 col2\" >0</td>\n",
       "                        <td id=\"T_a5294356_3400_11e9_84ba_54ee75e0f62drow5_col3\" class=\"data row5 col3\" >True</td>\n",
       "                        <td id=\"T_a5294356_3400_11e9_84ba_54ee75e0f62drow5_col4\" class=\"data row5 col4\" ><a target=\"_blank\" href=\"https://github.com/jupyterhub/mybinder.org-deploy/pull/891\">https://github.com/jupyterhub/mybinder.org-deploy/pull/891</a></td>\n",
       "            </tr>\n",
       "            <tr>\n",
       "                                <td id=\"T_a5294356_3400_11e9_84ba_54ee75e0f62drow6_col0\" class=\"data row6 col0\" >choldgraf</td>\n",
       "                        <td id=\"T_a5294356_3400_11e9_84ba_54ee75e0f62drow6_col1\" class=\"data row6 col1\" >MEMBER</td>\n",
       "                        <td id=\"T_a5294356_3400_11e9_84ba_54ee75e0f62drow6_col2\" class=\"data row6 col2\" >0</td>\n",
       "                        <td id=\"T_a5294356_3400_11e9_84ba_54ee75e0f62drow6_col3\" class=\"data row6 col3\" >True</td>\n",
       "                        <td id=\"T_a5294356_3400_11e9_84ba_54ee75e0f62drow6_col4\" class=\"data row6 col4\" ><a target=\"_blank\" href=\"https://github.com/jupyterhub/mybinder.org-deploy/pull/889\">https://github.com/jupyterhub/mybinder.org-deploy/pull/889</a></td>\n",
       "            </tr>\n",
       "            <tr>\n",
       "                                <td id=\"T_a5294356_3400_11e9_84ba_54ee75e0f62drow7_col0\" class=\"data row7 col0\" >captainsafia</td>\n",
       "                        <td id=\"T_a5294356_3400_11e9_84ba_54ee75e0f62drow7_col1\" class=\"data row7 col1\" >MEMBER</td>\n",
       "                        <td id=\"T_a5294356_3400_11e9_84ba_54ee75e0f62drow7_col2\" class=\"data row7 col2\" >1</td>\n",
       "                        <td id=\"T_a5294356_3400_11e9_84ba_54ee75e0f62drow7_col3\" class=\"data row7 col3\" >True</td>\n",
       "                        <td id=\"T_a5294356_3400_11e9_84ba_54ee75e0f62drow7_col4\" class=\"data row7 col4\" ><a target=\"_blank\" href=\"https://github.com/jupyterhub/mybinder.org-deploy/pull/887\">https://github.com/jupyterhub/mybinder.org-deploy/pull/887</a></td>\n",
       "            </tr>\n",
       "            <tr>\n",
       "                                <td id=\"T_a5294356_3400_11e9_84ba_54ee75e0f62drow8_col0\" class=\"data row8 col0\" >betatim</td>\n",
       "                        <td id=\"T_a5294356_3400_11e9_84ba_54ee75e0f62drow8_col1\" class=\"data row8 col1\" >MEMBER</td>\n",
       "                        <td id=\"T_a5294356_3400_11e9_84ba_54ee75e0f62drow8_col2\" class=\"data row8 col2\" >1</td>\n",
       "                        <td id=\"T_a5294356_3400_11e9_84ba_54ee75e0f62drow8_col3\" class=\"data row8 col3\" >True</td>\n",
       "                        <td id=\"T_a5294356_3400_11e9_84ba_54ee75e0f62drow8_col4\" class=\"data row8 col4\" ><a target=\"_blank\" href=\"https://github.com/jupyterhub/mybinder.org-deploy/pull/895\">https://github.com/jupyterhub/mybinder.org-deploy/pull/895</a></td>\n",
       "            </tr>\n",
       "            <tr>\n",
       "                                <td id=\"T_a5294356_3400_11e9_84ba_54ee75e0f62drow9_col0\" class=\"data row9 col0\" >betatim</td>\n",
       "                        <td id=\"T_a5294356_3400_11e9_84ba_54ee75e0f62drow9_col1\" class=\"data row9 col1\" >MEMBER</td>\n",
       "                        <td id=\"T_a5294356_3400_11e9_84ba_54ee75e0f62drow9_col2\" class=\"data row9 col2\" >1</td>\n",
       "                        <td id=\"T_a5294356_3400_11e9_84ba_54ee75e0f62drow9_col3\" class=\"data row9 col3\" >True</td>\n",
       "                        <td id=\"T_a5294356_3400_11e9_84ba_54ee75e0f62drow9_col4\" class=\"data row9 col4\" ><a target=\"_blank\" href=\"https://github.com/jupyterhub/mybinder.org-deploy/pull/894\">https://github.com/jupyterhub/mybinder.org-deploy/pull/894</a></td>\n",
       "            </tr>\n",
       "            <tr>\n",
       "                                <td id=\"T_a5294356_3400_11e9_84ba_54ee75e0f62drow10_col0\" class=\"data row10 col0\" >choldgraf</td>\n",
       "                        <td id=\"T_a5294356_3400_11e9_84ba_54ee75e0f62drow10_col1\" class=\"data row10 col1\" >MEMBER</td>\n",
       "                        <td id=\"T_a5294356_3400_11e9_84ba_54ee75e0f62drow10_col2\" class=\"data row10 col2\" >1</td>\n",
       "                        <td id=\"T_a5294356_3400_11e9_84ba_54ee75e0f62drow10_col3\" class=\"data row10 col3\" >True</td>\n",
       "                        <td id=\"T_a5294356_3400_11e9_84ba_54ee75e0f62drow10_col4\" class=\"data row10 col4\" ><a target=\"_blank\" href=\"https://github.com/jupyterhub/mybinder.org-deploy/pull/890\">https://github.com/jupyterhub/mybinder.org-deploy/pull/890</a></td>\n",
       "            </tr>\n",
       "            <tr>\n",
       "                                <td id=\"T_a5294356_3400_11e9_84ba_54ee75e0f62drow11_col0\" class=\"data row11 col0\" >betatim</td>\n",
       "                        <td id=\"T_a5294356_3400_11e9_84ba_54ee75e0f62drow11_col1\" class=\"data row11 col1\" >MEMBER</td>\n",
       "                        <td id=\"T_a5294356_3400_11e9_84ba_54ee75e0f62drow11_col2\" class=\"data row11 col2\" >2</td>\n",
       "                        <td id=\"T_a5294356_3400_11e9_84ba_54ee75e0f62drow11_col3\" class=\"data row11 col3\" >True</td>\n",
       "                        <td id=\"T_a5294356_3400_11e9_84ba_54ee75e0f62drow11_col4\" class=\"data row11 col4\" ><a target=\"_blank\" href=\"https://github.com/jupyterhub/mybinder.org-deploy/pull/897\">https://github.com/jupyterhub/mybinder.org-deploy/pull/897</a></td>\n",
       "            </tr>\n",
       "            <tr>\n",
       "                                <td id=\"T_a5294356_3400_11e9_84ba_54ee75e0f62drow12_col0\" class=\"data row12 col0\" >choldgraf</td>\n",
       "                        <td id=\"T_a5294356_3400_11e9_84ba_54ee75e0f62drow12_col1\" class=\"data row12 col1\" >MEMBER</td>\n",
       "                        <td id=\"T_a5294356_3400_11e9_84ba_54ee75e0f62drow12_col2\" class=\"data row12 col2\" >2</td>\n",
       "                        <td id=\"T_a5294356_3400_11e9_84ba_54ee75e0f62drow12_col3\" class=\"data row12 col3\" >True</td>\n",
       "                        <td id=\"T_a5294356_3400_11e9_84ba_54ee75e0f62drow12_col4\" class=\"data row12 col4\" ><a target=\"_blank\" href=\"https://github.com/jupyterhub/mybinder.org-deploy/pull/893\">https://github.com/jupyterhub/mybinder.org-deploy/pull/893</a></td>\n",
       "            </tr>\n",
       "            <tr>\n",
       "                                <td id=\"T_a5294356_3400_11e9_84ba_54ee75e0f62drow13_col0\" class=\"data row13 col0\" >choldgraf</td>\n",
       "                        <td id=\"T_a5294356_3400_11e9_84ba_54ee75e0f62drow13_col1\" class=\"data row13 col1\" >MEMBER</td>\n",
       "                        <td id=\"T_a5294356_3400_11e9_84ba_54ee75e0f62drow13_col2\" class=\"data row13 col2\" >3</td>\n",
       "                        <td id=\"T_a5294356_3400_11e9_84ba_54ee75e0f62drow13_col3\" class=\"data row13 col3\" >True</td>\n",
       "                        <td id=\"T_a5294356_3400_11e9_84ba_54ee75e0f62drow13_col4\" class=\"data row13 col4\" ><a target=\"_blank\" href=\"https://github.com/jupyterhub/mybinder.org-deploy/pull/888\">https://github.com/jupyterhub/mybinder.org-deploy/pull/888</a></td>\n",
       "            </tr>\n",
       "    </tbody></table>"
      ],
      "text/plain": [
       "<pandas.io.formats.style.Styler at 0x7f5a1ff4eb00>"
      ]
     },
     "execution_count": 16,
     "metadata": {},
     "output_type": "execute_result"
    }
   ],
   "source": [
    "opened_prs[['user', 'author_association', 'comments', 'closed', 'html_url']]\\\n",
    "    .sort_values(['closed', 'comments']).style.applymap(highlight_rows).format({'html_url': make_clickable}).hide_index()"
   ]
  },
  {
   "cell_type": "code",
   "execution_count": 17,
   "metadata": {
    "jupyter": {
     "source_hidden": true
    },
    "papermill": {
     "duration": 0.034877,
     "end_time": "2019-02-19T04:41:38.782484",
     "exception": false,
     "start_time": "2019-02-19T04:41:38.747607",
     "status": "completed"
    },
    "tags": []
   },
   "outputs": [
    {
     "data": {
      "text/html": [
       "<h2 style=\"padding-left: 1em;\">Closed PRs: 14</h2>"
      ],
      "text/plain": [
       "<IPython.core.display.HTML object>"
      ]
     },
     "metadata": {},
     "output_type": "display_data"
    }
   ],
   "source": [
    "print_html('Closed PRs: {}'.format(len(closed_prs)))"
   ]
  },
  {
   "cell_type": "code",
   "execution_count": 18,
   "metadata": {
    "jupyter": {
     "source_hidden": true
    },
    "papermill": {
     "duration": 0.070101,
     "end_time": "2019-02-19T04:41:38.882923",
     "exception": false,
     "start_time": "2019-02-19T04:41:38.812822",
     "status": "completed"
    },
    "tags": []
   },
   "outputs": [
    {
     "data": {
      "text/html": [
       "<style  type=\"text/css\" >\n",
       "    #T_a5426b4c_3400_11e9_84ba_54ee75e0f62drow0_col2 {\n",
       "            background-color:  #f7b7b7;\n",
       "        }    #T_a5426b4c_3400_11e9_84ba_54ee75e0f62drow1_col2 {\n",
       "            background-color:  #f7b7b7;\n",
       "        }    #T_a5426b4c_3400_11e9_84ba_54ee75e0f62drow2_col2 {\n",
       "            background-color:  #f7b7b7;\n",
       "        }    #T_a5426b4c_3400_11e9_84ba_54ee75e0f62drow3_col2 {\n",
       "            background-color:  #f7b7b7;\n",
       "        }    #T_a5426b4c_3400_11e9_84ba_54ee75e0f62drow4_col2 {\n",
       "            background-color:  #f7b7b7;\n",
       "        }    #T_a5426b4c_3400_11e9_84ba_54ee75e0f62drow5_col2 {\n",
       "            background-color:  #f7b7b7;\n",
       "        }    #T_a5426b4c_3400_11e9_84ba_54ee75e0f62drow6_col2 {\n",
       "            background-color:  #f7b7b7;\n",
       "        }</style><table id=\"T_a5426b4c_3400_11e9_84ba_54ee75e0f62d\" ><thead>    <tr>        <th class=\"col_heading level0 col0\" >user</th>        <th class=\"col_heading level0 col1\" >author_association</th>        <th class=\"col_heading level0 col2\" >comments</th>        <th class=\"col_heading level0 col3\" >html_url</th>    </tr></thead><tbody>\n",
       "                <tr>\n",
       "                                <td id=\"T_a5426b4c_3400_11e9_84ba_54ee75e0f62drow0_col0\" class=\"data row0 col0\" >betatim</td>\n",
       "                        <td id=\"T_a5426b4c_3400_11e9_84ba_54ee75e0f62drow0_col1\" class=\"data row0 col1\" >MEMBER</td>\n",
       "                        <td id=\"T_a5426b4c_3400_11e9_84ba_54ee75e0f62drow0_col2\" class=\"data row0 col2\" >0</td>\n",
       "                        <td id=\"T_a5426b4c_3400_11e9_84ba_54ee75e0f62drow0_col3\" class=\"data row0 col3\" ><a target=\"_blank\" href=\"https://github.com/jupyterhub/mybinder.org-deploy/pull/896\">https://github.com/jupyterhub/mybinder.org-deploy/pull/896</a></td>\n",
       "            </tr>\n",
       "            <tr>\n",
       "                                <td id=\"T_a5426b4c_3400_11e9_84ba_54ee75e0f62drow1_col0\" class=\"data row1 col0\" >minrk</td>\n",
       "                        <td id=\"T_a5426b4c_3400_11e9_84ba_54ee75e0f62drow1_col1\" class=\"data row1 col1\" >MEMBER</td>\n",
       "                        <td id=\"T_a5426b4c_3400_11e9_84ba_54ee75e0f62drow1_col2\" class=\"data row1 col2\" >0</td>\n",
       "                        <td id=\"T_a5426b4c_3400_11e9_84ba_54ee75e0f62drow1_col3\" class=\"data row1 col3\" ><a target=\"_blank\" href=\"https://github.com/jupyterhub/mybinder.org-deploy/pull/886\">https://github.com/jupyterhub/mybinder.org-deploy/pull/886</a></td>\n",
       "            </tr>\n",
       "            <tr>\n",
       "                                <td id=\"T_a5426b4c_3400_11e9_84ba_54ee75e0f62drow2_col0\" class=\"data row2 col0\" >betatim</td>\n",
       "                        <td id=\"T_a5426b4c_3400_11e9_84ba_54ee75e0f62drow2_col1\" class=\"data row2 col1\" >MEMBER</td>\n",
       "                        <td id=\"T_a5426b4c_3400_11e9_84ba_54ee75e0f62drow2_col2\" class=\"data row2 col2\" >0</td>\n",
       "                        <td id=\"T_a5426b4c_3400_11e9_84ba_54ee75e0f62drow2_col3\" class=\"data row2 col3\" ><a target=\"_blank\" href=\"https://github.com/jupyterhub/mybinder.org-deploy/pull/884\">https://github.com/jupyterhub/mybinder.org-deploy/pull/884</a></td>\n",
       "            </tr>\n",
       "            <tr>\n",
       "                                <td id=\"T_a5426b4c_3400_11e9_84ba_54ee75e0f62drow3_col0\" class=\"data row3 col0\" >minrk</td>\n",
       "                        <td id=\"T_a5426b4c_3400_11e9_84ba_54ee75e0f62drow3_col1\" class=\"data row3 col1\" >MEMBER</td>\n",
       "                        <td id=\"T_a5426b4c_3400_11e9_84ba_54ee75e0f62drow3_col2\" class=\"data row3 col2\" >0</td>\n",
       "                        <td id=\"T_a5426b4c_3400_11e9_84ba_54ee75e0f62drow3_col3\" class=\"data row3 col3\" ><a target=\"_blank\" href=\"https://github.com/jupyterhub/mybinder.org-deploy/pull/882\">https://github.com/jupyterhub/mybinder.org-deploy/pull/882</a></td>\n",
       "            </tr>\n",
       "            <tr>\n",
       "                                <td id=\"T_a5426b4c_3400_11e9_84ba_54ee75e0f62drow4_col0\" class=\"data row4 col0\" >minrk</td>\n",
       "                        <td id=\"T_a5426b4c_3400_11e9_84ba_54ee75e0f62drow4_col1\" class=\"data row4 col1\" >MEMBER</td>\n",
       "                        <td id=\"T_a5426b4c_3400_11e9_84ba_54ee75e0f62drow4_col2\" class=\"data row4 col2\" >0</td>\n",
       "                        <td id=\"T_a5426b4c_3400_11e9_84ba_54ee75e0f62drow4_col3\" class=\"data row4 col3\" ><a target=\"_blank\" href=\"https://github.com/jupyterhub/mybinder.org-deploy/pull/881\">https://github.com/jupyterhub/mybinder.org-deploy/pull/881</a></td>\n",
       "            </tr>\n",
       "            <tr>\n",
       "                                <td id=\"T_a5426b4c_3400_11e9_84ba_54ee75e0f62drow5_col0\" class=\"data row5 col0\" >choldgraf</td>\n",
       "                        <td id=\"T_a5426b4c_3400_11e9_84ba_54ee75e0f62drow5_col1\" class=\"data row5 col1\" >MEMBER</td>\n",
       "                        <td id=\"T_a5426b4c_3400_11e9_84ba_54ee75e0f62drow5_col2\" class=\"data row5 col2\" >0</td>\n",
       "                        <td id=\"T_a5426b4c_3400_11e9_84ba_54ee75e0f62drow5_col3\" class=\"data row5 col3\" ><a target=\"_blank\" href=\"https://github.com/jupyterhub/mybinder.org-deploy/pull/891\">https://github.com/jupyterhub/mybinder.org-deploy/pull/891</a></td>\n",
       "            </tr>\n",
       "            <tr>\n",
       "                                <td id=\"T_a5426b4c_3400_11e9_84ba_54ee75e0f62drow6_col0\" class=\"data row6 col0\" >choldgraf</td>\n",
       "                        <td id=\"T_a5426b4c_3400_11e9_84ba_54ee75e0f62drow6_col1\" class=\"data row6 col1\" >MEMBER</td>\n",
       "                        <td id=\"T_a5426b4c_3400_11e9_84ba_54ee75e0f62drow6_col2\" class=\"data row6 col2\" >0</td>\n",
       "                        <td id=\"T_a5426b4c_3400_11e9_84ba_54ee75e0f62drow6_col3\" class=\"data row6 col3\" ><a target=\"_blank\" href=\"https://github.com/jupyterhub/mybinder.org-deploy/pull/889\">https://github.com/jupyterhub/mybinder.org-deploy/pull/889</a></td>\n",
       "            </tr>\n",
       "            <tr>\n",
       "                                <td id=\"T_a5426b4c_3400_11e9_84ba_54ee75e0f62drow7_col0\" class=\"data row7 col0\" >captainsafia</td>\n",
       "                        <td id=\"T_a5426b4c_3400_11e9_84ba_54ee75e0f62drow7_col1\" class=\"data row7 col1\" >MEMBER</td>\n",
       "                        <td id=\"T_a5426b4c_3400_11e9_84ba_54ee75e0f62drow7_col2\" class=\"data row7 col2\" >1</td>\n",
       "                        <td id=\"T_a5426b4c_3400_11e9_84ba_54ee75e0f62drow7_col3\" class=\"data row7 col3\" ><a target=\"_blank\" href=\"https://github.com/jupyterhub/mybinder.org-deploy/pull/887\">https://github.com/jupyterhub/mybinder.org-deploy/pull/887</a></td>\n",
       "            </tr>\n",
       "            <tr>\n",
       "                                <td id=\"T_a5426b4c_3400_11e9_84ba_54ee75e0f62drow8_col0\" class=\"data row8 col0\" >betatim</td>\n",
       "                        <td id=\"T_a5426b4c_3400_11e9_84ba_54ee75e0f62drow8_col1\" class=\"data row8 col1\" >MEMBER</td>\n",
       "                        <td id=\"T_a5426b4c_3400_11e9_84ba_54ee75e0f62drow8_col2\" class=\"data row8 col2\" >1</td>\n",
       "                        <td id=\"T_a5426b4c_3400_11e9_84ba_54ee75e0f62drow8_col3\" class=\"data row8 col3\" ><a target=\"_blank\" href=\"https://github.com/jupyterhub/mybinder.org-deploy/pull/895\">https://github.com/jupyterhub/mybinder.org-deploy/pull/895</a></td>\n",
       "            </tr>\n",
       "            <tr>\n",
       "                                <td id=\"T_a5426b4c_3400_11e9_84ba_54ee75e0f62drow9_col0\" class=\"data row9 col0\" >betatim</td>\n",
       "                        <td id=\"T_a5426b4c_3400_11e9_84ba_54ee75e0f62drow9_col1\" class=\"data row9 col1\" >MEMBER</td>\n",
       "                        <td id=\"T_a5426b4c_3400_11e9_84ba_54ee75e0f62drow9_col2\" class=\"data row9 col2\" >1</td>\n",
       "                        <td id=\"T_a5426b4c_3400_11e9_84ba_54ee75e0f62drow9_col3\" class=\"data row9 col3\" ><a target=\"_blank\" href=\"https://github.com/jupyterhub/mybinder.org-deploy/pull/894\">https://github.com/jupyterhub/mybinder.org-deploy/pull/894</a></td>\n",
       "            </tr>\n",
       "            <tr>\n",
       "                                <td id=\"T_a5426b4c_3400_11e9_84ba_54ee75e0f62drow10_col0\" class=\"data row10 col0\" >choldgraf</td>\n",
       "                        <td id=\"T_a5426b4c_3400_11e9_84ba_54ee75e0f62drow10_col1\" class=\"data row10 col1\" >MEMBER</td>\n",
       "                        <td id=\"T_a5426b4c_3400_11e9_84ba_54ee75e0f62drow10_col2\" class=\"data row10 col2\" >1</td>\n",
       "                        <td id=\"T_a5426b4c_3400_11e9_84ba_54ee75e0f62drow10_col3\" class=\"data row10 col3\" ><a target=\"_blank\" href=\"https://github.com/jupyterhub/mybinder.org-deploy/pull/890\">https://github.com/jupyterhub/mybinder.org-deploy/pull/890</a></td>\n",
       "            </tr>\n",
       "            <tr>\n",
       "                                <td id=\"T_a5426b4c_3400_11e9_84ba_54ee75e0f62drow11_col0\" class=\"data row11 col0\" >betatim</td>\n",
       "                        <td id=\"T_a5426b4c_3400_11e9_84ba_54ee75e0f62drow11_col1\" class=\"data row11 col1\" >MEMBER</td>\n",
       "                        <td id=\"T_a5426b4c_3400_11e9_84ba_54ee75e0f62drow11_col2\" class=\"data row11 col2\" >2</td>\n",
       "                        <td id=\"T_a5426b4c_3400_11e9_84ba_54ee75e0f62drow11_col3\" class=\"data row11 col3\" ><a target=\"_blank\" href=\"https://github.com/jupyterhub/mybinder.org-deploy/pull/897\">https://github.com/jupyterhub/mybinder.org-deploy/pull/897</a></td>\n",
       "            </tr>\n",
       "            <tr>\n",
       "                                <td id=\"T_a5426b4c_3400_11e9_84ba_54ee75e0f62drow12_col0\" class=\"data row12 col0\" >choldgraf</td>\n",
       "                        <td id=\"T_a5426b4c_3400_11e9_84ba_54ee75e0f62drow12_col1\" class=\"data row12 col1\" >MEMBER</td>\n",
       "                        <td id=\"T_a5426b4c_3400_11e9_84ba_54ee75e0f62drow12_col2\" class=\"data row12 col2\" >2</td>\n",
       "                        <td id=\"T_a5426b4c_3400_11e9_84ba_54ee75e0f62drow12_col3\" class=\"data row12 col3\" ><a target=\"_blank\" href=\"https://github.com/jupyterhub/mybinder.org-deploy/pull/893\">https://github.com/jupyterhub/mybinder.org-deploy/pull/893</a></td>\n",
       "            </tr>\n",
       "            <tr>\n",
       "                                <td id=\"T_a5426b4c_3400_11e9_84ba_54ee75e0f62drow13_col0\" class=\"data row13 col0\" >choldgraf</td>\n",
       "                        <td id=\"T_a5426b4c_3400_11e9_84ba_54ee75e0f62drow13_col1\" class=\"data row13 col1\" >MEMBER</td>\n",
       "                        <td id=\"T_a5426b4c_3400_11e9_84ba_54ee75e0f62drow13_col2\" class=\"data row13 col2\" >3</td>\n",
       "                        <td id=\"T_a5426b4c_3400_11e9_84ba_54ee75e0f62drow13_col3\" class=\"data row13 col3\" ><a target=\"_blank\" href=\"https://github.com/jupyterhub/mybinder.org-deploy/pull/888\">https://github.com/jupyterhub/mybinder.org-deploy/pull/888</a></td>\n",
       "            </tr>\n",
       "    </tbody></table>"
      ],
      "text/plain": [
       "<pandas.io.formats.style.Styler at 0x7f5a20010438>"
      ]
     },
     "execution_count": 18,
     "metadata": {},
     "output_type": "execute_result"
    }
   ],
   "source": [
    "closed_prs[['user', 'author_association', 'comments', 'html_url']]\\\n",
    "    .sort_values(['comments']).style.applymap(highlight_rows).format({'html_url': make_clickable}).hide_index()"
   ]
  },
  {
   "cell_type": "markdown",
   "metadata": {
    "papermill": {
     "duration": 0.034775,
     "end_time": "2019-02-19T04:41:38.946832",
     "exception": false,
     "start_time": "2019-02-19T04:41:38.912057",
     "status": "completed"
    },
    "tags": []
   },
   "source": [
    "# State of repo\n",
    "\n",
    "## Stale issues"
   ]
  },
  {
   "cell_type": "code",
   "execution_count": 19,
   "metadata": {
    "jupyter": {
     "source_hidden": true
    },
    "papermill": {
     "duration": 0.04193,
     "end_time": "2019-02-19T04:41:39.016974",
     "exception": false,
     "start_time": "2019-02-19T04:41:38.975044",
     "status": "completed"
    },
    "tags": []
   },
   "outputs": [],
   "source": [
    "stale_issues = issues.query('updated_at < @date_stale')\n",
    "stale_issues = stale_issues[stale_issues['closed_at'].isnull()]"
   ]
  },
  {
   "cell_type": "code",
   "execution_count": 20,
   "metadata": {
    "jupyter": {
     "source_hidden": true
    },
    "papermill": {
     "duration": 0.240427,
     "end_time": "2019-02-19T04:41:39.283890",
     "exception": false,
     "start_time": "2019-02-19T04:41:39.043463",
     "status": "completed"
    },
    "tags": []
   },
   "outputs": [
    {
     "data": {
      "text/html": [
       "<style  type=\"text/css\" >\n",
       "    #T_a57d7412_3400_11e9_84ba_54ee75e0f62drow0_col2 {\n",
       "            background-color:  #f7b7b7;\n",
       "        }    #T_a57d7412_3400_11e9_84ba_54ee75e0f62drow1_col2 {\n",
       "            background-color:  #f7b7b7;\n",
       "        }    #T_a57d7412_3400_11e9_84ba_54ee75e0f62drow2_col2 {\n",
       "            background-color:  #f7b7b7;\n",
       "        }    #T_a57d7412_3400_11e9_84ba_54ee75e0f62drow3_col2 {\n",
       "            background-color:  #f7b7b7;\n",
       "        }    #T_a57d7412_3400_11e9_84ba_54ee75e0f62drow4_col2 {\n",
       "            background-color:  #f7b7b7;\n",
       "        }    #T_a57d7412_3400_11e9_84ba_54ee75e0f62drow5_col2 {\n",
       "            background-color:  #f7b7b7;\n",
       "        }    #T_a57d7412_3400_11e9_84ba_54ee75e0f62drow6_col2 {\n",
       "            background-color:  #f7b7b7;\n",
       "        }    #T_a57d7412_3400_11e9_84ba_54ee75e0f62drow7_col2 {\n",
       "            background-color:  #f7b7b7;\n",
       "        }    #T_a57d7412_3400_11e9_84ba_54ee75e0f62drow8_col2 {\n",
       "            background-color:  #f7b7b7;\n",
       "        }    #T_a57d7412_3400_11e9_84ba_54ee75e0f62drow9_col2 {\n",
       "            background-color:  #f7b7b7;\n",
       "        }    #T_a57d7412_3400_11e9_84ba_54ee75e0f62drow10_col2 {\n",
       "            background-color:  #f7b7b7;\n",
       "        }    #T_a57d7412_3400_11e9_84ba_54ee75e0f62drow11_col2 {\n",
       "            background-color:  #f7b7b7;\n",
       "        }    #T_a57d7412_3400_11e9_84ba_54ee75e0f62drow12_col2 {\n",
       "            background-color:  #f7b7b7;\n",
       "        }    #T_a57d7412_3400_11e9_84ba_54ee75e0f62drow13_col2 {\n",
       "            background-color:  #f7b7b7;\n",
       "        }    #T_a57d7412_3400_11e9_84ba_54ee75e0f62drow52_col1 {\n",
       "            background-color:  #f7b7b7;\n",
       "        }    #T_a57d7412_3400_11e9_84ba_54ee75e0f62drow59_col1 {\n",
       "            background-color:  #f7b7b7;\n",
       "        }</style><table id=\"T_a57d7412_3400_11e9_84ba_54ee75e0f62d\" ><thead>    <tr>        <th class=\"col_heading level0 col0\" >user</th>        <th class=\"col_heading level0 col1\" >author_association</th>        <th class=\"col_heading level0 col2\" >comments</th>        <th class=\"col_heading level0 col3\" >html_url</th>    </tr></thead><tbody>\n",
       "                <tr>\n",
       "                                <td id=\"T_a57d7412_3400_11e9_84ba_54ee75e0f62drow0_col0\" class=\"data row0 col0\" >yuvipanda</td>\n",
       "                        <td id=\"T_a57d7412_3400_11e9_84ba_54ee75e0f62drow0_col1\" class=\"data row0 col1\" >MEMBER</td>\n",
       "                        <td id=\"T_a57d7412_3400_11e9_84ba_54ee75e0f62drow0_col2\" class=\"data row0 col2\" >0</td>\n",
       "                        <td id=\"T_a57d7412_3400_11e9_84ba_54ee75e0f62drow0_col3\" class=\"data row0 col3\" ><a target=\"_blank\" href=\"https://github.com/jupyterhub/mybinder.org-deploy/issues/452\">https://github.com/jupyterhub/mybinder.org-deploy/issues/452</a></td>\n",
       "            </tr>\n",
       "            <tr>\n",
       "                                <td id=\"T_a57d7412_3400_11e9_84ba_54ee75e0f62drow1_col0\" class=\"data row1 col0\" >choldgraf</td>\n",
       "                        <td id=\"T_a57d7412_3400_11e9_84ba_54ee75e0f62drow1_col1\" class=\"data row1 col1\" >MEMBER</td>\n",
       "                        <td id=\"T_a57d7412_3400_11e9_84ba_54ee75e0f62drow1_col2\" class=\"data row1 col2\" >0</td>\n",
       "                        <td id=\"T_a57d7412_3400_11e9_84ba_54ee75e0f62drow1_col3\" class=\"data row1 col3\" ><a target=\"_blank\" href=\"https://github.com/jupyterhub/mybinder.org-deploy/issues/821\">https://github.com/jupyterhub/mybinder.org-deploy/issues/821</a></td>\n",
       "            </tr>\n",
       "            <tr>\n",
       "                                <td id=\"T_a57d7412_3400_11e9_84ba_54ee75e0f62drow2_col0\" class=\"data row2 col0\" >yuvipanda</td>\n",
       "                        <td id=\"T_a57d7412_3400_11e9_84ba_54ee75e0f62drow2_col1\" class=\"data row2 col1\" >MEMBER</td>\n",
       "                        <td id=\"T_a57d7412_3400_11e9_84ba_54ee75e0f62drow2_col2\" class=\"data row2 col2\" >0</td>\n",
       "                        <td id=\"T_a57d7412_3400_11e9_84ba_54ee75e0f62drow2_col3\" class=\"data row2 col3\" ><a target=\"_blank\" href=\"https://github.com/jupyterhub/mybinder.org-deploy/issues/237\">https://github.com/jupyterhub/mybinder.org-deploy/issues/237</a></td>\n",
       "            </tr>\n",
       "            <tr>\n",
       "                                <td id=\"T_a57d7412_3400_11e9_84ba_54ee75e0f62drow3_col0\" class=\"data row3 col0\" >choldgraf</td>\n",
       "                        <td id=\"T_a57d7412_3400_11e9_84ba_54ee75e0f62drow3_col1\" class=\"data row3 col1\" >MEMBER</td>\n",
       "                        <td id=\"T_a57d7412_3400_11e9_84ba_54ee75e0f62drow3_col2\" class=\"data row3 col2\" >0</td>\n",
       "                        <td id=\"T_a57d7412_3400_11e9_84ba_54ee75e0f62drow3_col3\" class=\"data row3 col3\" ><a target=\"_blank\" href=\"https://github.com/jupyterhub/mybinder.org-deploy/issues/345\">https://github.com/jupyterhub/mybinder.org-deploy/issues/345</a></td>\n",
       "            </tr>\n",
       "            <tr>\n",
       "                                <td id=\"T_a57d7412_3400_11e9_84ba_54ee75e0f62drow4_col0\" class=\"data row4 col0\" >yuvipanda</td>\n",
       "                        <td id=\"T_a57d7412_3400_11e9_84ba_54ee75e0f62drow4_col1\" class=\"data row4 col1\" >MEMBER</td>\n",
       "                        <td id=\"T_a57d7412_3400_11e9_84ba_54ee75e0f62drow4_col2\" class=\"data row4 col2\" >0</td>\n",
       "                        <td id=\"T_a57d7412_3400_11e9_84ba_54ee75e0f62drow4_col3\" class=\"data row4 col3\" ><a target=\"_blank\" href=\"https://github.com/jupyterhub/mybinder.org-deploy/pull/849\">https://github.com/jupyterhub/mybinder.org-deploy/pull/849</a></td>\n",
       "            </tr>\n",
       "            <tr>\n",
       "                                <td id=\"T_a57d7412_3400_11e9_84ba_54ee75e0f62drow5_col0\" class=\"data row5 col0\" >betatim</td>\n",
       "                        <td id=\"T_a57d7412_3400_11e9_84ba_54ee75e0f62drow5_col1\" class=\"data row5 col1\" >MEMBER</td>\n",
       "                        <td id=\"T_a57d7412_3400_11e9_84ba_54ee75e0f62drow5_col2\" class=\"data row5 col2\" >0</td>\n",
       "                        <td id=\"T_a57d7412_3400_11e9_84ba_54ee75e0f62drow5_col3\" class=\"data row5 col3\" ><a target=\"_blank\" href=\"https://github.com/jupyterhub/mybinder.org-deploy/issues/621\">https://github.com/jupyterhub/mybinder.org-deploy/issues/621</a></td>\n",
       "            </tr>\n",
       "            <tr>\n",
       "                                <td id=\"T_a57d7412_3400_11e9_84ba_54ee75e0f62drow6_col0\" class=\"data row6 col0\" >willingc</td>\n",
       "                        <td id=\"T_a57d7412_3400_11e9_84ba_54ee75e0f62drow6_col1\" class=\"data row6 col1\" >MEMBER</td>\n",
       "                        <td id=\"T_a57d7412_3400_11e9_84ba_54ee75e0f62drow6_col2\" class=\"data row6 col2\" >0</td>\n",
       "                        <td id=\"T_a57d7412_3400_11e9_84ba_54ee75e0f62drow6_col3\" class=\"data row6 col3\" ><a target=\"_blank\" href=\"https://github.com/jupyterhub/mybinder.org-deploy/issues/641\">https://github.com/jupyterhub/mybinder.org-deploy/issues/641</a></td>\n",
       "            </tr>\n",
       "            <tr>\n",
       "                                <td id=\"T_a57d7412_3400_11e9_84ba_54ee75e0f62drow7_col0\" class=\"data row7 col0\" >willingc</td>\n",
       "                        <td id=\"T_a57d7412_3400_11e9_84ba_54ee75e0f62drow7_col1\" class=\"data row7 col1\" >MEMBER</td>\n",
       "                        <td id=\"T_a57d7412_3400_11e9_84ba_54ee75e0f62drow7_col2\" class=\"data row7 col2\" >0</td>\n",
       "                        <td id=\"T_a57d7412_3400_11e9_84ba_54ee75e0f62drow7_col3\" class=\"data row7 col3\" ><a target=\"_blank\" href=\"https://github.com/jupyterhub/mybinder.org-deploy/issues/642\">https://github.com/jupyterhub/mybinder.org-deploy/issues/642</a></td>\n",
       "            </tr>\n",
       "            <tr>\n",
       "                                <td id=\"T_a57d7412_3400_11e9_84ba_54ee75e0f62drow8_col0\" class=\"data row8 col0\" >consideRatio</td>\n",
       "                        <td id=\"T_a57d7412_3400_11e9_84ba_54ee75e0f62drow8_col1\" class=\"data row8 col1\" >MEMBER</td>\n",
       "                        <td id=\"T_a57d7412_3400_11e9_84ba_54ee75e0f62drow8_col2\" class=\"data row8 col2\" >0</td>\n",
       "                        <td id=\"T_a57d7412_3400_11e9_84ba_54ee75e0f62drow8_col3\" class=\"data row8 col3\" ><a target=\"_blank\" href=\"https://github.com/jupyterhub/mybinder.org-deploy/issues/649\">https://github.com/jupyterhub/mybinder.org-deploy/issues/649</a></td>\n",
       "            </tr>\n",
       "            <tr>\n",
       "                                <td id=\"T_a57d7412_3400_11e9_84ba_54ee75e0f62drow9_col0\" class=\"data row9 col0\" >consideRatio</td>\n",
       "                        <td id=\"T_a57d7412_3400_11e9_84ba_54ee75e0f62drow9_col1\" class=\"data row9 col1\" >MEMBER</td>\n",
       "                        <td id=\"T_a57d7412_3400_11e9_84ba_54ee75e0f62drow9_col2\" class=\"data row9 col2\" >0</td>\n",
       "                        <td id=\"T_a57d7412_3400_11e9_84ba_54ee75e0f62drow9_col3\" class=\"data row9 col3\" ><a target=\"_blank\" href=\"https://github.com/jupyterhub/mybinder.org-deploy/issues/672\">https://github.com/jupyterhub/mybinder.org-deploy/issues/672</a></td>\n",
       "            </tr>\n",
       "            <tr>\n",
       "                                <td id=\"T_a57d7412_3400_11e9_84ba_54ee75e0f62drow10_col0\" class=\"data row10 col0\" >yuvipanda</td>\n",
       "                        <td id=\"T_a57d7412_3400_11e9_84ba_54ee75e0f62drow10_col1\" class=\"data row10 col1\" >MEMBER</td>\n",
       "                        <td id=\"T_a57d7412_3400_11e9_84ba_54ee75e0f62drow10_col2\" class=\"data row10 col2\" >0</td>\n",
       "                        <td id=\"T_a57d7412_3400_11e9_84ba_54ee75e0f62drow10_col3\" class=\"data row10 col3\" ><a target=\"_blank\" href=\"https://github.com/jupyterhub/mybinder.org-deploy/issues/801\">https://github.com/jupyterhub/mybinder.org-deploy/issues/801</a></td>\n",
       "            </tr>\n",
       "            <tr>\n",
       "                                <td id=\"T_a57d7412_3400_11e9_84ba_54ee75e0f62drow11_col0\" class=\"data row11 col0\" >minrk</td>\n",
       "                        <td id=\"T_a57d7412_3400_11e9_84ba_54ee75e0f62drow11_col1\" class=\"data row11 col1\" >MEMBER</td>\n",
       "                        <td id=\"T_a57d7412_3400_11e9_84ba_54ee75e0f62drow11_col2\" class=\"data row11 col2\" >0</td>\n",
       "                        <td id=\"T_a57d7412_3400_11e9_84ba_54ee75e0f62drow11_col3\" class=\"data row11 col3\" ><a target=\"_blank\" href=\"https://github.com/jupyterhub/mybinder.org-deploy/issues/765\">https://github.com/jupyterhub/mybinder.org-deploy/issues/765</a></td>\n",
       "            </tr>\n",
       "            <tr>\n",
       "                                <td id=\"T_a57d7412_3400_11e9_84ba_54ee75e0f62drow12_col0\" class=\"data row12 col0\" >betatim</td>\n",
       "                        <td id=\"T_a57d7412_3400_11e9_84ba_54ee75e0f62drow12_col1\" class=\"data row12 col1\" >MEMBER</td>\n",
       "                        <td id=\"T_a57d7412_3400_11e9_84ba_54ee75e0f62drow12_col2\" class=\"data row12 col2\" >0</td>\n",
       "                        <td id=\"T_a57d7412_3400_11e9_84ba_54ee75e0f62drow12_col3\" class=\"data row12 col3\" ><a target=\"_blank\" href=\"https://github.com/jupyterhub/mybinder.org-deploy/issues/732\">https://github.com/jupyterhub/mybinder.org-deploy/issues/732</a></td>\n",
       "            </tr>\n",
       "            <tr>\n",
       "                                <td id=\"T_a57d7412_3400_11e9_84ba_54ee75e0f62drow13_col0\" class=\"data row13 col0\" >betatim</td>\n",
       "                        <td id=\"T_a57d7412_3400_11e9_84ba_54ee75e0f62drow13_col1\" class=\"data row13 col1\" >MEMBER</td>\n",
       "                        <td id=\"T_a57d7412_3400_11e9_84ba_54ee75e0f62drow13_col2\" class=\"data row13 col2\" >0</td>\n",
       "                        <td id=\"T_a57d7412_3400_11e9_84ba_54ee75e0f62drow13_col3\" class=\"data row13 col3\" ><a target=\"_blank\" href=\"https://github.com/jupyterhub/mybinder.org-deploy/issues/742\">https://github.com/jupyterhub/mybinder.org-deploy/issues/742</a></td>\n",
       "            </tr>\n",
       "            <tr>\n",
       "                                <td id=\"T_a57d7412_3400_11e9_84ba_54ee75e0f62drow14_col0\" class=\"data row14 col0\" >choldgraf</td>\n",
       "                        <td id=\"T_a57d7412_3400_11e9_84ba_54ee75e0f62drow14_col1\" class=\"data row14 col1\" >MEMBER</td>\n",
       "                        <td id=\"T_a57d7412_3400_11e9_84ba_54ee75e0f62drow14_col2\" class=\"data row14 col2\" >1</td>\n",
       "                        <td id=\"T_a57d7412_3400_11e9_84ba_54ee75e0f62drow14_col3\" class=\"data row14 col3\" ><a target=\"_blank\" href=\"https://github.com/jupyterhub/mybinder.org-deploy/issues/415\">https://github.com/jupyterhub/mybinder.org-deploy/issues/415</a></td>\n",
       "            </tr>\n",
       "            <tr>\n",
       "                                <td id=\"T_a57d7412_3400_11e9_84ba_54ee75e0f62drow15_col0\" class=\"data row15 col0\" >minrk</td>\n",
       "                        <td id=\"T_a57d7412_3400_11e9_84ba_54ee75e0f62drow15_col1\" class=\"data row15 col1\" >MEMBER</td>\n",
       "                        <td id=\"T_a57d7412_3400_11e9_84ba_54ee75e0f62drow15_col2\" class=\"data row15 col2\" >1</td>\n",
       "                        <td id=\"T_a57d7412_3400_11e9_84ba_54ee75e0f62drow15_col3\" class=\"data row15 col3\" ><a target=\"_blank\" href=\"https://github.com/jupyterhub/mybinder.org-deploy/issues/263\">https://github.com/jupyterhub/mybinder.org-deploy/issues/263</a></td>\n",
       "            </tr>\n",
       "            <tr>\n",
       "                                <td id=\"T_a57d7412_3400_11e9_84ba_54ee75e0f62drow16_col0\" class=\"data row16 col0\" >minrk</td>\n",
       "                        <td id=\"T_a57d7412_3400_11e9_84ba_54ee75e0f62drow16_col1\" class=\"data row16 col1\" >MEMBER</td>\n",
       "                        <td id=\"T_a57d7412_3400_11e9_84ba_54ee75e0f62drow16_col2\" class=\"data row16 col2\" >1</td>\n",
       "                        <td id=\"T_a57d7412_3400_11e9_84ba_54ee75e0f62drow16_col3\" class=\"data row16 col3\" ><a target=\"_blank\" href=\"https://github.com/jupyterhub/mybinder.org-deploy/issues/773\">https://github.com/jupyterhub/mybinder.org-deploy/issues/773</a></td>\n",
       "            </tr>\n",
       "            <tr>\n",
       "                                <td id=\"T_a57d7412_3400_11e9_84ba_54ee75e0f62drow17_col0\" class=\"data row17 col0\" >betatim</td>\n",
       "                        <td id=\"T_a57d7412_3400_11e9_84ba_54ee75e0f62drow17_col1\" class=\"data row17 col1\" >MEMBER</td>\n",
       "                        <td id=\"T_a57d7412_3400_11e9_84ba_54ee75e0f62drow17_col2\" class=\"data row17 col2\" >1</td>\n",
       "                        <td id=\"T_a57d7412_3400_11e9_84ba_54ee75e0f62drow17_col3\" class=\"data row17 col3\" ><a target=\"_blank\" href=\"https://github.com/jupyterhub/mybinder.org-deploy/issues/371\">https://github.com/jupyterhub/mybinder.org-deploy/issues/371</a></td>\n",
       "            </tr>\n",
       "            <tr>\n",
       "                                <td id=\"T_a57d7412_3400_11e9_84ba_54ee75e0f62drow18_col0\" class=\"data row18 col0\" >yuvipanda</td>\n",
       "                        <td id=\"T_a57d7412_3400_11e9_84ba_54ee75e0f62drow18_col1\" class=\"data row18 col1\" >MEMBER</td>\n",
       "                        <td id=\"T_a57d7412_3400_11e9_84ba_54ee75e0f62drow18_col2\" class=\"data row18 col2\" >1</td>\n",
       "                        <td id=\"T_a57d7412_3400_11e9_84ba_54ee75e0f62drow18_col3\" class=\"data row18 col3\" ><a target=\"_blank\" href=\"https://github.com/jupyterhub/mybinder.org-deploy/issues/439\">https://github.com/jupyterhub/mybinder.org-deploy/issues/439</a></td>\n",
       "            </tr>\n",
       "            <tr>\n",
       "                                <td id=\"T_a57d7412_3400_11e9_84ba_54ee75e0f62drow19_col0\" class=\"data row19 col0\" >choldgraf</td>\n",
       "                        <td id=\"T_a57d7412_3400_11e9_84ba_54ee75e0f62drow19_col1\" class=\"data row19 col1\" >MEMBER</td>\n",
       "                        <td id=\"T_a57d7412_3400_11e9_84ba_54ee75e0f62drow19_col2\" class=\"data row19 col2\" >1</td>\n",
       "                        <td id=\"T_a57d7412_3400_11e9_84ba_54ee75e0f62drow19_col3\" class=\"data row19 col3\" ><a target=\"_blank\" href=\"https://github.com/jupyterhub/mybinder.org-deploy/issues/803\">https://github.com/jupyterhub/mybinder.org-deploy/issues/803</a></td>\n",
       "            </tr>\n",
       "            <tr>\n",
       "                                <td id=\"T_a57d7412_3400_11e9_84ba_54ee75e0f62drow20_col0\" class=\"data row20 col0\" >minrk</td>\n",
       "                        <td id=\"T_a57d7412_3400_11e9_84ba_54ee75e0f62drow20_col1\" class=\"data row20 col1\" >MEMBER</td>\n",
       "                        <td id=\"T_a57d7412_3400_11e9_84ba_54ee75e0f62drow20_col2\" class=\"data row20 col2\" >1</td>\n",
       "                        <td id=\"T_a57d7412_3400_11e9_84ba_54ee75e0f62drow20_col3\" class=\"data row20 col3\" ><a target=\"_blank\" href=\"https://github.com/jupyterhub/mybinder.org-deploy/issues/466\">https://github.com/jupyterhub/mybinder.org-deploy/issues/466</a></td>\n",
       "            </tr>\n",
       "            <tr>\n",
       "                                <td id=\"T_a57d7412_3400_11e9_84ba_54ee75e0f62drow21_col0\" class=\"data row21 col0\" >minrk</td>\n",
       "                        <td id=\"T_a57d7412_3400_11e9_84ba_54ee75e0f62drow21_col1\" class=\"data row21 col1\" >MEMBER</td>\n",
       "                        <td id=\"T_a57d7412_3400_11e9_84ba_54ee75e0f62drow21_col2\" class=\"data row21 col2\" >1</td>\n",
       "                        <td id=\"T_a57d7412_3400_11e9_84ba_54ee75e0f62drow21_col3\" class=\"data row21 col3\" ><a target=\"_blank\" href=\"https://github.com/jupyterhub/mybinder.org-deploy/issues/468\">https://github.com/jupyterhub/mybinder.org-deploy/issues/468</a></td>\n",
       "            </tr>\n",
       "            <tr>\n",
       "                                <td id=\"T_a57d7412_3400_11e9_84ba_54ee75e0f62drow22_col0\" class=\"data row22 col0\" >consideRatio</td>\n",
       "                        <td id=\"T_a57d7412_3400_11e9_84ba_54ee75e0f62drow22_col1\" class=\"data row22 col1\" >MEMBER</td>\n",
       "                        <td id=\"T_a57d7412_3400_11e9_84ba_54ee75e0f62drow22_col2\" class=\"data row22 col2\" >1</td>\n",
       "                        <td id=\"T_a57d7412_3400_11e9_84ba_54ee75e0f62drow22_col3\" class=\"data row22 col3\" ><a target=\"_blank\" href=\"https://github.com/jupyterhub/mybinder.org-deploy/issues/780\">https://github.com/jupyterhub/mybinder.org-deploy/issues/780</a></td>\n",
       "            </tr>\n",
       "            <tr>\n",
       "                                <td id=\"T_a57d7412_3400_11e9_84ba_54ee75e0f62drow23_col0\" class=\"data row23 col0\" >betatim</td>\n",
       "                        <td id=\"T_a57d7412_3400_11e9_84ba_54ee75e0f62drow23_col1\" class=\"data row23 col1\" >MEMBER</td>\n",
       "                        <td id=\"T_a57d7412_3400_11e9_84ba_54ee75e0f62drow23_col2\" class=\"data row23 col2\" >1</td>\n",
       "                        <td id=\"T_a57d7412_3400_11e9_84ba_54ee75e0f62drow23_col3\" class=\"data row23 col3\" ><a target=\"_blank\" href=\"https://github.com/jupyterhub/mybinder.org-deploy/issues/484\">https://github.com/jupyterhub/mybinder.org-deploy/issues/484</a></td>\n",
       "            </tr>\n",
       "            <tr>\n",
       "                                <td id=\"T_a57d7412_3400_11e9_84ba_54ee75e0f62drow24_col0\" class=\"data row24 col0\" >choldgraf</td>\n",
       "                        <td id=\"T_a57d7412_3400_11e9_84ba_54ee75e0f62drow24_col1\" class=\"data row24 col1\" >MEMBER</td>\n",
       "                        <td id=\"T_a57d7412_3400_11e9_84ba_54ee75e0f62drow24_col2\" class=\"data row24 col2\" >1</td>\n",
       "                        <td id=\"T_a57d7412_3400_11e9_84ba_54ee75e0f62drow24_col3\" class=\"data row24 col3\" ><a target=\"_blank\" href=\"https://github.com/jupyterhub/mybinder.org-deploy/issues/501\">https://github.com/jupyterhub/mybinder.org-deploy/issues/501</a></td>\n",
       "            </tr>\n",
       "            <tr>\n",
       "                                <td id=\"T_a57d7412_3400_11e9_84ba_54ee75e0f62drow25_col0\" class=\"data row25 col0\" >minrk</td>\n",
       "                        <td id=\"T_a57d7412_3400_11e9_84ba_54ee75e0f62drow25_col1\" class=\"data row25 col1\" >MEMBER</td>\n",
       "                        <td id=\"T_a57d7412_3400_11e9_84ba_54ee75e0f62drow25_col2\" class=\"data row25 col2\" >1</td>\n",
       "                        <td id=\"T_a57d7412_3400_11e9_84ba_54ee75e0f62drow25_col3\" class=\"data row25 col3\" ><a target=\"_blank\" href=\"https://github.com/jupyterhub/mybinder.org-deploy/issues/521\">https://github.com/jupyterhub/mybinder.org-deploy/issues/521</a></td>\n",
       "            </tr>\n",
       "            <tr>\n",
       "                                <td id=\"T_a57d7412_3400_11e9_84ba_54ee75e0f62drow26_col0\" class=\"data row26 col0\" >yuvipanda</td>\n",
       "                        <td id=\"T_a57d7412_3400_11e9_84ba_54ee75e0f62drow26_col1\" class=\"data row26 col1\" >MEMBER</td>\n",
       "                        <td id=\"T_a57d7412_3400_11e9_84ba_54ee75e0f62drow26_col2\" class=\"data row26 col2\" >1</td>\n",
       "                        <td id=\"T_a57d7412_3400_11e9_84ba_54ee75e0f62drow26_col3\" class=\"data row26 col3\" ><a target=\"_blank\" href=\"https://github.com/jupyterhub/mybinder.org-deploy/issues/490\">https://github.com/jupyterhub/mybinder.org-deploy/issues/490</a></td>\n",
       "            </tr>\n",
       "            <tr>\n",
       "                                <td id=\"T_a57d7412_3400_11e9_84ba_54ee75e0f62drow27_col0\" class=\"data row27 col0\" >betatim</td>\n",
       "                        <td id=\"T_a57d7412_3400_11e9_84ba_54ee75e0f62drow27_col1\" class=\"data row27 col1\" >MEMBER</td>\n",
       "                        <td id=\"T_a57d7412_3400_11e9_84ba_54ee75e0f62drow27_col2\" class=\"data row27 col2\" >1</td>\n",
       "                        <td id=\"T_a57d7412_3400_11e9_84ba_54ee75e0f62drow27_col3\" class=\"data row27 col3\" ><a target=\"_blank\" href=\"https://github.com/jupyterhub/mybinder.org-deploy/issues/625\">https://github.com/jupyterhub/mybinder.org-deploy/issues/625</a></td>\n",
       "            </tr>\n",
       "            <tr>\n",
       "                                <td id=\"T_a57d7412_3400_11e9_84ba_54ee75e0f62drow28_col0\" class=\"data row28 col0\" >consideRatio</td>\n",
       "                        <td id=\"T_a57d7412_3400_11e9_84ba_54ee75e0f62drow28_col1\" class=\"data row28 col1\" >MEMBER</td>\n",
       "                        <td id=\"T_a57d7412_3400_11e9_84ba_54ee75e0f62drow28_col2\" class=\"data row28 col2\" >1</td>\n",
       "                        <td id=\"T_a57d7412_3400_11e9_84ba_54ee75e0f62drow28_col3\" class=\"data row28 col3\" ><a target=\"_blank\" href=\"https://github.com/jupyterhub/mybinder.org-deploy/issues/811\">https://github.com/jupyterhub/mybinder.org-deploy/issues/811</a></td>\n",
       "            </tr>\n",
       "            <tr>\n",
       "                                <td id=\"T_a57d7412_3400_11e9_84ba_54ee75e0f62drow29_col0\" class=\"data row29 col0\" >yuvipanda</td>\n",
       "                        <td id=\"T_a57d7412_3400_11e9_84ba_54ee75e0f62drow29_col1\" class=\"data row29 col1\" >MEMBER</td>\n",
       "                        <td id=\"T_a57d7412_3400_11e9_84ba_54ee75e0f62drow29_col2\" class=\"data row29 col2\" >2</td>\n",
       "                        <td id=\"T_a57d7412_3400_11e9_84ba_54ee75e0f62drow29_col3\" class=\"data row29 col3\" ><a target=\"_blank\" href=\"https://github.com/jupyterhub/mybinder.org-deploy/issues/125\">https://github.com/jupyterhub/mybinder.org-deploy/issues/125</a></td>\n",
       "            </tr>\n",
       "            <tr>\n",
       "                                <td id=\"T_a57d7412_3400_11e9_84ba_54ee75e0f62drow30_col0\" class=\"data row30 col0\" >choldgraf</td>\n",
       "                        <td id=\"T_a57d7412_3400_11e9_84ba_54ee75e0f62drow30_col1\" class=\"data row30 col1\" >MEMBER</td>\n",
       "                        <td id=\"T_a57d7412_3400_11e9_84ba_54ee75e0f62drow30_col2\" class=\"data row30 col2\" >2</td>\n",
       "                        <td id=\"T_a57d7412_3400_11e9_84ba_54ee75e0f62drow30_col3\" class=\"data row30 col3\" ><a target=\"_blank\" href=\"https://github.com/jupyterhub/mybinder.org-deploy/issues/496\">https://github.com/jupyterhub/mybinder.org-deploy/issues/496</a></td>\n",
       "            </tr>\n",
       "            <tr>\n",
       "                                <td id=\"T_a57d7412_3400_11e9_84ba_54ee75e0f62drow31_col0\" class=\"data row31 col0\" >betatim</td>\n",
       "                        <td id=\"T_a57d7412_3400_11e9_84ba_54ee75e0f62drow31_col1\" class=\"data row31 col1\" >MEMBER</td>\n",
       "                        <td id=\"T_a57d7412_3400_11e9_84ba_54ee75e0f62drow31_col2\" class=\"data row31 col2\" >2</td>\n",
       "                        <td id=\"T_a57d7412_3400_11e9_84ba_54ee75e0f62drow31_col3\" class=\"data row31 col3\" ><a target=\"_blank\" href=\"https://github.com/jupyterhub/mybinder.org-deploy/issues/646\">https://github.com/jupyterhub/mybinder.org-deploy/issues/646</a></td>\n",
       "            </tr>\n",
       "            <tr>\n",
       "                                <td id=\"T_a57d7412_3400_11e9_84ba_54ee75e0f62drow32_col0\" class=\"data row32 col0\" >choldgraf</td>\n",
       "                        <td id=\"T_a57d7412_3400_11e9_84ba_54ee75e0f62drow32_col1\" class=\"data row32 col1\" >MEMBER</td>\n",
       "                        <td id=\"T_a57d7412_3400_11e9_84ba_54ee75e0f62drow32_col2\" class=\"data row32 col2\" >2</td>\n",
       "                        <td id=\"T_a57d7412_3400_11e9_84ba_54ee75e0f62drow32_col3\" class=\"data row32 col3\" ><a target=\"_blank\" href=\"https://github.com/jupyterhub/mybinder.org-deploy/issues/293\">https://github.com/jupyterhub/mybinder.org-deploy/issues/293</a></td>\n",
       "            </tr>\n",
       "            <tr>\n",
       "                                <td id=\"T_a57d7412_3400_11e9_84ba_54ee75e0f62drow33_col0\" class=\"data row33 col0\" >betatim</td>\n",
       "                        <td id=\"T_a57d7412_3400_11e9_84ba_54ee75e0f62drow33_col1\" class=\"data row33 col1\" >MEMBER</td>\n",
       "                        <td id=\"T_a57d7412_3400_11e9_84ba_54ee75e0f62drow33_col2\" class=\"data row33 col2\" >2</td>\n",
       "                        <td id=\"T_a57d7412_3400_11e9_84ba_54ee75e0f62drow33_col3\" class=\"data row33 col3\" ><a target=\"_blank\" href=\"https://github.com/jupyterhub/mybinder.org-deploy/issues/622\">https://github.com/jupyterhub/mybinder.org-deploy/issues/622</a></td>\n",
       "            </tr>\n",
       "            <tr>\n",
       "                                <td id=\"T_a57d7412_3400_11e9_84ba_54ee75e0f62drow34_col0\" class=\"data row34 col0\" >betatim</td>\n",
       "                        <td id=\"T_a57d7412_3400_11e9_84ba_54ee75e0f62drow34_col1\" class=\"data row34 col1\" >MEMBER</td>\n",
       "                        <td id=\"T_a57d7412_3400_11e9_84ba_54ee75e0f62drow34_col2\" class=\"data row34 col2\" >2</td>\n",
       "                        <td id=\"T_a57d7412_3400_11e9_84ba_54ee75e0f62drow34_col3\" class=\"data row34 col3\" ><a target=\"_blank\" href=\"https://github.com/jupyterhub/mybinder.org-deploy/pull/471\">https://github.com/jupyterhub/mybinder.org-deploy/pull/471</a></td>\n",
       "            </tr>\n",
       "            <tr>\n",
       "                                <td id=\"T_a57d7412_3400_11e9_84ba_54ee75e0f62drow35_col0\" class=\"data row35 col0\" >betatim</td>\n",
       "                        <td id=\"T_a57d7412_3400_11e9_84ba_54ee75e0f62drow35_col1\" class=\"data row35 col1\" >MEMBER</td>\n",
       "                        <td id=\"T_a57d7412_3400_11e9_84ba_54ee75e0f62drow35_col2\" class=\"data row35 col2\" >2</td>\n",
       "                        <td id=\"T_a57d7412_3400_11e9_84ba_54ee75e0f62drow35_col3\" class=\"data row35 col3\" ><a target=\"_blank\" href=\"https://github.com/jupyterhub/mybinder.org-deploy/issues/634\">https://github.com/jupyterhub/mybinder.org-deploy/issues/634</a></td>\n",
       "            </tr>\n",
       "            <tr>\n",
       "                                <td id=\"T_a57d7412_3400_11e9_84ba_54ee75e0f62drow36_col0\" class=\"data row36 col0\" >minrk</td>\n",
       "                        <td id=\"T_a57d7412_3400_11e9_84ba_54ee75e0f62drow36_col1\" class=\"data row36 col1\" >MEMBER</td>\n",
       "                        <td id=\"T_a57d7412_3400_11e9_84ba_54ee75e0f62drow36_col2\" class=\"data row36 col2\" >2</td>\n",
       "                        <td id=\"T_a57d7412_3400_11e9_84ba_54ee75e0f62drow36_col3\" class=\"data row36 col3\" ><a target=\"_blank\" href=\"https://github.com/jupyterhub/mybinder.org-deploy/issues/230\">https://github.com/jupyterhub/mybinder.org-deploy/issues/230</a></td>\n",
       "            </tr>\n",
       "            <tr>\n",
       "                                <td id=\"T_a57d7412_3400_11e9_84ba_54ee75e0f62drow37_col0\" class=\"data row37 col0\" >yuvipanda</td>\n",
       "                        <td id=\"T_a57d7412_3400_11e9_84ba_54ee75e0f62drow37_col1\" class=\"data row37 col1\" >MEMBER</td>\n",
       "                        <td id=\"T_a57d7412_3400_11e9_84ba_54ee75e0f62drow37_col2\" class=\"data row37 col2\" >2</td>\n",
       "                        <td id=\"T_a57d7412_3400_11e9_84ba_54ee75e0f62drow37_col3\" class=\"data row37 col3\" ><a target=\"_blank\" href=\"https://github.com/jupyterhub/mybinder.org-deploy/pull/402\">https://github.com/jupyterhub/mybinder.org-deploy/pull/402</a></td>\n",
       "            </tr>\n",
       "            <tr>\n",
       "                                <td id=\"T_a57d7412_3400_11e9_84ba_54ee75e0f62drow38_col0\" class=\"data row38 col0\" >betatim</td>\n",
       "                        <td id=\"T_a57d7412_3400_11e9_84ba_54ee75e0f62drow38_col1\" class=\"data row38 col1\" >MEMBER</td>\n",
       "                        <td id=\"T_a57d7412_3400_11e9_84ba_54ee75e0f62drow38_col2\" class=\"data row38 col2\" >2</td>\n",
       "                        <td id=\"T_a57d7412_3400_11e9_84ba_54ee75e0f62drow38_col3\" class=\"data row38 col3\" ><a target=\"_blank\" href=\"https://github.com/jupyterhub/mybinder.org-deploy/issues/109\">https://github.com/jupyterhub/mybinder.org-deploy/issues/109</a></td>\n",
       "            </tr>\n",
       "            <tr>\n",
       "                                <td id=\"T_a57d7412_3400_11e9_84ba_54ee75e0f62drow39_col0\" class=\"data row39 col0\" >willingc</td>\n",
       "                        <td id=\"T_a57d7412_3400_11e9_84ba_54ee75e0f62drow39_col1\" class=\"data row39 col1\" >MEMBER</td>\n",
       "                        <td id=\"T_a57d7412_3400_11e9_84ba_54ee75e0f62drow39_col2\" class=\"data row39 col2\" >3</td>\n",
       "                        <td id=\"T_a57d7412_3400_11e9_84ba_54ee75e0f62drow39_col3\" class=\"data row39 col3\" ><a target=\"_blank\" href=\"https://github.com/jupyterhub/mybinder.org-deploy/issues/664\">https://github.com/jupyterhub/mybinder.org-deploy/issues/664</a></td>\n",
       "            </tr>\n",
       "            <tr>\n",
       "                                <td id=\"T_a57d7412_3400_11e9_84ba_54ee75e0f62drow40_col0\" class=\"data row40 col0\" >minrk</td>\n",
       "                        <td id=\"T_a57d7412_3400_11e9_84ba_54ee75e0f62drow40_col1\" class=\"data row40 col1\" >MEMBER</td>\n",
       "                        <td id=\"T_a57d7412_3400_11e9_84ba_54ee75e0f62drow40_col2\" class=\"data row40 col2\" >3</td>\n",
       "                        <td id=\"T_a57d7412_3400_11e9_84ba_54ee75e0f62drow40_col3\" class=\"data row40 col3\" ><a target=\"_blank\" href=\"https://github.com/jupyterhub/mybinder.org-deploy/issues/655\">https://github.com/jupyterhub/mybinder.org-deploy/issues/655</a></td>\n",
       "            </tr>\n",
       "            <tr>\n",
       "                                <td id=\"T_a57d7412_3400_11e9_84ba_54ee75e0f62drow41_col0\" class=\"data row41 col0\" >choldgraf</td>\n",
       "                        <td id=\"T_a57d7412_3400_11e9_84ba_54ee75e0f62drow41_col1\" class=\"data row41 col1\" >MEMBER</td>\n",
       "                        <td id=\"T_a57d7412_3400_11e9_84ba_54ee75e0f62drow41_col2\" class=\"data row41 col2\" >3</td>\n",
       "                        <td id=\"T_a57d7412_3400_11e9_84ba_54ee75e0f62drow41_col3\" class=\"data row41 col3\" ><a target=\"_blank\" href=\"https://github.com/jupyterhub/mybinder.org-deploy/issues/361\">https://github.com/jupyterhub/mybinder.org-deploy/issues/361</a></td>\n",
       "            </tr>\n",
       "            <tr>\n",
       "                                <td id=\"T_a57d7412_3400_11e9_84ba_54ee75e0f62drow42_col0\" class=\"data row42 col0\" >betatim</td>\n",
       "                        <td id=\"T_a57d7412_3400_11e9_84ba_54ee75e0f62drow42_col1\" class=\"data row42 col1\" >MEMBER</td>\n",
       "                        <td id=\"T_a57d7412_3400_11e9_84ba_54ee75e0f62drow42_col2\" class=\"data row42 col2\" >3</td>\n",
       "                        <td id=\"T_a57d7412_3400_11e9_84ba_54ee75e0f62drow42_col3\" class=\"data row42 col3\" ><a target=\"_blank\" href=\"https://github.com/jupyterhub/mybinder.org-deploy/issues/168\">https://github.com/jupyterhub/mybinder.org-deploy/issues/168</a></td>\n",
       "            </tr>\n",
       "            <tr>\n",
       "                                <td id=\"T_a57d7412_3400_11e9_84ba_54ee75e0f62drow43_col0\" class=\"data row43 col0\" >yuvipanda</td>\n",
       "                        <td id=\"T_a57d7412_3400_11e9_84ba_54ee75e0f62drow43_col1\" class=\"data row43 col1\" >MEMBER</td>\n",
       "                        <td id=\"T_a57d7412_3400_11e9_84ba_54ee75e0f62drow43_col2\" class=\"data row43 col2\" >3</td>\n",
       "                        <td id=\"T_a57d7412_3400_11e9_84ba_54ee75e0f62drow43_col3\" class=\"data row43 col3\" ><a target=\"_blank\" href=\"https://github.com/jupyterhub/mybinder.org-deploy/issues/438\">https://github.com/jupyterhub/mybinder.org-deploy/issues/438</a></td>\n",
       "            </tr>\n",
       "            <tr>\n",
       "                                <td id=\"T_a57d7412_3400_11e9_84ba_54ee75e0f62drow44_col0\" class=\"data row44 col0\" >yuvipanda</td>\n",
       "                        <td id=\"T_a57d7412_3400_11e9_84ba_54ee75e0f62drow44_col1\" class=\"data row44 col1\" >MEMBER</td>\n",
       "                        <td id=\"T_a57d7412_3400_11e9_84ba_54ee75e0f62drow44_col2\" class=\"data row44 col2\" >3</td>\n",
       "                        <td id=\"T_a57d7412_3400_11e9_84ba_54ee75e0f62drow44_col3\" class=\"data row44 col3\" ><a target=\"_blank\" href=\"https://github.com/jupyterhub/mybinder.org-deploy/issues/823\">https://github.com/jupyterhub/mybinder.org-deploy/issues/823</a></td>\n",
       "            </tr>\n",
       "            <tr>\n",
       "                                <td id=\"T_a57d7412_3400_11e9_84ba_54ee75e0f62drow45_col0\" class=\"data row45 col0\" >choldgraf</td>\n",
       "                        <td id=\"T_a57d7412_3400_11e9_84ba_54ee75e0f62drow45_col1\" class=\"data row45 col1\" >MEMBER</td>\n",
       "                        <td id=\"T_a57d7412_3400_11e9_84ba_54ee75e0f62drow45_col2\" class=\"data row45 col2\" >3</td>\n",
       "                        <td id=\"T_a57d7412_3400_11e9_84ba_54ee75e0f62drow45_col3\" class=\"data row45 col3\" ><a target=\"_blank\" href=\"https://github.com/jupyterhub/mybinder.org-deploy/issues/759\">https://github.com/jupyterhub/mybinder.org-deploy/issues/759</a></td>\n",
       "            </tr>\n",
       "            <tr>\n",
       "                                <td id=\"T_a57d7412_3400_11e9_84ba_54ee75e0f62drow46_col0\" class=\"data row46 col0\" >betatim</td>\n",
       "                        <td id=\"T_a57d7412_3400_11e9_84ba_54ee75e0f62drow46_col1\" class=\"data row46 col1\" >MEMBER</td>\n",
       "                        <td id=\"T_a57d7412_3400_11e9_84ba_54ee75e0f62drow46_col2\" class=\"data row46 col2\" >3</td>\n",
       "                        <td id=\"T_a57d7412_3400_11e9_84ba_54ee75e0f62drow46_col3\" class=\"data row46 col3\" ><a target=\"_blank\" href=\"https://github.com/jupyterhub/mybinder.org-deploy/issues/514\">https://github.com/jupyterhub/mybinder.org-deploy/issues/514</a></td>\n",
       "            </tr>\n",
       "            <tr>\n",
       "                                <td id=\"T_a57d7412_3400_11e9_84ba_54ee75e0f62drow47_col0\" class=\"data row47 col0\" >Carreau</td>\n",
       "                        <td id=\"T_a57d7412_3400_11e9_84ba_54ee75e0f62drow47_col1\" class=\"data row47 col1\" >MEMBER</td>\n",
       "                        <td id=\"T_a57d7412_3400_11e9_84ba_54ee75e0f62drow47_col2\" class=\"data row47 col2\" >3</td>\n",
       "                        <td id=\"T_a57d7412_3400_11e9_84ba_54ee75e0f62drow47_col3\" class=\"data row47 col3\" ><a target=\"_blank\" href=\"https://github.com/jupyterhub/mybinder.org-deploy/issues/95\">https://github.com/jupyterhub/mybinder.org-deploy/issues/95</a></td>\n",
       "            </tr>\n",
       "            <tr>\n",
       "                                <td id=\"T_a57d7412_3400_11e9_84ba_54ee75e0f62drow48_col0\" class=\"data row48 col0\" >minrk</td>\n",
       "                        <td id=\"T_a57d7412_3400_11e9_84ba_54ee75e0f62drow48_col1\" class=\"data row48 col1\" >MEMBER</td>\n",
       "                        <td id=\"T_a57d7412_3400_11e9_84ba_54ee75e0f62drow48_col2\" class=\"data row48 col2\" >3</td>\n",
       "                        <td id=\"T_a57d7412_3400_11e9_84ba_54ee75e0f62drow48_col3\" class=\"data row48 col3\" ><a target=\"_blank\" href=\"https://github.com/jupyterhub/mybinder.org-deploy/issues/302\">https://github.com/jupyterhub/mybinder.org-deploy/issues/302</a></td>\n",
       "            </tr>\n",
       "            <tr>\n",
       "                                <td id=\"T_a57d7412_3400_11e9_84ba_54ee75e0f62drow49_col0\" class=\"data row49 col0\" >minrk</td>\n",
       "                        <td id=\"T_a57d7412_3400_11e9_84ba_54ee75e0f62drow49_col1\" class=\"data row49 col1\" >MEMBER</td>\n",
       "                        <td id=\"T_a57d7412_3400_11e9_84ba_54ee75e0f62drow49_col2\" class=\"data row49 col2\" >4</td>\n",
       "                        <td id=\"T_a57d7412_3400_11e9_84ba_54ee75e0f62drow49_col3\" class=\"data row49 col3\" ><a target=\"_blank\" href=\"https://github.com/jupyterhub/mybinder.org-deploy/issues/210\">https://github.com/jupyterhub/mybinder.org-deploy/issues/210</a></td>\n",
       "            </tr>\n",
       "            <tr>\n",
       "                                <td id=\"T_a57d7412_3400_11e9_84ba_54ee75e0f62drow50_col0\" class=\"data row50 col0\" >yuvipanda</td>\n",
       "                        <td id=\"T_a57d7412_3400_11e9_84ba_54ee75e0f62drow50_col1\" class=\"data row50 col1\" >MEMBER</td>\n",
       "                        <td id=\"T_a57d7412_3400_11e9_84ba_54ee75e0f62drow50_col2\" class=\"data row50 col2\" >4</td>\n",
       "                        <td id=\"T_a57d7412_3400_11e9_84ba_54ee75e0f62drow50_col3\" class=\"data row50 col3\" ><a target=\"_blank\" href=\"https://github.com/jupyterhub/mybinder.org-deploy/issues/19\">https://github.com/jupyterhub/mybinder.org-deploy/issues/19</a></td>\n",
       "            </tr>\n",
       "            <tr>\n",
       "                                <td id=\"T_a57d7412_3400_11e9_84ba_54ee75e0f62drow51_col0\" class=\"data row51 col0\" >minrk</td>\n",
       "                        <td id=\"T_a57d7412_3400_11e9_84ba_54ee75e0f62drow51_col1\" class=\"data row51 col1\" >MEMBER</td>\n",
       "                        <td id=\"T_a57d7412_3400_11e9_84ba_54ee75e0f62drow51_col2\" class=\"data row51 col2\" >4</td>\n",
       "                        <td id=\"T_a57d7412_3400_11e9_84ba_54ee75e0f62drow51_col3\" class=\"data row51 col3\" ><a target=\"_blank\" href=\"https://github.com/jupyterhub/mybinder.org-deploy/issues/493\">https://github.com/jupyterhub/mybinder.org-deploy/issues/493</a></td>\n",
       "            </tr>\n",
       "            <tr>\n",
       "                                <td id=\"T_a57d7412_3400_11e9_84ba_54ee75e0f62drow52_col0\" class=\"data row52 col0\" >jhamman</td>\n",
       "                        <td id=\"T_a57d7412_3400_11e9_84ba_54ee75e0f62drow52_col1\" class=\"data row52 col1\" >NONE</td>\n",
       "                        <td id=\"T_a57d7412_3400_11e9_84ba_54ee75e0f62drow52_col2\" class=\"data row52 col2\" >4</td>\n",
       "                        <td id=\"T_a57d7412_3400_11e9_84ba_54ee75e0f62drow52_col3\" class=\"data row52 col3\" ><a target=\"_blank\" href=\"https://github.com/jupyterhub/mybinder.org-deploy/issues/726\">https://github.com/jupyterhub/mybinder.org-deploy/issues/726</a></td>\n",
       "            </tr>\n",
       "            <tr>\n",
       "                                <td id=\"T_a57d7412_3400_11e9_84ba_54ee75e0f62drow53_col0\" class=\"data row53 col0\" >betatim</td>\n",
       "                        <td id=\"T_a57d7412_3400_11e9_84ba_54ee75e0f62drow53_col1\" class=\"data row53 col1\" >MEMBER</td>\n",
       "                        <td id=\"T_a57d7412_3400_11e9_84ba_54ee75e0f62drow53_col2\" class=\"data row53 col2\" >4</td>\n",
       "                        <td id=\"T_a57d7412_3400_11e9_84ba_54ee75e0f62drow53_col3\" class=\"data row53 col3\" ><a target=\"_blank\" href=\"https://github.com/jupyterhub/mybinder.org-deploy/issues/840\">https://github.com/jupyterhub/mybinder.org-deploy/issues/840</a></td>\n",
       "            </tr>\n",
       "            <tr>\n",
       "                                <td id=\"T_a57d7412_3400_11e9_84ba_54ee75e0f62drow54_col0\" class=\"data row54 col0\" >yuvipanda</td>\n",
       "                        <td id=\"T_a57d7412_3400_11e9_84ba_54ee75e0f62drow54_col1\" class=\"data row54 col1\" >MEMBER</td>\n",
       "                        <td id=\"T_a57d7412_3400_11e9_84ba_54ee75e0f62drow54_col2\" class=\"data row54 col2\" >4</td>\n",
       "                        <td id=\"T_a57d7412_3400_11e9_84ba_54ee75e0f62drow54_col3\" class=\"data row54 col3\" ><a target=\"_blank\" href=\"https://github.com/jupyterhub/mybinder.org-deploy/issues/824\">https://github.com/jupyterhub/mybinder.org-deploy/issues/824</a></td>\n",
       "            </tr>\n",
       "            <tr>\n",
       "                                <td id=\"T_a57d7412_3400_11e9_84ba_54ee75e0f62drow55_col0\" class=\"data row55 col0\" >yuvipanda</td>\n",
       "                        <td id=\"T_a57d7412_3400_11e9_84ba_54ee75e0f62drow55_col1\" class=\"data row55 col1\" >MEMBER</td>\n",
       "                        <td id=\"T_a57d7412_3400_11e9_84ba_54ee75e0f62drow55_col2\" class=\"data row55 col2\" >5</td>\n",
       "                        <td id=\"T_a57d7412_3400_11e9_84ba_54ee75e0f62drow55_col3\" class=\"data row55 col3\" ><a target=\"_blank\" href=\"https://github.com/jupyterhub/mybinder.org-deploy/issues/36\">https://github.com/jupyterhub/mybinder.org-deploy/issues/36</a></td>\n",
       "            </tr>\n",
       "            <tr>\n",
       "                                <td id=\"T_a57d7412_3400_11e9_84ba_54ee75e0f62drow56_col0\" class=\"data row56 col0\" >yuvipanda</td>\n",
       "                        <td id=\"T_a57d7412_3400_11e9_84ba_54ee75e0f62drow56_col1\" class=\"data row56 col1\" >MEMBER</td>\n",
       "                        <td id=\"T_a57d7412_3400_11e9_84ba_54ee75e0f62drow56_col2\" class=\"data row56 col2\" >5</td>\n",
       "                        <td id=\"T_a57d7412_3400_11e9_84ba_54ee75e0f62drow56_col3\" class=\"data row56 col3\" ><a target=\"_blank\" href=\"https://github.com/jupyterhub/mybinder.org-deploy/issues/725\">https://github.com/jupyterhub/mybinder.org-deploy/issues/725</a></td>\n",
       "            </tr>\n",
       "            <tr>\n",
       "                                <td id=\"T_a57d7412_3400_11e9_84ba_54ee75e0f62drow57_col0\" class=\"data row57 col0\" >choldgraf</td>\n",
       "                        <td id=\"T_a57d7412_3400_11e9_84ba_54ee75e0f62drow57_col1\" class=\"data row57 col1\" >MEMBER</td>\n",
       "                        <td id=\"T_a57d7412_3400_11e9_84ba_54ee75e0f62drow57_col2\" class=\"data row57 col2\" >5</td>\n",
       "                        <td id=\"T_a57d7412_3400_11e9_84ba_54ee75e0f62drow57_col3\" class=\"data row57 col3\" ><a target=\"_blank\" href=\"https://github.com/jupyterhub/mybinder.org-deploy/issues/427\">https://github.com/jupyterhub/mybinder.org-deploy/issues/427</a></td>\n",
       "            </tr>\n",
       "            <tr>\n",
       "                                <td id=\"T_a57d7412_3400_11e9_84ba_54ee75e0f62drow58_col0\" class=\"data row58 col0\" >betatim</td>\n",
       "                        <td id=\"T_a57d7412_3400_11e9_84ba_54ee75e0f62drow58_col1\" class=\"data row58 col1\" >MEMBER</td>\n",
       "                        <td id=\"T_a57d7412_3400_11e9_84ba_54ee75e0f62drow58_col2\" class=\"data row58 col2\" >5</td>\n",
       "                        <td id=\"T_a57d7412_3400_11e9_84ba_54ee75e0f62drow58_col3\" class=\"data row58 col3\" ><a target=\"_blank\" href=\"https://github.com/jupyterhub/mybinder.org-deploy/issues/312\">https://github.com/jupyterhub/mybinder.org-deploy/issues/312</a></td>\n",
       "            </tr>\n",
       "            <tr>\n",
       "                                <td id=\"T_a57d7412_3400_11e9_84ba_54ee75e0f62drow59_col0\" class=\"data row59 col0\" >MatthiasGuenter</td>\n",
       "                        <td id=\"T_a57d7412_3400_11e9_84ba_54ee75e0f62drow59_col1\" class=\"data row59 col1\" >NONE</td>\n",
       "                        <td id=\"T_a57d7412_3400_11e9_84ba_54ee75e0f62drow59_col2\" class=\"data row59 col2\" >5</td>\n",
       "                        <td id=\"T_a57d7412_3400_11e9_84ba_54ee75e0f62drow59_col3\" class=\"data row59 col3\" ><a target=\"_blank\" href=\"https://github.com/jupyterhub/mybinder.org-deploy/issues/694\">https://github.com/jupyterhub/mybinder.org-deploy/issues/694</a></td>\n",
       "            </tr>\n",
       "            <tr>\n",
       "                                <td id=\"T_a57d7412_3400_11e9_84ba_54ee75e0f62drow60_col0\" class=\"data row60 col0\" >betatim</td>\n",
       "                        <td id=\"T_a57d7412_3400_11e9_84ba_54ee75e0f62drow60_col1\" class=\"data row60 col1\" >MEMBER</td>\n",
       "                        <td id=\"T_a57d7412_3400_11e9_84ba_54ee75e0f62drow60_col2\" class=\"data row60 col2\" >5</td>\n",
       "                        <td id=\"T_a57d7412_3400_11e9_84ba_54ee75e0f62drow60_col3\" class=\"data row60 col3\" ><a target=\"_blank\" href=\"https://github.com/jupyterhub/mybinder.org-deploy/issues/628\">https://github.com/jupyterhub/mybinder.org-deploy/issues/628</a></td>\n",
       "            </tr>\n",
       "            <tr>\n",
       "                                <td id=\"T_a57d7412_3400_11e9_84ba_54ee75e0f62drow61_col0\" class=\"data row61 col0\" >choldgraf</td>\n",
       "                        <td id=\"T_a57d7412_3400_11e9_84ba_54ee75e0f62drow61_col1\" class=\"data row61 col1\" >MEMBER</td>\n",
       "                        <td id=\"T_a57d7412_3400_11e9_84ba_54ee75e0f62drow61_col2\" class=\"data row61 col2\" >5</td>\n",
       "                        <td id=\"T_a57d7412_3400_11e9_84ba_54ee75e0f62drow61_col3\" class=\"data row61 col3\" ><a target=\"_blank\" href=\"https://github.com/jupyterhub/mybinder.org-deploy/issues/611\">https://github.com/jupyterhub/mybinder.org-deploy/issues/611</a></td>\n",
       "            </tr>\n",
       "            <tr>\n",
       "                                <td id=\"T_a57d7412_3400_11e9_84ba_54ee75e0f62drow62_col0\" class=\"data row62 col0\" >choldgraf</td>\n",
       "                        <td id=\"T_a57d7412_3400_11e9_84ba_54ee75e0f62drow62_col1\" class=\"data row62 col1\" >MEMBER</td>\n",
       "                        <td id=\"T_a57d7412_3400_11e9_84ba_54ee75e0f62drow62_col2\" class=\"data row62 col2\" >5</td>\n",
       "                        <td id=\"T_a57d7412_3400_11e9_84ba_54ee75e0f62drow62_col3\" class=\"data row62 col3\" ><a target=\"_blank\" href=\"https://github.com/jupyterhub/mybinder.org-deploy/issues/553\">https://github.com/jupyterhub/mybinder.org-deploy/issues/553</a></td>\n",
       "            </tr>\n",
       "            <tr>\n",
       "                                <td id=\"T_a57d7412_3400_11e9_84ba_54ee75e0f62drow63_col0\" class=\"data row63 col0\" >choldgraf</td>\n",
       "                        <td id=\"T_a57d7412_3400_11e9_84ba_54ee75e0f62drow63_col1\" class=\"data row63 col1\" >MEMBER</td>\n",
       "                        <td id=\"T_a57d7412_3400_11e9_84ba_54ee75e0f62drow63_col2\" class=\"data row63 col2\" >6</td>\n",
       "                        <td id=\"T_a57d7412_3400_11e9_84ba_54ee75e0f62drow63_col3\" class=\"data row63 col3\" ><a target=\"_blank\" href=\"https://github.com/jupyterhub/mybinder.org-deploy/issues/358\">https://github.com/jupyterhub/mybinder.org-deploy/issues/358</a></td>\n",
       "            </tr>\n",
       "            <tr>\n",
       "                                <td id=\"T_a57d7412_3400_11e9_84ba_54ee75e0f62drow64_col0\" class=\"data row64 col0\" >betatim</td>\n",
       "                        <td id=\"T_a57d7412_3400_11e9_84ba_54ee75e0f62drow64_col1\" class=\"data row64 col1\" >MEMBER</td>\n",
       "                        <td id=\"T_a57d7412_3400_11e9_84ba_54ee75e0f62drow64_col2\" class=\"data row64 col2\" >6</td>\n",
       "                        <td id=\"T_a57d7412_3400_11e9_84ba_54ee75e0f62drow64_col3\" class=\"data row64 col3\" ><a target=\"_blank\" href=\"https://github.com/jupyterhub/mybinder.org-deploy/issues/643\">https://github.com/jupyterhub/mybinder.org-deploy/issues/643</a></td>\n",
       "            </tr>\n",
       "            <tr>\n",
       "                                <td id=\"T_a57d7412_3400_11e9_84ba_54ee75e0f62drow65_col0\" class=\"data row65 col0\" >minrk</td>\n",
       "                        <td id=\"T_a57d7412_3400_11e9_84ba_54ee75e0f62drow65_col1\" class=\"data row65 col1\" >MEMBER</td>\n",
       "                        <td id=\"T_a57d7412_3400_11e9_84ba_54ee75e0f62drow65_col2\" class=\"data row65 col2\" >7</td>\n",
       "                        <td id=\"T_a57d7412_3400_11e9_84ba_54ee75e0f62drow65_col3\" class=\"data row65 col3\" ><a target=\"_blank\" href=\"https://github.com/jupyterhub/mybinder.org-deploy/pull/398\">https://github.com/jupyterhub/mybinder.org-deploy/pull/398</a></td>\n",
       "            </tr>\n",
       "            <tr>\n",
       "                                <td id=\"T_a57d7412_3400_11e9_84ba_54ee75e0f62drow66_col0\" class=\"data row66 col0\" >choldgraf</td>\n",
       "                        <td id=\"T_a57d7412_3400_11e9_84ba_54ee75e0f62drow66_col1\" class=\"data row66 col1\" >MEMBER</td>\n",
       "                        <td id=\"T_a57d7412_3400_11e9_84ba_54ee75e0f62drow66_col2\" class=\"data row66 col2\" >7</td>\n",
       "                        <td id=\"T_a57d7412_3400_11e9_84ba_54ee75e0f62drow66_col3\" class=\"data row66 col3\" ><a target=\"_blank\" href=\"https://github.com/jupyterhub/mybinder.org-deploy/issues/761\">https://github.com/jupyterhub/mybinder.org-deploy/issues/761</a></td>\n",
       "            </tr>\n",
       "            <tr>\n",
       "                                <td id=\"T_a57d7412_3400_11e9_84ba_54ee75e0f62drow67_col0\" class=\"data row67 col0\" >willingc</td>\n",
       "                        <td id=\"T_a57d7412_3400_11e9_84ba_54ee75e0f62drow67_col1\" class=\"data row67 col1\" >MEMBER</td>\n",
       "                        <td id=\"T_a57d7412_3400_11e9_84ba_54ee75e0f62drow67_col2\" class=\"data row67 col2\" >8</td>\n",
       "                        <td id=\"T_a57d7412_3400_11e9_84ba_54ee75e0f62drow67_col3\" class=\"data row67 col3\" ><a target=\"_blank\" href=\"https://github.com/jupyterhub/mybinder.org-deploy/issues/278\">https://github.com/jupyterhub/mybinder.org-deploy/issues/278</a></td>\n",
       "            </tr>\n",
       "            <tr>\n",
       "                                <td id=\"T_a57d7412_3400_11e9_84ba_54ee75e0f62drow68_col0\" class=\"data row68 col0\" >yuvipanda</td>\n",
       "                        <td id=\"T_a57d7412_3400_11e9_84ba_54ee75e0f62drow68_col1\" class=\"data row68 col1\" >MEMBER</td>\n",
       "                        <td id=\"T_a57d7412_3400_11e9_84ba_54ee75e0f62drow68_col2\" class=\"data row68 col2\" >8</td>\n",
       "                        <td id=\"T_a57d7412_3400_11e9_84ba_54ee75e0f62drow68_col3\" class=\"data row68 col3\" ><a target=\"_blank\" href=\"https://github.com/jupyterhub/mybinder.org-deploy/issues/225\">https://github.com/jupyterhub/mybinder.org-deploy/issues/225</a></td>\n",
       "            </tr>\n",
       "            <tr>\n",
       "                                <td id=\"T_a57d7412_3400_11e9_84ba_54ee75e0f62drow69_col0\" class=\"data row69 col0\" >yuvipanda</td>\n",
       "                        <td id=\"T_a57d7412_3400_11e9_84ba_54ee75e0f62drow69_col1\" class=\"data row69 col1\" >MEMBER</td>\n",
       "                        <td id=\"T_a57d7412_3400_11e9_84ba_54ee75e0f62drow69_col2\" class=\"data row69 col2\" >8</td>\n",
       "                        <td id=\"T_a57d7412_3400_11e9_84ba_54ee75e0f62drow69_col3\" class=\"data row69 col3\" ><a target=\"_blank\" href=\"https://github.com/jupyterhub/mybinder.org-deploy/issues/97\">https://github.com/jupyterhub/mybinder.org-deploy/issues/97</a></td>\n",
       "            </tr>\n",
       "            <tr>\n",
       "                                <td id=\"T_a57d7412_3400_11e9_84ba_54ee75e0f62drow70_col0\" class=\"data row70 col0\" >yuvipanda</td>\n",
       "                        <td id=\"T_a57d7412_3400_11e9_84ba_54ee75e0f62drow70_col1\" class=\"data row70 col1\" >MEMBER</td>\n",
       "                        <td id=\"T_a57d7412_3400_11e9_84ba_54ee75e0f62drow70_col2\" class=\"data row70 col2\" >8</td>\n",
       "                        <td id=\"T_a57d7412_3400_11e9_84ba_54ee75e0f62drow70_col3\" class=\"data row70 col3\" ><a target=\"_blank\" href=\"https://github.com/jupyterhub/mybinder.org-deploy/issues/135\">https://github.com/jupyterhub/mybinder.org-deploy/issues/135</a></td>\n",
       "            </tr>\n",
       "            <tr>\n",
       "                                <td id=\"T_a57d7412_3400_11e9_84ba_54ee75e0f62drow71_col0\" class=\"data row71 col0\" >yuvipanda</td>\n",
       "                        <td id=\"T_a57d7412_3400_11e9_84ba_54ee75e0f62drow71_col1\" class=\"data row71 col1\" >MEMBER</td>\n",
       "                        <td id=\"T_a57d7412_3400_11e9_84ba_54ee75e0f62drow71_col2\" class=\"data row71 col2\" >9</td>\n",
       "                        <td id=\"T_a57d7412_3400_11e9_84ba_54ee75e0f62drow71_col3\" class=\"data row71 col3\" ><a target=\"_blank\" href=\"https://github.com/jupyterhub/mybinder.org-deploy/issues/299\">https://github.com/jupyterhub/mybinder.org-deploy/issues/299</a></td>\n",
       "            </tr>\n",
       "            <tr>\n",
       "                                <td id=\"T_a57d7412_3400_11e9_84ba_54ee75e0f62drow72_col0\" class=\"data row72 col0\" >choldgraf</td>\n",
       "                        <td id=\"T_a57d7412_3400_11e9_84ba_54ee75e0f62drow72_col1\" class=\"data row72 col1\" >MEMBER</td>\n",
       "                        <td id=\"T_a57d7412_3400_11e9_84ba_54ee75e0f62drow72_col2\" class=\"data row72 col2\" >10</td>\n",
       "                        <td id=\"T_a57d7412_3400_11e9_84ba_54ee75e0f62drow72_col3\" class=\"data row72 col3\" ><a target=\"_blank\" href=\"https://github.com/jupyterhub/mybinder.org-deploy/issues/298\">https://github.com/jupyterhub/mybinder.org-deploy/issues/298</a></td>\n",
       "            </tr>\n",
       "            <tr>\n",
       "                                <td id=\"T_a57d7412_3400_11e9_84ba_54ee75e0f62drow73_col0\" class=\"data row73 col0\" >betatim</td>\n",
       "                        <td id=\"T_a57d7412_3400_11e9_84ba_54ee75e0f62drow73_col1\" class=\"data row73 col1\" >MEMBER</td>\n",
       "                        <td id=\"T_a57d7412_3400_11e9_84ba_54ee75e0f62drow73_col2\" class=\"data row73 col2\" >10</td>\n",
       "                        <td id=\"T_a57d7412_3400_11e9_84ba_54ee75e0f62drow73_col3\" class=\"data row73 col3\" ><a target=\"_blank\" href=\"https://github.com/jupyterhub/mybinder.org-deploy/pull/425\">https://github.com/jupyterhub/mybinder.org-deploy/pull/425</a></td>\n",
       "            </tr>\n",
       "            <tr>\n",
       "                                <td id=\"T_a57d7412_3400_11e9_84ba_54ee75e0f62drow74_col0\" class=\"data row74 col0\" >yuvipanda</td>\n",
       "                        <td id=\"T_a57d7412_3400_11e9_84ba_54ee75e0f62drow74_col1\" class=\"data row74 col1\" >MEMBER</td>\n",
       "                        <td id=\"T_a57d7412_3400_11e9_84ba_54ee75e0f62drow74_col2\" class=\"data row74 col2\" >11</td>\n",
       "                        <td id=\"T_a57d7412_3400_11e9_84ba_54ee75e0f62drow74_col3\" class=\"data row74 col3\" ><a target=\"_blank\" href=\"https://github.com/jupyterhub/mybinder.org-deploy/issues/825\">https://github.com/jupyterhub/mybinder.org-deploy/issues/825</a></td>\n",
       "            </tr>\n",
       "            <tr>\n",
       "                                <td id=\"T_a57d7412_3400_11e9_84ba_54ee75e0f62drow75_col0\" class=\"data row75 col0\" >choldgraf</td>\n",
       "                        <td id=\"T_a57d7412_3400_11e9_84ba_54ee75e0f62drow75_col1\" class=\"data row75 col1\" >MEMBER</td>\n",
       "                        <td id=\"T_a57d7412_3400_11e9_84ba_54ee75e0f62drow75_col2\" class=\"data row75 col2\" >11</td>\n",
       "                        <td id=\"T_a57d7412_3400_11e9_84ba_54ee75e0f62drow75_col3\" class=\"data row75 col3\" ><a target=\"_blank\" href=\"https://github.com/jupyterhub/mybinder.org-deploy/issues/365\">https://github.com/jupyterhub/mybinder.org-deploy/issues/365</a></td>\n",
       "            </tr>\n",
       "            <tr>\n",
       "                                <td id=\"T_a57d7412_3400_11e9_84ba_54ee75e0f62drow76_col0\" class=\"data row76 col0\" >willingc</td>\n",
       "                        <td id=\"T_a57d7412_3400_11e9_84ba_54ee75e0f62drow76_col1\" class=\"data row76 col1\" >MEMBER</td>\n",
       "                        <td id=\"T_a57d7412_3400_11e9_84ba_54ee75e0f62drow76_col2\" class=\"data row76 col2\" >11</td>\n",
       "                        <td id=\"T_a57d7412_3400_11e9_84ba_54ee75e0f62drow76_col3\" class=\"data row76 col3\" ><a target=\"_blank\" href=\"https://github.com/jupyterhub/mybinder.org-deploy/issues/598\">https://github.com/jupyterhub/mybinder.org-deploy/issues/598</a></td>\n",
       "            </tr>\n",
       "            <tr>\n",
       "                                <td id=\"T_a57d7412_3400_11e9_84ba_54ee75e0f62drow77_col0\" class=\"data row77 col0\" >yuvipanda</td>\n",
       "                        <td id=\"T_a57d7412_3400_11e9_84ba_54ee75e0f62drow77_col1\" class=\"data row77 col1\" >MEMBER</td>\n",
       "                        <td id=\"T_a57d7412_3400_11e9_84ba_54ee75e0f62drow77_col2\" class=\"data row77 col2\" >12</td>\n",
       "                        <td id=\"T_a57d7412_3400_11e9_84ba_54ee75e0f62drow77_col3\" class=\"data row77 col3\" ><a target=\"_blank\" href=\"https://github.com/jupyterhub/mybinder.org-deploy/issues/474\">https://github.com/jupyterhub/mybinder.org-deploy/issues/474</a></td>\n",
       "            </tr>\n",
       "            <tr>\n",
       "                                <td id=\"T_a57d7412_3400_11e9_84ba_54ee75e0f62drow78_col0\" class=\"data row78 col0\" >minrk</td>\n",
       "                        <td id=\"T_a57d7412_3400_11e9_84ba_54ee75e0f62drow78_col1\" class=\"data row78 col1\" >MEMBER</td>\n",
       "                        <td id=\"T_a57d7412_3400_11e9_84ba_54ee75e0f62drow78_col2\" class=\"data row78 col2\" >13</td>\n",
       "                        <td id=\"T_a57d7412_3400_11e9_84ba_54ee75e0f62drow78_col3\" class=\"data row78 col3\" ><a target=\"_blank\" href=\"https://github.com/jupyterhub/mybinder.org-deploy/issues/644\">https://github.com/jupyterhub/mybinder.org-deploy/issues/644</a></td>\n",
       "            </tr>\n",
       "            <tr>\n",
       "                                <td id=\"T_a57d7412_3400_11e9_84ba_54ee75e0f62drow79_col0\" class=\"data row79 col0\" >yuvipanda</td>\n",
       "                        <td id=\"T_a57d7412_3400_11e9_84ba_54ee75e0f62drow79_col1\" class=\"data row79 col1\" >MEMBER</td>\n",
       "                        <td id=\"T_a57d7412_3400_11e9_84ba_54ee75e0f62drow79_col2\" class=\"data row79 col2\" >15</td>\n",
       "                        <td id=\"T_a57d7412_3400_11e9_84ba_54ee75e0f62drow79_col3\" class=\"data row79 col3\" ><a target=\"_blank\" href=\"https://github.com/jupyterhub/mybinder.org-deploy/issues/789\">https://github.com/jupyterhub/mybinder.org-deploy/issues/789</a></td>\n",
       "            </tr>\n",
       "    </tbody></table>"
      ],
      "text/plain": [
       "<pandas.io.formats.style.Styler at 0x7f5a1ff4e588>"
      ]
     },
     "execution_count": 20,
     "metadata": {},
     "output_type": "execute_result"
    }
   ],
   "source": [
    "stale_issues[['user', 'author_association', 'comments', 'html_url']]\\\n",
    "    .sort_values(['comments']).style.applymap(highlight_rows).format({'html_url': make_clickable}).hide_index()"
   ]
  }
 ],
 "metadata": {
  "kernelspec": {
   "display_name": "Python 3",
   "language": "python",
   "name": "python3"
  },
  "language_info": {
   "codemirror_mode": {
    "name": "ipython",
    "version": 3
   },
   "file_extension": ".py",
   "mimetype": "text/x-python",
   "name": "python",
   "nbconvert_exporter": "python",
   "pygments_lexer": "ipython3",
   "version": "3.6.5"
  },
  "papermill": {
   "duration": 5.489366,
   "end_time": "2019-02-19T04:41:40.047231",
   "environment_variables": {},
   "exception": null,
   "input_path": "./templates/issues.ipynb",
   "output_path": "../reports/2019-01-19/jupyterhub/mybinder.org-deploy/issues.ipynb",
   "parameters": {
    "date": "2019-01-19",
    "org": "jupyterhub",
    "repo": "mybinder.org-deploy"
   },
   "start_time": "2019-02-19T04:41:34.557865",
   "version": "0.18.0"
  }
 },
 "nbformat": 4,
 "nbformat_minor": 2
}