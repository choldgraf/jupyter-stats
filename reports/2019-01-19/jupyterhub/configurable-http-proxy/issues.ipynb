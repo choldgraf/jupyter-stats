{
 "cells": [
  {
   "cell_type": "code",
   "execution_count": 1,
   "metadata": {
    "jupyter": {
     "source_hidden": true
    },
    "papermill": {
     "duration": 0.617506,
     "end_time": "2019-02-19T04:41:47.759268",
     "exception": false,
     "start_time": "2019-02-19T04:41:47.141762",
     "status": "completed"
    },
    "tags": []
   },
   "outputs": [],
   "source": [
    "import pandas as pd\n",
    "from datetime import timedelta\n",
    "from IPython.display import HTML, display"
   ]
  },
  {
   "cell_type": "code",
   "execution_count": 2,
   "metadata": {
    "jupyter": {
     "source_hidden": true
    },
    "papermill": {
     "duration": 0.031791,
     "end_time": "2019-02-19T04:41:47.816426",
     "exception": false,
     "start_time": "2019-02-19T04:41:47.784635",
     "status": "completed"
    },
    "tags": [
     "parameters"
    ]
   },
   "outputs": [],
   "source": [
    "date = pd.datetime.today() - timedelta(days=30)\n",
    "org = 'jupyterhub'\n",
    "repo = 'zero-to-jupyterhub-k8s'"
   ]
  },
  {
   "cell_type": "code",
   "execution_count": 3,
   "metadata": {
    "jupyter": {
     "source_hidden": true
    },
    "papermill": {
     "duration": 0.031326,
     "end_time": "2019-02-19T04:41:47.875106",
     "exception": false,
     "start_time": "2019-02-19T04:41:47.843780",
     "status": "completed"
    },
    "tags": [
     "injected-parameters"
    ]
   },
   "outputs": [],
   "source": [
    "# Parameters\n",
    "org = \"jupyterhub\"\n",
    "repo = \"configurable-http-proxy\"\n",
    "date = \"2019-01-19\"\n"
   ]
  },
  {
   "cell_type": "code",
   "execution_count": 4,
   "metadata": {
    "jupyter": {
     "source_hidden": true
    },
    "papermill": {
     "duration": 0.033271,
     "end_time": "2019-02-19T04:41:47.931824",
     "exception": false,
     "start_time": "2019-02-19T04:41:47.898553",
     "status": "completed"
    },
    "tags": []
   },
   "outputs": [],
   "source": [
    "# Definition of a stale issue/PR (how many days since last updated)\n",
    "date = pd.to_datetime(date)\n",
    "stale_days = 30\n",
    "date_stale = date - timedelta(days=stale_days)"
   ]
  },
  {
   "cell_type": "markdown",
   "metadata": {
    "papermill": {
     "duration": 0.037823,
     "end_time": "2019-02-19T04:41:47.996107",
     "exception": false,
     "start_time": "2019-02-19T04:41:47.958284",
     "status": "completed"
    },
    "tags": []
   },
   "source": [
    "# Opened and Closed Issues and PRs\n",
    "\n",
    "This report shows opened and closed issues / PRs over the last 30 days, with a\n",
    "particular focus on items that haven't had a lot of discussion, or that have\n",
    "been opened by people who aren't team-members. The goal of this page is to make\n",
    "it easier to spot places where some input would be appreciated!"
   ]
  },
  {
   "cell_type": "markdown",
   "metadata": {
    "papermill": {
     "duration": 0.042498,
     "end_time": "2019-02-19T04:41:48.109302",
     "exception": false,
     "start_time": "2019-02-19T04:41:48.066804",
     "status": "completed"
    },
    "tags": []
   },
   "source": [
    "# Imports"
   ]
  },
  {
   "cell_type": "code",
   "execution_count": 5,
   "metadata": {
    "jupyter": {
     "source_hidden": true
    },
    "papermill": {
     "duration": 0.277417,
     "end_time": "2019-02-19T04:41:48.430943",
     "exception": false,
     "start_time": "2019-02-19T04:41:48.153526",
     "status": "completed"
    },
    "tags": []
   },
   "outputs": [],
   "source": [
    "import pandas as pd\n",
    "from subprocess import run, PIPE\n",
    "from watchtower import issues_\n",
    "from glob import glob\n",
    "import os.path as op\n",
    "import shutil as sh\n",
    "import sys\n",
    "sys.path.append('../../scripts/')"
   ]
  },
  {
   "cell_type": "markdown",
   "metadata": {
    "papermill": {
     "duration": 0.029011,
     "end_time": "2019-02-19T04:41:48.486865",
     "exception": false,
     "start_time": "2019-02-19T04:41:48.457854",
     "status": "completed"
    },
    "tags": []
   },
   "source": [
    "## styling functions"
   ]
  },
  {
   "cell_type": "code",
   "execution_count": 6,
   "metadata": {
    "jupyter": {
     "source_hidden": true
    },
    "papermill": {
     "duration": 0.032869,
     "end_time": "2019-02-19T04:41:48.540912",
     "exception": false,
     "start_time": "2019-02-19T04:41:48.508043",
     "status": "completed"
    },
    "tags": []
   },
   "outputs": [],
   "source": [
    "def highlight_rows(val):\n",
    "    \"\"\"Highlights cells pertaining to non-members and w/ no comments\"\"\"\n",
    "    disp = ''\n",
    "    if val == 0 or val == \"NONE\":\n",
    "        disp += 'background-color: #f7b7b7'\n",
    "    elif val == \"FIRST_TIME_CONTRIBUTOR\":\n",
    "        disp += 'background-color: red'\n",
    "    return disp\n",
    "\n",
    "def make_clickable(val):\n",
    "    # target _blank to open new window\n",
    "    return '<a target=\"_blank\" href=\"{}\">{}</a>'.format(val, val)\n",
    "\n",
    "def print_html(msg):\n",
    "    display(HTML('<h2 style=\"padding-left: 1em;\">{}</h2>'.format(msg)))\n",
    "    \n",
    "pd.options.display.max_colwidth = 200"
   ]
  },
  {
   "cell_type": "markdown",
   "metadata": {
    "papermill": {
     "duration": 0.029064,
     "end_time": "2019-02-19T04:41:48.592760",
     "exception": false,
     "start_time": "2019-02-19T04:41:48.563696",
     "status": "completed"
    },
    "tags": []
   },
   "source": [
    "## Load data"
   ]
  },
  {
   "cell_type": "code",
   "execution_count": 7,
   "metadata": {
    "jupyter": {
     "source_hidden": true
    },
    "papermill": {
     "duration": 0.078339,
     "end_time": "2019-02-19T04:41:48.693358",
     "exception": false,
     "start_time": "2019-02-19T04:41:48.615019",
     "status": "completed"
    },
    "tags": []
   },
   "outputs": [],
   "source": [
    "# Issues\n",
    "issues = issues_.load_issues(org, repo)\n",
    "issues['user'] = issues['user'].map(lambda a: a['login'])"
   ]
  },
  {
   "cell_type": "markdown",
   "metadata": {
    "papermill": {
     "duration": 0.027435,
     "end_time": "2019-02-19T04:41:48.742215",
     "exception": false,
     "start_time": "2019-02-19T04:41:48.714780",
     "status": "completed"
    },
    "tags": []
   },
   "source": [
    "# New activity"
   ]
  },
  {
   "cell_type": "markdown",
   "metadata": {
    "papermill": {
     "duration": 0.023185,
     "end_time": "2019-02-19T04:41:48.788732",
     "exception": false,
     "start_time": "2019-02-19T04:41:48.765547",
     "status": "completed"
    },
    "tags": []
   },
   "source": [
    "## Opened issues\n",
    "\n",
    "without responses in red"
   ]
  },
  {
   "cell_type": "code",
   "execution_count": 8,
   "metadata": {
    "jupyter": {
     "source_hidden": true
    },
    "papermill": {
     "duration": 0.046127,
     "end_time": "2019-02-19T04:41:48.856351",
     "exception": false,
     "start_time": "2019-02-19T04:41:48.810224",
     "status": "completed"
    },
    "tags": []
   },
   "outputs": [],
   "source": [
    "opened = issues.query('created_at > @date')\n",
    "opened_issues = opened[opened['pull_request'].isna()]\n",
    "opened_issues['closed'] = ~pd.isnull(opened_issues['closed_at'])"
   ]
  },
  {
   "cell_type": "code",
   "execution_count": 9,
   "metadata": {
    "jupyter": {
     "source_hidden": true
    },
    "papermill": {
     "duration": 0.058367,
     "end_time": "2019-02-19T04:41:48.937845",
     "exception": false,
     "start_time": "2019-02-19T04:41:48.879478",
     "status": "completed"
    },
    "tags": []
   },
   "outputs": [
    {
     "data": {
      "text/html": [
       "<h2 style=\"padding-left: 1em;\">Opened issues: 0</h2>"
      ],
      "text/plain": [
       "<IPython.core.display.HTML object>"
      ]
     },
     "metadata": {},
     "output_type": "display_data"
    }
   ],
   "source": [
    "print_html('Opened issues: {}'.format(len(opened_issues)))"
   ]
  },
  {
   "cell_type": "code",
   "execution_count": 10,
   "metadata": {
    "jupyter": {
     "source_hidden": true
    },
    "papermill": {
     "duration": 0.894227,
     "end_time": "2019-02-19T04:41:49.865029",
     "exception": false,
     "start_time": "2019-02-19T04:41:48.970802",
     "status": "completed"
    },
    "tags": []
   },
   "outputs": [
    {
     "data": {
      "text/html": [
       "<style  type=\"text/css\" >\n",
       "</style><table id=\"T_abce5e94_3400_11e9_93e2_54ee75e0f62d\" ><thead>    <tr>        <th class=\"col_heading level0 col0\" >user</th>        <th class=\"col_heading level0 col1\" >author_association</th>        <th class=\"col_heading level0 col2\" >comments</th>        <th class=\"col_heading level0 col3\" >closed</th>        <th class=\"col_heading level0 col4\" >html_url</th>    </tr></thead><tbody>\n",
       "        </tbody></table>"
      ],
      "text/plain": [
       "<pandas.io.formats.style.Styler at 0x7f06a4c23e48>"
      ]
     },
     "execution_count": 10,
     "metadata": {},
     "output_type": "execute_result"
    }
   ],
   "source": [
    "opened_issues[['user', 'author_association', 'comments', 'closed', 'html_url']]\\\n",
    "    .sort_values(['closed', 'comments']).style.applymap(highlight_rows).format({'html_url': make_clickable}).hide_index()"
   ]
  },
  {
   "cell_type": "markdown",
   "metadata": {
    "papermill": {
     "duration": 0.028589,
     "end_time": "2019-02-19T04:41:49.920305",
     "exception": false,
     "start_time": "2019-02-19T04:41:49.891716",
     "status": "completed"
    },
    "tags": []
   },
   "source": [
    "## Closed issues\n"
   ]
  },
  {
   "cell_type": "code",
   "execution_count": 11,
   "metadata": {
    "jupyter": {
     "source_hidden": true
    },
    "papermill": {
     "duration": 0.044661,
     "end_time": "2019-02-19T04:41:49.987843",
     "exception": false,
     "start_time": "2019-02-19T04:41:49.943182",
     "status": "completed"
    },
    "tags": []
   },
   "outputs": [],
   "source": [
    "closed = issues.query('closed_at > @date')\n",
    "closed_issues = closed[closed['pull_request'].isna()]"
   ]
  },
  {
   "cell_type": "code",
   "execution_count": 12,
   "metadata": {
    "jupyter": {
     "source_hidden": true
    },
    "papermill": {
     "duration": 0.044453,
     "end_time": "2019-02-19T04:41:50.058932",
     "exception": false,
     "start_time": "2019-02-19T04:41:50.014479",
     "status": "completed"
    },
    "tags": []
   },
   "outputs": [
    {
     "data": {
      "text/html": [
       "<style  type=\"text/css\" >\n",
       "</style><table id=\"T_abeb1dcc_3400_11e9_93e2_54ee75e0f62d\" ><thead>    <tr>        <th class=\"col_heading level0 col0\" >user</th>        <th class=\"col_heading level0 col1\" >author_association</th>        <th class=\"col_heading level0 col2\" >comments</th>        <th class=\"col_heading level0 col3\" >html_url</th>    </tr></thead><tbody>\n",
       "        </tbody></table>"
      ],
      "text/plain": [
       "<pandas.io.formats.style.Styler at 0x7f069fb77550>"
      ]
     },
     "execution_count": 12,
     "metadata": {},
     "output_type": "execute_result"
    }
   ],
   "source": [
    "closed_issues[['user', 'author_association', 'comments', 'html_url']]\\\n",
    "    .sort_values(['comments']).style.applymap(highlight_rows).format({'html_url': make_clickable}).hide_index()"
   ]
  },
  {
   "cell_type": "code",
   "execution_count": 13,
   "metadata": {
    "jupyter": {
     "source_hidden": true
    },
    "papermill": {
     "duration": 0.049513,
     "end_time": "2019-02-19T04:41:50.163461",
     "exception": false,
     "start_time": "2019-02-19T04:41:50.113948",
     "status": "completed"
    },
    "tags": []
   },
   "outputs": [
    {
     "data": {
      "text/html": [
       "<h2 style=\"padding-left: 1em;\">Closed issues: 0</h2>"
      ],
      "text/plain": [
       "<IPython.core.display.HTML object>"
      ]
     },
     "metadata": {},
     "output_type": "display_data"
    }
   ],
   "source": [
    "print_html('Closed issues: {}'.format(len(closed_issues)))"
   ]
  },
  {
   "cell_type": "markdown",
   "metadata": {
    "papermill": {
     "duration": 0.03067,
     "end_time": "2019-02-19T04:41:50.228175",
     "exception": false,
     "start_time": "2019-02-19T04:41:50.197505",
     "status": "completed"
    },
    "tags": []
   },
   "source": [
    "## Opened PRs\n",
    "\n",
    "without responses in red"
   ]
  },
  {
   "cell_type": "code",
   "execution_count": 14,
   "metadata": {
    "jupyter": {
     "source_hidden": true
    },
    "papermill": {
     "duration": 0.034867,
     "end_time": "2019-02-19T04:41:50.291870",
     "exception": false,
     "start_time": "2019-02-19T04:41:50.257003",
     "status": "completed"
    },
    "tags": []
   },
   "outputs": [],
   "source": [
    "opened_prs = opened[~opened['pull_request'].isna()]\n",
    "opened_prs['closed'] = ~pd.isnull(opened_prs['closed_at'])\n",
    "\n",
    "closed_prs = closed[~closed['pull_request'].isna()]"
   ]
  },
  {
   "cell_type": "code",
   "execution_count": 15,
   "metadata": {
    "jupyter": {
     "source_hidden": true
    },
    "papermill": {
     "duration": 0.036576,
     "end_time": "2019-02-19T04:41:50.360750",
     "exception": false,
     "start_time": "2019-02-19T04:41:50.324174",
     "status": "completed"
    },
    "tags": []
   },
   "outputs": [
    {
     "data": {
      "text/html": [
       "<h2 style=\"padding-left: 1em;\">Opened PRs: 2</h2>"
      ],
      "text/plain": [
       "<IPython.core.display.HTML object>"
      ]
     },
     "metadata": {},
     "output_type": "display_data"
    }
   ],
   "source": [
    "print_html('Opened PRs: {}'.format(len(opened_prs)))"
   ]
  },
  {
   "cell_type": "code",
   "execution_count": 16,
   "metadata": {
    "jupyter": {
     "source_hidden": true
    },
    "papermill": {
     "duration": 0.053466,
     "end_time": "2019-02-19T04:41:50.453231",
     "exception": false,
     "start_time": "2019-02-19T04:41:50.399765",
     "status": "completed"
    },
    "tags": []
   },
   "outputs": [
    {
     "data": {
      "text/html": [
       "<style  type=\"text/css\" >\n",
       "    #T_ac281074_3400_11e9_93e2_54ee75e0f62drow0_col3 {\n",
       "            background-color:  #f7b7b7;\n",
       "        }    #T_ac281074_3400_11e9_93e2_54ee75e0f62drow1_col3 {\n",
       "            background-color:  #f7b7b7;\n",
       "        }</style><table id=\"T_ac281074_3400_11e9_93e2_54ee75e0f62d\" ><thead>    <tr>        <th class=\"col_heading level0 col0\" >user</th>        <th class=\"col_heading level0 col1\" >author_association</th>        <th class=\"col_heading level0 col2\" >comments</th>        <th class=\"col_heading level0 col3\" >closed</th>        <th class=\"col_heading level0 col4\" >html_url</th>    </tr></thead><tbody>\n",
       "                <tr>\n",
       "                                <td id=\"T_ac281074_3400_11e9_93e2_54ee75e0f62drow0_col0\" class=\"data row0 col0\" >greenkeeper[bot]</td>\n",
       "                        <td id=\"T_ac281074_3400_11e9_93e2_54ee75e0f62drow0_col1\" class=\"data row0 col1\" >CONTRIBUTOR</td>\n",
       "                        <td id=\"T_ac281074_3400_11e9_93e2_54ee75e0f62drow0_col2\" class=\"data row0 col2\" >1</td>\n",
       "                        <td id=\"T_ac281074_3400_11e9_93e2_54ee75e0f62drow0_col3\" class=\"data row0 col3\" >False</td>\n",
       "                        <td id=\"T_ac281074_3400_11e9_93e2_54ee75e0f62drow0_col4\" class=\"data row0 col4\" ><a target=\"_blank\" href=\"https://github.com/jupyterhub/configurable-http-proxy/pull/193\">https://github.com/jupyterhub/configurable-http-proxy/pull/193</a></td>\n",
       "            </tr>\n",
       "            <tr>\n",
       "                                <td id=\"T_ac281074_3400_11e9_93e2_54ee75e0f62drow1_col0\" class=\"data row1 col0\" >greenkeeper[bot]</td>\n",
       "                        <td id=\"T_ac281074_3400_11e9_93e2_54ee75e0f62drow1_col1\" class=\"data row1 col1\" >CONTRIBUTOR</td>\n",
       "                        <td id=\"T_ac281074_3400_11e9_93e2_54ee75e0f62drow1_col2\" class=\"data row1 col2\" >1</td>\n",
       "                        <td id=\"T_ac281074_3400_11e9_93e2_54ee75e0f62drow1_col3\" class=\"data row1 col3\" >False</td>\n",
       "                        <td id=\"T_ac281074_3400_11e9_93e2_54ee75e0f62drow1_col4\" class=\"data row1 col4\" ><a target=\"_blank\" href=\"https://github.com/jupyterhub/configurable-http-proxy/pull/192\">https://github.com/jupyterhub/configurable-http-proxy/pull/192</a></td>\n",
       "            </tr>\n",
       "    </tbody></table>"
      ],
      "text/plain": [
       "<pandas.io.formats.style.Styler at 0x7f069fb47b38>"
      ]
     },
     "execution_count": 16,
     "metadata": {},
     "output_type": "execute_result"
    }
   ],
   "source": [
    "opened_prs[['user', 'author_association', 'comments', 'closed', 'html_url']]\\\n",
    "    .sort_values(['closed', 'comments']).style.applymap(highlight_rows).format({'html_url': make_clickable}).hide_index()"
   ]
  },
  {
   "cell_type": "code",
   "execution_count": 17,
   "metadata": {
    "jupyter": {
     "source_hidden": true
    },
    "papermill": {
     "duration": 0.036784,
     "end_time": "2019-02-19T04:41:50.517100",
     "exception": false,
     "start_time": "2019-02-19T04:41:50.480316",
     "status": "completed"
    },
    "tags": []
   },
   "outputs": [
    {
     "data": {
      "text/html": [
       "<h2 style=\"padding-left: 1em;\">Closed PRs: 0</h2>"
      ],
      "text/plain": [
       "<IPython.core.display.HTML object>"
      ]
     },
     "metadata": {},
     "output_type": "display_data"
    }
   ],
   "source": [
    "print_html('Closed PRs: {}'.format(len(closed_prs)))"
   ]
  },
  {
   "cell_type": "code",
   "execution_count": 18,
   "metadata": {
    "jupyter": {
     "source_hidden": true
    },
    "papermill": {
     "duration": 0.046126,
     "end_time": "2019-02-19T04:41:50.592982",
     "exception": false,
     "start_time": "2019-02-19T04:41:50.546856",
     "status": "completed"
    },
    "tags": []
   },
   "outputs": [
    {
     "data": {
      "text/html": [
       "<style  type=\"text/css\" >\n",
       "</style><table id=\"T_ac3cee72_3400_11e9_93e2_54ee75e0f62d\" ><thead>    <tr>        <th class=\"col_heading level0 col0\" >user</th>        <th class=\"col_heading level0 col1\" >author_association</th>        <th class=\"col_heading level0 col2\" >comments</th>        <th class=\"col_heading level0 col3\" >html_url</th>    </tr></thead><tbody>\n",
       "        </tbody></table>"
      ],
      "text/plain": [
       "<pandas.io.formats.style.Styler at 0x7f069fb47978>"
      ]
     },
     "execution_count": 18,
     "metadata": {},
     "output_type": "execute_result"
    }
   ],
   "source": [
    "closed_prs[['user', 'author_association', 'comments', 'html_url']]\\\n",
    "    .sort_values(['comments']).style.applymap(highlight_rows).format({'html_url': make_clickable}).hide_index()"
   ]
  },
  {
   "cell_type": "markdown",
   "metadata": {
    "papermill": {
     "duration": 0.027851,
     "end_time": "2019-02-19T04:41:50.656302",
     "exception": false,
     "start_time": "2019-02-19T04:41:50.628451",
     "status": "completed"
    },
    "tags": []
   },
   "source": [
    "# State of repo\n",
    "\n",
    "## Stale issues"
   ]
  },
  {
   "cell_type": "code",
   "execution_count": 19,
   "metadata": {
    "jupyter": {
     "source_hidden": true
    },
    "papermill": {
     "duration": 0.041378,
     "end_time": "2019-02-19T04:41:50.722956",
     "exception": false,
     "start_time": "2019-02-19T04:41:50.681578",
     "status": "completed"
    },
    "tags": []
   },
   "outputs": [],
   "source": [
    "stale_issues = issues.query('updated_at < @date_stale')\n",
    "stale_issues = stale_issues[stale_issues['closed_at'].isnull()]"
   ]
  },
  {
   "cell_type": "code",
   "execution_count": 20,
   "metadata": {
    "jupyter": {
     "source_hidden": true
    },
    "papermill": {
     "duration": 0.089597,
     "end_time": "2019-02-19T04:41:50.844434",
     "exception": false,
     "start_time": "2019-02-19T04:41:50.754837",
     "status": "completed"
    },
    "tags": []
   },
   "outputs": [
    {
     "data": {
      "text/html": [
       "<style  type=\"text/css\" >\n",
       "    #T_ac63bf20_3400_11e9_93e2_54ee75e0f62drow0_col2 {\n",
       "            background-color:  #f7b7b7;\n",
       "        }    #T_ac63bf20_3400_11e9_93e2_54ee75e0f62drow1_col1 {\n",
       "            background-color:  #f7b7b7;\n",
       "        }    #T_ac63bf20_3400_11e9_93e2_54ee75e0f62drow1_col2 {\n",
       "            background-color:  #f7b7b7;\n",
       "        }    #T_ac63bf20_3400_11e9_93e2_54ee75e0f62drow4_col1 {\n",
       "            background-color:  #f7b7b7;\n",
       "        }    #T_ac63bf20_3400_11e9_93e2_54ee75e0f62drow5_col1 {\n",
       "            background-color:  #f7b7b7;\n",
       "        }    #T_ac63bf20_3400_11e9_93e2_54ee75e0f62drow6_col1 {\n",
       "            background-color:  #f7b7b7;\n",
       "        }    #T_ac63bf20_3400_11e9_93e2_54ee75e0f62drow7_col1 {\n",
       "            background-color:  #f7b7b7;\n",
       "        }</style><table id=\"T_ac63bf20_3400_11e9_93e2_54ee75e0f62d\" ><thead>    <tr>        <th class=\"col_heading level0 col0\" >user</th>        <th class=\"col_heading level0 col1\" >author_association</th>        <th class=\"col_heading level0 col2\" >comments</th>        <th class=\"col_heading level0 col3\" >html_url</th>    </tr></thead><tbody>\n",
       "                <tr>\n",
       "                                <td id=\"T_ac63bf20_3400_11e9_93e2_54ee75e0f62drow0_col0\" class=\"data row0 col0\" >minrk</td>\n",
       "                        <td id=\"T_ac63bf20_3400_11e9_93e2_54ee75e0f62drow0_col1\" class=\"data row0 col1\" >MEMBER</td>\n",
       "                        <td id=\"T_ac63bf20_3400_11e9_93e2_54ee75e0f62drow0_col2\" class=\"data row0 col2\" >0</td>\n",
       "                        <td id=\"T_ac63bf20_3400_11e9_93e2_54ee75e0f62drow0_col3\" class=\"data row0 col3\" ><a target=\"_blank\" href=\"https://github.com/jupyterhub/configurable-http-proxy/issues/107\">https://github.com/jupyterhub/configurable-http-proxy/issues/107</a></td>\n",
       "            </tr>\n",
       "            <tr>\n",
       "                                <td id=\"T_ac63bf20_3400_11e9_93e2_54ee75e0f62drow1_col0\" class=\"data row1 col0\" >zhaiyuyong</td>\n",
       "                        <td id=\"T_ac63bf20_3400_11e9_93e2_54ee75e0f62drow1_col1\" class=\"data row1 col1\" >NONE</td>\n",
       "                        <td id=\"T_ac63bf20_3400_11e9_93e2_54ee75e0f62drow1_col2\" class=\"data row1 col2\" >0</td>\n",
       "                        <td id=\"T_ac63bf20_3400_11e9_93e2_54ee75e0f62drow1_col3\" class=\"data row1 col3\" ><a target=\"_blank\" href=\"https://github.com/jupyterhub/configurable-http-proxy/issues/184\">https://github.com/jupyterhub/configurable-http-proxy/issues/184</a></td>\n",
       "            </tr>\n",
       "            <tr>\n",
       "                                <td id=\"T_ac63bf20_3400_11e9_93e2_54ee75e0f62drow2_col0\" class=\"data row2 col0\" >quasiben</td>\n",
       "                        <td id=\"T_ac63bf20_3400_11e9_93e2_54ee75e0f62drow2_col1\" class=\"data row2 col1\" >CONTRIBUTOR</td>\n",
       "                        <td id=\"T_ac63bf20_3400_11e9_93e2_54ee75e0f62drow2_col2\" class=\"data row2 col2\" >1</td>\n",
       "                        <td id=\"T_ac63bf20_3400_11e9_93e2_54ee75e0f62drow2_col3\" class=\"data row2 col3\" ><a target=\"_blank\" href=\"https://github.com/jupyterhub/configurable-http-proxy/issues/172\">https://github.com/jupyterhub/configurable-http-proxy/issues/172</a></td>\n",
       "            </tr>\n",
       "            <tr>\n",
       "                                <td id=\"T_ac63bf20_3400_11e9_93e2_54ee75e0f62drow3_col0\" class=\"data row3 col0\" >minrk</td>\n",
       "                        <td id=\"T_ac63bf20_3400_11e9_93e2_54ee75e0f62drow3_col1\" class=\"data row3 col1\" >MEMBER</td>\n",
       "                        <td id=\"T_ac63bf20_3400_11e9_93e2_54ee75e0f62drow3_col2\" class=\"data row3 col2\" >1</td>\n",
       "                        <td id=\"T_ac63bf20_3400_11e9_93e2_54ee75e0f62drow3_col3\" class=\"data row3 col3\" ><a target=\"_blank\" href=\"https://github.com/jupyterhub/configurable-http-proxy/pull/163\">https://github.com/jupyterhub/configurable-http-proxy/pull/163</a></td>\n",
       "            </tr>\n",
       "            <tr>\n",
       "                                <td id=\"T_ac63bf20_3400_11e9_93e2_54ee75e0f62drow4_col0\" class=\"data row4 col0\" >martindurant</td>\n",
       "                        <td id=\"T_ac63bf20_3400_11e9_93e2_54ee75e0f62drow4_col1\" class=\"data row4 col1\" >NONE</td>\n",
       "                        <td id=\"T_ac63bf20_3400_11e9_93e2_54ee75e0f62drow4_col2\" class=\"data row4 col2\" >3</td>\n",
       "                        <td id=\"T_ac63bf20_3400_11e9_93e2_54ee75e0f62drow4_col3\" class=\"data row4 col3\" ><a target=\"_blank\" href=\"https://github.com/jupyterhub/configurable-http-proxy/issues/167\">https://github.com/jupyterhub/configurable-http-proxy/issues/167</a></td>\n",
       "            </tr>\n",
       "            <tr>\n",
       "                                <td id=\"T_ac63bf20_3400_11e9_93e2_54ee75e0f62drow5_col0\" class=\"data row5 col0\" >forbxy</td>\n",
       "                        <td id=\"T_ac63bf20_3400_11e9_93e2_54ee75e0f62drow5_col1\" class=\"data row5 col1\" >NONE</td>\n",
       "                        <td id=\"T_ac63bf20_3400_11e9_93e2_54ee75e0f62drow5_col2\" class=\"data row5 col2\" >4</td>\n",
       "                        <td id=\"T_ac63bf20_3400_11e9_93e2_54ee75e0f62drow5_col3\" class=\"data row5 col3\" ><a target=\"_blank\" href=\"https://github.com/jupyterhub/configurable-http-proxy/issues/139\">https://github.com/jupyterhub/configurable-http-proxy/issues/139</a></td>\n",
       "            </tr>\n",
       "            <tr>\n",
       "                                <td id=\"T_ac63bf20_3400_11e9_93e2_54ee75e0f62drow6_col0\" class=\"data row6 col0\" >anandology</td>\n",
       "                        <td id=\"T_ac63bf20_3400_11e9_93e2_54ee75e0f62drow6_col1\" class=\"data row6 col1\" >NONE</td>\n",
       "                        <td id=\"T_ac63bf20_3400_11e9_93e2_54ee75e0f62drow6_col2\" class=\"data row6 col2\" >4</td>\n",
       "                        <td id=\"T_ac63bf20_3400_11e9_93e2_54ee75e0f62drow6_col3\" class=\"data row6 col3\" ><a target=\"_blank\" href=\"https://github.com/jupyterhub/configurable-http-proxy/issues/125\">https://github.com/jupyterhub/configurable-http-proxy/issues/125</a></td>\n",
       "            </tr>\n",
       "            <tr>\n",
       "                                <td id=\"T_ac63bf20_3400_11e9_93e2_54ee75e0f62drow7_col0\" class=\"data row7 col0\" >akhilputhiry</td>\n",
       "                        <td id=\"T_ac63bf20_3400_11e9_93e2_54ee75e0f62drow7_col1\" class=\"data row7 col1\" >NONE</td>\n",
       "                        <td id=\"T_ac63bf20_3400_11e9_93e2_54ee75e0f62drow7_col2\" class=\"data row7 col2\" >6</td>\n",
       "                        <td id=\"T_ac63bf20_3400_11e9_93e2_54ee75e0f62drow7_col3\" class=\"data row7 col3\" ><a target=\"_blank\" href=\"https://github.com/jupyterhub/configurable-http-proxy/issues/182\">https://github.com/jupyterhub/configurable-http-proxy/issues/182</a></td>\n",
       "            </tr>\n",
       "            <tr>\n",
       "                                <td id=\"T_ac63bf20_3400_11e9_93e2_54ee75e0f62drow8_col0\" class=\"data row8 col0\" >yuvipanda</td>\n",
       "                        <td id=\"T_ac63bf20_3400_11e9_93e2_54ee75e0f62drow8_col1\" class=\"data row8 col1\" >MEMBER</td>\n",
       "                        <td id=\"T_ac63bf20_3400_11e9_93e2_54ee75e0f62drow8_col2\" class=\"data row8 col2\" >10</td>\n",
       "                        <td id=\"T_ac63bf20_3400_11e9_93e2_54ee75e0f62drow8_col3\" class=\"data row8 col3\" ><a target=\"_blank\" href=\"https://github.com/jupyterhub/configurable-http-proxy/issues/49\">https://github.com/jupyterhub/configurable-http-proxy/issues/49</a></td>\n",
       "            </tr>\n",
       "    </tbody></table>"
      ],
      "text/plain": [
       "<pandas.io.formats.style.Styler at 0x7f069fb475f8>"
      ]
     },
     "execution_count": 20,
     "metadata": {},
     "output_type": "execute_result"
    }
   ],
   "source": [
    "stale_issues[['user', 'author_association', 'comments', 'html_url']]\\\n",
    "    .sort_values(['comments']).style.applymap(highlight_rows).format({'html_url': make_clickable}).hide_index()"
   ]
  }
 ],
 "metadata": {
  "kernelspec": {
   "display_name": "Python 3",
   "language": "python",
   "name": "python3"
  },
  "language_info": {
   "codemirror_mode": {
    "name": "ipython",
    "version": 3
   },
   "file_extension": ".py",
   "mimetype": "text/x-python",
   "name": "python",
   "nbconvert_exporter": "python",
   "pygments_lexer": "ipython3",
   "version": "3.6.5"
  },
  "papermill": {
   "duration": 5.512094,
   "end_time": "2019-02-19T04:41:51.318619",
   "environment_variables": {},
   "exception": null,
   "input_path": "./templates/issues.ipynb",
   "output_path": "../reports/2019-01-19/jupyterhub/configurable-http-proxy/issues.ipynb",
   "parameters": {
    "date": "2019-01-19",
    "org": "jupyterhub",
    "repo": "configurable-http-proxy"
   },
   "start_time": "2019-02-19T04:41:45.806525",
   "version": "0.18.0"
  }
 },
 "nbformat": 4,
 "nbformat_minor": 2
}