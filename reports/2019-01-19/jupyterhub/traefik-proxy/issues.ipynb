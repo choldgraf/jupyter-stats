{
 "cells": [
  {
   "cell_type": "code",
   "execution_count": 1,
   "metadata": {
    "jupyter": {
     "source_hidden": true
    },
    "papermill": {
     "duration": 0.636212,
     "end_time": "2019-02-19T04:42:11.334194",
     "exception": false,
     "start_time": "2019-02-19T04:42:10.697982",
     "status": "completed"
    },
    "tags": []
   },
   "outputs": [],
   "source": [
    "import pandas as pd\n",
    "from datetime import timedelta\n",
    "from IPython.display import HTML, display"
   ]
  },
  {
   "cell_type": "code",
   "execution_count": 2,
   "metadata": {
    "jupyter": {
     "source_hidden": true
    },
    "papermill": {
     "duration": 0.050002,
     "end_time": "2019-02-19T04:42:11.416526",
     "exception": false,
     "start_time": "2019-02-19T04:42:11.366524",
     "status": "completed"
    },
    "tags": [
     "parameters"
    ]
   },
   "outputs": [],
   "source": [
    "date = pd.datetime.today() - timedelta(days=30)\n",
    "org = 'jupyterhub'\n",
    "repo = 'zero-to-jupyterhub-k8s'"
   ]
  },
  {
   "cell_type": "code",
   "execution_count": 3,
   "metadata": {
    "jupyter": {
     "source_hidden": true
    },
    "papermill": {
     "duration": 0.027744,
     "end_time": "2019-02-19T04:42:11.475100",
     "exception": false,
     "start_time": "2019-02-19T04:42:11.447356",
     "status": "completed"
    },
    "tags": [
     "injected-parameters"
    ]
   },
   "outputs": [],
   "source": [
    "# Parameters\n",
    "org = \"jupyterhub\"\n",
    "repo = \"traefik-proxy\"\n",
    "date = \"2019-01-19\"\n"
   ]
  },
  {
   "cell_type": "code",
   "execution_count": 4,
   "metadata": {
    "jupyter": {
     "source_hidden": true
    },
    "papermill": {
     "duration": 0.032299,
     "end_time": "2019-02-19T04:42:11.530435",
     "exception": false,
     "start_time": "2019-02-19T04:42:11.498136",
     "status": "completed"
    },
    "tags": []
   },
   "outputs": [],
   "source": [
    "# Definition of a stale issue/PR (how many days since last updated)\n",
    "date = pd.to_datetime(date)\n",
    "stale_days = 30\n",
    "date_stale = date - timedelta(days=stale_days)"
   ]
  },
  {
   "cell_type": "markdown",
   "metadata": {
    "papermill": {
     "duration": 0.020185,
     "end_time": "2019-02-19T04:42:11.579083",
     "exception": false,
     "start_time": "2019-02-19T04:42:11.558898",
     "status": "completed"
    },
    "tags": []
   },
   "source": [
    "# Opened and Closed Issues and PRs\n",
    "\n",
    "This report shows opened and closed issues / PRs over the last 30 days, with a\n",
    "particular focus on items that haven't had a lot of discussion, or that have\n",
    "been opened by people who aren't team-members. The goal of this page is to make\n",
    "it easier to spot places where some input would be appreciated!"
   ]
  },
  {
   "cell_type": "markdown",
   "metadata": {
    "papermill": {
     "duration": 0.027669,
     "end_time": "2019-02-19T04:42:11.629038",
     "exception": false,
     "start_time": "2019-02-19T04:42:11.601369",
     "status": "completed"
    },
    "tags": []
   },
   "source": [
    "# Imports"
   ]
  },
  {
   "cell_type": "code",
   "execution_count": 5,
   "metadata": {
    "jupyter": {
     "source_hidden": true
    },
    "papermill": {
     "duration": 0.255869,
     "end_time": "2019-02-19T04:42:11.911394",
     "exception": false,
     "start_time": "2019-02-19T04:42:11.655525",
     "status": "completed"
    },
    "tags": []
   },
   "outputs": [],
   "source": [
    "import pandas as pd\n",
    "from subprocess import run, PIPE\n",
    "from watchtower import issues_\n",
    "from glob import glob\n",
    "import os.path as op\n",
    "import shutil as sh\n",
    "import sys\n",
    "sys.path.append('../../scripts/')"
   ]
  },
  {
   "cell_type": "markdown",
   "metadata": {
    "papermill": {
     "duration": 0.042638,
     "end_time": "2019-02-19T04:42:11.997132",
     "exception": false,
     "start_time": "2019-02-19T04:42:11.954494",
     "status": "completed"
    },
    "tags": []
   },
   "source": [
    "## styling functions"
   ]
  },
  {
   "cell_type": "code",
   "execution_count": 6,
   "metadata": {
    "jupyter": {
     "source_hidden": true
    },
    "papermill": {
     "duration": 0.053714,
     "end_time": "2019-02-19T04:42:12.095206",
     "exception": false,
     "start_time": "2019-02-19T04:42:12.041492",
     "status": "completed"
    },
    "tags": []
   },
   "outputs": [],
   "source": [
    "def highlight_rows(val):\n",
    "    \"\"\"Highlights cells pertaining to non-members and w/ no comments\"\"\"\n",
    "    disp = ''\n",
    "    if val == 0 or val == \"NONE\":\n",
    "        disp += 'background-color: #f7b7b7'\n",
    "    elif val == \"FIRST_TIME_CONTRIBUTOR\":\n",
    "        disp += 'background-color: red'\n",
    "    return disp\n",
    "\n",
    "def make_clickable(val):\n",
    "    # target _blank to open new window\n",
    "    return '<a target=\"_blank\" href=\"{}\">{}</a>'.format(val, val)\n",
    "\n",
    "def print_html(msg):\n",
    "    display(HTML('<h2 style=\"padding-left: 1em;\">{}</h2>'.format(msg)))\n",
    "    \n",
    "pd.options.display.max_colwidth = 200"
   ]
  },
  {
   "cell_type": "markdown",
   "metadata": {
    "papermill": {
     "duration": 0.046642,
     "end_time": "2019-02-19T04:42:12.186347",
     "exception": false,
     "start_time": "2019-02-19T04:42:12.139705",
     "status": "completed"
    },
    "tags": []
   },
   "source": [
    "## Load data"
   ]
  },
  {
   "cell_type": "code",
   "execution_count": 7,
   "metadata": {
    "jupyter": {
     "source_hidden": true
    },
    "papermill": {
     "duration": 0.171558,
     "end_time": "2019-02-19T04:42:12.412753",
     "exception": false,
     "start_time": "2019-02-19T04:42:12.241195",
     "status": "completed"
    },
    "tags": []
   },
   "outputs": [],
   "source": [
    "# Issues\n",
    "issues = issues_.load_issues(org, repo)\n",
    "issues['user'] = issues['user'].map(lambda a: a['login'])"
   ]
  },
  {
   "cell_type": "markdown",
   "metadata": {
    "papermill": {
     "duration": 0.045706,
     "end_time": "2019-02-19T04:42:12.504487",
     "exception": false,
     "start_time": "2019-02-19T04:42:12.458781",
     "status": "completed"
    },
    "tags": []
   },
   "source": [
    "# New activity"
   ]
  },
  {
   "cell_type": "markdown",
   "metadata": {
    "papermill": {
     "duration": 0.05601,
     "end_time": "2019-02-19T04:42:12.630080",
     "exception": false,
     "start_time": "2019-02-19T04:42:12.574070",
     "status": "completed"
    },
    "tags": []
   },
   "source": [
    "## Opened issues\n",
    "\n",
    "without responses in red"
   ]
  },
  {
   "cell_type": "code",
   "execution_count": 8,
   "metadata": {
    "jupyter": {
     "source_hidden": true
    },
    "papermill": {
     "duration": 0.139887,
     "end_time": "2019-02-19T04:42:12.824069",
     "exception": false,
     "start_time": "2019-02-19T04:42:12.684182",
     "status": "completed"
    },
    "tags": []
   },
   "outputs": [
    {
     "name": "stderr",
     "output_type": "stream",
     "text": [
      "/home/choldgraf/anaconda/envs/dev/lib/python3.6/site-packages/ipykernel_launcher.py:3: SettingWithCopyWarning: \n",
      "A value is trying to be set on a copy of a slice from a DataFrame.\n",
      "Try using .loc[row_indexer,col_indexer] = value instead\n",
      "\n",
      "See the caveats in the documentation: http://pandas.pydata.org/pandas-docs/stable/indexing.html#indexing-view-versus-copy\n",
      "  This is separate from the ipykernel package so we can avoid doing imports until\n"
     ]
    }
   ],
   "source": [
    "opened = issues.query('created_at > @date')\n",
    "opened_issues = opened[opened['pull_request'].isna()]\n",
    "opened_issues['closed'] = ~pd.isnull(opened_issues['closed_at'])"
   ]
  },
  {
   "cell_type": "code",
   "execution_count": 9,
   "metadata": {
    "jupyter": {
     "source_hidden": true
    },
    "papermill": {
     "duration": 0.101688,
     "end_time": "2019-02-19T04:42:12.973735",
     "exception": false,
     "start_time": "2019-02-19T04:42:12.872047",
     "status": "completed"
    },
    "tags": []
   },
   "outputs": [
    {
     "data": {
      "text/html": [
       "<h2 style=\"padding-left: 1em;\">Opened issues: 1</h2>"
      ],
      "text/plain": [
       "<IPython.core.display.HTML object>"
      ]
     },
     "metadata": {},
     "output_type": "display_data"
    }
   ],
   "source": [
    "print_html('Opened issues: {}'.format(len(opened_issues)))"
   ]
  },
  {
   "cell_type": "code",
   "execution_count": 10,
   "metadata": {
    "jupyter": {
     "source_hidden": true
    },
    "papermill": {
     "duration": 0.953627,
     "end_time": "2019-02-19T04:42:14.023164",
     "exception": false,
     "start_time": "2019-02-19T04:42:13.069537",
     "status": "completed"
    },
    "tags": []
   },
   "outputs": [
    {
     "data": {
      "text/html": [
       "<style  type=\"text/css\" >\n",
       "    #T_ba34778e_3400_11e9_8e43_54ee75e0f62drow0_col2 {\n",
       "            background-color:  #f7b7b7;\n",
       "        }    #T_ba34778e_3400_11e9_8e43_54ee75e0f62drow0_col3 {\n",
       "            background-color:  #f7b7b7;\n",
       "        }</style><table id=\"T_ba34778e_3400_11e9_8e43_54ee75e0f62d\" ><thead>    <tr>        <th class=\"col_heading level0 col0\" >user</th>        <th class=\"col_heading level0 col1\" >author_association</th>        <th class=\"col_heading level0 col2\" >comments</th>        <th class=\"col_heading level0 col3\" >closed</th>        <th class=\"col_heading level0 col4\" >html_url</th>    </tr></thead><tbody>\n",
       "                <tr>\n",
       "                                <td id=\"T_ba34778e_3400_11e9_8e43_54ee75e0f62drow0_col0\" class=\"data row0 col0\" >minrk</td>\n",
       "                        <td id=\"T_ba34778e_3400_11e9_8e43_54ee75e0f62drow0_col1\" class=\"data row0 col1\" >MEMBER</td>\n",
       "                        <td id=\"T_ba34778e_3400_11e9_8e43_54ee75e0f62drow0_col2\" class=\"data row0 col2\" >0</td>\n",
       "                        <td id=\"T_ba34778e_3400_11e9_8e43_54ee75e0f62drow0_col3\" class=\"data row0 col3\" >False</td>\n",
       "                        <td id=\"T_ba34778e_3400_11e9_8e43_54ee75e0f62drow0_col4\" class=\"data row0 col4\" ><a target=\"_blank\" href=\"https://github.com/jupyterhub/traefik-proxy/issues/35\">https://github.com/jupyterhub/traefik-proxy/issues/35</a></td>\n",
       "            </tr>\n",
       "    </tbody></table>"
      ],
      "text/plain": [
       "<pandas.io.formats.style.Styler at 0x7f527b4f2518>"
      ]
     },
     "execution_count": 10,
     "metadata": {},
     "output_type": "execute_result"
    }
   ],
   "source": [
    "opened_issues[['user', 'author_association', 'comments', 'closed', 'html_url']]\\\n",
    "    .sort_values(['closed', 'comments']).style.applymap(highlight_rows).format({'html_url': make_clickable}).hide_index()"
   ]
  },
  {
   "cell_type": "markdown",
   "metadata": {
    "papermill": {
     "duration": 0.027898,
     "end_time": "2019-02-19T04:42:14.073946",
     "exception": false,
     "start_time": "2019-02-19T04:42:14.046048",
     "status": "completed"
    },
    "tags": []
   },
   "source": [
    "## Closed issues\n"
   ]
  },
  {
   "cell_type": "code",
   "execution_count": 11,
   "metadata": {
    "jupyter": {
     "source_hidden": true
    },
    "papermill": {
     "duration": 0.060791,
     "end_time": "2019-02-19T04:42:14.156164",
     "exception": false,
     "start_time": "2019-02-19T04:42:14.095373",
     "status": "completed"
    },
    "tags": []
   },
   "outputs": [],
   "source": [
    "closed = issues.query('closed_at > @date')\n",
    "closed_issues = closed[closed['pull_request'].isna()]"
   ]
  },
  {
   "cell_type": "code",
   "execution_count": 12,
   "metadata": {
    "jupyter": {
     "source_hidden": true
    },
    "papermill": {
     "duration": 0.116294,
     "end_time": "2019-02-19T04:42:14.318635",
     "exception": false,
     "start_time": "2019-02-19T04:42:14.202341",
     "status": "completed"
    },
    "tags": []
   },
   "outputs": [
    {
     "data": {
      "text/html": [
       "<style  type=\"text/css\" >\n",
       "    #T_ba5e3524_3400_11e9_8e43_54ee75e0f62drow0_col2 {\n",
       "            background-color:  #f7b7b7;\n",
       "        }    #T_ba5e3524_3400_11e9_8e43_54ee75e0f62drow1_col2 {\n",
       "            background-color:  #f7b7b7;\n",
       "        }</style><table id=\"T_ba5e3524_3400_11e9_8e43_54ee75e0f62d\" ><thead>    <tr>        <th class=\"col_heading level0 col0\" >user</th>        <th class=\"col_heading level0 col1\" >author_association</th>        <th class=\"col_heading level0 col2\" >comments</th>        <th class=\"col_heading level0 col3\" >html_url</th>    </tr></thead><tbody>\n",
       "                <tr>\n",
       "                                <td id=\"T_ba5e3524_3400_11e9_8e43_54ee75e0f62drow0_col0\" class=\"data row0 col0\" >minrk</td>\n",
       "                        <td id=\"T_ba5e3524_3400_11e9_8e43_54ee75e0f62drow0_col1\" class=\"data row0 col1\" >MEMBER</td>\n",
       "                        <td id=\"T_ba5e3524_3400_11e9_8e43_54ee75e0f62drow0_col2\" class=\"data row0 col2\" >0</td>\n",
       "                        <td id=\"T_ba5e3524_3400_11e9_8e43_54ee75e0f62drow0_col3\" class=\"data row0 col3\" ><a target=\"_blank\" href=\"https://github.com/jupyterhub/traefik-proxy/issues/33\">https://github.com/jupyterhub/traefik-proxy/issues/33</a></td>\n",
       "            </tr>\n",
       "            <tr>\n",
       "                                <td id=\"T_ba5e3524_3400_11e9_8e43_54ee75e0f62drow1_col0\" class=\"data row1 col0\" >minrk</td>\n",
       "                        <td id=\"T_ba5e3524_3400_11e9_8e43_54ee75e0f62drow1_col1\" class=\"data row1 col1\" >MEMBER</td>\n",
       "                        <td id=\"T_ba5e3524_3400_11e9_8e43_54ee75e0f62drow1_col2\" class=\"data row1 col2\" >0</td>\n",
       "                        <td id=\"T_ba5e3524_3400_11e9_8e43_54ee75e0f62drow1_col3\" class=\"data row1 col3\" ><a target=\"_blank\" href=\"https://github.com/jupyterhub/traefik-proxy/issues/27\">https://github.com/jupyterhub/traefik-proxy/issues/27</a></td>\n",
       "            </tr>\n",
       "    </tbody></table>"
      ],
      "text/plain": [
       "<pandas.io.formats.style.Styler at 0x7f5276448978>"
      ]
     },
     "execution_count": 12,
     "metadata": {},
     "output_type": "execute_result"
    }
   ],
   "source": [
    "closed_issues[['user', 'author_association', 'comments', 'html_url']]\\\n",
    "    .sort_values(['comments']).style.applymap(highlight_rows).format({'html_url': make_clickable}).hide_index()"
   ]
  },
  {
   "cell_type": "code",
   "execution_count": 13,
   "metadata": {
    "jupyter": {
     "source_hidden": true
    },
    "papermill": {
     "duration": 0.085121,
     "end_time": "2019-02-19T04:42:14.477957",
     "exception": false,
     "start_time": "2019-02-19T04:42:14.392836",
     "status": "completed"
    },
    "tags": []
   },
   "outputs": [
    {
     "data": {
      "text/html": [
       "<h2 style=\"padding-left: 1em;\">Closed issues: 2</h2>"
      ],
      "text/plain": [
       "<IPython.core.display.HTML object>"
      ]
     },
     "metadata": {},
     "output_type": "display_data"
    }
   ],
   "source": [
    "print_html('Closed issues: {}'.format(len(closed_issues)))"
   ]
  },
  {
   "cell_type": "markdown",
   "metadata": {
    "papermill": {
     "duration": 0.149665,
     "end_time": "2019-02-19T04:42:14.688698",
     "exception": false,
     "start_time": "2019-02-19T04:42:14.539033",
     "status": "completed"
    },
    "tags": []
   },
   "source": [
    "## Opened PRs\n",
    "\n",
    "without responses in red"
   ]
  },
  {
   "cell_type": "code",
   "execution_count": 14,
   "metadata": {
    "jupyter": {
     "source_hidden": true
    },
    "papermill": {
     "duration": 0.176543,
     "end_time": "2019-02-19T04:42:14.945289",
     "exception": false,
     "start_time": "2019-02-19T04:42:14.768746",
     "status": "completed"
    },
    "tags": []
   },
   "outputs": [
    {
     "name": "stderr",
     "output_type": "stream",
     "text": [
      "/home/choldgraf/anaconda/envs/dev/lib/python3.6/site-packages/ipykernel_launcher.py:2: SettingWithCopyWarning: \n",
      "A value is trying to be set on a copy of a slice from a DataFrame.\n",
      "Try using .loc[row_indexer,col_indexer] = value instead\n",
      "\n",
      "See the caveats in the documentation: http://pandas.pydata.org/pandas-docs/stable/indexing.html#indexing-view-versus-copy\n",
      "  \n"
     ]
    }
   ],
   "source": [
    "opened_prs = opened[~opened['pull_request'].isna()]\n",
    "opened_prs['closed'] = ~pd.isnull(opened_prs['closed_at'])\n",
    "\n",
    "closed_prs = closed[~closed['pull_request'].isna()]"
   ]
  },
  {
   "cell_type": "code",
   "execution_count": 15,
   "metadata": {
    "jupyter": {
     "source_hidden": true
    },
    "papermill": {
     "duration": 0.140378,
     "end_time": "2019-02-19T04:42:15.212380",
     "exception": false,
     "start_time": "2019-02-19T04:42:15.072002",
     "status": "completed"
    },
    "tags": []
   },
   "outputs": [
    {
     "data": {
      "text/html": [
       "<h2 style=\"padding-left: 1em;\">Opened PRs: 8</h2>"
      ],
      "text/plain": [
       "<IPython.core.display.HTML object>"
      ]
     },
     "metadata": {},
     "output_type": "display_data"
    }
   ],
   "source": [
    "print_html('Opened PRs: {}'.format(len(opened_prs)))"
   ]
  },
  {
   "cell_type": "code",
   "execution_count": 16,
   "metadata": {
    "jupyter": {
     "source_hidden": true
    },
    "papermill": {
     "duration": 0.225641,
     "end_time": "2019-02-19T04:42:15.522133",
     "exception": false,
     "start_time": "2019-02-19T04:42:15.296492",
     "status": "completed"
    },
    "tags": []
   },
   "outputs": [
    {
     "data": {
      "text/html": [
       "<style  type=\"text/css\" >\n",
       "    #T_bb1788a8_3400_11e9_8e43_54ee75e0f62drow0_col3 {\n",
       "            background-color:  #f7b7b7;\n",
       "        }    #T_bb1788a8_3400_11e9_8e43_54ee75e0f62drow1_col2 {\n",
       "            background-color:  #f7b7b7;\n",
       "        }    #T_bb1788a8_3400_11e9_8e43_54ee75e0f62drow2_col2 {\n",
       "            background-color:  #f7b7b7;\n",
       "        }</style><table id=\"T_bb1788a8_3400_11e9_8e43_54ee75e0f62d\" ><thead>    <tr>        <th class=\"col_heading level0 col0\" >user</th>        <th class=\"col_heading level0 col1\" >author_association</th>        <th class=\"col_heading level0 col2\" >comments</th>        <th class=\"col_heading level0 col3\" >closed</th>        <th class=\"col_heading level0 col4\" >html_url</th>    </tr></thead><tbody>\n",
       "                <tr>\n",
       "                                <td id=\"T_bb1788a8_3400_11e9_8e43_54ee75e0f62drow0_col0\" class=\"data row0 col0\" >GeorgianaElena</td>\n",
       "                        <td id=\"T_bb1788a8_3400_11e9_8e43_54ee75e0f62drow0_col1\" class=\"data row0 col1\" >COLLABORATOR</td>\n",
       "                        <td id=\"T_bb1788a8_3400_11e9_8e43_54ee75e0f62drow0_col2\" class=\"data row0 col2\" >2</td>\n",
       "                        <td id=\"T_bb1788a8_3400_11e9_8e43_54ee75e0f62drow0_col3\" class=\"data row0 col3\" >False</td>\n",
       "                        <td id=\"T_bb1788a8_3400_11e9_8e43_54ee75e0f62drow0_col4\" class=\"data row0 col4\" ><a target=\"_blank\" href=\"https://github.com/jupyterhub/traefik-proxy/pull/43\">https://github.com/jupyterhub/traefik-proxy/pull/43</a></td>\n",
       "            </tr>\n",
       "            <tr>\n",
       "                                <td id=\"T_bb1788a8_3400_11e9_8e43_54ee75e0f62drow1_col0\" class=\"data row1 col0\" >minrk</td>\n",
       "                        <td id=\"T_bb1788a8_3400_11e9_8e43_54ee75e0f62drow1_col1\" class=\"data row1 col1\" >MEMBER</td>\n",
       "                        <td id=\"T_bb1788a8_3400_11e9_8e43_54ee75e0f62drow1_col2\" class=\"data row1 col2\" >0</td>\n",
       "                        <td id=\"T_bb1788a8_3400_11e9_8e43_54ee75e0f62drow1_col3\" class=\"data row1 col3\" >True</td>\n",
       "                        <td id=\"T_bb1788a8_3400_11e9_8e43_54ee75e0f62drow1_col4\" class=\"data row1 col4\" ><a target=\"_blank\" href=\"https://github.com/jupyterhub/traefik-proxy/pull/42\">https://github.com/jupyterhub/traefik-proxy/pull/42</a></td>\n",
       "            </tr>\n",
       "            <tr>\n",
       "                                <td id=\"T_bb1788a8_3400_11e9_8e43_54ee75e0f62drow2_col0\" class=\"data row2 col0\" >minrk</td>\n",
       "                        <td id=\"T_bb1788a8_3400_11e9_8e43_54ee75e0f62drow2_col1\" class=\"data row2 col1\" >MEMBER</td>\n",
       "                        <td id=\"T_bb1788a8_3400_11e9_8e43_54ee75e0f62drow2_col2\" class=\"data row2 col2\" >0</td>\n",
       "                        <td id=\"T_bb1788a8_3400_11e9_8e43_54ee75e0f62drow2_col3\" class=\"data row2 col3\" >True</td>\n",
       "                        <td id=\"T_bb1788a8_3400_11e9_8e43_54ee75e0f62drow2_col4\" class=\"data row2 col4\" ><a target=\"_blank\" href=\"https://github.com/jupyterhub/traefik-proxy/pull/41\">https://github.com/jupyterhub/traefik-proxy/pull/41</a></td>\n",
       "            </tr>\n",
       "            <tr>\n",
       "                                <td id=\"T_bb1788a8_3400_11e9_8e43_54ee75e0f62drow3_col0\" class=\"data row3 col0\" >minrk</td>\n",
       "                        <td id=\"T_bb1788a8_3400_11e9_8e43_54ee75e0f62drow3_col1\" class=\"data row3 col1\" >MEMBER</td>\n",
       "                        <td id=\"T_bb1788a8_3400_11e9_8e43_54ee75e0f62drow3_col2\" class=\"data row3 col2\" >1</td>\n",
       "                        <td id=\"T_bb1788a8_3400_11e9_8e43_54ee75e0f62drow3_col3\" class=\"data row3 col3\" >True</td>\n",
       "                        <td id=\"T_bb1788a8_3400_11e9_8e43_54ee75e0f62drow3_col4\" class=\"data row3 col4\" ><a target=\"_blank\" href=\"https://github.com/jupyterhub/traefik-proxy/pull/40\">https://github.com/jupyterhub/traefik-proxy/pull/40</a></td>\n",
       "            </tr>\n",
       "            <tr>\n",
       "                                <td id=\"T_bb1788a8_3400_11e9_8e43_54ee75e0f62drow4_col0\" class=\"data row4 col0\" >GeorgianaElena</td>\n",
       "                        <td id=\"T_bb1788a8_3400_11e9_8e43_54ee75e0f62drow4_col1\" class=\"data row4 col1\" >COLLABORATOR</td>\n",
       "                        <td id=\"T_bb1788a8_3400_11e9_8e43_54ee75e0f62drow4_col2\" class=\"data row4 col2\" >1</td>\n",
       "                        <td id=\"T_bb1788a8_3400_11e9_8e43_54ee75e0f62drow4_col3\" class=\"data row4 col3\" >True</td>\n",
       "                        <td id=\"T_bb1788a8_3400_11e9_8e43_54ee75e0f62drow4_col4\" class=\"data row4 col4\" ><a target=\"_blank\" href=\"https://github.com/jupyterhub/traefik-proxy/pull/39\">https://github.com/jupyterhub/traefik-proxy/pull/39</a></td>\n",
       "            </tr>\n",
       "            <tr>\n",
       "                                <td id=\"T_bb1788a8_3400_11e9_8e43_54ee75e0f62drow5_col0\" class=\"data row5 col0\" >minrk</td>\n",
       "                        <td id=\"T_bb1788a8_3400_11e9_8e43_54ee75e0f62drow5_col1\" class=\"data row5 col1\" >MEMBER</td>\n",
       "                        <td id=\"T_bb1788a8_3400_11e9_8e43_54ee75e0f62drow5_col2\" class=\"data row5 col2\" >1</td>\n",
       "                        <td id=\"T_bb1788a8_3400_11e9_8e43_54ee75e0f62drow5_col3\" class=\"data row5 col3\" >True</td>\n",
       "                        <td id=\"T_bb1788a8_3400_11e9_8e43_54ee75e0f62drow5_col4\" class=\"data row5 col4\" ><a target=\"_blank\" href=\"https://github.com/jupyterhub/traefik-proxy/pull/38\">https://github.com/jupyterhub/traefik-proxy/pull/38</a></td>\n",
       "            </tr>\n",
       "            <tr>\n",
       "                                <td id=\"T_bb1788a8_3400_11e9_8e43_54ee75e0f62drow6_col0\" class=\"data row6 col0\" >minrk</td>\n",
       "                        <td id=\"T_bb1788a8_3400_11e9_8e43_54ee75e0f62drow6_col1\" class=\"data row6 col1\" >MEMBER</td>\n",
       "                        <td id=\"T_bb1788a8_3400_11e9_8e43_54ee75e0f62drow6_col2\" class=\"data row6 col2\" >2</td>\n",
       "                        <td id=\"T_bb1788a8_3400_11e9_8e43_54ee75e0f62drow6_col3\" class=\"data row6 col3\" >True</td>\n",
       "                        <td id=\"T_bb1788a8_3400_11e9_8e43_54ee75e0f62drow6_col4\" class=\"data row6 col4\" ><a target=\"_blank\" href=\"https://github.com/jupyterhub/traefik-proxy/pull/37\">https://github.com/jupyterhub/traefik-proxy/pull/37</a></td>\n",
       "            </tr>\n",
       "            <tr>\n",
       "                                <td id=\"T_bb1788a8_3400_11e9_8e43_54ee75e0f62drow7_col0\" class=\"data row7 col0\" >minrk</td>\n",
       "                        <td id=\"T_bb1788a8_3400_11e9_8e43_54ee75e0f62drow7_col1\" class=\"data row7 col1\" >MEMBER</td>\n",
       "                        <td id=\"T_bb1788a8_3400_11e9_8e43_54ee75e0f62drow7_col2\" class=\"data row7 col2\" >4</td>\n",
       "                        <td id=\"T_bb1788a8_3400_11e9_8e43_54ee75e0f62drow7_col3\" class=\"data row7 col3\" >True</td>\n",
       "                        <td id=\"T_bb1788a8_3400_11e9_8e43_54ee75e0f62drow7_col4\" class=\"data row7 col4\" ><a target=\"_blank\" href=\"https://github.com/jupyterhub/traefik-proxy/pull/36\">https://github.com/jupyterhub/traefik-proxy/pull/36</a></td>\n",
       "            </tr>\n",
       "    </tbody></table>"
      ],
      "text/plain": [
       "<pandas.io.formats.style.Styler at 0x7f52764488d0>"
      ]
     },
     "execution_count": 16,
     "metadata": {},
     "output_type": "execute_result"
    }
   ],
   "source": [
    "opened_prs[['user', 'author_association', 'comments', 'closed', 'html_url']]\\\n",
    "    .sort_values(['closed', 'comments']).style.applymap(highlight_rows).format({'html_url': make_clickable}).hide_index()"
   ]
  },
  {
   "cell_type": "code",
   "execution_count": 17,
   "metadata": {
    "jupyter": {
     "source_hidden": true
    },
    "papermill": {
     "duration": 0.097107,
     "end_time": "2019-02-19T04:42:15.688883",
     "exception": false,
     "start_time": "2019-02-19T04:42:15.591776",
     "status": "completed"
    },
    "tags": []
   },
   "outputs": [
    {
     "data": {
      "text/html": [
       "<h2 style=\"padding-left: 1em;\">Closed PRs: 8</h2>"
      ],
      "text/plain": [
       "<IPython.core.display.HTML object>"
      ]
     },
     "metadata": {},
     "output_type": "display_data"
    }
   ],
   "source": [
    "print_html('Closed PRs: {}'.format(len(closed_prs)))"
   ]
  },
  {
   "cell_type": "code",
   "execution_count": 18,
   "metadata": {
    "jupyter": {
     "source_hidden": true
    },
    "papermill": {
     "duration": 0.165785,
     "end_time": "2019-02-19T04:42:15.928302",
     "exception": false,
     "start_time": "2019-02-19T04:42:15.762517",
     "status": "completed"
    },
    "tags": []
   },
   "outputs": [
    {
     "data": {
      "text/html": [
       "<style  type=\"text/css\" >\n",
       "    #T_bb559882_3400_11e9_8e43_54ee75e0f62drow0_col2 {\n",
       "            background-color:  #f7b7b7;\n",
       "        }    #T_bb559882_3400_11e9_8e43_54ee75e0f62drow1_col2 {\n",
       "            background-color:  #f7b7b7;\n",
       "        }</style><table id=\"T_bb559882_3400_11e9_8e43_54ee75e0f62d\" ><thead>    <tr>        <th class=\"col_heading level0 col0\" >user</th>        <th class=\"col_heading level0 col1\" >author_association</th>        <th class=\"col_heading level0 col2\" >comments</th>        <th class=\"col_heading level0 col3\" >html_url</th>    </tr></thead><tbody>\n",
       "                <tr>\n",
       "                                <td id=\"T_bb559882_3400_11e9_8e43_54ee75e0f62drow0_col0\" class=\"data row0 col0\" >minrk</td>\n",
       "                        <td id=\"T_bb559882_3400_11e9_8e43_54ee75e0f62drow0_col1\" class=\"data row0 col1\" >MEMBER</td>\n",
       "                        <td id=\"T_bb559882_3400_11e9_8e43_54ee75e0f62drow0_col2\" class=\"data row0 col2\" >0</td>\n",
       "                        <td id=\"T_bb559882_3400_11e9_8e43_54ee75e0f62drow0_col3\" class=\"data row0 col3\" ><a target=\"_blank\" href=\"https://github.com/jupyterhub/traefik-proxy/pull/42\">https://github.com/jupyterhub/traefik-proxy/pull/42</a></td>\n",
       "            </tr>\n",
       "            <tr>\n",
       "                                <td id=\"T_bb559882_3400_11e9_8e43_54ee75e0f62drow1_col0\" class=\"data row1 col0\" >minrk</td>\n",
       "                        <td id=\"T_bb559882_3400_11e9_8e43_54ee75e0f62drow1_col1\" class=\"data row1 col1\" >MEMBER</td>\n",
       "                        <td id=\"T_bb559882_3400_11e9_8e43_54ee75e0f62drow1_col2\" class=\"data row1 col2\" >0</td>\n",
       "                        <td id=\"T_bb559882_3400_11e9_8e43_54ee75e0f62drow1_col3\" class=\"data row1 col3\" ><a target=\"_blank\" href=\"https://github.com/jupyterhub/traefik-proxy/pull/41\">https://github.com/jupyterhub/traefik-proxy/pull/41</a></td>\n",
       "            </tr>\n",
       "            <tr>\n",
       "                                <td id=\"T_bb559882_3400_11e9_8e43_54ee75e0f62drow2_col0\" class=\"data row2 col0\" >minrk</td>\n",
       "                        <td id=\"T_bb559882_3400_11e9_8e43_54ee75e0f62drow2_col1\" class=\"data row2 col1\" >MEMBER</td>\n",
       "                        <td id=\"T_bb559882_3400_11e9_8e43_54ee75e0f62drow2_col2\" class=\"data row2 col2\" >1</td>\n",
       "                        <td id=\"T_bb559882_3400_11e9_8e43_54ee75e0f62drow2_col3\" class=\"data row2 col3\" ><a target=\"_blank\" href=\"https://github.com/jupyterhub/traefik-proxy/pull/40\">https://github.com/jupyterhub/traefik-proxy/pull/40</a></td>\n",
       "            </tr>\n",
       "            <tr>\n",
       "                                <td id=\"T_bb559882_3400_11e9_8e43_54ee75e0f62drow3_col0\" class=\"data row3 col0\" >GeorgianaElena</td>\n",
       "                        <td id=\"T_bb559882_3400_11e9_8e43_54ee75e0f62drow3_col1\" class=\"data row3 col1\" >COLLABORATOR</td>\n",
       "                        <td id=\"T_bb559882_3400_11e9_8e43_54ee75e0f62drow3_col2\" class=\"data row3 col2\" >1</td>\n",
       "                        <td id=\"T_bb559882_3400_11e9_8e43_54ee75e0f62drow3_col3\" class=\"data row3 col3\" ><a target=\"_blank\" href=\"https://github.com/jupyterhub/traefik-proxy/pull/39\">https://github.com/jupyterhub/traefik-proxy/pull/39</a></td>\n",
       "            </tr>\n",
       "            <tr>\n",
       "                                <td id=\"T_bb559882_3400_11e9_8e43_54ee75e0f62drow4_col0\" class=\"data row4 col0\" >minrk</td>\n",
       "                        <td id=\"T_bb559882_3400_11e9_8e43_54ee75e0f62drow4_col1\" class=\"data row4 col1\" >MEMBER</td>\n",
       "                        <td id=\"T_bb559882_3400_11e9_8e43_54ee75e0f62drow4_col2\" class=\"data row4 col2\" >1</td>\n",
       "                        <td id=\"T_bb559882_3400_11e9_8e43_54ee75e0f62drow4_col3\" class=\"data row4 col3\" ><a target=\"_blank\" href=\"https://github.com/jupyterhub/traefik-proxy/pull/38\">https://github.com/jupyterhub/traefik-proxy/pull/38</a></td>\n",
       "            </tr>\n",
       "            <tr>\n",
       "                                <td id=\"T_bb559882_3400_11e9_8e43_54ee75e0f62drow5_col0\" class=\"data row5 col0\" >GeorgianaElena</td>\n",
       "                        <td id=\"T_bb559882_3400_11e9_8e43_54ee75e0f62drow5_col1\" class=\"data row5 col1\" >COLLABORATOR</td>\n",
       "                        <td id=\"T_bb559882_3400_11e9_8e43_54ee75e0f62drow5_col2\" class=\"data row5 col2\" >1</td>\n",
       "                        <td id=\"T_bb559882_3400_11e9_8e43_54ee75e0f62drow5_col3\" class=\"data row5 col3\" ><a target=\"_blank\" href=\"https://github.com/jupyterhub/traefik-proxy/pull/34\">https://github.com/jupyterhub/traefik-proxy/pull/34</a></td>\n",
       "            </tr>\n",
       "            <tr>\n",
       "                                <td id=\"T_bb559882_3400_11e9_8e43_54ee75e0f62drow6_col0\" class=\"data row6 col0\" >minrk</td>\n",
       "                        <td id=\"T_bb559882_3400_11e9_8e43_54ee75e0f62drow6_col1\" class=\"data row6 col1\" >MEMBER</td>\n",
       "                        <td id=\"T_bb559882_3400_11e9_8e43_54ee75e0f62drow6_col2\" class=\"data row6 col2\" >2</td>\n",
       "                        <td id=\"T_bb559882_3400_11e9_8e43_54ee75e0f62drow6_col3\" class=\"data row6 col3\" ><a target=\"_blank\" href=\"https://github.com/jupyterhub/traefik-proxy/pull/37\">https://github.com/jupyterhub/traefik-proxy/pull/37</a></td>\n",
       "            </tr>\n",
       "            <tr>\n",
       "                                <td id=\"T_bb559882_3400_11e9_8e43_54ee75e0f62drow7_col0\" class=\"data row7 col0\" >minrk</td>\n",
       "                        <td id=\"T_bb559882_3400_11e9_8e43_54ee75e0f62drow7_col1\" class=\"data row7 col1\" >MEMBER</td>\n",
       "                        <td id=\"T_bb559882_3400_11e9_8e43_54ee75e0f62drow7_col2\" class=\"data row7 col2\" >4</td>\n",
       "                        <td id=\"T_bb559882_3400_11e9_8e43_54ee75e0f62drow7_col3\" class=\"data row7 col3\" ><a target=\"_blank\" href=\"https://github.com/jupyterhub/traefik-proxy/pull/36\">https://github.com/jupyterhub/traefik-proxy/pull/36</a></td>\n",
       "            </tr>\n",
       "    </tbody></table>"
      ],
      "text/plain": [
       "<pandas.io.formats.style.Styler at 0x7f5276448a20>"
      ]
     },
     "execution_count": 18,
     "metadata": {},
     "output_type": "execute_result"
    }
   ],
   "source": [
    "closed_prs[['user', 'author_association', 'comments', 'html_url']]\\\n",
    "    .sort_values(['comments']).style.applymap(highlight_rows).format({'html_url': make_clickable}).hide_index()"
   ]
  },
  {
   "cell_type": "markdown",
   "metadata": {
    "papermill": {
     "duration": 0.083286,
     "end_time": "2019-02-19T04:42:16.087077",
     "exception": false,
     "start_time": "2019-02-19T04:42:16.003791",
     "status": "completed"
    },
    "tags": []
   },
   "source": [
    "# State of repo\n",
    "\n",
    "## Stale issues"
   ]
  },
  {
   "cell_type": "code",
   "execution_count": 19,
   "metadata": {
    "jupyter": {
     "source_hidden": true
    },
    "papermill": {
     "duration": 0.092606,
     "end_time": "2019-02-19T04:42:16.254940",
     "exception": false,
     "start_time": "2019-02-19T04:42:16.162334",
     "status": "completed"
    },
    "tags": []
   },
   "outputs": [],
   "source": [
    "stale_issues = issues.query('updated_at < @date_stale')\n",
    "stale_issues = stale_issues[stale_issues['closed_at'].isnull()]"
   ]
  },
  {
   "cell_type": "code",
   "execution_count": 20,
   "metadata": {
    "jupyter": {
     "source_hidden": true
    },
    "papermill": {
     "duration": 0.123167,
     "end_time": "2019-02-19T04:42:16.451803",
     "exception": false,
     "start_time": "2019-02-19T04:42:16.328636",
     "status": "completed"
    },
    "tags": []
   },
   "outputs": [
    {
     "data": {
      "text/html": [
       "<style  type=\"text/css\" >\n",
       "    #T_bba61744_3400_11e9_8e43_54ee75e0f62drow0_col2 {\n",
       "            background-color:  #f7b7b7;\n",
       "        }    #T_bba61744_3400_11e9_8e43_54ee75e0f62drow1_col2 {\n",
       "            background-color:  #f7b7b7;\n",
       "        }</style><table id=\"T_bba61744_3400_11e9_8e43_54ee75e0f62d\" ><thead>    <tr>        <th class=\"col_heading level0 col0\" >user</th>        <th class=\"col_heading level0 col1\" >author_association</th>        <th class=\"col_heading level0 col2\" >comments</th>        <th class=\"col_heading level0 col3\" >html_url</th>    </tr></thead><tbody>\n",
       "                <tr>\n",
       "                                <td id=\"T_bba61744_3400_11e9_8e43_54ee75e0f62drow0_col0\" class=\"data row0 col0\" >minrk</td>\n",
       "                        <td id=\"T_bba61744_3400_11e9_8e43_54ee75e0f62drow0_col1\" class=\"data row0 col1\" >MEMBER</td>\n",
       "                        <td id=\"T_bba61744_3400_11e9_8e43_54ee75e0f62drow0_col2\" class=\"data row0 col2\" >0</td>\n",
       "                        <td id=\"T_bba61744_3400_11e9_8e43_54ee75e0f62drow0_col3\" class=\"data row0 col3\" ><a target=\"_blank\" href=\"https://github.com/jupyterhub/traefik-proxy/issues/28\">https://github.com/jupyterhub/traefik-proxy/issues/28</a></td>\n",
       "            </tr>\n",
       "            <tr>\n",
       "                                <td id=\"T_bba61744_3400_11e9_8e43_54ee75e0f62drow1_col0\" class=\"data row1 col0\" >minrk</td>\n",
       "                        <td id=\"T_bba61744_3400_11e9_8e43_54ee75e0f62drow1_col1\" class=\"data row1 col1\" >MEMBER</td>\n",
       "                        <td id=\"T_bba61744_3400_11e9_8e43_54ee75e0f62drow1_col2\" class=\"data row1 col2\" >0</td>\n",
       "                        <td id=\"T_bba61744_3400_11e9_8e43_54ee75e0f62drow1_col3\" class=\"data row1 col3\" ><a target=\"_blank\" href=\"https://github.com/jupyterhub/traefik-proxy/issues/26\">https://github.com/jupyterhub/traefik-proxy/issues/26</a></td>\n",
       "            </tr>\n",
       "            <tr>\n",
       "                                <td id=\"T_bba61744_3400_11e9_8e43_54ee75e0f62drow2_col0\" class=\"data row2 col0\" >minrk</td>\n",
       "                        <td id=\"T_bba61744_3400_11e9_8e43_54ee75e0f62drow2_col1\" class=\"data row2 col1\" >MEMBER</td>\n",
       "                        <td id=\"T_bba61744_3400_11e9_8e43_54ee75e0f62drow2_col2\" class=\"data row2 col2\" >3</td>\n",
       "                        <td id=\"T_bba61744_3400_11e9_8e43_54ee75e0f62drow2_col3\" class=\"data row2 col3\" ><a target=\"_blank\" href=\"https://github.com/jupyterhub/traefik-proxy/issues/18\">https://github.com/jupyterhub/traefik-proxy/issues/18</a></td>\n",
       "            </tr>\n",
       "    </tbody></table>"
      ],
      "text/plain": [
       "<pandas.io.formats.style.Styler at 0x7f52764bc588>"
      ]
     },
     "execution_count": 20,
     "metadata": {},
     "output_type": "execute_result"
    }
   ],
   "source": [
    "stale_issues[['user', 'author_association', 'comments', 'html_url']]\\\n",
    "    .sort_values(['comments']).style.applymap(highlight_rows).format({'html_url': make_clickable}).hide_index()"
   ]
  }
 ],
 "metadata": {
  "kernelspec": {
   "display_name": "Python 3",
   "language": "python",
   "name": "python3"
  },
  "language_info": {
   "codemirror_mode": {
    "name": "ipython",
    "version": 3
   },
   "file_extension": ".py",
   "mimetype": "text/x-python",
   "name": "python",
   "nbconvert_exporter": "python",
   "pygments_lexer": "ipython3",
   "version": "3.6.5"
  },
  "papermill": {
   "duration": 8.720701,
   "end_time": "2019-02-19T04:42:18.028484",
   "environment_variables": {},
   "exception": null,
   "input_path": "./templates/issues.ipynb",
   "output_path": "../reports/2019-01-19/jupyterhub/traefik-proxy/issues.ipynb",
   "parameters": {
    "date": "2019-01-19",
    "org": "jupyterhub",
    "repo": "traefik-proxy"
   },
   "start_time": "2019-02-19T04:42:09.307783",
   "version": "0.18.0"
  }
 },
 "nbformat": 4,
 "nbformat_minor": 2
}