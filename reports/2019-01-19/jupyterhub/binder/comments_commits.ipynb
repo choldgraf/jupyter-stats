{
 "cells": [
  {
   "cell_type": "code",
   "execution_count": 1,
   "metadata": {
    "jupyter": {
     "source_hidden": true
    },
    "papermill": {
     "duration": 0.903443,
     "end_time": "2019-02-19T04:41:04.528391",
     "exception": false,
     "start_time": "2019-02-19T04:41:03.624948",
     "status": "completed"
    },
    "tags": []
   },
   "outputs": [],
   "source": [
    "import pandas as pd\n",
    "from datetime import timedelta\n",
    "from IPython.display import HTML, display"
   ]
  },
  {
   "cell_type": "code",
   "execution_count": 2,
   "metadata": {
    "jupyter": {
     "source_hidden": true
    },
    "papermill": {
     "duration": 0.033119,
     "end_time": "2019-02-19T04:41:04.582619",
     "exception": false,
     "start_time": "2019-02-19T04:41:04.549500",
     "status": "completed"
    },
    "tags": [
     "parameters"
    ]
   },
   "outputs": [],
   "source": [
    "date = pd.datetime.today() - timedelta(days=30)\n",
    "org = 'jupyterhub'\n",
    "repo = 'zero-to-jupyterhub-k8s'"
   ]
  },
  {
   "cell_type": "code",
   "execution_count": 3,
   "metadata": {
    "jupyter": {
     "source_hidden": true
    },
    "papermill": {
     "duration": 0.040373,
     "end_time": "2019-02-19T04:41:04.644681",
     "exception": false,
     "start_time": "2019-02-19T04:41:04.604308",
     "status": "completed"
    },
    "tags": [
     "injected-parameters"
    ]
   },
   "outputs": [],
   "source": [
    "# Parameters\n",
    "org = \"jupyterhub\"\n",
    "repo = \"binder\"\n",
    "date = \"2019-01-19\"\n"
   ]
  },
  {
   "cell_type": "code",
   "execution_count": 4,
   "metadata": {
    "jupyter": {
     "source_hidden": true
    },
    "papermill": {
     "duration": 0.054488,
     "end_time": "2019-02-19T04:41:04.736541",
     "exception": false,
     "start_time": "2019-02-19T04:41:04.682053",
     "status": "completed"
    },
    "tags": []
   },
   "outputs": [],
   "source": [
    "# Make sure date is parsed as a date\n",
    "date = pd.to_datetime(date)"
   ]
  },
  {
   "cell_type": "markdown",
   "metadata": {
    "papermill": {
     "duration": 0.033363,
     "end_time": "2019-02-19T04:41:04.810885",
     "exception": false,
     "start_time": "2019-02-19T04:41:04.777522",
     "status": "completed"
    },
    "tags": []
   },
   "source": [
    "## Comment and commit activity\n",
    "\n",
    "This report shows general comment and commit activity for this repository. It's goal is\n",
    "to give a birds-eye view of where activity is happening across the JupyterHub repositories.\n",
    "It shouldn't be treated as a \"leaderboard\" or set of statistics to optimize for.\n"
   ]
  },
  {
   "cell_type": "markdown",
   "metadata": {
    "papermill": {
     "duration": 0.034962,
     "end_time": "2019-02-19T04:41:04.878753",
     "exception": false,
     "start_time": "2019-02-19T04:41:04.843791",
     "status": "completed"
    },
    "tags": []
   },
   "source": [
    "# Imports"
   ]
  },
  {
   "cell_type": "code",
   "execution_count": 5,
   "metadata": {
    "jupyter": {
     "source_hidden": true
    },
    "papermill": {
     "duration": 1.764242,
     "end_time": "2019-02-19T04:41:06.663491",
     "exception": false,
     "start_time": "2019-02-19T04:41:04.899249",
     "status": "completed"
    },
    "tags": []
   },
   "outputs": [],
   "source": [
    "import pandas as pd\n",
    "import scrapbook as sb\n",
    "from subprocess import run, PIPE\n",
    "from watchtower import comments_, commits_\n",
    "import os.path as op\n",
    "import shutil as sh\n",
    "import os\n",
    "import altair as alt\n",
    "import scrapbook as sb"
   ]
  },
  {
   "cell_type": "code",
   "execution_count": 6,
   "metadata": {
    "jupyter": {
     "source_hidden": true
    },
    "papermill": {
     "duration": 0.037722,
     "end_time": "2019-02-19T04:41:06.720348",
     "exception": false,
     "start_time": "2019-02-19T04:41:06.682626",
     "status": "completed"
    },
    "tags": []
   },
   "outputs": [],
   "source": [
    "# Styling functions\n",
    "\n",
    "def highlight_rows(val):\n",
    "    \"\"\"Highlights cells pertaining to non-members and w/ no comments\"\"\"\n",
    "    disp = ''\n",
    "    if val == 0 or val == \"NONE\":\n",
    "        disp += 'background-color: #f7b7b7'\n",
    "    elif val == \"FIRST_TIME_CONTRIBUTOR\":\n",
    "        disp += 'background-color: red'\n",
    "    return disp\n",
    "\n",
    "def make_clickable(val):\n",
    "    # target _blank to open new window\n",
    "    return '<a target=\"_blank\" href=\"{}\">{}</a>'.format(val, val)\n",
    "\n",
    "def print_html(msg):\n",
    "    display(HTML('<h2 style=\"padding-left: 1em;\">{}</h2>'.format(msg)))\n",
    "    \n",
    "pd.options.display.max_colwidth = 200"
   ]
  },
  {
   "cell_type": "markdown",
   "metadata": {
    "papermill": {
     "duration": 0.028198,
     "end_time": "2019-02-19T04:41:06.785579",
     "exception": false,
     "start_time": "2019-02-19T04:41:06.757381",
     "status": "completed"
    },
    "tags": []
   },
   "source": [
    "## Load data"
   ]
  },
  {
   "cell_type": "code",
   "execution_count": 7,
   "metadata": {
    "jupyter": {
     "source_hidden": true
    },
    "papermill": {
     "duration": 0.312483,
     "end_time": "2019-02-19T04:41:07.131338",
     "exception": false,
     "start_time": "2019-02-19T04:41:06.818855",
     "status": "completed"
    },
    "tags": []
   },
   "outputs": [],
   "source": [
    "teams = pd.read_csv('../../data/teams.csv')\n",
    "\n",
    "comments = comments_.load_comments(org, repo).query('created_at > @date')\n",
    "commits = commits_.load_commits(org, repo).dropna(subset=['author']).query('date > @date')\n",
    "\n",
    "comments['user'] = comments['user'].map(lambda a: a['login'])\n",
    "commits['user'] = commits['author'].map(lambda a: a['login'])\n",
    "\n",
    "top_committers = commits.groupby('user').count()['html_url'].sort_values(ascending=False).reset_index().rename(columns={'html_url': 'commits'})\n",
    "top_commenters = comments.groupby('user').count()['html_url'].sort_values(ascending=False).reset_index().rename(columns={'html_url': 'comments'})\n",
    "\n",
    "# Save committers/commenters\n",
    "path_data_date = '../../reports/{:%Y-%m-%d}/data'.format(date)\n",
    "if not op.isdir(path_data_date):\n",
    "    os.makedirs(path_data_date)\n",
    "top_committers.to_csv(op.join(path_data_date, '{}_{}-top_committers.csv'.format(org, repo)), index=False)\n",
    "top_commenters.to_csv(op.join(path_data_date, '{}_{}-top_commenters.csv'.format(org, repo)), index=False)"
   ]
  },
  {
   "cell_type": "code",
   "execution_count": 8,
   "metadata": {
    "jupyter": {
     "source_hidden": true
    },
    "papermill": {
     "duration": 0.086662,
     "end_time": "2019-02-19T04:41:07.269273",
     "exception": false,
     "start_time": "2019-02-19T04:41:07.182611",
     "status": "completed"
    },
    "tags": []
   },
   "outputs": [
    {
     "data": {
      "text/html": [
       "<h2 style=\"padding-left: 1em;\">Total commits: 22</h2>"
      ],
      "text/plain": [
       "<IPython.core.display.HTML object>"
      ]
     },
     "metadata": {},
     "output_type": "display_data"
    },
    {
     "data": {
      "text/html": [
       "<h2 style=\"padding-left: 1em;\">Total comments: 11</h2>"
      ],
      "text/plain": [
       "<IPython.core.display.HTML object>"
      ]
     },
     "metadata": {},
     "output_type": "display_data"
    }
   ],
   "source": [
    "print_html(\"Total commits: {}\".format(len(commits)))\n",
    "print_html(\"Total comments: {}\".format(len(comments)))"
   ]
  },
  {
   "cell_type": "markdown",
   "metadata": {
    "papermill": {
     "duration": 0.030892,
     "end_time": "2019-02-19T04:41:07.339946",
     "exception": false,
     "start_time": "2019-02-19T04:41:07.309054",
     "status": "completed"
    },
    "tags": []
   },
   "source": [
    "## Top committers"
   ]
  },
  {
   "cell_type": "code",
   "execution_count": 9,
   "metadata": {
    "jupyter": {
     "source_hidden": true
    },
    "papermill": {
     "duration": 0.074814,
     "end_time": "2019-02-19T04:41:07.503989",
     "exception": false,
     "start_time": "2019-02-19T04:41:07.429175",
     "status": "completed"
    },
    "tags": []
   },
   "outputs": [],
   "source": [
    "def find_association(user):\n",
    "    person = teams.query('username == @user')\n",
    "    if len(person) == 0:\n",
    "        return 'NONE'\n",
    "    else:\n",
    "        # Return their team (preferring the Binder teams since they're a bit more specific)\n",
    "        return person.iloc[-1]['team']\n",
    "    \n",
    "top_committers['association'] = top_committers['user'].map(find_association)\n",
    "top_commenters['association'] = top_commenters['user'].map(find_association)\n",
    "\n",
    "# Define the color scale we'll use to categorize people\n",
    "color_scale = alt.Scale(\n",
    "    domain=[\"red\", \"lead\", \"blue\", \"jupyterhub\", \"NONE\"],\n",
    "    range=[\"#fdbaba\", \"#fdbaba\", \"#bac5fd\", \"#ffbb74\", \"red\"]\n",
    ")"
   ]
  },
  {
   "cell_type": "code",
   "execution_count": 10,
   "metadata": {
    "jupyter": {
     "source_hidden": true
    },
    "papermill": {
     "duration": 0.068353,
     "end_time": "2019-02-19T04:41:07.602851",
     "exception": false,
     "start_time": "2019-02-19T04:41:07.534498",
     "status": "completed"
    },
    "tags": []
   },
   "outputs": [
    {
     "name": "stderr",
     "output_type": "stream",
     "text": [
      "/home/choldgraf/anaconda/envs/dev/lib/python3.6/site-packages/altair/utils/core.py:294: FutureWarning: A future version of pandas will default to `skipna=True`. To silence this warning, pass `skipna=True|False` explicitly.\n",
      "  attrs['type'] = infer_vegalite_type(data[attrs['field']])\n"
     ]
    },
    {
     "data": {
      "application/vnd.vegalite.v2+json": {
       "$schema": "https://vega.github.io/schema/vega-lite/v2.6.0.json",
       "config": {
        "view": {
         "height": 300,
         "width": 400
        }
       },
       "data": {
        "name": "data-a2a3ab1103a5007e7cd44dc02d5184e9"
       },
       "datasets": {
        "data-a2a3ab1103a5007e7cd44dc02d5184e9": [
         {
          "association": "red",
          "commits": 11,
          "user": "choldgraf"
         },
         {
          "association": "blue",
          "commits": 9,
          "user": "lheagy"
         },
         {
          "association": "red",
          "commits": 2,
          "user": "betatim"
         }
        ]
       },
       "encoding": {
        "color": {
         "field": "association",
         "scale": {
          "domain": [
           "red",
           "lead",
           "blue",
           "jupyterhub",
           "NONE"
          ],
          "range": [
           "#fdbaba",
           "#fdbaba",
           "#bac5fd",
           "#ffbb74",
           "red"
          ]
         },
         "type": "nominal"
        },
        "x": {
         "field": "commits",
         "type": "quantitative"
        },
        "y": {
         "field": "user",
         "type": "nominal"
        }
       },
       "mark": "bar"
      },
      "text/plain": [
       "<VegaLite 2 object>\n",
       "\n",
       "If you see this message, it means the renderer has not been properly enabled\n",
       "for the frontend that you are using. For more information, see\n",
       "https://altair-viz.github.io/user_guide/troubleshooting.html\n"
      ]
     },
     "execution_count": 10,
     "metadata": {},
     "output_type": "execute_result"
    }
   ],
   "source": [
    "alt.Chart(top_committers).mark_bar().encode(\n",
    "    x='commits',\n",
    "    y='user',\n",
    "    color=alt.Color('association', scale=color_scale)\n",
    ")"
   ]
  },
  {
   "cell_type": "markdown",
   "metadata": {
    "papermill": {
     "duration": 0.017869,
     "end_time": "2019-02-19T04:41:07.638781",
     "exception": false,
     "start_time": "2019-02-19T04:41:07.620912",
     "status": "completed"
    },
    "tags": []
   },
   "source": [
    "## Top commenters"
   ]
  },
  {
   "cell_type": "code",
   "execution_count": 11,
   "metadata": {
    "jupyter": {
     "source_hidden": true
    },
    "papermill": {
     "duration": 0.039308,
     "end_time": "2019-02-19T04:41:07.701322",
     "exception": false,
     "start_time": "2019-02-19T04:41:07.662014",
     "status": "completed"
    },
    "tags": []
   },
   "outputs": [
    {
     "data": {
      "application/vnd.vegalite.v2+json": {
       "$schema": "https://vega.github.io/schema/vega-lite/v2.6.0.json",
       "config": {
        "view": {
         "height": 300,
         "width": 400
        }
       },
       "data": {
        "name": "data-f39298700b92231f774513ff69418180"
       },
       "datasets": {
        "data-f39298700b92231f774513ff69418180": [
         {
          "association": "red",
          "comments": 7,
          "user": "choldgraf"
         },
         {
          "association": "red",
          "comments": 2,
          "user": "yuvipanda"
         },
         {
          "association": "blue",
          "comments": 2,
          "user": "lheagy"
         }
        ]
       },
       "encoding": {
        "color": {
         "field": "association",
         "scale": {
          "domain": [
           "red",
           "lead",
           "blue",
           "jupyterhub",
           "NONE"
          ],
          "range": [
           "#fdbaba",
           "#fdbaba",
           "#bac5fd",
           "#ffbb74",
           "red"
          ]
         },
         "sort": [
          "CONTRIBUTOR",
          "MEMBER",
          "NONE"
         ],
         "type": "nominal"
        },
        "x": {
         "field": "comments",
         "type": "quantitative"
        },
        "y": {
         "field": "user",
         "type": "nominal"
        }
       },
       "mark": "bar"
      },
      "text/plain": [
       "<VegaLite 2 object>\n",
       "\n",
       "If you see this message, it means the renderer has not been properly enabled\n",
       "for the frontend that you are using. For more information, see\n",
       "https://altair-viz.github.io/user_guide/troubleshooting.html\n"
      ]
     },
     "execution_count": 11,
     "metadata": {},
     "output_type": "execute_result"
    }
   ],
   "source": [
    "alt.Chart(top_commenters).mark_bar().encode(\n",
    "    x='comments',\n",
    "    y='user',\n",
    "    color=alt.Color('association', sort=[\"CONTRIBUTOR\", \"MEMBER\", \"NONE\"], scale=color_scale)\n",
    ")"
   ]
  },
  {
   "cell_type": "markdown",
   "metadata": {
    "papermill": {
     "duration": 0.023314,
     "end_time": "2019-02-19T04:41:07.745432",
     "exception": false,
     "start_time": "2019-02-19T04:41:07.722118",
     "status": "completed"
    },
    "tags": []
   },
   "source": [
    "## Percentages of comments and commits"
   ]
  },
  {
   "cell_type": "code",
   "execution_count": 12,
   "metadata": {
    "jupyter": {
     "source_hidden": true
    },
    "papermill": {
     "duration": 0.042445,
     "end_time": "2019-02-19T04:41:07.809232",
     "exception": false,
     "start_time": "2019-02-19T04:41:07.766787",
     "status": "completed"
    },
    "tags": []
   },
   "outputs": [],
   "source": [
    "# Calculate percentages\n",
    "sum_comments = top_commenters.groupby('association')['comments'].sum().reset_index().rename(columns={'comments': \"percent\"})\n",
    "sum_comments['kind'] = \"comments\"\n",
    "sum_comments['percent'] = 100*(sum_comments['percent'] / sum_comments['percent'].sum())\n",
    "\n",
    "sum_commits = top_committers.groupby('association')['commits'].sum().reset_index().rename(columns={'commits': \"percent\"})\n",
    "sum_commits['kind'] = \"commits\"\n",
    "sum_commits['percent'] = 100*(sum_commits['percent'] / sum_commits['percent'].sum())\n",
    "\n",
    "sum_both = pd.concat([sum_comments, sum_commits])"
   ]
  },
  {
   "cell_type": "code",
   "execution_count": 13,
   "metadata": {
    "jupyter": {
     "source_hidden": true
    },
    "papermill": {
     "duration": 0.036863,
     "end_time": "2019-02-19T04:41:07.868535",
     "exception": false,
     "start_time": "2019-02-19T04:41:07.831672",
     "status": "completed"
    },
    "tags": []
   },
   "outputs": [
    {
     "data": {
      "application/vnd.vegalite.v2+json": {
       "$schema": "https://vega.github.io/schema/vega-lite/v2.6.0.json",
       "config": {
        "view": {
         "height": 300,
         "width": 400
        }
       },
       "data": {
        "name": "data-169aa87cf0f40d0fc447f3b82aa2ec39"
       },
       "datasets": {
        "data-169aa87cf0f40d0fc447f3b82aa2ec39": [
         {
          "association": "blue",
          "kind": "comments",
          "percent": 18.181818181818183
         },
         {
          "association": "red",
          "kind": "comments",
          "percent": 81.81818181818183
         },
         {
          "association": "blue",
          "kind": "commits",
          "percent": 40.909090909090914
         },
         {
          "association": "red",
          "kind": "commits",
          "percent": 59.09090909090909
         }
        ]
       },
       "encoding": {
        "color": {
         "field": "association",
         "scale": {
          "domain": [
           "red",
           "lead",
           "blue",
           "jupyterhub",
           "NONE"
          ],
          "range": [
           "#fdbaba",
           "#fdbaba",
           "#bac5fd",
           "#ffbb74",
           "red"
          ]
         },
         "sort": [
          "CONTRIBUTOR",
          "MEMBER",
          "NONE"
         ],
         "type": "nominal"
        },
        "x": {
         "field": "percent",
         "type": "quantitative"
        },
        "y": {
         "field": "kind",
         "type": "nominal"
        }
       },
       "mark": "bar"
      },
      "text/plain": [
       "<VegaLite 2 object>\n",
       "\n",
       "If you see this message, it means the renderer has not been properly enabled\n",
       "for the frontend that you are using. For more information, see\n",
       "https://altair-viz.github.io/user_guide/troubleshooting.html\n"
      ]
     },
     "execution_count": 13,
     "metadata": {},
     "output_type": "execute_result"
    }
   ],
   "source": [
    "alt.Chart(sum_both).mark_bar().encode(\n",
    "    x='percent',\n",
    "    y='kind',\n",
    "    color=alt.Color('association', sort=[\"CONTRIBUTOR\", \"MEMBER\", \"NONE\"], scale=color_scale)\n",
    ")"
   ]
  }
 ],
 "metadata": {
  "kernelspec": {
   "display_name": "Python 3",
   "language": "python",
   "name": "python3"
  },
  "language_info": {
   "codemirror_mode": {
    "name": "ipython",
    "version": 3
   },
   "file_extension": ".py",
   "mimetype": "text/x-python",
   "name": "python",
   "nbconvert_exporter": "python",
   "pygments_lexer": "ipython3",
   "version": "3.6.5"
  },
  "papermill": {
   "duration": 6.520162,
   "end_time": "2019-02-19T04:41:08.843066",
   "environment_variables": {},
   "exception": null,
   "input_path": "./templates/comments_commits.ipynb",
   "output_path": "../reports/2019-01-19/jupyterhub/binder/comments_commits.ipynb",
   "parameters": {
    "date": "2019-01-19",
    "org": "jupyterhub",
    "repo": "binder"
   },
   "start_time": "2019-02-19T04:41:02.322904",
   "version": "0.18.0"
  }
 },
 "nbformat": 4,
 "nbformat_minor": 2
}