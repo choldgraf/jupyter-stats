{
 "cells": [
  {
   "cell_type": "code",
   "execution_count": 1,
   "metadata": {
    "jupyter": {
     "source_hidden": true
    },
    "papermill": {
     "duration": 0.611172,
     "end_time": "2019-02-19T04:41:10.819585",
     "exception": false,
     "start_time": "2019-02-19T04:41:10.208413",
     "status": "completed"
    },
    "tags": []
   },
   "outputs": [],
   "source": [
    "import pandas as pd\n",
    "from datetime import timedelta\n",
    "from IPython.display import HTML, display"
   ]
  },
  {
   "cell_type": "code",
   "execution_count": 2,
   "metadata": {
    "jupyter": {
     "source_hidden": true
    },
    "papermill": {
     "duration": 0.06043,
     "end_time": "2019-02-19T04:41:10.915357",
     "exception": false,
     "start_time": "2019-02-19T04:41:10.854927",
     "status": "completed"
    },
    "tags": [
     "parameters"
    ]
   },
   "outputs": [],
   "source": [
    "date = pd.datetime.today() - timedelta(days=30)\n",
    "org = 'jupyterhub'\n",
    "repo = 'zero-to-jupyterhub-k8s'"
   ]
  },
  {
   "cell_type": "code",
   "execution_count": 3,
   "metadata": {
    "jupyter": {
     "source_hidden": true
    },
    "papermill": {
     "duration": 0.074459,
     "end_time": "2019-02-19T04:41:11.029129",
     "exception": false,
     "start_time": "2019-02-19T04:41:10.954670",
     "status": "completed"
    },
    "tags": [
     "injected-parameters"
    ]
   },
   "outputs": [],
   "source": [
    "# Parameters\n",
    "org = \"jupyterhub\"\n",
    "repo = \"binder\"\n",
    "date = \"2019-01-19\"\n"
   ]
  },
  {
   "cell_type": "code",
   "execution_count": 4,
   "metadata": {
    "jupyter": {
     "source_hidden": true
    },
    "papermill": {
     "duration": 0.0396,
     "end_time": "2019-02-19T04:41:11.100905",
     "exception": false,
     "start_time": "2019-02-19T04:41:11.061305",
     "status": "completed"
    },
    "tags": []
   },
   "outputs": [],
   "source": [
    "# Definition of a stale issue/PR (how many days since last updated)\n",
    "date = pd.to_datetime(date)\n",
    "stale_days = 30\n",
    "date_stale = date - timedelta(days=stale_days)"
   ]
  },
  {
   "cell_type": "markdown",
   "metadata": {
    "papermill": {
     "duration": 0.028231,
     "end_time": "2019-02-19T04:41:11.169002",
     "exception": false,
     "start_time": "2019-02-19T04:41:11.140771",
     "status": "completed"
    },
    "tags": []
   },
   "source": [
    "# Opened and Closed Issues and PRs\n",
    "\n",
    "This report shows opened and closed issues / PRs over the last 30 days, with a\n",
    "particular focus on items that haven't had a lot of discussion, or that have\n",
    "been opened by people who aren't team-members. The goal of this page is to make\n",
    "it easier to spot places where some input would be appreciated!"
   ]
  },
  {
   "cell_type": "markdown",
   "metadata": {
    "papermill": {
     "duration": 0.024127,
     "end_time": "2019-02-19T04:41:11.255238",
     "exception": false,
     "start_time": "2019-02-19T04:41:11.231111",
     "status": "completed"
    },
    "tags": []
   },
   "source": [
    "# Imports"
   ]
  },
  {
   "cell_type": "code",
   "execution_count": 5,
   "metadata": {
    "jupyter": {
     "source_hidden": true
    },
    "papermill": {
     "duration": 0.332464,
     "end_time": "2019-02-19T04:41:11.613117",
     "exception": false,
     "start_time": "2019-02-19T04:41:11.280653",
     "status": "completed"
    },
    "tags": []
   },
   "outputs": [],
   "source": [
    "import pandas as pd\n",
    "from subprocess import run, PIPE\n",
    "from watchtower import issues_\n",
    "from glob import glob\n",
    "import os.path as op\n",
    "import shutil as sh\n",
    "import sys\n",
    "sys.path.append('../../scripts/')"
   ]
  },
  {
   "cell_type": "markdown",
   "metadata": {
    "papermill": {
     "duration": 0.033302,
     "end_time": "2019-02-19T04:41:11.685328",
     "exception": false,
     "start_time": "2019-02-19T04:41:11.652026",
     "status": "completed"
    },
    "tags": []
   },
   "source": [
    "## styling functions"
   ]
  },
  {
   "cell_type": "code",
   "execution_count": 6,
   "metadata": {
    "jupyter": {
     "source_hidden": true
    },
    "papermill": {
     "duration": 0.062741,
     "end_time": "2019-02-19T04:41:11.780793",
     "exception": false,
     "start_time": "2019-02-19T04:41:11.718052",
     "status": "completed"
    },
    "tags": []
   },
   "outputs": [],
   "source": [
    "def highlight_rows(val):\n",
    "    \"\"\"Highlights cells pertaining to non-members and w/ no comments\"\"\"\n",
    "    disp = ''\n",
    "    if val == 0 or val == \"NONE\":\n",
    "        disp += 'background-color: #f7b7b7'\n",
    "    elif val == \"FIRST_TIME_CONTRIBUTOR\":\n",
    "        disp += 'background-color: red'\n",
    "    return disp\n",
    "\n",
    "def make_clickable(val):\n",
    "    # target _blank to open new window\n",
    "    return '<a target=\"_blank\" href=\"{}\">{}</a>'.format(val, val)\n",
    "\n",
    "def print_html(msg):\n",
    "    display(HTML('<h2 style=\"padding-left: 1em;\">{}</h2>'.format(msg)))\n",
    "    \n",
    "pd.options.display.max_colwidth = 200"
   ]
  },
  {
   "cell_type": "markdown",
   "metadata": {
    "papermill": {
     "duration": 0.046211,
     "end_time": "2019-02-19T04:41:11.867861",
     "exception": false,
     "start_time": "2019-02-19T04:41:11.821650",
     "status": "completed"
    },
    "tags": []
   },
   "source": [
    "## Load data"
   ]
  },
  {
   "cell_type": "code",
   "execution_count": 7,
   "metadata": {
    "jupyter": {
     "source_hidden": true
    },
    "papermill": {
     "duration": 0.083367,
     "end_time": "2019-02-19T04:41:11.985516",
     "exception": false,
     "start_time": "2019-02-19T04:41:11.902149",
     "status": "completed"
    },
    "tags": []
   },
   "outputs": [],
   "source": [
    "# Issues\n",
    "issues = issues_.load_issues(org, repo)\n",
    "issues['user'] = issues['user'].map(lambda a: a['login'])"
   ]
  },
  {
   "cell_type": "markdown",
   "metadata": {
    "papermill": {
     "duration": 0.024689,
     "end_time": "2019-02-19T04:41:12.036859",
     "exception": false,
     "start_time": "2019-02-19T04:41:12.012170",
     "status": "completed"
    },
    "tags": []
   },
   "source": [
    "# New activity"
   ]
  },
  {
   "cell_type": "markdown",
   "metadata": {
    "papermill": {
     "duration": 0.023298,
     "end_time": "2019-02-19T04:41:12.083923",
     "exception": false,
     "start_time": "2019-02-19T04:41:12.060625",
     "status": "completed"
    },
    "tags": []
   },
   "source": [
    "## Opened issues\n",
    "\n",
    "without responses in red"
   ]
  },
  {
   "cell_type": "code",
   "execution_count": 8,
   "metadata": {
    "jupyter": {
     "source_hidden": true
    },
    "papermill": {
     "duration": 0.100673,
     "end_time": "2019-02-19T04:41:12.218099",
     "exception": false,
     "start_time": "2019-02-19T04:41:12.117426",
     "status": "completed"
    },
    "tags": []
   },
   "outputs": [
    {
     "name": "stderr",
     "output_type": "stream",
     "text": [
      "/home/choldgraf/anaconda/envs/dev/lib/python3.6/site-packages/ipykernel_launcher.py:3: SettingWithCopyWarning: \n",
      "A value is trying to be set on a copy of a slice from a DataFrame.\n",
      "Try using .loc[row_indexer,col_indexer] = value instead\n",
      "\n",
      "See the caveats in the documentation: http://pandas.pydata.org/pandas-docs/stable/indexing.html#indexing-view-versus-copy\n",
      "  This is separate from the ipykernel package so we can avoid doing imports until\n"
     ]
    }
   ],
   "source": [
    "opened = issues.query('created_at > @date')\n",
    "opened_issues = opened[opened['pull_request'].isna()]\n",
    "opened_issues['closed'] = ~pd.isnull(opened_issues['closed_at'])"
   ]
  },
  {
   "cell_type": "code",
   "execution_count": 9,
   "metadata": {
    "jupyter": {
     "source_hidden": true
    },
    "papermill": {
     "duration": 0.039899,
     "end_time": "2019-02-19T04:41:12.282204",
     "exception": false,
     "start_time": "2019-02-19T04:41:12.242305",
     "status": "completed"
    },
    "tags": []
   },
   "outputs": [
    {
     "data": {
      "text/html": [
       "<h2 style=\"padding-left: 1em;\">Opened issues: 1</h2>"
      ],
      "text/plain": [
       "<IPython.core.display.HTML object>"
      ]
     },
     "metadata": {},
     "output_type": "display_data"
    }
   ],
   "source": [
    "print_html('Opened issues: {}'.format(len(opened_issues)))"
   ]
  },
  {
   "cell_type": "code",
   "execution_count": 10,
   "metadata": {
    "jupyter": {
     "source_hidden": true
    },
    "papermill": {
     "duration": 1.287143,
     "end_time": "2019-02-19T04:41:13.594799",
     "exception": false,
     "start_time": "2019-02-19T04:41:12.307656",
     "status": "completed"
    },
    "tags": []
   },
   "outputs": [
    {
     "data": {
      "text/html": [
       "<style  type=\"text/css\" >\n",
       "</style><table id=\"T_962ef558_3400_11e9_a2e5_54ee75e0f62d\" ><thead>    <tr>        <th class=\"col_heading level0 col0\" >user</th>        <th class=\"col_heading level0 col1\" >author_association</th>        <th class=\"col_heading level0 col2\" >comments</th>        <th class=\"col_heading level0 col3\" >closed</th>        <th class=\"col_heading level0 col4\" >html_url</th>    </tr></thead><tbody>\n",
       "                <tr>\n",
       "                                <td id=\"T_962ef558_3400_11e9_a2e5_54ee75e0f62drow0_col0\" class=\"data row0 col0\" >lheagy</td>\n",
       "                        <td id=\"T_962ef558_3400_11e9_a2e5_54ee75e0f62drow0_col1\" class=\"data row0 col1\" >MEMBER</td>\n",
       "                        <td id=\"T_962ef558_3400_11e9_a2e5_54ee75e0f62drow0_col2\" class=\"data row0 col2\" >1</td>\n",
       "                        <td id=\"T_962ef558_3400_11e9_a2e5_54ee75e0f62drow0_col3\" class=\"data row0 col3\" >True</td>\n",
       "                        <td id=\"T_962ef558_3400_11e9_a2e5_54ee75e0f62drow0_col4\" class=\"data row0 col4\" ><a target=\"_blank\" href=\"https://github.com/jupyterhub/binder/issues/146\">https://github.com/jupyterhub/binder/issues/146</a></td>\n",
       "            </tr>\n",
       "    </tbody></table>"
      ],
      "text/plain": [
       "<pandas.io.formats.style.Styler at 0x7f2825b70240>"
      ]
     },
     "execution_count": 10,
     "metadata": {},
     "output_type": "execute_result"
    }
   ],
   "source": [
    "opened_issues[['user', 'author_association', 'comments', 'closed', 'html_url']]\\\n",
    "    .sort_values(['closed', 'comments']).style.applymap(highlight_rows).format({'html_url': make_clickable}).hide_index()"
   ]
  },
  {
   "cell_type": "markdown",
   "metadata": {
    "papermill": {
     "duration": 0.043463,
     "end_time": "2019-02-19T04:41:13.675100",
     "exception": false,
     "start_time": "2019-02-19T04:41:13.631637",
     "status": "completed"
    },
    "tags": []
   },
   "source": [
    "## Closed issues\n"
   ]
  },
  {
   "cell_type": "code",
   "execution_count": 11,
   "metadata": {
    "jupyter": {
     "source_hidden": true
    },
    "papermill": {
     "duration": 0.065806,
     "end_time": "2019-02-19T04:41:13.784963",
     "exception": false,
     "start_time": "2019-02-19T04:41:13.719157",
     "status": "completed"
    },
    "tags": []
   },
   "outputs": [],
   "source": [
    "closed = issues.query('closed_at > @date')\n",
    "closed_issues = closed[closed['pull_request'].isna()]"
   ]
  },
  {
   "cell_type": "code",
   "execution_count": 12,
   "metadata": {
    "jupyter": {
     "source_hidden": true
    },
    "papermill": {
     "duration": 0.081527,
     "end_time": "2019-02-19T04:41:13.907885",
     "exception": false,
     "start_time": "2019-02-19T04:41:13.826358",
     "status": "completed"
    },
    "tags": []
   },
   "outputs": [
    {
     "data": {
      "text/html": [
       "<style  type=\"text/css\" >\n",
       "</style><table id=\"T_965f168e_3400_11e9_a2e5_54ee75e0f62d\" ><thead>    <tr>        <th class=\"col_heading level0 col0\" >user</th>        <th class=\"col_heading level0 col1\" >author_association</th>        <th class=\"col_heading level0 col2\" >comments</th>        <th class=\"col_heading level0 col3\" >html_url</th>    </tr></thead><tbody>\n",
       "                <tr>\n",
       "                                <td id=\"T_965f168e_3400_11e9_a2e5_54ee75e0f62drow0_col0\" class=\"data row0 col0\" >lheagy</td>\n",
       "                        <td id=\"T_965f168e_3400_11e9_a2e5_54ee75e0f62drow0_col1\" class=\"data row0 col1\" >MEMBER</td>\n",
       "                        <td id=\"T_965f168e_3400_11e9_a2e5_54ee75e0f62drow0_col2\" class=\"data row0 col2\" >1</td>\n",
       "                        <td id=\"T_965f168e_3400_11e9_a2e5_54ee75e0f62drow0_col3\" class=\"data row0 col3\" ><a target=\"_blank\" href=\"https://github.com/jupyterhub/binder/issues/146\">https://github.com/jupyterhub/binder/issues/146</a></td>\n",
       "            </tr>\n",
       "    </tbody></table>"
      ],
      "text/plain": [
       "<pandas.io.formats.style.Styler at 0x7f2820c81940>"
      ]
     },
     "execution_count": 12,
     "metadata": {},
     "output_type": "execute_result"
    }
   ],
   "source": [
    "closed_issues[['user', 'author_association', 'comments', 'html_url']]\\\n",
    "    .sort_values(['comments']).style.applymap(highlight_rows).format({'html_url': make_clickable}).hide_index()"
   ]
  },
  {
   "cell_type": "code",
   "execution_count": 13,
   "metadata": {
    "jupyter": {
     "source_hidden": true
    },
    "papermill": {
     "duration": 0.074709,
     "end_time": "2019-02-19T04:41:14.020762",
     "exception": false,
     "start_time": "2019-02-19T04:41:13.946053",
     "status": "completed"
    },
    "tags": []
   },
   "outputs": [
    {
     "data": {
      "text/html": [
       "<h2 style=\"padding-left: 1em;\">Closed issues: 1</h2>"
      ],
      "text/plain": [
       "<IPython.core.display.HTML object>"
      ]
     },
     "metadata": {},
     "output_type": "display_data"
    }
   ],
   "source": [
    "print_html('Closed issues: {}'.format(len(closed_issues)))"
   ]
  },
  {
   "cell_type": "markdown",
   "metadata": {
    "papermill": {
     "duration": 0.079607,
     "end_time": "2019-02-19T04:41:14.163999",
     "exception": false,
     "start_time": "2019-02-19T04:41:14.084392",
     "status": "completed"
    },
    "tags": []
   },
   "source": [
    "## Opened PRs\n",
    "\n",
    "without responses in red"
   ]
  },
  {
   "cell_type": "code",
   "execution_count": 14,
   "metadata": {
    "jupyter": {
     "source_hidden": true
    },
    "papermill": {
     "duration": 0.11688,
     "end_time": "2019-02-19T04:41:14.335672",
     "exception": false,
     "start_time": "2019-02-19T04:41:14.218792",
     "status": "completed"
    },
    "tags": []
   },
   "outputs": [
    {
     "name": "stderr",
     "output_type": "stream",
     "text": [
      "/home/choldgraf/anaconda/envs/dev/lib/python3.6/site-packages/ipykernel_launcher.py:2: SettingWithCopyWarning: \n",
      "A value is trying to be set on a copy of a slice from a DataFrame.\n",
      "Try using .loc[row_indexer,col_indexer] = value instead\n",
      "\n",
      "See the caveats in the documentation: http://pandas.pydata.org/pandas-docs/stable/indexing.html#indexing-view-versus-copy\n",
      "  \n"
     ]
    }
   ],
   "source": [
    "opened_prs = opened[~opened['pull_request'].isna()]\n",
    "opened_prs['closed'] = ~pd.isnull(opened_prs['closed_at'])\n",
    "\n",
    "closed_prs = closed[~closed['pull_request'].isna()]"
   ]
  },
  {
   "cell_type": "code",
   "execution_count": 15,
   "metadata": {
    "jupyter": {
     "source_hidden": true
    },
    "papermill": {
     "duration": 0.057716,
     "end_time": "2019-02-19T04:41:14.442062",
     "exception": false,
     "start_time": "2019-02-19T04:41:14.384346",
     "status": "completed"
    },
    "tags": []
   },
   "outputs": [
    {
     "data": {
      "text/html": [
       "<h2 style=\"padding-left: 1em;\">Opened PRs: 5</h2>"
      ],
      "text/plain": [
       "<IPython.core.display.HTML object>"
      ]
     },
     "metadata": {},
     "output_type": "display_data"
    }
   ],
   "source": [
    "print_html('Opened PRs: {}'.format(len(opened_prs)))"
   ]
  },
  {
   "cell_type": "code",
   "execution_count": 16,
   "metadata": {
    "jupyter": {
     "source_hidden": true
    },
    "papermill": {
     "duration": 0.125737,
     "end_time": "2019-02-19T04:41:14.616144",
     "exception": false,
     "start_time": "2019-02-19T04:41:14.490407",
     "status": "completed"
    },
    "tags": []
   },
   "outputs": [
    {
     "data": {
      "text/html": [
       "<style  type=\"text/css\" >\n",
       "    #T_96c96a84_3400_11e9_a2e5_54ee75e0f62drow0_col2 {\n",
       "            background-color:  #f7b7b7;\n",
       "        }    #T_96c96a84_3400_11e9_a2e5_54ee75e0f62drow1_col2 {\n",
       "            background-color:  #f7b7b7;\n",
       "        }</style><table id=\"T_96c96a84_3400_11e9_a2e5_54ee75e0f62d\" ><thead>    <tr>        <th class=\"col_heading level0 col0\" >user</th>        <th class=\"col_heading level0 col1\" >author_association</th>        <th class=\"col_heading level0 col2\" >comments</th>        <th class=\"col_heading level0 col3\" >closed</th>        <th class=\"col_heading level0 col4\" >html_url</th>    </tr></thead><tbody>\n",
       "                <tr>\n",
       "                                <td id=\"T_96c96a84_3400_11e9_a2e5_54ee75e0f62drow0_col0\" class=\"data row0 col0\" >choldgraf</td>\n",
       "                        <td id=\"T_96c96a84_3400_11e9_a2e5_54ee75e0f62drow0_col1\" class=\"data row0 col1\" >MEMBER</td>\n",
       "                        <td id=\"T_96c96a84_3400_11e9_a2e5_54ee75e0f62drow0_col2\" class=\"data row0 col2\" >0</td>\n",
       "                        <td id=\"T_96c96a84_3400_11e9_a2e5_54ee75e0f62drow0_col3\" class=\"data row0 col3\" >True</td>\n",
       "                        <td id=\"T_96c96a84_3400_11e9_a2e5_54ee75e0f62drow0_col4\" class=\"data row0 col4\" ><a target=\"_blank\" href=\"https://github.com/jupyterhub/binder/pull/145\">https://github.com/jupyterhub/binder/pull/145</a></td>\n",
       "            </tr>\n",
       "            <tr>\n",
       "                                <td id=\"T_96c96a84_3400_11e9_a2e5_54ee75e0f62drow1_col0\" class=\"data row1 col0\" >choldgraf</td>\n",
       "                        <td id=\"T_96c96a84_3400_11e9_a2e5_54ee75e0f62drow1_col1\" class=\"data row1 col1\" >MEMBER</td>\n",
       "                        <td id=\"T_96c96a84_3400_11e9_a2e5_54ee75e0f62drow1_col2\" class=\"data row1 col2\" >0</td>\n",
       "                        <td id=\"T_96c96a84_3400_11e9_a2e5_54ee75e0f62drow1_col3\" class=\"data row1 col3\" >True</td>\n",
       "                        <td id=\"T_96c96a84_3400_11e9_a2e5_54ee75e0f62drow1_col4\" class=\"data row1 col4\" ><a target=\"_blank\" href=\"https://github.com/jupyterhub/binder/pull/143\">https://github.com/jupyterhub/binder/pull/143</a></td>\n",
       "            </tr>\n",
       "            <tr>\n",
       "                                <td id=\"T_96c96a84_3400_11e9_a2e5_54ee75e0f62drow2_col0\" class=\"data row2 col0\" >choldgraf</td>\n",
       "                        <td id=\"T_96c96a84_3400_11e9_a2e5_54ee75e0f62drow2_col1\" class=\"data row2 col1\" >MEMBER</td>\n",
       "                        <td id=\"T_96c96a84_3400_11e9_a2e5_54ee75e0f62drow2_col2\" class=\"data row2 col2\" >1</td>\n",
       "                        <td id=\"T_96c96a84_3400_11e9_a2e5_54ee75e0f62drow2_col3\" class=\"data row2 col3\" >True</td>\n",
       "                        <td id=\"T_96c96a84_3400_11e9_a2e5_54ee75e0f62drow2_col4\" class=\"data row2 col4\" ><a target=\"_blank\" href=\"https://github.com/jupyterhub/binder/pull/148\">https://github.com/jupyterhub/binder/pull/148</a></td>\n",
       "            </tr>\n",
       "            <tr>\n",
       "                                <td id=\"T_96c96a84_3400_11e9_a2e5_54ee75e0f62drow3_col0\" class=\"data row3 col0\" >lheagy</td>\n",
       "                        <td id=\"T_96c96a84_3400_11e9_a2e5_54ee75e0f62drow3_col1\" class=\"data row3 col1\" >MEMBER</td>\n",
       "                        <td id=\"T_96c96a84_3400_11e9_a2e5_54ee75e0f62drow3_col2\" class=\"data row3 col2\" >1</td>\n",
       "                        <td id=\"T_96c96a84_3400_11e9_a2e5_54ee75e0f62drow3_col3\" class=\"data row3 col3\" >True</td>\n",
       "                        <td id=\"T_96c96a84_3400_11e9_a2e5_54ee75e0f62drow3_col4\" class=\"data row3 col4\" ><a target=\"_blank\" href=\"https://github.com/jupyterhub/binder/pull/147\">https://github.com/jupyterhub/binder/pull/147</a></td>\n",
       "            </tr>\n",
       "            <tr>\n",
       "                                <td id=\"T_96c96a84_3400_11e9_a2e5_54ee75e0f62drow4_col0\" class=\"data row4 col0\" >choldgraf</td>\n",
       "                        <td id=\"T_96c96a84_3400_11e9_a2e5_54ee75e0f62drow4_col1\" class=\"data row4 col1\" >MEMBER</td>\n",
       "                        <td id=\"T_96c96a84_3400_11e9_a2e5_54ee75e0f62drow4_col2\" class=\"data row4 col2\" >8</td>\n",
       "                        <td id=\"T_96c96a84_3400_11e9_a2e5_54ee75e0f62drow4_col3\" class=\"data row4 col3\" >True</td>\n",
       "                        <td id=\"T_96c96a84_3400_11e9_a2e5_54ee75e0f62drow4_col4\" class=\"data row4 col4\" ><a target=\"_blank\" href=\"https://github.com/jupyterhub/binder/pull/144\">https://github.com/jupyterhub/binder/pull/144</a></td>\n",
       "            </tr>\n",
       "    </tbody></table>"
      ],
      "text/plain": [
       "<pandas.io.formats.style.Styler at 0x7f2820c814e0>"
      ]
     },
     "execution_count": 16,
     "metadata": {},
     "output_type": "execute_result"
    }
   ],
   "source": [
    "opened_prs[['user', 'author_association', 'comments', 'closed', 'html_url']]\\\n",
    "    .sort_values(['closed', 'comments']).style.applymap(highlight_rows).format({'html_url': make_clickable}).hide_index()"
   ]
  },
  {
   "cell_type": "code",
   "execution_count": 17,
   "metadata": {
    "jupyter": {
     "source_hidden": true
    },
    "papermill": {
     "duration": 0.086411,
     "end_time": "2019-02-19T04:41:14.761572",
     "exception": false,
     "start_time": "2019-02-19T04:41:14.675161",
     "status": "completed"
    },
    "tags": []
   },
   "outputs": [
    {
     "data": {
      "text/html": [
       "<h2 style=\"padding-left: 1em;\">Closed PRs: 5</h2>"
      ],
      "text/plain": [
       "<IPython.core.display.HTML object>"
      ]
     },
     "metadata": {},
     "output_type": "display_data"
    }
   ],
   "source": [
    "print_html('Closed PRs: {}'.format(len(closed_prs)))"
   ]
  },
  {
   "cell_type": "code",
   "execution_count": 18,
   "metadata": {
    "jupyter": {
     "source_hidden": true
    },
    "papermill": {
     "duration": 0.074309,
     "end_time": "2019-02-19T04:41:14.889988",
     "exception": false,
     "start_time": "2019-02-19T04:41:14.815679",
     "status": "completed"
    },
    "tags": []
   },
   "outputs": [
    {
     "data": {
      "text/html": [
       "<style  type=\"text/css\" >\n",
       "    #T_96f51c1a_3400_11e9_a2e5_54ee75e0f62drow0_col2 {\n",
       "            background-color:  #f7b7b7;\n",
       "        }    #T_96f51c1a_3400_11e9_a2e5_54ee75e0f62drow1_col2 {\n",
       "            background-color:  #f7b7b7;\n",
       "        }</style><table id=\"T_96f51c1a_3400_11e9_a2e5_54ee75e0f62d\" ><thead>    <tr>        <th class=\"col_heading level0 col0\" >user</th>        <th class=\"col_heading level0 col1\" >author_association</th>        <th class=\"col_heading level0 col2\" >comments</th>        <th class=\"col_heading level0 col3\" >html_url</th>    </tr></thead><tbody>\n",
       "                <tr>\n",
       "                                <td id=\"T_96f51c1a_3400_11e9_a2e5_54ee75e0f62drow0_col0\" class=\"data row0 col0\" >choldgraf</td>\n",
       "                        <td id=\"T_96f51c1a_3400_11e9_a2e5_54ee75e0f62drow0_col1\" class=\"data row0 col1\" >MEMBER</td>\n",
       "                        <td id=\"T_96f51c1a_3400_11e9_a2e5_54ee75e0f62drow0_col2\" class=\"data row0 col2\" >0</td>\n",
       "                        <td id=\"T_96f51c1a_3400_11e9_a2e5_54ee75e0f62drow0_col3\" class=\"data row0 col3\" ><a target=\"_blank\" href=\"https://github.com/jupyterhub/binder/pull/145\">https://github.com/jupyterhub/binder/pull/145</a></td>\n",
       "            </tr>\n",
       "            <tr>\n",
       "                                <td id=\"T_96f51c1a_3400_11e9_a2e5_54ee75e0f62drow1_col0\" class=\"data row1 col0\" >choldgraf</td>\n",
       "                        <td id=\"T_96f51c1a_3400_11e9_a2e5_54ee75e0f62drow1_col1\" class=\"data row1 col1\" >MEMBER</td>\n",
       "                        <td id=\"T_96f51c1a_3400_11e9_a2e5_54ee75e0f62drow1_col2\" class=\"data row1 col2\" >0</td>\n",
       "                        <td id=\"T_96f51c1a_3400_11e9_a2e5_54ee75e0f62drow1_col3\" class=\"data row1 col3\" ><a target=\"_blank\" href=\"https://github.com/jupyterhub/binder/pull/143\">https://github.com/jupyterhub/binder/pull/143</a></td>\n",
       "            </tr>\n",
       "            <tr>\n",
       "                                <td id=\"T_96f51c1a_3400_11e9_a2e5_54ee75e0f62drow2_col0\" class=\"data row2 col0\" >choldgraf</td>\n",
       "                        <td id=\"T_96f51c1a_3400_11e9_a2e5_54ee75e0f62drow2_col1\" class=\"data row2 col1\" >MEMBER</td>\n",
       "                        <td id=\"T_96f51c1a_3400_11e9_a2e5_54ee75e0f62drow2_col2\" class=\"data row2 col2\" >1</td>\n",
       "                        <td id=\"T_96f51c1a_3400_11e9_a2e5_54ee75e0f62drow2_col3\" class=\"data row2 col3\" ><a target=\"_blank\" href=\"https://github.com/jupyterhub/binder/pull/148\">https://github.com/jupyterhub/binder/pull/148</a></td>\n",
       "            </tr>\n",
       "            <tr>\n",
       "                                <td id=\"T_96f51c1a_3400_11e9_a2e5_54ee75e0f62drow3_col0\" class=\"data row3 col0\" >lheagy</td>\n",
       "                        <td id=\"T_96f51c1a_3400_11e9_a2e5_54ee75e0f62drow3_col1\" class=\"data row3 col1\" >MEMBER</td>\n",
       "                        <td id=\"T_96f51c1a_3400_11e9_a2e5_54ee75e0f62drow3_col2\" class=\"data row3 col2\" >1</td>\n",
       "                        <td id=\"T_96f51c1a_3400_11e9_a2e5_54ee75e0f62drow3_col3\" class=\"data row3 col3\" ><a target=\"_blank\" href=\"https://github.com/jupyterhub/binder/pull/147\">https://github.com/jupyterhub/binder/pull/147</a></td>\n",
       "            </tr>\n",
       "            <tr>\n",
       "                                <td id=\"T_96f51c1a_3400_11e9_a2e5_54ee75e0f62drow4_col0\" class=\"data row4 col0\" >choldgraf</td>\n",
       "                        <td id=\"T_96f51c1a_3400_11e9_a2e5_54ee75e0f62drow4_col1\" class=\"data row4 col1\" >MEMBER</td>\n",
       "                        <td id=\"T_96f51c1a_3400_11e9_a2e5_54ee75e0f62drow4_col2\" class=\"data row4 col2\" >8</td>\n",
       "                        <td id=\"T_96f51c1a_3400_11e9_a2e5_54ee75e0f62drow4_col3\" class=\"data row4 col3\" ><a target=\"_blank\" href=\"https://github.com/jupyterhub/binder/pull/144\">https://github.com/jupyterhub/binder/pull/144</a></td>\n",
       "            </tr>\n",
       "    </tbody></table>"
      ],
      "text/plain": [
       "<pandas.io.formats.style.Styler at 0x7f2820c81780>"
      ]
     },
     "execution_count": 18,
     "metadata": {},
     "output_type": "execute_result"
    }
   ],
   "source": [
    "closed_prs[['user', 'author_association', 'comments', 'html_url']]\\\n",
    "    .sort_values(['comments']).style.applymap(highlight_rows).format({'html_url': make_clickable}).hide_index()"
   ]
  },
  {
   "cell_type": "markdown",
   "metadata": {
    "papermill": {
     "duration": 0.084156,
     "end_time": "2019-02-19T04:41:15.018077",
     "exception": false,
     "start_time": "2019-02-19T04:41:14.933921",
     "status": "completed"
    },
    "tags": []
   },
   "source": [
    "# State of repo\n",
    "\n",
    "## Stale issues"
   ]
  },
  {
   "cell_type": "code",
   "execution_count": 19,
   "metadata": {
    "jupyter": {
     "source_hidden": true
    },
    "papermill": {
     "duration": 0.080503,
     "end_time": "2019-02-19T04:41:15.148856",
     "exception": false,
     "start_time": "2019-02-19T04:41:15.068353",
     "status": "completed"
    },
    "tags": []
   },
   "outputs": [],
   "source": [
    "stale_issues = issues.query('updated_at < @date_stale')\n",
    "stale_issues = stale_issues[stale_issues['closed_at'].isnull()]"
   ]
  },
  {
   "cell_type": "code",
   "execution_count": 20,
   "metadata": {
    "jupyter": {
     "source_hidden": true
    },
    "papermill": {
     "duration": 0.094971,
     "end_time": "2019-02-19T04:41:15.280407",
     "exception": false,
     "start_time": "2019-02-19T04:41:15.185436",
     "status": "completed"
    },
    "tags": []
   },
   "outputs": [
    {
     "data": {
      "text/html": [
       "<style  type=\"text/css\" >\n",
       "    #T_972feeda_3400_11e9_a2e5_54ee75e0f62drow0_col2 {\n",
       "            background-color:  #f7b7b7;\n",
       "        }    #T_972feeda_3400_11e9_a2e5_54ee75e0f62drow1_col2 {\n",
       "            background-color:  #f7b7b7;\n",
       "        }    #T_972feeda_3400_11e9_a2e5_54ee75e0f62drow2_col1 {\n",
       "            background-color:  #f7b7b7;\n",
       "        }    #T_972feeda_3400_11e9_a2e5_54ee75e0f62drow2_col2 {\n",
       "            background-color:  #f7b7b7;\n",
       "        }    #T_972feeda_3400_11e9_a2e5_54ee75e0f62drow3_col1 {\n",
       "            background-color:  #f7b7b7;\n",
       "        }    #T_972feeda_3400_11e9_a2e5_54ee75e0f62drow13_col1 {\n",
       "            background-color:  #f7b7b7;\n",
       "        }</style><table id=\"T_972feeda_3400_11e9_a2e5_54ee75e0f62d\" ><thead>    <tr>        <th class=\"col_heading level0 col0\" >user</th>        <th class=\"col_heading level0 col1\" >author_association</th>        <th class=\"col_heading level0 col2\" >comments</th>        <th class=\"col_heading level0 col3\" >html_url</th>    </tr></thead><tbody>\n",
       "                <tr>\n",
       "                                <td id=\"T_972feeda_3400_11e9_a2e5_54ee75e0f62drow0_col0\" class=\"data row0 col0\" >choldgraf</td>\n",
       "                        <td id=\"T_972feeda_3400_11e9_a2e5_54ee75e0f62drow0_col1\" class=\"data row0 col1\" >MEMBER</td>\n",
       "                        <td id=\"T_972feeda_3400_11e9_a2e5_54ee75e0f62drow0_col2\" class=\"data row0 col2\" >0</td>\n",
       "                        <td id=\"T_972feeda_3400_11e9_a2e5_54ee75e0f62drow0_col3\" class=\"data row0 col3\" ><a target=\"_blank\" href=\"https://github.com/jupyterhub/binder/issues/78\">https://github.com/jupyterhub/binder/issues/78</a></td>\n",
       "            </tr>\n",
       "            <tr>\n",
       "                                <td id=\"T_972feeda_3400_11e9_a2e5_54ee75e0f62drow1_col0\" class=\"data row1 col0\" >betatim</td>\n",
       "                        <td id=\"T_972feeda_3400_11e9_a2e5_54ee75e0f62drow1_col1\" class=\"data row1 col1\" >MEMBER</td>\n",
       "                        <td id=\"T_972feeda_3400_11e9_a2e5_54ee75e0f62drow1_col2\" class=\"data row1 col2\" >0</td>\n",
       "                        <td id=\"T_972feeda_3400_11e9_a2e5_54ee75e0f62drow1_col3\" class=\"data row1 col3\" ><a target=\"_blank\" href=\"https://github.com/jupyterhub/binder/issues/115\">https://github.com/jupyterhub/binder/issues/115</a></td>\n",
       "            </tr>\n",
       "            <tr>\n",
       "                                <td id=\"T_972feeda_3400_11e9_a2e5_54ee75e0f62drow2_col0\" class=\"data row2 col0\" >DonGoginho</td>\n",
       "                        <td id=\"T_972feeda_3400_11e9_a2e5_54ee75e0f62drow2_col1\" class=\"data row2 col1\" >NONE</td>\n",
       "                        <td id=\"T_972feeda_3400_11e9_a2e5_54ee75e0f62drow2_col2\" class=\"data row2 col2\" >0</td>\n",
       "                        <td id=\"T_972feeda_3400_11e9_a2e5_54ee75e0f62drow2_col3\" class=\"data row2 col3\" ><a target=\"_blank\" href=\"https://github.com/jupyterhub/binder/issues/110\">https://github.com/jupyterhub/binder/issues/110</a></td>\n",
       "            </tr>\n",
       "            <tr>\n",
       "                                <td id=\"T_972feeda_3400_11e9_a2e5_54ee75e0f62drow3_col0\" class=\"data row3 col0\" >mrocklin</td>\n",
       "                        <td id=\"T_972feeda_3400_11e9_a2e5_54ee75e0f62drow3_col1\" class=\"data row3 col1\" >NONE</td>\n",
       "                        <td id=\"T_972feeda_3400_11e9_a2e5_54ee75e0f62drow3_col2\" class=\"data row3 col2\" >1</td>\n",
       "                        <td id=\"T_972feeda_3400_11e9_a2e5_54ee75e0f62drow3_col3\" class=\"data row3 col3\" ><a target=\"_blank\" href=\"https://github.com/jupyterhub/binder/issues/135\">https://github.com/jupyterhub/binder/issues/135</a></td>\n",
       "            </tr>\n",
       "            <tr>\n",
       "                                <td id=\"T_972feeda_3400_11e9_a2e5_54ee75e0f62drow4_col0\" class=\"data row4 col0\" >jzf2101</td>\n",
       "                        <td id=\"T_972feeda_3400_11e9_a2e5_54ee75e0f62drow4_col1\" class=\"data row4 col1\" >MEMBER</td>\n",
       "                        <td id=\"T_972feeda_3400_11e9_a2e5_54ee75e0f62drow4_col2\" class=\"data row4 col2\" >2</td>\n",
       "                        <td id=\"T_972feeda_3400_11e9_a2e5_54ee75e0f62drow4_col3\" class=\"data row4 col3\" ><a target=\"_blank\" href=\"https://github.com/jupyterhub/binder/issues/96\">https://github.com/jupyterhub/binder/issues/96</a></td>\n",
       "            </tr>\n",
       "            <tr>\n",
       "                                <td id=\"T_972feeda_3400_11e9_a2e5_54ee75e0f62drow5_col0\" class=\"data row5 col0\" >choldgraf</td>\n",
       "                        <td id=\"T_972feeda_3400_11e9_a2e5_54ee75e0f62drow5_col1\" class=\"data row5 col1\" >MEMBER</td>\n",
       "                        <td id=\"T_972feeda_3400_11e9_a2e5_54ee75e0f62drow5_col2\" class=\"data row5 col2\" >3</td>\n",
       "                        <td id=\"T_972feeda_3400_11e9_a2e5_54ee75e0f62drow5_col3\" class=\"data row5 col3\" ><a target=\"_blank\" href=\"https://github.com/jupyterhub/binder/issues/60\">https://github.com/jupyterhub/binder/issues/60</a></td>\n",
       "            </tr>\n",
       "            <tr>\n",
       "                                <td id=\"T_972feeda_3400_11e9_a2e5_54ee75e0f62drow6_col0\" class=\"data row6 col0\" >jzf2101</td>\n",
       "                        <td id=\"T_972feeda_3400_11e9_a2e5_54ee75e0f62drow6_col1\" class=\"data row6 col1\" >MEMBER</td>\n",
       "                        <td id=\"T_972feeda_3400_11e9_a2e5_54ee75e0f62drow6_col2\" class=\"data row6 col2\" >3</td>\n",
       "                        <td id=\"T_972feeda_3400_11e9_a2e5_54ee75e0f62drow6_col3\" class=\"data row6 col3\" ><a target=\"_blank\" href=\"https://github.com/jupyterhub/binder/issues/120\">https://github.com/jupyterhub/binder/issues/120</a></td>\n",
       "            </tr>\n",
       "            <tr>\n",
       "                                <td id=\"T_972feeda_3400_11e9_a2e5_54ee75e0f62drow7_col0\" class=\"data row7 col0\" >betatim</td>\n",
       "                        <td id=\"T_972feeda_3400_11e9_a2e5_54ee75e0f62drow7_col1\" class=\"data row7 col1\" >MEMBER</td>\n",
       "                        <td id=\"T_972feeda_3400_11e9_a2e5_54ee75e0f62drow7_col2\" class=\"data row7 col2\" >4</td>\n",
       "                        <td id=\"T_972feeda_3400_11e9_a2e5_54ee75e0f62drow7_col3\" class=\"data row7 col3\" ><a target=\"_blank\" href=\"https://github.com/jupyterhub/binder/issues/75\">https://github.com/jupyterhub/binder/issues/75</a></td>\n",
       "            </tr>\n",
       "            <tr>\n",
       "                                <td id=\"T_972feeda_3400_11e9_a2e5_54ee75e0f62drow8_col0\" class=\"data row8 col0\" >choldgraf</td>\n",
       "                        <td id=\"T_972feeda_3400_11e9_a2e5_54ee75e0f62drow8_col1\" class=\"data row8 col1\" >MEMBER</td>\n",
       "                        <td id=\"T_972feeda_3400_11e9_a2e5_54ee75e0f62drow8_col2\" class=\"data row8 col2\" >4</td>\n",
       "                        <td id=\"T_972feeda_3400_11e9_a2e5_54ee75e0f62drow8_col3\" class=\"data row8 col3\" ><a target=\"_blank\" href=\"https://github.com/jupyterhub/binder/issues/125\">https://github.com/jupyterhub/binder/issues/125</a></td>\n",
       "            </tr>\n",
       "            <tr>\n",
       "                                <td id=\"T_972feeda_3400_11e9_a2e5_54ee75e0f62drow9_col0\" class=\"data row9 col0\" >choldgraf</td>\n",
       "                        <td id=\"T_972feeda_3400_11e9_a2e5_54ee75e0f62drow9_col1\" class=\"data row9 col1\" >MEMBER</td>\n",
       "                        <td id=\"T_972feeda_3400_11e9_a2e5_54ee75e0f62drow9_col2\" class=\"data row9 col2\" >7</td>\n",
       "                        <td id=\"T_972feeda_3400_11e9_a2e5_54ee75e0f62drow9_col3\" class=\"data row9 col3\" ><a target=\"_blank\" href=\"https://github.com/jupyterhub/binder/issues/57\">https://github.com/jupyterhub/binder/issues/57</a></td>\n",
       "            </tr>\n",
       "            <tr>\n",
       "                                <td id=\"T_972feeda_3400_11e9_a2e5_54ee75e0f62drow10_col0\" class=\"data row10 col0\" >betatim</td>\n",
       "                        <td id=\"T_972feeda_3400_11e9_a2e5_54ee75e0f62drow10_col1\" class=\"data row10 col1\" >MEMBER</td>\n",
       "                        <td id=\"T_972feeda_3400_11e9_a2e5_54ee75e0f62drow10_col2\" class=\"data row10 col2\" >8</td>\n",
       "                        <td id=\"T_972feeda_3400_11e9_a2e5_54ee75e0f62drow10_col3\" class=\"data row10 col3\" ><a target=\"_blank\" href=\"https://github.com/jupyterhub/binder/issues/45\">https://github.com/jupyterhub/binder/issues/45</a></td>\n",
       "            </tr>\n",
       "            <tr>\n",
       "                                <td id=\"T_972feeda_3400_11e9_a2e5_54ee75e0f62drow11_col0\" class=\"data row11 col0\" >choldgraf</td>\n",
       "                        <td id=\"T_972feeda_3400_11e9_a2e5_54ee75e0f62drow11_col1\" class=\"data row11 col1\" >MEMBER</td>\n",
       "                        <td id=\"T_972feeda_3400_11e9_a2e5_54ee75e0f62drow11_col2\" class=\"data row11 col2\" >8</td>\n",
       "                        <td id=\"T_972feeda_3400_11e9_a2e5_54ee75e0f62drow11_col3\" class=\"data row11 col3\" ><a target=\"_blank\" href=\"https://github.com/jupyterhub/binder/issues/3\">https://github.com/jupyterhub/binder/issues/3</a></td>\n",
       "            </tr>\n",
       "            <tr>\n",
       "                                <td id=\"T_972feeda_3400_11e9_a2e5_54ee75e0f62drow12_col0\" class=\"data row12 col0\" >jzf2101</td>\n",
       "                        <td id=\"T_972feeda_3400_11e9_a2e5_54ee75e0f62drow12_col1\" class=\"data row12 col1\" >MEMBER</td>\n",
       "                        <td id=\"T_972feeda_3400_11e9_a2e5_54ee75e0f62drow12_col2\" class=\"data row12 col2\" >9</td>\n",
       "                        <td id=\"T_972feeda_3400_11e9_a2e5_54ee75e0f62drow12_col3\" class=\"data row12 col3\" ><a target=\"_blank\" href=\"https://github.com/jupyterhub/binder/issues/119\">https://github.com/jupyterhub/binder/issues/119</a></td>\n",
       "            </tr>\n",
       "            <tr>\n",
       "                                <td id=\"T_972feeda_3400_11e9_a2e5_54ee75e0f62drow13_col0\" class=\"data row13 col0\" >psychemedia</td>\n",
       "                        <td id=\"T_972feeda_3400_11e9_a2e5_54ee75e0f62drow13_col1\" class=\"data row13 col1\" >NONE</td>\n",
       "                        <td id=\"T_972feeda_3400_11e9_a2e5_54ee75e0f62drow13_col2\" class=\"data row13 col2\" >10</td>\n",
       "                        <td id=\"T_972feeda_3400_11e9_a2e5_54ee75e0f62drow13_col3\" class=\"data row13 col3\" ><a target=\"_blank\" href=\"https://github.com/jupyterhub/binder/issues/42\">https://github.com/jupyterhub/binder/issues/42</a></td>\n",
       "            </tr>\n",
       "            <tr>\n",
       "                                <td id=\"T_972feeda_3400_11e9_a2e5_54ee75e0f62drow14_col0\" class=\"data row14 col0\" >vaibhavsagar</td>\n",
       "                        <td id=\"T_972feeda_3400_11e9_a2e5_54ee75e0f62drow14_col1\" class=\"data row14 col1\" >CONTRIBUTOR</td>\n",
       "                        <td id=\"T_972feeda_3400_11e9_a2e5_54ee75e0f62drow14_col2\" class=\"data row14 col2\" >24</td>\n",
       "                        <td id=\"T_972feeda_3400_11e9_a2e5_54ee75e0f62drow14_col3\" class=\"data row14 col3\" ><a target=\"_blank\" href=\"https://github.com/jupyterhub/binder/issues/87\">https://github.com/jupyterhub/binder/issues/87</a></td>\n",
       "            </tr>\n",
       "    </tbody></table>"
      ],
      "text/plain": [
       "<pandas.io.formats.style.Styler at 0x7f284410d550>"
      ]
     },
     "execution_count": 20,
     "metadata": {},
     "output_type": "execute_result"
    }
   ],
   "source": [
    "stale_issues[['user', 'author_association', 'comments', 'html_url']]\\\n",
    "    .sort_values(['comments']).style.applymap(highlight_rows).format({'html_url': make_clickable}).hide_index()"
   ]
  }
 ],
 "metadata": {
  "kernelspec": {
   "display_name": "Python 3",
   "language": "python",
   "name": "python3"
  },
  "language_info": {
   "codemirror_mode": {
    "name": "ipython",
    "version": 3
   },
   "file_extension": ".py",
   "mimetype": "text/x-python",
   "name": "python",
   "nbconvert_exporter": "python",
   "pygments_lexer": "ipython3",
   "version": "3.6.5"
  },
  "papermill": {
   "duration": 7.539241,
   "end_time": "2019-02-19T04:41:16.490372",
   "environment_variables": {},
   "exception": null,
   "input_path": "./templates/issues.ipynb",
   "output_path": "../reports/2019-01-19/jupyterhub/binder/issues.ipynb",
   "parameters": {
    "date": "2019-01-19",
    "org": "jupyterhub",
    "repo": "binder"
   },
   "start_time": "2019-02-19T04:41:08.951131",
   "version": "0.18.0"
  }
 },
 "nbformat": 4,
 "nbformat_minor": 2
}