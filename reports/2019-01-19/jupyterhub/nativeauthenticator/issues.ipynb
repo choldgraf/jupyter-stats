{
 "cells": [
  {
   "cell_type": "code",
   "execution_count": 1,
   "metadata": {
    "jupyter": {
     "source_hidden": true
    },
    "papermill": {
     "duration": 0.538454,
     "end_time": "2019-02-19T04:41:58.684637",
     "exception": false,
     "start_time": "2019-02-19T04:41:58.146183",
     "status": "completed"
    },
    "tags": []
   },
   "outputs": [],
   "source": [
    "import pandas as pd\n",
    "from datetime import timedelta\n",
    "from IPython.display import HTML, display"
   ]
  },
  {
   "cell_type": "code",
   "execution_count": 2,
   "metadata": {
    "jupyter": {
     "source_hidden": true
    },
    "papermill": {
     "duration": 0.02779,
     "end_time": "2019-02-19T04:41:58.738858",
     "exception": false,
     "start_time": "2019-02-19T04:41:58.711068",
     "status": "completed"
    },
    "tags": [
     "parameters"
    ]
   },
   "outputs": [],
   "source": [
    "date = pd.datetime.today() - timedelta(days=30)\n",
    "org = 'jupyterhub'\n",
    "repo = 'zero-to-jupyterhub-k8s'"
   ]
  },
  {
   "cell_type": "code",
   "execution_count": 3,
   "metadata": {
    "jupyter": {
     "source_hidden": true
    },
    "papermill": {
     "duration": 0.028346,
     "end_time": "2019-02-19T04:41:58.789002",
     "exception": false,
     "start_time": "2019-02-19T04:41:58.760656",
     "status": "completed"
    },
    "tags": [
     "injected-parameters"
    ]
   },
   "outputs": [],
   "source": [
    "# Parameters\n",
    "org = \"jupyterhub\"\n",
    "repo = \"nativeauthenticator\"\n",
    "date = \"2019-01-19\"\n"
   ]
  },
  {
   "cell_type": "code",
   "execution_count": 4,
   "metadata": {
    "jupyter": {
     "source_hidden": true
    },
    "papermill": {
     "duration": 0.033479,
     "end_time": "2019-02-19T04:41:58.844341",
     "exception": false,
     "start_time": "2019-02-19T04:41:58.810862",
     "status": "completed"
    },
    "tags": []
   },
   "outputs": [],
   "source": [
    "# Definition of a stale issue/PR (how many days since last updated)\n",
    "date = pd.to_datetime(date)\n",
    "stale_days = 30\n",
    "date_stale = date - timedelta(days=stale_days)"
   ]
  },
  {
   "cell_type": "markdown",
   "metadata": {
    "papermill": {
     "duration": 0.025082,
     "end_time": "2019-02-19T04:41:58.889631",
     "exception": false,
     "start_time": "2019-02-19T04:41:58.864549",
     "status": "completed"
    },
    "tags": []
   },
   "source": [
    "# Opened and Closed Issues and PRs\n",
    "\n",
    "This report shows opened and closed issues / PRs over the last 30 days, with a\n",
    "particular focus on items that haven't had a lot of discussion, or that have\n",
    "been opened by people who aren't team-members. The goal of this page is to make\n",
    "it easier to spot places where some input would be appreciated!"
   ]
  },
  {
   "cell_type": "markdown",
   "metadata": {
    "papermill": {
     "duration": 0.023061,
     "end_time": "2019-02-19T04:41:58.935020",
     "exception": false,
     "start_time": "2019-02-19T04:41:58.911959",
     "status": "completed"
    },
    "tags": []
   },
   "source": [
    "# Imports"
   ]
  },
  {
   "cell_type": "code",
   "execution_count": 5,
   "metadata": {
    "jupyter": {
     "source_hidden": true
    },
    "papermill": {
     "duration": 0.23411,
     "end_time": "2019-02-19T04:41:59.190479",
     "exception": false,
     "start_time": "2019-02-19T04:41:58.956369",
     "status": "completed"
    },
    "tags": []
   },
   "outputs": [],
   "source": [
    "import pandas as pd\n",
    "from subprocess import run, PIPE\n",
    "from watchtower import issues_\n",
    "from glob import glob\n",
    "import os.path as op\n",
    "import shutil as sh\n",
    "import sys\n",
    "sys.path.append('../../scripts/')"
   ]
  },
  {
   "cell_type": "markdown",
   "metadata": {
    "papermill": {
     "duration": 0.023386,
     "end_time": "2019-02-19T04:41:59.234881",
     "exception": false,
     "start_time": "2019-02-19T04:41:59.211495",
     "status": "completed"
    },
    "tags": []
   },
   "source": [
    "## styling functions"
   ]
  },
  {
   "cell_type": "code",
   "execution_count": 6,
   "metadata": {
    "jupyter": {
     "source_hidden": true
    },
    "papermill": {
     "duration": 0.027377,
     "end_time": "2019-02-19T04:41:59.282218",
     "exception": false,
     "start_time": "2019-02-19T04:41:59.254841",
     "status": "completed"
    },
    "tags": []
   },
   "outputs": [],
   "source": [
    "def highlight_rows(val):\n",
    "    \"\"\"Highlights cells pertaining to non-members and w/ no comments\"\"\"\n",
    "    disp = ''\n",
    "    if val == 0 or val == \"NONE\":\n",
    "        disp += 'background-color: #f7b7b7'\n",
    "    elif val == \"FIRST_TIME_CONTRIBUTOR\":\n",
    "        disp += 'background-color: red'\n",
    "    return disp\n",
    "\n",
    "def make_clickable(val):\n",
    "    # target _blank to open new window\n",
    "    return '<a target=\"_blank\" href=\"{}\">{}</a>'.format(val, val)\n",
    "\n",
    "def print_html(msg):\n",
    "    display(HTML('<h2 style=\"padding-left: 1em;\">{}</h2>'.format(msg)))\n",
    "    \n",
    "pd.options.display.max_colwidth = 200"
   ]
  },
  {
   "cell_type": "markdown",
   "metadata": {
    "papermill": {
     "duration": 0.01831,
     "end_time": "2019-02-19T04:41:59.323444",
     "exception": false,
     "start_time": "2019-02-19T04:41:59.305134",
     "status": "completed"
    },
    "tags": []
   },
   "source": [
    "## Load data"
   ]
  },
  {
   "cell_type": "code",
   "execution_count": 7,
   "metadata": {
    "jupyter": {
     "source_hidden": true
    },
    "papermill": {
     "duration": 0.076005,
     "end_time": "2019-02-19T04:41:59.422341",
     "exception": false,
     "start_time": "2019-02-19T04:41:59.346336",
     "status": "completed"
    },
    "tags": []
   },
   "outputs": [],
   "source": [
    "# Issues\n",
    "issues = issues_.load_issues(org, repo)\n",
    "issues['user'] = issues['user'].map(lambda a: a['login'])"
   ]
  },
  {
   "cell_type": "markdown",
   "metadata": {
    "papermill": {
     "duration": 0.0226,
     "end_time": "2019-02-19T04:41:59.465568",
     "exception": false,
     "start_time": "2019-02-19T04:41:59.442968",
     "status": "completed"
    },
    "tags": []
   },
   "source": [
    "# New activity"
   ]
  },
  {
   "cell_type": "markdown",
   "metadata": {
    "papermill": {
     "duration": 0.023942,
     "end_time": "2019-02-19T04:41:59.516034",
     "exception": false,
     "start_time": "2019-02-19T04:41:59.492092",
     "status": "completed"
    },
    "tags": []
   },
   "source": [
    "## Opened issues\n",
    "\n",
    "without responses in red"
   ]
  },
  {
   "cell_type": "code",
   "execution_count": 8,
   "metadata": {
    "jupyter": {
     "source_hidden": true
    },
    "papermill": {
     "duration": 0.082332,
     "end_time": "2019-02-19T04:41:59.619511",
     "exception": false,
     "start_time": "2019-02-19T04:41:59.537179",
     "status": "completed"
    },
    "tags": []
   },
   "outputs": [
    {
     "name": "stderr",
     "output_type": "stream",
     "text": [
      "/home/choldgraf/anaconda/envs/dev/lib/python3.6/site-packages/ipykernel_launcher.py:3: SettingWithCopyWarning: \n",
      "A value is trying to be set on a copy of a slice from a DataFrame.\n",
      "Try using .loc[row_indexer,col_indexer] = value instead\n",
      "\n",
      "See the caveats in the documentation: http://pandas.pydata.org/pandas-docs/stable/indexing.html#indexing-view-versus-copy\n",
      "  This is separate from the ipykernel package so we can avoid doing imports until\n"
     ]
    }
   ],
   "source": [
    "opened = issues.query('created_at > @date')\n",
    "opened_issues = opened[opened['pull_request'].isna()]\n",
    "opened_issues['closed'] = ~pd.isnull(opened_issues['closed_at'])"
   ]
  },
  {
   "cell_type": "code",
   "execution_count": 9,
   "metadata": {
    "jupyter": {
     "source_hidden": true
    },
    "papermill": {
     "duration": 0.037177,
     "end_time": "2019-02-19T04:41:59.678562",
     "exception": false,
     "start_time": "2019-02-19T04:41:59.641385",
     "status": "completed"
    },
    "tags": []
   },
   "outputs": [
    {
     "data": {
      "text/html": [
       "<h2 style=\"padding-left: 1em;\">Opened issues: 4</h2>"
      ],
      "text/plain": [
       "<IPython.core.display.HTML object>"
      ]
     },
     "metadata": {},
     "output_type": "display_data"
    }
   ],
   "source": [
    "print_html('Opened issues: {}'.format(len(opened_issues)))"
   ]
  },
  {
   "cell_type": "code",
   "execution_count": 10,
   "metadata": {
    "jupyter": {
     "source_hidden": true
    },
    "papermill": {
     "duration": 0.737194,
     "end_time": "2019-02-19T04:42:00.440077",
     "exception": false,
     "start_time": "2019-02-19T04:41:59.702883",
     "status": "completed"
    },
    "tags": []
   },
   "outputs": [
    {
     "data": {
      "text/html": [
       "<style  type=\"text/css\" >\n",
       "    #T_b21ba0e0_3400_11e9_8f10_54ee75e0f62drow0_col2 {\n",
       "            background-color:  #f7b7b7;\n",
       "        }</style><table id=\"T_b21ba0e0_3400_11e9_8f10_54ee75e0f62d\" ><thead>    <tr>        <th class=\"col_heading level0 col0\" >user</th>        <th class=\"col_heading level0 col1\" >author_association</th>        <th class=\"col_heading level0 col2\" >comments</th>        <th class=\"col_heading level0 col3\" >closed</th>        <th class=\"col_heading level0 col4\" >html_url</th>    </tr></thead><tbody>\n",
       "                <tr>\n",
       "                                <td id=\"T_b21ba0e0_3400_11e9_8f10_54ee75e0f62drow0_col0\" class=\"data row0 col0\" >leportella</td>\n",
       "                        <td id=\"T_b21ba0e0_3400_11e9_8f10_54ee75e0f62drow0_col1\" class=\"data row0 col1\" >COLLABORATOR</td>\n",
       "                        <td id=\"T_b21ba0e0_3400_11e9_8f10_54ee75e0f62drow0_col2\" class=\"data row0 col2\" >0</td>\n",
       "                        <td id=\"T_b21ba0e0_3400_11e9_8f10_54ee75e0f62drow0_col3\" class=\"data row0 col3\" >True</td>\n",
       "                        <td id=\"T_b21ba0e0_3400_11e9_8f10_54ee75e0f62drow0_col4\" class=\"data row0 col4\" ><a target=\"_blank\" href=\"https://github.com/jupyterhub/nativeauthenticator/issues/47\">https://github.com/jupyterhub/nativeauthenticator/issues/47</a></td>\n",
       "            </tr>\n",
       "            <tr>\n",
       "                                <td id=\"T_b21ba0e0_3400_11e9_8f10_54ee75e0f62drow1_col0\" class=\"data row1 col0\" >00Kai0</td>\n",
       "                        <td id=\"T_b21ba0e0_3400_11e9_8f10_54ee75e0f62drow1_col1\" class=\"data row1 col1\" >CONTRIBUTOR</td>\n",
       "                        <td id=\"T_b21ba0e0_3400_11e9_8f10_54ee75e0f62drow1_col2\" class=\"data row1 col2\" >1</td>\n",
       "                        <td id=\"T_b21ba0e0_3400_11e9_8f10_54ee75e0f62drow1_col3\" class=\"data row1 col3\" >True</td>\n",
       "                        <td id=\"T_b21ba0e0_3400_11e9_8f10_54ee75e0f62drow1_col4\" class=\"data row1 col4\" ><a target=\"_blank\" href=\"https://github.com/jupyterhub/nativeauthenticator/issues/45\">https://github.com/jupyterhub/nativeauthenticator/issues/45</a></td>\n",
       "            </tr>\n",
       "            <tr>\n",
       "                                <td id=\"T_b21ba0e0_3400_11e9_8f10_54ee75e0f62drow2_col0\" class=\"data row2 col0\" >leportella</td>\n",
       "                        <td id=\"T_b21ba0e0_3400_11e9_8f10_54ee75e0f62drow2_col1\" class=\"data row2 col1\" >COLLABORATOR</td>\n",
       "                        <td id=\"T_b21ba0e0_3400_11e9_8f10_54ee75e0f62drow2_col2\" class=\"data row2 col2\" >1</td>\n",
       "                        <td id=\"T_b21ba0e0_3400_11e9_8f10_54ee75e0f62drow2_col3\" class=\"data row2 col3\" >True</td>\n",
       "                        <td id=\"T_b21ba0e0_3400_11e9_8f10_54ee75e0f62drow2_col4\" class=\"data row2 col4\" ><a target=\"_blank\" href=\"https://github.com/jupyterhub/nativeauthenticator/issues/39\">https://github.com/jupyterhub/nativeauthenticator/issues/39</a></td>\n",
       "            </tr>\n",
       "            <tr>\n",
       "                                <td id=\"T_b21ba0e0_3400_11e9_8f10_54ee75e0f62drow3_col0\" class=\"data row3 col0\" >leportella</td>\n",
       "                        <td id=\"T_b21ba0e0_3400_11e9_8f10_54ee75e0f62drow3_col1\" class=\"data row3 col1\" >COLLABORATOR</td>\n",
       "                        <td id=\"T_b21ba0e0_3400_11e9_8f10_54ee75e0f62drow3_col2\" class=\"data row3 col2\" >1</td>\n",
       "                        <td id=\"T_b21ba0e0_3400_11e9_8f10_54ee75e0f62drow3_col3\" class=\"data row3 col3\" >True</td>\n",
       "                        <td id=\"T_b21ba0e0_3400_11e9_8f10_54ee75e0f62drow3_col4\" class=\"data row3 col4\" ><a target=\"_blank\" href=\"https://github.com/jupyterhub/nativeauthenticator/issues/61\">https://github.com/jupyterhub/nativeauthenticator/issues/61</a></td>\n",
       "            </tr>\n",
       "    </tbody></table>"
      ],
      "text/plain": [
       "<pandas.io.formats.style.Styler at 0x7f2452708dd8>"
      ]
     },
     "execution_count": 10,
     "metadata": {},
     "output_type": "execute_result"
    }
   ],
   "source": [
    "opened_issues[['user', 'author_association', 'comments', 'closed', 'html_url']]\\\n",
    "    .sort_values(['closed', 'comments']).style.applymap(highlight_rows).format({'html_url': make_clickable}).hide_index()"
   ]
  },
  {
   "cell_type": "markdown",
   "metadata": {
    "papermill": {
     "duration": 0.025514,
     "end_time": "2019-02-19T04:42:00.488411",
     "exception": false,
     "start_time": "2019-02-19T04:42:00.462897",
     "status": "completed"
    },
    "tags": []
   },
   "source": [
    "## Closed issues\n"
   ]
  },
  {
   "cell_type": "code",
   "execution_count": 11,
   "metadata": {
    "jupyter": {
     "source_hidden": true
    },
    "papermill": {
     "duration": 0.033785,
     "end_time": "2019-02-19T04:42:00.543522",
     "exception": false,
     "start_time": "2019-02-19T04:42:00.509737",
     "status": "completed"
    },
    "tags": []
   },
   "outputs": [],
   "source": [
    "closed = issues.query('closed_at > @date')\n",
    "closed_issues = closed[closed['pull_request'].isna()]"
   ]
  },
  {
   "cell_type": "code",
   "execution_count": 12,
   "metadata": {
    "jupyter": {
     "source_hidden": true
    },
    "papermill": {
     "duration": 0.06151,
     "end_time": "2019-02-19T04:42:00.629711",
     "exception": false,
     "start_time": "2019-02-19T04:42:00.568201",
     "status": "completed"
    },
    "tags": []
   },
   "outputs": [
    {
     "data": {
      "text/html": [
       "<style  type=\"text/css\" >\n",
       "    #T_b238eb64_3400_11e9_8f10_54ee75e0f62drow0_col2 {\n",
       "            background-color:  #f7b7b7;\n",
       "        }    #T_b238eb64_3400_11e9_8f10_54ee75e0f62drow1_col2 {\n",
       "            background-color:  #f7b7b7;\n",
       "        }    #T_b238eb64_3400_11e9_8f10_54ee75e0f62drow2_col2 {\n",
       "            background-color:  #f7b7b7;\n",
       "        }    #T_b238eb64_3400_11e9_8f10_54ee75e0f62drow3_col2 {\n",
       "            background-color:  #f7b7b7;\n",
       "        }    #T_b238eb64_3400_11e9_8f10_54ee75e0f62drow4_col2 {\n",
       "            background-color:  #f7b7b7;\n",
       "        }</style><table id=\"T_b238eb64_3400_11e9_8f10_54ee75e0f62d\" ><thead>    <tr>        <th class=\"col_heading level0 col0\" >user</th>        <th class=\"col_heading level0 col1\" >author_association</th>        <th class=\"col_heading level0 col2\" >comments</th>        <th class=\"col_heading level0 col3\" >html_url</th>    </tr></thead><tbody>\n",
       "                <tr>\n",
       "                                <td id=\"T_b238eb64_3400_11e9_8f10_54ee75e0f62drow0_col0\" class=\"data row0 col0\" >leportella</td>\n",
       "                        <td id=\"T_b238eb64_3400_11e9_8f10_54ee75e0f62drow0_col1\" class=\"data row0 col1\" >COLLABORATOR</td>\n",
       "                        <td id=\"T_b238eb64_3400_11e9_8f10_54ee75e0f62drow0_col2\" class=\"data row0 col2\" >0</td>\n",
       "                        <td id=\"T_b238eb64_3400_11e9_8f10_54ee75e0f62drow0_col3\" class=\"data row0 col3\" ><a target=\"_blank\" href=\"https://github.com/jupyterhub/nativeauthenticator/issues/47\">https://github.com/jupyterhub/nativeauthenticator/issues/47</a></td>\n",
       "            </tr>\n",
       "            <tr>\n",
       "                                <td id=\"T_b238eb64_3400_11e9_8f10_54ee75e0f62drow1_col0\" class=\"data row1 col0\" >leportella</td>\n",
       "                        <td id=\"T_b238eb64_3400_11e9_8f10_54ee75e0f62drow1_col1\" class=\"data row1 col1\" >COLLABORATOR</td>\n",
       "                        <td id=\"T_b238eb64_3400_11e9_8f10_54ee75e0f62drow1_col2\" class=\"data row1 col2\" >0</td>\n",
       "                        <td id=\"T_b238eb64_3400_11e9_8f10_54ee75e0f62drow1_col3\" class=\"data row1 col3\" ><a target=\"_blank\" href=\"https://github.com/jupyterhub/nativeauthenticator/issues/33\">https://github.com/jupyterhub/nativeauthenticator/issues/33</a></td>\n",
       "            </tr>\n",
       "            <tr>\n",
       "                                <td id=\"T_b238eb64_3400_11e9_8f10_54ee75e0f62drow2_col0\" class=\"data row2 col0\" >leportella</td>\n",
       "                        <td id=\"T_b238eb64_3400_11e9_8f10_54ee75e0f62drow2_col1\" class=\"data row2 col1\" >COLLABORATOR</td>\n",
       "                        <td id=\"T_b238eb64_3400_11e9_8f10_54ee75e0f62drow2_col2\" class=\"data row2 col2\" >0</td>\n",
       "                        <td id=\"T_b238eb64_3400_11e9_8f10_54ee75e0f62drow2_col3\" class=\"data row2 col3\" ><a target=\"_blank\" href=\"https://github.com/jupyterhub/nativeauthenticator/issues/30\">https://github.com/jupyterhub/nativeauthenticator/issues/30</a></td>\n",
       "            </tr>\n",
       "            <tr>\n",
       "                                <td id=\"T_b238eb64_3400_11e9_8f10_54ee75e0f62drow3_col0\" class=\"data row3 col0\" >leportella</td>\n",
       "                        <td id=\"T_b238eb64_3400_11e9_8f10_54ee75e0f62drow3_col1\" class=\"data row3 col1\" >COLLABORATOR</td>\n",
       "                        <td id=\"T_b238eb64_3400_11e9_8f10_54ee75e0f62drow3_col2\" class=\"data row3 col2\" >0</td>\n",
       "                        <td id=\"T_b238eb64_3400_11e9_8f10_54ee75e0f62drow3_col3\" class=\"data row3 col3\" ><a target=\"_blank\" href=\"https://github.com/jupyterhub/nativeauthenticator/issues/22\">https://github.com/jupyterhub/nativeauthenticator/issues/22</a></td>\n",
       "            </tr>\n",
       "            <tr>\n",
       "                                <td id=\"T_b238eb64_3400_11e9_8f10_54ee75e0f62drow4_col0\" class=\"data row4 col0\" >leportella</td>\n",
       "                        <td id=\"T_b238eb64_3400_11e9_8f10_54ee75e0f62drow4_col1\" class=\"data row4 col1\" >COLLABORATOR</td>\n",
       "                        <td id=\"T_b238eb64_3400_11e9_8f10_54ee75e0f62drow4_col2\" class=\"data row4 col2\" >0</td>\n",
       "                        <td id=\"T_b238eb64_3400_11e9_8f10_54ee75e0f62drow4_col3\" class=\"data row4 col3\" ><a target=\"_blank\" href=\"https://github.com/jupyterhub/nativeauthenticator/issues/21\">https://github.com/jupyterhub/nativeauthenticator/issues/21</a></td>\n",
       "            </tr>\n",
       "            <tr>\n",
       "                                <td id=\"T_b238eb64_3400_11e9_8f10_54ee75e0f62drow5_col0\" class=\"data row5 col0\" >00Kai0</td>\n",
       "                        <td id=\"T_b238eb64_3400_11e9_8f10_54ee75e0f62drow5_col1\" class=\"data row5 col1\" >CONTRIBUTOR</td>\n",
       "                        <td id=\"T_b238eb64_3400_11e9_8f10_54ee75e0f62drow5_col2\" class=\"data row5 col2\" >1</td>\n",
       "                        <td id=\"T_b238eb64_3400_11e9_8f10_54ee75e0f62drow5_col3\" class=\"data row5 col3\" ><a target=\"_blank\" href=\"https://github.com/jupyterhub/nativeauthenticator/issues/45\">https://github.com/jupyterhub/nativeauthenticator/issues/45</a></td>\n",
       "            </tr>\n",
       "            <tr>\n",
       "                                <td id=\"T_b238eb64_3400_11e9_8f10_54ee75e0f62drow6_col0\" class=\"data row6 col0\" >leportella</td>\n",
       "                        <td id=\"T_b238eb64_3400_11e9_8f10_54ee75e0f62drow6_col1\" class=\"data row6 col1\" >COLLABORATOR</td>\n",
       "                        <td id=\"T_b238eb64_3400_11e9_8f10_54ee75e0f62drow6_col2\" class=\"data row6 col2\" >1</td>\n",
       "                        <td id=\"T_b238eb64_3400_11e9_8f10_54ee75e0f62drow6_col3\" class=\"data row6 col3\" ><a target=\"_blank\" href=\"https://github.com/jupyterhub/nativeauthenticator/issues/39\">https://github.com/jupyterhub/nativeauthenticator/issues/39</a></td>\n",
       "            </tr>\n",
       "            <tr>\n",
       "                                <td id=\"T_b238eb64_3400_11e9_8f10_54ee75e0f62drow7_col0\" class=\"data row7 col0\" >leportella</td>\n",
       "                        <td id=\"T_b238eb64_3400_11e9_8f10_54ee75e0f62drow7_col1\" class=\"data row7 col1\" >COLLABORATOR</td>\n",
       "                        <td id=\"T_b238eb64_3400_11e9_8f10_54ee75e0f62drow7_col2\" class=\"data row7 col2\" >1</td>\n",
       "                        <td id=\"T_b238eb64_3400_11e9_8f10_54ee75e0f62drow7_col3\" class=\"data row7 col3\" ><a target=\"_blank\" href=\"https://github.com/jupyterhub/nativeauthenticator/issues/34\">https://github.com/jupyterhub/nativeauthenticator/issues/34</a></td>\n",
       "            </tr>\n",
       "            <tr>\n",
       "                                <td id=\"T_b238eb64_3400_11e9_8f10_54ee75e0f62drow8_col0\" class=\"data row8 col0\" >leportella</td>\n",
       "                        <td id=\"T_b238eb64_3400_11e9_8f10_54ee75e0f62drow8_col1\" class=\"data row8 col1\" >COLLABORATOR</td>\n",
       "                        <td id=\"T_b238eb64_3400_11e9_8f10_54ee75e0f62drow8_col2\" class=\"data row8 col2\" >1</td>\n",
       "                        <td id=\"T_b238eb64_3400_11e9_8f10_54ee75e0f62drow8_col3\" class=\"data row8 col3\" ><a target=\"_blank\" href=\"https://github.com/jupyterhub/nativeauthenticator/issues/61\">https://github.com/jupyterhub/nativeauthenticator/issues/61</a></td>\n",
       "            </tr>\n",
       "            <tr>\n",
       "                                <td id=\"T_b238eb64_3400_11e9_8f10_54ee75e0f62drow9_col0\" class=\"data row9 col0\" >leportella</td>\n",
       "                        <td id=\"T_b238eb64_3400_11e9_8f10_54ee75e0f62drow9_col1\" class=\"data row9 col1\" >COLLABORATOR</td>\n",
       "                        <td id=\"T_b238eb64_3400_11e9_8f10_54ee75e0f62drow9_col2\" class=\"data row9 col2\" >1</td>\n",
       "                        <td id=\"T_b238eb64_3400_11e9_8f10_54ee75e0f62drow9_col3\" class=\"data row9 col3\" ><a target=\"_blank\" href=\"https://github.com/jupyterhub/nativeauthenticator/issues/23\">https://github.com/jupyterhub/nativeauthenticator/issues/23</a></td>\n",
       "            </tr>\n",
       "    </tbody></table>"
      ],
      "text/plain": [
       "<pandas.io.formats.style.Styler at 0x7f244d6b9c88>"
      ]
     },
     "execution_count": 12,
     "metadata": {},
     "output_type": "execute_result"
    }
   ],
   "source": [
    "closed_issues[['user', 'author_association', 'comments', 'html_url']]\\\n",
    "    .sort_values(['comments']).style.applymap(highlight_rows).format({'html_url': make_clickable}).hide_index()"
   ]
  },
  {
   "cell_type": "code",
   "execution_count": 13,
   "metadata": {
    "jupyter": {
     "source_hidden": true
    },
    "papermill": {
     "duration": 0.033061,
     "end_time": "2019-02-19T04:42:00.688496",
     "exception": false,
     "start_time": "2019-02-19T04:42:00.655435",
     "status": "completed"
    },
    "tags": []
   },
   "outputs": [
    {
     "data": {
      "text/html": [
       "<h2 style=\"padding-left: 1em;\">Closed issues: 10</h2>"
      ],
      "text/plain": [
       "<IPython.core.display.HTML object>"
      ]
     },
     "metadata": {},
     "output_type": "display_data"
    }
   ],
   "source": [
    "print_html('Closed issues: {}'.format(len(closed_issues)))"
   ]
  },
  {
   "cell_type": "markdown",
   "metadata": {
    "papermill": {
     "duration": 0.022145,
     "end_time": "2019-02-19T04:42:00.733994",
     "exception": false,
     "start_time": "2019-02-19T04:42:00.711849",
     "status": "completed"
    },
    "tags": []
   },
   "source": [
    "## Opened PRs\n",
    "\n",
    "without responses in red"
   ]
  },
  {
   "cell_type": "code",
   "execution_count": 14,
   "metadata": {
    "jupyter": {
     "source_hidden": true
    },
    "papermill": {
     "duration": 0.065682,
     "end_time": "2019-02-19T04:42:00.822653",
     "exception": false,
     "start_time": "2019-02-19T04:42:00.756971",
     "status": "completed"
    },
    "tags": []
   },
   "outputs": [
    {
     "name": "stderr",
     "output_type": "stream",
     "text": [
      "/home/choldgraf/anaconda/envs/dev/lib/python3.6/site-packages/ipykernel_launcher.py:2: SettingWithCopyWarning: \n",
      "A value is trying to be set on a copy of a slice from a DataFrame.\n",
      "Try using .loc[row_indexer,col_indexer] = value instead\n",
      "\n",
      "See the caveats in the documentation: http://pandas.pydata.org/pandas-docs/stable/indexing.html#indexing-view-versus-copy\n",
      "  \n"
     ]
    }
   ],
   "source": [
    "opened_prs = opened[~opened['pull_request'].isna()]\n",
    "opened_prs['closed'] = ~pd.isnull(opened_prs['closed_at'])\n",
    "\n",
    "closed_prs = closed[~closed['pull_request'].isna()]"
   ]
  },
  {
   "cell_type": "code",
   "execution_count": 15,
   "metadata": {
    "jupyter": {
     "source_hidden": true
    },
    "papermill": {
     "duration": 0.033905,
     "end_time": "2019-02-19T04:42:00.882819",
     "exception": false,
     "start_time": "2019-02-19T04:42:00.848914",
     "status": "completed"
    },
    "tags": []
   },
   "outputs": [
    {
     "data": {
      "text/html": [
       "<h2 style=\"padding-left: 1em;\">Opened PRs: 25</h2>"
      ],
      "text/plain": [
       "<IPython.core.display.HTML object>"
      ]
     },
     "metadata": {},
     "output_type": "display_data"
    }
   ],
   "source": [
    "print_html('Opened PRs: {}'.format(len(opened_prs)))"
   ]
  },
  {
   "cell_type": "code",
   "execution_count": 16,
   "metadata": {
    "jupyter": {
     "source_hidden": true
    },
    "papermill": {
     "duration": 0.114566,
     "end_time": "2019-02-19T04:42:01.022883",
     "exception": false,
     "start_time": "2019-02-19T04:42:00.908317",
     "status": "completed"
    },
    "tags": []
   },
   "outputs": [
    {
     "data": {
      "text/html": [
       "<style  type=\"text/css\" >\n",
       "    #T_b273f970_3400_11e9_8f10_54ee75e0f62drow0_col2 {\n",
       "            background-color:  #f7b7b7;\n",
       "        }    #T_b273f970_3400_11e9_8f10_54ee75e0f62drow0_col3 {\n",
       "            background-color:  #f7b7b7;\n",
       "        }    #T_b273f970_3400_11e9_8f10_54ee75e0f62drow1_col2 {\n",
       "            background-color:  #f7b7b7;\n",
       "        }    #T_b273f970_3400_11e9_8f10_54ee75e0f62drow2_col2 {\n",
       "            background-color:  #f7b7b7;\n",
       "        }    #T_b273f970_3400_11e9_8f10_54ee75e0f62drow3_col2 {\n",
       "            background-color:  #f7b7b7;\n",
       "        }    #T_b273f970_3400_11e9_8f10_54ee75e0f62drow4_col2 {\n",
       "            background-color:  #f7b7b7;\n",
       "        }    #T_b273f970_3400_11e9_8f10_54ee75e0f62drow5_col2 {\n",
       "            background-color:  #f7b7b7;\n",
       "        }    #T_b273f970_3400_11e9_8f10_54ee75e0f62drow6_col2 {\n",
       "            background-color:  #f7b7b7;\n",
       "        }    #T_b273f970_3400_11e9_8f10_54ee75e0f62drow7_col2 {\n",
       "            background-color:  #f7b7b7;\n",
       "        }    #T_b273f970_3400_11e9_8f10_54ee75e0f62drow8_col2 {\n",
       "            background-color:  #f7b7b7;\n",
       "        }    #T_b273f970_3400_11e9_8f10_54ee75e0f62drow9_col2 {\n",
       "            background-color:  #f7b7b7;\n",
       "        }    #T_b273f970_3400_11e9_8f10_54ee75e0f62drow10_col2 {\n",
       "            background-color:  #f7b7b7;\n",
       "        }    #T_b273f970_3400_11e9_8f10_54ee75e0f62drow11_col2 {\n",
       "            background-color:  #f7b7b7;\n",
       "        }    #T_b273f970_3400_11e9_8f10_54ee75e0f62drow12_col2 {\n",
       "            background-color:  #f7b7b7;\n",
       "        }    #T_b273f970_3400_11e9_8f10_54ee75e0f62drow13_col2 {\n",
       "            background-color:  #f7b7b7;\n",
       "        }    #T_b273f970_3400_11e9_8f10_54ee75e0f62drow14_col2 {\n",
       "            background-color:  #f7b7b7;\n",
       "        }    #T_b273f970_3400_11e9_8f10_54ee75e0f62drow15_col2 {\n",
       "            background-color:  #f7b7b7;\n",
       "        }    #T_b273f970_3400_11e9_8f10_54ee75e0f62drow16_col2 {\n",
       "            background-color:  #f7b7b7;\n",
       "        }    #T_b273f970_3400_11e9_8f10_54ee75e0f62drow17_col2 {\n",
       "            background-color:  #f7b7b7;\n",
       "        }    #T_b273f970_3400_11e9_8f10_54ee75e0f62drow21_col1 {\n",
       "            background-color:  #f7b7b7;\n",
       "        }</style><table id=\"T_b273f970_3400_11e9_8f10_54ee75e0f62d\" ><thead>    <tr>        <th class=\"col_heading level0 col0\" >user</th>        <th class=\"col_heading level0 col1\" >author_association</th>        <th class=\"col_heading level0 col2\" >comments</th>        <th class=\"col_heading level0 col3\" >closed</th>        <th class=\"col_heading level0 col4\" >html_url</th>    </tr></thead><tbody>\n",
       "                <tr>\n",
       "                                <td id=\"T_b273f970_3400_11e9_8f10_54ee75e0f62drow0_col0\" class=\"data row0 col0\" >00Kai0</td>\n",
       "                        <td id=\"T_b273f970_3400_11e9_8f10_54ee75e0f62drow0_col1\" class=\"data row0 col1\" >CONTRIBUTOR</td>\n",
       "                        <td id=\"T_b273f970_3400_11e9_8f10_54ee75e0f62drow0_col2\" class=\"data row0 col2\" >0</td>\n",
       "                        <td id=\"T_b273f970_3400_11e9_8f10_54ee75e0f62drow0_col3\" class=\"data row0 col3\" >False</td>\n",
       "                        <td id=\"T_b273f970_3400_11e9_8f10_54ee75e0f62drow0_col4\" class=\"data row0 col4\" ><a target=\"_blank\" href=\"https://github.com/jupyterhub/nativeauthenticator/pull/57\">https://github.com/jupyterhub/nativeauthenticator/pull/57</a></td>\n",
       "            </tr>\n",
       "            <tr>\n",
       "                                <td id=\"T_b273f970_3400_11e9_8f10_54ee75e0f62drow1_col0\" class=\"data row1 col0\" >leportella</td>\n",
       "                        <td id=\"T_b273f970_3400_11e9_8f10_54ee75e0f62drow1_col1\" class=\"data row1 col1\" >COLLABORATOR</td>\n",
       "                        <td id=\"T_b273f970_3400_11e9_8f10_54ee75e0f62drow1_col2\" class=\"data row1 col2\" >0</td>\n",
       "                        <td id=\"T_b273f970_3400_11e9_8f10_54ee75e0f62drow1_col3\" class=\"data row1 col3\" >True</td>\n",
       "                        <td id=\"T_b273f970_3400_11e9_8f10_54ee75e0f62drow1_col4\" class=\"data row1 col4\" ><a target=\"_blank\" href=\"https://github.com/jupyterhub/nativeauthenticator/pull/65\">https://github.com/jupyterhub/nativeauthenticator/pull/65</a></td>\n",
       "            </tr>\n",
       "            <tr>\n",
       "                                <td id=\"T_b273f970_3400_11e9_8f10_54ee75e0f62drow2_col0\" class=\"data row2 col0\" >leportella</td>\n",
       "                        <td id=\"T_b273f970_3400_11e9_8f10_54ee75e0f62drow2_col1\" class=\"data row2 col1\" >COLLABORATOR</td>\n",
       "                        <td id=\"T_b273f970_3400_11e9_8f10_54ee75e0f62drow2_col2\" class=\"data row2 col2\" >0</td>\n",
       "                        <td id=\"T_b273f970_3400_11e9_8f10_54ee75e0f62drow2_col3\" class=\"data row2 col3\" >True</td>\n",
       "                        <td id=\"T_b273f970_3400_11e9_8f10_54ee75e0f62drow2_col4\" class=\"data row2 col4\" ><a target=\"_blank\" href=\"https://github.com/jupyterhub/nativeauthenticator/pull/64\">https://github.com/jupyterhub/nativeauthenticator/pull/64</a></td>\n",
       "            </tr>\n",
       "            <tr>\n",
       "                                <td id=\"T_b273f970_3400_11e9_8f10_54ee75e0f62drow3_col0\" class=\"data row3 col0\" >leportella</td>\n",
       "                        <td id=\"T_b273f970_3400_11e9_8f10_54ee75e0f62drow3_col1\" class=\"data row3 col1\" >COLLABORATOR</td>\n",
       "                        <td id=\"T_b273f970_3400_11e9_8f10_54ee75e0f62drow3_col2\" class=\"data row3 col2\" >0</td>\n",
       "                        <td id=\"T_b273f970_3400_11e9_8f10_54ee75e0f62drow3_col3\" class=\"data row3 col3\" >True</td>\n",
       "                        <td id=\"T_b273f970_3400_11e9_8f10_54ee75e0f62drow3_col4\" class=\"data row3 col4\" ><a target=\"_blank\" href=\"https://github.com/jupyterhub/nativeauthenticator/pull/54\">https://github.com/jupyterhub/nativeauthenticator/pull/54</a></td>\n",
       "            </tr>\n",
       "            <tr>\n",
       "                                <td id=\"T_b273f970_3400_11e9_8f10_54ee75e0f62drow4_col0\" class=\"data row4 col0\" >leportella</td>\n",
       "                        <td id=\"T_b273f970_3400_11e9_8f10_54ee75e0f62drow4_col1\" class=\"data row4 col1\" >COLLABORATOR</td>\n",
       "                        <td id=\"T_b273f970_3400_11e9_8f10_54ee75e0f62drow4_col2\" class=\"data row4 col2\" >0</td>\n",
       "                        <td id=\"T_b273f970_3400_11e9_8f10_54ee75e0f62drow4_col3\" class=\"data row4 col3\" >True</td>\n",
       "                        <td id=\"T_b273f970_3400_11e9_8f10_54ee75e0f62drow4_col4\" class=\"data row4 col4\" ><a target=\"_blank\" href=\"https://github.com/jupyterhub/nativeauthenticator/pull/53\">https://github.com/jupyterhub/nativeauthenticator/pull/53</a></td>\n",
       "            </tr>\n",
       "            <tr>\n",
       "                                <td id=\"T_b273f970_3400_11e9_8f10_54ee75e0f62drow5_col0\" class=\"data row5 col0\" >leportella</td>\n",
       "                        <td id=\"T_b273f970_3400_11e9_8f10_54ee75e0f62drow5_col1\" class=\"data row5 col1\" >COLLABORATOR</td>\n",
       "                        <td id=\"T_b273f970_3400_11e9_8f10_54ee75e0f62drow5_col2\" class=\"data row5 col2\" >0</td>\n",
       "                        <td id=\"T_b273f970_3400_11e9_8f10_54ee75e0f62drow5_col3\" class=\"data row5 col3\" >True</td>\n",
       "                        <td id=\"T_b273f970_3400_11e9_8f10_54ee75e0f62drow5_col4\" class=\"data row5 col4\" ><a target=\"_blank\" href=\"https://github.com/jupyterhub/nativeauthenticator/pull/50\">https://github.com/jupyterhub/nativeauthenticator/pull/50</a></td>\n",
       "            </tr>\n",
       "            <tr>\n",
       "                                <td id=\"T_b273f970_3400_11e9_8f10_54ee75e0f62drow6_col0\" class=\"data row6 col0\" >leportella</td>\n",
       "                        <td id=\"T_b273f970_3400_11e9_8f10_54ee75e0f62drow6_col1\" class=\"data row6 col1\" >COLLABORATOR</td>\n",
       "                        <td id=\"T_b273f970_3400_11e9_8f10_54ee75e0f62drow6_col2\" class=\"data row6 col2\" >0</td>\n",
       "                        <td id=\"T_b273f970_3400_11e9_8f10_54ee75e0f62drow6_col3\" class=\"data row6 col3\" >True</td>\n",
       "                        <td id=\"T_b273f970_3400_11e9_8f10_54ee75e0f62drow6_col4\" class=\"data row6 col4\" ><a target=\"_blank\" href=\"https://github.com/jupyterhub/nativeauthenticator/pull/49\">https://github.com/jupyterhub/nativeauthenticator/pull/49</a></td>\n",
       "            </tr>\n",
       "            <tr>\n",
       "                                <td id=\"T_b273f970_3400_11e9_8f10_54ee75e0f62drow7_col0\" class=\"data row7 col0\" >leportella</td>\n",
       "                        <td id=\"T_b273f970_3400_11e9_8f10_54ee75e0f62drow7_col1\" class=\"data row7 col1\" >COLLABORATOR</td>\n",
       "                        <td id=\"T_b273f970_3400_11e9_8f10_54ee75e0f62drow7_col2\" class=\"data row7 col2\" >0</td>\n",
       "                        <td id=\"T_b273f970_3400_11e9_8f10_54ee75e0f62drow7_col3\" class=\"data row7 col3\" >True</td>\n",
       "                        <td id=\"T_b273f970_3400_11e9_8f10_54ee75e0f62drow7_col4\" class=\"data row7 col4\" ><a target=\"_blank\" href=\"https://github.com/jupyterhub/nativeauthenticator/pull/48\">https://github.com/jupyterhub/nativeauthenticator/pull/48</a></td>\n",
       "            </tr>\n",
       "            <tr>\n",
       "                                <td id=\"T_b273f970_3400_11e9_8f10_54ee75e0f62drow8_col0\" class=\"data row8 col0\" >leportella</td>\n",
       "                        <td id=\"T_b273f970_3400_11e9_8f10_54ee75e0f62drow8_col1\" class=\"data row8 col1\" >COLLABORATOR</td>\n",
       "                        <td id=\"T_b273f970_3400_11e9_8f10_54ee75e0f62drow8_col2\" class=\"data row8 col2\" >0</td>\n",
       "                        <td id=\"T_b273f970_3400_11e9_8f10_54ee75e0f62drow8_col3\" class=\"data row8 col3\" >True</td>\n",
       "                        <td id=\"T_b273f970_3400_11e9_8f10_54ee75e0f62drow8_col4\" class=\"data row8 col4\" ><a target=\"_blank\" href=\"https://github.com/jupyterhub/nativeauthenticator/pull/43\">https://github.com/jupyterhub/nativeauthenticator/pull/43</a></td>\n",
       "            </tr>\n",
       "            <tr>\n",
       "                                <td id=\"T_b273f970_3400_11e9_8f10_54ee75e0f62drow9_col0\" class=\"data row9 col0\" >leportella</td>\n",
       "                        <td id=\"T_b273f970_3400_11e9_8f10_54ee75e0f62drow9_col1\" class=\"data row9 col1\" >COLLABORATOR</td>\n",
       "                        <td id=\"T_b273f970_3400_11e9_8f10_54ee75e0f62drow9_col2\" class=\"data row9 col2\" >0</td>\n",
       "                        <td id=\"T_b273f970_3400_11e9_8f10_54ee75e0f62drow9_col3\" class=\"data row9 col3\" >True</td>\n",
       "                        <td id=\"T_b273f970_3400_11e9_8f10_54ee75e0f62drow9_col4\" class=\"data row9 col4\" ><a target=\"_blank\" href=\"https://github.com/jupyterhub/nativeauthenticator/pull/42\">https://github.com/jupyterhub/nativeauthenticator/pull/42</a></td>\n",
       "            </tr>\n",
       "            <tr>\n",
       "                                <td id=\"T_b273f970_3400_11e9_8f10_54ee75e0f62drow10_col0\" class=\"data row10 col0\" >leportella</td>\n",
       "                        <td id=\"T_b273f970_3400_11e9_8f10_54ee75e0f62drow10_col1\" class=\"data row10 col1\" >COLLABORATOR</td>\n",
       "                        <td id=\"T_b273f970_3400_11e9_8f10_54ee75e0f62drow10_col2\" class=\"data row10 col2\" >0</td>\n",
       "                        <td id=\"T_b273f970_3400_11e9_8f10_54ee75e0f62drow10_col3\" class=\"data row10 col3\" >True</td>\n",
       "                        <td id=\"T_b273f970_3400_11e9_8f10_54ee75e0f62drow10_col4\" class=\"data row10 col4\" ><a target=\"_blank\" href=\"https://github.com/jupyterhub/nativeauthenticator/pull/41\">https://github.com/jupyterhub/nativeauthenticator/pull/41</a></td>\n",
       "            </tr>\n",
       "            <tr>\n",
       "                                <td id=\"T_b273f970_3400_11e9_8f10_54ee75e0f62drow11_col0\" class=\"data row11 col0\" >leportella</td>\n",
       "                        <td id=\"T_b273f970_3400_11e9_8f10_54ee75e0f62drow11_col1\" class=\"data row11 col1\" >COLLABORATOR</td>\n",
       "                        <td id=\"T_b273f970_3400_11e9_8f10_54ee75e0f62drow11_col2\" class=\"data row11 col2\" >0</td>\n",
       "                        <td id=\"T_b273f970_3400_11e9_8f10_54ee75e0f62drow11_col3\" class=\"data row11 col3\" >True</td>\n",
       "                        <td id=\"T_b273f970_3400_11e9_8f10_54ee75e0f62drow11_col4\" class=\"data row11 col4\" ><a target=\"_blank\" href=\"https://github.com/jupyterhub/nativeauthenticator/pull/40\">https://github.com/jupyterhub/nativeauthenticator/pull/40</a></td>\n",
       "            </tr>\n",
       "            <tr>\n",
       "                                <td id=\"T_b273f970_3400_11e9_8f10_54ee75e0f62drow12_col0\" class=\"data row12 col0\" >leportella</td>\n",
       "                        <td id=\"T_b273f970_3400_11e9_8f10_54ee75e0f62drow12_col1\" class=\"data row12 col1\" >COLLABORATOR</td>\n",
       "                        <td id=\"T_b273f970_3400_11e9_8f10_54ee75e0f62drow12_col2\" class=\"data row12 col2\" >0</td>\n",
       "                        <td id=\"T_b273f970_3400_11e9_8f10_54ee75e0f62drow12_col3\" class=\"data row12 col3\" >True</td>\n",
       "                        <td id=\"T_b273f970_3400_11e9_8f10_54ee75e0f62drow12_col4\" class=\"data row12 col4\" ><a target=\"_blank\" href=\"https://github.com/jupyterhub/nativeauthenticator/pull/38\">https://github.com/jupyterhub/nativeauthenticator/pull/38</a></td>\n",
       "            </tr>\n",
       "            <tr>\n",
       "                                <td id=\"T_b273f970_3400_11e9_8f10_54ee75e0f62drow13_col0\" class=\"data row13 col0\" >leportella</td>\n",
       "                        <td id=\"T_b273f970_3400_11e9_8f10_54ee75e0f62drow13_col1\" class=\"data row13 col1\" >COLLABORATOR</td>\n",
       "                        <td id=\"T_b273f970_3400_11e9_8f10_54ee75e0f62drow13_col2\" class=\"data row13 col2\" >0</td>\n",
       "                        <td id=\"T_b273f970_3400_11e9_8f10_54ee75e0f62drow13_col3\" class=\"data row13 col3\" >True</td>\n",
       "                        <td id=\"T_b273f970_3400_11e9_8f10_54ee75e0f62drow13_col4\" class=\"data row13 col4\" ><a target=\"_blank\" href=\"https://github.com/jupyterhub/nativeauthenticator/pull/37\">https://github.com/jupyterhub/nativeauthenticator/pull/37</a></td>\n",
       "            </tr>\n",
       "            <tr>\n",
       "                                <td id=\"T_b273f970_3400_11e9_8f10_54ee75e0f62drow14_col0\" class=\"data row14 col0\" >leportella</td>\n",
       "                        <td id=\"T_b273f970_3400_11e9_8f10_54ee75e0f62drow14_col1\" class=\"data row14 col1\" >COLLABORATOR</td>\n",
       "                        <td id=\"T_b273f970_3400_11e9_8f10_54ee75e0f62drow14_col2\" class=\"data row14 col2\" >0</td>\n",
       "                        <td id=\"T_b273f970_3400_11e9_8f10_54ee75e0f62drow14_col3\" class=\"data row14 col3\" >True</td>\n",
       "                        <td id=\"T_b273f970_3400_11e9_8f10_54ee75e0f62drow14_col4\" class=\"data row14 col4\" ><a target=\"_blank\" href=\"https://github.com/jupyterhub/nativeauthenticator/pull/62\">https://github.com/jupyterhub/nativeauthenticator/pull/62</a></td>\n",
       "            </tr>\n",
       "            <tr>\n",
       "                                <td id=\"T_b273f970_3400_11e9_8f10_54ee75e0f62drow15_col0\" class=\"data row15 col0\" >leportella</td>\n",
       "                        <td id=\"T_b273f970_3400_11e9_8f10_54ee75e0f62drow15_col1\" class=\"data row15 col1\" >COLLABORATOR</td>\n",
       "                        <td id=\"T_b273f970_3400_11e9_8f10_54ee75e0f62drow15_col2\" class=\"data row15 col2\" >0</td>\n",
       "                        <td id=\"T_b273f970_3400_11e9_8f10_54ee75e0f62drow15_col3\" class=\"data row15 col3\" >True</td>\n",
       "                        <td id=\"T_b273f970_3400_11e9_8f10_54ee75e0f62drow15_col4\" class=\"data row15 col4\" ><a target=\"_blank\" href=\"https://github.com/jupyterhub/nativeauthenticator/pull/60\">https://github.com/jupyterhub/nativeauthenticator/pull/60</a></td>\n",
       "            </tr>\n",
       "            <tr>\n",
       "                                <td id=\"T_b273f970_3400_11e9_8f10_54ee75e0f62drow16_col0\" class=\"data row16 col0\" >leportella</td>\n",
       "                        <td id=\"T_b273f970_3400_11e9_8f10_54ee75e0f62drow16_col1\" class=\"data row16 col1\" >COLLABORATOR</td>\n",
       "                        <td id=\"T_b273f970_3400_11e9_8f10_54ee75e0f62drow16_col2\" class=\"data row16 col2\" >0</td>\n",
       "                        <td id=\"T_b273f970_3400_11e9_8f10_54ee75e0f62drow16_col3\" class=\"data row16 col3\" >True</td>\n",
       "                        <td id=\"T_b273f970_3400_11e9_8f10_54ee75e0f62drow16_col4\" class=\"data row16 col4\" ><a target=\"_blank\" href=\"https://github.com/jupyterhub/nativeauthenticator/pull/59\">https://github.com/jupyterhub/nativeauthenticator/pull/59</a></td>\n",
       "            </tr>\n",
       "            <tr>\n",
       "                                <td id=\"T_b273f970_3400_11e9_8f10_54ee75e0f62drow17_col0\" class=\"data row17 col0\" >leportella</td>\n",
       "                        <td id=\"T_b273f970_3400_11e9_8f10_54ee75e0f62drow17_col1\" class=\"data row17 col1\" >COLLABORATOR</td>\n",
       "                        <td id=\"T_b273f970_3400_11e9_8f10_54ee75e0f62drow17_col2\" class=\"data row17 col2\" >0</td>\n",
       "                        <td id=\"T_b273f970_3400_11e9_8f10_54ee75e0f62drow17_col3\" class=\"data row17 col3\" >True</td>\n",
       "                        <td id=\"T_b273f970_3400_11e9_8f10_54ee75e0f62drow17_col4\" class=\"data row17 col4\" ><a target=\"_blank\" href=\"https://github.com/jupyterhub/nativeauthenticator/pull/58\">https://github.com/jupyterhub/nativeauthenticator/pull/58</a></td>\n",
       "            </tr>\n",
       "            <tr>\n",
       "                                <td id=\"T_b273f970_3400_11e9_8f10_54ee75e0f62drow18_col0\" class=\"data row18 col0\" >leportella</td>\n",
       "                        <td id=\"T_b273f970_3400_11e9_8f10_54ee75e0f62drow18_col1\" class=\"data row18 col1\" >COLLABORATOR</td>\n",
       "                        <td id=\"T_b273f970_3400_11e9_8f10_54ee75e0f62drow18_col2\" class=\"data row18 col2\" >1</td>\n",
       "                        <td id=\"T_b273f970_3400_11e9_8f10_54ee75e0f62drow18_col3\" class=\"data row18 col3\" >True</td>\n",
       "                        <td id=\"T_b273f970_3400_11e9_8f10_54ee75e0f62drow18_col4\" class=\"data row18 col4\" ><a target=\"_blank\" href=\"https://github.com/jupyterhub/nativeauthenticator/pull/46\">https://github.com/jupyterhub/nativeauthenticator/pull/46</a></td>\n",
       "            </tr>\n",
       "            <tr>\n",
       "                                <td id=\"T_b273f970_3400_11e9_8f10_54ee75e0f62drow19_col0\" class=\"data row19 col0\" >minrk</td>\n",
       "                        <td id=\"T_b273f970_3400_11e9_8f10_54ee75e0f62drow19_col1\" class=\"data row19 col1\" >MEMBER</td>\n",
       "                        <td id=\"T_b273f970_3400_11e9_8f10_54ee75e0f62drow19_col2\" class=\"data row19 col2\" >1</td>\n",
       "                        <td id=\"T_b273f970_3400_11e9_8f10_54ee75e0f62drow19_col3\" class=\"data row19 col3\" >True</td>\n",
       "                        <td id=\"T_b273f970_3400_11e9_8f10_54ee75e0f62drow19_col4\" class=\"data row19 col4\" ><a target=\"_blank\" href=\"https://github.com/jupyterhub/nativeauthenticator/pull/63\">https://github.com/jupyterhub/nativeauthenticator/pull/63</a></td>\n",
       "            </tr>\n",
       "            <tr>\n",
       "                                <td id=\"T_b273f970_3400_11e9_8f10_54ee75e0f62drow20_col0\" class=\"data row20 col0\" >00Kai0</td>\n",
       "                        <td id=\"T_b273f970_3400_11e9_8f10_54ee75e0f62drow20_col1\" class=\"data row20 col1\" >CONTRIBUTOR</td>\n",
       "                        <td id=\"T_b273f970_3400_11e9_8f10_54ee75e0f62drow20_col2\" class=\"data row20 col2\" >1</td>\n",
       "                        <td id=\"T_b273f970_3400_11e9_8f10_54ee75e0f62drow20_col3\" class=\"data row20 col3\" >True</td>\n",
       "                        <td id=\"T_b273f970_3400_11e9_8f10_54ee75e0f62drow20_col4\" class=\"data row20 col4\" ><a target=\"_blank\" href=\"https://github.com/jupyterhub/nativeauthenticator/pull/56\">https://github.com/jupyterhub/nativeauthenticator/pull/56</a></td>\n",
       "            </tr>\n",
       "            <tr>\n",
       "                                <td id=\"T_b273f970_3400_11e9_8f10_54ee75e0f62drow21_col0\" class=\"data row21 col0\" >jason-huling</td>\n",
       "                        <td id=\"T_b273f970_3400_11e9_8f10_54ee75e0f62drow21_col1\" class=\"data row21 col1\" >NONE</td>\n",
       "                        <td id=\"T_b273f970_3400_11e9_8f10_54ee75e0f62drow21_col2\" class=\"data row21 col2\" >3</td>\n",
       "                        <td id=\"T_b273f970_3400_11e9_8f10_54ee75e0f62drow21_col3\" class=\"data row21 col3\" >True</td>\n",
       "                        <td id=\"T_b273f970_3400_11e9_8f10_54ee75e0f62drow21_col4\" class=\"data row21 col4\" ><a target=\"_blank\" href=\"https://github.com/jupyterhub/nativeauthenticator/pull/51\">https://github.com/jupyterhub/nativeauthenticator/pull/51</a></td>\n",
       "            </tr>\n",
       "            <tr>\n",
       "                                <td id=\"T_b273f970_3400_11e9_8f10_54ee75e0f62drow22_col0\" class=\"data row22 col0\" >leportella</td>\n",
       "                        <td id=\"T_b273f970_3400_11e9_8f10_54ee75e0f62drow22_col1\" class=\"data row22 col1\" >COLLABORATOR</td>\n",
       "                        <td id=\"T_b273f970_3400_11e9_8f10_54ee75e0f62drow22_col2\" class=\"data row22 col2\" >3</td>\n",
       "                        <td id=\"T_b273f970_3400_11e9_8f10_54ee75e0f62drow22_col3\" class=\"data row22 col3\" >True</td>\n",
       "                        <td id=\"T_b273f970_3400_11e9_8f10_54ee75e0f62drow22_col4\" class=\"data row22 col4\" ><a target=\"_blank\" href=\"https://github.com/jupyterhub/nativeauthenticator/pull/44\">https://github.com/jupyterhub/nativeauthenticator/pull/44</a></td>\n",
       "            </tr>\n",
       "            <tr>\n",
       "                                <td id=\"T_b273f970_3400_11e9_8f10_54ee75e0f62drow23_col0\" class=\"data row23 col0\" >00Kai0</td>\n",
       "                        <td id=\"T_b273f970_3400_11e9_8f10_54ee75e0f62drow23_col1\" class=\"data row23 col1\" >CONTRIBUTOR</td>\n",
       "                        <td id=\"T_b273f970_3400_11e9_8f10_54ee75e0f62drow23_col2\" class=\"data row23 col2\" >4</td>\n",
       "                        <td id=\"T_b273f970_3400_11e9_8f10_54ee75e0f62drow23_col3\" class=\"data row23 col3\" >True</td>\n",
       "                        <td id=\"T_b273f970_3400_11e9_8f10_54ee75e0f62drow23_col4\" class=\"data row23 col4\" ><a target=\"_blank\" href=\"https://github.com/jupyterhub/nativeauthenticator/pull/55\">https://github.com/jupyterhub/nativeauthenticator/pull/55</a></td>\n",
       "            </tr>\n",
       "            <tr>\n",
       "                                <td id=\"T_b273f970_3400_11e9_8f10_54ee75e0f62drow24_col0\" class=\"data row24 col0\" >00Kai0</td>\n",
       "                        <td id=\"T_b273f970_3400_11e9_8f10_54ee75e0f62drow24_col1\" class=\"data row24 col1\" >CONTRIBUTOR</td>\n",
       "                        <td id=\"T_b273f970_3400_11e9_8f10_54ee75e0f62drow24_col2\" class=\"data row24 col2\" >5</td>\n",
       "                        <td id=\"T_b273f970_3400_11e9_8f10_54ee75e0f62drow24_col3\" class=\"data row24 col3\" >True</td>\n",
       "                        <td id=\"T_b273f970_3400_11e9_8f10_54ee75e0f62drow24_col4\" class=\"data row24 col4\" ><a target=\"_blank\" href=\"https://github.com/jupyterhub/nativeauthenticator/pull/52\">https://github.com/jupyterhub/nativeauthenticator/pull/52</a></td>\n",
       "            </tr>\n",
       "    </tbody></table>"
      ],
      "text/plain": [
       "<pandas.io.formats.style.Styler at 0x7f244d6b90f0>"
      ]
     },
     "execution_count": 16,
     "metadata": {},
     "output_type": "execute_result"
    }
   ],
   "source": [
    "opened_prs[['user', 'author_association', 'comments', 'closed', 'html_url']]\\\n",
    "    .sort_values(['closed', 'comments']).style.applymap(highlight_rows).format({'html_url': make_clickable}).hide_index()"
   ]
  },
  {
   "cell_type": "code",
   "execution_count": 17,
   "metadata": {
    "jupyter": {
     "source_hidden": true
    },
    "papermill": {
     "duration": 0.03732,
     "end_time": "2019-02-19T04:42:01.086214",
     "exception": false,
     "start_time": "2019-02-19T04:42:01.048894",
     "status": "completed"
    },
    "tags": []
   },
   "outputs": [
    {
     "data": {
      "text/html": [
       "<h2 style=\"padding-left: 1em;\">Closed PRs: 26</h2>"
      ],
      "text/plain": [
       "<IPython.core.display.HTML object>"
      ]
     },
     "metadata": {},
     "output_type": "display_data"
    }
   ],
   "source": [
    "print_html('Closed PRs: {}'.format(len(closed_prs)))"
   ]
  },
  {
   "cell_type": "code",
   "execution_count": 18,
   "metadata": {
    "jupyter": {
     "source_hidden": true
    },
    "papermill": {
     "duration": 0.104256,
     "end_time": "2019-02-19T04:42:01.241357",
     "exception": false,
     "start_time": "2019-02-19T04:42:01.137101",
     "status": "completed"
    },
    "tags": []
   },
   "outputs": [
    {
     "data": {
      "text/html": [
       "<style  type=\"text/css\" >\n",
       "    #T_b2958342_3400_11e9_8f10_54ee75e0f62drow0_col2 {\n",
       "            background-color:  #f7b7b7;\n",
       "        }    #T_b2958342_3400_11e9_8f10_54ee75e0f62drow1_col2 {\n",
       "            background-color:  #f7b7b7;\n",
       "        }    #T_b2958342_3400_11e9_8f10_54ee75e0f62drow2_col2 {\n",
       "            background-color:  #f7b7b7;\n",
       "        }    #T_b2958342_3400_11e9_8f10_54ee75e0f62drow3_col2 {\n",
       "            background-color:  #f7b7b7;\n",
       "        }    #T_b2958342_3400_11e9_8f10_54ee75e0f62drow4_col2 {\n",
       "            background-color:  #f7b7b7;\n",
       "        }    #T_b2958342_3400_11e9_8f10_54ee75e0f62drow5_col2 {\n",
       "            background-color:  #f7b7b7;\n",
       "        }    #T_b2958342_3400_11e9_8f10_54ee75e0f62drow6_col2 {\n",
       "            background-color:  #f7b7b7;\n",
       "        }    #T_b2958342_3400_11e9_8f10_54ee75e0f62drow7_col2 {\n",
       "            background-color:  #f7b7b7;\n",
       "        }    #T_b2958342_3400_11e9_8f10_54ee75e0f62drow8_col2 {\n",
       "            background-color:  #f7b7b7;\n",
       "        }    #T_b2958342_3400_11e9_8f10_54ee75e0f62drow9_col2 {\n",
       "            background-color:  #f7b7b7;\n",
       "        }    #T_b2958342_3400_11e9_8f10_54ee75e0f62drow10_col2 {\n",
       "            background-color:  #f7b7b7;\n",
       "        }    #T_b2958342_3400_11e9_8f10_54ee75e0f62drow11_col2 {\n",
       "            background-color:  #f7b7b7;\n",
       "        }    #T_b2958342_3400_11e9_8f10_54ee75e0f62drow12_col2 {\n",
       "            background-color:  #f7b7b7;\n",
       "        }    #T_b2958342_3400_11e9_8f10_54ee75e0f62drow13_col2 {\n",
       "            background-color:  #f7b7b7;\n",
       "        }    #T_b2958342_3400_11e9_8f10_54ee75e0f62drow14_col2 {\n",
       "            background-color:  #f7b7b7;\n",
       "        }    #T_b2958342_3400_11e9_8f10_54ee75e0f62drow15_col2 {\n",
       "            background-color:  #f7b7b7;\n",
       "        }    #T_b2958342_3400_11e9_8f10_54ee75e0f62drow16_col2 {\n",
       "            background-color:  #f7b7b7;\n",
       "        }    #T_b2958342_3400_11e9_8f10_54ee75e0f62drow22_col1 {\n",
       "            background-color:  #f7b7b7;\n",
       "        }</style><table id=\"T_b2958342_3400_11e9_8f10_54ee75e0f62d\" ><thead>    <tr>        <th class=\"col_heading level0 col0\" >user</th>        <th class=\"col_heading level0 col1\" >author_association</th>        <th class=\"col_heading level0 col2\" >comments</th>        <th class=\"col_heading level0 col3\" >html_url</th>    </tr></thead><tbody>\n",
       "                <tr>\n",
       "                                <td id=\"T_b2958342_3400_11e9_8f10_54ee75e0f62drow0_col0\" class=\"data row0 col0\" >leportella</td>\n",
       "                        <td id=\"T_b2958342_3400_11e9_8f10_54ee75e0f62drow0_col1\" class=\"data row0 col1\" >COLLABORATOR</td>\n",
       "                        <td id=\"T_b2958342_3400_11e9_8f10_54ee75e0f62drow0_col2\" class=\"data row0 col2\" >0</td>\n",
       "                        <td id=\"T_b2958342_3400_11e9_8f10_54ee75e0f62drow0_col3\" class=\"data row0 col3\" ><a target=\"_blank\" href=\"https://github.com/jupyterhub/nativeauthenticator/pull/65\">https://github.com/jupyterhub/nativeauthenticator/pull/65</a></td>\n",
       "            </tr>\n",
       "            <tr>\n",
       "                                <td id=\"T_b2958342_3400_11e9_8f10_54ee75e0f62drow1_col0\" class=\"data row1 col0\" >leportella</td>\n",
       "                        <td id=\"T_b2958342_3400_11e9_8f10_54ee75e0f62drow1_col1\" class=\"data row1 col1\" >COLLABORATOR</td>\n",
       "                        <td id=\"T_b2958342_3400_11e9_8f10_54ee75e0f62drow1_col2\" class=\"data row1 col2\" >0</td>\n",
       "                        <td id=\"T_b2958342_3400_11e9_8f10_54ee75e0f62drow1_col3\" class=\"data row1 col3\" ><a target=\"_blank\" href=\"https://github.com/jupyterhub/nativeauthenticator/pull/41\">https://github.com/jupyterhub/nativeauthenticator/pull/41</a></td>\n",
       "            </tr>\n",
       "            <tr>\n",
       "                                <td id=\"T_b2958342_3400_11e9_8f10_54ee75e0f62drow2_col0\" class=\"data row2 col0\" >leportella</td>\n",
       "                        <td id=\"T_b2958342_3400_11e9_8f10_54ee75e0f62drow2_col1\" class=\"data row2 col1\" >COLLABORATOR</td>\n",
       "                        <td id=\"T_b2958342_3400_11e9_8f10_54ee75e0f62drow2_col2\" class=\"data row2 col2\" >0</td>\n",
       "                        <td id=\"T_b2958342_3400_11e9_8f10_54ee75e0f62drow2_col3\" class=\"data row2 col3\" ><a target=\"_blank\" href=\"https://github.com/jupyterhub/nativeauthenticator/pull/42\">https://github.com/jupyterhub/nativeauthenticator/pull/42</a></td>\n",
       "            </tr>\n",
       "            <tr>\n",
       "                                <td id=\"T_b2958342_3400_11e9_8f10_54ee75e0f62drow3_col0\" class=\"data row3 col0\" >leportella</td>\n",
       "                        <td id=\"T_b2958342_3400_11e9_8f10_54ee75e0f62drow3_col1\" class=\"data row3 col1\" >COLLABORATOR</td>\n",
       "                        <td id=\"T_b2958342_3400_11e9_8f10_54ee75e0f62drow3_col2\" class=\"data row3 col2\" >0</td>\n",
       "                        <td id=\"T_b2958342_3400_11e9_8f10_54ee75e0f62drow3_col3\" class=\"data row3 col3\" ><a target=\"_blank\" href=\"https://github.com/jupyterhub/nativeauthenticator/pull/43\">https://github.com/jupyterhub/nativeauthenticator/pull/43</a></td>\n",
       "            </tr>\n",
       "            <tr>\n",
       "                                <td id=\"T_b2958342_3400_11e9_8f10_54ee75e0f62drow4_col0\" class=\"data row4 col0\" >leportella</td>\n",
       "                        <td id=\"T_b2958342_3400_11e9_8f10_54ee75e0f62drow4_col1\" class=\"data row4 col1\" >COLLABORATOR</td>\n",
       "                        <td id=\"T_b2958342_3400_11e9_8f10_54ee75e0f62drow4_col2\" class=\"data row4 col2\" >0</td>\n",
       "                        <td id=\"T_b2958342_3400_11e9_8f10_54ee75e0f62drow4_col3\" class=\"data row4 col3\" ><a target=\"_blank\" href=\"https://github.com/jupyterhub/nativeauthenticator/pull/58\">https://github.com/jupyterhub/nativeauthenticator/pull/58</a></td>\n",
       "            </tr>\n",
       "            <tr>\n",
       "                                <td id=\"T_b2958342_3400_11e9_8f10_54ee75e0f62drow5_col0\" class=\"data row5 col0\" >leportella</td>\n",
       "                        <td id=\"T_b2958342_3400_11e9_8f10_54ee75e0f62drow5_col1\" class=\"data row5 col1\" >COLLABORATOR</td>\n",
       "                        <td id=\"T_b2958342_3400_11e9_8f10_54ee75e0f62drow5_col2\" class=\"data row5 col2\" >0</td>\n",
       "                        <td id=\"T_b2958342_3400_11e9_8f10_54ee75e0f62drow5_col3\" class=\"data row5 col3\" ><a target=\"_blank\" href=\"https://github.com/jupyterhub/nativeauthenticator/pull/37\">https://github.com/jupyterhub/nativeauthenticator/pull/37</a></td>\n",
       "            </tr>\n",
       "            <tr>\n",
       "                                <td id=\"T_b2958342_3400_11e9_8f10_54ee75e0f62drow6_col0\" class=\"data row6 col0\" >leportella</td>\n",
       "                        <td id=\"T_b2958342_3400_11e9_8f10_54ee75e0f62drow6_col1\" class=\"data row6 col1\" >COLLABORATOR</td>\n",
       "                        <td id=\"T_b2958342_3400_11e9_8f10_54ee75e0f62drow6_col2\" class=\"data row6 col2\" >0</td>\n",
       "                        <td id=\"T_b2958342_3400_11e9_8f10_54ee75e0f62drow6_col3\" class=\"data row6 col3\" ><a target=\"_blank\" href=\"https://github.com/jupyterhub/nativeauthenticator/pull/48\">https://github.com/jupyterhub/nativeauthenticator/pull/48</a></td>\n",
       "            </tr>\n",
       "            <tr>\n",
       "                                <td id=\"T_b2958342_3400_11e9_8f10_54ee75e0f62drow7_col0\" class=\"data row7 col0\" >leportella</td>\n",
       "                        <td id=\"T_b2958342_3400_11e9_8f10_54ee75e0f62drow7_col1\" class=\"data row7 col1\" >COLLABORATOR</td>\n",
       "                        <td id=\"T_b2958342_3400_11e9_8f10_54ee75e0f62drow7_col2\" class=\"data row7 col2\" >0</td>\n",
       "                        <td id=\"T_b2958342_3400_11e9_8f10_54ee75e0f62drow7_col3\" class=\"data row7 col3\" ><a target=\"_blank\" href=\"https://github.com/jupyterhub/nativeauthenticator/pull/40\">https://github.com/jupyterhub/nativeauthenticator/pull/40</a></td>\n",
       "            </tr>\n",
       "            <tr>\n",
       "                                <td id=\"T_b2958342_3400_11e9_8f10_54ee75e0f62drow8_col0\" class=\"data row8 col0\" >leportella</td>\n",
       "                        <td id=\"T_b2958342_3400_11e9_8f10_54ee75e0f62drow8_col1\" class=\"data row8 col1\" >COLLABORATOR</td>\n",
       "                        <td id=\"T_b2958342_3400_11e9_8f10_54ee75e0f62drow8_col2\" class=\"data row8 col2\" >0</td>\n",
       "                        <td id=\"T_b2958342_3400_11e9_8f10_54ee75e0f62drow8_col3\" class=\"data row8 col3\" ><a target=\"_blank\" href=\"https://github.com/jupyterhub/nativeauthenticator/pull/49\">https://github.com/jupyterhub/nativeauthenticator/pull/49</a></td>\n",
       "            </tr>\n",
       "            <tr>\n",
       "                                <td id=\"T_b2958342_3400_11e9_8f10_54ee75e0f62drow9_col0\" class=\"data row9 col0\" >leportella</td>\n",
       "                        <td id=\"T_b2958342_3400_11e9_8f10_54ee75e0f62drow9_col1\" class=\"data row9 col1\" >COLLABORATOR</td>\n",
       "                        <td id=\"T_b2958342_3400_11e9_8f10_54ee75e0f62drow9_col2\" class=\"data row9 col2\" >0</td>\n",
       "                        <td id=\"T_b2958342_3400_11e9_8f10_54ee75e0f62drow9_col3\" class=\"data row9 col3\" ><a target=\"_blank\" href=\"https://github.com/jupyterhub/nativeauthenticator/pull/62\">https://github.com/jupyterhub/nativeauthenticator/pull/62</a></td>\n",
       "            </tr>\n",
       "            <tr>\n",
       "                                <td id=\"T_b2958342_3400_11e9_8f10_54ee75e0f62drow10_col0\" class=\"data row10 col0\" >leportella</td>\n",
       "                        <td id=\"T_b2958342_3400_11e9_8f10_54ee75e0f62drow10_col1\" class=\"data row10 col1\" >COLLABORATOR</td>\n",
       "                        <td id=\"T_b2958342_3400_11e9_8f10_54ee75e0f62drow10_col2\" class=\"data row10 col2\" >0</td>\n",
       "                        <td id=\"T_b2958342_3400_11e9_8f10_54ee75e0f62drow10_col3\" class=\"data row10 col3\" ><a target=\"_blank\" href=\"https://github.com/jupyterhub/nativeauthenticator/pull/60\">https://github.com/jupyterhub/nativeauthenticator/pull/60</a></td>\n",
       "            </tr>\n",
       "            <tr>\n",
       "                                <td id=\"T_b2958342_3400_11e9_8f10_54ee75e0f62drow11_col0\" class=\"data row11 col0\" >leportella</td>\n",
       "                        <td id=\"T_b2958342_3400_11e9_8f10_54ee75e0f62drow11_col1\" class=\"data row11 col1\" >COLLABORATOR</td>\n",
       "                        <td id=\"T_b2958342_3400_11e9_8f10_54ee75e0f62drow11_col2\" class=\"data row11 col2\" >0</td>\n",
       "                        <td id=\"T_b2958342_3400_11e9_8f10_54ee75e0f62drow11_col3\" class=\"data row11 col3\" ><a target=\"_blank\" href=\"https://github.com/jupyterhub/nativeauthenticator/pull/53\">https://github.com/jupyterhub/nativeauthenticator/pull/53</a></td>\n",
       "            </tr>\n",
       "            <tr>\n",
       "                                <td id=\"T_b2958342_3400_11e9_8f10_54ee75e0f62drow12_col0\" class=\"data row12 col0\" >leportella</td>\n",
       "                        <td id=\"T_b2958342_3400_11e9_8f10_54ee75e0f62drow12_col1\" class=\"data row12 col1\" >COLLABORATOR</td>\n",
       "                        <td id=\"T_b2958342_3400_11e9_8f10_54ee75e0f62drow12_col2\" class=\"data row12 col2\" >0</td>\n",
       "                        <td id=\"T_b2958342_3400_11e9_8f10_54ee75e0f62drow12_col3\" class=\"data row12 col3\" ><a target=\"_blank\" href=\"https://github.com/jupyterhub/nativeauthenticator/pull/54\">https://github.com/jupyterhub/nativeauthenticator/pull/54</a></td>\n",
       "            </tr>\n",
       "            <tr>\n",
       "                                <td id=\"T_b2958342_3400_11e9_8f10_54ee75e0f62drow13_col0\" class=\"data row13 col0\" >leportella</td>\n",
       "                        <td id=\"T_b2958342_3400_11e9_8f10_54ee75e0f62drow13_col1\" class=\"data row13 col1\" >COLLABORATOR</td>\n",
       "                        <td id=\"T_b2958342_3400_11e9_8f10_54ee75e0f62drow13_col2\" class=\"data row13 col2\" >0</td>\n",
       "                        <td id=\"T_b2958342_3400_11e9_8f10_54ee75e0f62drow13_col3\" class=\"data row13 col3\" ><a target=\"_blank\" href=\"https://github.com/jupyterhub/nativeauthenticator/pull/59\">https://github.com/jupyterhub/nativeauthenticator/pull/59</a></td>\n",
       "            </tr>\n",
       "            <tr>\n",
       "                                <td id=\"T_b2958342_3400_11e9_8f10_54ee75e0f62drow14_col0\" class=\"data row14 col0\" >leportella</td>\n",
       "                        <td id=\"T_b2958342_3400_11e9_8f10_54ee75e0f62drow14_col1\" class=\"data row14 col1\" >COLLABORATOR</td>\n",
       "                        <td id=\"T_b2958342_3400_11e9_8f10_54ee75e0f62drow14_col2\" class=\"data row14 col2\" >0</td>\n",
       "                        <td id=\"T_b2958342_3400_11e9_8f10_54ee75e0f62drow14_col3\" class=\"data row14 col3\" ><a target=\"_blank\" href=\"https://github.com/jupyterhub/nativeauthenticator/pull/64\">https://github.com/jupyterhub/nativeauthenticator/pull/64</a></td>\n",
       "            </tr>\n",
       "            <tr>\n",
       "                                <td id=\"T_b2958342_3400_11e9_8f10_54ee75e0f62drow15_col0\" class=\"data row15 col0\" >leportella</td>\n",
       "                        <td id=\"T_b2958342_3400_11e9_8f10_54ee75e0f62drow15_col1\" class=\"data row15 col1\" >COLLABORATOR</td>\n",
       "                        <td id=\"T_b2958342_3400_11e9_8f10_54ee75e0f62drow15_col2\" class=\"data row15 col2\" >0</td>\n",
       "                        <td id=\"T_b2958342_3400_11e9_8f10_54ee75e0f62drow15_col3\" class=\"data row15 col3\" ><a target=\"_blank\" href=\"https://github.com/jupyterhub/nativeauthenticator/pull/50\">https://github.com/jupyterhub/nativeauthenticator/pull/50</a></td>\n",
       "            </tr>\n",
       "            <tr>\n",
       "                                <td id=\"T_b2958342_3400_11e9_8f10_54ee75e0f62drow16_col0\" class=\"data row16 col0\" >leportella</td>\n",
       "                        <td id=\"T_b2958342_3400_11e9_8f10_54ee75e0f62drow16_col1\" class=\"data row16 col1\" >COLLABORATOR</td>\n",
       "                        <td id=\"T_b2958342_3400_11e9_8f10_54ee75e0f62drow16_col2\" class=\"data row16 col2\" >0</td>\n",
       "                        <td id=\"T_b2958342_3400_11e9_8f10_54ee75e0f62drow16_col3\" class=\"data row16 col3\" ><a target=\"_blank\" href=\"https://github.com/jupyterhub/nativeauthenticator/pull/38\">https://github.com/jupyterhub/nativeauthenticator/pull/38</a></td>\n",
       "            </tr>\n",
       "            <tr>\n",
       "                                <td id=\"T_b2958342_3400_11e9_8f10_54ee75e0f62drow17_col0\" class=\"data row17 col0\" >leportella</td>\n",
       "                        <td id=\"T_b2958342_3400_11e9_8f10_54ee75e0f62drow17_col1\" class=\"data row17 col1\" >COLLABORATOR</td>\n",
       "                        <td id=\"T_b2958342_3400_11e9_8f10_54ee75e0f62drow17_col2\" class=\"data row17 col2\" >1</td>\n",
       "                        <td id=\"T_b2958342_3400_11e9_8f10_54ee75e0f62drow17_col3\" class=\"data row17 col3\" ><a target=\"_blank\" href=\"https://github.com/jupyterhub/nativeauthenticator/pull/36\">https://github.com/jupyterhub/nativeauthenticator/pull/36</a></td>\n",
       "            </tr>\n",
       "            <tr>\n",
       "                                <td id=\"T_b2958342_3400_11e9_8f10_54ee75e0f62drow18_col0\" class=\"data row18 col0\" >00Kai0</td>\n",
       "                        <td id=\"T_b2958342_3400_11e9_8f10_54ee75e0f62drow18_col1\" class=\"data row18 col1\" >CONTRIBUTOR</td>\n",
       "                        <td id=\"T_b2958342_3400_11e9_8f10_54ee75e0f62drow18_col2\" class=\"data row18 col2\" >1</td>\n",
       "                        <td id=\"T_b2958342_3400_11e9_8f10_54ee75e0f62drow18_col3\" class=\"data row18 col3\" ><a target=\"_blank\" href=\"https://github.com/jupyterhub/nativeauthenticator/pull/56\">https://github.com/jupyterhub/nativeauthenticator/pull/56</a></td>\n",
       "            </tr>\n",
       "            <tr>\n",
       "                                <td id=\"T_b2958342_3400_11e9_8f10_54ee75e0f62drow19_col0\" class=\"data row19 col0\" >leportella</td>\n",
       "                        <td id=\"T_b2958342_3400_11e9_8f10_54ee75e0f62drow19_col1\" class=\"data row19 col1\" >COLLABORATOR</td>\n",
       "                        <td id=\"T_b2958342_3400_11e9_8f10_54ee75e0f62drow19_col2\" class=\"data row19 col2\" >1</td>\n",
       "                        <td id=\"T_b2958342_3400_11e9_8f10_54ee75e0f62drow19_col3\" class=\"data row19 col3\" ><a target=\"_blank\" href=\"https://github.com/jupyterhub/nativeauthenticator/pull/46\">https://github.com/jupyterhub/nativeauthenticator/pull/46</a></td>\n",
       "            </tr>\n",
       "            <tr>\n",
       "                                <td id=\"T_b2958342_3400_11e9_8f10_54ee75e0f62drow20_col0\" class=\"data row20 col0\" >minrk</td>\n",
       "                        <td id=\"T_b2958342_3400_11e9_8f10_54ee75e0f62drow20_col1\" class=\"data row20 col1\" >MEMBER</td>\n",
       "                        <td id=\"T_b2958342_3400_11e9_8f10_54ee75e0f62drow20_col2\" class=\"data row20 col2\" >1</td>\n",
       "                        <td id=\"T_b2958342_3400_11e9_8f10_54ee75e0f62drow20_col3\" class=\"data row20 col3\" ><a target=\"_blank\" href=\"https://github.com/jupyterhub/nativeauthenticator/pull/63\">https://github.com/jupyterhub/nativeauthenticator/pull/63</a></td>\n",
       "            </tr>\n",
       "            <tr>\n",
       "                                <td id=\"T_b2958342_3400_11e9_8f10_54ee75e0f62drow21_col0\" class=\"data row21 col0\" >leportella</td>\n",
       "                        <td id=\"T_b2958342_3400_11e9_8f10_54ee75e0f62drow21_col1\" class=\"data row21 col1\" >COLLABORATOR</td>\n",
       "                        <td id=\"T_b2958342_3400_11e9_8f10_54ee75e0f62drow21_col2\" class=\"data row21 col2\" >2</td>\n",
       "                        <td id=\"T_b2958342_3400_11e9_8f10_54ee75e0f62drow21_col3\" class=\"data row21 col3\" ><a target=\"_blank\" href=\"https://github.com/jupyterhub/nativeauthenticator/pull/31\">https://github.com/jupyterhub/nativeauthenticator/pull/31</a></td>\n",
       "            </tr>\n",
       "            <tr>\n",
       "                                <td id=\"T_b2958342_3400_11e9_8f10_54ee75e0f62drow22_col0\" class=\"data row22 col0\" >jason-huling</td>\n",
       "                        <td id=\"T_b2958342_3400_11e9_8f10_54ee75e0f62drow22_col1\" class=\"data row22 col1\" >NONE</td>\n",
       "                        <td id=\"T_b2958342_3400_11e9_8f10_54ee75e0f62drow22_col2\" class=\"data row22 col2\" >3</td>\n",
       "                        <td id=\"T_b2958342_3400_11e9_8f10_54ee75e0f62drow22_col3\" class=\"data row22 col3\" ><a target=\"_blank\" href=\"https://github.com/jupyterhub/nativeauthenticator/pull/51\">https://github.com/jupyterhub/nativeauthenticator/pull/51</a></td>\n",
       "            </tr>\n",
       "            <tr>\n",
       "                                <td id=\"T_b2958342_3400_11e9_8f10_54ee75e0f62drow23_col0\" class=\"data row23 col0\" >leportella</td>\n",
       "                        <td id=\"T_b2958342_3400_11e9_8f10_54ee75e0f62drow23_col1\" class=\"data row23 col1\" >COLLABORATOR</td>\n",
       "                        <td id=\"T_b2958342_3400_11e9_8f10_54ee75e0f62drow23_col2\" class=\"data row23 col2\" >3</td>\n",
       "                        <td id=\"T_b2958342_3400_11e9_8f10_54ee75e0f62drow23_col3\" class=\"data row23 col3\" ><a target=\"_blank\" href=\"https://github.com/jupyterhub/nativeauthenticator/pull/44\">https://github.com/jupyterhub/nativeauthenticator/pull/44</a></td>\n",
       "            </tr>\n",
       "            <tr>\n",
       "                                <td id=\"T_b2958342_3400_11e9_8f10_54ee75e0f62drow24_col0\" class=\"data row24 col0\" >00Kai0</td>\n",
       "                        <td id=\"T_b2958342_3400_11e9_8f10_54ee75e0f62drow24_col1\" class=\"data row24 col1\" >CONTRIBUTOR</td>\n",
       "                        <td id=\"T_b2958342_3400_11e9_8f10_54ee75e0f62drow24_col2\" class=\"data row24 col2\" >4</td>\n",
       "                        <td id=\"T_b2958342_3400_11e9_8f10_54ee75e0f62drow24_col3\" class=\"data row24 col3\" ><a target=\"_blank\" href=\"https://github.com/jupyterhub/nativeauthenticator/pull/55\">https://github.com/jupyterhub/nativeauthenticator/pull/55</a></td>\n",
       "            </tr>\n",
       "            <tr>\n",
       "                                <td id=\"T_b2958342_3400_11e9_8f10_54ee75e0f62drow25_col0\" class=\"data row25 col0\" >00Kai0</td>\n",
       "                        <td id=\"T_b2958342_3400_11e9_8f10_54ee75e0f62drow25_col1\" class=\"data row25 col1\" >CONTRIBUTOR</td>\n",
       "                        <td id=\"T_b2958342_3400_11e9_8f10_54ee75e0f62drow25_col2\" class=\"data row25 col2\" >5</td>\n",
       "                        <td id=\"T_b2958342_3400_11e9_8f10_54ee75e0f62drow25_col3\" class=\"data row25 col3\" ><a target=\"_blank\" href=\"https://github.com/jupyterhub/nativeauthenticator/pull/52\">https://github.com/jupyterhub/nativeauthenticator/pull/52</a></td>\n",
       "            </tr>\n",
       "    </tbody></table>"
      ],
      "text/plain": [
       "<pandas.io.formats.style.Styler at 0x7f244d6b9438>"
      ]
     },
     "execution_count": 18,
     "metadata": {},
     "output_type": "execute_result"
    }
   ],
   "source": [
    "closed_prs[['user', 'author_association', 'comments', 'html_url']]\\\n",
    "    .sort_values(['comments']).style.applymap(highlight_rows).format({'html_url': make_clickable}).hide_index()"
   ]
  },
  {
   "cell_type": "markdown",
   "metadata": {
    "papermill": {
     "duration": 0.049503,
     "end_time": "2019-02-19T04:42:01.327262",
     "exception": false,
     "start_time": "2019-02-19T04:42:01.277759",
     "status": "completed"
    },
    "tags": []
   },
   "source": [
    "# State of repo\n",
    "\n",
    "## Stale issues"
   ]
  },
  {
   "cell_type": "code",
   "execution_count": 19,
   "metadata": {
    "jupyter": {
     "source_hidden": true
    },
    "papermill": {
     "duration": 0.06746,
     "end_time": "2019-02-19T04:42:01.452802",
     "exception": false,
     "start_time": "2019-02-19T04:42:01.385342",
     "status": "completed"
    },
    "tags": []
   },
   "outputs": [],
   "source": [
    "stale_issues = issues.query('updated_at < @date_stale')\n",
    "stale_issues = stale_issues[stale_issues['closed_at'].isnull()]"
   ]
  },
  {
   "cell_type": "code",
   "execution_count": 20,
   "metadata": {
    "jupyter": {
     "source_hidden": true
    },
    "papermill": {
     "duration": 0.082832,
     "end_time": "2019-02-19T04:42:01.594098",
     "exception": false,
     "start_time": "2019-02-19T04:42:01.511266",
     "status": "completed"
    },
    "tags": []
   },
   "outputs": [
    {
     "data": {
      "text/html": [
       "<style  type=\"text/css\" >\n",
       "</style><table id=\"T_b2cbd366_3400_11e9_8f10_54ee75e0f62d\" ><thead>    <tr>        <th class=\"col_heading level0 col0\" >user</th>        <th class=\"col_heading level0 col1\" >author_association</th>        <th class=\"col_heading level0 col2\" >comments</th>        <th class=\"col_heading level0 col3\" >html_url</th>    </tr></thead><tbody>\n",
       "        </tbody></table>"
      ],
      "text/plain": [
       "<pandas.io.formats.style.Styler at 0x7f244d710d30>"
      ]
     },
     "execution_count": 20,
     "metadata": {},
     "output_type": "execute_result"
    }
   ],
   "source": [
    "stale_issues[['user', 'author_association', 'comments', 'html_url']]\\\n",
    "    .sort_values(['comments']).style.applymap(highlight_rows).format({'html_url': make_clickable}).hide_index()"
   ]
  }
 ],
 "metadata": {
  "kernelspec": {
   "display_name": "Python 3",
   "language": "python",
   "name": "python3"
  },
  "language_info": {
   "codemirror_mode": {
    "name": "ipython",
    "version": 3
   },
   "file_extension": ".py",
   "mimetype": "text/x-python",
   "name": "python",
   "nbconvert_exporter": "python",
   "pygments_lexer": "ipython3",
   "version": "3.6.5"
  },
  "papermill": {
   "duration": 5.486531,
   "end_time": "2019-02-19T04:42:02.477595",
   "environment_variables": {},
   "exception": null,
   "input_path": "./templates/issues.ipynb",
   "output_path": "../reports/2019-01-19/jupyterhub/nativeauthenticator/issues.ipynb",
   "parameters": {
    "date": "2019-01-19",
    "org": "jupyterhub",
    "repo": "nativeauthenticator"
   },
   "start_time": "2019-02-19T04:41:56.991064",
   "version": "0.18.0"
  }
 },
 "nbformat": 4,
 "nbformat_minor": 2
}