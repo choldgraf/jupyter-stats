{
 "cells": [
  {
   "cell_type": "code",
   "execution_count": 1,
   "metadata": {
    "jupyter": {
     "source_hidden": true
    },
    "papermill": {
     "duration": 0.799679,
     "end_time": "2019-02-19T04:42:30.201248",
     "exception": false,
     "start_time": "2019-02-19T04:42:29.401569",
     "status": "completed"
    },
    "tags": []
   },
   "outputs": [],
   "source": [
    "import pandas as pd\n",
    "from datetime import timedelta\n",
    "from IPython.display import HTML, display"
   ]
  },
  {
   "cell_type": "code",
   "execution_count": 2,
   "metadata": {
    "jupyter": {
     "source_hidden": true
    },
    "papermill": {
     "duration": 0.031603,
     "end_time": "2019-02-19T04:42:30.258133",
     "exception": false,
     "start_time": "2019-02-19T04:42:30.226530",
     "status": "completed"
    },
    "tags": [
     "parameters"
    ]
   },
   "outputs": [],
   "source": [
    "date = pd.datetime.today() - timedelta(days=30)\n",
    "org = 'jupyterhub'\n",
    "repo = 'zero-to-jupyterhub-k8s'"
   ]
  },
  {
   "cell_type": "code",
   "execution_count": 3,
   "metadata": {
    "jupyter": {
     "source_hidden": true
    },
    "papermill": {
     "duration": 0.03413,
     "end_time": "2019-02-19T04:42:30.319713",
     "exception": false,
     "start_time": "2019-02-19T04:42:30.285583",
     "status": "completed"
    },
    "tags": [
     "injected-parameters"
    ]
   },
   "outputs": [],
   "source": [
    "# Parameters\n",
    "org = \"jupyterhub\"\n",
    "repo = \"jupyter-server-proxy\"\n",
    "date = \"2019-01-19\"\n"
   ]
  },
  {
   "cell_type": "code",
   "execution_count": 4,
   "metadata": {
    "jupyter": {
     "source_hidden": true
    },
    "papermill": {
     "duration": 0.037948,
     "end_time": "2019-02-19T04:42:30.393033",
     "exception": false,
     "start_time": "2019-02-19T04:42:30.355085",
     "status": "completed"
    },
    "tags": []
   },
   "outputs": [],
   "source": [
    "# Definition of a stale issue/PR (how many days since last updated)\n",
    "date = pd.to_datetime(date)\n",
    "stale_days = 30\n",
    "date_stale = date - timedelta(days=stale_days)"
   ]
  },
  {
   "cell_type": "markdown",
   "metadata": {
    "papermill": {
     "duration": 0.037361,
     "end_time": "2019-02-19T04:42:30.464840",
     "exception": false,
     "start_time": "2019-02-19T04:42:30.427479",
     "status": "completed"
    },
    "tags": []
   },
   "source": [
    "# Opened and Closed Issues and PRs\n",
    "\n",
    "This report shows opened and closed issues / PRs over the last 30 days, with a\n",
    "particular focus on items that haven't had a lot of discussion, or that have\n",
    "been opened by people who aren't team-members. The goal of this page is to make\n",
    "it easier to spot places where some input would be appreciated!"
   ]
  },
  {
   "cell_type": "markdown",
   "metadata": {
    "papermill": {
     "duration": 0.031842,
     "end_time": "2019-02-19T04:42:30.536478",
     "exception": false,
     "start_time": "2019-02-19T04:42:30.504636",
     "status": "completed"
    },
    "tags": []
   },
   "source": [
    "# Imports"
   ]
  },
  {
   "cell_type": "code",
   "execution_count": 5,
   "metadata": {
    "jupyter": {
     "source_hidden": true
    },
    "papermill": {
     "duration": 0.251782,
     "end_time": "2019-02-19T04:42:30.812920",
     "exception": false,
     "start_time": "2019-02-19T04:42:30.561138",
     "status": "completed"
    },
    "tags": []
   },
   "outputs": [],
   "source": [
    "import pandas as pd\n",
    "from subprocess import run, PIPE\n",
    "from watchtower import issues_\n",
    "from glob import glob\n",
    "import os.path as op\n",
    "import shutil as sh\n",
    "import sys\n",
    "sys.path.append('../../scripts/')"
   ]
  },
  {
   "cell_type": "markdown",
   "metadata": {
    "papermill": {
     "duration": 0.021592,
     "end_time": "2019-02-19T04:42:30.858954",
     "exception": false,
     "start_time": "2019-02-19T04:42:30.837362",
     "status": "completed"
    },
    "tags": []
   },
   "source": [
    "## styling functions"
   ]
  },
  {
   "cell_type": "code",
   "execution_count": 6,
   "metadata": {
    "jupyter": {
     "source_hidden": true
    },
    "papermill": {
     "duration": 0.034957,
     "end_time": "2019-02-19T04:42:30.918278",
     "exception": false,
     "start_time": "2019-02-19T04:42:30.883321",
     "status": "completed"
    },
    "tags": []
   },
   "outputs": [],
   "source": [
    "def highlight_rows(val):\n",
    "    \"\"\"Highlights cells pertaining to non-members and w/ no comments\"\"\"\n",
    "    disp = ''\n",
    "    if val == 0 or val == \"NONE\":\n",
    "        disp += 'background-color: #f7b7b7'\n",
    "    elif val == \"FIRST_TIME_CONTRIBUTOR\":\n",
    "        disp += 'background-color: red'\n",
    "    return disp\n",
    "\n",
    "def make_clickable(val):\n",
    "    # target _blank to open new window\n",
    "    return '<a target=\"_blank\" href=\"{}\">{}</a>'.format(val, val)\n",
    "\n",
    "def print_html(msg):\n",
    "    display(HTML('<h2 style=\"padding-left: 1em;\">{}</h2>'.format(msg)))\n",
    "    \n",
    "pd.options.display.max_colwidth = 200"
   ]
  },
  {
   "cell_type": "markdown",
   "metadata": {
    "papermill": {
     "duration": 0.0235,
     "end_time": "2019-02-19T04:42:30.964571",
     "exception": false,
     "start_time": "2019-02-19T04:42:30.941071",
     "status": "completed"
    },
    "tags": []
   },
   "source": [
    "## Load data"
   ]
  },
  {
   "cell_type": "code",
   "execution_count": 7,
   "metadata": {
    "jupyter": {
     "source_hidden": true
    },
    "papermill": {
     "duration": 0.083506,
     "end_time": "2019-02-19T04:42:31.073914",
     "exception": false,
     "start_time": "2019-02-19T04:42:30.990408",
     "status": "completed"
    },
    "tags": []
   },
   "outputs": [],
   "source": [
    "# Issues\n",
    "issues = issues_.load_issues(org, repo)\n",
    "issues['user'] = issues['user'].map(lambda a: a['login'])"
   ]
  },
  {
   "cell_type": "markdown",
   "metadata": {
    "papermill": {
     "duration": 0.037194,
     "end_time": "2019-02-19T04:42:31.174189",
     "exception": false,
     "start_time": "2019-02-19T04:42:31.136995",
     "status": "completed"
    },
    "tags": []
   },
   "source": [
    "# New activity"
   ]
  },
  {
   "cell_type": "markdown",
   "metadata": {
    "papermill": {
     "duration": 0.02589,
     "end_time": "2019-02-19T04:42:31.225998",
     "exception": false,
     "start_time": "2019-02-19T04:42:31.200108",
     "status": "completed"
    },
    "tags": []
   },
   "source": [
    "## Opened issues\n",
    "\n",
    "without responses in red"
   ]
  },
  {
   "cell_type": "code",
   "execution_count": 8,
   "metadata": {
    "jupyter": {
     "source_hidden": true
    },
    "papermill": {
     "duration": 0.142178,
     "end_time": "2019-02-19T04:42:31.410817",
     "exception": false,
     "start_time": "2019-02-19T04:42:31.268639",
     "status": "completed"
    },
    "tags": []
   },
   "outputs": [
    {
     "name": "stderr",
     "output_type": "stream",
     "text": [
      "/home/choldgraf/anaconda/envs/dev/lib/python3.6/site-packages/ipykernel_launcher.py:3: SettingWithCopyWarning: \n",
      "A value is trying to be set on a copy of a slice from a DataFrame.\n",
      "Try using .loc[row_indexer,col_indexer] = value instead\n",
      "\n",
      "See the caveats in the documentation: http://pandas.pydata.org/pandas-docs/stable/indexing.html#indexing-view-versus-copy\n",
      "  This is separate from the ipykernel package so we can avoid doing imports until\n"
     ]
    }
   ],
   "source": [
    "opened = issues.query('created_at > @date')\n",
    "opened_issues = opened[opened['pull_request'].isna()]\n",
    "opened_issues['closed'] = ~pd.isnull(opened_issues['closed_at'])"
   ]
  },
  {
   "cell_type": "code",
   "execution_count": 9,
   "metadata": {
    "jupyter": {
     "source_hidden": true
    },
    "papermill": {
     "duration": 0.064731,
     "end_time": "2019-02-19T04:42:31.515775",
     "exception": false,
     "start_time": "2019-02-19T04:42:31.451044",
     "status": "completed"
    },
    "tags": []
   },
   "outputs": [
    {
     "data": {
      "text/html": [
       "<h2 style=\"padding-left: 1em;\">Opened issues: 9</h2>"
      ],
      "text/plain": [
       "<IPython.core.display.HTML object>"
      ]
     },
     "metadata": {},
     "output_type": "display_data"
    }
   ],
   "source": [
    "print_html('Opened issues: {}'.format(len(opened_issues)))"
   ]
  },
  {
   "cell_type": "code",
   "execution_count": 10,
   "metadata": {
    "jupyter": {
     "source_hidden": true
    },
    "papermill": {
     "duration": 0.861591,
     "end_time": "2019-02-19T04:42:32.410584",
     "exception": false,
     "start_time": "2019-02-19T04:42:31.548993",
     "status": "completed"
    },
    "tags": []
   },
   "outputs": [
    {
     "data": {
      "text/html": [
       "<style  type=\"text/css\" >\n",
       "    #T_c529df3a_3400_11e9_bc99_54ee75e0f62drow0_col1 {\n",
       "            background-color:  #f7b7b7;\n",
       "        }    #T_c529df3a_3400_11e9_bc99_54ee75e0f62drow0_col3 {\n",
       "            background-color:  #f7b7b7;\n",
       "        }    #T_c529df3a_3400_11e9_bc99_54ee75e0f62drow1_col3 {\n",
       "            background-color:  #f7b7b7;\n",
       "        }    #T_c529df3a_3400_11e9_bc99_54ee75e0f62drow2_col1 {\n",
       "            background-color:  #f7b7b7;\n",
       "        }    #T_c529df3a_3400_11e9_bc99_54ee75e0f62drow2_col3 {\n",
       "            background-color:  #f7b7b7;\n",
       "        }    #T_c529df3a_3400_11e9_bc99_54ee75e0f62drow3_col1 {\n",
       "            background-color:  #f7b7b7;\n",
       "        }    #T_c529df3a_3400_11e9_bc99_54ee75e0f62drow3_col3 {\n",
       "            background-color:  #f7b7b7;\n",
       "        }    #T_c529df3a_3400_11e9_bc99_54ee75e0f62drow4_col1 {\n",
       "            background-color:  #f7b7b7;\n",
       "        }    #T_c529df3a_3400_11e9_bc99_54ee75e0f62drow4_col3 {\n",
       "            background-color:  #f7b7b7;\n",
       "        }    #T_c529df3a_3400_11e9_bc99_54ee75e0f62drow6_col1 {\n",
       "            background-color:  #f7b7b7;\n",
       "        }</style><table id=\"T_c529df3a_3400_11e9_bc99_54ee75e0f62d\" ><thead>    <tr>        <th class=\"col_heading level0 col0\" >user</th>        <th class=\"col_heading level0 col1\" >author_association</th>        <th class=\"col_heading level0 col2\" >comments</th>        <th class=\"col_heading level0 col3\" >closed</th>        <th class=\"col_heading level0 col4\" >html_url</th>    </tr></thead><tbody>\n",
       "                <tr>\n",
       "                                <td id=\"T_c529df3a_3400_11e9_bc99_54ee75e0f62drow0_col0\" class=\"data row0 col0\" >ChandaniM123</td>\n",
       "                        <td id=\"T_c529df3a_3400_11e9_bc99_54ee75e0f62drow0_col1\" class=\"data row0 col1\" >NONE</td>\n",
       "                        <td id=\"T_c529df3a_3400_11e9_bc99_54ee75e0f62drow0_col2\" class=\"data row0 col2\" >1</td>\n",
       "                        <td id=\"T_c529df3a_3400_11e9_bc99_54ee75e0f62drow0_col3\" class=\"data row0 col3\" >False</td>\n",
       "                        <td id=\"T_c529df3a_3400_11e9_bc99_54ee75e0f62drow0_col4\" class=\"data row0 col4\" ><a target=\"_blank\" href=\"https://github.com/jupyterhub/jupyter-server-proxy/issues/89\">https://github.com/jupyterhub/jupyter-server-proxy/issues/89</a></td>\n",
       "            </tr>\n",
       "            <tr>\n",
       "                                <td id=\"T_c529df3a_3400_11e9_bc99_54ee75e0f62drow1_col0\" class=\"data row1 col0\" >xmnlab</td>\n",
       "                        <td id=\"T_c529df3a_3400_11e9_bc99_54ee75e0f62drow1_col1\" class=\"data row1 col1\" >CONTRIBUTOR</td>\n",
       "                        <td id=\"T_c529df3a_3400_11e9_bc99_54ee75e0f62drow1_col2\" class=\"data row1 col2\" >1</td>\n",
       "                        <td id=\"T_c529df3a_3400_11e9_bc99_54ee75e0f62drow1_col3\" class=\"data row1 col3\" >False</td>\n",
       "                        <td id=\"T_c529df3a_3400_11e9_bc99_54ee75e0f62drow1_col4\" class=\"data row1 col4\" ><a target=\"_blank\" href=\"https://github.com/jupyterhub/jupyter-server-proxy/issues/98\">https://github.com/jupyterhub/jupyter-server-proxy/issues/98</a></td>\n",
       "            </tr>\n",
       "            <tr>\n",
       "                                <td id=\"T_c529df3a_3400_11e9_bc99_54ee75e0f62drow2_col0\" class=\"data row2 col0\" >psychemedia</td>\n",
       "                        <td id=\"T_c529df3a_3400_11e9_bc99_54ee75e0f62drow2_col1\" class=\"data row2 col1\" >NONE</td>\n",
       "                        <td id=\"T_c529df3a_3400_11e9_bc99_54ee75e0f62drow2_col2\" class=\"data row2 col2\" >2</td>\n",
       "                        <td id=\"T_c529df3a_3400_11e9_bc99_54ee75e0f62drow2_col3\" class=\"data row2 col3\" >False</td>\n",
       "                        <td id=\"T_c529df3a_3400_11e9_bc99_54ee75e0f62drow2_col4\" class=\"data row2 col4\" ><a target=\"_blank\" href=\"https://github.com/jupyterhub/jupyter-server-proxy/issues/102\">https://github.com/jupyterhub/jupyter-server-proxy/issues/102</a></td>\n",
       "            </tr>\n",
       "            <tr>\n",
       "                                <td id=\"T_c529df3a_3400_11e9_bc99_54ee75e0f62drow3_col0\" class=\"data row3 col0\" >vnijs</td>\n",
       "                        <td id=\"T_c529df3a_3400_11e9_bc99_54ee75e0f62drow3_col1\" class=\"data row3 col1\" >NONE</td>\n",
       "                        <td id=\"T_c529df3a_3400_11e9_bc99_54ee75e0f62drow3_col2\" class=\"data row3 col2\" >3</td>\n",
       "                        <td id=\"T_c529df3a_3400_11e9_bc99_54ee75e0f62drow3_col3\" class=\"data row3 col3\" >False</td>\n",
       "                        <td id=\"T_c529df3a_3400_11e9_bc99_54ee75e0f62drow3_col4\" class=\"data row3 col4\" ><a target=\"_blank\" href=\"https://github.com/jupyterhub/jupyter-server-proxy/issues/103\">https://github.com/jupyterhub/jupyter-server-proxy/issues/103</a></td>\n",
       "            </tr>\n",
       "            <tr>\n",
       "                                <td id=\"T_c529df3a_3400_11e9_bc99_54ee75e0f62drow4_col0\" class=\"data row4 col0\" >ian-r-rose</td>\n",
       "                        <td id=\"T_c529df3a_3400_11e9_bc99_54ee75e0f62drow4_col1\" class=\"data row4 col1\" >NONE</td>\n",
       "                        <td id=\"T_c529df3a_3400_11e9_bc99_54ee75e0f62drow4_col2\" class=\"data row4 col2\" >8</td>\n",
       "                        <td id=\"T_c529df3a_3400_11e9_bc99_54ee75e0f62drow4_col3\" class=\"data row4 col3\" >False</td>\n",
       "                        <td id=\"T_c529df3a_3400_11e9_bc99_54ee75e0f62drow4_col4\" class=\"data row4 col4\" ><a target=\"_blank\" href=\"https://github.com/jupyterhub/jupyter-server-proxy/issues/88\">https://github.com/jupyterhub/jupyter-server-proxy/issues/88</a></td>\n",
       "            </tr>\n",
       "            <tr>\n",
       "                                <td id=\"T_c529df3a_3400_11e9_bc99_54ee75e0f62drow5_col0\" class=\"data row5 col0\" >xmnlab</td>\n",
       "                        <td id=\"T_c529df3a_3400_11e9_bc99_54ee75e0f62drow5_col1\" class=\"data row5 col1\" >CONTRIBUTOR</td>\n",
       "                        <td id=\"T_c529df3a_3400_11e9_bc99_54ee75e0f62drow5_col2\" class=\"data row5 col2\" >3</td>\n",
       "                        <td id=\"T_c529df3a_3400_11e9_bc99_54ee75e0f62drow5_col3\" class=\"data row5 col3\" >True</td>\n",
       "                        <td id=\"T_c529df3a_3400_11e9_bc99_54ee75e0f62drow5_col4\" class=\"data row5 col4\" ><a target=\"_blank\" href=\"https://github.com/jupyterhub/jupyter-server-proxy/issues/90\">https://github.com/jupyterhub/jupyter-server-proxy/issues/90</a></td>\n",
       "            </tr>\n",
       "            <tr>\n",
       "                                <td id=\"T_c529df3a_3400_11e9_bc99_54ee75e0f62drow6_col0\" class=\"data row6 col0\" >psychemedia</td>\n",
       "                        <td id=\"T_c529df3a_3400_11e9_bc99_54ee75e0f62drow6_col1\" class=\"data row6 col1\" >NONE</td>\n",
       "                        <td id=\"T_c529df3a_3400_11e9_bc99_54ee75e0f62drow6_col2\" class=\"data row6 col2\" >4</td>\n",
       "                        <td id=\"T_c529df3a_3400_11e9_bc99_54ee75e0f62drow6_col3\" class=\"data row6 col3\" >True</td>\n",
       "                        <td id=\"T_c529df3a_3400_11e9_bc99_54ee75e0f62drow6_col4\" class=\"data row6 col4\" ><a target=\"_blank\" href=\"https://github.com/jupyterhub/jupyter-server-proxy/issues/87\">https://github.com/jupyterhub/jupyter-server-proxy/issues/87</a></td>\n",
       "            </tr>\n",
       "            <tr>\n",
       "                                <td id=\"T_c529df3a_3400_11e9_bc99_54ee75e0f62drow7_col0\" class=\"data row7 col0\" >xmnlab</td>\n",
       "                        <td id=\"T_c529df3a_3400_11e9_bc99_54ee75e0f62drow7_col1\" class=\"data row7 col1\" >CONTRIBUTOR</td>\n",
       "                        <td id=\"T_c529df3a_3400_11e9_bc99_54ee75e0f62drow7_col2\" class=\"data row7 col2\" >6</td>\n",
       "                        <td id=\"T_c529df3a_3400_11e9_bc99_54ee75e0f62drow7_col3\" class=\"data row7 col3\" >True</td>\n",
       "                        <td id=\"T_c529df3a_3400_11e9_bc99_54ee75e0f62drow7_col4\" class=\"data row7 col4\" ><a target=\"_blank\" href=\"https://github.com/jupyterhub/jupyter-server-proxy/issues/92\">https://github.com/jupyterhub/jupyter-server-proxy/issues/92</a></td>\n",
       "            </tr>\n",
       "            <tr>\n",
       "                                <td id=\"T_c529df3a_3400_11e9_bc99_54ee75e0f62drow8_col0\" class=\"data row8 col0\" >xmnlab</td>\n",
       "                        <td id=\"T_c529df3a_3400_11e9_bc99_54ee75e0f62drow8_col1\" class=\"data row8 col1\" >CONTRIBUTOR</td>\n",
       "                        <td id=\"T_c529df3a_3400_11e9_bc99_54ee75e0f62drow8_col2\" class=\"data row8 col2\" >9</td>\n",
       "                        <td id=\"T_c529df3a_3400_11e9_bc99_54ee75e0f62drow8_col3\" class=\"data row8 col3\" >True</td>\n",
       "                        <td id=\"T_c529df3a_3400_11e9_bc99_54ee75e0f62drow8_col4\" class=\"data row8 col4\" ><a target=\"_blank\" href=\"https://github.com/jupyterhub/jupyter-server-proxy/issues/95\">https://github.com/jupyterhub/jupyter-server-proxy/issues/95</a></td>\n",
       "            </tr>\n",
       "    </tbody></table>"
      ],
      "text/plain": [
       "<pandas.io.formats.style.Styler at 0x7fe816a323c8>"
      ]
     },
     "execution_count": 10,
     "metadata": {},
     "output_type": "execute_result"
    }
   ],
   "source": [
    "opened_issues[['user', 'author_association', 'comments', 'closed', 'html_url']]\\\n",
    "    .sort_values(['closed', 'comments']).style.applymap(highlight_rows).format({'html_url': make_clickable}).hide_index()"
   ]
  },
  {
   "cell_type": "markdown",
   "metadata": {
    "papermill": {
     "duration": 0.022511,
     "end_time": "2019-02-19T04:42:32.456854",
     "exception": false,
     "start_time": "2019-02-19T04:42:32.434343",
     "status": "completed"
    },
    "tags": []
   },
   "source": [
    "## Closed issues\n"
   ]
  },
  {
   "cell_type": "code",
   "execution_count": 11,
   "metadata": {
    "jupyter": {
     "source_hidden": true
    },
    "papermill": {
     "duration": 0.038376,
     "end_time": "2019-02-19T04:42:32.519998",
     "exception": false,
     "start_time": "2019-02-19T04:42:32.481622",
     "status": "completed"
    },
    "tags": []
   },
   "outputs": [],
   "source": [
    "closed = issues.query('closed_at > @date')\n",
    "closed_issues = closed[closed['pull_request'].isna()]"
   ]
  },
  {
   "cell_type": "code",
   "execution_count": 12,
   "metadata": {
    "jupyter": {
     "source_hidden": true
    },
    "papermill": {
     "duration": 0.056214,
     "end_time": "2019-02-19T04:42:32.601116",
     "exception": false,
     "start_time": "2019-02-19T04:42:32.544902",
     "status": "completed"
    },
    "tags": []
   },
   "outputs": [
    {
     "data": {
      "text/html": [
       "<style  type=\"text/css\" >\n",
       "    #T_c5472f9a_3400_11e9_bc99_54ee75e0f62drow1_col1 {\n",
       "            background-color:  #f7b7b7;\n",
       "        }    #T_c5472f9a_3400_11e9_bc99_54ee75e0f62drow3_col1 {\n",
       "            background-color:  #f7b7b7;\n",
       "        }    #T_c5472f9a_3400_11e9_bc99_54ee75e0f62drow4_col1 {\n",
       "            background-color:  #f7b7b7;\n",
       "        }</style><table id=\"T_c5472f9a_3400_11e9_bc99_54ee75e0f62d\" ><thead>    <tr>        <th class=\"col_heading level0 col0\" >user</th>        <th class=\"col_heading level0 col1\" >author_association</th>        <th class=\"col_heading level0 col2\" >comments</th>        <th class=\"col_heading level0 col3\" >html_url</th>    </tr></thead><tbody>\n",
       "                <tr>\n",
       "                                <td id=\"T_c5472f9a_3400_11e9_bc99_54ee75e0f62drow0_col0\" class=\"data row0 col0\" >xmnlab</td>\n",
       "                        <td id=\"T_c5472f9a_3400_11e9_bc99_54ee75e0f62drow0_col1\" class=\"data row0 col1\" >CONTRIBUTOR</td>\n",
       "                        <td id=\"T_c5472f9a_3400_11e9_bc99_54ee75e0f62drow0_col2\" class=\"data row0 col2\" >3</td>\n",
       "                        <td id=\"T_c5472f9a_3400_11e9_bc99_54ee75e0f62drow0_col3\" class=\"data row0 col3\" ><a target=\"_blank\" href=\"https://github.com/jupyterhub/jupyter-server-proxy/issues/90\">https://github.com/jupyterhub/jupyter-server-proxy/issues/90</a></td>\n",
       "            </tr>\n",
       "            <tr>\n",
       "                                <td id=\"T_c5472f9a_3400_11e9_bc99_54ee75e0f62drow1_col0\" class=\"data row1 col0\" >psychemedia</td>\n",
       "                        <td id=\"T_c5472f9a_3400_11e9_bc99_54ee75e0f62drow1_col1\" class=\"data row1 col1\" >NONE</td>\n",
       "                        <td id=\"T_c5472f9a_3400_11e9_bc99_54ee75e0f62drow1_col2\" class=\"data row1 col2\" >4</td>\n",
       "                        <td id=\"T_c5472f9a_3400_11e9_bc99_54ee75e0f62drow1_col3\" class=\"data row1 col3\" ><a target=\"_blank\" href=\"https://github.com/jupyterhub/jupyter-server-proxy/issues/87\">https://github.com/jupyterhub/jupyter-server-proxy/issues/87</a></td>\n",
       "            </tr>\n",
       "            <tr>\n",
       "                                <td id=\"T_c5472f9a_3400_11e9_bc99_54ee75e0f62drow2_col0\" class=\"data row2 col0\" >xmnlab</td>\n",
       "                        <td id=\"T_c5472f9a_3400_11e9_bc99_54ee75e0f62drow2_col1\" class=\"data row2 col1\" >CONTRIBUTOR</td>\n",
       "                        <td id=\"T_c5472f9a_3400_11e9_bc99_54ee75e0f62drow2_col2\" class=\"data row2 col2\" >6</td>\n",
       "                        <td id=\"T_c5472f9a_3400_11e9_bc99_54ee75e0f62drow2_col3\" class=\"data row2 col3\" ><a target=\"_blank\" href=\"https://github.com/jupyterhub/jupyter-server-proxy/issues/92\">https://github.com/jupyterhub/jupyter-server-proxy/issues/92</a></td>\n",
       "            </tr>\n",
       "            <tr>\n",
       "                                <td id=\"T_c5472f9a_3400_11e9_bc99_54ee75e0f62drow3_col0\" class=\"data row3 col0\" >psychemedia</td>\n",
       "                        <td id=\"T_c5472f9a_3400_11e9_bc99_54ee75e0f62drow3_col1\" class=\"data row3 col1\" >NONE</td>\n",
       "                        <td id=\"T_c5472f9a_3400_11e9_bc99_54ee75e0f62drow3_col2\" class=\"data row3 col2\" >6</td>\n",
       "                        <td id=\"T_c5472f9a_3400_11e9_bc99_54ee75e0f62drow3_col3\" class=\"data row3 col3\" ><a target=\"_blank\" href=\"https://github.com/jupyterhub/jupyter-server-proxy/issues/81\">https://github.com/jupyterhub/jupyter-server-proxy/issues/81</a></td>\n",
       "            </tr>\n",
       "            <tr>\n",
       "                                <td id=\"T_c5472f9a_3400_11e9_bc99_54ee75e0f62drow4_col0\" class=\"data row4 col0\" >jacobtomlinson</td>\n",
       "                        <td id=\"T_c5472f9a_3400_11e9_bc99_54ee75e0f62drow4_col1\" class=\"data row4 col1\" >NONE</td>\n",
       "                        <td id=\"T_c5472f9a_3400_11e9_bc99_54ee75e0f62drow4_col2\" class=\"data row4 col2\" >7</td>\n",
       "                        <td id=\"T_c5472f9a_3400_11e9_bc99_54ee75e0f62drow4_col3\" class=\"data row4 col3\" ><a target=\"_blank\" href=\"https://github.com/jupyterhub/jupyter-server-proxy/issues/43\">https://github.com/jupyterhub/jupyter-server-proxy/issues/43</a></td>\n",
       "            </tr>\n",
       "            <tr>\n",
       "                                <td id=\"T_c5472f9a_3400_11e9_bc99_54ee75e0f62drow5_col0\" class=\"data row5 col0\" >xmnlab</td>\n",
       "                        <td id=\"T_c5472f9a_3400_11e9_bc99_54ee75e0f62drow5_col1\" class=\"data row5 col1\" >CONTRIBUTOR</td>\n",
       "                        <td id=\"T_c5472f9a_3400_11e9_bc99_54ee75e0f62drow5_col2\" class=\"data row5 col2\" >9</td>\n",
       "                        <td id=\"T_c5472f9a_3400_11e9_bc99_54ee75e0f62drow5_col3\" class=\"data row5 col3\" ><a target=\"_blank\" href=\"https://github.com/jupyterhub/jupyter-server-proxy/issues/95\">https://github.com/jupyterhub/jupyter-server-proxy/issues/95</a></td>\n",
       "            </tr>\n",
       "    </tbody></table>"
      ],
      "text/plain": [
       "<pandas.io.formats.style.Styler at 0x7fe811ac9ba8>"
      ]
     },
     "execution_count": 12,
     "metadata": {},
     "output_type": "execute_result"
    }
   ],
   "source": [
    "closed_issues[['user', 'author_association', 'comments', 'html_url']]\\\n",
    "    .sort_values(['comments']).style.applymap(highlight_rows).format({'html_url': make_clickable}).hide_index()"
   ]
  },
  {
   "cell_type": "code",
   "execution_count": 13,
   "metadata": {
    "jupyter": {
     "source_hidden": true
    },
    "papermill": {
     "duration": 0.032039,
     "end_time": "2019-02-19T04:42:32.657287",
     "exception": false,
     "start_time": "2019-02-19T04:42:32.625248",
     "status": "completed"
    },
    "tags": []
   },
   "outputs": [
    {
     "data": {
      "text/html": [
       "<h2 style=\"padding-left: 1em;\">Closed issues: 6</h2>"
      ],
      "text/plain": [
       "<IPython.core.display.HTML object>"
      ]
     },
     "metadata": {},
     "output_type": "display_data"
    }
   ],
   "source": [
    "print_html('Closed issues: {}'.format(len(closed_issues)))"
   ]
  },
  {
   "cell_type": "markdown",
   "metadata": {
    "papermill": {
     "duration": 0.023966,
     "end_time": "2019-02-19T04:42:32.707816",
     "exception": false,
     "start_time": "2019-02-19T04:42:32.683850",
     "status": "completed"
    },
    "tags": []
   },
   "source": [
    "## Opened PRs\n",
    "\n",
    "without responses in red"
   ]
  },
  {
   "cell_type": "code",
   "execution_count": 14,
   "metadata": {
    "jupyter": {
     "source_hidden": true
    },
    "papermill": {
     "duration": 0.069484,
     "end_time": "2019-02-19T04:42:32.801713",
     "exception": false,
     "start_time": "2019-02-19T04:42:32.732229",
     "status": "completed"
    },
    "tags": []
   },
   "outputs": [
    {
     "name": "stderr",
     "output_type": "stream",
     "text": [
      "/home/choldgraf/anaconda/envs/dev/lib/python3.6/site-packages/ipykernel_launcher.py:2: SettingWithCopyWarning: \n",
      "A value is trying to be set on a copy of a slice from a DataFrame.\n",
      "Try using .loc[row_indexer,col_indexer] = value instead\n",
      "\n",
      "See the caveats in the documentation: http://pandas.pydata.org/pandas-docs/stable/indexing.html#indexing-view-versus-copy\n",
      "  \n"
     ]
    }
   ],
   "source": [
    "opened_prs = opened[~opened['pull_request'].isna()]\n",
    "opened_prs['closed'] = ~pd.isnull(opened_prs['closed_at'])\n",
    "\n",
    "closed_prs = closed[~closed['pull_request'].isna()]"
   ]
  },
  {
   "cell_type": "code",
   "execution_count": 15,
   "metadata": {
    "jupyter": {
     "source_hidden": true
    },
    "papermill": {
     "duration": 0.031913,
     "end_time": "2019-02-19T04:42:32.856457",
     "exception": false,
     "start_time": "2019-02-19T04:42:32.824544",
     "status": "completed"
    },
    "tags": []
   },
   "outputs": [
    {
     "data": {
      "text/html": [
       "<h2 style=\"padding-left: 1em;\">Opened PRs: 8</h2>"
      ],
      "text/plain": [
       "<IPython.core.display.HTML object>"
      ]
     },
     "metadata": {},
     "output_type": "display_data"
    }
   ],
   "source": [
    "print_html('Opened PRs: {}'.format(len(opened_prs)))"
   ]
  },
  {
   "cell_type": "code",
   "execution_count": 16,
   "metadata": {
    "jupyter": {
     "source_hidden": true
    },
    "papermill": {
     "duration": 0.121498,
     "end_time": "2019-02-19T04:42:33.005191",
     "exception": false,
     "start_time": "2019-02-19T04:42:32.883693",
     "status": "completed"
    },
    "tags": []
   },
   "outputs": [
    {
     "data": {
      "text/html": [
       "<style  type=\"text/css\" >\n",
       "    #T_c583f10a_3400_11e9_bc99_54ee75e0f62drow0_col2 {\n",
       "            background-color:  #f7b7b7;\n",
       "        }    #T_c583f10a_3400_11e9_bc99_54ee75e0f62drow1_col2 {\n",
       "            background-color:  #f7b7b7;\n",
       "        }    #T_c583f10a_3400_11e9_bc99_54ee75e0f62drow2_col2 {\n",
       "            background-color:  #f7b7b7;\n",
       "        }</style><table id=\"T_c583f10a_3400_11e9_bc99_54ee75e0f62d\" ><thead>    <tr>        <th class=\"col_heading level0 col0\" >user</th>        <th class=\"col_heading level0 col1\" >author_association</th>        <th class=\"col_heading level0 col2\" >comments</th>        <th class=\"col_heading level0 col3\" >closed</th>        <th class=\"col_heading level0 col4\" >html_url</th>    </tr></thead><tbody>\n",
       "                <tr>\n",
       "                                <td id=\"T_c583f10a_3400_11e9_bc99_54ee75e0f62drow0_col0\" class=\"data row0 col0\" >yuvipanda</td>\n",
       "                        <td id=\"T_c583f10a_3400_11e9_bc99_54ee75e0f62drow0_col1\" class=\"data row0 col1\" >MEMBER</td>\n",
       "                        <td id=\"T_c583f10a_3400_11e9_bc99_54ee75e0f62drow0_col2\" class=\"data row0 col2\" >0</td>\n",
       "                        <td id=\"T_c583f10a_3400_11e9_bc99_54ee75e0f62drow0_col3\" class=\"data row0 col3\" >True</td>\n",
       "                        <td id=\"T_c583f10a_3400_11e9_bc99_54ee75e0f62drow0_col4\" class=\"data row0 col4\" ><a target=\"_blank\" href=\"https://github.com/jupyterhub/jupyter-server-proxy/pull/91\">https://github.com/jupyterhub/jupyter-server-proxy/pull/91</a></td>\n",
       "            </tr>\n",
       "            <tr>\n",
       "                                <td id=\"T_c583f10a_3400_11e9_bc99_54ee75e0f62drow1_col0\" class=\"data row1 col0\" >yuvipanda</td>\n",
       "                        <td id=\"T_c583f10a_3400_11e9_bc99_54ee75e0f62drow1_col1\" class=\"data row1 col1\" >MEMBER</td>\n",
       "                        <td id=\"T_c583f10a_3400_11e9_bc99_54ee75e0f62drow1_col2\" class=\"data row1 col2\" >0</td>\n",
       "                        <td id=\"T_c583f10a_3400_11e9_bc99_54ee75e0f62drow1_col3\" class=\"data row1 col3\" >True</td>\n",
       "                        <td id=\"T_c583f10a_3400_11e9_bc99_54ee75e0f62drow1_col4\" class=\"data row1 col4\" ><a target=\"_blank\" href=\"https://github.com/jupyterhub/jupyter-server-proxy/pull/101\">https://github.com/jupyterhub/jupyter-server-proxy/pull/101</a></td>\n",
       "            </tr>\n",
       "            <tr>\n",
       "                                <td id=\"T_c583f10a_3400_11e9_bc99_54ee75e0f62drow2_col0\" class=\"data row2 col0\" >yuvipanda</td>\n",
       "                        <td id=\"T_c583f10a_3400_11e9_bc99_54ee75e0f62drow2_col1\" class=\"data row2 col1\" >MEMBER</td>\n",
       "                        <td id=\"T_c583f10a_3400_11e9_bc99_54ee75e0f62drow2_col2\" class=\"data row2 col2\" >0</td>\n",
       "                        <td id=\"T_c583f10a_3400_11e9_bc99_54ee75e0f62drow2_col3\" class=\"data row2 col3\" >True</td>\n",
       "                        <td id=\"T_c583f10a_3400_11e9_bc99_54ee75e0f62drow2_col4\" class=\"data row2 col4\" ><a target=\"_blank\" href=\"https://github.com/jupyterhub/jupyter-server-proxy/pull/94\">https://github.com/jupyterhub/jupyter-server-proxy/pull/94</a></td>\n",
       "            </tr>\n",
       "            <tr>\n",
       "                                <td id=\"T_c583f10a_3400_11e9_bc99_54ee75e0f62drow3_col0\" class=\"data row3 col0\" >xmnlab</td>\n",
       "                        <td id=\"T_c583f10a_3400_11e9_bc99_54ee75e0f62drow3_col1\" class=\"data row3 col1\" >CONTRIBUTOR</td>\n",
       "                        <td id=\"T_c583f10a_3400_11e9_bc99_54ee75e0f62drow3_col2\" class=\"data row3 col2\" >2</td>\n",
       "                        <td id=\"T_c583f10a_3400_11e9_bc99_54ee75e0f62drow3_col3\" class=\"data row3 col3\" >True</td>\n",
       "                        <td id=\"T_c583f10a_3400_11e9_bc99_54ee75e0f62drow3_col4\" class=\"data row3 col4\" ><a target=\"_blank\" href=\"https://github.com/jupyterhub/jupyter-server-proxy/pull/93\">https://github.com/jupyterhub/jupyter-server-proxy/pull/93</a></td>\n",
       "            </tr>\n",
       "            <tr>\n",
       "                                <td id=\"T_c583f10a_3400_11e9_bc99_54ee75e0f62drow4_col0\" class=\"data row4 col0\" >yuvipanda</td>\n",
       "                        <td id=\"T_c583f10a_3400_11e9_bc99_54ee75e0f62drow4_col1\" class=\"data row4 col1\" >MEMBER</td>\n",
       "                        <td id=\"T_c583f10a_3400_11e9_bc99_54ee75e0f62drow4_col2\" class=\"data row4 col2\" >2</td>\n",
       "                        <td id=\"T_c583f10a_3400_11e9_bc99_54ee75e0f62drow4_col3\" class=\"data row4 col3\" >True</td>\n",
       "                        <td id=\"T_c583f10a_3400_11e9_bc99_54ee75e0f62drow4_col4\" class=\"data row4 col4\" ><a target=\"_blank\" href=\"https://github.com/jupyterhub/jupyter-server-proxy/pull/100\">https://github.com/jupyterhub/jupyter-server-proxy/pull/100</a></td>\n",
       "            </tr>\n",
       "            <tr>\n",
       "                                <td id=\"T_c583f10a_3400_11e9_bc99_54ee75e0f62drow5_col0\" class=\"data row5 col0\" >yuvipanda</td>\n",
       "                        <td id=\"T_c583f10a_3400_11e9_bc99_54ee75e0f62drow5_col1\" class=\"data row5 col1\" >MEMBER</td>\n",
       "                        <td id=\"T_c583f10a_3400_11e9_bc99_54ee75e0f62drow5_col2\" class=\"data row5 col2\" >2</td>\n",
       "                        <td id=\"T_c583f10a_3400_11e9_bc99_54ee75e0f62drow5_col3\" class=\"data row5 col3\" >True</td>\n",
       "                        <td id=\"T_c583f10a_3400_11e9_bc99_54ee75e0f62drow5_col4\" class=\"data row5 col4\" ><a target=\"_blank\" href=\"https://github.com/jupyterhub/jupyter-server-proxy/pull/99\">https://github.com/jupyterhub/jupyter-server-proxy/pull/99</a></td>\n",
       "            </tr>\n",
       "            <tr>\n",
       "                                <td id=\"T_c583f10a_3400_11e9_bc99_54ee75e0f62drow6_col0\" class=\"data row6 col0\" >manics</td>\n",
       "                        <td id=\"T_c583f10a_3400_11e9_bc99_54ee75e0f62drow6_col1\" class=\"data row6 col1\" >COLLABORATOR</td>\n",
       "                        <td id=\"T_c583f10a_3400_11e9_bc99_54ee75e0f62drow6_col2\" class=\"data row6 col2\" >4</td>\n",
       "                        <td id=\"T_c583f10a_3400_11e9_bc99_54ee75e0f62drow6_col3\" class=\"data row6 col3\" >True</td>\n",
       "                        <td id=\"T_c583f10a_3400_11e9_bc99_54ee75e0f62drow6_col4\" class=\"data row6 col4\" ><a target=\"_blank\" href=\"https://github.com/jupyterhub/jupyter-server-proxy/pull/96\">https://github.com/jupyterhub/jupyter-server-proxy/pull/96</a></td>\n",
       "            </tr>\n",
       "            <tr>\n",
       "                                <td id=\"T_c583f10a_3400_11e9_bc99_54ee75e0f62drow7_col0\" class=\"data row7 col0\" >yuvipanda</td>\n",
       "                        <td id=\"T_c583f10a_3400_11e9_bc99_54ee75e0f62drow7_col1\" class=\"data row7 col1\" >MEMBER</td>\n",
       "                        <td id=\"T_c583f10a_3400_11e9_bc99_54ee75e0f62drow7_col2\" class=\"data row7 col2\" >5</td>\n",
       "                        <td id=\"T_c583f10a_3400_11e9_bc99_54ee75e0f62drow7_col3\" class=\"data row7 col3\" >True</td>\n",
       "                        <td id=\"T_c583f10a_3400_11e9_bc99_54ee75e0f62drow7_col4\" class=\"data row7 col4\" ><a target=\"_blank\" href=\"https://github.com/jupyterhub/jupyter-server-proxy/pull/97\">https://github.com/jupyterhub/jupyter-server-proxy/pull/97</a></td>\n",
       "            </tr>\n",
       "    </tbody></table>"
      ],
      "text/plain": [
       "<pandas.io.formats.style.Styler at 0x7fe811ac9860>"
      ]
     },
     "execution_count": 16,
     "metadata": {},
     "output_type": "execute_result"
    }
   ],
   "source": [
    "opened_prs[['user', 'author_association', 'comments', 'closed', 'html_url']]\\\n",
    "    .sort_values(['closed', 'comments']).style.applymap(highlight_rows).format({'html_url': make_clickable}).hide_index()"
   ]
  },
  {
   "cell_type": "code",
   "execution_count": 17,
   "metadata": {
    "jupyter": {
     "source_hidden": true
    },
    "papermill": {
     "duration": 0.084125,
     "end_time": "2019-02-19T04:42:33.140463",
     "exception": false,
     "start_time": "2019-02-19T04:42:33.056338",
     "status": "completed"
    },
    "tags": []
   },
   "outputs": [
    {
     "data": {
      "text/html": [
       "<h2 style=\"padding-left: 1em;\">Closed PRs: 9</h2>"
      ],
      "text/plain": [
       "<IPython.core.display.HTML object>"
      ]
     },
     "metadata": {},
     "output_type": "display_data"
    }
   ],
   "source": [
    "print_html('Closed PRs: {}'.format(len(closed_prs)))"
   ]
  },
  {
   "cell_type": "code",
   "execution_count": 18,
   "metadata": {
    "jupyter": {
     "source_hidden": true
    },
    "papermill": {
     "duration": 0.074259,
     "end_time": "2019-02-19T04:42:33.282573",
     "exception": false,
     "start_time": "2019-02-19T04:42:33.208314",
     "status": "completed"
    },
    "tags": []
   },
   "outputs": [
    {
     "data": {
      "text/html": [
       "<style  type=\"text/css\" >\n",
       "    #T_c5af3482_3400_11e9_bc99_54ee75e0f62drow0_col2 {\n",
       "            background-color:  #f7b7b7;\n",
       "        }    #T_c5af3482_3400_11e9_bc99_54ee75e0f62drow1_col2 {\n",
       "            background-color:  #f7b7b7;\n",
       "        }    #T_c5af3482_3400_11e9_bc99_54ee75e0f62drow2_col2 {\n",
       "            background-color:  #f7b7b7;\n",
       "        }</style><table id=\"T_c5af3482_3400_11e9_bc99_54ee75e0f62d\" ><thead>    <tr>        <th class=\"col_heading level0 col0\" >user</th>        <th class=\"col_heading level0 col1\" >author_association</th>        <th class=\"col_heading level0 col2\" >comments</th>        <th class=\"col_heading level0 col3\" >html_url</th>    </tr></thead><tbody>\n",
       "                <tr>\n",
       "                                <td id=\"T_c5af3482_3400_11e9_bc99_54ee75e0f62drow0_col0\" class=\"data row0 col0\" >yuvipanda</td>\n",
       "                        <td id=\"T_c5af3482_3400_11e9_bc99_54ee75e0f62drow0_col1\" class=\"data row0 col1\" >MEMBER</td>\n",
       "                        <td id=\"T_c5af3482_3400_11e9_bc99_54ee75e0f62drow0_col2\" class=\"data row0 col2\" >0</td>\n",
       "                        <td id=\"T_c5af3482_3400_11e9_bc99_54ee75e0f62drow0_col3\" class=\"data row0 col3\" ><a target=\"_blank\" href=\"https://github.com/jupyterhub/jupyter-server-proxy/pull/91\">https://github.com/jupyterhub/jupyter-server-proxy/pull/91</a></td>\n",
       "            </tr>\n",
       "            <tr>\n",
       "                                <td id=\"T_c5af3482_3400_11e9_bc99_54ee75e0f62drow1_col0\" class=\"data row1 col0\" >yuvipanda</td>\n",
       "                        <td id=\"T_c5af3482_3400_11e9_bc99_54ee75e0f62drow1_col1\" class=\"data row1 col1\" >MEMBER</td>\n",
       "                        <td id=\"T_c5af3482_3400_11e9_bc99_54ee75e0f62drow1_col2\" class=\"data row1 col2\" >0</td>\n",
       "                        <td id=\"T_c5af3482_3400_11e9_bc99_54ee75e0f62drow1_col3\" class=\"data row1 col3\" ><a target=\"_blank\" href=\"https://github.com/jupyterhub/jupyter-server-proxy/pull/101\">https://github.com/jupyterhub/jupyter-server-proxy/pull/101</a></td>\n",
       "            </tr>\n",
       "            <tr>\n",
       "                                <td id=\"T_c5af3482_3400_11e9_bc99_54ee75e0f62drow2_col0\" class=\"data row2 col0\" >yuvipanda</td>\n",
       "                        <td id=\"T_c5af3482_3400_11e9_bc99_54ee75e0f62drow2_col1\" class=\"data row2 col1\" >MEMBER</td>\n",
       "                        <td id=\"T_c5af3482_3400_11e9_bc99_54ee75e0f62drow2_col2\" class=\"data row2 col2\" >0</td>\n",
       "                        <td id=\"T_c5af3482_3400_11e9_bc99_54ee75e0f62drow2_col3\" class=\"data row2 col3\" ><a target=\"_blank\" href=\"https://github.com/jupyterhub/jupyter-server-proxy/pull/94\">https://github.com/jupyterhub/jupyter-server-proxy/pull/94</a></td>\n",
       "            </tr>\n",
       "            <tr>\n",
       "                                <td id=\"T_c5af3482_3400_11e9_bc99_54ee75e0f62drow3_col0\" class=\"data row3 col0\" >xmnlab</td>\n",
       "                        <td id=\"T_c5af3482_3400_11e9_bc99_54ee75e0f62drow3_col1\" class=\"data row3 col1\" >CONTRIBUTOR</td>\n",
       "                        <td id=\"T_c5af3482_3400_11e9_bc99_54ee75e0f62drow3_col2\" class=\"data row3 col2\" >2</td>\n",
       "                        <td id=\"T_c5af3482_3400_11e9_bc99_54ee75e0f62drow3_col3\" class=\"data row3 col3\" ><a target=\"_blank\" href=\"https://github.com/jupyterhub/jupyter-server-proxy/pull/93\">https://github.com/jupyterhub/jupyter-server-proxy/pull/93</a></td>\n",
       "            </tr>\n",
       "            <tr>\n",
       "                                <td id=\"T_c5af3482_3400_11e9_bc99_54ee75e0f62drow4_col0\" class=\"data row4 col0\" >yuvipanda</td>\n",
       "                        <td id=\"T_c5af3482_3400_11e9_bc99_54ee75e0f62drow4_col1\" class=\"data row4 col1\" >MEMBER</td>\n",
       "                        <td id=\"T_c5af3482_3400_11e9_bc99_54ee75e0f62drow4_col2\" class=\"data row4 col2\" >2</td>\n",
       "                        <td id=\"T_c5af3482_3400_11e9_bc99_54ee75e0f62drow4_col3\" class=\"data row4 col3\" ><a target=\"_blank\" href=\"https://github.com/jupyterhub/jupyter-server-proxy/pull/100\">https://github.com/jupyterhub/jupyter-server-proxy/pull/100</a></td>\n",
       "            </tr>\n",
       "            <tr>\n",
       "                                <td id=\"T_c5af3482_3400_11e9_bc99_54ee75e0f62drow5_col0\" class=\"data row5 col0\" >yuvipanda</td>\n",
       "                        <td id=\"T_c5af3482_3400_11e9_bc99_54ee75e0f62drow5_col1\" class=\"data row5 col1\" >MEMBER</td>\n",
       "                        <td id=\"T_c5af3482_3400_11e9_bc99_54ee75e0f62drow5_col2\" class=\"data row5 col2\" >2</td>\n",
       "                        <td id=\"T_c5af3482_3400_11e9_bc99_54ee75e0f62drow5_col3\" class=\"data row5 col3\" ><a target=\"_blank\" href=\"https://github.com/jupyterhub/jupyter-server-proxy/pull/99\">https://github.com/jupyterhub/jupyter-server-proxy/pull/99</a></td>\n",
       "            </tr>\n",
       "            <tr>\n",
       "                                <td id=\"T_c5af3482_3400_11e9_bc99_54ee75e0f62drow6_col0\" class=\"data row6 col0\" >manics</td>\n",
       "                        <td id=\"T_c5af3482_3400_11e9_bc99_54ee75e0f62drow6_col1\" class=\"data row6 col1\" >COLLABORATOR</td>\n",
       "                        <td id=\"T_c5af3482_3400_11e9_bc99_54ee75e0f62drow6_col2\" class=\"data row6 col2\" >4</td>\n",
       "                        <td id=\"T_c5af3482_3400_11e9_bc99_54ee75e0f62drow6_col3\" class=\"data row6 col3\" ><a target=\"_blank\" href=\"https://github.com/jupyterhub/jupyter-server-proxy/pull/96\">https://github.com/jupyterhub/jupyter-server-proxy/pull/96</a></td>\n",
       "            </tr>\n",
       "            <tr>\n",
       "                                <td id=\"T_c5af3482_3400_11e9_bc99_54ee75e0f62drow7_col0\" class=\"data row7 col0\" >manics</td>\n",
       "                        <td id=\"T_c5af3482_3400_11e9_bc99_54ee75e0f62drow7_col1\" class=\"data row7 col1\" >COLLABORATOR</td>\n",
       "                        <td id=\"T_c5af3482_3400_11e9_bc99_54ee75e0f62drow7_col2\" class=\"data row7 col2\" >5</td>\n",
       "                        <td id=\"T_c5af3482_3400_11e9_bc99_54ee75e0f62drow7_col3\" class=\"data row7 col3\" ><a target=\"_blank\" href=\"https://github.com/jupyterhub/jupyter-server-proxy/pull/85\">https://github.com/jupyterhub/jupyter-server-proxy/pull/85</a></td>\n",
       "            </tr>\n",
       "            <tr>\n",
       "                                <td id=\"T_c5af3482_3400_11e9_bc99_54ee75e0f62drow8_col0\" class=\"data row8 col0\" >yuvipanda</td>\n",
       "                        <td id=\"T_c5af3482_3400_11e9_bc99_54ee75e0f62drow8_col1\" class=\"data row8 col1\" >MEMBER</td>\n",
       "                        <td id=\"T_c5af3482_3400_11e9_bc99_54ee75e0f62drow8_col2\" class=\"data row8 col2\" >5</td>\n",
       "                        <td id=\"T_c5af3482_3400_11e9_bc99_54ee75e0f62drow8_col3\" class=\"data row8 col3\" ><a target=\"_blank\" href=\"https://github.com/jupyterhub/jupyter-server-proxy/pull/97\">https://github.com/jupyterhub/jupyter-server-proxy/pull/97</a></td>\n",
       "            </tr>\n",
       "    </tbody></table>"
      ],
      "text/plain": [
       "<pandas.io.formats.style.Styler at 0x7fe811a07588>"
      ]
     },
     "execution_count": 18,
     "metadata": {},
     "output_type": "execute_result"
    }
   ],
   "source": [
    "closed_prs[['user', 'author_association', 'comments', 'html_url']]\\\n",
    "    .sort_values(['comments']).style.applymap(highlight_rows).format({'html_url': make_clickable}).hide_index()"
   ]
  },
  {
   "cell_type": "markdown",
   "metadata": {
    "papermill": {
     "duration": 0.027475,
     "end_time": "2019-02-19T04:42:33.337866",
     "exception": false,
     "start_time": "2019-02-19T04:42:33.310391",
     "status": "completed"
    },
    "tags": []
   },
   "source": [
    "# State of repo\n",
    "\n",
    "## Stale issues"
   ]
  },
  {
   "cell_type": "code",
   "execution_count": 19,
   "metadata": {
    "jupyter": {
     "source_hidden": true
    },
    "papermill": {
     "duration": 0.048468,
     "end_time": "2019-02-19T04:42:33.414477",
     "exception": false,
     "start_time": "2019-02-19T04:42:33.366009",
     "status": "completed"
    },
    "tags": []
   },
   "outputs": [],
   "source": [
    "stale_issues = issues.query('updated_at < @date_stale')\n",
    "stale_issues = stale_issues[stale_issues['closed_at'].isnull()]"
   ]
  },
  {
   "cell_type": "code",
   "execution_count": 20,
   "metadata": {
    "jupyter": {
     "source_hidden": true
    },
    "papermill": {
     "duration": 0.061993,
     "end_time": "2019-02-19T04:42:33.508687",
     "exception": false,
     "start_time": "2019-02-19T04:42:33.446694",
     "status": "completed"
    },
    "tags": []
   },
   "outputs": [
    {
     "data": {
      "text/html": [
       "<style  type=\"text/css\" >\n",
       "    #T_c5d1e176_3400_11e9_bc99_54ee75e0f62drow0_col2 {\n",
       "            background-color:  #f7b7b7;\n",
       "        }    #T_c5d1e176_3400_11e9_bc99_54ee75e0f62drow1_col1 {\n",
       "            background-color:  #f7b7b7;\n",
       "        }    #T_c5d1e176_3400_11e9_bc99_54ee75e0f62drow1_col2 {\n",
       "            background-color:  #f7b7b7;\n",
       "        }    #T_c5d1e176_3400_11e9_bc99_54ee75e0f62drow2_col1 {\n",
       "            background-color:  #f7b7b7;\n",
       "        }    #T_c5d1e176_3400_11e9_bc99_54ee75e0f62drow2_col2 {\n",
       "            background-color:  #f7b7b7;\n",
       "        }    #T_c5d1e176_3400_11e9_bc99_54ee75e0f62drow3_col1 {\n",
       "            background-color:  red;\n",
       "        }    #T_c5d1e176_3400_11e9_bc99_54ee75e0f62drow5_col1 {\n",
       "            background-color:  #f7b7b7;\n",
       "        }    #T_c5d1e176_3400_11e9_bc99_54ee75e0f62drow6_col1 {\n",
       "            background-color:  #f7b7b7;\n",
       "        }    #T_c5d1e176_3400_11e9_bc99_54ee75e0f62drow7_col1 {\n",
       "            background-color:  #f7b7b7;\n",
       "        }    #T_c5d1e176_3400_11e9_bc99_54ee75e0f62drow8_col1 {\n",
       "            background-color:  #f7b7b7;\n",
       "        }</style><table id=\"T_c5d1e176_3400_11e9_bc99_54ee75e0f62d\" ><thead>    <tr>        <th class=\"col_heading level0 col0\" >user</th>        <th class=\"col_heading level0 col1\" >author_association</th>        <th class=\"col_heading level0 col2\" >comments</th>        <th class=\"col_heading level0 col3\" >html_url</th>    </tr></thead><tbody>\n",
       "                <tr>\n",
       "                                <td id=\"T_c5d1e176_3400_11e9_bc99_54ee75e0f62drow0_col0\" class=\"data row0 col0\" >ryanlovett</td>\n",
       "                        <td id=\"T_c5d1e176_3400_11e9_bc99_54ee75e0f62drow0_col1\" class=\"data row0 col1\" >MEMBER</td>\n",
       "                        <td id=\"T_c5d1e176_3400_11e9_bc99_54ee75e0f62drow0_col2\" class=\"data row0 col2\" >0</td>\n",
       "                        <td id=\"T_c5d1e176_3400_11e9_bc99_54ee75e0f62drow0_col3\" class=\"data row0 col3\" ><a target=\"_blank\" href=\"https://github.com/jupyterhub/jupyter-server-proxy/issues/58\">https://github.com/jupyterhub/jupyter-server-proxy/issues/58</a></td>\n",
       "            </tr>\n",
       "            <tr>\n",
       "                                <td id=\"T_c5d1e176_3400_11e9_bc99_54ee75e0f62drow1_col0\" class=\"data row1 col0\" >IamViditAgarwal</td>\n",
       "                        <td id=\"T_c5d1e176_3400_11e9_bc99_54ee75e0f62drow1_col1\" class=\"data row1 col1\" >NONE</td>\n",
       "                        <td id=\"T_c5d1e176_3400_11e9_bc99_54ee75e0f62drow1_col2\" class=\"data row1 col2\" >0</td>\n",
       "                        <td id=\"T_c5d1e176_3400_11e9_bc99_54ee75e0f62drow1_col3\" class=\"data row1 col3\" ><a target=\"_blank\" href=\"https://github.com/jupyterhub/jupyter-server-proxy/issues/55\">https://github.com/jupyterhub/jupyter-server-proxy/issues/55</a></td>\n",
       "            </tr>\n",
       "            <tr>\n",
       "                                <td id=\"T_c5d1e176_3400_11e9_bc99_54ee75e0f62drow2_col0\" class=\"data row2 col0\" >jakirkham</td>\n",
       "                        <td id=\"T_c5d1e176_3400_11e9_bc99_54ee75e0f62drow2_col1\" class=\"data row2 col1\" >NONE</td>\n",
       "                        <td id=\"T_c5d1e176_3400_11e9_bc99_54ee75e0f62drow2_col2\" class=\"data row2 col2\" >0</td>\n",
       "                        <td id=\"T_c5d1e176_3400_11e9_bc99_54ee75e0f62drow2_col3\" class=\"data row2 col3\" ><a target=\"_blank\" href=\"https://github.com/jupyterhub/jupyter-server-proxy/issues/40\">https://github.com/jupyterhub/jupyter-server-proxy/issues/40</a></td>\n",
       "            </tr>\n",
       "            <tr>\n",
       "                                <td id=\"T_c5d1e176_3400_11e9_bc99_54ee75e0f62drow3_col0\" class=\"data row3 col0\" >jacobtomlinson</td>\n",
       "                        <td id=\"T_c5d1e176_3400_11e9_bc99_54ee75e0f62drow3_col1\" class=\"data row3 col1\" >FIRST_TIME_CONTRIBUTOR</td>\n",
       "                        <td id=\"T_c5d1e176_3400_11e9_bc99_54ee75e0f62drow3_col2\" class=\"data row3 col2\" >3</td>\n",
       "                        <td id=\"T_c5d1e176_3400_11e9_bc99_54ee75e0f62drow3_col3\" class=\"data row3 col3\" ><a target=\"_blank\" href=\"https://github.com/jupyterhub/jupyter-server-proxy/pull/46\">https://github.com/jupyterhub/jupyter-server-proxy/pull/46</a></td>\n",
       "            </tr>\n",
       "            <tr>\n",
       "                                <td id=\"T_c5d1e176_3400_11e9_bc99_54ee75e0f62drow4_col0\" class=\"data row4 col0\" >choldgraf</td>\n",
       "                        <td id=\"T_c5d1e176_3400_11e9_bc99_54ee75e0f62drow4_col1\" class=\"data row4 col1\" >MEMBER</td>\n",
       "                        <td id=\"T_c5d1e176_3400_11e9_bc99_54ee75e0f62drow4_col2\" class=\"data row4 col2\" >3</td>\n",
       "                        <td id=\"T_c5d1e176_3400_11e9_bc99_54ee75e0f62drow4_col3\" class=\"data row4 col3\" ><a target=\"_blank\" href=\"https://github.com/jupyterhub/jupyter-server-proxy/issues/37\">https://github.com/jupyterhub/jupyter-server-proxy/issues/37</a></td>\n",
       "            </tr>\n",
       "            <tr>\n",
       "                                <td id=\"T_c5d1e176_3400_11e9_bc99_54ee75e0f62drow5_col0\" class=\"data row5 col0\" >h4gen</td>\n",
       "                        <td id=\"T_c5d1e176_3400_11e9_bc99_54ee75e0f62drow5_col1\" class=\"data row5 col1\" >NONE</td>\n",
       "                        <td id=\"T_c5d1e176_3400_11e9_bc99_54ee75e0f62drow5_col2\" class=\"data row5 col2\" >8</td>\n",
       "                        <td id=\"T_c5d1e176_3400_11e9_bc99_54ee75e0f62drow5_col3\" class=\"data row5 col3\" ><a target=\"_blank\" href=\"https://github.com/jupyterhub/jupyter-server-proxy/issues/57\">https://github.com/jupyterhub/jupyter-server-proxy/issues/57</a></td>\n",
       "            </tr>\n",
       "            <tr>\n",
       "                                <td id=\"T_c5d1e176_3400_11e9_bc99_54ee75e0f62drow6_col0\" class=\"data row6 col0\" >rmorshea</td>\n",
       "                        <td id=\"T_c5d1e176_3400_11e9_bc99_54ee75e0f62drow6_col1\" class=\"data row6 col1\" >NONE</td>\n",
       "                        <td id=\"T_c5d1e176_3400_11e9_bc99_54ee75e0f62drow6_col2\" class=\"data row6 col2\" >8</td>\n",
       "                        <td id=\"T_c5d1e176_3400_11e9_bc99_54ee75e0f62drow6_col3\" class=\"data row6 col3\" ><a target=\"_blank\" href=\"https://github.com/jupyterhub/jupyter-server-proxy/issues/39\">https://github.com/jupyterhub/jupyter-server-proxy/issues/39</a></td>\n",
       "            </tr>\n",
       "            <tr>\n",
       "                                <td id=\"T_c5d1e176_3400_11e9_bc99_54ee75e0f62drow7_col0\" class=\"data row7 col0\" >ghost</td>\n",
       "                        <td id=\"T_c5d1e176_3400_11e9_bc99_54ee75e0f62drow7_col1\" class=\"data row7 col1\" >NONE</td>\n",
       "                        <td id=\"T_c5d1e176_3400_11e9_bc99_54ee75e0f62drow7_col2\" class=\"data row7 col2\" >8</td>\n",
       "                        <td id=\"T_c5d1e176_3400_11e9_bc99_54ee75e0f62drow7_col3\" class=\"data row7 col3\" ><a target=\"_blank\" href=\"https://github.com/jupyterhub/jupyter-server-proxy/pull/38\">https://github.com/jupyterhub/jupyter-server-proxy/pull/38</a></td>\n",
       "            </tr>\n",
       "            <tr>\n",
       "                                <td id=\"T_c5d1e176_3400_11e9_bc99_54ee75e0f62drow8_col0\" class=\"data row8 col0\" >ghost</td>\n",
       "                        <td id=\"T_c5d1e176_3400_11e9_bc99_54ee75e0f62drow8_col1\" class=\"data row8 col1\" >NONE</td>\n",
       "                        <td id=\"T_c5d1e176_3400_11e9_bc99_54ee75e0f62drow8_col2\" class=\"data row8 col2\" >8</td>\n",
       "                        <td id=\"T_c5d1e176_3400_11e9_bc99_54ee75e0f62drow8_col3\" class=\"data row8 col3\" ><a target=\"_blank\" href=\"https://github.com/jupyterhub/jupyter-server-proxy/issues/35\">https://github.com/jupyterhub/jupyter-server-proxy/issues/35</a></td>\n",
       "            </tr>\n",
       "            <tr>\n",
       "                                <td id=\"T_c5d1e176_3400_11e9_bc99_54ee75e0f62drow9_col0\" class=\"data row9 col0\" >minrk</td>\n",
       "                        <td id=\"T_c5d1e176_3400_11e9_bc99_54ee75e0f62drow9_col1\" class=\"data row9 col1\" >MEMBER</td>\n",
       "                        <td id=\"T_c5d1e176_3400_11e9_bc99_54ee75e0f62drow9_col2\" class=\"data row9 col2\" >15</td>\n",
       "                        <td id=\"T_c5d1e176_3400_11e9_bc99_54ee75e0f62drow9_col3\" class=\"data row9 col3\" ><a target=\"_blank\" href=\"https://github.com/jupyterhub/jupyter-server-proxy/issues/1\">https://github.com/jupyterhub/jupyter-server-proxy/issues/1</a></td>\n",
       "            </tr>\n",
       "    </tbody></table>"
      ],
      "text/plain": [
       "<pandas.io.formats.style.Styler at 0x7fe811a076a0>"
      ]
     },
     "execution_count": 20,
     "metadata": {},
     "output_type": "execute_result"
    }
   ],
   "source": [
    "stale_issues[['user', 'author_association', 'comments', 'html_url']]\\\n",
    "    .sort_values(['comments']).style.applymap(highlight_rows).format({'html_url': make_clickable}).hide_index()"
   ]
  }
 ],
 "metadata": {
  "kernelspec": {
   "display_name": "Python 3",
   "language": "python",
   "name": "python3"
  },
  "language_info": {
   "codemirror_mode": {
    "name": "ipython",
    "version": 3
   },
   "file_extension": ".py",
   "mimetype": "text/x-python",
   "name": "python",
   "nbconvert_exporter": "python",
   "pygments_lexer": "ipython3",
   "version": "3.6.5"
  },
  "papermill": {
   "duration": 6.52603,
   "end_time": "2019-02-19T04:42:34.717317",
   "environment_variables": {},
   "exception": null,
   "input_path": "./templates/issues.ipynb",
   "output_path": "../reports/2019-01-19/jupyterhub/jupyter-server-proxy/issues.ipynb",
   "parameters": {
    "date": "2019-01-19",
    "org": "jupyterhub",
    "repo": "jupyter-server-proxy"
   },
   "start_time": "2019-02-19T04:42:28.191287",
   "version": "0.18.0"
  }
 },
 "nbformat": 4,
 "nbformat_minor": 2
}