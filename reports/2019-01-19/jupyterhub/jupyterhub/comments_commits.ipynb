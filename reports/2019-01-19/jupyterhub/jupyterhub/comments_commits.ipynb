{
 "cells": [
  {
   "cell_type": "code",
   "execution_count": 1,
   "metadata": {
    "jupyter": {
     "source_hidden": true
    },
    "papermill": {
     "duration": 1.044677,
     "end_time": "2019-02-19T04:40:33.413518",
     "exception": false,
     "start_time": "2019-02-19T04:40:32.368841",
     "status": "completed"
    },
    "tags": []
   },
   "outputs": [],
   "source": [
    "import pandas as pd\n",
    "from datetime import timedelta\n",
    "from IPython.display import HTML, display"
   ]
  },
  {
   "cell_type": "code",
   "execution_count": 2,
   "metadata": {
    "jupyter": {
     "source_hidden": true
    },
    "papermill": {
     "duration": 0.068808,
     "end_time": "2019-02-19T04:40:33.524293",
     "exception": false,
     "start_time": "2019-02-19T04:40:33.455485",
     "status": "completed"
    },
    "tags": [
     "parameters"
    ]
   },
   "outputs": [],
   "source": [
    "date = pd.datetime.today() - timedelta(days=30)\n",
    "org = 'jupyterhub'\n",
    "repo = 'zero-to-jupyterhub-k8s'"
   ]
  },
  {
   "cell_type": "code",
   "execution_count": 3,
   "metadata": {
    "jupyter": {
     "source_hidden": true
    },
    "papermill": {
     "duration": 0.04715,
     "end_time": "2019-02-19T04:40:33.618317",
     "exception": false,
     "start_time": "2019-02-19T04:40:33.571167",
     "status": "completed"
    },
    "tags": [
     "injected-parameters"
    ]
   },
   "outputs": [],
   "source": [
    "# Parameters\n",
    "org = \"jupyterhub\"\n",
    "repo = \"jupyterhub\"\n",
    "date = \"2019-01-19\"\n"
   ]
  },
  {
   "cell_type": "code",
   "execution_count": 4,
   "metadata": {
    "jupyter": {
     "source_hidden": true
    },
    "papermill": {
     "duration": 0.055158,
     "end_time": "2019-02-19T04:40:33.706820",
     "exception": false,
     "start_time": "2019-02-19T04:40:33.651662",
     "status": "completed"
    },
    "tags": []
   },
   "outputs": [],
   "source": [
    "# Make sure date is parsed as a date\n",
    "date = pd.to_datetime(date)"
   ]
  },
  {
   "cell_type": "markdown",
   "metadata": {
    "papermill": {
     "duration": 0.028235,
     "end_time": "2019-02-19T04:40:33.765667",
     "exception": false,
     "start_time": "2019-02-19T04:40:33.737432",
     "status": "completed"
    },
    "tags": []
   },
   "source": [
    "## Comment and commit activity\n",
    "\n",
    "This report shows general comment and commit activity for this repository. It's goal is\n",
    "to give a birds-eye view of where activity is happening across the JupyterHub repositories.\n",
    "It shouldn't be treated as a \"leaderboard\" or set of statistics to optimize for.\n"
   ]
  },
  {
   "cell_type": "markdown",
   "metadata": {
    "papermill": {
     "duration": 0.026612,
     "end_time": "2019-02-19T04:40:33.815865",
     "exception": false,
     "start_time": "2019-02-19T04:40:33.789253",
     "status": "completed"
    },
    "tags": []
   },
   "source": [
    "# Imports"
   ]
  },
  {
   "cell_type": "code",
   "execution_count": 5,
   "metadata": {
    "jupyter": {
     "source_hidden": true
    },
    "papermill": {
     "duration": 2.372246,
     "end_time": "2019-02-19T04:40:36.220455",
     "exception": false,
     "start_time": "2019-02-19T04:40:33.848209",
     "status": "completed"
    },
    "tags": []
   },
   "outputs": [],
   "source": [
    "import pandas as pd\n",
    "import scrapbook as sb\n",
    "from subprocess import run, PIPE\n",
    "from watchtower import comments_, commits_\n",
    "import os.path as op\n",
    "import shutil as sh\n",
    "import os\n",
    "import altair as alt\n",
    "import scrapbook as sb"
   ]
  },
  {
   "cell_type": "code",
   "execution_count": 6,
   "metadata": {
    "jupyter": {
     "source_hidden": true
    },
    "papermill": {
     "duration": 0.130982,
     "end_time": "2019-02-19T04:40:36.434040",
     "exception": false,
     "start_time": "2019-02-19T04:40:36.303058",
     "status": "completed"
    },
    "tags": []
   },
   "outputs": [],
   "source": [
    "# Styling functions\n",
    "\n",
    "def highlight_rows(val):\n",
    "    \"\"\"Highlights cells pertaining to non-members and w/ no comments\"\"\"\n",
    "    disp = ''\n",
    "    if val == 0 or val == \"NONE\":\n",
    "        disp += 'background-color: #f7b7b7'\n",
    "    elif val == \"FIRST_TIME_CONTRIBUTOR\":\n",
    "        disp += 'background-color: red'\n",
    "    return disp\n",
    "\n",
    "def make_clickable(val):\n",
    "    # target _blank to open new window\n",
    "    return '<a target=\"_blank\" href=\"{}\">{}</a>'.format(val, val)\n",
    "\n",
    "def print_html(msg):\n",
    "    display(HTML('<h2 style=\"padding-left: 1em;\">{}</h2>'.format(msg)))\n",
    "    \n",
    "pd.options.display.max_colwidth = 200"
   ]
  },
  {
   "cell_type": "markdown",
   "metadata": {
    "papermill": {
     "duration": 0.047088,
     "end_time": "2019-02-19T04:40:36.568895",
     "exception": false,
     "start_time": "2019-02-19T04:40:36.521807",
     "status": "completed"
    },
    "tags": []
   },
   "source": [
    "## Load data"
   ]
  },
  {
   "cell_type": "code",
   "execution_count": 7,
   "metadata": {
    "jupyter": {
     "source_hidden": true
    },
    "papermill": {
     "duration": 1.24746,
     "end_time": "2019-02-19T04:40:37.859419",
     "exception": false,
     "start_time": "2019-02-19T04:40:36.611959",
     "status": "completed"
    },
    "tags": []
   },
   "outputs": [],
   "source": [
    "teams = pd.read_csv('../../data/teams.csv')\n",
    "\n",
    "comments = comments_.load_comments(org, repo).query('created_at > @date')\n",
    "commits = commits_.load_commits(org, repo).dropna(subset=['author']).query('date > @date')\n",
    "\n",
    "comments['user'] = comments['user'].map(lambda a: a['login'])\n",
    "commits['user'] = commits['author'].map(lambda a: a['login'])\n",
    "\n",
    "top_committers = commits.groupby('user').count()['html_url'].sort_values(ascending=False).reset_index().rename(columns={'html_url': 'commits'})\n",
    "top_commenters = comments.groupby('user').count()['html_url'].sort_values(ascending=False).reset_index().rename(columns={'html_url': 'comments'})\n",
    "\n",
    "# Save committers/commenters\n",
    "path_data_date = '../../reports/{:%Y-%m-%d}/data'.format(date)\n",
    "if not op.isdir(path_data_date):\n",
    "    os.makedirs(path_data_date)\n",
    "top_committers.to_csv(op.join(path_data_date, '{}_{}-top_committers.csv'.format(org, repo)), index=False)\n",
    "top_commenters.to_csv(op.join(path_data_date, '{}_{}-top_commenters.csv'.format(org, repo)), index=False)"
   ]
  },
  {
   "cell_type": "code",
   "execution_count": 8,
   "metadata": {
    "jupyter": {
     "source_hidden": true
    },
    "papermill": {
     "duration": 0.083616,
     "end_time": "2019-02-19T04:40:37.975344",
     "exception": false,
     "start_time": "2019-02-19T04:40:37.891728",
     "status": "completed"
    },
    "tags": []
   },
   "outputs": [
    {
     "data": {
      "text/html": [
       "<h2 style=\"padding-left: 1em;\">Total commits: 42</h2>"
      ],
      "text/plain": [
       "<IPython.core.display.HTML object>"
      ]
     },
     "metadata": {},
     "output_type": "display_data"
    },
    {
     "data": {
      "text/html": [
       "<h2 style=\"padding-left: 1em;\">Total comments: 148</h2>"
      ],
      "text/plain": [
       "<IPython.core.display.HTML object>"
      ]
     },
     "metadata": {},
     "output_type": "display_data"
    }
   ],
   "source": [
    "print_html(\"Total commits: {}\".format(len(commits)))\n",
    "print_html(\"Total comments: {}\".format(len(comments)))"
   ]
  },
  {
   "cell_type": "markdown",
   "metadata": {
    "papermill": {
     "duration": 0.026725,
     "end_time": "2019-02-19T04:40:38.046012",
     "exception": false,
     "start_time": "2019-02-19T04:40:38.019287",
     "status": "completed"
    },
    "tags": []
   },
   "source": [
    "## Top committers"
   ]
  },
  {
   "cell_type": "code",
   "execution_count": 9,
   "metadata": {
    "jupyter": {
     "source_hidden": true
    },
    "papermill": {
     "duration": 0.201199,
     "end_time": "2019-02-19T04:40:38.271783",
     "exception": false,
     "start_time": "2019-02-19T04:40:38.070584",
     "status": "completed"
    },
    "tags": []
   },
   "outputs": [],
   "source": [
    "def find_association(user):\n",
    "    person = teams.query('username == @user')\n",
    "    if len(person) == 0:\n",
    "        return 'NONE'\n",
    "    else:\n",
    "        # Return their team (preferring the Binder teams since they're a bit more specific)\n",
    "        return person.iloc[-1]['team']\n",
    "    \n",
    "top_committers['association'] = top_committers['user'].map(find_association)\n",
    "top_commenters['association'] = top_commenters['user'].map(find_association)\n",
    "\n",
    "# Define the color scale we'll use to categorize people\n",
    "color_scale = alt.Scale(\n",
    "    domain=[\"red\", \"lead\", \"blue\", \"jupyterhub\", \"NONE\"],\n",
    "    range=[\"#fdbaba\", \"#fdbaba\", \"#bac5fd\", \"#ffbb74\", \"red\"]\n",
    ")"
   ]
  },
  {
   "cell_type": "code",
   "execution_count": 10,
   "metadata": {
    "jupyter": {
     "source_hidden": true
    },
    "papermill": {
     "duration": 0.06373,
     "end_time": "2019-02-19T04:40:38.354470",
     "exception": false,
     "start_time": "2019-02-19T04:40:38.290740",
     "status": "completed"
    },
    "tags": []
   },
   "outputs": [
    {
     "name": "stderr",
     "output_type": "stream",
     "text": [
      "/home/choldgraf/anaconda/envs/dev/lib/python3.6/site-packages/altair/utils/core.py:294: FutureWarning: A future version of pandas will default to `skipna=True`. To silence this warning, pass `skipna=True|False` explicitly.\n",
      "  attrs['type'] = infer_vegalite_type(data[attrs['field']])\n"
     ]
    },
    {
     "data": {
      "application/vnd.vegalite.v2+json": {
       "$schema": "https://vega.github.io/schema/vega-lite/v2.6.0.json",
       "config": {
        "view": {
         "height": 300,
         "width": 400
        }
       },
       "data": {
        "name": "data-5a55889d80cd02eb81e1e59a6bc591da"
       },
       "datasets": {
        "data-5a55889d80cd02eb81e1e59a6bc591da": [
         {
          "association": "lead",
          "commits": 35,
          "user": "minrk"
         },
         {
          "association": "blue",
          "commits": 5,
          "user": "consideRatio"
         },
         {
          "association": "NONE",
          "commits": 2,
          "user": "dtaniwaki"
         }
        ]
       },
       "encoding": {
        "color": {
         "field": "association",
         "scale": {
          "domain": [
           "red",
           "lead",
           "blue",
           "jupyterhub",
           "NONE"
          ],
          "range": [
           "#fdbaba",
           "#fdbaba",
           "#bac5fd",
           "#ffbb74",
           "red"
          ]
         },
         "type": "nominal"
        },
        "x": {
         "field": "commits",
         "type": "quantitative"
        },
        "y": {
         "field": "user",
         "type": "nominal"
        }
       },
       "mark": "bar"
      },
      "text/plain": [
       "<VegaLite 2 object>\n",
       "\n",
       "If you see this message, it means the renderer has not been properly enabled\n",
       "for the frontend that you are using. For more information, see\n",
       "https://altair-viz.github.io/user_guide/troubleshooting.html\n"
      ]
     },
     "execution_count": 10,
     "metadata": {},
     "output_type": "execute_result"
    }
   ],
   "source": [
    "alt.Chart(top_committers).mark_bar().encode(\n",
    "    x='commits',\n",
    "    y='user',\n",
    "    color=alt.Color('association', scale=color_scale)\n",
    ")"
   ]
  },
  {
   "cell_type": "markdown",
   "metadata": {
    "papermill": {
     "duration": 0.02574,
     "end_time": "2019-02-19T04:40:38.399499",
     "exception": false,
     "start_time": "2019-02-19T04:40:38.373759",
     "status": "completed"
    },
    "tags": []
   },
   "source": [
    "## Top commenters"
   ]
  },
  {
   "cell_type": "code",
   "execution_count": 11,
   "metadata": {
    "jupyter": {
     "source_hidden": true
    },
    "papermill": {
     "duration": 0.049722,
     "end_time": "2019-02-19T04:40:38.496808",
     "exception": false,
     "start_time": "2019-02-19T04:40:38.447086",
     "status": "completed"
    },
    "tags": []
   },
   "outputs": [
    {
     "data": {
      "application/vnd.vegalite.v2+json": {
       "$schema": "https://vega.github.io/schema/vega-lite/v2.6.0.json",
       "config": {
        "view": {
         "height": 300,
         "width": 400
        }
       },
       "data": {
        "name": "data-24c8c7489b42dc7fd1f010b532be9a64"
       },
       "datasets": {
        "data-24c8c7489b42dc7fd1f010b532be9a64": [
         {
          "association": "lead",
          "comments": 40,
          "user": "minrk"
         },
         {
          "association": "blue",
          "comments": 17,
          "user": "consideRatio"
         },
         {
          "association": "blue",
          "comments": 12,
          "user": "Zsailer"
         },
         {
          "association": "NONE",
          "comments": 7,
          "user": "1kastner"
         },
         {
          "association": "red",
          "comments": 6,
          "user": "willingc"
         },
         {
          "association": "NONE",
          "comments": 6,
          "user": "anderl80"
         },
         {
          "association": "NONE",
          "comments": 3,
          "user": "laurensdv"
         },
         {
          "association": "NONE",
          "comments": 3,
          "user": "pkumar8789"
         },
         {
          "association": "NONE",
          "comments": 2,
          "user": "lbiemans"
         },
         {
          "association": "red",
          "comments": 2,
          "user": "choldgraf"
         },
         {
          "association": "NONE",
          "comments": 2,
          "user": "feriat"
         },
         {
          "association": "NONE",
          "comments": 2,
          "user": "ibre5041"
         },
         {
          "association": "NONE",
          "comments": 2,
          "user": "zhengdayday"
         },
         {
          "association": "NONE",
          "comments": 2,
          "user": "cmw2196"
         },
         {
          "association": "NONE",
          "comments": 2,
          "user": "mdivk"
         },
         {
          "association": "red",
          "comments": 2,
          "user": "betatim"
         },
         {
          "association": "NONE",
          "comments": 2,
          "user": "dtaniwaki"
         },
         {
          "association": "NONE",
          "comments": 2,
          "user": "rkdarst"
         },
         {
          "association": "NONE",
          "comments": 2,
          "user": "signinred"
         },
         {
          "association": "NONE",
          "comments": 2,
          "user": "skhadrao"
         },
         {
          "association": "NONE",
          "comments": 2,
          "user": "whositwhatnow"
         },
         {
          "association": "NONE",
          "comments": 2,
          "user": "yugushihuang"
         },
         {
          "association": "NONE",
          "comments": 2,
          "user": "dhirschfeld"
         },
         {
          "association": "NONE",
          "comments": 1,
          "user": "bjyxmas"
         },
         {
          "association": "NONE",
          "comments": 1,
          "user": "chrlunden"
         },
         {
          "association": "NONE",
          "comments": 1,
          "user": "clkao"
         },
         {
          "association": "NONE",
          "comments": 1,
          "user": "abdollahiazam"
         },
         {
          "association": "NONE",
          "comments": 1,
          "user": "BoPeng"
         },
         {
          "association": "NONE",
          "comments": 1,
          "user": "AvivBes"
         },
         {
          "association": "NONE",
          "comments": 1,
          "user": "danijel3"
         },
         {
          "association": "NONE",
          "comments": 1,
          "user": "zhouanbo"
         },
         {
          "association": "NONE",
          "comments": 1,
          "user": "farzadz"
         },
         {
          "association": "NONE",
          "comments": 1,
          "user": "himswamy"
         },
         {
          "association": "NONE",
          "comments": 1,
          "user": "krishdey"
         },
         {
          "association": "NONE",
          "comments": 1,
          "user": "manish0749"
         },
         {
          "association": "NONE",
          "comments": 1,
          "user": "marinalopez2110"
         },
         {
          "association": "NONE",
          "comments": 1,
          "user": "nitinkansal1984"
         },
         {
          "association": "NONE",
          "comments": 1,
          "user": "oscar6echo"
         },
         {
          "association": "NONE",
          "comments": 1,
          "user": "palashSharma17"
         },
         {
          "association": "NONE",
          "comments": 1,
          "user": "payalbhatia"
         },
         {
          "association": "NONE",
          "comments": 1,
          "user": "pratik-lal"
         },
         {
          "association": "NONE",
          "comments": 1,
          "user": "soerendip"
         },
         {
          "association": "NONE",
          "comments": 1,
          "user": "vKredGod"
         },
         {
          "association": "NONE",
          "comments": 1,
          "user": "vilhelmen"
         },
         {
          "association": "NONE",
          "comments": 1,
          "user": "williamstein"
         },
         {
          "association": "NONE",
          "comments": 1,
          "user": "xysong1201"
         },
         {
          "association": "NONE",
          "comments": 1,
          "user": "00Kai0"
         }
        ]
       },
       "encoding": {
        "color": {
         "field": "association",
         "scale": {
          "domain": [
           "red",
           "lead",
           "blue",
           "jupyterhub",
           "NONE"
          ],
          "range": [
           "#fdbaba",
           "#fdbaba",
           "#bac5fd",
           "#ffbb74",
           "red"
          ]
         },
         "sort": [
          "CONTRIBUTOR",
          "MEMBER",
          "NONE"
         ],
         "type": "nominal"
        },
        "x": {
         "field": "comments",
         "type": "quantitative"
        },
        "y": {
         "field": "user",
         "type": "nominal"
        }
       },
       "mark": "bar"
      },
      "text/plain": [
       "<VegaLite 2 object>\n",
       "\n",
       "If you see this message, it means the renderer has not been properly enabled\n",
       "for the frontend that you are using. For more information, see\n",
       "https://altair-viz.github.io/user_guide/troubleshooting.html\n"
      ]
     },
     "execution_count": 11,
     "metadata": {},
     "output_type": "execute_result"
    }
   ],
   "source": [
    "alt.Chart(top_commenters).mark_bar().encode(\n",
    "    x='comments',\n",
    "    y='user',\n",
    "    color=alt.Color('association', sort=[\"CONTRIBUTOR\", \"MEMBER\", \"NONE\"], scale=color_scale)\n",
    ")"
   ]
  },
  {
   "cell_type": "markdown",
   "metadata": {
    "papermill": {
     "duration": 0.022105,
     "end_time": "2019-02-19T04:40:38.541709",
     "exception": false,
     "start_time": "2019-02-19T04:40:38.519604",
     "status": "completed"
    },
    "tags": []
   },
   "source": [
    "## Percentages of comments and commits"
   ]
  },
  {
   "cell_type": "code",
   "execution_count": 12,
   "metadata": {
    "jupyter": {
     "source_hidden": true
    },
    "papermill": {
     "duration": 0.046221,
     "end_time": "2019-02-19T04:40:38.610642",
     "exception": false,
     "start_time": "2019-02-19T04:40:38.564421",
     "status": "completed"
    },
    "tags": []
   },
   "outputs": [],
   "source": [
    "# Calculate percentages\n",
    "sum_comments = top_commenters.groupby('association')['comments'].sum().reset_index().rename(columns={'comments': \"percent\"})\n",
    "sum_comments['kind'] = \"comments\"\n",
    "sum_comments['percent'] = 100*(sum_comments['percent'] / sum_comments['percent'].sum())\n",
    "\n",
    "sum_commits = top_committers.groupby('association')['commits'].sum().reset_index().rename(columns={'commits': \"percent\"})\n",
    "sum_commits['kind'] = \"commits\"\n",
    "sum_commits['percent'] = 100*(sum_commits['percent'] / sum_commits['percent'].sum())\n",
    "\n",
    "sum_both = pd.concat([sum_comments, sum_commits])"
   ]
  },
  {
   "cell_type": "code",
   "execution_count": 13,
   "metadata": {
    "jupyter": {
     "source_hidden": true
    },
    "papermill": {
     "duration": 0.043078,
     "end_time": "2019-02-19T04:40:38.676540",
     "exception": false,
     "start_time": "2019-02-19T04:40:38.633462",
     "status": "completed"
    },
    "tags": []
   },
   "outputs": [
    {
     "data": {
      "application/vnd.vegalite.v2+json": {
       "$schema": "https://vega.github.io/schema/vega-lite/v2.6.0.json",
       "config": {
        "view": {
         "height": 300,
         "width": 400
        }
       },
       "data": {
        "name": "data-1fda31c42dd010b73f41a5ab57d991de"
       },
       "datasets": {
        "data-1fda31c42dd010b73f41a5ab57d991de": [
         {
          "association": "NONE",
          "kind": "comments",
          "percent": 46.62162162162162
         },
         {
          "association": "blue",
          "kind": "comments",
          "percent": 19.594594594594593
         },
         {
          "association": "lead",
          "kind": "comments",
          "percent": 27.027027027027028
         },
         {
          "association": "red",
          "kind": "comments",
          "percent": 6.756756756756757
         },
         {
          "association": "NONE",
          "kind": "commits",
          "percent": 4.761904761904762
         },
         {
          "association": "blue",
          "kind": "commits",
          "percent": 11.904761904761903
         },
         {
          "association": "lead",
          "kind": "commits",
          "percent": 83.33333333333334
         }
        ]
       },
       "encoding": {
        "color": {
         "field": "association",
         "scale": {
          "domain": [
           "red",
           "lead",
           "blue",
           "jupyterhub",
           "NONE"
          ],
          "range": [
           "#fdbaba",
           "#fdbaba",
           "#bac5fd",
           "#ffbb74",
           "red"
          ]
         },
         "sort": [
          "CONTRIBUTOR",
          "MEMBER",
          "NONE"
         ],
         "type": "nominal"
        },
        "x": {
         "field": "percent",
         "type": "quantitative"
        },
        "y": {
         "field": "kind",
         "type": "nominal"
        }
       },
       "mark": "bar"
      },
      "text/plain": [
       "<VegaLite 2 object>\n",
       "\n",
       "If you see this message, it means the renderer has not been properly enabled\n",
       "for the frontend that you are using. For more information, see\n",
       "https://altair-viz.github.io/user_guide/troubleshooting.html\n"
      ]
     },
     "execution_count": 13,
     "metadata": {},
     "output_type": "execute_result"
    }
   ],
   "source": [
    "alt.Chart(sum_both).mark_bar().encode(\n",
    "    x='percent',\n",
    "    y='kind',\n",
    "    color=alt.Color('association', sort=[\"CONTRIBUTOR\", \"MEMBER\", \"NONE\"], scale=color_scale)\n",
    ")"
   ]
  }
 ],
 "metadata": {
  "kernelspec": {
   "display_name": "Python 3",
   "language": "python",
   "name": "python3"
  },
  "language_info": {
   "codemirror_mode": {
    "name": "ipython",
    "version": 3
   },
   "file_extension": ".py",
   "mimetype": "text/x-python",
   "name": "python",
   "nbconvert_exporter": "python",
   "pygments_lexer": "ipython3",
   "version": "3.6.5"
  },
  "papermill": {
   "duration": 8.521232,
   "end_time": "2019-02-19T04:40:39.160009",
   "environment_variables": {},
   "exception": null,
   "input_path": "./templates/comments_commits.ipynb",
   "output_path": "../reports/2019-01-19/jupyterhub/jupyterhub/comments_commits.ipynb",
   "parameters": {
    "date": "2019-01-19",
    "org": "jupyterhub",
    "repo": "jupyterhub"
   },
   "start_time": "2019-02-19T04:40:30.638777",
   "version": "0.18.0"
  }
 },
 "nbformat": 4,
 "nbformat_minor": 2
}