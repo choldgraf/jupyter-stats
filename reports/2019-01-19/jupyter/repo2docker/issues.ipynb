{
 "cells": [
  {
   "cell_type": "code",
   "execution_count": 1,
   "metadata": {
    "jupyter": {
     "source_hidden": true
    },
    "papermill": {
     "duration": 0.519868,
     "end_time": "2019-02-19T04:39:54.728585",
     "exception": false,
     "start_time": "2019-02-19T04:39:54.208717",
     "status": "completed"
    },
    "tags": []
   },
   "outputs": [],
   "source": [
    "import pandas as pd\n",
    "from datetime import timedelta\n",
    "from IPython.display import HTML, display"
   ]
  },
  {
   "cell_type": "code",
   "execution_count": 2,
   "metadata": {
    "jupyter": {
     "source_hidden": true
    },
    "papermill": {
     "duration": 0.02749,
     "end_time": "2019-02-19T04:39:54.780962",
     "exception": false,
     "start_time": "2019-02-19T04:39:54.753472",
     "status": "completed"
    },
    "tags": [
     "parameters"
    ]
   },
   "outputs": [],
   "source": [
    "date = pd.datetime.today() - timedelta(days=30)\n",
    "org = 'jupyterhub'\n",
    "repo = 'zero-to-jupyterhub-k8s'"
   ]
  },
  {
   "cell_type": "code",
   "execution_count": 3,
   "metadata": {
    "jupyter": {
     "source_hidden": true
    },
    "papermill": {
     "duration": 0.048891,
     "end_time": "2019-02-19T04:39:54.876531",
     "exception": false,
     "start_time": "2019-02-19T04:39:54.827640",
     "status": "completed"
    },
    "tags": [
     "injected-parameters"
    ]
   },
   "outputs": [],
   "source": [
    "# Parameters\n",
    "org = \"jupyter\"\n",
    "repo = \"repo2docker\"\n",
    "date = \"2019-01-19\"\n"
   ]
  },
  {
   "cell_type": "code",
   "execution_count": 4,
   "metadata": {
    "jupyter": {
     "source_hidden": true
    },
    "papermill": {
     "duration": 0.035748,
     "end_time": "2019-02-19T04:39:54.940809",
     "exception": false,
     "start_time": "2019-02-19T04:39:54.905061",
     "status": "completed"
    },
    "tags": []
   },
   "outputs": [],
   "source": [
    "# Definition of a stale issue/PR (how many days since last updated)\n",
    "date = pd.to_datetime(date)\n",
    "stale_days = 30\n",
    "date_stale = date - timedelta(days=stale_days)"
   ]
  },
  {
   "cell_type": "markdown",
   "metadata": {
    "papermill": {
     "duration": 0.031546,
     "end_time": "2019-02-19T04:39:55.003280",
     "exception": false,
     "start_time": "2019-02-19T04:39:54.971734",
     "status": "completed"
    },
    "tags": []
   },
   "source": [
    "# Opened and Closed Issues and PRs\n",
    "\n",
    "This report shows opened and closed issues / PRs over the last 30 days, with a\n",
    "particular focus on items that haven't had a lot of discussion, or that have\n",
    "been opened by people who aren't team-members. The goal of this page is to make\n",
    "it easier to spot places where some input would be appreciated!"
   ]
  },
  {
   "cell_type": "markdown",
   "metadata": {
    "papermill": {
     "duration": 0.025369,
     "end_time": "2019-02-19T04:39:55.056801",
     "exception": false,
     "start_time": "2019-02-19T04:39:55.031432",
     "status": "completed"
    },
    "tags": []
   },
   "source": [
    "# Imports"
   ]
  },
  {
   "cell_type": "code",
   "execution_count": 5,
   "metadata": {
    "jupyter": {
     "source_hidden": true
    },
    "papermill": {
     "duration": 0.252397,
     "end_time": "2019-02-19T04:39:55.338055",
     "exception": false,
     "start_time": "2019-02-19T04:39:55.085658",
     "status": "completed"
    },
    "tags": []
   },
   "outputs": [],
   "source": [
    "import pandas as pd\n",
    "from subprocess import run, PIPE\n",
    "from watchtower import issues_\n",
    "from glob import glob\n",
    "import os.path as op\n",
    "import shutil as sh\n",
    "import sys\n",
    "sys.path.append('../../scripts/')"
   ]
  },
  {
   "cell_type": "markdown",
   "metadata": {
    "papermill": {
     "duration": 0.019605,
     "end_time": "2019-02-19T04:39:55.377873",
     "exception": false,
     "start_time": "2019-02-19T04:39:55.358268",
     "status": "completed"
    },
    "tags": []
   },
   "source": [
    "## styling functions"
   ]
  },
  {
   "cell_type": "code",
   "execution_count": 6,
   "metadata": {
    "jupyter": {
     "source_hidden": true
    },
    "papermill": {
     "duration": 0.03234,
     "end_time": "2019-02-19T04:39:55.438010",
     "exception": false,
     "start_time": "2019-02-19T04:39:55.405670",
     "status": "completed"
    },
    "tags": []
   },
   "outputs": [],
   "source": [
    "def highlight_rows(val):\n",
    "    \"\"\"Highlights cells pertaining to non-members and w/ no comments\"\"\"\n",
    "    disp = ''\n",
    "    if val == 0 or val == \"NONE\":\n",
    "        disp += 'background-color: #f7b7b7'\n",
    "    elif val == \"FIRST_TIME_CONTRIBUTOR\":\n",
    "        disp += 'background-color: red'\n",
    "    return disp\n",
    "\n",
    "def make_clickable(val):\n",
    "    # target _blank to open new window\n",
    "    return '<a target=\"_blank\" href=\"{}\">{}</a>'.format(val, val)\n",
    "\n",
    "def print_html(msg):\n",
    "    display(HTML('<h2 style=\"padding-left: 1em;\">{}</h2>'.format(msg)))\n",
    "    \n",
    "pd.options.display.max_colwidth = 200"
   ]
  },
  {
   "cell_type": "markdown",
   "metadata": {
    "papermill": {
     "duration": 0.02153,
     "end_time": "2019-02-19T04:39:55.483331",
     "exception": false,
     "start_time": "2019-02-19T04:39:55.461801",
     "status": "completed"
    },
    "tags": []
   },
   "source": [
    "## Load data"
   ]
  },
  {
   "cell_type": "code",
   "execution_count": 7,
   "metadata": {
    "jupyter": {
     "source_hidden": true
    },
    "papermill": {
     "duration": 0.112509,
     "end_time": "2019-02-19T04:39:55.616538",
     "exception": false,
     "start_time": "2019-02-19T04:39:55.504029",
     "status": "completed"
    },
    "tags": []
   },
   "outputs": [],
   "source": [
    "# Issues\n",
    "issues = issues_.load_issues(org, repo)\n",
    "issues['user'] = issues['user'].map(lambda a: a['login'])"
   ]
  },
  {
   "cell_type": "markdown",
   "metadata": {
    "papermill": {
     "duration": 0.027972,
     "end_time": "2019-02-19T04:39:55.670446",
     "exception": false,
     "start_time": "2019-02-19T04:39:55.642474",
     "status": "completed"
    },
    "tags": []
   },
   "source": [
    "# New activity"
   ]
  },
  {
   "cell_type": "markdown",
   "metadata": {
    "papermill": {
     "duration": 0.018775,
     "end_time": "2019-02-19T04:39:55.707619",
     "exception": false,
     "start_time": "2019-02-19T04:39:55.688844",
     "status": "completed"
    },
    "tags": []
   },
   "source": [
    "## Opened issues\n",
    "\n",
    "without responses in red"
   ]
  },
  {
   "cell_type": "code",
   "execution_count": 8,
   "metadata": {
    "jupyter": {
     "source_hidden": true
    },
    "papermill": {
     "duration": 0.084737,
     "end_time": "2019-02-19T04:39:55.811422",
     "exception": false,
     "start_time": "2019-02-19T04:39:55.726685",
     "status": "completed"
    },
    "tags": []
   },
   "outputs": [
    {
     "name": "stderr",
     "output_type": "stream",
     "text": [
      "/home/choldgraf/anaconda/envs/dev/lib/python3.6/site-packages/ipykernel_launcher.py:3: SettingWithCopyWarning: \n",
      "A value is trying to be set on a copy of a slice from a DataFrame.\n",
      "Try using .loc[row_indexer,col_indexer] = value instead\n",
      "\n",
      "See the caveats in the documentation: http://pandas.pydata.org/pandas-docs/stable/indexing.html#indexing-view-versus-copy\n",
      "  This is separate from the ipykernel package so we can avoid doing imports until\n"
     ]
    }
   ],
   "source": [
    "opened = issues.query('created_at > @date')\n",
    "opened_issues = opened[opened['pull_request'].isna()]\n",
    "opened_issues['closed'] = ~pd.isnull(opened_issues['closed_at'])"
   ]
  },
  {
   "cell_type": "code",
   "execution_count": 9,
   "metadata": {
    "jupyter": {
     "source_hidden": true
    },
    "papermill": {
     "duration": 0.036463,
     "end_time": "2019-02-19T04:39:55.875434",
     "exception": false,
     "start_time": "2019-02-19T04:39:55.838971",
     "status": "completed"
    },
    "tags": []
   },
   "outputs": [
    {
     "data": {
      "text/html": [
       "<h2 style=\"padding-left: 1em;\">Opened issues: 8</h2>"
      ],
      "text/plain": [
       "<IPython.core.display.HTML object>"
      ]
     },
     "metadata": {},
     "output_type": "display_data"
    }
   ],
   "source": [
    "print_html('Opened issues: {}'.format(len(opened_issues)))"
   ]
  },
  {
   "cell_type": "code",
   "execution_count": 10,
   "metadata": {
    "jupyter": {
     "source_hidden": true
    },
    "papermill": {
     "duration": 0.771989,
     "end_time": "2019-02-19T04:39:56.669362",
     "exception": false,
     "start_time": "2019-02-19T04:39:55.897373",
     "status": "completed"
    },
    "tags": []
   },
   "outputs": [
    {
     "data": {
      "text/html": [
       "<style  type=\"text/css\" >\n",
       "    #T_68548b20_3400_11e9_a2b1_54ee75e0f62drow0_col2 {\n",
       "            background-color:  #f7b7b7;\n",
       "        }    #T_68548b20_3400_11e9_a2b1_54ee75e0f62drow0_col3 {\n",
       "            background-color:  #f7b7b7;\n",
       "        }    #T_68548b20_3400_11e9_a2b1_54ee75e0f62drow1_col3 {\n",
       "            background-color:  #f7b7b7;\n",
       "        }    #T_68548b20_3400_11e9_a2b1_54ee75e0f62drow2_col1 {\n",
       "            background-color:  #f7b7b7;\n",
       "        }    #T_68548b20_3400_11e9_a2b1_54ee75e0f62drow2_col3 {\n",
       "            background-color:  #f7b7b7;\n",
       "        }    #T_68548b20_3400_11e9_a2b1_54ee75e0f62drow3_col1 {\n",
       "            background-color:  #f7b7b7;\n",
       "        }    #T_68548b20_3400_11e9_a2b1_54ee75e0f62drow3_col3 {\n",
       "            background-color:  #f7b7b7;\n",
       "        }    #T_68548b20_3400_11e9_a2b1_54ee75e0f62drow4_col3 {\n",
       "            background-color:  #f7b7b7;\n",
       "        }    #T_68548b20_3400_11e9_a2b1_54ee75e0f62drow5_col3 {\n",
       "            background-color:  #f7b7b7;\n",
       "        }    #T_68548b20_3400_11e9_a2b1_54ee75e0f62drow6_col3 {\n",
       "            background-color:  #f7b7b7;\n",
       "        }</style><table id=\"T_68548b20_3400_11e9_a2b1_54ee75e0f62d\" ><thead>    <tr>        <th class=\"col_heading level0 col0\" >user</th>        <th class=\"col_heading level0 col1\" >author_association</th>        <th class=\"col_heading level0 col2\" >comments</th>        <th class=\"col_heading level0 col3\" >closed</th>        <th class=\"col_heading level0 col4\" >html_url</th>    </tr></thead><tbody>\n",
       "                <tr>\n",
       "                                <td id=\"T_68548b20_3400_11e9_a2b1_54ee75e0f62drow0_col0\" class=\"data row0 col0\" >betatim</td>\n",
       "                        <td id=\"T_68548b20_3400_11e9_a2b1_54ee75e0f62drow0_col1\" class=\"data row0 col1\" >COLLABORATOR</td>\n",
       "                        <td id=\"T_68548b20_3400_11e9_a2b1_54ee75e0f62drow0_col2\" class=\"data row0 col2\" >0</td>\n",
       "                        <td id=\"T_68548b20_3400_11e9_a2b1_54ee75e0f62drow0_col3\" class=\"data row0 col3\" >False</td>\n",
       "                        <td id=\"T_68548b20_3400_11e9_a2b1_54ee75e0f62drow0_col4\" class=\"data row0 col4\" ><a target=\"_blank\" href=\"https://github.com/jupyter/repo2docker/issues/580\">https://github.com/jupyter/repo2docker/issues/580</a></td>\n",
       "            </tr>\n",
       "            <tr>\n",
       "                                <td id=\"T_68548b20_3400_11e9_a2b1_54ee75e0f62drow1_col0\" class=\"data row1 col0\" >jhamman</td>\n",
       "                        <td id=\"T_68548b20_3400_11e9_a2b1_54ee75e0f62drow1_col1\" class=\"data row1 col1\" >CONTRIBUTOR</td>\n",
       "                        <td id=\"T_68548b20_3400_11e9_a2b1_54ee75e0f62drow1_col2\" class=\"data row1 col2\" >1</td>\n",
       "                        <td id=\"T_68548b20_3400_11e9_a2b1_54ee75e0f62drow1_col3\" class=\"data row1 col3\" >False</td>\n",
       "                        <td id=\"T_68548b20_3400_11e9_a2b1_54ee75e0f62drow1_col4\" class=\"data row1 col4\" ><a target=\"_blank\" href=\"https://github.com/jupyter/repo2docker/issues/564\">https://github.com/jupyter/repo2docker/issues/564</a></td>\n",
       "            </tr>\n",
       "            <tr>\n",
       "                                <td id=\"T_68548b20_3400_11e9_a2b1_54ee75e0f62drow2_col0\" class=\"data row2 col0\" >fmaussion</td>\n",
       "                        <td id=\"T_68548b20_3400_11e9_a2b1_54ee75e0f62drow2_col1\" class=\"data row2 col1\" >NONE</td>\n",
       "                        <td id=\"T_68548b20_3400_11e9_a2b1_54ee75e0f62drow2_col2\" class=\"data row2 col2\" >1</td>\n",
       "                        <td id=\"T_68548b20_3400_11e9_a2b1_54ee75e0f62drow2_col3\" class=\"data row2 col3\" >False</td>\n",
       "                        <td id=\"T_68548b20_3400_11e9_a2b1_54ee75e0f62drow2_col4\" class=\"data row2 col4\" ><a target=\"_blank\" href=\"https://github.com/jupyter/repo2docker/issues/561\">https://github.com/jupyter/repo2docker/issues/561</a></td>\n",
       "            </tr>\n",
       "            <tr>\n",
       "                                <td id=\"T_68548b20_3400_11e9_a2b1_54ee75e0f62drow3_col0\" class=\"data row3 col0\" >d-diaz</td>\n",
       "                        <td id=\"T_68548b20_3400_11e9_a2b1_54ee75e0f62drow3_col1\" class=\"data row3 col1\" >NONE</td>\n",
       "                        <td id=\"T_68548b20_3400_11e9_a2b1_54ee75e0f62drow3_col2\" class=\"data row3 col2\" >2</td>\n",
       "                        <td id=\"T_68548b20_3400_11e9_a2b1_54ee75e0f62drow3_col3\" class=\"data row3 col3\" >False</td>\n",
       "                        <td id=\"T_68548b20_3400_11e9_a2b1_54ee75e0f62drow3_col4\" class=\"data row3 col4\" ><a target=\"_blank\" href=\"https://github.com/jupyter/repo2docker/issues/578\">https://github.com/jupyter/repo2docker/issues/578</a></td>\n",
       "            </tr>\n",
       "            <tr>\n",
       "                                <td id=\"T_68548b20_3400_11e9_a2b1_54ee75e0f62drow4_col0\" class=\"data row4 col0\" >jhamman</td>\n",
       "                        <td id=\"T_68548b20_3400_11e9_a2b1_54ee75e0f62drow4_col1\" class=\"data row4 col1\" >CONTRIBUTOR</td>\n",
       "                        <td id=\"T_68548b20_3400_11e9_a2b1_54ee75e0f62drow4_col2\" class=\"data row4 col2\" >2</td>\n",
       "                        <td id=\"T_68548b20_3400_11e9_a2b1_54ee75e0f62drow4_col3\" class=\"data row4 col3\" >False</td>\n",
       "                        <td id=\"T_68548b20_3400_11e9_a2b1_54ee75e0f62drow4_col4\" class=\"data row4 col4\" ><a target=\"_blank\" href=\"https://github.com/jupyter/repo2docker/issues/566\">https://github.com/jupyter/repo2docker/issues/566</a></td>\n",
       "            </tr>\n",
       "            <tr>\n",
       "                                <td id=\"T_68548b20_3400_11e9_a2b1_54ee75e0f62drow5_col0\" class=\"data row5 col0\" >jhamman</td>\n",
       "                        <td id=\"T_68548b20_3400_11e9_a2b1_54ee75e0f62drow5_col1\" class=\"data row5 col1\" >CONTRIBUTOR</td>\n",
       "                        <td id=\"T_68548b20_3400_11e9_a2b1_54ee75e0f62drow5_col2\" class=\"data row5 col2\" >4</td>\n",
       "                        <td id=\"T_68548b20_3400_11e9_a2b1_54ee75e0f62drow5_col3\" class=\"data row5 col3\" >False</td>\n",
       "                        <td id=\"T_68548b20_3400_11e9_a2b1_54ee75e0f62drow5_col4\" class=\"data row5 col4\" ><a target=\"_blank\" href=\"https://github.com/jupyter/repo2docker/issues/565\">https://github.com/jupyter/repo2docker/issues/565</a></td>\n",
       "            </tr>\n",
       "            <tr>\n",
       "                                <td id=\"T_68548b20_3400_11e9_a2b1_54ee75e0f62drow6_col0\" class=\"data row6 col0\" >choldgraf</td>\n",
       "                        <td id=\"T_68548b20_3400_11e9_a2b1_54ee75e0f62drow6_col1\" class=\"data row6 col1\" >MEMBER</td>\n",
       "                        <td id=\"T_68548b20_3400_11e9_a2b1_54ee75e0f62drow6_col2\" class=\"data row6 col2\" >21</td>\n",
       "                        <td id=\"T_68548b20_3400_11e9_a2b1_54ee75e0f62drow6_col3\" class=\"data row6 col3\" >False</td>\n",
       "                        <td id=\"T_68548b20_3400_11e9_a2b1_54ee75e0f62drow6_col4\" class=\"data row6 col4\" ><a target=\"_blank\" href=\"https://github.com/jupyter/repo2docker/issues/570\">https://github.com/jupyter/repo2docker/issues/570</a></td>\n",
       "            </tr>\n",
       "            <tr>\n",
       "                                <td id=\"T_68548b20_3400_11e9_a2b1_54ee75e0f62drow7_col0\" class=\"data row7 col0\" >jhamman</td>\n",
       "                        <td id=\"T_68548b20_3400_11e9_a2b1_54ee75e0f62drow7_col1\" class=\"data row7 col1\" >CONTRIBUTOR</td>\n",
       "                        <td id=\"T_68548b20_3400_11e9_a2b1_54ee75e0f62drow7_col2\" class=\"data row7 col2\" >4</td>\n",
       "                        <td id=\"T_68548b20_3400_11e9_a2b1_54ee75e0f62drow7_col3\" class=\"data row7 col3\" >True</td>\n",
       "                        <td id=\"T_68548b20_3400_11e9_a2b1_54ee75e0f62drow7_col4\" class=\"data row7 col4\" ><a target=\"_blank\" href=\"https://github.com/jupyter/repo2docker/issues/563\">https://github.com/jupyter/repo2docker/issues/563</a></td>\n",
       "            </tr>\n",
       "    </tbody></table>"
      ],
      "text/plain": [
       "<pandas.io.formats.style.Styler at 0x7f6a8f528240>"
      ]
     },
     "execution_count": 10,
     "metadata": {},
     "output_type": "execute_result"
    }
   ],
   "source": [
    "opened_issues[['user', 'author_association', 'comments', 'closed', 'html_url']]\\\n",
    "    .sort_values(['closed', 'comments']).style.applymap(highlight_rows).format({'html_url': make_clickable}).hide_index()"
   ]
  },
  {
   "cell_type": "markdown",
   "metadata": {
    "papermill": {
     "duration": 0.024376,
     "end_time": "2019-02-19T04:39:56.716095",
     "exception": false,
     "start_time": "2019-02-19T04:39:56.691719",
     "status": "completed"
    },
    "tags": []
   },
   "source": [
    "## Closed issues\n"
   ]
  },
  {
   "cell_type": "code",
   "execution_count": 11,
   "metadata": {
    "jupyter": {
     "source_hidden": true
    },
    "papermill": {
     "duration": 0.032858,
     "end_time": "2019-02-19T04:39:56.771208",
     "exception": false,
     "start_time": "2019-02-19T04:39:56.738350",
     "status": "completed"
    },
    "tags": []
   },
   "outputs": [],
   "source": [
    "closed = issues.query('closed_at > @date')\n",
    "closed_issues = closed[closed['pull_request'].isna()]"
   ]
  },
  {
   "cell_type": "code",
   "execution_count": 12,
   "metadata": {
    "jupyter": {
     "source_hidden": true
    },
    "papermill": {
     "duration": 0.046473,
     "end_time": "2019-02-19T04:39:56.840998",
     "exception": false,
     "start_time": "2019-02-19T04:39:56.794525",
     "status": "completed"
    },
    "tags": []
   },
   "outputs": [
    {
     "data": {
      "text/html": [
       "<style  type=\"text/css\" >\n",
       "    #T_6870518e_3400_11e9_a2b1_54ee75e0f62drow1_col1 {\n",
       "            background-color:  #f7b7b7;\n",
       "        }</style><table id=\"T_6870518e_3400_11e9_a2b1_54ee75e0f62d\" ><thead>    <tr>        <th class=\"col_heading level0 col0\" >user</th>        <th class=\"col_heading level0 col1\" >author_association</th>        <th class=\"col_heading level0 col2\" >comments</th>        <th class=\"col_heading level0 col3\" >html_url</th>    </tr></thead><tbody>\n",
       "                <tr>\n",
       "                                <td id=\"T_6870518e_3400_11e9_a2b1_54ee75e0f62drow0_col0\" class=\"data row0 col0\" >jhamman</td>\n",
       "                        <td id=\"T_6870518e_3400_11e9_a2b1_54ee75e0f62drow0_col1\" class=\"data row0 col1\" >CONTRIBUTOR</td>\n",
       "                        <td id=\"T_6870518e_3400_11e9_a2b1_54ee75e0f62drow0_col2\" class=\"data row0 col2\" >4</td>\n",
       "                        <td id=\"T_6870518e_3400_11e9_a2b1_54ee75e0f62drow0_col3\" class=\"data row0 col3\" ><a target=\"_blank\" href=\"https://github.com/jupyter/repo2docker/issues/563\">https://github.com/jupyter/repo2docker/issues/563</a></td>\n",
       "            </tr>\n",
       "            <tr>\n",
       "                                <td id=\"T_6870518e_3400_11e9_a2b1_54ee75e0f62drow1_col0\" class=\"data row1 col0\" >slejdops</td>\n",
       "                        <td id=\"T_6870518e_3400_11e9_a2b1_54ee75e0f62drow1_col1\" class=\"data row1 col1\" >NONE</td>\n",
       "                        <td id=\"T_6870518e_3400_11e9_a2b1_54ee75e0f62drow1_col2\" class=\"data row1 col2\" >5</td>\n",
       "                        <td id=\"T_6870518e_3400_11e9_a2b1_54ee75e0f62drow1_col3\" class=\"data row1 col3\" ><a target=\"_blank\" href=\"https://github.com/jupyter/repo2docker/issues/549\">https://github.com/jupyter/repo2docker/issues/549</a></td>\n",
       "            </tr>\n",
       "            <tr>\n",
       "                                <td id=\"T_6870518e_3400_11e9_a2b1_54ee75e0f62drow2_col0\" class=\"data row2 col0\" >betatim</td>\n",
       "                        <td id=\"T_6870518e_3400_11e9_a2b1_54ee75e0f62drow2_col1\" class=\"data row2 col1\" >COLLABORATOR</td>\n",
       "                        <td id=\"T_6870518e_3400_11e9_a2b1_54ee75e0f62drow2_col2\" class=\"data row2 col2\" >6</td>\n",
       "                        <td id=\"T_6870518e_3400_11e9_a2b1_54ee75e0f62drow2_col3\" class=\"data row2 col3\" ><a target=\"_blank\" href=\"https://github.com/jupyter/repo2docker/issues/307\">https://github.com/jupyter/repo2docker/issues/307</a></td>\n",
       "            </tr>\n",
       "    </tbody></table>"
      ],
      "text/plain": [
       "<pandas.io.formats.style.Styler at 0x7f6a8ae53e48>"
      ]
     },
     "execution_count": 12,
     "metadata": {},
     "output_type": "execute_result"
    }
   ],
   "source": [
    "closed_issues[['user', 'author_association', 'comments', 'html_url']]\\\n",
    "    .sort_values(['comments']).style.applymap(highlight_rows).format({'html_url': make_clickable}).hide_index()"
   ]
  },
  {
   "cell_type": "code",
   "execution_count": 13,
   "metadata": {
    "jupyter": {
     "source_hidden": true
    },
    "papermill": {
     "duration": 0.031727,
     "end_time": "2019-02-19T04:39:56.904801",
     "exception": false,
     "start_time": "2019-02-19T04:39:56.873074",
     "status": "completed"
    },
    "tags": []
   },
   "outputs": [
    {
     "data": {
      "text/html": [
       "<h2 style=\"padding-left: 1em;\">Closed issues: 3</h2>"
      ],
      "text/plain": [
       "<IPython.core.display.HTML object>"
      ]
     },
     "metadata": {},
     "output_type": "display_data"
    }
   ],
   "source": [
    "print_html('Closed issues: {}'.format(len(closed_issues)))"
   ]
  },
  {
   "cell_type": "markdown",
   "metadata": {
    "papermill": {
     "duration": 0.02688,
     "end_time": "2019-02-19T04:39:56.955513",
     "exception": false,
     "start_time": "2019-02-19T04:39:56.928633",
     "status": "completed"
    },
    "tags": []
   },
   "source": [
    "## Opened PRs\n",
    "\n",
    "without responses in red"
   ]
  },
  {
   "cell_type": "code",
   "execution_count": 14,
   "metadata": {
    "jupyter": {
     "source_hidden": true
    },
    "papermill": {
     "duration": 0.070483,
     "end_time": "2019-02-19T04:39:57.051609",
     "exception": false,
     "start_time": "2019-02-19T04:39:56.981126",
     "status": "completed"
    },
    "tags": []
   },
   "outputs": [
    {
     "name": "stderr",
     "output_type": "stream",
     "text": [
      "/home/choldgraf/anaconda/envs/dev/lib/python3.6/site-packages/ipykernel_launcher.py:2: SettingWithCopyWarning: \n",
      "A value is trying to be set on a copy of a slice from a DataFrame.\n",
      "Try using .loc[row_indexer,col_indexer] = value instead\n",
      "\n",
      "See the caveats in the documentation: http://pandas.pydata.org/pandas-docs/stable/indexing.html#indexing-view-versus-copy\n",
      "  \n"
     ]
    }
   ],
   "source": [
    "opened_prs = opened[~opened['pull_request'].isna()]\n",
    "opened_prs['closed'] = ~pd.isnull(opened_prs['closed_at'])\n",
    "\n",
    "closed_prs = closed[~closed['pull_request'].isna()]"
   ]
  },
  {
   "cell_type": "code",
   "execution_count": 15,
   "metadata": {
    "jupyter": {
     "source_hidden": true
    },
    "papermill": {
     "duration": 0.041331,
     "end_time": "2019-02-19T04:39:57.126025",
     "exception": false,
     "start_time": "2019-02-19T04:39:57.084694",
     "status": "completed"
    },
    "tags": []
   },
   "outputs": [
    {
     "data": {
      "text/html": [
       "<h2 style=\"padding-left: 1em;\">Opened PRs: 12</h2>"
      ],
      "text/plain": [
       "<IPython.core.display.HTML object>"
      ]
     },
     "metadata": {},
     "output_type": "display_data"
    }
   ],
   "source": [
    "print_html('Opened PRs: {}'.format(len(opened_prs)))"
   ]
  },
  {
   "cell_type": "code",
   "execution_count": 16,
   "metadata": {
    "jupyter": {
     "source_hidden": true
    },
    "papermill": {
     "duration": 0.069079,
     "end_time": "2019-02-19T04:39:57.225037",
     "exception": false,
     "start_time": "2019-02-19T04:39:57.155958",
     "status": "completed"
    },
    "tags": []
   },
   "outputs": [
    {
     "data": {
      "text/html": [
       "<style  type=\"text/css\" >\n",
       "    #T_68aab978_3400_11e9_a2b1_54ee75e0f62drow0_col2 {\n",
       "            background-color:  #f7b7b7;\n",
       "        }    #T_68aab978_3400_11e9_a2b1_54ee75e0f62drow0_col3 {\n",
       "            background-color:  #f7b7b7;\n",
       "        }    #T_68aab978_3400_11e9_a2b1_54ee75e0f62drow1_col1 {\n",
       "            background-color:  red;\n",
       "        }    #T_68aab978_3400_11e9_a2b1_54ee75e0f62drow1_col3 {\n",
       "            background-color:  #f7b7b7;\n",
       "        }    #T_68aab978_3400_11e9_a2b1_54ee75e0f62drow2_col3 {\n",
       "            background-color:  #f7b7b7;\n",
       "        }    #T_68aab978_3400_11e9_a2b1_54ee75e0f62drow3_col2 {\n",
       "            background-color:  #f7b7b7;\n",
       "        }    #T_68aab978_3400_11e9_a2b1_54ee75e0f62drow4_col2 {\n",
       "            background-color:  #f7b7b7;\n",
       "        }</style><table id=\"T_68aab978_3400_11e9_a2b1_54ee75e0f62d\" ><thead>    <tr>        <th class=\"col_heading level0 col0\" >user</th>        <th class=\"col_heading level0 col1\" >author_association</th>        <th class=\"col_heading level0 col2\" >comments</th>        <th class=\"col_heading level0 col3\" >closed</th>        <th class=\"col_heading level0 col4\" >html_url</th>    </tr></thead><tbody>\n",
       "                <tr>\n",
       "                                <td id=\"T_68aab978_3400_11e9_a2b1_54ee75e0f62drow0_col0\" class=\"data row0 col0\" >GladysNalvarte</td>\n",
       "                        <td id=\"T_68aab978_3400_11e9_a2b1_54ee75e0f62drow0_col1\" class=\"data row0 col1\" >CONTRIBUTOR</td>\n",
       "                        <td id=\"T_68aab978_3400_11e9_a2b1_54ee75e0f62drow0_col2\" class=\"data row0 col2\" >0</td>\n",
       "                        <td id=\"T_68aab978_3400_11e9_a2b1_54ee75e0f62drow0_col3\" class=\"data row0 col3\" >False</td>\n",
       "                        <td id=\"T_68aab978_3400_11e9_a2b1_54ee75e0f62drow0_col4\" class=\"data row0 col4\" ><a target=\"_blank\" href=\"https://github.com/jupyter/repo2docker/pull/579\">https://github.com/jupyter/repo2docker/pull/579</a></td>\n",
       "            </tr>\n",
       "            <tr>\n",
       "                                <td id=\"T_68aab978_3400_11e9_a2b1_54ee75e0f62drow1_col0\" class=\"data row1 col0\" >jamesmyatt</td>\n",
       "                        <td id=\"T_68aab978_3400_11e9_a2b1_54ee75e0f62drow1_col1\" class=\"data row1 col1\" >FIRST_TIME_CONTRIBUTOR</td>\n",
       "                        <td id=\"T_68aab978_3400_11e9_a2b1_54ee75e0f62drow1_col2\" class=\"data row1 col2\" >3</td>\n",
       "                        <td id=\"T_68aab978_3400_11e9_a2b1_54ee75e0f62drow1_col3\" class=\"data row1 col3\" >False</td>\n",
       "                        <td id=\"T_68aab978_3400_11e9_a2b1_54ee75e0f62drow1_col4\" class=\"data row1 col4\" ><a target=\"_blank\" href=\"https://github.com/jupyter/repo2docker/pull/567\">https://github.com/jupyter/repo2docker/pull/567</a></td>\n",
       "            </tr>\n",
       "            <tr>\n",
       "                                <td id=\"T_68aab978_3400_11e9_a2b1_54ee75e0f62drow2_col0\" class=\"data row2 col0\" >betatim</td>\n",
       "                        <td id=\"T_68aab978_3400_11e9_a2b1_54ee75e0f62drow2_col1\" class=\"data row2 col1\" >COLLABORATOR</td>\n",
       "                        <td id=\"T_68aab978_3400_11e9_a2b1_54ee75e0f62drow2_col2\" class=\"data row2 col2\" >4</td>\n",
       "                        <td id=\"T_68aab978_3400_11e9_a2b1_54ee75e0f62drow2_col3\" class=\"data row2 col3\" >False</td>\n",
       "                        <td id=\"T_68aab978_3400_11e9_a2b1_54ee75e0f62drow2_col4\" class=\"data row2 col4\" ><a target=\"_blank\" href=\"https://github.com/jupyter/repo2docker/pull/577\">https://github.com/jupyter/repo2docker/pull/577</a></td>\n",
       "            </tr>\n",
       "            <tr>\n",
       "                                <td id=\"T_68aab978_3400_11e9_a2b1_54ee75e0f62drow3_col0\" class=\"data row3 col0\" >minrk</td>\n",
       "                        <td id=\"T_68aab978_3400_11e9_a2b1_54ee75e0f62drow3_col1\" class=\"data row3 col1\" >MEMBER</td>\n",
       "                        <td id=\"T_68aab978_3400_11e9_a2b1_54ee75e0f62drow3_col2\" class=\"data row3 col2\" >0</td>\n",
       "                        <td id=\"T_68aab978_3400_11e9_a2b1_54ee75e0f62drow3_col3\" class=\"data row3 col3\" >True</td>\n",
       "                        <td id=\"T_68aab978_3400_11e9_a2b1_54ee75e0f62drow3_col4\" class=\"data row3 col4\" ><a target=\"_blank\" href=\"https://github.com/jupyter/repo2docker/pull/572\">https://github.com/jupyter/repo2docker/pull/572</a></td>\n",
       "            </tr>\n",
       "            <tr>\n",
       "                                <td id=\"T_68aab978_3400_11e9_a2b1_54ee75e0f62drow4_col0\" class=\"data row4 col0\" >minrk</td>\n",
       "                        <td id=\"T_68aab978_3400_11e9_a2b1_54ee75e0f62drow4_col1\" class=\"data row4 col1\" >MEMBER</td>\n",
       "                        <td id=\"T_68aab978_3400_11e9_a2b1_54ee75e0f62drow4_col2\" class=\"data row4 col2\" >0</td>\n",
       "                        <td id=\"T_68aab978_3400_11e9_a2b1_54ee75e0f62drow4_col3\" class=\"data row4 col3\" >True</td>\n",
       "                        <td id=\"T_68aab978_3400_11e9_a2b1_54ee75e0f62drow4_col4\" class=\"data row4 col4\" ><a target=\"_blank\" href=\"https://github.com/jupyter/repo2docker/pull/562\">https://github.com/jupyter/repo2docker/pull/562</a></td>\n",
       "            </tr>\n",
       "            <tr>\n",
       "                                <td id=\"T_68aab978_3400_11e9_a2b1_54ee75e0f62drow5_col0\" class=\"data row5 col0\" >lheagy</td>\n",
       "                        <td id=\"T_68aab978_3400_11e9_a2b1_54ee75e0f62drow5_col1\" class=\"data row5 col1\" >CONTRIBUTOR</td>\n",
       "                        <td id=\"T_68aab978_3400_11e9_a2b1_54ee75e0f62drow5_col2\" class=\"data row5 col2\" >1</td>\n",
       "                        <td id=\"T_68aab978_3400_11e9_a2b1_54ee75e0f62drow5_col3\" class=\"data row5 col3\" >True</td>\n",
       "                        <td id=\"T_68aab978_3400_11e9_a2b1_54ee75e0f62drow5_col4\" class=\"data row5 col4\" ><a target=\"_blank\" href=\"https://github.com/jupyter/repo2docker/pull/569\">https://github.com/jupyter/repo2docker/pull/569</a></td>\n",
       "            </tr>\n",
       "            <tr>\n",
       "                                <td id=\"T_68aab978_3400_11e9_a2b1_54ee75e0f62drow6_col0\" class=\"data row6 col0\" >yuvipanda</td>\n",
       "                        <td id=\"T_68aab978_3400_11e9_a2b1_54ee75e0f62drow6_col1\" class=\"data row6 col1\" >MEMBER</td>\n",
       "                        <td id=\"T_68aab978_3400_11e9_a2b1_54ee75e0f62drow6_col2\" class=\"data row6 col2\" >1</td>\n",
       "                        <td id=\"T_68aab978_3400_11e9_a2b1_54ee75e0f62drow6_col3\" class=\"data row6 col3\" >True</td>\n",
       "                        <td id=\"T_68aab978_3400_11e9_a2b1_54ee75e0f62drow6_col4\" class=\"data row6 col4\" ><a target=\"_blank\" href=\"https://github.com/jupyter/repo2docker/pull/575\">https://github.com/jupyter/repo2docker/pull/575</a></td>\n",
       "            </tr>\n",
       "            <tr>\n",
       "                                <td id=\"T_68aab978_3400_11e9_a2b1_54ee75e0f62drow7_col0\" class=\"data row7 col0\" >mrakitin</td>\n",
       "                        <td id=\"T_68aab978_3400_11e9_a2b1_54ee75e0f62drow7_col1\" class=\"data row7 col1\" >CONTRIBUTOR</td>\n",
       "                        <td id=\"T_68aab978_3400_11e9_a2b1_54ee75e0f62drow7_col2\" class=\"data row7 col2\" >2</td>\n",
       "                        <td id=\"T_68aab978_3400_11e9_a2b1_54ee75e0f62drow7_col3\" class=\"data row7 col3\" >True</td>\n",
       "                        <td id=\"T_68aab978_3400_11e9_a2b1_54ee75e0f62drow7_col4\" class=\"data row7 col4\" ><a target=\"_blank\" href=\"https://github.com/jupyter/repo2docker/pull/574\">https://github.com/jupyter/repo2docker/pull/574</a></td>\n",
       "            </tr>\n",
       "            <tr>\n",
       "                                <td id=\"T_68aab978_3400_11e9_a2b1_54ee75e0f62drow8_col0\" class=\"data row8 col0\" >GladysNalvarte</td>\n",
       "                        <td id=\"T_68aab978_3400_11e9_a2b1_54ee75e0f62drow8_col1\" class=\"data row8 col1\" >CONTRIBUTOR</td>\n",
       "                        <td id=\"T_68aab978_3400_11e9_a2b1_54ee75e0f62drow8_col2\" class=\"data row8 col2\" >3</td>\n",
       "                        <td id=\"T_68aab978_3400_11e9_a2b1_54ee75e0f62drow8_col3\" class=\"data row8 col3\" >True</td>\n",
       "                        <td id=\"T_68aab978_3400_11e9_a2b1_54ee75e0f62drow8_col4\" class=\"data row8 col4\" ><a target=\"_blank\" href=\"https://github.com/jupyter/repo2docker/pull/573\">https://github.com/jupyter/repo2docker/pull/573</a></td>\n",
       "            </tr>\n",
       "            <tr>\n",
       "                                <td id=\"T_68aab978_3400_11e9_a2b1_54ee75e0f62drow9_col0\" class=\"data row9 col0\" >yuvipanda</td>\n",
       "                        <td id=\"T_68aab978_3400_11e9_a2b1_54ee75e0f62drow9_col1\" class=\"data row9 col1\" >MEMBER</td>\n",
       "                        <td id=\"T_68aab978_3400_11e9_a2b1_54ee75e0f62drow9_col2\" class=\"data row9 col2\" >4</td>\n",
       "                        <td id=\"T_68aab978_3400_11e9_a2b1_54ee75e0f62drow9_col3\" class=\"data row9 col3\" >True</td>\n",
       "                        <td id=\"T_68aab978_3400_11e9_a2b1_54ee75e0f62drow9_col4\" class=\"data row9 col4\" ><a target=\"_blank\" href=\"https://github.com/jupyter/repo2docker/pull/571\">https://github.com/jupyter/repo2docker/pull/571</a></td>\n",
       "            </tr>\n",
       "            <tr>\n",
       "                                <td id=\"T_68aab978_3400_11e9_a2b1_54ee75e0f62drow10_col0\" class=\"data row10 col0\" >choldgraf</td>\n",
       "                        <td id=\"T_68aab978_3400_11e9_a2b1_54ee75e0f62drow10_col1\" class=\"data row10 col1\" >MEMBER</td>\n",
       "                        <td id=\"T_68aab978_3400_11e9_a2b1_54ee75e0f62drow10_col2\" class=\"data row10 col2\" >5</td>\n",
       "                        <td id=\"T_68aab978_3400_11e9_a2b1_54ee75e0f62drow10_col3\" class=\"data row10 col3\" >True</td>\n",
       "                        <td id=\"T_68aab978_3400_11e9_a2b1_54ee75e0f62drow10_col4\" class=\"data row10 col4\" ><a target=\"_blank\" href=\"https://github.com/jupyter/repo2docker/pull/568\">https://github.com/jupyter/repo2docker/pull/568</a></td>\n",
       "            </tr>\n",
       "            <tr>\n",
       "                                <td id=\"T_68aab978_3400_11e9_a2b1_54ee75e0f62drow11_col0\" class=\"data row11 col0\" >minrk</td>\n",
       "                        <td id=\"T_68aab978_3400_11e9_a2b1_54ee75e0f62drow11_col1\" class=\"data row11 col1\" >MEMBER</td>\n",
       "                        <td id=\"T_68aab978_3400_11e9_a2b1_54ee75e0f62drow11_col2\" class=\"data row11 col2\" >6</td>\n",
       "                        <td id=\"T_68aab978_3400_11e9_a2b1_54ee75e0f62drow11_col3\" class=\"data row11 col3\" >True</td>\n",
       "                        <td id=\"T_68aab978_3400_11e9_a2b1_54ee75e0f62drow11_col4\" class=\"data row11 col4\" ><a target=\"_blank\" href=\"https://github.com/jupyter/repo2docker/pull/576\">https://github.com/jupyter/repo2docker/pull/576</a></td>\n",
       "            </tr>\n",
       "    </tbody></table>"
      ],
      "text/plain": [
       "<pandas.io.formats.style.Styler at 0x7f6a8ae535c0>"
      ]
     },
     "execution_count": 16,
     "metadata": {},
     "output_type": "execute_result"
    }
   ],
   "source": [
    "opened_prs[['user', 'author_association', 'comments', 'closed', 'html_url']]\\\n",
    "    .sort_values(['closed', 'comments']).style.applymap(highlight_rows).format({'html_url': make_clickable}).hide_index()"
   ]
  },
  {
   "cell_type": "code",
   "execution_count": 17,
   "metadata": {
    "jupyter": {
     "source_hidden": true
    },
    "papermill": {
     "duration": 0.062622,
     "end_time": "2019-02-19T04:39:57.312497",
     "exception": false,
     "start_time": "2019-02-19T04:39:57.249875",
     "status": "completed"
    },
    "tags": []
   },
   "outputs": [
    {
     "data": {
      "text/html": [
       "<h2 style=\"padding-left: 1em;\">Closed PRs: 10</h2>"
      ],
      "text/plain": [
       "<IPython.core.display.HTML object>"
      ]
     },
     "metadata": {},
     "output_type": "display_data"
    }
   ],
   "source": [
    "print_html('Closed PRs: {}'.format(len(closed_prs)))"
   ]
  },
  {
   "cell_type": "code",
   "execution_count": 18,
   "metadata": {
    "jupyter": {
     "source_hidden": true
    },
    "papermill": {
     "duration": 0.058505,
     "end_time": "2019-02-19T04:39:57.408073",
     "exception": false,
     "start_time": "2019-02-19T04:39:57.349568",
     "status": "completed"
    },
    "tags": []
   },
   "outputs": [
    {
     "data": {
      "text/html": [
       "<style  type=\"text/css\" >\n",
       "    #T_68c6bce0_3400_11e9_a2b1_54ee75e0f62drow0_col2 {\n",
       "            background-color:  #f7b7b7;\n",
       "        }    #T_68c6bce0_3400_11e9_a2b1_54ee75e0f62drow1_col2 {\n",
       "            background-color:  #f7b7b7;\n",
       "        }    #T_68c6bce0_3400_11e9_a2b1_54ee75e0f62drow2_col2 {\n",
       "            background-color:  #f7b7b7;\n",
       "        }</style><table id=\"T_68c6bce0_3400_11e9_a2b1_54ee75e0f62d\" ><thead>    <tr>        <th class=\"col_heading level0 col0\" >user</th>        <th class=\"col_heading level0 col1\" >author_association</th>        <th class=\"col_heading level0 col2\" >comments</th>        <th class=\"col_heading level0 col3\" >html_url</th>    </tr></thead><tbody>\n",
       "                <tr>\n",
       "                                <td id=\"T_68c6bce0_3400_11e9_a2b1_54ee75e0f62drow0_col0\" class=\"data row0 col0\" >minrk</td>\n",
       "                        <td id=\"T_68c6bce0_3400_11e9_a2b1_54ee75e0f62drow0_col1\" class=\"data row0 col1\" >MEMBER</td>\n",
       "                        <td id=\"T_68c6bce0_3400_11e9_a2b1_54ee75e0f62drow0_col2\" class=\"data row0 col2\" >0</td>\n",
       "                        <td id=\"T_68c6bce0_3400_11e9_a2b1_54ee75e0f62drow0_col3\" class=\"data row0 col3\" ><a target=\"_blank\" href=\"https://github.com/jupyter/repo2docker/pull/572\">https://github.com/jupyter/repo2docker/pull/572</a></td>\n",
       "            </tr>\n",
       "            <tr>\n",
       "                                <td id=\"T_68c6bce0_3400_11e9_a2b1_54ee75e0f62drow1_col0\" class=\"data row1 col0\" >minrk</td>\n",
       "                        <td id=\"T_68c6bce0_3400_11e9_a2b1_54ee75e0f62drow1_col1\" class=\"data row1 col1\" >MEMBER</td>\n",
       "                        <td id=\"T_68c6bce0_3400_11e9_a2b1_54ee75e0f62drow1_col2\" class=\"data row1 col2\" >0</td>\n",
       "                        <td id=\"T_68c6bce0_3400_11e9_a2b1_54ee75e0f62drow1_col3\" class=\"data row1 col3\" ><a target=\"_blank\" href=\"https://github.com/jupyter/repo2docker/pull/562\">https://github.com/jupyter/repo2docker/pull/562</a></td>\n",
       "            </tr>\n",
       "            <tr>\n",
       "                                <td id=\"T_68c6bce0_3400_11e9_a2b1_54ee75e0f62drow2_col0\" class=\"data row2 col0\" >willingc</td>\n",
       "                        <td id=\"T_68c6bce0_3400_11e9_a2b1_54ee75e0f62drow2_col1\" class=\"data row2 col1\" >MEMBER</td>\n",
       "                        <td id=\"T_68c6bce0_3400_11e9_a2b1_54ee75e0f62drow2_col2\" class=\"data row2 col2\" >0</td>\n",
       "                        <td id=\"T_68c6bce0_3400_11e9_a2b1_54ee75e0f62drow2_col3\" class=\"data row2 col3\" ><a target=\"_blank\" href=\"https://github.com/jupyter/repo2docker/pull/278\">https://github.com/jupyter/repo2docker/pull/278</a></td>\n",
       "            </tr>\n",
       "            <tr>\n",
       "                                <td id=\"T_68c6bce0_3400_11e9_a2b1_54ee75e0f62drow3_col0\" class=\"data row3 col0\" >lheagy</td>\n",
       "                        <td id=\"T_68c6bce0_3400_11e9_a2b1_54ee75e0f62drow3_col1\" class=\"data row3 col1\" >CONTRIBUTOR</td>\n",
       "                        <td id=\"T_68c6bce0_3400_11e9_a2b1_54ee75e0f62drow3_col2\" class=\"data row3 col2\" >1</td>\n",
       "                        <td id=\"T_68c6bce0_3400_11e9_a2b1_54ee75e0f62drow3_col3\" class=\"data row3 col3\" ><a target=\"_blank\" href=\"https://github.com/jupyter/repo2docker/pull/569\">https://github.com/jupyter/repo2docker/pull/569</a></td>\n",
       "            </tr>\n",
       "            <tr>\n",
       "                                <td id=\"T_68c6bce0_3400_11e9_a2b1_54ee75e0f62drow4_col0\" class=\"data row4 col0\" >yuvipanda</td>\n",
       "                        <td id=\"T_68c6bce0_3400_11e9_a2b1_54ee75e0f62drow4_col1\" class=\"data row4 col1\" >MEMBER</td>\n",
       "                        <td id=\"T_68c6bce0_3400_11e9_a2b1_54ee75e0f62drow4_col2\" class=\"data row4 col2\" >1</td>\n",
       "                        <td id=\"T_68c6bce0_3400_11e9_a2b1_54ee75e0f62drow4_col3\" class=\"data row4 col3\" ><a target=\"_blank\" href=\"https://github.com/jupyter/repo2docker/pull/575\">https://github.com/jupyter/repo2docker/pull/575</a></td>\n",
       "            </tr>\n",
       "            <tr>\n",
       "                                <td id=\"T_68c6bce0_3400_11e9_a2b1_54ee75e0f62drow5_col0\" class=\"data row5 col0\" >mrakitin</td>\n",
       "                        <td id=\"T_68c6bce0_3400_11e9_a2b1_54ee75e0f62drow5_col1\" class=\"data row5 col1\" >CONTRIBUTOR</td>\n",
       "                        <td id=\"T_68c6bce0_3400_11e9_a2b1_54ee75e0f62drow5_col2\" class=\"data row5 col2\" >2</td>\n",
       "                        <td id=\"T_68c6bce0_3400_11e9_a2b1_54ee75e0f62drow5_col3\" class=\"data row5 col3\" ><a target=\"_blank\" href=\"https://github.com/jupyter/repo2docker/pull/574\">https://github.com/jupyter/repo2docker/pull/574</a></td>\n",
       "            </tr>\n",
       "            <tr>\n",
       "                                <td id=\"T_68c6bce0_3400_11e9_a2b1_54ee75e0f62drow6_col0\" class=\"data row6 col0\" >GladysNalvarte</td>\n",
       "                        <td id=\"T_68c6bce0_3400_11e9_a2b1_54ee75e0f62drow6_col1\" class=\"data row6 col1\" >CONTRIBUTOR</td>\n",
       "                        <td id=\"T_68c6bce0_3400_11e9_a2b1_54ee75e0f62drow6_col2\" class=\"data row6 col2\" >3</td>\n",
       "                        <td id=\"T_68c6bce0_3400_11e9_a2b1_54ee75e0f62drow6_col3\" class=\"data row6 col3\" ><a target=\"_blank\" href=\"https://github.com/jupyter/repo2docker/pull/573\">https://github.com/jupyter/repo2docker/pull/573</a></td>\n",
       "            </tr>\n",
       "            <tr>\n",
       "                                <td id=\"T_68c6bce0_3400_11e9_a2b1_54ee75e0f62drow7_col0\" class=\"data row7 col0\" >yuvipanda</td>\n",
       "                        <td id=\"T_68c6bce0_3400_11e9_a2b1_54ee75e0f62drow7_col1\" class=\"data row7 col1\" >MEMBER</td>\n",
       "                        <td id=\"T_68c6bce0_3400_11e9_a2b1_54ee75e0f62drow7_col2\" class=\"data row7 col2\" >4</td>\n",
       "                        <td id=\"T_68c6bce0_3400_11e9_a2b1_54ee75e0f62drow7_col3\" class=\"data row7 col3\" ><a target=\"_blank\" href=\"https://github.com/jupyter/repo2docker/pull/571\">https://github.com/jupyter/repo2docker/pull/571</a></td>\n",
       "            </tr>\n",
       "            <tr>\n",
       "                                <td id=\"T_68c6bce0_3400_11e9_a2b1_54ee75e0f62drow8_col0\" class=\"data row8 col0\" >choldgraf</td>\n",
       "                        <td id=\"T_68c6bce0_3400_11e9_a2b1_54ee75e0f62drow8_col1\" class=\"data row8 col1\" >MEMBER</td>\n",
       "                        <td id=\"T_68c6bce0_3400_11e9_a2b1_54ee75e0f62drow8_col2\" class=\"data row8 col2\" >5</td>\n",
       "                        <td id=\"T_68c6bce0_3400_11e9_a2b1_54ee75e0f62drow8_col3\" class=\"data row8 col3\" ><a target=\"_blank\" href=\"https://github.com/jupyter/repo2docker/pull/568\">https://github.com/jupyter/repo2docker/pull/568</a></td>\n",
       "            </tr>\n",
       "            <tr>\n",
       "                                <td id=\"T_68c6bce0_3400_11e9_a2b1_54ee75e0f62drow9_col0\" class=\"data row9 col0\" >minrk</td>\n",
       "                        <td id=\"T_68c6bce0_3400_11e9_a2b1_54ee75e0f62drow9_col1\" class=\"data row9 col1\" >MEMBER</td>\n",
       "                        <td id=\"T_68c6bce0_3400_11e9_a2b1_54ee75e0f62drow9_col2\" class=\"data row9 col2\" >6</td>\n",
       "                        <td id=\"T_68c6bce0_3400_11e9_a2b1_54ee75e0f62drow9_col3\" class=\"data row9 col3\" ><a target=\"_blank\" href=\"https://github.com/jupyter/repo2docker/pull/576\">https://github.com/jupyter/repo2docker/pull/576</a></td>\n",
       "            </tr>\n",
       "    </tbody></table>"
      ],
      "text/plain": [
       "<pandas.io.formats.style.Styler at 0x7f6a8ae53c50>"
      ]
     },
     "execution_count": 18,
     "metadata": {},
     "output_type": "execute_result"
    }
   ],
   "source": [
    "closed_prs[['user', 'author_association', 'comments', 'html_url']]\\\n",
    "    .sort_values(['comments']).style.applymap(highlight_rows).format({'html_url': make_clickable}).hide_index()"
   ]
  },
  {
   "cell_type": "markdown",
   "metadata": {
    "papermill": {
     "duration": 0.035641,
     "end_time": "2019-02-19T04:39:57.475873",
     "exception": false,
     "start_time": "2019-02-19T04:39:57.440232",
     "status": "completed"
    },
    "tags": []
   },
   "source": [
    "# State of repo\n",
    "\n",
    "## Stale issues"
   ]
  },
  {
   "cell_type": "code",
   "execution_count": 19,
   "metadata": {
    "jupyter": {
     "source_hidden": true
    },
    "papermill": {
     "duration": 0.03995,
     "end_time": "2019-02-19T04:39:57.544965",
     "exception": false,
     "start_time": "2019-02-19T04:39:57.505015",
     "status": "completed"
    },
    "tags": []
   },
   "outputs": [],
   "source": [
    "stale_issues = issues.query('updated_at < @date_stale')\n",
    "stale_issues = stale_issues[stale_issues['closed_at'].isnull()]"
   ]
  },
  {
   "cell_type": "code",
   "execution_count": 20,
   "metadata": {
    "jupyter": {
     "source_hidden": true
    },
    "papermill": {
     "duration": 0.204167,
     "end_time": "2019-02-19T04:39:57.776888",
     "exception": false,
     "start_time": "2019-02-19T04:39:57.572721",
     "status": "completed"
    },
    "tags": []
   },
   "outputs": [
    {
     "data": {
      "text/html": [
       "<style  type=\"text/css\" >\n",
       "    #T_68fc83de_3400_11e9_a2b1_54ee75e0f62drow0_col2 {\n",
       "            background-color:  #f7b7b7;\n",
       "        }    #T_68fc83de_3400_11e9_a2b1_54ee75e0f62drow1_col2 {\n",
       "            background-color:  #f7b7b7;\n",
       "        }    #T_68fc83de_3400_11e9_a2b1_54ee75e0f62drow2_col2 {\n",
       "            background-color:  #f7b7b7;\n",
       "        }    #T_68fc83de_3400_11e9_a2b1_54ee75e0f62drow3_col2 {\n",
       "            background-color:  #f7b7b7;\n",
       "        }    #T_68fc83de_3400_11e9_a2b1_54ee75e0f62drow4_col2 {\n",
       "            background-color:  #f7b7b7;\n",
       "        }    #T_68fc83de_3400_11e9_a2b1_54ee75e0f62drow5_col2 {\n",
       "            background-color:  #f7b7b7;\n",
       "        }    #T_68fc83de_3400_11e9_a2b1_54ee75e0f62drow6_col2 {\n",
       "            background-color:  #f7b7b7;\n",
       "        }    #T_68fc83de_3400_11e9_a2b1_54ee75e0f62drow7_col2 {\n",
       "            background-color:  #f7b7b7;\n",
       "        }    #T_68fc83de_3400_11e9_a2b1_54ee75e0f62drow9_col1 {\n",
       "            background-color:  #f7b7b7;\n",
       "        }    #T_68fc83de_3400_11e9_a2b1_54ee75e0f62drow15_col1 {\n",
       "            background-color:  #f7b7b7;\n",
       "        }    #T_68fc83de_3400_11e9_a2b1_54ee75e0f62drow18_col1 {\n",
       "            background-color:  #f7b7b7;\n",
       "        }    #T_68fc83de_3400_11e9_a2b1_54ee75e0f62drow21_col1 {\n",
       "            background-color:  #f7b7b7;\n",
       "        }    #T_68fc83de_3400_11e9_a2b1_54ee75e0f62drow26_col1 {\n",
       "            background-color:  #f7b7b7;\n",
       "        }    #T_68fc83de_3400_11e9_a2b1_54ee75e0f62drow28_col1 {\n",
       "            background-color:  #f7b7b7;\n",
       "        }    #T_68fc83de_3400_11e9_a2b1_54ee75e0f62drow37_col1 {\n",
       "            background-color:  #f7b7b7;\n",
       "        }    #T_68fc83de_3400_11e9_a2b1_54ee75e0f62drow38_col1 {\n",
       "            background-color:  #f7b7b7;\n",
       "        }    #T_68fc83de_3400_11e9_a2b1_54ee75e0f62drow40_col1 {\n",
       "            background-color:  #f7b7b7;\n",
       "        }    #T_68fc83de_3400_11e9_a2b1_54ee75e0f62drow41_col1 {\n",
       "            background-color:  #f7b7b7;\n",
       "        }    #T_68fc83de_3400_11e9_a2b1_54ee75e0f62drow42_col1 {\n",
       "            background-color:  #f7b7b7;\n",
       "        }    #T_68fc83de_3400_11e9_a2b1_54ee75e0f62drow45_col1 {\n",
       "            background-color:  #f7b7b7;\n",
       "        }    #T_68fc83de_3400_11e9_a2b1_54ee75e0f62drow46_col1 {\n",
       "            background-color:  #f7b7b7;\n",
       "        }    #T_68fc83de_3400_11e9_a2b1_54ee75e0f62drow49_col1 {\n",
       "            background-color:  red;\n",
       "        }    #T_68fc83de_3400_11e9_a2b1_54ee75e0f62drow51_col1 {\n",
       "            background-color:  #f7b7b7;\n",
       "        }    #T_68fc83de_3400_11e9_a2b1_54ee75e0f62drow59_col1 {\n",
       "            background-color:  #f7b7b7;\n",
       "        }    #T_68fc83de_3400_11e9_a2b1_54ee75e0f62drow61_col1 {\n",
       "            background-color:  #f7b7b7;\n",
       "        }    #T_68fc83de_3400_11e9_a2b1_54ee75e0f62drow62_col1 {\n",
       "            background-color:  #f7b7b7;\n",
       "        }    #T_68fc83de_3400_11e9_a2b1_54ee75e0f62drow66_col1 {\n",
       "            background-color:  #f7b7b7;\n",
       "        }</style><table id=\"T_68fc83de_3400_11e9_a2b1_54ee75e0f62d\" ><thead>    <tr>        <th class=\"col_heading level0 col0\" >user</th>        <th class=\"col_heading level0 col1\" >author_association</th>        <th class=\"col_heading level0 col2\" >comments</th>        <th class=\"col_heading level0 col3\" >html_url</th>    </tr></thead><tbody>\n",
       "                <tr>\n",
       "                                <td id=\"T_68fc83de_3400_11e9_a2b1_54ee75e0f62drow0_col0\" class=\"data row0 col0\" >betatim</td>\n",
       "                        <td id=\"T_68fc83de_3400_11e9_a2b1_54ee75e0f62drow0_col1\" class=\"data row0 col1\" >COLLABORATOR</td>\n",
       "                        <td id=\"T_68fc83de_3400_11e9_a2b1_54ee75e0f62drow0_col2\" class=\"data row0 col2\" >0</td>\n",
       "                        <td id=\"T_68fc83de_3400_11e9_a2b1_54ee75e0f62drow0_col3\" class=\"data row0 col3\" ><a target=\"_blank\" href=\"https://github.com/jupyter/repo2docker/issues/403\">https://github.com/jupyter/repo2docker/issues/403</a></td>\n",
       "            </tr>\n",
       "            <tr>\n",
       "                                <td id=\"T_68fc83de_3400_11e9_a2b1_54ee75e0f62drow1_col0\" class=\"data row1 col0\" >yuvipanda</td>\n",
       "                        <td id=\"T_68fc83de_3400_11e9_a2b1_54ee75e0f62drow1_col1\" class=\"data row1 col1\" >MEMBER</td>\n",
       "                        <td id=\"T_68fc83de_3400_11e9_a2b1_54ee75e0f62drow1_col2\" class=\"data row1 col2\" >0</td>\n",
       "                        <td id=\"T_68fc83de_3400_11e9_a2b1_54ee75e0f62drow1_col3\" class=\"data row1 col3\" ><a target=\"_blank\" href=\"https://github.com/jupyter/repo2docker/pull/517\">https://github.com/jupyter/repo2docker/pull/517</a></td>\n",
       "            </tr>\n",
       "            <tr>\n",
       "                                <td id=\"T_68fc83de_3400_11e9_a2b1_54ee75e0f62drow2_col0\" class=\"data row2 col0\" >willingc</td>\n",
       "                        <td id=\"T_68fc83de_3400_11e9_a2b1_54ee75e0f62drow2_col1\" class=\"data row2 col1\" >MEMBER</td>\n",
       "                        <td id=\"T_68fc83de_3400_11e9_a2b1_54ee75e0f62drow2_col2\" class=\"data row2 col2\" >0</td>\n",
       "                        <td id=\"T_68fc83de_3400_11e9_a2b1_54ee75e0f62drow2_col3\" class=\"data row2 col3\" ><a target=\"_blank\" href=\"https://github.com/jupyter/repo2docker/issues/469\">https://github.com/jupyter/repo2docker/issues/469</a></td>\n",
       "            </tr>\n",
       "            <tr>\n",
       "                                <td id=\"T_68fc83de_3400_11e9_a2b1_54ee75e0f62drow3_col0\" class=\"data row3 col0\" >betatim</td>\n",
       "                        <td id=\"T_68fc83de_3400_11e9_a2b1_54ee75e0f62drow3_col1\" class=\"data row3 col1\" >COLLABORATOR</td>\n",
       "                        <td id=\"T_68fc83de_3400_11e9_a2b1_54ee75e0f62drow3_col2\" class=\"data row3 col2\" >0</td>\n",
       "                        <td id=\"T_68fc83de_3400_11e9_a2b1_54ee75e0f62drow3_col3\" class=\"data row3 col3\" ><a target=\"_blank\" href=\"https://github.com/jupyter/repo2docker/issues/129\">https://github.com/jupyter/repo2docker/issues/129</a></td>\n",
       "            </tr>\n",
       "            <tr>\n",
       "                                <td id=\"T_68fc83de_3400_11e9_a2b1_54ee75e0f62drow4_col0\" class=\"data row4 col0\" >betatim</td>\n",
       "                        <td id=\"T_68fc83de_3400_11e9_a2b1_54ee75e0f62drow4_col1\" class=\"data row4 col1\" >COLLABORATOR</td>\n",
       "                        <td id=\"T_68fc83de_3400_11e9_a2b1_54ee75e0f62drow4_col2\" class=\"data row4 col2\" >0</td>\n",
       "                        <td id=\"T_68fc83de_3400_11e9_a2b1_54ee75e0f62drow4_col3\" class=\"data row4 col3\" ><a target=\"_blank\" href=\"https://github.com/jupyter/repo2docker/issues/488\">https://github.com/jupyter/repo2docker/issues/488</a></td>\n",
       "            </tr>\n",
       "            <tr>\n",
       "                                <td id=\"T_68fc83de_3400_11e9_a2b1_54ee75e0f62drow5_col0\" class=\"data row5 col0\" >jzf2101</td>\n",
       "                        <td id=\"T_68fc83de_3400_11e9_a2b1_54ee75e0f62drow5_col1\" class=\"data row5 col1\" >MEMBER</td>\n",
       "                        <td id=\"T_68fc83de_3400_11e9_a2b1_54ee75e0f62drow5_col2\" class=\"data row5 col2\" >0</td>\n",
       "                        <td id=\"T_68fc83de_3400_11e9_a2b1_54ee75e0f62drow5_col3\" class=\"data row5 col3\" ><a target=\"_blank\" href=\"https://github.com/jupyter/repo2docker/issues/445\">https://github.com/jupyter/repo2docker/issues/445</a></td>\n",
       "            </tr>\n",
       "            <tr>\n",
       "                                <td id=\"T_68fc83de_3400_11e9_a2b1_54ee75e0f62drow6_col0\" class=\"data row6 col0\" >NHDaly</td>\n",
       "                        <td id=\"T_68fc83de_3400_11e9_a2b1_54ee75e0f62drow6_col1\" class=\"data row6 col1\" >CONTRIBUTOR</td>\n",
       "                        <td id=\"T_68fc83de_3400_11e9_a2b1_54ee75e0f62drow6_col2\" class=\"data row6 col2\" >0</td>\n",
       "                        <td id=\"T_68fc83de_3400_11e9_a2b1_54ee75e0f62drow6_col3\" class=\"data row6 col3\" ><a target=\"_blank\" href=\"https://github.com/jupyter/repo2docker/issues/392\">https://github.com/jupyter/repo2docker/issues/392</a></td>\n",
       "            </tr>\n",
       "            <tr>\n",
       "                                <td id=\"T_68fc83de_3400_11e9_a2b1_54ee75e0f62drow7_col0\" class=\"data row7 col0\" >betatim</td>\n",
       "                        <td id=\"T_68fc83de_3400_11e9_a2b1_54ee75e0f62drow7_col1\" class=\"data row7 col1\" >COLLABORATOR</td>\n",
       "                        <td id=\"T_68fc83de_3400_11e9_a2b1_54ee75e0f62drow7_col2\" class=\"data row7 col2\" >0</td>\n",
       "                        <td id=\"T_68fc83de_3400_11e9_a2b1_54ee75e0f62drow7_col3\" class=\"data row7 col3\" ><a target=\"_blank\" href=\"https://github.com/jupyter/repo2docker/issues/480\">https://github.com/jupyter/repo2docker/issues/480</a></td>\n",
       "            </tr>\n",
       "            <tr>\n",
       "                                <td id=\"T_68fc83de_3400_11e9_a2b1_54ee75e0f62drow8_col0\" class=\"data row8 col0\" >jzf2101</td>\n",
       "                        <td id=\"T_68fc83de_3400_11e9_a2b1_54ee75e0f62drow8_col1\" class=\"data row8 col1\" >MEMBER</td>\n",
       "                        <td id=\"T_68fc83de_3400_11e9_a2b1_54ee75e0f62drow8_col2\" class=\"data row8 col2\" >1</td>\n",
       "                        <td id=\"T_68fc83de_3400_11e9_a2b1_54ee75e0f62drow8_col3\" class=\"data row8 col3\" ><a target=\"_blank\" href=\"https://github.com/jupyter/repo2docker/issues/486\">https://github.com/jupyter/repo2docker/issues/486</a></td>\n",
       "            </tr>\n",
       "            <tr>\n",
       "                                <td id=\"T_68fc83de_3400_11e9_a2b1_54ee75e0f62drow9_col0\" class=\"data row9 col0\" >consideRatio</td>\n",
       "                        <td id=\"T_68fc83de_3400_11e9_a2b1_54ee75e0f62drow9_col1\" class=\"data row9 col1\" >NONE</td>\n",
       "                        <td id=\"T_68fc83de_3400_11e9_a2b1_54ee75e0f62drow9_col2\" class=\"data row9 col2\" >1</td>\n",
       "                        <td id=\"T_68fc83de_3400_11e9_a2b1_54ee75e0f62drow9_col3\" class=\"data row9 col3\" ><a target=\"_blank\" href=\"https://github.com/jupyter/repo2docker/issues/329\">https://github.com/jupyter/repo2docker/issues/329</a></td>\n",
       "            </tr>\n",
       "            <tr>\n",
       "                                <td id=\"T_68fc83de_3400_11e9_a2b1_54ee75e0f62drow10_col0\" class=\"data row10 col0\" >evertrol</td>\n",
       "                        <td id=\"T_68fc83de_3400_11e9_a2b1_54ee75e0f62drow10_col1\" class=\"data row10 col1\" >CONTRIBUTOR</td>\n",
       "                        <td id=\"T_68fc83de_3400_11e9_a2b1_54ee75e0f62drow10_col2\" class=\"data row10 col2\" >1</td>\n",
       "                        <td id=\"T_68fc83de_3400_11e9_a2b1_54ee75e0f62drow10_col3\" class=\"data row10 col3\" ><a target=\"_blank\" href=\"https://github.com/jupyter/repo2docker/pull/419\">https://github.com/jupyter/repo2docker/pull/419</a></td>\n",
       "            </tr>\n",
       "            <tr>\n",
       "                                <td id=\"T_68fc83de_3400_11e9_a2b1_54ee75e0f62drow11_col0\" class=\"data row11 col0\" >jzf2101</td>\n",
       "                        <td id=\"T_68fc83de_3400_11e9_a2b1_54ee75e0f62drow11_col1\" class=\"data row11 col1\" >MEMBER</td>\n",
       "                        <td id=\"T_68fc83de_3400_11e9_a2b1_54ee75e0f62drow11_col2\" class=\"data row11 col2\" >1</td>\n",
       "                        <td id=\"T_68fc83de_3400_11e9_a2b1_54ee75e0f62drow11_col3\" class=\"data row11 col3\" ><a target=\"_blank\" href=\"https://github.com/jupyter/repo2docker/issues/414\">https://github.com/jupyter/repo2docker/issues/414</a></td>\n",
       "            </tr>\n",
       "            <tr>\n",
       "                                <td id=\"T_68fc83de_3400_11e9_a2b1_54ee75e0f62drow12_col0\" class=\"data row12 col0\" >betatim</td>\n",
       "                        <td id=\"T_68fc83de_3400_11e9_a2b1_54ee75e0f62drow12_col1\" class=\"data row12 col1\" >COLLABORATOR</td>\n",
       "                        <td id=\"T_68fc83de_3400_11e9_a2b1_54ee75e0f62drow12_col2\" class=\"data row12 col2\" >1</td>\n",
       "                        <td id=\"T_68fc83de_3400_11e9_a2b1_54ee75e0f62drow12_col3\" class=\"data row12 col3\" ><a target=\"_blank\" href=\"https://github.com/jupyter/repo2docker/issues/398\">https://github.com/jupyter/repo2docker/issues/398</a></td>\n",
       "            </tr>\n",
       "            <tr>\n",
       "                                <td id=\"T_68fc83de_3400_11e9_a2b1_54ee75e0f62drow13_col0\" class=\"data row13 col0\" >jzf2101</td>\n",
       "                        <td id=\"T_68fc83de_3400_11e9_a2b1_54ee75e0f62drow13_col1\" class=\"data row13 col1\" >MEMBER</td>\n",
       "                        <td id=\"T_68fc83de_3400_11e9_a2b1_54ee75e0f62drow13_col2\" class=\"data row13 col2\" >1</td>\n",
       "                        <td id=\"T_68fc83de_3400_11e9_a2b1_54ee75e0f62drow13_col3\" class=\"data row13 col3\" ><a target=\"_blank\" href=\"https://github.com/jupyter/repo2docker/issues/336\">https://github.com/jupyter/repo2docker/issues/336</a></td>\n",
       "            </tr>\n",
       "            <tr>\n",
       "                                <td id=\"T_68fc83de_3400_11e9_a2b1_54ee75e0f62drow14_col0\" class=\"data row14 col0\" >jzf2101</td>\n",
       "                        <td id=\"T_68fc83de_3400_11e9_a2b1_54ee75e0f62drow14_col1\" class=\"data row14 col1\" >MEMBER</td>\n",
       "                        <td id=\"T_68fc83de_3400_11e9_a2b1_54ee75e0f62drow14_col2\" class=\"data row14 col2\" >1</td>\n",
       "                        <td id=\"T_68fc83de_3400_11e9_a2b1_54ee75e0f62drow14_col3\" class=\"data row14 col3\" ><a target=\"_blank\" href=\"https://github.com/jupyter/repo2docker/issues/417\">https://github.com/jupyter/repo2docker/issues/417</a></td>\n",
       "            </tr>\n",
       "            <tr>\n",
       "                                <td id=\"T_68fc83de_3400_11e9_a2b1_54ee75e0f62drow15_col0\" class=\"data row15 col0\" >neuromusic</td>\n",
       "                        <td id=\"T_68fc83de_3400_11e9_a2b1_54ee75e0f62drow15_col1\" class=\"data row15 col1\" >NONE</td>\n",
       "                        <td id=\"T_68fc83de_3400_11e9_a2b1_54ee75e0f62drow15_col2\" class=\"data row15 col2\" >1</td>\n",
       "                        <td id=\"T_68fc83de_3400_11e9_a2b1_54ee75e0f62drow15_col3\" class=\"data row15 col3\" ><a target=\"_blank\" href=\"https://github.com/jupyter/repo2docker/issues/359\">https://github.com/jupyter/repo2docker/issues/359</a></td>\n",
       "            </tr>\n",
       "            <tr>\n",
       "                                <td id=\"T_68fc83de_3400_11e9_a2b1_54ee75e0f62drow16_col0\" class=\"data row16 col0\" >choldgraf</td>\n",
       "                        <td id=\"T_68fc83de_3400_11e9_a2b1_54ee75e0f62drow16_col1\" class=\"data row16 col1\" >MEMBER</td>\n",
       "                        <td id=\"T_68fc83de_3400_11e9_a2b1_54ee75e0f62drow16_col2\" class=\"data row16 col2\" >1</td>\n",
       "                        <td id=\"T_68fc83de_3400_11e9_a2b1_54ee75e0f62drow16_col3\" class=\"data row16 col3\" ><a target=\"_blank\" href=\"https://github.com/jupyter/repo2docker/issues/25\">https://github.com/jupyter/repo2docker/issues/25</a></td>\n",
       "            </tr>\n",
       "            <tr>\n",
       "                                <td id=\"T_68fc83de_3400_11e9_a2b1_54ee75e0f62drow17_col0\" class=\"data row17 col0\" >yuvipanda</td>\n",
       "                        <td id=\"T_68fc83de_3400_11e9_a2b1_54ee75e0f62drow17_col1\" class=\"data row17 col1\" >MEMBER</td>\n",
       "                        <td id=\"T_68fc83de_3400_11e9_a2b1_54ee75e0f62drow17_col2\" class=\"data row17 col2\" >1</td>\n",
       "                        <td id=\"T_68fc83de_3400_11e9_a2b1_54ee75e0f62drow17_col3\" class=\"data row17 col3\" ><a target=\"_blank\" href=\"https://github.com/jupyter/repo2docker/issues/36\">https://github.com/jupyter/repo2docker/issues/36</a></td>\n",
       "            </tr>\n",
       "            <tr>\n",
       "                                <td id=\"T_68fc83de_3400_11e9_a2b1_54ee75e0f62drow18_col0\" class=\"data row18 col0\" >consideRatio</td>\n",
       "                        <td id=\"T_68fc83de_3400_11e9_a2b1_54ee75e0f62drow18_col1\" class=\"data row18 col1\" >NONE</td>\n",
       "                        <td id=\"T_68fc83de_3400_11e9_a2b1_54ee75e0f62drow18_col2\" class=\"data row18 col2\" >1</td>\n",
       "                        <td id=\"T_68fc83de_3400_11e9_a2b1_54ee75e0f62drow18_col3\" class=\"data row18 col3\" ><a target=\"_blank\" href=\"https://github.com/jupyter/repo2docker/issues/369\">https://github.com/jupyter/repo2docker/issues/369</a></td>\n",
       "            </tr>\n",
       "            <tr>\n",
       "                                <td id=\"T_68fc83de_3400_11e9_a2b1_54ee75e0f62drow19_col0\" class=\"data row19 col0\" >jzf2101</td>\n",
       "                        <td id=\"T_68fc83de_3400_11e9_a2b1_54ee75e0f62drow19_col1\" class=\"data row19 col1\" >MEMBER</td>\n",
       "                        <td id=\"T_68fc83de_3400_11e9_a2b1_54ee75e0f62drow19_col2\" class=\"data row19 col2\" >2</td>\n",
       "                        <td id=\"T_68fc83de_3400_11e9_a2b1_54ee75e0f62drow19_col3\" class=\"data row19 col3\" ><a target=\"_blank\" href=\"https://github.com/jupyter/repo2docker/issues/404\">https://github.com/jupyter/repo2docker/issues/404</a></td>\n",
       "            </tr>\n",
       "            <tr>\n",
       "                                <td id=\"T_68fc83de_3400_11e9_a2b1_54ee75e0f62drow20_col0\" class=\"data row20 col0\" >minrk</td>\n",
       "                        <td id=\"T_68fc83de_3400_11e9_a2b1_54ee75e0f62drow20_col1\" class=\"data row20 col1\" >MEMBER</td>\n",
       "                        <td id=\"T_68fc83de_3400_11e9_a2b1_54ee75e0f62drow20_col2\" class=\"data row20 col2\" >2</td>\n",
       "                        <td id=\"T_68fc83de_3400_11e9_a2b1_54ee75e0f62drow20_col3\" class=\"data row20 col3\" ><a target=\"_blank\" href=\"https://github.com/jupyter/repo2docker/pull/514\">https://github.com/jupyter/repo2docker/pull/514</a></td>\n",
       "            </tr>\n",
       "            <tr>\n",
       "                                <td id=\"T_68fc83de_3400_11e9_a2b1_54ee75e0f62drow21_col0\" class=\"data row21 col0\" >mryap</td>\n",
       "                        <td id=\"T_68fc83de_3400_11e9_a2b1_54ee75e0f62drow21_col1\" class=\"data row21 col1\" >NONE</td>\n",
       "                        <td id=\"T_68fc83de_3400_11e9_a2b1_54ee75e0f62drow21_col2\" class=\"data row21 col2\" >2</td>\n",
       "                        <td id=\"T_68fc83de_3400_11e9_a2b1_54ee75e0f62drow21_col3\" class=\"data row21 col3\" ><a target=\"_blank\" href=\"https://github.com/jupyter/repo2docker/issues/506\">https://github.com/jupyter/repo2docker/issues/506</a></td>\n",
       "            </tr>\n",
       "            <tr>\n",
       "                                <td id=\"T_68fc83de_3400_11e9_a2b1_54ee75e0f62drow22_col0\" class=\"data row22 col0\" >minrk</td>\n",
       "                        <td id=\"T_68fc83de_3400_11e9_a2b1_54ee75e0f62drow22_col1\" class=\"data row22 col1\" >MEMBER</td>\n",
       "                        <td id=\"T_68fc83de_3400_11e9_a2b1_54ee75e0f62drow22_col2\" class=\"data row22 col2\" >2</td>\n",
       "                        <td id=\"T_68fc83de_3400_11e9_a2b1_54ee75e0f62drow22_col3\" class=\"data row22 col3\" ><a target=\"_blank\" href=\"https://github.com/jupyter/repo2docker/pull/410\">https://github.com/jupyter/repo2docker/pull/410</a></td>\n",
       "            </tr>\n",
       "            <tr>\n",
       "                                <td id=\"T_68fc83de_3400_11e9_a2b1_54ee75e0f62drow23_col0\" class=\"data row23 col0\" >jzf2101</td>\n",
       "                        <td id=\"T_68fc83de_3400_11e9_a2b1_54ee75e0f62drow23_col1\" class=\"data row23 col1\" >MEMBER</td>\n",
       "                        <td id=\"T_68fc83de_3400_11e9_a2b1_54ee75e0f62drow23_col2\" class=\"data row23 col2\" >2</td>\n",
       "                        <td id=\"T_68fc83de_3400_11e9_a2b1_54ee75e0f62drow23_col3\" class=\"data row23 col3\" ><a target=\"_blank\" href=\"https://github.com/jupyter/repo2docker/issues/341\">https://github.com/jupyter/repo2docker/issues/341</a></td>\n",
       "            </tr>\n",
       "            <tr>\n",
       "                                <td id=\"T_68fc83de_3400_11e9_a2b1_54ee75e0f62drow24_col0\" class=\"data row24 col0\" >jzf2101</td>\n",
       "                        <td id=\"T_68fc83de_3400_11e9_a2b1_54ee75e0f62drow24_col1\" class=\"data row24 col1\" >MEMBER</td>\n",
       "                        <td id=\"T_68fc83de_3400_11e9_a2b1_54ee75e0f62drow24_col2\" class=\"data row24 col2\" >3</td>\n",
       "                        <td id=\"T_68fc83de_3400_11e9_a2b1_54ee75e0f62drow24_col3\" class=\"data row24 col3\" ><a target=\"_blank\" href=\"https://github.com/jupyter/repo2docker/issues/345\">https://github.com/jupyter/repo2docker/issues/345</a></td>\n",
       "            </tr>\n",
       "            <tr>\n",
       "                                <td id=\"T_68fc83de_3400_11e9_a2b1_54ee75e0f62drow25_col0\" class=\"data row25 col0\" >jzf2101</td>\n",
       "                        <td id=\"T_68fc83de_3400_11e9_a2b1_54ee75e0f62drow25_col1\" class=\"data row25 col1\" >MEMBER</td>\n",
       "                        <td id=\"T_68fc83de_3400_11e9_a2b1_54ee75e0f62drow25_col2\" class=\"data row25 col2\" >3</td>\n",
       "                        <td id=\"T_68fc83de_3400_11e9_a2b1_54ee75e0f62drow25_col3\" class=\"data row25 col3\" ><a target=\"_blank\" href=\"https://github.com/jupyter/repo2docker/issues/415\">https://github.com/jupyter/repo2docker/issues/415</a></td>\n",
       "            </tr>\n",
       "            <tr>\n",
       "                                <td id=\"T_68fc83de_3400_11e9_a2b1_54ee75e0f62drow26_col0\" class=\"data row26 col0\" >spMohanty</td>\n",
       "                        <td id=\"T_68fc83de_3400_11e9_a2b1_54ee75e0f62drow26_col1\" class=\"data row26 col1\" >NONE</td>\n",
       "                        <td id=\"T_68fc83de_3400_11e9_a2b1_54ee75e0f62drow26_col2\" class=\"data row26 col2\" >3</td>\n",
       "                        <td id=\"T_68fc83de_3400_11e9_a2b1_54ee75e0f62drow26_col3\" class=\"data row26 col3\" ><a target=\"_blank\" href=\"https://github.com/jupyter/repo2docker/issues/268\">https://github.com/jupyter/repo2docker/issues/268</a></td>\n",
       "            </tr>\n",
       "            <tr>\n",
       "                                <td id=\"T_68fc83de_3400_11e9_a2b1_54ee75e0f62drow27_col0\" class=\"data row27 col0\" >minrk</td>\n",
       "                        <td id=\"T_68fc83de_3400_11e9_a2b1_54ee75e0f62drow27_col1\" class=\"data row27 col1\" >MEMBER</td>\n",
       "                        <td id=\"T_68fc83de_3400_11e9_a2b1_54ee75e0f62drow27_col2\" class=\"data row27 col2\" >3</td>\n",
       "                        <td id=\"T_68fc83de_3400_11e9_a2b1_54ee75e0f62drow27_col3\" class=\"data row27 col3\" ><a target=\"_blank\" href=\"https://github.com/jupyter/repo2docker/issues/459\">https://github.com/jupyter/repo2docker/issues/459</a></td>\n",
       "            </tr>\n",
       "            <tr>\n",
       "                                <td id=\"T_68fc83de_3400_11e9_a2b1_54ee75e0f62drow28_col0\" class=\"data row28 col0\" >DrosoNeuro</td>\n",
       "                        <td id=\"T_68fc83de_3400_11e9_a2b1_54ee75e0f62drow28_col1\" class=\"data row28 col1\" >NONE</td>\n",
       "                        <td id=\"T_68fc83de_3400_11e9_a2b1_54ee75e0f62drow28_col2\" class=\"data row28 col2\" >3</td>\n",
       "                        <td id=\"T_68fc83de_3400_11e9_a2b1_54ee75e0f62drow28_col3\" class=\"data row28 col3\" ><a target=\"_blank\" href=\"https://github.com/jupyter/repo2docker/issues/395\">https://github.com/jupyter/repo2docker/issues/395</a></td>\n",
       "            </tr>\n",
       "            <tr>\n",
       "                                <td id=\"T_68fc83de_3400_11e9_a2b1_54ee75e0f62drow29_col0\" class=\"data row29 col0\" >yuvipanda</td>\n",
       "                        <td id=\"T_68fc83de_3400_11e9_a2b1_54ee75e0f62drow29_col1\" class=\"data row29 col1\" >MEMBER</td>\n",
       "                        <td id=\"T_68fc83de_3400_11e9_a2b1_54ee75e0f62drow29_col2\" class=\"data row29 col2\" >3</td>\n",
       "                        <td id=\"T_68fc83de_3400_11e9_a2b1_54ee75e0f62drow29_col3\" class=\"data row29 col3\" ><a target=\"_blank\" href=\"https://github.com/jupyter/repo2docker/issues/126\">https://github.com/jupyter/repo2docker/issues/126</a></td>\n",
       "            </tr>\n",
       "            <tr>\n",
       "                                <td id=\"T_68fc83de_3400_11e9_a2b1_54ee75e0f62drow30_col0\" class=\"data row30 col0\" >blink1073</td>\n",
       "                        <td id=\"T_68fc83de_3400_11e9_a2b1_54ee75e0f62drow30_col1\" class=\"data row30 col1\" >MEMBER</td>\n",
       "                        <td id=\"T_68fc83de_3400_11e9_a2b1_54ee75e0f62drow30_col2\" class=\"data row30 col2\" >3</td>\n",
       "                        <td id=\"T_68fc83de_3400_11e9_a2b1_54ee75e0f62drow30_col3\" class=\"data row30 col3\" ><a target=\"_blank\" href=\"https://github.com/jupyter/repo2docker/issues/438\">https://github.com/jupyter/repo2docker/issues/438</a></td>\n",
       "            </tr>\n",
       "            <tr>\n",
       "                                <td id=\"T_68fc83de_3400_11e9_a2b1_54ee75e0f62drow31_col0\" class=\"data row31 col0\" >yuvipanda</td>\n",
       "                        <td id=\"T_68fc83de_3400_11e9_a2b1_54ee75e0f62drow31_col1\" class=\"data row31 col1\" >MEMBER</td>\n",
       "                        <td id=\"T_68fc83de_3400_11e9_a2b1_54ee75e0f62drow31_col2\" class=\"data row31 col2\" >3</td>\n",
       "                        <td id=\"T_68fc83de_3400_11e9_a2b1_54ee75e0f62drow31_col3\" class=\"data row31 col3\" ><a target=\"_blank\" href=\"https://github.com/jupyter/repo2docker/issues/521\">https://github.com/jupyter/repo2docker/issues/521</a></td>\n",
       "            </tr>\n",
       "            <tr>\n",
       "                                <td id=\"T_68fc83de_3400_11e9_a2b1_54ee75e0f62drow32_col0\" class=\"data row32 col0\" >jzf2101</td>\n",
       "                        <td id=\"T_68fc83de_3400_11e9_a2b1_54ee75e0f62drow32_col1\" class=\"data row32 col1\" >MEMBER</td>\n",
       "                        <td id=\"T_68fc83de_3400_11e9_a2b1_54ee75e0f62drow32_col2\" class=\"data row32 col2\" >3</td>\n",
       "                        <td id=\"T_68fc83de_3400_11e9_a2b1_54ee75e0f62drow32_col3\" class=\"data row32 col3\" ><a target=\"_blank\" href=\"https://github.com/jupyter/repo2docker/issues/339\">https://github.com/jupyter/repo2docker/issues/339</a></td>\n",
       "            </tr>\n",
       "            <tr>\n",
       "                                <td id=\"T_68fc83de_3400_11e9_a2b1_54ee75e0f62drow33_col0\" class=\"data row33 col0\" >betatim</td>\n",
       "                        <td id=\"T_68fc83de_3400_11e9_a2b1_54ee75e0f62drow33_col1\" class=\"data row33 col1\" >COLLABORATOR</td>\n",
       "                        <td id=\"T_68fc83de_3400_11e9_a2b1_54ee75e0f62drow33_col2\" class=\"data row33 col2\" >4</td>\n",
       "                        <td id=\"T_68fc83de_3400_11e9_a2b1_54ee75e0f62drow33_col3\" class=\"data row33 col3\" ><a target=\"_blank\" href=\"https://github.com/jupyter/repo2docker/issues/452\">https://github.com/jupyter/repo2docker/issues/452</a></td>\n",
       "            </tr>\n",
       "            <tr>\n",
       "                                <td id=\"T_68fc83de_3400_11e9_a2b1_54ee75e0f62drow34_col0\" class=\"data row34 col0\" >willingc</td>\n",
       "                        <td id=\"T_68fc83de_3400_11e9_a2b1_54ee75e0f62drow34_col1\" class=\"data row34 col1\" >MEMBER</td>\n",
       "                        <td id=\"T_68fc83de_3400_11e9_a2b1_54ee75e0f62drow34_col2\" class=\"data row34 col2\" >4</td>\n",
       "                        <td id=\"T_68fc83de_3400_11e9_a2b1_54ee75e0f62drow34_col3\" class=\"data row34 col3\" ><a target=\"_blank\" href=\"https://github.com/jupyter/repo2docker/issues/266\">https://github.com/jupyter/repo2docker/issues/266</a></td>\n",
       "            </tr>\n",
       "            <tr>\n",
       "                                <td id=\"T_68fc83de_3400_11e9_a2b1_54ee75e0f62drow35_col0\" class=\"data row35 col0\" >yuvipanda</td>\n",
       "                        <td id=\"T_68fc83de_3400_11e9_a2b1_54ee75e0f62drow35_col1\" class=\"data row35 col1\" >MEMBER</td>\n",
       "                        <td id=\"T_68fc83de_3400_11e9_a2b1_54ee75e0f62drow35_col2\" class=\"data row35 col2\" >4</td>\n",
       "                        <td id=\"T_68fc83de_3400_11e9_a2b1_54ee75e0f62drow35_col3\" class=\"data row35 col3\" ><a target=\"_blank\" href=\"https://github.com/jupyter/repo2docker/issues/522\">https://github.com/jupyter/repo2docker/issues/522</a></td>\n",
       "            </tr>\n",
       "            <tr>\n",
       "                                <td id=\"T_68fc83de_3400_11e9_a2b1_54ee75e0f62drow36_col0\" class=\"data row36 col0\" >yuvipanda</td>\n",
       "                        <td id=\"T_68fc83de_3400_11e9_a2b1_54ee75e0f62drow36_col1\" class=\"data row36 col1\" >MEMBER</td>\n",
       "                        <td id=\"T_68fc83de_3400_11e9_a2b1_54ee75e0f62drow36_col2\" class=\"data row36 col2\" >4</td>\n",
       "                        <td id=\"T_68fc83de_3400_11e9_a2b1_54ee75e0f62drow36_col3\" class=\"data row36 col3\" ><a target=\"_blank\" href=\"https://github.com/jupyter/repo2docker/issues/160\">https://github.com/jupyter/repo2docker/issues/160</a></td>\n",
       "            </tr>\n",
       "            <tr>\n",
       "                                <td id=\"T_68fc83de_3400_11e9_a2b1_54ee75e0f62drow37_col0\" class=\"data row37 col0\" >BoPeng</td>\n",
       "                        <td id=\"T_68fc83de_3400_11e9_a2b1_54ee75e0f62drow37_col1\" class=\"data row37 col1\" >NONE</td>\n",
       "                        <td id=\"T_68fc83de_3400_11e9_a2b1_54ee75e0f62drow37_col2\" class=\"data row37 col2\" >4</td>\n",
       "                        <td id=\"T_68fc83de_3400_11e9_a2b1_54ee75e0f62drow37_col3\" class=\"data row37 col3\" ><a target=\"_blank\" href=\"https://github.com/jupyter/repo2docker/issues/437\">https://github.com/jupyter/repo2docker/issues/437</a></td>\n",
       "            </tr>\n",
       "            <tr>\n",
       "                                <td id=\"T_68fc83de_3400_11e9_a2b1_54ee75e0f62drow38_col0\" class=\"data row38 col0\" >consideRatio</td>\n",
       "                        <td id=\"T_68fc83de_3400_11e9_a2b1_54ee75e0f62drow38_col1\" class=\"data row38 col1\" >NONE</td>\n",
       "                        <td id=\"T_68fc83de_3400_11e9_a2b1_54ee75e0f62drow38_col2\" class=\"data row38 col2\" >4</td>\n",
       "                        <td id=\"T_68fc83de_3400_11e9_a2b1_54ee75e0f62drow38_col3\" class=\"data row38 col3\" ><a target=\"_blank\" href=\"https://github.com/jupyter/repo2docker/issues/330\">https://github.com/jupyter/repo2docker/issues/330</a></td>\n",
       "            </tr>\n",
       "            <tr>\n",
       "                                <td id=\"T_68fc83de_3400_11e9_a2b1_54ee75e0f62drow39_col0\" class=\"data row39 col0\" >minrk</td>\n",
       "                        <td id=\"T_68fc83de_3400_11e9_a2b1_54ee75e0f62drow39_col1\" class=\"data row39 col1\" >MEMBER</td>\n",
       "                        <td id=\"T_68fc83de_3400_11e9_a2b1_54ee75e0f62drow39_col2\" class=\"data row39 col2\" >4</td>\n",
       "                        <td id=\"T_68fc83de_3400_11e9_a2b1_54ee75e0f62drow39_col3\" class=\"data row39 col3\" ><a target=\"_blank\" href=\"https://github.com/jupyter/repo2docker/issues/170\">https://github.com/jupyter/repo2docker/issues/170</a></td>\n",
       "            </tr>\n",
       "            <tr>\n",
       "                                <td id=\"T_68fc83de_3400_11e9_a2b1_54ee75e0f62drow40_col0\" class=\"data row40 col0\" >mizvol</td>\n",
       "                        <td id=\"T_68fc83de_3400_11e9_a2b1_54ee75e0f62drow40_col1\" class=\"data row40 col1\" >NONE</td>\n",
       "                        <td id=\"T_68fc83de_3400_11e9_a2b1_54ee75e0f62drow40_col2\" class=\"data row40 col2\" >4</td>\n",
       "                        <td id=\"T_68fc83de_3400_11e9_a2b1_54ee75e0f62drow40_col3\" class=\"data row40 col3\" ><a target=\"_blank\" href=\"https://github.com/jupyter/repo2docker/issues/402\">https://github.com/jupyter/repo2docker/issues/402</a></td>\n",
       "            </tr>\n",
       "            <tr>\n",
       "                                <td id=\"T_68fc83de_3400_11e9_a2b1_54ee75e0f62drow41_col0\" class=\"data row41 col0\" >Morisset</td>\n",
       "                        <td id=\"T_68fc83de_3400_11e9_a2b1_54ee75e0f62drow41_col1\" class=\"data row41 col1\" >NONE</td>\n",
       "                        <td id=\"T_68fc83de_3400_11e9_a2b1_54ee75e0f62drow41_col2\" class=\"data row41 col2\" >4</td>\n",
       "                        <td id=\"T_68fc83de_3400_11e9_a2b1_54ee75e0f62drow41_col3\" class=\"data row41 col3\" ><a target=\"_blank\" href=\"https://github.com/jupyter/repo2docker/issues/450\">https://github.com/jupyter/repo2docker/issues/450</a></td>\n",
       "            </tr>\n",
       "            <tr>\n",
       "                                <td id=\"T_68fc83de_3400_11e9_a2b1_54ee75e0f62drow42_col0\" class=\"data row42 col0\" >HeidiSeibold</td>\n",
       "                        <td id=\"T_68fc83de_3400_11e9_a2b1_54ee75e0f62drow42_col1\" class=\"data row42 col1\" >NONE</td>\n",
       "                        <td id=\"T_68fc83de_3400_11e9_a2b1_54ee75e0f62drow42_col2\" class=\"data row42 col2\" >4</td>\n",
       "                        <td id=\"T_68fc83de_3400_11e9_a2b1_54ee75e0f62drow42_col3\" class=\"data row42 col3\" ><a target=\"_blank\" href=\"https://github.com/jupyter/repo2docker/issues/397\">https://github.com/jupyter/repo2docker/issues/397</a></td>\n",
       "            </tr>\n",
       "            <tr>\n",
       "                                <td id=\"T_68fc83de_3400_11e9_a2b1_54ee75e0f62drow43_col0\" class=\"data row43 col0\" >choldgraf</td>\n",
       "                        <td id=\"T_68fc83de_3400_11e9_a2b1_54ee75e0f62drow43_col1\" class=\"data row43 col1\" >MEMBER</td>\n",
       "                        <td id=\"T_68fc83de_3400_11e9_a2b1_54ee75e0f62drow43_col2\" class=\"data row43 col2\" >4</td>\n",
       "                        <td id=\"T_68fc83de_3400_11e9_a2b1_54ee75e0f62drow43_col3\" class=\"data row43 col3\" ><a target=\"_blank\" href=\"https://github.com/jupyter/repo2docker/issues/234\">https://github.com/jupyter/repo2docker/issues/234</a></td>\n",
       "            </tr>\n",
       "            <tr>\n",
       "                                <td id=\"T_68fc83de_3400_11e9_a2b1_54ee75e0f62drow44_col0\" class=\"data row44 col0\" >choldgraf</td>\n",
       "                        <td id=\"T_68fc83de_3400_11e9_a2b1_54ee75e0f62drow44_col1\" class=\"data row44 col1\" >MEMBER</td>\n",
       "                        <td id=\"T_68fc83de_3400_11e9_a2b1_54ee75e0f62drow44_col2\" class=\"data row44 col2\" >4</td>\n",
       "                        <td id=\"T_68fc83de_3400_11e9_a2b1_54ee75e0f62drow44_col3\" class=\"data row44 col3\" ><a target=\"_blank\" href=\"https://github.com/jupyter/repo2docker/issues/444\">https://github.com/jupyter/repo2docker/issues/444</a></td>\n",
       "            </tr>\n",
       "            <tr>\n",
       "                                <td id=\"T_68fc83de_3400_11e9_a2b1_54ee75e0f62drow45_col0\" class=\"data row45 col0\" >brooksambrose</td>\n",
       "                        <td id=\"T_68fc83de_3400_11e9_a2b1_54ee75e0f62drow45_col1\" class=\"data row45 col1\" >NONE</td>\n",
       "                        <td id=\"T_68fc83de_3400_11e9_a2b1_54ee75e0f62drow45_col2\" class=\"data row45 col2\" >5</td>\n",
       "                        <td id=\"T_68fc83de_3400_11e9_a2b1_54ee75e0f62drow45_col3\" class=\"data row45 col3\" ><a target=\"_blank\" href=\"https://github.com/jupyter/repo2docker/issues/273\">https://github.com/jupyter/repo2docker/issues/273</a></td>\n",
       "            </tr>\n",
       "            <tr>\n",
       "                                <td id=\"T_68fc83de_3400_11e9_a2b1_54ee75e0f62drow46_col0\" class=\"data row46 col0\" >spMohanty</td>\n",
       "                        <td id=\"T_68fc83de_3400_11e9_a2b1_54ee75e0f62drow46_col1\" class=\"data row46 col1\" >NONE</td>\n",
       "                        <td id=\"T_68fc83de_3400_11e9_a2b1_54ee75e0f62drow46_col2\" class=\"data row46 col2\" >5</td>\n",
       "                        <td id=\"T_68fc83de_3400_11e9_a2b1_54ee75e0f62drow46_col3\" class=\"data row46 col3\" ><a target=\"_blank\" href=\"https://github.com/jupyter/repo2docker/issues/267\">https://github.com/jupyter/repo2docker/issues/267</a></td>\n",
       "            </tr>\n",
       "            <tr>\n",
       "                                <td id=\"T_68fc83de_3400_11e9_a2b1_54ee75e0f62drow47_col0\" class=\"data row47 col0\" >betatim</td>\n",
       "                        <td id=\"T_68fc83de_3400_11e9_a2b1_54ee75e0f62drow47_col1\" class=\"data row47 col1\" >COLLABORATOR</td>\n",
       "                        <td id=\"T_68fc83de_3400_11e9_a2b1_54ee75e0f62drow47_col2\" class=\"data row47 col2\" >5</td>\n",
       "                        <td id=\"T_68fc83de_3400_11e9_a2b1_54ee75e0f62drow47_col3\" class=\"data row47 col3\" ><a target=\"_blank\" href=\"https://github.com/jupyter/repo2docker/issues/263\">https://github.com/jupyter/repo2docker/issues/263</a></td>\n",
       "            </tr>\n",
       "            <tr>\n",
       "                                <td id=\"T_68fc83de_3400_11e9_a2b1_54ee75e0f62drow48_col0\" class=\"data row48 col0\" >betatim</td>\n",
       "                        <td id=\"T_68fc83de_3400_11e9_a2b1_54ee75e0f62drow48_col1\" class=\"data row48 col1\" >COLLABORATOR</td>\n",
       "                        <td id=\"T_68fc83de_3400_11e9_a2b1_54ee75e0f62drow48_col2\" class=\"data row48 col2\" >5</td>\n",
       "                        <td id=\"T_68fc83de_3400_11e9_a2b1_54ee75e0f62drow48_col3\" class=\"data row48 col3\" ><a target=\"_blank\" href=\"https://github.com/jupyter/repo2docker/issues/386\">https://github.com/jupyter/repo2docker/issues/386</a></td>\n",
       "            </tr>\n",
       "            <tr>\n",
       "                                <td id=\"T_68fc83de_3400_11e9_a2b1_54ee75e0f62drow49_col0\" class=\"data row49 col0\" >spMohanty</td>\n",
       "                        <td id=\"T_68fc83de_3400_11e9_a2b1_54ee75e0f62drow49_col1\" class=\"data row49 col1\" >FIRST_TIME_CONTRIBUTOR</td>\n",
       "                        <td id=\"T_68fc83de_3400_11e9_a2b1_54ee75e0f62drow49_col2\" class=\"data row49 col2\" >6</td>\n",
       "                        <td id=\"T_68fc83de_3400_11e9_a2b1_54ee75e0f62drow49_col3\" class=\"data row49 col3\" ><a target=\"_blank\" href=\"https://github.com/jupyter/repo2docker/pull/269\">https://github.com/jupyter/repo2docker/pull/269</a></td>\n",
       "            </tr>\n",
       "            <tr>\n",
       "                                <td id=\"T_68fc83de_3400_11e9_a2b1_54ee75e0f62drow50_col0\" class=\"data row50 col0\" >yuvipanda</td>\n",
       "                        <td id=\"T_68fc83de_3400_11e9_a2b1_54ee75e0f62drow50_col1\" class=\"data row50 col1\" >MEMBER</td>\n",
       "                        <td id=\"T_68fc83de_3400_11e9_a2b1_54ee75e0f62drow50_col2\" class=\"data row50 col2\" >6</td>\n",
       "                        <td id=\"T_68fc83de_3400_11e9_a2b1_54ee75e0f62drow50_col3\" class=\"data row50 col3\" ><a target=\"_blank\" href=\"https://github.com/jupyter/repo2docker/issues/102\">https://github.com/jupyter/repo2docker/issues/102</a></td>\n",
       "            </tr>\n",
       "            <tr>\n",
       "                                <td id=\"T_68fc83de_3400_11e9_a2b1_54ee75e0f62drow51_col0\" class=\"data row51 col0\" >fomightez</td>\n",
       "                        <td id=\"T_68fc83de_3400_11e9_a2b1_54ee75e0f62drow51_col1\" class=\"data row51 col1\" >NONE</td>\n",
       "                        <td id=\"T_68fc83de_3400_11e9_a2b1_54ee75e0f62drow51_col2\" class=\"data row51 col2\" >7</td>\n",
       "                        <td id=\"T_68fc83de_3400_11e9_a2b1_54ee75e0f62drow51_col3\" class=\"data row51 col3\" ><a target=\"_blank\" href=\"https://github.com/jupyter/repo2docker/issues/245\">https://github.com/jupyter/repo2docker/issues/245</a></td>\n",
       "            </tr>\n",
       "            <tr>\n",
       "                                <td id=\"T_68fc83de_3400_11e9_a2b1_54ee75e0f62drow52_col0\" class=\"data row52 col0\" >betatim</td>\n",
       "                        <td id=\"T_68fc83de_3400_11e9_a2b1_54ee75e0f62drow52_col1\" class=\"data row52 col1\" >COLLABORATOR</td>\n",
       "                        <td id=\"T_68fc83de_3400_11e9_a2b1_54ee75e0f62drow52_col2\" class=\"data row52 col2\" >7</td>\n",
       "                        <td id=\"T_68fc83de_3400_11e9_a2b1_54ee75e0f62drow52_col3\" class=\"data row52 col3\" ><a target=\"_blank\" href=\"https://github.com/jupyter/repo2docker/pull/301\">https://github.com/jupyter/repo2docker/pull/301</a></td>\n",
       "            </tr>\n",
       "            <tr>\n",
       "                                <td id=\"T_68fc83de_3400_11e9_a2b1_54ee75e0f62drow53_col0\" class=\"data row53 col0\" >minrk</td>\n",
       "                        <td id=\"T_68fc83de_3400_11e9_a2b1_54ee75e0f62drow53_col1\" class=\"data row53 col1\" >MEMBER</td>\n",
       "                        <td id=\"T_68fc83de_3400_11e9_a2b1_54ee75e0f62drow53_col2\" class=\"data row53 col2\" >7</td>\n",
       "                        <td id=\"T_68fc83de_3400_11e9_a2b1_54ee75e0f62drow53_col3\" class=\"data row53 col3\" ><a target=\"_blank\" href=\"https://github.com/jupyter/repo2docker/issues/164\">https://github.com/jupyter/repo2docker/issues/164</a></td>\n",
       "            </tr>\n",
       "            <tr>\n",
       "                                <td id=\"T_68fc83de_3400_11e9_a2b1_54ee75e0f62drow54_col0\" class=\"data row54 col0\" >choldgraf</td>\n",
       "                        <td id=\"T_68fc83de_3400_11e9_a2b1_54ee75e0f62drow54_col1\" class=\"data row54 col1\" >MEMBER</td>\n",
       "                        <td id=\"T_68fc83de_3400_11e9_a2b1_54ee75e0f62drow54_col2\" class=\"data row54 col2\" >8</td>\n",
       "                        <td id=\"T_68fc83de_3400_11e9_a2b1_54ee75e0f62drow54_col3\" class=\"data row54 col3\" ><a target=\"_blank\" href=\"https://github.com/jupyter/repo2docker/issues/487\">https://github.com/jupyter/repo2docker/issues/487</a></td>\n",
       "            </tr>\n",
       "            <tr>\n",
       "                                <td id=\"T_68fc83de_3400_11e9_a2b1_54ee75e0f62drow55_col0\" class=\"data row55 col0\" >choldgraf</td>\n",
       "                        <td id=\"T_68fc83de_3400_11e9_a2b1_54ee75e0f62drow55_col1\" class=\"data row55 col1\" >MEMBER</td>\n",
       "                        <td id=\"T_68fc83de_3400_11e9_a2b1_54ee75e0f62drow55_col2\" class=\"data row55 col2\" >8</td>\n",
       "                        <td id=\"T_68fc83de_3400_11e9_a2b1_54ee75e0f62drow55_col3\" class=\"data row55 col3\" ><a target=\"_blank\" href=\"https://github.com/jupyter/repo2docker/issues/503\">https://github.com/jupyter/repo2docker/issues/503</a></td>\n",
       "            </tr>\n",
       "            <tr>\n",
       "                                <td id=\"T_68fc83de_3400_11e9_a2b1_54ee75e0f62drow56_col0\" class=\"data row56 col0\" >choldgraf</td>\n",
       "                        <td id=\"T_68fc83de_3400_11e9_a2b1_54ee75e0f62drow56_col1\" class=\"data row56 col1\" >MEMBER</td>\n",
       "                        <td id=\"T_68fc83de_3400_11e9_a2b1_54ee75e0f62drow56_col2\" class=\"data row56 col2\" >8</td>\n",
       "                        <td id=\"T_68fc83de_3400_11e9_a2b1_54ee75e0f62drow56_col3\" class=\"data row56 col3\" ><a target=\"_blank\" href=\"https://github.com/jupyter/repo2docker/issues/71\">https://github.com/jupyter/repo2docker/issues/71</a></td>\n",
       "            </tr>\n",
       "            <tr>\n",
       "                                <td id=\"T_68fc83de_3400_11e9_a2b1_54ee75e0f62drow57_col0\" class=\"data row57 col0\" >choldgraf</td>\n",
       "                        <td id=\"T_68fc83de_3400_11e9_a2b1_54ee75e0f62drow57_col1\" class=\"data row57 col1\" >MEMBER</td>\n",
       "                        <td id=\"T_68fc83de_3400_11e9_a2b1_54ee75e0f62drow57_col2\" class=\"data row57 col2\" >8</td>\n",
       "                        <td id=\"T_68fc83de_3400_11e9_a2b1_54ee75e0f62drow57_col3\" class=\"data row57 col3\" ><a target=\"_blank\" href=\"https://github.com/jupyter/repo2docker/issues/61\">https://github.com/jupyter/repo2docker/issues/61</a></td>\n",
       "            </tr>\n",
       "            <tr>\n",
       "                                <td id=\"T_68fc83de_3400_11e9_a2b1_54ee75e0f62drow58_col0\" class=\"data row58 col0\" >yuvipanda</td>\n",
       "                        <td id=\"T_68fc83de_3400_11e9_a2b1_54ee75e0f62drow58_col1\" class=\"data row58 col1\" >MEMBER</td>\n",
       "                        <td id=\"T_68fc83de_3400_11e9_a2b1_54ee75e0f62drow58_col2\" class=\"data row58 col2\" >8</td>\n",
       "                        <td id=\"T_68fc83de_3400_11e9_a2b1_54ee75e0f62drow58_col3\" class=\"data row58 col3\" ><a target=\"_blank\" href=\"https://github.com/jupyter/repo2docker/issues/133\">https://github.com/jupyter/repo2docker/issues/133</a></td>\n",
       "            </tr>\n",
       "            <tr>\n",
       "                                <td id=\"T_68fc83de_3400_11e9_a2b1_54ee75e0f62drow59_col0\" class=\"data row59 col0\" >wielandbrendel</td>\n",
       "                        <td id=\"T_68fc83de_3400_11e9_a2b1_54ee75e0f62drow59_col1\" class=\"data row59 col1\" >NONE</td>\n",
       "                        <td id=\"T_68fc83de_3400_11e9_a2b1_54ee75e0f62drow59_col2\" class=\"data row59 col2\" >8</td>\n",
       "                        <td id=\"T_68fc83de_3400_11e9_a2b1_54ee75e0f62drow59_col3\" class=\"data row59 col3\" ><a target=\"_blank\" href=\"https://github.com/jupyter/repo2docker/issues/331\">https://github.com/jupyter/repo2docker/issues/331</a></td>\n",
       "            </tr>\n",
       "            <tr>\n",
       "                                <td id=\"T_68fc83de_3400_11e9_a2b1_54ee75e0f62drow60_col0\" class=\"data row60 col0\" >Carreau</td>\n",
       "                        <td id=\"T_68fc83de_3400_11e9_a2b1_54ee75e0f62drow60_col1\" class=\"data row60 col1\" >MEMBER</td>\n",
       "                        <td id=\"T_68fc83de_3400_11e9_a2b1_54ee75e0f62drow60_col2\" class=\"data row60 col2\" >9</td>\n",
       "                        <td id=\"T_68fc83de_3400_11e9_a2b1_54ee75e0f62drow60_col3\" class=\"data row60 col3\" ><a target=\"_blank\" href=\"https://github.com/jupyter/repo2docker/issues/115\">https://github.com/jupyter/repo2docker/issues/115</a></td>\n",
       "            </tr>\n",
       "            <tr>\n",
       "                                <td id=\"T_68fc83de_3400_11e9_a2b1_54ee75e0f62drow61_col0\" class=\"data row61 col0\" >rnestler</td>\n",
       "                        <td id=\"T_68fc83de_3400_11e9_a2b1_54ee75e0f62drow61_col1\" class=\"data row61 col1\" >NONE</td>\n",
       "                        <td id=\"T_68fc83de_3400_11e9_a2b1_54ee75e0f62drow61_col2\" class=\"data row61 col2\" >9</td>\n",
       "                        <td id=\"T_68fc83de_3400_11e9_a2b1_54ee75e0f62drow61_col3\" class=\"data row61 col3\" ><a target=\"_blank\" href=\"https://github.com/jupyter/repo2docker/issues/356\">https://github.com/jupyter/repo2docker/issues/356</a></td>\n",
       "            </tr>\n",
       "            <tr>\n",
       "                                <td id=\"T_68fc83de_3400_11e9_a2b1_54ee75e0f62drow62_col0\" class=\"data row62 col0\" >neuromusic</td>\n",
       "                        <td id=\"T_68fc83de_3400_11e9_a2b1_54ee75e0f62drow62_col1\" class=\"data row62 col1\" >NONE</td>\n",
       "                        <td id=\"T_68fc83de_3400_11e9_a2b1_54ee75e0f62drow62_col2\" class=\"data row62 col2\" >10</td>\n",
       "                        <td id=\"T_68fc83de_3400_11e9_a2b1_54ee75e0f62drow62_col3\" class=\"data row62 col3\" ><a target=\"_blank\" href=\"https://github.com/jupyter/repo2docker/issues/473\">https://github.com/jupyter/repo2docker/issues/473</a></td>\n",
       "            </tr>\n",
       "            <tr>\n",
       "                                <td id=\"T_68fc83de_3400_11e9_a2b1_54ee75e0f62drow63_col0\" class=\"data row63 col0\" >choldgraf</td>\n",
       "                        <td id=\"T_68fc83de_3400_11e9_a2b1_54ee75e0f62drow63_col1\" class=\"data row63 col1\" >MEMBER</td>\n",
       "                        <td id=\"T_68fc83de_3400_11e9_a2b1_54ee75e0f62drow63_col2\" class=\"data row63 col2\" >10</td>\n",
       "                        <td id=\"T_68fc83de_3400_11e9_a2b1_54ee75e0f62drow63_col3\" class=\"data row63 col3\" ><a target=\"_blank\" href=\"https://github.com/jupyter/repo2docker/issues/166\">https://github.com/jupyter/repo2docker/issues/166</a></td>\n",
       "            </tr>\n",
       "            <tr>\n",
       "                                <td id=\"T_68fc83de_3400_11e9_a2b1_54ee75e0f62drow64_col0\" class=\"data row64 col0\" >minrk</td>\n",
       "                        <td id=\"T_68fc83de_3400_11e9_a2b1_54ee75e0f62drow64_col1\" class=\"data row64 col1\" >MEMBER</td>\n",
       "                        <td id=\"T_68fc83de_3400_11e9_a2b1_54ee75e0f62drow64_col2\" class=\"data row64 col2\" >10</td>\n",
       "                        <td id=\"T_68fc83de_3400_11e9_a2b1_54ee75e0f62drow64_col3\" class=\"data row64 col3\" ><a target=\"_blank\" href=\"https://github.com/jupyter/repo2docker/issues/227\">https://github.com/jupyter/repo2docker/issues/227</a></td>\n",
       "            </tr>\n",
       "            <tr>\n",
       "                                <td id=\"T_68fc83de_3400_11e9_a2b1_54ee75e0f62drow65_col0\" class=\"data row65 col0\" >jzf2101</td>\n",
       "                        <td id=\"T_68fc83de_3400_11e9_a2b1_54ee75e0f62drow65_col1\" class=\"data row65 col1\" >MEMBER</td>\n",
       "                        <td id=\"T_68fc83de_3400_11e9_a2b1_54ee75e0f62drow65_col2\" class=\"data row65 col2\" >16</td>\n",
       "                        <td id=\"T_68fc83de_3400_11e9_a2b1_54ee75e0f62drow65_col3\" class=\"data row65 col3\" ><a target=\"_blank\" href=\"https://github.com/jupyter/repo2docker/issues/471\">https://github.com/jupyter/repo2docker/issues/471</a></td>\n",
       "            </tr>\n",
       "            <tr>\n",
       "                                <td id=\"T_68fc83de_3400_11e9_a2b1_54ee75e0f62drow66_col0\" class=\"data row66 col0\" >psychemedia</td>\n",
       "                        <td id=\"T_68fc83de_3400_11e9_a2b1_54ee75e0f62drow66_col1\" class=\"data row66 col1\" >NONE</td>\n",
       "                        <td id=\"T_68fc83de_3400_11e9_a2b1_54ee75e0f62drow66_col2\" class=\"data row66 col2\" >50</td>\n",
       "                        <td id=\"T_68fc83de_3400_11e9_a2b1_54ee75e0f62drow66_col3\" class=\"data row66 col3\" ><a target=\"_blank\" href=\"https://github.com/jupyter/repo2docker/issues/223\">https://github.com/jupyter/repo2docker/issues/223</a></td>\n",
       "            </tr>\n",
       "    </tbody></table>"
      ],
      "text/plain": [
       "<pandas.io.formats.style.Styler at 0x7f6a8aef3438>"
      ]
     },
     "execution_count": 20,
     "metadata": {},
     "output_type": "execute_result"
    }
   ],
   "source": [
    "stale_issues[['user', 'author_association', 'comments', 'html_url']]\\\n",
    "    .sort_values(['comments']).style.applymap(highlight_rows).format({'html_url': make_clickable}).hide_index()"
   ]
  }
 ],
 "metadata": {
  "kernelspec": {
   "display_name": "Python 3",
   "language": "python",
   "name": "python3"
  },
  "language_info": {
   "codemirror_mode": {
    "name": "ipython",
    "version": 3
   },
   "file_extension": ".py",
   "mimetype": "text/x-python",
   "name": "python",
   "nbconvert_exporter": "python",
   "pygments_lexer": "ipython3",
   "version": "3.6.5"
  },
  "papermill": {
   "duration": 5.522048,
   "end_time": "2019-02-19T04:39:58.386290",
   "environment_variables": {},
   "exception": null,
   "input_path": "./templates/issues.ipynb",
   "output_path": "../reports/2019-01-19/jupyter/repo2docker/issues.ipynb",
   "parameters": {
    "date": "2019-01-19",
    "org": "jupyter",
    "repo": "repo2docker"
   },
   "start_time": "2019-02-19T04:39:52.864242",
   "version": "0.18.0"
  }
 },
 "nbformat": 4,
 "nbformat_minor": 2
}