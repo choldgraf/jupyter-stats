{
 "cells": [
  {
   "cell_type": "code",
   "execution_count": 1,
   "metadata": {
    "jupyter": {
     "source_hidden": true
    },
    "papermill": {
     "duration": 0.0214,
     "end_time": "2019-02-19T04:43:50.866355",
     "exception": false,
     "start_time": "2019-02-19T04:43:50.844955",
     "status": "completed"
    },
    "tags": [
     "parameters"
    ]
   },
   "outputs": [],
   "source": [
    "date = \"2019-01-18\""
   ]
  },
  {
   "cell_type": "code",
   "execution_count": 2,
   "metadata": {
    "jupyter": {
     "source_hidden": true
    },
    "papermill": {
     "duration": 0.028922,
     "end_time": "2019-02-19T04:43:50.913624",
     "exception": false,
     "start_time": "2019-02-19T04:43:50.884702",
     "status": "completed"
    },
    "tags": [
     "injected-parameters"
    ]
   },
   "outputs": [],
   "source": [
    "# Parameters\n",
    "date = \"2019-01-19\"\n"
   ]
  },
  {
   "cell_type": "code",
   "execution_count": 3,
   "metadata": {
    "jupyter": {
     "source_hidden": true
    },
    "papermill": {
     "duration": 0.034903,
     "end_time": "2019-02-19T04:43:50.966246",
     "exception": false,
     "start_time": "2019-02-19T04:43:50.931343",
     "status": "completed"
    },
    "tags": []
   },
   "outputs": [
    {
     "data": {
      "text/html": [
       "<h2>Report summary for 2019-01-19</h2>"
      ],
      "text/plain": [
       "<IPython.core.display.HTML object>"
      ]
     },
     "execution_count": 3,
     "metadata": {},
     "output_type": "execute_result"
    }
   ],
   "source": [
    "from IPython.display import display, HTML\n",
    "HTML(\"<h2>Report summary for {}</h2>\".format(date))"
   ]
  },
  {
   "cell_type": "markdown",
   "metadata": {
    "papermill": {
     "duration": 0.016511,
     "end_time": "2019-02-19T04:43:51.005761",
     "exception": false,
     "start_time": "2019-02-19T04:43:50.989250",
     "status": "completed"
    },
    "tags": []
   },
   "source": [
    "This is a summary of activity in the JupyterHub repositories over the last 30 days.\n",
    "It should not be treated as set of statistics to optimize, but should instead be\n",
    "used to find opportunities to pursue ways that we can recognize and congratulate the\n",
    "work that folks are doing in the community. It should be a birds-eye view of what's\n",
    "going on that inspires people to dig a bit deeper."
   ]
  },
  {
   "cell_type": "code",
   "execution_count": 4,
   "metadata": {
    "jupyter": {
     "source_hidden": true
    },
    "papermill": {
     "duration": 1.397725,
     "end_time": "2019-02-19T04:43:52.422836",
     "exception": false,
     "start_time": "2019-02-19T04:43:51.025111",
     "status": "completed"
    },
    "tags": []
   },
   "outputs": [],
   "source": [
    "from glob import glob\n",
    "import os.path as op\n",
    "import pandas as pd\n",
    "import altair as alt\n",
    "import matplotlib.pyplot as plt\n",
    "import seaborn as sns\n",
    "import numpy as np\n",
    "\n",
    "plt.rcParams['figure.dpi'] = 300\n",
    "\n",
    "csv_files = glob('../../reports/{}/data/*.csv'.format(date))"
   ]
  },
  {
   "cell_type": "code",
   "execution_count": 5,
   "metadata": {
    "jupyter": {
     "source_hidden": true
    },
    "papermill": {
     "duration": 0.180982,
     "end_time": "2019-02-19T04:43:52.616715",
     "exception": false,
     "start_time": "2019-02-19T04:43:52.435733",
     "status": "completed"
    },
    "tags": []
   },
   "outputs": [],
   "source": [
    "data = []\n",
    "for ifile in csv_files:\n",
    "    name = op.basename(ifile)\n",
    "    org, repo = name.rsplit('-', 1)[0].split('_', 1)\n",
    "    idata = pd.read_csv(ifile)\n",
    "    idata['org'] = org\n",
    "    idata['repo'] = repo\n",
    "    idata = idata.rename(columns={'commits': 'count', 'comments': 'count'})\n",
    "    kind = 'commits' if 'committers' in ifile else 'comments'\n",
    "    idata['kind'] = kind\n",
    "    data.append(idata)\n",
    "\n",
    "data = pd.concat(data, sort=False).reset_index(drop=True)\n",
    "\n",
    "data_total = data.groupby(['user', 'kind'])['count'].sum().reset_index()"
   ]
  },
  {
   "cell_type": "code",
   "execution_count": 6,
   "metadata": {
    "jupyter": {
     "source_hidden": true
    },
    "papermill": {
     "duration": 0.216529,
     "end_time": "2019-02-19T04:43:52.848143",
     "exception": false,
     "start_time": "2019-02-19T04:43:52.631614",
     "status": "completed"
    },
    "tags": []
   },
   "outputs": [],
   "source": [
    "teams = pd.read_csv('../../data/teams.csv')\n",
    "\n",
    "def assign_team(val):\n",
    "    if val in teams['username'].values:\n",
    "        team = teams.query('username == @val')['team'].iloc[-1] \n",
    "    else:\n",
    "        team = \"NONE\"\n",
    "    return team\n",
    "data['association'] = data['user'].map(assign_team)"
   ]
  },
  {
   "cell_type": "markdown",
   "metadata": {
    "papermill": {
     "duration": 0.016129,
     "end_time": "2019-02-19T04:43:52.878858",
     "exception": false,
     "start_time": "2019-02-19T04:43:52.862729",
     "status": "completed"
    },
    "tags": []
   },
   "source": [
    "## Total commits and comments by repository"
   ]
  },
  {
   "cell_type": "code",
   "execution_count": 7,
   "metadata": {
    "jupyter": {
     "source_hidden": true
    },
    "papermill": {
     "duration": 0.088018,
     "end_time": "2019-02-19T04:43:52.987132",
     "exception": false,
     "start_time": "2019-02-19T04:43:52.899114",
     "status": "completed"
    },
    "tags": []
   },
   "outputs": [
    {
     "name": "stderr",
     "output_type": "stream",
     "text": [
      "/home/choldgraf/anaconda/envs/dev/lib/python3.6/site-packages/altair/utils/core.py:294: FutureWarning: A future version of pandas will default to `skipna=True`. To silence this warning, pass `skipna=True|False` explicitly.\n",
      "  attrs['type'] = infer_vegalite_type(data[attrs['field']])\n"
     ]
    },
    {
     "data": {
      "application/vnd.vegalite.v2+json": {
       "$schema": "https://vega.github.io/schema/vega-lite/v2.6.0.json",
       "config": {
        "view": {
         "height": 300,
         "width": 400
        }
       },
       "data": {
        "name": "data-9c1c3465703e154b01b019e126b00eed"
       },
       "datasets": {
        "data-9c1c3465703e154b01b019e126b00eed": [
         {
          "count": 96,
          "kind": "comments",
          "org": "jupyter",
          "repo": "repo2docker"
         },
         {
          "count": 30,
          "kind": "commits",
          "org": "jupyter",
          "repo": "repo2docker"
         },
         {
          "count": 11,
          "kind": "comments",
          "org": "jupyterhub",
          "repo": "binder"
         },
         {
          "count": 22,
          "kind": "commits",
          "org": "jupyterhub",
          "repo": "binder"
         },
         {
          "count": 73,
          "kind": "comments",
          "org": "jupyterhub",
          "repo": "binderhub"
         },
         {
          "count": 43,
          "kind": "commits",
          "org": "jupyterhub",
          "repo": "binderhub"
         },
         {
          "count": 3,
          "kind": "comments",
          "org": "jupyterhub",
          "repo": "configurable-http-proxy"
         },
         {
          "count": 61,
          "kind": "comments",
          "org": "jupyterhub",
          "repo": "jupyter-server-proxy"
         },
         {
          "count": 24,
          "kind": "commits",
          "org": "jupyterhub",
          "repo": "jupyter-server-proxy"
         },
         {
          "count": 148,
          "kind": "comments",
          "org": "jupyterhub",
          "repo": "jupyterhub"
         },
         {
          "count": 42,
          "kind": "commits",
          "org": "jupyterhub",
          "repo": "jupyterhub"
         },
         {
          "count": 20,
          "kind": "comments",
          "org": "jupyterhub",
          "repo": "mybinder.org-deploy"
         },
         {
          "count": 30,
          "kind": "commits",
          "org": "jupyterhub",
          "repo": "mybinder.org-deploy"
         },
         {
          "count": 23,
          "kind": "comments",
          "org": "jupyterhub",
          "repo": "nativeauthenticator"
         },
         {
          "count": 66,
          "kind": "commits",
          "org": "jupyterhub",
          "repo": "nativeauthenticator"
         },
         {
          "count": 75,
          "kind": "comments",
          "org": "jupyterhub",
          "repo": "team-compass"
         },
         {
          "count": 16,
          "kind": "commits",
          "org": "jupyterhub",
          "repo": "team-compass"
         },
         {
          "count": 30,
          "kind": "comments",
          "org": "jupyterhub",
          "repo": "the-littlest-jupyterhub"
         },
         {
          "count": 21,
          "kind": "commits",
          "org": "jupyterhub",
          "repo": "the-littlest-jupyterhub"
         },
         {
          "count": 14,
          "kind": "comments",
          "org": "jupyterhub",
          "repo": "traefik-proxy"
         },
         {
          "count": 28,
          "kind": "commits",
          "org": "jupyterhub",
          "repo": "traefik-proxy"
         },
         {
          "count": 128,
          "kind": "comments",
          "org": "jupyterhub",
          "repo": "zero-to-jupyterhub-k8s"
         },
         {
          "count": 84,
          "kind": "commits",
          "org": "jupyterhub",
          "repo": "zero-to-jupyterhub-k8s"
         }
        ]
       },
       "encoding": {
        "color": {
         "field": "kind",
         "type": "nominal"
        },
        "x": {
         "field": "repo",
         "type": "nominal"
        },
        "y": {
         "field": "count",
         "type": "quantitative"
        }
       },
       "mark": "bar",
       "title": "Comments",
       "width": 700
      },
      "text/plain": [
       "<VegaLite 2 object>\n",
       "\n",
       "If you see this message, it means the renderer has not been properly enabled\n",
       "for the frontend that you are using. For more information, see\n",
       "https://altair-viz.github.io/user_guide/troubleshooting.html\n"
      ]
     },
     "execution_count": 7,
     "metadata": {},
     "output_type": "execute_result"
    }
   ],
   "source": [
    "pltdata = data.groupby(['org', 'repo', 'kind'])['count'].sum().reset_index()\n",
    "comments = alt.Chart(pltdata, title=\"Comments\", width=700).mark_bar().encode(\n",
    "    x='repo',\n",
    "    y='count',\n",
    "    color='kind'\n",
    ")\n",
    "comments"
   ]
  },
  {
   "cell_type": "markdown",
   "metadata": {
    "papermill": {
     "duration": 0.020062,
     "end_time": "2019-02-19T04:43:53.022675",
     "exception": false,
     "start_time": "2019-02-19T04:43:53.002613",
     "status": "completed"
    },
    "tags": []
   },
   "source": [
    "## Total commits and comments by user"
   ]
  },
  {
   "cell_type": "code",
   "execution_count": 8,
   "metadata": {
    "jupyter": {
     "source_hidden": true
    },
    "papermill": {
     "duration": 0.059203,
     "end_time": "2019-02-19T04:43:53.103680",
     "exception": false,
     "start_time": "2019-02-19T04:43:53.044477",
     "status": "completed"
    },
    "tags": []
   },
   "outputs": [],
   "source": [
    "# Define the color scale we'll use to categorize people\n",
    "color_scale = alt.Scale(\n",
    "    domain=[\"red\", \"lead\",\"blue\", \"jupyterhub\", \"NONE\"],\n",
    "    range=[\"#fdbaba\", \"#fdbaba\", \"#bac5fd\", \"#ffbb74\", \"green\"]\n",
    ")\n",
    "\n",
    "pltdata = data.groupby(['user', 'association', 'kind'])['count'].sum().reset_index()\n",
    "pltcommits = pltdata.query('kind == \"commits\"')\n",
    "pltcomments = pltdata.query('kind == \"comments\"')"
   ]
  },
  {
   "cell_type": "code",
   "execution_count": 9,
   "metadata": {
    "jupyter": {
     "source_hidden": true
    },
    "papermill": {
     "duration": 0.073674,
     "end_time": "2019-02-19T04:43:53.203539",
     "exception": false,
     "start_time": "2019-02-19T04:43:53.129865",
     "status": "completed"
    },
    "tags": []
   },
   "outputs": [
    {
     "data": {
      "application/vnd.vegalite.v2+json": {
       "$schema": "https://vega.github.io/schema/vega-lite/v2.6.0.json",
       "config": {
        "view": {
         "height": 300,
         "width": 400
        }
       },
       "datasets": {
        "data-165cd9830be8efc79704f40ebd018165": [
         {
          "association": "NONE",
          "count": 4,
          "kind": "commits",
          "user": "00Kai0"
         },
         {
          "association": "NONE",
          "count": 13,
          "kind": "commits",
          "user": "GeorgianaElena"
         },
         {
          "association": "NONE",
          "count": 1,
          "kind": "commits",
          "user": "GladysNalvarte"
         },
         {
          "association": "NONE",
          "count": 1,
          "kind": "commits",
          "user": "alanjcastonguay"
         },
         {
          "association": "NONE",
          "count": 1,
          "kind": "commits",
          "user": "arokem"
         },
         {
          "association": "red",
          "count": 35,
          "kind": "commits",
          "user": "betatim"
         },
         {
          "association": "NONE",
          "count": 2,
          "kind": "commits",
          "user": "bitnik"
         },
         {
          "association": "NONE",
          "count": 12,
          "kind": "commits",
          "user": "captainsafia"
         },
         {
          "association": "red",
          "count": 54,
          "kind": "commits",
          "user": "choldgraf"
         },
         {
          "association": "blue",
          "count": 34,
          "kind": "commits",
          "user": "consideRatio"
         },
         {
          "association": "NONE",
          "count": 2,
          "kind": "commits",
          "user": "dtaniwaki"
         },
         {
          "association": "NONE",
          "count": 1,
          "kind": "commits",
          "user": "guoshimin"
         },
         {
          "association": "NONE",
          "count": 1,
          "kind": "commits",
          "user": "huhuhang"
         },
         {
          "association": "NONE",
          "count": 56,
          "kind": "commits",
          "user": "leportella"
         },
         {
          "association": "NONE",
          "count": 2,
          "kind": "commits",
          "user": "lesteve"
         },
         {
          "association": "blue",
          "count": 11,
          "kind": "commits",
          "user": "lheagy"
         },
         {
          "association": "NONE",
          "count": 10,
          "kind": "commits",
          "user": "manics"
         },
         {
          "association": "NONE",
          "count": 3,
          "kind": "commits",
          "user": "manycoding"
         },
         {
          "association": "lead",
          "count": 105,
          "kind": "commits",
          "user": "minrk"
         },
         {
          "association": "NONE",
          "count": 1,
          "kind": "commits",
          "user": "mrakitin"
         },
         {
          "association": "NONE",
          "count": 4,
          "kind": "commits",
          "user": "ryanlovett"
         },
         {
          "association": "red",
          "count": 4,
          "kind": "commits",
          "user": "willingc"
         },
         {
          "association": "NONE",
          "count": 1,
          "kind": "commits",
          "user": "willirath"
         },
         {
          "association": "NONE",
          "count": 1,
          "kind": "commits",
          "user": "xmnlab"
         },
         {
          "association": "red",
          "count": 47,
          "kind": "commits",
          "user": "yuvipanda"
         }
        ],
        "data-f531293a4cf5e91c6d4e6a9b217ae892": [
         {
          "association": "NONE",
          "count": 6,
          "kind": "comments",
          "user": "00Kai0"
         },
         {
          "association": "NONE",
          "count": 1,
          "kind": "comments",
          "user": "01100010011001010110010101110000"
         },
         {
          "association": "NONE",
          "count": 7,
          "kind": "comments",
          "user": "1kastner"
         },
         {
          "association": "NONE",
          "count": 1,
          "kind": "comments",
          "user": "AvivBes"
         },
         {
          "association": "NONE",
          "count": 2,
          "kind": "comments",
          "user": "BoPeng"
         },
         {
          "association": "NONE",
          "count": 2,
          "kind": "comments",
          "user": "Carreau"
         },
         {
          "association": "NONE",
          "count": 1,
          "kind": "comments",
          "user": "ChandaniM123"
         },
         {
          "association": "NONE",
          "count": 1,
          "kind": "comments",
          "user": "DSqiansun"
         },
         {
          "association": "NONE",
          "count": 5,
          "kind": "comments",
          "user": "GeorgianaElena"
         },
         {
          "association": "NONE",
          "count": 1,
          "kind": "comments",
          "user": "KVSSetty"
         },
         {
          "association": "NONE",
          "count": 1,
          "kind": "comments",
          "user": "LennertSchepers"
         },
         {
          "association": "blue",
          "count": 16,
          "kind": "comments",
          "user": "Zsailer"
         },
         {
          "association": "NONE",
          "count": 1,
          "kind": "comments",
          "user": "abdollahiazam"
         },
         {
          "association": "NONE",
          "count": 2,
          "kind": "comments",
          "user": "amanda-tan"
         },
         {
          "association": "NONE",
          "count": 6,
          "kind": "comments",
          "user": "anderl80"
         },
         {
          "association": "NONE",
          "count": 4,
          "kind": "comments",
          "user": "andrewjohnlowe"
         },
         {
          "association": "NONE",
          "count": 1,
          "kind": "comments",
          "user": "anton-khodak"
         },
         {
          "association": "NONE",
          "count": 2,
          "kind": "comments",
          "user": "arokem"
         },
         {
          "association": "NONE",
          "count": 1,
          "kind": "comments",
          "user": "awalther"
         },
         {
          "association": "red",
          "count": 69,
          "kind": "comments",
          "user": "betatim"
         },
         {
          "association": "NONE",
          "count": 4,
          "kind": "comments",
          "user": "bitnik"
         },
         {
          "association": "NONE",
          "count": 1,
          "kind": "comments",
          "user": "bjyxmas"
         },
         {
          "association": "NONE",
          "count": 1,
          "kind": "comments",
          "user": "cam72cam"
         },
         {
          "association": "NONE",
          "count": 1,
          "kind": "comments",
          "user": "canhtran"
         },
         {
          "association": "NONE",
          "count": 10,
          "kind": "comments",
          "user": "captainsafia"
         },
         {
          "association": "NONE",
          "count": 2,
          "kind": "comments",
          "user": "cboettig"
         },
         {
          "association": "red",
          "count": 96,
          "kind": "comments",
          "user": "choldgraf"
         },
         {
          "association": "NONE",
          "count": 1,
          "kind": "comments",
          "user": "chrisfilo"
         },
         {
          "association": "NONE",
          "count": 1,
          "kind": "comments",
          "user": "chrlunden"
         },
         {
          "association": "NONE",
          "count": 1,
          "kind": "comments",
          "user": "clancychilds"
         },
         {
          "association": "NONE",
          "count": 1,
          "kind": "comments",
          "user": "clkao"
         },
         {
          "association": "NONE",
          "count": 2,
          "kind": "comments",
          "user": "cmw2196"
         },
         {
          "association": "blue",
          "count": 58,
          "kind": "comments",
          "user": "consideRatio"
         },
         {
          "association": "NONE",
          "count": 1,
          "kind": "comments",
          "user": "d-diaz"
         },
         {
          "association": "NONE",
          "count": 1,
          "kind": "comments",
          "user": "dalssaso"
         },
         {
          "association": "NONE",
          "count": 1,
          "kind": "comments",
          "user": "danielchalef"
         },
         {
          "association": "NONE",
          "count": 1,
          "kind": "comments",
          "user": "danijel3"
         },
         {
          "association": "NONE",
          "count": 1,
          "kind": "comments",
          "user": "das-g"
         },
         {
          "association": "NONE",
          "count": 2,
          "kind": "comments",
          "user": "davidlowryduda"
         },
         {
          "association": "NONE",
          "count": 2,
          "kind": "comments",
          "user": "dhirschfeld"
         },
         {
          "association": "NONE",
          "count": 1,
          "kind": "comments",
          "user": "djgagne"
         },
         {
          "association": "NONE",
          "count": 2,
          "kind": "comments",
          "user": "dtaniwaki"
         },
         {
          "association": "NONE",
          "count": 3,
          "kind": "comments",
          "user": "farzadz"
         },
         {
          "association": "NONE",
          "count": 2,
          "kind": "comments",
          "user": "feriat"
         },
         {
          "association": "NONE",
          "count": 1,
          "kind": "comments",
          "user": "fmaussion"
         },
         {
          "association": "NONE",
          "count": 1,
          "kind": "comments",
          "user": "frafi82"
         },
         {
          "association": "NONE",
          "count": 1,
          "kind": "comments",
          "user": "giumas"
         },
         {
          "association": "NONE",
          "count": 2,
          "kind": "comments",
          "user": "greenkeeper[bot]"
         },
         {
          "association": "NONE",
          "count": 1,
          "kind": "comments",
          "user": "hhuuggoo"
         },
         {
          "association": "NONE",
          "count": 1,
          "kind": "comments",
          "user": "himswamy"
         },
         {
          "association": "NONE",
          "count": 10,
          "kind": "comments",
          "user": "hnykda"
         },
         {
          "association": "NONE",
          "count": 1,
          "kind": "comments",
          "user": "hoeller"
         },
         {
          "association": "NONE",
          "count": 1,
          "kind": "comments",
          "user": "ian-r-rose"
         },
         {
          "association": "NONE",
          "count": 2,
          "kind": "comments",
          "user": "ibre5041"
         },
         {
          "association": "NONE",
          "count": 1,
          "kind": "comments",
          "user": "isuruf"
         },
         {
          "association": "NONE",
          "count": 1,
          "kind": "comments",
          "user": "jamesmyatt"
         },
         {
          "association": "NONE",
          "count": 1,
          "kind": "comments",
          "user": "jedbrown"
         },
         {
          "association": "NONE",
          "count": 2,
          "kind": "comments",
          "user": "jflam"
         },
         {
          "association": "NONE",
          "count": 9,
          "kind": "comments",
          "user": "jhamman"
         },
         {
          "association": "NONE",
          "count": 1,
          "kind": "comments",
          "user": "jmatuskey"
         },
         {
          "association": "NONE",
          "count": 2,
          "kind": "comments",
          "user": "joshbode"
         },
         {
          "association": "NONE",
          "count": 1,
          "kind": "comments",
          "user": "jspc"
         },
         {
          "association": "NONE",
          "count": 1,
          "kind": "comments",
          "user": "justinmoon"
         },
         {
          "association": "red",
          "count": 1,
          "kind": "comments",
          "user": "jzf2101"
         },
         {
          "association": "NONE",
          "count": 1,
          "kind": "comments",
          "user": "kannes"
         },
         {
          "association": "NONE",
          "count": 1,
          "kind": "comments",
          "user": "kavemun"
         },
         {
          "association": "NONE",
          "count": 1,
          "kind": "comments",
          "user": "koen92"
         },
         {
          "association": "NONE",
          "count": 1,
          "kind": "comments",
          "user": "krishdey"
         },
         {
          "association": "NONE",
          "count": 3,
          "kind": "comments",
          "user": "laurensdv"
         },
         {
          "association": "NONE",
          "count": 2,
          "kind": "comments",
          "user": "lbiemans"
         },
         {
          "association": "NONE",
          "count": 13,
          "kind": "comments",
          "user": "leportella"
         },
         {
          "association": "blue",
          "count": 7,
          "kind": "comments",
          "user": "lheagy"
         },
         {
          "association": "NONE",
          "count": 4,
          "kind": "comments",
          "user": "ltetrel"
         },
         {
          "association": "NONE",
          "count": 20,
          "kind": "comments",
          "user": "manics"
         },
         {
          "association": "NONE",
          "count": 1,
          "kind": "comments",
          "user": "manish0749"
         },
         {
          "association": "NONE",
          "count": 1,
          "kind": "comments",
          "user": "manycoding"
         },
         {
          "association": "NONE",
          "count": 1,
          "kind": "comments",
          "user": "marinalopez2110"
         },
         {
          "association": "NONE",
          "count": 2,
          "kind": "comments",
          "user": "mathieuboudreau"
         },
         {
          "association": "NONE",
          "count": 1,
          "kind": "comments",
          "user": "mbobra"
         },
         {
          "association": "NONE",
          "count": 2,
          "kind": "comments",
          "user": "mdivk"
         },
         {
          "association": "NONE",
          "count": 1,
          "kind": "comments",
          "user": "mikanyman"
         },
         {
          "association": "lead",
          "count": 73,
          "kind": "comments",
          "user": "minrk"
         },
         {
          "association": "NONE",
          "count": 1,
          "kind": "comments",
          "user": "mkempenaar"
         },
         {
          "association": "NONE",
          "count": 1,
          "kind": "comments",
          "user": "mrakitin"
         },
         {
          "association": "NONE",
          "count": 1,
          "kind": "comments",
          "user": "nitinkansal1984"
         },
         {
          "association": "NONE",
          "count": 1,
          "kind": "comments",
          "user": "oscar6echo"
         },
         {
          "association": "NONE",
          "count": 1,
          "kind": "comments",
          "user": "palashSharma17"
         },
         {
          "association": "NONE",
          "count": 1,
          "kind": "comments",
          "user": "payalbhatia"
         },
         {
          "association": "NONE",
          "count": 3,
          "kind": "comments",
          "user": "pkumar8789"
         },
         {
          "association": "NONE",
          "count": 1,
          "kind": "comments",
          "user": "pratik-lal"
         },
         {
          "association": "NONE",
          "count": 7,
          "kind": "comments",
          "user": "psychemedia"
         },
         {
          "association": "NONE",
          "count": 14,
          "kind": "comments",
          "user": "rgbkrk"
         },
         {
          "association": "NONE",
          "count": 2,
          "kind": "comments",
          "user": "rkdarst"
         },
         {
          "association": "NONE",
          "count": 5,
          "kind": "comments",
          "user": "ryanlovett"
         },
         {
          "association": "NONE",
          "count": 3,
          "kind": "comments",
          "user": "saulshanabrook"
         },
         {
          "association": "NONE",
          "count": 1,
          "kind": "comments",
          "user": "sgibson91"
         },
         {
          "association": "NONE",
          "count": 2,
          "kind": "comments",
          "user": "signinred"
         },
         {
          "association": "NONE",
          "count": 2,
          "kind": "comments",
          "user": "skhadrao"
         },
         {
          "association": "NONE",
          "count": 2,
          "kind": "comments",
          "user": "slejdops"
         },
         {
          "association": "NONE",
          "count": 1,
          "kind": "comments",
          "user": "soerendip"
         },
         {
          "association": "NONE",
          "count": 5,
          "kind": "comments",
          "user": "stefansedich"
         },
         {
          "association": "NONE",
          "count": 2,
          "kind": "comments",
          "user": "stelford"
         },
         {
          "association": "NONE",
          "count": 1,
          "kind": "comments",
          "user": "tallamjr"
         },
         {
          "association": "NONE",
          "count": 1,
          "kind": "comments",
          "user": "terhorst"
         },
         {
          "association": "NONE",
          "count": 1,
          "kind": "comments",
          "user": "tkang007"
         },
         {
          "association": "NONE",
          "count": 1,
          "kind": "comments",
          "user": "tmshn"
         },
         {
          "association": "NONE",
          "count": 3,
          "kind": "comments",
          "user": "tregin"
         },
         {
          "association": "NONE",
          "count": 1,
          "kind": "comments",
          "user": "vKredGod"
         },
         {
          "association": "NONE",
          "count": 1,
          "kind": "comments",
          "user": "vilhelmen"
         },
         {
          "association": "NONE",
          "count": 1,
          "kind": "comments",
          "user": "vnijs"
         },
         {
          "association": "NONE",
          "count": 2,
          "kind": "comments",
          "user": "whositwhatnow"
         },
         {
          "association": "NONE",
          "count": 1,
          "kind": "comments",
          "user": "williamstein"
         },
         {
          "association": "red",
          "count": 12,
          "kind": "comments",
          "user": "willingc"
         },
         {
          "association": "NONE",
          "count": 2,
          "kind": "comments",
          "user": "willirath"
         },
         {
          "association": "NONE",
          "count": 10,
          "kind": "comments",
          "user": "xmnlab"
         },
         {
          "association": "NONE",
          "count": 1,
          "kind": "comments",
          "user": "xysong1201"
         },
         {
          "association": "NONE",
          "count": 2,
          "kind": "comments",
          "user": "yugushihuang"
         },
         {
          "association": "red",
          "count": 81,
          "kind": "comments",
          "user": "yuvipanda"
         },
         {
          "association": "NONE",
          "count": 2,
          "kind": "comments",
          "user": "zhengdayday"
         },
         {
          "association": "NONE",
          "count": 1,
          "kind": "comments",
          "user": "zhouanbo"
         }
        ]
       },
       "hconcat": [
        {
         "data": {
          "name": "data-f531293a4cf5e91c6d4e6a9b217ae892"
         },
         "encoding": {
          "color": {
           "field": "association",
           "scale": {
            "domain": [
             "red",
             "lead",
             "blue",
             "jupyterhub",
             "NONE"
            ],
            "range": [
             "#fdbaba",
             "#fdbaba",
             "#bac5fd",
             "#ffbb74",
             "green"
            ]
           },
           "type": "nominal"
          },
          "x": {
           "field": "count",
           "type": "quantitative"
          },
          "y": {
           "field": "user",
           "type": "nominal"
          }
         },
         "mark": "bar",
         "title": "Comments"
        },
        {
         "data": {
          "name": "data-165cd9830be8efc79704f40ebd018165"
         },
         "encoding": {
          "color": {
           "field": "association",
           "scale": {
            "domain": [
             "red",
             "lead",
             "blue",
             "jupyterhub",
             "NONE"
            ],
            "range": [
             "#fdbaba",
             "#fdbaba",
             "#bac5fd",
             "#ffbb74",
             "green"
            ]
           },
           "type": "nominal"
          },
          "x": {
           "field": "count",
           "type": "quantitative"
          },
          "y": {
           "field": "user",
           "type": "nominal"
          }
         },
         "mark": "bar",
         "title": "Commits"
        }
       ]
      },
      "text/plain": [
       "<VegaLite 2 object>\n",
       "\n",
       "If you see this message, it means the renderer has not been properly enabled\n",
       "for the frontend that you are using. For more information, see\n",
       "https://altair-viz.github.io/user_guide/troubleshooting.html\n"
      ]
     },
     "execution_count": 9,
     "metadata": {},
     "output_type": "execute_result"
    }
   ],
   "source": [
    "commits = alt.Chart(pltcommits, title=\"Commits\").mark_bar().encode(\n",
    "    x='count',\n",
    "    y='user',\n",
    "    color=alt.Color('association', scale=color_scale)\n",
    ")\n",
    "\n",
    "comments = alt.Chart(pltcomments, title=\"Comments\").mark_bar().encode(\n",
    "    x='count',\n",
    "    y='user',\n",
    "    color=alt.Color('association', scale=color_scale)\n",
    ")\n",
    "\n",
    "comments | commits"
   ]
  },
  {
   "cell_type": "markdown",
   "metadata": {
    "papermill": {
     "duration": 0.025238,
     "end_time": "2019-02-19T04:43:53.256571",
     "exception": false,
     "start_time": "2019-02-19T04:43:53.231333",
     "status": "completed"
    },
    "tags": []
   },
   "source": [
    "## Percentage commits and comments by user type"
   ]
  },
  {
   "cell_type": "code",
   "execution_count": 10,
   "metadata": {
    "jupyter": {
     "source_hidden": true
    },
    "papermill": {
     "duration": 0.049601,
     "end_time": "2019-02-19T04:43:53.330593",
     "exception": false,
     "start_time": "2019-02-19T04:43:53.280992",
     "status": "completed"
    },
    "tags": []
   },
   "outputs": [],
   "source": [
    "def to_percentage(data):\n",
    "    data = data / data.sum()\n",
    "    data.name = 'percent'\n",
    "    return data * 100\n",
    "\n",
    "totalcommits = to_percentage(pltcommits.groupby('association')['count'].sum()).reset_index()\n",
    "totalcommits['kind'] = \"commits\"\n",
    "totalcomments = to_percentage(pltcomments.groupby('association')['count'].sum()).reset_index()\n",
    "totalcomments['kind'] = \"comments\"\n",
    "totalboth = pd.concat([totalcomments, totalcommits])"
   ]
  },
  {
   "cell_type": "code",
   "execution_count": 11,
   "metadata": {
    "jupyter": {
     "source_hidden": true
    },
    "papermill": {
     "duration": 0.046809,
     "end_time": "2019-02-19T04:43:53.404928",
     "exception": false,
     "start_time": "2019-02-19T04:43:53.358119",
     "status": "completed"
    },
    "tags": []
   },
   "outputs": [
    {
     "data": {
      "application/vnd.vegalite.v2+json": {
       "$schema": "https://vega.github.io/schema/vega-lite/v2.6.0.json",
       "config": {
        "view": {
         "height": 300,
         "width": 400
        }
       },
       "data": {
        "name": "data-d8f80f40cc689a51de687dc8c296c935"
       },
       "datasets": {
        "data-d8f80f40cc689a51de687dc8c296c935": [
         {
          "association": "NONE",
          "kind": "comments",
          "percent": 39.44281524926686
         },
         {
          "association": "blue",
          "kind": "comments",
          "percent": 11.87683284457478
         },
         {
          "association": "lead",
          "kind": "comments",
          "percent": 10.703812316715542
         },
         {
          "association": "red",
          "kind": "comments",
          "percent": 37.976539589442815
         },
         {
          "association": "NONE",
          "kind": "commits",
          "percent": 28.57142857142857
         },
         {
          "association": "blue",
          "kind": "commits",
          "percent": 11.083743842364532
         },
         {
          "association": "lead",
          "kind": "commits",
          "percent": 25.862068965517242
         },
         {
          "association": "red",
          "kind": "commits",
          "percent": 34.48275862068966
         }
        ]
       },
       "encoding": {
        "color": {
         "field": "association",
         "scale": {
          "domain": [
           "red",
           "lead",
           "blue",
           "jupyterhub",
           "NONE"
          ],
          "range": [
           "#fdbaba",
           "#fdbaba",
           "#bac5fd",
           "#ffbb74",
           "green"
          ]
         },
         "type": "nominal"
        },
        "x": {
         "field": "percent",
         "type": "quantitative"
        },
        "y": {
         "field": "kind",
         "type": "nominal"
        }
       },
       "mark": "bar"
      },
      "text/plain": [
       "<VegaLite 2 object>\n",
       "\n",
       "If you see this message, it means the renderer has not been properly enabled\n",
       "for the frontend that you are using. For more information, see\n",
       "https://altair-viz.github.io/user_guide/troubleshooting.html\n"
      ]
     },
     "execution_count": 11,
     "metadata": {},
     "output_type": "execute_result"
    }
   ],
   "source": [
    "alt.Chart(totalboth).mark_bar().encode(\n",
    "    x='percent',\n",
    "    y='kind',\n",
    "    color=alt.Color('association', scale=color_scale)\n",
    ")"
   ]
  }
 ],
 "metadata": {
  "kernelspec": {
   "display_name": "Python 3",
   "language": "python",
   "name": "python3"
  },
  "language_info": {
   "codemirror_mode": {
    "name": "ipython",
    "version": 3
   },
   "file_extension": ".py",
   "mimetype": "text/x-python",
   "name": "python",
   "nbconvert_exporter": "python",
   "pygments_lexer": "ipython3",
   "version": "3.6.5"
  },
  "papermill": {
   "duration": 4.505035,
   "end_time": "2019-02-19T04:43:54.188072",
   "environment_variables": {},
   "exception": null,
   "input_path": "./templates/summary.ipynb",
   "output_path": "../reports/2019-01-19/summary.ipynb",
   "parameters": {
    "date": "2019-01-19"
   },
   "start_time": "2019-02-19T04:43:49.683037",
   "version": "0.18.0"
  }
 },
 "nbformat": 4,
 "nbformat_minor": 2
}