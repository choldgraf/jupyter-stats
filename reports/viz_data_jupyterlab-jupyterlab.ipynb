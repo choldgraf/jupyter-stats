{
 "cells": [
  {
   "cell_type": "markdown",
   "metadata": {
    "papermill": {
     "duration": 0.101376,
     "end_time": "2019-02-14T22:41:46.018133",
     "exception": false,
     "start_time": "2019-02-14T22:41:45.916757",
     "status": "completed"
    },
    "tags": []
   },
   "source": [
    "## Parameters"
   ]
  },
  {
   "cell_type": "code",
   "execution_count": 1,
   "metadata": {
    "papermill": {
     "duration": 0.062774,
     "end_time": "2019-02-14T22:41:46.114959",
     "exception": false,
     "start_time": "2019-02-14T22:41:46.052185",
     "status": "completed"
    },
    "tags": [
     "parameters"
    ]
   },
   "outputs": [],
   "source": [
    "org = 'jupyterhub'\n",
    "repo = 'jupyterhub'\n",
    "plot_N = 25  # Number of lines to add"
   ]
  },
  {
   "cell_type": "code",
   "execution_count": 2,
   "metadata": {
    "papermill": {
     "duration": 0.036825,
     "end_time": "2019-02-14T22:41:46.186768",
     "exception": false,
     "start_time": "2019-02-14T22:41:46.149943",
     "status": "completed"
    },
    "tags": [
     "injected-parameters"
    ]
   },
   "outputs": [],
   "source": [
    "# Parameters\n",
    "org = \"jupyterlab\"\n",
    "repo = \"jupyterlab\"\n",
    "plot_N = 20\n"
   ]
  },
  {
   "cell_type": "markdown",
   "metadata": {
    "papermill": {
     "duration": 0.03056,
     "end_time": "2019-02-14T22:41:46.247483",
     "exception": false,
     "start_time": "2019-02-14T22:41:46.216923",
     "status": "completed"
    },
    "tags": []
   },
   "source": [
    "## Functions"
   ]
  },
  {
   "cell_type": "code",
   "execution_count": 3,
   "metadata": {
    "papermill": {
     "duration": 0.063148,
     "end_time": "2019-02-14T22:41:46.345098",
     "exception": false,
     "start_time": "2019-02-14T22:41:46.281950",
     "status": "completed"
    },
    "tags": []
   },
   "outputs": [],
   "source": [
    "def selectable_line_plot(data, x, y, color, width=1000):\n",
    "\n",
    "    select = alt.selection(type='single', on='mouseover',\n",
    "                           fields=[color], nearest=True)\n",
    "\n",
    "    base = alt.Chart(data=data, width=width).encode(\n",
    "        x=alt.X(x, scale=alt.Scale(domain=[\"2016-01-01\", \"2019-02-01\"])),\n",
    "        y=y,\n",
    "        color=color,\n",
    "        tooltip=color,\n",
    "    )\n",
    "\n",
    "    points = base.mark_circle(clip=True).encode(\n",
    "        opacity=alt.value(0)\n",
    "    ).add_selection(select)\n",
    "\n",
    "\n",
    "    lines = base.mark_line(clip=True).encode(\n",
    "        size=alt.condition(~select, alt.value(1), alt.value(4)),\n",
    "        color=alt.condition(select, color, alt.value('lightgray'))\n",
    "    )\n",
    "\n",
    "    return points + lines"
   ]
  },
  {
   "cell_type": "markdown",
   "metadata": {
    "papermill": {
     "duration": 0.04269,
     "end_time": "2019-02-14T22:41:46.419801",
     "exception": false,
     "start_time": "2019-02-14T22:41:46.377111",
     "status": "completed"
    },
    "tags": []
   },
   "source": [
    "# Load data"
   ]
  },
  {
   "cell_type": "code",
   "execution_count": 4,
   "metadata": {
    "papermill": {
     "duration": 1.543485,
     "end_time": "2019-02-14T22:41:47.992027",
     "exception": false,
     "start_time": "2019-02-14T22:41:46.448542",
     "status": "completed"
    },
    "tags": []
   },
   "outputs": [],
   "source": [
    "import pandas as pd\n",
    "import seaborn as sns\n",
    "import altair as alt\n",
    "import numpy as np"
   ]
  },
  {
   "cell_type": "code",
   "execution_count": 5,
   "metadata": {
    "papermill": {
     "duration": 0.17122,
     "end_time": "2019-02-14T22:41:48.193764",
     "exception": false,
     "start_time": "2019-02-14T22:41:48.022544",
     "status": "completed"
    },
    "tags": []
   },
   "outputs": [],
   "source": [
    "# Read in data\n",
    "daily = pd.read_csv('../data/daily.csv', index_col=0)\n",
    "\n",
    "# Convert indices to date\n",
    "daily['date'] = pd.to_datetime(daily['date'])\n",
    "daily = daily.query('org == @org and repo == @repo').drop(['org', 'repo'], axis=1)\n",
    "daily = daily.replace(np.nan, 0)"
   ]
  },
  {
   "cell_type": "markdown",
   "metadata": {
    "papermill": {
     "duration": 0.036818,
     "end_time": "2019-02-14T22:41:48.260285",
     "exception": false,
     "start_time": "2019-02-14T22:41:48.223467",
     "status": "completed"
    },
    "tags": []
   },
   "source": [
    "# Features"
   ]
  },
  {
   "cell_type": "code",
   "execution_count": 6,
   "metadata": {
    "papermill": {
     "duration": 4.199295,
     "end_time": "2019-02-14T22:41:52.491021",
     "exception": false,
     "start_time": "2019-02-14T22:41:48.291726",
     "status": "completed"
    },
    "tags": []
   },
   "outputs": [],
   "source": [
    "weekly = daily.groupby('user').resample('W', on='date').sum().reset_index()\n",
    "weekly = weekly.query('commits != 0 or comments != 0')"
   ]
  },
  {
   "cell_type": "code",
   "execution_count": 7,
   "metadata": {
    "papermill": {
     "duration": 1.192534,
     "end_time": "2019-02-14T22:41:53.727486",
     "exception": false,
     "start_time": "2019-02-14T22:41:52.534952",
     "status": "completed"
    },
    "tags": []
   },
   "outputs": [],
   "source": [
    "# Rolling mean\n",
    "weekly = weekly.groupby(['user', 'date']).sum().reset_index().groupby('user').\\\n",
    "    rolling(2, on='date')['comments'].\\\n",
    "    mean().dropna().reset_index()"
   ]
  },
  {
   "cell_type": "code",
   "execution_count": 8,
   "metadata": {
    "papermill": {
     "duration": 0.07489,
     "end_time": "2019-02-14T22:41:53.845096",
     "exception": false,
     "start_time": "2019-02-14T22:41:53.770206",
     "status": "completed"
    },
    "tags": []
   },
   "outputs": [],
   "source": [
    "# Top N commentors over time\n",
    "top_N = weekly.groupby('user').sum()['comments'].sort_values(ascending=False)\n",
    "top_N = top_N.index[:plot_N]"
   ]
  },
  {
   "cell_type": "markdown",
   "metadata": {
    "papermill": {
     "duration": 0.067562,
     "end_time": "2019-02-14T22:41:53.952056",
     "exception": false,
     "start_time": "2019-02-14T22:41:53.884494",
     "status": "completed"
    },
    "tags": []
   },
   "source": [
    "# Plotting"
   ]
  },
  {
   "cell_type": "markdown",
   "metadata": {
    "papermill": {
     "duration": 0.046872,
     "end_time": "2019-02-14T22:41:54.059873",
     "exception": false,
     "start_time": "2019-02-14T22:41:54.013001",
     "status": "completed"
    },
    "tags": []
   },
   "source": [
    "## Weekly unique contributors"
   ]
  },
  {
   "cell_type": "code",
   "execution_count": 9,
   "metadata": {
    "papermill": {
     "duration": 0.079295,
     "end_time": "2019-02-14T22:41:54.178889",
     "exception": false,
     "start_time": "2019-02-14T22:41:54.099594",
     "status": "completed"
    },
    "tags": []
   },
   "outputs": [],
   "source": [
    "unique = weekly[['date', 'user']].copy()\n",
    "unique['user'] = unique['user'].map(lambda a: [a])\n",
    "unique = unique.groupby('date').sum()"
   ]
  },
  {
   "cell_type": "code",
   "execution_count": 10,
   "metadata": {
    "papermill": {
     "duration": 0.079261,
     "end_time": "2019-02-14T22:41:54.305514",
     "exception": false,
     "start_time": "2019-02-14T22:41:54.226253",
     "status": "completed"
    },
    "tags": []
   },
   "outputs": [],
   "source": [
    "all_users = set()\n",
    "nunique = {}\n",
    "for idate, ivals in unique.iterrows():\n",
    "    n_unique_current = len(all_users)\n",
    "    \n",
    "    all_users = all_users.union(ivals[0])\n",
    "    n_unique_new = len(all_users) - n_unique_current\n",
    "    nunique[idate] = n_unique_new\n",
    "unique['new_contributors'] = pd.Series(nunique).values"
   ]
  },
  {
   "cell_type": "code",
   "execution_count": 11,
   "metadata": {
    "papermill": {
     "duration": 0.04692,
     "end_time": "2019-02-14T22:41:54.385477",
     "exception": false,
     "start_time": "2019-02-14T22:41:54.338557",
     "status": "completed"
    },
    "tags": []
   },
   "outputs": [],
   "source": [
    "unique['cumulative'] = unique['new_contributors'].cumsum()"
   ]
  },
  {
   "cell_type": "code",
   "execution_count": 12,
   "metadata": {
    "papermill": {
     "duration": 0.195456,
     "end_time": "2019-02-14T22:41:54.643013",
     "exception": false,
     "start_time": "2019-02-14T22:41:54.447557",
     "status": "completed"
    },
    "tags": []
   },
   "outputs": [
    {
     "data": {
      "application/vnd.vegalite.v2+json": {
       "$schema": "https://vega.github.io/schema/vega-lite/v2.6.0.json",
       "config": {
        "view": {
         "height": 300,
         "width": 400
        }
       },
       "data": {
        "name": "data-5ccc039ffec28e4f04c3ed1d9c0fa4ac"
       },
       "datasets": {
        "data-5ccc039ffec28e4f04c3ed1d9c0fa4ac": [
         {
          "cumulative": 5,
          "date": "2016-06-19T00:00:00",
          "new_contributors": 5,
          "user": [
           "Carreau",
           "blink1073",
           "ellisonbg",
           "jasongrout",
           "sccolbert"
          ]
         },
         {
          "cumulative": 6,
          "date": "2016-06-26T00:00:00",
          "new_contributors": 1,
          "user": [
           "afshin",
           "blink1073",
           "ellisonbg",
           "jasongrout",
           "sccolbert"
          ]
         },
         {
          "cumulative": 6,
          "date": "2016-07-03T00:00:00",
          "new_contributors": 0,
          "user": [
           "ellisonbg"
          ]
         },
         {
          "cumulative": 6,
          "date": "2016-07-10T00:00:00",
          "new_contributors": 0,
          "user": [
           "ellisonbg"
          ]
         },
         {
          "cumulative": 6,
          "date": "2016-07-17T00:00:00",
          "new_contributors": 0,
          "user": [
           "ellisonbg"
          ]
         },
         {
          "cumulative": 6,
          "date": "2016-07-24T00:00:00",
          "new_contributors": 0,
          "user": [
           "ellisonbg"
          ]
         },
         {
          "cumulative": 6,
          "date": "2016-08-21T00:00:00",
          "new_contributors": 0,
          "user": [
           "ellisonbg"
          ]
         },
         {
          "cumulative": 6,
          "date": "2016-08-28T00:00:00",
          "new_contributors": 0,
          "user": [
           "ellisonbg"
          ]
         },
         {
          "cumulative": 6,
          "date": "2016-09-04T00:00:00",
          "new_contributors": 0,
          "user": [
           "ellisonbg"
          ]
         },
         {
          "cumulative": 6,
          "date": "2016-09-11T00:00:00",
          "new_contributors": 0,
          "user": [
           "ellisonbg"
          ]
         },
         {
          "cumulative": 6,
          "date": "2016-12-25T00:00:00",
          "new_contributors": 0,
          "user": [
           "ellisonbg"
          ]
         },
         {
          "cumulative": 6,
          "date": "2017-02-05T00:00:00",
          "new_contributors": 0,
          "user": [
           "ellisonbg"
          ]
         },
         {
          "cumulative": 6,
          "date": "2017-02-12T00:00:00",
          "new_contributors": 0,
          "user": [
           "ellisonbg"
          ]
         },
         {
          "cumulative": 6,
          "date": "2017-03-19T00:00:00",
          "new_contributors": 0,
          "user": [
           "ellisonbg"
          ]
         },
         {
          "cumulative": 6,
          "date": "2017-05-14T00:00:00",
          "new_contributors": 0,
          "user": [
           "ellisonbg"
          ]
         },
         {
          "cumulative": 6,
          "date": "2017-05-28T00:00:00",
          "new_contributors": 0,
          "user": [
           "ellisonbg"
          ]
         },
         {
          "cumulative": 6,
          "date": "2017-06-11T00:00:00",
          "new_contributors": 0,
          "user": [
           "ellisonbg"
          ]
         },
         {
          "cumulative": 6,
          "date": "2017-12-17T00:00:00",
          "new_contributors": 0,
          "user": [
           "blink1073",
           "ellisonbg"
          ]
         },
         {
          "cumulative": 10,
          "date": "2017-12-24T00:00:00",
          "new_contributors": 4,
          "user": [
           "afshin",
           "blink1073",
           "choldgraf",
           "ellisonbg",
           "ian-r-rose",
           "jasongrout",
           "rgbkrk",
           "sccolbert",
           "stonebig"
          ]
         },
         {
          "cumulative": 10,
          "date": "2017-12-31T00:00:00",
          "new_contributors": 0,
          "user": [
           "blink1073",
           "ellisonbg",
           "ian-r-rose",
           "jasongrout"
          ]
         },
         {
          "cumulative": 18,
          "date": "2018-01-07T00:00:00",
          "new_contributors": 8,
          "user": [
           "AbdealiJK",
           "Carreau",
           "ZelphirKaltstahl",
           "afshin",
           "blink1073",
           "choldgraf",
           "drscotthawley",
           "ellisonbg",
           "hainm",
           "ian-r-rose",
           "jasongrout",
           "jinh21",
           "jwkvam",
           "jzf2101",
           "rgbkrk",
           "stonebig",
           "vidartf"
          ]
         },
         {
          "cumulative": 24,
          "date": "2018-01-14T00:00:00",
          "new_contributors": 6,
          "user": [
           "SimonBiggs",
           "afshin",
           "blink1073",
           "davidrthorn",
           "ellisonbg",
           "ian-r-rose",
           "jasongrout",
           "jochym",
           "jwkvam",
           "jzf2101",
           "mrocklin",
           "rgbkrk",
           "stonebig",
           "vidartf",
           "willingc",
           "zertrin"
          ]
         },
         {
          "cumulative": 27,
          "date": "2018-01-21T00:00:00",
          "new_contributors": 3,
          "user": [
           "Carreau",
           "IamGianluca",
           "SimonBiggs",
           "afshin",
           "blink1073",
           "choldgraf",
           "davidrthorn",
           "dhirschfeld",
           "ellisonbg",
           "ian-r-rose",
           "jasongrout",
           "jochym",
           "jolespin",
           "jwkvam",
           "jzf2101",
           "rgbkrk",
           "stonebig",
           "vidartf",
           "willingc"
          ]
         },
         {
          "cumulative": 34,
          "date": "2018-01-28T00:00:00",
          "new_contributors": 7,
          "user": [
           "Carreau",
           "SimonBiggs",
           "afshin",
           "blink1073",
           "dalito",
           "davidrthorn",
           "dhirschfeld",
           "ellisonbg",
           "fperez",
           "gnestor",
           "ian-r-rose",
           "jamartinh",
           "jasongrout",
           "jinh21",
           "jochym",
           "joonro",
           "jzf2101",
           "minrk",
           "rgbkrk",
           "sccolbert",
           "timkpaine",
           "vidartf"
          ]
         },
         {
          "cumulative": 37,
          "date": "2018-02-04T00:00:00",
          "new_contributors": 3,
          "user": [
           "Carreau",
           "SimonBiggs",
           "ZelphirKaltstahl",
           "afshin",
           "apsknight",
           "blink1073",
           "bollwyvl",
           "choldgraf",
           "davidrthorn",
           "dhirschfeld",
           "ellisonbg",
           "fperez",
           "ian-r-rose",
           "jasongrout",
           "jochym",
           "jzf2101",
           "rgbkrk",
           "scottdraves",
           "timkpaine",
           "vidartf"
          ]
         },
         {
          "cumulative": 44,
          "date": "2018-02-11T00:00:00",
          "new_contributors": 7,
          "user": [
           "AbdealiJK",
           "Carreau",
           "SimonBiggs",
           "afshin",
           "blink1073",
           "choldgraf",
           "davidrthorn",
           "dbl001",
           "dhirschfeld",
           "ellisonbg",
           "fperez",
           "ian-r-rose",
           "jasongrout",
           "jochym",
           "jzf2101",
           "mangecoeur",
           "mgeier",
           "minrk",
           "mrocklin",
           "sccolbert",
           "scottdraves",
           "stefanv",
           "stsievert",
           "takluyver",
           "timkpaine",
           "vidartf",
           "willingc",
           "wolfv"
          ]
         },
         {
          "cumulative": 47,
          "date": "2018-02-18T00:00:00",
          "new_contributors": 3,
          "user": [
           "Carreau",
           "SylvainCorlay",
           "afshin",
           "blink1073",
           "dbl001",
           "dhirschfeld",
           "ellisonbg",
           "ian-r-rose",
           "jasongrout",
           "jzf2101",
           "rth",
           "tgeorgeux",
           "timkpaine",
           "vidartf"
          ]
         },
         {
          "cumulative": 56,
          "date": "2018-02-25T00:00:00",
          "new_contributors": 9,
          "user": [
           "Carreau",
           "Juanlu001",
           "Kyonru",
           "afshin",
           "apsknight",
           "blink1073",
           "brylie",
           "cancan101",
           "choldgraf",
           "declanvk",
           "dhirschfeld",
           "dlukes",
           "domoritz",
           "ellisonbg",
           "fperez",
           "grst",
           "ian-r-rose",
           "jasongrout",
           "jzf2101",
           "mgeier",
           "minrk",
           "mrocklin",
           "sccolbert",
           "sputnik62",
           "timkpaine",
           "vidartf"
          ]
         },
         {
          "cumulative": 76,
          "date": "2018-03-04T00:00:00",
          "new_contributors": 20,
          "user": [
           "Sorosliu1029",
           "SylvainCorlay",
           "Tyriar",
           "afshin",
           "akhmerov",
           "billgreenwald",
           "blink1073",
           "bubthegreat",
           "choldgraf",
           "cmprince",
           "dbk123",
           "declanvk",
           "dhirschfeld",
           "domoritz",
           "drunkwcodes",
           "ellisonbg",
           "gnestor",
           "ian-r-rose",
           "jasongrout",
           "jfbercher",
           "jolespin",
           "joshjob42",
           "jtpio",
           "jzf2101",
           "lutzroeder",
           "mangecoeur",
           "mehd-io",
           "mpacer",
           "pgensler",
           "rgbkrk",
           "saulshanabrook",
           "scottdraves",
           "sirotenko",
           "stsievert",
           "tam203",
           "timkpaine",
           "vidartf",
           "wvict",
           "xiaoweiz"
          ]
         },
         {
          "cumulative": 94,
          "date": "2018-03-11T00:00:00",
          "new_contributors": 18,
          "user": [
           "ConorSheehan1",
           "MaxSchambach",
           "SimonEnsemble",
           "TariqAHassan",
           "akshay-raj-dhamija",
           "ashimb9",
           "betatim",
           "billgreenwald",
           "blink1073",
           "brylie",
           "bubthegreat",
           "cancan101",
           "damianavila",
           "davidanthoff",
           "dbk123",
           "dhirschfeld",
           "dlukes",
           "domoritz",
           "ellisonbg",
           "flying-sheep",
           "gnestor",
           "ian-r-rose",
           "jasongrout",
           "joonro",
           "josesho",
           "jtpio",
           "jzf2101",
           "klonuo",
           "mdagost",
           "mgeier",
           "mpacer",
           "pharrellyhy",
           "r-luo",
           "ralexx",
           "rgbkrk",
           "saulshanabrook",
           "sccolbert",
           "scottdraves",
           "tgeorgeux",
           "timkpaine",
           "ulfaslak",
           "vidartf",
           "willingc",
           "yuvipanda",
           "zertrin"
          ]
         },
         {
          "cumulative": 112,
          "date": "2018-03-18T00:00:00",
          "new_contributors": 18,
          "user": [
           "BoPeng",
           "SimonBiggs",
           "SylvainCorlay",
           "afshin",
           "aldanor",
           "arnaudmiribel",
           "benlindsay",
           "billgreenwald",
           "blink1073",
           "bollwyvl",
           "cancan101",
           "cmprince",
           "consideRatio",
           "danielballan",
           "davidrthorn",
           "dhirschfeld",
           "dnelson86",
           "ellisonbg",
           "gnestor",
           "hamlet82",
           "ian-r-rose",
           "ianabc",
           "jacobtomlinson",
           "jasongrout",
           "jcb91",
           "jfbercher",
           "jgosmann",
           "jonmmease",
           "jtpio",
           "jzf2101",
           "kuchaale",
           "rgbkrk",
           "ruffsl",
           "saulshanabrook",
           "sccolbert",
           "sho-87",
           "tgeorgeux",
           "timhoffm",
           "timkpaine",
           "vidartf",
           "zonca"
          ]
         },
         {
          "cumulative": 117,
          "date": "2018-03-25T00:00:00",
          "new_contributors": 5,
          "user": [
           "AbdealiJK",
           "BoPeng",
           "SquidLord",
           "aldanor",
           "andybrnr",
           "arnaudmiribel",
           "blink1073",
           "bollwyvl",
           "cancan101",
           "choldgraf",
           "dalito",
           "davidrthorn",
           "domoritz",
           "ellisonbg",
           "gnestor",
           "hainm",
           "ian-r-rose",
           "ianabc",
           "idoDavid",
           "jacobtomlinson",
           "jasongrout",
           "jcb91",
           "jwkvam",
           "jzf2101",
           "louis-red",
           "mangecoeur",
           "ogrisel",
           "saulshanabrook",
           "sccolbert",
           "stsievert",
           "tgeorgeux",
           "timkpaine",
           "vidartf"
          ]
         },
         {
          "cumulative": 127,
          "date": "2018-04-01T00:00:00",
          "new_contributors": 10,
          "user": [
           "AbdealiJK",
           "Carreau",
           "SimonBiggs",
           "afshin",
           "allenyllee",
           "alok",
           "apcamargo",
           "bollwyvl",
           "consideRatio",
           "davidrthorn",
           "dkoes",
           "ellisonbg",
           "gnestor",
           "haberdashPI",
           "ian-r-rose",
           "jacobtomlinson",
           "jakirkham",
           "jasongrout",
           "jgosmann",
           "jzf2101",
           "ktuluv",
           "louis-red",
           "mflevine",
           "minrk",
           "mocquin",
           "pgierz",
           "rgbkrk",
           "saulshanabrook",
           "sccolbert",
           "stsievert",
           "tgeorgeux",
           "timhoffm",
           "vidartf"
          ]
         },
         {
          "cumulative": 133,
          "date": "2018-04-08T00:00:00",
          "new_contributors": 6,
          "user": [
           "BoPeng",
           "Carreau",
           "SimonBiggs",
           "akhmerov",
           "billgreenwald",
           "choldgraf",
           "consideRatio",
           "dhirschfeld",
           "ellisonbg",
           "garu57",
           "gnestor",
           "ian-r-rose",
           "ianabc",
           "jacobtomlinson",
           "jasongrout",
           "jhgoebbert",
           "jtpio",
           "jwkvam",
           "jzf2101",
           "maartenbreddels",
           "madx",
           "mdeff",
           "mgeier",
           "minrk",
           "saulshanabrook",
           "scottdraves",
           "siryog90",
           "vidartf"
          ]
         },
         {
          "cumulative": 138,
          "date": "2018-04-15T00:00:00",
          "new_contributors": 5,
          "user": [
           "BoPeng",
           "SimonBiggs",
           "agoose77",
           "benlindsay",
           "betteridiot",
           "blink1073",
           "brylie",
           "choldgraf",
           "consideRatio",
           "dhirschfeld",
           "dlukes",
           "domoritz",
           "ellisonbg",
           "gnestor",
           "gsemet",
           "ian-r-rose",
           "jakevdp",
           "jasongrout",
           "jzf2101",
           "mflevine",
           "saulshanabrook",
           "sccolbert",
           "scottdraves",
           "tgeorgeux",
           "timkpaine",
           "vidartf",
           "waio1990"
          ]
         },
         {
          "cumulative": 143,
          "date": "2018-04-22T00:00:00",
          "new_contributors": 5,
          "user": [
           "BoPeng",
           "Carreau",
           "JoshuaC3",
           "SimonBiggs",
           "afonit",
           "bollwyvl",
           "dhirschfeld",
           "ellisonbg",
           "flying-sheep",
           "fperez",
           "gnestor",
           "ian-r-rose",
           "jasongrout",
           "jonmmease",
           "jtpio",
           "jwkvam",
           "jzf2101",
           "klonuo",
           "mangecoeur",
           "palewire",
           "saulshanabrook",
           "sccolbert",
           "scottdraves",
           "thomasaarholt",
           "timkpaine",
           "tonyfast",
           "vidartf"
          ]
         },
         {
          "cumulative": 151,
          "date": "2018-04-29T00:00:00",
          "new_contributors": 8,
          "user": [
           "BoPeng",
           "SimonBiggs",
           "TiemenSch",
           "afonit",
           "arinbasu",
           "blink1073",
           "bollwyvl",
           "ccordoba12",
           "cemulate",
           "clkao",
           "cyberwillis",
           "dhirschfeld",
           "echarles",
           "ellisonbg",
           "gnestor",
           "ian-r-rose",
           "jasongrout",
           "jwkvam",
           "jzf2101",
           "meeseeksdev[bot]",
           "saulshanabrook",
           "sccolbert",
           "timkpaine",
           "vidartf"
          ]
         },
         {
          "cumulative": 156,
          "date": "2018-05-06T00:00:00",
          "new_contributors": 5,
          "user": [
           "BoPeng",
           "JoshuaC3",
           "SimonBiggs",
           "TariqAHassan",
           "akhmerov",
           "benlindsay",
           "blink1073",
           "bollwyvl",
           "cancan101",
           "consideRatio",
           "cyberwillis",
           "dhirschfeld",
           "domoritz",
           "dopplershift",
           "ellisonbg",
           "fperez",
           "garu57",
           "gnestor",
           "ian-r-rose",
           "jakevdp",
           "jakirkham",
           "jasongrout",
           "jtpio",
           "jzf2101",
           "lucfr",
           "mimischi",
           "rgbkrk",
           "roman-kh",
           "saulshanabrook",
           "sccolbert",
           "scottdraves",
           "stonebig",
           "telamonian",
           "tgeorgeux",
           "vidartf"
          ]
         },
         {
          "cumulative": 160,
          "date": "2018-05-13T00:00:00",
          "new_contributors": 4,
          "user": [
           "BoPeng",
           "Carreau",
           "aavanian",
           "afshin",
           "blink1073",
           "ccordoba12",
           "choldgraf",
           "davidefiocco",
           "dhirschfeld",
           "echarles",
           "ellisonbg",
           "fm75",
           "gnestor",
           "ian-r-rose",
           "jakirkham",
           "jasongrout",
           "jcb91",
           "omegahh",
           "palewire",
           "rgbkrk",
           "saulshanabrook",
           "sccolbert",
           "scottdraves",
           "stsievert",
           "timkpaine",
           "vidartf"
          ]
         },
         {
          "cumulative": 167,
          "date": "2018-05-20T00:00:00",
          "new_contributors": 7,
          "user": [
           "BoPeng",
           "SimonBiggs",
           "TariqAHassan",
           "afshin",
           "brylie",
           "cancan101",
           "choldgraf",
           "consideRatio",
           "dmitriy-serdyuk",
           "dsblank",
           "echarles",
           "ellisonbg",
           "groutr",
           "ian-r-rose",
           "jakirkham",
           "jasongrout",
           "joelostblom",
           "jzf2101",
           "madx",
           "mikeyford",
           "mimischi",
           "saulshanabrook",
           "sccolbert",
           "sho-87",
           "siryog90",
           "telamonian",
           "tgeorgeux",
           "timkpaine",
           "tobinjones",
           "vidartf",
           "zuoxingdong"
          ]
         },
         {
          "cumulative": 176,
          "date": "2018-05-27T00:00:00",
          "new_contributors": 9,
          "user": [
           "Almenon",
           "BoPeng",
           "DaymondLing",
           "TariqAHassan",
           "TiemenSch",
           "aavanian",
           "afshin",
           "akhmerov",
           "benbovy",
           "blink1073",
           "bollwyvl",
           "ccordoba12",
           "choldgraf",
           "domoritz",
           "dsblank",
           "ellisonbg",
           "gnestor",
           "gsemet",
           "ian-r-rose",
           "jakevdp",
           "jamestwebber",
           "jasongrout",
           "jirivrany",
           "jzf2101",
           "kazuar",
           "lgautier",
           "rgbkrk",
           "saulshanabrook",
           "siryog90",
           "tbenschop",
           "timkpaine",
           "vidartf",
           "zkghost"
          ]
         },
         {
          "cumulative": 182,
          "date": "2018-06-03T00:00:00",
          "new_contributors": 6,
          "user": [
           "Madhu94",
           "arinbasu",
           "bollwyvl",
           "ckbhatt",
           "dansteingart",
           "dhirschfeld",
           "domoritz",
           "gnestor",
           "harpone",
           "ian-r-rose",
           "ivanov",
           "jakirkham",
           "jasongrout",
           "jirivrany",
           "maartenbreddels",
           "meeseeksdev[bot]",
           "mflevine",
           "saulshanabrook",
           "stefanv",
           "thwee-alchemist",
           "timkpaine",
           "vidartf"
          ]
         },
         {
          "cumulative": 191,
          "date": "2018-06-10T00:00:00",
          "new_contributors": 9,
          "user": [
           "AlbertHilb",
           "BoPeng",
           "TiemenSch",
           "afshin",
           "aldanor",
           "annazhelt",
           "bollwyvl",
           "davidanthoff",
           "domoritz",
           "ellisonbg",
           "fonnesbeck",
           "hadim",
           "ian-r-rose",
           "ivanov",
           "jasongrout",
           "jzf2101",
           "kazuar",
           "krassowski",
           "mkery",
           "pya",
           "saulshanabrook",
           "stefanv",
           "timkpaine",
           "vidartf",
           "yoshikiohshima",
           "zieherf"
          ]
         },
         {
          "cumulative": 198,
          "date": "2018-06-17T00:00:00",
          "new_contributors": 7,
          "user": [
           "AlbertHilb",
           "BoPeng",
           "Honghe",
           "SimonBiggs",
           "afshin",
           "aldanor",
           "asishm",
           "bollwyvl",
           "choldgraf",
           "dhirschfeld",
           "domoritz",
           "fonnesbeck",
           "fuglede",
           "gnestor",
           "ian-r-rose",
           "jakirkham",
           "jasongrout",
           "joelostblom",
           "jtpio",
           "juliandolby",
           "jzf2101",
           "kazuar",
           "krassowski",
           "lstodd",
           "lukeolson13",
           "pya",
           "saulshanabrook",
           "scottdraves",
           "sid-kap",
           "thwee-alchemist",
           "vidartf",
           "willingc"
          ]
         },
         {
          "cumulative": 201,
          "date": "2018-06-24T00:00:00",
          "new_contributors": 3,
          "user": [
           "AlbertHilb",
           "Carreau",
           "Madhu94",
           "afshin",
           "akhmerov",
           "arogozhnikov",
           "billgreenwald",
           "bollwyvl",
           "ccordoba12",
           "cyberwillis",
           "dalito",
           "dhirschfeld",
           "flekschas",
           "fonnesbeck",
           "gnestor",
           "ian-r-rose",
           "jasongrout",
           "juliandolby",
           "jzf2101",
           "kcramer",
           "saulshanabrook",
           "tbenschop",
           "timkpaine",
           "vidartf",
           "zertrin"
          ]
         },
         {
          "cumulative": 208,
          "date": "2018-07-01T00:00:00",
          "new_contributors": 7,
          "user": [
           "AlbertHilb",
           "BoPeng",
           "SimonBiggs",
           "aditsanghvi94",
           "afshin",
           "akhmerov",
           "blink1073",
           "bollwyvl",
           "choldgraf",
           "dclong",
           "dhirschfeld",
           "domoritz",
           "dsblank",
           "ellisonbg",
           "groutr",
           "h4gen",
           "ian-r-rose",
           "isalirezag",
           "jasongrout",
           "jirivrany",
           "joelostblom",
           "joonro",
           "jzf2101",
           "marberi",
           "moble",
           "richagadgil",
           "saulshanabrook",
           "vidartf"
          ]
         },
         {
          "cumulative": 211,
          "date": "2018-07-08T00:00:00",
          "new_contributors": 3,
          "user": [
           "AlbertHilb",
           "Bamieh",
           "BoPeng",
           "afshin",
           "blink1073",
           "bollwyvl",
           "carlthome",
           "choldgraf",
           "dhirschfeld",
           "ellisonbg",
           "gnestor",
           "hadim",
           "hainm",
           "holdenweb",
           "ian-r-rose",
           "jasongrout",
           "jirivrany",
           "jtpio",
           "jwkvam",
           "kcramer",
           "mgeier",
           "saulshanabrook",
           "tbenschop",
           "vidartf"
          ]
         },
         {
          "cumulative": 219,
          "date": "2018-07-15T00:00:00",
          "new_contributors": 8,
          "user": [
           "BoPeng",
           "MMesch",
           "NilsRethmeier",
           "Will-So",
           "afshin",
           "biermeester",
           "blink1073",
           "bollwyvl",
           "chappers",
           "dclong",
           "dhirschfeld",
           "domoritz",
           "dsblank",
           "ellisonbg",
           "ian-r-rose",
           "idoDavid",
           "ivanov",
           "jasongrout",
           "jennalandy",
           "mocquin",
           "richagadgil",
           "saulshanabrook",
           "t-makaro",
           "tgeorgeux",
           "thewtex"
          ]
         },
         {
          "cumulative": 224,
          "date": "2018-07-22T00:00:00",
          "new_contributors": 5,
          "user": [
           "AD0791",
           "BoPeng",
           "SimonBiggs",
           "afshin",
           "akhmerov",
           "aquirdTurtle",
           "blink1073",
           "bollwyvl",
           "concretevitamin",
           "danielballan",
           "declanvk",
           "dhirschfeld",
           "dsblank",
           "ellisonbg",
           "gnestor",
           "grst",
           "hadim",
           "ian-r-rose",
           "idoDavid",
           "jasongrout",
           "jowagner",
           "jtpio",
           "lgautier",
           "mimischi",
           "minrk",
           "moble",
           "mrocklin",
           "saulshanabrook",
           "siryog90",
           "thomasaarholt",
           "timkpaine",
           "uzi0espil",
           "vidartf"
          ]
         },
         {
          "cumulative": 233,
          "date": "2018-07-29T00:00:00",
          "new_contributors": 9,
          "user": [
           "afshin",
           "biermeester",
           "blink1073",
           "bollwyvl",
           "cocoaaa",
           "david-a-wheeler",
           "dclong",
           "dhirschfeld",
           "dsblank",
           "ellisonbg",
           "fcollonval",
           "gnestor",
           "goerz",
           "horsto",
           "ian-r-rose",
           "idoDavid",
           "jasongrout",
           "jennalandy",
           "jolespin",
           "josesho",
           "jtpio",
           "kcramer",
           "kdheepak",
           "lstodd",
           "minexew",
           "ruslanrf",
           "ryantam626",
           "saulshanabrook",
           "stonebig",
           "telamonian",
           "thomasaarholt"
          ]
         },
         {
          "cumulative": 237,
          "date": "2018-08-05T00:00:00",
          "new_contributors": 4,
          "user": [
           "BoPeng",
           "SimonBiggs",
           "SylvainCorlay",
           "aditsanghvi94",
           "afonit",
           "afshin",
           "akhmerov",
           "asford",
           "biermeester",
           "blink1073",
           "bollwyvl",
           "davidbrochart",
           "dclong",
           "dhirschfeld",
           "ellisonbg",
           "fcollonval",
           "fomightez",
           "gnestor",
           "grst",
           "hadim",
           "ian-r-rose",
           "idoDavid",
           "jasongrout",
           "krinsman",
           "meeseeksdev[bot]",
           "mimischi",
           "palewire",
           "richagadgil",
           "ruslanrf",
           "saulshanabrook",
           "siryog90",
           "t-makaro",
           "thomasaarholt",
           "thwee-alchemist",
           "timkpaine",
           "vidartf"
          ]
         },
         {
          "cumulative": 244,
          "date": "2018-08-12T00:00:00",
          "new_contributors": 7,
          "user": [
           "BoPeng",
           "Carreau",
           "SimonBiggs",
           "SylvainCorlay",
           "TK-21st",
           "biermeester",
           "blink1073",
           "bollwyvl",
           "ccordoba12",
           "dclong",
           "debjan",
           "dhirschfeld",
           "ellisonbg",
           "fcollonval",
           "ian-r-rose",
           "jasongrout",
           "joonro",
           "jraviotta",
           "krinsman",
           "liffiton",
           "meeseeksdev[bot]",
           "mocquin",
           "mprogram",
           "mwcraig",
           "palewire",
           "rgbkrk",
           "richagadgil",
           "rickhg12hs",
           "saulshanabrook",
           "t-makaro",
           "telamonian",
           "tgeorgeux",
           "timkpaine",
           "vidartf",
           "willingc"
          ]
         },
         {
          "cumulative": 247,
          "date": "2018-08-19T00:00:00",
          "new_contributors": 3,
          "user": [
           "BoPeng",
           "Carreau",
           "SimonBiggs",
           "aavanian",
           "aeksco",
           "afshin",
           "asford",
           "biermeester",
           "blink1073",
           "bollwyvl",
           "domoritz",
           "echarles",
           "ellisonbg",
           "fcollonval",
           "fm75",
           "gnestor",
           "ian-r-rose",
           "neighthan",
           "rgbkrk",
           "richagadgil",
           "sappjw",
           "saulshanabrook",
           "stonebig",
           "telamonian",
           "tgeorgeux",
           "thwee-alchemist",
           "vidartf",
           "willingc"
          ]
         },
         {
          "cumulative": 250,
          "date": "2018-08-26T00:00:00",
          "new_contributors": 3,
          "user": [
           "alexandercbooth",
           "aquirdTurtle",
           "biermeester",
           "blink1073",
           "bollwyvl",
           "dharmaquark",
           "dhirschfeld",
           "ellisonbg",
           "fcollonval",
           "fm75",
           "gnestor",
           "ian-r-rose",
           "jamesmyatt",
           "jasongrout",
           "jzf2101",
           "rgbkrk",
           "rickhg12hs",
           "sappjw",
           "saulshanabrook",
           "sccolbert",
           "stonebig",
           "t-makaro",
           "telamonian",
           "timkpaine",
           "vidartf"
          ]
         },
         {
          "cumulative": 258,
          "date": "2018-09-02T00:00:00",
          "new_contributors": 8,
          "user": [
           "MichaelVasseurBE",
           "QuentinAndre",
           "ThatAIGeek",
           "aquirdTurtle",
           "biermeester",
           "bklaas",
           "blink1073",
           "bollwyvl",
           "cocoaaa",
           "consideRatio",
           "dharmaquark",
           "dhirschfeld",
           "drmeister",
           "ellisonbg",
           "fcollonval",
           "fm75",
           "fperez",
           "harpone",
           "ian-r-rose",
           "ivanov",
           "jasongrout",
           "leonsp",
           "maartenbreddels",
           "minrk",
           "pluviosilla",
           "pybokeh",
           "rickhg12hs",
           "ruslanrf",
           "saulshanabrook",
           "t-makaro",
           "timkpaine",
           "vidartf"
          ]
         },
         {
          "cumulative": 262,
          "date": "2018-09-09T00:00:00",
          "new_contributors": 4,
          "user": [
           "BoPeng",
           "JarnoRFB",
           "afonit",
           "akhmerov",
           "apsknight",
           "benfischer1",
           "bicycle1885",
           "blink1073",
           "bollwyvl",
           "clkao",
           "consideRatio",
           "dharmaquark",
           "dhirschfeld",
           "dsblank",
           "ellisonbg",
           "fcollonval",
           "gnestor",
           "grst",
           "ian-r-rose",
           "jasongrout",
           "jzf2101",
           "mgeier",
           "minrk",
           "mprogram",
           "mrocklin",
           "saulshanabrook",
           "t-makaro",
           "timhoffm",
           "vidartf",
           "xappppp"
          ]
         },
         {
          "cumulative": 269,
          "date": "2018-09-16T00:00:00",
          "new_contributors": 7,
          "user": [
           "SimonBiggs",
           "SylvainCorlay",
           "afshin",
           "basnijholt",
           "biermeester",
           "billgreenwald",
           "blink1073",
           "clkao",
           "consideRatio",
           "ctivanovich",
           "davidbrochart",
           "dclong",
           "dhirschfeld",
           "dsblank",
           "ellisonbg",
           "fm75",
           "gkvoelkl",
           "gnestor",
           "ian-r-rose",
           "ivanov",
           "jasongrout",
           "jtpio",
           "leogout",
           "liffiton",
           "louis-red",
           "mangecoeur",
           "mgeier",
           "minrk",
           "oscar6echo",
           "pgensler",
           "saulshanabrook",
           "t-makaro",
           "tgeorgeux",
           "vadimkantorov",
           "vidartf",
           "w-hc",
           "xappppp"
          ]
         },
         {
          "cumulative": 275,
          "date": "2018-09-23T00:00:00",
          "new_contributors": 6,
          "user": [
           "AlbertHilb",
           "Anton-Velikodnyy",
           "DavidPowell",
           "afshin",
           "aquirdTurtle",
           "blink1073",
           "bollwyvl",
           "breckuh",
           "davidanthoff",
           "dhirschfeld",
           "djangoliv",
           "domoritz",
           "dsblank",
           "elgalu",
           "ellisonbg",
           "gnestor",
           "ian-r-rose",
           "ivanov",
           "jasongrout",
           "kenjioman",
           "mgeier",
           "mimischi",
           "minrk",
           "saulshanabrook",
           "tgeorgeux",
           "vidartf"
          ]
         },
         {
          "cumulative": 283,
          "date": "2018-09-30T00:00:00",
          "new_contributors": 8,
          "user": [
           "Carreau",
           "JiaweiZhuang",
           "SamKacer",
           "SimonBiggs",
           "Songyu-Wang",
           "afshin",
           "agoose77",
           "blink1073",
           "ccordoba12",
           "concretevitamin",
           "denised",
           "dharmaquark",
           "dhirschfeld",
           "double-u-a",
           "ellisonbg",
           "fuglede",
           "futurist",
           "ian-r-rose",
           "jasongrout",
           "jtpio",
           "jzf2101",
           "krinsman",
           "leogout",
           "meeseeksdev[bot]",
           "minrk",
           "rgbkrk",
           "saulshanabrook",
           "skane88",
           "tgeorgeux",
           "thewtex",
           "thongnnguyen",
           "vidartf"
          ]
         },
         {
          "cumulative": 290,
          "date": "2018-10-07T00:00:00",
          "new_contributors": 7,
          "user": [
           "AlbertHilb",
           "Carreau",
           "Juanlu001",
           "QuentinAndre",
           "SylvainCorlay",
           "SynapticSage",
           "Tyriar",
           "afshin",
           "bikashdube",
           "bingws",
           "blink1073",
           "bollwyvl",
           "ccordoba12",
           "dhirschfeld",
           "ellisonbg",
           "ian-r-rose",
           "ivanov",
           "jasongrout",
           "johnmarktaylor91",
           "jtpio",
           "minrk",
           "reevejd",
           "robyww",
           "ruslanrf",
           "saulshanabrook",
           "telamonian",
           "tgeorgeux",
           "vidartf",
           "xappppp",
           "ying1"
          ]
         },
         {
          "cumulative": 293,
          "date": "2018-10-14T00:00:00",
          "new_contributors": 3,
          "user": [
           "OliverEvans96",
           "blink1073",
           "bollwyvl",
           "dclong",
           "dharmaquark",
           "dhirschfeld",
           "ellisonbg",
           "eoinmurray",
           "futurist",
           "ian-r-rose",
           "jasongrout",
           "meeseeksdev[bot]",
           "michaelaye",
           "reevejd",
           "ruslanrf",
           "saulshanabrook",
           "tgeorgeux",
           "timhoffm",
           "timkpaine",
           "vidartf"
          ]
         },
         {
          "cumulative": 295,
          "date": "2018-10-21T00:00:00",
          "new_contributors": 2,
          "user": [
           "Carreau",
           "apsknight",
           "blink1073",
           "bollwyvl",
           "dclong",
           "dhirschfeld",
           "dsblank",
           "ellisonbg",
           "eoinmurray",
           "fm75",
           "gboeing",
           "gnestor",
           "ian-r-rose",
           "jasongrout",
           "jtpio",
           "kenjioman",
           "klonuo",
           "meeseeksdev[bot]",
           "pdeffebach",
           "saulshanabrook",
           "t-makaro",
           "tgeorgeux",
           "timkpaine",
           "vidartf"
          ]
         },
         {
          "cumulative": 303,
          "date": "2018-10-28T00:00:00",
          "new_contributors": 8,
          "user": [
           "Carreau",
           "afshin",
           "blink1073",
           "bollwyvl",
           "clkao",
           "commandlinegirl",
           "dclong",
           "dhirschfeld",
           "echarles",
           "ellisonbg",
           "eoinmurray",
           "futurist",
           "gnestor",
           "gsemet",
           "i-am-am",
           "ian-r-rose",
           "jasongrout",
           "jennalandy",
           "mabayona",
           "mrinalraghupathi",
           "pdeffebach",
           "perrinjerome",
           "sarahefcarroll",
           "saulshanabrook",
           "schlichtanders",
           "sivakar12",
           "t-makaro",
           "timkpaine",
           "vidartf",
           "ying1"
          ]
         },
         {
          "cumulative": 305,
          "date": "2018-11-04T00:00:00",
          "new_contributors": 2,
          "user": [
           "AlbertHilb",
           "BoPeng",
           "Madhu94",
           "SylvainCorlay",
           "Tyriar",
           "afshin",
           "askerry",
           "betteridiot",
           "bingws",
           "blink1073",
           "bobmayuze",
           "bollwyvl",
           "dhirschfeld",
           "ellisonbg",
           "eoinmurray",
           "fonnesbeck",
           "fperez",
           "gnestor",
           "hadim",
           "ian-r-rose",
           "jasongrout",
           "jonmmease",
           "krassowski",
           "meeseeksdev[bot]",
           "mgeier",
           "pdeffebach",
           "perrinjerome",
           "tgeorgeux",
           "vidartf"
          ]
         },
         {
          "cumulative": 312,
          "date": "2018-11-11T00:00:00",
          "new_contributors": 7,
          "user": [
           "18428",
           "AlbertHilb",
           "Carreau",
           "JanVargovsky",
           "Madhu94",
           "akhmerov",
           "amueller",
           "bingws",
           "blink1073",
           "bollwyvl",
           "clkao",
           "dhirschfeld",
           "dlukes",
           "futurist",
           "gdlmx",
           "gnestor",
           "hadim",
           "hougrammer",
           "i-am-am",
           "ian-r-rose",
           "jasongrout",
           "jolespin",
           "jtpio",
           "krassowski",
           "madx",
           "manuel-ruiz-23",
           "meeseeksdev[bot]",
           "richagadgil",
           "saulshanabrook",
           "stefanv",
           "stonebig",
           "t-makaro",
           "tgeorgeux",
           "vidartf",
           "wesm"
          ]
         },
         {
          "cumulative": 318,
          "date": "2018-11-18T00:00:00",
          "new_contributors": 6,
          "user": [
           "BoPeng",
           "JosephBlackWn",
           "aldanor",
           "blink1073",
           "bollwyvl",
           "briansgo",
           "dhirschfeld",
           "ellisonbg",
           "fuglede",
           "futurist",
           "gnestor",
           "ian-r-rose",
           "jacobtomlinson",
           "jasongrout",
           "jofowler",
           "jonmmease",
           "manuel-ruiz-23",
           "mdeff",
           "mgeier",
           "perrywky",
           "phwuil",
           "saulshanabrook",
           "tgeorgeux",
           "vidartf",
           "yelled1"
          ]
         },
         {
          "cumulative": 324,
          "date": "2018-11-25T00:00:00",
          "new_contributors": 6,
          "user": [
           "10Dev",
           "AlbertHilb",
           "Ark-kun",
           "BoPeng",
           "Madhu94",
           "aldanor",
           "blink1073",
           "bobmayuze",
           "bollwyvl",
           "briansgo",
           "consideRatio",
           "davclark",
           "fcollonval",
           "fuglede",
           "futurist",
           "ian-r-rose",
           "idoDavid",
           "jasongrout",
           "mgab",
           "mgeier",
           "minrk",
           "russtoku",
           "sterlinm",
           "tgeorgeux",
           "vidartf",
           "yelled1"
          ]
         },
         {
          "cumulative": 327,
          "date": "2018-12-02T00:00:00",
          "new_contributors": 3,
          "user": [
           "BoPeng",
           "JosephBlackWn",
           "Madhu94",
           "afshin",
           "blink1073",
           "bollwyvl",
           "briansgo",
           "ellisonbg",
           "eoinmurray",
           "fcollonval",
           "flying-sheep",
           "fonnesbeck",
           "ghost",
           "gnestor",
           "hainm",
           "ian-r-rose",
           "jasongrout",
           "krassowski",
           "kylebarron",
           "manuelsh",
           "rgbkrk",
           "saulshanabrook",
           "tgeorgeux",
           "timkpaine",
           "vidartf"
          ]
         },
         {
          "cumulative": 335,
          "date": "2018-12-09T00:00:00",
          "new_contributors": 8,
          "user": [
           "10Dev",
           "AlbertHilb",
           "BoPeng",
           "PEERCRED",
           "Zsailer",
           "afshin",
           "ashwinvis",
           "bfkeats",
           "blink1073",
           "bollwyvl",
           "davclark",
           "dclong",
           "drorspei",
           "ellisonbg",
           "gnestor",
           "hsjlxx",
           "ian-r-rose",
           "jasongrout",
           "jwkvam",
           "kylebarron",
           "mgeier",
           "psychemedia",
           "quigleyj97",
           "saulshanabrook",
           "t-makaro",
           "timkpaine",
           "vidartf"
          ]
         },
         {
          "cumulative": 341,
          "date": "2018-12-16T00:00:00",
          "new_contributors": 6,
          "user": [
           "AlbertHilb",
           "BoPeng",
           "IvanMijailovic",
           "Madhu94",
           "PEERCRED",
           "agoose77",
           "aquirdTurtle",
           "blink1073",
           "bollwyvl",
           "consideRatio",
           "cossio",
           "davclark",
           "drorspei",
           "ellisonbg",
           "fcollonval",
           "gnestor",
           "h4gen",
           "ian-r-rose",
           "jakirkham",
           "jasongrout",
           "jiang-wenbin",
           "jvaldiviezo9",
           "jzf2101",
           "koenlek",
           "kylebarron",
           "mangecoeur",
           "meeseeksdev[bot]",
           "pya",
           "quigleyj-mavenomics",
           "saulshanabrook",
           "vidartf"
          ]
         },
         {
          "cumulative": 346,
          "date": "2018-12-23T00:00:00",
          "new_contributors": 5,
          "user": [
           "BoPeng",
           "Madhu94",
           "PEERCRED",
           "afshin",
           "aldanor",
           "ashwinvis",
           "blink1073",
           "bollwyvl",
           "choldgraf",
           "ellisonbg",
           "enlznep",
           "gnestor",
           "ian-r-rose",
           "idoDavid",
           "jasongrout",
           "krassowski",
           "kylebarron",
           "mgeier",
           "nmvega",
           "rgerkin",
           "saulshanabrook",
           "sballin",
           "soli",
           "tgeorgeux",
           "vidartf",
           "yuvipanda"
          ]
         },
         {
          "cumulative": 346,
          "date": "2018-12-30T00:00:00",
          "new_contributors": 0,
          "user": [
           "BoPeng",
           "afshin",
           "bollwyvl",
           "briansgo",
           "clkao",
           "gnestor",
           "jasongrout",
           "kylebarron",
           "mwcraig",
           "saulshanabrook",
           "vidartf",
           "yuvipanda",
           "zertrin"
          ]
         },
         {
          "cumulative": 348,
          "date": "2019-01-06T00:00:00",
          "new_contributors": 2,
          "user": [
           "BoPeng",
           "DonJayamanne",
           "Madhu94",
           "afshin",
           "betteridiot",
           "bollwyvl",
           "choldgraf",
           "consideRatio",
           "dbk123",
           "ellisonbg",
           "ian-r-rose",
           "jaewooklee93",
           "jasongrout",
           "krassowski",
           "mocquin",
           "mwcraig",
           "saulshanabrook",
           "tgeorgeux",
           "yuvipanda"
          ]
         },
         {
          "cumulative": 351,
          "date": "2019-01-13T00:00:00",
          "new_contributors": 3,
          "user": [
           "AlbertHilb",
           "BoPeng",
           "DonJayamanne",
           "Madhu94",
           "PhilosopherZ",
           "SimonBiggs",
           "afshin",
           "agoose77",
           "amueller",
           "aschlaep",
           "bollwyvl",
           "consideRatio",
           "echarles",
           "ellisonbg",
           "fcollonval",
           "fuglede",
           "gnestor",
           "i-am-am",
           "ian-r-rose",
           "jasongrout",
           "lheagy",
           "mflevine",
           "saulshanabrook",
           "tgeorgeux",
           "timhoffm",
           "timkpaine",
           "yuvipanda"
          ]
         },
         {
          "cumulative": 357,
          "date": "2019-01-20T00:00:00",
          "new_contributors": 6,
          "user": [
           "Madhu94",
           "SylvainCorlay",
           "Zsailer",
           "agoose77",
           "amueller",
           "aschlaep",
           "ashwinvis",
           "bollwyvl",
           "choldgraf",
           "dhirschfeld",
           "fcollonval",
           "flying-sheep",
           "futurist",
           "gnestor",
           "henryiii",
           "houqp",
           "ian-r-rose",
           "jasongrout",
           "meeseeksdev[bot]",
           "minrk",
           "msuperina",
           "parente",
           "quigleyj-mavenomics",
           "reem",
           "saulshanabrook",
           "takashimokobe",
           "timkpaine",
           "yuvipanda"
          ]
         },
         {
          "cumulative": 362,
          "date": "2019-01-27T00:00:00",
          "new_contributors": 5,
          "user": [
           "AlbertHilb",
           "Carreau",
           "Madhu94",
           "SimonBiggs",
           "Zsailer",
           "afshin",
           "agoose77",
           "bollwyvl",
           "choldgraf",
           "dclong",
           "fcollonval",
           "ghuname",
           "gnestor",
           "ian-r-rose",
           "janba",
           "jasongrout",
           "jtpio",
           "martinbel",
           "mocquin",
           "paris0120",
           "saulshanabrook",
           "seawolf42",
           "telamonian",
           "wolfv",
           "yuvipanda",
           "zertrin"
          ]
         },
         {
          "cumulative": 368,
          "date": "2019-02-03T00:00:00",
          "new_contributors": 6,
          "user": [
           "AlbertHilb",
           "BoPeng",
           "Madhu94",
           "Tyriar",
           "WesleyTheGeolien",
           "YubinXie",
           "afshin",
           "agoose77",
           "aschlaep",
           "bollwyvl",
           "choldgraf",
           "concretevitamin",
           "cquah",
           "dclong",
           "dhirschfeld",
           "fcollonval",
           "ghuname",
           "gnestor",
           "ian-r-rose",
           "janba",
           "jasongrout",
           "mangecoeur",
           "metal3d",
           "pdeffebach",
           "riemannzetagambit",
           "saulshanabrook",
           "seawolf42",
           "t-makaro",
           "tgeorgeux",
           "vidartf",
           "williamstein",
           "yuvipanda"
          ]
         },
         {
          "cumulative": 374,
          "date": "2019-02-10T00:00:00",
          "new_contributors": 6,
          "user": [
           "AlbertHilb",
           "adrienrenaud",
           "afshin",
           "agoose77",
           "blink1073",
           "bollwyvl",
           "choldgraf",
           "commandlinegirl",
           "dhirschfeld",
           "drscotthawley",
           "fcollonval",
           "ghuname",
           "gnestor",
           "ian-r-rose",
           "jasongrout",
           "jtpio",
           "kaylangan",
           "mangecoeur",
           "mmcguffi",
           "narfanar",
           "nealmcb",
           "saulshanabrook",
           "t-makaro",
           "tgeorgeux",
           "vidartf",
           "zash121"
          ]
         },
         {
          "cumulative": 381,
          "date": "2019-02-17T00:00:00",
          "new_contributors": 7,
          "user": [
           "IvanMijailovic",
           "Kim-Seonghyeon",
           "afshin",
           "ajyeager",
           "bollwyvl",
           "cg1008syf",
           "choldgraf",
           "commandlinegirl",
           "danieltomasz",
           "dclong",
           "ellisonbg",
           "gnestor",
           "ian-r-rose",
           "ivanov",
           "jasongrout",
           "jtpio",
           "kaylangan",
           "maartenbreddels",
           "michaelkarlcoleman",
           "nite",
           "phil-zxx",
           "saulshanabrook",
           "t-makaro",
           "tgeorgeux",
           "vidartf",
           "yuvipanda"
          ]
         }
        ]
       },
       "encoding": {
        "x": {
         "field": "date",
         "type": "temporal"
        },
        "y": {
         "field": "cumulative",
         "type": "quantitative"
        }
       },
       "mark": "line",
       "width": 500
      },
      "text/plain": [
       "<VegaLite 2 object>\n",
       "\n",
       "If you see this message, it means the renderer has not been properly enabled\n",
       "for the frontend that you are using. For more information, see\n",
       "https://altair-viz.github.io/user_guide/troubleshooting.html\n"
      ]
     },
     "execution_count": 12,
     "metadata": {},
     "output_type": "execute_result"
    }
   ],
   "source": [
    "line = alt.Chart(data=unique.reset_index(), width=500).mark_line().encode(x='date', y='cumulative')\n",
    "line"
   ]
  },
  {
   "cell_type": "markdown",
   "metadata": {
    "papermill": {
     "duration": 0.054459,
     "end_time": "2019-02-14T22:41:54.752393",
     "exception": false,
     "start_time": "2019-02-14T22:41:54.697934",
     "status": "completed"
    },
    "tags": []
   },
   "source": [
    "## Comment activity over time"
   ]
  },
  {
   "cell_type": "code",
   "execution_count": 13,
   "metadata": {
    "papermill": {
     "duration": 0.087121,
     "end_time": "2019-02-14T22:41:54.897365",
     "exception": false,
     "start_time": "2019-02-14T22:41:54.810244",
     "status": "completed"
    },
    "tags": []
   },
   "outputs": [],
   "source": [
    "# Select the users we'll plot\n",
    "user_data = weekly.groupby(['user', 'date']).sum().reset_index('user')\n",
    "total_users = user_data.groupby('user')['comments'].sum()\n",
    "plt_users = total_users.sort_values(ascending=False)[:plot_N].index\n",
    "user_data = user_data.query(\"user in @plt_users\")\n",
    "\n",
    "# Drop empty dates\n",
    "user_data = user_data[user_data.sum(1) != 0]"
   ]
  },
  {
   "cell_type": "code",
   "execution_count": 14,
   "metadata": {
    "papermill": {
     "duration": 0.220774,
     "end_time": "2019-02-14T22:41:55.167225",
     "exception": false,
     "start_time": "2019-02-14T22:41:54.946451",
     "status": "completed"
    },
    "tags": []
   },
   "outputs": [
    {
     "data": {
      "application/vnd.vegalite.v2+json": {
       "$schema": "https://vega.github.io/schema/vega-lite/v2.6.0.json",
       "config": {
        "view": {
         "height": 300,
         "width": 400
        }
       },
       "datasets": {
        "data-fb4055abe9a63f4760106178192f880a": [
         {
          "comments": 2.0,
          "date": "2018-03-18T00:00:00",
          "user": "BoPeng"
         },
         {
          "comments": 5.5,
          "date": "2018-03-25T00:00:00",
          "user": "BoPeng"
         },
         {
          "comments": 6.0,
          "date": "2018-04-08T00:00:00",
          "user": "BoPeng"
         },
         {
          "comments": 9.0,
          "date": "2018-04-15T00:00:00",
          "user": "BoPeng"
         },
         {
          "comments": 14.5,
          "date": "2018-04-22T00:00:00",
          "user": "BoPeng"
         },
         {
          "comments": 8.0,
          "date": "2018-04-29T00:00:00",
          "user": "BoPeng"
         },
         {
          "comments": 11.0,
          "date": "2018-05-06T00:00:00",
          "user": "BoPeng"
         },
         {
          "comments": 12.0,
          "date": "2018-05-13T00:00:00",
          "user": "BoPeng"
         },
         {
          "comments": 4.0,
          "date": "2018-05-20T00:00:00",
          "user": "BoPeng"
         },
         {
          "comments": 5.0,
          "date": "2018-05-27T00:00:00",
          "user": "BoPeng"
         },
         {
          "comments": 4.0,
          "date": "2018-06-10T00:00:00",
          "user": "BoPeng"
         },
         {
          "comments": 1.5,
          "date": "2018-06-17T00:00:00",
          "user": "BoPeng"
         },
         {
          "comments": 2.0,
          "date": "2018-07-01T00:00:00",
          "user": "BoPeng"
         },
         {
          "comments": 4.0,
          "date": "2018-07-08T00:00:00",
          "user": "BoPeng"
         },
         {
          "comments": 5.5,
          "date": "2018-07-15T00:00:00",
          "user": "BoPeng"
         },
         {
          "comments": 4.5,
          "date": "2018-07-22T00:00:00",
          "user": "BoPeng"
         },
         {
          "comments": 9.0,
          "date": "2018-08-05T00:00:00",
          "user": "BoPeng"
         },
         {
          "comments": 11.5,
          "date": "2018-08-12T00:00:00",
          "user": "BoPeng"
         },
         {
          "comments": 7.0,
          "date": "2018-08-19T00:00:00",
          "user": "BoPeng"
         },
         {
          "comments": 4.0,
          "date": "2018-09-09T00:00:00",
          "user": "BoPeng"
         },
         {
          "comments": 2.5,
          "date": "2018-11-04T00:00:00",
          "user": "BoPeng"
         },
         {
          "comments": 2.0,
          "date": "2018-11-18T00:00:00",
          "user": "BoPeng"
         },
         {
          "comments": 2.5,
          "date": "2018-11-25T00:00:00",
          "user": "BoPeng"
         },
         {
          "comments": 9.5,
          "date": "2018-12-02T00:00:00",
          "user": "BoPeng"
         },
         {
          "comments": 10.5,
          "date": "2018-12-09T00:00:00",
          "user": "BoPeng"
         },
         {
          "comments": 4.0,
          "date": "2018-12-16T00:00:00",
          "user": "BoPeng"
         },
         {
          "comments": 1.5,
          "date": "2018-12-23T00:00:00",
          "user": "BoPeng"
         },
         {
          "comments": 2.0,
          "date": "2018-12-30T00:00:00",
          "user": "BoPeng"
         },
         {
          "comments": 2.5,
          "date": "2019-01-06T00:00:00",
          "user": "BoPeng"
         },
         {
          "comments": 2.0,
          "date": "2019-01-13T00:00:00",
          "user": "BoPeng"
         },
         {
          "comments": 2.0,
          "date": "2019-02-03T00:00:00",
          "user": "BoPeng"
         },
         {
          "comments": 8.5,
          "date": "2016-06-19T00:00:00",
          "user": "Carreau"
         },
         {
          "comments": 6.0,
          "date": "2018-01-07T00:00:00",
          "user": "Carreau"
         },
         {
          "comments": 3.5,
          "date": "2018-01-21T00:00:00",
          "user": "Carreau"
         },
         {
          "comments": 2.5,
          "date": "2018-01-28T00:00:00",
          "user": "Carreau"
         },
         {
          "comments": 3.0,
          "date": "2018-02-04T00:00:00",
          "user": "Carreau"
         },
         {
          "comments": 4.5,
          "date": "2018-02-11T00:00:00",
          "user": "Carreau"
         },
         {
          "comments": 2.5,
          "date": "2018-02-18T00:00:00",
          "user": "Carreau"
         },
         {
          "comments": 2.0,
          "date": "2018-02-25T00:00:00",
          "user": "Carreau"
         },
         {
          "comments": 2.5,
          "date": "2018-04-01T00:00:00",
          "user": "Carreau"
         },
         {
          "comments": 3.5,
          "date": "2018-04-08T00:00:00",
          "user": "Carreau"
         },
         {
          "comments": 4.0,
          "date": "2018-04-22T00:00:00",
          "user": "Carreau"
         },
         {
          "comments": 2.5,
          "date": "2018-05-13T00:00:00",
          "user": "Carreau"
         },
         {
          "comments": 1.5,
          "date": "2018-06-24T00:00:00",
          "user": "Carreau"
         },
         {
          "comments": 2.5,
          "date": "2018-08-12T00:00:00",
          "user": "Carreau"
         },
         {
          "comments": 2.5,
          "date": "2018-08-19T00:00:00",
          "user": "Carreau"
         },
         {
          "comments": 3.0,
          "date": "2018-09-30T00:00:00",
          "user": "Carreau"
         },
         {
          "comments": 4.0,
          "date": "2018-10-07T00:00:00",
          "user": "Carreau"
         },
         {
          "comments": 2.0,
          "date": "2018-10-21T00:00:00",
          "user": "Carreau"
         },
         {
          "comments": 1.5,
          "date": "2018-10-28T00:00:00",
          "user": "Carreau"
         },
         {
          "comments": 3.0,
          "date": "2018-11-11T00:00:00",
          "user": "Carreau"
         },
         {
          "comments": 2.5,
          "date": "2019-01-27T00:00:00",
          "user": "Carreau"
         },
         {
          "comments": 3.5,
          "date": "2018-01-14T00:00:00",
          "user": "SimonBiggs"
         },
         {
          "comments": 4.5,
          "date": "2018-01-21T00:00:00",
          "user": "SimonBiggs"
         },
         {
          "comments": 5.0,
          "date": "2018-01-28T00:00:00",
          "user": "SimonBiggs"
         },
         {
          "comments": 2.5,
          "date": "2018-02-04T00:00:00",
          "user": "SimonBiggs"
         },
         {
          "comments": 1.5,
          "date": "2018-02-11T00:00:00",
          "user": "SimonBiggs"
         },
         {
          "comments": 1.0,
          "date": "2018-03-18T00:00:00",
          "user": "SimonBiggs"
         },
         {
          "comments": 2.0,
          "date": "2018-04-01T00:00:00",
          "user": "SimonBiggs"
         },
         {
          "comments": 4.0,
          "date": "2018-04-08T00:00:00",
          "user": "SimonBiggs"
         },
         {
          "comments": 7.0,
          "date": "2018-04-15T00:00:00",
          "user": "SimonBiggs"
         },
         {
          "comments": 12.5,
          "date": "2018-04-22T00:00:00",
          "user": "SimonBiggs"
         },
         {
          "comments": 12.5,
          "date": "2018-04-29T00:00:00",
          "user": "SimonBiggs"
         },
         {
          "comments": 5.0,
          "date": "2018-05-06T00:00:00",
          "user": "SimonBiggs"
         },
         {
          "comments": 2.0,
          "date": "2018-05-20T00:00:00",
          "user": "SimonBiggs"
         },
         {
          "comments": 2.0,
          "date": "2018-06-17T00:00:00",
          "user": "SimonBiggs"
         },
         {
          "comments": 1.0,
          "date": "2018-07-01T00:00:00",
          "user": "SimonBiggs"
         },
         {
          "comments": 1.0,
          "date": "2018-07-22T00:00:00",
          "user": "SimonBiggs"
         },
         {
          "comments": 3.5,
          "date": "2018-08-05T00:00:00",
          "user": "SimonBiggs"
         },
         {
          "comments": 8.0,
          "date": "2018-08-12T00:00:00",
          "user": "SimonBiggs"
         },
         {
          "comments": 6.5,
          "date": "2018-08-19T00:00:00",
          "user": "SimonBiggs"
         },
         {
          "comments": 3.0,
          "date": "2018-09-16T00:00:00",
          "user": "SimonBiggs"
         },
         {
          "comments": 4.0,
          "date": "2018-09-30T00:00:00",
          "user": "SimonBiggs"
         },
         {
          "comments": 3.0,
          "date": "2019-01-13T00:00:00",
          "user": "SimonBiggs"
         },
         {
          "comments": 1.0,
          "date": "2019-01-27T00:00:00",
          "user": "SimonBiggs"
         },
         {
          "comments": 4.0,
          "date": "2016-06-26T00:00:00",
          "user": "afshin"
         },
         {
          "comments": 3.0,
          "date": "2017-12-24T00:00:00",
          "user": "afshin"
         },
         {
          "comments": 2.5,
          "date": "2018-01-07T00:00:00",
          "user": "afshin"
         },
         {
          "comments": 1.5,
          "date": "2018-01-14T00:00:00",
          "user": "afshin"
         },
         {
          "comments": 4.0,
          "date": "2018-01-21T00:00:00",
          "user": "afshin"
         },
         {
          "comments": 4.5,
          "date": "2018-01-28T00:00:00",
          "user": "afshin"
         },
         {
          "comments": 5.5,
          "date": "2018-02-04T00:00:00",
          "user": "afshin"
         },
         {
          "comments": 4.5,
          "date": "2018-02-11T00:00:00",
          "user": "afshin"
         },
         {
          "comments": 5.5,
          "date": "2018-02-18T00:00:00",
          "user": "afshin"
         },
         {
          "comments": 8.0,
          "date": "2018-02-25T00:00:00",
          "user": "afshin"
         },
         {
          "comments": 13.0,
          "date": "2018-03-04T00:00:00",
          "user": "afshin"
         },
         {
          "comments": 10.5,
          "date": "2018-03-18T00:00:00",
          "user": "afshin"
         },
         {
          "comments": 1.0,
          "date": "2018-04-01T00:00:00",
          "user": "afshin"
         },
         {
          "comments": 1.5,
          "date": "2018-05-13T00:00:00",
          "user": "afshin"
         },
         {
          "comments": 2.0,
          "date": "2018-05-20T00:00:00",
          "user": "afshin"
         },
         {
          "comments": 3.0,
          "date": "2018-05-27T00:00:00",
          "user": "afshin"
         },
         {
          "comments": 5.5,
          "date": "2018-06-10T00:00:00",
          "user": "afshin"
         },
         {
          "comments": 8.5,
          "date": "2018-06-17T00:00:00",
          "user": "afshin"
         },
         {
          "comments": 13.5,
          "date": "2018-06-24T00:00:00",
          "user": "afshin"
         },
         {
          "comments": 21.0,
          "date": "2018-07-01T00:00:00",
          "user": "afshin"
         },
         {
          "comments": 16.5,
          "date": "2018-07-08T00:00:00",
          "user": "afshin"
         },
         {
          "comments": 5.5,
          "date": "2018-07-15T00:00:00",
          "user": "afshin"
         },
         {
          "comments": 4.5,
          "date": "2018-07-22T00:00:00",
          "user": "afshin"
         },
         {
          "comments": 4.5,
          "date": "2018-07-29T00:00:00",
          "user": "afshin"
         },
         {
          "comments": 3.0,
          "date": "2018-08-05T00:00:00",
          "user": "afshin"
         },
         {
          "comments": 2.0,
          "date": "2018-08-19T00:00:00",
          "user": "afshin"
         },
         {
          "comments": 2.0,
          "date": "2018-09-16T00:00:00",
          "user": "afshin"
         },
         {
          "comments": 4.0,
          "date": "2018-09-23T00:00:00",
          "user": "afshin"
         },
         {
          "comments": 4.0,
          "date": "2018-09-30T00:00:00",
          "user": "afshin"
         },
         {
          "comments": 2.0,
          "date": "2018-10-07T00:00:00",
          "user": "afshin"
         },
         {
          "comments": 1.5,
          "date": "2018-10-28T00:00:00",
          "user": "afshin"
         },
         {
          "comments": 3.0,
          "date": "2018-11-04T00:00:00",
          "user": "afshin"
         },
         {
          "comments": 5.0,
          "date": "2018-12-02T00:00:00",
          "user": "afshin"
         },
         {
          "comments": 4.5,
          "date": "2018-12-09T00:00:00",
          "user": "afshin"
         },
         {
          "comments": 3.0,
          "date": "2018-12-23T00:00:00",
          "user": "afshin"
         },
         {
          "comments": 2.5,
          "date": "2018-12-30T00:00:00",
          "user": "afshin"
         },
         {
          "comments": 4.0,
          "date": "2019-01-06T00:00:00",
          "user": "afshin"
         },
         {
          "comments": 4.0,
          "date": "2019-01-13T00:00:00",
          "user": "afshin"
         },
         {
          "comments": 3.0,
          "date": "2019-01-27T00:00:00",
          "user": "afshin"
         },
         {
          "comments": 6.0,
          "date": "2019-02-03T00:00:00",
          "user": "afshin"
         },
         {
          "comments": 8.5,
          "date": "2019-02-10T00:00:00",
          "user": "afshin"
         },
         {
          "comments": 12.0,
          "date": "2019-02-17T00:00:00",
          "user": "afshin"
         },
         {
          "comments": 19.0,
          "date": "2016-06-19T00:00:00",
          "user": "blink1073"
         },
         {
          "comments": 14.5,
          "date": "2016-06-26T00:00:00",
          "user": "blink1073"
         },
         {
          "comments": 8.0,
          "date": "2017-12-17T00:00:00",
          "user": "blink1073"
         },
         {
          "comments": 47.5,
          "date": "2017-12-24T00:00:00",
          "user": "blink1073"
         },
         {
          "comments": 51.0,
          "date": "2017-12-31T00:00:00",
          "user": "blink1073"
         },
         {
          "comments": 39.0,
          "date": "2018-01-07T00:00:00",
          "user": "blink1073"
         },
         {
          "comments": 54.0,
          "date": "2018-01-14T00:00:00",
          "user": "blink1073"
         },
         {
          "comments": 45.0,
          "date": "2018-01-21T00:00:00",
          "user": "blink1073"
         },
         {
          "comments": 26.5,
          "date": "2018-01-28T00:00:00",
          "user": "blink1073"
         },
         {
          "comments": 27.5,
          "date": "2018-02-04T00:00:00",
          "user": "blink1073"
         },
         {
          "comments": 46.5,
          "date": "2018-02-11T00:00:00",
          "user": "blink1073"
         },
         {
          "comments": 36.5,
          "date": "2018-02-18T00:00:00",
          "user": "blink1073"
         },
         {
          "comments": 29.5,
          "date": "2018-02-25T00:00:00",
          "user": "blink1073"
         },
         {
          "comments": 65.5,
          "date": "2018-03-04T00:00:00",
          "user": "blink1073"
         },
         {
          "comments": 80.0,
          "date": "2018-03-11T00:00:00",
          "user": "blink1073"
         },
         {
          "comments": 32.5,
          "date": "2018-03-18T00:00:00",
          "user": "blink1073"
         },
         {
          "comments": 1.5,
          "date": "2018-03-25T00:00:00",
          "user": "blink1073"
         },
         {
          "comments": 1.5,
          "date": "2018-04-15T00:00:00",
          "user": "blink1073"
         },
         {
          "comments": 1.0,
          "date": "2018-04-29T00:00:00",
          "user": "blink1073"
         },
         {
          "comments": 1.0,
          "date": "2018-05-06T00:00:00",
          "user": "blink1073"
         },
         {
          "comments": 1.0,
          "date": "2018-05-13T00:00:00",
          "user": "blink1073"
         },
         {
          "comments": 1.0,
          "date": "2018-05-27T00:00:00",
          "user": "blink1073"
         },
         {
          "comments": 1.5,
          "date": "2018-07-01T00:00:00",
          "user": "blink1073"
         },
         {
          "comments": 5.5,
          "date": "2018-07-08T00:00:00",
          "user": "blink1073"
         },
         {
          "comments": 18.5,
          "date": "2018-07-15T00:00:00",
          "user": "blink1073"
         },
         {
          "comments": 31.5,
          "date": "2018-07-22T00:00:00",
          "user": "blink1073"
         },
         {
          "comments": 49.5,
          "date": "2018-07-29T00:00:00",
          "user": "blink1073"
         },
         {
          "comments": 68.5,
          "date": "2018-08-05T00:00:00",
          "user": "blink1073"
         },
         {
          "comments": 86.0,
          "date": "2018-08-12T00:00:00",
          "user": "blink1073"
         },
         {
          "comments": 95.0,
          "date": "2018-08-19T00:00:00",
          "user": "blink1073"
         },
         {
          "comments": 71.0,
          "date": "2018-08-26T00:00:00",
          "user": "blink1073"
         },
         {
          "comments": 66.0,
          "date": "2018-09-02T00:00:00",
          "user": "blink1073"
         },
         {
          "comments": 69.0,
          "date": "2018-09-09T00:00:00",
          "user": "blink1073"
         },
         {
          "comments": 53.5,
          "date": "2018-09-16T00:00:00",
          "user": "blink1073"
         },
         {
          "comments": 62.5,
          "date": "2018-09-23T00:00:00",
          "user": "blink1073"
         },
         {
          "comments": 70.5,
          "date": "2018-09-30T00:00:00",
          "user": "blink1073"
         },
         {
          "comments": 66.0,
          "date": "2018-10-07T00:00:00",
          "user": "blink1073"
         },
         {
          "comments": 45.0,
          "date": "2018-10-14T00:00:00",
          "user": "blink1073"
         },
         {
          "comments": 28.5,
          "date": "2018-10-21T00:00:00",
          "user": "blink1073"
         },
         {
          "comments": 29.5,
          "date": "2018-10-28T00:00:00",
          "user": "blink1073"
         },
         {
          "comments": 26.0,
          "date": "2018-11-04T00:00:00",
          "user": "blink1073"
         },
         {
          "comments": 23.5,
          "date": "2018-11-11T00:00:00",
          "user": "blink1073"
         },
         {
          "comments": 15.0,
          "date": "2018-11-18T00:00:00",
          "user": "blink1073"
         },
         {
          "comments": 9.5,
          "date": "2018-11-25T00:00:00",
          "user": "blink1073"
         },
         {
          "comments": 11.5,
          "date": "2018-12-02T00:00:00",
          "user": "blink1073"
         },
         {
          "comments": 8.0,
          "date": "2018-12-09T00:00:00",
          "user": "blink1073"
         },
         {
          "comments": 4.5,
          "date": "2018-12-16T00:00:00",
          "user": "blink1073"
         },
         {
          "comments": 3.5,
          "date": "2018-12-23T00:00:00",
          "user": "blink1073"
         },
         {
          "comments": 1.0,
          "date": "2019-02-10T00:00:00",
          "user": "blink1073"
         },
         {
          "comments": 2.0,
          "date": "2018-02-04T00:00:00",
          "user": "bollwyvl"
         },
         {
          "comments": 1.5,
          "date": "2018-03-18T00:00:00",
          "user": "bollwyvl"
         },
         {
          "comments": 1.5,
          "date": "2018-03-25T00:00:00",
          "user": "bollwyvl"
         },
         {
          "comments": 1.0,
          "date": "2018-04-01T00:00:00",
          "user": "bollwyvl"
         },
         {
          "comments": 3.0,
          "date": "2018-04-22T00:00:00",
          "user": "bollwyvl"
         },
         {
          "comments": 3.0,
          "date": "2018-04-29T00:00:00",
          "user": "bollwyvl"
         },
         {
          "comments": 2.0,
          "date": "2018-05-06T00:00:00",
          "user": "bollwyvl"
         },
         {
          "comments": 2.5,
          "date": "2018-05-27T00:00:00",
          "user": "bollwyvl"
         },
         {
          "comments": 1.5,
          "date": "2018-06-03T00:00:00",
          "user": "bollwyvl"
         },
         {
          "comments": 4.0,
          "date": "2018-06-10T00:00:00",
          "user": "bollwyvl"
         },
         {
          "comments": 5.0,
          "date": "2018-06-17T00:00:00",
          "user": "bollwyvl"
         },
         {
          "comments": 3.0,
          "date": "2018-06-24T00:00:00",
          "user": "bollwyvl"
         },
         {
          "comments": 7.5,
          "date": "2018-07-01T00:00:00",
          "user": "bollwyvl"
         },
         {
          "comments": 9.5,
          "date": "2018-07-08T00:00:00",
          "user": "bollwyvl"
         },
         {
          "comments": 4.5,
          "date": "2018-07-15T00:00:00",
          "user": "bollwyvl"
         },
         {
          "comments": 3.0,
          "date": "2018-07-22T00:00:00",
          "user": "bollwyvl"
         },
         {
          "comments": 2.5,
          "date": "2018-07-29T00:00:00",
          "user": "bollwyvl"
         },
         {
          "comments": 1.5,
          "date": "2018-08-05T00:00:00",
          "user": "bollwyvl"
         },
         {
          "comments": 3.0,
          "date": "2018-08-12T00:00:00",
          "user": "bollwyvl"
         },
         {
          "comments": 5.0,
          "date": "2018-08-19T00:00:00",
          "user": "bollwyvl"
         },
         {
          "comments": 4.0,
          "date": "2018-08-26T00:00:00",
          "user": "bollwyvl"
         },
         {
          "comments": 2.0,
          "date": "2018-09-02T00:00:00",
          "user": "bollwyvl"
         },
         {
          "comments": 1.5,
          "date": "2018-09-09T00:00:00",
          "user": "bollwyvl"
         },
         {
          "comments": 3.5,
          "date": "2018-09-23T00:00:00",
          "user": "bollwyvl"
         },
         {
          "comments": 3.5,
          "date": "2018-10-07T00:00:00",
          "user": "bollwyvl"
         },
         {
          "comments": 1.5,
          "date": "2018-10-14T00:00:00",
          "user": "bollwyvl"
         },
         {
          "comments": 3.5,
          "date": "2018-10-21T00:00:00",
          "user": "bollwyvl"
         },
         {
          "comments": 5.5,
          "date": "2018-10-28T00:00:00",
          "user": "bollwyvl"
         },
         {
          "comments": 5.0,
          "date": "2018-11-04T00:00:00",
          "user": "bollwyvl"
         },
         {
          "comments": 4.5,
          "date": "2018-11-11T00:00:00",
          "user": "bollwyvl"
         },
         {
          "comments": 3.5,
          "date": "2018-11-18T00:00:00",
          "user": "bollwyvl"
         },
         {
          "comments": 1.5,
          "date": "2018-11-25T00:00:00",
          "user": "bollwyvl"
         },
         {
          "comments": 1.0,
          "date": "2018-12-02T00:00:00",
          "user": "bollwyvl"
         },
         {
          "comments": 3.0,
          "date": "2018-12-09T00:00:00",
          "user": "bollwyvl"
         },
         {
          "comments": 4.0,
          "date": "2018-12-16T00:00:00",
          "user": "bollwyvl"
         },
         {
          "comments": 2.5,
          "date": "2018-12-23T00:00:00",
          "user": "bollwyvl"
         },
         {
          "comments": 3.5,
          "date": "2018-12-30T00:00:00",
          "user": "bollwyvl"
         },
         {
          "comments": 4.0,
          "date": "2019-01-06T00:00:00",
          "user": "bollwyvl"
         },
         {
          "comments": 2.0,
          "date": "2019-01-13T00:00:00",
          "user": "bollwyvl"
         },
         {
          "comments": 4.0,
          "date": "2019-01-20T00:00:00",
          "user": "bollwyvl"
         },
         {
          "comments": 7.0,
          "date": "2019-01-27T00:00:00",
          "user": "bollwyvl"
         },
         {
          "comments": 7.0,
          "date": "2019-02-03T00:00:00",
          "user": "bollwyvl"
         },
         {
          "comments": 6.0,
          "date": "2019-02-10T00:00:00",
          "user": "bollwyvl"
         },
         {
          "comments": 5.0,
          "date": "2019-02-17T00:00:00",
          "user": "bollwyvl"
         },
         {
          "comments": 1.5,
          "date": "2017-12-24T00:00:00",
          "user": "choldgraf"
         },
         {
          "comments": 1.5,
          "date": "2018-01-07T00:00:00",
          "user": "choldgraf"
         },
         {
          "comments": 3.0,
          "date": "2018-01-21T00:00:00",
          "user": "choldgraf"
         },
         {
          "comments": 16.5,
          "date": "2018-02-04T00:00:00",
          "user": "choldgraf"
         },
         {
          "comments": 21.5,
          "date": "2018-02-11T00:00:00",
          "user": "choldgraf"
         },
         {
          "comments": 8.0,
          "date": "2018-02-25T00:00:00",
          "user": "choldgraf"
         },
         {
          "comments": 5.5,
          "date": "2018-03-04T00:00:00",
          "user": "choldgraf"
         },
         {
          "comments": 6.5,
          "date": "2018-03-25T00:00:00",
          "user": "choldgraf"
         },
         {
          "comments": 2.0,
          "date": "2018-04-08T00:00:00",
          "user": "choldgraf"
         },
         {
          "comments": 2.0,
          "date": "2018-04-15T00:00:00",
          "user": "choldgraf"
         },
         {
          "comments": 2.0,
          "date": "2018-05-13T00:00:00",
          "user": "choldgraf"
         },
         {
          "comments": 1.0,
          "date": "2018-05-20T00:00:00",
          "user": "choldgraf"
         },
         {
          "comments": 3.5,
          "date": "2018-05-27T00:00:00",
          "user": "choldgraf"
         },
         {
          "comments": 3.5,
          "date": "2018-06-17T00:00:00",
          "user": "choldgraf"
         },
         {
          "comments": 1.5,
          "date": "2018-07-01T00:00:00",
          "user": "choldgraf"
         },
         {
          "comments": 1.5,
          "date": "2018-07-08T00:00:00",
          "user": "choldgraf"
         },
         {
          "comments": 5.0,
          "date": "2018-12-23T00:00:00",
          "user": "choldgraf"
         },
         {
          "comments": 5.0,
          "date": "2019-01-06T00:00:00",
          "user": "choldgraf"
         },
         {
          "comments": 1.0,
          "date": "2019-01-20T00:00:00",
          "user": "choldgraf"
         },
         {
          "comments": 1.5,
          "date": "2019-01-27T00:00:00",
          "user": "choldgraf"
         },
         {
          "comments": 3.0,
          "date": "2019-02-03T00:00:00",
          "user": "choldgraf"
         },
         {
          "comments": 3.0,
          "date": "2019-02-10T00:00:00",
          "user": "choldgraf"
         },
         {
          "comments": 3.0,
          "date": "2019-02-17T00:00:00",
          "user": "choldgraf"
         },
         {
          "comments": 1.0,
          "date": "2018-01-21T00:00:00",
          "user": "dhirschfeld"
         },
         {
          "comments": 4.0,
          "date": "2018-01-28T00:00:00",
          "user": "dhirschfeld"
         },
         {
          "comments": 4.0,
          "date": "2018-02-04T00:00:00",
          "user": "dhirschfeld"
         },
         {
          "comments": 2.0,
          "date": "2018-02-11T00:00:00",
          "user": "dhirschfeld"
         },
         {
          "comments": 6.5,
          "date": "2018-02-18T00:00:00",
          "user": "dhirschfeld"
         },
         {
          "comments": 5.5,
          "date": "2018-02-25T00:00:00",
          "user": "dhirschfeld"
         },
         {
          "comments": 1.5,
          "date": "2018-03-04T00:00:00",
          "user": "dhirschfeld"
         },
         {
          "comments": 2.0,
          "date": "2018-03-11T00:00:00",
          "user": "dhirschfeld"
         },
         {
          "comments": 1.5,
          "date": "2018-03-18T00:00:00",
          "user": "dhirschfeld"
         },
         {
          "comments": 2.0,
          "date": "2018-04-08T00:00:00",
          "user": "dhirschfeld"
         },
         {
          "comments": 4.5,
          "date": "2018-04-15T00:00:00",
          "user": "dhirschfeld"
         },
         {
          "comments": 4.0,
          "date": "2018-04-22T00:00:00",
          "user": "dhirschfeld"
         },
         {
          "comments": 3.5,
          "date": "2018-04-29T00:00:00",
          "user": "dhirschfeld"
         },
         {
          "comments": 3.5,
          "date": "2018-05-06T00:00:00",
          "user": "dhirschfeld"
         },
         {
          "comments": 1.5,
          "date": "2018-05-13T00:00:00",
          "user": "dhirschfeld"
         },
         {
          "comments": 1.5,
          "date": "2018-06-03T00:00:00",
          "user": "dhirschfeld"
         },
         {
          "comments": 1.5,
          "date": "2018-06-17T00:00:00",
          "user": "dhirschfeld"
         },
         {
          "comments": 1.0,
          "date": "2018-06-24T00:00:00",
          "user": "dhirschfeld"
         },
         {
          "comments": 2.0,
          "date": "2018-07-01T00:00:00",
          "user": "dhirschfeld"
         },
         {
          "comments": 2.0,
          "date": "2018-07-08T00:00:00",
          "user": "dhirschfeld"
         },
         {
          "comments": 2.5,
          "date": "2018-07-15T00:00:00",
          "user": "dhirschfeld"
         },
         {
          "comments": 2.5,
          "date": "2018-07-22T00:00:00",
          "user": "dhirschfeld"
         },
         {
          "comments": 2.0,
          "date": "2018-07-29T00:00:00",
          "user": "dhirschfeld"
         },
         {
          "comments": 3.0,
          "date": "2018-08-05T00:00:00",
          "user": "dhirschfeld"
         },
         {
          "comments": 3.0,
          "date": "2018-08-12T00:00:00",
          "user": "dhirschfeld"
         },
         {
          "comments": 5.0,
          "date": "2018-08-26T00:00:00",
          "user": "dhirschfeld"
         },
         {
          "comments": 6.5,
          "date": "2018-09-02T00:00:00",
          "user": "dhirschfeld"
         },
         {
          "comments": 5.0,
          "date": "2018-09-09T00:00:00",
          "user": "dhirschfeld"
         },
         {
          "comments": 4.0,
          "date": "2018-09-16T00:00:00",
          "user": "dhirschfeld"
         },
         {
          "comments": 3.0,
          "date": "2018-09-23T00:00:00",
          "user": "dhirschfeld"
         },
         {
          "comments": 2.5,
          "date": "2018-09-30T00:00:00",
          "user": "dhirschfeld"
         },
         {
          "comments": 2.0,
          "date": "2018-10-07T00:00:00",
          "user": "dhirschfeld"
         },
         {
          "comments": 1.5,
          "date": "2018-10-14T00:00:00",
          "user": "dhirschfeld"
         },
         {
          "comments": 3.0,
          "date": "2018-10-21T00:00:00",
          "user": "dhirschfeld"
         },
         {
          "comments": 3.5,
          "date": "2018-10-28T00:00:00",
          "user": "dhirschfeld"
         },
         {
          "comments": 2.0,
          "date": "2018-11-04T00:00:00",
          "user": "dhirschfeld"
         },
         {
          "comments": 1.0,
          "date": "2018-11-11T00:00:00",
          "user": "dhirschfeld"
         },
         {
          "comments": 1.5,
          "date": "2018-11-18T00:00:00",
          "user": "dhirschfeld"
         },
         {
          "comments": 2.5,
          "date": "2019-01-20T00:00:00",
          "user": "dhirschfeld"
         },
         {
          "comments": 2.5,
          "date": "2019-02-03T00:00:00",
          "user": "dhirschfeld"
         },
         {
          "comments": 2.0,
          "date": "2019-02-10T00:00:00",
          "user": "dhirschfeld"
         },
         {
          "comments": 1.5,
          "date": "2018-02-25T00:00:00",
          "user": "domoritz"
         },
         {
          "comments": 5.0,
          "date": "2018-03-04T00:00:00",
          "user": "domoritz"
         },
         {
          "comments": 7.5,
          "date": "2018-03-11T00:00:00",
          "user": "domoritz"
         },
         {
          "comments": 4.0,
          "date": "2018-03-25T00:00:00",
          "user": "domoritz"
         },
         {
          "comments": 2.0,
          "date": "2018-04-15T00:00:00",
          "user": "domoritz"
         },
         {
          "comments": 2.5,
          "date": "2018-05-06T00:00:00",
          "user": "domoritz"
         },
         {
          "comments": 9.0,
          "date": "2018-05-27T00:00:00",
          "user": "domoritz"
         },
         {
          "comments": 8.0,
          "date": "2018-06-03T00:00:00",
          "user": "domoritz"
         },
         {
          "comments": 2.0,
          "date": "2018-06-10T00:00:00",
          "user": "domoritz"
         },
         {
          "comments": 4.5,
          "date": "2018-06-17T00:00:00",
          "user": "domoritz"
         },
         {
          "comments": 3.5,
          "date": "2018-07-01T00:00:00",
          "user": "domoritz"
         },
         {
          "comments": 1.5,
          "date": "2018-07-15T00:00:00",
          "user": "domoritz"
         },
         {
          "comments": 1.5,
          "date": "2018-08-19T00:00:00",
          "user": "domoritz"
         },
         {
          "comments": 1.5,
          "date": "2018-09-23T00:00:00",
          "user": "domoritz"
         },
         {
          "comments": 8.5,
          "date": "2016-06-19T00:00:00",
          "user": "ellisonbg"
         },
         {
          "comments": 7.5,
          "date": "2016-06-26T00:00:00",
          "user": "ellisonbg"
         },
         {
          "comments": 9.5,
          "date": "2016-07-03T00:00:00",
          "user": "ellisonbg"
         },
         {
          "comments": 13.0,
          "date": "2016-07-10T00:00:00",
          "user": "ellisonbg"
         },
         {
          "comments": 13.0,
          "date": "2016-07-17T00:00:00",
          "user": "ellisonbg"
         },
         {
          "comments": 5.0,
          "date": "2016-07-24T00:00:00",
          "user": "ellisonbg"
         },
         {
          "comments": 1.0,
          "date": "2016-08-21T00:00:00",
          "user": "ellisonbg"
         },
         {
          "comments": 13.5,
          "date": "2016-08-28T00:00:00",
          "user": "ellisonbg"
         },
         {
          "comments": 14.5,
          "date": "2016-09-04T00:00:00",
          "user": "ellisonbg"
         },
         {
          "comments": 3.5,
          "date": "2016-09-11T00:00:00",
          "user": "ellisonbg"
         },
         {
          "comments": 3.5,
          "date": "2016-12-25T00:00:00",
          "user": "ellisonbg"
         },
         {
          "comments": 2.0,
          "date": "2017-02-05T00:00:00",
          "user": "ellisonbg"
         },
         {
          "comments": 1.0,
          "date": "2017-02-12T00:00:00",
          "user": "ellisonbg"
         },
         {
          "comments": 1.0,
          "date": "2017-03-19T00:00:00",
          "user": "ellisonbg"
         },
         {
          "comments": 1.5,
          "date": "2017-05-14T00:00:00",
          "user": "ellisonbg"
         },
         {
          "comments": 1.5,
          "date": "2017-05-28T00:00:00",
          "user": "ellisonbg"
         },
         {
          "comments": 2.0,
          "date": "2017-06-11T00:00:00",
          "user": "ellisonbg"
         },
         {
          "comments": 13.0,
          "date": "2017-12-17T00:00:00",
          "user": "ellisonbg"
         },
         {
          "comments": 65.5,
          "date": "2017-12-24T00:00:00",
          "user": "ellisonbg"
         },
         {
          "comments": 55.5,
          "date": "2017-12-31T00:00:00",
          "user": "ellisonbg"
         },
         {
          "comments": 33.5,
          "date": "2018-01-07T00:00:00",
          "user": "ellisonbg"
         },
         {
          "comments": 34.0,
          "date": "2018-01-14T00:00:00",
          "user": "ellisonbg"
         },
         {
          "comments": 15.5,
          "date": "2018-01-21T00:00:00",
          "user": "ellisonbg"
         },
         {
          "comments": 19.5,
          "date": "2018-01-28T00:00:00",
          "user": "ellisonbg"
         },
         {
          "comments": 24.0,
          "date": "2018-02-04T00:00:00",
          "user": "ellisonbg"
         },
         {
          "comments": 20.5,
          "date": "2018-02-11T00:00:00",
          "user": "ellisonbg"
         },
         {
          "comments": 5.0,
          "date": "2018-02-18T00:00:00",
          "user": "ellisonbg"
         },
         {
          "comments": 20.0,
          "date": "2018-02-25T00:00:00",
          "user": "ellisonbg"
         },
         {
          "comments": 21.5,
          "date": "2018-03-04T00:00:00",
          "user": "ellisonbg"
         },
         {
          "comments": 17.5,
          "date": "2018-03-11T00:00:00",
          "user": "ellisonbg"
         },
         {
          "comments": 17.0,
          "date": "2018-03-18T00:00:00",
          "user": "ellisonbg"
         },
         {
          "comments": 4.0,
          "date": "2018-03-25T00:00:00",
          "user": "ellisonbg"
         },
         {
          "comments": 4.5,
          "date": "2018-04-01T00:00:00",
          "user": "ellisonbg"
         },
         {
          "comments": 4.5,
          "date": "2018-04-08T00:00:00",
          "user": "ellisonbg"
         },
         {
          "comments": 3.0,
          "date": "2018-04-15T00:00:00",
          "user": "ellisonbg"
         },
         {
          "comments": 5.5,
          "date": "2018-04-22T00:00:00",
          "user": "ellisonbg"
         },
         {
          "comments": 5.0,
          "date": "2018-04-29T00:00:00",
          "user": "ellisonbg"
         },
         {
          "comments": 5.0,
          "date": "2018-05-06T00:00:00",
          "user": "ellisonbg"
         },
         {
          "comments": 7.0,
          "date": "2018-05-13T00:00:00",
          "user": "ellisonbg"
         },
         {
          "comments": 20.0,
          "date": "2018-05-20T00:00:00",
          "user": "ellisonbg"
         },
         {
          "comments": 19.0,
          "date": "2018-05-27T00:00:00",
          "user": "ellisonbg"
         },
         {
          "comments": 3.5,
          "date": "2018-06-10T00:00:00",
          "user": "ellisonbg"
         },
         {
          "comments": 1.5,
          "date": "2018-07-01T00:00:00",
          "user": "ellisonbg"
         },
         {
          "comments": 4.0,
          "date": "2018-07-08T00:00:00",
          "user": "ellisonbg"
         },
         {
          "comments": 4.5,
          "date": "2018-07-15T00:00:00",
          "user": "ellisonbg"
         },
         {
          "comments": 4.0,
          "date": "2018-07-22T00:00:00",
          "user": "ellisonbg"
         },
         {
          "comments": 6.5,
          "date": "2018-07-29T00:00:00",
          "user": "ellisonbg"
         },
         {
          "comments": 9.0,
          "date": "2018-08-05T00:00:00",
          "user": "ellisonbg"
         },
         {
          "comments": 16.5,
          "date": "2018-08-12T00:00:00",
          "user": "ellisonbg"
         },
         {
          "comments": 30.0,
          "date": "2018-08-19T00:00:00",
          "user": "ellisonbg"
         },
         {
          "comments": 19.5,
          "date": "2018-08-26T00:00:00",
          "user": "ellisonbg"
         },
         {
          "comments": 3.5,
          "date": "2018-09-02T00:00:00",
          "user": "ellisonbg"
         },
         {
          "comments": 5.5,
          "date": "2018-09-09T00:00:00",
          "user": "ellisonbg"
         },
         {
          "comments": 5.0,
          "date": "2018-09-16T00:00:00",
          "user": "ellisonbg"
         },
         {
          "comments": 5.5,
          "date": "2018-09-23T00:00:00",
          "user": "ellisonbg"
         },
         {
          "comments": 4.0,
          "date": "2018-09-30T00:00:00",
          "user": "ellisonbg"
         },
         {
          "comments": 5.0,
          "date": "2018-10-07T00:00:00",
          "user": "ellisonbg"
         },
         {
          "comments": 5.5,
          "date": "2018-10-14T00:00:00",
          "user": "ellisonbg"
         },
         {
          "comments": 2.0,
          "date": "2018-10-21T00:00:00",
          "user": "ellisonbg"
         },
         {
          "comments": 6.5,
          "date": "2018-10-28T00:00:00",
          "user": "ellisonbg"
         },
         {
          "comments": 8.0,
          "date": "2018-11-04T00:00:00",
          "user": "ellisonbg"
         },
         {
          "comments": 3.0,
          "date": "2018-11-18T00:00:00",
          "user": "ellisonbg"
         },
         {
          "comments": 3.5,
          "date": "2018-12-02T00:00:00",
          "user": "ellisonbg"
         },
         {
          "comments": 20.5,
          "date": "2018-12-09T00:00:00",
          "user": "ellisonbg"
         },
         {
          "comments": 22.5,
          "date": "2018-12-16T00:00:00",
          "user": "ellisonbg"
         },
         {
          "comments": 9.5,
          "date": "2018-12-23T00:00:00",
          "user": "ellisonbg"
         },
         {
          "comments": 7.0,
          "date": "2019-01-06T00:00:00",
          "user": "ellisonbg"
         },
         {
          "comments": 6.5,
          "date": "2019-01-13T00:00:00",
          "user": "ellisonbg"
         },
         {
          "comments": 8.0,
          "date": "2019-02-17T00:00:00",
          "user": "ellisonbg"
         },
         {
          "comments": 1.5,
          "date": "2018-01-28T00:00:00",
          "user": "gnestor"
         },
         {
          "comments": 6.0,
          "date": "2018-03-04T00:00:00",
          "user": "gnestor"
         },
         {
          "comments": 8.0,
          "date": "2018-03-11T00:00:00",
          "user": "gnestor"
         },
         {
          "comments": 4.0,
          "date": "2018-03-18T00:00:00",
          "user": "gnestor"
         },
         {
          "comments": 1.5,
          "date": "2018-03-25T00:00:00",
          "user": "gnestor"
         },
         {
          "comments": 2.5,
          "date": "2018-04-01T00:00:00",
          "user": "gnestor"
         },
         {
          "comments": 6.5,
          "date": "2018-04-08T00:00:00",
          "user": "gnestor"
         },
         {
          "comments": 7.5,
          "date": "2018-04-15T00:00:00",
          "user": "gnestor"
         },
         {
          "comments": 4.0,
          "date": "2018-04-22T00:00:00",
          "user": "gnestor"
         },
         {
          "comments": 4.5,
          "date": "2018-04-29T00:00:00",
          "user": "gnestor"
         },
         {
          "comments": 6.5,
          "date": "2018-05-06T00:00:00",
          "user": "gnestor"
         },
         {
          "comments": 4.0,
          "date": "2018-05-13T00:00:00",
          "user": "gnestor"
         },
         {
          "comments": 10.5,
          "date": "2018-05-27T00:00:00",
          "user": "gnestor"
         },
         {
          "comments": 12.0,
          "date": "2018-06-03T00:00:00",
          "user": "gnestor"
         },
         {
          "comments": 3.5,
          "date": "2018-06-17T00:00:00",
          "user": "gnestor"
         },
         {
          "comments": 2.5,
          "date": "2018-06-24T00:00:00",
          "user": "gnestor"
         },
         {
          "comments": 2.5,
          "date": "2018-07-08T00:00:00",
          "user": "gnestor"
         },
         {
          "comments": 2.5,
          "date": "2018-07-22T00:00:00",
          "user": "gnestor"
         },
         {
          "comments": 2.0,
          "date": "2018-07-29T00:00:00",
          "user": "gnestor"
         },
         {
          "comments": 1.0,
          "date": "2018-08-05T00:00:00",
          "user": "gnestor"
         },
         {
          "comments": 3.0,
          "date": "2018-08-19T00:00:00",
          "user": "gnestor"
         },
         {
          "comments": 3.5,
          "date": "2018-08-26T00:00:00",
          "user": "gnestor"
         },
         {
          "comments": 1.5,
          "date": "2018-09-09T00:00:00",
          "user": "gnestor"
         },
         {
          "comments": 3.5,
          "date": "2018-09-16T00:00:00",
          "user": "gnestor"
         },
         {
          "comments": 3.5,
          "date": "2018-09-23T00:00:00",
          "user": "gnestor"
         },
         {
          "comments": 1.5,
          "date": "2018-10-21T00:00:00",
          "user": "gnestor"
         },
         {
          "comments": 4.0,
          "date": "2018-10-28T00:00:00",
          "user": "gnestor"
         },
         {
          "comments": 3.5,
          "date": "2018-11-04T00:00:00",
          "user": "gnestor"
         },
         {
          "comments": 5.0,
          "date": "2018-11-11T00:00:00",
          "user": "gnestor"
         },
         {
          "comments": 5.0,
          "date": "2018-11-18T00:00:00",
          "user": "gnestor"
         },
         {
          "comments": 3.0,
          "date": "2018-12-02T00:00:00",
          "user": "gnestor"
         },
         {
          "comments": 6.5,
          "date": "2018-12-09T00:00:00",
          "user": "gnestor"
         },
         {
          "comments": 7.0,
          "date": "2018-12-16T00:00:00",
          "user": "gnestor"
         },
         {
          "comments": 4.5,
          "date": "2018-12-23T00:00:00",
          "user": "gnestor"
         },
         {
          "comments": 2.0,
          "date": "2018-12-30T00:00:00",
          "user": "gnestor"
         },
         {
          "comments": 3.0,
          "date": "2019-01-13T00:00:00",
          "user": "gnestor"
         },
         {
          "comments": 3.5,
          "date": "2019-01-20T00:00:00",
          "user": "gnestor"
         },
         {
          "comments": 2.5,
          "date": "2019-01-27T00:00:00",
          "user": "gnestor"
         },
         {
          "comments": 7.5,
          "date": "2019-02-03T00:00:00",
          "user": "gnestor"
         },
         {
          "comments": 10.5,
          "date": "2019-02-10T00:00:00",
          "user": "gnestor"
         },
         {
          "comments": 6.5,
          "date": "2019-02-17T00:00:00",
          "user": "gnestor"
         },
         {
          "comments": 9.5,
          "date": "2017-12-24T00:00:00",
          "user": "ian-r-rose"
         },
         {
          "comments": 8.5,
          "date": "2017-12-31T00:00:00",
          "user": "ian-r-rose"
         },
         {
          "comments": 15.0,
          "date": "2018-01-07T00:00:00",
          "user": "ian-r-rose"
         },
         {
          "comments": 24.0,
          "date": "2018-01-14T00:00:00",
          "user": "ian-r-rose"
         },
         {
          "comments": 23.0,
          "date": "2018-01-21T00:00:00",
          "user": "ian-r-rose"
         },
         {
          "comments": 25.0,
          "date": "2018-01-28T00:00:00",
          "user": "ian-r-rose"
         },
         {
          "comments": 31.5,
          "date": "2018-02-04T00:00:00",
          "user": "ian-r-rose"
         },
         {
          "comments": 41.0,
          "date": "2018-02-11T00:00:00",
          "user": "ian-r-rose"
         },
         {
          "comments": 32.5,
          "date": "2018-02-18T00:00:00",
          "user": "ian-r-rose"
         },
         {
          "comments": 31.0,
          "date": "2018-02-25T00:00:00",
          "user": "ian-r-rose"
         },
         {
          "comments": 44.5,
          "date": "2018-03-04T00:00:00",
          "user": "ian-r-rose"
         },
         {
          "comments": 37.0,
          "date": "2018-03-11T00:00:00",
          "user": "ian-r-rose"
         },
         {
          "comments": 28.0,
          "date": "2018-03-18T00:00:00",
          "user": "ian-r-rose"
         },
         {
          "comments": 28.5,
          "date": "2018-03-25T00:00:00",
          "user": "ian-r-rose"
         },
         {
          "comments": 28.0,
          "date": "2018-04-01T00:00:00",
          "user": "ian-r-rose"
         },
         {
          "comments": 24.0,
          "date": "2018-04-08T00:00:00",
          "user": "ian-r-rose"
         },
         {
          "comments": 27.5,
          "date": "2018-04-15T00:00:00",
          "user": "ian-r-rose"
         },
         {
          "comments": 29.5,
          "date": "2018-04-22T00:00:00",
          "user": "ian-r-rose"
         },
         {
          "comments": 22.5,
          "date": "2018-04-29T00:00:00",
          "user": "ian-r-rose"
         },
         {
          "comments": 26.5,
          "date": "2018-05-06T00:00:00",
          "user": "ian-r-rose"
         },
         {
          "comments": 20.5,
          "date": "2018-05-13T00:00:00",
          "user": "ian-r-rose"
         },
         {
          "comments": 28.5,
          "date": "2018-05-20T00:00:00",
          "user": "ian-r-rose"
         },
         {
          "comments": 50.0,
          "date": "2018-05-27T00:00:00",
          "user": "ian-r-rose"
         },
         {
          "comments": 31.5,
          "date": "2018-06-03T00:00:00",
          "user": "ian-r-rose"
         },
         {
          "comments": 9.0,
          "date": "2018-06-10T00:00:00",
          "user": "ian-r-rose"
         },
         {
          "comments": 11.0,
          "date": "2018-06-17T00:00:00",
          "user": "ian-r-rose"
         },
         {
          "comments": 16.5,
          "date": "2018-06-24T00:00:00",
          "user": "ian-r-rose"
         },
         {
          "comments": 32.0,
          "date": "2018-07-01T00:00:00",
          "user": "ian-r-rose"
         },
         {
          "comments": 23.0,
          "date": "2018-07-08T00:00:00",
          "user": "ian-r-rose"
         },
         {
          "comments": 21.5,
          "date": "2018-07-15T00:00:00",
          "user": "ian-r-rose"
         },
         {
          "comments": 32.5,
          "date": "2018-07-22T00:00:00",
          "user": "ian-r-rose"
         },
         {
          "comments": 20.0,
          "date": "2018-07-29T00:00:00",
          "user": "ian-r-rose"
         },
         {
          "comments": 17.0,
          "date": "2018-08-05T00:00:00",
          "user": "ian-r-rose"
         },
         {
          "comments": 20.5,
          "date": "2018-08-12T00:00:00",
          "user": "ian-r-rose"
         },
         {
          "comments": 18.0,
          "date": "2018-08-19T00:00:00",
          "user": "ian-r-rose"
         },
         {
          "comments": 17.5,
          "date": "2018-08-26T00:00:00",
          "user": "ian-r-rose"
         },
         {
          "comments": 16.5,
          "date": "2018-09-02T00:00:00",
          "user": "ian-r-rose"
         },
         {
          "comments": 38.0,
          "date": "2018-09-09T00:00:00",
          "user": "ian-r-rose"
         },
         {
          "comments": 42.5,
          "date": "2018-09-16T00:00:00",
          "user": "ian-r-rose"
         },
         {
          "comments": 19.0,
          "date": "2018-09-23T00:00:00",
          "user": "ian-r-rose"
         },
         {
          "comments": 12.5,
          "date": "2018-09-30T00:00:00",
          "user": "ian-r-rose"
         },
         {
          "comments": 9.5,
          "date": "2018-10-07T00:00:00",
          "user": "ian-r-rose"
         },
         {
          "comments": 12.5,
          "date": "2018-10-14T00:00:00",
          "user": "ian-r-rose"
         },
         {
          "comments": 11.5,
          "date": "2018-10-21T00:00:00",
          "user": "ian-r-rose"
         },
         {
          "comments": 11.0,
          "date": "2018-10-28T00:00:00",
          "user": "ian-r-rose"
         },
         {
          "comments": 9.0,
          "date": "2018-11-04T00:00:00",
          "user": "ian-r-rose"
         },
         {
          "comments": 9.0,
          "date": "2018-11-11T00:00:00",
          "user": "ian-r-rose"
         },
         {
          "comments": 11.5,
          "date": "2018-11-18T00:00:00",
          "user": "ian-r-rose"
         },
         {
          "comments": 9.0,
          "date": "2018-11-25T00:00:00",
          "user": "ian-r-rose"
         },
         {
          "comments": 12.0,
          "date": "2018-12-02T00:00:00",
          "user": "ian-r-rose"
         },
         {
          "comments": 13.5,
          "date": "2018-12-09T00:00:00",
          "user": "ian-r-rose"
         },
         {
          "comments": 8.5,
          "date": "2018-12-16T00:00:00",
          "user": "ian-r-rose"
         },
         {
          "comments": 5.0,
          "date": "2018-12-23T00:00:00",
          "user": "ian-r-rose"
         },
         {
          "comments": 3.0,
          "date": "2019-01-06T00:00:00",
          "user": "ian-r-rose"
         },
         {
          "comments": 29.5,
          "date": "2019-01-13T00:00:00",
          "user": "ian-r-rose"
         },
         {
          "comments": 36.5,
          "date": "2019-01-20T00:00:00",
          "user": "ian-r-rose"
         },
         {
          "comments": 24.5,
          "date": "2019-01-27T00:00:00",
          "user": "ian-r-rose"
         },
         {
          "comments": 34.0,
          "date": "2019-02-03T00:00:00",
          "user": "ian-r-rose"
         },
         {
          "comments": 28.5,
          "date": "2019-02-10T00:00:00",
          "user": "ian-r-rose"
         },
         {
          "comments": 17.0,
          "date": "2019-02-17T00:00:00",
          "user": "ian-r-rose"
         },
         {
          "comments": 27.0,
          "date": "2016-06-19T00:00:00",
          "user": "jasongrout"
         },
         {
          "comments": 13.0,
          "date": "2016-06-26T00:00:00",
          "user": "jasongrout"
         },
         {
          "comments": 12.0,
          "date": "2017-12-24T00:00:00",
          "user": "jasongrout"
         },
         {
          "comments": 12.0,
          "date": "2017-12-31T00:00:00",
          "user": "jasongrout"
         },
         {
          "comments": 23.0,
          "date": "2018-01-07T00:00:00",
          "user": "jasongrout"
         },
         {
          "comments": 46.0,
          "date": "2018-01-14T00:00:00",
          "user": "jasongrout"
         },
         {
          "comments": 67.5,
          "date": "2018-01-21T00:00:00",
          "user": "jasongrout"
         },
         {
          "comments": 49.0,
          "date": "2018-01-28T00:00:00",
          "user": "jasongrout"
         },
         {
          "comments": 22.5,
          "date": "2018-02-04T00:00:00",
          "user": "jasongrout"
         },
         {
          "comments": 51.5,
          "date": "2018-02-11T00:00:00",
          "user": "jasongrout"
         },
         {
          "comments": 53.0,
          "date": "2018-02-18T00:00:00",
          "user": "jasongrout"
         },
         {
          "comments": 37.0,
          "date": "2018-02-25T00:00:00",
          "user": "jasongrout"
         },
         {
          "comments": 49.0,
          "date": "2018-03-04T00:00:00",
          "user": "jasongrout"
         },
         {
          "comments": 44.0,
          "date": "2018-03-11T00:00:00",
          "user": "jasongrout"
         },
         {
          "comments": 43.5,
          "date": "2018-03-18T00:00:00",
          "user": "jasongrout"
         },
         {
          "comments": 63.0,
          "date": "2018-03-25T00:00:00",
          "user": "jasongrout"
         },
         {
          "comments": 58.0,
          "date": "2018-04-01T00:00:00",
          "user": "jasongrout"
         },
         {
          "comments": 24.5,
          "date": "2018-04-08T00:00:00",
          "user": "jasongrout"
         },
         {
          "comments": 48.5,
          "date": "2018-04-15T00:00:00",
          "user": "jasongrout"
         },
         {
          "comments": 101.5,
          "date": "2018-04-22T00:00:00",
          "user": "jasongrout"
         },
         {
          "comments": 100.0,
          "date": "2018-04-29T00:00:00",
          "user": "jasongrout"
         },
         {
          "comments": 82.5,
          "date": "2018-05-06T00:00:00",
          "user": "jasongrout"
         },
         {
          "comments": 54.5,
          "date": "2018-05-13T00:00:00",
          "user": "jasongrout"
         },
         {
          "comments": 47.0,
          "date": "2018-05-20T00:00:00",
          "user": "jasongrout"
         },
         {
          "comments": 63.5,
          "date": "2018-05-27T00:00:00",
          "user": "jasongrout"
         },
         {
          "comments": 44.5,
          "date": "2018-06-03T00:00:00",
          "user": "jasongrout"
         },
         {
          "comments": 22.5,
          "date": "2018-06-10T00:00:00",
          "user": "jasongrout"
         },
         {
          "comments": 39.0,
          "date": "2018-06-17T00:00:00",
          "user": "jasongrout"
         },
         {
          "comments": 34.0,
          "date": "2018-06-24T00:00:00",
          "user": "jasongrout"
         },
         {
          "comments": 43.5,
          "date": "2018-07-01T00:00:00",
          "user": "jasongrout"
         },
         {
          "comments": 57.5,
          "date": "2018-07-08T00:00:00",
          "user": "jasongrout"
         },
         {
          "comments": 33.5,
          "date": "2018-07-15T00:00:00",
          "user": "jasongrout"
         },
         {
          "comments": 45.0,
          "date": "2018-07-22T00:00:00",
          "user": "jasongrout"
         },
         {
          "comments": 58.5,
          "date": "2018-07-29T00:00:00",
          "user": "jasongrout"
         },
         {
          "comments": 58.0,
          "date": "2018-08-05T00:00:00",
          "user": "jasongrout"
         },
         {
          "comments": 48.0,
          "date": "2018-08-12T00:00:00",
          "user": "jasongrout"
         },
         {
          "comments": 17.0,
          "date": "2018-08-26T00:00:00",
          "user": "jasongrout"
         },
         {
          "comments": 8.0,
          "date": "2018-09-02T00:00:00",
          "user": "jasongrout"
         },
         {
          "comments": 50.0,
          "date": "2018-09-09T00:00:00",
          "user": "jasongrout"
         },
         {
          "comments": 94.5,
          "date": "2018-09-16T00:00:00",
          "user": "jasongrout"
         },
         {
          "comments": 77.0,
          "date": "2018-09-23T00:00:00",
          "user": "jasongrout"
         },
         {
          "comments": 58.5,
          "date": "2018-09-30T00:00:00",
          "user": "jasongrout"
         },
         {
          "comments": 67.0,
          "date": "2018-10-07T00:00:00",
          "user": "jasongrout"
         },
         {
          "comments": 65.5,
          "date": "2018-10-14T00:00:00",
          "user": "jasongrout"
         },
         {
          "comments": 31.5,
          "date": "2018-10-21T00:00:00",
          "user": "jasongrout"
         },
         {
          "comments": 4.0,
          "date": "2018-10-28T00:00:00",
          "user": "jasongrout"
         },
         {
          "comments": 4.0,
          "date": "2018-11-04T00:00:00",
          "user": "jasongrout"
         },
         {
          "comments": 7.5,
          "date": "2018-11-11T00:00:00",
          "user": "jasongrout"
         },
         {
          "comments": 42.0,
          "date": "2018-11-18T00:00:00",
          "user": "jasongrout"
         },
         {
          "comments": 37.5,
          "date": "2018-11-25T00:00:00",
          "user": "jasongrout"
         },
         {
          "comments": 22.0,
          "date": "2018-12-02T00:00:00",
          "user": "jasongrout"
         },
         {
          "comments": 30.5,
          "date": "2018-12-09T00:00:00",
          "user": "jasongrout"
         },
         {
          "comments": 33.5,
          "date": "2018-12-16T00:00:00",
          "user": "jasongrout"
         },
         {
          "comments": 27.5,
          "date": "2018-12-23T00:00:00",
          "user": "jasongrout"
         },
         {
          "comments": 16.0,
          "date": "2018-12-30T00:00:00",
          "user": "jasongrout"
         },
         {
          "comments": 23.0,
          "date": "2019-01-06T00:00:00",
          "user": "jasongrout"
         },
         {
          "comments": 26.0,
          "date": "2019-01-13T00:00:00",
          "user": "jasongrout"
         },
         {
          "comments": 29.5,
          "date": "2019-01-20T00:00:00",
          "user": "jasongrout"
         },
         {
          "comments": 37.5,
          "date": "2019-01-27T00:00:00",
          "user": "jasongrout"
         },
         {
          "comments": 48.5,
          "date": "2019-02-03T00:00:00",
          "user": "jasongrout"
         },
         {
          "comments": 45.0,
          "date": "2019-02-10T00:00:00",
          "user": "jasongrout"
         },
         {
          "comments": 56.5,
          "date": "2019-02-17T00:00:00",
          "user": "jasongrout"
         },
         {
          "comments": 1.0,
          "date": "2018-01-07T00:00:00",
          "user": "jzf2101"
         },
         {
          "comments": 8.0,
          "date": "2018-01-14T00:00:00",
          "user": "jzf2101"
         },
         {
          "comments": 10.5,
          "date": "2018-01-21T00:00:00",
          "user": "jzf2101"
         },
         {
          "comments": 7.0,
          "date": "2018-01-28T00:00:00",
          "user": "jzf2101"
         },
         {
          "comments": 16.5,
          "date": "2018-02-04T00:00:00",
          "user": "jzf2101"
         },
         {
          "comments": 18.5,
          "date": "2018-02-11T00:00:00",
          "user": "jzf2101"
         },
         {
          "comments": 7.0,
          "date": "2018-02-18T00:00:00",
          "user": "jzf2101"
         },
         {
          "comments": 3.0,
          "date": "2018-02-25T00:00:00",
          "user": "jzf2101"
         },
         {
          "comments": 4.5,
          "date": "2018-03-04T00:00:00",
          "user": "jzf2101"
         },
         {
          "comments": 4.0,
          "date": "2018-03-11T00:00:00",
          "user": "jzf2101"
         },
         {
          "comments": 4.5,
          "date": "2018-03-18T00:00:00",
          "user": "jzf2101"
         },
         {
          "comments": 6.0,
          "date": "2018-03-25T00:00:00",
          "user": "jzf2101"
         },
         {
          "comments": 4.5,
          "date": "2018-04-01T00:00:00",
          "user": "jzf2101"
         },
         {
          "comments": 2.0,
          "date": "2018-04-08T00:00:00",
          "user": "jzf2101"
         },
         {
          "comments": 2.0,
          "date": "2018-04-15T00:00:00",
          "user": "jzf2101"
         },
         {
          "comments": 2.0,
          "date": "2018-04-22T00:00:00",
          "user": "jzf2101"
         },
         {
          "comments": 1.5,
          "date": "2018-04-29T00:00:00",
          "user": "jzf2101"
         },
         {
          "comments": 3.0,
          "date": "2018-05-06T00:00:00",
          "user": "jzf2101"
         },
         {
          "comments": 5.0,
          "date": "2018-05-20T00:00:00",
          "user": "jzf2101"
         },
         {
          "comments": 7.5,
          "date": "2018-05-27T00:00:00",
          "user": "jzf2101"
         },
         {
          "comments": 5.0,
          "date": "2018-06-10T00:00:00",
          "user": "jzf2101"
         },
         {
          "comments": 1.0,
          "date": "2018-06-17T00:00:00",
          "user": "jzf2101"
         },
         {
          "comments": 1.0,
          "date": "2018-06-24T00:00:00",
          "user": "jzf2101"
         },
         {
          "comments": 1.5,
          "date": "2018-07-01T00:00:00",
          "user": "jzf2101"
         },
         {
          "comments": 1.5,
          "date": "2018-08-26T00:00:00",
          "user": "jzf2101"
         },
         {
          "comments": 1.0,
          "date": "2018-09-09T00:00:00",
          "user": "jzf2101"
         },
         {
          "comments": 1.0,
          "date": "2018-09-30T00:00:00",
          "user": "jzf2101"
         },
         {
          "comments": 1.0,
          "date": "2018-12-16T00:00:00",
          "user": "jzf2101"
         },
         {
          "comments": 1.5,
          "date": "2017-12-24T00:00:00",
          "user": "rgbkrk"
         },
         {
          "comments": 3.5,
          "date": "2018-01-07T00:00:00",
          "user": "rgbkrk"
         },
         {
          "comments": 3.0,
          "date": "2018-01-14T00:00:00",
          "user": "rgbkrk"
         },
         {
          "comments": 1.0,
          "date": "2018-01-21T00:00:00",
          "user": "rgbkrk"
         },
         {
          "comments": 1.0,
          "date": "2018-01-28T00:00:00",
          "user": "rgbkrk"
         },
         {
          "comments": 1.5,
          "date": "2018-02-04T00:00:00",
          "user": "rgbkrk"
         },
         {
          "comments": 1.5,
          "date": "2018-03-04T00:00:00",
          "user": "rgbkrk"
         },
         {
          "comments": 3.0,
          "date": "2018-03-11T00:00:00",
          "user": "rgbkrk"
         },
         {
          "comments": 7.0,
          "date": "2018-03-18T00:00:00",
          "user": "rgbkrk"
         },
         {
          "comments": 6.0,
          "date": "2018-04-01T00:00:00",
          "user": "rgbkrk"
         },
         {
          "comments": 2.5,
          "date": "2018-05-06T00:00:00",
          "user": "rgbkrk"
         },
         {
          "comments": 1.5,
          "date": "2018-05-13T00:00:00",
          "user": "rgbkrk"
         },
         {
          "comments": 1.5,
          "date": "2018-05-27T00:00:00",
          "user": "rgbkrk"
         },
         {
          "comments": 1.5,
          "date": "2018-08-12T00:00:00",
          "user": "rgbkrk"
         },
         {
          "comments": 1.5,
          "date": "2018-08-19T00:00:00",
          "user": "rgbkrk"
         },
         {
          "comments": 1.5,
          "date": "2018-08-26T00:00:00",
          "user": "rgbkrk"
         },
         {
          "comments": 1.5,
          "date": "2018-09-30T00:00:00",
          "user": "rgbkrk"
         },
         {
          "comments": 2.0,
          "date": "2018-12-02T00:00:00",
          "user": "rgbkrk"
         },
         {
          "comments": 19.0,
          "date": "2018-03-04T00:00:00",
          "user": "saulshanabrook"
         },
         {
          "comments": 22.0,
          "date": "2018-03-11T00:00:00",
          "user": "saulshanabrook"
         },
         {
          "comments": 11.0,
          "date": "2018-03-18T00:00:00",
          "user": "saulshanabrook"
         },
         {
          "comments": 5.5,
          "date": "2018-03-25T00:00:00",
          "user": "saulshanabrook"
         },
         {
          "comments": 5.0,
          "date": "2018-04-01T00:00:00",
          "user": "saulshanabrook"
         },
         {
          "comments": 4.5,
          "date": "2018-04-08T00:00:00",
          "user": "saulshanabrook"
         },
         {
          "comments": 6.5,
          "date": "2018-04-15T00:00:00",
          "user": "saulshanabrook"
         },
         {
          "comments": 11.5,
          "date": "2018-04-22T00:00:00",
          "user": "saulshanabrook"
         },
         {
          "comments": 27.5,
          "date": "2018-04-29T00:00:00",
          "user": "saulshanabrook"
         },
         {
          "comments": 44.5,
          "date": "2018-05-06T00:00:00",
          "user": "saulshanabrook"
         },
         {
          "comments": 33.0,
          "date": "2018-05-13T00:00:00",
          "user": "saulshanabrook"
         },
         {
          "comments": 11.0,
          "date": "2018-05-20T00:00:00",
          "user": "saulshanabrook"
         },
         {
          "comments": 22.0,
          "date": "2018-05-27T00:00:00",
          "user": "saulshanabrook"
         },
         {
          "comments": 24.0,
          "date": "2018-06-03T00:00:00",
          "user": "saulshanabrook"
         },
         {
          "comments": 7.5,
          "date": "2018-06-10T00:00:00",
          "user": "saulshanabrook"
         },
         {
          "comments": 6.5,
          "date": "2018-06-17T00:00:00",
          "user": "saulshanabrook"
         },
         {
          "comments": 5.0,
          "date": "2018-06-24T00:00:00",
          "user": "saulshanabrook"
         },
         {
          "comments": 29.5,
          "date": "2018-07-01T00:00:00",
          "user": "saulshanabrook"
         },
         {
          "comments": 32.0,
          "date": "2018-07-08T00:00:00",
          "user": "saulshanabrook"
         },
         {
          "comments": 7.5,
          "date": "2018-07-15T00:00:00",
          "user": "saulshanabrook"
         },
         {
          "comments": 6.0,
          "date": "2018-07-22T00:00:00",
          "user": "saulshanabrook"
         },
         {
          "comments": 6.5,
          "date": "2018-07-29T00:00:00",
          "user": "saulshanabrook"
         },
         {
          "comments": 7.5,
          "date": "2018-08-05T00:00:00",
          "user": "saulshanabrook"
         },
         {
          "comments": 5.5,
          "date": "2018-08-12T00:00:00",
          "user": "saulshanabrook"
         },
         {
          "comments": 5.5,
          "date": "2018-08-19T00:00:00",
          "user": "saulshanabrook"
         },
         {
          "comments": 7.0,
          "date": "2018-08-26T00:00:00",
          "user": "saulshanabrook"
         },
         {
          "comments": 6.0,
          "date": "2018-09-02T00:00:00",
          "user": "saulshanabrook"
         },
         {
          "comments": 21.5,
          "date": "2018-09-09T00:00:00",
          "user": "saulshanabrook"
         },
         {
          "comments": 47.5,
          "date": "2018-09-16T00:00:00",
          "user": "saulshanabrook"
         },
         {
          "comments": 30.5,
          "date": "2018-09-23T00:00:00",
          "user": "saulshanabrook"
         },
         {
          "comments": 7.0,
          "date": "2018-09-30T00:00:00",
          "user": "saulshanabrook"
         },
         {
          "comments": 10.0,
          "date": "2018-10-07T00:00:00",
          "user": "saulshanabrook"
         },
         {
          "comments": 6.5,
          "date": "2018-10-14T00:00:00",
          "user": "saulshanabrook"
         },
         {
          "comments": 3.5,
          "date": "2018-10-21T00:00:00",
          "user": "saulshanabrook"
         },
         {
          "comments": 2.5,
          "date": "2018-10-28T00:00:00",
          "user": "saulshanabrook"
         },
         {
          "comments": 3.5,
          "date": "2018-11-11T00:00:00",
          "user": "saulshanabrook"
         },
         {
          "comments": 3.5,
          "date": "2018-11-18T00:00:00",
          "user": "saulshanabrook"
         },
         {
          "comments": 8.0,
          "date": "2018-12-02T00:00:00",
          "user": "saulshanabrook"
         },
         {
          "comments": 9.5,
          "date": "2018-12-09T00:00:00",
          "user": "saulshanabrook"
         },
         {
          "comments": 6.0,
          "date": "2018-12-16T00:00:00",
          "user": "saulshanabrook"
         },
         {
          "comments": 6.0,
          "date": "2018-12-23T00:00:00",
          "user": "saulshanabrook"
         },
         {
          "comments": 4.0,
          "date": "2018-12-30T00:00:00",
          "user": "saulshanabrook"
         },
         {
          "comments": 6.0,
          "date": "2019-01-06T00:00:00",
          "user": "saulshanabrook"
         },
         {
          "comments": 10.0,
          "date": "2019-01-13T00:00:00",
          "user": "saulshanabrook"
         },
         {
          "comments": 13.0,
          "date": "2019-01-20T00:00:00",
          "user": "saulshanabrook"
         },
         {
          "comments": 14.5,
          "date": "2019-01-27T00:00:00",
          "user": "saulshanabrook"
         },
         {
          "comments": 13.0,
          "date": "2019-02-03T00:00:00",
          "user": "saulshanabrook"
         },
         {
          "comments": 9.0,
          "date": "2019-02-10T00:00:00",
          "user": "saulshanabrook"
         },
         {
          "comments": 4.5,
          "date": "2019-02-17T00:00:00",
          "user": "saulshanabrook"
         },
         {
          "comments": 6.5,
          "date": "2016-06-19T00:00:00",
          "user": "sccolbert"
         },
         {
          "comments": 5.5,
          "date": "2016-06-26T00:00:00",
          "user": "sccolbert"
         },
         {
          "comments": 1.5,
          "date": "2017-12-24T00:00:00",
          "user": "sccolbert"
         },
         {
          "comments": 3.0,
          "date": "2018-01-28T00:00:00",
          "user": "sccolbert"
         },
         {
          "comments": 2.5,
          "date": "2018-02-11T00:00:00",
          "user": "sccolbert"
         },
         {
          "comments": 4.5,
          "date": "2018-02-25T00:00:00",
          "user": "sccolbert"
         },
         {
          "comments": 11.0,
          "date": "2018-03-11T00:00:00",
          "user": "sccolbert"
         },
         {
          "comments": 8.5,
          "date": "2018-03-18T00:00:00",
          "user": "sccolbert"
         },
         {
          "comments": 2.5,
          "date": "2018-03-25T00:00:00",
          "user": "sccolbert"
         },
         {
          "comments": 1.5,
          "date": "2018-04-01T00:00:00",
          "user": "sccolbert"
         },
         {
          "comments": 6.5,
          "date": "2018-04-15T00:00:00",
          "user": "sccolbert"
         },
         {
          "comments": 7.5,
          "date": "2018-04-22T00:00:00",
          "user": "sccolbert"
         },
         {
          "comments": 6.5,
          "date": "2018-04-29T00:00:00",
          "user": "sccolbert"
         },
         {
          "comments": 10.0,
          "date": "2018-05-06T00:00:00",
          "user": "sccolbert"
         },
         {
          "comments": 10.0,
          "date": "2018-05-13T00:00:00",
          "user": "sccolbert"
         },
         {
          "comments": 5.5,
          "date": "2018-05-20T00:00:00",
          "user": "sccolbert"
         },
         {
          "comments": 1.0,
          "date": "2018-08-26T00:00:00",
          "user": "sccolbert"
         },
         {
          "comments": 3.5,
          "date": "2018-02-18T00:00:00",
          "user": "tgeorgeux"
         },
         {
          "comments": 3.0,
          "date": "2018-03-11T00:00:00",
          "user": "tgeorgeux"
         },
         {
          "comments": 3.0,
          "date": "2018-03-18T00:00:00",
          "user": "tgeorgeux"
         },
         {
          "comments": 1.5,
          "date": "2018-03-25T00:00:00",
          "user": "tgeorgeux"
         },
         {
          "comments": 1.5,
          "date": "2018-04-01T00:00:00",
          "user": "tgeorgeux"
         },
         {
          "comments": 1.5,
          "date": "2018-04-15T00:00:00",
          "user": "tgeorgeux"
         },
         {
          "comments": 4.0,
          "date": "2018-05-06T00:00:00",
          "user": "tgeorgeux"
         },
         {
          "comments": 5.5,
          "date": "2018-05-20T00:00:00",
          "user": "tgeorgeux"
         },
         {
          "comments": 3.0,
          "date": "2018-07-15T00:00:00",
          "user": "tgeorgeux"
         },
         {
          "comments": 1.5,
          "date": "2018-08-12T00:00:00",
          "user": "tgeorgeux"
         },
         {
          "comments": 1.5,
          "date": "2018-08-19T00:00:00",
          "user": "tgeorgeux"
         },
         {
          "comments": 1.0,
          "date": "2018-09-16T00:00:00",
          "user": "tgeorgeux"
         },
         {
          "comments": 1.5,
          "date": "2018-09-23T00:00:00",
          "user": "tgeorgeux"
         },
         {
          "comments": 3.0,
          "date": "2018-09-30T00:00:00",
          "user": "tgeorgeux"
         },
         {
          "comments": 4.0,
          "date": "2018-10-07T00:00:00",
          "user": "tgeorgeux"
         },
         {
          "comments": 3.5,
          "date": "2018-10-14T00:00:00",
          "user": "tgeorgeux"
         },
         {
          "comments": 2.5,
          "date": "2018-10-21T00:00:00",
          "user": "tgeorgeux"
         },
         {
          "comments": 2.0,
          "date": "2018-11-04T00:00:00",
          "user": "tgeorgeux"
         },
         {
          "comments": 2.0,
          "date": "2018-11-11T00:00:00",
          "user": "tgeorgeux"
         },
         {
          "comments": 6.5,
          "date": "2018-11-18T00:00:00",
          "user": "tgeorgeux"
         },
         {
          "comments": 7.5,
          "date": "2018-11-25T00:00:00",
          "user": "tgeorgeux"
         },
         {
          "comments": 3.5,
          "date": "2018-12-02T00:00:00",
          "user": "tgeorgeux"
         },
         {
          "comments": 2.5,
          "date": "2018-12-23T00:00:00",
          "user": "tgeorgeux"
         },
         {
          "comments": 3.0,
          "date": "2019-01-06T00:00:00",
          "user": "tgeorgeux"
         },
         {
          "comments": 3.0,
          "date": "2019-01-13T00:00:00",
          "user": "tgeorgeux"
         },
         {
          "comments": 1.5,
          "date": "2019-02-03T00:00:00",
          "user": "tgeorgeux"
         },
         {
          "comments": 2.0,
          "date": "2019-02-10T00:00:00",
          "user": "tgeorgeux"
         },
         {
          "comments": 2.0,
          "date": "2019-02-17T00:00:00",
          "user": "tgeorgeux"
         },
         {
          "comments": 1.0,
          "date": "2018-01-28T00:00:00",
          "user": "timkpaine"
         },
         {
          "comments": 11.0,
          "date": "2018-02-04T00:00:00",
          "user": "timkpaine"
         },
         {
          "comments": 15.5,
          "date": "2018-02-11T00:00:00",
          "user": "timkpaine"
         },
         {
          "comments": 7.0,
          "date": "2018-02-18T00:00:00",
          "user": "timkpaine"
         },
         {
          "comments": 4.0,
          "date": "2018-02-25T00:00:00",
          "user": "timkpaine"
         },
         {
          "comments": 7.0,
          "date": "2018-03-04T00:00:00",
          "user": "timkpaine"
         },
         {
          "comments": 8.5,
          "date": "2018-03-11T00:00:00",
          "user": "timkpaine"
         },
         {
          "comments": 6.0,
          "date": "2018-03-18T00:00:00",
          "user": "timkpaine"
         },
         {
          "comments": 13.5,
          "date": "2018-03-25T00:00:00",
          "user": "timkpaine"
         },
         {
          "comments": 11.5,
          "date": "2018-04-15T00:00:00",
          "user": "timkpaine"
         },
         {
          "comments": 4.0,
          "date": "2018-04-22T00:00:00",
          "user": "timkpaine"
         },
         {
          "comments": 5.0,
          "date": "2018-04-29T00:00:00",
          "user": "timkpaine"
         },
         {
          "comments": 2.5,
          "date": "2018-05-13T00:00:00",
          "user": "timkpaine"
         },
         {
          "comments": 1.5,
          "date": "2018-05-20T00:00:00",
          "user": "timkpaine"
         },
         {
          "comments": 1.5,
          "date": "2018-05-27T00:00:00",
          "user": "timkpaine"
         },
         {
          "comments": 1.5,
          "date": "2018-06-03T00:00:00",
          "user": "timkpaine"
         },
         {
          "comments": 2.0,
          "date": "2018-06-10T00:00:00",
          "user": "timkpaine"
         },
         {
          "comments": 2.5,
          "date": "2018-06-24T00:00:00",
          "user": "timkpaine"
         },
         {
          "comments": 2.0,
          "date": "2018-07-22T00:00:00",
          "user": "timkpaine"
         },
         {
          "comments": 2.0,
          "date": "2018-08-05T00:00:00",
          "user": "timkpaine"
         },
         {
          "comments": 4.5,
          "date": "2018-08-12T00:00:00",
          "user": "timkpaine"
         },
         {
          "comments": 5.5,
          "date": "2018-08-26T00:00:00",
          "user": "timkpaine"
         },
         {
          "comments": 7.0,
          "date": "2018-09-02T00:00:00",
          "user": "timkpaine"
         },
         {
          "comments": 5.5,
          "date": "2018-10-14T00:00:00",
          "user": "timkpaine"
         },
         {
          "comments": 2.5,
          "date": "2018-10-21T00:00:00",
          "user": "timkpaine"
         },
         {
          "comments": 3.0,
          "date": "2018-10-28T00:00:00",
          "user": "timkpaine"
         },
         {
          "comments": 3.5,
          "date": "2018-12-02T00:00:00",
          "user": "timkpaine"
         },
         {
          "comments": 3.5,
          "date": "2018-12-09T00:00:00",
          "user": "timkpaine"
         },
         {
          "comments": 1.5,
          "date": "2019-01-13T00:00:00",
          "user": "timkpaine"
         },
         {
          "comments": 2.0,
          "date": "2019-01-20T00:00:00",
          "user": "timkpaine"
         },
         {
          "comments": 1.0,
          "date": "2018-01-07T00:00:00",
          "user": "vidartf"
         },
         {
          "comments": 6.5,
          "date": "2018-01-14T00:00:00",
          "user": "vidartf"
         },
         {
          "comments": 7.0,
          "date": "2018-01-21T00:00:00",
          "user": "vidartf"
         },
         {
          "comments": 2.5,
          "date": "2018-01-28T00:00:00",
          "user": "vidartf"
         },
         {
          "comments": 2.5,
          "date": "2018-02-04T00:00:00",
          "user": "vidartf"
         },
         {
          "comments": 8.0,
          "date": "2018-02-11T00:00:00",
          "user": "vidartf"
         },
         {
          "comments": 9.0,
          "date": "2018-02-18T00:00:00",
          "user": "vidartf"
         },
         {
          "comments": 5.0,
          "date": "2018-02-25T00:00:00",
          "user": "vidartf"
         },
         {
          "comments": 8.5,
          "date": "2018-03-04T00:00:00",
          "user": "vidartf"
         },
         {
          "comments": 7.0,
          "date": "2018-03-11T00:00:00",
          "user": "vidartf"
         },
         {
          "comments": 3.5,
          "date": "2018-03-18T00:00:00",
          "user": "vidartf"
         },
         {
          "comments": 4.5,
          "date": "2018-03-25T00:00:00",
          "user": "vidartf"
         },
         {
          "comments": 3.0,
          "date": "2018-04-01T00:00:00",
          "user": "vidartf"
         },
         {
          "comments": 2.5,
          "date": "2018-04-08T00:00:00",
          "user": "vidartf"
         },
         {
          "comments": 10.5,
          "date": "2018-04-15T00:00:00",
          "user": "vidartf"
         },
         {
          "comments": 17.0,
          "date": "2018-04-22T00:00:00",
          "user": "vidartf"
         },
         {
          "comments": 17.0,
          "date": "2018-04-29T00:00:00",
          "user": "vidartf"
         },
         {
          "comments": 9.5,
          "date": "2018-05-06T00:00:00",
          "user": "vidartf"
         },
         {
          "comments": 5.5,
          "date": "2018-05-13T00:00:00",
          "user": "vidartf"
         },
         {
          "comments": 7.5,
          "date": "2018-05-20T00:00:00",
          "user": "vidartf"
         },
         {
          "comments": 14.5,
          "date": "2018-05-27T00:00:00",
          "user": "vidartf"
         },
         {
          "comments": 13.5,
          "date": "2018-06-03T00:00:00",
          "user": "vidartf"
         },
         {
          "comments": 4.5,
          "date": "2018-06-10T00:00:00",
          "user": "vidartf"
         },
         {
          "comments": 4.5,
          "date": "2018-06-17T00:00:00",
          "user": "vidartf"
         },
         {
          "comments": 4.5,
          "date": "2018-06-24T00:00:00",
          "user": "vidartf"
         },
         {
          "comments": 4.0,
          "date": "2018-07-01T00:00:00",
          "user": "vidartf"
         },
         {
          "comments": 6.5,
          "date": "2018-07-08T00:00:00",
          "user": "vidartf"
         },
         {
          "comments": 6.5,
          "date": "2018-07-22T00:00:00",
          "user": "vidartf"
         },
         {
          "comments": 6.0,
          "date": "2018-08-05T00:00:00",
          "user": "vidartf"
         },
         {
          "comments": 6.0,
          "date": "2018-08-12T00:00:00",
          "user": "vidartf"
         },
         {
          "comments": 9.5,
          "date": "2018-08-19T00:00:00",
          "user": "vidartf"
         },
         {
          "comments": 12.0,
          "date": "2018-08-26T00:00:00",
          "user": "vidartf"
         },
         {
          "comments": 7.0,
          "date": "2018-09-02T00:00:00",
          "user": "vidartf"
         },
         {
          "comments": 9.0,
          "date": "2018-09-09T00:00:00",
          "user": "vidartf"
         },
         {
          "comments": 11.5,
          "date": "2018-09-16T00:00:00",
          "user": "vidartf"
         },
         {
          "comments": 6.5,
          "date": "2018-09-23T00:00:00",
          "user": "vidartf"
         },
         {
          "comments": 1.5,
          "date": "2018-09-30T00:00:00",
          "user": "vidartf"
         },
         {
          "comments": 1.5,
          "date": "2018-10-07T00:00:00",
          "user": "vidartf"
         },
         {
          "comments": 4.5,
          "date": "2018-10-14T00:00:00",
          "user": "vidartf"
         },
         {
          "comments": 4.5,
          "date": "2018-10-21T00:00:00",
          "user": "vidartf"
         },
         {
          "comments": 2.0,
          "date": "2018-10-28T00:00:00",
          "user": "vidartf"
         },
         {
          "comments": 1.5,
          "date": "2018-11-04T00:00:00",
          "user": "vidartf"
         },
         {
          "comments": 3.5,
          "date": "2018-11-11T00:00:00",
          "user": "vidartf"
         },
         {
          "comments": 3.5,
          "date": "2018-11-18T00:00:00",
          "user": "vidartf"
         },
         {
          "comments": 1.5,
          "date": "2018-11-25T00:00:00",
          "user": "vidartf"
         },
         {
          "comments": 3.5,
          "date": "2018-12-02T00:00:00",
          "user": "vidartf"
         },
         {
          "comments": 4.5,
          "date": "2018-12-09T00:00:00",
          "user": "vidartf"
         },
         {
          "comments": 4.0,
          "date": "2018-12-16T00:00:00",
          "user": "vidartf"
         },
         {
          "comments": 7.5,
          "date": "2018-12-23T00:00:00",
          "user": "vidartf"
         },
         {
          "comments": 6.5,
          "date": "2018-12-30T00:00:00",
          "user": "vidartf"
         },
         {
          "comments": 6.5,
          "date": "2019-02-03T00:00:00",
          "user": "vidartf"
         },
         {
          "comments": 11.5,
          "date": "2019-02-10T00:00:00",
          "user": "vidartf"
         },
         {
          "comments": 10.0,
          "date": "2019-02-17T00:00:00",
          "user": "vidartf"
         }
        ]
       },
       "layer": [
        {
         "data": {
          "name": "data-fb4055abe9a63f4760106178192f880a"
         },
         "encoding": {
          "color": {
           "field": "user",
           "type": "nominal"
          },
          "opacity": {
           "value": 0
          },
          "tooltip": {
           "field": "user",
           "type": "nominal"
          },
          "x": {
           "field": "date",
           "scale": {
            "domain": [
             "2016-01-01",
             "2019-02-01"
            ]
           },
           "type": "temporal"
          },
          "y": {
           "field": "comments",
           "type": "quantitative"
          }
         },
         "mark": {
          "clip": true,
          "type": "circle"
         },
         "selection": {
          "selector001": {
           "fields": [
            "user"
           ],
           "nearest": true,
           "on": "mouseover",
           "type": "single"
          }
         },
         "width": 1000
        },
        {
         "data": {
          "name": "data-fb4055abe9a63f4760106178192f880a"
         },
         "encoding": {
          "color": {
           "condition": {
            "field": "user",
            "selection": "selector001",
            "type": "nominal"
           },
           "value": "lightgray"
          },
          "size": {
           "condition": {
            "selection": {
             "not": "selector001"
            },
            "value": 1
           },
           "value": 4
          },
          "tooltip": {
           "field": "user",
           "type": "nominal"
          },
          "x": {
           "field": "date",
           "scale": {
            "domain": [
             "2016-01-01",
             "2019-02-01"
            ]
           },
           "type": "temporal"
          },
          "y": {
           "field": "comments",
           "type": "quantitative"
          }
         },
         "mark": {
          "clip": true,
          "type": "line"
         },
         "width": 1000
        }
       ]
      },
      "text/plain": [
       "<VegaLite 2 object>\n",
       "\n",
       "If you see this message, it means the renderer has not been properly enabled\n",
       "for the frontend that you are using. For more information, see\n",
       "https://altair-viz.github.io/user_guide/troubleshooting.html\n"
      ]
     },
     "execution_count": 14,
     "metadata": {},
     "output_type": "execute_result"
    }
   ],
   "source": [
    "selectable_line_plot(user_data.reset_index(), 'date', 'comments', 'user')"
   ]
  },
  {
   "cell_type": "code",
   "execution_count": 15,
   "metadata": {
    "papermill": {
     "duration": 0.25066,
     "end_time": "2019-02-14T22:41:55.566035",
     "exception": false,
     "start_time": "2019-02-14T22:41:55.315375",
     "status": "completed"
    },
    "tags": []
   },
   "outputs": [
    {
     "data": {
      "application/vnd.vegalite.v2+json": {
       "$schema": "https://vega.github.io/schema/vega-lite/v2.6.0.json",
       "config": {
        "view": {
         "height": 300,
         "width": 400
        }
       },
       "data": {
        "name": "data-6edc9f8cbc8580616bfd4175f89d1ba4"
       },
       "datasets": {
        "data-6edc9f8cbc8580616bfd4175f89d1ba4": [
         {
          "comments": 69.5,
          "date": "2016-06-19T00:00:00"
         },
         {
          "comments": 44.5,
          "date": "2016-06-26T00:00:00"
         },
         {
          "comments": 9.5,
          "date": "2016-07-03T00:00:00"
         },
         {
          "comments": 13.0,
          "date": "2016-07-10T00:00:00"
         },
         {
          "comments": 13.0,
          "date": "2016-07-17T00:00:00"
         },
         {
          "comments": 5.0,
          "date": "2016-07-24T00:00:00"
         },
         {
          "comments": 1.0,
          "date": "2016-08-21T00:00:00"
         },
         {
          "comments": 13.5,
          "date": "2016-08-28T00:00:00"
         },
         {
          "comments": 14.5,
          "date": "2016-09-04T00:00:00"
         },
         {
          "comments": 3.5,
          "date": "2016-09-11T00:00:00"
         },
         {
          "comments": 3.5,
          "date": "2016-12-25T00:00:00"
         },
         {
          "comments": 2.0,
          "date": "2017-02-05T00:00:00"
         },
         {
          "comments": 1.0,
          "date": "2017-02-12T00:00:00"
         },
         {
          "comments": 1.0,
          "date": "2017-03-19T00:00:00"
         },
         {
          "comments": 1.5,
          "date": "2017-05-14T00:00:00"
         },
         {
          "comments": 1.5,
          "date": "2017-05-28T00:00:00"
         },
         {
          "comments": 2.0,
          "date": "2017-06-11T00:00:00"
         },
         {
          "comments": 21.0,
          "date": "2017-12-17T00:00:00"
         },
         {
          "comments": 142.0,
          "date": "2017-12-24T00:00:00"
         },
         {
          "comments": 127.0,
          "date": "2017-12-31T00:00:00"
         },
         {
          "comments": 126.0,
          "date": "2018-01-07T00:00:00"
         },
         {
          "comments": 180.5,
          "date": "2018-01-14T00:00:00"
         },
         {
          "comments": 185.5,
          "date": "2018-01-21T00:00:00"
         },
         {
          "comments": 152.0,
          "date": "2018-01-28T00:00:00"
         },
         {
          "comments": 170.5,
          "date": "2018-02-04T00:00:00"
         },
         {
          "comments": 238.0,
          "date": "2018-02-11T00:00:00"
         },
         {
          "comments": 168.0,
          "date": "2018-02-18T00:00:00"
         },
         {
          "comments": 159.0,
          "date": "2018-02-25T00:00:00"
         },
         {
          "comments": 252.0,
          "date": "2018-03-04T00:00:00"
         },
         {
          "comments": 254.5,
          "date": "2018-03-11T00:00:00"
         },
         {
          "comments": 185.0,
          "date": "2018-03-18T00:00:00"
         },
         {
          "comments": 149.5,
          "date": "2018-03-25T00:00:00"
         },
         {
          "comments": 121.0,
          "date": "2018-04-01T00:00:00"
         },
         {
          "comments": 86.0,
          "date": "2018-04-08T00:00:00"
         },
         {
          "comments": 151.0,
          "date": "2018-04-15T00:00:00"
         },
         {
          "comments": 220.5,
          "date": "2018-04-22T00:00:00"
         },
         {
          "comments": 217.5,
          "date": "2018-04-29T00:00:00"
         },
         {
          "comments": 219.0,
          "date": "2018-05-06T00:00:00"
         },
         {
          "comments": 159.0,
          "date": "2018-05-13T00:00:00"
         },
         {
          "comments": 140.5,
          "date": "2018-05-20T00:00:00"
         },
         {
          "comments": 214.0,
          "date": "2018-05-27T00:00:00"
         },
         {
          "comments": 138.0,
          "date": "2018-06-03T00:00:00"
         },
         {
          "comments": 69.5,
          "date": "2018-06-10T00:00:00"
         },
         {
          "comments": 92.0,
          "date": "2018-06-17T00:00:00"
         },
         {
          "comments": 85.0,
          "date": "2018-06-24T00:00:00"
         },
         {
          "comments": 152.0,
          "date": "2018-07-01T00:00:00"
         },
         {
          "comments": 164.5,
          "date": "2018-07-08T00:00:00"
         },
         {
          "comments": 108.0,
          "date": "2018-07-15T00:00:00"
         },
         {
          "comments": 145.5,
          "date": "2018-07-22T00:00:00"
         },
         {
          "comments": 152.0,
          "date": "2018-07-29T00:00:00"
         },
         {
          "comments": 189.0,
          "date": "2018-08-05T00:00:00"
         },
         {
          "comments": 218.0,
          "date": "2018-08-12T00:00:00"
         },
         {
          "comments": 188.5,
          "date": "2018-08-19T00:00:00"
         },
         {
          "comments": 166.0,
          "date": "2018-08-26T00:00:00"
         },
         {
          "comments": 122.5,
          "date": "2018-09-02T00:00:00"
         },
         {
          "comments": 206.0,
          "date": "2018-09-09T00:00:00"
         },
         {
          "comments": 268.0,
          "date": "2018-09-16T00:00:00"
         },
         {
          "comments": 218.0,
          "date": "2018-09-23T00:00:00"
         },
         {
          "comments": 173.0,
          "date": "2018-09-30T00:00:00"
         },
         {
          "comments": 174.5,
          "date": "2018-10-07T00:00:00"
         },
         {
          "comments": 151.5,
          "date": "2018-10-14T00:00:00"
         },
         {
          "comments": 96.5,
          "date": "2018-10-21T00:00:00"
         },
         {
          "comments": 74.5,
          "date": "2018-10-28T00:00:00"
         },
         {
          "comments": 66.5,
          "date": "2018-11-04T00:00:00"
         },
         {
          "comments": 62.5,
          "date": "2018-11-11T00:00:00"
         },
         {
          "comments": 97.0,
          "date": "2018-11-18T00:00:00"
         },
         {
          "comments": 69.0,
          "date": "2018-11-25T00:00:00"
         },
         {
          "comments": 88.0,
          "date": "2018-12-02T00:00:00"
         },
         {
          "comments": 114.5,
          "date": "2018-12-09T00:00:00"
         },
         {
          "comments": 95.0,
          "date": "2018-12-16T00:00:00"
         },
         {
          "comments": 78.0,
          "date": "2018-12-23T00:00:00"
         },
         {
          "comments": 36.5,
          "date": "2018-12-30T00:00:00"
         },
         {
          "comments": 57.5,
          "date": "2019-01-06T00:00:00"
         },
         {
          "comments": 90.5,
          "date": "2019-01-13T00:00:00"
         },
         {
          "comments": 92.0,
          "date": "2019-01-20T00:00:00"
         },
         {
          "comments": 94.0,
          "date": "2019-01-27T00:00:00"
         },
         {
          "comments": 131.5,
          "date": "2019-02-03T00:00:00"
         },
         {
          "comments": 127.0,
          "date": "2019-02-10T00:00:00"
         },
         {
          "comments": 124.5,
          "date": "2019-02-17T00:00:00"
         }
        ]
       },
       "encoding": {
        "x": {
         "field": "date",
         "scale": {
          "domain": [
           "2016-01-01",
           "2019-02-01"
          ]
         },
         "type": "temporal"
        },
        "y": {
         "field": "comments",
         "type": "quantitative"
        }
       },
       "mark": {
        "clip": true,
        "type": "line"
       },
       "width": 1000
      },
      "text/plain": [
       "<VegaLite 2 object>\n",
       "\n",
       "If you see this message, it means the renderer has not been properly enabled\n",
       "for the frontend that you are using. For more information, see\n",
       "https://altair-viz.github.io/user_guide/troubleshooting.html\n"
      ]
     },
     "execution_count": 15,
     "metadata": {},
     "output_type": "execute_result"
    }
   ],
   "source": [
    "# Comment totals over time\n",
    "all_user_data = user_data.reset_index().groupby('date').sum()['comments'].reset_index()\n",
    "alt.Chart(data=all_user_data, width=1000).mark_line(clip=True).encode(\n",
    "    x=alt.X('date', scale=alt.Scale(domain=[\"2016-01-01\", \"2019-02-01\"])),\n",
    "    y='comments',\n",
    ")"
   ]
  },
  {
   "cell_type": "markdown",
   "metadata": {
    "papermill": {
     "duration": 0.103214,
     "end_time": "2019-02-14T22:41:55.779203",
     "exception": false,
     "start_time": "2019-02-14T22:41:55.675989",
     "status": "completed"
    },
    "tags": []
   },
   "source": [
    "## Distribution of comments over top N contributors"
   ]
  },
  {
   "cell_type": "code",
   "execution_count": 16,
   "metadata": {
    "papermill": {
     "duration": 0.131569,
     "end_time": "2019-02-14T22:41:55.998833",
     "exception": false,
     "start_time": "2019-02-14T22:41:55.867264",
     "status": "completed"
    },
    "tags": []
   },
   "outputs": [],
   "source": [
    "# For each week, calculate the top 20 contributions, turn them into percentages, order them, store the result"
   ]
  },
  {
   "cell_type": "code",
   "execution_count": 17,
   "metadata": {
    "papermill": {
     "duration": 2.346976,
     "end_time": "2019-02-14T22:41:58.447281",
     "exception": false,
     "start_time": "2019-02-14T22:41:56.100305",
     "status": "completed"
    },
    "tags": []
   },
   "outputs": [],
   "source": [
    "monthly = weekly.groupby('user').resample('M', on='date').sum().reset_index()"
   ]
  },
  {
   "cell_type": "code",
   "execution_count": 18,
   "metadata": {
    "papermill": {
     "duration": 0.254842,
     "end_time": "2019-02-14T22:41:58.946606",
     "exception": false,
     "start_time": "2019-02-14T22:41:58.691764",
     "status": "completed"
    },
    "tags": []
   },
   "outputs": [],
   "source": [
    "n_comments_plot = 20"
   ]
  },
  {
   "cell_type": "code",
   "execution_count": 19,
   "metadata": {
    "papermill": {
     "duration": 0.312695,
     "end_time": "2019-02-14T22:41:59.403209",
     "exception": false,
     "start_time": "2019-02-14T22:41:59.090514",
     "status": "completed"
    },
    "tags": []
   },
   "outputs": [],
   "source": [
    "monthly_dist = {}\n",
    "for iweek, ivals in monthly.groupby('date'):\n",
    "    comments_dist = ivals.groupby('user').sum()['comments']\n",
    "    comments_dist = comments_dist / comments_dist.sum()\n",
    "    comments_dist = comments_dist.sort_values(ascending=False)\n",
    "    comments_placeholder = [0] * n_comments_plot\n",
    "\n",
    "    for ii, (iname, ipart) in enumerate(comments_dist.items()):\n",
    "        if ii + 1 > n_comments_plot:\n",
    "            continue\n",
    "        comments_placeholder[ii] = ipart\n",
    "    monthly_dist[iweek] = comments_placeholder"
   ]
  },
  {
   "cell_type": "code",
   "execution_count": 20,
   "metadata": {
    "papermill": {
     "duration": 0.295835,
     "end_time": "2019-02-14T22:41:59.810360",
     "exception": false,
     "start_time": "2019-02-14T22:41:59.514525",
     "status": "completed"
    },
    "tags": []
   },
   "outputs": [],
   "source": [
    "monthly_dist = pd.DataFrame(monthly_dist)\n",
    "# monthly_dist.index.name = 'position'\n",
    "# monthly_dist.columns.name = 'date'\n",
    "# monthly_dist = monthly_dist.stack().reset_index().rename(columns={0: 'dist'})"
   ]
  },
  {
   "cell_type": "code",
   "execution_count": 21,
   "metadata": {
    "papermill": {
     "duration": 0.380995,
     "end_time": "2019-02-14T22:42:00.497868",
     "exception": false,
     "start_time": "2019-02-14T22:42:00.116873",
     "status": "completed"
    },
    "tags": []
   },
   "outputs": [],
   "source": [
    "monthly_dist.columns = monthly_dist.columns.date"
   ]
  },
  {
   "cell_type": "code",
   "execution_count": 22,
   "metadata": {
    "papermill": {
     "duration": 0.226405,
     "end_time": "2019-02-14T22:42:00.923658",
     "exception": false,
     "start_time": "2019-02-14T22:42:00.697253",
     "status": "completed"
    },
    "tags": []
   },
   "outputs": [],
   "source": [
    "from matplotlib import pyplot as plt"
   ]
  },
  {
   "cell_type": "code",
   "execution_count": 23,
   "metadata": {
    "papermill": {
     "duration": 2.223547,
     "end_time": "2019-02-14T22:42:03.387166",
     "exception": false,
     "start_time": "2019-02-14T22:42:01.163619",
     "status": "completed"
    },
    "tags": []
   },
   "outputs": [
    {
     "name": "stderr",
     "output_type": "stream",
     "text": [
      "/home/choldgraf/anaconda/envs/dev/lib/python3.6/site-packages/ipykernel_launcher.py:2: RuntimeWarning: divide by zero encountered in log10\n",
      "  \n"
     ]
    },
    {
     "data": {
      "text/plain": [
       "[Text(114.0, 0.5, 'Rank'),\n",
       " Text(0.5, 1.0, 'Log % Comments over time\\ntop 20 commentors')]"
      ]
     },
     "execution_count": 23,
     "metadata": {},
     "output_type": "execute_result"
    },
    {
     "data": {
      "image/png": "[encoded data removed]",
      "text/plain": [
       "<Figure size 1080x360 with 2 Axes>"
      ]
     },
     "metadata": {},
     "output_type": "display_data"
    }
   ],
   "source": [
    "fig, ax = plt.subplots(figsize=(15, 5))\n",
    "ax = sns.heatmap(np.log10(100 * monthly_dist), vmin=0, vmax=2)\n",
    "ax.set(ylabel=\"Rank\", title=\"Log % Comments over time\\ntop {} commentors\".format(n_comments_plot))"
   ]
  },
  {
   "cell_type": "markdown",
   "metadata": {
    "papermill": {
     "duration": 0.14156,
     "end_time": "2019-02-14T22:42:03.625967",
     "exception": false,
     "start_time": "2019-02-14T22:42:03.484407",
     "status": "completed"
    },
    "tags": []
   },
   "source": [
    "## Correlations between members"
   ]
  },
  {
   "cell_type": "code",
   "execution_count": 24,
   "metadata": {
    "papermill": {
     "duration": 0.170129,
     "end_time": "2019-02-14T22:42:03.936996",
     "exception": false,
     "start_time": "2019-02-14T22:42:03.766867",
     "status": "completed"
    },
    "tags": []
   },
   "outputs": [],
   "source": [
    "correlations = weekly.query(\"user in @plt_users\").set_index(['date', 'user'])['comments'].unstack('user').corr()\n",
    "correlations = correlations.replace(np.nan, 0)"
   ]
  },
  {
   "cell_type": "code",
   "execution_count": 25,
   "metadata": {
    "papermill": {
     "duration": 2.219088,
     "end_time": "2019-02-14T22:42:06.301627",
     "exception": false,
     "start_time": "2019-02-14T22:42:04.082539",
     "status": "completed"
    },
    "tags": []
   },
   "outputs": [
    {
     "data": {
      "text/plain": [
       "<seaborn.matrix.ClusterGrid at 0x7fb5e657a5f8>"
      ]
     },
     "execution_count": 25,
     "metadata": {},
     "output_type": "execute_result"
    },
    {
     "data": {
      "image/png": "[encoded data removed]",
      "text/plain": [
       "<Figure size 720x720 with 4 Axes>"
      ]
     },
     "metadata": {},
     "output_type": "display_data"
    }
   ],
   "source": [
    "sns.clustermap(correlations, vmin=-1, vmax=1, cmap='RdYlBu_r')"
   ]
  },
  {
   "cell_type": "code",
   "execution_count": null,
   "metadata": {
    "papermill": {
     "duration": 0.354372,
     "end_time": "2019-02-14T22:42:06.808927",
     "exception": false,
     "start_time": "2019-02-14T22:42:06.454555",
     "status": "completed"
    },
    "tags": []
   },
   "outputs": [],
   "source": []
  }
 ],
 "metadata": {
  "kernelspec": {
   "display_name": "Python 3",
   "language": "python",
   "name": "python3"
  },
  "language_info": {
   "codemirror_mode": {
    "name": "ipython",
    "version": 3
   },
   "file_extension": ".py",
   "mimetype": "text/x-python",
   "name": "python",
   "nbconvert_exporter": "python",
   "pygments_lexer": "ipython3",
   "version": "3.6.5"
  },
  "papermill": {
   "duration": 23.972115,
   "end_time": "2019-02-14T22:42:08.512739",
   "environment_variables": {},
   "exception": null,
   "input_path": "./viz_data.ipynb",
   "output_path": "../reports/viz_data_jupyterlab-jupyterlab.ipynb",
   "parameters": {
    "org": "jupyterlab",
    "plot_N": 20,
    "repo": "jupyterlab"
   },
   "start_time": "2019-02-14T22:41:44.540624",
   "version": "0.18.0"
  }
 },
 "nbformat": 4,
 "nbformat_minor": 2
}