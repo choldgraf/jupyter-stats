{
 "cells": [
  {
   "cell_type": "markdown",
   "metadata": {
    "papermill": {
     "duration": 0.03257,
     "end_time": "2019-02-14T22:39:28.226511",
     "exception": false,
     "start_time": "2019-02-14T22:39:28.193941",
     "status": "completed"
    },
    "tags": []
   },
   "source": [
    "## Parameters"
   ]
  },
  {
   "cell_type": "code",
   "execution_count": 1,
   "metadata": {
    "papermill": {
     "duration": 0.043687,
     "end_time": "2019-02-14T22:39:28.297925",
     "exception": false,
     "start_time": "2019-02-14T22:39:28.254238",
     "status": "completed"
    },
    "tags": [
     "parameters"
    ]
   },
   "outputs": [],
   "source": [
    "org = 'jupyterhub'\n",
    "repo = 'jupyterhub'\n",
    "plot_N = 25  # Number of lines to add"
   ]
  },
  {
   "cell_type": "code",
   "execution_count": 2,
   "metadata": {
    "papermill": {
     "duration": 0.051829,
     "end_time": "2019-02-14T22:39:28.382269",
     "exception": false,
     "start_time": "2019-02-14T22:39:28.330440",
     "status": "completed"
    },
    "tags": [
     "injected-parameters"
    ]
   },
   "outputs": [],
   "source": [
    "# Parameters\n",
    "org = \"jupyter\"\n",
    "repo = \"repo2docker\"\n",
    "plot_N = 20\n"
   ]
  },
  {
   "cell_type": "markdown",
   "metadata": {
    "papermill": {
     "duration": 0.029805,
     "end_time": "2019-02-14T22:39:28.445929",
     "exception": false,
     "start_time": "2019-02-14T22:39:28.416124",
     "status": "completed"
    },
    "tags": []
   },
   "source": [
    "## Functions"
   ]
  },
  {
   "cell_type": "code",
   "execution_count": 3,
   "metadata": {
    "papermill": {
     "duration": 0.034241,
     "end_time": "2019-02-14T22:39:28.512541",
     "exception": false,
     "start_time": "2019-02-14T22:39:28.478300",
     "status": "completed"
    },
    "tags": []
   },
   "outputs": [],
   "source": [
    "def selectable_line_plot(data, x, y, color, width=1000):\n",
    "\n",
    "    select = alt.selection(type='single', on='mouseover',\n",
    "                           fields=[color], nearest=True)\n",
    "\n",
    "    base = alt.Chart(data=data, width=width).encode(\n",
    "        x=alt.X(x, scale=alt.Scale(domain=[\"2016-01-01\", \"2019-02-01\"])),\n",
    "        y=y,\n",
    "        color=color,\n",
    "        tooltip=color,\n",
    "    )\n",
    "\n",
    "    points = base.mark_circle(clip=True).encode(\n",
    "        opacity=alt.value(0)\n",
    "    ).add_selection(select)\n",
    "\n",
    "\n",
    "    lines = base.mark_line(clip=True).encode(\n",
    "        size=alt.condition(~select, alt.value(1), alt.value(4)),\n",
    "        color=alt.condition(select, color, alt.value('lightgray'))\n",
    "    )\n",
    "\n",
    "    return points + lines"
   ]
  },
  {
   "cell_type": "markdown",
   "metadata": {
    "papermill": {
     "duration": 0.027219,
     "end_time": "2019-02-14T22:39:28.578448",
     "exception": false,
     "start_time": "2019-02-14T22:39:28.551229",
     "status": "completed"
    },
    "tags": []
   },
   "source": [
    "# Load data"
   ]
  },
  {
   "cell_type": "code",
   "execution_count": 4,
   "metadata": {
    "papermill": {
     "duration": 1.528856,
     "end_time": "2019-02-14T22:39:30.139949",
     "exception": false,
     "start_time": "2019-02-14T22:39:28.611093",
     "status": "completed"
    },
    "tags": []
   },
   "outputs": [],
   "source": [
    "import pandas as pd\n",
    "import seaborn as sns\n",
    "import altair as alt\n",
    "import numpy as np"
   ]
  },
  {
   "cell_type": "code",
   "execution_count": 5,
   "metadata": {
    "papermill": {
     "duration": 0.114901,
     "end_time": "2019-02-14T22:39:30.278701",
     "exception": false,
     "start_time": "2019-02-14T22:39:30.163800",
     "status": "completed"
    },
    "tags": []
   },
   "outputs": [],
   "source": [
    "# Read in data\n",
    "daily = pd.read_csv('../data/daily.csv', index_col=0)\n",
    "\n",
    "# Convert indices to date\n",
    "daily['date'] = pd.to_datetime(daily['date'])\n",
    "daily = daily.query('org == @org and repo == @repo').drop(['org', 'repo'], axis=1)\n",
    "daily = daily.replace(np.nan, 0)"
   ]
  },
  {
   "cell_type": "markdown",
   "metadata": {
    "papermill": {
     "duration": 0.054087,
     "end_time": "2019-02-14T22:39:30.361549",
     "exception": false,
     "start_time": "2019-02-14T22:39:30.307462",
     "status": "completed"
    },
    "tags": []
   },
   "source": [
    "# Features"
   ]
  },
  {
   "cell_type": "code",
   "execution_count": 6,
   "metadata": {
    "papermill": {
     "duration": 0.417838,
     "end_time": "2019-02-14T22:39:30.823119",
     "exception": false,
     "start_time": "2019-02-14T22:39:30.405281",
     "status": "completed"
    },
    "tags": []
   },
   "outputs": [],
   "source": [
    "weekly = daily.groupby('user').resample('W', on='date').sum().reset_index()\n",
    "weekly = weekly.query('commits != 0 or comments != 0')"
   ]
  },
  {
   "cell_type": "code",
   "execution_count": 7,
   "metadata": {
    "papermill": {
     "duration": 0.151348,
     "end_time": "2019-02-14T22:39:31.004644",
     "exception": false,
     "start_time": "2019-02-14T22:39:30.853296",
     "status": "completed"
    },
    "tags": []
   },
   "outputs": [],
   "source": [
    "# Rolling mean\n",
    "weekly = weekly.groupby(['user', 'date']).sum().reset_index().groupby('user').\\\n",
    "    rolling(2, on='date')['comments'].\\\n",
    "    mean().dropna().reset_index()"
   ]
  },
  {
   "cell_type": "code",
   "execution_count": 8,
   "metadata": {
    "papermill": {
     "duration": 0.056174,
     "end_time": "2019-02-14T22:39:31.100641",
     "exception": false,
     "start_time": "2019-02-14T22:39:31.044467",
     "status": "completed"
    },
    "tags": []
   },
   "outputs": [],
   "source": [
    "# Top N commentors over time\n",
    "top_N = weekly.groupby('user').sum()['comments'].sort_values(ascending=False)\n",
    "top_N = top_N.index[:plot_N]"
   ]
  },
  {
   "cell_type": "markdown",
   "metadata": {
    "papermill": {
     "duration": 0.042688,
     "end_time": "2019-02-14T22:39:31.191613",
     "exception": false,
     "start_time": "2019-02-14T22:39:31.148925",
     "status": "completed"
    },
    "tags": []
   },
   "source": [
    "# Plotting"
   ]
  },
  {
   "cell_type": "markdown",
   "metadata": {
    "papermill": {
     "duration": 0.049556,
     "end_time": "2019-02-14T22:39:31.329626",
     "exception": false,
     "start_time": "2019-02-14T22:39:31.280070",
     "status": "completed"
    },
    "tags": []
   },
   "source": [
    "## Weekly unique contributors"
   ]
  },
  {
   "cell_type": "code",
   "execution_count": 9,
   "metadata": {
    "papermill": {
     "duration": 0.084166,
     "end_time": "2019-02-14T22:39:31.464886",
     "exception": false,
     "start_time": "2019-02-14T22:39:31.380720",
     "status": "completed"
    },
    "tags": []
   },
   "outputs": [],
   "source": [
    "unique = weekly[['date', 'user']].copy()\n",
    "unique['user'] = unique['user'].map(lambda a: [a])\n",
    "unique = unique.groupby('date').sum()"
   ]
  },
  {
   "cell_type": "code",
   "execution_count": 10,
   "metadata": {
    "papermill": {
     "duration": 0.153104,
     "end_time": "2019-02-14T22:39:31.648045",
     "exception": false,
     "start_time": "2019-02-14T22:39:31.494941",
     "status": "completed"
    },
    "tags": []
   },
   "outputs": [],
   "source": [
    "all_users = set()\n",
    "nunique = {}\n",
    "for idate, ivals in unique.iterrows():\n",
    "    n_unique_current = len(all_users)\n",
    "    \n",
    "    all_users = all_users.union(ivals[0])\n",
    "    n_unique_new = len(all_users) - n_unique_current\n",
    "    nunique[idate] = n_unique_new\n",
    "unique['new_contributors'] = pd.Series(nunique).values"
   ]
  },
  {
   "cell_type": "code",
   "execution_count": 11,
   "metadata": {
    "papermill": {
     "duration": 0.08221,
     "end_time": "2019-02-14T22:39:31.766109",
     "exception": false,
     "start_time": "2019-02-14T22:39:31.683899",
     "status": "completed"
    },
    "tags": []
   },
   "outputs": [],
   "source": [
    "unique['cumulative'] = unique['new_contributors'].cumsum()"
   ]
  },
  {
   "cell_type": "code",
   "execution_count": 12,
   "metadata": {
    "papermill": {
     "duration": 0.19624,
     "end_time": "2019-02-14T22:39:32.009627",
     "exception": false,
     "start_time": "2019-02-14T22:39:31.813387",
     "status": "completed"
    },
    "tags": []
   },
   "outputs": [
    {
     "data": {
      "application/vnd.vegalite.v2+json": {
       "$schema": "https://vega.github.io/schema/vega-lite/v2.6.0.json",
       "config": {
        "view": {
         "height": 300,
         "width": 400
        }
       },
       "data": {
        "name": "data-8624440939035f89d41070168ecd5fee"
       },
       "datasets": {
        "data-8624440939035f89d41070168ecd5fee": [
         {
          "cumulative": 1,
          "date": "2017-05-28T00:00:00",
          "new_contributors": 1,
          "user": [
           "yuvipanda"
          ]
         },
         {
          "cumulative": 3,
          "date": "2017-06-04T00:00:00",
          "new_contributors": 2,
          "user": [
           "choldgraf",
           "minrk",
           "yuvipanda"
          ]
         },
         {
          "cumulative": 3,
          "date": "2017-06-18T00:00:00",
          "new_contributors": 0,
          "user": [
           "choldgraf"
          ]
         },
         {
          "cumulative": 4,
          "date": "2017-07-02T00:00:00",
          "new_contributors": 1,
          "user": [
           "choldgraf",
           "tkelman",
           "yuvipanda"
          ]
         },
         {
          "cumulative": 5,
          "date": "2017-07-09T00:00:00",
          "new_contributors": 1,
          "user": [
           "choldgraf",
           "sje30",
           "tkelman",
           "yuvipanda"
          ]
         },
         {
          "cumulative": 5,
          "date": "2017-07-16T00:00:00",
          "new_contributors": 0,
          "user": [
           "choldgraf",
           "sje30",
           "tkelman",
           "yuvipanda"
          ]
         },
         {
          "cumulative": 5,
          "date": "2017-07-30T00:00:00",
          "new_contributors": 0,
          "user": [
           "choldgraf",
           "sje30",
           "tkelman",
           "yuvipanda"
          ]
         },
         {
          "cumulative": 5,
          "date": "2017-08-06T00:00:00",
          "new_contributors": 0,
          "user": [
           "choldgraf",
           "sje30",
           "yuvipanda"
          ]
         },
         {
          "cumulative": 5,
          "date": "2017-08-13T00:00:00",
          "new_contributors": 0,
          "user": [
           "choldgraf",
           "yuvipanda"
          ]
         },
         {
          "cumulative": 5,
          "date": "2017-08-20T00:00:00",
          "new_contributors": 0,
          "user": [
           "choldgraf"
          ]
         },
         {
          "cumulative": 5,
          "date": "2017-08-27T00:00:00",
          "new_contributors": 0,
          "user": [
           "choldgraf",
           "yuvipanda"
          ]
         },
         {
          "cumulative": 7,
          "date": "2017-09-03T00:00:00",
          "new_contributors": 2,
          "user": [
           "arokem",
           "cboettig",
           "choldgraf",
           "yuvipanda"
          ]
         },
         {
          "cumulative": 7,
          "date": "2017-09-10T00:00:00",
          "new_contributors": 0,
          "user": [
           "choldgraf",
           "minrk",
           "yuvipanda"
          ]
         },
         {
          "cumulative": 7,
          "date": "2017-09-17T00:00:00",
          "new_contributors": 0,
          "user": [
           "choldgraf",
           "yuvipanda"
          ]
         },
         {
          "cumulative": 7,
          "date": "2017-09-24T00:00:00",
          "new_contributors": 0,
          "user": [
           "choldgraf"
          ]
         },
         {
          "cumulative": 7,
          "date": "2017-10-01T00:00:00",
          "new_contributors": 0,
          "user": [
           "minrk",
           "yuvipanda"
          ]
         },
         {
          "cumulative": 7,
          "date": "2017-10-08T00:00:00",
          "new_contributors": 0,
          "user": [
           "choldgraf",
           "minrk",
           "yuvipanda"
          ]
         },
         {
          "cumulative": 7,
          "date": "2017-10-15T00:00:00",
          "new_contributors": 0,
          "user": [
           "choldgraf",
           "yuvipanda"
          ]
         },
         {
          "cumulative": 9,
          "date": "2017-10-22T00:00:00",
          "new_contributors": 2,
          "user": [
           "betatim",
           "cboettig",
           "choldgraf",
           "gnestor",
           "sje30",
           "tkelman",
           "yuvipanda"
          ]
         },
         {
          "cumulative": 10,
          "date": "2017-10-29T00:00:00",
          "new_contributors": 1,
          "user": [
           "betatim",
           "choldgraf",
           "sje30",
           "willingc",
           "yuvipanda"
          ]
         },
         {
          "cumulative": 10,
          "date": "2017-11-05T00:00:00",
          "new_contributors": 0,
          "user": [
           "betatim",
           "choldgraf",
           "willingc",
           "yuvipanda"
          ]
         },
         {
          "cumulative": 11,
          "date": "2017-11-12T00:00:00",
          "new_contributors": 1,
          "user": [
           "Carreau",
           "betatim",
           "choldgraf",
           "yuvipanda"
          ]
         },
         {
          "cumulative": 13,
          "date": "2017-11-19T00:00:00",
          "new_contributors": 2,
          "user": [
           "Carreau",
           "betatim",
           "choldgraf",
           "dpsanders",
           "oschuett",
           "sje30",
           "yuvipanda"
          ]
         },
         {
          "cumulative": 13,
          "date": "2017-11-26T00:00:00",
          "new_contributors": 0,
          "user": [
           "betatim",
           "choldgraf",
           "minrk",
           "yuvipanda"
          ]
         },
         {
          "cumulative": 14,
          "date": "2017-12-03T00:00:00",
          "new_contributors": 1,
          "user": [
           "Carreau",
           "arokem",
           "betatim",
           "blink1073",
           "choldgraf",
           "gnestor",
           "minrk",
           "willingc",
           "yuvipanda"
          ]
         },
         {
          "cumulative": 14,
          "date": "2017-12-10T00:00:00",
          "new_contributors": 0,
          "user": [
           "betatim",
           "choldgraf",
           "minrk",
           "willingc",
           "yuvipanda"
          ]
         },
         {
          "cumulative": 14,
          "date": "2017-12-17T00:00:00",
          "new_contributors": 0,
          "user": [
           "arokem",
           "betatim",
           "blink1073",
           "choldgraf",
           "willingc",
           "yuvipanda"
          ]
         },
         {
          "cumulative": 15,
          "date": "2017-12-24T00:00:00",
          "new_contributors": 1,
          "user": [
           "AaronWatters",
           "betatim",
           "choldgraf",
           "minrk",
           "willingc",
           "yuvipanda"
          ]
         },
         {
          "cumulative": 16,
          "date": "2017-12-31T00:00:00",
          "new_contributors": 1,
          "user": [
           "betatim",
           "choldgraf",
           "mukundans91",
           "willingc",
           "yuvipanda"
          ]
         },
         {
          "cumulative": 16,
          "date": "2018-01-07T00:00:00",
          "new_contributors": 0,
          "user": [
           "AaronWatters",
           "betatim",
           "choldgraf",
           "minrk",
           "mukundans91",
           "willingc",
           "yuvipanda"
          ]
         },
         {
          "cumulative": 17,
          "date": "2018-01-14T00:00:00",
          "new_contributors": 1,
          "user": [
           "betatim",
           "blink1073",
           "minrk",
           "mukundans91",
           "rprimet",
           "yuvipanda"
          ]
         },
         {
          "cumulative": 18,
          "date": "2018-01-21T00:00:00",
          "new_contributors": 1,
          "user": [
           "betatim",
           "choldgraf",
           "ellisonbg",
           "minrk",
           "yuvipanda"
          ]
         },
         {
          "cumulative": 18,
          "date": "2018-01-28T00:00:00",
          "new_contributors": 0,
          "user": [
           "betatim",
           "choldgraf",
           "ellisonbg",
           "mukundans91",
           "yuvipanda"
          ]
         },
         {
          "cumulative": 19,
          "date": "2018-02-04T00:00:00",
          "new_contributors": 1,
          "user": [
           "betatim",
           "brooksambrose",
           "choldgraf",
           "minrk",
           "willingc",
           "yuvipanda"
          ]
         },
         {
          "cumulative": 21,
          "date": "2018-02-11T00:00:00",
          "new_contributors": 2,
          "user": [
           "betatim",
           "choldgraf",
           "meffij",
           "minrk",
           "psychemedia",
           "willingc",
           "yuvipanda"
          ]
         },
         {
          "cumulative": 21,
          "date": "2018-02-18T00:00:00",
          "new_contributors": 0,
          "user": [
           "betatim",
           "blink1073",
           "choldgraf",
           "minrk",
           "psychemedia",
           "willingc",
           "yuvipanda"
          ]
         },
         {
          "cumulative": 22,
          "date": "2018-02-25T00:00:00",
          "new_contributors": 1,
          "user": [
           "betatim",
           "cboettig",
           "choldgraf",
           "minrk",
           "ryanlovett",
           "yuvipanda"
          ]
         },
         {
          "cumulative": 22,
          "date": "2018-03-04T00:00:00",
          "new_contributors": 0,
          "user": [
           "betatim",
           "psychemedia",
           "yuvipanda"
          ]
         },
         {
          "cumulative": 23,
          "date": "2018-03-11T00:00:00",
          "new_contributors": 1,
          "user": [
           "betatim",
           "choldgraf",
           "kmader"
          ]
         },
         {
          "cumulative": 24,
          "date": "2018-03-18T00:00:00",
          "new_contributors": 1,
          "user": [
           "AaronWatters",
           "betatim",
           "choldgraf",
           "ctb",
           "kmader",
           "minrk",
           "psychemedia",
           "ryanlovett",
           "willingc",
           "yuvipanda"
          ]
         },
         {
          "cumulative": 25,
          "date": "2018-03-25T00:00:00",
          "new_contributors": 1,
          "user": [
           "AaronWatters",
           "betatim",
           "brooksambrose",
           "choldgraf",
           "minrk",
           "spMohanty",
           "willingc"
          ]
         },
         {
          "cumulative": 25,
          "date": "2018-04-01T00:00:00",
          "new_contributors": 0,
          "user": [
           "betatim",
           "choldgraf",
           "willingc"
          ]
         },
         {
          "cumulative": 26,
          "date": "2018-04-08T00:00:00",
          "new_contributors": 1,
          "user": [
           "betatim",
           "choldgraf",
           "grovduck",
           "minrk"
          ]
         },
         {
          "cumulative": 26,
          "date": "2018-04-15T00:00:00",
          "new_contributors": 0,
          "user": [
           "betatim",
           "choldgraf",
           "rprimet"
          ]
         },
         {
          "cumulative": 26,
          "date": "2018-04-22T00:00:00",
          "new_contributors": 0,
          "user": [
           "betatim"
          ]
         },
         {
          "cumulative": 26,
          "date": "2018-04-29T00:00:00",
          "new_contributors": 0,
          "user": [
           "betatim",
           "choldgraf",
           "minrk",
           "psychemedia",
           "spMohanty",
           "willingc",
           "yuvipanda"
          ]
         },
         {
          "cumulative": 26,
          "date": "2018-05-06T00:00:00",
          "new_contributors": 0,
          "user": [
           "betatim",
           "choldgraf",
           "minrk"
          ]
         },
         {
          "cumulative": 27,
          "date": "2018-05-13T00:00:00",
          "new_contributors": 1,
          "user": [
           "betatim",
           "choldgraf",
           "minrk",
           "rgbkrk",
           "yuvipanda"
          ]
         },
         {
          "cumulative": 27,
          "date": "2018-05-20T00:00:00",
          "new_contributors": 0,
          "user": [
           "betatim",
           "brooksambrose",
           "choldgraf",
           "willingc",
           "yuvipanda"
          ]
         },
         {
          "cumulative": 30,
          "date": "2018-05-27T00:00:00",
          "new_contributors": 3,
          "user": [
           "DominikGlodzik",
           "aborruso",
           "betatim",
           "brooksambrose",
           "choldgraf",
           "mgerring",
           "minrk",
           "psychemedia",
           "ryanlovett",
           "willingc",
           "yuvipanda"
          ]
         },
         {
          "cumulative": 30,
          "date": "2018-06-03T00:00:00",
          "new_contributors": 0,
          "user": [
           "DominikGlodzik",
           "betatim",
           "mgerring",
           "psychemedia",
           "willingc"
          ]
         },
         {
          "cumulative": 31,
          "date": "2018-06-10T00:00:00",
          "new_contributors": 1,
          "user": [
           "AaronWatters",
           "aborruso",
           "betatim",
           "choldgraf",
           "juanesarango",
           "minrk"
          ]
         },
         {
          "cumulative": 32,
          "date": "2018-06-17T00:00:00",
          "new_contributors": 1,
          "user": [
           "AaronWatters",
           "betatim",
           "choldgraf",
           "jzf2101",
           "minrk",
           "willingc"
          ]
         },
         {
          "cumulative": 32,
          "date": "2018-06-24T00:00:00",
          "new_contributors": 0,
          "user": [
           "betatim"
          ]
         },
         {
          "cumulative": 32,
          "date": "2018-07-01T00:00:00",
          "new_contributors": 0,
          "user": [
           "betatim",
           "choldgraf",
           "jzf2101",
           "yuvipanda"
          ]
         },
         {
          "cumulative": 32,
          "date": "2018-07-08T00:00:00",
          "new_contributors": 0,
          "user": [
           "betatim",
           "jzf2101",
           "minrk",
           "rprimet",
           "willingc"
          ]
         },
         {
          "cumulative": 32,
          "date": "2018-07-15T00:00:00",
          "new_contributors": 0,
          "user": [
           "choldgraf"
          ]
         },
         {
          "cumulative": 32,
          "date": "2018-07-22T00:00:00",
          "new_contributors": 0,
          "user": [
           "betatim",
           "brooksambrose",
           "choldgraf",
           "jzf2101",
           "minrk"
          ]
         },
         {
          "cumulative": 34,
          "date": "2018-07-29T00:00:00",
          "new_contributors": 2,
          "user": [
           "betatim",
           "choldgraf",
           "rnestler",
           "vsoch"
          ]
         },
         {
          "cumulative": 37,
          "date": "2018-08-05T00:00:00",
          "new_contributors": 3,
          "user": [
           "betatim",
           "choldgraf",
           "consideRatio",
           "jhamman",
           "justinmoon",
           "minrk",
           "ryanlovett",
           "vsoch"
          ]
         },
         {
          "cumulative": 37,
          "date": "2018-08-12T00:00:00",
          "new_contributors": 0,
          "user": [
           "betatim",
           "choldgraf",
           "jzf2101",
           "vsoch",
           "willingc"
          ]
         },
         {
          "cumulative": 37,
          "date": "2018-08-19T00:00:00",
          "new_contributors": 0,
          "user": [
           "betatim",
           "blink1073",
           "choldgraf",
           "jhamman",
           "vsoch"
          ]
         },
         {
          "cumulative": 37,
          "date": "2018-08-26T00:00:00",
          "new_contributors": 0,
          "user": [
           "betatim",
           "blink1073",
           "choldgraf",
           "jhamman",
           "minrk",
           "vsoch"
          ]
         },
         {
          "cumulative": 37,
          "date": "2018-09-02T00:00:00",
          "new_contributors": 0,
          "user": [
           "betatim",
           "blink1073",
           "choldgraf",
           "vsoch"
          ]
         },
         {
          "cumulative": 37,
          "date": "2018-09-09T00:00:00",
          "new_contributors": 0,
          "user": [
           "betatim",
           "blink1073",
           "jzf2101",
           "minrk",
           "rgbkrk",
           "willingc",
           "yuvipanda"
          ]
         },
         {
          "cumulative": 39,
          "date": "2018-09-16T00:00:00",
          "new_contributors": 2,
          "user": [
           "KristofferC",
           "NHDaly",
           "betatim",
           "yuvipanda"
          ]
         },
         {
          "cumulative": 40,
          "date": "2018-09-23T00:00:00",
          "new_contributors": 1,
          "user": [
           "betatim",
           "choldgraf",
           "gedankenstuecke",
           "minrk",
           "ryanlovett",
           "yuvipanda"
          ]
         },
         {
          "cumulative": 40,
          "date": "2018-09-30T00:00:00",
          "new_contributors": 0,
          "user": [
           "NHDaly",
           "betatim",
           "choldgraf",
           "gedankenstuecke",
           "jzf2101",
           "minrk",
           "ryanlovett",
           "vsoch",
           "yuvipanda"
          ]
         },
         {
          "cumulative": 41,
          "date": "2018-10-07T00:00:00",
          "new_contributors": 1,
          "user": [
           "NHDaly",
           "betatim",
           "cboettig",
           "choldgraf",
           "evertrol",
           "ryanlovett"
          ]
         },
         {
          "cumulative": 44,
          "date": "2018-10-14T00:00:00",
          "new_contributors": 3,
          "user": [
           "betatim",
           "bitnik",
           "cboettig",
           "choldgraf",
           "costrouc",
           "evertrol",
           "jzf2101",
           "karthik",
           "minrk"
          ]
         },
         {
          "cumulative": 47,
          "date": "2018-10-21T00:00:00",
          "new_contributors": 3,
          "user": [
           "agahkarakuzu",
           "betatim",
           "blairhudson",
           "choldgraf",
           "costrouc",
           "dsludwig",
           "jzf2101",
           "minrk",
           "willingc"
          ]
         },
         {
          "cumulative": 48,
          "date": "2018-10-28T00:00:00",
          "new_contributors": 1,
          "user": [
           "betatim",
           "choldgraf",
           "jzf2101",
           "trallard"
          ]
         },
         {
          "cumulative": 49,
          "date": "2018-11-04T00:00:00",
          "new_contributors": 1,
          "user": [
           "betatim",
           "bitnik",
           "choldgraf",
           "minrk",
           "nuest",
           "trallard"
          ]
         },
         {
          "cumulative": 50,
          "date": "2018-11-11T00:00:00",
          "new_contributors": 1,
          "user": [
           "agahkarakuzu",
           "betatim",
           "blairhudson",
           "choldgraf",
           "costrouc",
           "minrk",
           "nuest",
           "psychemedia",
           "remram44",
           "trallard",
           "willingc",
           "yuvipanda"
          ]
         },
         {
          "cumulative": 51,
          "date": "2018-11-18T00:00:00",
          "new_contributors": 1,
          "user": [
           "betatim",
           "choldgraf",
           "consideRatio",
           "jzf2101",
           "nokome",
           "spMohanty",
           "willingc",
           "yuvipanda"
          ]
         },
         {
          "cumulative": 51,
          "date": "2018-11-25T00:00:00",
          "new_contributors": 0,
          "user": [
           "betatim",
           "jzf2101"
          ]
         },
         {
          "cumulative": 51,
          "date": "2018-12-02T00:00:00",
          "new_contributors": 0,
          "user": [
           "betatim",
           "cboettig",
           "choldgraf",
           "gnestor",
           "jzf2101",
           "karthik",
           "nuest",
           "yuvipanda"
          ]
         },
         {
          "cumulative": 51,
          "date": "2018-12-09T00:00:00",
          "new_contributors": 0,
          "user": [
           "betatim",
           "choldgraf",
           "jzf2101",
           "yuvipanda"
          ]
         },
         {
          "cumulative": 52,
          "date": "2018-12-16T00:00:00",
          "new_contributors": 1,
          "user": [
           "betatim",
           "choldgraf",
           "defeo",
           "jzf2101",
           "minrk",
           "trallard",
           "yuvipanda"
          ]
         },
         {
          "cumulative": 54,
          "date": "2018-12-23T00:00:00",
          "new_contributors": 2,
          "user": [
           "betatim",
           "choldgraf",
           "craig-willis",
           "jrbourbeau",
           "karthik",
           "minrk",
           "yuvipanda"
          ]
         },
         {
          "cumulative": 54,
          "date": "2018-12-30T00:00:00",
          "new_contributors": 0,
          "user": [
           "betatim",
           "choldgraf",
           "jzf2101",
           "psychemedia",
           "yuvipanda"
          ]
         },
         {
          "cumulative": 54,
          "date": "2019-01-06T00:00:00",
          "new_contributors": 0,
          "user": [
           "betatim",
           "craig-willis",
           "psychemedia",
           "remram44",
           "yuvipanda"
          ]
         },
         {
          "cumulative": 56,
          "date": "2019-01-13T00:00:00",
          "new_contributors": 2,
          "user": [
           "GladysNalvarte",
           "alimanfoo",
           "betatim",
           "choldgraf",
           "craig-willis",
           "minrk",
           "yuvipanda"
          ]
         },
         {
          "cumulative": 56,
          "date": "2019-01-20T00:00:00",
          "new_contributors": 0,
          "user": [
           "alimanfoo",
           "betatim",
           "craig-willis",
           "minrk",
           "yuvipanda"
          ]
         },
         {
          "cumulative": 56,
          "date": "2019-01-27T00:00:00",
          "new_contributors": 0,
          "user": [
           "betatim",
           "cboettig",
           "jhamman",
           "minrk",
           "yuvipanda"
          ]
         },
         {
          "cumulative": 58,
          "date": "2019-02-03T00:00:00",
          "new_contributors": 2,
          "user": [
           "betatim",
           "choldgraf",
           "jhamman",
           "ltetrel",
           "rgbkrk",
           "slejdops",
           "yuvipanda"
          ]
         },
         {
          "cumulative": 58,
          "date": "2019-02-10T00:00:00",
          "new_contributors": 0,
          "user": [
           "betatim",
           "choldgraf",
           "jhamman",
           "minrk",
           "rgbkrk",
           "yuvipanda"
          ]
         },
         {
          "cumulative": 58,
          "date": "2019-02-17T00:00:00",
          "new_contributors": 0,
          "user": [
           "betatim",
           "jhamman",
           "minrk",
           "yuvipanda"
          ]
         }
        ]
       },
       "encoding": {
        "x": {
         "field": "date",
         "type": "temporal"
        },
        "y": {
         "field": "cumulative",
         "type": "quantitative"
        }
       },
       "mark": "line",
       "width": 500
      },
      "text/plain": [
       "<VegaLite 2 object>\n",
       "\n",
       "If you see this message, it means the renderer has not been properly enabled\n",
       "for the frontend that you are using. For more information, see\n",
       "https://altair-viz.github.io/user_guide/troubleshooting.html\n"
      ]
     },
     "execution_count": 12,
     "metadata": {},
     "output_type": "execute_result"
    }
   ],
   "source": [
    "line = alt.Chart(data=unique.reset_index(), width=500).mark_line().encode(x='date', y='cumulative')\n",
    "line"
   ]
  },
  {
   "cell_type": "markdown",
   "metadata": {
    "papermill": {
     "duration": 0.083073,
     "end_time": "2019-02-14T22:39:32.164259",
     "exception": false,
     "start_time": "2019-02-14T22:39:32.081186",
     "status": "completed"
    },
    "tags": []
   },
   "source": [
    "## Comment activity over time"
   ]
  },
  {
   "cell_type": "code",
   "execution_count": 13,
   "metadata": {
    "papermill": {
     "duration": 0.09068,
     "end_time": "2019-02-14T22:39:32.301674",
     "exception": false,
     "start_time": "2019-02-14T22:39:32.210994",
     "status": "completed"
    },
    "tags": []
   },
   "outputs": [],
   "source": [
    "# Select the users we'll plot\n",
    "user_data = weekly.groupby(['user', 'date']).sum().reset_index('user')\n",
    "total_users = user_data.groupby('user')['comments'].sum()\n",
    "plt_users = total_users.sort_values(ascending=False)[:plot_N].index\n",
    "user_data = user_data.query(\"user in @plt_users\")\n",
    "\n",
    "# Drop empty dates\n",
    "user_data = user_data[user_data.sum(1) != 0]"
   ]
  },
  {
   "cell_type": "code",
   "execution_count": 14,
   "metadata": {
    "papermill": {
     "duration": 0.222014,
     "end_time": "2019-02-14T22:39:32.583376",
     "exception": false,
     "start_time": "2019-02-14T22:39:32.361362",
     "status": "completed"
    },
    "tags": []
   },
   "outputs": [
    {
     "data": {
      "application/vnd.vegalite.v2+json": {
       "$schema": "https://vega.github.io/schema/vega-lite/v2.6.0.json",
       "config": {
        "view": {
         "height": 300,
         "width": 400
        }
       },
       "datasets": {
        "data-41db3276da6c38bb08afbeab35d543e5": [
         {
          "comments": 3.0,
          "date": "2017-12-24T00:00:00",
          "user": "AaronWatters"
         },
         {
          "comments": 2.5,
          "date": "2018-01-07T00:00:00",
          "user": "AaronWatters"
         },
         {
          "comments": 2.0,
          "date": "2018-03-18T00:00:00",
          "user": "AaronWatters"
         },
         {
          "comments": 1.5,
          "date": "2018-03-25T00:00:00",
          "user": "AaronWatters"
         },
         {
          "comments": 1.0,
          "date": "2018-06-10T00:00:00",
          "user": "AaronWatters"
         },
         {
          "comments": 2.0,
          "date": "2018-06-17T00:00:00",
          "user": "AaronWatters"
         },
         {
          "comments": 6.5,
          "date": "2018-09-16T00:00:00",
          "user": "NHDaly"
         },
         {
          "comments": 3.0,
          "date": "2018-09-30T00:00:00",
          "user": "NHDaly"
         },
         {
          "comments": 3.5,
          "date": "2018-10-07T00:00:00",
          "user": "NHDaly"
         },
         {
          "comments": 5.5,
          "date": "2017-09-03T00:00:00",
          "user": "arokem"
         },
         {
          "comments": 4.0,
          "date": "2017-12-03T00:00:00",
          "user": "arokem"
         },
         {
          "comments": 1.5,
          "date": "2017-12-17T00:00:00",
          "user": "arokem"
         },
         {
          "comments": 1.5,
          "date": "2017-10-22T00:00:00",
          "user": "betatim"
         },
         {
          "comments": 7.0,
          "date": "2017-10-29T00:00:00",
          "user": "betatim"
         },
         {
          "comments": 12.5,
          "date": "2017-11-05T00:00:00",
          "user": "betatim"
         },
         {
          "comments": 14.0,
          "date": "2017-11-12T00:00:00",
          "user": "betatim"
         },
         {
          "comments": 10.0,
          "date": "2017-11-19T00:00:00",
          "user": "betatim"
         },
         {
          "comments": 3.5,
          "date": "2017-11-26T00:00:00",
          "user": "betatim"
         },
         {
          "comments": 6.5,
          "date": "2017-12-03T00:00:00",
          "user": "betatim"
         },
         {
          "comments": 6.0,
          "date": "2017-12-10T00:00:00",
          "user": "betatim"
         },
         {
          "comments": 3.0,
          "date": "2017-12-17T00:00:00",
          "user": "betatim"
         },
         {
          "comments": 6.5,
          "date": "2017-12-24T00:00:00",
          "user": "betatim"
         },
         {
          "comments": 5.5,
          "date": "2017-12-31T00:00:00",
          "user": "betatim"
         },
         {
          "comments": 4.5,
          "date": "2018-01-07T00:00:00",
          "user": "betatim"
         },
         {
          "comments": 9.5,
          "date": "2018-01-14T00:00:00",
          "user": "betatim"
         },
         {
          "comments": 6.5,
          "date": "2018-01-21T00:00:00",
          "user": "betatim"
         },
         {
          "comments": 1.5,
          "date": "2018-01-28T00:00:00",
          "user": "betatim"
         },
         {
          "comments": 1.5,
          "date": "2018-02-04T00:00:00",
          "user": "betatim"
         },
         {
          "comments": 5.5,
          "date": "2018-02-11T00:00:00",
          "user": "betatim"
         },
         {
          "comments": 8.5,
          "date": "2018-02-18T00:00:00",
          "user": "betatim"
         },
         {
          "comments": 6.5,
          "date": "2018-02-25T00:00:00",
          "user": "betatim"
         },
         {
          "comments": 4.0,
          "date": "2018-03-04T00:00:00",
          "user": "betatim"
         },
         {
          "comments": 3.5,
          "date": "2018-03-11T00:00:00",
          "user": "betatim"
         },
         {
          "comments": 6.5,
          "date": "2018-03-18T00:00:00",
          "user": "betatim"
         },
         {
          "comments": 10.0,
          "date": "2018-03-25T00:00:00",
          "user": "betatim"
         },
         {
          "comments": 7.0,
          "date": "2018-04-01T00:00:00",
          "user": "betatim"
         },
         {
          "comments": 4.0,
          "date": "2018-04-08T00:00:00",
          "user": "betatim"
         },
         {
          "comments": 4.5,
          "date": "2018-04-15T00:00:00",
          "user": "betatim"
         },
         {
          "comments": 2.0,
          "date": "2018-04-22T00:00:00",
          "user": "betatim"
         },
         {
          "comments": 5.5,
          "date": "2018-04-29T00:00:00",
          "user": "betatim"
         },
         {
          "comments": 5.5,
          "date": "2018-05-06T00:00:00",
          "user": "betatim"
         },
         {
          "comments": 4.0,
          "date": "2018-05-13T00:00:00",
          "user": "betatim"
         },
         {
          "comments": 7.0,
          "date": "2018-05-20T00:00:00",
          "user": "betatim"
         },
         {
          "comments": 9.0,
          "date": "2018-05-27T00:00:00",
          "user": "betatim"
         },
         {
          "comments": 9.5,
          "date": "2018-06-03T00:00:00",
          "user": "betatim"
         },
         {
          "comments": 7.5,
          "date": "2018-06-10T00:00:00",
          "user": "betatim"
         },
         {
          "comments": 7.0,
          "date": "2018-06-17T00:00:00",
          "user": "betatim"
         },
         {
          "comments": 5.5,
          "date": "2018-06-24T00:00:00",
          "user": "betatim"
         },
         {
          "comments": 5.5,
          "date": "2018-07-01T00:00:00",
          "user": "betatim"
         },
         {
          "comments": 9.0,
          "date": "2018-07-08T00:00:00",
          "user": "betatim"
         },
         {
          "comments": 15.0,
          "date": "2018-07-22T00:00:00",
          "user": "betatim"
         },
         {
          "comments": 11.0,
          "date": "2018-07-29T00:00:00",
          "user": "betatim"
         },
         {
          "comments": 4.5,
          "date": "2018-08-05T00:00:00",
          "user": "betatim"
         },
         {
          "comments": 8.5,
          "date": "2018-08-12T00:00:00",
          "user": "betatim"
         },
         {
          "comments": 6.5,
          "date": "2018-08-19T00:00:00",
          "user": "betatim"
         },
         {
          "comments": 1.5,
          "date": "2018-08-26T00:00:00",
          "user": "betatim"
         },
         {
          "comments": 1.0,
          "date": "2018-09-02T00:00:00",
          "user": "betatim"
         },
         {
          "comments": 2.0,
          "date": "2018-09-09T00:00:00",
          "user": "betatim"
         },
         {
          "comments": 5.0,
          "date": "2018-09-16T00:00:00",
          "user": "betatim"
         },
         {
          "comments": 12.5,
          "date": "2018-09-23T00:00:00",
          "user": "betatim"
         },
         {
          "comments": 15.0,
          "date": "2018-09-30T00:00:00",
          "user": "betatim"
         },
         {
          "comments": 13.5,
          "date": "2018-10-07T00:00:00",
          "user": "betatim"
         },
         {
          "comments": 26.5,
          "date": "2018-10-14T00:00:00",
          "user": "betatim"
         },
         {
          "comments": 26.0,
          "date": "2018-10-21T00:00:00",
          "user": "betatim"
         },
         {
          "comments": 10.0,
          "date": "2018-10-28T00:00:00",
          "user": "betatim"
         },
         {
          "comments": 7.5,
          "date": "2018-11-04T00:00:00",
          "user": "betatim"
         },
         {
          "comments": 19.5,
          "date": "2018-11-11T00:00:00",
          "user": "betatim"
         },
         {
          "comments": 21.0,
          "date": "2018-11-18T00:00:00",
          "user": "betatim"
         },
         {
          "comments": 7.5,
          "date": "2018-11-25T00:00:00",
          "user": "betatim"
         },
         {
          "comments": 4.5,
          "date": "2018-12-02T00:00:00",
          "user": "betatim"
         },
         {
          "comments": 6.5,
          "date": "2018-12-09T00:00:00",
          "user": "betatim"
         },
         {
          "comments": 15.5,
          "date": "2018-12-16T00:00:00",
          "user": "betatim"
         },
         {
          "comments": 30.0,
          "date": "2018-12-23T00:00:00",
          "user": "betatim"
         },
         {
          "comments": 19.5,
          "date": "2018-12-30T00:00:00",
          "user": "betatim"
         },
         {
          "comments": 8.0,
          "date": "2019-01-06T00:00:00",
          "user": "betatim"
         },
         {
          "comments": 9.5,
          "date": "2019-01-13T00:00:00",
          "user": "betatim"
         },
         {
          "comments": 7.0,
          "date": "2019-01-20T00:00:00",
          "user": "betatim"
         },
         {
          "comments": 5.0,
          "date": "2019-01-27T00:00:00",
          "user": "betatim"
         },
         {
          "comments": 2.0,
          "date": "2019-02-03T00:00:00",
          "user": "betatim"
         },
         {
          "comments": 5.0,
          "date": "2019-02-10T00:00:00",
          "user": "betatim"
         },
         {
          "comments": 6.0,
          "date": "2019-02-17T00:00:00",
          "user": "betatim"
         },
         {
          "comments": 1.5,
          "date": "2017-12-03T00:00:00",
          "user": "blink1073"
         },
         {
          "comments": 1.0,
          "date": "2017-12-17T00:00:00",
          "user": "blink1073"
         },
         {
          "comments": 1.0,
          "date": "2018-01-14T00:00:00",
          "user": "blink1073"
         },
         {
          "comments": 1.0,
          "date": "2018-02-18T00:00:00",
          "user": "blink1073"
         },
         {
          "comments": 2.5,
          "date": "2018-08-19T00:00:00",
          "user": "blink1073"
         },
         {
          "comments": 5.5,
          "date": "2018-08-26T00:00:00",
          "user": "blink1073"
         },
         {
          "comments": 6.5,
          "date": "2018-09-02T00:00:00",
          "user": "blink1073"
         },
         {
          "comments": 4.0,
          "date": "2018-09-09T00:00:00",
          "user": "blink1073"
         },
         {
          "comments": 1.0,
          "date": "2018-02-04T00:00:00",
          "user": "brooksambrose"
         },
         {
          "comments": 2.0,
          "date": "2018-03-25T00:00:00",
          "user": "brooksambrose"
         },
         {
          "comments": 2.0,
          "date": "2018-05-20T00:00:00",
          "user": "brooksambrose"
         },
         {
          "comments": 3.0,
          "date": "2018-05-27T00:00:00",
          "user": "brooksambrose"
         },
         {
          "comments": 3.0,
          "date": "2018-07-22T00:00:00",
          "user": "brooksambrose"
         },
         {
          "comments": 1.0,
          "date": "2017-09-03T00:00:00",
          "user": "cboettig"
         },
         {
          "comments": 1.0,
          "date": "2017-10-22T00:00:00",
          "user": "cboettig"
         },
         {
          "comments": 1.0,
          "date": "2018-02-25T00:00:00",
          "user": "cboettig"
         },
         {
          "comments": 1.0,
          "date": "2018-10-07T00:00:00",
          "user": "cboettig"
         },
         {
          "comments": 1.5,
          "date": "2018-10-14T00:00:00",
          "user": "cboettig"
         },
         {
          "comments": 3.5,
          "date": "2018-12-02T00:00:00",
          "user": "cboettig"
         },
         {
          "comments": 3.5,
          "date": "2019-01-27T00:00:00",
          "user": "cboettig"
         },
         {
          "comments": 1.0,
          "date": "2017-06-04T00:00:00",
          "user": "choldgraf"
         },
         {
          "comments": 1.0,
          "date": "2017-06-18T00:00:00",
          "user": "choldgraf"
         },
         {
          "comments": 3.0,
          "date": "2017-07-02T00:00:00",
          "user": "choldgraf"
         },
         {
          "comments": 3.0,
          "date": "2017-07-09T00:00:00",
          "user": "choldgraf"
         },
         {
          "comments": 1.0,
          "date": "2017-07-16T00:00:00",
          "user": "choldgraf"
         },
         {
          "comments": 1.0,
          "date": "2017-07-30T00:00:00",
          "user": "choldgraf"
         },
         {
          "comments": 2.0,
          "date": "2017-08-06T00:00:00",
          "user": "choldgraf"
         },
         {
          "comments": 2.0,
          "date": "2017-08-13T00:00:00",
          "user": "choldgraf"
         },
         {
          "comments": 1.0,
          "date": "2017-08-20T00:00:00",
          "user": "choldgraf"
         },
         {
          "comments": 5.0,
          "date": "2017-08-27T00:00:00",
          "user": "choldgraf"
         },
         {
          "comments": 8.0,
          "date": "2017-09-03T00:00:00",
          "user": "choldgraf"
         },
         {
          "comments": 4.0,
          "date": "2017-09-10T00:00:00",
          "user": "choldgraf"
         },
         {
          "comments": 1.5,
          "date": "2017-09-17T00:00:00",
          "user": "choldgraf"
         },
         {
          "comments": 1.5,
          "date": "2017-09-24T00:00:00",
          "user": "choldgraf"
         },
         {
          "comments": 5.0,
          "date": "2017-10-08T00:00:00",
          "user": "choldgraf"
         },
         {
          "comments": 7.0,
          "date": "2017-10-15T00:00:00",
          "user": "choldgraf"
         },
         {
          "comments": 6.5,
          "date": "2017-10-22T00:00:00",
          "user": "choldgraf"
         },
         {
          "comments": 12.5,
          "date": "2017-10-29T00:00:00",
          "user": "choldgraf"
         },
         {
          "comments": 9.5,
          "date": "2017-11-05T00:00:00",
          "user": "choldgraf"
         },
         {
          "comments": 8.0,
          "date": "2017-11-12T00:00:00",
          "user": "choldgraf"
         },
         {
          "comments": 10.0,
          "date": "2017-11-19T00:00:00",
          "user": "choldgraf"
         },
         {
          "comments": 7.5,
          "date": "2017-11-26T00:00:00",
          "user": "choldgraf"
         },
         {
          "comments": 9.0,
          "date": "2017-12-03T00:00:00",
          "user": "choldgraf"
         },
         {
          "comments": 9.0,
          "date": "2017-12-10T00:00:00",
          "user": "choldgraf"
         },
         {
          "comments": 11.5,
          "date": "2017-12-17T00:00:00",
          "user": "choldgraf"
         },
         {
          "comments": 12.0,
          "date": "2017-12-24T00:00:00",
          "user": "choldgraf"
         },
         {
          "comments": 7.5,
          "date": "2017-12-31T00:00:00",
          "user": "choldgraf"
         },
         {
          "comments": 4.5,
          "date": "2018-01-07T00:00:00",
          "user": "choldgraf"
         },
         {
          "comments": 7.0,
          "date": "2018-01-21T00:00:00",
          "user": "choldgraf"
         },
         {
          "comments": 7.0,
          "date": "2018-01-28T00:00:00",
          "user": "choldgraf"
         },
         {
          "comments": 3.0,
          "date": "2018-02-04T00:00:00",
          "user": "choldgraf"
         },
         {
          "comments": 9.0,
          "date": "2018-02-11T00:00:00",
          "user": "choldgraf"
         },
         {
          "comments": 14.5,
          "date": "2018-02-18T00:00:00",
          "user": "choldgraf"
         },
         {
          "comments": 7.5,
          "date": "2018-02-25T00:00:00",
          "user": "choldgraf"
         },
         {
          "comments": 2.5,
          "date": "2018-03-11T00:00:00",
          "user": "choldgraf"
         },
         {
          "comments": 5.0,
          "date": "2018-03-18T00:00:00",
          "user": "choldgraf"
         },
         {
          "comments": 6.0,
          "date": "2018-03-25T00:00:00",
          "user": "choldgraf"
         },
         {
          "comments": 3.0,
          "date": "2018-04-01T00:00:00",
          "user": "choldgraf"
         },
         {
          "comments": 3.0,
          "date": "2018-04-08T00:00:00",
          "user": "choldgraf"
         },
         {
          "comments": 4.0,
          "date": "2018-04-15T00:00:00",
          "user": "choldgraf"
         },
         {
          "comments": 13.0,
          "date": "2018-04-29T00:00:00",
          "user": "choldgraf"
         },
         {
          "comments": 12.0,
          "date": "2018-05-06T00:00:00",
          "user": "choldgraf"
         },
         {
          "comments": 3.5,
          "date": "2018-05-13T00:00:00",
          "user": "choldgraf"
         },
         {
          "comments": 8.0,
          "date": "2018-05-20T00:00:00",
          "user": "choldgraf"
         },
         {
          "comments": 10.5,
          "date": "2018-05-27T00:00:00",
          "user": "choldgraf"
         },
         {
          "comments": 9.5,
          "date": "2018-06-10T00:00:00",
          "user": "choldgraf"
         },
         {
          "comments": 6.5,
          "date": "2018-06-17T00:00:00",
          "user": "choldgraf"
         },
         {
          "comments": 6.0,
          "date": "2018-07-01T00:00:00",
          "user": "choldgraf"
         },
         {
          "comments": 4.5,
          "date": "2018-07-15T00:00:00",
          "user": "choldgraf"
         },
         {
          "comments": 2.0,
          "date": "2018-07-22T00:00:00",
          "user": "choldgraf"
         },
         {
          "comments": 2.0,
          "date": "2018-07-29T00:00:00",
          "user": "choldgraf"
         },
         {
          "comments": 5.5,
          "date": "2018-08-05T00:00:00",
          "user": "choldgraf"
         },
         {
          "comments": 7.5,
          "date": "2018-08-12T00:00:00",
          "user": "choldgraf"
         },
         {
          "comments": 6.0,
          "date": "2018-08-19T00:00:00",
          "user": "choldgraf"
         },
         {
          "comments": 4.0,
          "date": "2018-08-26T00:00:00",
          "user": "choldgraf"
         },
         {
          "comments": 1.5,
          "date": "2018-09-02T00:00:00",
          "user": "choldgraf"
         },
         {
          "comments": 3.0,
          "date": "2018-09-23T00:00:00",
          "user": "choldgraf"
         },
         {
          "comments": 5.5,
          "date": "2018-09-30T00:00:00",
          "user": "choldgraf"
         },
         {
          "comments": 4.5,
          "date": "2018-10-07T00:00:00",
          "user": "choldgraf"
         },
         {
          "comments": 11.5,
          "date": "2018-10-14T00:00:00",
          "user": "choldgraf"
         },
         {
          "comments": 14.0,
          "date": "2018-10-21T00:00:00",
          "user": "choldgraf"
         },
         {
          "comments": 7.5,
          "date": "2018-10-28T00:00:00",
          "user": "choldgraf"
         },
         {
          "comments": 6.5,
          "date": "2018-11-04T00:00:00",
          "user": "choldgraf"
         },
         {
          "comments": 11.5,
          "date": "2018-11-11T00:00:00",
          "user": "choldgraf"
         },
         {
          "comments": 13.0,
          "date": "2018-11-18T00:00:00",
          "user": "choldgraf"
         },
         {
          "comments": 5.0,
          "date": "2018-12-02T00:00:00",
          "user": "choldgraf"
         },
         {
          "comments": 2.0,
          "date": "2018-12-09T00:00:00",
          "user": "choldgraf"
         },
         {
          "comments": 6.0,
          "date": "2018-12-16T00:00:00",
          "user": "choldgraf"
         },
         {
          "comments": 7.5,
          "date": "2018-12-23T00:00:00",
          "user": "choldgraf"
         },
         {
          "comments": 5.0,
          "date": "2018-12-30T00:00:00",
          "user": "choldgraf"
         },
         {
          "comments": 2.5,
          "date": "2019-01-13T00:00:00",
          "user": "choldgraf"
         },
         {
          "comments": 6.0,
          "date": "2019-02-03T00:00:00",
          "user": "choldgraf"
         },
         {
          "comments": 9.0,
          "date": "2019-02-10T00:00:00",
          "user": "choldgraf"
         },
         {
          "comments": 6.5,
          "date": "2018-10-07T00:00:00",
          "user": "evertrol"
         },
         {
          "comments": 9.5,
          "date": "2018-10-14T00:00:00",
          "user": "evertrol"
         },
         {
          "comments": 5.5,
          "date": "2018-09-23T00:00:00",
          "user": "gedankenstuecke"
         },
         {
          "comments": 7.0,
          "date": "2018-09-30T00:00:00",
          "user": "gedankenstuecke"
         },
         {
          "comments": 1.5,
          "date": "2018-08-05T00:00:00",
          "user": "jhamman"
         },
         {
          "comments": 2.0,
          "date": "2018-08-19T00:00:00",
          "user": "jhamman"
         },
         {
          "comments": 1.5,
          "date": "2018-08-26T00:00:00",
          "user": "jhamman"
         },
         {
          "comments": 1.0,
          "date": "2019-01-27T00:00:00",
          "user": "jhamman"
         },
         {
          "comments": 1.5,
          "date": "2019-02-03T00:00:00",
          "user": "jhamman"
         },
         {
          "comments": 2.0,
          "date": "2019-02-10T00:00:00",
          "user": "jhamman"
         },
         {
          "comments": 1.5,
          "date": "2019-02-17T00:00:00",
          "user": "jhamman"
         },
         {
          "comments": 2.5,
          "date": "2018-06-17T00:00:00",
          "user": "jzf2101"
         },
         {
          "comments": 7.0,
          "date": "2018-07-01T00:00:00",
          "user": "jzf2101"
         },
         {
          "comments": 12.0,
          "date": "2018-07-08T00:00:00",
          "user": "jzf2101"
         },
         {
          "comments": 8.0,
          "date": "2018-07-22T00:00:00",
          "user": "jzf2101"
         },
         {
          "comments": 2.0,
          "date": "2018-08-12T00:00:00",
          "user": "jzf2101"
         },
         {
          "comments": 1.5,
          "date": "2018-09-09T00:00:00",
          "user": "jzf2101"
         },
         {
          "comments": 4.0,
          "date": "2018-09-30T00:00:00",
          "user": "jzf2101"
         },
         {
          "comments": 6.0,
          "date": "2018-10-14T00:00:00",
          "user": "jzf2101"
         },
         {
          "comments": 5.0,
          "date": "2018-10-21T00:00:00",
          "user": "jzf2101"
         },
         {
          "comments": 3.0,
          "date": "2018-10-28T00:00:00",
          "user": "jzf2101"
         },
         {
          "comments": 3.5,
          "date": "2018-11-18T00:00:00",
          "user": "jzf2101"
         },
         {
          "comments": 3.0,
          "date": "2018-11-25T00:00:00",
          "user": "jzf2101"
         },
         {
          "comments": 1.5,
          "date": "2018-12-02T00:00:00",
          "user": "jzf2101"
         },
         {
          "comments": 1.5,
          "date": "2018-12-09T00:00:00",
          "user": "jzf2101"
         },
         {
          "comments": 1.5,
          "date": "2018-12-16T00:00:00",
          "user": "jzf2101"
         },
         {
          "comments": 2.0,
          "date": "2018-12-30T00:00:00",
          "user": "jzf2101"
         },
         {
          "comments": 1.0,
          "date": "2017-06-04T00:00:00",
          "user": "minrk"
         },
         {
          "comments": 1.0,
          "date": "2017-09-10T00:00:00",
          "user": "minrk"
         },
         {
          "comments": 1.0,
          "date": "2017-10-01T00:00:00",
          "user": "minrk"
         },
         {
          "comments": 2.0,
          "date": "2017-10-08T00:00:00",
          "user": "minrk"
         },
         {
          "comments": 2.0,
          "date": "2017-11-26T00:00:00",
          "user": "minrk"
         },
         {
          "comments": 3.5,
          "date": "2017-12-03T00:00:00",
          "user": "minrk"
         },
         {
          "comments": 4.0,
          "date": "2017-12-10T00:00:00",
          "user": "minrk"
         },
         {
          "comments": 2.5,
          "date": "2017-12-24T00:00:00",
          "user": "minrk"
         },
         {
          "comments": 5.0,
          "date": "2018-01-07T00:00:00",
          "user": "minrk"
         },
         {
          "comments": 6.0,
          "date": "2018-01-14T00:00:00",
          "user": "minrk"
         },
         {
          "comments": 5.5,
          "date": "2018-01-21T00:00:00",
          "user": "minrk"
         },
         {
          "comments": 5.5,
          "date": "2018-02-04T00:00:00",
          "user": "minrk"
         },
         {
          "comments": 6.5,
          "date": "2018-02-11T00:00:00",
          "user": "minrk"
         },
         {
          "comments": 9.0,
          "date": "2018-02-18T00:00:00",
          "user": "minrk"
         },
         {
          "comments": 6.0,
          "date": "2018-02-25T00:00:00",
          "user": "minrk"
         },
         {
          "comments": 3.5,
          "date": "2018-03-18T00:00:00",
          "user": "minrk"
         },
         {
          "comments": 6.0,
          "date": "2018-03-25T00:00:00",
          "user": "minrk"
         },
         {
          "comments": 4.5,
          "date": "2018-04-08T00:00:00",
          "user": "minrk"
         },
         {
          "comments": 3.5,
          "date": "2018-04-29T00:00:00",
          "user": "minrk"
         },
         {
          "comments": 3.0,
          "date": "2018-05-06T00:00:00",
          "user": "minrk"
         },
         {
          "comments": 1.5,
          "date": "2018-05-13T00:00:00",
          "user": "minrk"
         },
         {
          "comments": 2.5,
          "date": "2018-05-27T00:00:00",
          "user": "minrk"
         },
         {
          "comments": 3.0,
          "date": "2018-06-10T00:00:00",
          "user": "minrk"
         },
         {
          "comments": 2.0,
          "date": "2018-06-17T00:00:00",
          "user": "minrk"
         },
         {
          "comments": 2.0,
          "date": "2018-07-08T00:00:00",
          "user": "minrk"
         },
         {
          "comments": 3.5,
          "date": "2018-07-22T00:00:00",
          "user": "minrk"
         },
         {
          "comments": 3.0,
          "date": "2018-08-05T00:00:00",
          "user": "minrk"
         },
         {
          "comments": 1.5,
          "date": "2018-08-26T00:00:00",
          "user": "minrk"
         },
         {
          "comments": 1.0,
          "date": "2018-09-09T00:00:00",
          "user": "minrk"
         },
         {
          "comments": 2.0,
          "date": "2018-09-23T00:00:00",
          "user": "minrk"
         },
         {
          "comments": 3.0,
          "date": "2018-09-30T00:00:00",
          "user": "minrk"
         },
         {
          "comments": 2.5,
          "date": "2018-10-14T00:00:00",
          "user": "minrk"
         },
         {
          "comments": 2.0,
          "date": "2018-10-21T00:00:00",
          "user": "minrk"
         },
         {
          "comments": 2.0,
          "date": "2018-11-04T00:00:00",
          "user": "minrk"
         },
         {
          "comments": 1.5,
          "date": "2018-11-11T00:00:00",
          "user": "minrk"
         },
         {
          "comments": 3.5,
          "date": "2018-12-16T00:00:00",
          "user": "minrk"
         },
         {
          "comments": 9.5,
          "date": "2018-12-23T00:00:00",
          "user": "minrk"
         },
         {
          "comments": 7.5,
          "date": "2019-01-13T00:00:00",
          "user": "minrk"
         },
         {
          "comments": 1.5,
          "date": "2019-01-20T00:00:00",
          "user": "minrk"
         },
         {
          "comments": 1.0,
          "date": "2019-01-27T00:00:00",
          "user": "minrk"
         },
         {
          "comments": 2.0,
          "date": "2019-02-10T00:00:00",
          "user": "minrk"
         },
         {
          "comments": 2.5,
          "date": "2019-02-17T00:00:00",
          "user": "minrk"
         },
         {
          "comments": 6.5,
          "date": "2017-12-31T00:00:00",
          "user": "mukundans91"
         },
         {
          "comments": 2.0,
          "date": "2018-01-07T00:00:00",
          "user": "mukundans91"
         },
         {
          "comments": 6.5,
          "date": "2018-01-14T00:00:00",
          "user": "mukundans91"
         },
         {
          "comments": 6.5,
          "date": "2018-01-28T00:00:00",
          "user": "mukundans91"
         },
         {
          "comments": 2.5,
          "date": "2018-02-11T00:00:00",
          "user": "psychemedia"
         },
         {
          "comments": 3.0,
          "date": "2018-02-18T00:00:00",
          "user": "psychemedia"
         },
         {
          "comments": 1.5,
          "date": "2018-03-04T00:00:00",
          "user": "psychemedia"
         },
         {
          "comments": 1.0,
          "date": "2018-03-18T00:00:00",
          "user": "psychemedia"
         },
         {
          "comments": 4.5,
          "date": "2018-04-29T00:00:00",
          "user": "psychemedia"
         },
         {
          "comments": 4.5,
          "date": "2018-05-27T00:00:00",
          "user": "psychemedia"
         },
         {
          "comments": 3.0,
          "date": "2018-06-03T00:00:00",
          "user": "psychemedia"
         },
         {
          "comments": 3.0,
          "date": "2018-11-11T00:00:00",
          "user": "psychemedia"
         },
         {
          "comments": 1.0,
          "date": "2018-12-30T00:00:00",
          "user": "psychemedia"
         },
         {
          "comments": 2.5,
          "date": "2019-01-06T00:00:00",
          "user": "psychemedia"
         },
         {
          "comments": 1.0,
          "date": "2018-05-13T00:00:00",
          "user": "rgbkrk"
         },
         {
          "comments": 1.5,
          "date": "2018-09-09T00:00:00",
          "user": "rgbkrk"
         },
         {
          "comments": 5.5,
          "date": "2019-02-03T00:00:00",
          "user": "rgbkrk"
         },
         {
          "comments": 5.5,
          "date": "2019-02-10T00:00:00",
          "user": "rgbkrk"
         },
         {
          "comments": 6.5,
          "date": "2017-07-09T00:00:00",
          "user": "sje30"
         },
         {
          "comments": 3.0,
          "date": "2017-07-16T00:00:00",
          "user": "sje30"
         },
         {
          "comments": 1.0,
          "date": "2017-07-30T00:00:00",
          "user": "sje30"
         },
         {
          "comments": 1.0,
          "date": "2017-08-06T00:00:00",
          "user": "sje30"
         },
         {
          "comments": 1.5,
          "date": "2017-10-22T00:00:00",
          "user": "sje30"
         },
         {
          "comments": 1.5,
          "date": "2017-10-29T00:00:00",
          "user": "sje30"
         },
         {
          "comments": 2.0,
          "date": "2017-11-19T00:00:00",
          "user": "sje30"
         },
         {
          "comments": 8.5,
          "date": "2018-07-29T00:00:00",
          "user": "vsoch"
         },
         {
          "comments": 3.0,
          "date": "2018-08-05T00:00:00",
          "user": "vsoch"
         },
         {
          "comments": 5.5,
          "date": "2018-08-12T00:00:00",
          "user": "vsoch"
         },
         {
          "comments": 4.0,
          "date": "2018-08-19T00:00:00",
          "user": "vsoch"
         },
         {
          "comments": 6.0,
          "date": "2018-08-26T00:00:00",
          "user": "vsoch"
         },
         {
          "comments": 7.0,
          "date": "2018-09-02T00:00:00",
          "user": "vsoch"
         },
         {
          "comments": 2.0,
          "date": "2018-09-30T00:00:00",
          "user": "vsoch"
         },
         {
          "comments": 3.5,
          "date": "2017-10-29T00:00:00",
          "user": "willingc"
         },
         {
          "comments": 3.5,
          "date": "2017-11-05T00:00:00",
          "user": "willingc"
         },
         {
          "comments": 5.0,
          "date": "2017-12-03T00:00:00",
          "user": "willingc"
         },
         {
          "comments": 4.5,
          "date": "2017-12-10T00:00:00",
          "user": "willingc"
         },
         {
          "comments": 9.5,
          "date": "2017-12-17T00:00:00",
          "user": "willingc"
         },
         {
          "comments": 9.5,
          "date": "2017-12-24T00:00:00",
          "user": "willingc"
         },
         {
          "comments": 1.0,
          "date": "2017-12-31T00:00:00",
          "user": "willingc"
         },
         {
          "comments": 1.0,
          "date": "2018-01-07T00:00:00",
          "user": "willingc"
         },
         {
          "comments": 1.0,
          "date": "2018-02-04T00:00:00",
          "user": "willingc"
         },
         {
          "comments": 2.5,
          "date": "2018-02-11T00:00:00",
          "user": "willingc"
         },
         {
          "comments": 3.5,
          "date": "2018-02-18T00:00:00",
          "user": "willingc"
         },
         {
          "comments": 11.5,
          "date": "2018-03-18T00:00:00",
          "user": "willingc"
         },
         {
          "comments": 14.5,
          "date": "2018-03-25T00:00:00",
          "user": "willingc"
         },
         {
          "comments": 5.0,
          "date": "2018-04-01T00:00:00",
          "user": "willingc"
         },
         {
          "comments": 2.0,
          "date": "2018-04-29T00:00:00",
          "user": "willingc"
         },
         {
          "comments": 2.0,
          "date": "2018-05-20T00:00:00",
          "user": "willingc"
         },
         {
          "comments": 1.0,
          "date": "2018-05-27T00:00:00",
          "user": "willingc"
         },
         {
          "comments": 1.0,
          "date": "2018-06-03T00:00:00",
          "user": "willingc"
         },
         {
          "comments": 1.0,
          "date": "2018-06-17T00:00:00",
          "user": "willingc"
         },
         {
          "comments": 1.0,
          "date": "2018-07-08T00:00:00",
          "user": "willingc"
         },
         {
          "comments": 2.5,
          "date": "2018-08-12T00:00:00",
          "user": "willingc"
         },
         {
          "comments": 2.5,
          "date": "2018-09-09T00:00:00",
          "user": "willingc"
         },
         {
          "comments": 1.0,
          "date": "2018-10-21T00:00:00",
          "user": "willingc"
         },
         {
          "comments": 2.0,
          "date": "2018-11-11T00:00:00",
          "user": "willingc"
         },
         {
          "comments": 2.0,
          "date": "2018-11-18T00:00:00",
          "user": "willingc"
         },
         {
          "comments": 2.0,
          "date": "2017-05-28T00:00:00",
          "user": "yuvipanda"
         },
         {
          "comments": 2.5,
          "date": "2017-06-04T00:00:00",
          "user": "yuvipanda"
         },
         {
          "comments": 7.5,
          "date": "2017-07-02T00:00:00",
          "user": "yuvipanda"
         },
         {
          "comments": 8.5,
          "date": "2017-07-09T00:00:00",
          "user": "yuvipanda"
         },
         {
          "comments": 3.5,
          "date": "2017-07-16T00:00:00",
          "user": "yuvipanda"
         },
         {
          "comments": 9.5,
          "date": "2017-07-30T00:00:00",
          "user": "yuvipanda"
         },
         {
          "comments": 9.5,
          "date": "2017-08-06T00:00:00",
          "user": "yuvipanda"
         },
         {
          "comments": 2.0,
          "date": "2017-08-13T00:00:00",
          "user": "yuvipanda"
         },
         {
          "comments": 4.0,
          "date": "2017-08-27T00:00:00",
          "user": "yuvipanda"
         },
         {
          "comments": 7.0,
          "date": "2017-09-03T00:00:00",
          "user": "yuvipanda"
         },
         {
          "comments": 4.0,
          "date": "2017-09-10T00:00:00",
          "user": "yuvipanda"
         },
         {
          "comments": 1.5,
          "date": "2017-09-17T00:00:00",
          "user": "yuvipanda"
         },
         {
          "comments": 3.5,
          "date": "2017-10-01T00:00:00",
          "user": "yuvipanda"
         },
         {
          "comments": 6.0,
          "date": "2017-10-08T00:00:00",
          "user": "yuvipanda"
         },
         {
          "comments": 4.5,
          "date": "2017-10-15T00:00:00",
          "user": "yuvipanda"
         },
         {
          "comments": 7.0,
          "date": "2017-10-22T00:00:00",
          "user": "yuvipanda"
         },
         {
          "comments": 13.0,
          "date": "2017-10-29T00:00:00",
          "user": "yuvipanda"
         },
         {
          "comments": 12.0,
          "date": "2017-11-05T00:00:00",
          "user": "yuvipanda"
         },
         {
          "comments": 10.0,
          "date": "2017-11-12T00:00:00",
          "user": "yuvipanda"
         },
         {
          "comments": 6.5,
          "date": "2017-11-19T00:00:00",
          "user": "yuvipanda"
         },
         {
          "comments": 4.0,
          "date": "2017-11-26T00:00:00",
          "user": "yuvipanda"
         },
         {
          "comments": 11.5,
          "date": "2017-12-03T00:00:00",
          "user": "yuvipanda"
         },
         {
          "comments": 10.0,
          "date": "2017-12-10T00:00:00",
          "user": "yuvipanda"
         },
         {
          "comments": 4.0,
          "date": "2017-12-17T00:00:00",
          "user": "yuvipanda"
         },
         {
          "comments": 8.5,
          "date": "2017-12-24T00:00:00",
          "user": "yuvipanda"
         },
         {
          "comments": 8.5,
          "date": "2017-12-31T00:00:00",
          "user": "yuvipanda"
         },
         {
          "comments": 3.5,
          "date": "2018-01-07T00:00:00",
          "user": "yuvipanda"
         },
         {
          "comments": 9.0,
          "date": "2018-01-14T00:00:00",
          "user": "yuvipanda"
         },
         {
          "comments": 15.0,
          "date": "2018-01-21T00:00:00",
          "user": "yuvipanda"
         },
         {
          "comments": 9.0,
          "date": "2018-01-28T00:00:00",
          "user": "yuvipanda"
         },
         {
          "comments": 10.0,
          "date": "2018-02-04T00:00:00",
          "user": "yuvipanda"
         },
         {
          "comments": 17.5,
          "date": "2018-02-11T00:00:00",
          "user": "yuvipanda"
         },
         {
          "comments": 20.5,
          "date": "2018-02-18T00:00:00",
          "user": "yuvipanda"
         },
         {
          "comments": 11.0,
          "date": "2018-02-25T00:00:00",
          "user": "yuvipanda"
         },
         {
          "comments": 1.0,
          "date": "2018-03-04T00:00:00",
          "user": "yuvipanda"
         },
         {
          "comments": 5.0,
          "date": "2018-03-18T00:00:00",
          "user": "yuvipanda"
         },
         {
          "comments": 6.0,
          "date": "2018-04-29T00:00:00",
          "user": "yuvipanda"
         },
         {
          "comments": 2.5,
          "date": "2018-05-13T00:00:00",
          "user": "yuvipanda"
         },
         {
          "comments": 3.5,
          "date": "2018-05-20T00:00:00",
          "user": "yuvipanda"
         },
         {
          "comments": 3.0,
          "date": "2018-05-27T00:00:00",
          "user": "yuvipanda"
         },
         {
          "comments": 1.0,
          "date": "2018-07-01T00:00:00",
          "user": "yuvipanda"
         },
         {
          "comments": 6.5,
          "date": "2018-09-09T00:00:00",
          "user": "yuvipanda"
         },
         {
          "comments": 6.5,
          "date": "2018-09-16T00:00:00",
          "user": "yuvipanda"
         },
         {
          "comments": 1.0,
          "date": "2018-09-23T00:00:00",
          "user": "yuvipanda"
         },
         {
          "comments": 1.0,
          "date": "2018-09-30T00:00:00",
          "user": "yuvipanda"
         },
         {
          "comments": 2.5,
          "date": "2018-11-11T00:00:00",
          "user": "yuvipanda"
         },
         {
          "comments": 3.5,
          "date": "2018-11-18T00:00:00",
          "user": "yuvipanda"
         },
         {
          "comments": 3.5,
          "date": "2018-12-02T00:00:00",
          "user": "yuvipanda"
         },
         {
          "comments": 7.0,
          "date": "2018-12-09T00:00:00",
          "user": "yuvipanda"
         },
         {
          "comments": 12.5,
          "date": "2018-12-16T00:00:00",
          "user": "yuvipanda"
         },
         {
          "comments": 17.0,
          "date": "2018-12-23T00:00:00",
          "user": "yuvipanda"
         },
         {
          "comments": 10.5,
          "date": "2018-12-30T00:00:00",
          "user": "yuvipanda"
         },
         {
          "comments": 3.5,
          "date": "2019-01-06T00:00:00",
          "user": "yuvipanda"
         },
         {
          "comments": 5.0,
          "date": "2019-01-13T00:00:00",
          "user": "yuvipanda"
         },
         {
          "comments": 6.5,
          "date": "2019-01-20T00:00:00",
          "user": "yuvipanda"
         },
         {
          "comments": 5.0,
          "date": "2019-01-27T00:00:00",
          "user": "yuvipanda"
         },
         {
          "comments": 5.0,
          "date": "2019-02-03T00:00:00",
          "user": "yuvipanda"
         },
         {
          "comments": 4.5,
          "date": "2019-02-10T00:00:00",
          "user": "yuvipanda"
         },
         {
          "comments": 2.5,
          "date": "2019-02-17T00:00:00",
          "user": "yuvipanda"
         }
        ]
       },
       "layer": [
        {
         "data": {
          "name": "data-41db3276da6c38bb08afbeab35d543e5"
         },
         "encoding": {
          "color": {
           "field": "user",
           "type": "nominal"
          },
          "opacity": {
           "value": 0
          },
          "tooltip": {
           "field": "user",
           "type": "nominal"
          },
          "x": {
           "field": "date",
           "scale": {
            "domain": [
             "2016-01-01",
             "2019-02-01"
            ]
           },
           "type": "temporal"
          },
          "y": {
           "field": "comments",
           "type": "quantitative"
          }
         },
         "mark": {
          "clip": true,
          "type": "circle"
         },
         "selection": {
          "selector001": {
           "fields": [
            "user"
           ],
           "nearest": true,
           "on": "mouseover",
           "type": "single"
          }
         },
         "width": 1000
        },
        {
         "data": {
          "name": "data-41db3276da6c38bb08afbeab35d543e5"
         },
         "encoding": {
          "color": {
           "condition": {
            "field": "user",
            "selection": "selector001",
            "type": "nominal"
           },
           "value": "lightgray"
          },
          "size": {
           "condition": {
            "selection": {
             "not": "selector001"
            },
            "value": 1
           },
           "value": 4
          },
          "tooltip": {
           "field": "user",
           "type": "nominal"
          },
          "x": {
           "field": "date",
           "scale": {
            "domain": [
             "2016-01-01",
             "2019-02-01"
            ]
           },
           "type": "temporal"
          },
          "y": {
           "field": "comments",
           "type": "quantitative"
          }
         },
         "mark": {
          "clip": true,
          "type": "line"
         },
         "width": 1000
        }
       ]
      },
      "text/plain": [
       "<VegaLite 2 object>\n",
       "\n",
       "If you see this message, it means the renderer has not been properly enabled\n",
       "for the frontend that you are using. For more information, see\n",
       "https://altair-viz.github.io/user_guide/troubleshooting.html\n"
      ]
     },
     "execution_count": 14,
     "metadata": {},
     "output_type": "execute_result"
    }
   ],
   "source": [
    "selectable_line_plot(user_data.reset_index(), 'date', 'comments', 'user')"
   ]
  },
  {
   "cell_type": "code",
   "execution_count": 15,
   "metadata": {
    "papermill": {
     "duration": 0.107015,
     "end_time": "2019-02-14T22:39:32.769634",
     "exception": false,
     "start_time": "2019-02-14T22:39:32.662619",
     "status": "completed"
    },
    "tags": []
   },
   "outputs": [
    {
     "data": {
      "application/vnd.vegalite.v2+json": {
       "$schema": "https://vega.github.io/schema/vega-lite/v2.6.0.json",
       "config": {
        "view": {
         "height": 300,
         "width": 400
        }
       },
       "data": {
        "name": "data-93226fed5ea35b3145a38ada66ad8efd"
       },
       "datasets": {
        "data-93226fed5ea35b3145a38ada66ad8efd": [
         {
          "comments": 2.0,
          "date": "2017-05-28T00:00:00"
         },
         {
          "comments": 4.5,
          "date": "2017-06-04T00:00:00"
         },
         {
          "comments": 1.0,
          "date": "2017-06-18T00:00:00"
         },
         {
          "comments": 10.5,
          "date": "2017-07-02T00:00:00"
         },
         {
          "comments": 18.0,
          "date": "2017-07-09T00:00:00"
         },
         {
          "comments": 7.5,
          "date": "2017-07-16T00:00:00"
         },
         {
          "comments": 11.5,
          "date": "2017-07-30T00:00:00"
         },
         {
          "comments": 12.5,
          "date": "2017-08-06T00:00:00"
         },
         {
          "comments": 4.0,
          "date": "2017-08-13T00:00:00"
         },
         {
          "comments": 1.0,
          "date": "2017-08-20T00:00:00"
         },
         {
          "comments": 9.0,
          "date": "2017-08-27T00:00:00"
         },
         {
          "comments": 21.5,
          "date": "2017-09-03T00:00:00"
         },
         {
          "comments": 9.0,
          "date": "2017-09-10T00:00:00"
         },
         {
          "comments": 3.0,
          "date": "2017-09-17T00:00:00"
         },
         {
          "comments": 1.5,
          "date": "2017-09-24T00:00:00"
         },
         {
          "comments": 4.5,
          "date": "2017-10-01T00:00:00"
         },
         {
          "comments": 13.0,
          "date": "2017-10-08T00:00:00"
         },
         {
          "comments": 11.5,
          "date": "2017-10-15T00:00:00"
         },
         {
          "comments": 17.5,
          "date": "2017-10-22T00:00:00"
         },
         {
          "comments": 37.5,
          "date": "2017-10-29T00:00:00"
         },
         {
          "comments": 37.5,
          "date": "2017-11-05T00:00:00"
         },
         {
          "comments": 32.0,
          "date": "2017-11-12T00:00:00"
         },
         {
          "comments": 28.5,
          "date": "2017-11-19T00:00:00"
         },
         {
          "comments": 17.0,
          "date": "2017-11-26T00:00:00"
         },
         {
          "comments": 41.0,
          "date": "2017-12-03T00:00:00"
         },
         {
          "comments": 33.5,
          "date": "2017-12-10T00:00:00"
         },
         {
          "comments": 30.5,
          "date": "2017-12-17T00:00:00"
         },
         {
          "comments": 42.0,
          "date": "2017-12-24T00:00:00"
         },
         {
          "comments": 29.0,
          "date": "2017-12-31T00:00:00"
         },
         {
          "comments": 23.0,
          "date": "2018-01-07T00:00:00"
         },
         {
          "comments": 32.0,
          "date": "2018-01-14T00:00:00"
         },
         {
          "comments": 34.0,
          "date": "2018-01-21T00:00:00"
         },
         {
          "comments": 24.0,
          "date": "2018-01-28T00:00:00"
         },
         {
          "comments": 22.0,
          "date": "2018-02-04T00:00:00"
         },
         {
          "comments": 43.5,
          "date": "2018-02-11T00:00:00"
         },
         {
          "comments": 60.0,
          "date": "2018-02-18T00:00:00"
         },
         {
          "comments": 32.0,
          "date": "2018-02-25T00:00:00"
         },
         {
          "comments": 6.5,
          "date": "2018-03-04T00:00:00"
         },
         {
          "comments": 6.0,
          "date": "2018-03-11T00:00:00"
         },
         {
          "comments": 34.5,
          "date": "2018-03-18T00:00:00"
         },
         {
          "comments": 40.0,
          "date": "2018-03-25T00:00:00"
         },
         {
          "comments": 15.0,
          "date": "2018-04-01T00:00:00"
         },
         {
          "comments": 11.5,
          "date": "2018-04-08T00:00:00"
         },
         {
          "comments": 8.5,
          "date": "2018-04-15T00:00:00"
         },
         {
          "comments": 2.0,
          "date": "2018-04-22T00:00:00"
         },
         {
          "comments": 34.5,
          "date": "2018-04-29T00:00:00"
         },
         {
          "comments": 20.5,
          "date": "2018-05-06T00:00:00"
         },
         {
          "comments": 12.5,
          "date": "2018-05-13T00:00:00"
         },
         {
          "comments": 22.5,
          "date": "2018-05-20T00:00:00"
         },
         {
          "comments": 33.5,
          "date": "2018-05-27T00:00:00"
         },
         {
          "comments": 13.5,
          "date": "2018-06-03T00:00:00"
         },
         {
          "comments": 21.0,
          "date": "2018-06-10T00:00:00"
         },
         {
          "comments": 21.0,
          "date": "2018-06-17T00:00:00"
         },
         {
          "comments": 5.5,
          "date": "2018-06-24T00:00:00"
         },
         {
          "comments": 19.5,
          "date": "2018-07-01T00:00:00"
         },
         {
          "comments": 24.0,
          "date": "2018-07-08T00:00:00"
         },
         {
          "comments": 4.5,
          "date": "2018-07-15T00:00:00"
         },
         {
          "comments": 31.5,
          "date": "2018-07-22T00:00:00"
         },
         {
          "comments": 21.5,
          "date": "2018-07-29T00:00:00"
         },
         {
          "comments": 17.5,
          "date": "2018-08-05T00:00:00"
         },
         {
          "comments": 26.0,
          "date": "2018-08-12T00:00:00"
         },
         {
          "comments": 21.0,
          "date": "2018-08-19T00:00:00"
         },
         {
          "comments": 20.0,
          "date": "2018-08-26T00:00:00"
         },
         {
          "comments": 16.0,
          "date": "2018-09-02T00:00:00"
         },
         {
          "comments": 19.0,
          "date": "2018-09-09T00:00:00"
         },
         {
          "comments": 18.0,
          "date": "2018-09-16T00:00:00"
         },
         {
          "comments": 24.0,
          "date": "2018-09-23T00:00:00"
         },
         {
          "comments": 40.5,
          "date": "2018-09-30T00:00:00"
         },
         {
          "comments": 29.0,
          "date": "2018-10-07T00:00:00"
         },
         {
          "comments": 57.5,
          "date": "2018-10-14T00:00:00"
         },
         {
          "comments": 48.0,
          "date": "2018-10-21T00:00:00"
         },
         {
          "comments": 20.5,
          "date": "2018-10-28T00:00:00"
         },
         {
          "comments": 16.0,
          "date": "2018-11-04T00:00:00"
         },
         {
          "comments": 40.0,
          "date": "2018-11-11T00:00:00"
         },
         {
          "comments": 43.0,
          "date": "2018-11-18T00:00:00"
         },
         {
          "comments": 10.5,
          "date": "2018-11-25T00:00:00"
         },
         {
          "comments": 18.0,
          "date": "2018-12-02T00:00:00"
         },
         {
          "comments": 17.0,
          "date": "2018-12-09T00:00:00"
         },
         {
          "comments": 39.0,
          "date": "2018-12-16T00:00:00"
         },
         {
          "comments": 64.0,
          "date": "2018-12-23T00:00:00"
         },
         {
          "comments": 38.0,
          "date": "2018-12-30T00:00:00"
         },
         {
          "comments": 14.0,
          "date": "2019-01-06T00:00:00"
         },
         {
          "comments": 24.5,
          "date": "2019-01-13T00:00:00"
         },
         {
          "comments": 15.0,
          "date": "2019-01-20T00:00:00"
         },
         {
          "comments": 15.5,
          "date": "2019-01-27T00:00:00"
         },
         {
          "comments": 20.0,
          "date": "2019-02-03T00:00:00"
         },
         {
          "comments": 28.0,
          "date": "2019-02-10T00:00:00"
         },
         {
          "comments": 12.5,
          "date": "2019-02-17T00:00:00"
         }
        ]
       },
       "encoding": {
        "x": {
         "field": "date",
         "scale": {
          "domain": [
           "2016-01-01",
           "2019-02-01"
          ]
         },
         "type": "temporal"
        },
        "y": {
         "field": "comments",
         "type": "quantitative"
        }
       },
       "mark": {
        "clip": true,
        "type": "line"
       },
       "width": 1000
      },
      "text/plain": [
       "<VegaLite 2 object>\n",
       "\n",
       "If you see this message, it means the renderer has not been properly enabled\n",
       "for the frontend that you are using. For more information, see\n",
       "https://altair-viz.github.io/user_guide/troubleshooting.html\n"
      ]
     },
     "execution_count": 15,
     "metadata": {},
     "output_type": "execute_result"
    }
   ],
   "source": [
    "# Comment totals over time\n",
    "all_user_data = user_data.reset_index().groupby('date').sum()['comments'].reset_index()\n",
    "alt.Chart(data=all_user_data, width=1000).mark_line(clip=True).encode(\n",
    "    x=alt.X('date', scale=alt.Scale(domain=[\"2016-01-01\", \"2019-02-01\"])),\n",
    "    y='comments',\n",
    ")"
   ]
  },
  {
   "cell_type": "markdown",
   "metadata": {
    "papermill": {
     "duration": 0.098933,
     "end_time": "2019-02-14T22:39:32.943848",
     "exception": false,
     "start_time": "2019-02-14T22:39:32.844915",
     "status": "completed"
    },
    "tags": []
   },
   "source": [
    "## Distribution of comments over top N contributors"
   ]
  },
  {
   "cell_type": "code",
   "execution_count": 16,
   "metadata": {
    "papermill": {
     "duration": 0.14235,
     "end_time": "2019-02-14T22:39:33.223566",
     "exception": false,
     "start_time": "2019-02-14T22:39:33.081216",
     "status": "completed"
    },
    "tags": []
   },
   "outputs": [],
   "source": [
    "# For each week, calculate the top 20 contributions, turn them into percentages, order them, store the result"
   ]
  },
  {
   "cell_type": "code",
   "execution_count": 17,
   "metadata": {
    "papermill": {
     "duration": 0.424233,
     "end_time": "2019-02-14T22:39:33.720469",
     "exception": false,
     "start_time": "2019-02-14T22:39:33.296236",
     "status": "completed"
    },
    "tags": []
   },
   "outputs": [],
   "source": [
    "monthly = weekly.groupby('user').resample('M', on='date').sum().reset_index()"
   ]
  },
  {
   "cell_type": "code",
   "execution_count": 18,
   "metadata": {
    "papermill": {
     "duration": 0.076436,
     "end_time": "2019-02-14T22:39:33.845938",
     "exception": false,
     "start_time": "2019-02-14T22:39:33.769502",
     "status": "completed"
    },
    "tags": []
   },
   "outputs": [],
   "source": [
    "n_comments_plot = 20"
   ]
  },
  {
   "cell_type": "code",
   "execution_count": 19,
   "metadata": {
    "papermill": {
     "duration": 0.14971,
     "end_time": "2019-02-14T22:39:34.062301",
     "exception": false,
     "start_time": "2019-02-14T22:39:33.912591",
     "status": "completed"
    },
    "tags": []
   },
   "outputs": [],
   "source": [
    "monthly_dist = {}\n",
    "for iweek, ivals in monthly.groupby('date'):\n",
    "    comments_dist = ivals.groupby('user').sum()['comments']\n",
    "    comments_dist = comments_dist / comments_dist.sum()\n",
    "    comments_dist = comments_dist.sort_values(ascending=False)\n",
    "    comments_placeholder = [0] * n_comments_plot\n",
    "\n",
    "    for ii, (iname, ipart) in enumerate(comments_dist.items()):\n",
    "        if ii + 1 > n_comments_plot:\n",
    "            continue\n",
    "        comments_placeholder[ii] = ipart\n",
    "    monthly_dist[iweek] = comments_placeholder"
   ]
  },
  {
   "cell_type": "code",
   "execution_count": 20,
   "metadata": {
    "papermill": {
     "duration": 0.075711,
     "end_time": "2019-02-14T22:39:34.196731",
     "exception": false,
     "start_time": "2019-02-14T22:39:34.121020",
     "status": "completed"
    },
    "tags": []
   },
   "outputs": [],
   "source": [
    "monthly_dist = pd.DataFrame(monthly_dist)\n",
    "# monthly_dist.index.name = 'position'\n",
    "# monthly_dist.columns.name = 'date'\n",
    "# monthly_dist = monthly_dist.stack().reset_index().rename(columns={0: 'dist'})"
   ]
  },
  {
   "cell_type": "code",
   "execution_count": 21,
   "metadata": {
    "papermill": {
     "duration": 0.082915,
     "end_time": "2019-02-14T22:39:34.339415",
     "exception": false,
     "start_time": "2019-02-14T22:39:34.256500",
     "status": "completed"
    },
    "tags": []
   },
   "outputs": [],
   "source": [
    "monthly_dist.columns = monthly_dist.columns.date"
   ]
  },
  {
   "cell_type": "code",
   "execution_count": 22,
   "metadata": {
    "papermill": {
     "duration": 0.062203,
     "end_time": "2019-02-14T22:39:34.453642",
     "exception": false,
     "start_time": "2019-02-14T22:39:34.391439",
     "status": "completed"
    },
    "tags": []
   },
   "outputs": [],
   "source": [
    "from matplotlib import pyplot as plt"
   ]
  },
  {
   "cell_type": "code",
   "execution_count": 23,
   "metadata": {
    "papermill": {
     "duration": 0.859959,
     "end_time": "2019-02-14T22:39:35.381485",
     "exception": false,
     "start_time": "2019-02-14T22:39:34.521526",
     "status": "completed"
    },
    "tags": []
   },
   "outputs": [
    {
     "name": "stderr",
     "output_type": "stream",
     "text": [
      "/home/choldgraf/anaconda/envs/dev/lib/python3.6/site-packages/ipykernel_launcher.py:2: RuntimeWarning: divide by zero encountered in log10\n",
      "  \n"
     ]
    },
    {
     "data": {
      "text/plain": [
       "[Text(114.0, 0.5, 'Rank'),\n",
       " Text(0.5, 1.0, 'Log % Comments over time\\ntop 20 commentors')]"
      ]
     },
     "execution_count": 23,
     "metadata": {},
     "output_type": "execute_result"
    },
    {
     "data": {
      "image/png": "[encoded data removed]",
      "text/plain": [
       "<Figure size 1080x360 with 2 Axes>"
      ]
     },
     "metadata": {},
     "output_type": "display_data"
    }
   ],
   "source": [
    "fig, ax = plt.subplots(figsize=(15, 5))\n",
    "ax = sns.heatmap(np.log10(100 * monthly_dist), vmin=0, vmax=2)\n",
    "ax.set(ylabel=\"Rank\", title=\"Log % Comments over time\\ntop {} commentors\".format(n_comments_plot))"
   ]
  },
  {
   "cell_type": "markdown",
   "metadata": {
    "papermill": {
     "duration": 0.080088,
     "end_time": "2019-02-14T22:39:35.526077",
     "exception": false,
     "start_time": "2019-02-14T22:39:35.445989",
     "status": "completed"
    },
    "tags": []
   },
   "source": [
    "## Correlations between members"
   ]
  },
  {
   "cell_type": "code",
   "execution_count": 24,
   "metadata": {
    "papermill": {
     "duration": 0.128863,
     "end_time": "2019-02-14T22:39:35.726249",
     "exception": false,
     "start_time": "2019-02-14T22:39:35.597386",
     "status": "completed"
    },
    "tags": []
   },
   "outputs": [],
   "source": [
    "correlations = weekly.query(\"user in @plt_users\").set_index(['date', 'user'])['comments'].unstack('user').corr()\n",
    "correlations = correlations.replace(np.nan, 0)"
   ]
  },
  {
   "cell_type": "code",
   "execution_count": 25,
   "metadata": {
    "papermill": {
     "duration": 0.886022,
     "end_time": "2019-02-14T22:39:36.683111",
     "exception": false,
     "start_time": "2019-02-14T22:39:35.797089",
     "status": "completed"
    },
    "tags": []
   },
   "outputs": [
    {
     "data": {
      "text/plain": [
       "<seaborn.matrix.ClusterGrid at 0x7fec4815d6d8>"
      ]
     },
     "execution_count": 25,
     "metadata": {},
     "output_type": "execute_result"
    },
    {
     "data": {
      "image/png": "[encoded data removed]",
      "text/plain": [
       "<Figure size 720x720 with 4 Axes>"
      ]
     },
     "metadata": {},
     "output_type": "display_data"
    }
   ],
   "source": [
    "sns.clustermap(correlations, vmin=-1, vmax=1, cmap='RdYlBu_r')"
   ]
  },
  {
   "cell_type": "code",
   "execution_count": null,
   "metadata": {
    "papermill": {
     "duration": 0.06401,
     "end_time": "2019-02-14T22:39:36.826996",
     "exception": false,
     "start_time": "2019-02-14T22:39:36.762986",
     "status": "completed"
    },
    "tags": []
   },
   "outputs": [],
   "source": []
  }
 ],
 "metadata": {
  "kernelspec": {
   "display_name": "Python 3",
   "language": "python",
   "name": "python3"
  },
  "language_info": {
   "codemirror_mode": {
    "name": "ipython",
    "version": 3
   },
   "file_extension": ".py",
   "mimetype": "text/x-python",
   "name": "python",
   "nbconvert_exporter": "python",
   "pygments_lexer": "ipython3",
   "version": "3.6.5"
  },
  "papermill": {
   "duration": 10.65865,
   "end_time": "2019-02-14T22:39:37.800809",
   "environment_variables": {},
   "exception": null,
   "input_path": "./viz_data.ipynb",
   "output_path": "../reports/viz_data_jupyter-repo2docker.ipynb",
   "parameters": {
    "org": "jupyter",
    "plot_N": 20,
    "repo": "repo2docker"
   },
   "start_time": "2019-02-14T22:39:27.142159",
   "version": "0.18.0"
  }
 },
 "nbformat": 4,
 "nbformat_minor": 2
}