{
 "cells": [
  {
   "cell_type": "code",
   "execution_count": 1,
   "metadata": {},
   "outputs": [],
   "source": [
    "import pandas as pd\n",
    "from datetime import timedelta\n",
    "from IPython.display import HTML, display"
   ]
  },
  {
   "cell_type": "code",
   "execution_count": 20,
   "metadata": {
    "tags": [
     "parameters"
    ]
   },
   "outputs": [],
   "source": [
    "date = pd.datetime.today() - timedelta(days=30)\n",
    "org = 'jupyterhub'\n",
    "repo = 'zero-to-jupyterhub-k8s'"
   ]
  },
  {
   "cell_type": "code",
   "execution_count": 21,
   "metadata": {},
   "outputs": [],
   "source": [
    "# Definition of a stale issue/PR (how many days since last updated)\n",
    "stale_days = 30\n",
    "date_stale = pd.to_datetime(date) - timedelta(days=stale_days)"
   ]
  },
  {
   "cell_type": "markdown",
   "metadata": {},
   "source": [
    "# Opened and Closed Issues and PRs\n",
    "\n",
    "This report shows opened and closed issues / PRs over the last 30 days, with a\n",
    "particular focus on items that haven't had a lot of discussion, or that have\n",
    "been opened by people who aren't team-members. The goal of this page is to make\n",
    "it easier to spot places where some input would be appreciated!"
   ]
  },
  {
   "cell_type": "markdown",
   "metadata": {},
   "source": [
    "# Imports"
   ]
  },
  {
   "cell_type": "code",
   "execution_count": 22,
   "metadata": {},
   "outputs": [],
   "source": [
    "import pandas as pd\n",
    "from subprocess import run, PIPE\n",
    "from watchtower import issues_\n",
    "from glob import glob\n",
    "import os.path as op\n",
    "import shutil as sh\n",
    "import sys\n",
    "sys.path.append('../../scripts/')"
   ]
  },
  {
   "cell_type": "markdown",
   "metadata": {},
   "source": [
    "## styling functions"
   ]
  },
  {
   "cell_type": "code",
   "execution_count": 23,
   "metadata": {},
   "outputs": [],
   "source": [
    "def highlight_rows(val):\n",
    "    \"\"\"Highlights cells pertaining to non-members and w/ no comments\"\"\"\n",
    "    disp = ''\n",
    "    if val == 0 or val == \"NONE\":\n",
    "        disp += 'background-color: #f7b7b7'\n",
    "    elif val == \"FIRST_TIME_CONTRIBUTOR\":\n",
    "        disp += 'background-color: red'\n",
    "    return disp\n",
    "\n",
    "def make_clickable(val):\n",
    "    # target _blank to open new window\n",
    "    return '<a target=\"_blank\" href=\"{}\">{}</a>'.format(val, val)\n",
    "\n",
    "def print_html(msg):\n",
    "    display(HTML('<h2 style=\"padding-left: 1em;\">{}</h2>'.format(msg)))\n",
    "    \n",
    "pd.options.display.max_colwidth = 200"
   ]
  },
  {
   "cell_type": "markdown",
   "metadata": {},
   "source": [
    "## Load data"
   ]
  },
  {
   "cell_type": "code",
   "execution_count": 24,
   "metadata": {},
   "outputs": [],
   "source": [
    "# Issues\n",
    "issues = issues_.load_issues(org, repo)\n",
    "issues['user'] = issues['user'].map(lambda a: a['login'])"
   ]
  },
  {
   "cell_type": "markdown",
   "metadata": {},
   "source": [
    "# New activity"
   ]
  },
  {
   "cell_type": "markdown",
   "metadata": {},
   "source": [
    "## Opened issues\n",
    "\n",
    "without responses in red"
   ]
  },
  {
   "cell_type": "code",
   "execution_count": 25,
   "metadata": {},
   "outputs": [
    {
     "name": "stderr",
     "output_type": "stream",
     "text": [
      "/home/choldgraf/anaconda/envs/dev/lib/python3.6/site-packages/ipykernel_launcher.py:3: SettingWithCopyWarning: \n",
      "A value is trying to be set on a copy of a slice from a DataFrame.\n",
      "Try using .loc[row_indexer,col_indexer] = value instead\n",
      "\n",
      "See the caveats in the documentation: http://pandas.pydata.org/pandas-docs/stable/indexing.html#indexing-view-versus-copy\n",
      "  This is separate from the ipykernel package so we can avoid doing imports until\n"
     ]
    }
   ],
   "source": [
    "opened = issues.query('created_at > @date')\n",
    "opened_issues = opened[opened['pull_request'].isna()]\n",
    "opened_issues['closed'] = ~pd.isnull(opened_issues['closed_at'])"
   ]
  },
  {
   "cell_type": "code",
   "execution_count": 26,
   "metadata": {},
   "outputs": [
    {
     "data": {
      "text/html": [
       "<h2 style=\"padding-left: 1em;\">Opened issues: 22</h2>"
      ],
      "text/plain": [
       "<IPython.core.display.HTML object>"
      ]
     },
     "metadata": {},
     "output_type": "display_data"
    }
   ],
   "source": [
    "print_html('Opened issues: {}'.format(len(opened_issues)))"
   ]
  },
  {
   "cell_type": "code",
   "execution_count": 27,
   "metadata": {},
   "outputs": [
    {
     "data": {
      "text/html": [
       "<style  type=\"text/css\" >\n",
       "    #T_eb7440b2_4cc5_11e9_a892_54ee75e0f62drow0_col1 {\n",
       "            background-color:  #f7b7b7;\n",
       "        }    #T_eb7440b2_4cc5_11e9_a892_54ee75e0f62drow0_col2 {\n",
       "            background-color:  #f7b7b7;\n",
       "        }    #T_eb7440b2_4cc5_11e9_a892_54ee75e0f62drow0_col3 {\n",
       "            background-color:  #f7b7b7;\n",
       "        }    #T_eb7440b2_4cc5_11e9_a892_54ee75e0f62drow1_col1 {\n",
       "            background-color:  #f7b7b7;\n",
       "        }    #T_eb7440b2_4cc5_11e9_a892_54ee75e0f62drow1_col2 {\n",
       "            background-color:  #f7b7b7;\n",
       "        }    #T_eb7440b2_4cc5_11e9_a892_54ee75e0f62drow1_col3 {\n",
       "            background-color:  #f7b7b7;\n",
       "        }    #T_eb7440b2_4cc5_11e9_a892_54ee75e0f62drow2_col1 {\n",
       "            background-color:  #f7b7b7;\n",
       "        }    #T_eb7440b2_4cc5_11e9_a892_54ee75e0f62drow2_col2 {\n",
       "            background-color:  #f7b7b7;\n",
       "        }    #T_eb7440b2_4cc5_11e9_a892_54ee75e0f62drow2_col3 {\n",
       "            background-color:  #f7b7b7;\n",
       "        }    #T_eb7440b2_4cc5_11e9_a892_54ee75e0f62drow3_col1 {\n",
       "            background-color:  #f7b7b7;\n",
       "        }    #T_eb7440b2_4cc5_11e9_a892_54ee75e0f62drow3_col2 {\n",
       "            background-color:  #f7b7b7;\n",
       "        }    #T_eb7440b2_4cc5_11e9_a892_54ee75e0f62drow3_col3 {\n",
       "            background-color:  #f7b7b7;\n",
       "        }    #T_eb7440b2_4cc5_11e9_a892_54ee75e0f62drow4_col2 {\n",
       "            background-color:  #f7b7b7;\n",
       "        }    #T_eb7440b2_4cc5_11e9_a892_54ee75e0f62drow4_col3 {\n",
       "            background-color:  #f7b7b7;\n",
       "        }    #T_eb7440b2_4cc5_11e9_a892_54ee75e0f62drow5_col1 {\n",
       "            background-color:  #f7b7b7;\n",
       "        }    #T_eb7440b2_4cc5_11e9_a892_54ee75e0f62drow5_col2 {\n",
       "            background-color:  #f7b7b7;\n",
       "        }    #T_eb7440b2_4cc5_11e9_a892_54ee75e0f62drow5_col3 {\n",
       "            background-color:  #f7b7b7;\n",
       "        }    #T_eb7440b2_4cc5_11e9_a892_54ee75e0f62drow6_col1 {\n",
       "            background-color:  #f7b7b7;\n",
       "        }    #T_eb7440b2_4cc5_11e9_a892_54ee75e0f62drow6_col3 {\n",
       "            background-color:  #f7b7b7;\n",
       "        }    #T_eb7440b2_4cc5_11e9_a892_54ee75e0f62drow7_col3 {\n",
       "            background-color:  #f7b7b7;\n",
       "        }    #T_eb7440b2_4cc5_11e9_a892_54ee75e0f62drow8_col1 {\n",
       "            background-color:  #f7b7b7;\n",
       "        }    #T_eb7440b2_4cc5_11e9_a892_54ee75e0f62drow8_col3 {\n",
       "            background-color:  #f7b7b7;\n",
       "        }    #T_eb7440b2_4cc5_11e9_a892_54ee75e0f62drow9_col3 {\n",
       "            background-color:  #f7b7b7;\n",
       "        }    #T_eb7440b2_4cc5_11e9_a892_54ee75e0f62drow10_col3 {\n",
       "            background-color:  #f7b7b7;\n",
       "        }    #T_eb7440b2_4cc5_11e9_a892_54ee75e0f62drow11_col1 {\n",
       "            background-color:  #f7b7b7;\n",
       "        }    #T_eb7440b2_4cc5_11e9_a892_54ee75e0f62drow11_col3 {\n",
       "            background-color:  #f7b7b7;\n",
       "        }    #T_eb7440b2_4cc5_11e9_a892_54ee75e0f62drow12_col3 {\n",
       "            background-color:  #f7b7b7;\n",
       "        }    #T_eb7440b2_4cc5_11e9_a892_54ee75e0f62drow13_col3 {\n",
       "            background-color:  #f7b7b7;\n",
       "        }    #T_eb7440b2_4cc5_11e9_a892_54ee75e0f62drow14_col1 {\n",
       "            background-color:  #f7b7b7;\n",
       "        }    #T_eb7440b2_4cc5_11e9_a892_54ee75e0f62drow14_col3 {\n",
       "            background-color:  #f7b7b7;\n",
       "        }    #T_eb7440b2_4cc5_11e9_a892_54ee75e0f62drow15_col3 {\n",
       "            background-color:  #f7b7b7;\n",
       "        }    #T_eb7440b2_4cc5_11e9_a892_54ee75e0f62drow16_col1 {\n",
       "            background-color:  #f7b7b7;\n",
       "        }    #T_eb7440b2_4cc5_11e9_a892_54ee75e0f62drow17_col1 {\n",
       "            background-color:  #f7b7b7;\n",
       "        }    #T_eb7440b2_4cc5_11e9_a892_54ee75e0f62drow19_col1 {\n",
       "            background-color:  #f7b7b7;\n",
       "        }    #T_eb7440b2_4cc5_11e9_a892_54ee75e0f62drow20_col1 {\n",
       "            background-color:  #f7b7b7;\n",
       "        }    #T_eb7440b2_4cc5_11e9_a892_54ee75e0f62drow21_col1 {\n",
       "            background-color:  #f7b7b7;\n",
       "        }</style><table id=\"T_eb7440b2_4cc5_11e9_a892_54ee75e0f62d\" ><thead>    <tr>        <th class=\"col_heading level0 col0\" >user</th>        <th class=\"col_heading level0 col1\" >author_association</th>        <th class=\"col_heading level0 col2\" >comments</th>        <th class=\"col_heading level0 col3\" >closed</th>        <th class=\"col_heading level0 col4\" >html_url</th>    </tr></thead><tbody>\n",
       "                <tr>\n",
       "                                <td id=\"T_eb7440b2_4cc5_11e9_a892_54ee75e0f62drow0_col0\" class=\"data row0 col0\" >kfox1111</td>\n",
       "                        <td id=\"T_eb7440b2_4cc5_11e9_a892_54ee75e0f62drow0_col1\" class=\"data row0 col1\" >NONE</td>\n",
       "                        <td id=\"T_eb7440b2_4cc5_11e9_a892_54ee75e0f62drow0_col2\" class=\"data row0 col2\" >0</td>\n",
       "                        <td id=\"T_eb7440b2_4cc5_11e9_a892_54ee75e0f62drow0_col3\" class=\"data row0 col3\" >False</td>\n",
       "                        <td id=\"T_eb7440b2_4cc5_11e9_a892_54ee75e0f62drow0_col4\" class=\"data row0 col4\" ><a target=\"_blank\" href=\"https://github.com/jupyterhub/zero-to-jupyterhub-k8s/issues/1177\">https://github.com/jupyterhub/zero-to-jupyterhub-k8s/issues/1177</a></td>\n",
       "            </tr>\n",
       "            <tr>\n",
       "                                <td id=\"T_eb7440b2_4cc5_11e9_a892_54ee75e0f62drow1_col0\" class=\"data row1 col0\" >frouzbeh</td>\n",
       "                        <td id=\"T_eb7440b2_4cc5_11e9_a892_54ee75e0f62drow1_col1\" class=\"data row1 col1\" >NONE</td>\n",
       "                        <td id=\"T_eb7440b2_4cc5_11e9_a892_54ee75e0f62drow1_col2\" class=\"data row1 col2\" >0</td>\n",
       "                        <td id=\"T_eb7440b2_4cc5_11e9_a892_54ee75e0f62drow1_col3\" class=\"data row1 col3\" >False</td>\n",
       "                        <td id=\"T_eb7440b2_4cc5_11e9_a892_54ee75e0f62drow1_col4\" class=\"data row1 col4\" ><a target=\"_blank\" href=\"https://github.com/jupyterhub/zero-to-jupyterhub-k8s/issues/1174\">https://github.com/jupyterhub/zero-to-jupyterhub-k8s/issues/1174</a></td>\n",
       "            </tr>\n",
       "            <tr>\n",
       "                                <td id=\"T_eb7440b2_4cc5_11e9_a892_54ee75e0f62drow2_col0\" class=\"data row2 col0\" >daldridge-cs</td>\n",
       "                        <td id=\"T_eb7440b2_4cc5_11e9_a892_54ee75e0f62drow2_col1\" class=\"data row2 col1\" >NONE</td>\n",
       "                        <td id=\"T_eb7440b2_4cc5_11e9_a892_54ee75e0f62drow2_col2\" class=\"data row2 col2\" >0</td>\n",
       "                        <td id=\"T_eb7440b2_4cc5_11e9_a892_54ee75e0f62drow2_col3\" class=\"data row2 col3\" >False</td>\n",
       "                        <td id=\"T_eb7440b2_4cc5_11e9_a892_54ee75e0f62drow2_col4\" class=\"data row2 col4\" ><a target=\"_blank\" href=\"https://github.com/jupyterhub/zero-to-jupyterhub-k8s/issues/1170\">https://github.com/jupyterhub/zero-to-jupyterhub-k8s/issues/1170</a></td>\n",
       "            </tr>\n",
       "            <tr>\n",
       "                                <td id=\"T_eb7440b2_4cc5_11e9_a892_54ee75e0f62drow3_col0\" class=\"data row3 col0\" >narion</td>\n",
       "                        <td id=\"T_eb7440b2_4cc5_11e9_a892_54ee75e0f62drow3_col1\" class=\"data row3 col1\" >NONE</td>\n",
       "                        <td id=\"T_eb7440b2_4cc5_11e9_a892_54ee75e0f62drow3_col2\" class=\"data row3 col2\" >0</td>\n",
       "                        <td id=\"T_eb7440b2_4cc5_11e9_a892_54ee75e0f62drow3_col3\" class=\"data row3 col3\" >False</td>\n",
       "                        <td id=\"T_eb7440b2_4cc5_11e9_a892_54ee75e0f62drow3_col4\" class=\"data row3 col4\" ><a target=\"_blank\" href=\"https://github.com/jupyterhub/zero-to-jupyterhub-k8s/issues/1166\">https://github.com/jupyterhub/zero-to-jupyterhub-k8s/issues/1166</a></td>\n",
       "            </tr>\n",
       "            <tr>\n",
       "                                <td id=\"T_eb7440b2_4cc5_11e9_a892_54ee75e0f62drow4_col0\" class=\"data row4 col0\" >consideRatio</td>\n",
       "                        <td id=\"T_eb7440b2_4cc5_11e9_a892_54ee75e0f62drow4_col1\" class=\"data row4 col1\" >MEMBER</td>\n",
       "                        <td id=\"T_eb7440b2_4cc5_11e9_a892_54ee75e0f62drow4_col2\" class=\"data row4 col2\" >0</td>\n",
       "                        <td id=\"T_eb7440b2_4cc5_11e9_a892_54ee75e0f62drow4_col3\" class=\"data row4 col3\" >False</td>\n",
       "                        <td id=\"T_eb7440b2_4cc5_11e9_a892_54ee75e0f62drow4_col4\" class=\"data row4 col4\" ><a target=\"_blank\" href=\"https://github.com/jupyterhub/zero-to-jupyterhub-k8s/issues/1191\">https://github.com/jupyterhub/zero-to-jupyterhub-k8s/issues/1191</a></td>\n",
       "            </tr>\n",
       "            <tr>\n",
       "                                <td id=\"T_eb7440b2_4cc5_11e9_a892_54ee75e0f62drow5_col0\" class=\"data row5 col0\" >arturozv</td>\n",
       "                        <td id=\"T_eb7440b2_4cc5_11e9_a892_54ee75e0f62drow5_col1\" class=\"data row5 col1\" >NONE</td>\n",
       "                        <td id=\"T_eb7440b2_4cc5_11e9_a892_54ee75e0f62drow5_col2\" class=\"data row5 col2\" >0</td>\n",
       "                        <td id=\"T_eb7440b2_4cc5_11e9_a892_54ee75e0f62drow5_col3\" class=\"data row5 col3\" >False</td>\n",
       "                        <td id=\"T_eb7440b2_4cc5_11e9_a892_54ee75e0f62drow5_col4\" class=\"data row5 col4\" ><a target=\"_blank\" href=\"https://github.com/jupyterhub/zero-to-jupyterhub-k8s/issues/1190\">https://github.com/jupyterhub/zero-to-jupyterhub-k8s/issues/1190</a></td>\n",
       "            </tr>\n",
       "            <tr>\n",
       "                                <td id=\"T_eb7440b2_4cc5_11e9_a892_54ee75e0f62drow6_col0\" class=\"data row6 col0\" >wierzba3</td>\n",
       "                        <td id=\"T_eb7440b2_4cc5_11e9_a892_54ee75e0f62drow6_col1\" class=\"data row6 col1\" >NONE</td>\n",
       "                        <td id=\"T_eb7440b2_4cc5_11e9_a892_54ee75e0f62drow6_col2\" class=\"data row6 col2\" >1</td>\n",
       "                        <td id=\"T_eb7440b2_4cc5_11e9_a892_54ee75e0f62drow6_col3\" class=\"data row6 col3\" >False</td>\n",
       "                        <td id=\"T_eb7440b2_4cc5_11e9_a892_54ee75e0f62drow6_col4\" class=\"data row6 col4\" ><a target=\"_blank\" href=\"https://github.com/jupyterhub/zero-to-jupyterhub-k8s/issues/1194\">https://github.com/jupyterhub/zero-to-jupyterhub-k8s/issues/1194</a></td>\n",
       "            </tr>\n",
       "            <tr>\n",
       "                                <td id=\"T_eb7440b2_4cc5_11e9_a892_54ee75e0f62drow7_col0\" class=\"data row7 col0\" >consideRatio</td>\n",
       "                        <td id=\"T_eb7440b2_4cc5_11e9_a892_54ee75e0f62drow7_col1\" class=\"data row7 col1\" >MEMBER</td>\n",
       "                        <td id=\"T_eb7440b2_4cc5_11e9_a892_54ee75e0f62drow7_col2\" class=\"data row7 col2\" >1</td>\n",
       "                        <td id=\"T_eb7440b2_4cc5_11e9_a892_54ee75e0f62drow7_col3\" class=\"data row7 col3\" >False</td>\n",
       "                        <td id=\"T_eb7440b2_4cc5_11e9_a892_54ee75e0f62drow7_col4\" class=\"data row7 col4\" ><a target=\"_blank\" href=\"https://github.com/jupyterhub/zero-to-jupyterhub-k8s/issues/1167\">https://github.com/jupyterhub/zero-to-jupyterhub-k8s/issues/1167</a></td>\n",
       "            </tr>\n",
       "            <tr>\n",
       "                                <td id=\"T_eb7440b2_4cc5_11e9_a892_54ee75e0f62drow8_col0\" class=\"data row8 col0\" >ablekh</td>\n",
       "                        <td id=\"T_eb7440b2_4cc5_11e9_a892_54ee75e0f62drow8_col1\" class=\"data row8 col1\" >NONE</td>\n",
       "                        <td id=\"T_eb7440b2_4cc5_11e9_a892_54ee75e0f62drow8_col2\" class=\"data row8 col2\" >2</td>\n",
       "                        <td id=\"T_eb7440b2_4cc5_11e9_a892_54ee75e0f62drow8_col3\" class=\"data row8 col3\" >False</td>\n",
       "                        <td id=\"T_eb7440b2_4cc5_11e9_a892_54ee75e0f62drow8_col4\" class=\"data row8 col4\" ><a target=\"_blank\" href=\"https://github.com/jupyterhub/zero-to-jupyterhub-k8s/issues/1186\">https://github.com/jupyterhub/zero-to-jupyterhub-k8s/issues/1186</a></td>\n",
       "            </tr>\n",
       "            <tr>\n",
       "                                <td id=\"T_eb7440b2_4cc5_11e9_a892_54ee75e0f62drow9_col0\" class=\"data row9 col0\" >minrk</td>\n",
       "                        <td id=\"T_eb7440b2_4cc5_11e9_a892_54ee75e0f62drow9_col1\" class=\"data row9 col1\" >MEMBER</td>\n",
       "                        <td id=\"T_eb7440b2_4cc5_11e9_a892_54ee75e0f62drow9_col2\" class=\"data row9 col2\" >2</td>\n",
       "                        <td id=\"T_eb7440b2_4cc5_11e9_a892_54ee75e0f62drow9_col3\" class=\"data row9 col3\" >False</td>\n",
       "                        <td id=\"T_eb7440b2_4cc5_11e9_a892_54ee75e0f62drow9_col4\" class=\"data row9 col4\" ><a target=\"_blank\" href=\"https://github.com/jupyterhub/zero-to-jupyterhub-k8s/issues/1182\">https://github.com/jupyterhub/zero-to-jupyterhub-k8s/issues/1182</a></td>\n",
       "            </tr>\n",
       "            <tr>\n",
       "                                <td id=\"T_eb7440b2_4cc5_11e9_a892_54ee75e0f62drow10_col0\" class=\"data row10 col0\" >consideRatio</td>\n",
       "                        <td id=\"T_eb7440b2_4cc5_11e9_a892_54ee75e0f62drow10_col1\" class=\"data row10 col1\" >MEMBER</td>\n",
       "                        <td id=\"T_eb7440b2_4cc5_11e9_a892_54ee75e0f62drow10_col2\" class=\"data row10 col2\" >3</td>\n",
       "                        <td id=\"T_eb7440b2_4cc5_11e9_a892_54ee75e0f62drow10_col3\" class=\"data row10 col3\" >False</td>\n",
       "                        <td id=\"T_eb7440b2_4cc5_11e9_a892_54ee75e0f62drow10_col4\" class=\"data row10 col4\" ><a target=\"_blank\" href=\"https://github.com/jupyterhub/zero-to-jupyterhub-k8s/issues/1184\">https://github.com/jupyterhub/zero-to-jupyterhub-k8s/issues/1184</a></td>\n",
       "            </tr>\n",
       "            <tr>\n",
       "                                <td id=\"T_eb7440b2_4cc5_11e9_a892_54ee75e0f62drow11_col0\" class=\"data row11 col0\" >szelenka</td>\n",
       "                        <td id=\"T_eb7440b2_4cc5_11e9_a892_54ee75e0f62drow11_col1\" class=\"data row11 col1\" >NONE</td>\n",
       "                        <td id=\"T_eb7440b2_4cc5_11e9_a892_54ee75e0f62drow11_col2\" class=\"data row11 col2\" >3</td>\n",
       "                        <td id=\"T_eb7440b2_4cc5_11e9_a892_54ee75e0f62drow11_col3\" class=\"data row11 col3\" >False</td>\n",
       "                        <td id=\"T_eb7440b2_4cc5_11e9_a892_54ee75e0f62drow11_col4\" class=\"data row11 col4\" ><a target=\"_blank\" href=\"https://github.com/jupyterhub/zero-to-jupyterhub-k8s/issues/1178\">https://github.com/jupyterhub/zero-to-jupyterhub-k8s/issues/1178</a></td>\n",
       "            </tr>\n",
       "            <tr>\n",
       "                                <td id=\"T_eb7440b2_4cc5_11e9_a892_54ee75e0f62drow12_col0\" class=\"data row12 col0\" >choldgraf</td>\n",
       "                        <td id=\"T_eb7440b2_4cc5_11e9_a892_54ee75e0f62drow12_col1\" class=\"data row12 col1\" >MEMBER</td>\n",
       "                        <td id=\"T_eb7440b2_4cc5_11e9_a892_54ee75e0f62drow12_col2\" class=\"data row12 col2\" >3</td>\n",
       "                        <td id=\"T_eb7440b2_4cc5_11e9_a892_54ee75e0f62drow12_col3\" class=\"data row12 col3\" >False</td>\n",
       "                        <td id=\"T_eb7440b2_4cc5_11e9_a892_54ee75e0f62drow12_col4\" class=\"data row12 col4\" ><a target=\"_blank\" href=\"https://github.com/jupyterhub/zero-to-jupyterhub-k8s/issues/1161\">https://github.com/jupyterhub/zero-to-jupyterhub-k8s/issues/1161</a></td>\n",
       "            </tr>\n",
       "            <tr>\n",
       "                                <td id=\"T_eb7440b2_4cc5_11e9_a892_54ee75e0f62drow13_col0\" class=\"data row13 col0\" >sgibson91</td>\n",
       "                        <td id=\"T_eb7440b2_4cc5_11e9_a892_54ee75e0f62drow13_col1\" class=\"data row13 col1\" >CONTRIBUTOR</td>\n",
       "                        <td id=\"T_eb7440b2_4cc5_11e9_a892_54ee75e0f62drow13_col2\" class=\"data row13 col2\" >5</td>\n",
       "                        <td id=\"T_eb7440b2_4cc5_11e9_a892_54ee75e0f62drow13_col3\" class=\"data row13 col3\" >False</td>\n",
       "                        <td id=\"T_eb7440b2_4cc5_11e9_a892_54ee75e0f62drow13_col4\" class=\"data row13 col4\" ><a target=\"_blank\" href=\"https://github.com/jupyterhub/zero-to-jupyterhub-k8s/issues/1165\">https://github.com/jupyterhub/zero-to-jupyterhub-k8s/issues/1165</a></td>\n",
       "            </tr>\n",
       "            <tr>\n",
       "                                <td id=\"T_eb7440b2_4cc5_11e9_a892_54ee75e0f62drow14_col0\" class=\"data row14 col0\" >mfhm</td>\n",
       "                        <td id=\"T_eb7440b2_4cc5_11e9_a892_54ee75e0f62drow14_col1\" class=\"data row14 col1\" >NONE</td>\n",
       "                        <td id=\"T_eb7440b2_4cc5_11e9_a892_54ee75e0f62drow14_col2\" class=\"data row14 col2\" >9</td>\n",
       "                        <td id=\"T_eb7440b2_4cc5_11e9_a892_54ee75e0f62drow14_col3\" class=\"data row14 col3\" >False</td>\n",
       "                        <td id=\"T_eb7440b2_4cc5_11e9_a892_54ee75e0f62drow14_col4\" class=\"data row14 col4\" ><a target=\"_blank\" href=\"https://github.com/jupyterhub/zero-to-jupyterhub-k8s/issues/1189\">https://github.com/jupyterhub/zero-to-jupyterhub-k8s/issues/1189</a></td>\n",
       "            </tr>\n",
       "            <tr>\n",
       "                                <td id=\"T_eb7440b2_4cc5_11e9_a892_54ee75e0f62drow15_col0\" class=\"data row15 col0\" >consideRatio</td>\n",
       "                        <td id=\"T_eb7440b2_4cc5_11e9_a892_54ee75e0f62drow15_col1\" class=\"data row15 col1\" >MEMBER</td>\n",
       "                        <td id=\"T_eb7440b2_4cc5_11e9_a892_54ee75e0f62drow15_col2\" class=\"data row15 col2\" >20</td>\n",
       "                        <td id=\"T_eb7440b2_4cc5_11e9_a892_54ee75e0f62drow15_col3\" class=\"data row15 col3\" >False</td>\n",
       "                        <td id=\"T_eb7440b2_4cc5_11e9_a892_54ee75e0f62drow15_col4\" class=\"data row15 col4\" ><a target=\"_blank\" href=\"https://github.com/jupyterhub/zero-to-jupyterhub-k8s/issues/1176\">https://github.com/jupyterhub/zero-to-jupyterhub-k8s/issues/1176</a></td>\n",
       "            </tr>\n",
       "            <tr>\n",
       "                                <td id=\"T_eb7440b2_4cc5_11e9_a892_54ee75e0f62drow16_col0\" class=\"data row16 col0\" >frouzbeh</td>\n",
       "                        <td id=\"T_eb7440b2_4cc5_11e9_a892_54ee75e0f62drow16_col1\" class=\"data row16 col1\" >NONE</td>\n",
       "                        <td id=\"T_eb7440b2_4cc5_11e9_a892_54ee75e0f62drow16_col2\" class=\"data row16 col2\" >1</td>\n",
       "                        <td id=\"T_eb7440b2_4cc5_11e9_a892_54ee75e0f62drow16_col3\" class=\"data row16 col3\" >True</td>\n",
       "                        <td id=\"T_eb7440b2_4cc5_11e9_a892_54ee75e0f62drow16_col4\" class=\"data row16 col4\" ><a target=\"_blank\" href=\"https://github.com/jupyterhub/zero-to-jupyterhub-k8s/issues/1164\">https://github.com/jupyterhub/zero-to-jupyterhub-k8s/issues/1164</a></td>\n",
       "            </tr>\n",
       "            <tr>\n",
       "                                <td id=\"T_eb7440b2_4cc5_11e9_a892_54ee75e0f62drow17_col0\" class=\"data row17 col0\" >abdidarmawan007</td>\n",
       "                        <td id=\"T_eb7440b2_4cc5_11e9_a892_54ee75e0f62drow17_col1\" class=\"data row17 col1\" >NONE</td>\n",
       "                        <td id=\"T_eb7440b2_4cc5_11e9_a892_54ee75e0f62drow17_col2\" class=\"data row17 col2\" >3</td>\n",
       "                        <td id=\"T_eb7440b2_4cc5_11e9_a892_54ee75e0f62drow17_col3\" class=\"data row17 col3\" >True</td>\n",
       "                        <td id=\"T_eb7440b2_4cc5_11e9_a892_54ee75e0f62drow17_col4\" class=\"data row17 col4\" ><a target=\"_blank\" href=\"https://github.com/jupyterhub/zero-to-jupyterhub-k8s/issues/1195\">https://github.com/jupyterhub/zero-to-jupyterhub-k8s/issues/1195</a></td>\n",
       "            </tr>\n",
       "            <tr>\n",
       "                                <td id=\"T_eb7440b2_4cc5_11e9_a892_54ee75e0f62drow18_col0\" class=\"data row18 col0\" >sgibson91</td>\n",
       "                        <td id=\"T_eb7440b2_4cc5_11e9_a892_54ee75e0f62drow18_col1\" class=\"data row18 col1\" >CONTRIBUTOR</td>\n",
       "                        <td id=\"T_eb7440b2_4cc5_11e9_a892_54ee75e0f62drow18_col2\" class=\"data row18 col2\" >3</td>\n",
       "                        <td id=\"T_eb7440b2_4cc5_11e9_a892_54ee75e0f62drow18_col3\" class=\"data row18 col3\" >True</td>\n",
       "                        <td id=\"T_eb7440b2_4cc5_11e9_a892_54ee75e0f62drow18_col4\" class=\"data row18 col4\" ><a target=\"_blank\" href=\"https://github.com/jupyterhub/zero-to-jupyterhub-k8s/issues/1179\">https://github.com/jupyterhub/zero-to-jupyterhub-k8s/issues/1179</a></td>\n",
       "            </tr>\n",
       "            <tr>\n",
       "                                <td id=\"T_eb7440b2_4cc5_11e9_a892_54ee75e0f62drow19_col0\" class=\"data row19 col0\" >rabernat</td>\n",
       "                        <td id=\"T_eb7440b2_4cc5_11e9_a892_54ee75e0f62drow19_col1\" class=\"data row19 col1\" >NONE</td>\n",
       "                        <td id=\"T_eb7440b2_4cc5_11e9_a892_54ee75e0f62drow19_col2\" class=\"data row19 col2\" >3</td>\n",
       "                        <td id=\"T_eb7440b2_4cc5_11e9_a892_54ee75e0f62drow19_col3\" class=\"data row19 col3\" >True</td>\n",
       "                        <td id=\"T_eb7440b2_4cc5_11e9_a892_54ee75e0f62drow19_col4\" class=\"data row19 col4\" ><a target=\"_blank\" href=\"https://github.com/jupyterhub/zero-to-jupyterhub-k8s/issues/1173\">https://github.com/jupyterhub/zero-to-jupyterhub-k8s/issues/1173</a></td>\n",
       "            </tr>\n",
       "            <tr>\n",
       "                                <td id=\"T_eb7440b2_4cc5_11e9_a892_54ee75e0f62drow20_col0\" class=\"data row20 col0\" >wierzba3</td>\n",
       "                        <td id=\"T_eb7440b2_4cc5_11e9_a892_54ee75e0f62drow20_col1\" class=\"data row20 col1\" >NONE</td>\n",
       "                        <td id=\"T_eb7440b2_4cc5_11e9_a892_54ee75e0f62drow20_col2\" class=\"data row20 col2\" >5</td>\n",
       "                        <td id=\"T_eb7440b2_4cc5_11e9_a892_54ee75e0f62drow20_col3\" class=\"data row20 col3\" >True</td>\n",
       "                        <td id=\"T_eb7440b2_4cc5_11e9_a892_54ee75e0f62drow20_col4\" class=\"data row20 col4\" ><a target=\"_blank\" href=\"https://github.com/jupyterhub/zero-to-jupyterhub-k8s/issues/1193\">https://github.com/jupyterhub/zero-to-jupyterhub-k8s/issues/1193</a></td>\n",
       "            </tr>\n",
       "            <tr>\n",
       "                                <td id=\"T_eb7440b2_4cc5_11e9_a892_54ee75e0f62drow21_col0\" class=\"data row21 col0\" >ablekh</td>\n",
       "                        <td id=\"T_eb7440b2_4cc5_11e9_a892_54ee75e0f62drow21_col1\" class=\"data row21 col1\" >NONE</td>\n",
       "                        <td id=\"T_eb7440b2_4cc5_11e9_a892_54ee75e0f62drow21_col2\" class=\"data row21 col2\" >13</td>\n",
       "                        <td id=\"T_eb7440b2_4cc5_11e9_a892_54ee75e0f62drow21_col3\" class=\"data row21 col3\" >True</td>\n",
       "                        <td id=\"T_eb7440b2_4cc5_11e9_a892_54ee75e0f62drow21_col4\" class=\"data row21 col4\" ><a target=\"_blank\" href=\"https://github.com/jupyterhub/zero-to-jupyterhub-k8s/issues/1188\">https://github.com/jupyterhub/zero-to-jupyterhub-k8s/issues/1188</a></td>\n",
       "            </tr>\n",
       "    </tbody></table>"
      ],
      "text/plain": [
       "<pandas.io.formats.style.Styler at 0x7f2c8e7debe0>"
      ]
     },
     "execution_count": 27,
     "metadata": {},
     "output_type": "execute_result"
    }
   ],
   "source": [
    "opened_issues[['user', 'author_association', 'comments', 'closed', 'html_url']]\\\n",
    "    .sort_values(['closed', 'comments']).style.applymap(highlight_rows).format({'html_url': make_clickable}).hide_index()"
   ]
  },
  {
   "cell_type": "markdown",
   "metadata": {},
   "source": [
    "## Closed issues\n"
   ]
  },
  {
   "cell_type": "code",
   "execution_count": 28,
   "metadata": {},
   "outputs": [],
   "source": [
    "closed = issues.query('closed_at > @date')\n",
    "closed_issues = closed[closed['pull_request'].isna()]"
   ]
  },
  {
   "cell_type": "code",
   "execution_count": 29,
   "metadata": {},
   "outputs": [
    {
     "data": {
      "text/html": [
       "<style  type=\"text/css\" >\n",
       "    #T_ebf92778_4cc5_11e9_a892_54ee75e0f62drow0_col1 {\n",
       "            background-color:  #f7b7b7;\n",
       "        }    #T_ebf92778_4cc5_11e9_a892_54ee75e0f62drow3_col1 {\n",
       "            background-color:  #f7b7b7;\n",
       "        }    #T_ebf92778_4cc5_11e9_a892_54ee75e0f62drow5_col1 {\n",
       "            background-color:  #f7b7b7;\n",
       "        }    #T_ebf92778_4cc5_11e9_a892_54ee75e0f62drow8_col1 {\n",
       "            background-color:  #f7b7b7;\n",
       "        }    #T_ebf92778_4cc5_11e9_a892_54ee75e0f62drow9_col1 {\n",
       "            background-color:  #f7b7b7;\n",
       "        }    #T_ebf92778_4cc5_11e9_a892_54ee75e0f62drow11_col1 {\n",
       "            background-color:  #f7b7b7;\n",
       "        }    #T_ebf92778_4cc5_11e9_a892_54ee75e0f62drow12_col1 {\n",
       "            background-color:  #f7b7b7;\n",
       "        }</style><table id=\"T_ebf92778_4cc5_11e9_a892_54ee75e0f62d\" ><thead>    <tr>        <th class=\"col_heading level0 col0\" >user</th>        <th class=\"col_heading level0 col1\" >author_association</th>        <th class=\"col_heading level0 col2\" >comments</th>        <th class=\"col_heading level0 col3\" >html_url</th>    </tr></thead><tbody>\n",
       "                <tr>\n",
       "                                <td id=\"T_ebf92778_4cc5_11e9_a892_54ee75e0f62drow0_col0\" class=\"data row0 col0\" >frouzbeh</td>\n",
       "                        <td id=\"T_ebf92778_4cc5_11e9_a892_54ee75e0f62drow0_col1\" class=\"data row0 col1\" >NONE</td>\n",
       "                        <td id=\"T_ebf92778_4cc5_11e9_a892_54ee75e0f62drow0_col2\" class=\"data row0 col2\" >1</td>\n",
       "                        <td id=\"T_ebf92778_4cc5_11e9_a892_54ee75e0f62drow0_col3\" class=\"data row0 col3\" ><a target=\"_blank\" href=\"https://github.com/jupyterhub/zero-to-jupyterhub-k8s/issues/1164\">https://github.com/jupyterhub/zero-to-jupyterhub-k8s/issues/1164</a></td>\n",
       "            </tr>\n",
       "            <tr>\n",
       "                                <td id=\"T_ebf92778_4cc5_11e9_a892_54ee75e0f62drow1_col0\" class=\"data row1 col0\" >consideRatio</td>\n",
       "                        <td id=\"T_ebf92778_4cc5_11e9_a892_54ee75e0f62drow1_col1\" class=\"data row1 col1\" >MEMBER</td>\n",
       "                        <td id=\"T_ebf92778_4cc5_11e9_a892_54ee75e0f62drow1_col2\" class=\"data row1 col2\" >1</td>\n",
       "                        <td id=\"T_ebf92778_4cc5_11e9_a892_54ee75e0f62drow1_col3\" class=\"data row1 col3\" ><a target=\"_blank\" href=\"https://github.com/jupyterhub/zero-to-jupyterhub-k8s/issues/1018\">https://github.com/jupyterhub/zero-to-jupyterhub-k8s/issues/1018</a></td>\n",
       "            </tr>\n",
       "            <tr>\n",
       "                                <td id=\"T_ebf92778_4cc5_11e9_a892_54ee75e0f62drow2_col0\" class=\"data row2 col0\" >vilhelmen</td>\n",
       "                        <td id=\"T_ebf92778_4cc5_11e9_a892_54ee75e0f62drow2_col1\" class=\"data row2 col1\" >CONTRIBUTOR</td>\n",
       "                        <td id=\"T_ebf92778_4cc5_11e9_a892_54ee75e0f62drow2_col2\" class=\"data row2 col2\" >2</td>\n",
       "                        <td id=\"T_ebf92778_4cc5_11e9_a892_54ee75e0f62drow2_col3\" class=\"data row2 col3\" ><a target=\"_blank\" href=\"https://github.com/jupyterhub/zero-to-jupyterhub-k8s/issues/1124\">https://github.com/jupyterhub/zero-to-jupyterhub-k8s/issues/1124</a></td>\n",
       "            </tr>\n",
       "            <tr>\n",
       "                                <td id=\"T_ebf92778_4cc5_11e9_a892_54ee75e0f62drow3_col0\" class=\"data row3 col0\" >abdidarmawan007</td>\n",
       "                        <td id=\"T_ebf92778_4cc5_11e9_a892_54ee75e0f62drow3_col1\" class=\"data row3 col1\" >NONE</td>\n",
       "                        <td id=\"T_ebf92778_4cc5_11e9_a892_54ee75e0f62drow3_col2\" class=\"data row3 col2\" >3</td>\n",
       "                        <td id=\"T_ebf92778_4cc5_11e9_a892_54ee75e0f62drow3_col3\" class=\"data row3 col3\" ><a target=\"_blank\" href=\"https://github.com/jupyterhub/zero-to-jupyterhub-k8s/issues/1195\">https://github.com/jupyterhub/zero-to-jupyterhub-k8s/issues/1195</a></td>\n",
       "            </tr>\n",
       "            <tr>\n",
       "                                <td id=\"T_ebf92778_4cc5_11e9_a892_54ee75e0f62drow4_col0\" class=\"data row4 col0\" >sgibson91</td>\n",
       "                        <td id=\"T_ebf92778_4cc5_11e9_a892_54ee75e0f62drow4_col1\" class=\"data row4 col1\" >CONTRIBUTOR</td>\n",
       "                        <td id=\"T_ebf92778_4cc5_11e9_a892_54ee75e0f62drow4_col2\" class=\"data row4 col2\" >3</td>\n",
       "                        <td id=\"T_ebf92778_4cc5_11e9_a892_54ee75e0f62drow4_col3\" class=\"data row4 col3\" ><a target=\"_blank\" href=\"https://github.com/jupyterhub/zero-to-jupyterhub-k8s/issues/1179\">https://github.com/jupyterhub/zero-to-jupyterhub-k8s/issues/1179</a></td>\n",
       "            </tr>\n",
       "            <tr>\n",
       "                                <td id=\"T_ebf92778_4cc5_11e9_a892_54ee75e0f62drow5_col0\" class=\"data row5 col0\" >rabernat</td>\n",
       "                        <td id=\"T_ebf92778_4cc5_11e9_a892_54ee75e0f62drow5_col1\" class=\"data row5 col1\" >NONE</td>\n",
       "                        <td id=\"T_ebf92778_4cc5_11e9_a892_54ee75e0f62drow5_col2\" class=\"data row5 col2\" >3</td>\n",
       "                        <td id=\"T_ebf92778_4cc5_11e9_a892_54ee75e0f62drow5_col3\" class=\"data row5 col3\" ><a target=\"_blank\" href=\"https://github.com/jupyterhub/zero-to-jupyterhub-k8s/issues/1173\">https://github.com/jupyterhub/zero-to-jupyterhub-k8s/issues/1173</a></td>\n",
       "            </tr>\n",
       "            <tr>\n",
       "                                <td id=\"T_ebf92778_4cc5_11e9_a892_54ee75e0f62drow6_col0\" class=\"data row6 col0\" >consideRatio</td>\n",
       "                        <td id=\"T_ebf92778_4cc5_11e9_a892_54ee75e0f62drow6_col1\" class=\"data row6 col1\" >MEMBER</td>\n",
       "                        <td id=\"T_ebf92778_4cc5_11e9_a892_54ee75e0f62drow6_col2\" class=\"data row6 col2\" >3</td>\n",
       "                        <td id=\"T_ebf92778_4cc5_11e9_a892_54ee75e0f62drow6_col3\" class=\"data row6 col3\" ><a target=\"_blank\" href=\"https://github.com/jupyterhub/zero-to-jupyterhub-k8s/issues/901\">https://github.com/jupyterhub/zero-to-jupyterhub-k8s/issues/901</a></td>\n",
       "            </tr>\n",
       "            <tr>\n",
       "                                <td id=\"T_ebf92778_4cc5_11e9_a892_54ee75e0f62drow7_col0\" class=\"data row7 col0\" >manycoding</td>\n",
       "                        <td id=\"T_ebf92778_4cc5_11e9_a892_54ee75e0f62drow7_col1\" class=\"data row7 col1\" >CONTRIBUTOR</td>\n",
       "                        <td id=\"T_ebf92778_4cc5_11e9_a892_54ee75e0f62drow7_col2\" class=\"data row7 col2\" >4</td>\n",
       "                        <td id=\"T_ebf92778_4cc5_11e9_a892_54ee75e0f62drow7_col3\" class=\"data row7 col3\" ><a target=\"_blank\" href=\"https://github.com/jupyterhub/zero-to-jupyterhub-k8s/issues/1150\">https://github.com/jupyterhub/zero-to-jupyterhub-k8s/issues/1150</a></td>\n",
       "            </tr>\n",
       "            <tr>\n",
       "                                <td id=\"T_ebf92778_4cc5_11e9_a892_54ee75e0f62drow8_col0\" class=\"data row8 col0\" >wierzba3</td>\n",
       "                        <td id=\"T_ebf92778_4cc5_11e9_a892_54ee75e0f62drow8_col1\" class=\"data row8 col1\" >NONE</td>\n",
       "                        <td id=\"T_ebf92778_4cc5_11e9_a892_54ee75e0f62drow8_col2\" class=\"data row8 col2\" >5</td>\n",
       "                        <td id=\"T_ebf92778_4cc5_11e9_a892_54ee75e0f62drow8_col3\" class=\"data row8 col3\" ><a target=\"_blank\" href=\"https://github.com/jupyterhub/zero-to-jupyterhub-k8s/issues/1193\">https://github.com/jupyterhub/zero-to-jupyterhub-k8s/issues/1193</a></td>\n",
       "            </tr>\n",
       "            <tr>\n",
       "                                <td id=\"T_ebf92778_4cc5_11e9_a892_54ee75e0f62drow9_col0\" class=\"data row9 col0\" >jmatuskey</td>\n",
       "                        <td id=\"T_ebf92778_4cc5_11e9_a892_54ee75e0f62drow9_col1\" class=\"data row9 col1\" >NONE</td>\n",
       "                        <td id=\"T_ebf92778_4cc5_11e9_a892_54ee75e0f62drow9_col2\" class=\"data row9 col2\" >5</td>\n",
       "                        <td id=\"T_ebf92778_4cc5_11e9_a892_54ee75e0f62drow9_col3\" class=\"data row9 col3\" ><a target=\"_blank\" href=\"https://github.com/jupyterhub/zero-to-jupyterhub-k8s/issues/1141\">https://github.com/jupyterhub/zero-to-jupyterhub-k8s/issues/1141</a></td>\n",
       "            </tr>\n",
       "            <tr>\n",
       "                                <td id=\"T_ebf92778_4cc5_11e9_a892_54ee75e0f62drow10_col0\" class=\"data row10 col0\" >joshbode</td>\n",
       "                        <td id=\"T_ebf92778_4cc5_11e9_a892_54ee75e0f62drow10_col1\" class=\"data row10 col1\" >CONTRIBUTOR</td>\n",
       "                        <td id=\"T_ebf92778_4cc5_11e9_a892_54ee75e0f62drow10_col2\" class=\"data row10 col2\" >9</td>\n",
       "                        <td id=\"T_ebf92778_4cc5_11e9_a892_54ee75e0f62drow10_col3\" class=\"data row10 col3\" ><a target=\"_blank\" href=\"https://github.com/jupyterhub/zero-to-jupyterhub-k8s/issues/1102\">https://github.com/jupyterhub/zero-to-jupyterhub-k8s/issues/1102</a></td>\n",
       "            </tr>\n",
       "            <tr>\n",
       "                                <td id=\"T_ebf92778_4cc5_11e9_a892_54ee75e0f62drow11_col0\" class=\"data row11 col0\" >frouzbeh</td>\n",
       "                        <td id=\"T_ebf92778_4cc5_11e9_a892_54ee75e0f62drow11_col1\" class=\"data row11 col1\" >NONE</td>\n",
       "                        <td id=\"T_ebf92778_4cc5_11e9_a892_54ee75e0f62drow11_col2\" class=\"data row11 col2\" >11</td>\n",
       "                        <td id=\"T_ebf92778_4cc5_11e9_a892_54ee75e0f62drow11_col3\" class=\"data row11 col3\" ><a target=\"_blank\" href=\"https://github.com/jupyterhub/zero-to-jupyterhub-k8s/issues/1157\">https://github.com/jupyterhub/zero-to-jupyterhub-k8s/issues/1157</a></td>\n",
       "            </tr>\n",
       "            <tr>\n",
       "                                <td id=\"T_ebf92778_4cc5_11e9_a892_54ee75e0f62drow12_col0\" class=\"data row12 col0\" >ablekh</td>\n",
       "                        <td id=\"T_ebf92778_4cc5_11e9_a892_54ee75e0f62drow12_col1\" class=\"data row12 col1\" >NONE</td>\n",
       "                        <td id=\"T_ebf92778_4cc5_11e9_a892_54ee75e0f62drow12_col2\" class=\"data row12 col2\" >13</td>\n",
       "                        <td id=\"T_ebf92778_4cc5_11e9_a892_54ee75e0f62drow12_col3\" class=\"data row12 col3\" ><a target=\"_blank\" href=\"https://github.com/jupyterhub/zero-to-jupyterhub-k8s/issues/1188\">https://github.com/jupyterhub/zero-to-jupyterhub-k8s/issues/1188</a></td>\n",
       "            </tr>\n",
       "            <tr>\n",
       "                                <td id=\"T_ebf92778_4cc5_11e9_a892_54ee75e0f62drow13_col0\" class=\"data row13 col0\" >minrk</td>\n",
       "                        <td id=\"T_ebf92778_4cc5_11e9_a892_54ee75e0f62drow13_col1\" class=\"data row13 col1\" >MEMBER</td>\n",
       "                        <td id=\"T_ebf92778_4cc5_11e9_a892_54ee75e0f62drow13_col2\" class=\"data row13 col2\" >18</td>\n",
       "                        <td id=\"T_ebf92778_4cc5_11e9_a892_54ee75e0f62drow13_col3\" class=\"data row13 col3\" ><a target=\"_blank\" href=\"https://github.com/jupyterhub/zero-to-jupyterhub-k8s/issues/1054\">https://github.com/jupyterhub/zero-to-jupyterhub-k8s/issues/1054</a></td>\n",
       "            </tr>\n",
       "    </tbody></table>"
      ],
      "text/plain": [
       "<pandas.io.formats.style.Styler at 0x7f2c8e7cea58>"
      ]
     },
     "execution_count": 29,
     "metadata": {},
     "output_type": "execute_result"
    }
   ],
   "source": [
    "closed_issues[['user', 'author_association', 'comments', 'html_url']]\\\n",
    "    .sort_values(['comments']).style.applymap(highlight_rows).format({'html_url': make_clickable}).hide_index()"
   ]
  },
  {
   "cell_type": "code",
   "execution_count": 30,
   "metadata": {},
   "outputs": [
    {
     "data": {
      "text/html": [
       "<h2 style=\"padding-left: 1em;\">Closed issues: 14</h2>"
      ],
      "text/plain": [
       "<IPython.core.display.HTML object>"
      ]
     },
     "metadata": {},
     "output_type": "display_data"
    }
   ],
   "source": [
    "print_html('Closed issues: {}'.format(len(closed_issues)))"
   ]
  },
  {
   "cell_type": "markdown",
   "metadata": {},
   "source": [
    "## Opened PRs\n",
    "\n",
    "without responses in red"
   ]
  },
  {
   "cell_type": "code",
   "execution_count": 31,
   "metadata": {},
   "outputs": [
    {
     "name": "stderr",
     "output_type": "stream",
     "text": [
      "/home/choldgraf/anaconda/envs/dev/lib/python3.6/site-packages/ipykernel_launcher.py:2: SettingWithCopyWarning: \n",
      "A value is trying to be set on a copy of a slice from a DataFrame.\n",
      "Try using .loc[row_indexer,col_indexer] = value instead\n",
      "\n",
      "See the caveats in the documentation: http://pandas.pydata.org/pandas-docs/stable/indexing.html#indexing-view-versus-copy\n",
      "  \n"
     ]
    }
   ],
   "source": [
    "opened_prs = opened[~opened['pull_request'].isna()]\n",
    "opened_prs['closed'] = ~pd.isnull(opened_prs['closed_at'])\n",
    "\n",
    "closed_prs = closed[~closed['pull_request'].isna()]"
   ]
  },
  {
   "cell_type": "code",
   "execution_count": 32,
   "metadata": {},
   "outputs": [
    {
     "data": {
      "text/html": [
       "<h2 style=\"padding-left: 1em;\">Opened PRs: 17</h2>"
      ],
      "text/plain": [
       "<IPython.core.display.HTML object>"
      ]
     },
     "metadata": {},
     "output_type": "display_data"
    }
   ],
   "source": [
    "print_html('Opened PRs: {}'.format(len(opened_prs)))"
   ]
  },
  {
   "cell_type": "code",
   "execution_count": 33,
   "metadata": {},
   "outputs": [
    {
     "data": {
      "text/html": [
       "<style  type=\"text/css\" >\n",
       "    #T_ecc2a832_4cc5_11e9_a892_54ee75e0f62drow0_col1 {\n",
       "            background-color:  red;\n",
       "        }    #T_ecc2a832_4cc5_11e9_a892_54ee75e0f62drow0_col2 {\n",
       "            background-color:  #f7b7b7;\n",
       "        }    #T_ecc2a832_4cc5_11e9_a892_54ee75e0f62drow0_col3 {\n",
       "            background-color:  #f7b7b7;\n",
       "        }    #T_ecc2a832_4cc5_11e9_a892_54ee75e0f62drow1_col3 {\n",
       "            background-color:  #f7b7b7;\n",
       "        }    #T_ecc2a832_4cc5_11e9_a892_54ee75e0f62drow2_col1 {\n",
       "            background-color:  red;\n",
       "        }    #T_ecc2a832_4cc5_11e9_a892_54ee75e0f62drow2_col3 {\n",
       "            background-color:  #f7b7b7;\n",
       "        }    #T_ecc2a832_4cc5_11e9_a892_54ee75e0f62drow3_col3 {\n",
       "            background-color:  #f7b7b7;\n",
       "        }    #T_ecc2a832_4cc5_11e9_a892_54ee75e0f62drow4_col2 {\n",
       "            background-color:  #f7b7b7;\n",
       "        }    #T_ecc2a832_4cc5_11e9_a892_54ee75e0f62drow5_col2 {\n",
       "            background-color:  #f7b7b7;\n",
       "        }</style><table id=\"T_ecc2a832_4cc5_11e9_a892_54ee75e0f62d\" ><thead>    <tr>        <th class=\"col_heading level0 col0\" >user</th>        <th class=\"col_heading level0 col1\" >author_association</th>        <th class=\"col_heading level0 col2\" >comments</th>        <th class=\"col_heading level0 col3\" >closed</th>        <th class=\"col_heading level0 col4\" >html_url</th>    </tr></thead><tbody>\n",
       "                <tr>\n",
       "                                <td id=\"T_ecc2a832_4cc5_11e9_a892_54ee75e0f62drow0_col0\" class=\"data row0 col0\" >emirot</td>\n",
       "                        <td id=\"T_ecc2a832_4cc5_11e9_a892_54ee75e0f62drow0_col1\" class=\"data row0 col1\" >FIRST_TIME_CONTRIBUTOR</td>\n",
       "                        <td id=\"T_ecc2a832_4cc5_11e9_a892_54ee75e0f62drow0_col2\" class=\"data row0 col2\" >0</td>\n",
       "                        <td id=\"T_ecc2a832_4cc5_11e9_a892_54ee75e0f62drow0_col3\" class=\"data row0 col3\" >False</td>\n",
       "                        <td id=\"T_ecc2a832_4cc5_11e9_a892_54ee75e0f62drow0_col4\" class=\"data row0 col4\" ><a target=\"_blank\" href=\"https://github.com/jupyterhub/zero-to-jupyterhub-k8s/pull/1196\">https://github.com/jupyterhub/zero-to-jupyterhub-k8s/pull/1196</a></td>\n",
       "            </tr>\n",
       "            <tr>\n",
       "                                <td id=\"T_ecc2a832_4cc5_11e9_a892_54ee75e0f62drow1_col0\" class=\"data row1 col0\" >consideRatio</td>\n",
       "                        <td id=\"T_ecc2a832_4cc5_11e9_a892_54ee75e0f62drow1_col1\" class=\"data row1 col1\" >MEMBER</td>\n",
       "                        <td id=\"T_ecc2a832_4cc5_11e9_a892_54ee75e0f62drow1_col2\" class=\"data row1 col2\" >1</td>\n",
       "                        <td id=\"T_ecc2a832_4cc5_11e9_a892_54ee75e0f62drow1_col3\" class=\"data row1 col3\" >False</td>\n",
       "                        <td id=\"T_ecc2a832_4cc5_11e9_a892_54ee75e0f62drow1_col4\" class=\"data row1 col4\" ><a target=\"_blank\" href=\"https://github.com/jupyterhub/zero-to-jupyterhub-k8s/pull/1175\">https://github.com/jupyterhub/zero-to-jupyterhub-k8s/pull/1175</a></td>\n",
       "            </tr>\n",
       "            <tr>\n",
       "                                <td id=\"T_ecc2a832_4cc5_11e9_a892_54ee75e0f62drow2_col0\" class=\"data row2 col0\" >alexmorley</td>\n",
       "                        <td id=\"T_ecc2a832_4cc5_11e9_a892_54ee75e0f62drow2_col1\" class=\"data row2 col1\" >FIRST_TIME_CONTRIBUTOR</td>\n",
       "                        <td id=\"T_ecc2a832_4cc5_11e9_a892_54ee75e0f62drow2_col2\" class=\"data row2 col2\" >2</td>\n",
       "                        <td id=\"T_ecc2a832_4cc5_11e9_a892_54ee75e0f62drow2_col3\" class=\"data row2 col3\" >False</td>\n",
       "                        <td id=\"T_ecc2a832_4cc5_11e9_a892_54ee75e0f62drow2_col4\" class=\"data row2 col4\" ><a target=\"_blank\" href=\"https://github.com/jupyterhub/zero-to-jupyterhub-k8s/pull/1192\">https://github.com/jupyterhub/zero-to-jupyterhub-k8s/pull/1192</a></td>\n",
       "            </tr>\n",
       "            <tr>\n",
       "                                <td id=\"T_ecc2a832_4cc5_11e9_a892_54ee75e0f62drow3_col0\" class=\"data row3 col0\" >minrk</td>\n",
       "                        <td id=\"T_ecc2a832_4cc5_11e9_a892_54ee75e0f62drow3_col1\" class=\"data row3 col1\" >MEMBER</td>\n",
       "                        <td id=\"T_ecc2a832_4cc5_11e9_a892_54ee75e0f62drow3_col2\" class=\"data row3 col2\" >3</td>\n",
       "                        <td id=\"T_ecc2a832_4cc5_11e9_a892_54ee75e0f62drow3_col3\" class=\"data row3 col3\" >False</td>\n",
       "                        <td id=\"T_ecc2a832_4cc5_11e9_a892_54ee75e0f62drow3_col4\" class=\"data row3 col4\" ><a target=\"_blank\" href=\"https://github.com/jupyterhub/zero-to-jupyterhub-k8s/pull/1162\">https://github.com/jupyterhub/zero-to-jupyterhub-k8s/pull/1162</a></td>\n",
       "            </tr>\n",
       "            <tr>\n",
       "                                <td id=\"T_ecc2a832_4cc5_11e9_a892_54ee75e0f62drow4_col0\" class=\"data row4 col0\" >consideRatio</td>\n",
       "                        <td id=\"T_ecc2a832_4cc5_11e9_a892_54ee75e0f62drow4_col1\" class=\"data row4 col1\" >MEMBER</td>\n",
       "                        <td id=\"T_ecc2a832_4cc5_11e9_a892_54ee75e0f62drow4_col2\" class=\"data row4 col2\" >0</td>\n",
       "                        <td id=\"T_ecc2a832_4cc5_11e9_a892_54ee75e0f62drow4_col3\" class=\"data row4 col3\" >True</td>\n",
       "                        <td id=\"T_ecc2a832_4cc5_11e9_a892_54ee75e0f62drow4_col4\" class=\"data row4 col4\" ><a target=\"_blank\" href=\"https://github.com/jupyterhub/zero-to-jupyterhub-k8s/pull/1172\">https://github.com/jupyterhub/zero-to-jupyterhub-k8s/pull/1172</a></td>\n",
       "            </tr>\n",
       "            <tr>\n",
       "                                <td id=\"T_ecc2a832_4cc5_11e9_a892_54ee75e0f62drow5_col0\" class=\"data row5 col0\" >consideRatio</td>\n",
       "                        <td id=\"T_ecc2a832_4cc5_11e9_a892_54ee75e0f62drow5_col1\" class=\"data row5 col1\" >MEMBER</td>\n",
       "                        <td id=\"T_ecc2a832_4cc5_11e9_a892_54ee75e0f62drow5_col2\" class=\"data row5 col2\" >0</td>\n",
       "                        <td id=\"T_ecc2a832_4cc5_11e9_a892_54ee75e0f62drow5_col3\" class=\"data row5 col3\" >True</td>\n",
       "                        <td id=\"T_ecc2a832_4cc5_11e9_a892_54ee75e0f62drow5_col4\" class=\"data row5 col4\" ><a target=\"_blank\" href=\"https://github.com/jupyterhub/zero-to-jupyterhub-k8s/pull/1171\">https://github.com/jupyterhub/zero-to-jupyterhub-k8s/pull/1171</a></td>\n",
       "            </tr>\n",
       "            <tr>\n",
       "                                <td id=\"T_ecc2a832_4cc5_11e9_a892_54ee75e0f62drow6_col0\" class=\"data row6 col0\" >JohnPaton</td>\n",
       "                        <td id=\"T_ecc2a832_4cc5_11e9_a892_54ee75e0f62drow6_col1\" class=\"data row6 col1\" >CONTRIBUTOR</td>\n",
       "                        <td id=\"T_ecc2a832_4cc5_11e9_a892_54ee75e0f62drow6_col2\" class=\"data row6 col2\" >1</td>\n",
       "                        <td id=\"T_ecc2a832_4cc5_11e9_a892_54ee75e0f62drow6_col3\" class=\"data row6 col3\" >True</td>\n",
       "                        <td id=\"T_ecc2a832_4cc5_11e9_a892_54ee75e0f62drow6_col4\" class=\"data row6 col4\" ><a target=\"_blank\" href=\"https://github.com/jupyterhub/zero-to-jupyterhub-k8s/pull/1183\">https://github.com/jupyterhub/zero-to-jupyterhub-k8s/pull/1183</a></td>\n",
       "            </tr>\n",
       "            <tr>\n",
       "                                <td id=\"T_ecc2a832_4cc5_11e9_a892_54ee75e0f62drow7_col0\" class=\"data row7 col0\" >sgibson91</td>\n",
       "                        <td id=\"T_ecc2a832_4cc5_11e9_a892_54ee75e0f62drow7_col1\" class=\"data row7 col1\" >CONTRIBUTOR</td>\n",
       "                        <td id=\"T_ecc2a832_4cc5_11e9_a892_54ee75e0f62drow7_col2\" class=\"data row7 col2\" >1</td>\n",
       "                        <td id=\"T_ecc2a832_4cc5_11e9_a892_54ee75e0f62drow7_col3\" class=\"data row7 col3\" >True</td>\n",
       "                        <td id=\"T_ecc2a832_4cc5_11e9_a892_54ee75e0f62drow7_col4\" class=\"data row7 col4\" ><a target=\"_blank\" href=\"https://github.com/jupyterhub/zero-to-jupyterhub-k8s/pull/1180\">https://github.com/jupyterhub/zero-to-jupyterhub-k8s/pull/1180</a></td>\n",
       "            </tr>\n",
       "            <tr>\n",
       "                                <td id=\"T_ecc2a832_4cc5_11e9_a892_54ee75e0f62drow8_col0\" class=\"data row8 col0\" >minrk</td>\n",
       "                        <td id=\"T_ecc2a832_4cc5_11e9_a892_54ee75e0f62drow8_col1\" class=\"data row8 col1\" >MEMBER</td>\n",
       "                        <td id=\"T_ecc2a832_4cc5_11e9_a892_54ee75e0f62drow8_col2\" class=\"data row8 col2\" >1</td>\n",
       "                        <td id=\"T_ecc2a832_4cc5_11e9_a892_54ee75e0f62drow8_col3\" class=\"data row8 col3\" >True</td>\n",
       "                        <td id=\"T_ecc2a832_4cc5_11e9_a892_54ee75e0f62drow8_col4\" class=\"data row8 col4\" ><a target=\"_blank\" href=\"https://github.com/jupyterhub/zero-to-jupyterhub-k8s/pull/1169\">https://github.com/jupyterhub/zero-to-jupyterhub-k8s/pull/1169</a></td>\n",
       "            </tr>\n",
       "            <tr>\n",
       "                                <td id=\"T_ecc2a832_4cc5_11e9_a892_54ee75e0f62drow9_col0\" class=\"data row9 col0\" >manycoding</td>\n",
       "                        <td id=\"T_ecc2a832_4cc5_11e9_a892_54ee75e0f62drow9_col1\" class=\"data row9 col1\" >CONTRIBUTOR</td>\n",
       "                        <td id=\"T_ecc2a832_4cc5_11e9_a892_54ee75e0f62drow9_col2\" class=\"data row9 col2\" >1</td>\n",
       "                        <td id=\"T_ecc2a832_4cc5_11e9_a892_54ee75e0f62drow9_col3\" class=\"data row9 col3\" >True</td>\n",
       "                        <td id=\"T_ecc2a832_4cc5_11e9_a892_54ee75e0f62drow9_col4\" class=\"data row9 col4\" ><a target=\"_blank\" href=\"https://github.com/jupyterhub/zero-to-jupyterhub-k8s/pull/1168\">https://github.com/jupyterhub/zero-to-jupyterhub-k8s/pull/1168</a></td>\n",
       "            </tr>\n",
       "            <tr>\n",
       "                                <td id=\"T_ecc2a832_4cc5_11e9_a892_54ee75e0f62drow10_col0\" class=\"data row10 col0\" >manycoding</td>\n",
       "                        <td id=\"T_ecc2a832_4cc5_11e9_a892_54ee75e0f62drow10_col1\" class=\"data row10 col1\" >CONTRIBUTOR</td>\n",
       "                        <td id=\"T_ecc2a832_4cc5_11e9_a892_54ee75e0f62drow10_col2\" class=\"data row10 col2\" >1</td>\n",
       "                        <td id=\"T_ecc2a832_4cc5_11e9_a892_54ee75e0f62drow10_col3\" class=\"data row10 col3\" >True</td>\n",
       "                        <td id=\"T_ecc2a832_4cc5_11e9_a892_54ee75e0f62drow10_col4\" class=\"data row10 col4\" ><a target=\"_blank\" href=\"https://github.com/jupyterhub/zero-to-jupyterhub-k8s/pull/1160\">https://github.com/jupyterhub/zero-to-jupyterhub-k8s/pull/1160</a></td>\n",
       "            </tr>\n",
       "            <tr>\n",
       "                                <td id=\"T_ecc2a832_4cc5_11e9_a892_54ee75e0f62drow11_col0\" class=\"data row11 col0\" >manycoding</td>\n",
       "                        <td id=\"T_ecc2a832_4cc5_11e9_a892_54ee75e0f62drow11_col1\" class=\"data row11 col1\" >CONTRIBUTOR</td>\n",
       "                        <td id=\"T_ecc2a832_4cc5_11e9_a892_54ee75e0f62drow11_col2\" class=\"data row11 col2\" >1</td>\n",
       "                        <td id=\"T_ecc2a832_4cc5_11e9_a892_54ee75e0f62drow11_col3\" class=\"data row11 col3\" >True</td>\n",
       "                        <td id=\"T_ecc2a832_4cc5_11e9_a892_54ee75e0f62drow11_col4\" class=\"data row11 col4\" ><a target=\"_blank\" href=\"https://github.com/jupyterhub/zero-to-jupyterhub-k8s/pull/1159\">https://github.com/jupyterhub/zero-to-jupyterhub-k8s/pull/1159</a></td>\n",
       "            </tr>\n",
       "            <tr>\n",
       "                                <td id=\"T_ecc2a832_4cc5_11e9_a892_54ee75e0f62drow12_col0\" class=\"data row12 col0\" >choldgraf</td>\n",
       "                        <td id=\"T_ecc2a832_4cc5_11e9_a892_54ee75e0f62drow12_col1\" class=\"data row12 col1\" >MEMBER</td>\n",
       "                        <td id=\"T_ecc2a832_4cc5_11e9_a892_54ee75e0f62drow12_col2\" class=\"data row12 col2\" >2</td>\n",
       "                        <td id=\"T_ecc2a832_4cc5_11e9_a892_54ee75e0f62drow12_col3\" class=\"data row12 col3\" >True</td>\n",
       "                        <td id=\"T_ecc2a832_4cc5_11e9_a892_54ee75e0f62drow12_col4\" class=\"data row12 col4\" ><a target=\"_blank\" href=\"https://github.com/jupyterhub/zero-to-jupyterhub-k8s/pull/1181\">https://github.com/jupyterhub/zero-to-jupyterhub-k8s/pull/1181</a></td>\n",
       "            </tr>\n",
       "            <tr>\n",
       "                                <td id=\"T_ecc2a832_4cc5_11e9_a892_54ee75e0f62drow13_col0\" class=\"data row13 col0\" >manycoding</td>\n",
       "                        <td id=\"T_ecc2a832_4cc5_11e9_a892_54ee75e0f62drow13_col1\" class=\"data row13 col1\" >CONTRIBUTOR</td>\n",
       "                        <td id=\"T_ecc2a832_4cc5_11e9_a892_54ee75e0f62drow13_col2\" class=\"data row13 col2\" >2</td>\n",
       "                        <td id=\"T_ecc2a832_4cc5_11e9_a892_54ee75e0f62drow13_col3\" class=\"data row13 col3\" >True</td>\n",
       "                        <td id=\"T_ecc2a832_4cc5_11e9_a892_54ee75e0f62drow13_col4\" class=\"data row13 col4\" ><a target=\"_blank\" href=\"https://github.com/jupyterhub/zero-to-jupyterhub-k8s/pull/1158\">https://github.com/jupyterhub/zero-to-jupyterhub-k8s/pull/1158</a></td>\n",
       "            </tr>\n",
       "            <tr>\n",
       "                                <td id=\"T_ecc2a832_4cc5_11e9_a892_54ee75e0f62drow14_col0\" class=\"data row14 col0\" >jtpio</td>\n",
       "                        <td id=\"T_ecc2a832_4cc5_11e9_a892_54ee75e0f62drow14_col1\" class=\"data row14 col1\" >CONTRIBUTOR</td>\n",
       "                        <td id=\"T_ecc2a832_4cc5_11e9_a892_54ee75e0f62drow14_col2\" class=\"data row14 col2\" >2</td>\n",
       "                        <td id=\"T_ecc2a832_4cc5_11e9_a892_54ee75e0f62drow14_col3\" class=\"data row14 col3\" >True</td>\n",
       "                        <td id=\"T_ecc2a832_4cc5_11e9_a892_54ee75e0f62drow14_col4\" class=\"data row14 col4\" ><a target=\"_blank\" href=\"https://github.com/jupyterhub/zero-to-jupyterhub-k8s/pull/1187\">https://github.com/jupyterhub/zero-to-jupyterhub-k8s/pull/1187</a></td>\n",
       "            </tr>\n",
       "            <tr>\n",
       "                                <td id=\"T_ecc2a832_4cc5_11e9_a892_54ee75e0f62drow15_col0\" class=\"data row15 col0\" >jtpio</td>\n",
       "                        <td id=\"T_ecc2a832_4cc5_11e9_a892_54ee75e0f62drow15_col1\" class=\"data row15 col1\" >CONTRIBUTOR</td>\n",
       "                        <td id=\"T_ecc2a832_4cc5_11e9_a892_54ee75e0f62drow15_col2\" class=\"data row15 col2\" >6</td>\n",
       "                        <td id=\"T_ecc2a832_4cc5_11e9_a892_54ee75e0f62drow15_col3\" class=\"data row15 col3\" >True</td>\n",
       "                        <td id=\"T_ecc2a832_4cc5_11e9_a892_54ee75e0f62drow15_col4\" class=\"data row15 col4\" ><a target=\"_blank\" href=\"https://github.com/jupyterhub/zero-to-jupyterhub-k8s/pull/1163\">https://github.com/jupyterhub/zero-to-jupyterhub-k8s/pull/1163</a></td>\n",
       "            </tr>\n",
       "            <tr>\n",
       "                                <td id=\"T_ecc2a832_4cc5_11e9_a892_54ee75e0f62drow16_col0\" class=\"data row16 col0\" >joshbode</td>\n",
       "                        <td id=\"T_ecc2a832_4cc5_11e9_a892_54ee75e0f62drow16_col1\" class=\"data row16 col1\" >CONTRIBUTOR</td>\n",
       "                        <td id=\"T_ecc2a832_4cc5_11e9_a892_54ee75e0f62drow16_col2\" class=\"data row16 col2\" >7</td>\n",
       "                        <td id=\"T_ecc2a832_4cc5_11e9_a892_54ee75e0f62drow16_col3\" class=\"data row16 col3\" >True</td>\n",
       "                        <td id=\"T_ecc2a832_4cc5_11e9_a892_54ee75e0f62drow16_col4\" class=\"data row16 col4\" ><a target=\"_blank\" href=\"https://github.com/jupyterhub/zero-to-jupyterhub-k8s/pull/1185\">https://github.com/jupyterhub/zero-to-jupyterhub-k8s/pull/1185</a></td>\n",
       "            </tr>\n",
       "    </tbody></table>"
      ],
      "text/plain": [
       "<pandas.io.formats.style.Styler at 0x7f2c8e7df080>"
      ]
     },
     "execution_count": 33,
     "metadata": {},
     "output_type": "execute_result"
    }
   ],
   "source": [
    "opened_prs[['user', 'author_association', 'comments', 'closed', 'html_url']]\\\n",
    "    .sort_values(['closed', 'comments']).style.applymap(highlight_rows).format({'html_url': make_clickable}).hide_index()"
   ]
  },
  {
   "cell_type": "code",
   "execution_count": 34,
   "metadata": {},
   "outputs": [
    {
     "data": {
      "text/html": [
       "<h2 style=\"padding-left: 1em;\">Closed PRs: 17</h2>"
      ],
      "text/plain": [
       "<IPython.core.display.HTML object>"
      ]
     },
     "metadata": {},
     "output_type": "display_data"
    }
   ],
   "source": [
    "print_html('Closed PRs: {}'.format(len(closed_prs)))"
   ]
  },
  {
   "cell_type": "code",
   "execution_count": 35,
   "metadata": {},
   "outputs": [
    {
     "data": {
      "text/html": [
       "<style  type=\"text/css\" >\n",
       "    #T_ed4bf038_4cc5_11e9_a892_54ee75e0f62drow0_col2 {\n",
       "            background-color:  #f7b7b7;\n",
       "        }    #T_ed4bf038_4cc5_11e9_a892_54ee75e0f62drow1_col2 {\n",
       "            background-color:  #f7b7b7;\n",
       "        }    #T_ed4bf038_4cc5_11e9_a892_54ee75e0f62drow2_col2 {\n",
       "            background-color:  #f7b7b7;\n",
       "        }    #T_ed4bf038_4cc5_11e9_a892_54ee75e0f62drow13_col1 {\n",
       "            background-color:  #f7b7b7;\n",
       "        }</style><table id=\"T_ed4bf038_4cc5_11e9_a892_54ee75e0f62d\" ><thead>    <tr>        <th class=\"col_heading level0 col0\" >user</th>        <th class=\"col_heading level0 col1\" >author_association</th>        <th class=\"col_heading level0 col2\" >comments</th>        <th class=\"col_heading level0 col3\" >html_url</th>    </tr></thead><tbody>\n",
       "                <tr>\n",
       "                                <td id=\"T_ed4bf038_4cc5_11e9_a892_54ee75e0f62drow0_col0\" class=\"data row0 col0\" >consideRatio</td>\n",
       "                        <td id=\"T_ed4bf038_4cc5_11e9_a892_54ee75e0f62drow0_col1\" class=\"data row0 col1\" >MEMBER</td>\n",
       "                        <td id=\"T_ed4bf038_4cc5_11e9_a892_54ee75e0f62drow0_col2\" class=\"data row0 col2\" >0</td>\n",
       "                        <td id=\"T_ed4bf038_4cc5_11e9_a892_54ee75e0f62drow0_col3\" class=\"data row0 col3\" ><a target=\"_blank\" href=\"https://github.com/jupyterhub/zero-to-jupyterhub-k8s/pull/1172\">https://github.com/jupyterhub/zero-to-jupyterhub-k8s/pull/1172</a></td>\n",
       "            </tr>\n",
       "            <tr>\n",
       "                                <td id=\"T_ed4bf038_4cc5_11e9_a892_54ee75e0f62drow1_col0\" class=\"data row1 col0\" >consideRatio</td>\n",
       "                        <td id=\"T_ed4bf038_4cc5_11e9_a892_54ee75e0f62drow1_col1\" class=\"data row1 col1\" >MEMBER</td>\n",
       "                        <td id=\"T_ed4bf038_4cc5_11e9_a892_54ee75e0f62drow1_col2\" class=\"data row1 col2\" >0</td>\n",
       "                        <td id=\"T_ed4bf038_4cc5_11e9_a892_54ee75e0f62drow1_col3\" class=\"data row1 col3\" ><a target=\"_blank\" href=\"https://github.com/jupyterhub/zero-to-jupyterhub-k8s/pull/1171\">https://github.com/jupyterhub/zero-to-jupyterhub-k8s/pull/1171</a></td>\n",
       "            </tr>\n",
       "            <tr>\n",
       "                                <td id=\"T_ed4bf038_4cc5_11e9_a892_54ee75e0f62drow2_col0\" class=\"data row2 col0\" >consideRatio</td>\n",
       "                        <td id=\"T_ed4bf038_4cc5_11e9_a892_54ee75e0f62drow2_col1\" class=\"data row2 col1\" >MEMBER</td>\n",
       "                        <td id=\"T_ed4bf038_4cc5_11e9_a892_54ee75e0f62drow2_col2\" class=\"data row2 col2\" >0</td>\n",
       "                        <td id=\"T_ed4bf038_4cc5_11e9_a892_54ee75e0f62drow2_col3\" class=\"data row2 col3\" ><a target=\"_blank\" href=\"https://github.com/jupyterhub/zero-to-jupyterhub-k8s/pull/1073\">https://github.com/jupyterhub/zero-to-jupyterhub-k8s/pull/1073</a></td>\n",
       "            </tr>\n",
       "            <tr>\n",
       "                                <td id=\"T_ed4bf038_4cc5_11e9_a892_54ee75e0f62drow3_col0\" class=\"data row3 col0\" >JohnPaton</td>\n",
       "                        <td id=\"T_ed4bf038_4cc5_11e9_a892_54ee75e0f62drow3_col1\" class=\"data row3 col1\" >CONTRIBUTOR</td>\n",
       "                        <td id=\"T_ed4bf038_4cc5_11e9_a892_54ee75e0f62drow3_col2\" class=\"data row3 col2\" >1</td>\n",
       "                        <td id=\"T_ed4bf038_4cc5_11e9_a892_54ee75e0f62drow3_col3\" class=\"data row3 col3\" ><a target=\"_blank\" href=\"https://github.com/jupyterhub/zero-to-jupyterhub-k8s/pull/1183\">https://github.com/jupyterhub/zero-to-jupyterhub-k8s/pull/1183</a></td>\n",
       "            </tr>\n",
       "            <tr>\n",
       "                                <td id=\"T_ed4bf038_4cc5_11e9_a892_54ee75e0f62drow4_col0\" class=\"data row4 col0\" >sgibson91</td>\n",
       "                        <td id=\"T_ed4bf038_4cc5_11e9_a892_54ee75e0f62drow4_col1\" class=\"data row4 col1\" >CONTRIBUTOR</td>\n",
       "                        <td id=\"T_ed4bf038_4cc5_11e9_a892_54ee75e0f62drow4_col2\" class=\"data row4 col2\" >1</td>\n",
       "                        <td id=\"T_ed4bf038_4cc5_11e9_a892_54ee75e0f62drow4_col3\" class=\"data row4 col3\" ><a target=\"_blank\" href=\"https://github.com/jupyterhub/zero-to-jupyterhub-k8s/pull/1180\">https://github.com/jupyterhub/zero-to-jupyterhub-k8s/pull/1180</a></td>\n",
       "            </tr>\n",
       "            <tr>\n",
       "                                <td id=\"T_ed4bf038_4cc5_11e9_a892_54ee75e0f62drow5_col0\" class=\"data row5 col0\" >minrk</td>\n",
       "                        <td id=\"T_ed4bf038_4cc5_11e9_a892_54ee75e0f62drow5_col1\" class=\"data row5 col1\" >MEMBER</td>\n",
       "                        <td id=\"T_ed4bf038_4cc5_11e9_a892_54ee75e0f62drow5_col2\" class=\"data row5 col2\" >1</td>\n",
       "                        <td id=\"T_ed4bf038_4cc5_11e9_a892_54ee75e0f62drow5_col3\" class=\"data row5 col3\" ><a target=\"_blank\" href=\"https://github.com/jupyterhub/zero-to-jupyterhub-k8s/pull/1169\">https://github.com/jupyterhub/zero-to-jupyterhub-k8s/pull/1169</a></td>\n",
       "            </tr>\n",
       "            <tr>\n",
       "                                <td id=\"T_ed4bf038_4cc5_11e9_a892_54ee75e0f62drow6_col0\" class=\"data row6 col0\" >manycoding</td>\n",
       "                        <td id=\"T_ed4bf038_4cc5_11e9_a892_54ee75e0f62drow6_col1\" class=\"data row6 col1\" >CONTRIBUTOR</td>\n",
       "                        <td id=\"T_ed4bf038_4cc5_11e9_a892_54ee75e0f62drow6_col2\" class=\"data row6 col2\" >1</td>\n",
       "                        <td id=\"T_ed4bf038_4cc5_11e9_a892_54ee75e0f62drow6_col3\" class=\"data row6 col3\" ><a target=\"_blank\" href=\"https://github.com/jupyterhub/zero-to-jupyterhub-k8s/pull/1168\">https://github.com/jupyterhub/zero-to-jupyterhub-k8s/pull/1168</a></td>\n",
       "            </tr>\n",
       "            <tr>\n",
       "                                <td id=\"T_ed4bf038_4cc5_11e9_a892_54ee75e0f62drow7_col0\" class=\"data row7 col0\" >manycoding</td>\n",
       "                        <td id=\"T_ed4bf038_4cc5_11e9_a892_54ee75e0f62drow7_col1\" class=\"data row7 col1\" >CONTRIBUTOR</td>\n",
       "                        <td id=\"T_ed4bf038_4cc5_11e9_a892_54ee75e0f62drow7_col2\" class=\"data row7 col2\" >1</td>\n",
       "                        <td id=\"T_ed4bf038_4cc5_11e9_a892_54ee75e0f62drow7_col3\" class=\"data row7 col3\" ><a target=\"_blank\" href=\"https://github.com/jupyterhub/zero-to-jupyterhub-k8s/pull/1160\">https://github.com/jupyterhub/zero-to-jupyterhub-k8s/pull/1160</a></td>\n",
       "            </tr>\n",
       "            <tr>\n",
       "                                <td id=\"T_ed4bf038_4cc5_11e9_a892_54ee75e0f62drow8_col0\" class=\"data row8 col0\" >manycoding</td>\n",
       "                        <td id=\"T_ed4bf038_4cc5_11e9_a892_54ee75e0f62drow8_col1\" class=\"data row8 col1\" >CONTRIBUTOR</td>\n",
       "                        <td id=\"T_ed4bf038_4cc5_11e9_a892_54ee75e0f62drow8_col2\" class=\"data row8 col2\" >1</td>\n",
       "                        <td id=\"T_ed4bf038_4cc5_11e9_a892_54ee75e0f62drow8_col3\" class=\"data row8 col3\" ><a target=\"_blank\" href=\"https://github.com/jupyterhub/zero-to-jupyterhub-k8s/pull/1159\">https://github.com/jupyterhub/zero-to-jupyterhub-k8s/pull/1159</a></td>\n",
       "            </tr>\n",
       "            <tr>\n",
       "                                <td id=\"T_ed4bf038_4cc5_11e9_a892_54ee75e0f62drow9_col0\" class=\"data row9 col0\" >jtpio</td>\n",
       "                        <td id=\"T_ed4bf038_4cc5_11e9_a892_54ee75e0f62drow9_col1\" class=\"data row9 col1\" >CONTRIBUTOR</td>\n",
       "                        <td id=\"T_ed4bf038_4cc5_11e9_a892_54ee75e0f62drow9_col2\" class=\"data row9 col2\" >2</td>\n",
       "                        <td id=\"T_ed4bf038_4cc5_11e9_a892_54ee75e0f62drow9_col3\" class=\"data row9 col3\" ><a target=\"_blank\" href=\"https://github.com/jupyterhub/zero-to-jupyterhub-k8s/pull/1187\">https://github.com/jupyterhub/zero-to-jupyterhub-k8s/pull/1187</a></td>\n",
       "            </tr>\n",
       "            <tr>\n",
       "                                <td id=\"T_ed4bf038_4cc5_11e9_a892_54ee75e0f62drow10_col0\" class=\"data row10 col0\" >choldgraf</td>\n",
       "                        <td id=\"T_ed4bf038_4cc5_11e9_a892_54ee75e0f62drow10_col1\" class=\"data row10 col1\" >MEMBER</td>\n",
       "                        <td id=\"T_ed4bf038_4cc5_11e9_a892_54ee75e0f62drow10_col2\" class=\"data row10 col2\" >2</td>\n",
       "                        <td id=\"T_ed4bf038_4cc5_11e9_a892_54ee75e0f62drow10_col3\" class=\"data row10 col3\" ><a target=\"_blank\" href=\"https://github.com/jupyterhub/zero-to-jupyterhub-k8s/pull/1181\">https://github.com/jupyterhub/zero-to-jupyterhub-k8s/pull/1181</a></td>\n",
       "            </tr>\n",
       "            <tr>\n",
       "                                <td id=\"T_ed4bf038_4cc5_11e9_a892_54ee75e0f62drow11_col0\" class=\"data row11 col0\" >manycoding</td>\n",
       "                        <td id=\"T_ed4bf038_4cc5_11e9_a892_54ee75e0f62drow11_col1\" class=\"data row11 col1\" >CONTRIBUTOR</td>\n",
       "                        <td id=\"T_ed4bf038_4cc5_11e9_a892_54ee75e0f62drow11_col2\" class=\"data row11 col2\" >2</td>\n",
       "                        <td id=\"T_ed4bf038_4cc5_11e9_a892_54ee75e0f62drow11_col3\" class=\"data row11 col3\" ><a target=\"_blank\" href=\"https://github.com/jupyterhub/zero-to-jupyterhub-k8s/pull/1158\">https://github.com/jupyterhub/zero-to-jupyterhub-k8s/pull/1158</a></td>\n",
       "            </tr>\n",
       "            <tr>\n",
       "                                <td id=\"T_ed4bf038_4cc5_11e9_a892_54ee75e0f62drow12_col0\" class=\"data row12 col0\" >pcfens</td>\n",
       "                        <td id=\"T_ed4bf038_4cc5_11e9_a892_54ee75e0f62drow12_col1\" class=\"data row12 col1\" >CONTRIBUTOR</td>\n",
       "                        <td id=\"T_ed4bf038_4cc5_11e9_a892_54ee75e0f62drow12_col2\" class=\"data row12 col2\" >5</td>\n",
       "                        <td id=\"T_ed4bf038_4cc5_11e9_a892_54ee75e0f62drow12_col3\" class=\"data row12 col3\" ><a target=\"_blank\" href=\"https://github.com/jupyterhub/zero-to-jupyterhub-k8s/pull/1084\">https://github.com/jupyterhub/zero-to-jupyterhub-k8s/pull/1084</a></td>\n",
       "            </tr>\n",
       "            <tr>\n",
       "                                <td id=\"T_ed4bf038_4cc5_11e9_a892_54ee75e0f62drow13_col0\" class=\"data row13 col0\" >chenzhiwei</td>\n",
       "                        <td id=\"T_ed4bf038_4cc5_11e9_a892_54ee75e0f62drow13_col1\" class=\"data row13 col1\" >NONE</td>\n",
       "                        <td id=\"T_ed4bf038_4cc5_11e9_a892_54ee75e0f62drow13_col2\" class=\"data row13 col2\" >6</td>\n",
       "                        <td id=\"T_ed4bf038_4cc5_11e9_a892_54ee75e0f62drow13_col3\" class=\"data row13 col3\" ><a target=\"_blank\" href=\"https://github.com/jupyterhub/zero-to-jupyterhub-k8s/pull/1072\">https://github.com/jupyterhub/zero-to-jupyterhub-k8s/pull/1072</a></td>\n",
       "            </tr>\n",
       "            <tr>\n",
       "                                <td id=\"T_ed4bf038_4cc5_11e9_a892_54ee75e0f62drow14_col0\" class=\"data row14 col0\" >jtpio</td>\n",
       "                        <td id=\"T_ed4bf038_4cc5_11e9_a892_54ee75e0f62drow14_col1\" class=\"data row14 col1\" >CONTRIBUTOR</td>\n",
       "                        <td id=\"T_ed4bf038_4cc5_11e9_a892_54ee75e0f62drow14_col2\" class=\"data row14 col2\" >6</td>\n",
       "                        <td id=\"T_ed4bf038_4cc5_11e9_a892_54ee75e0f62drow14_col3\" class=\"data row14 col3\" ><a target=\"_blank\" href=\"https://github.com/jupyterhub/zero-to-jupyterhub-k8s/pull/1163\">https://github.com/jupyterhub/zero-to-jupyterhub-k8s/pull/1163</a></td>\n",
       "            </tr>\n",
       "            <tr>\n",
       "                                <td id=\"T_ed4bf038_4cc5_11e9_a892_54ee75e0f62drow15_col0\" class=\"data row15 col0\" >joshbode</td>\n",
       "                        <td id=\"T_ed4bf038_4cc5_11e9_a892_54ee75e0f62drow15_col1\" class=\"data row15 col1\" >CONTRIBUTOR</td>\n",
       "                        <td id=\"T_ed4bf038_4cc5_11e9_a892_54ee75e0f62drow15_col2\" class=\"data row15 col2\" >7</td>\n",
       "                        <td id=\"T_ed4bf038_4cc5_11e9_a892_54ee75e0f62drow15_col3\" class=\"data row15 col3\" ><a target=\"_blank\" href=\"https://github.com/jupyterhub/zero-to-jupyterhub-k8s/pull/1185\">https://github.com/jupyterhub/zero-to-jupyterhub-k8s/pull/1185</a></td>\n",
       "            </tr>\n",
       "            <tr>\n",
       "                                <td id=\"T_ed4bf038_4cc5_11e9_a892_54ee75e0f62drow16_col0\" class=\"data row16 col0\" >consideRatio</td>\n",
       "                        <td id=\"T_ed4bf038_4cc5_11e9_a892_54ee75e0f62drow16_col1\" class=\"data row16 col1\" >MEMBER</td>\n",
       "                        <td id=\"T_ed4bf038_4cc5_11e9_a892_54ee75e0f62drow16_col2\" class=\"data row16 col2\" >12</td>\n",
       "                        <td id=\"T_ed4bf038_4cc5_11e9_a892_54ee75e0f62drow16_col3\" class=\"data row16 col3\" ><a target=\"_blank\" href=\"https://github.com/jupyterhub/zero-to-jupyterhub-k8s/pull/846\">https://github.com/jupyterhub/zero-to-jupyterhub-k8s/pull/846</a></td>\n",
       "            </tr>\n",
       "    </tbody></table>"
      ],
      "text/plain": [
       "<pandas.io.formats.style.Styler at 0x7f2c8e7cdbe0>"
      ]
     },
     "execution_count": 35,
     "metadata": {},
     "output_type": "execute_result"
    }
   ],
   "source": [
    "closed_prs[['user', 'author_association', 'comments', 'html_url']]\\\n",
    "    .sort_values(['comments']).style.applymap(highlight_rows).format({'html_url': make_clickable}).hide_index()"
   ]
  },
  {
   "cell_type": "markdown",
   "metadata": {},
   "source": [
    "# State of repo\n",
    "\n",
    "## Stale issues"
   ]
  },
  {
   "cell_type": "code",
   "execution_count": 36,
   "metadata": {},
   "outputs": [],
   "source": [
    "stale_issues = issues.query('updated_at < @date_stale')\n",
    "stale_issues = stale_issues[stale_issues['closed_at'].isnull()]"
   ]
  },
  {
   "cell_type": "code",
   "execution_count": 37,
   "metadata": {},
   "outputs": [
    {
     "data": {
      "text/html": [
       "<style  type=\"text/css\" >\n",
       "</style><table id=\"T_ee0ea52e_4cc5_11e9_a892_54ee75e0f62d\" ><thead>    <tr>        <th class=\"col_heading level0 col0\" >user</th>        <th class=\"col_heading level0 col1\" >author_association</th>        <th class=\"col_heading level0 col2\" >comments</th>        <th class=\"col_heading level0 col3\" >html_url</th>    </tr></thead><tbody>\n",
       "        </tbody></table>"
      ],
      "text/plain": [
       "<pandas.io.formats.style.Styler at 0x7f2c897c8d30>"
      ]
     },
     "execution_count": 37,
     "metadata": {},
     "output_type": "execute_result"
    }
   ],
   "source": [
    "stale_issues[['user', 'author_association', 'comments', 'html_url']]\\\n",
    "    .sort_values(['comments']).style.applymap(highlight_rows).format({'html_url': make_clickable}).hide_index()"
   ]
  },
  {
   "cell_type": "code",
   "execution_count": null,
   "metadata": {},
   "outputs": [],
   "source": []
  }
 ],
 "metadata": {
  "kernelspec": {
   "display_name": "Python 3",
   "language": "python",
   "name": "python3"
  },
  "language_info": {
   "codemirror_mode": {
    "name": "ipython",
    "version": 3
   },
   "file_extension": ".py",
   "mimetype": "text/x-python",
   "name": "python",
   "nbconvert_exporter": "python",
   "pygments_lexer": "ipython3",
   "version": "3.6.5"
  }
 },
 "nbformat": 4,
 "nbformat_minor": 2
}
