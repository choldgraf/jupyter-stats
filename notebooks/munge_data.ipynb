{
 "cells": [
  {
   "cell_type": "code",
   "execution_count": 8,
   "metadata": {},
   "outputs": [],
   "source": [
    "import pandas as pd\n",
    "from subprocess import run, PIPE\n",
    "from watchtower import comments_, issues_, commits_, reviews_"
   ]
  },
  {
   "cell_type": "markdown",
   "metadata": {},
   "source": [
    "## Projects we wish to run"
   ]
  },
  {
   "cell_type": "code",
   "execution_count": 16,
   "metadata": {},
   "outputs": [],
   "source": [
    "projects = {'jupyter': ['repo2docker', 'notebook', 'nbconvert'],\n",
    "            'jupyterhub': ['zero-to-jupyterhub-k8s', 'the-littlest-jupyterhub', 'jupyterhub',\n",
    "                           'binderhub', 'binder', 'team-compass'],\n",
    "            'jupyterlab': [\"jupyterlab\"]}"
   ]
  },
  {
   "cell_type": "code",
   "execution_count": 17,
   "metadata": {},
   "outputs": [
    {
     "name": "stdout",
     "output_type": "stream",
     "text": [
      "jupyter\n",
      "    repo2docker\n",
      "    notebook\n",
      "    nbconvert\n",
      "jupyterhub\n",
      "    zero-to-jupyterhub-k8s\n",
      "    the-littlest-jupyterhub\n",
      "    jupyterhub\n",
      "    binderhub\n",
      "    binder\n",
      "    team-compass\n",
      "jupyterlab\n",
      "    jupyterlab\n"
     ]
    }
   ],
   "source": [
    "# If we wish to update the data\n",
    "update_data = True\n",
    "if update_data is True:\n",
    "    try:\n",
    "        for org, repos in projects.items():\n",
    "            print(org)\n",
    "            for repo in repos:\n",
    "                print('    ' + repo)\n",
    "                run(\"python ../scripts/update_data.py {} {}\".format(org, repo).split(), check=True, stderr=PIPE, stdout=PIPE)\n",
    "    except Exception as ee:\n",
    "        print(ee.stderr.decode())\n",
    "        "
   ]
  },
  {
   "cell_type": "markdown",
   "metadata": {},
   "source": [
    "## Munge"
   ]
  },
  {
   "cell_type": "code",
   "execution_count": 23,
   "metadata": {},
   "outputs": [],
   "source": [
    "comments = pd.DataFrame([])\n",
    "commits = pd.DataFrame([])\n",
    "for org, repos in projects.items():\n",
    "    for repo in repos:\n",
    "        # Comments\n",
    "        icomments = comments_.load_comments(org, repo)\n",
    "        if icomments is not None:\n",
    "            icomments['org'] = org\n",
    "            icomments['repo'] = repo\n",
    "            icomments['user'] = icomments['user'].map(lambda a: a['login'])\n",
    "            icomments['date'] = icomments['created_at'].map(pd.to_datetime)\n",
    "            icomments = icomments[['org', 'repo', 'user', 'date']].set_index(['date'])\n",
    "            comments = pd.concat([comments, icomments]).query('date > 1990') \n",
    "\n",
    "        # Commits\n",
    "        icommits = commits_.load_commits(org, repo)\n",
    "        if icommits is not None:\n",
    "            icommits = icommits.dropna(subset=['author'])\n",
    "            icommits['user'] = icommits['author'].map(lambda a: a['login'])\n",
    "            icommits['date'] = pd.to_datetime(icommits['date'])\n",
    "            icommits = icommits[['date', 'user']].set_index('date')\n",
    "            icommits['org'] = org\n",
    "            icommits['repo'] = repo\n",
    "            commits = pd.concat([commits, icommits]).query('date > 1990')    \n",
    "\n",
    "comments['count'] = 1\n",
    "commits['count'] = 1"
   ]
  },
  {
   "cell_type": "code",
   "execution_count": 45,
   "metadata": {},
   "outputs": [],
   "source": [
    "# Convert into daily comments to reduce size\n",
    "daily_comments = comments.groupby(['org', 'repo', 'user']).resample('D').sum().dropna()\n",
    "daily_comments = daily_comments.reset_index().query('count != 0')\n",
    "daily_comments = daily_comments.rename(columns={'count': 'comments'})"
   ]
  },
  {
   "cell_type": "code",
   "execution_count": 46,
   "metadata": {},
   "outputs": [],
   "source": [
    "# Daily commits\n",
    "daily_commits = commits.groupby(['org', 'repo', 'user']).resample('D').sum().dropna()\n",
    "daily_commits = daily_commits.reset_index().query('count != 0')\n",
    "daily_commits = daily_commits.rename(columns={'count': 'commits'})"
   ]
  },
  {
   "cell_type": "code",
   "execution_count": 47,
   "metadata": {},
   "outputs": [],
   "source": [
    "# Merge them and save\n",
    "daily = pd.merge(daily_commits, daily_comments, on=['org', 'repo', 'user', 'date'], how='outer')\n",
    "daily.to_csv('../data/daily.csv')"
   ]
  },
  {
   "cell_type": "code",
   "execution_count": null,
   "metadata": {},
   "outputs": [],
   "source": []
  }
 ],
 "metadata": {
  "kernelspec": {
   "display_name": "Python 3",
   "language": "python",
   "name": "python3"
  },
  "language_info": {
   "codemirror_mode": {
    "name": "ipython",
    "version": 3
   },
   "file_extension": ".py",
   "mimetype": "text/x-python",
   "name": "python",
   "nbconvert_exporter": "python",
   "pygments_lexer": "ipython3",
   "version": "3.6.5"
  }
 },
 "nbformat": 4,
 "nbformat_minor": 2
}
