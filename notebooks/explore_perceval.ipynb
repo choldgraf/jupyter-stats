{
 "cells": [
  {
   "cell_type": "code",
   "execution_count": 1,
   "metadata": {},
   "outputs": [],
   "source": [
    "import pandas as pd\n",
    "from subprocess import run, PIPE\n",
    "from watchtower import comments_, issues_, commits_, reviews_\n",
    "from glob import glob\n",
    "import os.path as op\n",
    "import shutil as sh\n",
    "import os\n",
    "auth = os.environ['GITHUB_API_TOKEN']"
   ]
  },
  {
   "cell_type": "markdown",
   "metadata": {},
   "source": [
    "## Update data"
   ]
  },
  {
   "cell_type": "code",
   "execution_count": 5,
   "metadata": {},
   "outputs": [],
   "source": [
    "projects = {'jupyter': ['repo2docker', 'notebook', 'nbconvert'],\n",
    "            'jupyterhub': ['zero-to-jupyterhub-k8s', 'the-littlest-jupyterhub', 'jupyterhub',\n",
    "                           'binderhub', 'binder', 'team-compass'],\n",
    "            'jupyterlab': [\"jupyterlab\"],\n",
    "            'nteract': ['nteract', 'papermill', 'hydrogen']}"
   ]
  },
  {
   "cell_type": "code",
   "execution_count": 6,
   "metadata": {},
   "outputs": [],
   "source": [
    "data_folder = '../data/raw'\n",
    "date = '2014-01-01'"
   ]
  },
  {
   "cell_type": "code",
   "execution_count": null,
   "metadata": {},
   "outputs": [],
   "source": [
    "for org, repos in projects.items():\n",
    "    for repo in repos:\n",
    "        print(\"{}-{}\".format(org, repo))\n",
    "        path_out = op.join(data_folder, org, repo, 'issues.jsonl'.format(org, repo))\n",
    "        if not op.isdir(op.dirname(path_out)):\n",
    "            os.makedirs(op.dirname(path_out))\n",
    "        try:\n",
    "            run('perceval github {} {} --api-token {} --from-date {} -o {} --json-line'.format(\n",
    "                org, repo, auth, date, path_out\n",
    "            ).split(), check=True, stdout=PIPE, stderr=PIPE)\n",
    "        except Exception as ee:\n",
    "            print(ee.stderr.decode())"
   ]
  }
 ],
 "metadata": {
  "kernelspec": {
   "display_name": "Python 3",
   "language": "python",
   "name": "python3"
  },
  "language_info": {
   "codemirror_mode": {
    "name": "ipython",
    "version": 3
   },
   "file_extension": ".py",
   "mimetype": "text/x-python",
   "name": "python",
   "nbconvert_exporter": "python",
   "pygments_lexer": "ipython3",
   "version": "3.6.5"
  }
 },
 "nbformat": 4,
 "nbformat_minor": 2
}
