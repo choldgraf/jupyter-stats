{
 "cells": [
  {
   "cell_type": "code",
   "execution_count": 1,
   "metadata": {},
   "outputs": [],
   "source": [
    "import papermill as pm\n",
    "import sys\n",
    "import os\n",
    "import os.path as op\n",
    "from glob import glob\n",
    "import pandas as pd\n",
    "from datetime import timedelta\n",
    "sys.path.append('../scripts/')\n",
    "from mod import list_data, hub_projects"
   ]
  },
  {
   "cell_type": "code",
   "execution_count": 2,
   "metadata": {},
   "outputs": [
    {
     "data": {
      "text/html": [
       "<div>\n",
       "<style scoped>\n",
       "    .dataframe tbody tr th:only-of-type {\n",
       "        vertical-align: middle;\n",
       "    }\n",
       "\n",
       "    .dataframe tbody tr th {\n",
       "        vertical-align: top;\n",
       "    }\n",
       "\n",
       "    .dataframe thead th {\n",
       "        text-align: right;\n",
       "    }\n",
       "</style>\n",
       "<table border=\"1\" class=\"dataframe\">\n",
       "  <thead>\n",
       "    <tr style=\"text-align: right;\">\n",
       "      <th></th>\n",
       "      <th>created_at</th>\n",
       "      <th>2015</th>\n",
       "      <th>2016</th>\n",
       "      <th>2017</th>\n",
       "      <th>2018</th>\n",
       "      <th>2019</th>\n",
       "    </tr>\n",
       "    <tr>\n",
       "      <th>org</th>\n",
       "      <th>repo</th>\n",
       "      <th></th>\n",
       "      <th></th>\n",
       "      <th></th>\n",
       "      <th></th>\n",
       "      <th></th>\n",
       "    </tr>\n",
       "  </thead>\n",
       "  <tbody>\n",
       "    <tr>\n",
       "      <th rowspan=\"3\" valign=\"top\">jupyter</th>\n",
       "      <th>nbconvert</th>\n",
       "      <td>10.0</td>\n",
       "      <td>1665.0</td>\n",
       "      <td>1105.0</td>\n",
       "      <td>799.0</td>\n",
       "      <td>87.0</td>\n",
       "    </tr>\n",
       "    <tr>\n",
       "      <th>notebook</th>\n",
       "      <td>16.0</td>\n",
       "      <td>5495.0</td>\n",
       "      <td>2741.0</td>\n",
       "      <td>NaN</td>\n",
       "      <td>NaN</td>\n",
       "    </tr>\n",
       "    <tr>\n",
       "      <th>repo2docker</th>\n",
       "      <td>NaN</td>\n",
       "      <td>NaN</td>\n",
       "      <td>585.0</td>\n",
       "      <td>1590.0</td>\n",
       "      <td>172.0</td>\n",
       "    </tr>\n",
       "    <tr>\n",
       "      <th rowspan=\"2\" valign=\"top\">jupyterhub</th>\n",
       "      <th>binder</th>\n",
       "      <td>NaN</td>\n",
       "      <td>NaN</td>\n",
       "      <td>289.0</td>\n",
       "      <td>279.0</td>\n",
       "      <td>12.0</td>\n",
       "    </tr>\n",
       "    <tr>\n",
       "      <th>binderhub</th>\n",
       "      <td>NaN</td>\n",
       "      <td>NaN</td>\n",
       "      <td>1310.0</td>\n",
       "      <td>1438.0</td>\n",
       "      <td>91.0</td>\n",
       "    </tr>\n",
       "  </tbody>\n",
       "</table>\n",
       "</div>"
      ],
      "text/plain": [
       "created_at              2015    2016    2017    2018   2019\n",
       "org        repo                                            \n",
       "jupyter    nbconvert    10.0  1665.0  1105.0   799.0   87.0\n",
       "           notebook     16.0  5495.0  2741.0     NaN    NaN\n",
       "           repo2docker   NaN     NaN   585.0  1590.0  172.0\n",
       "jupyterhub binder        NaN     NaN   289.0   279.0   12.0\n",
       "           binderhub     NaN     NaN  1310.0  1438.0   91.0"
      ]
     },
     "execution_count": 2,
     "metadata": {},
     "output_type": "execute_result"
    }
   ],
   "source": [
    "repos = list_data()\n",
    "repos.head()"
   ]
  },
  {
   "cell_type": "code",
   "execution_count": 3,
   "metadata": {},
   "outputs": [],
   "source": [
    "date = \"{:%Y-%m-%d}\".format(pd.datetime.today() - timedelta(days=30))\n",
    "path_this_report = '../reports/{}'.format(date)\n"
   ]
  },
  {
   "cell_type": "code",
   "execution_count": 4,
   "metadata": {},
   "outputs": [],
   "source": [
    "import shutil as sh\n",
    "import os\n",
    "if os.path.exists(path_this_report):\n",
    "    sh.rmtree(path_this_report)"
   ]
  },
  {
   "cell_type": "code",
   "execution_count": 6,
   "metadata": {},
   "outputs": [
    {
     "name": "stdout",
     "output_type": "stream",
     "text": [
      "jupyter\n",
      "   repo2docker\n"
     ]
    },
    {
     "data": {
      "application/vnd.jupyter.widget-view+json": {
       "model_id": "85d105e879004e3390011287f61a7814",
       "version_major": 2,
       "version_minor": 0
      },
      "text/plain": [
       "HBox(children=(IntProgress(value=0, max=19), HTML(value='')))"
      ]
     },
     "metadata": {},
     "output_type": "display_data"
    },
    {
     "name": "stdout",
     "output_type": "stream",
     "text": [
      "\n"
     ]
    },
    {
     "data": {
      "application/vnd.jupyter.widget-view+json": {
       "model_id": "e8972dbe7a4741b1a0f7849a8aa1974f",
       "version_major": 2,
       "version_minor": 0
      },
      "text/plain": [
       "HBox(children=(IntProgress(value=0, max=29), HTML(value='')))"
      ]
     },
     "metadata": {},
     "output_type": "display_data"
    },
    {
     "name": "stdout",
     "output_type": "stream",
     "text": [
      "\n",
      "jupyterhub\n",
      "   zero-to-jupyterhub-k8s\n"
     ]
    },
    {
     "data": {
      "application/vnd.jupyter.widget-view+json": {
       "model_id": "95256aaf62994fbf8bd93901bfeefdd3",
       "version_major": 2,
       "version_minor": 0
      },
      "text/plain": [
       "HBox(children=(IntProgress(value=0, max=19), HTML(value='')))"
      ]
     },
     "metadata": {},
     "output_type": "display_data"
    },
    {
     "name": "stdout",
     "output_type": "stream",
     "text": [
      "\n"
     ]
    },
    {
     "data": {
      "application/vnd.jupyter.widget-view+json": {
       "model_id": "5974d319ed404777a82b2ae608cb0080",
       "version_major": 2,
       "version_minor": 0
      },
      "text/plain": [
       "HBox(children=(IntProgress(value=0, max=29), HTML(value='')))"
      ]
     },
     "metadata": {},
     "output_type": "display_data"
    },
    {
     "name": "stdout",
     "output_type": "stream",
     "text": [
      "\n",
      "   the-littlest-jupyterhub\n"
     ]
    },
    {
     "data": {
      "application/vnd.jupyter.widget-view+json": {
       "model_id": "befb981097034dd192549c4d7e9dd2b2",
       "version_major": 2,
       "version_minor": 0
      },
      "text/plain": [
       "HBox(children=(IntProgress(value=0, max=19), HTML(value='')))"
      ]
     },
     "metadata": {},
     "output_type": "display_data"
    },
    {
     "name": "stdout",
     "output_type": "stream",
     "text": [
      "\n"
     ]
    },
    {
     "data": {
      "application/vnd.jupyter.widget-view+json": {
       "model_id": "ebef0e4c78aa499f9c35b5fc9496c77d",
       "version_major": 2,
       "version_minor": 0
      },
      "text/plain": [
       "HBox(children=(IntProgress(value=0, max=29), HTML(value='')))"
      ]
     },
     "metadata": {},
     "output_type": "display_data"
    },
    {
     "name": "stdout",
     "output_type": "stream",
     "text": [
      "\n",
      "   jupyterhub\n"
     ]
    },
    {
     "data": {
      "application/vnd.jupyter.widget-view+json": {
       "model_id": "92355d98f1394d8db310b4ae908dc8c4",
       "version_major": 2,
       "version_minor": 0
      },
      "text/plain": [
       "HBox(children=(IntProgress(value=0, max=19), HTML(value='')))"
      ]
     },
     "metadata": {},
     "output_type": "display_data"
    },
    {
     "name": "stdout",
     "output_type": "stream",
     "text": [
      "\n"
     ]
    },
    {
     "data": {
      "application/vnd.jupyter.widget-view+json": {
       "model_id": "8e9b380b3afa406eb48998392bb6be7e",
       "version_major": 2,
       "version_minor": 0
      },
      "text/plain": [
       "HBox(children=(IntProgress(value=0, max=29), HTML(value='')))"
      ]
     },
     "metadata": {},
     "output_type": "display_data"
    },
    {
     "name": "stdout",
     "output_type": "stream",
     "text": [
      "\n",
      "   binderhub\n"
     ]
    },
    {
     "data": {
      "application/vnd.jupyter.widget-view+json": {
       "model_id": "21a3e4c1f5a04e2690d390aac40fdc4f",
       "version_major": 2,
       "version_minor": 0
      },
      "text/plain": [
       "HBox(children=(IntProgress(value=0, max=19), HTML(value='')))"
      ]
     },
     "metadata": {},
     "output_type": "display_data"
    },
    {
     "name": "stdout",
     "output_type": "stream",
     "text": [
      "\n"
     ]
    },
    {
     "data": {
      "application/vnd.jupyter.widget-view+json": {
       "model_id": "800b0ecb000041db9f5cfdba37da5ba1",
       "version_major": 2,
       "version_minor": 0
      },
      "text/plain": [
       "HBox(children=(IntProgress(value=0, max=29), HTML(value='')))"
      ]
     },
     "metadata": {},
     "output_type": "display_data"
    },
    {
     "name": "stdout",
     "output_type": "stream",
     "text": [
      "\n",
      "   binder\n"
     ]
    },
    {
     "data": {
      "application/vnd.jupyter.widget-view+json": {
       "model_id": "c896f5fc73a34c41b2d61725b45b33d2",
       "version_major": 2,
       "version_minor": 0
      },
      "text/plain": [
       "HBox(children=(IntProgress(value=0, max=19), HTML(value='')))"
      ]
     },
     "metadata": {},
     "output_type": "display_data"
    },
    {
     "name": "stdout",
     "output_type": "stream",
     "text": [
      "\n"
     ]
    },
    {
     "data": {
      "application/vnd.jupyter.widget-view+json": {
       "model_id": "ecf172a86a434046a5612f3d88f566cd",
       "version_major": 2,
       "version_minor": 0
      },
      "text/plain": [
       "HBox(children=(IntProgress(value=0, max=29), HTML(value='')))"
      ]
     },
     "metadata": {},
     "output_type": "display_data"
    },
    {
     "name": "stdout",
     "output_type": "stream",
     "text": [
      "\n",
      "   team-compass\n"
     ]
    },
    {
     "data": {
      "application/vnd.jupyter.widget-view+json": {
       "model_id": "564f78c99b0d465e9503caa25a1305be",
       "version_major": 2,
       "version_minor": 0
      },
      "text/plain": [
       "HBox(children=(IntProgress(value=0, max=19), HTML(value='')))"
      ]
     },
     "metadata": {},
     "output_type": "display_data"
    },
    {
     "name": "stdout",
     "output_type": "stream",
     "text": [
      "\n"
     ]
    },
    {
     "data": {
      "application/vnd.jupyter.widget-view+json": {
       "model_id": "6d6da592c7b2474aa084e0f1dc2513e4",
       "version_major": 2,
       "version_minor": 0
      },
      "text/plain": [
       "HBox(children=(IntProgress(value=0, max=29), HTML(value='')))"
      ]
     },
     "metadata": {},
     "output_type": "display_data"
    },
    {
     "name": "stdout",
     "output_type": "stream",
     "text": [
      "\n",
      "   mybinder.org-deploy\n"
     ]
    },
    {
     "data": {
      "application/vnd.jupyter.widget-view+json": {
       "model_id": "839bf1fb4ad14d05af65f5ea866447e5",
       "version_major": 2,
       "version_minor": 0
      },
      "text/plain": [
       "HBox(children=(IntProgress(value=0, max=19), HTML(value='')))"
      ]
     },
     "metadata": {},
     "output_type": "display_data"
    },
    {
     "name": "stdout",
     "output_type": "stream",
     "text": [
      "\n"
     ]
    },
    {
     "data": {
      "application/vnd.jupyter.widget-view+json": {
       "model_id": "fd7b3d6f51e6400eb7a53a46823e29bb",
       "version_major": 2,
       "version_minor": 0
      },
      "text/plain": [
       "HBox(children=(IntProgress(value=0, max=29), HTML(value='')))"
      ]
     },
     "metadata": {},
     "output_type": "display_data"
    },
    {
     "name": "stdout",
     "output_type": "stream",
     "text": [
      "\n",
      "   configurable-http-proxy\n"
     ]
    },
    {
     "data": {
      "application/vnd.jupyter.widget-view+json": {
       "model_id": "03ff3fb9cc774412a0fc8cb2d1d6a96e",
       "version_major": 2,
       "version_minor": 0
      },
      "text/plain": [
       "HBox(children=(IntProgress(value=0, max=19), HTML(value='')))"
      ]
     },
     "metadata": {},
     "output_type": "display_data"
    },
    {
     "name": "stdout",
     "output_type": "stream",
     "text": [
      "\n"
     ]
    },
    {
     "data": {
      "application/vnd.jupyter.widget-view+json": {
       "model_id": "793e867b127643729ee95c80c4df074d",
       "version_major": 2,
       "version_minor": 0
      },
      "text/plain": [
       "HBox(children=(IntProgress(value=0, max=29), HTML(value='')))"
      ]
     },
     "metadata": {},
     "output_type": "display_data"
    },
    {
     "name": "stdout",
     "output_type": "stream",
     "text": [
      "\n",
      "   nativeauthenticator\n"
     ]
    },
    {
     "data": {
      "application/vnd.jupyter.widget-view+json": {
       "model_id": "970efdc909414810a0d49c4ab4fba3a8",
       "version_major": 2,
       "version_minor": 0
      },
      "text/plain": [
       "HBox(children=(IntProgress(value=0, max=19), HTML(value='')))"
      ]
     },
     "metadata": {},
     "output_type": "display_data"
    },
    {
     "name": "stdout",
     "output_type": "stream",
     "text": [
      "\n"
     ]
    },
    {
     "data": {
      "application/vnd.jupyter.widget-view+json": {
       "model_id": "ba452c5788844b0d95fa29ceff4ee00f",
       "version_major": 2,
       "version_minor": 0
      },
      "text/plain": [
       "HBox(children=(IntProgress(value=0, max=29), HTML(value='')))"
      ]
     },
     "metadata": {},
     "output_type": "display_data"
    },
    {
     "name": "stdout",
     "output_type": "stream",
     "text": [
      "\n",
      "   traefik-proxy\n"
     ]
    },
    {
     "data": {
      "application/vnd.jupyter.widget-view+json": {
       "model_id": "7830ce7ab0ca423492fb0b9ca3faee4d",
       "version_major": 2,
       "version_minor": 0
      },
      "text/plain": [
       "HBox(children=(IntProgress(value=0, max=19), HTML(value='')))"
      ]
     },
     "metadata": {},
     "output_type": "display_data"
    },
    {
     "name": "stdout",
     "output_type": "stream",
     "text": [
      "\n"
     ]
    },
    {
     "data": {
      "application/vnd.jupyter.widget-view+json": {
       "model_id": "658eec13b4e84d899bb1e088fd019d71",
       "version_major": 2,
       "version_minor": 0
      },
      "text/plain": [
       "HBox(children=(IntProgress(value=0, max=29), HTML(value='')))"
      ]
     },
     "metadata": {},
     "output_type": "display_data"
    },
    {
     "name": "stdout",
     "output_type": "stream",
     "text": [
      "\n",
      "   jupyter-server-proxy\n"
     ]
    },
    {
     "data": {
      "application/vnd.jupyter.widget-view+json": {
       "model_id": "0710811b09584a1ea558779eb990530a",
       "version_major": 2,
       "version_minor": 0
      },
      "text/plain": [
       "HBox(children=(IntProgress(value=0, max=19), HTML(value='')))"
      ]
     },
     "metadata": {},
     "output_type": "display_data"
    },
    {
     "name": "stdout",
     "output_type": "stream",
     "text": [
      "\n"
     ]
    },
    {
     "data": {
      "application/vnd.jupyter.widget-view+json": {
       "model_id": "71807ee9b56b4781a6e42a1eb8813a7b",
       "version_major": 2,
       "version_minor": 0
      },
      "text/plain": [
       "HBox(children=(IntProgress(value=0, max=29), HTML(value='')))"
      ]
     },
     "metadata": {},
     "output_type": "display_data"
    },
    {
     "name": "stdout",
     "output_type": "stream",
     "text": [
      "\n"
     ]
    }
   ],
   "source": [
    "for org, repos in hub_projects.items():\n",
    "    print(org)\n",
    "    for repo in repos:\n",
    "        print('   '+repo)\n",
    "        this_ntbk_params = '{}-{}'.format(org, repo)\n",
    "        out_folder = '../reports/{}/{}/{}/'.format(date, org, repo)\n",
    "        if not op.isdir(out_folder):\n",
    "            os.makedirs(out_folder)\n",
    "        for template in glob('./templates/*.ipynb'):\n",
    "            if 'summary.ipynb' in template:\n",
    "                continue\n",
    "            name = op.basename(template)\n",
    "            new_name = op.join(out_folder, name)\n",
    "            pm.execute_notebook(template, new_name, parameters={'org': org, 'repo': repo, 'date': date}, cwd='./templates/', report_mode=True)"
   ]
  },
  {
   "cell_type": "code",
   "execution_count": 7,
   "metadata": {},
   "outputs": [
    {
     "data": {
      "application/vnd.jupyter.widget-view+json": {
       "model_id": "406fa46bd03540c68a82e992a4c19af0",
       "version_major": 2,
       "version_minor": 0
      },
      "text/plain": [
       "HBox(children=(IntProgress(value=0, max=15), HTML(value='')))"
      ]
     },
     "metadata": {},
     "output_type": "display_data"
    },
    {
     "name": "stdout",
     "output_type": "stream",
     "text": [
      "\n"
     ]
    }
   ],
   "source": [
    "# Collect the results of each notebook and make a summary notebook\n",
    "_ = pm.execute_notebook('./templates/summary.ipynb', op.join(out_folder.rsplit(os.sep, 3)[0], 'summary.ipynb'), parameters={'date': date}, cwd='./templates/', report_mode=True)"
   ]
  },
  {
   "cell_type": "markdown",
   "metadata": {},
   "source": [
    "# Jupyter Book\n",
    "\n",
    "## Generate the TOC"
   ]
  },
  {
   "cell_type": "code",
   "execution_count": 89,
   "metadata": {},
   "outputs": [],
   "source": [
    "out_notebooks = ['../reports/{}/summary.ipynb'.format(date)] + glob('../reports/{}/**/**/*.ipynb'.format(date))\n",
    "toc = []\n",
    "for ii, ifile in enumerate(out_notebooks):\n",
    "    ifile = ifile.replace('.ipynb', '')\n",
    "    if ii == 0:\n",
    "        # Summary will be first\n",
    "        toc.append({'title': date, \"url\": ifile.split('reports'+os.sep)[-1], 'sections': []})\n",
    "        continue\n",
    "     \n",
    "    ######################################################\n",
    "    # Update Jupyter Book to check for {{ cell.metadata['jupyter']['source_hidden'] = True }} in each cell. If so, add a \"hidden\" param\n",
    "    ######################################################\n",
    "    \n",
    "    name = ' '.join(ifile.rsplit(os.sep, 3)[-3:]).replace('.ipynb', '')\n",
    "    toc[-1]['sections'].append({'title': name, 'url': ifile.split('reports'+os.sep)[-1]})\n"
   ]
  },
  {
   "cell_type": "code",
   "execution_count": 90,
   "metadata": {},
   "outputs": [],
   "source": [
    "import shutil as sh"
   ]
  },
  {
   "cell_type": "code",
   "execution_count": 92,
   "metadata": {},
   "outputs": [],
   "source": [
    "import nbformat as nbf"
   ]
  },
  {
   "cell_type": "code",
   "execution_count": 116,
   "metadata": {},
   "outputs": [],
   "source": [
    "ntbk = nbf.read('../reports/2019-01-18/jupyter/repo2docker/comments_commits.ipynb', nbf.NO_CONVERT)"
   ]
  },
  {
   "cell_type": "code",
   "execution_count": 120,
   "metadata": {},
   "outputs": [
    {
     "ename": "KeyError",
     "evalue": "'jupyter'",
     "output_type": "error",
     "traceback": [
      "\u001b[0;31m---------------------------------------------------------------------------\u001b[0m",
      "\u001b[0;31mKeyError\u001b[0m                                  Traceback (most recent call last)",
      "\u001b[0;32m<ipython-input-120-516e102161aa>\u001b[0m in \u001b[0;36m<module>\u001b[0;34m()\u001b[0m\n\u001b[0;32m----> 1\u001b[0;31m \u001b[0mntbk\u001b[0m\u001b[0;34m[\u001b[0m\u001b[0;34m'cells'\u001b[0m\u001b[0;34m]\u001b[0m\u001b[0;34m[\u001b[0m\u001b[0;36m1\u001b[0m\u001b[0;34m]\u001b[0m\u001b[0;34m.\u001b[0m\u001b[0mmetadata\u001b[0m\u001b[0;34m[\u001b[0m\u001b[0;34m'jupyter'\u001b[0m\u001b[0;34m]\u001b[0m\u001b[0;34m[\u001b[0m\u001b[0;34m'source_hidden'\u001b[0m\u001b[0;34m]\u001b[0m \u001b[0;34m=\u001b[0m \u001b[0;32mTrue\u001b[0m\u001b[0;34m\u001b[0m\u001b[0m\n\u001b[0m",
      "\u001b[0;31mKeyError\u001b[0m: 'jupyter'"
     ]
    }
   ],
   "source": [
    "ntbk['cells'][1].metadata['jupyter']['source_hidden'] = True"
   ]
  },
  {
   "cell_type": "code",
   "execution_count": 102,
   "metadata": {},
   "outputs": [
    {
     "name": "stdout",
     "output_type": "stream",
     "text": [
      "{'papermill': {'duration': 0.021794, 'end_time': '2019-02-18T03:18:50.725319', 'exception': False, 'start_time': '2019-02-18T03:18:50.703525', 'status': 'completed'}, 'tags': []}\n",
      "{'papermill': {'duration': 0.542844, 'end_time': '2019-02-18T03:18:51.291706', 'exception': False, 'start_time': '2019-02-18T03:18:50.748862', 'status': 'completed'}, 'tags': []}\n",
      "{'papermill': {'duration': 0.033622, 'end_time': '2019-02-18T03:18:51.357736', 'exception': False, 'start_time': '2019-02-18T03:18:51.324114', 'status': 'completed'}, 'tags': ['parameters']}\n",
      "{'papermill': {'duration': 0.028936, 'end_time': '2019-02-18T03:18:51.414614', 'exception': False, 'start_time': '2019-02-18T03:18:51.385678', 'status': 'completed'}, 'tags': ['injected-parameters']}\n",
      "{'papermill': {'duration': 0.036194, 'end_time': '2019-02-18T03:18:51.473552', 'exception': False, 'start_time': '2019-02-18T03:18:51.437358', 'status': 'completed'}, 'tags': []}\n",
      "{'papermill': {'duration': 0.021864, 'end_time': '2019-02-18T03:18:51.520747', 'exception': False, 'start_time': '2019-02-18T03:18:51.498883', 'status': 'completed'}, 'tags': []}\n",
      "{'papermill': {'duration': 0.245212, 'end_time': '2019-02-18T03:18:51.786230', 'exception': False, 'start_time': '2019-02-18T03:18:51.541018', 'status': 'completed'}, 'tags': []}\n",
      "{'papermill': {'duration': 0.026506, 'end_time': '2019-02-18T03:18:51.834235', 'exception': False, 'start_time': '2019-02-18T03:18:51.807729', 'status': 'completed'}, 'tags': []}\n",
      "{'papermill': {'duration': 0.029974, 'end_time': '2019-02-18T03:18:51.886554', 'exception': False, 'start_time': '2019-02-18T03:18:51.856580', 'status': 'completed'}, 'tags': []}\n",
      "{'papermill': {'duration': 0.042207, 'end_time': '2019-02-18T03:18:51.951170', 'exception': False, 'start_time': '2019-02-18T03:18:51.908963', 'status': 'completed'}, 'tags': []}\n",
      "{'papermill': {'duration': 0.155927, 'end_time': '2019-02-18T03:18:52.140562', 'exception': False, 'start_time': '2019-02-18T03:18:51.984635', 'status': 'completed'}, 'tags': []}\n",
      "{'papermill': {'duration': 0.02579, 'end_time': '2019-02-18T03:18:52.186423', 'exception': False, 'start_time': '2019-02-18T03:18:52.160633', 'status': 'completed'}, 'tags': []}\n",
      "{'papermill': {'duration': 0.024853, 'end_time': '2019-02-18T03:18:52.235305', 'exception': False, 'start_time': '2019-02-18T03:18:52.210452', 'status': 'completed'}, 'tags': []}\n",
      "{'papermill': {'duration': 0.08162, 'end_time': '2019-02-18T03:18:52.336567', 'exception': False, 'start_time': '2019-02-18T03:18:52.254947', 'status': 'completed'}, 'tags': []}\n",
      "{'papermill': {'duration': 0.046544, 'end_time': '2019-02-18T03:18:52.405092', 'exception': False, 'start_time': '2019-02-18T03:18:52.358548', 'status': 'completed'}, 'tags': []}\n",
      "{'papermill': {'duration': 0.711518, 'end_time': '2019-02-18T03:18:53.143338', 'exception': False, 'start_time': '2019-02-18T03:18:52.431820', 'status': 'completed'}, 'tags': []}\n",
      "{'papermill': {'duration': 0.023805, 'end_time': '2019-02-18T03:18:53.190691', 'exception': False, 'start_time': '2019-02-18T03:18:53.166886', 'status': 'completed'}, 'tags': []}\n",
      "{'papermill': {'duration': 0.033917, 'end_time': '2019-02-18T03:18:53.252899', 'exception': False, 'start_time': '2019-02-18T03:18:53.218982', 'status': 'completed'}, 'tags': []}\n",
      "{'papermill': {'duration': 0.07462, 'end_time': '2019-02-18T03:18:53.350197', 'exception': False, 'start_time': '2019-02-18T03:18:53.275577', 'status': 'completed'}, 'tags': []}\n",
      "{'papermill': {'duration': 0.034452, 'end_time': '2019-02-18T03:18:53.407036', 'exception': False, 'start_time': '2019-02-18T03:18:53.372584', 'status': 'completed'}, 'tags': []}\n",
      "{'papermill': {'duration': 0.026302, 'end_time': '2019-02-18T03:18:53.461156', 'exception': False, 'start_time': '2019-02-18T03:18:53.434854', 'status': 'completed'}, 'tags': []}\n",
      "{'papermill': {'duration': 0.066238, 'end_time': '2019-02-18T03:18:53.559435', 'exception': False, 'start_time': '2019-02-18T03:18:53.493197', 'status': 'completed'}, 'tags': []}\n",
      "{'papermill': {'duration': 0.039973, 'end_time': '2019-02-18T03:18:53.625508', 'exception': False, 'start_time': '2019-02-18T03:18:53.585535', 'status': 'completed'}, 'tags': []}\n",
      "{'papermill': {'duration': 0.114451, 'end_time': '2019-02-18T03:18:53.767053', 'exception': False, 'start_time': '2019-02-18T03:18:53.652602', 'status': 'completed'}, 'tags': []}\n",
      "{'papermill': {'duration': 0.035084, 'end_time': '2019-02-18T03:18:53.825499', 'exception': False, 'start_time': '2019-02-18T03:18:53.790415', 'status': 'completed'}, 'tags': []}\n",
      "{'papermill': {'duration': 0.089578, 'end_time': '2019-02-18T03:18:53.949195', 'exception': False, 'start_time': '2019-02-18T03:18:53.859617', 'status': 'completed'}, 'tags': []}\n",
      "{'papermill': {'duration': 0.028851, 'end_time': '2019-02-18T03:18:54.005092', 'exception': False, 'start_time': '2019-02-18T03:18:53.976241', 'status': 'completed'}, 'tags': []}\n",
      "{'papermill': {'duration': 0.036637, 'end_time': '2019-02-18T03:18:54.073103', 'exception': False, 'start_time': '2019-02-18T03:18:54.036466', 'status': 'completed'}, 'tags': []}\n",
      "{'papermill': {'duration': 0.31394, 'end_time': '2019-02-18T03:18:54.415713', 'exception': False, 'start_time': '2019-02-18T03:18:54.101773', 'status': 'completed'}, 'tags': []}\n"
     ]
    }
   ],
   "source": [
    "for ii in ntbk['cells']:\n",
    "    print(ii['metadata'])"
   ]
  },
  {
   "cell_type": "code",
   "execution_count": 91,
   "metadata": {},
   "outputs": [
    {
     "data": {
      "text/plain": [
       "'../reports/book/content/2019-01-18'"
      ]
     },
     "execution_count": 91,
     "metadata": {},
     "output_type": "execute_result"
    }
   ],
   "source": [
    "from ruamel.yaml import YAML\n",
    "yaml = YAML()\n",
    "with open('../reports/book/_data/toc.yml', 'w') as ff:\n",
    "    yaml.dump(toc, ff)\n",
    "\n",
    "path_content = '../reports/book/content/{}'.format(date)\n",
    "if op.isdir(path_content):\n",
    "    sh.rmtree(path_content)\n",
    "sh.copytree('../reports/{}'.format(date), path_content)"
   ]
  },
  {
   "cell_type": "code",
   "execution_count": null,
   "metadata": {},
   "outputs": [],
   "source": []
  }
 ],
 "metadata": {
  "kernelspec": {
   "display_name": "Python 3",
   "language": "python",
   "name": "python3"
  },
  "language_info": {
   "codemirror_mode": {
    "name": "ipython",
    "version": 3
   },
   "file_extension": ".py",
   "mimetype": "text/x-python",
   "name": "python",
   "nbconvert_exporter": "python",
   "pygments_lexer": "ipython3",
   "version": "3.6.5"
  }
 },
 "nbformat": 4,
 "nbformat_minor": 2
}
