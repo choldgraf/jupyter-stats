{
 "cells": [
  {
   "cell_type": "code",
   "execution_count": 2,
   "metadata": {},
   "outputs": [],
   "source": [
    "import papermill as pm\n",
    "import sys\n",
    "import os\n",
    "import os.path as op\n",
    "from glob import glob\n",
    "import pandas as pd\n",
    "from datetime import timedelta\n",
    "sys.path.append('../scripts/')\n",
    "from mod import list_data, hub_projects"
   ]
  },
  {
   "cell_type": "code",
   "execution_count": 3,
   "metadata": {},
   "outputs": [
    {
     "data": {
      "text/html": [
       "<div>\n",
       "<style scoped>\n",
       "    .dataframe tbody tr th:only-of-type {\n",
       "        vertical-align: middle;\n",
       "    }\n",
       "\n",
       "    .dataframe tbody tr th {\n",
       "        vertical-align: top;\n",
       "    }\n",
       "\n",
       "    .dataframe thead th {\n",
       "        text-align: right;\n",
       "    }\n",
       "</style>\n",
       "<table border=\"1\" class=\"dataframe\">\n",
       "  <thead>\n",
       "    <tr style=\"text-align: right;\">\n",
       "      <th></th>\n",
       "      <th>created_at</th>\n",
       "      <th>2018</th>\n",
       "      <th>2019</th>\n",
       "    </tr>\n",
       "    <tr>\n",
       "      <th>org</th>\n",
       "      <th>repo</th>\n",
       "      <th></th>\n",
       "      <th></th>\n",
       "    </tr>\n",
       "  </thead>\n",
       "  <tbody>\n",
       "    <tr>\n",
       "      <th rowspan=\"3\" valign=\"top\">jupyter</th>\n",
       "      <th>nbconvert</th>\n",
       "      <td>NaN</td>\n",
       "      <td>41.0</td>\n",
       "    </tr>\n",
       "    <tr>\n",
       "      <th>notebook</th>\n",
       "      <td>NaN</td>\n",
       "      <td>411.0</td>\n",
       "    </tr>\n",
       "    <tr>\n",
       "      <th>repo2docker</th>\n",
       "      <td>NaN</td>\n",
       "      <td>176.0</td>\n",
       "    </tr>\n",
       "    <tr>\n",
       "      <th rowspan=\"2\" valign=\"top\">jupyterhub</th>\n",
       "      <th>binder</th>\n",
       "      <td>NaN</td>\n",
       "      <td>39.0</td>\n",
       "    </tr>\n",
       "    <tr>\n",
       "      <th>binderhub</th>\n",
       "      <td>NaN</td>\n",
       "      <td>68.0</td>\n",
       "    </tr>\n",
       "  </tbody>\n",
       "</table>\n",
       "</div>"
      ],
      "text/plain": [
       "created_at              2018   2019\n",
       "org        repo                    \n",
       "jupyter    nbconvert     NaN   41.0\n",
       "           notebook      NaN  411.0\n",
       "           repo2docker   NaN  176.0\n",
       "jupyterhub binder        NaN   39.0\n",
       "           binderhub     NaN   68.0"
      ]
     },
     "execution_count": 3,
     "metadata": {},
     "output_type": "execute_result"
    }
   ],
   "source": [
    "repos = list_data()\n",
    "repos.head()"
   ]
  },
  {
   "cell_type": "code",
   "execution_count": 4,
   "metadata": {},
   "outputs": [],
   "source": [
    "date = \"{:%Y-%m-%d}\".format(pd.datetime.today() - timedelta(days=30))\n",
    "path_this_report = '../reports/{}'.format(date)\n"
   ]
  },
  {
   "cell_type": "code",
   "execution_count": 5,
   "metadata": {},
   "outputs": [],
   "source": [
    "import shutil as sh\n",
    "import os\n",
    "if os.path.exists(path_this_report):\n",
    "    sh.rmtree(path_this_report)"
   ]
  },
  {
   "cell_type": "code",
   "execution_count": 7,
   "metadata": {},
   "outputs": [
    {
     "name": "stdout",
     "output_type": "stream",
     "text": [
      "jupyter\n",
      "   repo2docker\n"
     ]
    },
    {
     "data": {
      "application/vnd.jupyter.widget-view+json": {
       "model_id": "fe653f3eea9e45f3b8cb6d31c899d3c1",
       "version_major": 2,
       "version_minor": 0
      },
      "text/plain": [
       "HBox(children=(IntProgress(value=0, max=20), HTML(value='')))"
      ]
     },
     "metadata": {},
     "output_type": "display_data"
    },
    {
     "name": "stdout",
     "output_type": "stream",
     "text": [
      "\n"
     ]
    },
    {
     "data": {
      "application/vnd.jupyter.widget-view+json": {
       "model_id": "025a5c5397934f5d87490bcfea6aeb92",
       "version_major": 2,
       "version_minor": 0
      },
      "text/plain": [
       "HBox(children=(IntProgress(value=0, max=30), HTML(value='')))"
      ]
     },
     "metadata": {},
     "output_type": "display_data"
    },
    {
     "name": "stdout",
     "output_type": "stream",
     "text": [
      "\n",
      "jupyterhub\n",
      "   zero-to-jupyterhub-k8s\n"
     ]
    },
    {
     "data": {
      "application/vnd.jupyter.widget-view+json": {
       "model_id": "56672926d07842bdb7bced683f4a2603",
       "version_major": 2,
       "version_minor": 0
      },
      "text/plain": [
       "HBox(children=(IntProgress(value=0, max=20), HTML(value='')))"
      ]
     },
     "metadata": {},
     "output_type": "display_data"
    },
    {
     "name": "stdout",
     "output_type": "stream",
     "text": [
      "\n"
     ]
    },
    {
     "data": {
      "application/vnd.jupyter.widget-view+json": {
       "model_id": "65e7a0bc47264fc0a9088c6bbd0f0c01",
       "version_major": 2,
       "version_minor": 0
      },
      "text/plain": [
       "HBox(children=(IntProgress(value=0, max=30), HTML(value='')))"
      ]
     },
     "metadata": {},
     "output_type": "display_data"
    },
    {
     "name": "stdout",
     "output_type": "stream",
     "text": [
      "\n",
      "   the-littlest-jupyterhub\n"
     ]
    },
    {
     "data": {
      "application/vnd.jupyter.widget-view+json": {
       "model_id": "451a0afbfb47433b89a2608b3d9b42bf",
       "version_major": 2,
       "version_minor": 0
      },
      "text/plain": [
       "HBox(children=(IntProgress(value=0, max=20), HTML(value='')))"
      ]
     },
     "metadata": {},
     "output_type": "display_data"
    },
    {
     "name": "stdout",
     "output_type": "stream",
     "text": [
      "\n"
     ]
    },
    {
     "data": {
      "application/vnd.jupyter.widget-view+json": {
       "model_id": "9eb26627eae14971bb13f350319092b7",
       "version_major": 2,
       "version_minor": 0
      },
      "text/plain": [
       "HBox(children=(IntProgress(value=0, max=30), HTML(value='')))"
      ]
     },
     "metadata": {},
     "output_type": "display_data"
    },
    {
     "name": "stdout",
     "output_type": "stream",
     "text": [
      "\n",
      "   jupyterhub\n"
     ]
    },
    {
     "data": {
      "application/vnd.jupyter.widget-view+json": {
       "model_id": "4cdfa3334f9f4a4694f199a8862e69dd",
       "version_major": 2,
       "version_minor": 0
      },
      "text/plain": [
       "HBox(children=(IntProgress(value=0, max=20), HTML(value='')))"
      ]
     },
     "metadata": {},
     "output_type": "display_data"
    },
    {
     "name": "stdout",
     "output_type": "stream",
     "text": [
      "\n"
     ]
    },
    {
     "data": {
      "application/vnd.jupyter.widget-view+json": {
       "model_id": "196174e0bdfd41b6ba94464d181b7194",
       "version_major": 2,
       "version_minor": 0
      },
      "text/plain": [
       "HBox(children=(IntProgress(value=0, max=30), HTML(value='')))"
      ]
     },
     "metadata": {},
     "output_type": "display_data"
    },
    {
     "name": "stdout",
     "output_type": "stream",
     "text": [
      "\n",
      "   binderhub\n"
     ]
    },
    {
     "data": {
      "application/vnd.jupyter.widget-view+json": {
       "model_id": "5a5da653d6d9430d8819bec3257392af",
       "version_major": 2,
       "version_minor": 0
      },
      "text/plain": [
       "HBox(children=(IntProgress(value=0, max=20), HTML(value='')))"
      ]
     },
     "metadata": {},
     "output_type": "display_data"
    },
    {
     "name": "stdout",
     "output_type": "stream",
     "text": [
      "\n"
     ]
    },
    {
     "data": {
      "application/vnd.jupyter.widget-view+json": {
       "model_id": "4300986d89014eba920bf60165141814",
       "version_major": 2,
       "version_minor": 0
      },
      "text/plain": [
       "HBox(children=(IntProgress(value=0, max=30), HTML(value='')))"
      ]
     },
     "metadata": {},
     "output_type": "display_data"
    },
    {
     "name": "stdout",
     "output_type": "stream",
     "text": [
      "\n",
      "   binder\n"
     ]
    },
    {
     "data": {
      "application/vnd.jupyter.widget-view+json": {
       "model_id": "494af5d458dc4dc38836b86611b2b591",
       "version_major": 2,
       "version_minor": 0
      },
      "text/plain": [
       "HBox(children=(IntProgress(value=0, max=20), HTML(value='')))"
      ]
     },
     "metadata": {},
     "output_type": "display_data"
    },
    {
     "name": "stdout",
     "output_type": "stream",
     "text": [
      "\n"
     ]
    },
    {
     "data": {
      "application/vnd.jupyter.widget-view+json": {
       "model_id": "245181a486774014a5b751a245873c06",
       "version_major": 2,
       "version_minor": 0
      },
      "text/plain": [
       "HBox(children=(IntProgress(value=0, max=30), HTML(value='')))"
      ]
     },
     "metadata": {},
     "output_type": "display_data"
    },
    {
     "name": "stdout",
     "output_type": "stream",
     "text": [
      "\n",
      "   team-compass\n"
     ]
    },
    {
     "data": {
      "application/vnd.jupyter.widget-view+json": {
       "model_id": "62d9f5b9d57f43abb3464910632ff4e1",
       "version_major": 2,
       "version_minor": 0
      },
      "text/plain": [
       "HBox(children=(IntProgress(value=0, max=20), HTML(value='')))"
      ]
     },
     "metadata": {},
     "output_type": "display_data"
    },
    {
     "name": "stdout",
     "output_type": "stream",
     "text": [
      "\n"
     ]
    },
    {
     "data": {
      "application/vnd.jupyter.widget-view+json": {
       "model_id": "da4fb81b958249bea96f0d22f3903d8e",
       "version_major": 2,
       "version_minor": 0
      },
      "text/plain": [
       "HBox(children=(IntProgress(value=0, max=30), HTML(value='')))"
      ]
     },
     "metadata": {},
     "output_type": "display_data"
    },
    {
     "name": "stdout",
     "output_type": "stream",
     "text": [
      "\n",
      "   mybinder.org-deploy\n"
     ]
    },
    {
     "data": {
      "application/vnd.jupyter.widget-view+json": {
       "model_id": "1c8b49c8abb745229560c479d381c551",
       "version_major": 2,
       "version_minor": 0
      },
      "text/plain": [
       "HBox(children=(IntProgress(value=0, max=20), HTML(value='')))"
      ]
     },
     "metadata": {},
     "output_type": "display_data"
    },
    {
     "name": "stdout",
     "output_type": "stream",
     "text": [
      "\n"
     ]
    },
    {
     "data": {
      "application/vnd.jupyter.widget-view+json": {
       "model_id": "448163cf5a244d178b97d7c6f53b9fd6",
       "version_major": 2,
       "version_minor": 0
      },
      "text/plain": [
       "HBox(children=(IntProgress(value=0, max=30), HTML(value='')))"
      ]
     },
     "metadata": {},
     "output_type": "display_data"
    },
    {
     "name": "stdout",
     "output_type": "stream",
     "text": [
      "\n",
      "   configurable-http-proxy\n"
     ]
    },
    {
     "data": {
      "application/vnd.jupyter.widget-view+json": {
       "model_id": "431d403c4d6b40b28de21097e5a0d5de",
       "version_major": 2,
       "version_minor": 0
      },
      "text/plain": [
       "HBox(children=(IntProgress(value=0, max=20), HTML(value='')))"
      ]
     },
     "metadata": {},
     "output_type": "display_data"
    },
    {
     "name": "stdout",
     "output_type": "stream",
     "text": [
      "\n"
     ]
    },
    {
     "data": {
      "application/vnd.jupyter.widget-view+json": {
       "model_id": "947adb2d8c0641908c55cc55b8c45ed6",
       "version_major": 2,
       "version_minor": 0
      },
      "text/plain": [
       "HBox(children=(IntProgress(value=0, max=30), HTML(value='')))"
      ]
     },
     "metadata": {},
     "output_type": "display_data"
    },
    {
     "name": "stdout",
     "output_type": "stream",
     "text": [
      "\n",
      "   nativeauthenticator\n"
     ]
    },
    {
     "data": {
      "application/vnd.jupyter.widget-view+json": {
       "model_id": "e848adfeb580425293ff1d36256029f1",
       "version_major": 2,
       "version_minor": 0
      },
      "text/plain": [
       "HBox(children=(IntProgress(value=0, max=20), HTML(value='')))"
      ]
     },
     "metadata": {},
     "output_type": "display_data"
    },
    {
     "name": "stdout",
     "output_type": "stream",
     "text": [
      "\n"
     ]
    },
    {
     "data": {
      "application/vnd.jupyter.widget-view+json": {
       "model_id": "f3c5063671704fe6bac19170203c18dd",
       "version_major": 2,
       "version_minor": 0
      },
      "text/plain": [
       "HBox(children=(IntProgress(value=0, max=30), HTML(value='')))"
      ]
     },
     "metadata": {},
     "output_type": "display_data"
    },
    {
     "name": "stdout",
     "output_type": "stream",
     "text": [
      "\n",
      "   traefik-proxy\n"
     ]
    },
    {
     "data": {
      "application/vnd.jupyter.widget-view+json": {
       "model_id": "5606f9d41a084bc89452cdb80d14c159",
       "version_major": 2,
       "version_minor": 0
      },
      "text/plain": [
       "HBox(children=(IntProgress(value=0, max=20), HTML(value='')))"
      ]
     },
     "metadata": {},
     "output_type": "display_data"
    },
    {
     "name": "stdout",
     "output_type": "stream",
     "text": [
      "\n"
     ]
    },
    {
     "data": {
      "application/vnd.jupyter.widget-view+json": {
       "model_id": "cbe03052900b4c29bff3f03e289e7885",
       "version_major": 2,
       "version_minor": 0
      },
      "text/plain": [
       "HBox(children=(IntProgress(value=0, max=30), HTML(value='')))"
      ]
     },
     "metadata": {},
     "output_type": "display_data"
    },
    {
     "name": "stdout",
     "output_type": "stream",
     "text": [
      "\n",
      "   jupyter-server-proxy\n"
     ]
    },
    {
     "data": {
      "application/vnd.jupyter.widget-view+json": {
       "model_id": "c47fc025f5024fc293398a86c60108cc",
       "version_major": 2,
       "version_minor": 0
      },
      "text/plain": [
       "HBox(children=(IntProgress(value=0, max=20), HTML(value='')))"
      ]
     },
     "metadata": {},
     "output_type": "display_data"
    },
    {
     "name": "stdout",
     "output_type": "stream",
     "text": [
      "\n"
     ]
    },
    {
     "data": {
      "application/vnd.jupyter.widget-view+json": {
       "model_id": "3793fbc101fb41529fc453b096fc07ec",
       "version_major": 2,
       "version_minor": 0
      },
      "text/plain": [
       "HBox(children=(IntProgress(value=0, max=30), HTML(value='')))"
      ]
     },
     "metadata": {},
     "output_type": "display_data"
    },
    {
     "name": "stdout",
     "output_type": "stream",
     "text": [
      "\n"
     ]
    }
   ],
   "source": [
    "for org, repos in hub_projects.items():\n",
    "    print(org)\n",
    "    for repo in repos:\n",
    "        print('   '+repo)\n",
    "        this_ntbk_params = '{}-{}'.format(org, repo)\n",
    "        out_folder = '../reports/{}/{}/{}/'.format(date, org, repo)\n",
    "        if not op.isdir(out_folder):\n",
    "            os.makedirs(out_folder)\n",
    "        for template in glob('./templates/*.ipynb'):\n",
    "            if 'summary.ipynb' in template:\n",
    "                continue\n",
    "            name = op.basename(template)\n",
    "            new_name = op.join(out_folder, name)\n",
    "            pm.execute_notebook(template, new_name, parameters={'org': org, 'repo': repo, 'date': date}, cwd='./templates/', report_mode=True)"
   ]
  },
  {
   "cell_type": "code",
   "execution_count": 8,
   "metadata": {},
   "outputs": [
    {
     "data": {
      "application/vnd.jupyter.widget-view+json": {
       "model_id": "920c7e2e52a0432ea3e4ebdabc83db9e",
       "version_major": 2,
       "version_minor": 0
      },
      "text/plain": [
       "HBox(children=(IntProgress(value=0, max=15), HTML(value='')))"
      ]
     },
     "metadata": {},
     "output_type": "display_data"
    },
    {
     "name": "stdout",
     "output_type": "stream",
     "text": [
      "\n"
     ]
    }
   ],
   "source": [
    "# Collect the results of each notebook and make a summary notebook\n",
    "_ = pm.execute_notebook('./templates/summary.ipynb', op.join(out_folder.rsplit(os.sep, 3)[0], 'summary.ipynb'), parameters={'date': date}, cwd='./templates/', report_mode=True)"
   ]
  },
  {
   "cell_type": "code",
   "execution_count": 9,
   "metadata": {},
   "outputs": [],
   "source": [
    "!pandoc ../reports/2019-02-20/summary.ipynb -o ../test.html"
   ]
  },
  {
   "cell_type": "markdown",
   "metadata": {},
   "source": [
    "# Jupyter Book\n",
    "\n",
    "## Generate the TOC\n",
    "\n",
    "(still a WIP)"
   ]
  },
  {
   "cell_type": "code",
   "execution_count": 89,
   "metadata": {},
   "outputs": [],
   "source": [
    "out_notebooks = ['../reports/{}/summary.ipynb'.format(date)] + glob('../reports/{}/**/**/*.ipynb'.format(date))\n",
    "toc = []\n",
    "for ii, ifile in enumerate(out_notebooks):\n",
    "    ifile = ifile.replace('.ipynb', '')\n",
    "    if ii == 0:\n",
    "        # Summary will be first\n",
    "        toc.append({'title': date, \"url\": ifile.split('reports'+os.sep)[-1], 'sections': []})\n",
    "        continue\n",
    "     \n",
    "    ######################################################\n",
    "    # Update Jupyter Book to check for {{ cell.metadata['jupyter']['source_hidden'] = True }} in each cell. If so, add a \"hidden\" param\n",
    "    ######################################################\n",
    "    \n",
    "    name = ' '.join(ifile.rsplit(os.sep, 3)[-3:]).replace('.ipynb', '')\n",
    "    toc[-1]['sections'].append({'title': name, 'url': ifile.split('reports'+os.sep)[-1]})\n"
   ]
  },
  {
   "cell_type": "code",
   "execution_count": 90,
   "metadata": {},
   "outputs": [],
   "source": [
    "import shutil as sh"
   ]
  },
  {
   "cell_type": "code",
   "execution_count": 92,
   "metadata": {},
   "outputs": [],
   "source": [
    "import nbformat as nbf"
   ]
  },
  {
   "cell_type": "code",
   "execution_count": 116,
   "metadata": {},
   "outputs": [],
   "source": [
    "ntbk = nbf.read('../reports/2019-01-18/jupyter/repo2docker/comments_commits.ipynb', nbf.NO_CONVERT)"
   ]
  },
  {
   "cell_type": "code",
   "execution_count": 120,
   "metadata": {},
   "outputs": [
    {
     "ename": "KeyError",
     "evalue": "'jupyter'",
     "output_type": "error",
     "traceback": [
      "\u001b[0;31m---------------------------------------------------------------------------\u001b[0m",
      "\u001b[0;31mKeyError\u001b[0m                                  Traceback (most recent call last)",
      "\u001b[0;32m<ipython-input-120-516e102161aa>\u001b[0m in \u001b[0;36m<module>\u001b[0;34m()\u001b[0m\n\u001b[0;32m----> 1\u001b[0;31m \u001b[0mntbk\u001b[0m\u001b[0;34m[\u001b[0m\u001b[0;34m'cells'\u001b[0m\u001b[0;34m]\u001b[0m\u001b[0;34m[\u001b[0m\u001b[0;36m1\u001b[0m\u001b[0;34m]\u001b[0m\u001b[0;34m.\u001b[0m\u001b[0mmetadata\u001b[0m\u001b[0;34m[\u001b[0m\u001b[0;34m'jupyter'\u001b[0m\u001b[0;34m]\u001b[0m\u001b[0;34m[\u001b[0m\u001b[0;34m'source_hidden'\u001b[0m\u001b[0;34m]\u001b[0m \u001b[0;34m=\u001b[0m \u001b[0;32mTrue\u001b[0m\u001b[0;34m\u001b[0m\u001b[0m\n\u001b[0m",
      "\u001b[0;31mKeyError\u001b[0m: 'jupyter'"
     ]
    }
   ],
   "source": [
    "ntbk['cells'][1].metadata['jupyter']['source_hidden'] = True"
   ]
  },
  {
   "cell_type": "code",
   "execution_count": 102,
   "metadata": {},
   "outputs": [
    {
     "name": "stdout",
     "output_type": "stream",
     "text": [
      "{'papermill': {'duration': 0.021794, 'end_time': '2019-02-18T03:18:50.725319', 'exception': False, 'start_time': '2019-02-18T03:18:50.703525', 'status': 'completed'}, 'tags': []}\n",
      "{'papermill': {'duration': 0.542844, 'end_time': '2019-02-18T03:18:51.291706', 'exception': False, 'start_time': '2019-02-18T03:18:50.748862', 'status': 'completed'}, 'tags': []}\n",
      "{'papermill': {'duration': 0.033622, 'end_time': '2019-02-18T03:18:51.357736', 'exception': False, 'start_time': '2019-02-18T03:18:51.324114', 'status': 'completed'}, 'tags': ['parameters']}\n",
      "{'papermill': {'duration': 0.028936, 'end_time': '2019-02-18T03:18:51.414614', 'exception': False, 'start_time': '2019-02-18T03:18:51.385678', 'status': 'completed'}, 'tags': ['injected-parameters']}\n",
      "{'papermill': {'duration': 0.036194, 'end_time': '2019-02-18T03:18:51.473552', 'exception': False, 'start_time': '2019-02-18T03:18:51.437358', 'status': 'completed'}, 'tags': []}\n",
      "{'papermill': {'duration': 0.021864, 'end_time': '2019-02-18T03:18:51.520747', 'exception': False, 'start_time': '2019-02-18T03:18:51.498883', 'status': 'completed'}, 'tags': []}\n",
      "{'papermill': {'duration': 0.245212, 'end_time': '2019-02-18T03:18:51.786230', 'exception': False, 'start_time': '2019-02-18T03:18:51.541018', 'status': 'completed'}, 'tags': []}\n",
      "{'papermill': {'duration': 0.026506, 'end_time': '2019-02-18T03:18:51.834235', 'exception': False, 'start_time': '2019-02-18T03:18:51.807729', 'status': 'completed'}, 'tags': []}\n",
      "{'papermill': {'duration': 0.029974, 'end_time': '2019-02-18T03:18:51.886554', 'exception': False, 'start_time': '2019-02-18T03:18:51.856580', 'status': 'completed'}, 'tags': []}\n",
      "{'papermill': {'duration': 0.042207, 'end_time': '2019-02-18T03:18:51.951170', 'exception': False, 'start_time': '2019-02-18T03:18:51.908963', 'status': 'completed'}, 'tags': []}\n",
      "{'papermill': {'duration': 0.155927, 'end_time': '2019-02-18T03:18:52.140562', 'exception': False, 'start_time': '2019-02-18T03:18:51.984635', 'status': 'completed'}, 'tags': []}\n",
      "{'papermill': {'duration': 0.02579, 'end_time': '2019-02-18T03:18:52.186423', 'exception': False, 'start_time': '2019-02-18T03:18:52.160633', 'status': 'completed'}, 'tags': []}\n",
      "{'papermill': {'duration': 0.024853, 'end_time': '2019-02-18T03:18:52.235305', 'exception': False, 'start_time': '2019-02-18T03:18:52.210452', 'status': 'completed'}, 'tags': []}\n",
      "{'papermill': {'duration': 0.08162, 'end_time': '2019-02-18T03:18:52.336567', 'exception': False, 'start_time': '2019-02-18T03:18:52.254947', 'status': 'completed'}, 'tags': []}\n",
      "{'papermill': {'duration': 0.046544, 'end_time': '2019-02-18T03:18:52.405092', 'exception': False, 'start_time': '2019-02-18T03:18:52.358548', 'status': 'completed'}, 'tags': []}\n",
      "{'papermill': {'duration': 0.711518, 'end_time': '2019-02-18T03:18:53.143338', 'exception': False, 'start_time': '2019-02-18T03:18:52.431820', 'status': 'completed'}, 'tags': []}\n",
      "{'papermill': {'duration': 0.023805, 'end_time': '2019-02-18T03:18:53.190691', 'exception': False, 'start_time': '2019-02-18T03:18:53.166886', 'status': 'completed'}, 'tags': []}\n",
      "{'papermill': {'duration': 0.033917, 'end_time': '2019-02-18T03:18:53.252899', 'exception': False, 'start_time': '2019-02-18T03:18:53.218982', 'status': 'completed'}, 'tags': []}\n",
      "{'papermill': {'duration': 0.07462, 'end_time': '2019-02-18T03:18:53.350197', 'exception': False, 'start_time': '2019-02-18T03:18:53.275577', 'status': 'completed'}, 'tags': []}\n",
      "{'papermill': {'duration': 0.034452, 'end_time': '2019-02-18T03:18:53.407036', 'exception': False, 'start_time': '2019-02-18T03:18:53.372584', 'status': 'completed'}, 'tags': []}\n",
      "{'papermill': {'duration': 0.026302, 'end_time': '2019-02-18T03:18:53.461156', 'exception': False, 'start_time': '2019-02-18T03:18:53.434854', 'status': 'completed'}, 'tags': []}\n",
      "{'papermill': {'duration': 0.066238, 'end_time': '2019-02-18T03:18:53.559435', 'exception': False, 'start_time': '2019-02-18T03:18:53.493197', 'status': 'completed'}, 'tags': []}\n",
      "{'papermill': {'duration': 0.039973, 'end_time': '2019-02-18T03:18:53.625508', 'exception': False, 'start_time': '2019-02-18T03:18:53.585535', 'status': 'completed'}, 'tags': []}\n",
      "{'papermill': {'duration': 0.114451, 'end_time': '2019-02-18T03:18:53.767053', 'exception': False, 'start_time': '2019-02-18T03:18:53.652602', 'status': 'completed'}, 'tags': []}\n",
      "{'papermill': {'duration': 0.035084, 'end_time': '2019-02-18T03:18:53.825499', 'exception': False, 'start_time': '2019-02-18T03:18:53.790415', 'status': 'completed'}, 'tags': []}\n",
      "{'papermill': {'duration': 0.089578, 'end_time': '2019-02-18T03:18:53.949195', 'exception': False, 'start_time': '2019-02-18T03:18:53.859617', 'status': 'completed'}, 'tags': []}\n",
      "{'papermill': {'duration': 0.028851, 'end_time': '2019-02-18T03:18:54.005092', 'exception': False, 'start_time': '2019-02-18T03:18:53.976241', 'status': 'completed'}, 'tags': []}\n",
      "{'papermill': {'duration': 0.036637, 'end_time': '2019-02-18T03:18:54.073103', 'exception': False, 'start_time': '2019-02-18T03:18:54.036466', 'status': 'completed'}, 'tags': []}\n",
      "{'papermill': {'duration': 0.31394, 'end_time': '2019-02-18T03:18:54.415713', 'exception': False, 'start_time': '2019-02-18T03:18:54.101773', 'status': 'completed'}, 'tags': []}\n"
     ]
    }
   ],
   "source": [
    "for ii in ntbk['cells']:\n",
    "    print(ii['metadata'])"
   ]
  },
  {
   "cell_type": "code",
   "execution_count": 91,
   "metadata": {},
   "outputs": [
    {
     "data": {
      "text/plain": [
       "'../reports/book/content/2019-01-18'"
      ]
     },
     "execution_count": 91,
     "metadata": {},
     "output_type": "execute_result"
    }
   ],
   "source": [
    "from ruamel.yaml import YAML\n",
    "yaml = YAML()\n",
    "with open('../reports/book/_data/toc.yml', 'w') as ff:\n",
    "    yaml.dump(toc, ff)\n",
    "\n",
    "path_content = '../reports/book/content/{}'.format(date)\n",
    "if op.isdir(path_content):\n",
    "    sh.rmtree(path_content)\n",
    "sh.copytree('../reports/{}'.format(date), path_content)"
   ]
  },
  {
   "cell_type": "code",
   "execution_count": null,
   "metadata": {},
   "outputs": [],
   "source": []
  }
 ],
 "metadata": {
  "kernelspec": {
   "display_name": "Python 3",
   "language": "python",
   "name": "python3"
  },
  "language_info": {
   "codemirror_mode": {
    "name": "ipython",
    "version": 3
   },
   "file_extension": ".py",
   "mimetype": "text/x-python",
   "name": "python",
   "nbconvert_exporter": "python",
   "pygments_lexer": "ipython3",
   "version": "3.6.5"
  }
 },
 "nbformat": 4,
 "nbformat_minor": 2
}
