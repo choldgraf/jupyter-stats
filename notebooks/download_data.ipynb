{
 "cells": [
  {
   "cell_type": "code",
   "execution_count": 4,
   "metadata": {},
   "outputs": [],
   "source": [
    "import pandas as pd\n",
    "from watchtower import comments_, issues_, commits_, reviews_\n",
    "from tqdm import tqdm\n",
    "import os\n",
    "import numpy as np\n",
    "from datetime import timedelta"
   ]
  },
  {
   "cell_type": "code",
   "execution_count": 5,
   "metadata": {},
   "outputs": [],
   "source": [
    "projects = {'jupyter': ['repo2docker', 'notebook', 'nbconvert'],\n",
    "            'jupyterhub': ['zero-to-jupyterhub-k8s', 'the-littlest-jupyterhub', 'jupyterhub',\n",
    "                           'binderhub', 'binder', 'team-compass'],\n",
    "            'jupyterlab': [\"jupyterlab\"],\n",
    "            'nteract': ['nteract', 'papermill', 'hydrogen']}"
   ]
  },
  {
   "cell_type": "code",
   "execution_count": 6,
   "metadata": {},
   "outputs": [],
   "source": [
    "START_DATE =\"2016-01-01\"\n",
    "auth = 'GITHUB_API_TOKEN'\n",
    "auth = os.environ[auth]"
   ]
  },
  {
   "cell_type": "markdown",
   "metadata": {},
   "source": [
    "# Update data"
   ]
  },
  {
   "cell_type": "code",
   "execution_count": 7,
   "metadata": {},
   "outputs": [],
   "source": [
    "def find_last_date(dates):\n",
    "    last_date = np.max(dates)\n",
    "    # Two day overlap\n",
    "    from_date = last_date - timedelta(days=2)\n",
    "    return from_date\n",
    "\n",
    "def update_from_latest(org, repo, kind, from_date=\"2016-01-01\"):\n",
    "    if kind == \"comments\":\n",
    "        # Current data we've got\n",
    "        current_comments = comments_.load_comments(org, repo)\n",
    "        # Find last day of data\n",
    "        if current_comments is not None:\n",
    "            from_date = find_last_date(current_comments['created_at'])\n",
    "        # Update since that day\n",
    "        comments_.update_comments(org, repo, auth=auth, since=from_date)\n",
    "\n",
    "    elif kind == \"issues\":\n",
    "        current_issues = issues_.load_issues(org, repo)\n",
    "        # Find last day of data\n",
    "        if current_issues is not None:\n",
    "            from_date = find_last_date(current_issues['created_at'])\n",
    "        issues_.update_issues(org, repo, auth=auth, since=from_date)\n",
    "\n",
    "    elif kind == \"commits\":\n",
    "        current_commits = commits_.load_commits(org, repo)\n",
    "        # Find last day of data\n",
    "        if current_commits is not None:\n",
    "            from_date = find_last_date(current_commits['date'])\n",
    "        # Auth is different for commits\n",
    "        commits_.update_commits(org, repo, auth=auth, since=from_date)\n",
    "    print(\"Updated {}/{}: {} after date {}\".format(org, repo, kind, from_date))"
   ]
  },
  {
   "cell_type": "code",
   "execution_count": null,
   "metadata": {},
   "outputs": [
    {
     "name": "stderr",
     "output_type": "stream",
     "text": [
      "  0%|          | 0/3 [00:00<?, ?it/s]"
     ]
    },
    {
     "name": "stdout",
     "output_type": "stream",
     "text": [
      "Updated jupyter/repo2docker: comments after date 2016-01-01\n",
      "Updated jupyter/repo2docker: issues after date 2016-01-01\n"
     ]
    },
    {
     "name": "stderr",
     "output_type": "stream",
     "text": [
      " 33%|███▎      | 1/3 [01:06<02:12, 66.14s/it]"
     ]
    },
    {
     "name": "stdout",
     "output_type": "stream",
     "text": [
      "Updated jupyter/repo2docker: commits after date 2016-01-01\n"
     ]
    },
    {
     "name": "stderr",
     "output_type": "stream",
     "text": [
      "/mnt/c/Users/chold/github/forks/python/meta/watchtower/watchtower/_github_api.py:86: UserWarning: Latest request raised an error: 500 Server Error: Internal Server Error for url: https://api.github.com/repos/jupyter/notebook/issues/comments?state=all&since=2016-01-01&max_page=100&per_page=500&page=3\n",
      "  warnings.warn(\"Latest request raised an error: %s\" % e)\n"
     ]
    },
    {
     "name": "stdout",
     "output_type": "stream",
     "text": [
      "Updated jupyter/notebook: comments after date 2016-01-01\n"
     ]
    }
   ],
   "source": [
    "for org, repos in projects.items():\n",
    "    for repo in tqdm(repos):\n",
    "        for kind in ['comments', 'issues', 'commits']:\n",
    "            update_from_latest(org, repo, kind, from_date=START_DATE)"
   ]
  },
  {
   "cell_type": "code",
   "execution_count": null,
   "metadata": {},
   "outputs": [],
   "source": []
  }
 ],
 "metadata": {
  "kernelspec": {
   "display_name": "Python 3",
   "language": "python",
   "name": "python3"
  },
  "language_info": {
   "codemirror_mode": {
    "name": "ipython",
    "version": 3
   },
   "file_extension": ".py",
   "mimetype": "text/x-python",
   "name": "python",
   "nbconvert_exporter": "python",
   "pygments_lexer": "ipython3",
   "version": "3.6.5"
  }
 },
 "nbformat": 4,
 "nbformat_minor": 2
}
